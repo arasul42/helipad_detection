{
 "cells": [
  {
   "cell_type": "code",
   "execution_count": 1,
   "metadata": {},
   "outputs": [
    {
     "name": "stderr",
     "output_type": "stream",
     "text": [
      "C:\\Users\\AISG\\Anaconda3\\envs\\tf-gpu_1.13\\lib\\site-packages\\tensorflow\\python\\framework\\dtypes.py:526: FutureWarning: Passing (type, 1) or '1type' as a synonym of type is deprecated; in a future version of numpy, it will be understood as (type, (1,)) / '(1,)type'.\n",
      "  _np_qint8 = np.dtype([(\"qint8\", np.int8, 1)])\n",
      "C:\\Users\\AISG\\Anaconda3\\envs\\tf-gpu_1.13\\lib\\site-packages\\tensorflow\\python\\framework\\dtypes.py:527: FutureWarning: Passing (type, 1) or '1type' as a synonym of type is deprecated; in a future version of numpy, it will be understood as (type, (1,)) / '(1,)type'.\n",
      "  _np_quint8 = np.dtype([(\"quint8\", np.uint8, 1)])\n",
      "C:\\Users\\AISG\\Anaconda3\\envs\\tf-gpu_1.13\\lib\\site-packages\\tensorflow\\python\\framework\\dtypes.py:528: FutureWarning: Passing (type, 1) or '1type' as a synonym of type is deprecated; in a future version of numpy, it will be understood as (type, (1,)) / '(1,)type'.\n",
      "  _np_qint16 = np.dtype([(\"qint16\", np.int16, 1)])\n",
      "C:\\Users\\AISG\\Anaconda3\\envs\\tf-gpu_1.13\\lib\\site-packages\\tensorflow\\python\\framework\\dtypes.py:529: FutureWarning: Passing (type, 1) or '1type' as a synonym of type is deprecated; in a future version of numpy, it will be understood as (type, (1,)) / '(1,)type'.\n",
      "  _np_quint16 = np.dtype([(\"quint16\", np.uint16, 1)])\n",
      "C:\\Users\\AISG\\Anaconda3\\envs\\tf-gpu_1.13\\lib\\site-packages\\tensorflow\\python\\framework\\dtypes.py:530: FutureWarning: Passing (type, 1) or '1type' as a synonym of type is deprecated; in a future version of numpy, it will be understood as (type, (1,)) / '(1,)type'.\n",
      "  _np_qint32 = np.dtype([(\"qint32\", np.int32, 1)])\n",
      "C:\\Users\\AISG\\Anaconda3\\envs\\tf-gpu_1.13\\lib\\site-packages\\tensorflow\\python\\framework\\dtypes.py:535: FutureWarning: Passing (type, 1) or '1type' as a synonym of type is deprecated; in a future version of numpy, it will be understood as (type, (1,)) / '(1,)type'.\n",
      "  np_resource = np.dtype([(\"resource\", np.ubyte, 1)])\n",
      "Using TensorFlow backend.\n"
     ]
    }
   ],
   "source": [
    "from run_training import RunTraining"
   ]
  },
  {
   "cell_type": "code",
   "execution_count": null,
   "metadata": {},
   "outputs": [
    {
     "name": "stdout",
     "output_type": "stream",
     "text": [
      "Loading Train Set\n",
      "Train: 2809\n",
      "Loading Test Set\n",
      "Test: 395\n",
      "Loading Config\n",
      "WARNING:tensorflow:From C:\\Users\\AISG\\Anaconda3\\envs\\tf-gpu_1.13\\lib\\site-packages\\tensorflow\\python\\framework\\op_def_library.py:263: colocate_with (from tensorflow.python.framework.ops) is deprecated and will be removed in a future version.\n",
      "Instructions for updating:\n",
      "Colocations handled automatically by placer.\n",
      "Starting Training\n",
      "\n",
      "Starting at epoch 0. LR=0.001\n",
      "\n",
      "Checkpoint Path: ../../../Helipad/model\\helipad_cfg_10_no47du_5+20200330T2357\\mask_rcnn_helipad_cfg_10_no47du_5+_{epoch:04d}.h5\n",
      "Selecting layers to train\n",
      "res5a_branch2a         (Conv2D)\n",
      "bn5a_branch2a          (BatchNorm)\n",
      "res5a_branch2b         (Conv2D)\n",
      "bn5a_branch2b          (BatchNorm)\n",
      "res5a_branch2c         (Conv2D)\n",
      "res5a_branch1          (Conv2D)\n",
      "bn5a_branch2c          (BatchNorm)\n",
      "bn5a_branch1           (BatchNorm)\n",
      "res5b_branch2a         (Conv2D)\n",
      "bn5b_branch2a          (BatchNorm)\n",
      "res5b_branch2b         (Conv2D)\n",
      "bn5b_branch2b          (BatchNorm)\n",
      "res5b_branch2c         (Conv2D)\n",
      "bn5b_branch2c          (BatchNorm)\n",
      "res5c_branch2a         (Conv2D)\n",
      "bn5c_branch2a          (BatchNorm)\n",
      "res5c_branch2b         (Conv2D)\n",
      "bn5c_branch2b          (BatchNorm)\n",
      "res5c_branch2c         (Conv2D)\n",
      "bn5c_branch2c          (BatchNorm)\n",
      "fpn_c5p5               (Conv2D)\n",
      "fpn_c4p4               (Conv2D)\n",
      "fpn_c3p3               (Conv2D)\n",
      "fpn_c2p2               (Conv2D)\n",
      "fpn_p5                 (Conv2D)\n",
      "fpn_p2                 (Conv2D)\n",
      "fpn_p3                 (Conv2D)\n",
      "fpn_p4                 (Conv2D)\n",
      "In model:  rpn_model\n",
      "    rpn_conv_shared        (Conv2D)\n",
      "    rpn_class_raw          (Conv2D)\n",
      "    rpn_bbox_pred          (Conv2D)\n",
      "mrcnn_mask_conv1       (TimeDistributed)\n",
      "mrcnn_mask_bn1         (TimeDistributed)\n",
      "mrcnn_mask_conv2       (TimeDistributed)\n",
      "mrcnn_mask_bn2         (TimeDistributed)\n",
      "mrcnn_class_conv1      (TimeDistributed)\n",
      "mrcnn_class_bn1        (TimeDistributed)\n",
      "mrcnn_mask_conv3       (TimeDistributed)\n",
      "mrcnn_mask_bn3         (TimeDistributed)\n",
      "mrcnn_class_conv2      (TimeDistributed)\n",
      "mrcnn_class_bn2        (TimeDistributed)\n",
      "mrcnn_mask_conv4       (TimeDistributed)\n",
      "mrcnn_mask_bn4         (TimeDistributed)\n",
      "mrcnn_bbox_fc          (TimeDistributed)\n",
      "mrcnn_mask_deconv      (TimeDistributed)\n",
      "mrcnn_class_logits     (TimeDistributed)\n",
      "mrcnn_mask             (TimeDistributed)\n",
      "WARNING:tensorflow:From C:\\Users\\AISG\\Anaconda3\\envs\\tf-gpu_1.13\\lib\\site-packages\\tensorflow\\python\\ops\\math_ops.py:3066: to_int32 (from tensorflow.python.ops.math_ops) is deprecated and will be removed in a future version.\n",
      "Instructions for updating:\n",
      "Use tf.cast instead.\n"
     ]
    },
    {
     "name": "stderr",
     "output_type": "stream",
     "text": [
      "C:\\Users\\AISG\\Anaconda3\\envs\\tf-gpu_1.13\\lib\\site-packages\\tensorflow\\python\\ops\\gradients_impl.py:110: UserWarning: Converting sparse IndexedSlices to a dense Tensor of unknown shape. This may consume a large amount of memory.\n",
      "  \"Converting sparse IndexedSlices to a dense Tensor of unknown shape. \"\n"
     ]
    },
    {
     "name": "stdout",
     "output_type": "stream",
     "text": [
      "Epoch 1/1000\n",
      "256/256 [==============================] - 362s 1s/step - loss: 1.0345 - rpn_class_loss: 0.0114 - rpn_bbox_loss: 0.2519 - mrcnn_class_loss: 0.0526 - mrcnn_bbox_loss: 0.3531 - mrcnn_mask_loss: 0.3655 - val_loss: 0.9249 - val_rpn_class_loss: 0.0092 - val_rpn_bbox_loss: 0.2541 - val_mrcnn_class_loss: 0.0234 - val_mrcnn_bbox_loss: 0.3325 - val_mrcnn_mask_loss: 0.3058\n",
      "Epoch 2/1000\n",
      "256/256 [==============================] - 299s 1s/step - loss: 0.7695 - rpn_class_loss: 0.0044 - rpn_bbox_loss: 0.2027 - mrcnn_class_loss: 0.0204 - mrcnn_bbox_loss: 0.2319 - mrcnn_mask_loss: 0.3101 - val_loss: 0.8464 - val_rpn_class_loss: 0.0113 - val_rpn_bbox_loss: 0.2507 - val_mrcnn_class_loss: 0.0268 - val_mrcnn_bbox_loss: 0.2274 - val_mrcnn_mask_loss: 0.3302\n",
      "Epoch 3/1000\n",
      "256/256 [==============================] - 297s 1s/step - loss: 0.7327 - rpn_class_loss: 0.0051 - rpn_bbox_loss: 0.2216 - mrcnn_class_loss: 0.0143 - mrcnn_bbox_loss: 0.1988 - mrcnn_mask_loss: 0.2928 - val_loss: 0.8516 - val_rpn_class_loss: 0.0123 - val_rpn_bbox_loss: 0.2001 - val_mrcnn_class_loss: 0.0530 - val_mrcnn_bbox_loss: 0.2539 - val_mrcnn_mask_loss: 0.3322\n",
      "Epoch 4/1000\n",
      "256/256 [==============================] - 295s 1s/step - loss: 0.7223 - rpn_class_loss: 0.0046 - rpn_bbox_loss: 0.2007 - mrcnn_class_loss: 0.0203 - mrcnn_bbox_loss: 0.1966 - mrcnn_mask_loss: 0.3001 - val_loss: 0.7632 - val_rpn_class_loss: 0.0075 - val_rpn_bbox_loss: 0.2283 - val_mrcnn_class_loss: 0.0290 - val_mrcnn_bbox_loss: 0.2071 - val_mrcnn_mask_loss: 0.2912\n",
      "Epoch 5/1000\n",
      "256/256 [==============================] - 309s 1s/step - loss: 0.7834 - rpn_class_loss: 0.0056 - rpn_bbox_loss: 0.2603 - mrcnn_class_loss: 0.0224 - mrcnn_bbox_loss: 0.1938 - mrcnn_mask_loss: 0.3013 - val_loss: 0.7230 - val_rpn_class_loss: 0.0068 - val_rpn_bbox_loss: 0.2035 - val_mrcnn_class_loss: 0.0393 - val_mrcnn_bbox_loss: 0.1926 - val_mrcnn_mask_loss: 0.2809\n",
      "Epoch 6/1000\n",
      "256/256 [==============================] - 300s 1s/step - loss: 0.6858 - rpn_class_loss: 0.0031 - rpn_bbox_loss: 0.1956 - mrcnn_class_loss: 0.0148 - mrcnn_bbox_loss: 0.1859 - mrcnn_mask_loss: 0.2863 - val_loss: 0.7776 - val_rpn_class_loss: 0.0108 - val_rpn_bbox_loss: 0.2125 - val_mrcnn_class_loss: 0.0419 - val_mrcnn_bbox_loss: 0.1872 - val_mrcnn_mask_loss: 0.3252\n",
      "Epoch 7/1000\n",
      "256/256 [==============================] - 281s 1s/step - loss: 0.6977 - rpn_class_loss: 0.0036 - rpn_bbox_loss: 0.2109 - mrcnn_class_loss: 0.0157 - mrcnn_bbox_loss: 0.1763 - mrcnn_mask_loss: 0.2912 - val_loss: 0.7358 - val_rpn_class_loss: 0.0087 - val_rpn_bbox_loss: 0.2220 - val_mrcnn_class_loss: 0.0224 - val_mrcnn_bbox_loss: 0.1767 - val_mrcnn_mask_loss: 0.3060\n",
      "Epoch 8/1000\n",
      "256/256 [==============================] - 284s 1s/step - loss: 0.7138 - rpn_class_loss: 0.0052 - rpn_bbox_loss: 0.2300 - mrcnn_class_loss: 0.0163 - mrcnn_bbox_loss: 0.1799 - mrcnn_mask_loss: 0.2823 - val_loss: 0.7743 - val_rpn_class_loss: 0.0062 - val_rpn_bbox_loss: 0.1975 - val_mrcnn_class_loss: 0.0374 - val_mrcnn_bbox_loss: 0.2230 - val_mrcnn_mask_loss: 0.3103\n",
      "Epoch 9/1000\n",
      "256/256 [==============================] - 287s 1s/step - loss: 0.6725 - rpn_class_loss: 0.0034 - rpn_bbox_loss: 0.2014 - mrcnn_class_loss: 0.0174 - mrcnn_bbox_loss: 0.1679 - mrcnn_mask_loss: 0.2824 - val_loss: 0.7565 - val_rpn_class_loss: 0.0091 - val_rpn_bbox_loss: 0.2247 - val_mrcnn_class_loss: 0.0308 - val_mrcnn_bbox_loss: 0.1942 - val_mrcnn_mask_loss: 0.2976\n",
      "Epoch 10/1000\n",
      "256/256 [==============================] - 287s 1s/step - loss: 0.6214 - rpn_class_loss: 0.0026 - rpn_bbox_loss: 0.1788 - mrcnn_class_loss: 0.0134 - mrcnn_bbox_loss: 0.1536 - mrcnn_mask_loss: 0.2729 - val_loss: 0.7685 - val_rpn_class_loss: 0.0090 - val_rpn_bbox_loss: 0.2761 - val_mrcnn_class_loss: 0.0275 - val_mrcnn_bbox_loss: 0.1606 - val_mrcnn_mask_loss: 0.2953\n",
      "Epoch 11/1000\n",
      "256/256 [==============================] - 274s 1s/step - loss: 0.6843 - rpn_class_loss: 0.0031 - rpn_bbox_loss: 0.2201 - mrcnn_class_loss: 0.0126 - mrcnn_bbox_loss: 0.1666 - mrcnn_mask_loss: 0.2819 - val_loss: 0.6679 - val_rpn_class_loss: 0.0057 - val_rpn_bbox_loss: 0.1983 - val_mrcnn_class_loss: 0.0190 - val_mrcnn_bbox_loss: 0.1705 - val_mrcnn_mask_loss: 0.2745\n",
      "Epoch 12/1000\n",
      "256/256 [==============================] - 282s 1s/step - loss: 0.6240 - rpn_class_loss: 0.0028 - rpn_bbox_loss: 0.1868 - mrcnn_class_loss: 0.0108 - mrcnn_bbox_loss: 0.1527 - mrcnn_mask_loss: 0.2709 - val_loss: 0.9122 - val_rpn_class_loss: 0.0112 - val_rpn_bbox_loss: 0.3000 - val_mrcnn_class_loss: 0.0415 - val_mrcnn_bbox_loss: 0.1853 - val_mrcnn_mask_loss: 0.3742\n",
      "Epoch 13/1000\n",
      "256/256 [==============================] - 277s 1s/step - loss: 0.6549 - rpn_class_loss: 0.0041 - rpn_bbox_loss: 0.1994 - mrcnn_class_loss: 0.0105 - mrcnn_bbox_loss: 0.1610 - mrcnn_mask_loss: 0.2798 - val_loss: 0.6918 - val_rpn_class_loss: 0.0056 - val_rpn_bbox_loss: 0.2041 - val_mrcnn_class_loss: 0.0237 - val_mrcnn_bbox_loss: 0.1695 - val_mrcnn_mask_loss: 0.2889\n",
      "Epoch 14/1000\n",
      "256/256 [==============================] - 284s 1s/step - loss: 0.6537 - rpn_class_loss: 0.0038 - rpn_bbox_loss: 0.1979 - mrcnn_class_loss: 0.0133 - mrcnn_bbox_loss: 0.1624 - mrcnn_mask_loss: 0.2763 - val_loss: 0.6589 - val_rpn_class_loss: 0.0076 - val_rpn_bbox_loss: 0.1869 - val_mrcnn_class_loss: 0.0334 - val_mrcnn_bbox_loss: 0.1634 - val_mrcnn_mask_loss: 0.2675\n",
      "Epoch 15/1000\n",
      "256/256 [==============================] - 282s 1s/step - loss: 0.6594 - rpn_class_loss: 0.0033 - rpn_bbox_loss: 0.1866 - mrcnn_class_loss: 0.0157 - mrcnn_bbox_loss: 0.1679 - mrcnn_mask_loss: 0.2858 - val_loss: 0.8155 - val_rpn_class_loss: 0.0111 - val_rpn_bbox_loss: 0.3361 - val_mrcnn_class_loss: 0.0152 - val_mrcnn_bbox_loss: 0.1553 - val_mrcnn_mask_loss: 0.2977\n",
      "Epoch 16/1000\n",
      "256/256 [==============================] - 269s 1s/step - loss: 0.6604 - rpn_class_loss: 0.0035 - rpn_bbox_loss: 0.2025 - mrcnn_class_loss: 0.0154 - mrcnn_bbox_loss: 0.1619 - mrcnn_mask_loss: 0.2771 - val_loss: 0.6532 - val_rpn_class_loss: 0.0058 - val_rpn_bbox_loss: 0.2032 - val_mrcnn_class_loss: 0.0157 - val_mrcnn_bbox_loss: 0.1546 - val_mrcnn_mask_loss: 0.2739\n",
      "Epoch 17/1000\n",
      "256/256 [==============================] - 264s 1s/step - loss: 0.6743 - rpn_class_loss: 0.0025 - rpn_bbox_loss: 0.2062 - mrcnn_class_loss: 0.0132 - mrcnn_bbox_loss: 0.1647 - mrcnn_mask_loss: 0.2876 - val_loss: 0.7570 - val_rpn_class_loss: 0.0072 - val_rpn_bbox_loss: 0.2805 - val_mrcnn_class_loss: 0.0201 - val_mrcnn_bbox_loss: 0.1679 - val_mrcnn_mask_loss: 0.2813\n",
      "Epoch 18/1000\n",
      "256/256 [==============================] - 276s 1s/step - loss: 0.6279 - rpn_class_loss: 0.0039 - rpn_bbox_loss: 0.1965 - mrcnn_class_loss: 0.0101 - mrcnn_bbox_loss: 0.1472 - mrcnn_mask_loss: 0.2702 - val_loss: 0.6176 - val_rpn_class_loss: 0.0061 - val_rpn_bbox_loss: 0.1747 - val_mrcnn_class_loss: 0.0330 - val_mrcnn_bbox_loss: 0.1478 - val_mrcnn_mask_loss: 0.2560\n",
      "Epoch 19/1000\n",
      "256/256 [==============================] - 291s 1s/step - loss: 0.6379 - rpn_class_loss: 0.0031 - rpn_bbox_loss: 0.1992 - mrcnn_class_loss: 0.0162 - mrcnn_bbox_loss: 0.1502 - mrcnn_mask_loss: 0.2692 - val_loss: 0.6878 - val_rpn_class_loss: 0.0055 - val_rpn_bbox_loss: 0.1972 - val_mrcnn_class_loss: 0.0266 - val_mrcnn_bbox_loss: 0.1701 - val_mrcnn_mask_loss: 0.2883\n",
      "Epoch 20/1000\n",
      "256/256 [==============================] - 284s 1s/step - loss: 0.6119 - rpn_class_loss: 0.0027 - rpn_bbox_loss: 0.1836 - mrcnn_class_loss: 0.0106 - mrcnn_bbox_loss: 0.1491 - mrcnn_mask_loss: 0.2658 - val_loss: 0.7974 - val_rpn_class_loss: 0.0089 - val_rpn_bbox_loss: 0.3438 - val_mrcnn_class_loss: 0.0113 - val_mrcnn_bbox_loss: 0.1561 - val_mrcnn_mask_loss: 0.2774\n",
      "Epoch 21/1000\n",
      "256/256 [==============================] - 289s 1s/step - loss: 0.6362 - rpn_class_loss: 0.0044 - rpn_bbox_loss: 0.2042 - mrcnn_class_loss: 0.0121 - mrcnn_bbox_loss: 0.1485 - mrcnn_mask_loss: 0.2670 - val_loss: 0.6617 - val_rpn_class_loss: 0.0056 - val_rpn_bbox_loss: 0.1829 - val_mrcnn_class_loss: 0.0392 - val_mrcnn_bbox_loss: 0.1664 - val_mrcnn_mask_loss: 0.2675\n",
      "Epoch 22/1000\n",
      "256/256 [==============================] - 289s 1s/step - loss: 0.6234 - rpn_class_loss: 0.0031 - rpn_bbox_loss: 0.1802 - mrcnn_class_loss: 0.0138 - mrcnn_bbox_loss: 0.1570 - mrcnn_mask_loss: 0.2693 - val_loss: 0.6250 - val_rpn_class_loss: 0.0056 - val_rpn_bbox_loss: 0.1689 - val_mrcnn_class_loss: 0.0283 - val_mrcnn_bbox_loss: 0.1613 - val_mrcnn_mask_loss: 0.2609\n"
     ]
    },
    {
     "name": "stdout",
     "output_type": "stream",
     "text": [
      "Epoch 23/1000\n",
      "256/256 [==============================] - 284s 1s/step - loss: 0.6350 - rpn_class_loss: 0.0028 - rpn_bbox_loss: 0.1894 - mrcnn_class_loss: 0.0122 - mrcnn_bbox_loss: 0.1519 - mrcnn_mask_loss: 0.2787 - val_loss: 0.6508 - val_rpn_class_loss: 0.0068 - val_rpn_bbox_loss: 0.2053 - val_mrcnn_class_loss: 0.0369 - val_mrcnn_bbox_loss: 0.1503 - val_mrcnn_mask_loss: 0.2514\n",
      "Epoch 24/1000\n",
      "255/256 [============================>.] - ETA: 0s - loss: 0.6049 - rpn_class_loss: 0.0023 - rpn_bbox_loss: 0.1685 - mrcnn_class_loss: 0.0098 - mrcnn_bbox_loss: 0.1473 - mrcnn_mask_loss: 0.2769"
     ]
    }
   ],
   "source": [
    "root_folder = \"../../../Helipad/Helipad_DataBase\"\n",
    "root_meta_folder = \"../../../Helipad/Helipad_DataBase_meta\"\n",
    "model_folder = \"../../../Helipad/model\"\n",
    "include_augmented = False\n",
    "augmented_version = []\n",
    "\n",
    "train_categories = [\"1\", \"2\", \"3\", \"5\", \"6\", \"8\", \"9\"]\n",
    "test_categories = [\"4\", \"7\", \"d\", \"u\"]\n",
    "\n",
    "weights_filename = 'helipad_cfg_6_aug4_3+20200103T1225/mask_rcnn_helipad_cfg_6_aug4_3+_0288.h5'\n",
    "base_weights = 'mask_rcnn_coco.h5'\n",
    "\n",
    "predict_weights_filepath = 'helipad_cfg_7_aug123_all20200106T2012/mask_rcnn_helipad_cfg_7_aug123_all_0407.h5'\n",
    "\n",
    "run_training = RunTraining(root_folder,\n",
    "                           root_meta_folder,\n",
    "                           model_folder,\n",
    "                           base_weights,\n",
    "                           include_augmented=include_augmented,\n",
    "                           augmented_version=augmented_version,\n",
    "                           predict_weights_filepath=None,\n",
    "                           train_categories=train_categories,\n",
    "                           test_categories=test_categories)\n",
    "\n",
    "print('Starting Training')\n",
    "run_training.run()\n",
    "print('Training Over')"
   ]
  }
 ],
 "metadata": {
  "kernelspec": {
   "display_name": "tf-gpu_1.13",
   "language": "python",
   "name": "tf-gpu_1.13"
  },
  "language_info": {
   "codemirror_mode": {
    "name": "ipython",
    "version": 3
   },
   "file_extension": ".py",
   "mimetype": "text/x-python",
   "name": "python",
   "nbconvert_exporter": "python",
   "pygments_lexer": "ipython3",
   "version": "3.7.6"
  }
 },
 "nbformat": 4,
 "nbformat_minor": 2
}
