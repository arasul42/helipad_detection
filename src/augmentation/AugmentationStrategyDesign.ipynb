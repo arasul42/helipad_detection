{
 "cells": [
  {
   "cell_type": "code",
   "execution_count": 1,
   "metadata": {},
   "outputs": [],
   "source": [
    "import math"
   ]
  },
  {
   "cell_type": "code",
   "execution_count": 8,
   "metadata": {},
   "outputs": [
    {
     "data": {
      "text/plain": [
       "8105800789910700.0"
      ]
     },
     "execution_count": 8,
     "metadata": {},
     "output_type": "execute_result"
    }
   ],
   "source": [
    "a = math.pi\n",
    "for i in range(31):\n",
    "    a = math.pi*a\n",
    "a"
   ]
  },
  {
   "cell_type": "code",
   "execution_count": 12,
   "metadata": {},
   "outputs": [],
   "source": [
    "import imgaug as ia\n",
    "from imgaug import augmenters as iaa\n",
    "from imgaug.augmentables.bbs import BoundingBox, BoundingBoxesOnImage \n",
    "import cv2\n",
    "import json\n",
    "import numpy as np\n",
    "import matplotlib.pyplot as plt\n",
    "import matplotlib.patches as patches\n",
    "from random import randint\n",
    "import os\n",
    "from tqdm import tqdm as tqdm"
   ]
  },
  {
   "cell_type": "code",
   "execution_count": 168,
   "metadata": {},
   "outputs": [],
   "source": [
    "def load_image_box(image_name):\n",
    "    image_path = image_name+\".png\"\n",
    "    meta_path = image_name+\".meta\"\n",
    "    image = cv2.imread(image_path)\n",
    "    with open(meta_path, 'r') as f:\n",
    "        meta = json.load(f)\n",
    "    bboxes = meta[\"groundtruth\"][\"box\"]\n",
    "    return image, bboxes, meta\n",
    "\n",
    "def display_image_with_bb(image, box):\n",
    "    # Create figure and axes\n",
    "    fig,ax = plt.subplots(1)\n",
    "\n",
    "    # Display the image\n",
    "    ax.imshow(image)\n",
    "\n",
    "    # Create a Rectangle patch\n",
    "    rect = patches.Rectangle((box[0],box[1]),box[2]-box[0],box[3]-box[1],linewidth=1,edgecolor='r',facecolor='none')\n",
    "\n",
    "    # Add the patch to the Axes\n",
    "    ax.add_patch(rect)\n",
    "    \n",
    "    plt.show()\n",
    "\n",
    "def load_image_box_for_aug(image, bboxes):\n",
    "    bb = []\n",
    "    for box in bboxes:\n",
    "        bb.append(BoundingBox(x1=box[0], x2=box[2], y1=box[1], y2=box[3]))\n",
    "    bbs = BoundingBoxesOnImage(bb, shape=image.shape)\n",
    "    return image, bbs\n",
    "\n",
    "def apply_aug(image, bbs, aug):\n",
    "    image_aug, box_aug = aug(image=image, bounding_boxes=bbs)\n",
    "    box_aug = box_aug.remove_out_of_image().clip_out_of_image()\n",
    "    return image_aug, box_aug\n",
    "\n",
    "def display_side_by_side(image, box, image_aug, box_aug):\n",
    "    side_by_side = np.hstack([\n",
    "    box.draw_on_image(image, size=2), # blend the original image with bounding box\n",
    "    box_aug.draw_on_image(image_aug, size=2) # blend the augmented image with bounding box\n",
    "])\n",
    "\n",
    "    # Plot with matplotlib imshow()\n",
    "    fig, ax = plt.subplots(figsize=(10, 7))\n",
    "    ax.axis('off')\n",
    "    plt.title('Augmentations for bounding boxes')\n",
    "    ax.imshow(side_by_side)\n",
    "    \n",
    "def apply_augmentation_and_display_side_by_side(image, box, aug):\n",
    "    image, bbs = load_image_box_for_aug(image, box)\n",
    "    image_aug, box_aug = apply_aug(image, bbs, aug)\n",
    "    display_side_by_side(image, bbs, image_aug, box_aug)\n",
    "    print(box_aug)\n",
    "    return image_aug, box_aug\n",
    "\n",
    "def save_aug(image_name, meta, image_aug, box_aug, i):\n",
    "    # find the number of augmentation done on this image\n",
    "    image_aug_filename = image_name + \"_aug_{:03d}.png\".format(i)\n",
    "    meta_aug_path = image_name + \"_aug_{:03d}.meta\".format(i)\n",
    "    bboxes_aug = []\n",
    "    for bounding_box in box_aug.bounding_boxes:\n",
    "        xmin = int(bounding_box[0][0])\n",
    "        ymin = int(bounding_box[0][1])\n",
    "        xmax = int(bounding_box[1][0])\n",
    "        ymax = int(bounding_box[1][1])\n",
    "        bboxes_aug.append([xmin, ymin, xmax, ymax])\n",
    "    meta[\"groundtruth\"][\"box\"] = bboxes_aug\n",
    "    if \"predicted\" in meta:\n",
    "        del meta[\"predicted\"]\n",
    "    with open(meta_aug_path, 'w') as f:\n",
    "        json.dump(meta, f, sort_keys=True, indent=4)\n",
    "    cv2.imwrite(image_aug_filename, image_aug)\n",
    "\n",
    "def image_augmentation(image_name, augmentation_strategy, i):\n",
    "    image, bboxes, meta = load_image_box(image_name)\n",
    "    image, bbs = load_image_box_for_aug(image, bboxes)\n",
    "    image_aug, box_aug = apply_aug(image, bbs, augmentation_strategy)\n",
    "    save_aug(image_name, meta, image_aug, box_aug, i)"
   ]
  },
  {
   "cell_type": "code",
   "execution_count": 9,
   "metadata": {},
   "outputs": [],
   "source": [
    "class ImageAugmentation:\n",
    "    \n",
    "    def __init__(self, root_image_folder, root_meta_folder, augmentation_strategy, augmentation_version, nb_replication):\n",
    "        self.root_image_folder = root_image_folder\n",
    "        self.root_meta_folder = root_meta_folder\n",
    "        self.augmentation_strategy = augmentation_strategy\n",
    "        self.augmentation_version = augmentation_version\n",
    "        self.nb_replication = nb_replication\n",
    "    \n",
    "    def build_target_files(self):\n",
    "        target_files = []\n",
    "        original_image_folder = os.path.join(self.root_image_folder, \"Helipad_DataBase_original\")\n",
    "        original_meta_folder = os.path.join(self.root_meta_folder, \"Helipad_DataBase_meta_original\")\n",
    "        aug_image_folder = os.path.join(self.root_image_folder, \"Helipad_DataBase_augmented_{}\".format(self.augmentation_version))\n",
    "        if not os.path.isdir(aug_image_folder):\n",
    "            os.mkdir(aug_image_folder)\n",
    "        aug_meta_folder = os.path.join(self.root_meta_folder, \"Helipad_DataBase_meta_augmented_{}\".format(self.augmentation_version))\n",
    "        if not os.path.isdir(aug_meta_folder):\n",
    "            os.mkdir(aug_meta_folder)\n",
    "        for subdir, dirs, files in os.walk(original_image_folder, topdown=True):\n",
    "            for file in files:\n",
    "                image_filepath = os.path.join(subdir, file)\n",
    "                meta_path = os.path.join(original_meta_folder,\n",
    "                                         os.path.basename(subdir),\n",
    "                                         os.path.splitext(file)[0]+\".meta\")\n",
    "                subdir_aug = '_augmented_'.join(os.path.basename(subdir).split('_'))\n",
    "                for i in range(self.nb_replication):\n",
    "                    image_aug_filepath = os.path.join(aug_image_folder,\n",
    "                                                      subdir_aug,\n",
    "                                                      os.path.splitext(file)[0]+\"_aug_{:03d}.png\".format(i))\n",
    "                    meta_aug_filepath = os.path.join(aug_meta_folder,\n",
    "                                                     subdir_aug,\n",
    "                                                     os.path.splitext(file)[0]+\"_aug_{:03d}.meta\".format(i))\n",
    "                    if not os.path.isdir(os.path.dirname(image_aug_filepath)):\n",
    "                        os.mkdir(os.path.dirname(image_aug_filepath))\n",
    "                    if not os.path.isdir(os.path.dirname(meta_aug_filepath)):\n",
    "                        os.mkdir(os.path.dirname(meta_aug_filepath))\n",
    "                    target_files.append([image_filepath,\n",
    "                                         meta_path,\n",
    "                                         image_aug_filepath,\n",
    "                                         meta_aug_filepath])\n",
    "        return target_files\n",
    "    \n",
    "    @staticmethod\n",
    "    def load_image_bboxes(image_path, meta_path):\n",
    "            image = cv2.imread(image_path)\n",
    "            with open(meta_path, 'r') as f:\n",
    "                meta = json.load(f)\n",
    "            bboxes = meta[\"groundtruth\"][\"box\"]\n",
    "            return image, bboxes, meta\n",
    "    \n",
    "    @staticmethod\n",
    "    def load_image_box_for_aug(image, bboxes):\n",
    "        bb = []\n",
    "        for box in bboxes:\n",
    "            bb.append(BoundingBox(x1=box[0], x2=box[2], y1=box[1], y2=box[3]))\n",
    "        bbs = BoundingBoxesOnImage(bb, shape=image.shape)\n",
    "        return image, bbs\n",
    "    \n",
    "    @staticmethod\n",
    "    def apply_aug(image, bbs, aug):\n",
    "        image_aug, bbs_aug = aug(image=image, bounding_boxes=bbs)\n",
    "        bbs_aug = bbs_aug.remove_out_of_image().clip_out_of_image()\n",
    "        return image_aug, bbs_aug\n",
    "    \n",
    "    def apply_augmentation_on_image(self, image, meta, bboxes, image_aug_filepath, meta_aug_filepath):\n",
    "        image, bbs = self.load_image_box_for_aug(image, bboxes)\n",
    "        image_aug, bbs_aug = self.apply_aug(image, bbs, self.augmentation_strategy)\n",
    "        bboxes_aug = []\n",
    "        for bounding_box in bbs_aug.bounding_boxes:\n",
    "            xmin = int(bounding_box[0][0])\n",
    "            ymin = int(bounding_box[0][1])\n",
    "            xmax = int(bounding_box[1][0])\n",
    "            ymax = int(bounding_box[1][1])\n",
    "            bboxes_aug.append([xmin, ymin, xmax, ymax])\n",
    "        return image_aug, bboxes_aug\n",
    "    \n",
    "    @staticmethod\n",
    "    def save_aug(image_aug, bboxes_aug, meta, meta_aug_path, image_aug_path):\n",
    "        meta[\"groundtruth\"][\"box\"] = bboxes_aug\n",
    "        if \"predicted\" in meta:\n",
    "            del meta[\"predicted\"]\n",
    "        with open(meta_aug_path, 'w') as f:\n",
    "            json.dump(meta, f, sort_keys=True, indent=4)\n",
    "        cv2.imwrite(image_aug_path, image_aug)\n",
    "    \n",
    "    def run(self):\n",
    "        target_files = self.build_target_files()\n",
    "        for j in tqdm(range(len(target_files))):\n",
    "            target = target_files[j]\n",
    "            image_filepath = target[0]\n",
    "            meta_path = target[1]\n",
    "            image_aug_filepath = target[2]\n",
    "            meta_aug_filepath = target[3]\n",
    "            \n",
    "            image = cv2.imread(image_filepath)\n",
    "            with open(meta_path, 'r') as f:\n",
    "                meta = json.load(f)\n",
    "            \n",
    "            if \"groundtruth\" not in meta:\n",
    "                continue\n",
    "            elif \"helipad\" not in meta[\"groundtruth\"]:\n",
    "                continue\n",
    "            elif not meta[\"groundtruth\"][\"helipad\"]:\n",
    "                continue\n",
    "            elif \"box\" not in meta[\"groundtruth\"]:\n",
    "                continue\n",
    "            elif len(meta[\"groundtruth\"][\"box\"]) == 0:\n",
    "                continue\n",
    "            \n",
    "            bboxes = meta[\"groundtruth\"][\"box\"]\n",
    "            \n",
    "            image_aug, bboxes_aug = self.apply_augmentation_on_image(image,\n",
    "                                                                    meta,\n",
    "                                                                    bboxes,\n",
    "                                                                    image_aug_filepath,\n",
    "                                                                    meta_aug_filepath)\n",
    "            \n",
    "            self.save_aug(image_aug, bboxes_aug, meta, meta_aug_filepath, image_aug_filepath)\n",
    "            \n",
    "            \n",
    "            "
   ]
  },
  {
   "cell_type": "code",
   "execution_count": 10,
   "metadata": {},
   "outputs": [],
   "source": [
    "policy_v3 = iaa.Sequential([\n",
    "                            iaa.Sometimes(0.2, iaa.Fliplr(1)),\n",
    "                            iaa.Sometimes(0.2, iaa.Flipud(1)),\n",
    "                            iaa.Sometimes(0.2, iaa.Rotate((-90, 90))),\n",
    "                            iaa.Sometimes(0.2, iaa.Affine(scale=(0.5, 1.5))),\n",
    "                            iaa.Sometimes(0.2, iaa.GaussianBlur(sigma=(0.0, 3.0))),\n",
    "                            iaa.Sometimes(0.15, iaa.AllChannelsHistogramEqualization()),\n",
    "                            iaa.Sometimes(0.2, iaa.ShearX((-20, 20))),\n",
    "                            iaa.Sometimes(0.2, iaa.ShearY((-20, 20))),\n",
    "                            iaa.Sometimes(0.15, iaa.pillike.EnhanceSharpness()),\n",
    "                            iaa.Sometimes(0.15, iaa.pillike.EnhanceBrightness())\n",
    "                            ])"
   ]
  },
  {
   "cell_type": "code",
   "execution_count": 11,
   "metadata": {},
   "outputs": [
    {
     "name": "stderr",
     "output_type": "stream",
     "text": [
      "100%|██████████| 88170/88170 [21:23<00:00, 68.70it/s] \n"
     ]
    }
   ],
   "source": [
    "root_image_folder = \"C:\\\\Users\\\\AISG\\Documents\\\\Jonas\\\\Helipad\\\\Helipad_DataBase\"\n",
    "root_meta_folder = \"C:\\\\Users\\\\AISG\\Documents\\\\Jonas\\\\Helipad\\\\Helipad_DataBase_meta\"\n",
    "augmentation_strategy = policy_v3\n",
    "augmentation_version = 10\n",
    "nb_replication = 15\n",
    "\n",
    "image_augmentation = ImageAugmentation(root_image_folder=root_image_folder,\n",
    "                                       root_meta_folder=root_meta_folder,\n",
    "                                       augmentation_strategy=augmentation_strategy,\n",
    "                                       augmentation_version=augmentation_version,\n",
    "                                       nb_replication=nb_replication)\n",
    "\n",
    "image_augmentation.run()"
   ]
  },
  {
   "cell_type": "code",
   "execution_count": 176,
   "metadata": {},
   "outputs": [
    {
     "name": "stdout",
     "output_type": "stream",
     "text": [
      "Folder_augmented_001\n"
     ]
    }
   ],
   "source": [
    "subdir = 'Folder_001'\n",
    "subdir_aug = '_augmented_'.join(subdir.split('_'))\n",
    "print(subdir_aug)"
   ]
  },
  {
   "cell_type": "code",
   "execution_count": 162,
   "metadata": {},
   "outputs": [],
   "source": [
    "image, bboxes, meta = load_image_box(\"Helipad_00076\")"
   ]
  },
  {
   "cell_type": "code",
   "execution_count": 174,
   "metadata": {},
   "outputs": [
    {
     "name": "stdout",
     "output_type": "stream",
     "text": [
      "0.020951509475708008\n"
     ]
    }
   ],
   "source": [
    "import time\n",
    "\n",
    "start = time.time()\n",
    "image_augmentation(\"Helipad_00076\", policy_v3, 0)\n",
    "end = time.time()\n",
    "\n",
    "print(end-start)"
   ]
  },
  {
   "cell_type": "code",
   "execution_count": 6,
   "metadata": {},
   "outputs": [],
   "source": [
    "aug = iaa.Sometimes(5/6,iaa.OneOf(\n",
    "                                            [\n",
    "                                                iaa.Fliplr(1), \n",
    "                                                iaa.Flipud(1), \n",
    "                                                iaa.Affine(rotate=(-45, 45)), \n",
    "                                                iaa.Affine(rotate=(-90, 90)), \n",
    "                                                iaa.Affine(scale=(0.5, 1.5)),\n",
    "                                                iaa.GaussianBlur(sigma=(0.0, 3.0))\n",
    "                                             ]\n",
    "                                        )\n",
    "                                   )"
   ]
  },
  {
   "cell_type": "code",
   "execution_count": 74,
   "metadata": {},
   "outputs": [
    {
     "data": {
      "text/plain": [
       "BoundingBox(x1=79.3983, y1=318.0927, x2=403.8031, y2=550.7893, label=None)"
      ]
     },
     "execution_count": 74,
     "metadata": {},
     "output_type": "execute_result"
    }
   ],
   "source": [
    "box_aug.bounding_boxes[0]"
   ]
  },
  {
   "cell_type": "code",
   "execution_count": 130,
   "metadata": {},
   "outputs": [
    {
     "name": "stdout",
     "output_type": "stream",
     "text": [
      "BoundingBox(x1=79.3983, y1=318.0927, x2=403.8031, y2=550.7893, label=None)\n"
     ]
    }
   ],
   "source": [
    "for box in box_aug.bounding_boxes:\n",
    "        print(box)"
   ]
  },
  {
   "cell_type": "code",
   "execution_count": 9,
   "metadata": {},
   "outputs": [],
   "source": [
    "images = np.array(\n",
    "    [image for _ in range(32)],\n",
    "    dtype=np.uint8\n",
    ")"
   ]
  },
  {
   "cell_type": "markdown",
   "metadata": {},
   "source": [
    "https://github.com/matterport/Mask_RCNN/issues/1015\n",
    "https://www.kaggle.com/c/data-science-bowl-2018/discussion/53495\n",
    "https://github.com/matterport/Mask_RCNN/issues/768\n",
    "https://medium.com/@a.karazhay/guide-augment-images-and-multiple-bounding-boxes-for-deep-learning-in-4-steps-with-the-notebook-9b263e414dac\n",
    "https://imgaug.readthedocs.io/en/latest/source/overview_of_augmenters.html"
   ]
  },
  {
   "cell_type": "markdown",
   "metadata": {},
   "source": [
    "https://towardsdatascience.com/data-augmentation-for-deep-learning-4fe21d1a4eb9"
   ]
  }
 ],
 "metadata": {
  "kernelspec": {
   "display_name": "Python 3",
   "language": "python",
   "name": "python3"
  },
  "language_info": {
   "codemirror_mode": {
    "name": "ipython",
    "version": 3
   },
   "file_extension": ".py",
   "mimetype": "text/x-python",
   "name": "python",
   "nbconvert_exporter": "python",
   "pygments_lexer": "ipython3",
   "version": "3.7.6"
  }
 },
 "nbformat": 4,
 "nbformat_minor": 2
}
