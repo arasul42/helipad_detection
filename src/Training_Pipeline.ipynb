{
 "cells": [
  {
   "cell_type": "code",
   "execution_count": 11,
   "metadata": {},
   "outputs": [],
   "source": [
    "import sys\n",
    "sys.path.append('training')\n",
    "sys.path.append('benchmark')\n",
    "sys.path.append('detection')"
   ]
  },
  {
   "cell_type": "code",
   "execution_count": null,
   "metadata": {},
   "outputs": [],
   "source": [
    "from training.run_training import RunTraining\n",
    "from detection.run_detection import RunDetection\n",
    "from benchmark.run_benchmark import RunBenchmark"
   ]
  },
  {
   "cell_type": "markdown",
   "metadata": {},
   "source": [
    "# Database Creation"
   ]
  },
  {
   "cell_type": "markdown",
   "metadata": {},
   "source": [
    "# Database Management"
   ]
  },
  {
   "cell_type": "markdown",
   "metadata": {},
   "source": [
    "# DataBase Augmentation"
   ]
  },
  {
   "cell_type": "markdown",
   "metadata": {},
   "source": [
    "# Run Training"
   ]
  },
  {
   "cell_type": "code",
   "execution_count": null,
   "metadata": {},
   "outputs": [],
   "source": [
    "root_folder = \"../../Helipad/Helipad_DataBase\"\n",
    "root_meta_folder = \"../../Helipad/Helipad_DataBase_meta\"\n",
    "model_folder = \"../../Helipad/model\"\n",
    "include_augmented = True\n",
    "augmented_version = [10]\n",
    "\n",
    "train_categories = [\"1\", \"2\", \"3\", \"5\", \"6\", \"8\", \"9\"]\n",
    "test_categories = [\"4\", \"7\", \"d\", \"u\"]\n",
    "\n",
    "weights_filename = 'helipad_cfg_10_no47du_all20200420T0127/mask_rcnn_helipad_cfg_10_no47du_all_0538.h5'\n",
    "base_weights = 'mask_rcnn_coco.h5'\n",
    "\n",
    "predict_weights_filepath = 'helipad_cfg_7_aug123_all20200106T2012/mask_rcnn_helipad_cfg_7_aug123_all_0472.h5'\n",
    "\n",
    "run_training = RunTraining(root_folder,\n",
    "                           root_meta_folder,\n",
    "                           model_folder,\n",
    "                           weights_filename,\n",
    "                           include_augmented=include_augmented,\n",
    "                           augmented_version=augmented_version,\n",
    "                           predict_weights_filepath=None,\n",
    "                           train_categories=train_categories,\n",
    "                           test_categories=test_categories)\n",
    "\n",
    "print('Starting Training')\n",
    "run_training.run()\n",
    "print('Training Over')"
   ]
  },
  {
   "cell_type": "markdown",
   "metadata": {},
   "source": [
    "# Evaluate mAP on original dataset"
   ]
  },
  {
   "cell_type": "code",
   "execution_count": null,
   "metadata": {},
   "outputs": [],
   "source": [
    "root_folder = \"../../Helipad/Helipad_DataBase\"\n",
    "root_meta_folder = \"../../Helipad/Helipad_DataBase_meta\"\n",
    "model_folder = \"../../Helipad/model\"\n",
    "include_augmented = False\n",
    "augmented_version = []\n",
    "\n",
    "train_categories = [\"1\", \"2\", \"3\", \"5\", \"6\", \"8\", \"9\"]\n",
    "test_categories = [\"4\", \"7\", \"d\", \"u\"]\n",
    "\n",
    "weights_filename = 'helipad_cfg_10_no47du_3+20200418T2016/mask_rcnn_helipad_cfg_10_no47du_3+_0012.h5'\n",
    "base_weights = 'mask_rcnn_coco.h5'\n",
    "\n",
    "predict_weights_filepath = 'helipad_cfg_7_aug123_all20200106T2012/mask_rcnn_helipad_cfg_7_aug123_all_0407.h5'\n",
    "\n",
    "run_training = RunTraining(root_folder,\n",
    "                           root_meta_folder,\n",
    "                           model_folder,\n",
    "                           weights_filename,\n",
    "                           include_augmented=include_augmented,\n",
    "                           augmented_version=augmented_version,\n",
    "                           predict_weights_filepath=predict_weights_filepath,\n",
    "                           train_categories=train_categories,\n",
    "                           test_categories=test_categories)\n",
    "\n",
    "print('Evaluating Last Epoch')\n",
    "run_training.run_predict()\n",
    "print('Evaluation Done')"
   ]
  },
  {
   "cell_type": "markdown",
   "metadata": {},
   "source": [
    "# Run Detection on Original Dataset to save bounding boxes"
   ]
  },
  {
   "cell_type": "code",
   "execution_count": null,
   "metadata": {},
   "outputs": [],
   "source": [
    "image_folder = \"../../Helipad_DataBase/Helipad_DataBase_original\"\n",
    "meta_folder = \"../../Helipad_DataBase_meta/Helipad_DataBase_meta_original\"\n",
    "model_root_folder = \"../../model/\"\n",
    "model_folder = \"helipad_cfg_9_no47_aug2_3+20200112T2326\"\n",
    "model_number = 8\n",
    "weight_filename = \"mask_rcnn_helipad_cfg_9_no47_aug2_3+_0257.h5\"\n",
    "\n",
    "# test_only = True\n",
    "activate_filter = False\n",
    "\n",
    "run_detection = RunDetection(image_folder,\n",
    "                          meta_folder,\n",
    "                          os.path.join(model_root_folder, model_folder),\n",
    "                          weight_filename,\n",
    "                          model_number=model_number,\n",
    "                          activate_filter=activate_filter)\n",
    "\n",
    "run_detection.run()"
   ]
  },
  {
   "cell_type": "markdown",
   "metadata": {},
   "source": [
    "# Run Benchmark on a model"
   ]
  },
  {
   "cell_type": "markdown",
   "metadata": {},
   "source": [
    "### Benchmark on Train Set"
   ]
  },
  {
   "cell_type": "code",
   "execution_count": null,
   "metadata": {},
   "outputs": [],
   "source": [
    "image_folder = \"C:\\\\Users\\\\AISG\\\\Documents\\\\Jonas\\\\Helipad\\\\Helipad_DataBase\\\\Helipad_DataBase_original\"\n",
    "meta_folder = \"C:\\\\Users\\\\AISG\\\\Documents\\\\Jonas\\\\Helipad\\\\Helipad_DataBase_meta\\\\Helipad_DataBase_meta_original\"\n",
    "model_numbers = [7]\n",
    "test_only = False\n",
    "tms_dataset = False\n",
    "zoom_level = None\n",
    "city_lat = None\n",
    "train_categories = [\"1\", \"2\", \"3\", \"5\", \"6\", \"8\", \"9\"]\n",
    "\n",
    "run_benchmark = RunBenchmark(image_folder,\n",
    "                             meta_folder,\n",
    "                             model_numbers,\n",
    "                             test_only=test_only,\n",
    "                             tms_dataset=tms_dataset,\n",
    "                             include_category=train_categories,\n",
    "                             zoom_level=zoom_level,\n",
    "                             city_lat=city_lat)\n",
    "\n",
    "threshold_validation = None\n",
    "\n",
    "run_benchmark.run(threshold_validation=threshold_validation)"
   ]
  },
  {
   "cell_type": "markdown",
   "metadata": {},
   "source": [
    "### Benchmark on Test Set"
   ]
  },
  {
   "cell_type": "code",
   "execution_count": null,
   "metadata": {},
   "outputs": [],
   "source": [
    "image_folder = \"C:\\\\Users\\\\AISG\\\\Documents\\\\Jonas\\\\Helipad\\\\Helipad_DataBase\\\\Helipad_DataBase_original\"\n",
    "meta_folder = \"C:\\\\Users\\\\AISG\\\\Documents\\\\Jonas\\\\Helipad\\\\Helipad_DataBase_meta\\\\Helipad_DataBase_meta_original\"\n",
    "model_numbers = [7]\n",
    "test_only = False\n",
    "tms_dataset = False\n",
    "zoom_level = None\n",
    "city_lat = None\n",
    "test_categories = [\"4\", \"7\", \"d\", \"u\"]\n",
    "\n",
    "run_benchmark = RunBenchmark(image_folder,\n",
    "                             meta_folder,\n",
    "                             model_numbers,\n",
    "                             test_only=test_only,\n",
    "                             tms_dataset=tms_dataset,\n",
    "                             include_category=test_categories,\n",
    "                             zoom_level=zoom_level,\n",
    "                             city_lat=city_lat)\n",
    "\n",
    "threshold_validation = None\n",
    "\n",
    "run_benchmark.run(threshold_validation=threshold_validation)"
   ]
  },
  {
   "cell_type": "markdown",
   "metadata": {},
   "source": [
    "# Run Prediction on Satellite Images"
   ]
  },
  {
   "cell_type": "code",
   "execution_count": 1,
   "metadata": {},
   "outputs": [],
   "source": [
    "from detection.run_prediction_satellite import RunPredictionSatellite\n",
    "\n",
    "cache_tms_sat_folder = \"../../../Detection/Detection_Dataset\"\n",
    "output_meta_folder = \"../../../Detection/Detection_Dataset_meta\"\n",
    "model_folder = \"../../model\"\n",
    "\n",
    "weights_filename = \"helipad_cfg_aug2_5+20191211T1749/mask_rcnn_helipad_cfg_aug2_5+_0381.h5\"\n",
    "model_number = 4\n",
    "\n",
    "zoom_level = 18\n",
    "activate_filters = False\n",
    "\n",
    "run_prediction_satellite = RunPredictionSatellite(cache_tms_sat_folder=cache_tms_sat_folder,\n",
    "                                                  output_meta_folder=output_meta_folder,\n",
    "                                                  zoom_level=zoom,\n",
    "                                                  model_folder=model_folder,\n",
    "                                                  weights_filename=weights_filename,\n",
    "                                                  model_number=model_number,\n",
    "                                                  activate_filters=activate_filters)\n",
    "\n",
    "run_prediction_satellite.run()"
   ]
  },
  {
   "cell_type": "markdown",
   "metadata": {},
   "source": [
    "# Optional Step : Train and Run Validation on detected bounding boxes using KNN"
   ]
  },
  {
   "cell_type": "markdown",
   "metadata": {},
   "source": [
    "### Build the dataset of bounding boxes"
   ]
  },
  {
   "cell_type": "code",
   "execution_count": null,
   "metadata": {},
   "outputs": [],
   "source": [
    "# Build the dataset of bounding boxes : \n",
    "\n",
    "from src.knn.knn_build_database import KNNBuildDatabase\n",
    "\n",
    "image_folder = \"C:\\\\Users\\\\jonas\\\\Desktop\\\\Helipad\\\\Helipad_DataBase\\\\Helipad_DataBase_original\"\n",
    "meta_folder = \"C:\\\\Users\\\\jonas\\\\Desktop\\\\Helipad\\\\Helipad_DataBase_meta\\\\Helipad_DataBase_meta_original\"\n",
    "model_number = 7\n",
    "\n",
    "knn_build_database = KNNBuildDatabase(image_folder, meta_folder, model_number)\n",
    "\n",
    "knn_build_database.run()"
   ]
  },
  {
   "cell_type": "markdown",
   "metadata": {},
   "source": [
    "### Train a KNN on this dataset"
   ]
  },
  {
   "cell_type": "code",
   "execution_count": null,
   "metadata": {},
   "outputs": [],
   "source": [
    "# Train a KNN model on this dataset\n",
    "\n",
    "from src.knn.knn_training import KNNTraining\n",
    "\n",
    "knn_training = KNNTraining(nb_neighbors=2, nb_jobs=-1, test_size=0.25)\n",
    "\n",
    "knn_training.fit(knn_build_database.X, knn_build_database.y, mode=\"histogram\", binary=True)\n",
    "\n",
    "knn_training.score()\n",
    "\n",
    "knn_training.save(model_number=model_number, dataset='original')\n",
    "\n",
    "# TODO: Change the knn_build_database to make the user choose between target 0/1\n",
    "# ou target = category\n",
    "# add the posibility to choose which category are positive / negative\n",
    "\n",
    "# Change KNNTraining to put the model to train as an argument \n",
    "# to be able to freely change/fine-tune the model"
   ]
  },
  {
   "cell_type": "markdown",
   "metadata": {},
   "source": [
    "### Predict on new images"
   ]
  },
  {
   "cell_type": "code",
   "execution_count": null,
   "metadata": {},
   "outputs": [],
   "source": [
    "from knn.knn_predict import KNNPredict\n",
    "\n",
    "image_folder = \"C:\\\\Users\\\\AISG\\\\Documents\\\\Jonas\\\\Real_World_Dataset_TMS\\\\sat\"\n",
    "meta_folder = \"C:\\\\Users\\\\AISG\\\\Documents\\\\Jonas\\\\Real_World_Dataset_TMS_meta\\\\sat\"\n",
    "index_path_score_filename = \"C:\\\\Users\\\\AISG\\\\Documents\\\\Jonas\\\\helipad_detection\\\\src\\\\database_management\\\\helipad_path_over_0.999.txt\"\n",
    "model_number = 7\n",
    "knn_weights_filename = \"knn_histogram_2.pkl\"\n",
    "random_forest_weights_filename = \"random_forest_e100.pkl\"\n",
    "\n",
    "model = \"knn\"\n",
    "\n",
    "knn_predict = KNNPredict(image_folder,\n",
    "                         meta_folder,\n",
    "                         index_path_score_filename,\n",
    "                         model_number,\n",
    "                         knn_weights_filename,\n",
    "                         model)\n",
    "\n",
    "knn_predict.predict()\n",
    "\n",
    "# print(knn_predict.y_predict)\n",
    "knn_predict.write_prediction_to_meta()"
   ]
  },
  {
   "cell_type": "markdown",
   "metadata": {},
   "source": [
    "# Optional Step : Run Validation on detected bounding boxes using Random Forest"
   ]
  },
  {
   "cell_type": "markdown",
   "metadata": {},
   "source": [
    "# Optional Step : Run Validation on detected bounding boxes using CNN"
   ]
  },
  {
   "cell_type": "markdown",
   "metadata": {},
   "source": [
    "### Build the dataset of bounding boxes"
   ]
  },
  {
   "cell_type": "code",
   "execution_count": null,
   "metadata": {},
   "outputs": [],
   "source": [
    "from bb_analysis.bb_build_dataset import BBBuildDataset\n",
    "\n",
    "image_folder = \"C:\\\\Users\\\\jonas\\\\Desktop\\\\Helipad\\\\Helipad_DataBase\\\\Helipad_DataBase_original\"\n",
    "meta_folder = \"C:\\\\Users\\\\jonas\\\\Desktop\\\\Helipad\\\\Helipad_DataBase_meta\\\\Helipad_DataBase_meta_original\"\n",
    "model_number = 7\n",
    "score_threshold = 0.0\n",
    "iou_threshold = 0.5\n",
    "output_folder = \"C:\\\\Users\\\\jonas\\\\Desktop\\\\Helipad\\\\Detected_Boxes_3\"\n",
    "tms = False\n",
    "# ground_truth_bb indicates wheter the dataset keeps the groundtruth\n",
    "# as the true positive (True) or the true positive detected by the model (False)\n",
    "# Sometime, the detection by the model is not centered in the helipad\n",
    "# hence it can add noise to the model\n",
    "groundtruth_bb = True\n",
    "# the bounding boxes of those categories will be considered as false positive\n",
    "filter_categories = [\"4\", \"7\", \"d\", \"u\"]\n",
    "\n",
    "bb_build_dataset = BBBuildDataset(image_folder=image_folder,\n",
    "                                  meta_folder=meta_folder,\n",
    "                                  model_number=model_number,\n",
    "                                  score_threshold=score_threshold,\n",
    "                                  iou_threshold=iou_threshold,\n",
    "                                  output_folder=output_folder,\n",
    "                                  tms=tms,\n",
    "                                  groundtruth_bb=groundtruth_bb,\n",
    "                                  filter_categories=filter_categories)\n",
    "\n",
    "bb_build_dataset.run()"
   ]
  },
  {
   "cell_type": "markdown",
   "metadata": {},
   "source": [
    "### Train a CNN Model"
   ]
  },
  {
   "cell_type": "code",
   "execution_count": null,
   "metadata": {},
   "outputs": [],
   "source": [
    "from bb_analysis.bb_training_manager import BBTrainingManager\n",
    "\n",
    "image_folder = \"C:\\\\Users\\\\AISG\\\\Documents\\\\Jonas\\\\Detected_Boxes_3\\\\model_7_0.0\"\n",
    "\n",
    "bbtraining_manager = BBTrainingManager(image_folder)\n",
    "\n",
    "bbtraining_manager.run()\n",
    "\n",
    "bbtraining_manager.evaluate()\n",
    "\n",
    "bbtraining_manager.save()\n",
    "\n",
    "bbtraining_manager.plot()\n",
    "\n",
    "# TODO: Add a custom filename to save the model"
   ]
  },
  {
   "cell_type": "markdown",
   "metadata": {},
   "source": [
    "### Predict on the dataset "
   ]
  },
  {
   "cell_type": "code",
   "execution_count": null,
   "metadata": {},
   "outputs": [],
   "source": [
    "from bb_analysis.bb_predict import BBPredict\n",
    "\n",
    "image_folder = \"C:\\\\Users\\\\AISG\\\\Documents\\\\Jonas\\\\Helipad\\\\Helipad_DataBase\\\\Helipad_DataBase_original\"\n",
    "meta_folder = \"C:\\\\Users\\\\AISG\\\\Documents\\\\Jonas\\\\Helipad\\\\Helipad_DataBase_meta\\\\Helipad_DataBase_meta_original\"\n",
    "model_number = 7\n",
    "model_path = \"final_model.h5\"\n",
    "tms = False\n",
    "extract_bounding_boxes = True\n",
    "\n",
    "bbpredict = BBPredict(image_folder=image_folder,\n",
    "                      meta_folder=meta_folder,\n",
    "                      model_number=model_number,\n",
    "                      model_path=model_path,\n",
    "                      tms=tms,\n",
    "                      extract_bounding_boxes=extract_bounding_boxes)\n",
    "\n",
    "bbpredict.run()"
   ]
  },
  {
   "cell_type": "markdown",
   "metadata": {},
   "source": [
    "# Build Placemarks"
   ]
  },
  {
   "cell_type": "code",
   "execution_count": 2,
   "metadata": {},
   "outputs": [],
   "source": [
    "from detection.build_placemarks import BuildPlacemarks\n",
    "\n",
    "meta_folder = \"C:\\\\Users\\\\AISG\\\\Documents\\\\Jonas\\\\Real_World_Dataset_TMS_meta_save_2\\\\Real_World_Dataset_TMS_meta\\\\sat\\\\\"\n",
    "model_number = 7\n",
    "threshold = 0\n",
    "\n",
    "index_path = \"../database_management/helipad_path_over_0.txt\"\n",
    "\n",
    "knn = False\n",
    "model_name = \"cnn_validation\"\n",
    "model_validation_threshold = None\n",
    "\n",
    "build_placemarks = BuildPlacemarks(meta_folder,\n",
    "                                   model_number,\n",
    "                                   threshold,\n",
    "                                   knn=knn,\n",
    "                                   model_name=model_name,\n",
    "                                   model_validation_threshold=model_validation_threshold,\n",
    "                                   index_path=index_path)\n",
    "\n",
    "build_placemarks.run()"
   ]
  },
  {
   "cell_type": "markdown",
   "metadata": {},
   "source": [
    "### Transfer the placemarks to my local machine"
   ]
  },
  {
   "cell_type": "code",
   "execution_count": null,
   "metadata": {},
   "outputs": [],
   "source": []
  }
 ],
 "metadata": {
  "kernelspec": {
   "display_name": "tf-gpu_1.13",
   "language": "python",
   "name": "tf-gpu_1.13"
  },
  "language_info": {
   "codemirror_mode": {
    "name": "ipython",
    "version": 3
   },
   "file_extension": ".py",
   "mimetype": "text/x-python",
   "name": "python",
   "nbconvert_exporter": "python",
   "pygments_lexer": "ipython3",
   "version": "3.7.6"
  }
 },
 "nbformat": 4,
 "nbformat_minor": 2
}
