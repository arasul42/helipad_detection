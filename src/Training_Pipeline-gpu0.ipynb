{
 "cells": [
  {
   "cell_type": "code",
   "execution_count": 2,
   "metadata": {},
   "outputs": [],
   "source": [
    "import os\n",
    "os.environ[\"CUDA_DEVICE_ORDER\"]=\"PCI_BUS_ID\"   # see issue #152\n",
    "os.environ[\"CUDA_VISIBLE_DEVICES\"]=\"0\""
   ]
  },
  {
   "cell_type": "code",
   "execution_count": 2,
   "metadata": {},
   "outputs": [],
   "source": [
    "import sys\n",
    "sys.path.append('training')\n",
    "sys.path.append('benchmark')\n",
    "sys.path.append('detection')"
   ]
  },
  {
   "cell_type": "code",
   "execution_count": 3,
   "metadata": {},
   "outputs": [
    {
     "name": "stderr",
     "output_type": "stream",
     "text": [
      "C:\\Users\\AISG\\Anaconda3\\envs\\tf-gpu_1.13\\lib\\site-packages\\tensorflow\\python\\framework\\dtypes.py:526: FutureWarning: Passing (type, 1) or '1type' as a synonym of type is deprecated; in a future version of numpy, it will be understood as (type, (1,)) / '(1,)type'.\n",
      "  _np_qint8 = np.dtype([(\"qint8\", np.int8, 1)])\n",
      "C:\\Users\\AISG\\Anaconda3\\envs\\tf-gpu_1.13\\lib\\site-packages\\tensorflow\\python\\framework\\dtypes.py:527: FutureWarning: Passing (type, 1) or '1type' as a synonym of type is deprecated; in a future version of numpy, it will be understood as (type, (1,)) / '(1,)type'.\n",
      "  _np_quint8 = np.dtype([(\"quint8\", np.uint8, 1)])\n",
      "C:\\Users\\AISG\\Anaconda3\\envs\\tf-gpu_1.13\\lib\\site-packages\\tensorflow\\python\\framework\\dtypes.py:528: FutureWarning: Passing (type, 1) or '1type' as a synonym of type is deprecated; in a future version of numpy, it will be understood as (type, (1,)) / '(1,)type'.\n",
      "  _np_qint16 = np.dtype([(\"qint16\", np.int16, 1)])\n",
      "C:\\Users\\AISG\\Anaconda3\\envs\\tf-gpu_1.13\\lib\\site-packages\\tensorflow\\python\\framework\\dtypes.py:529: FutureWarning: Passing (type, 1) or '1type' as a synonym of type is deprecated; in a future version of numpy, it will be understood as (type, (1,)) / '(1,)type'.\n",
      "  _np_quint16 = np.dtype([(\"quint16\", np.uint16, 1)])\n",
      "C:\\Users\\AISG\\Anaconda3\\envs\\tf-gpu_1.13\\lib\\site-packages\\tensorflow\\python\\framework\\dtypes.py:530: FutureWarning: Passing (type, 1) or '1type' as a synonym of type is deprecated; in a future version of numpy, it will be understood as (type, (1,)) / '(1,)type'.\n",
      "  _np_qint32 = np.dtype([(\"qint32\", np.int32, 1)])\n",
      "C:\\Users\\AISG\\Anaconda3\\envs\\tf-gpu_1.13\\lib\\site-packages\\tensorflow\\python\\framework\\dtypes.py:535: FutureWarning: Passing (type, 1) or '1type' as a synonym of type is deprecated; in a future version of numpy, it will be understood as (type, (1,)) / '(1,)type'.\n",
      "  np_resource = np.dtype([(\"resource\", np.ubyte, 1)])\n",
      "Using TensorFlow backend.\n"
     ]
    }
   ],
   "source": [
    "from training.run_training import RunTraining\n",
    "from detection.run_detection import RunDetection\n",
    "from benchmark.run_benchmark import RunBenchmark"
   ]
  },
  {
   "cell_type": "markdown",
   "metadata": {},
   "source": [
    "# Database Creation"
   ]
  },
  {
   "cell_type": "markdown",
   "metadata": {},
   "source": [
    "# Database Management"
   ]
  },
  {
   "cell_type": "markdown",
   "metadata": {},
   "source": [
    "# DataBase Augmentation"
   ]
  },
  {
   "cell_type": "markdown",
   "metadata": {},
   "source": [
    "# Run Training"
   ]
  },
  {
   "cell_type": "code",
   "execution_count": null,
   "metadata": {},
   "outputs": [],
   "source": [
    "root_folder = \"../../Helipad/Helipad_DataBase\"\n",
    "root_meta_folder = \"../../Helipad/Helipad_DataBase_meta\"\n",
    "model_folder = \"../../Helipad/model\"\n",
    "include_augmented = True\n",
    "augmented_version = [10]\n",
    "\n",
    "train_categories = [\"1\", \"2\", \"3\", \"5\", \"6\", \"8\", \"9\"]\n",
    "test_categories = [\"4\", \"7\", \"d\", \"u\"]\n",
    "\n",
    "weights_filename = 'helipad_cfg_10_no47du_all20200420T0127/mask_rcnn_helipad_cfg_10_no47du_all_0538.h5'\n",
    "base_weights = 'mask_rcnn_coco.h5'\n",
    "\n",
    "predict_weights_filepath = 'helipad_cfg_7_aug123_all20200106T2012/mask_rcnn_helipad_cfg_7_aug123_all_0472.h5'\n",
    "\n",
    "run_training = RunTraining(root_folder,\n",
    "                           root_meta_folder,\n",
    "                           model_folder,\n",
    "                           weights_filename,\n",
    "                           include_augmented=include_augmented,\n",
    "                           augmented_version=augmented_version,\n",
    "                           predict_weights_filepath=None,\n",
    "                           train_categories=train_categories,\n",
    "                           test_categories=test_categories)\n",
    "\n",
    "print('Starting Training')\n",
    "run_training.run()\n",
    "print('Training Over')"
   ]
  },
  {
   "cell_type": "markdown",
   "metadata": {},
   "source": [
    "# Evaluate mAP on original dataset"
   ]
  },
  {
   "cell_type": "code",
   "execution_count": null,
   "metadata": {},
   "outputs": [],
   "source": [
    "root_folder = \"../../Helipad/Helipad_DataBase\"\n",
    "root_meta_folder = \"../../Helipad/Helipad_DataBase_meta\"\n",
    "model_folder = \"../../Helipad/model\"\n",
    "include_augmented = False\n",
    "augmented_version = []\n",
    "\n",
    "train_categories = [\"1\", \"2\", \"3\", \"5\", \"6\", \"8\", \"9\"]\n",
    "test_categories = [\"4\", \"7\", \"d\", \"u\"]\n",
    "\n",
    "weights_filename = 'helipad_cfg_10_no47du_all20200420T0127/mask_rcnn_helipad_cfg_10_no47du_all_0851.h5'\n",
    "base_weights = 'mask_rcnn_coco.h5'\n",
    "\n",
    "predict_weights_filepath = 'helipad_cfg_10_no47du_all20200420T0127/mask_rcnn_helipad_cfg_10_no47du_all_0851.h5'\n",
    "\n",
    "run_training = RunTraining(root_folder,\n",
    "                           root_meta_folder,\n",
    "                           model_folder,\n",
    "                           weights_filename,\n",
    "                           include_augmented=include_augmented,\n",
    "                           augmented_version=augmented_version,\n",
    "                           predict_weights_filepath=predict_weights_filepath,\n",
    "                           train_categories=train_categories,\n",
    "                           test_categories=test_categories)\n",
    "\n",
    "print('Evaluating Last Epoch')\n",
    "run_training.run_predict()\n",
    "print('Evaluation Done')"
   ]
  },
  {
   "cell_type": "markdown",
   "metadata": {},
   "source": [
    "# Run Detection on Original Dataset to save bounding boxes"
   ]
  },
  {
   "cell_type": "code",
   "execution_count": null,
   "metadata": {},
   "outputs": [],
   "source": [
    "# image_folder = \"C:\\\\Users\\\\AISG\\\\Documents\\\\Jonas\\\\Helipad\\\\Helipad_DataBase\\\\Helipad_DataBase_original\"\n",
    "# meta_folder = \"C:\\\\Users\\\\AISG\\\\Documents\\\\Jonas\\\\Helipad\\\\Helipad_DataBase_meta\\\\Helipad_DataBase_meta_original\"\n",
    "image_folder = \"../../Helipad/Helipad_DataBase/Helipad_DataBase_original/\"\n",
    "meta_folder = \"../../Helipad/Helipad_DataBase_meta/Helipad_DataBase_meta_original/\"\n",
    "model_numbers = [5]\n",
    "test_only = False\n",
    "tms_dataset = False\n",
    "zoom_level = None\n",
    "city_lat = None\n",
    "train_categories = [\"1\", \"2\", \"3\", \"5\", \"6\", \"8\", \"9\"]\n",
    "\n",
    "run_benchmark = RunBenchmark(image_folder,\n",
    "                             meta_folder,\n",
    "                             model_numbers,\n",
    "                             test_only=test_only,\n",
    "                             tms_dataset=tms_dataset,\n",
    "                             include_category=train_categories,\n",
    "                             zoom_level=zoom_level,\n",
    "                             city_lat=city_lat)\n",
    "\n",
    "threshold_validation = None\n",
    "\n",
    "run_benchmark.run(threshold_validation=threshold_validation)"
   ]
  },
  {
   "cell_type": "markdown",
   "metadata": {},
   "source": [
    "# Run Benchmark on a model"
   ]
  },
  {
   "cell_type": "markdown",
   "metadata": {},
   "source": [
    "### Benchmark on Train Set"
   ]
  },
  {
   "cell_type": "code",
   "execution_count": null,
   "metadata": {},
   "outputs": [],
   "source": [
    "image_folder = \"C:\\\\Users\\\\AISG\\\\Documents\\\\Jonas\\\\Helipad\\\\Helipad_DataBase\\\\Helipad_DataBase_original\"\n",
    "meta_folder = \"C:\\\\Users\\\\AISG\\\\Documents\\\\Jonas\\\\Helipad\\\\Helipad_DataBase_meta\\\\Helipad_DataBase_meta_original\"\n",
    "model_numbers = [7]\n",
    "test_only = False\n",
    "tms_dataset = False\n",
    "zoom_level = None\n",
    "city_lat = None\n",
    "train_categories = [\"1\", \"2\", \"3\", \"5\", \"6\", \"8\", \"9\"]\n",
    "\n",
    "run_benchmark = RunBenchmark(image_folder,\n",
    "                             meta_folder,\n",
    "                             model_numbers,\n",
    "                             test_only=test_only,\n",
    "                             tms_dataset=tms_dataset,\n",
    "                             include_category=train_categories,\n",
    "                             zoom_level=zoom_level,\n",
    "                             city_lat=city_lat)\n",
    "\n",
    "threshold_validation = None\n",
    "\n",
    "run_benchmark.run(threshold_validation=threshold_validation)"
   ]
  },
  {
   "cell_type": "markdown",
   "metadata": {},
   "source": [
    "### Benchmark on Test Set"
   ]
  },
  {
   "cell_type": "code",
   "execution_count": null,
   "metadata": {},
   "outputs": [],
   "source": [
    "image_folder = \"C:\\\\Users\\\\AISG\\\\Documents\\\\Jonas\\\\Helipad\\\\Helipad_DataBase\\\\Helipad_DataBase_original\"\n",
    "meta_folder = \"C:\\\\Users\\\\AISG\\\\Documents\\\\Jonas\\\\Helipad\\\\Helipad_DataBase_meta\\\\Helipad_DataBase_meta_original\"\n",
    "model_numbers = [7]\n",
    "test_only = False\n",
    "tms_dataset = False\n",
    "zoom_level = None\n",
    "city_lat = None\n",
    "test_categories = [\"4\", \"7\", \"d\", \"u\"]\n",
    "\n",
    "run_benchmark = RunBenchmark(image_folder,\n",
    "                             meta_folder,\n",
    "                             model_numbers,\n",
    "                             test_only=test_only,\n",
    "                             tms_dataset=tms_dataset,\n",
    "                             include_category=test_categories,\n",
    "                             zoom_level=zoom_level,\n",
    "                             city_lat=city_lat)\n",
    "\n",
    "threshold_validation = None\n",
    "\n",
    "run_benchmark.run(threshold_validation=threshold_validation)"
   ]
  },
  {
   "cell_type": "markdown",
   "metadata": {},
   "source": [
    "# Run Prediction on Satellite Images"
   ]
  },
  {
   "cell_type": "code",
   "execution_count": null,
   "metadata": {},
   "outputs": [
    {
     "name": "stderr",
     "output_type": "stream",
     "text": [
      "C:\\Users\\AISG\\Anaconda3\\envs\\tf-gpu_1.13\\lib\\site-packages\\tensorflow\\python\\framework\\dtypes.py:526: FutureWarning: Passing (type, 1) or '1type' as a synonym of type is deprecated; in a future version of numpy, it will be understood as (type, (1,)) / '(1,)type'.\n",
      "  _np_qint8 = np.dtype([(\"qint8\", np.int8, 1)])\n",
      "C:\\Users\\AISG\\Anaconda3\\envs\\tf-gpu_1.13\\lib\\site-packages\\tensorflow\\python\\framework\\dtypes.py:527: FutureWarning: Passing (type, 1) or '1type' as a synonym of type is deprecated; in a future version of numpy, it will be understood as (type, (1,)) / '(1,)type'.\n",
      "  _np_quint8 = np.dtype([(\"quint8\", np.uint8, 1)])\n",
      "C:\\Users\\AISG\\Anaconda3\\envs\\tf-gpu_1.13\\lib\\site-packages\\tensorflow\\python\\framework\\dtypes.py:528: FutureWarning: Passing (type, 1) or '1type' as a synonym of type is deprecated; in a future version of numpy, it will be understood as (type, (1,)) / '(1,)type'.\n",
      "  _np_qint16 = np.dtype([(\"qint16\", np.int16, 1)])\n",
      "C:\\Users\\AISG\\Anaconda3\\envs\\tf-gpu_1.13\\lib\\site-packages\\tensorflow\\python\\framework\\dtypes.py:529: FutureWarning: Passing (type, 1) or '1type' as a synonym of type is deprecated; in a future version of numpy, it will be understood as (type, (1,)) / '(1,)type'.\n",
      "  _np_quint16 = np.dtype([(\"quint16\", np.uint16, 1)])\n",
      "C:\\Users\\AISG\\Anaconda3\\envs\\tf-gpu_1.13\\lib\\site-packages\\tensorflow\\python\\framework\\dtypes.py:530: FutureWarning: Passing (type, 1) or '1type' as a synonym of type is deprecated; in a future version of numpy, it will be understood as (type, (1,)) / '(1,)type'.\n",
      "  _np_qint32 = np.dtype([(\"qint32\", np.int32, 1)])\n",
      "C:\\Users\\AISG\\Anaconda3\\envs\\tf-gpu_1.13\\lib\\site-packages\\tensorflow\\python\\framework\\dtypes.py:535: FutureWarning: Passing (type, 1) or '1type' as a synonym of type is deprecated; in a future version of numpy, it will be understood as (type, (1,)) / '(1,)type'.\n",
      "  np_resource = np.dtype([(\"resource\", np.ubyte, 1)])\n",
      "Using TensorFlow backend.\n"
     ]
    },
    {
     "name": "stdout",
     "output_type": "stream",
     "text": [
      "WARNING:tensorflow:From C:\\Users\\AISG\\Anaconda3\\envs\\tf-gpu_1.13\\lib\\site-packages\\tensorflow\\python\\framework\\op_def_library.py:263: colocate_with (from tensorflow.python.framework.ops) is deprecated and will be removed in a future version.\n",
      "Instructions for updating:\n",
      "Colocations handled automatically by placer.\n",
      "WARNING:tensorflow:From C:\\Users\\AISG\\Anaconda3\\envs\\tf-gpu_1.13\\lib\\site-packages\\mask_rcnn-2.1-py3.7.egg\\mrcnn\\model.py:772: to_float (from tensorflow.python.ops.math_ops) is deprecated and will be removed in a future version.\n",
      "Instructions for updating:\n",
      "Use tf.cast instead.\n"
     ]
    },
    {
     "name": "stderr",
     "output_type": "stream",
     "text": [
      "  0%|                                                           | 137/263496 [00:00<03:13, 1359.69it/s]"
     ]
    },
    {
     "name": "stdout",
     "output_type": "stream",
     "text": [
      "Re-starting from epoch 899\n"
     ]
    },
    {
     "name": "stderr",
     "output_type": "stream",
     "text": [
      "  5%|██▉                                                     | 13544/263496 [46:13<17:38:53,  3.93it/s]"
     ]
    },
    {
     "name": "stdout",
     "output_type": "stream",
     "text": [
      "[0.9931216835975647]\n",
      "14.531971774570748\n",
      "120.59505969285966\n"
     ]
    },
    {
     "name": "stderr",
     "output_type": "stream",
     "text": [
      "  5%|██▉                                                     | 13772/263496 [47:11<17:53:07,  3.88it/s]"
     ]
    },
    {
     "name": "stdout",
     "output_type": "stream",
     "text": [
      "[0.7685009837150574]\n",
      "14.534174808294315\n",
      "120.59587374329567\n"
     ]
    },
    {
     "name": "stderr",
     "output_type": "stream",
     "text": [
      "  5%|███                                                     | 14448/263496 [50:01<18:08:57,  3.81it/s]"
     ]
    },
    {
     "name": "stdout",
     "output_type": "stream",
     "text": [
      "[0.9036515355110168]\n",
      "14.534692784140269\n",
      "120.59793904423714\n"
     ]
    },
    {
     "name": "stderr",
     "output_type": "stream",
     "text": [
      "  6%|███                                                     | 14673/263496 [50:57<18:13:35,  3.79it/s]"
     ]
    },
    {
     "name": "stdout",
     "output_type": "stream",
     "text": [
      "[0.9081724286079407]\n",
      "14.534855057059685\n",
      "120.59873029589653\n"
     ]
    },
    {
     "name": "stderr",
     "output_type": "stream",
     "text": [
      "  6%|███▎                                                    | 15342/263496 [53:46<17:33:35,  3.93it/s]"
     ]
    },
    {
     "name": "stdout",
     "output_type": "stream",
     "text": [
      "[0.9540883302688599]\n",
      "14.53083454879705\n",
      "120.60089617967606\n"
     ]
    },
    {
     "name": "stderr",
     "output_type": "stream",
     "text": [
      "  6%|███▎                                                    | 15344/263496 [53:47<17:24:16,  3.96it/s]"
     ]
    },
    {
     "name": "stdout",
     "output_type": "stream",
     "text": [
      "[0.8345561623573303]\n",
      "14.53196658177486\n",
      "120.60091897845268\n"
     ]
    },
    {
     "name": "stderr",
     "output_type": "stream",
     "text": [
      "  6%|███▎                                                    | 15347/263496 [53:48<17:43:45,  3.89it/s]"
     ]
    },
    {
     "name": "stdout",
     "output_type": "stream",
     "text": [
      "[0.9668570160865784]\n",
      "14.53401123669959\n",
      "120.60091361403465\n"
     ]
    },
    {
     "name": "stderr",
     "output_type": "stream",
     "text": [
      "  6%|███▎                                                    | 15567/263496 [54:42<18:10:41,  3.79it/s]"
     ]
    },
    {
     "name": "stdout",
     "output_type": "stream",
     "text": [
      "[0.7087214589118958]\n",
      "14.530594380542887\n",
      "120.60127571225166\n"
     ]
    },
    {
     "name": "stderr",
     "output_type": "stream",
     "text": [
      "  6%|███▎                                                    | 15569/263496 [54:43<18:19:04,  3.76it/s]"
     ]
    },
    {
     "name": "stdout",
     "output_type": "stream",
     "text": [
      "[0.9889504313468933]\n",
      "14.531969178172803\n",
      "120.6012274324894\n"
     ]
    },
    {
     "name": "stderr",
     "output_type": "stream",
     "text": [
      "  6%|███▎                                                    | 15572/263496 [54:43<18:05:21,  3.81it/s]"
     ]
    },
    {
     "name": "stdout",
     "output_type": "stream",
     "text": [
      "[0.926888644695282]\n",
      "14.534039796819304\n",
      "120.60125827789307\n"
     ]
    },
    {
     "name": "stderr",
     "output_type": "stream",
     "text": [
      "  6%|███▎                                                    | 15792/263496 [55:38<17:33:35,  3.92it/s]"
     ]
    },
    {
     "name": "stdout",
     "output_type": "stream",
     "text": [
      "[0.9896115064620972]\n",
      "14.530847530864841\n",
      "120.60198649764061\n"
     ]
    },
    {
     "name": "stderr",
     "output_type": "stream",
     "text": [
      "  6%|███▎                                                    | 15794/263496 [55:39<17:46:04,  3.87it/s]"
     ]
    },
    {
     "name": "stdout",
     "output_type": "stream",
     "text": [
      "[0.8250635266304016, 0.7890599966049194]\n",
      "14.532172995411395\n",
      "120.6020200252533\n",
      "14.532200257589805\n",
      "120.60232311487198\n"
     ]
    },
    {
     "name": "stderr",
     "output_type": "stream",
     "text": [
      "  6%|███▍                                                    | 16249/263496 [57:32<17:46:06,  3.87it/s]"
     ]
    },
    {
     "name": "stdout",
     "output_type": "stream",
     "text": [
      "[0.8914943337440491, 0.7839738726615906]\n",
      "14.535413274863865\n",
      "120.60360923409462\n",
      "14.535401591248808\n",
      "120.60337990522385\n"
     ]
    },
    {
     "name": "stderr",
     "output_type": "stream",
     "text": [
      "  6%|███▍                                                    | 16269/263496 [57:36<16:36:01,  4.14it/s]"
     ]
    },
    {
     "name": "stdout",
     "output_type": "stream",
     "text": [
      "[0.9076822400093079]\n",
      "14.54852709372959\n",
      "120.60339465737343\n"
     ]
    },
    {
     "name": "stderr",
     "output_type": "stream",
     "text": [
      "  6%|███▍                                                    | 16455/263496 [58:22<17:48:52,  3.85it/s]"
     ]
    },
    {
     "name": "stdout",
     "output_type": "stream",
     "text": [
      "[0.8917868137359619]\n",
      "14.522607662662093\n",
      "120.60431465506554\n"
     ]
    },
    {
     "name": "stderr",
     "output_type": "stream",
     "text": [
      "  6%|███▌                                                    | 16474/263496 [58:27<17:53:09,  3.84it/s]"
     ]
    },
    {
     "name": "stdout",
     "output_type": "stream",
     "text": [
      "[0.8578156232833862]\n",
      "14.535426256658374\n",
      "120.60403302311897\n"
     ]
    },
    {
     "name": "stderr",
     "output_type": "stream",
     "text": [
      "  6%|███▍                                                  | 17067/263496 [1:00:54<17:33:18,  3.90it/s]"
     ]
    },
    {
     "name": "stdout",
     "output_type": "stream",
     "text": [
      "[0.9736930131912231]\n",
      "14.481177781753688\n",
      "120.60627803206444\n"
     ]
    },
    {
     "name": "stderr",
     "output_type": "stream",
     "text": [
      "  7%|███▌                                                  | 17355/263496 [1:02:06<18:39:42,  3.66it/s]"
     ]
    },
    {
     "name": "stdout",
     "output_type": "stream",
     "text": [
      "[0.7633040547370911]\n",
      "14.522664785820908\n",
      "120.60666158795357\n"
     ]
    },
    {
     "name": "stderr",
     "output_type": "stream",
     "text": [
      "  7%|███▌                                                  | 17545/263496 [1:02:53<17:11:39,  3.97it/s]"
     ]
    },
    {
     "name": "stdout",
     "output_type": "stream",
     "text": [
      "[0.9809541702270508]\n",
      "14.499645541136452\n",
      "120.60763388872147\n"
     ]
    },
    {
     "name": "stderr",
     "output_type": "stream",
     "text": [
      "  7%|███▋                                                  | 17743/263496 [1:03:42<17:28:04,  3.91it/s]"
     ]
    },
    {
     "name": "stdout",
     "output_type": "stream",
     "text": [
      "[0.9931025505065918]\n",
      "14.481468644812773\n",
      "120.60810461640358\n"
     ]
    },
    {
     "name": "stderr",
     "output_type": "stream",
     "text": [
      "  7%|███▋                                                  | 17770/263496 [1:03:49<17:15:26,  3.96it/s]"
     ]
    },
    {
     "name": "stdout",
     "output_type": "stream",
     "text": [
      "[0.9450364112854004]\n",
      "14.499430008385913\n",
      "120.60833662748337\n"
     ]
    },
    {
     "name": "stderr",
     "output_type": "stream",
     "text": [
      "  8%|████▏                                                 | 20257/263496 [1:13:57<16:58:41,  3.98it/s]"
     ]
    },
    {
     "name": "stdout",
     "output_type": "stream",
     "text": [
      "[0.9266798496246338]\n",
      "14.520269493819884\n",
      "120.61670914292336\n"
     ]
    },
    {
     "name": "stderr",
     "output_type": "stream",
     "text": [
      "  8%|████▏                                                 | 20281/263496 [1:14:02<16:33:48,  4.08it/s]"
     ]
    },
    {
     "name": "stdout",
     "output_type": "stream",
     "text": [
      "[0.8699710369110107]\n",
      "14.535817008419247\n",
      "120.61620086431503\n"
     ]
    },
    {
     "name": "stderr",
     "output_type": "stream",
     "text": [
      "  8%|████▏                                                 | 20436/263496 [1:14:41<16:25:58,  4.11it/s]"
     ]
    },
    {
     "name": "stdout",
     "output_type": "stream",
     "text": [
      "[0.9824475646018982]\n",
      "14.51431945025696\n",
      "120.61724290251732\n"
     ]
    },
    {
     "name": "stderr",
     "output_type": "stream",
     "text": [
      "  8%|████▏                                                 | 20463/263496 [1:14:47<16:25:32,  4.11it/s]"
     ]
    },
    {
     "name": "stdout",
     "output_type": "stream",
     "text": [
      "[0.9767122864723206]\n",
      "14.53195359978514\n",
      "120.61692103743553\n"
     ]
    },
    {
     "name": "stderr",
     "output_type": "stream",
     "text": [
      "  8%|████▍                                                 | 21435/263496 [1:18:47<17:02:41,  3.94it/s]"
     ]
    },
    {
     "name": "stdout",
     "output_type": "stream",
     "text": [
      "[0.9941501617431641]\n",
      "14.417739724916844\n",
      "120.86766332387924\n"
     ]
    },
    {
     "name": "stderr",
     "output_type": "stream",
     "text": [
      "  8%|████▍                                                 | 21442/263496 [1:18:49<17:26:26,  3.86it/s]"
     ]
    },
    {
     "name": "stdout",
     "output_type": "stream",
     "text": [
      "[0.9249107837677002]\n",
      "14.422148039144698\n",
      "120.86795568466187\n"
     ]
    },
    {
     "name": "stderr",
     "output_type": "stream",
     "text": [
      "  8%|████▍                                                 | 21600/263496 [1:19:29<17:11:10,  3.91it/s]"
     ]
    },
    {
     "name": "stdout",
     "output_type": "stream",
     "text": [
      "[0.8496803045272827]\n",
      "14.36659483640497\n",
      "120.86838752031326\n"
     ]
    },
    {
     "name": "stderr",
     "output_type": "stream",
     "text": [
      "  8%|████▍                                                 | 21663/263496 [1:19:45<17:30:20,  3.84it/s]"
     ]
    },
    {
     "name": "stdout",
     "output_type": "stream",
     "text": [
      "[0.8235066533088684]\n",
      "14.408386380815172\n",
      "120.86831107735634\n"
     ]
    },
    {
     "name": "stderr",
     "output_type": "stream",
     "text": [
      "  9%|████▋                                                 | 22683/263496 [1:24:01<17:07:52,  3.90it/s]"
     ]
    },
    {
     "name": "stdout",
     "output_type": "stream",
     "text": [
      "[0.8651293516159058]\n",
      "14.416491509373607\n",
      "120.87125346064568\n"
     ]
    },
    {
     "name": "stderr",
     "output_type": "stream",
     "text": [
      "  9%|████▊                                                 | 23679/263496 [1:28:11<16:29:37,  4.04it/s]"
     ]
    },
    {
     "name": "stdout",
     "output_type": "stream",
     "text": [
      "[0.9900155663490295]\n",
      "14.374354617190692\n",
      "120.87389007210732\n"
     ]
    },
    {
     "name": "stderr",
     "output_type": "stream",
     "text": [
      "  9%|█████                                                 | 24529/263496 [1:31:43<16:40:15,  3.98it/s]"
     ]
    },
    {
     "name": "stdout",
     "output_type": "stream",
     "text": [
      "[0.9029337167739868]\n",
      "14.403076322785536\n",
      "120.8760693669319\n"
     ]
    },
    {
     "name": "stderr",
     "output_type": "stream",
     "text": [
      "  9%|█████                                                 | 24534/263496 [1:31:45<16:37:31,  3.99it/s]"
     ]
    },
    {
     "name": "stdout",
     "output_type": "stream",
     "text": [
      "[0.8156177997589111]\n",
      "14.406457472694008\n",
      "120.8759419620037\n"
     ]
    },
    {
     "name": "stderr",
     "output_type": "stream",
     "text": [
      "  9%|█████                                                 | 24561/263496 [1:31:52<16:51:21,  3.94it/s]"
     ]
    },
    {
     "name": "stdout",
     "output_type": "stream",
     "text": [
      "[0.9875520467758179]\n",
      "14.424431391959144\n",
      "120.87605863809584\n"
     ]
    },
    {
     "name": "stderr",
     "output_type": "stream",
     "text": [
      " 10%|█████▏                                                | 25294/263496 [1:34:55<16:24:22,  4.03it/s]"
     ]
    },
    {
     "name": "stdout",
     "output_type": "stream",
     "text": [
      "[0.9914743900299072]\n",
      "14.372481277690948\n",
      "120.8782486617565\n"
     ]
    },
    {
     "name": "stderr",
     "output_type": "stream",
     "text": [
      " 10%|█████▍                                                | 26336/263496 [1:39:16<16:47:55,  3.92it/s]"
     ]
    },
    {
     "name": "stdout",
     "output_type": "stream",
     "text": [
      "[0.9480203986167908]\n",
      "14.339214548682863\n",
      "120.8808410167694\n"
     ]
    },
    {
     "name": "stderr",
     "output_type": "stream",
     "text": [
      " 10%|█████▌                                                | 27194/263496 [1:42:52<16:43:29,  3.92it/s]"
     ]
    },
    {
     "name": "stdout",
     "output_type": "stream",
     "text": [
      "[0.8868976831436157]\n",
      "14.365272282045844\n",
      "120.88284596800803\n"
     ]
    },
    {
     "name": "stderr",
     "output_type": "stream",
     "text": [
      " 10%|█████▌                                                | 27292/263496 [1:43:17<16:35:02,  3.96it/s]"
     ]
    },
    {
     "name": "stdout",
     "output_type": "stream",
     "text": [
      "[0.9252243041992188]\n",
      "14.430409821191887\n",
      "120.8827333152294\n"
     ]
    },
    {
     "name": "stderr",
     "output_type": "stream",
     "text": [
      " 10%|█████▋                                                | 27581/263496 [1:44:30<16:37:30,  3.94it/s]"
     ]
    },
    {
     "name": "stdout",
     "output_type": "stream",
     "text": [
      "[0.7039227485656738]\n",
      "14.44089863479883\n",
      "120.88371500372887\n"
     ]
    },
    {
     "name": "stderr",
     "output_type": "stream",
     "text": [
      " 11%|█████▋                                                | 27782/263496 [1:45:20<16:46:54,  3.90it/s]"
     ]
    },
    {
     "name": "stdout",
     "output_type": "stream",
     "text": [
      "[0.792855978012085]\n",
      "14.392970237060538\n",
      "120.88426753878595\n"
     ]
    },
    {
     "name": "stderr",
     "output_type": "stream",
     "text": [
      " 11%|█████▊                                                | 28358/263496 [1:47:45<17:22:24,  3.76it/s]"
     ]
    },
    {
     "name": "stdout",
     "output_type": "stream",
     "text": [
      "[0.7602925896644592]\n",
      "14.413213124305551\n",
      "120.88579371571542\n"
     ]
    },
    {
     "name": "stderr",
     "output_type": "stream",
     "text": [
      " 11%|█████▊                                                | 28623/263496 [1:48:53<16:51:24,  3.87it/s]"
     ]
    },
    {
     "name": "stdout",
     "output_type": "stream",
     "text": [
      "[0.8169746994972229]\n",
      "14.407801864968905\n",
      "120.88622957468034\n"
     ]
    },
    {
     "name": "stderr",
     "output_type": "stream",
     "text": [
      " 11%|█████▊                                                | 28627/263496 [1:48:54<17:10:21,  3.80it/s]"
     ]
    },
    {
     "name": "stdout",
     "output_type": "stream",
     "text": [
      "[0.9874899983406067]\n",
      "14.410337353753603\n",
      "120.8862751722336\n"
     ]
    },
    {
     "name": "stderr",
     "output_type": "stream",
     "text": [
      " 11%|█████▊                                                | 28647/263496 [1:48:59<16:41:04,  3.91it/s]"
     ]
    },
    {
     "name": "stdout",
     "output_type": "stream",
     "text": [
      "[0.716887891292572]\n",
      "14.42376768939784\n",
      "120.8863851428032\n"
     ]
    },
    {
     "name": "stderr",
     "output_type": "stream",
     "text": [
      " 11%|█████▉                                                | 28716/263496 [1:49:16<16:51:01,  3.87it/s]"
     ]
    },
    {
     "name": "stdout",
     "output_type": "stream",
     "text": [
      "[0.9107228517532349]\n",
      "14.469594882442694\n",
      "120.88653132319452\n"
     ]
    },
    {
     "name": "stderr",
     "output_type": "stream",
     "text": [
      " 11%|█████▉                                                | 28887/263496 [1:50:00<16:32:53,  3.94it/s]"
     ]
    },
    {
     "name": "stdout",
     "output_type": "stream",
     "text": [
      "[0.968310534954071]\n",
      "14.40164487164951\n",
      "120.88700875639917\n"
     ]
    },
    {
     "name": "stderr",
     "output_type": "stream",
     "text": [
      " 11%|█████▉                                                | 28892/263496 [1:50:01<17:31:13,  3.72it/s]"
     ]
    },
    {
     "name": "stdout",
     "output_type": "stream",
     "text": [
      "[0.9924650192260742]\n",
      "14.405140350090978\n",
      "120.8871763944626\n"
     ]
    },
    {
     "name": "stderr",
     "output_type": "stream",
     "text": [
      " 11%|█████▉                                                | 28902/263496 [1:50:04<17:34:24,  3.71it/s]"
     ]
    },
    {
     "name": "stdout",
     "output_type": "stream",
     "text": [
      "[0.9707013368606567]\n",
      "14.411667434699984\n",
      "120.88686257600786\n"
     ]
    },
    {
     "name": "stderr",
     "output_type": "stream",
     "text": [
      " 11%|█████▉                                                | 29127/263496 [1:51:01<16:09:27,  4.03it/s]"
     ]
    },
    {
     "name": "stdout",
     "output_type": "stream",
     "text": [
      "[0.9816234111785889]\n",
      "14.37990828786767\n",
      "120.88777452707292\n"
     ]
    },
    {
     "name": "stderr",
     "output_type": "stream",
     "text": [
      " 11%|█████▉                                                | 29154/263496 [1:51:07<16:30:55,  3.94it/s]"
     ]
    },
    {
     "name": "stdout",
     "output_type": "stream",
     "text": [
      "[0.8329695463180542]\n",
      "14.397653126742124\n",
      "120.88799983263017\n"
     ]
    },
    {
     "name": "stderr",
     "output_type": "stream",
     "text": [
      " 11%|█████▉                                                | 29189/263496 [1:51:16<16:46:28,  3.88it/s]"
     ]
    },
    {
     "name": "stdout",
     "output_type": "stream",
     "text": [
      "[0.9672069549560547]\n",
      "14.421105066287756\n",
      "120.88779464364053\n"
     ]
    },
    {
     "name": "stderr",
     "output_type": "stream",
     "text": [
      " 11%|██████                                                | 29435/263496 [1:52:18<17:00:13,  3.82it/s]"
     ]
    },
    {
     "name": "stdout",
     "output_type": "stream",
     "text": [
      "[0.9846540093421936]\n",
      "14.40305813744013\n",
      "120.88835656642915\n"
     ]
    },
    {
     "name": "stderr",
     "output_type": "stream",
     "text": [
      " 11%|██████                                                | 29710/263496 [1:53:28<16:39:32,  3.90it/s]"
     ]
    },
    {
     "name": "stdout",
     "output_type": "stream",
     "text": [
      "[0.977997362613678]\n",
      "14.404351891323449\n",
      "120.88900968432428\n"
     ]
    },
    {
     "name": "stderr",
     "output_type": "stream",
     "text": [
      " 11%|██████▏                                               | 29980/263496 [1:54:35<16:42:58,  3.88it/s]"
     ]
    },
    {
     "name": "stdout",
     "output_type": "stream",
     "text": [
      "[0.7128275632858276]\n",
      "14.402626884568406\n",
      "120.889590382576\n"
     ]
    },
    {
     "name": "stderr",
     "output_type": "stream",
     "text": [
      " 11%|██████▏                                               | 29989/263496 [1:54:38<16:38:29,  3.90it/s]"
     ]
    },
    {
     "name": "stdout",
     "output_type": "stream",
     "text": [
      "[0.7988890409469604]\n",
      "14.408316239013088\n",
      "120.88986396789552\n"
     ]
    },
    {
     "name": "stderr",
     "output_type": "stream",
     "text": [
      " 11%|██████▏                                               | 30200/263496 [1:55:31<16:16:45,  3.98it/s]"
     ]
    },
    {
     "name": "stdout",
     "output_type": "stream",
     "text": [
      "[0.9874322414398193]\n",
      "14.367032654770991\n",
      "120.89049562811853\n"
     ]
    },
    {
     "name": "stderr",
     "output_type": "stream",
     "text": [
      " 11%|██████▏                                               | 30299/263496 [1:55:56<16:30:54,  3.92it/s]"
     ]
    },
    {
     "name": "stdout",
     "output_type": "stream",
     "text": [
      "[0.9374567866325378]\n",
      "14.432967131978604\n",
      "120.89062839746477\n"
     ]
    },
    {
     "name": "stderr",
     "output_type": "stream",
     "text": [
      " 12%|██████▎                                               | 30532/263496 [1:56:55<16:20:52,  3.96it/s]"
     ]
    },
    {
     "name": "stdout",
     "output_type": "stream",
     "text": [
      "[0.9938481450080872]\n",
      "14.406444483355203\n",
      "120.89133515954019\n"
     ]
    },
    {
     "name": "stderr",
     "output_type": "stream",
     "text": [
      " 12%|██████▎                                               | 30579/263496 [1:57:07<16:38:42,  3.89it/s]"
     ]
    },
    {
     "name": "stdout",
     "output_type": "stream",
     "text": [
      "[0.8304920792579651]\n",
      "14.437553073859503\n",
      "120.89124932885171\n"
     ]
    },
    {
     "name": "stderr",
     "output_type": "stream",
     "text": [
      " 12%|██████▎                                               | 30635/263496 [1:57:21<16:32:32,  3.91it/s]"
     ]
    },
    {
     "name": "stdout",
     "output_type": "stream",
     "text": [
      "[0.9454459547996521]\n",
      "14.47486569591253\n",
      "120.89110583066942\n"
     ]
    },
    {
     "name": "stderr",
     "output_type": "stream",
     "text": [
      " 12%|██████▎                                               | 31039/263496 [1:59:03<16:22:51,  3.94it/s]"
     ]
    },
    {
     "name": "stdout",
     "output_type": "stream",
     "text": [
      "[0.9888902902603149]\n",
      "14.380437016089699\n",
      "120.89240401983263\n"
     ]
    },
    {
     "name": "stderr",
     "output_type": "stream",
     "text": [
      " 12%|██████▎                                               | 31076/263496 [1:59:12<16:54:41,  3.82it/s]"
     ]
    },
    {
     "name": "stdout",
     "output_type": "stream",
     "text": [
      "[0.7876607179641724]\n",
      "14.40511307231683\n",
      "120.89243888854982\n"
     ]
    },
    {
     "name": "stderr",
     "output_type": "stream",
     "text": [
      "\r",
      " 12%|██████▎                                               | 31077/263496 [1:59:12<16:33:04,  3.90it/s]"
     ]
    },
    {
     "name": "stdout",
     "output_type": "stream",
     "text": [
      "[0.9196555018424988]\n",
      "14.405770335733997\n",
      "120.89254081249237\n"
     ]
    },
    {
     "name": "stderr",
     "output_type": "stream",
     "text": [
      " 12%|██████▍                                               | 31375/263496 [2:00:27<15:59:45,  4.03it/s]"
     ]
    },
    {
     "name": "stdout",
     "output_type": "stream",
     "text": [
      "[0.9419737458229065]\n",
      "14.422444174865806\n",
      "120.89318051934242\n"
     ]
    },
    {
     "name": "stderr",
     "output_type": "stream",
     "text": [
      " 12%|██████▍                                               | 31456/263496 [2:00:48<16:21:38,  3.94it/s]"
     ]
    },
    {
     "name": "stdout",
     "output_type": "stream",
     "text": [
      "[0.861746609210968]\n",
      "14.476381080357578\n",
      "120.89348763227463\n"
     ]
    },
    {
     "name": "stderr",
     "output_type": "stream",
     "text": [
      " 12%|██████▍                                               | 31644/263496 [2:01:35<16:03:32,  4.01it/s]"
     ]
    },
    {
     "name": "stdout",
     "output_type": "stream",
     "text": [
      "[0.9579113721847534]\n",
      "14.419638661735876\n",
      "120.89388996362686\n"
     ]
    },
    {
     "name": "stderr",
     "output_type": "stream",
     "text": [
      " 12%|██████▌                                               | 32163/263496 [2:03:47<16:11:04,  3.97it/s]"
     ]
    },
    {
     "name": "stdout",
     "output_type": "stream",
     "text": [
      "[0.9680850505828857]\n",
      "14.40183451995365\n",
      "120.89542955160141\n"
     ]
    },
    {
     "name": "stderr",
     "output_type": "stream",
     "text": [
      " 12%|██████▌                                               | 32194/263496 [2:03:55<16:40:41,  3.85it/s]"
     ]
    },
    {
     "name": "stdout",
     "output_type": "stream",
     "text": [
      "[0.9882197380065918]\n",
      "14.422403910798462\n",
      "120.89536115527153\n"
     ]
    },
    {
     "name": "stderr",
     "output_type": "stream",
     "text": [
      " 12%|██████▋                                               | 32592/263496 [2:05:34<15:39:03,  4.10it/s]"
     ]
    },
    {
     "name": "stdout",
     "output_type": "stream",
     "text": [
      "[0.866281270980835]\n",
      "14.323753355331633\n",
      "120.89662581682205\n"
     ]
    },
    {
     "name": "stderr",
     "output_type": "stream",
     "text": [
      " 12%|██████▋                                               | 32865/263496 [2:06:42<15:49:56,  4.05it/s]"
     ]
    },
    {
     "name": "stdout",
     "output_type": "stream",
     "text": [
      "[0.9660240411758423]\n",
      "14.323998944364382\n",
      "120.89723601937294\n"
     ]
    },
    {
     "name": "stderr",
     "output_type": "stream",
     "text": [
      " 13%|██████▊                                               | 32983/263496 [2:07:12<15:46:22,  4.06it/s]"
     ]
    },
    {
     "name": "stdout",
     "output_type": "stream",
     "text": [
      "[0.9265987873077393]\n",
      "14.402439834743792\n",
      "120.89731246232986\n"
     ]
    },
    {
     "name": "stderr",
     "output_type": "stream",
     "text": [
      " 13%|██████▊                                               | 32989/263496 [2:07:14<16:27:02,  3.89it/s]"
     ]
    },
    {
     "name": "stdout",
     "output_type": "stream",
     "text": [
      "[0.928496241569519]\n",
      "14.406309394231634\n",
      "120.8973741531372\n"
     ]
    },
    {
     "name": "stderr",
     "output_type": "stream",
     "text": [
      " 13%|██████▊                                               | 33181/263496 [2:08:02<16:50:13,  3.80it/s]"
     ]
    },
    {
     "name": "stdout",
     "output_type": "stream",
     "text": [
      "[0.789803147315979]\n",
      "14.352434783901826\n",
      "120.89810371398926\n"
     ]
    },
    {
     "name": "stderr",
     "output_type": "stream",
     "text": [
      " 13%|██████▉                                               | 33551/263496 [2:09:35<16:17:04,  3.92it/s]"
     ]
    },
    {
     "name": "stdout",
     "output_type": "stream",
     "text": [
      "[0.9827368259429932]\n",
      "14.417131853913942\n",
      "120.89884132146835\n"
     ]
    },
    {
     "name": "stderr",
     "output_type": "stream",
     "text": [
      " 13%|██████▉                                               | 33574/263496 [2:09:40<15:51:03,  4.03it/s]"
     ]
    },
    {
     "name": "stdout",
     "output_type": "stream",
     "text": [
      "[0.9284769296646118]\n",
      "14.432319040248045\n",
      "120.89857175946236\n"
     ]
    },
    {
     "name": "stderr",
     "output_type": "stream",
     "text": [
      " 13%|██████▉                                               | 33696/263496 [2:10:11<16:05:43,  3.97it/s]"
     ]
    },
    {
     "name": "stdout",
     "output_type": "stream",
     "text": [
      "[0.9816743731498718]\n",
      "14.332087641429316\n",
      "120.89933082461357\n"
     ]
    },
    {
     "name": "stderr",
     "output_type": "stream",
     "text": [
      " 13%|██████▉                                               | 33698/263496 [2:10:11<16:15:54,  3.92it/s]"
     ]
    },
    {
     "name": "stdout",
     "output_type": "stream",
     "text": [
      "[0.7785022258758545]\n",
      "14.33320119496721\n",
      "120.8994448184967\n"
     ]
    },
    {
     "name": "stderr",
     "output_type": "stream",
     "text": [
      " 13%|██████▉                                               | 33809/263496 [2:10:39<16:20:53,  3.90it/s]"
     ]
    },
    {
     "name": "stdout",
     "output_type": "stream",
     "text": [
      "[0.7204925417900085]\n",
      "14.406861440797753\n",
      "120.89958429336548\n"
     ]
    },
    {
     "name": "stderr",
     "output_type": "stream",
     "text": [
      " 13%|██████▉                                               | 33957/263496 [2:11:16<15:56:02,  4.00it/s]"
     ]
    },
    {
     "name": "stdout",
     "output_type": "stream",
     "text": [
      "[0.9806862473487854]\n",
      "14.3240899032654\n",
      "120.9001998603344\n"
     ]
    },
    {
     "name": "stderr",
     "output_type": "stream",
     "text": [
      " 13%|███████                                               | 34301/263496 [2:12:42<16:11:34,  3.93it/s]"
     ]
    },
    {
     "name": "stdout",
     "output_type": "stream",
     "text": [
      "[0.8952250480651855]\n",
      "14.371188638331542\n",
      "120.90065449476242\n"
     ]
    },
    {
     "name": "stderr",
     "output_type": "stream",
     "text": [
      " 13%|███████                                               | 34336/263496 [2:12:51<16:06:27,  3.95it/s]"
     ]
    },
    {
     "name": "stdout",
     "output_type": "stream",
     "text": [
      "[0.9724341630935669]\n",
      "14.39430951456827\n",
      "120.9008663892746\n"
     ]
    },
    {
     "name": "stderr",
     "output_type": "stream",
     "text": [
      " 14%|███████▎                                              | 35576/263496 [2:18:03<15:55:38,  3.97it/s]"
     ]
    },
    {
     "name": "stdout",
     "output_type": "stream",
     "text": [
      "[0.9123836755752563]\n",
      "14.492895112606718\n",
      "120.90349361300468\n"
     ]
    },
    {
     "name": "stderr",
     "output_type": "stream",
     "text": [
      " 14%|███████▎                                              | 35624/263496 [2:18:15<16:46:51,  3.77it/s]"
     ]
    },
    {
     "name": "stdout",
     "output_type": "stream",
     "text": [
      "[0.9858338236808777]\n",
      "14.343248914461109\n",
      "120.9041266143322\n"
     ]
    },
    {
     "name": "stderr",
     "output_type": "stream",
     "text": [
      " 14%|███████▎                                              | 35882/263496 [2:19:20<16:28:07,  3.84it/s]"
     ]
    },
    {
     "name": "stdout",
     "output_type": "stream",
     "text": [
      "[0.8968382477760315]\n",
      "14.33345327059731\n",
      "120.90504392981529\n"
     ]
    },
    {
     "name": "stderr",
     "output_type": "stream",
     "text": [
      " 14%|███████▍                                              | 36584/263496 [2:22:19<16:09:36,  3.90it/s]"
     ]
    },
    {
     "name": "stdout",
     "output_type": "stream",
     "text": [
      "[0.7562708258628845]\n",
      "14.436912788009375\n",
      "120.90638503432274\n"
     ]
    },
    {
     "name": "stderr",
     "output_type": "stream",
     "text": [
      " 14%|███████▌                                              | 36710/263496 [2:22:50<16:09:30,  3.90it/s]"
     ]
    },
    {
     "name": "stdout",
     "output_type": "stream",
     "text": [
      "[0.952006995677948]\n",
      "14.339091112882285\n",
      "120.90697512030602\n"
     ]
    },
    {
     "name": "stderr",
     "output_type": "stream",
     "text": [
      " 14%|███████▌                                              | 36926/263496 [2:23:45<16:15:48,  3.87it/s]"
     ]
    },
    {
     "name": "stdout",
     "output_type": "stream",
     "text": [
      "[0.9896211624145508]\n",
      "14.482842448997253\n",
      "120.90687051415443\n"
     ]
    },
    {
     "name": "stderr",
     "output_type": "stream",
     "text": [
      " 14%|███████▌                                              | 36945/263496 [2:23:49<15:49:07,  3.98it/s]"
     ]
    },
    {
     "name": "stdout",
     "output_type": "stream",
     "text": [
      "[0.9943981766700745, 0.9930108189582825]\n",
      "14.495602320120419\n",
      "120.90682491660118\n",
      "14.495719177329613\n",
      "120.90711325407028\n"
     ]
    },
    {
     "name": "stderr",
     "output_type": "stream",
     "text": [
      " 14%|███████▋                                              | 37413/263496 [2:25:49<16:08:07,  3.89it/s]"
     ]
    },
    {
     "name": "stdout",
     "output_type": "stream",
     "text": [
      "[0.7879312038421631]\n",
      "14.443794790204281\n",
      "120.90826660394669\n"
     ]
    },
    {
     "name": "stderr",
     "output_type": "stream",
     "text": [
      " 14%|███████▋                                              | 37632/263496 [2:26:44<16:13:21,  3.87it/s]"
     ]
    },
    {
     "name": "stdout",
     "output_type": "stream",
     "text": [
      "[0.9897398948669434]\n",
      "14.407935654360724\n",
      "120.90904578566551\n"
     ]
    },
    {
     "name": "stderr",
     "output_type": "stream",
     "text": [
      " 14%|███████▋                                              | 37804/263496 [2:27:28<15:58:29,  3.92it/s]"
     ]
    },
    {
     "name": "stdout",
     "output_type": "stream",
     "text": [
      "[0.764331579208374]\n",
      "14.340584032357787\n",
      "120.9096197783947\n"
     ]
    },
    {
     "name": "stderr",
     "output_type": "stream",
     "text": [
      " 14%|███████▊                                              | 37843/263496 [2:27:38<16:00:36,  3.92it/s]"
     ]
    },
    {
     "name": "stdout",
     "output_type": "stream",
     "text": [
      "[0.9579057693481445]\n",
      "14.366398662344322\n",
      "120.90971633791924\n"
     ]
    },
    {
     "name": "stderr",
     "output_type": "stream",
     "text": [
      " 14%|███████▊                                              | 38078/263496 [2:28:38<15:55:28,  3.93it/s]"
     ]
    },
    {
     "name": "stdout",
     "output_type": "stream",
     "text": [
      "[0.9443132281303406]\n",
      "14.34134283188058\n",
      "120.91032654047012\n"
     ]
    },
    {
     "name": "stderr",
     "output_type": "stream",
     "text": [
      " 15%|███████▊                                              | 38312/263496 [2:29:37<15:39:28,  3.99it/s]"
     ]
    },
    {
     "name": "stdout",
     "output_type": "stream",
     "text": [
      "[0.9942004680633545, 0.9928762912750244, 0.9920681715011597]\n",
      "14.49695136706048\n",
      "120.91042578220367\n",
      "14.49689943083466\n",
      "120.91029435396194\n",
      "14.497004601691946\n",
      "120.9105558693409\n"
     ]
    },
    {
     "name": "stderr",
     "output_type": "stream",
     "text": [
      " 15%|███████▊                                              | 38347/263496 [2:29:45<15:54:27,  3.93it/s]"
     ]
    },
    {
     "name": "stdout",
     "output_type": "stream",
     "text": [
      "[0.7832111716270447]\n",
      "14.33838817695011\n",
      "120.91115802526474\n"
     ]
    },
    {
     "name": "stderr",
     "output_type": "stream",
     "text": [
      " 15%|███████▉                                              | 38494/263496 [2:30:22<15:43:29,  3.97it/s]"
     ]
    },
    {
     "name": "stdout",
     "output_type": "stream",
     "text": [
      "[0.9896120429039001]\n",
      "14.436246525131283\n",
      "120.91124787926674\n"
     ]
    },
    {
     "name": "stderr",
     "output_type": "stream",
     "text": [
      " 15%|███████▉                                              | 38585/263496 [2:30:45<15:43:52,  3.97it/s]"
     ]
    },
    {
     "name": "stdout",
     "output_type": "stream",
     "text": [
      "[0.9549533128738403, 0.9352958798408508, 0.7062541246414185]\n",
      "14.497124055011332\n",
      "120.9112948179245\n",
      "14.497108474143586\n",
      "120.91081336140633\n",
      "14.496831913741094\n",
      "120.91128274798393\n"
     ]
    },
    {
     "name": "stderr",
     "output_type": "stream",
     "text": [
      "\r",
      " 15%|███████▉                                              | 38586/263496 [2:30:45<16:01:19,  3.90it/s]"
     ]
    },
    {
     "name": "stdout",
     "output_type": "stream",
     "text": [
      "[0.9962766766548157, 0.9941400289535522]\n",
      "14.497373348310976\n",
      "120.91119155287743\n",
      "14.497420090773984\n",
      "120.91130420565605\n"
     ]
    },
    {
     "name": "stderr",
     "output_type": "stream",
     "text": [
      " 15%|███████▉                                              | 38856/263496 [2:31:52<15:42:04,  3.97it/s]"
     ]
    },
    {
     "name": "stdout",
     "output_type": "stream",
     "text": [
      "[0.9939061999320984]\n",
      "14.495537399448644\n",
      "120.91199487447739\n"
     ]
    },
    {
     "name": "stderr",
     "output_type": "stream",
     "text": [
      " 15%|███████▉                                              | 38858/263496 [2:31:53<15:51:48,  3.93it/s]"
     ]
    },
    {
     "name": "stdout",
     "output_type": "stream",
     "text": [
      "[0.9961036443710327, 0.9953881502151489, 0.9940647482872009]\n",
      "14.496955262277417\n",
      "120.91150671243668\n",
      "14.496999408069364\n",
      "120.9116193652153\n",
      "14.497048747483893\n",
      "120.91174006462097\n"
     ]
    },
    {
     "name": "stderr",
     "output_type": "stream",
     "text": [
      "\r",
      " 15%|███████▉                                              | 38859/263496 [2:31:53<15:46:18,  3.96it/s]"
     ]
    },
    {
     "name": "stdout",
     "output_type": "stream",
     "text": [
      "[0.9934049248695374, 0.9923071265220642, 0.8365017175674438]\n",
      "14.497512277298249\n",
      "120.91154024004936\n",
      "14.497281161786711\n",
      "120.91164350509644\n",
      "14.497246104939455\n",
      "120.9115281701088\n"
     ]
    },
    {
     "name": "stderr",
     "output_type": "stream",
     "text": [
      " 15%|███████▉                                              | 38926/263496 [2:32:10<16:14:07,  3.84it/s]"
     ]
    },
    {
     "name": "stdout",
     "output_type": "stream",
     "text": [
      "[0.9506163001060486]\n",
      "14.360427612902567\n",
      "120.91251522302628\n"
     ]
    },
    {
     "name": "stderr",
     "output_type": "stream",
     "text": [
      " 15%|████████                                              | 39109/263496 [2:32:55<15:25:07,  4.04it/s]"
     ]
    },
    {
     "name": "stdout",
     "output_type": "stream",
     "text": [
      "[0.9678776264190674]\n",
      "14.481985445607114\n",
      "120.91272041201591\n"
     ]
    },
    {
     "name": "stderr",
     "output_type": "stream",
     "text": [
      " 15%|████████                                              | 39129/263496 [2:33:00<15:57:27,  3.91it/s]"
     ]
    },
    {
     "name": "stdout",
     "output_type": "stream",
     "text": [
      "[0.9844106435775757, 0.9797859787940979]\n",
      "14.495663345551888\n",
      "120.91255009174347\n",
      "14.49533614536614\n",
      "120.91263055801392\n"
     ]
    },
    {
     "name": "stderr",
     "output_type": "stream",
     "text": [
      " 15%|████████                                              | 39384/263496 [2:34:04<15:47:21,  3.94it/s]"
     ]
    },
    {
     "name": "stdout",
     "output_type": "stream",
     "text": [
      "[0.904333770275116]\n",
      "14.483528049418686\n",
      "120.91342315077782\n"
     ]
    },
    {
     "name": "stderr",
     "output_type": "stream",
     "text": [
      " 15%|████████                                              | 39468/263496 [2:34:25<16:01:17,  3.88it/s]"
     ]
    },
    {
     "name": "stdout",
     "output_type": "stream",
     "text": [
      "[0.9813743233680725]\n",
      "14.358037069819146\n",
      "120.91371014714241\n"
     ]
    },
    {
     "name": "stderr",
     "output_type": "stream",
     "text": [
      " 15%|████████▏                                             | 40104/263496 [2:37:05<15:43:01,  3.95it/s]"
     ]
    },
    {
     "name": "stdout",
     "output_type": "stream",
     "text": [
      "[0.7938262224197388]\n",
      "14.41793715285533\n",
      "120.91539323329926\n"
     ]
    },
    {
     "name": "stderr",
     "output_type": "stream",
     "text": [
      " 15%|████████▏                                             | 40199/263496 [2:37:29<15:33:38,  3.99it/s]"
     ]
    },
    {
     "name": "stdout",
     "output_type": "stream",
     "text": [
      "[0.9814732670783997]\n",
      "14.480628516641644\n",
      "120.9153114259243\n"
     ]
    },
    {
     "name": "stderr",
     "output_type": "stream",
     "text": [
      " 15%|████████▎                                             | 40768/263496 [2:39:52<15:30:54,  3.99it/s]"
     ]
    },
    {
     "name": "stdout",
     "output_type": "stream",
     "text": [
      "[0.9882148504257202]\n",
      "14.496421617280564\n",
      "120.91671288013458\n"
     ]
    },
    {
     "name": "stderr",
     "output_type": "stream",
     "text": [
      " 16%|████████▊                                             | 42751/263496 [2:48:05<15:21:36,  3.99it/s]"
     ]
    },
    {
     "name": "stdout",
     "output_type": "stream",
     "text": [
      "[0.9647059440612793]\n",
      "14.447798695400405\n",
      "120.91939777135848\n"
     ]
    },
    {
     "name": "stderr",
     "output_type": "stream",
     "text": [
      " 17%|████████▉                                             | 43749/263496 [2:52:11<15:14:26,  4.01it/s]"
     ]
    },
    {
     "name": "stdout",
     "output_type": "stream",
     "text": [
      "[0.9513051509857178]\n",
      "14.427716106045455\n",
      "120.92059805989264\n"
     ]
    },
    {
     "name": "stderr",
     "output_type": "stream",
     "text": [
      " 17%|████████▉                                             | 43782/263496 [2:52:19<15:00:00,  4.07it/s]"
     ]
    },
    {
     "name": "stdout",
     "output_type": "stream",
     "text": [
      "[0.8112819790840149]\n",
      "14.449659713992691\n",
      "120.92095881700514\n"
     ]
    },
    {
     "name": "stderr",
     "output_type": "stream",
     "text": [
      " 17%|█████████                                             | 44107/263496 [2:53:38<15:34:29,  3.91it/s]"
     ]
    },
    {
     "name": "stdout",
     "output_type": "stream",
     "text": [
      "[0.8718942403793335]\n",
      "14.32400544142874\n",
      "120.92123642563818\n"
     ]
    },
    {
     "name": "stderr",
     "output_type": "stream",
     "text": [
      " 17%|█████████                                             | 44122/263496 [2:53:42<15:37:25,  3.90it/s]"
     ]
    },
    {
     "name": "stdout",
     "output_type": "stream",
     "text": [
      "[0.7310777902603149]\n",
      "14.33409125431489\n",
      "120.92157304286955\n"
     ]
    },
    {
     "name": "stderr",
     "output_type": "stream",
     "text": [
      " 17%|█████████▏                                            | 44825/263496 [2:56:39<15:42:39,  3.87it/s]"
     ]
    },
    {
     "name": "stdout",
     "output_type": "stream",
     "text": [
      "[0.9604577422142029]\n",
      "14.420420572176884\n",
      "120.92209741473197\n"
     ]
    },
    {
     "name": "stderr",
     "output_type": "stream",
     "text": [
      " 17%|█████████▏                                            | 44852/263496 [2:56:46<15:10:53,  4.00it/s]"
     ]
    },
    {
     "name": "stdout",
     "output_type": "stream",
     "text": [
      "[0.8127290606498718]\n",
      "14.438307647675687\n",
      "120.9220866858959\n"
     ]
    },
    {
     "name": "stderr",
     "output_type": "stream",
     "text": [
      " 18%|█████████▋                                            | 47024/263496 [3:05:48<14:56:09,  4.03it/s]"
     ]
    },
    {
     "name": "stdout",
     "output_type": "stream",
     "text": [
      "[0.7130457758903503]\n",
      "14.379284724722922\n",
      "120.9249673783779\n"
     ]
    },
    {
     "name": "stderr",
     "output_type": "stream",
     "text": [
      " 18%|█████████▉                                            | 48632/263496 [3:12:26<15:08:40,  3.94it/s]"
     ]
    },
    {
     "name": "stdout",
     "output_type": "stream",
     "text": [
      "[0.9092890620231628]\n",
      "14.367076826282437\n",
      "120.92682212591173\n"
     ]
    },
    {
     "name": "stderr",
     "output_type": "stream",
     "text": [
      " 19%|██████████                                            | 49194/263496 [3:14:46<15:02:16,  3.96it/s]"
     ]
    },
    {
     "name": "stdout",
     "output_type": "stream",
     "text": [
      "[0.8578962087631226]\n",
      "14.342688915084475\n",
      "120.927591919899\n"
     ]
    },
    {
     "name": "stderr",
     "output_type": "stream",
     "text": [
      " 19%|██████████                                            | 49280/263496 [3:15:08<15:09:13,  3.93it/s]"
     ]
    },
    {
     "name": "stdout",
     "output_type": "stream",
     "text": [
      "[0.991317868232727]\n",
      "14.399840606579911\n",
      "120.92748999595644\n"
     ]
    },
    {
     "name": "stderr",
     "output_type": "stream",
     "text": [
      " 19%|██████████                                            | 49339/263496 [3:15:23<15:10:42,  3.92it/s]"
     ]
    },
    {
     "name": "stdout",
     "output_type": "stream",
     "text": [
      "[0.950566828250885]\n",
      "14.438775196565546\n",
      "120.92746183276178\n"
     ]
    },
    {
     "name": "stderr",
     "output_type": "stream",
     "text": [
      " 19%|██████████▎                                           | 50529/263496 [3:20:19<14:42:42,  4.02it/s]"
     ]
    },
    {
     "name": "stdout",
     "output_type": "stream",
     "text": [
      "[0.8530187010765076]\n",
      "14.43371912381983\n",
      "120.92913687229158\n"
     ]
    },
    {
     "name": "stderr",
     "output_type": "stream",
     "text": [
      " 20%|██████████▊                                           | 52686/263496 [3:29:14<14:30:37,  4.04it/s]"
     ]
    },
    {
     "name": "stdout",
     "output_type": "stream",
     "text": [
      "[0.7636892199516296]\n",
      "14.766554545855003\n",
      "120.93102514743806\n"
     ]
    },
    {
     "name": "stderr",
     "output_type": "stream",
     "text": [
      " 20%|██████████▊                                           | 52829/263496 [3:29:50<15:02:38,  3.89it/s]"
     ]
    },
    {
     "name": "stdout",
     "output_type": "stream",
     "text": [
      "[0.9434874057769775]\n",
      "14.369801153801077\n",
      "120.93165412545206\n"
     ]
    },
    {
     "name": "stderr",
     "output_type": "stream",
     "text": [
      " 20%|██████████▊                                           | 52846/263496 [3:29:54<15:10:07,  3.86it/s]"
     ]
    },
    {
     "name": "stdout",
     "output_type": "stream",
     "text": [
      "[0.9697185158729553]\n",
      "14.38109045491382\n",
      "120.9315548837185\n"
     ]
    },
    {
     "name": "stderr",
     "output_type": "stream",
     "text": [
      " 20%|██████████▊                                           | 52855/263496 [3:29:56<14:59:21,  3.90it/s]"
     ]
    },
    {
     "name": "stdout",
     "output_type": "stream",
     "text": [
      "[0.9410594701766968]\n",
      "14.38726100565014\n",
      "120.93185529112817\n"
     ]
    },
    {
     "name": "stderr",
     "output_type": "stream",
     "text": [
      " 20%|██████████▊                                           | 52876/263496 [3:30:02<14:38:01,  4.00it/s]"
     ]
    },
    {
     "name": "stdout",
     "output_type": "stream",
     "text": [
      "[0.9691433310508728]\n",
      "14.401092812227134\n",
      "120.93174666166307\n"
     ]
    },
    {
     "name": "stderr",
     "output_type": "stream",
     "text": [
      " 20%|██████████▉                                           | 53384/263496 [3:32:07<14:56:31,  3.91it/s]"
     ]
    },
    {
     "name": "stdout",
     "output_type": "stream",
     "text": [
      "[0.931020975112915]\n",
      "14.340537256963666\n",
      "120.93232199549676\n"
     ]
    },
    {
     "name": "stderr",
     "output_type": "stream",
     "text": [
      " 20%|██████████▉                                           | 53410/263496 [3:32:14<15:00:53,  3.89it/s]"
     ]
    },
    {
     "name": "stdout",
     "output_type": "stream",
     "text": [
      "[0.9113320112228394]\n",
      "14.357865573284462\n",
      "120.93244537711145\n"
     ]
    },
    {
     "name": "stderr",
     "output_type": "stream",
     "text": [
      " 20%|██████████▉                                           | 53544/263496 [3:32:48<15:00:25,  3.89it/s]"
     ]
    },
    {
     "name": "stdout",
     "output_type": "stream",
     "text": [
      "[0.8011457324028015]\n",
      "14.446945452706206\n",
      "120.9323273599148\n"
     ]
    },
    {
     "name": "stderr",
     "output_type": "stream",
     "text": [
      " 21%|███████████                                           | 54050/263496 [3:34:53<14:48:28,  3.93it/s]"
     ]
    },
    {
     "name": "stdout",
     "output_type": "stream",
     "text": [
      "[0.8704602718353271]\n",
      "14.385402064119445\n",
      "120.93282759189607\n"
     ]
    },
    {
     "name": "stderr",
     "output_type": "stream",
     "text": [
      " 21%|███████████                                           | 54059/263496 [3:34:56<14:46:55,  3.94it/s]"
     ]
    },
    {
     "name": "stdout",
     "output_type": "stream",
     "text": [
      "[0.9659120440483093]\n",
      "14.391195779372724\n",
      "120.93303412199022\n"
     ]
    },
    {
     "name": "stderr",
     "output_type": "stream",
     "text": [
      " 21%|███████████                                           | 54142/263496 [3:35:16<14:43:52,  3.95it/s]"
     ]
    },
    {
     "name": "stdout",
     "output_type": "stream",
     "text": [
      "[0.9608009457588196]\n",
      "14.446359739346725\n",
      "120.9331038594246\n"
     ]
    },
    {
     "name": "stderr",
     "output_type": "stream",
     "text": [
      " 21%|███████████▏                                          | 54664/263496 [3:37:26<15:01:46,  3.86it/s]"
     ]
    },
    {
     "name": "stdout",
     "output_type": "stream",
     "text": [
      "[0.9290047287940979]\n",
      "14.39534222072482\n",
      "120.93353301286699\n"
     ]
    },
    {
     "name": "stderr",
     "output_type": "stream",
     "text": [
      " 21%|███████████▏                                          | 54677/263496 [3:37:30<14:30:11,  4.00it/s]"
     ]
    },
    {
     "name": "stdout",
     "output_type": "stream",
     "text": [
      "[0.8606170415878296]\n",
      "14.403734891154423\n",
      "120.93371137976648\n"
     ]
    },
    {
     "name": "stderr",
     "output_type": "stream",
     "text": [
      " 21%|███████████▎                                          | 55084/263496 [3:39:10<14:44:23,  3.93it/s]"
     ]
    },
    {
     "name": "stdout",
     "output_type": "stream",
     "text": [
      "[0.9391434788703918]\n",
      "14.767904521868815\n",
      "120.93381598591806\n"
     ]
    },
    {
     "name": "stderr",
     "output_type": "stream",
     "text": [
      " 21%|███████████▎                                          | 55102/263496 [3:39:15<14:51:39,  3.90it/s]"
     ]
    },
    {
     "name": "stdout",
     "output_type": "stream",
     "text": [
      "[0.9500349164009094]\n",
      "14.779893133984531\n",
      "120.93382135033609\n"
     ]
    },
    {
     "name": "stderr",
     "output_type": "stream",
     "text": [
      " 21%|███████████▎                                          | 55243/263496 [3:39:50<14:48:04,  3.91it/s]"
     ]
    },
    {
     "name": "stdout",
     "output_type": "stream",
     "text": [
      "[0.9861032962799072]\n",
      "14.381971230314772\n",
      "120.93455091118814\n"
     ]
    },
    {
     "name": "stderr",
     "output_type": "stream",
     "text": [
      " 21%|███████████▎                                          | 55274/263496 [3:39:58<14:57:04,  3.87it/s]"
     ]
    },
    {
     "name": "stdout",
     "output_type": "stream",
     "text": [
      "[0.8961760997772217]\n",
      "14.40227746510437\n",
      "120.93427866697313\n"
     ]
    },
    {
     "name": "stderr",
     "output_type": "stream",
     "text": [
      " 21%|███████████▍                                          | 55680/263496 [3:41:39<14:17:36,  4.04it/s]"
     ]
    },
    {
     "name": "stdout",
     "output_type": "stream",
     "text": [
      "[0.9834194183349609]\n",
      "14.765855563631993\n",
      "120.93425989151002\n"
     ]
    },
    {
     "name": "stderr",
     "output_type": "stream",
     "text": [
      "\r",
      " 21%|███████████▍                                          | 55681/263496 [3:41:39<14:24:34,  4.01it/s]"
     ]
    },
    {
     "name": "stdout",
     "output_type": "stream",
     "text": [
      "[0.9922454953193665]\n",
      "14.766644025799394\n",
      "120.93456566333772\n"
     ]
    },
    {
     "name": "stderr",
     "output_type": "stream",
     "text": [
      " 21%|███████████▍                                          | 55794/263496 [3:42:07<14:39:57,  3.93it/s]"
     ]
    },
    {
     "name": "stdout",
     "output_type": "stream",
     "text": [
      "[0.812022864818573]\n",
      "14.349989586432809\n",
      "120.93504175543787\n"
     ]
    },
    {
     "name": "stderr",
     "output_type": "stream",
     "text": [
      " 21%|███████████▍                                          | 55860/263496 [3:42:24<14:52:25,  3.88it/s]"
     ]
    },
    {
     "name": "stdout",
     "output_type": "stream",
     "text": [
      "[0.9226158857345581]\n",
      "14.39370677570165\n",
      "120.93519598245621\n"
     ]
    },
    {
     "name": "stderr",
     "output_type": "stream",
     "text": [
      " 21%|███████████▌                                          | 56347/263496 [3:44:25<14:22:40,  4.00it/s]"
     ]
    },
    {
     "name": "stdout",
     "output_type": "stream",
     "text": [
      "[0.9160518050193787]\n",
      "14.811214715903752\n",
      "120.93504577875139\n"
     ]
    },
    {
     "name": "stderr",
     "output_type": "stream",
     "text": [
      " 21%|███████████▌                                          | 56438/263496 [3:44:48<14:32:15,  3.96it/s]"
     ]
    },
    {
     "name": "stdout",
     "output_type": "stream",
     "text": [
      "[0.9753276705741882]\n",
      "14.37969523732602\n",
      "120.9357525408268\n"
     ]
    },
    {
     "name": "stderr",
     "output_type": "stream",
     "text": [
      " 21%|███████████▌                                          | 56512/263496 [3:45:06<14:16:42,  4.03it/s]"
     ]
    },
    {
     "name": "stdout",
     "output_type": "stream",
     "text": [
      "[0.9331037402153015]\n",
      "14.429148688630063\n",
      "120.93583434820175\n"
     ]
    },
    {
     "name": "stderr",
     "output_type": "stream",
     "text": [
      " 22%|███████████▋                                          | 56970/263496 [3:47:00<14:35:24,  3.93it/s]"
     ]
    },
    {
     "name": "stdout",
     "output_type": "stream",
     "text": [
      "[0.9936050772666931]\n",
      "14.33531134437804\n",
      "120.93642309308052\n"
     ]
    },
    {
     "name": "stderr",
     "output_type": "stream",
     "text": [
      " 22%|███████████▋                                          | 56976/263496 [3:47:02<14:39:46,  3.91it/s]"
     ]
    },
    {
     "name": "stdout",
     "output_type": "stream",
     "text": [
      "[0.7725749611854553]\n",
      "14.33926912029996\n",
      "120.93654111027718\n"
     ]
    },
    {
     "name": "stderr",
     "output_type": "stream",
     "text": [
      " 22%|███████████▊                                          | 57648/263496 [3:49:50<14:56:57,  3.82it/s]"
     ]
    },
    {
     "name": "stdout",
     "output_type": "stream",
     "text": [
      "[0.9891439080238342]\n",
      "14.388019646929365\n",
      "120.93734711408615\n"
     ]
    },
    {
     "name": "stderr",
     "output_type": "stream",
     "text": [
      " 22%|███████████▊                                          | 57651/263496 [3:49:50<14:33:58,  3.93it/s]"
     ]
    },
    {
     "name": "stdout",
     "output_type": "stream",
     "text": [
      "[0.7156141996383667]\n",
      "14.389675917918547\n",
      "120.93719691038132\n"
     ]
    },
    {
     "name": "stderr",
     "output_type": "stream",
     "text": [
      " 22%|███████████▊                                          | 57654/263496 [3:49:51<14:19:02,  3.99it/s]"
     ]
    },
    {
     "name": "stdout",
     "output_type": "stream",
     "text": [
      "[0.8508570194244385]\n",
      "14.392011564099942\n",
      "120.93730419874191\n"
     ]
    },
    {
     "name": "stderr",
     "output_type": "stream",
     "text": [
      "\r",
      " 22%|███████████▊                                          | 57655/263496 [3:49:51<15:01:02,  3.81it/s]"
     ]
    },
    {
     "name": "stdout",
     "output_type": "stream",
     "text": [
      "[0.9928434491157532]\n",
      "14.392480508896089\n",
      "120.93721970915794\n"
     ]
    },
    {
     "name": "stderr",
     "output_type": "stream",
     "text": [
      " 22%|███████████▊                                          | 57711/263496 [3:50:06<14:26:21,  3.96it/s]"
     ]
    },
    {
     "name": "stdout",
     "output_type": "stream",
     "text": [
      "[0.9913852214813232]\n",
      "14.429581189071628\n",
      "120.9370855987072\n"
     ]
    },
    {
     "name": "stderr",
     "output_type": "stream",
     "text": [
      " 22%|███████████▉                                          | 58129/263496 [3:51:49<14:08:43,  4.03it/s]"
     ]
    },
    {
     "name": "stdout",
     "output_type": "stream",
     "text": [
      "[0.992660403251648]\n",
      "14.801245358836315\n",
      "120.9373377263546\n"
     ]
    },
    {
     "name": "stderr",
     "output_type": "stream",
     "text": [
      "\r",
      " 22%|███████████▉                                          | 58130/263496 [3:51:49<14:22:25,  3.97it/s]"
     ]
    },
    {
     "name": "stdout",
     "output_type": "stream",
     "text": [
      "[0.9912569522857666]\n",
      "14.801677127433514\n",
      "120.93717411160469\n"
     ]
    },
    {
     "name": "stderr",
     "output_type": "stream",
     "text": [
      " 22%|███████████▉                                          | 58301/263496 [3:52:33<14:18:40,  3.98it/s]"
     ]
    },
    {
     "name": "stdout",
     "output_type": "stream",
     "text": [
      "[0.9855700135231018]\n",
      "14.423791068394143\n",
      "120.93782052397728\n"
     ]
    },
    {
     "name": "stderr",
     "output_type": "stream",
     "text": [
      " 22%|████████████                                          | 58892/263496 [3:55:00<14:30:19,  3.92it/s]"
     ]
    },
    {
     "name": "stdout",
     "output_type": "stream",
     "text": [
      "[0.8375006318092346]\n",
      "14.402998385590939\n",
      "120.93858495354652\n"
     ]
    },
    {
     "name": "stderr",
     "output_type": "stream",
     "text": [
      " 23%|████████████▏                                         | 59370/263496 [3:56:58<13:55:14,  4.07it/s]"
     ]
    },
    {
     "name": "stdout",
     "output_type": "stream",
     "text": [
      "[0.8301982879638672]\n",
      "14.799363978720667\n",
      "120.93875393271446\n"
     ]
    },
    {
     "name": "stderr",
     "output_type": "stream",
     "text": [
      " 23%|████████████▏                                         | 59438/263496 [3:57:15<14:11:25,  3.99it/s]"
     ]
    },
    {
     "name": "stdout",
     "output_type": "stream",
     "text": [
      "[0.9470895528793335]\n",
      "14.352628371713\n",
      "120.9393735229969\n"
     ]
    },
    {
     "name": "stderr",
     "output_type": "stream",
     "text": [
      " 23%|████████████▏                                         | 59577/263496 [3:57:50<14:16:15,  3.97it/s]"
     ]
    },
    {
     "name": "stdout",
     "output_type": "stream",
     "text": [
      "[0.9556301236152649]\n",
      "14.444846747625006\n",
      "120.93912944197655\n"
     ]
    },
    {
     "name": "stderr",
     "output_type": "stream",
     "text": [
      " 23%|████████████▍                                         | 60795/263496 [4:02:51<13:58:36,  4.03it/s]"
     ]
    },
    {
     "name": "stdout",
     "output_type": "stream",
     "text": [
      "[0.8385925889015198]\n",
      "14.42783949298231\n",
      "120.940832644701\n"
     ]
    },
    {
     "name": "stderr",
     "output_type": "stream",
     "text": [
      " 23%|████████████▌                                         | 61252/263496 [4:04:44<14:08:43,  3.97it/s]"
     ]
    },
    {
     "name": "stdout",
     "output_type": "stream",
     "text": [
      "[0.9878879189491272]\n",
      "14.809728871190096\n",
      "120.94071865081787\n"
     ]
    },
    {
     "name": "stderr",
     "output_type": "stream",
     "text": [
      " 23%|████████████▌                                         | 61313/263496 [4:04:59<13:53:36,  4.04it/s]"
     ]
    },
    {
     "name": "stdout",
     "output_type": "stream",
     "text": [
      "[0.7953552007675171]\n",
      "14.358308605663142\n",
      "120.9411571919918\n"
     ]
    },
    {
     "name": "stderr",
     "output_type": "stream",
     "text": [
      " 24%|████████████▋                                         | 62020/263496 [4:07:55<14:04:09,  3.98it/s]"
     ]
    },
    {
     "name": "stdout",
     "output_type": "stream",
     "text": [
      "[0.9722346663475037]\n",
      "14.415115996285307\n",
      "120.94193235039711\n"
     ]
    },
    {
     "name": "stderr",
     "output_type": "stream",
     "text": [
      " 24%|████████████▋                                         | 62023/263496 [4:07:55<14:07:04,  3.96it/s]"
     ]
    },
    {
     "name": "stdout",
     "output_type": "stream",
     "text": [
      "[0.8763615489006042]\n",
      "14.417003265596636\n",
      "120.94189077615738\n"
     ]
    },
    {
     "name": "stderr",
     "output_type": "stream",
     "text": [
      " 24%|█████████████                                         | 63667/263496 [4:14:42<13:45:25,  4.03it/s]"
     ]
    },
    {
     "name": "stdout",
     "output_type": "stream",
     "text": [
      "[0.7943686246871948]\n",
      "14.761221993796697\n",
      "120.94358190894127\n"
     ]
    },
    {
     "name": "stderr",
     "output_type": "stream",
     "text": [
      " 24%|█████████████▏                                        | 64214/263496 [4:16:58<13:49:49,  4.00it/s]"
     ]
    },
    {
     "name": "stdout",
     "output_type": "stream",
     "text": [
      "[0.9717904329299927]\n",
      "14.71150963204411\n",
      "120.94423905014992\n"
     ]
    },
    {
     "name": "stderr",
     "output_type": "stream",
     "text": [
      " 25%|█████████████▎                                        | 64715/263496 [4:19:02<13:41:12,  4.03it/s]"
     ]
    },
    {
     "name": "stdout",
     "output_type": "stream",
     "text": [
      "[0.9829363822937012]\n",
      "14.630958044288478\n",
      "120.94475403428078\n"
     ]
    },
    {
     "name": "stderr",
     "output_type": "stream",
     "text": [
      " 25%|█████████████▎                                        | 64780/263496 [4:19:18<13:56:35,  3.96it/s]"
     ]
    },
    {
     "name": "stdout",
     "output_type": "stream",
     "text": [
      "[0.9731336832046509]\n",
      "14.67423446650529\n",
      "120.94468429684639\n"
     ]
    },
    {
     "name": "stderr",
     "output_type": "stream",
     "text": [
      " 25%|█████████████▎                                        | 64913/263496 [4:19:51<13:54:01,  3.97it/s]"
     ]
    },
    {
     "name": "stdout",
     "output_type": "stream",
     "text": [
      "[0.7803404331207275]\n",
      "14.762875462207202\n",
      "120.94489753246307\n"
     ]
    },
    {
     "name": "stderr",
     "output_type": "stream",
     "text": [
      " 25%|█████████████▎                                        | 65010/263496 [4:20:15<14:05:31,  3.91it/s]"
     ]
    },
    {
     "name": "stdout",
     "output_type": "stream",
     "text": [
      "[0.9452069997787476]\n",
      "14.33503718208667\n",
      "120.94528779387474\n"
     ]
    },
    {
     "name": "stderr",
     "output_type": "stream",
     "text": [
      " 25%|█████████████▍                                        | 65336/263496 [4:21:36<13:40:49,  4.02it/s]"
     ]
    },
    {
     "name": "stdout",
     "output_type": "stream",
     "text": [
      "[0.9926924705505371]\n",
      "14.630492199516627\n",
      "120.94521537423134\n"
     ]
    },
    {
     "name": "stderr",
     "output_type": "stream",
     "text": [
      " 25%|█████████████▍                                        | 65384/263496 [4:21:48<14:17:40,  3.85it/s]"
     ]
    },
    {
     "name": "stdout",
     "output_type": "stream",
     "text": [
      "[0.9876078963279724]\n",
      "14.662393141013611\n",
      "120.94541653990746\n"
     ]
    },
    {
     "name": "stderr",
     "output_type": "stream",
     "text": [
      " 25%|█████████████▍                                        | 65448/263496 [4:22:04<13:45:34,  4.00it/s]"
     ]
    },
    {
     "name": "stdout",
     "output_type": "stream",
     "text": [
      "[0.9846667051315308]\n",
      "14.704870774932475\n",
      "120.94538033008575\n"
     ]
    },
    {
     "name": "stderr",
     "output_type": "stream",
     "text": [
      " 25%|█████████████▍                                        | 65615/263496 [4:22:45<13:38:03,  4.03it/s]"
     ]
    },
    {
     "name": "stdout",
     "output_type": "stream",
     "text": [
      "[0.9353451132774353]\n",
      "14.323741660615788\n",
      "120.9461085498333\n"
     ]
    },
    {
     "name": "stderr",
     "output_type": "stream",
     "text": [
      " 25%|█████████████▌                                        | 66420/263496 [4:26:04<13:51:17,  3.95it/s]"
     ]
    },
    {
     "name": "stdout",
     "output_type": "stream",
     "text": [
      "[0.8387331366539001]\n",
      "14.445596101875532\n",
      "120.94690784811974\n"
     ]
    },
    {
     "name": "stderr",
     "output_type": "stream",
     "text": [
      " 26%|█████████████▊                                        | 67453/263496 [4:30:21<13:51:33,  3.93it/s]"
     ]
    },
    {
     "name": "stdout",
     "output_type": "stream",
     "text": [
      "[0.9935398697853088]\n",
      "14.79695615120797\n",
      "120.94762668013573\n"
     ]
    },
    {
     "name": "stderr",
     "output_type": "stream",
     "text": [
      " 26%|█████████████▉                                        | 68072/263496 [4:32:56<13:57:36,  3.89it/s]"
     ]
    },
    {
     "name": "stdout",
     "output_type": "stream",
     "text": [
      "[0.9644120931625366, 0.8987964987754822]\n",
      "14.795103259815944\n",
      "120.94813629984856\n",
      "14.795088996772563\n",
      "120.94829320907593\n"
     ]
    },
    {
     "name": "stderr",
     "output_type": "stream",
     "text": [
      " 26%|█████████████▉                                        | 68248/263496 [4:33:40<13:49:12,  3.92it/s]"
     ]
    },
    {
     "name": "stdout",
     "output_type": "stream",
     "text": [
      "[0.9459913969039917]\n",
      "14.420410181356788\n",
      "120.94880685210228\n"
     ]
    },
    {
     "name": "stderr",
     "output_type": "stream",
     "text": [
      " 26%|██████████████                                        | 68447/263496 [4:34:29<13:36:30,  3.98it/s]"
     ]
    },
    {
     "name": "stdout",
     "output_type": "stream",
     "text": [
      "[0.9667155146598816]\n",
      "14.631085210606983\n",
      "120.94908982515335\n"
     ]
    },
    {
     "name": "stderr",
     "output_type": "stream",
     "text": [
      " 26%|██████████████                                        | 68821/263496 [4:36:02<13:25:50,  4.03it/s]"
     ]
    },
    {
     "name": "stdout",
     "output_type": "stream",
     "text": [
      "[0.9868541955947876]\n",
      "14.387854668562388\n",
      "120.94937413930893\n"
     ]
    },
    {
     "name": "stderr",
     "output_type": "stream",
     "text": [
      " 26%|██████████████▏                                       | 69016/263496 [4:36:51<13:10:53,  4.10it/s]"
     ]
    },
    {
     "name": "stdout",
     "output_type": "stream",
     "text": [
      "[0.9670656323432922]\n",
      "14.596022138212664\n",
      "120.94970002770424\n"
     ]
    },
    {
     "name": "stderr",
     "output_type": "stream",
     "text": [
      " 26%|██████████████▏                                       | 69068/263496 [4:37:04<13:14:01,  4.08it/s]"
     ]
    },
    {
     "name": "stdout",
     "output_type": "stream",
     "text": [
      "[0.993243396282196, 0.9919881820678711, 0.8959008455276489]\n",
      "14.63030015184203\n",
      "120.94943583011627\n",
      "14.63046754474759\n",
      "120.94943717122078\n",
      "14.630459759031053\n",
      "120.94960615038872\n"
     ]
    },
    {
     "name": "stderr",
     "output_type": "stream",
     "text": [
      "\r",
      " 26%|██████████████▏                                       | 69069/263496 [4:37:04<13:29:48,  4.00it/s]"
     ]
    },
    {
     "name": "stdout",
     "output_type": "stream",
     "text": [
      "[0.9944256544113159, 0.9924236536026001, 0.9923487901687622, 0.9917951226234436]\n",
      "14.631086508222477\n",
      "120.94953507184982\n",
      "14.630886675436257\n",
      "120.94954177737236\n",
      "14.631086508222477\n",
      "120.94932720065117\n",
      "14.630884080205268\n",
      "120.94933122396469\n"
     ]
    },
    {
     "name": "stderr",
     "output_type": "stream",
     "text": [
      " 26%|██████████████▏                                       | 69103/263496 [4:37:12<13:43:30,  3.93it/s]"
     ]
    },
    {
     "name": "stdout",
     "output_type": "stream",
     "text": [
      "[0.9764950275421143]\n",
      "14.65353929817654\n",
      "120.9498019516468\n"
     ]
    },
    {
     "name": "stderr",
     "output_type": "stream",
     "text": [
      " 26%|██████████████▏                                       | 69394/263496 [4:38:25<13:20:43,  4.04it/s]"
     ]
    },
    {
     "name": "stdout",
     "output_type": "stream",
     "text": [
      "[0.8531305193901062]\n",
      "14.355290512068132\n",
      "120.95007285475731\n"
     ]
    },
    {
     "name": "stderr",
     "output_type": "stream",
     "text": [
      " 26%|██████████████▎                                       | 69651/263496 [4:39:29<13:16:48,  4.05it/s]"
     ]
    },
    {
     "name": "stdout",
     "output_type": "stream",
     "text": [
      "[0.9313726425170898]\n",
      "14.604723866667554\n",
      "120.95038935542107\n"
     ]
    },
    {
     "name": "stderr",
     "output_type": "stream",
     "text": [
      " 26%|██████████████▎                                       | 69709/263496 [4:39:43<13:35:37,  3.96it/s]"
     ]
    },
    {
     "name": "stdout",
     "output_type": "stream",
     "text": [
      "[0.7472245693206787]\n",
      "14.643089123537361\n",
      "120.95018550753593\n"
     ]
    },
    {
     "name": "stderr",
     "output_type": "stream",
     "text": [
      " 27%|██████████████▎                                       | 69934/263496 [4:40:39<13:21:16,  4.03it/s]"
     ]
    },
    {
     "name": "stdout",
     "output_type": "stream",
     "text": [
      "[0.9927799105644226]\n",
      "14.792473656988138\n",
      "120.95046043395996\n"
     ]
    },
    {
     "name": "stderr",
     "output_type": "stream",
     "text": [
      " 27%|██████████████▍                                       | 70555/263496 [4:43:14<13:13:02,  4.05it/s]"
     ]
    },
    {
     "name": "stdout",
     "output_type": "stream",
     "text": [
      "[0.9929800629615784]\n",
      "14.791874601008349\n",
      "120.95078229904175\n"
     ]
    },
    {
     "name": "stderr",
     "output_type": "stream",
     "text": [
      "\r",
      " 27%|██████████████▍                                       | 70556/263496 [4:43:14<13:39:40,  3.92it/s]"
     ]
    },
    {
     "name": "stdout",
     "output_type": "stream",
     "text": [
      "[0.9896413683891296]\n",
      "14.792605915918365\n",
      "120.95087215304375\n"
     ]
    },
    {
     "name": "stderr",
     "output_type": "stream",
     "text": [
      " 27%|██████████████▍                                       | 70655/263496 [4:43:39<13:13:34,  4.05it/s]"
     ]
    },
    {
     "name": "stdout",
     "output_type": "stream",
     "text": [
      "[0.7581319808959961]\n",
      "14.366428543161506\n",
      "120.95158159732819\n"
     ]
    },
    {
     "name": "stderr",
     "output_type": "stream",
     "text": [
      " 27%|██████████████▍                                       | 70737/263496 [4:43:59<13:28:21,  3.97it/s]"
     ]
    },
    {
     "name": "stdout",
     "output_type": "stream",
     "text": [
      "[0.7310694456100464]\n",
      "14.42114792829273\n",
      "120.95159366726875\n"
     ]
    },
    {
     "name": "stderr",
     "output_type": "stream",
     "text": [
      " 27%|██████████████▌                                       | 70934/263496 [4:44:48<13:14:16,  4.04it/s]"
     ]
    },
    {
     "name": "stdout",
     "output_type": "stream",
     "text": [
      "[0.9920076131820679]\n",
      "14.630554485248929\n",
      "120.95182299613953\n"
     ]
    },
    {
     "name": "stderr",
     "output_type": "stream",
     "text": [
      "\r",
      " 27%|██████████████▌                                       | 70935/263496 [4:44:48<13:27:32,  3.97it/s]"
     ]
    },
    {
     "name": "stdout",
     "output_type": "stream",
     "text": [
      "[0.9928485155105591, 0.992580771446228]\n",
      "14.630971020443429\n",
      "120.95163121819496\n",
      "14.630974913289913\n",
      "120.95182165503502\n"
     ]
    },
    {
     "name": "stderr",
     "output_type": "stream",
     "text": [
      " 27%|██████████████▌                                       | 70980/263496 [4:44:59<13:39:03,  3.92it/s]"
     ]
    },
    {
     "name": "stdout",
     "output_type": "stream",
     "text": [
      "[0.9822026491165161]\n",
      "14.66080248583272\n",
      "120.95166072249413\n"
     ]
    },
    {
     "name": "stderr",
     "output_type": "stream",
     "text": [
      " 27%|██████████████▌                                       | 71118/263496 [4:45:34<13:08:55,  4.06it/s]"
     ]
    },
    {
     "name": "stdout",
     "output_type": "stream",
     "text": [
      "[0.7557684183120728]\n",
      "14.75290388538614\n",
      "120.9513495862484\n"
     ]
    },
    {
     "name": "stderr",
     "output_type": "stream",
     "text": [
      " 27%|██████████████▌                                       | 71199/263496 [4:45:54<13:07:23,  4.07it/s]"
     ]
    },
    {
     "name": "stdout",
     "output_type": "stream",
     "text": [
      "[0.9486353397369385]\n",
      "14.806401890616561\n",
      "120.95148772001266\n"
     ]
    },
    {
     "name": "stderr",
     "output_type": "stream",
     "text": [
      " 27%|██████████████▌                                       | 71324/263496 [4:46:25<13:28:35,  3.96it/s]"
     ]
    },
    {
     "name": "stdout",
     "output_type": "stream",
     "text": [
      "[0.8912832140922546]\n",
      "14.397759643447777\n",
      "120.95240905880928\n"
     ]
    },
    {
     "name": "stderr",
     "output_type": "stream",
     "text": [
      " 27%|██████████████▋                                       | 71505/263496 [4:47:10<13:00:57,  4.10it/s]"
     ]
    },
    {
     "name": "stdout",
     "output_type": "stream",
     "text": [
      "[0.7559114694595337]\n",
      "14.59664119869525\n",
      "120.95216229557991\n"
     ]
    },
    {
     "name": "stderr",
     "output_type": "stream",
     "text": [
      " 27%|██████████████▋                                       | 71605/263496 [4:47:35<13:21:23,  3.99it/s]"
     ]
    },
    {
     "name": "stdout",
     "output_type": "stream",
     "text": [
      "[0.9875335693359375]\n",
      "14.663213115497397\n",
      "120.95247477293015\n"
     ]
    },
    {
     "name": "stderr",
     "output_type": "stream",
     "text": [
      " 27%|██████████████▋                                       | 71801/263496 [4:48:23<13:20:14,  3.99it/s]"
     ]
    },
    {
     "name": "stdout",
     "output_type": "stream",
     "text": [
      "[0.9668594598770142, 0.8918645977973938, 0.7051327228546143]\n",
      "14.793044184984675\n",
      "120.95225617289543\n",
      "14.793101237681967\n",
      "120.95237016677856\n",
      "14.792958605938738\n",
      "120.95245733857155\n"
     ]
    },
    {
     "name": "stderr",
     "output_type": "stream",
     "text": [
      "\r",
      " 27%|██████████████▋                                       | 71802/263496 [4:48:24<13:17:14,  4.01it/s]"
     ]
    },
    {
     "name": "stdout",
     "output_type": "stream",
     "text": [
      "[0.988407552242279]\n",
      "14.793871447873324\n",
      "120.9521247446537\n"
     ]
    },
    {
     "name": "stderr",
     "output_type": "stream",
     "text": [
      " 27%|██████████████▋                                       | 71805/263496 [4:48:24<13:12:06,  4.03it/s]"
     ]
    },
    {
     "name": "stdout",
     "output_type": "stream",
     "text": [
      "[0.8273045420646667]\n",
      "14.79552596436568\n",
      "120.95224678516388\n"
     ]
    },
    {
     "name": "stderr",
     "output_type": "stream",
     "text": [
      " 27%|██████████████▋                                       | 71874/263496 [4:48:42<13:08:22,  4.05it/s]"
     ]
    },
    {
     "name": "stdout",
     "output_type": "stream",
     "text": [
      "[0.9710490107536316]\n",
      "14.349950608558034\n",
      "120.95293879508972\n"
     ]
    },
    {
     "name": "stderr",
     "output_type": "stream",
     "text": [
      " 27%|██████████████▊                                       | 72128/263496 [4:49:45<13:22:01,  3.98it/s]"
     ]
    },
    {
     "name": "stdout",
     "output_type": "stream",
     "text": [
      "[0.9852746725082397]\n",
      "14.597863740722568\n",
      "120.95296159386635\n"
     ]
    },
    {
     "name": "stderr",
     "output_type": "stream",
     "text": [
      " 27%|██████████████▊                                       | 72189/263496 [4:50:00<13:17:25,  4.00it/s]"
     ]
    },
    {
     "name": "stdout",
     "output_type": "stream",
     "text": [
      "[0.7137391567230225]\n",
      "14.638543777979978\n",
      "120.95322445034981\n"
     ]
    },
    {
     "name": "stderr",
     "output_type": "stream",
     "text": [
      " 27%|██████████████▊                                       | 72421/263496 [4:50:58<13:26:08,  3.95it/s]"
     ]
    },
    {
     "name": "stdout",
     "output_type": "stream",
     "text": [
      "[0.9906660914421082]\n",
      "14.792443833896028\n",
      "120.95295622944832\n"
     ]
    },
    {
     "name": "stderr",
     "output_type": "stream",
     "text": [
      " 27%|██████████████▊                                       | 72425/263496 [4:50:59<13:33:29,  3.91it/s]"
     ]
    },
    {
     "name": "stdout",
     "output_type": "stream",
     "text": [
      "[0.9925674200057983]\n",
      "14.795243296969144\n",
      "120.95295622944832\n"
     ]
    },
    {
     "name": "stderr",
     "output_type": "stream",
     "text": [
      " 28%|██████████████▉                                       | 72811/263496 [4:52:34<13:26:06,  3.94it/s]"
     ]
    },
    {
     "name": "stdout",
     "output_type": "stream",
     "text": [
      "[0.9915521144866943, 0.9588685631752014]\n",
      "14.639254846003613\n",
      "120.95382928848267\n",
      "14.639026473974658\n",
      "120.95391109585762\n"
     ]
    },
    {
     "name": "stderr",
     "output_type": "stream",
     "text": [
      " 28%|██████████████▉                                       | 72839/263496 [4:52:41<13:46:46,  3.84it/s]"
     ]
    },
    {
     "name": "stdout",
     "output_type": "stream",
     "text": [
      "[0.9888657927513123]\n",
      "14.657671741484265\n",
      "120.95375686883926\n"
     ]
    },
    {
     "name": "stderr",
     "output_type": "stream",
     "text": [
      " 28%|██████████████▉                                       | 72846/263496 [4:52:43<13:19:18,  3.98it/s]"
     ]
    },
    {
     "name": "stdout",
     "output_type": "stream",
     "text": [
      "[0.9728556275367737]\n",
      "14.662482663731627\n",
      "120.95361605286598\n"
     ]
    },
    {
     "name": "stderr",
     "output_type": "stream",
     "text": [
      " 28%|██████████████▉                                       | 72848/263496 [4:52:44<13:15:13,  4.00it/s]"
     ]
    },
    {
     "name": "stdout",
     "output_type": "stream",
     "text": [
      "[0.9189794659614563]\n",
      "14.663576394187283\n",
      "120.95345377922058\n"
     ]
    },
    {
     "name": "stderr",
     "output_type": "stream",
     "text": [
      " 28%|██████████████▉                                       | 73038/263496 [4:53:31<13:05:32,  4.04it/s]"
     ]
    },
    {
     "name": "stdout",
     "output_type": "stream",
     "text": [
      "[0.9948082566261292, 0.9938054084777832]\n",
      "14.789692311663783\n",
      "120.9536924958229\n",
      "14.789893295831142\n",
      "120.953888297081\n"
     ]
    },
    {
     "name": "stderr",
     "output_type": "stream",
     "text": [
      " 28%|███████████████                                       | 73431/263496 [4:55:09<13:22:28,  3.95it/s]"
     ]
    },
    {
     "name": "stdout",
     "output_type": "stream",
     "text": [
      "[0.9724203944206238]\n",
      "14.638707272086789\n",
      "120.95411628484726\n"
     ]
    },
    {
     "name": "stderr",
     "output_type": "stream",
     "text": [
      " 28%|███████████████▏                                      | 74177/263496 [4:58:15<13:18:48,  3.95it/s]"
     ]
    },
    {
     "name": "stdout",
     "output_type": "stream",
     "text": [
      "[0.873250424861908]\n",
      "14.721322266064023\n",
      "120.95505103468895\n"
     ]
    },
    {
     "name": "stderr",
     "output_type": "stream",
     "text": [
      " 28%|███████████████▎                                      | 74486/263496 [4:59:32<13:04:43,  4.01it/s]"
     ]
    },
    {
     "name": "stdout",
     "output_type": "stream",
     "text": [
      "[0.9940561056137085, 0.7389392852783203]\n",
      "14.435049065179674\n",
      "120.95551908016205\n",
      "14.434817884619582\n",
      "120.95553249120712\n"
     ]
    },
    {
     "name": "stderr",
     "output_type": "stream",
     "text": [
      " 28%|███████████████▎                                      | 74661/263496 [5:00:16<13:00:00,  4.03it/s]"
     ]
    },
    {
     "name": "stdout",
     "output_type": "stream",
     "text": [
      "[0.990227222442627, 0.9889561533927917, 0.8652054667472839]\n",
      "14.630562270965466\n",
      "120.95589727163315\n",
      "14.630571354301427\n",
      "120.95568403601646\n",
      "14.630280687550687\n",
      "120.95574706792831\n"
     ]
    },
    {
     "name": "stderr",
     "output_type": "stream",
     "text": [
      " 28%|███████████████▎                                      | 74678/263496 [5:00:20<13:02:17,  4.02it/s]"
     ]
    },
    {
     "name": "stdout",
     "output_type": "stream",
     "text": [
      "[0.9944095015525818]\n",
      "14.641494435622315\n",
      "120.95542386174202\n"
     ]
    },
    {
     "name": "stderr",
     "output_type": "stream",
     "text": [
      " 28%|███████████████▎                                      | 74848/263496 [5:01:02<13:57:51,  3.75it/s]"
     ]
    },
    {
     "name": "stdout",
     "output_type": "stream",
     "text": [
      "[0.9901868104934692]\n",
      "14.75484791829631\n",
      "120.95566526055336\n"
     ]
    },
    {
     "name": "stderr",
     "output_type": "stream",
     "text": [
      " 28%|███████████████▍                                      | 75082/263496 [5:02:01<13:25:35,  3.90it/s]"
     ]
    },
    {
     "name": "stdout",
     "output_type": "stream",
     "text": [
      "[0.8998168110847473]\n",
      "14.418537228440936\n",
      "120.95625668764114\n"
     ]
    },
    {
     "name": "stderr",
     "output_type": "stream",
     "text": [
      " 29%|███████████████▌                                      | 75745/263496 [5:04:47<13:11:03,  3.96it/s]"
     ]
    },
    {
     "name": "stdout",
     "output_type": "stream",
     "text": [
      "[0.7218974232673645]\n",
      "14.446322077011695\n",
      "120.95709890127182\n"
     ]
    },
    {
     "name": "stderr",
     "output_type": "stream",
     "text": [
      " 29%|███████████████▌                                      | 76005/263496 [5:05:52<13:11:36,  3.95it/s]"
     ]
    },
    {
     "name": "stdout",
     "output_type": "stream",
     "text": [
      "[0.979526162147522]\n",
      "14.698043619337565\n",
      "120.95728665590286\n"
     ]
    },
    {
     "name": "stderr",
     "output_type": "stream",
     "text": [
      " 29%|███████████████▌                                      | 76210/263496 [5:06:43<13:27:07,  3.87it/s]"
     ]
    },
    {
     "name": "stdout",
     "output_type": "stream",
     "text": [
      "[0.9938424825668335]\n",
      "14.342568079725769\n",
      "120.95770373940468\n"
     ]
    },
    {
     "name": "stderr",
     "output_type": "stream",
     "text": [
      " 29%|███████████████▋                                      | 76505/263496 [5:07:57<13:15:19,  3.92it/s]"
     ]
    },
    {
     "name": "stdout",
     "output_type": "stream",
     "text": [
      "[0.8578086495399475]\n",
      "14.617785546176238\n",
      "120.95778957009315\n"
     ]
    },
    {
     "name": "stderr",
     "output_type": "stream",
     "text": [
      " 29%|███████████████▋                                      | 76793/263496 [5:09:09<12:58:50,  4.00it/s]"
     ]
    },
    {
     "name": "stdout",
     "output_type": "stream",
     "text": [
      "[0.9838914275169373]\n",
      "14.808943158677083\n",
      "120.95767423510551\n"
     ]
    },
    {
     "name": "stderr",
     "output_type": "stream",
     "text": [
      " 29%|███████████████▋                                      | 76828/263496 [5:09:18<12:43:59,  4.07it/s]"
     ]
    },
    {
     "name": "stdout",
     "output_type": "stream",
     "text": [
      "[0.9926306009292603]\n",
      "14.340715263324633\n",
      "120.95848694443703\n"
     ]
    },
    {
     "name": "stderr",
     "output_type": "stream",
     "text": [
      " 29%|███████████████▊                                      | 76963/263496 [5:09:52<13:20:00,  3.89it/s]"
     ]
    },
    {
     "name": "stdout",
     "output_type": "stream",
     "text": [
      "[0.9551622271537781]\n",
      "14.430470864526221\n",
      "120.95851644873619\n"
     ]
    },
    {
     "name": "stderr",
     "output_type": "stream",
     "text": [
      " 29%|███████████████▉                                      | 77470/263496 [5:11:59<13:06:04,  3.94it/s]"
     ]
    },
    {
     "name": "stdout",
     "output_type": "stream",
     "text": [
      "[0.9731014966964722]\n",
      "14.354525263624112\n",
      "120.9592741727829\n"
     ]
    },
    {
     "name": "stderr",
     "output_type": "stream",
     "text": [
      " 29%|███████████████▉                                      | 77475/263496 [5:12:00<12:59:36,  3.98it/s]"
     ]
    },
    {
     "name": "stdout",
     "output_type": "stream",
     "text": [
      "[0.8810737729072571]\n",
      "14.357960416065007\n",
      "120.9588611125946\n"
     ]
    },
    {
     "name": "stderr",
     "output_type": "stream",
     "text": [
      " 29%|███████████████▉                                      | 77582/263496 [5:12:27<13:15:32,  3.89it/s]"
     ]
    },
    {
     "name": "stdout",
     "output_type": "stream",
     "text": [
      "[0.9740322232246399]\n",
      "14.429209732328992\n",
      "120.9589858353138\n"
     ]
    },
    {
     "name": "stderr",
     "output_type": "stream",
     "text": [
      " 30%|███████████████▉                                      | 77918/263496 [5:13:52<13:00:23,  3.96it/s]"
     ]
    },
    {
     "name": "stdout",
     "output_type": "stream",
     "text": [
      "[0.903393566608429]\n",
      "14.731504109499799\n",
      "120.95895901322365\n"
     ]
    },
    {
     "name": "stderr",
     "output_type": "stream",
     "text": [
      " 30%|███████████████▉                                      | 77982/263496 [5:14:08<12:47:31,  4.03it/s]"
     ]
    },
    {
     "name": "stdout",
     "output_type": "stream",
     "text": [
      "[0.9927115440368652]\n",
      "14.774101854687693\n",
      "120.95915213227272\n"
     ]
    },
    {
     "name": "stderr",
     "output_type": "stream",
     "text": [
      " 30%|████████████████                                      | 78094/263496 [5:14:36<12:51:26,  4.01it/s]"
     ]
    },
    {
     "name": "stdout",
     "output_type": "stream",
     "text": [
      "[0.9868313074111938, 0.9828363060951233]\n",
      "14.35673785091378\n",
      "120.95998764038085\n",
      "14.356405249597021\n",
      "120.95967516303062\n"
     ]
    },
    {
     "name": "stderr",
     "output_type": "stream",
     "text": [
      " 30%|████████████████                                      | 78171/263496 [5:14:55<12:55:03,  3.99it/s]"
     ]
    },
    {
     "name": "stdout",
     "output_type": "stream",
     "text": [
      "[0.7216773629188538]\n",
      "14.407851224162004\n",
      "120.95979183912277\n"
     ]
    },
    {
     "name": "stderr",
     "output_type": "stream",
     "text": [
      " 30%|████████████████▎                                     | 79320/263496 [5:19:43<12:41:00,  4.03it/s]"
     ]
    },
    {
     "name": "stdout",
     "output_type": "stream",
     "text": [
      "[0.8619075417518616]\n",
      "14.34599172201036\n",
      "120.96111282706259\n"
     ]
    },
    {
     "name": "stderr",
     "output_type": "stream",
     "text": [
      " 30%|████████████████▎                                     | 79372/263496 [5:19:57<13:46:38,  3.71it/s]"
     ]
    },
    {
     "name": "stdout",
     "output_type": "stream",
     "text": [
      "[0.987515926361084]\n",
      "14.380473390464157\n",
      "120.96125364303587\n"
     ]
    },
    {
     "name": "stderr",
     "output_type": "stream",
     "text": [
      " 30%|████████████████▎                                     | 79628/263496 [5:21:00<12:54:58,  3.95it/s]"
     ]
    },
    {
     "name": "stdout",
     "output_type": "stream",
     "text": [
      "[0.8884280920028687]\n",
      "14.6296422574238\n",
      "120.96121206879614\n"
     ]
    },
    {
     "name": "stderr",
     "output_type": "stream",
     "text": [
      " 30%|████████████████▍                                     | 79920/263496 [5:22:14<12:53:19,  3.96it/s]"
     ]
    },
    {
     "name": "stdout",
     "output_type": "stream",
     "text": [
      "[0.7737410664558411]\n",
      "14.331908328834695\n",
      "120.96186921000479\n"
     ]
    },
    {
     "name": "stderr",
     "output_type": "stream",
     "text": [
      " 30%|████████████████▍                                     | 79923/263496 [5:22:15<12:53:07,  3.96it/s]"
     ]
    },
    {
     "name": "stdout",
     "output_type": "stream",
     "text": [
      "[0.9913150668144226]\n",
      "14.333836580722544\n",
      "120.96186652779578\n"
     ]
    },
    {
     "name": "stderr",
     "output_type": "stream",
     "text": [
      " 30%|████████████████▍                                     | 79956/263496 [5:22:23<13:06:05,  3.89it/s]"
     ]
    },
    {
     "name": "stdout",
     "output_type": "stream",
     "text": [
      "[0.8170849084854126]\n",
      "14.355851779183713\n",
      "120.96200063824652\n"
     ]
    },
    {
     "name": "stderr",
     "output_type": "stream",
     "text": [
      " 30%|████████████████▍                                     | 80041/263496 [5:22:45<12:42:36,  4.01it/s]"
     ]
    },
    {
     "name": "stdout",
     "output_type": "stream",
     "text": [
      "[0.9697322845458984]\n",
      "14.412437683018174\n",
      "120.9616734087467\n"
     ]
    },
    {
     "name": "stderr",
     "output_type": "stream",
     "text": [
      " 30%|████████████████▍                                     | 80080/263496 [5:22:54<12:48:20,  3.98it/s]"
     ]
    },
    {
     "name": "stdout",
     "output_type": "stream",
     "text": [
      "[0.9883820414543152]\n",
      "14.438321933901372\n",
      "120.96187993884085\n"
     ]
    },
    {
     "name": "stderr",
     "output_type": "stream",
     "text": [
      "\r",
      " 30%|████████████████▍                                     | 80081/263496 [5:22:55<12:47:24,  3.98it/s]"
     ]
    },
    {
     "name": "stdout",
     "output_type": "stream",
     "text": [
      "[0.7091262340545654]\n",
      "14.43900767172518\n",
      "120.96188664436339\n"
     ]
    },
    {
     "name": "stderr",
     "output_type": "stream",
     "text": [
      " 31%|████████████████▌                                     | 80517/263496 [5:24:44<12:31:50,  4.06it/s]"
     ]
    },
    {
     "name": "stdout",
     "output_type": "stream",
     "text": [
      "[0.9849236011505127]\n",
      "14.807518237142766\n",
      "120.96202477812766\n"
     ]
    },
    {
     "name": "stderr",
     "output_type": "stream",
     "text": [
      " 31%|████████████████▌                                     | 80541/263496 [5:24:50<13:04:05,  3.89it/s]"
     ]
    },
    {
     "name": "stdout",
     "output_type": "stream",
     "text": [
      "[0.9885274171829224]\n",
      "14.331974596532707\n",
      "120.96267387270926\n"
     ]
    },
    {
     "name": "stderr",
     "output_type": "stream",
     "text": [
      " 31%|████████████████▌                                     | 80544/263496 [5:24:51<12:56:36,  3.93it/s]"
     ]
    },
    {
     "name": "stdout",
     "output_type": "stream",
     "text": [
      "[0.9472344517707825]\n",
      "14.334049674952874\n",
      "120.96255987882613\n"
     ]
    },
    {
     "name": "stderr",
     "output_type": "stream",
     "text": [
      " 31%|████████████████▌                                     | 80578/263496 [5:24:59<12:58:19,  3.92it/s]"
     ]
    },
    {
     "name": "stdout",
     "output_type": "stream",
     "text": [
      "[0.9890210032463074]\n",
      "14.356418241835957\n",
      "120.96258267760275\n"
     ]
    },
    {
     "name": "stderr",
     "output_type": "stream",
     "text": [
      " 31%|████████████████▋                                     | 81660/263496 [5:29:31<12:30:12,  4.04it/s]"
     ]
    },
    {
     "name": "stdout",
     "output_type": "stream",
     "text": [
      "[0.9095872044563293]\n",
      "14.742000638036863\n",
      "120.96325054764746\n"
     ]
    },
    {
     "name": "stderr",
     "output_type": "stream",
     "text": [
      " 31%|████████████████▊                                     | 81917/263496 [5:30:36<13:14:45,  3.81it/s]"
     ]
    },
    {
     "name": "stdout",
     "output_type": "stream",
     "text": [
      "[0.7661079168319702]\n",
      "14.421220663816317\n",
      "120.96383526921271\n"
     ]
    },
    {
     "name": "stderr",
     "output_type": "stream",
     "text": [
      " 31%|████████████████▉                                     | 82402/263496 [5:32:37<12:44:01,  3.95it/s]"
     ]
    },
    {
     "name": "stdout",
     "output_type": "stream",
     "text": [
      "[0.9873954653739929]\n",
      "14.330568677778892\n",
      "120.96452862024306\n"
     ]
    },
    {
     "name": "stderr",
     "output_type": "stream",
     "text": [
      " 31%|████████████████▉                                     | 82795/263496 [5:34:16<13:09:24,  3.82it/s]"
     ]
    },
    {
     "name": "stdout",
     "output_type": "stream",
     "text": [
      "[0.9874007105827332]\n",
      "14.670808111831398\n",
      "120.96470966935156\n"
     ]
    },
    {
     "name": "stderr",
     "output_type": "stream",
     "text": [
      " 31%|████████████████▉                                     | 82859/263496 [5:34:32<12:41:17,  3.95it/s]"
     ]
    },
    {
     "name": "stdout",
     "output_type": "stream",
     "text": [
      "[0.9815577864646912]\n",
      "14.713221848606707\n",
      "120.96450313925742\n"
     ]
    },
    {
     "name": "stderr",
     "output_type": "stream",
     "text": [
      " 32%|█████████████████                                     | 83160/263496 [5:35:48<12:53:46,  3.88it/s]"
     ]
    },
    {
     "name": "stdout",
     "output_type": "stream",
     "text": [
      "[0.7997510433197021]\n",
      "14.421602524652249\n",
      "120.96521660685538\n"
     ]
    },
    {
     "name": "stderr",
     "output_type": "stream",
     "text": [
      " 32%|█████████████████                                     | 83211/263496 [5:36:01<12:30:05,  4.01it/s]"
     ]
    },
    {
     "name": "stdout",
     "output_type": "stream",
     "text": [
      "[0.9311231970787048]\n",
      "14.455695904533748\n",
      "120.9653654694557\n"
     ]
    },
    {
     "name": "stderr",
     "output_type": "stream",
     "text": [
      " 32%|█████████████████▏                                    | 84064/263496 [5:39:35<12:33:39,  3.97it/s]"
     ]
    },
    {
     "name": "stdout",
     "output_type": "stream",
     "text": [
      "[0.9887164831161499]\n",
      "14.688881171048292\n",
      "120.96599042415617\n"
     ]
    },
    {
     "name": "stderr",
     "output_type": "stream",
     "text": [
      " 32%|█████████████████▎                                    | 84524/263496 [5:41:30<12:29:04,  3.98it/s]"
     ]
    },
    {
     "name": "stdout",
     "output_type": "stream",
     "text": [
      "[0.9914231896400452]\n",
      "14.581981845504462\n",
      "120.96647992730139\n"
     ]
    },
    {
     "name": "stderr",
     "output_type": "stream",
     "text": [
      " 32%|█████████████████▎                                    | 84683/263496 [5:42:10<12:27:01,  3.99it/s]"
     ]
    },
    {
     "name": "stdout",
     "output_type": "stream",
     "text": [
      "[0.8831236362457275]\n",
      "14.68742692303618\n",
      "120.96649736165999\n"
     ]
    },
    {
     "name": "stderr",
     "output_type": "stream",
     "text": [
      " 32%|█████████████████▎                                    | 84717/263496 [5:42:19<12:38:16,  3.93it/s]"
     ]
    },
    {
     "name": "stdout",
     "output_type": "stream",
     "text": [
      "[0.9380130767822266]\n",
      "14.710399278597468\n",
      "120.9669680893421\n"
     ]
    },
    {
     "name": "stderr",
     "output_type": "stream",
     "text": [
      " 32%|█████████████████▎                                    | 84741/263496 [5:42:25<12:43:04,  3.90it/s]"
     ]
    },
    {
     "name": "stdout",
     "output_type": "stream",
     "text": [
      "[0.7073180079460144]\n",
      "14.726033211188703\n",
      "120.96681252121924\n"
     ]
    },
    {
     "name": "stderr",
     "output_type": "stream",
     "text": [
      " 32%|█████████████████▎                                    | 84768/263496 [5:42:32<12:34:47,  3.95it/s]"
     ]
    },
    {
     "name": "stdout",
     "output_type": "stream",
     "text": [
      "[0.9674255847930908]\n",
      "14.74384101276796\n",
      "120.9665711224079\n"
     ]
    },
    {
     "name": "stderr",
     "output_type": "stream",
     "text": [
      " 32%|█████████████████▍                                    | 85273/263496 [5:44:38<12:37:04,  3.92it/s]"
     ]
    },
    {
     "name": "stdout",
     "output_type": "stream",
     "text": [
      "[0.886005699634552]\n",
      "14.667044379003167\n",
      "120.96737846732138\n"
     ]
    },
    {
     "name": "stderr",
     "output_type": "stream",
     "text": [
      " 33%|█████████████████▌                                    | 85684/263496 [5:46:22<12:29:49,  3.95it/s]"
     ]
    },
    {
     "name": "stdout",
     "output_type": "stream",
     "text": [
      "[0.7093271613121033]\n",
      "14.448314275695033\n",
      "120.96809193491934\n"
     ]
    },
    {
     "name": "stderr",
     "output_type": "stream",
     "text": [
      " 33%|█████████████████▋                                    | 86151/263496 [5:48:19<12:30:10,  3.94it/s]"
     ]
    },
    {
     "name": "stdout",
     "output_type": "stream",
     "text": [
      "[0.8022143840789795]\n",
      "14.346069679148997\n",
      "120.96896365284921\n"
     ]
    },
    {
     "name": "stderr",
     "output_type": "stream",
     "text": [
      " 33%|█████████████████▋                                    | 86166/263496 [5:48:23<12:15:20,  4.02it/s]"
     ]
    },
    {
     "name": "stdout",
     "output_type": "stream",
     "text": [
      "[0.8591984510421753]\n",
      "14.355932331304473\n",
      "120.96893951296808\n"
     ]
    },
    {
     "name": "stderr",
     "output_type": "stream",
     "text": [
      "\r",
      " 33%|█████████████████▋                                    | 86167/263496 [5:48:23<12:33:29,  3.92it/s]"
     ]
    },
    {
     "name": "stdout",
     "output_type": "stream",
     "text": [
      "[0.983918309211731]\n",
      "14.356575447927082\n",
      "120.96856802701949\n"
     ]
    },
    {
     "name": "stderr",
     "output_type": "stream",
     "text": [
      " 33%|█████████████████▋                                    | 86252/263496 [5:48:44<12:58:50,  3.79it/s]"
     ]
    },
    {
     "name": "stdout",
     "output_type": "stream",
     "text": [
      "[0.9544388651847839]\n",
      "14.41324299889383\n",
      "120.96893012523653\n"
     ]
    },
    {
     "name": "stderr",
     "output_type": "stream",
     "text": [
      "\r",
      " 33%|█████████████████▋                                    | 86253/263496 [5:48:45<13:02:56,  3.77it/s]"
     ]
    },
    {
     "name": "stdout",
     "output_type": "stream",
     "text": [
      "[0.704026997089386]\n",
      "14.413501478724973\n",
      "120.96894085407259\n"
     ]
    },
    {
     "name": "stderr",
     "output_type": "stream",
     "text": [
      " 33%|█████████████████▋                                    | 86384/263496 [5:49:18<12:15:09,  4.02it/s]"
     ]
    },
    {
     "name": "stdout",
     "output_type": "stream",
     "text": [
      "[0.7567948698997498]\n",
      "14.579849376655986\n",
      "120.96893146634103\n"
     ]
    },
    {
     "name": "stderr",
     "output_type": "stream",
     "text": [
      " 33%|█████████████████▋                                    | 86392/263496 [5:49:20<12:34:23,  3.91it/s]"
     ]
    },
    {
     "name": "stdout",
     "output_type": "stream",
     "text": [
      "[0.8183726668357849]\n",
      "14.585166882269439\n",
      "120.96902400255205\n"
     ]
    },
    {
     "name": "stderr",
     "output_type": "stream",
     "text": [
      " 33%|█████████████████▊                                    | 86769/263496 [5:50:55<12:37:07,  3.89it/s]"
     ]
    },
    {
     "name": "stdout",
     "output_type": "stream",
     "text": [
      "[0.9871293902397156, 0.9656335115432739]\n",
      "14.34392065204834\n",
      "120.9691782295704\n",
      "14.344009004259126\n",
      "120.96967846155168\n"
     ]
    },
    {
     "name": "stderr",
     "output_type": "stream",
     "text": [
      " 33%|█████████████████▊                                    | 86798/263496 [5:51:02<12:40:24,  3.87it/s]"
     ]
    },
    {
     "name": "stdout",
     "output_type": "stream",
     "text": [
      "[0.9770932197570801]\n",
      "14.363406661708144\n",
      "120.96969321370126\n"
     ]
    },
    {
     "name": "stderr",
     "output_type": "stream",
     "text": [
      " 33%|█████████████████▉                                    | 87417/263496 [5:53:37<12:20:38,  3.96it/s]"
     ]
    },
    {
     "name": "stdout",
     "output_type": "stream",
     "text": [
      "[0.9858003854751587]\n",
      "14.361646260465198\n",
      "120.97027793526651\n"
     ]
    },
    {
     "name": "stderr",
     "output_type": "stream",
     "text": [
      " 33%|█████████████████▉                                    | 87495/263496 [5:53:57<12:28:44,  3.92it/s]"
     ]
    },
    {
     "name": "stdout",
     "output_type": "stream",
     "text": [
      "[0.9804272651672363]\n",
      "14.41387555941012\n",
      "120.9702229499817\n"
     ]
    },
    {
     "name": "stderr",
     "output_type": "stream",
     "text": [
      " 33%|█████████████████▉                                    | 87744/263496 [5:54:59<12:28:12,  3.91it/s]"
     ]
    },
    {
     "name": "stdout",
     "output_type": "stream",
     "text": [
      "[0.7589519023895264]\n",
      "14.658341228894392\n",
      "120.97001105546953\n"
     ]
    },
    {
     "name": "stderr",
     "output_type": "stream",
     "text": [
      " 33%|██████████████████                                    | 88017/263496 [5:56:08<12:15:44,  3.98it/s]"
     ]
    },
    {
     "name": "stdout",
     "output_type": "stream",
     "text": [
      "[0.941716194152832]\n",
      "14.347805516585929\n",
      "120.97079023718835\n"
     ]
    },
    {
     "name": "stderr",
     "output_type": "stream",
     "text": [
      " 33%|██████████████████                                    | 88032/263496 [5:56:12<12:48:01,  3.81it/s]"
     ]
    },
    {
     "name": "stdout",
     "output_type": "stream",
     "text": [
      "[0.9917178153991699]\n",
      "14.357927935660712\n",
      "120.97092837095262\n"
     ]
    },
    {
     "name": "stderr",
     "output_type": "stream",
     "text": [
      "\r",
      " 33%|██████████████████                                    | 88033/263496 [5:56:12<12:34:36,  3.88it/s]"
     ]
    },
    {
     "name": "stdout",
     "output_type": "stream",
     "text": [
      "[0.9805321097373962]\n",
      "14.358367070217124\n",
      "120.97099140286447\n"
     ]
    },
    {
     "name": "stderr",
     "output_type": "stream",
     "text": [
      " 33%|██████████████████                                    | 88267/263496 [5:57:11<12:16:57,  3.96it/s]"
     ]
    },
    {
     "name": "stdout",
     "output_type": "stream",
     "text": [
      "[0.9154438972473145]\n",
      "14.593390138263066\n",
      "120.97107857465745\n"
     ]
    },
    {
     "name": "stderr",
     "output_type": "stream",
     "text": [
      " 34%|██████████████████▏                                   | 88523/263496 [5:58:16<12:17:41,  3.95it/s]"
     ]
    },
    {
     "name": "stdout",
     "output_type": "stream",
     "text": [
      "[0.9705972671508789]\n",
      "14.763373445324886\n",
      "120.9710155427456\n"
     ]
    },
    {
     "name": "stderr",
     "output_type": "stream",
     "text": [
      " 34%|██████████████████▏                                   | 88625/263496 [5:58:41<11:59:47,  4.05it/s]"
     ]
    },
    {
     "name": "stdout",
     "output_type": "stream",
     "text": [
      "[0.7682622075080872]\n",
      "14.339028745319888\n",
      "120.97135215997697\n"
     ]
    },
    {
     "name": "stderr",
     "output_type": "stream",
     "text": [
      " 34%|██████████████████▏                                   | 88648/263496 [5:58:47<12:35:25,  3.86it/s]"
     ]
    },
    {
     "name": "stdout",
     "output_type": "stream",
     "text": [
      "[0.9934514760971069]\n",
      "14.354464199556789\n",
      "120.97172096371652\n"
     ]
    },
    {
     "name": "stderr",
     "output_type": "stream",
     "text": [
      " 34%|██████████████████▏                                   | 88662/263496 [5:58:51<12:21:18,  3.93it/s]"
     ]
    },
    {
     "name": "stdout",
     "output_type": "stream",
     "text": [
      "[0.9887145161628723]\n",
      "14.3640484576559\n",
      "120.97162038087846\n"
     ]
    },
    {
     "name": "stderr",
     "output_type": "stream",
     "text": [
      " 34%|██████████████████▏                                   | 88926/263496 [5:59:57<11:59:09,  4.05it/s]"
     ]
    },
    {
     "name": "stdout",
     "output_type": "stream",
     "text": [
      "[0.9922783374786377]\n",
      "14.618243631840917\n",
      "120.97127705812456\n"
     ]
    },
    {
     "name": "stderr",
     "output_type": "stream",
     "text": [
      " 34%|██████████████████▎                                   | 89142/263496 [6:00:51<12:16:51,  3.94it/s]"
     ]
    },
    {
     "name": "stdout",
     "output_type": "stream",
     "text": [
      "[0.8242496848106384]\n",
      "14.761897647825997\n",
      "120.9716981649399\n"
     ]
    },
    {
     "name": "stderr",
     "output_type": "stream",
     "text": [
      " 34%|██████████████████▎                                   | 89271/263496 [6:01:23<12:36:03,  3.84it/s]"
     ]
    },
    {
     "name": "stdout",
     "output_type": "stream",
     "text": [
      "[0.9639405608177185, 0.8965679407119751]\n",
      "14.35595052049303\n",
      "120.97244113683702\n",
      "14.355933630532226\n",
      "120.9721675515175\n"
     ]
    },
    {
     "name": "stderr",
     "output_type": "stream",
     "text": [
      " 34%|██████████████████▎                                   | 89276/263496 [6:01:25<12:54:35,  3.75it/s]"
     ]
    },
    {
     "name": "stdout",
     "output_type": "stream",
     "text": [
      "[0.9855682253837585]\n",
      "14.359384351900314\n",
      "120.9720401465893\n"
     ]
    },
    {
     "name": "stderr",
     "output_type": "stream",
     "text": [
      " 34%|██████████████████▎                                   | 89281/263496 [6:01:26<12:23:20,  3.91it/s]"
     ]
    },
    {
     "name": "stdout",
     "output_type": "stream",
     "text": [
      "[0.979792594909668]\n",
      "14.362657031223211\n",
      "120.9724371135235\n"
     ]
    },
    {
     "name": "stderr",
     "output_type": "stream",
     "text": [
      " 34%|██████████████████▎                                   | 89607/263496 [6:02:47<12:11:02,  3.96it/s]"
     ]
    },
    {
     "name": "stdout",
     "output_type": "stream",
     "text": [
      "[0.9891985058784485]\n",
      "14.658443727784665\n",
      "120.97225606441499\n"
     ]
    },
    {
     "name": "stderr",
     "output_type": "stream",
     "text": [
      " 34%|██████████████████▍                                   | 89766/263496 [6:03:27<12:02:32,  4.01it/s]"
     ]
    },
    {
     "name": "stdout",
     "output_type": "stream",
     "text": [
      "[0.9895467162132263, 0.7053608894348145]\n",
      "14.76399851643861\n",
      "120.97231373190881\n",
      "14.763784540044377\n",
      "120.97234994173051\n"
     ]
    },
    {
     "name": "stderr",
     "output_type": "stream",
     "text": [
      " 34%|██████████████████▍                                   | 90024/263496 [6:04:32<11:55:04,  4.04it/s]"
     ]
    },
    {
     "name": "stdout",
     "output_type": "stream",
     "text": [
      "[0.7480782866477966]\n",
      "14.443668814680724\n",
      "120.97283542156221\n"
     ]
    },
    {
     "name": "stderr",
     "output_type": "stream",
     "text": [
      " 34%|██████████████████▍                                   | 90146/263496 [6:05:02<12:06:14,  3.98it/s]"
     ]
    },
    {
     "name": "stdout",
     "output_type": "stream",
     "text": [
      "[0.9616147875785828]\n",
      "14.603777789300413\n",
      "120.97274690866472\n"
     ]
    },
    {
     "name": "stderr",
     "output_type": "stream",
     "text": [
      " 34%|██████████████████▌                                   | 90444/263496 [6:06:16<11:50:06,  4.06it/s]"
     ]
    },
    {
     "name": "stdout",
     "output_type": "stream",
     "text": [
      "[0.9214268922805786]\n",
      "14.801902735941004\n",
      "120.97301915287973\n"
     ]
    },
    {
     "name": "stderr",
     "output_type": "stream",
     "text": [
      " 34%|██████████████████▌                                   | 90486/263496 [6:06:27<11:55:59,  4.03it/s]"
     ]
    },
    {
     "name": "stdout",
     "output_type": "stream",
     "text": [
      "[0.8682514429092407]\n",
      "14.337993180487096\n",
      "120.9738412499428\n"
     ]
    },
    {
     "name": "stderr",
     "output_type": "stream",
     "text": [
      " 34%|██████████████████▌                                   | 90517/263496 [6:06:34<12:28:47,  3.85it/s]"
     ]
    },
    {
     "name": "stdout",
     "output_type": "stream",
     "text": [
      "[0.9711273908615112]\n",
      "14.35854506230369\n",
      "120.9736977517605\n"
     ]
    },
    {
     "name": "stderr",
     "output_type": "stream",
     "text": [
      " 34%|██████████████████▌                                   | 90731/263496 [6:07:28<12:06:19,  3.96it/s]"
     ]
    },
    {
     "name": "stdout",
     "output_type": "stream",
     "text": [
      "[0.9923782348632812]\n",
      "14.579877930840425\n",
      "120.97356900572778\n"
     ]
    },
    {
     "name": "stderr",
     "output_type": "stream",
     "text": [
      " 35%|██████████████████▋                                   | 91227/263496 [6:09:31<12:10:29,  3.93it/s]"
     ]
    },
    {
     "name": "stdout",
     "output_type": "stream",
     "text": [
      "[0.9368160963058472]\n",
      "14.400343308249075\n",
      "120.9741845726967\n"
     ]
    },
    {
     "name": "stderr",
     "output_type": "stream",
     "text": [
      " 35%|██████████████████▋                                   | 91308/263496 [6:09:52<12:10:19,  3.93it/s]"
     ]
    },
    {
     "name": "stdout",
     "output_type": "stream",
     "text": [
      "[0.7645599246025085]\n",
      "14.454358294690467\n",
      "120.97438037395479\n"
     ]
    },
    {
     "name": "stderr",
     "output_type": "stream",
     "text": [
      " 35%|██████████████████▋                                   | 91427/263496 [6:10:21<11:55:19,  4.01it/s]"
     ]
    },
    {
     "name": "stdout",
     "output_type": "stream",
     "text": [
      "[0.9928027987480164]\n",
      "14.580027191349998\n",
      "120.9744367003441\n"
     ]
    },
    {
     "name": "stderr",
     "output_type": "stream",
     "text": [
      "\r",
      " 35%|██████████████████▋                                   | 91428/263496 [6:10:21<12:11:34,  3.92it/s]"
     ]
    },
    {
     "name": "stdout",
     "output_type": "stream",
     "text": [
      "[0.9937343001365662]\n",
      "14.580535974169896\n",
      "120.97415104508401\n"
     ]
    },
    {
     "name": "stderr",
     "output_type": "stream",
     "text": [
      " 35%|██████████████████▋                                   | 91453/263496 [6:10:27<11:48:09,  4.05it/s]"
     ]
    },
    {
     "name": "stdout",
     "output_type": "stream",
     "text": [
      "[0.7815778851509094]\n",
      "14.597306978807504\n",
      "120.97448900341989\n"
     ]
    },
    {
     "name": "stderr",
     "output_type": "stream",
     "text": [
      " 35%|██████████████████▊                                   | 91932/263496 [6:12:27<12:01:41,  3.96it/s]"
     ]
    },
    {
     "name": "stdout",
     "output_type": "stream",
     "text": [
      "[0.9859148263931274]\n",
      "14.406479554569977\n",
      "120.97479343414308\n"
     ]
    },
    {
     "name": "stderr",
     "output_type": "stream",
     "text": [
      " 35%|██████████████████▊                                   | 91950/263496 [6:12:31<11:50:58,  4.02it/s]"
     ]
    },
    {
     "name": "stdout",
     "output_type": "stream",
     "text": [
      "[0.9135680794715881]\n",
      "14.418482676147036\n",
      "120.97492083907129\n"
     ]
    },
    {
     "name": "stderr",
     "output_type": "stream",
     "text": [
      " 35%|██████████████████▉                                   | 92165/263496 [6:13:24<11:53:04,  4.00it/s]"
     ]
    },
    {
     "name": "stdout",
     "output_type": "stream",
     "text": [
      "[0.85031658411026]\n",
      "14.607928040467518\n",
      "120.97475185990335\n"
     ]
    },
    {
     "name": "stderr",
     "output_type": "stream",
     "text": [
      " 35%|██████████████████▉                                   | 92391/263496 [6:14:20<12:02:49,  3.95it/s]"
     ]
    },
    {
     "name": "stdout",
     "output_type": "stream",
     "text": [
      "[0.9391528367996216]\n",
      "14.758140673630724\n",
      "120.97505092620851\n"
     ]
    },
    {
     "name": "stderr",
     "output_type": "stream",
     "text": [
      " 35%|███████████████████                                   | 92850/263496 [6:16:15<12:08:59,  3.90it/s]"
     ]
    },
    {
     "name": "stdout",
     "output_type": "stream",
     "text": [
      "[0.8157552480697632]\n",
      "14.600534621056298\n",
      "120.97567453980447\n"
     ]
    },
    {
     "name": "stderr",
     "output_type": "stream",
     "text": [
      " 35%|███████████████████                                   | 93031/263496 [6:17:00<11:53:45,  3.98it/s]"
     ]
    },
    {
     "name": "stdout",
     "output_type": "stream",
     "text": [
      "[0.9890856146812439]\n",
      "14.720627029875107\n",
      "120.97576841712\n"
     ]
    },
    {
     "name": "stderr",
     "output_type": "stream",
     "text": [
      " 35%|███████████████████                                   | 93232/263496 [6:17:49<11:42:45,  4.04it/s]"
     ]
    },
    {
     "name": "stdout",
     "output_type": "stream",
     "text": [
      "[0.7998953461647034]\n",
      "14.34535247286784\n",
      "120.97643762826921\n"
     ]
    },
    {
     "name": "stderr",
     "output_type": "stream",
     "text": [
      " 35%|███████████████████                                   | 93291/263496 [6:18:04<12:19:28,  3.84it/s]"
     ]
    },
    {
     "name": "stdout",
     "output_type": "stream",
     "text": [
      "[0.9591673612594604]\n",
      "14.384400489413025\n",
      "120.97657442092897\n"
     ]
    },
    {
     "name": "stderr",
     "output_type": "stream",
     "text": [
      " 35%|███████████████████▏                                  | 93397/263496 [6:18:31<11:51:02,  3.99it/s]"
     ]
    },
    {
     "name": "stdout",
     "output_type": "stream",
     "text": [
      "[0.9758525490760803]\n",
      "14.454843990867056\n",
      "120.97631692886354\n"
     ]
    },
    {
     "name": "stderr",
     "output_type": "stream",
     "text": [
      " 36%|███████████████████▏                                  | 93640/263496 [6:19:31<11:54:29,  3.96it/s]"
     ]
    },
    {
     "name": "stdout",
     "output_type": "stream",
     "text": [
      "[0.9686766266822815]\n",
      "14.662865405125698\n",
      "120.97608491778375\n"
     ]
    },
    {
     "name": "stderr",
     "output_type": "stream",
     "text": [
      " 36%|███████████████████▎                                  | 94007/263496 [6:21:02<11:54:34,  3.95it/s]"
     ]
    },
    {
     "name": "stdout",
     "output_type": "stream",
     "text": [
      "[0.9761075973510742]\n",
      "14.397803808911098\n",
      "120.97714841365814\n"
     ]
    },
    {
     "name": "stderr",
     "output_type": "stream",
     "text": [
      " 36%|███████████████████▎                                  | 94329/263496 [6:22:22<11:47:16,  3.99it/s]"
     ]
    },
    {
     "name": "stdout",
     "output_type": "stream",
     "text": [
      "[0.9954571723937988, 0.9879364371299744]\n",
      "14.658368475434845\n",
      "120.97679838538171\n",
      "14.658465784507888\n",
      "120.97700089216232\n"
     ]
    },
    {
     "name": "stderr",
     "output_type": "stream",
     "text": [
      " 36%|███████████████████▎                                  | 94355/263496 [6:22:29<11:33:00,  4.07it/s]"
     ]
    },
    {
     "name": "stdout",
     "output_type": "stream",
     "text": [
      "[0.9724352955818176]\n",
      "14.675648584391643\n",
      "120.97711354494095\n"
     ]
    },
    {
     "name": "stderr",
     "output_type": "stream",
     "text": [
      " 36%|███████████████████▎                                  | 94371/263496 [6:22:33<11:52:53,  3.95it/s]"
     ]
    },
    {
     "name": "stdout",
     "output_type": "stream",
     "text": [
      "[0.9899671077728271]\n",
      "14.685999908488698\n",
      "120.97702771425247\n"
     ]
    },
    {
     "name": "stderr",
     "output_type": "stream",
     "text": [
      " 36%|███████████████████▎                                  | 94478/263496 [6:22:59<11:45:01,  4.00it/s]"
     ]
    },
    {
     "name": "stdout",
     "output_type": "stream",
     "text": [
      "[0.9692548513412476]\n",
      "14.757496132706423\n",
      "120.97696334123613\n"
     ]
    },
    {
     "name": "stderr",
     "output_type": "stream",
     "text": [
      " 36%|███████████████████▍                                  | 94554/263496 [6:23:18<11:23:31,  4.12it/s]"
     ]
    },
    {
     "name": "stdout",
     "output_type": "stream",
     "text": [
      "[0.822920560836792]\n",
      "14.807586955081577\n",
      "120.97678497433664\n"
     ]
    },
    {
     "name": "stderr",
     "output_type": "stream",
     "text": [
      " 36%|███████████████████▍                                  | 94683/263496 [6:23:50<12:10:53,  3.85it/s]"
     ]
    },
    {
     "name": "stdout",
     "output_type": "stream",
     "text": [
      "[0.9572252631187439]\n",
      "14.384427769706615\n",
      "120.97760707139969\n"
     ]
    },
    {
     "name": "stderr",
     "output_type": "stream",
     "text": [
      " 36%|███████████████████▍                                  | 94685/263496 [6:23:51<12:02:58,  3.89it/s]"
     ]
    },
    {
     "name": "stdout",
     "output_type": "stream",
     "text": [
      "[0.9837791323661804]\n",
      "14.385782687095015\n",
      "120.97767010331154\n"
     ]
    },
    {
     "name": "stderr",
     "output_type": "stream",
     "text": [
      " 36%|███████████████████▌                                  | 95620/263496 [6:27:43<12:17:01,  3.80it/s]"
     ]
    },
    {
     "name": "stdout",
     "output_type": "stream",
     "text": [
      "[0.9922842383384705]\n",
      "14.591195482993623\n",
      "120.9783299267292\n"
     ]
    },
    {
     "name": "stderr",
     "output_type": "stream",
     "text": [
      " 36%|███████████████████▌                                  | 95721/263496 [6:28:08<11:31:04,  4.05it/s]"
     ]
    },
    {
     "name": "stdout",
     "output_type": "stream",
     "text": [
      "[0.9752752780914307]\n",
      "14.658269868907494\n",
      "120.97842916846275\n"
     ]
    },
    {
     "name": "stderr",
     "output_type": "stream",
     "text": [
      " 36%|███████████████████▋                                  | 95822/263496 [6:28:33<11:25:36,  4.08it/s]"
     ]
    },
    {
     "name": "stdout",
     "output_type": "stream",
     "text": [
      "[0.7953734993934631]\n",
      "14.725444348609933\n",
      "120.97841173410416\n"
     ]
    },
    {
     "name": "stderr",
     "output_type": "stream",
     "text": [
      " 37%|███████████████████▋                                  | 96300/263496 [6:30:32<11:25:37,  4.06it/s]"
     ]
    },
    {
     "name": "stdout",
     "output_type": "stream",
     "text": [
      "[0.9622368812561035]\n",
      "14.5804853555411\n",
      "120.97882881760597\n"
     ]
    },
    {
     "name": "stderr",
     "output_type": "stream",
     "text": [
      " 37%|███████████████████▊                                  | 96783/263496 [6:32:32<11:40:43,  3.97it/s]"
     ]
    },
    {
     "name": "stdout",
     "output_type": "stream",
     "text": [
      "[0.9339007139205933]\n",
      "14.392427249273837\n",
      "120.97965493798256\n"
     ]
    },
    {
     "name": "stderr",
     "output_type": "stream",
     "text": [
      " 37%|███████████████████▉                                  | 96990/263496 [6:33:24<11:17:24,  4.10it/s]"
     ]
    },
    {
     "name": "stdout",
     "output_type": "stream",
     "text": [
      "[0.7436666488647461]\n",
      "14.576520191984063\n",
      "120.98000228404999\n"
     ]
    },
    {
     "name": "stderr",
     "output_type": "stream",
     "text": [
      " 37%|███████████████████▉                                  | 97132/263496 [6:33:59<11:29:38,  4.02it/s]"
     ]
    },
    {
     "name": "stdout",
     "output_type": "stream",
     "text": [
      "[0.9932047128677368, 0.861251711845398]\n",
      "14.67097677116872\n",
      "120.97964957356453\n",
      "14.67081978824706\n",
      "120.97985878586769\n"
     ]
    },
    {
     "name": "stderr",
     "output_type": "stream",
     "text": [
      " 37%|████████████████████                                  | 97720/263496 [6:36:25<11:23:13,  4.04it/s]"
     ]
    },
    {
     "name": "stdout",
     "output_type": "stream",
     "text": [
      "[0.9126877188682556]\n",
      "14.599127805730955\n",
      "120.98046630620956\n"
     ]
    },
    {
     "name": "stderr",
     "output_type": "stream",
     "text": [
      "\r",
      " 37%|████████████████████                                  | 97721/263496 [6:36:25<11:17:30,  4.08it/s]"
     ]
    },
    {
     "name": "stdout",
     "output_type": "stream",
     "text": [
      "[0.9797217845916748]\n",
      "14.599907784711025\n",
      "120.98035231232643\n"
     ]
    },
    {
     "name": "stderr",
     "output_type": "stream",
     "text": [
      " 37%|████████████████████                                  | 98147/263496 [6:38:11<11:38:30,  3.95it/s]"
     ]
    },
    {
     "name": "stdout",
     "output_type": "stream",
     "text": [
      "[0.963789701461792]\n",
      "14.373837566633409\n",
      "120.9811931848526\n"
     ]
    },
    {
     "name": "stderr",
     "output_type": "stream",
     "text": [
      " 38%|████████████████████▎                                 | 99111/263496 [6:42:11<11:14:55,  4.06it/s]"
     ]
    },
    {
     "name": "stdout",
     "output_type": "stream",
     "text": [
      "[0.9887856245040894]\n",
      "14.598491880708975\n",
      "120.9819321334362\n"
     ]
    },
    {
     "name": "stderr",
     "output_type": "stream",
     "text": [
      " 38%|████████████████████▎                                 | 99225/263496 [6:42:39<11:21:23,  4.02it/s]"
     ]
    },
    {
     "name": "stdout",
     "output_type": "stream",
     "text": [
      "[0.962563693523407]\n",
      "14.674469288633931\n",
      "120.9816974401474\n"
     ]
    },
    {
     "name": "stderr",
     "output_type": "stream",
     "text": [
      " 38%|████████████████████▍                                 | 99803/263496 [6:45:03<11:19:07,  4.02it/s]"
     ]
    },
    {
     "name": "stdout",
     "output_type": "stream",
     "text": [
      "[0.9213797450065613]\n",
      "14.595784636520488\n",
      "120.9824900329113\n"
     ]
    },
    {
     "name": "stderr",
     "output_type": "stream",
     "text": [
      " 38%|████████████████████                                 | 100012/263496 [6:45:54<11:23:17,  3.99it/s]"
     ]
    },
    {
     "name": "stdout",
     "output_type": "stream",
     "text": [
      "[0.8168540000915527]\n",
      "14.734788138930533\n",
      "120.98242565989494\n"
     ]
    },
    {
     "name": "stderr",
     "output_type": "stream",
     "text": [
      " 38%|████████████████████▏                                | 100224/263496 [6:46:47<11:19:14,  4.01it/s]"
     ]
    },
    {
     "name": "stdout",
     "output_type": "stream",
     "text": [
      "[0.7798517346382141]\n",
      "14.366251856590326\n",
      "120.98327457904816\n"
     ]
    },
    {
     "name": "stderr",
     "output_type": "stream",
     "text": [
      " 38%|████████████████████▏                                | 100445/263496 [6:47:42<11:15:12,  4.02it/s]"
     ]
    },
    {
     "name": "stdout",
     "output_type": "stream",
     "text": [
      "[0.9573390483856201]\n",
      "14.513379476676823\n",
      "120.98334297537804\n"
     ]
    },
    {
     "name": "stderr",
     "output_type": "stream",
     "text": [
      " 38%|████████████████████▎                                | 100963/263496 [6:49:51<11:27:15,  3.94it/s]"
     ]
    },
    {
     "name": "stdout",
     "output_type": "stream",
     "text": [
      "[0.7642305493354797]\n",
      "14.395077224786549\n",
      "120.9838405251503\n"
     ]
    },
    {
     "name": "stderr",
     "output_type": "stream",
     "text": [
      " 38%|████████████████████▎                                | 101164/263496 [6:50:40<11:11:29,  4.03it/s]"
     ]
    },
    {
     "name": "stdout",
     "output_type": "stream",
     "text": [
      "[0.9916850328445435]\n",
      "14.575214462927159\n",
      "120.98405510187149\n"
     ]
    },
    {
     "name": "stderr",
     "output_type": "stream",
     "text": [
      " 39%|████████████████████▍                                | 101659/263496 [6:52:44<11:22:13,  3.95it/s]"
     ]
    },
    {
     "name": "stdout",
     "output_type": "stream",
     "text": [
      "[0.8955686688423157]\n",
      "14.394920045823163\n",
      "120.98436892032623\n"
     ]
    },
    {
     "name": "stderr",
     "output_type": "stream",
     "text": [
      " 39%|████████████████████▍                                | 101671/263496 [6:52:47<11:00:49,  4.08it/s]"
     ]
    },
    {
     "name": "stdout",
     "output_type": "stream",
     "text": [
      "[0.9934287667274475]\n",
      "14.403059436393374\n",
      "120.98472565412521\n"
     ]
    },
    {
     "name": "stderr",
     "output_type": "stream",
     "text": [
      " 39%|████████████████████▍                                | 101836/263496 [6:53:28<11:01:23,  4.07it/s]"
     ]
    },
    {
     "name": "stdout",
     "output_type": "stream",
     "text": [
      "[0.973404586315155]\n",
      "14.51277056903611\n",
      "120.98453924059868\n"
     ]
    },
    {
     "name": "stderr",
     "output_type": "stream",
     "text": [
      " 39%|████████████████████▍                                | 101856/263496 [6:53:32<11:25:32,  3.93it/s]"
     ]
    },
    {
     "name": "stdout",
     "output_type": "stream",
     "text": [
      "[0.9834119081497192]\n",
      "14.57265360207035\n",
      "120.9842897951603\n"
     ]
    },
    {
     "name": "stderr",
     "output_type": "stream",
     "text": [
      " 39%|████████████████████▋                                | 102554/263496 [6:56:26<11:22:29,  3.93it/s]"
     ]
    },
    {
     "name": "stdout",
     "output_type": "stream",
     "text": [
      "[0.9851915836334229]\n",
      "14.574169614629701\n",
      "120.98498046398163\n"
     ]
    },
    {
     "name": "stderr",
     "output_type": "stream",
     "text": [
      " 39%|████████████████████▋                                | 102578/263496 [6:56:32<11:05:26,  4.03it/s]"
     ]
    },
    {
     "name": "stdout",
     "output_type": "stream",
     "text": [
      "[0.9849504232406616]\n",
      "14.589897628102532\n",
      "120.98522454500198\n"
     ]
    },
    {
     "name": "stderr",
     "output_type": "stream",
     "text": [
      " 39%|████████████████████▊                                | 103385/263496 [6:59:53<10:56:01,  4.07it/s]"
     ]
    },
    {
     "name": "stdout",
     "output_type": "stream",
     "text": [
      "[0.8818334341049194]\n",
      "14.663738572040298\n",
      "120.98595410585403\n"
     ]
    },
    {
     "name": "stderr",
     "output_type": "stream",
     "text": [
      " 39%|████████████████████▉                                | 103917/263496 [7:02:05<11:05:05,  4.00it/s]"
     ]
    },
    {
     "name": "stdout",
     "output_type": "stream",
     "text": [
      "[0.9504278302192688]\n",
      "14.508230324413885\n",
      "120.98651334643364\n"
     ]
    },
    {
     "name": "stderr",
     "output_type": "stream",
     "text": [
      " 39%|████████████████████▉                                | 103987/263496 [7:02:22<10:54:18,  4.06it/s]"
     ]
    },
    {
     "name": "stdout",
     "output_type": "stream",
     "text": [
      "[0.9927921295166016]\n",
      "14.601267874573297\n",
      "120.98651066422462\n"
     ]
    },
    {
     "name": "stderr",
     "output_type": "stream",
     "text": [
      " 39%|████████████████████▉                                | 104014/263496 [7:02:29<10:59:54,  4.03it/s]"
     ]
    },
    {
     "name": "stdout",
     "output_type": "stream",
     "text": [
      "[0.9925301671028137]\n",
      "14.618939193314006\n",
      "120.98656967282295\n"
     ]
    },
    {
     "name": "stderr",
     "output_type": "stream",
     "text": [
      " 40%|█████████████████████                                | 104438/263496 [7:04:15<11:08:45,  3.96it/s]"
     ]
    },
    {
     "name": "stdout",
     "output_type": "stream",
     "text": [
      "[0.7673097252845764]\n",
      "14.392010265080897\n",
      "120.98726972937584\n"
     ]
    },
    {
     "name": "stderr",
     "output_type": "stream",
     "text": [
      " 40%|█████████████████████▏                               | 105084/263496 [7:06:56<10:55:10,  4.03it/s]"
     ]
    },
    {
     "name": "stdout",
     "output_type": "stream",
     "text": [
      "[0.9884741902351379]\n",
      "14.35852817254365\n",
      "120.9880730509758\n"
     ]
    },
    {
     "name": "stderr",
     "output_type": "stream",
     "text": [
      " 40%|█████████████████████▏                               | 105135/263496 [7:07:08<11:08:54,  3.95it/s]"
     ]
    },
    {
     "name": "stdout",
     "output_type": "stream",
     "text": [
      "[0.9064465165138245]\n",
      "14.392706537536863\n",
      "120.98804220557213\n"
     ]
    },
    {
     "name": "stderr",
     "output_type": "stream",
     "text": [
      " 40%|█████████████████████▏                               | 105315/263496 [7:07:53<10:56:53,  4.01it/s]"
     ]
    },
    {
     "name": "stdout",
     "output_type": "stream",
     "text": [
      "[0.9806061387062073]\n",
      "14.512111025409869\n",
      "120.9879295527935\n"
     ]
    },
    {
     "name": "stderr",
     "output_type": "stream",
     "text": [
      " 40%|█████████████████████▎                               | 106112/263496 [7:11:12<11:18:12,  3.87it/s]"
     ]
    },
    {
     "name": "stdout",
     "output_type": "stream",
     "text": [
      "[0.7315884232521057]\n",
      "14.62562088363707\n",
      "120.98875299096107\n"
     ]
    },
    {
     "name": "stderr",
     "output_type": "stream",
     "text": [
      " 40%|█████████████████████▍                               | 106587/263496 [7:13:11<10:56:34,  3.98it/s]"
     ]
    },
    {
     "name": "stdout",
     "output_type": "stream",
     "text": [
      "[0.9548065066337585]\n",
      "14.432455412432615\n",
      "120.9893149137497\n"
     ]
    },
    {
     "name": "stderr",
     "output_type": "stream",
     "text": [
      " 41%|█████████████████████▍                               | 106769/263496 [7:13:56<10:48:09,  4.03it/s]"
     ]
    },
    {
     "name": "stdout",
     "output_type": "stream",
     "text": [
      "[0.9341721534729004]\n",
      "14.600047947103988\n",
      "120.98949328064919\n"
     ]
    },
    {
     "name": "stderr",
     "output_type": "stream",
     "text": [
      " 41%|█████████████████████▍                               | 106781/263496 [7:13:59<10:57:12,  3.97it/s]"
     ]
    },
    {
     "name": "stdout",
     "output_type": "stream",
     "text": [
      "[0.8059930205345154]\n",
      "14.607804753944112\n",
      "120.98945170640945\n"
     ]
    },
    {
     "name": "stderr",
     "output_type": "stream",
     "text": [
      " 41%|█████████████████████▌                               | 107019/263496 [7:14:59<10:49:48,  4.01it/s]"
     ]
    },
    {
     "name": "stdout",
     "output_type": "stream",
     "text": [
      "[0.8753907680511475]\n",
      "14.765686977714575\n",
      "120.98951742053032\n"
     ]
    },
    {
     "name": "stderr",
     "output_type": "stream",
     "text": [
      " 41%|█████████████████████▌                               | 107441/263496 [7:16:44<10:53:50,  3.98it/s]"
     ]
    },
    {
     "name": "stdout",
     "output_type": "stream",
     "text": [
      "[0.9679553508758545]\n",
      "14.584088335914107\n",
      "120.99011689424515\n"
     ]
    },
    {
     "name": "stderr",
     "output_type": "stream",
     "text": [
      " 41%|█████████████████████▋                               | 107779/263496 [7:18:08<10:41:46,  4.04it/s]"
     ]
    },
    {
     "name": "stdout",
     "output_type": "stream",
     "text": [
      "[0.8098958730697632]\n",
      "14.808646246847797\n",
      "120.98991438746452\n"
     ]
    },
    {
     "name": "stderr",
     "output_type": "stream",
     "text": [
      " 41%|█████████████████████▊                               | 108389/263496 [7:20:41<10:58:53,  3.92it/s]"
     ]
    },
    {
     "name": "stdout",
     "output_type": "stream",
     "text": [
      "[0.860259473323822]\n",
      "14.751164745668916\n",
      "120.99058628082275\n"
     ]
    },
    {
     "name": "stderr",
     "output_type": "stream",
     "text": [
      " 42%|██████████████████████                               | 109520/263496 [7:25:24<10:48:24,  3.96it/s]"
     ]
    },
    {
     "name": "stdout",
     "output_type": "stream",
     "text": [
      "[0.935833215713501]\n",
      "14.577881724261974\n",
      "120.99199712276459\n"
     ]
    },
    {
     "name": "stderr",
     "output_type": "stream",
     "text": [
      " 42%|██████████████████████▏                              | 109998/263496 [7:27:24<10:37:42,  4.01it/s]"
     ]
    },
    {
     "name": "stdout",
     "output_type": "stream",
     "text": [
      "[0.9776927828788757]\n",
      "14.386501062783353\n",
      "120.99265292286873\n"
     ]
    },
    {
     "name": "stderr",
     "output_type": "stream",
     "text": [
      " 42%|██████████████████████▏                              | 110531/263496 [7:29:38<10:28:55,  4.05it/s]"
     ]
    },
    {
     "name": "stdout",
     "output_type": "stream",
     "text": [
      "[0.9920365214347839]\n",
      "14.787314200706017\n",
      "120.99269583821297\n"
     ]
    },
    {
     "name": "stderr",
     "output_type": "stream",
     "text": [
      " 42%|██████████████████████▎                              | 111114/263496 [7:32:04<10:53:11,  3.89it/s]"
     ]
    },
    {
     "name": "stdout",
     "output_type": "stream",
     "text": [
      "[0.959364652633667]\n",
      "14.712172468940443\n",
      "120.9935474395752\n"
     ]
    },
    {
     "name": "stderr",
     "output_type": "stream",
     "text": [
      " 42%|██████████████████████▍                              | 111610/263496 [7:34:07<10:37:16,  3.97it/s]"
     ]
    },
    {
     "name": "stdout",
     "output_type": "stream",
     "text": [
      "[0.9548180103302002]\n",
      "14.579411977911066\n",
      "120.99433064460754\n"
     ]
    },
    {
     "name": "stderr",
     "output_type": "stream",
     "text": [
      " 43%|██████████████████████▌                              | 112227/263496 [7:36:41<10:46:18,  3.90it/s]"
     ]
    },
    {
     "name": "stdout",
     "output_type": "stream",
     "text": [
      "[0.8120058178901672]\n",
      "14.48019481685845\n",
      "120.9946297109127\n"
     ]
    },
    {
     "name": "stderr",
     "output_type": "stream",
     "text": [
      " 43%|██████████████████████▊                              | 113178/263496 [7:40:39<10:12:18,  4.09it/s]"
     ]
    },
    {
     "name": "stdout",
     "output_type": "stream",
     "text": [
      "[0.985193133354187]\n",
      "14.696294961426121\n",
      "120.9956006705761\n"
     ]
    },
    {
     "name": "stderr",
     "output_type": "stream",
     "text": [
      " 43%|██████████████████████▊                              | 113580/263496 [7:42:20<10:32:22,  3.95it/s]"
     ]
    },
    {
     "name": "stdout",
     "output_type": "stream",
     "text": [
      "[0.9255099892616272]\n",
      "14.45429595926953\n",
      "120.99609285593033\n"
     ]
    },
    {
     "name": "stderr",
     "output_type": "stream",
     "text": [
      " 43%|██████████████████████▉                              | 113789/263496 [7:43:12<10:43:07,  3.88it/s]"
     ]
    },
    {
     "name": "stdout",
     "output_type": "stream",
     "text": [
      "[0.9748567342758179]\n",
      "14.63963373524153\n",
      "120.99613845348358\n"
     ]
    },
    {
     "name": "stderr",
     "output_type": "stream",
     "text": [
      " 43%|██████████████████████▉                              | 113952/263496 [7:43:53<10:36:11,  3.92it/s]"
     ]
    },
    {
     "name": "stdout",
     "output_type": "stream",
     "text": [
      "[0.7269413471221924]\n",
      "14.747875775483564\n",
      "120.99626585841179\n"
     ]
    },
    {
     "name": "stderr",
     "output_type": "stream",
     "text": [
      " 43%|███████████████████████                              | 114530/263496 [7:46:18<10:25:11,  3.97it/s]"
     ]
    },
    {
     "name": "stdout",
     "output_type": "stream",
     "text": [
      "[0.8195099830627441]\n",
      "14.669534080577122\n",
      "120.99696323275566\n"
     ]
    },
    {
     "name": "stderr",
     "output_type": "stream",
     "text": [
      " 44%|███████████████████████                              | 114921/263496 [7:47:55<10:27:32,  3.95it/s]"
     ]
    },
    {
     "name": "stdout",
     "output_type": "stream",
     "text": [
      "[0.9416257739067078]\n",
      "14.420342641026165\n",
      "120.99752381443977\n"
     ]
    },
    {
     "name": "stderr",
     "output_type": "stream",
     "text": [
      " 44%|███████████████████████▏                             | 115011/263496 [7:48:18<10:26:24,  3.95it/s]"
     ]
    },
    {
     "name": "stdout",
     "output_type": "stream",
     "text": [
      "[0.9910849928855896]\n",
      "14.480244159971463\n",
      "120.99760696291924\n"
     ]
    },
    {
     "name": "stderr",
     "output_type": "stream",
     "text": [
      " 44%|███████████████████████▏                             | 115173/263496 [7:48:58<10:26:51,  3.94it/s]"
     ]
    },
    {
     "name": "stdout",
     "output_type": "stream",
     "text": [
      "[0.9803475141525269]\n",
      "14.634512186494824\n",
      "120.99739909172058\n"
     ]
    },
    {
     "name": "stderr",
     "output_type": "stream",
     "text": [
      " 44%|███████████████████████▏                             | 115587/263496 [7:50:41<10:20:47,  3.97it/s]"
     ]
    },
    {
     "name": "stdout",
     "output_type": "stream",
     "text": [
      "[0.9801408648490906]\n",
      "14.400483596871984\n",
      "120.9982855618\n"
     ]
    },
    {
     "name": "stderr",
     "output_type": "stream",
     "text": [
      " 44%|███████████████████████▎                             | 115735/263496 [7:51:18<10:19:36,  3.97it/s]"
     ]
    },
    {
     "name": "stdout",
     "output_type": "stream",
     "text": [
      "[0.7116618156433105]\n",
      "14.498654867963609\n",
      "120.99824130535126\n"
     ]
    },
    {
     "name": "stderr",
     "output_type": "stream",
     "text": [
      " 44%|███████████████████████▎                             | 115800/263496 [7:51:35<10:10:00,  4.04it/s]"
     ]
    },
    {
     "name": "stdout",
     "output_type": "stream",
     "text": [
      "[0.9818860292434692]\n",
      "14.588556935967091\n",
      "120.99828690290451\n"
     ]
    },
    {
     "name": "stderr",
     "output_type": "stream",
     "text": [
      " 44%|███████████████████████▎                             | 115858/263496 [7:51:49<10:26:02,  3.93it/s]"
     ]
    },
    {
     "name": "stdout",
     "output_type": "stream",
     "text": [
      "[0.878336489200592]\n",
      "14.627059970318808\n",
      "120.9982480108738\n"
     ]
    },
    {
     "name": "stderr",
     "output_type": "stream",
     "text": [
      " 44%|███████████████████████▎                             | 116081/263496 [7:52:45<10:31:25,  3.89it/s]"
     ]
    },
    {
     "name": "stdout",
     "output_type": "stream",
     "text": [
      "[0.892873227596283]\n",
      "14.775127594020015\n",
      "120.99842771887779\n"
     ]
    },
    {
     "name": "stderr",
     "output_type": "stream",
     "text": [
      " 44%|███████████████████████▌                             | 117130/263496 [7:57:07<10:10:40,  3.99it/s]"
     ]
    },
    {
     "name": "stdout",
     "output_type": "stream",
     "text": [
      "[0.9940189123153687]\n",
      "14.50092834596868\n",
      "120.99955826997757\n"
     ]
    },
    {
     "name": "stderr",
     "output_type": "stream",
     "text": [
      " 44%|███████████████████████▌                             | 117209/263496 [7:57:26<10:16:12,  3.96it/s]"
     ]
    },
    {
     "name": "stdout",
     "output_type": "stream",
     "text": [
      "[0.7821639776229858]\n",
      "14.599781898117348\n",
      "120.9995824098587\n"
     ]
    },
    {
     "name": "stderr",
     "output_type": "stream",
     "text": [
      " 44%|███████████████████████▌                             | 117244/263496 [7:57:35<10:20:11,  3.93it/s]"
     ]
    },
    {
     "name": "stdout",
     "output_type": "stream",
     "text": [
      "[0.8758525252342224]\n",
      "14.623099539363771\n",
      "120.99959716200829\n"
     ]
    },
    {
     "name": "stderr",
     "output_type": "stream",
     "text": [
      " 45%|███████████████████████▋                             | 117950/263496 [8:00:32<10:11:54,  3.96it/s]"
     ]
    },
    {
     "name": "stdout",
     "output_type": "stream",
     "text": [
      "[0.9292975068092346]\n",
      "14.629823924692904\n",
      "121.00035086274147\n"
     ]
    },
    {
     "name": "stderr",
     "output_type": "stream",
     "text": [
      " 45%|████████████████████████▍                             | 119053/263496 [8:05:06<9:59:15,  4.02it/s]"
     ]
    },
    {
     "name": "stdout",
     "output_type": "stream",
     "text": [
      "[0.8216912150382996]\n",
      "14.391203573510218\n",
      "121.00167319178581\n"
     ]
    },
    {
     "name": "stderr",
     "output_type": "stream",
     "text": [
      " 45%|████████████████████████▍                             | 119324/263496 [8:06:14<9:59:45,  4.01it/s]"
     ]
    },
    {
     "name": "stdout",
     "output_type": "stream",
     "text": [
      "[0.962047278881073]\n",
      "14.617805011586597\n",
      "121.00170135498047\n"
     ]
    },
    {
     "name": "stderr",
     "output_type": "stream",
     "text": [
      " 45%|████████████████████████                             | 119330/263496 [8:06:15<10:04:21,  3.98it/s]"
     ]
    },
    {
     "name": "stdout",
     "output_type": "stream",
     "text": [
      "[0.9907692074775696]\n",
      "14.621735691599996\n",
      "121.00173622369766\n"
     ]
    },
    {
     "name": "stderr",
     "output_type": "stream",
     "text": [
      " 46%|████████████████████████▊                             | 120909/263496 [8:12:46<9:45:49,  4.06it/s]"
     ]
    },
    {
     "name": "stdout",
     "output_type": "stream",
     "text": [
      "[0.7842870950698853]\n",
      "14.74620792705232\n",
      "121.00328117609023\n"
     ]
    },
    {
     "name": "stderr",
     "output_type": "stream",
     "text": [
      " 46%|████████████████████████▎                            | 121137/263496 [8:13:42<10:03:00,  3.93it/s]"
     ]
    },
    {
     "name": "stdout",
     "output_type": "stream",
     "text": [
      "[0.7546166181564331]\n",
      "14.3883651914625\n",
      "121.00372910499571\n"
     ]
    },
    {
     "name": "stderr",
     "output_type": "stream",
     "text": [
      " 46%|████████████████████████▉                             | 121792/263496 [8:16:25<9:39:46,  4.07it/s]"
     ]
    },
    {
     "name": "stdout",
     "output_type": "stream",
     "text": [
      "[0.9832747578620911]\n",
      "14.361385122266158\n",
      "121.00469738245009\n"
     ]
    },
    {
     "name": "stderr",
     "output_type": "stream",
     "text": [
      " 46%|████████████████████████▉                             | 121848/263496 [8:16:39<9:53:43,  3.98it/s]"
     ]
    },
    {
     "name": "stdout",
     "output_type": "stream",
     "text": [
      "[0.8407209515571594]\n",
      "14.398561115346057\n",
      "121.00432321429251\n"
     ]
    },
    {
     "name": "stderr",
     "output_type": "stream",
     "text": [
      " 47%|█████████████████████████                             | 122584/263496 [8:19:41<9:49:21,  3.98it/s]"
     ]
    },
    {
     "name": "stdout",
     "output_type": "stream",
     "text": [
      "[0.9925389885902405]\n",
      "14.425015864195204\n",
      "121.0050769150257\n"
     ]
    },
    {
     "name": "stderr",
     "output_type": "stream",
     "text": [
      " 47%|█████████████████████████▎                            | 123516/263496 [8:23:32<9:56:48,  3.91it/s]"
     ]
    },
    {
     "name": "stdout",
     "output_type": "stream",
     "text": [
      "[0.7527886033058167]\n",
      "14.62848217841698\n",
      "121.00592181086539\n"
     ]
    },
    {
     "name": "stderr",
     "output_type": "stream",
     "text": [
      " 47%|█████████████████████████▍                            | 124106/263496 [8:25:58<9:33:04,  4.05it/s]"
     ]
    },
    {
     "name": "stdout",
     "output_type": "stream",
     "text": [
      "[0.9905351996421814]\n",
      "14.511537168932763\n",
      "121.00654006004332\n"
     ]
    },
    {
     "name": "stderr",
     "output_type": "stream",
     "text": [
      " 47%|█████████████████████████▍                            | 124150/263496 [8:26:09<9:44:35,  3.97it/s]"
     ]
    },
    {
     "name": "stdout",
     "output_type": "stream",
     "text": [
      "[0.9876204133033752]\n",
      "14.587209746295287\n",
      "121.00668892264365\n"
     ]
    },
    {
     "name": "stderr",
     "output_type": "stream",
     "text": [
      " 47%|█████████████████████████▌                            | 124607/263496 [8:28:03<9:28:58,  4.07it/s]"
     ]
    },
    {
     "name": "stdout",
     "output_type": "stream",
     "text": [
      "[0.8121813535690308]\n",
      "14.381760779829659\n",
      "121.00744128227232\n"
     ]
    },
    {
     "name": "stderr",
     "output_type": "stream",
     "text": [
      " 47%|█████████████████████████▌                            | 124853/263496 [8:29:04<9:35:10,  4.02it/s]"
     ]
    },
    {
     "name": "stdout",
     "output_type": "stream",
     "text": [
      "[0.9495077133178711]\n",
      "14.592113061893432\n",
      "121.00745201110838\n"
     ]
    },
    {
     "name": "stderr",
     "output_type": "stream",
     "text": [
      " 48%|█████████████████████████▋                            | 125275/263496 [8:30:49<9:35:30,  4.00it/s]"
     ]
    },
    {
     "name": "stdout",
     "output_type": "stream",
     "text": [
      "[0.98653644323349]\n",
      "14.362985725677968\n",
      "121.00795358419417\n"
     ]
    },
    {
     "name": "stderr",
     "output_type": "stream",
     "text": [
      " 48%|█████████████████████████▋                            | 125343/263496 [8:31:06<9:29:40,  4.04it/s]"
     ]
    },
    {
     "name": "stdout",
     "output_type": "stream",
     "text": [
      "[0.9898145198822021]\n",
      "14.40857602346525\n",
      "121.00818425416945\n"
     ]
    },
    {
     "name": "stderr",
     "output_type": "stream",
     "text": [
      " 48%|█████████████████████████▊                            | 126007/263496 [8:33:50<9:20:06,  4.09it/s]"
     ]
    },
    {
     "name": "stdout",
     "output_type": "stream",
     "text": [
      "[0.9748275876045227]\n",
      "14.387257108511756\n",
      "121.00851416587828\n"
     ]
    },
    {
     "name": "stderr",
     "output_type": "stream",
     "text": [
      " 48%|█████████████████████████▉                            | 126557/263496 [8:36:07<9:22:32,  4.06it/s]"
     ]
    },
    {
     "name": "stdout",
     "output_type": "stream",
     "text": [
      "[0.9517783522605896]\n",
      "14.79901000241738\n",
      "121.00850477814673\n"
     ]
    },
    {
     "name": "stderr",
     "output_type": "stream",
     "text": [
      " 48%|██████████████████████████                            | 127000/263496 [8:37:56<9:36:23,  3.95it/s]"
     ]
    },
    {
     "name": "stdout",
     "output_type": "stream",
     "text": [
      "[0.9711920022964478]\n",
      "14.631187722231083\n",
      "121.00925311446188\n"
     ]
    },
    {
     "name": "stderr",
     "output_type": "stream",
     "text": [
      " 48%|██████████████████████████                            | 127071/263496 [8:38:14<9:32:25,  3.97it/s]"
     ]
    },
    {
     "name": "stdout",
     "output_type": "stream",
     "text": [
      "[0.9921658039093018]\n",
      "14.678327599180777\n",
      "121.00932955741881\n"
     ]
    },
    {
     "name": "stderr",
     "output_type": "stream",
     "text": [
      " 48%|██████████████████████████                            | 127374/263496 [8:39:29<9:17:38,  4.07it/s]"
     ]
    },
    {
     "name": "stdout",
     "output_type": "stream",
     "text": [
      "[0.9922365546226501]\n",
      "14.370539067995146\n",
      "121.00981101393698\n"
     ]
    },
    {
     "name": "stderr",
     "output_type": "stream",
     "text": [
      " 48%|██████████████████████████                            | 127395/263496 [8:39:34<9:39:32,  3.91it/s]"
     ]
    },
    {
     "name": "stdout",
     "output_type": "stream",
     "text": [
      "[0.757384181022644]\n",
      "14.384462844369805\n",
      "121.00986599922179\n"
     ]
    },
    {
     "name": "stderr",
     "output_type": "stream",
     "text": [
      " 48%|██████████████████████████                            | 127416/263496 [8:39:39<9:30:40,  3.97it/s]"
     ]
    },
    {
     "name": "stdout",
     "output_type": "stream",
     "text": [
      "[0.8819789886474609]\n",
      "14.398384454019219\n",
      "121.0098686814308\n"
     ]
    },
    {
     "name": "stderr",
     "output_type": "stream",
     "text": [
      " 48%|██████████████████████████▏                           | 127509/263496 [8:40:03<9:27:22,  3.99it/s]"
     ]
    },
    {
     "name": "stdout",
     "output_type": "stream",
     "text": [
      "[0.9400548934936523]\n",
      "14.460217745373004\n",
      "121.01000145077704\n"
     ]
    },
    {
     "name": "stderr",
     "output_type": "stream",
     "text": [
      " 49%|██████████████████████████▏                           | 128035/263496 [8:42:13<9:42:39,  3.87it/s]"
     ]
    },
    {
     "name": "stdout",
     "output_type": "stream",
     "text": [
      "[0.925377368927002]\n",
      "14.34704803830665\n",
      "121.01087048649786\n"
     ]
    },
    {
     "name": "stderr",
     "output_type": "stream",
     "text": [
      " 49%|██████████████████████████▎                           | 128231/263496 [8:43:02<9:24:46,  3.99it/s]"
     ]
    },
    {
     "name": "stdout",
     "output_type": "stream",
     "text": [
      "[0.9544128775596619]\n",
      "14.477540660531275\n",
      "121.01057276129721\n"
     ]
    },
    {
     "name": "stderr",
     "output_type": "stream",
     "text": [
      " 49%|██████████████████████████▎                           | 128275/263496 [8:43:13<9:31:21,  3.94it/s]"
     ]
    },
    {
     "name": "stdout",
     "output_type": "stream",
     "text": [
      "[0.9578908085823059]\n",
      "14.507057921383007\n",
      "121.01050302386282\n"
     ]
    },
    {
     "name": "stderr",
     "output_type": "stream",
     "text": [
      " 49%|██████████████████████████▍                           | 128784/263496 [8:45:19<9:21:17,  4.00it/s]"
     ]
    },
    {
     "name": "stdout",
     "output_type": "stream",
     "text": [
      "[0.9910188913345337]\n",
      "14.382610374836522\n",
      "121.0114511847496\n"
     ]
    },
    {
     "name": "stderr",
     "output_type": "stream",
     "text": [
      " 49%|██████████████████████████▍                           | 128799/263496 [8:45:22<9:22:54,  3.99it/s]"
     ]
    },
    {
     "name": "stdout",
     "output_type": "stream",
     "text": [
      "[0.8233558535575867]\n",
      "14.392592224201298\n",
      "121.01151555776597\n"
     ]
    },
    {
     "name": "stderr",
     "output_type": "stream",
     "text": [
      " 49%|██████████████████████████▌                           | 129495/263496 [8:48:15<9:24:53,  3.95it/s]"
     ]
    },
    {
     "name": "stdout",
     "output_type": "stream",
     "text": [
      "[0.9906136989593506]\n",
      "14.392557150791523\n",
      "121.01208820939065\n"
     ]
    },
    {
     "name": "stderr",
     "output_type": "stream",
     "text": [
      " 49%|██████████████████████████▌                           | 129501/263496 [8:48:17<9:19:05,  3.99it/s]"
     ]
    },
    {
     "name": "stdout",
     "output_type": "stream",
     "text": [
      "[0.9604418873786926]\n",
      "14.396543790870188\n",
      "121.01192057132722\n"
     ]
    },
    {
     "name": "stderr",
     "output_type": "stream",
     "text": [
      " 49%|██████████████████████████▌                           | 129554/263496 [8:48:30<9:31:11,  3.91it/s]"
     ]
    },
    {
     "name": "stdout",
     "output_type": "stream",
     "text": [
      "[0.9904230833053589]\n",
      "14.431720300522523\n",
      "121.01185619831087\n"
     ]
    },
    {
     "name": "stderr",
     "output_type": "stream",
     "text": [
      " 50%|██████████████████████████▊                           | 131063/263496 [8:54:44<9:21:42,  3.93it/s]"
     ]
    },
    {
     "name": "stdout",
     "output_type": "stream",
     "text": [
      "[0.9886472821235657]\n",
      "14.509593576094648\n",
      "121.01348832249643\n"
     ]
    },
    {
     "name": "stderr",
     "output_type": "stream",
     "text": [
      " 50%|██████████████████████████▉                           | 131405/263496 [8:56:09<9:13:22,  3.98it/s]"
     ]
    },
    {
     "name": "stdout",
     "output_type": "stream",
     "text": [
      "[0.9596292972564697]\n",
      "14.783138828289466\n",
      "121.01350978016855\n"
     ]
    },
    {
     "name": "stderr",
     "output_type": "stream",
     "text": [
      " 50%|██████████████████████████▉                           | 131538/263496 [8:56:42<9:07:25,  4.02it/s]"
     ]
    },
    {
     "name": "stdout",
     "output_type": "stream",
     "text": [
      "[0.7996967434883118]\n",
      "14.362455656906421\n",
      "121.01410791277887\n"
     ]
    },
    {
     "name": "stderr",
     "output_type": "stream",
     "text": [
      " 50%|███████████████████████████                           | 131808/263496 [8:57:49<9:21:13,  3.91it/s]"
     ]
    },
    {
     "name": "stdout",
     "output_type": "stream",
     "text": [
      "[0.8602109551429749]\n",
      "14.588772381815824\n",
      "121.01432517170907\n"
     ]
    },
    {
     "name": "stderr",
     "output_type": "stream",
     "text": [
      " 51%|███████████████████████████▎                          | 133199/263496 [9:03:35<8:58:36,  4.03it/s]"
     ]
    },
    {
     "name": "stdout",
     "output_type": "stream",
     "text": [
      "[0.9656915664672852]\n",
      "14.587834023083396\n",
      "121.01525589823724\n"
     ]
    },
    {
     "name": "stderr",
     "output_type": "stream",
     "text": [
      " 51%|███████████████████████████▌                          | 134223/263496 [9:07:49<8:49:53,  4.07it/s]"
     ]
    },
    {
     "name": "stdout",
     "output_type": "stream",
     "text": [
      "[0.9498994946479797]\n",
      "14.80580546625918\n",
      "121.01606994867326\n"
     ]
    },
    {
     "name": "stderr",
     "output_type": "stream",
     "text": [
      " 51%|███████████████████████████▌                          | 134796/263496 [9:10:12<8:46:36,  4.07it/s]"
     ]
    },
    {
     "name": "stdout",
     "output_type": "stream",
     "text": [
      "[0.9898262023925781, 0.9873127341270447]\n",
      "14.723972185236791\n",
      "121.01670563220979\n",
      "14.723944946893372\n",
      "121.01688534021379\n"
     ]
    },
    {
     "name": "stderr",
     "output_type": "stream",
     "text": [
      " 51%|███████████████████████████▋                          | 135000/263496 [9:11:02<8:47:45,  4.06it/s]"
     ]
    },
    {
     "name": "stdout",
     "output_type": "stream",
     "text": [
      "[0.8475713133811951]\n",
      "14.350552166084807\n",
      "121.01759478449823\n"
     ]
    },
    {
     "name": "stderr",
     "output_type": "stream",
     "text": [
      " 51%|███████████████████████████▋                          | 135064/263496 [9:11:18<8:56:43,  3.99it/s]"
     ]
    },
    {
     "name": "stdout",
     "output_type": "stream",
     "text": [
      "[0.8127396702766418]\n",
      "14.393250823502898\n",
      "121.01745396852495\n"
     ]
    },
    {
     "name": "stderr",
     "output_type": "stream",
     "text": [
      " 51%|███████████████████████████▋                          | 135074/263496 [9:11:20<8:58:25,  3.98it/s]"
     ]
    },
    {
     "name": "stdout",
     "output_type": "stream",
     "text": [
      "[0.9883332848548889]\n",
      "14.39978215281282\n",
      "121.01750224828722\n"
     ]
    },
    {
     "name": "stderr",
     "output_type": "stream",
     "text": [
      " 51%|███████████████████████████▋                          | 135079/263496 [9:11:22<9:04:10,  3.93it/s]"
     ]
    },
    {
     "name": "stdout",
     "output_type": "stream",
     "text": [
      "[0.9544541835784912]\n",
      "14.403169847419054\n",
      "121.01761624217035\n"
     ]
    },
    {
     "name": "stderr",
     "output_type": "stream",
     "text": [
      " 51%|███████████████████████████▋                          | 135268/263496 [9:12:09<8:46:01,  4.06it/s]"
     ]
    },
    {
     "name": "stdout",
     "output_type": "stream",
     "text": [
      "[0.9481223225593567]\n",
      "14.575244315659383\n",
      "121.01733326911928\n"
     ]
    },
    {
     "name": "stderr",
     "output_type": "stream",
     "text": [
      " 51%|███████████████████████████▋                          | 135402/263496 [9:12:42<8:57:05,  3.97it/s]"
     ]
    },
    {
     "name": "stdout",
     "output_type": "stream",
     "text": [
      "[0.9947094917297363]\n",
      "14.664389877042401\n",
      "121.01760417222978\n"
     ]
    },
    {
     "name": "stderr",
     "output_type": "stream",
     "text": [
      " 52%|███████████████████████████▊                          | 135762/263496 [9:14:12<8:56:19,  3.97it/s]"
     ]
    },
    {
     "name": "stdout",
     "output_type": "stream",
     "text": [
      "[0.8341186046600342]\n",
      "14.394484880049886\n",
      "121.01813793182374\n"
     ]
    },
    {
     "name": "stderr",
     "output_type": "stream",
     "text": [
      " 52%|███████████████████████████▊                          | 135890/263496 [9:14:44<8:47:13,  4.03it/s]"
     ]
    },
    {
     "name": "stdout",
     "output_type": "stream",
     "text": [
      "[0.9555650949478149]\n",
      "14.479618280713092\n",
      "121.01834848523141\n"
     ]
    },
    {
     "name": "stderr",
     "output_type": "stream",
     "text": [
      " 52%|███████████████████████████▊                          | 135942/263496 [9:14:57<9:09:42,  3.87it/s]"
     ]
    },
    {
     "name": "stdout",
     "output_type": "stream",
     "text": [
      "[0.9891154766082764, 0.8577209711074829]\n",
      "14.514129897826871\n",
      "121.01819425821306\n",
      "14.513928660657943\n",
      "121.01838737726213\n"
     ]
    },
    {
     "name": "stderr",
     "output_type": "stream",
     "text": [
      " 52%|███████████████████████████▊                          | 136016/263496 [9:15:15<8:49:04,  4.02it/s]"
     ]
    },
    {
     "name": "stdout",
     "output_type": "stream",
     "text": [
      "[0.8596795797348022]\n",
      "14.60979030717463\n",
      "121.01831898093225\n"
     ]
    },
    {
     "name": "stderr",
     "output_type": "stream",
     "text": [
      " 52%|███████████████████████████▉                          | 136447/263496 [9:17:02<8:49:58,  4.00it/s]"
     ]
    },
    {
     "name": "stdout",
     "output_type": "stream",
     "text": [
      "[0.8558717370033264]\n",
      "14.387021981162599\n",
      "121.01888090372087\n"
     ]
    },
    {
     "name": "stderr",
     "output_type": "stream",
     "text": [
      " 52%|████████████████████████████                          | 136637/263496 [9:17:50<8:51:04,  3.98it/s]"
     ]
    },
    {
     "name": "stdout",
     "output_type": "stream",
     "text": [
      "[0.9725331664085388, 0.7633795142173767]\n",
      "14.513517097347615\n",
      "121.01882994174959\n",
      "14.513337930813941\n",
      "121.01901769638063\n"
     ]
    },
    {
     "name": "stderr",
     "output_type": "stream",
     "text": [
      " 52%|████████████████████████████                          | 137167/263496 [9:20:02<8:50:25,  3.97it/s]"
     ]
    },
    {
     "name": "stdout",
     "output_type": "stream",
     "text": [
      "[0.9310410022735596]\n",
      "14.40331013436933\n",
      "121.01983174681664\n"
     ]
    },
    {
     "name": "stderr",
     "output_type": "stream",
     "text": [
      " 52%|████████████████████████████▏                         | 137836/263496 [9:22:49<8:40:58,  4.02it/s]"
     ]
    },
    {
     "name": "stdout",
     "output_type": "stream",
     "text": [
      "[0.8786723017692566]\n",
      "14.385326718770994\n",
      "121.02036416530609\n"
     ]
    },
    {
     "name": "stderr",
     "output_type": "stream",
     "text": [
      " 52%|████████████████████████████▎                         | 137878/263496 [9:22:59<8:52:28,  3.93it/s]"
     ]
    },
    {
     "name": "stdout",
     "output_type": "stream",
     "text": [
      "[0.9334641098976135]\n",
      "14.412996208816743\n",
      "121.02028906345367\n"
     ]
    },
    {
     "name": "stderr",
     "output_type": "stream",
     "text": [
      " 52%|████████████████████████████▎                         | 138137/263496 [9:24:04<8:42:18,  4.00it/s]"
     ]
    },
    {
     "name": "stdout",
     "output_type": "stream",
     "text": [
      "[0.9757708311080933]\n",
      "14.631946825712573\n",
      "121.02048888802528\n"
     ]
    },
    {
     "name": "stderr",
     "output_type": "stream",
     "text": [
      " 52%|████████████████████████████▎                         | 138334/263496 [9:24:53<8:49:15,  3.94it/s]"
     ]
    },
    {
     "name": "stdout",
     "output_type": "stream",
     "text": [
      "[0.76092529296875]\n",
      "14.762773012277556\n",
      "121.0200771689415\n"
     ]
    },
    {
     "name": "stderr",
     "output_type": "stream",
     "text": [
      " 53%|████████████████████████████▍                         | 138569/263496 [9:25:52<8:47:54,  3.94it/s]"
     ]
    },
    {
     "name": "stdout",
     "output_type": "stream",
     "text": [
      "[0.8568076491355896]\n",
      "14.409734658201833\n",
      "121.02101996541023\n"
     ]
    },
    {
     "name": "stderr",
     "output_type": "stream",
     "text": [
      " 53%|████████████████████████████▍                         | 138660/263496 [9:26:15<8:35:16,  4.04it/s]"
     ]
    },
    {
     "name": "stdout",
     "output_type": "stream",
     "text": [
      "[0.9499821066856384]\n",
      "14.470351944669556\n",
      "121.02103605866432\n"
     ]
    },
    {
     "name": "stderr",
     "output_type": "stream",
     "text": [
      " 53%|████████████████████████████▍                         | 138753/263496 [9:26:38<8:34:43,  4.04it/s]"
     ]
    },
    {
     "name": "stdout",
     "output_type": "stream",
     "text": [
      "[0.7876895070075989]\n",
      "14.57841257687464\n",
      "121.02084428071976\n"
     ]
    },
    {
     "name": "stderr",
     "output_type": "stream",
     "text": [
      " 54%|████████████████████████████▉                         | 141271/263496 [9:37:06<8:19:35,  4.08it/s]"
     ]
    },
    {
     "name": "stdout",
     "output_type": "stream",
     "text": [
      "[0.8786963224411011]\n",
      "14.352006031771618\n",
      "121.02365389466286\n"
     ]
    },
    {
     "name": "stderr",
     "output_type": "stream",
     "text": [
      " 54%|████████████████████████████▉                         | 141275/263496 [9:37:07<8:34:47,  3.96it/s]"
     ]
    },
    {
     "name": "stdout",
     "output_type": "stream",
     "text": [
      "[0.9847437739372253]\n",
      "14.354618808578309\n",
      "121.02390870451927\n"
     ]
    },
    {
     "name": "stderr",
     "output_type": "stream",
     "text": [
      " 54%|█████████████████████████████▎                        | 142994/263496 [9:44:16<8:33:19,  3.91it/s]"
     ]
    },
    {
     "name": "stdout",
     "output_type": "stream",
     "text": [
      "[0.9716933369636536]\n",
      "14.614476401219667\n",
      "121.02514922618866\n"
     ]
    },
    {
     "name": "stderr",
     "output_type": "stream",
     "text": [
      " 55%|█████████████████████████████▌                        | 144310/263496 [9:49:45<8:19:51,  3.97it/s]"
     ]
    },
    {
     "name": "stdout",
     "output_type": "stream",
     "text": [
      "[0.9925277233123779, 0.9808221459388733]\n",
      "14.516235737436132\n",
      "121.026291847229\n",
      "14.515987763546345\n",
      "121.02644741535187\n"
     ]
    },
    {
     "name": "stderr",
     "output_type": "stream",
     "text": [
      " 55%|█████████████████████████████▌                        | 144542/263496 [9:50:43<8:09:41,  4.05it/s]"
     ]
    },
    {
     "name": "stdout",
     "output_type": "stream",
     "text": [
      "[0.9740023612976074]\n",
      "14.71561892898157\n",
      "121.02646484971046\n"
     ]
    },
    {
     "name": "stderr",
     "output_type": "stream",
     "text": [
      " 55%|█████████████████████████████▋                        | 144767/263496 [9:51:39<8:12:21,  4.02it/s]"
     ]
    },
    {
     "name": "stdout",
     "output_type": "stream",
     "text": [
      "[0.8759140968322754]\n",
      "14.355712761814015\n",
      "121.02730572223663\n"
     ]
    },
    {
     "name": "stderr",
     "output_type": "stream",
     "text": [
      " 55%|█████████████████████████████▋                        | 145008/263496 [9:52:39<8:26:59,  3.90it/s]"
     ]
    },
    {
     "name": "stdout",
     "output_type": "stream",
     "text": [
      "[0.9942540526390076]\n",
      "14.516050081591946\n",
      "121.0270656645298\n"
     ]
    },
    {
     "name": "stderr",
     "output_type": "stream",
     "text": [
      " 55%|█████████████████████████████▊                        | 145460/263496 [9:54:32<8:09:15,  4.02it/s]"
     ]
    },
    {
     "name": "stdout",
     "output_type": "stream",
     "text": [
      "[0.9493933320045471]\n",
      "14.352019024280763\n",
      "121.02756589651108\n"
     ]
    },
    {
     "name": "stderr",
     "output_type": "stream",
     "text": [
      " 55%|█████████████████████████████▊                        | 145474/263496 [9:54:35<8:11:19,  4.00it/s]"
     ]
    },
    {
     "name": "stdout",
     "output_type": "stream",
     "text": [
      "[0.9815611243247986]\n",
      "14.361253903382835\n",
      "121.02761015295982\n"
     ]
    },
    {
     "name": "stderr",
     "output_type": "stream",
     "text": [
      " 56%|██████████████████████████████                        | 146406/263496 [9:58:28<8:14:33,  3.95it/s]"
     ]
    },
    {
     "name": "stdout",
     "output_type": "stream",
     "text": [
      "[0.9904389381408691]\n",
      "14.516348688893784\n",
      "121.02844431996346\n"
     ]
    },
    {
     "name": "stderr",
     "output_type": "stream",
     "text": [
      " 57%|██████████████████████████████▏                      | 150110/263496 [10:13:50<7:45:38,  4.06it/s]"
     ]
    },
    {
     "name": "stdout",
     "output_type": "stream",
     "text": [
      "[0.9733432531356812]\n",
      "14.699688486561268\n",
      "121.03197008371353\n"
     ]
    },
    {
     "name": "stderr",
     "output_type": "stream",
     "text": [
      " 57%|██████████████████████████████▎                      | 150962/263496 [10:17:21<7:46:12,  4.02it/s]"
     ]
    },
    {
     "name": "stdout",
     "output_type": "stream",
     "text": [
      "[0.9909465312957764]\n",
      "14.800232708994233\n",
      "121.03259637951851\n"
     ]
    },
    {
     "name": "stderr",
     "output_type": "stream",
     "text": [
      " 57%|██████████████████████████████▍                      | 151147/263496 [10:18:06<7:53:48,  3.95it/s]"
     ]
    },
    {
     "name": "stdout",
     "output_type": "stream",
     "text": [
      "[0.8153032064437866]\n",
      "14.414540590321073\n",
      "121.0330979526043\n"
     ]
    },
    {
     "name": "stderr",
     "output_type": "stream",
     "text": [
      " 58%|██████████████████████████████▊                      | 153403/263496 [10:27:26<7:39:37,  3.99it/s]"
     ]
    },
    {
     "name": "stdout",
     "output_type": "stream",
     "text": [
      "[0.9949628114700317]\n",
      "14.564469810348232\n",
      "121.03560850024223\n"
     ]
    },
    {
     "name": "stderr",
     "output_type": "stream",
     "text": [
      " 58%|██████████████████████████████▉                      | 153801/263496 [10:29:04<7:33:41,  4.03it/s]"
     ]
    },
    {
     "name": "stdout",
     "output_type": "stream",
     "text": [
      "[0.9097803831100464]\n",
      "14.319799203894231\n",
      "121.03624150156975\n"
     ]
    },
    {
     "name": "stderr",
     "output_type": "stream",
     "text": [
      " 58%|██████████████████████████████▉                      | 153952/263496 [10:29:42<7:30:13,  4.06it/s]"
     ]
    },
    {
     "name": "stdout",
     "output_type": "stream",
     "text": [
      "[0.7596276998519897]\n",
      "14.420547859723056\n",
      "121.03574395179749\n"
     ]
    },
    {
     "name": "stderr",
     "output_type": "stream",
     "text": [
      " 59%|███████████████████████████████▍                     | 156045/263496 [10:38:20<7:25:57,  4.02it/s]"
     ]
    },
    {
     "name": "stdout",
     "output_type": "stream",
     "text": [
      "[0.9233519434928894]\n",
      "14.419707501124456\n",
      "121.03807345032692\n"
     ]
    },
    {
     "name": "stderr",
     "output_type": "stream",
     "text": [
      " 59%|███████████████████████████████▌                     | 156742/263496 [10:41:12<7:18:24,  4.06it/s]"
     ]
    },
    {
     "name": "stdout",
     "output_type": "stream",
     "text": [
      "[0.7133350372314453]\n",
      "14.41891389846415\n",
      "121.0389532148838\n"
     ]
    },
    {
     "name": "stderr",
     "output_type": "stream",
     "text": [
      "\r",
      " 59%|███████████████████████████████▌                     | 156743/263496 [10:41:12<7:35:24,  3.91it/s]"
     ]
    },
    {
     "name": "stdout",
     "output_type": "stream",
     "text": [
      "[0.989513635635376]\n",
      "14.419751662241659\n",
      "121.0386635363102\n"
     ]
    },
    {
     "name": "stderr",
     "output_type": "stream",
     "text": [
      " 60%|████████████████████████████████                     | 159137/263496 [10:51:06<7:15:54,  3.99it/s]"
     ]
    },
    {
     "name": "stdout",
     "output_type": "stream",
     "text": [
      "[0.9912216663360596]\n",
      "14.605765974430087\n",
      "121.04101717472076\n"
     ]
    },
    {
     "name": "stderr",
     "output_type": "stream",
     "text": [
      " 60%|████████████████████████████████                     | 159190/263496 [10:51:19<7:29:17,  3.87it/s]"
     ]
    },
    {
     "name": "stdout",
     "output_type": "stream",
     "text": [
      "[0.993723452091217, 0.9826183319091797]\n",
      "14.64107921784293\n",
      "121.04077711701393\n",
      "14.641268661100035\n",
      "121.04064971208572\n"
     ]
    },
    {
     "name": "stderr",
     "output_type": "stream",
     "text": [
      " 61%|████████████████████████████████                     | 159481/263496 [10:52:31<7:30:58,  3.84it/s]"
     ]
    },
    {
     "name": "stdout",
     "output_type": "stream",
     "text": [
      "[0.8204092979431152]\n",
      "13.757599152445675\n",
      "121.04181781411171\n"
     ]
    },
    {
     "name": "stderr",
     "output_type": "stream",
     "text": [
      " 61%|████████████████████████████████▏                    | 159928/263496 [10:54:23<7:14:54,  3.97it/s]"
     ]
    },
    {
     "name": "stdout",
     "output_type": "stream",
     "text": [
      "[0.994219183921814]\n",
      "14.638987546924268\n",
      "121.04159519076347\n"
     ]
    },
    {
     "name": "stderr",
     "output_type": "stream",
     "text": [
      " 61%|████████████████████████████████▏                    | 159933/263496 [10:54:24<7:14:21,  3.97it/s]"
     ]
    },
    {
     "name": "stdout",
     "output_type": "stream",
     "text": [
      "[0.9935917258262634]\n",
      "14.642143211663551\n",
      "121.04137390851974\n"
     ]
    },
    {
     "name": "stderr",
     "output_type": "stream",
     "text": [
      " 61%|████████████████████████████████▏                    | 159943/263496 [10:54:27<7:16:20,  3.96it/s]"
     ]
    },
    {
     "name": "stdout",
     "output_type": "stream",
     "text": [
      "[0.9903789758682251]\n",
      "14.649136895218422\n",
      "121.04145035147667\n"
     ]
    },
    {
     "name": "stderr",
     "output_type": "stream",
     "text": [
      " 61%|████████████████████████████████▌                    | 161738/263496 [11:01:52<6:54:09,  4.09it/s]"
     ]
    },
    {
     "name": "stdout",
     "output_type": "stream",
     "text": [
      "[0.9917618036270142]\n",
      "14.320824457260818\n",
      "121.04345127940178\n"
     ]
    },
    {
     "name": "stderr",
     "output_type": "stream",
     "text": [
      " 62%|████████████████████████████████▋                    | 162631/263496 [11:05:34<6:56:34,  4.04it/s]"
     ]
    },
    {
     "name": "stdout",
     "output_type": "stream",
     "text": [
      "[0.8684617877006531]\n",
      "14.423133858110264\n",
      "121.04403734207153\n"
     ]
    },
    {
     "name": "stderr",
     "output_type": "stream",
     "text": [
      " 62%|████████████████████████████████▉                    | 163958/263496 [11:11:04<6:46:22,  4.08it/s]"
     ]
    },
    {
     "name": "stdout",
     "output_type": "stream",
     "text": [
      "[0.825954020023346]\n",
      "14.322673539698593\n",
      "121.04561582207678\n"
     ]
    },
    {
     "name": "stderr",
     "output_type": "stream",
     "text": [
      " 62%|█████████████████████████████████                    | 164178/263496 [11:11:59<7:03:28,  3.91it/s]"
     ]
    },
    {
     "name": "stdout",
     "output_type": "stream",
     "text": [
      "[0.987606942653656]\n",
      "14.469122204305481\n",
      "121.04572311043738\n"
     ]
    },
    {
     "name": "stderr",
     "output_type": "stream",
     "text": [
      " 62%|█████████████████████████████████                    | 164662/263496 [11:14:00<6:58:14,  3.94it/s]"
     ]
    },
    {
     "name": "stdout",
     "output_type": "stream",
     "text": [
      "[0.9068519473075867]\n",
      "13.76045449763206\n",
      "121.0466095805168\n"
     ]
    },
    {
     "name": "stderr",
     "output_type": "stream",
     "text": [
      " 63%|█████████████████████████████████▎                   | 165765/263496 [11:18:35<6:43:17,  4.04it/s]"
     ]
    },
    {
     "name": "stdout",
     "output_type": "stream",
     "text": [
      "[0.9636132717132568]\n",
      "14.588083214214832\n",
      "121.04702666401862\n"
     ]
    },
    {
     "name": "stderr",
     "output_type": "stream",
     "text": [
      " 63%|█████████████████████████████████▍                   | 166288/263496 [11:20:46<6:41:54,  4.03it/s]"
     ]
    },
    {
     "name": "stdout",
     "output_type": "stream",
     "text": [
      "[0.7250791788101196]\n",
      "14.398007749432898\n",
      "121.04790776968001\n"
     ]
    },
    {
     "name": "stderr",
     "output_type": "stream",
     "text": [
      " 63%|█████████████████████████████████▌                   | 166927/263496 [11:23:25<6:43:53,  3.98it/s]"
     ]
    },
    {
     "name": "stdout",
     "output_type": "stream",
     "text": [
      "[0.9893496036529541]\n",
      "14.33138208474532\n",
      "121.04865610599516\n"
     ]
    },
    {
     "name": "stderr",
     "output_type": "stream",
     "text": [
      " 63%|█████████████████████████████████▌                   | 167104/263496 [11:24:09<6:45:30,  3.96it/s]"
     ]
    },
    {
     "name": "stdout",
     "output_type": "stream",
     "text": [
      "[0.9955224990844727, 0.99347984790802]\n",
      "14.448961022147811\n",
      "121.04820415377615\n",
      "14.449171409227247\n",
      "121.04820683598517\n"
     ]
    },
    {
     "name": "stderr",
     "output_type": "stream",
     "text": [
      " 64%|█████████████████████████████████▋                   | 167625/263496 [11:26:19<6:53:27,  3.86it/s]"
     ]
    },
    {
     "name": "stdout",
     "output_type": "stream",
     "text": [
      "[0.9907016754150391]\n",
      "13.765182935215508\n",
      "121.0491308569908\n"
     ]
    },
    {
     "name": "stderr",
     "output_type": "stream",
     "text": [
      "\r",
      " 64%|█████████████████████████████████▋                   | 167626/263496 [11:26:19<6:55:08,  3.85it/s]"
     ]
    },
    {
     "name": "stdout",
     "output_type": "stream",
     "text": [
      "[0.9894891381263733]\n",
      "13.76558152642647\n",
      "121.04890286922453\n"
     ]
    },
    {
     "name": "stderr",
     "output_type": "stream",
     "text": [
      " 64%|█████████████████████████████████▊                   | 167838/263496 [11:27:12<6:38:47,  4.00it/s]"
     ]
    },
    {
     "name": "stdout",
     "output_type": "stream",
     "text": [
      "[0.9484878778457642]\n",
      "14.445770128357676\n",
      "121.04910001158713\n"
     ]
    },
    {
     "name": "stderr",
     "output_type": "stream",
     "text": [
      " 64%|█████████████████████████████████▊                   | 168362/263496 [11:29:23<6:47:02,  3.90it/s]"
     ]
    },
    {
     "name": "stdout",
     "output_type": "stream",
     "text": [
      "[0.7732906937599182]\n",
      "13.76365890377586\n",
      "121.04969814419745\n"
     ]
    },
    {
     "name": "stderr",
     "output_type": "stream",
     "text": [
      " 64%|█████████████████████████████████▉                   | 168440/263496 [11:29:42<6:43:42,  3.92it/s]"
     ]
    },
    {
     "name": "stdout",
     "output_type": "stream",
     "text": [
      "[0.9673538208007812]\n",
      "14.35453046056601\n",
      "121.04964047670363\n"
     ]
    },
    {
     "name": "stderr",
     "output_type": "stream",
     "text": [
      " 64%|█████████████████████████████████▉                   | 168814/263496 [11:31:15<6:24:33,  4.10it/s]"
     ]
    },
    {
     "name": "stdout",
     "output_type": "stream",
     "text": [
      "[0.9445224404335022]\n",
      "14.64965719558224\n",
      "121.04977324604987\n"
     ]
    },
    {
     "name": "stderr",
     "output_type": "stream",
     "text": [
      " 64%|██████████████████████████████████▏                  | 169826/263496 [11:35:28<6:45:56,  3.85it/s]"
     ]
    },
    {
     "name": "stdout",
     "output_type": "stream",
     "text": [
      "[0.9553569555282593]\n",
      "13.754255280075425\n",
      "121.0512927174568\n"
     ]
    },
    {
     "name": "stderr",
     "output_type": "stream",
     "text": [
      " 65%|██████████████████████████████████▏                  | 170192/263496 [11:37:00<6:35:00,  3.94it/s]"
     ]
    },
    {
     "name": "stdout",
     "output_type": "stream",
     "text": [
      "[0.9962220191955566]\n",
      "14.583043529632326\n",
      "121.05107411742209\n"
     ]
    },
    {
     "name": "stderr",
     "output_type": "stream",
     "text": [
      " 65%|██████████████████████████████████▎                  | 170294/263496 [11:37:25<6:23:30,  4.05it/s]"
     ]
    },
    {
     "name": "stdout",
     "output_type": "stream",
     "text": [
      "[0.8971422910690308]\n",
      "14.651173974500164\n",
      "121.05133563280104\n"
     ]
    },
    {
     "name": "stderr",
     "output_type": "stream",
     "text": [
      " 66%|██████████████████████████████████▊                  | 173242/263496 [11:49:39<6:18:19,  3.98it/s]"
     ]
    },
    {
     "name": "stdout",
     "output_type": "stream",
     "text": [
      "[0.9468715786933899]\n",
      "14.645752966283617\n",
      "121.0537549853325\n"
     ]
    },
    {
     "name": "stderr",
     "output_type": "stream",
     "text": [
      " 66%|██████████████████████████████████▉                  | 173942/263496 [11:52:33<6:17:23,  3.95it/s]"
     ]
    },
    {
     "name": "stdout",
     "output_type": "stream",
     "text": [
      "[0.9903022646903992]\n",
      "14.62003314103938\n",
      "121.0544376075268\n"
     ]
    },
    {
     "name": "stderr",
     "output_type": "stream",
     "text": [
      " 67%|███████████████████████████████████▍                 | 176220/263496 [12:01:57<6:02:11,  4.02it/s]"
     ]
    },
    {
     "name": "stdout",
     "output_type": "stream",
     "text": [
      "[0.9609798192977905]\n",
      "14.660278319510422\n",
      "121.05686768889429\n"
     ]
    },
    {
     "name": "stderr",
     "output_type": "stream",
     "text": [
      " 67%|███████████████████████████████████▌                 | 176842/263496 [12:04:31<5:53:47,  4.08it/s]"
     ]
    },
    {
     "name": "stdout",
     "output_type": "stream",
     "text": [
      "[0.9916039109230042]\n",
      "14.582524369283876\n",
      "121.05712920427324\n"
     ]
    },
    {
     "name": "stderr",
     "output_type": "stream",
     "text": [
      " 67%|███████████████████████████████████▌                 | 176845/263496 [12:04:31<6:05:00,  3.96it/s]"
     ]
    },
    {
     "name": "stdout",
     "output_type": "stream",
     "text": [
      "[0.9462042450904846]\n",
      "14.584466022403804\n",
      "121.05732500553133\n"
     ]
    },
    {
     "name": "stderr",
     "output_type": "stream",
     "text": [
      " 67%|███████████████████████████████████▌                 | 176848/263496 [12:04:32<6:00:53,  4.00it/s]"
     ]
    },
    {
     "name": "stdout",
     "output_type": "stream",
     "text": [
      "[0.9887233972549438]\n",
      "14.586658148929784\n",
      "121.05709969997407\n"
     ]
    },
    {
     "name": "stderr",
     "output_type": "stream",
     "text": [
      " 68%|███████████████████████████████████▊                 | 178355/263496 [12:10:43<6:00:43,  3.93it/s]"
     ]
    },
    {
     "name": "stdout",
     "output_type": "stream",
     "text": [
      "[0.938403844833374]\n",
      "14.605817885015862\n",
      "121.05871975421907\n"
     ]
    },
    {
     "name": "stderr",
     "output_type": "stream",
     "text": [
      " 68%|████████████████████████████████████                 | 179056/263496 [12:13:36<5:51:18,  4.01it/s]"
     ]
    },
    {
     "name": "stdout",
     "output_type": "stream",
     "text": [
      "[0.9640032649040222]\n",
      "14.580441226480099\n",
      "121.05960622429849\n"
     ]
    },
    {
     "name": "stderr",
     "output_type": "stream",
     "text": [
      " 68%|████████████████████████████████████▏                | 179803/263496 [12:16:40<5:54:51,  3.93it/s]"
     ]
    },
    {
     "name": "stdout",
     "output_type": "stream",
     "text": [
      "[0.9492629170417786]\n",
      "14.586048145540003\n",
      "121.0598596930504\n"
     ]
    },
    {
     "name": "stderr",
     "output_type": "stream",
     "text": [
      " 69%|████████████████████████████████████▎                | 180551/263496 [12:19:44<5:39:21,  4.07it/s]"
     ]
    },
    {
     "name": "stdout",
     "output_type": "stream",
     "text": [
      "[0.9356024861335754]\n",
      "14.59195602241027\n",
      "121.06065630912782\n"
     ]
    },
    {
     "name": "stderr",
     "output_type": "stream",
     "text": [
      " 69%|████████████████████████████████████▎                | 180657/263496 [12:20:10<5:42:54,  4.03it/s]"
     ]
    },
    {
     "name": "stdout",
     "output_type": "stream",
     "text": [
      "[0.9524508714675903]\n",
      "14.662356812954126\n",
      "121.06090977787973\n"
     ]
    },
    {
     "name": "stderr",
     "output_type": "stream",
     "text": [
      " 69%|████████████████████████████████████▎                | 180726/263496 [12:20:27<5:47:51,  3.97it/s]"
     ]
    },
    {
     "name": "stdout",
     "output_type": "stream",
     "text": [
      "[0.9182751774787903]\n",
      "14.708146125331574\n",
      "121.0605624318123\n"
     ]
    },
    {
     "name": "stderr",
     "output_type": "stream",
     "text": [
      " 69%|████████████████████████████████████▍                | 181280/263496 [12:22:43<5:43:37,  3.99it/s]"
     ]
    },
    {
     "name": "stdout",
     "output_type": "stream",
     "text": [
      "[0.9747614860534668]\n",
      "14.585369352508048\n",
      "121.06154680252077\n"
     ]
    },
    {
     "name": "stderr",
     "output_type": "stream",
     "text": [
      " 69%|████████████████████████████████████▌                | 182015/263496 [12:25:43<5:43:19,  3.96it/s]"
     ]
    },
    {
     "name": "stdout",
     "output_type": "stream",
     "text": [
      "[0.988925039768219]\n",
      "14.582502304953088\n",
      "121.06226965785027\n"
     ]
    },
    {
     "name": "stderr",
     "output_type": "stream",
     "text": [
      " 69%|████████████████████████████████████▊                | 182909/263496 [12:29:23<5:33:22,  4.03it/s]"
     ]
    },
    {
     "name": "stdout",
     "output_type": "stream",
     "text": [
      "[0.9862698912620544]\n",
      "14.685344775916574\n",
      "121.06289193034172\n"
     ]
    },
    {
     "name": "stderr",
     "output_type": "stream",
     "text": [
      " 70%|█████████████████████████████████████▎               | 185496/263496 [12:39:59<5:28:24,  3.96it/s]"
     ]
    },
    {
     "name": "stdout",
     "output_type": "stream",
     "text": [
      "[0.7145248055458069]\n",
      "13.765693548621744\n",
      "121.06625810265541\n"
     ]
    },
    {
     "name": "stderr",
     "output_type": "stream",
     "text": [
      " 71%|█████████████████████████████████████▍               | 185927/263496 [12:41:46<5:28:53,  3.93it/s]"
     ]
    },
    {
     "name": "stdout",
     "output_type": "stream",
     "text": [
      "[0.9508867859840393]\n",
      "13.765674009866753\n",
      "121.0668334364891\n"
     ]
    },
    {
     "name": "stderr",
     "output_type": "stream",
     "text": [
      " 71%|█████████████████████████████████████▍               | 186142/263496 [12:42:39<5:23:14,  3.99it/s]"
     ]
    },
    {
     "name": "stdout",
     "output_type": "stream",
     "text": [
      "[0.9850625991821289]\n",
      "14.698810274239095\n",
      "121.0666698217392\n"
     ]
    },
    {
     "name": "stderr",
     "output_type": "stream",
     "text": [
      " 71%|█████████████████████████████████████▍               | 186353/263496 [12:43:31<5:22:53,  3.98it/s]"
     ]
    },
    {
     "name": "stdout",
     "output_type": "stream",
     "text": [
      "[0.8223810791969299]\n",
      "13.762496985982656\n",
      "121.06767430901527\n"
     ]
    },
    {
     "name": "stderr",
     "output_type": "stream",
     "text": [
      " 71%|█████████████████████████████████████▌               | 186775/263496 [12:45:15<5:34:54,  3.82it/s]"
     ]
    },
    {
     "name": "stdout",
     "output_type": "stream",
     "text": [
      "[0.9713765978813171]\n",
      "13.756164953665113\n",
      "121.06816247105598\n"
     ]
    },
    {
     "name": "stderr",
     "output_type": "stream",
     "text": [
      " 71%|█████████████████████████████████████▋               | 187602/263496 [12:48:39<5:28:01,  3.86it/s]"
     ]
    },
    {
     "name": "stdout",
     "output_type": "stream",
     "text": [
      "[0.9839059710502625]\n",
      "13.739667778398703\n",
      "121.06964573264122\n"
     ]
    },
    {
     "name": "stderr",
     "output_type": "stream",
     "text": [
      " 71%|█████████████████████████████████████▊               | 188107/263496 [12:50:44<5:09:32,  4.06it/s]"
     ]
    },
    {
     "name": "stdout",
     "output_type": "stream",
     "text": [
      "[0.9272308945655823]\n",
      "14.591303204617217\n",
      "121.07031762599945\n"
     ]
    },
    {
     "name": "stderr",
     "output_type": "stream",
     "text": [
      " 72%|█████████████████████████████████████▉               | 188723/263496 [12:53:16<5:04:31,  4.09it/s]"
     ]
    },
    {
     "name": "stdout",
     "output_type": "stream",
     "text": [
      "[0.9907152652740479]\n",
      "14.720219744937882\n",
      "121.07125908136368\n"
     ]
    },
    {
     "name": "stderr",
     "output_type": "stream",
     "text": [
      " 72%|██████████████████████████████████████               | 189323/263496 [12:55:44<5:08:12,  4.01it/s]"
     ]
    },
    {
     "name": "stdout",
     "output_type": "stream",
     "text": [
      "[0.859452486038208]\n",
      "13.761719331470692\n",
      "121.07233062386513\n"
     ]
    },
    {
     "name": "stderr",
     "output_type": "stream",
     "text": [
      " 72%|██████████████████████████████████████▏              | 190143/263496 [12:59:05<5:03:16,  4.03it/s]"
     ]
    },
    {
     "name": "stdout",
     "output_type": "stream",
     "text": [
      "[0.7249059081077576]\n",
      "13.74570975615043\n",
      "121.07388898730278\n"
     ]
    },
    {
     "name": "stderr",
     "output_type": "stream",
     "text": [
      " 72%|██████████████████████████████████████▎              | 190572/263496 [13:00:51<5:06:22,  3.97it/s]"
     ]
    },
    {
     "name": "stdout",
     "output_type": "stream",
     "text": [
      "[0.9873470067977905]\n",
      "13.75032385672546\n",
      "121.07456490397453\n"
     ]
    },
    {
     "name": "stderr",
     "output_type": "stream",
     "text": [
      " 72%|██████████████████████████████████████▍              | 190992/263496 [13:02:35<5:07:24,  3.93it/s]"
     ]
    },
    {
     "name": "stdout",
     "output_type": "stream",
     "text": [
      "[0.9634956121444702]\n",
      "13.749197044993252\n",
      "121.07516169548035\n"
     ]
    },
    {
     "name": "stderr",
     "output_type": "stream",
     "text": [
      " 73%|██████████████████████████████████████▍              | 191138/263496 [13:03:11<5:01:33,  4.00it/s]"
     ]
    },
    {
     "name": "stdout",
     "output_type": "stream",
     "text": [
      "[0.993715226650238]\n",
      "14.6423780679772\n",
      "121.07512012124062\n"
     ]
    },
    {
     "name": "stderr",
     "output_type": "stream",
     "text": [
      " 73%|██████████████████████████████████████▍              | 191158/263496 [13:03:16<4:56:08,  4.07it/s]"
     ]
    },
    {
     "name": "stdout",
     "output_type": "stream",
     "text": [
      "[0.9248302578926086]\n",
      "14.65582934314407\n",
      "121.0751160979271\n"
     ]
    },
    {
     "name": "stderr",
     "output_type": "stream",
     "text": [
      " 73%|██████████████████████████████████████▌              | 191501/263496 [13:04:41<5:01:54,  3.97it/s]"
     ]
    },
    {
     "name": "stdout",
     "output_type": "stream",
     "text": [
      "[0.9813042879104614]\n",
      "14.603048437538856\n",
      "121.0760173201561\n"
     ]
    },
    {
     "name": "stderr",
     "output_type": "stream",
     "text": [
      " 73%|██████████████████████████████████████▌              | 191777/263496 [13:05:49<4:58:07,  4.01it/s]"
     ]
    },
    {
     "name": "stdout",
     "output_type": "stream",
     "text": [
      "[0.9921675324440002]\n",
      "14.786401331094117\n",
      "121.07560560107231\n"
     ]
    },
    {
     "name": "stderr",
     "output_type": "stream",
     "text": [
      " 73%|██████████████████████████████████████▋              | 192317/263496 [13:08:03<4:55:39,  4.01it/s]"
     ]
    },
    {
     "name": "stdout",
     "output_type": "stream",
     "text": [
      "[0.9934607744216919]\n",
      "14.584707429955282\n",
      "121.07724845409393\n"
     ]
    },
    {
     "name": "stderr",
     "output_type": "stream",
     "text": [
      " 73%|██████████████████████████████████████▊              | 193108/263496 [13:11:20<4:54:34,  3.98it/s]"
     ]
    },
    {
     "name": "stdout",
     "output_type": "stream",
     "text": [
      "[0.9725348353385925]\n",
      "14.604949678770627\n",
      "121.07848763465881\n"
     ]
    },
    {
     "name": "stderr",
     "output_type": "stream",
     "text": [
      " 73%|██████████████████████████████████████▊              | 193112/263496 [13:11:21<4:56:07,  3.96it/s]"
     ]
    },
    {
     "name": "stdout",
     "output_type": "stream",
     "text": [
      "[0.9876762628555298]\n",
      "14.607837197766061\n",
      "121.07858955860138\n"
     ]
    },
    {
     "name": "stderr",
     "output_type": "stream",
     "text": [
      " 74%|██████████████████████████████████████▉              | 193870/263496 [13:14:28<4:50:26,  4.00it/s]"
     ]
    },
    {
     "name": "stdout",
     "output_type": "stream",
     "text": [
      "[0.9383609294891357]\n",
      "14.6066510484821\n",
      "121.07993736863136\n"
     ]
    },
    {
     "name": "stderr",
     "output_type": "stream",
     "text": [
      " 74%|██████████████████████████████████████▉              | 193876/263496 [13:14:29<4:57:40,  3.90it/s]"
     ]
    },
    {
     "name": "stdout",
     "output_type": "stream",
     "text": [
      "[0.8346582055091858]\n",
      "14.610249707264758\n",
      "121.07979118824005\n"
     ]
    },
    {
     "name": "stderr",
     "output_type": "stream",
     "text": [
      " 74%|███████████████████████████████████████              | 194329/263496 [13:16:21<4:41:15,  4.10it/s]"
     ]
    },
    {
     "name": "stdout",
     "output_type": "stream",
     "text": [
      "[0.9875388145446777]\n",
      "14.658838153358927\n",
      "121.0805743932724\n"
     ]
    },
    {
     "name": "stderr",
     "output_type": "stream",
     "text": [
      " 75%|███████████████████████████████████████▌             | 196510/263496 [13:25:20<4:37:01,  4.03it/s]"
     ]
    },
    {
     "name": "stdout",
     "output_type": "stream",
     "text": [
      "[0.9908716082572937]\n",
      "14.597366678325807\n",
      "121.08500808477402\n"
     ]
    },
    {
     "name": "stderr",
     "output_type": "stream",
     "text": [
      " 75%|███████████████████████████████████████▋             | 197167/263496 [13:28:02<4:39:11,  3.96it/s]"
     ]
    },
    {
     "name": "stdout",
     "output_type": "stream",
     "text": [
      "[0.8880879878997803]\n",
      "14.781663165139829\n",
      "121.08527228236198\n"
     ]
    },
    {
     "name": "stderr",
     "output_type": "stream",
     "text": [
      " 75%|███████████████████████████████████████▋             | 197547/263496 [13:29:36<4:32:15,  4.04it/s]"
     ]
    },
    {
     "name": "stdout",
     "output_type": "stream",
     "text": [
      "[0.9800872802734375]\n",
      "14.782572164424554\n",
      "121.0864269733429\n"
     ]
    },
    {
     "name": "stderr",
     "output_type": "stream",
     "text": [
      " 75%|███████████████████████████████████████▊             | 198051/263496 [13:31:40<4:35:45,  3.96it/s]"
     ]
    },
    {
     "name": "stdout",
     "output_type": "stream",
     "text": [
      "[0.860404372215271]\n",
      "14.613631588070483\n",
      "121.08760714530943\n"
     ]
    },
    {
     "name": "stderr",
     "output_type": "stream",
     "text": [
      " 75%|███████████████████████████████████████▉             | 198413/263496 [13:33:09<4:35:00,  3.94it/s]"
     ]
    },
    {
     "name": "stdout",
     "output_type": "stream",
     "text": [
      "[0.9914793372154236]\n",
      "14.602616275971174\n",
      "121.08837157487868\n"
     ]
    },
    {
     "name": "stderr",
     "output_type": "stream",
     "text": [
      " 77%|████████████████████████████████████████▋            | 202100/263496 [13:48:13<4:08:09,  4.12it/s]"
     ]
    },
    {
     "name": "stdout",
     "output_type": "stream",
     "text": [
      "[0.9929346442222595]\n",
      "14.78583467571946\n",
      "121.0943368077278\n"
     ]
    },
    {
     "name": "stderr",
     "output_type": "stream",
     "text": [
      " 77%|████████████████████████████████████████▋            | 202339/263496 [13:49:12<4:08:27,  4.10it/s]"
     ]
    },
    {
     "name": "stdout",
     "output_type": "stream",
     "text": [
      "[0.942274808883667]\n",
      "14.69311802426223\n",
      "121.09510391950606\n"
     ]
    },
    {
     "name": "stderr",
     "output_type": "stream",
     "text": [
      "\r",
      " 77%|████████████████████████████████████████▋            | 202340/263496 [13:49:13<4:12:17,  4.04it/s]"
     ]
    },
    {
     "name": "stdout",
     "output_type": "stream",
     "text": [
      "[0.9935781955718994]\n",
      "14.693511089916536\n",
      "121.09510123729704\n"
     ]
    },
    {
     "name": "stderr",
     "output_type": "stream",
     "text": [
      " 77%|█████████████████████████████████████████            | 204149/263496 [13:56:36<4:02:59,  4.07it/s]"
     ]
    },
    {
     "name": "stdout",
     "output_type": "stream",
     "text": [
      "[0.9939197301864624]\n",
      "14.636396286714437\n",
      "121.0986176133156\n"
     ]
    },
    {
     "name": "stderr",
     "output_type": "stream",
     "text": [
      " 78%|█████████████████████████████████████████▎           | 205677/263496 [14:02:50<3:55:29,  4.09it/s]"
     ]
    },
    {
     "name": "stdout",
     "output_type": "stream",
     "text": [
      "[0.9931827187538147]\n",
      "14.644289348960388\n",
      "121.10121801495553\n"
     ]
    },
    {
     "name": "stderr",
     "output_type": "stream",
     "text": [
      " 80%|██████████████████████████████████████████▏          | 209505/263496 [14:18:30<3:42:06,  4.05it/s]"
     ]
    },
    {
     "name": "stdout",
     "output_type": "stream",
     "text": [
      "[0.9326009154319763]\n",
      "14.66939526012605\n",
      "121.10837683081627\n"
     ]
    },
    {
     "name": "stderr",
     "output_type": "stream",
     "text": [
      " 81%|██████████████████████████████████████████▉          | 213353/263496 [14:34:17<3:31:44,  3.95it/s]"
     ]
    },
    {
     "name": "stdout",
     "output_type": "stream",
     "text": [
      "[0.8469218015670776]\n",
      "14.679728717367057\n",
      "121.11519634723663\n"
     ]
    },
    {
     "name": "stderr",
     "output_type": "stream",
     "text": [
      " 82%|███████████████████████████████████████████▏         | 214762/263496 [14:40:03<3:20:31,  4.05it/s]"
     ]
    },
    {
     "name": "stdout",
     "output_type": "stream",
     "text": [
      "[0.7915990948677063]\n",
      "14.594634761451585\n",
      "121.11793622374535\n"
     ]
    },
    {
     "name": "stderr",
     "output_type": "stream",
     "text": [
      " 82%|███████████████████████████████████████████▌         | 216335/263496 [14:46:32<3:19:27,  3.94it/s]"
     ]
    },
    {
     "name": "stdout",
     "output_type": "stream",
     "text": [
      "[0.9895808100700378]\n",
      "14.626399470906058\n",
      "121.12023755908012\n"
     ]
    },
    {
     "name": "stderr",
     "output_type": "stream",
     "text": [
      " 84%|████████████████████████████████████████████▎        | 220319/263496 [15:02:56<3:03:42,  3.92it/s]"
     ]
    },
    {
     "name": "stdout",
     "output_type": "stream",
     "text": [
      "[0.7859525084495544]\n",
      "14.755279779057583\n",
      "121.12731590867043\n"
     ]
    },
    {
     "name": "stderr",
     "output_type": "stream",
     "text": [
      " 84%|████████████████████████████████████████████▋        | 222071/263496 [15:10:10<2:50:38,  4.05it/s]"
     ]
    },
    {
     "name": "stdout",
     "output_type": "stream",
     "text": [
      "[0.9604220986366272]\n",
      "14.660384709795608\n",
      "121.13060161471365\n"
     ]
    },
    {
     "name": "stderr",
     "output_type": "stream",
     "text": [
      " 84%|████████████████████████████████████████████▋        | 222208/263496 [15:10:43<2:49:36,  4.06it/s]"
     ]
    },
    {
     "name": "stdout",
     "output_type": "stream",
     "text": [
      "[0.8703190684318542]\n",
      "14.75146043929134\n",
      "121.13090470433234\n"
     ]
    },
    {
     "name": "stderr",
     "output_type": "stream",
     "text": [
      " 86%|█████████████████████████████████████████████▍       | 225757/263496 [15:25:18<2:39:35,  3.94it/s]"
     ]
    },
    {
     "name": "stdout",
     "output_type": "stream",
     "text": [
      "[0.9527785181999207]\n",
      "14.589887245232749\n",
      "121.13770946860312\n"
     ]
    },
    {
     "name": "stderr",
     "output_type": "stream",
     "text": [
      " 86%|█████████████████████████████████████████████▋       | 226904/263496 [15:30:01<2:31:40,  4.02it/s]"
     ]
    },
    {
     "name": "stdout",
     "output_type": "stream",
     "text": [
      "[0.9336823225021362]\n",
      "14.5939235490212\n",
      "121.13965407013895\n"
     ]
    },
    {
     "name": "stderr",
     "output_type": "stream",
     "text": [
      " 86%|█████████████████████████████████████████████▋       | 226910/263496 [15:30:02<2:30:00,  4.07it/s]"
     ]
    },
    {
     "name": "stdout",
     "output_type": "stream",
     "text": [
      "[0.969681978225708]\n",
      "14.597827401995096\n",
      "121.13981366157533\n"
     ]
    },
    {
     "name": "stderr",
     "output_type": "stream",
     "text": [
      " 86%|█████████████████████████████████████████████▋       | 227101/263496 [15:30:49<2:29:26,  4.06it/s]"
     ]
    },
    {
     "name": "stdout",
     "output_type": "stream",
     "text": [
      "[0.9768755435943604]\n",
      "14.724765987325036\n",
      "121.13986998796464\n"
     ]
    },
    {
     "name": "stderr",
     "output_type": "stream",
     "text": [
      " 86%|█████████████████████████████████████████████▊       | 227627/263496 [15:32:58<2:28:36,  4.02it/s]"
     ]
    }
   ],
   "source": [
    "from detection.run_prediction_satellite import RunPredictionSatellite\n",
    "\n",
    "# cache_tms_sat_folder = \"../../../Detection/Detection_Dataset\"\n",
    "# output_meta_folder = \"../../../Detection/Detection_Dataset_meta\"\n",
    "# model_folder = \"../../model\"\n",
    "\n",
    "cache_tms_sat_folder = \"C:\\\\Users\\\\AISG\\\\Documents\\\\Jonas\\\\Real_World_Dataset_TMS\\\\sat\"\n",
    "output_meta_folder = \"C:\\\\Users\\\\AISG\\\\Documents\\\\Jonas\\\\Real_World_Dataset_TMS_meta\\\\sat\"\n",
    "model_folder = \"D:\\\\Jonas\\\\model\\\\\"\n",
    "weights_filename = \"helipad_cfg_10_no47du_all20200420T0127\\\\mask_rcnn_helipad_cfg_10_no47du_all_0899.h5\"\n",
    "model_number = 10\n",
    "\n",
    "zoom_level = 19\n",
    "activate_filters = False\n",
    "\n",
    "run_prediction_satellite = RunPredictionSatellite(cache_tms_sat_folder=cache_tms_sat_folder,\n",
    "                                                  output_meta_folder=output_meta_folder,\n",
    "                                                  zoom_level=zoom_level,\n",
    "                                                  model_folder=model_folder,\n",
    "                                                  weights_filename=weights_filename,\n",
    "                                                  model_number=model_number,\n",
    "                                                  activate_filters=activate_filters)\n",
    "\n",
    "run_prediction_satellite.run()"
   ]
  },
  {
   "cell_type": "markdown",
   "metadata": {},
   "source": [
    "# Optional Step : Train and Run Validation on detected bounding boxes using KNN"
   ]
  },
  {
   "cell_type": "markdown",
   "metadata": {},
   "source": [
    "### Build the dataset of bounding boxes"
   ]
  },
  {
   "cell_type": "code",
   "execution_count": null,
   "metadata": {},
   "outputs": [],
   "source": [
    "# Build the dataset of bounding boxes : \n",
    "\n",
    "from src.knn.knn_build_database import KNNBuildDatabase\n",
    "\n",
    "image_folder = \"C:\\\\Users\\\\jonas\\\\Desktop\\\\Helipad\\\\Helipad_DataBase\\\\Helipad_DataBase_original\"\n",
    "meta_folder = \"C:\\\\Users\\\\jonas\\\\Desktop\\\\Helipad\\\\Helipad_DataBase_meta\\\\Helipad_DataBase_meta_original\"\n",
    "model_number = 7\n",
    "\n",
    "knn_build_database = KNNBuildDatabase(image_folder, meta_folder, model_number)\n",
    "\n",
    "knn_build_database.run()"
   ]
  },
  {
   "cell_type": "markdown",
   "metadata": {},
   "source": [
    "### Train a KNN on this dataset"
   ]
  },
  {
   "cell_type": "code",
   "execution_count": null,
   "metadata": {},
   "outputs": [],
   "source": [
    "# Train a KNN model on this dataset\n",
    "\n",
    "from src.knn.knn_training import KNNTraining\n",
    "\n",
    "knn_training = KNNTraining(nb_neighbors=2, nb_jobs=-1, test_size=0.25)\n",
    "\n",
    "knn_training.fit(knn_build_database.X, knn_build_database.y, mode=\"histogram\", binary=True)\n",
    "\n",
    "knn_training.score()\n",
    "\n",
    "knn_training.save(model_number=model_number, dataset='original')\n",
    "\n",
    "# TODO: Change the knn_build_database to make the user choose between target 0/1\n",
    "# ou target = category\n",
    "# add the posibility to choose which category are positive / negative\n",
    "\n",
    "# Change KNNTraining to put the model to train as an argument \n",
    "# to be able to freely change/fine-tune the model"
   ]
  },
  {
   "cell_type": "markdown",
   "metadata": {},
   "source": [
    "### Predict on new images"
   ]
  },
  {
   "cell_type": "code",
   "execution_count": null,
   "metadata": {},
   "outputs": [],
   "source": [
    "from knn.knn_predict import KNNPredict\n",
    "\n",
    "image_folder = \"C:\\\\Users\\\\AISG\\\\Documents\\\\Jonas\\\\Real_World_Dataset_TMS\\\\sat\"\n",
    "meta_folder = \"C:\\\\Users\\\\AISG\\\\Documents\\\\Jonas\\\\Real_World_Dataset_TMS_meta\\\\sat\"\n",
    "index_path_score_filename = \"C:\\\\Users\\\\AISG\\\\Documents\\\\Jonas\\\\helipad_detection\\\\src\\\\database_management\\\\helipad_path_over_0.999.txt\"\n",
    "model_number = 7\n",
    "knn_weights_filename = \"knn_histogram_2.pkl\"\n",
    "random_forest_weights_filename = \"random_forest_e100.pkl\"\n",
    "\n",
    "model = \"knn\"\n",
    "\n",
    "knn_predict = KNNPredict(image_folder,\n",
    "                         meta_folder,\n",
    "                         index_path_score_filename,\n",
    "                         model_number,\n",
    "                         knn_weights_filename,\n",
    "                         model)\n",
    "\n",
    "knn_predict.predict()\n",
    "\n",
    "# print(knn_predict.y_predict)\n",
    "knn_predict.write_prediction_to_meta()"
   ]
  },
  {
   "cell_type": "markdown",
   "metadata": {},
   "source": [
    "# Optional Step : Run Validation on detected bounding boxes using Random Forest"
   ]
  },
  {
   "cell_type": "markdown",
   "metadata": {},
   "source": [
    "# Optional Step : Run Validation on detected bounding boxes using CNN"
   ]
  },
  {
   "cell_type": "markdown",
   "metadata": {},
   "source": [
    "### Build the dataset of bounding boxes"
   ]
  },
  {
   "cell_type": "code",
   "execution_count": null,
   "metadata": {},
   "outputs": [],
   "source": [
    "from bb_analysis.bb_build_dataset import BBBuildDataset\n",
    "\n",
    "image_folder = \"C:\\\\Users\\\\jonas\\\\Desktop\\\\Helipad\\\\Helipad_DataBase\\\\Helipad_DataBase_original\"\n",
    "meta_folder = \"C:\\\\Users\\\\jonas\\\\Desktop\\\\Helipad\\\\Helipad_DataBase_meta\\\\Helipad_DataBase_meta_original\"\n",
    "model_number = 7\n",
    "score_threshold = 0.0\n",
    "iou_threshold = 0.5\n",
    "output_folder = \"C:\\\\Users\\\\jonas\\\\Desktop\\\\Helipad\\\\Detected_Boxes_3\"\n",
    "tms = False\n",
    "# ground_truth_bb indicates wheter the dataset keeps the groundtruth\n",
    "# as the true positive (True) or the true positive detected by the model (False)\n",
    "# Sometime, the detection by the model is not centered in the helipad\n",
    "# hence it can add noise to the model\n",
    "groundtruth_bb = True\n",
    "# the bounding boxes of those categories will be considered as false positive\n",
    "filter_categories = [\"4\", \"7\", \"d\", \"u\"]\n",
    "\n",
    "bb_build_dataset = BBBuildDataset(image_folder=image_folder,\n",
    "                                  meta_folder=meta_folder,\n",
    "                                  model_number=model_number,\n",
    "                                  score_threshold=score_threshold,\n",
    "                                  iou_threshold=iou_threshold,\n",
    "                                  output_folder=output_folder,\n",
    "                                  tms=tms,\n",
    "                                  groundtruth_bb=groundtruth_bb,\n",
    "                                  filter_categories=filter_categories)\n",
    "\n",
    "bb_build_dataset.run()"
   ]
  },
  {
   "cell_type": "markdown",
   "metadata": {},
   "source": [
    "### Train a CNN Model"
   ]
  },
  {
   "cell_type": "code",
   "execution_count": null,
   "metadata": {},
   "outputs": [],
   "source": [
    "from bb_analysis.bb_training_manager import BBTrainingManager\n",
    "\n",
    "image_folder = \"C:\\\\Users\\\\AISG\\\\Documents\\\\Jonas\\\\Detected_Boxes_3\\\\model_7_0.0\"\n",
    "\n",
    "bbtraining_manager = BBTrainingManager(image_folder)\n",
    "\n",
    "bbtraining_manager.run()\n",
    "\n",
    "bbtraining_manager.evaluate()\n",
    "\n",
    "bbtraining_manager.save()\n",
    "\n",
    "bbtraining_manager.plot()\n",
    "\n",
    "# TODO: Add a custom filename to save the model"
   ]
  },
  {
   "cell_type": "markdown",
   "metadata": {},
   "source": [
    "### Predict on the dataset "
   ]
  },
  {
   "cell_type": "code",
   "execution_count": null,
   "metadata": {},
   "outputs": [],
   "source": [
    "from bb_analysis.bb_predict import BBPredict\n",
    "\n",
    "image_folder = \"C:\\\\Users\\\\AISG\\\\Documents\\\\Jonas\\\\Helipad\\\\Helipad_DataBase\\\\Helipad_DataBase_original\"\n",
    "meta_folder = \"C:\\\\Users\\\\AISG\\\\Documents\\\\Jonas\\\\Helipad\\\\Helipad_DataBase_meta\\\\Helipad_DataBase_meta_original\"\n",
    "model_number = 7\n",
    "model_path = \"final_model.h5\"\n",
    "tms = False\n",
    "extract_bounding_boxes = True\n",
    "\n",
    "bbpredict = BBPredict(image_folder=image_folder,\n",
    "                      meta_folder=meta_folder,\n",
    "                      model_number=model_number,\n",
    "                      model_path=model_path,\n",
    "                      tms=tms,\n",
    "                      extract_bounding_boxes=extract_bounding_boxes)\n",
    "\n",
    "bbpredict.run()"
   ]
  },
  {
   "cell_type": "markdown",
   "metadata": {},
   "source": [
    "# Build Placemarks"
   ]
  },
  {
   "cell_type": "code",
   "execution_count": 2,
   "metadata": {},
   "outputs": [],
   "source": [
    "from detection.build_placemarks import BuildPlacemarks\n",
    "\n",
    "meta_folder = \"C:\\\\Users\\\\AISG\\\\Documents\\\\Jonas\\\\Real_World_Dataset_TMS_meta_save_2\\\\Real_World_Dataset_TMS_meta\\\\sat\\\\\"\n",
    "model_number = 7\n",
    "threshold = 0\n",
    "\n",
    "index_path = \"../database_management/helipad_path_over_0.txt\"\n",
    "\n",
    "knn = False\n",
    "model_name = \"cnn_validation\"\n",
    "model_validation_threshold = None\n",
    "\n",
    "build_placemarks = BuildPlacemarks(meta_folder,\n",
    "                                   model_number,\n",
    "                                   threshold,\n",
    "                                   knn=knn,\n",
    "                                   model_name=model_name,\n",
    "                                   model_validation_threshold=model_validation_threshold,\n",
    "                                   index_path=index_path)\n",
    "\n",
    "build_placemarks.run()"
   ]
  },
  {
   "cell_type": "markdown",
   "metadata": {},
   "source": [
    "### Transfer the placemarks to my local machine"
   ]
  },
  {
   "cell_type": "code",
   "execution_count": null,
   "metadata": {},
   "outputs": [],
   "source": []
  }
 ],
 "metadata": {
  "kernelspec": {
   "display_name": "tf-gpu_1.13",
   "language": "python",
   "name": "tf-gpu_1.13"
  },
  "language_info": {
   "codemirror_mode": {
    "name": "ipython",
    "version": 3
   },
   "file_extension": ".py",
   "mimetype": "text/x-python",
   "name": "python",
   "nbconvert_exporter": "python",
   "pygments_lexer": "ipython3",
   "version": "3.7.6"
  }
 },
 "nbformat": 4,
 "nbformat_minor": 2
}
