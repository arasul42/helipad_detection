{
 "cells": [
  {
   "cell_type": "code",
   "execution_count": 1,
   "metadata": {},
   "outputs": [],
   "source": [
    "import os\n",
    "os.environ[\"CUDA_DEVICE_ORDER\"]=\"PCI_BUS_ID\"   # see issue #152\n",
    "os.environ[\"CUDA_VISIBLE_DEVICES\"]=\"0\"\n",
    "import sys"
   ]
  },
  {
   "cell_type": "markdown",
   "metadata": {},
   "source": [
    "# Database Creation"
   ]
  },
  {
   "cell_type": "markdown",
   "metadata": {},
   "source": [
    "# Database Management"
   ]
  },
  {
   "cell_type": "markdown",
   "metadata": {},
   "source": [
    "# DataBase Augmentation"
   ]
  },
  {
   "cell_type": "code",
   "execution_count": 1,
   "metadata": {},
   "outputs": [
    {
     "name": "stdout",
     "output_type": "stream",
     "text": [
      "Building Target files\n"
     ]
    },
    {
     "name": "stderr",
     "output_type": "stream",
     "text": [
      "  0%|                                                                                | 5/43632 [00:00<16:49, 43.21it/s]"
     ]
    },
    {
     "name": "stdout",
     "output_type": "stream",
     "text": [
      "Categories count : [60, 1616, 447, 142, 214, 63, 207, 113, 141, 89, 143, 29]\n",
      "{'0': 60, '1': 1616, '2': 447, '3': 142, '4': 214, 'd': 63, '9': 207, '5': 113, '6': 141, '7': 89, '8': 143, 'u': 29}\n",
      "Max count : 1616\n",
      "Total count : 3264\n",
      "Duplicating category 0 3 times\n",
      "Duplicating category 1 1 times\n",
      "Duplicating category 2 1 times\n",
      "Duplicating category 3 3 times\n",
      "Duplicating category 4 0 times\n",
      "Duplicating category d 0 times\n",
      "Duplicating category 9 1 times\n",
      "Duplicating category 5 3 times\n",
      "Duplicating category 6 2 times\n",
      "Duplicating category 7 0 times\n",
      "Duplicating category 8 1 times\n",
      "Duplicating category u 0 times\n",
      "Target Files Built\n",
      "Generating 43632 images\n"
     ]
    },
    {
     "name": "stderr",
     "output_type": "stream",
     "text": [
      " 23%|█████████████████▌                                                           | 9953/43632 [04:03<14:40, 38.25it/s]"
     ]
    },
    {
     "name": "stdout",
     "output_type": "stream",
     "text": [
      "Helipad_03396.png has no box\n"
     ]
    },
    {
     "name": "stderr",
     "output_type": "stream",
     "text": [
      " 23%|█████████████████▋                                                          | 10186/43632 [04:09<12:21, 45.09it/s]"
     ]
    },
    {
     "name": "stdout",
     "output_type": "stream",
     "text": [
      "Helipad_03396.png has no box\n"
     ]
    },
    {
     "name": "stderr",
     "output_type": "stream",
     "text": [
      " 24%|██████████████████▍                                                         | 10589/43632 [04:18<12:01, 45.81it/s]"
     ]
    },
    {
     "name": "stdout",
     "output_type": "stream",
     "text": [
      "Helipad_03396.png has no box\n"
     ]
    },
    {
     "name": "stderr",
     "output_type": "stream",
     "text": [
      " 25%|██████████████████▉                                                         | 10902/43632 [04:25<12:21, 44.14it/s]"
     ]
    },
    {
     "name": "stdout",
     "output_type": "stream",
     "text": [
      "Helipad_03396.png has no box\n"
     ]
    },
    {
     "name": "stderr",
     "output_type": "stream",
     "text": [
      " 25%|███████████████████                                                         | 10970/43632 [04:27<12:29, 43.60it/s]"
     ]
    },
    {
     "name": "stdout",
     "output_type": "stream",
     "text": [
      "Helipad_03396.png has no box\n"
     ]
    },
    {
     "name": "stderr",
     "output_type": "stream",
     "text": [
      " 26%|███████████████████▊                                                        | 11410/43632 [04:37<11:37, 46.20it/s]"
     ]
    },
    {
     "name": "stdout",
     "output_type": "stream",
     "text": [
      "Helipad_03396.png has no box\n"
     ]
    },
    {
     "name": "stderr",
     "output_type": "stream",
     "text": [
      " 26%|███████████████████▉                                                        | 11466/43632 [04:38<11:20, 47.29it/s]"
     ]
    },
    {
     "name": "stdout",
     "output_type": "stream",
     "text": [
      "Helipad_03396.png has no box\n"
     ]
    },
    {
     "name": "stderr",
     "output_type": "stream",
     "text": [
      " 26%|████████████████████                                                        | 11537/43632 [04:40<12:12, 43.82it/s]"
     ]
    },
    {
     "name": "stdout",
     "output_type": "stream",
     "text": [
      "Helipad_03396.png has no box\n"
     ]
    },
    {
     "name": "stderr",
     "output_type": "stream",
     "text": [
      " 27%|████████████████████▏                                                       | 11567/43632 [04:41<12:37, 42.31it/s]"
     ]
    },
    {
     "name": "stdout",
     "output_type": "stream",
     "text": [
      "Helipad_03396.png has no box\n"
     ]
    },
    {
     "name": "stderr",
     "output_type": "stream",
     "text": [
      " 29%|█████████████████████▋                                                      | 12465/43632 [05:02<11:57, 43.41it/s]"
     ]
    },
    {
     "name": "stdout",
     "output_type": "stream",
     "text": [
      "Helipad_03396.png has no box\n"
     ]
    },
    {
     "name": "stderr",
     "output_type": "stream",
     "text": [
      " 30%|██████████████████████▍                                                     | 12878/43632 [05:11<11:38, 44.03it/s]"
     ]
    },
    {
     "name": "stdout",
     "output_type": "stream",
     "text": [
      "Helipad_03396.png has no box\n"
     ]
    },
    {
     "name": "stderr",
     "output_type": "stream",
     "text": [
      " 45%|██████████████████████████████████                                          | 19536/43632 [07:47<09:41, 41.43it/s]"
     ]
    },
    {
     "name": "stdout",
     "output_type": "stream",
     "text": [
      "Helipad_03329.png has no box\n"
     ]
    },
    {
     "name": "stderr",
     "output_type": "stream",
     "text": [
      " 45%|██████████████████████████████████▏                                         | 19609/43632 [07:49<09:52, 40.56it/s]"
     ]
    },
    {
     "name": "stdout",
     "output_type": "stream",
     "text": [
      "Helipad_05772.png has no box\n"
     ]
    },
    {
     "name": "stderr",
     "output_type": "stream",
     "text": [
      " 45%|██████████████████████████████████▏                                         | 19639/43632 [07:50<09:10, 43.59it/s]"
     ]
    },
    {
     "name": "stdout",
     "output_type": "stream",
     "text": [
      "Helipad_05772.png has no box\n"
     ]
    },
    {
     "name": "stderr",
     "output_type": "stream",
     "text": [
      " 45%|██████████████████████████████████▎                                         | 19665/43632 [07:50<08:59, 44.40it/s]"
     ]
    },
    {
     "name": "stdout",
     "output_type": "stream",
     "text": [
      "Helipad_03329.png has no box\n"
     ]
    },
    {
     "name": "stderr",
     "output_type": "stream",
     "text": [
      " 45%|██████████████████████████████████▍                                         | 19762/43632 [07:52<08:13, 48.36it/s]"
     ]
    },
    {
     "name": "stdout",
     "output_type": "stream",
     "text": [
      "Helipad_05772.png has no box\n"
     ]
    },
    {
     "name": "stderr",
     "output_type": "stream",
     "text": [
      " 45%|██████████████████████████████████▌                                         | 19815/43632 [07:53<08:28, 46.87it/s]"
     ]
    },
    {
     "name": "stdout",
     "output_type": "stream",
     "text": [
      "Helipad_03329.png has no box\n"
     ]
    },
    {
     "name": "stderr",
     "output_type": "stream",
     "text": [
      " 46%|██████████████████████████████████▌                                         | 19872/43632 [07:55<08:38, 45.82it/s]"
     ]
    },
    {
     "name": "stdout",
     "output_type": "stream",
     "text": [
      "Helipad_03329.png has no box\n"
     ]
    },
    {
     "name": "stderr",
     "output_type": "stream",
     "text": [
      " 46%|██████████████████████████████████▉                                         | 20078/43632 [07:59<08:23, 46.79it/s]"
     ]
    },
    {
     "name": "stdout",
     "output_type": "stream",
     "text": [
      "Helipad_05772.png has no box\n"
     ]
    },
    {
     "name": "stderr",
     "output_type": "stream",
     "text": [
      " 46%|███████████████████████████████████▏                                        | 20186/43632 [08:02<08:29, 45.99it/s]"
     ]
    },
    {
     "name": "stdout",
     "output_type": "stream",
     "text": [
      "Helipad_05772.png has no box\n"
     ]
    },
    {
     "name": "stderr",
     "output_type": "stream",
     "text": [
      " 47%|███████████████████████████████████▋                                        | 20459/43632 [08:08<08:31, 45.30it/s]"
     ]
    },
    {
     "name": "stdout",
     "output_type": "stream",
     "text": [
      "Helipad_03329.png has no box\n"
     ]
    },
    {
     "name": "stderr",
     "output_type": "stream",
     "text": [
      " 47%|███████████████████████████████████▉                                        | 20612/43632 [08:11<08:29, 45.14it/s]"
     ]
    },
    {
     "name": "stdout",
     "output_type": "stream",
     "text": [
      "Helipad_05772.png has no box\n"
     ]
    },
    {
     "name": "stderr",
     "output_type": "stream",
     "text": [
      " 48%|████████████████████████████████████                                        | 20738/43632 [08:14<08:12, 46.48it/s]"
     ]
    },
    {
     "name": "stdout",
     "output_type": "stream",
     "text": [
      "Helipad_05772.png has no box\n"
     ]
    },
    {
     "name": "stderr",
     "output_type": "stream",
     "text": [
      " 48%|████████████████████████████████████▏                                       | 20769/43632 [08:15<08:31, 44.70it/s]"
     ]
    },
    {
     "name": "stdout",
     "output_type": "stream",
     "text": [
      "Helipad_05772.png has no box\n"
     ]
    },
    {
     "name": "stderr",
     "output_type": "stream",
     "text": [
      " 59%|█████████████████████████████████████████████▏                              | 25930/43632 [10:14<06:52, 42.94it/s]"
     ]
    },
    {
     "name": "stdout",
     "output_type": "stream",
     "text": [
      "Helipad_03391.png has no box\n"
     ]
    },
    {
     "name": "stderr",
     "output_type": "stream",
     "text": [
      " 60%|█████████████████████████████████████████████▍                              | 26081/43632 [10:17<06:37, 44.14it/s]"
     ]
    },
    {
     "name": "stdout",
     "output_type": "stream",
     "text": [
      "Helipad_03391.png has no box\n"
     ]
    },
    {
     "name": "stderr",
     "output_type": "stream",
     "text": [
      " 60%|█████████████████████████████████████████████▊                              | 26292/43632 [10:22<06:23, 45.25it/s]"
     ]
    },
    {
     "name": "stdout",
     "output_type": "stream",
     "text": [
      "Helipad_03391.png has no box\n"
     ]
    },
    {
     "name": "stderr",
     "output_type": "stream",
     "text": [
      " 61%|██████████████████████████████████████████████▏                             | 26497/43632 [10:26<06:18, 45.23it/s]"
     ]
    },
    {
     "name": "stdout",
     "output_type": "stream",
     "text": [
      "Helipad_03391.png has no box\n"
     ]
    },
    {
     "name": "stderr",
     "output_type": "stream",
     "text": [
      " 61%|██████████████████████████████████████████████▏                             | 26523/43632 [10:27<05:55, 48.10it/s]"
     ]
    },
    {
     "name": "stdout",
     "output_type": "stream",
     "text": [
      "Helipad_03391.png has no box\n"
     ]
    },
    {
     "name": "stderr",
     "output_type": "stream",
     "text": [
      " 61%|██████████████████████████████████████████████▍                             | 26628/43632 [10:29<06:31, 43.42it/s]"
     ]
    },
    {
     "name": "stdout",
     "output_type": "stream",
     "text": [
      "Helipad_03391.png has no box\n"
     ]
    },
    {
     "name": "stderr",
     "output_type": "stream",
     "text": [
      " 61%|██████████████████████████████████████████████▌                             | 26767/43632 [10:32<05:55, 47.48it/s]"
     ]
    },
    {
     "name": "stdout",
     "output_type": "stream",
     "text": [
      "Helipad_03391.png has no box\n",
      "Helipad_03391.png has no box\n"
     ]
    },
    {
     "name": "stderr",
     "output_type": "stream",
     "text": [
      " 62%|██████████████████████████████████████████████▊                             | 26864/43632 [10:34<06:08, 45.47it/s]"
     ]
    },
    {
     "name": "stdout",
     "output_type": "stream",
     "text": [
      "Helipad_03391.png has no box\n"
     ]
    },
    {
     "name": "stderr",
     "output_type": "stream",
     "text": [
      " 62%|██████████████████████████████████████████████▉                             | 26937/43632 [10:36<06:06, 45.60it/s]"
     ]
    },
    {
     "name": "stdout",
     "output_type": "stream",
     "text": [
      "Helipad_03391.png has no box\n"
     ]
    },
    {
     "name": "stderr",
     "output_type": "stream",
     "text": [
      " 62%|██████████████████████████████████████████████▉                             | 26969/43632 [10:37<05:48, 47.85it/s]"
     ]
    },
    {
     "name": "stdout",
     "output_type": "stream",
     "text": [
      "Helipad_03391.png has no box\n"
     ]
    },
    {
     "name": "stderr",
     "output_type": "stream",
     "text": [
      " 62%|███████████████████████████████████████████████                             | 27040/43632 [10:38<05:49, 47.53it/s]"
     ]
    },
    {
     "name": "stdout",
     "output_type": "stream",
     "text": [
      "Helipad_03391.png has no box\n"
     ]
    },
    {
     "name": "stderr",
     "output_type": "stream",
     "text": [
      " 62%|███████████████████████████████████████████████▏                            | 27061/43632 [10:39<05:42, 48.38it/s]"
     ]
    },
    {
     "name": "stdout",
     "output_type": "stream",
     "text": [
      "Helipad_03391.png has no box\n"
     ]
    },
    {
     "name": "stderr",
     "output_type": "stream",
     "text": [
      " 63%|███████████████████████████████████████████████▋                            | 27408/43632 [10:47<06:03, 44.59it/s]"
     ]
    },
    {
     "name": "stdout",
     "output_type": "stream",
     "text": [
      "Helipad_03391.png has no box\n"
     ]
    },
    {
     "name": "stderr",
     "output_type": "stream",
     "text": [
      " 63%|███████████████████████████████████████████████▊                            | 27449/43632 [10:48<06:14, 43.25it/s]"
     ]
    },
    {
     "name": "stdout",
     "output_type": "stream",
     "text": [
      "Helipad_03391.png has no box\n"
     ]
    },
    {
     "name": "stderr",
     "output_type": "stream",
     "text": [
      " 63%|████████████████████████████████████████████████▏                           | 27643/43632 [10:52<05:51, 45.49it/s]"
     ]
    },
    {
     "name": "stdout",
     "output_type": "stream",
     "text": [
      "Helipad_03391.png has no box\n"
     ]
    },
    {
     "name": "stderr",
     "output_type": "stream",
     "text": [
      " 63%|████████████████████████████████████████████████▏                           | 27675/43632 [10:53<05:57, 44.61it/s]"
     ]
    },
    {
     "name": "stdout",
     "output_type": "stream",
     "text": [
      "Helipad_03391.png has no box\n"
     ]
    },
    {
     "name": "stderr",
     "output_type": "stream",
     "text": [
      " 63%|████████████████████████████████████████████████▏                           | 27691/43632 [10:53<05:35, 47.45it/s]"
     ]
    },
    {
     "name": "stdout",
     "output_type": "stream",
     "text": [
      "Helipad_03391.png has no box\n"
     ]
    },
    {
     "name": "stderr",
     "output_type": "stream",
     "text": [
      " 64%|████████████████████████████████████████████████▎                           | 27741/43632 [10:55<06:13, 42.55it/s]"
     ]
    },
    {
     "name": "stdout",
     "output_type": "stream",
     "text": [
      "Helipad_03391.png has no box\n"
     ]
    },
    {
     "name": "stderr",
     "output_type": "stream",
     "text": [
      " 64%|████████████████████████████████████████████████▍                           | 27787/43632 [10:56<05:56, 44.46it/s]"
     ]
    },
    {
     "name": "stdout",
     "output_type": "stream",
     "text": [
      "Helipad_03391.png has no box\n"
     ]
    },
    {
     "name": "stderr",
     "output_type": "stream",
     "text": [
      " 64%|████████████████████████████████████████████████▊                           | 28022/43632 [11:01<05:42, 45.58it/s]"
     ]
    },
    {
     "name": "stdout",
     "output_type": "stream",
     "text": [
      "Helipad_03391.png has no box\n"
     ]
    },
    {
     "name": "stderr",
     "output_type": "stream",
     "text": [
      " 65%|█████████████████████████████████████████████████▎                          | 28298/43632 [11:07<05:59, 42.69it/s]"
     ]
    },
    {
     "name": "stdout",
     "output_type": "stream",
     "text": [
      "Helipad_03391.png has no box\n"
     ]
    },
    {
     "name": "stderr",
     "output_type": "stream",
     "text": [
      " 65%|█████████████████████████████████████████████████▍                          | 28409/43632 [11:10<05:34, 45.53it/s]"
     ]
    },
    {
     "name": "stdout",
     "output_type": "stream",
     "text": [
      "Helipad_03391.png has no box\n"
     ]
    },
    {
     "name": "stderr",
     "output_type": "stream",
     "text": [
      " 66%|█████████████████████████████████████████████████▊                          | 28605/43632 [11:14<05:15, 47.64it/s]"
     ]
    },
    {
     "name": "stdout",
     "output_type": "stream",
     "text": [
      "Helipad_03391.png has no box\n"
     ]
    },
    {
     "name": "stderr",
     "output_type": "stream",
     "text": [
      " 66%|██████████████████████████████████████████████████                          | 28735/43632 [11:17<05:28, 45.39it/s]"
     ]
    },
    {
     "name": "stdout",
     "output_type": "stream",
     "text": [
      "Helipad_03391.png has no box\n"
     ]
    },
    {
     "name": "stderr",
     "output_type": "stream",
     "text": [
      " 66%|██████████████████████████████████████████████████▏                         | 28812/43632 [11:19<05:16, 46.88it/s]"
     ]
    },
    {
     "name": "stdout",
     "output_type": "stream",
     "text": [
      "Helipad_03391.png has no box\n"
     ]
    },
    {
     "name": "stderr",
     "output_type": "stream",
     "text": [
      " 66%|██████████████████████████████████████████████████▍                         | 28975/43632 [11:23<05:18, 46.08it/s]"
     ]
    },
    {
     "name": "stdout",
     "output_type": "stream",
     "text": [
      "Helipad_03391.png has no box\n",
      "Helipad_03391.png has no box\n"
     ]
    },
    {
     "name": "stderr",
     "output_type": "stream",
     "text": [
      " 67%|██████████████████████████████████████████████████▌                         | 29031/43632 [11:24<05:43, 42.56it/s]"
     ]
    },
    {
     "name": "stdout",
     "output_type": "stream",
     "text": [
      "Helipad_03391.png has no box\n"
     ]
    },
    {
     "name": "stderr",
     "output_type": "stream",
     "text": [
      " 67%|██████████████████████████████████████████████████▌                         | 29042/43632 [11:24<05:20, 45.55it/s]"
     ]
    },
    {
     "name": "stdout",
     "output_type": "stream",
     "text": [
      "Helipad_03391.png has no box\n"
     ]
    },
    {
     "name": "stderr",
     "output_type": "stream",
     "text": [
      " 67%|██████████████████████████████████████████████████▋                         | 29099/43632 [11:26<05:01, 48.19it/s]"
     ]
    },
    {
     "name": "stdout",
     "output_type": "stream",
     "text": [
      "Helipad_03391.png has no box\n",
      "Helipad_03391.png has no box\n"
     ]
    },
    {
     "name": "stderr",
     "output_type": "stream",
     "text": [
      " 67%|██████████████████████████████████████████████████▊                         | 29180/43632 [11:28<05:41, 42.32it/s]"
     ]
    },
    {
     "name": "stdout",
     "output_type": "stream",
     "text": [
      "Helipad_03391.png has no box\n"
     ]
    },
    {
     "name": "stderr",
     "output_type": "stream",
     "text": [
      " 67%|███████████████████████████████████████████████████                         | 29282/43632 [11:30<05:20, 44.78it/s]"
     ]
    },
    {
     "name": "stdout",
     "output_type": "stream",
     "text": [
      "Helipad_03391.png has no box\n"
     ]
    },
    {
     "name": "stderr",
     "output_type": "stream",
     "text": [
      " 68%|███████████████████████████████████████████████████▎                        | 29472/43632 [11:34<05:21, 44.04it/s]"
     ]
    },
    {
     "name": "stdout",
     "output_type": "stream",
     "text": [
      "Helipad_03391.png has no box\n"
     ]
    },
    {
     "name": "stderr",
     "output_type": "stream",
     "text": [
      " 68%|███████████████████████████████████████████████████▍                        | 29559/43632 [11:36<05:04, 46.26it/s]"
     ]
    },
    {
     "name": "stdout",
     "output_type": "stream",
     "text": [
      "Helipad_03391.png has no box\n"
     ]
    },
    {
     "name": "stderr",
     "output_type": "stream",
     "text": [
      " 68%|███████████████████████████████████████████████████▌                        | 29590/43632 [11:37<05:03, 46.33it/s]"
     ]
    },
    {
     "name": "stdout",
     "output_type": "stream",
     "text": [
      "Helipad_03391.png has no box\n"
     ]
    },
    {
     "name": "stderr",
     "output_type": "stream",
     "text": [
      " 68%|███████████████████████████████████████████████████▊                        | 29775/43632 [11:42<05:16, 43.72it/s]"
     ]
    },
    {
     "name": "stdout",
     "output_type": "stream",
     "text": [
      "Helipad_03391.png has no box\n"
     ]
    },
    {
     "name": "stderr",
     "output_type": "stream",
     "text": [
      " 69%|████████████████████████████████████████████████████▏                       | 29952/43632 [11:46<04:47, 47.57it/s]"
     ]
    },
    {
     "name": "stdout",
     "output_type": "stream",
     "text": [
      "Helipad_03391.png has no box\n",
      "Helipad_03391.png has no box\n"
     ]
    },
    {
     "name": "stderr",
     "output_type": "stream",
     "text": [
      " 69%|████████████████████████████████████████████████████▌                       | 30166/43632 [11:51<05:34, 40.32it/s]"
     ]
    },
    {
     "name": "stdout",
     "output_type": "stream",
     "text": [
      "Helipad_03391.png has no box\n"
     ]
    },
    {
     "name": "stderr",
     "output_type": "stream",
     "text": [
      " 69%|████████████████████████████████████████████████████▌                       | 30212/43632 [11:52<05:12, 42.91it/s]"
     ]
    },
    {
     "name": "stdout",
     "output_type": "stream",
     "text": [
      "Helipad_03391.png has no box\n"
     ]
    },
    {
     "name": "stderr",
     "output_type": "stream",
     "text": [
      " 70%|████████████████████████████████████████████████████▉                       | 30367/43632 [11:55<04:44, 46.67it/s]"
     ]
    },
    {
     "name": "stdout",
     "output_type": "stream",
     "text": [
      "Helipad_03391.png has no box\n"
     ]
    },
    {
     "name": "stderr",
     "output_type": "stream",
     "text": [
      " 70%|█████████████████████████████████████████████████████                       | 30493/43632 [11:58<05:08, 42.55it/s]"
     ]
    },
    {
     "name": "stdout",
     "output_type": "stream",
     "text": [
      "Helipad_03391.png has no box\n"
     ]
    },
    {
     "name": "stderr",
     "output_type": "stream",
     "text": [
      " 70%|█████████████████████████████████████████████████████▍                      | 30668/43632 [12:03<05:27, 39.57it/s]"
     ]
    },
    {
     "name": "stdout",
     "output_type": "stream",
     "text": [
      "Helipad_03391.png has no box\n"
     ]
    },
    {
     "name": "stderr",
     "output_type": "stream",
     "text": [
      " 71%|█████████████████████████████████████████████████████▊                      | 30890/43632 [12:08<04:39, 45.52it/s]"
     ]
    },
    {
     "name": "stdout",
     "output_type": "stream",
     "text": [
      "Helipad_03391.png has no box\n"
     ]
    },
    {
     "name": "stderr",
     "output_type": "stream",
     "text": [
      " 71%|██████████████████████████████████████████████████████▏                     | 31100/43632 [12:13<04:50, 43.15it/s]"
     ]
    },
    {
     "name": "stdout",
     "output_type": "stream",
     "text": [
      "Helipad_03391.png has no box\n"
     ]
    },
    {
     "name": "stderr",
     "output_type": "stream",
     "text": [
      " 72%|██████████████████████████████████████████████████████▌                     | 31289/43632 [12:17<04:52, 42.16it/s]"
     ]
    },
    {
     "name": "stdout",
     "output_type": "stream",
     "text": [
      "Helipad_03391.png has no box\n"
     ]
    },
    {
     "name": "stderr",
     "output_type": "stream",
     "text": [
      " 72%|██████████████████████████████████████████████████████▌                     | 31309/43632 [12:18<04:42, 43.66it/s]"
     ]
    },
    {
     "name": "stdout",
     "output_type": "stream",
     "text": [
      "Helipad_03391.png has no box\n",
      "Helipad_03391.png has no box\n",
      "Helipad_03391.png has no box\n"
     ]
    },
    {
     "name": "stderr",
     "output_type": "stream",
     "text": [
      " 72%|██████████████████████████████████████████████████████▊                     | 31475/43632 [12:22<04:40, 43.32it/s]"
     ]
    },
    {
     "name": "stdout",
     "output_type": "stream",
     "text": [
      "Helipad_03391.png has no box\n"
     ]
    },
    {
     "name": "stderr",
     "output_type": "stream",
     "text": [
      " 73%|███████████████████████████████████████████████████████▎                    | 31729/43632 [12:28<04:34, 43.30it/s]"
     ]
    },
    {
     "name": "stdout",
     "output_type": "stream",
     "text": [
      "Helipad_03391.png has no box\n",
      "Helipad_03391.png has no box\n"
     ]
    },
    {
     "name": "stderr",
     "output_type": "stream",
     "text": [
      " 74%|████████████████████████████████████████████████████████                    | 32201/43632 [12:39<04:17, 44.35it/s]"
     ]
    },
    {
     "name": "stdout",
     "output_type": "stream",
     "text": [
      "Helipad_03391.png has no box\n"
     ]
    },
    {
     "name": "stderr",
     "output_type": "stream",
     "text": [
      " 96%|█████████████████████████████████████████████████████████████████████████▏  | 42047/43632 [16:29<00:37, 42.42it/s]"
     ]
    },
    {
     "name": "stdout",
     "output_type": "stream",
     "text": [
      "Helipad_02792.png has no box\n"
     ]
    },
    {
     "name": "stderr",
     "output_type": "stream",
     "text": [
      " 96%|█████████████████████████████████████████████████████████████████████████▎  | 42067/43632 [16:29<00:34, 45.89it/s]"
     ]
    },
    {
     "name": "stdout",
     "output_type": "stream",
     "text": [
      "Helipad_02792.png has no box\n"
     ]
    },
    {
     "name": "stderr",
     "output_type": "stream",
     "text": [
      " 96%|█████████████████████████████████████████████████████████████████████████▎  | 42084/43632 [16:29<00:32, 47.98it/s]"
     ]
    },
    {
     "name": "stdout",
     "output_type": "stream",
     "text": [
      "Helipad_02792.png has no box\n",
      "Helipad_02792.png has no box\n"
     ]
    },
    {
     "name": "stderr",
     "output_type": "stream",
     "text": [
      " 97%|█████████████████████████████████████████████████████████████████████████▍  | 42141/43632 [16:31<00:33, 44.13it/s]"
     ]
    },
    {
     "name": "stdout",
     "output_type": "stream",
     "text": [
      "Helipad_02792.png has no box\n"
     ]
    },
    {
     "name": "stderr",
     "output_type": "stream",
     "text": [
      " 97%|█████████████████████████████████████████████████████████████████████████▍  | 42179/43632 [16:32<00:29, 48.73it/s]"
     ]
    },
    {
     "name": "stdout",
     "output_type": "stream",
     "text": [
      "Helipad_02792.png has no box\n",
      "Helipad_02792.png has no box\n"
     ]
    },
    {
     "name": "stderr",
     "output_type": "stream",
     "text": [
      " 97%|█████████████████████████████████████████████████████████████████████████▌  | 42256/43632 [16:33<00:29, 46.17it/s]"
     ]
    },
    {
     "name": "stdout",
     "output_type": "stream",
     "text": [
      "Helipad_02792.png has no box\n"
     ]
    },
    {
     "name": "stderr",
     "output_type": "stream",
     "text": [
      " 97%|█████████████████████████████████████████████████████████████████████████▋  | 42293/43632 [16:34<00:28, 47.25it/s]"
     ]
    },
    {
     "name": "stdout",
     "output_type": "stream",
     "text": [
      "Helipad_02792.png has no box\n",
      "Helipad_02792.png has no box\n"
     ]
    },
    {
     "name": "stderr",
     "output_type": "stream",
     "text": [
      " 97%|█████████████████████████████████████████████████████████████████████████▋  | 42319/43632 [16:35<00:28, 46.82it/s]"
     ]
    },
    {
     "name": "stdout",
     "output_type": "stream",
     "text": [
      "Helipad_02792.png has no box\n",
      "Helipad_02792.png has no box\n"
     ]
    },
    {
     "name": "stderr",
     "output_type": "stream",
     "text": [
      " 97%|█████████████████████████████████████████████████████████████████████████▋  | 42337/43632 [16:35<00:26, 49.60it/s]"
     ]
    },
    {
     "name": "stdout",
     "output_type": "stream",
     "text": [
      "Helipad_02792.png has no box\n",
      "Helipad_02792.png has no box\n",
      "Helipad_02792.png has no box\n"
     ]
    },
    {
     "name": "stderr",
     "output_type": "stream",
     "text": [
      " 97%|█████████████████████████████████████████████████████████████████████████▊  | 42361/43632 [16:36<00:25, 50.59it/s]"
     ]
    },
    {
     "name": "stdout",
     "output_type": "stream",
     "text": [
      "Helipad_02792.png has no box\n",
      "Helipad_02792.png has no box\n",
      "Helipad_02792.png has no box\n"
     ]
    },
    {
     "name": "stderr",
     "output_type": "stream",
     "text": [
      " 97%|█████████████████████████████████████████████████████████████████████████▊  | 42395/43632 [16:36<00:26, 46.88it/s]"
     ]
    },
    {
     "name": "stdout",
     "output_type": "stream",
     "text": [
      "Helipad_02792.png has no box\n"
     ]
    },
    {
     "name": "stderr",
     "output_type": "stream",
     "text": [
      " 97%|█████████████████████████████████████████████████████████████████████████▉  | 42456/43632 [16:38<00:26, 43.96it/s]"
     ]
    },
    {
     "name": "stdout",
     "output_type": "stream",
     "text": [
      "Helipad_02792.png has no box\n"
     ]
    },
    {
     "name": "stderr",
     "output_type": "stream",
     "text": [
      " 98%|██████████████████████████████████████████████████████████████████████████▏ | 42606/43632 [16:41<00:24, 41.18it/s]"
     ]
    },
    {
     "name": "stdout",
     "output_type": "stream",
     "text": [
      "Helipad_02792.png has no box\n"
     ]
    },
    {
     "name": "stderr",
     "output_type": "stream",
     "text": [
      " 98%|██████████████████████████████████████████████████████████████████████████▎ | 42675/43632 [16:43<00:21, 44.37it/s]"
     ]
    },
    {
     "name": "stdout",
     "output_type": "stream",
     "text": [
      "Helipad_02792.png has no box\n"
     ]
    },
    {
     "name": "stderr",
     "output_type": "stream",
     "text": [
      " 98%|██████████████████████████████████████████████████████████████████████████▎ | 42686/43632 [16:43<00:20, 47.07it/s]"
     ]
    },
    {
     "name": "stdout",
     "output_type": "stream",
     "text": [
      "Helipad_02792.png has no box\n"
     ]
    },
    {
     "name": "stderr",
     "output_type": "stream",
     "text": [
      " 98%|██████████████████████████████████████████████████████████████████████████▍ | 42727/43632 [16:44<00:19, 46.57it/s]"
     ]
    },
    {
     "name": "stdout",
     "output_type": "stream",
     "text": [
      "Helipad_02792.png has no box\n"
     ]
    },
    {
     "name": "stderr",
     "output_type": "stream",
     "text": [
      " 98%|██████████████████████████████████████████████████████████████████████████▌ | 42838/43632 [16:47<00:19, 40.52it/s]"
     ]
    },
    {
     "name": "stdout",
     "output_type": "stream",
     "text": [
      "Helipad_02792.png has no box\n",
      "Helipad_02792.png has no box\n"
     ]
    },
    {
     "name": "stderr",
     "output_type": "stream",
     "text": [
      " 98%|██████████████████████████████████████████████████████████████████████████▋ | 42873/43632 [16:48<00:17, 43.11it/s]"
     ]
    },
    {
     "name": "stdout",
     "output_type": "stream",
     "text": [
      "Helipad_02792.png has no box\n"
     ]
    },
    {
     "name": "stderr",
     "output_type": "stream",
     "text": [
      " 98%|██████████████████████████████████████████████████████████████████████████▋ | 42909/43632 [16:48<00:17, 41.89it/s]"
     ]
    },
    {
     "name": "stdout",
     "output_type": "stream",
     "text": [
      "Helipad_02792.png has no box\n"
     ]
    },
    {
     "name": "stderr",
     "output_type": "stream",
     "text": [
      " 98%|██████████████████████████████████████████████████████████████████████████▊ | 42930/43632 [16:49<00:17, 40.13it/s]"
     ]
    },
    {
     "name": "stdout",
     "output_type": "stream",
     "text": [
      "Helipad_02792.png has no box\n",
      "Helipad_02792.png has no box\n"
     ]
    },
    {
     "name": "stderr",
     "output_type": "stream",
     "text": [
      " 98%|██████████████████████████████████████████████████████████████████████████▊ | 42972/43632 [16:50<00:14, 45.65it/s]"
     ]
    },
    {
     "name": "stdout",
     "output_type": "stream",
     "text": [
      "Helipad_02792.png has no box\n"
     ]
    },
    {
     "name": "stderr",
     "output_type": "stream",
     "text": [
      " 99%|██████████████████████████████████████████████████████████████████████████▉ | 42997/43632 [16:51<00:14, 43.49it/s]"
     ]
    },
    {
     "name": "stdout",
     "output_type": "stream",
     "text": [
      "Helipad_02792.png has no box\n"
     ]
    },
    {
     "name": "stderr",
     "output_type": "stream",
     "text": [
      " 99%|███████████████████████████████████████████████████████████████████████████ | 43068/43632 [16:52<00:13, 40.54it/s]"
     ]
    },
    {
     "name": "stdout",
     "output_type": "stream",
     "text": [
      "Helipad_02792.png has no box\n"
     ]
    },
    {
     "name": "stderr",
     "output_type": "stream",
     "text": [
      " 99%|███████████████████████████████████████████████████████████████████████████ | 43089/43632 [16:53<00:12, 43.31it/s]"
     ]
    },
    {
     "name": "stdout",
     "output_type": "stream",
     "text": [
      "Helipad_02792.png has no box\n",
      "Helipad_02792.png has no box\n"
     ]
    },
    {
     "name": "stderr",
     "output_type": "stream",
     "text": [
      " 99%|███████████████████████████████████████████████████████████████████████████▏| 43135/43632 [16:54<00:11, 43.40it/s]"
     ]
    },
    {
     "name": "stdout",
     "output_type": "stream",
     "text": [
      "Helipad_02792.png has no box\n"
     ]
    },
    {
     "name": "stderr",
     "output_type": "stream",
     "text": [
      " 99%|███████████████████████████████████████████████████████████████████████████▏| 43160/43632 [16:54<00:10, 44.76it/s]"
     ]
    },
    {
     "name": "stdout",
     "output_type": "stream",
     "text": [
      "Helipad_02792.png has no box\n"
     ]
    },
    {
     "name": "stderr",
     "output_type": "stream",
     "text": [
      " 99%|███████████████████████████████████████████████████████████████████████████▏| 43176/43632 [16:55<00:09, 46.36it/s]"
     ]
    },
    {
     "name": "stdout",
     "output_type": "stream",
     "text": [
      "Helipad_02792.png has no box\n"
     ]
    },
    {
     "name": "stderr",
     "output_type": "stream",
     "text": [
      " 99%|███████████████████████████████████████████████████████████████████████████▎| 43259/43632 [16:57<00:07, 50.68it/s]"
     ]
    },
    {
     "name": "stdout",
     "output_type": "stream",
     "text": [
      "Helipad_02792.png has no box\n",
      "Helipad_02792.png has no box\n",
      "Helipad_02792.png has no box\n",
      "Helipad_02792.png has no box\n",
      "Helipad_02792.png has no box\n",
      "Helipad_02792.png has no box\n"
     ]
    },
    {
     "name": "stderr",
     "output_type": "stream",
     "text": [
      " 99%|███████████████████████████████████████████████████████████████████████████▎| 43271/43632 [16:57<00:07, 51.47it/s]"
     ]
    },
    {
     "name": "stdout",
     "output_type": "stream",
     "text": [
      "Helipad_02792.png has no box\n"
     ]
    },
    {
     "name": "stderr",
     "output_type": "stream",
     "text": [
      " 99%|███████████████████████████████████████████████████████████████████████████▍| 43319/43632 [16:58<00:06, 46.71it/s]"
     ]
    },
    {
     "name": "stdout",
     "output_type": "stream",
     "text": [
      "Helipad_02792.png has no box\n",
      "Helipad_02792.png has no box\n"
     ]
    },
    {
     "name": "stderr",
     "output_type": "stream",
     "text": [
      " 99%|███████████████████████████████████████████████████████████████████████████▍| 43330/43632 [16:58<00:06, 45.60it/s]"
     ]
    },
    {
     "name": "stdout",
     "output_type": "stream",
     "text": [
      "Helipad_02792.png has no box\n"
     ]
    },
    {
     "name": "stderr",
     "output_type": "stream",
     "text": [
      " 99%|███████████████████████████████████████████████████████████████████████████▌| 43346/43632 [16:59<00:06, 44.28it/s]"
     ]
    },
    {
     "name": "stdout",
     "output_type": "stream",
     "text": [
      "Helipad_02792.png has no box\n"
     ]
    },
    {
     "name": "stderr",
     "output_type": "stream",
     "text": [
      " 99%|███████████████████████████████████████████████████████████████████████████▌| 43357/43632 [16:59<00:05, 46.43it/s]"
     ]
    },
    {
     "name": "stdout",
     "output_type": "stream",
     "text": [
      "Helipad_02792.png has no box\n"
     ]
    },
    {
     "name": "stderr",
     "output_type": "stream",
     "text": [
      " 99%|███████████████████████████████████████████████████████████████████████████▌| 43387/43632 [17:00<00:05, 42.77it/s]"
     ]
    },
    {
     "name": "stdout",
     "output_type": "stream",
     "text": [
      "Helipad_02792.png has no box\n"
     ]
    },
    {
     "name": "stderr",
     "output_type": "stream",
     "text": [
      "100%|███████████████████████████████████████████████████████████████████████████▋| 43479/43632 [17:02<00:03, 43.67it/s]"
     ]
    },
    {
     "name": "stdout",
     "output_type": "stream",
     "text": [
      "Helipad_02792.png has no box\n",
      "Helipad_02792.png has no box\n"
     ]
    },
    {
     "name": "stderr",
     "output_type": "stream",
     "text": [
      "100%|███████████████████████████████████████████████████████████████████████████▊| 43496/43632 [17:02<00:03, 44.93it/s]"
     ]
    },
    {
     "name": "stdout",
     "output_type": "stream",
     "text": [
      "Helipad_02792.png has no box\n"
     ]
    },
    {
     "name": "stderr",
     "output_type": "stream",
     "text": [
      "100%|███████████████████████████████████████████████████████████████████████████▊| 43512/43632 [17:02<00:02, 44.64it/s]"
     ]
    },
    {
     "name": "stdout",
     "output_type": "stream",
     "text": [
      "Helipad_02792.png has no box\n"
     ]
    },
    {
     "name": "stderr",
     "output_type": "stream",
     "text": [
      "100%|███████████████████████████████████████████████████████████████████████████▊| 43542/43632 [17:03<00:02, 43.29it/s]"
     ]
    },
    {
     "name": "stdout",
     "output_type": "stream",
     "text": [
      "Helipad_02792.png has no box\n"
     ]
    },
    {
     "name": "stderr",
     "output_type": "stream",
     "text": [
      "\r",
      "100%|███████████████████████████████████████████████████████████████████████████▊| 43548/43632 [17:03<00:01, 45.97it/s]"
     ]
    },
    {
     "name": "stdout",
     "output_type": "stream",
     "text": [
      "Helipad_02792.png has no box\n"
     ]
    },
    {
     "name": "stderr",
     "output_type": "stream",
     "text": [
      "100%|███████████████████████████████████████████████████████████████████████████▉| 43591/43632 [17:04<00:00, 45.71it/s]"
     ]
    },
    {
     "name": "stdout",
     "output_type": "stream",
     "text": [
      "Helipad_02792.png has no box\n",
      "Helipad_02792.png has no box\n"
     ]
    },
    {
     "name": "stderr",
     "output_type": "stream",
     "text": [
      "100%|███████████████████████████████████████████████████████████████████████████▉| 43621/43632 [17:05<00:00, 43.93it/s]"
     ]
    },
    {
     "name": "stdout",
     "output_type": "stream",
     "text": [
      "Helipad_02792.png has no box\n"
     ]
    },
    {
     "name": "stderr",
     "output_type": "stream",
     "text": [
      "100%|████████████████████████████████████████████████████████████████████████████| 43632/43632 [17:05<00:00, 42.54it/s]\n"
     ]
    }
   ],
   "source": [
    "from imgaug import augmenters as iaa\n",
    "from database_management.database_augmentation_v2 import DatabaseAugmentationV2\n",
    "\n",
    "input_folder = \"D:\\\\Jonas\\\\Helipad_DataBase\\\\Helipad_DataBase_original\"\n",
    "meta_folder = \"D:\\\\Jonas\\\\Helipad_DataBase_meta\\\\Helipad_DataBase_meta_original\"\n",
    "root_folder = \"D:\\\\Jonas\\\\Helipad_DataBase\"\n",
    "root_folder_meta = \"D:\\\\Jonas\\\\Helipad_DataBase_meta\"\n",
    "\n",
    "augmentation_strategy = iaa.Sequential([\n",
    "                            iaa.Sometimes(0.2, iaa.Fliplr(1)),\n",
    "                            iaa.Sometimes(0.2, iaa.Flipud(1)),\n",
    "                            iaa.Sometimes(0.2, iaa.Rotate((-90, 90))),\n",
    "                            iaa.Sometimes(0.2, iaa.Affine(scale=(0.5, 1.5))),\n",
    "                            iaa.Sometimes(0.2, iaa.GaussianBlur(sigma=(0.0, 3.0))),\n",
    "                            iaa.Sometimes(0.15, iaa.AllChannelsHistogramEqualization()),\n",
    "                            iaa.Sometimes(0.2, iaa.ShearX((-20, 20))),\n",
    "                            iaa.Sometimes(0.2, iaa.ShearY((-20, 20))),\n",
    "                            iaa.Sometimes(0.15, iaa.pillike.EnhanceSharpness()),\n",
    "                            iaa.Sometimes(0.15, iaa.pillike.EnhanceBrightness())\n",
    "                            ])\n",
    "\n",
    "version_number = 11\n",
    "\n",
    "balance_dataset = True\n",
    "\n",
    "repartition = [3, 1, 1, 3, 0, 3, 2, 0, 1, 1, 0, 0]\n",
    "\n",
    "database_augmentation = DatabaseAugmentationV2(input_folder,\n",
    "                                             meta_folder,\n",
    "                                             root_folder,\n",
    "                                             root_folder_meta,\n",
    "                                             augmentation_strategy=augmentation_strategy,\n",
    "                                             version_number=version_number,\n",
    "                                             balance_dataset=balance_dataset,\n",
    "                                             repartition=repartition)\n",
    "\n",
    "database_augmentation.run()\n"
   ]
  },
  {
   "cell_type": "markdown",
   "metadata": {},
   "source": [
    "# Run Training"
   ]
  },
  {
   "cell_type": "code",
   "execution_count": null,
   "metadata": {},
   "outputs": [],
   "source": [
    "sys.path.append('training')\n",
    "from training.run_training import RunTraining\n",
    "\n",
    "root_folder = \"../../Helipad/Helipad_DataBase\"\n",
    "root_meta_folder = \"../../Helipad/Helipad_DataBase_meta\"\n",
    "model_folder = \"../../Helipad/model\"\n",
    "include_augmented = True\n",
    "augmented_version = [10]\n",
    "\n",
    "train_categories = [\"1\", \"2\", \"3\", \"5\", \"6\", \"8\", \"9\"]\n",
    "test_categories = [\"4\", \"7\", \"d\", \"u\"]\n",
    "\n",
    "weights_filename = 'helipad_cfg_10_no47du_all20200420T0127/mask_rcnn_helipad_cfg_10_no47du_all_0538.h5'\n",
    "base_weights = 'mask_rcnn_coco.h5'\n",
    "\n",
    "predict_weights_filepath = 'helipad_cfg_7_aug123_all20200106T2012/mask_rcnn_helipad_cfg_7_aug123_all_0472.h5'\n",
    "\n",
    "run_training = RunTraining(root_folder,\n",
    "                           root_meta_folder,\n",
    "                           model_folder,\n",
    "                           weights_filename,\n",
    "                           include_augmented=include_augmented,\n",
    "                           augmented_version=augmented_version,\n",
    "                           predict_weights_filepath=None,\n",
    "                           train_categories=train_categories,\n",
    "                           test_categories=test_categories)\n",
    "\n",
    "print('Starting Training')\n",
    "run_training.run()\n",
    "print('Training Over')"
   ]
  },
  {
   "cell_type": "markdown",
   "metadata": {},
   "source": [
    "# Evaluate mAP on original dataset"
   ]
  },
  {
   "cell_type": "code",
   "execution_count": null,
   "metadata": {},
   "outputs": [],
   "source": [
    "root_folder = \"../../Helipad/Helipad_DataBase\"\n",
    "root_meta_folder = \"../../Helipad/Helipad_DataBase_meta\"\n",
    "model_folder = \"../../Helipad/model\"\n",
    "include_augmented = False\n",
    "augmented_version = []\n",
    "\n",
    "train_categories = [\"1\", \"2\", \"3\", \"5\", \"6\", \"8\", \"9\"]\n",
    "test_categories = [\"4\", \"7\", \"d\", \"u\"]\n",
    "\n",
    "weights_filename = 'helipad_cfg_10_no47du_all20200420T0127/mask_rcnn_helipad_cfg_10_no47du_all_0851.h5'\n",
    "base_weights = 'mask_rcnn_coco.h5'\n",
    "\n",
    "predict_weights_filepath = 'helipad_cfg_10_no47du_all20200420T0127/mask_rcnn_helipad_cfg_10_no47du_all_0851.h5'\n",
    "\n",
    "run_training = RunTraining(root_folder,\n",
    "                           root_meta_folder,\n",
    "                           model_folder,\n",
    "                           weights_filename,\n",
    "                           include_augmented=include_augmented,\n",
    "                           augmented_version=augmented_version,\n",
    "                           predict_weights_filepath=predict_weights_filepath,\n",
    "                           train_categories=train_categories,\n",
    "                           test_categories=test_categories)\n",
    "\n",
    "print('Evaluating Last Epoch')\n",
    "run_training.run_predict()\n",
    "print('Evaluation Done')"
   ]
  },
  {
   "cell_type": "markdown",
   "metadata": {},
   "source": [
    "# Run Detection on Original Dataset to save bounding boxes"
   ]
  },
  {
   "cell_type": "code",
   "execution_count": 4,
   "metadata": {},
   "outputs": [
    {
     "name": "stdout",
     "output_type": "stream",
     "text": [
      "WARNING:tensorflow:From C:\\Users\\AISG\\Anaconda3\\envs\\tf-gpu_1.13\\lib\\site-packages\\tensorflow\\python\\framework\\op_def_library.py:263: colocate_with (from tensorflow.python.framework.ops) is deprecated and will be removed in a future version.\n",
      "Instructions for updating:\n",
      "Colocations handled automatically by placer.\n",
      "WARNING:tensorflow:From C:\\Users\\AISG\\Anaconda3\\envs\\tf-gpu_1.13\\lib\\site-packages\\mask_rcnn-2.1-py3.7.egg\\mrcnn\\model.py:772: to_float (from tensorflow.python.ops.math_ops) is deprecated and will be removed in a future version.\n",
      "Instructions for updating:\n",
      "Use tf.cast instead.\n",
      "Re-starting from epoch 899\n"
     ]
    },
    {
     "name": "stderr",
     "output_type": "stream",
     "text": [
      "\r",
      "  0%|                                                                         | 0/5878 [00:00<?, ?it/s]"
     ]
    },
    {
     "name": "stdout",
     "output_type": "stream",
     "text": [
      "5878 files to predict!\n"
     ]
    },
    {
     "name": "stderr",
     "output_type": "stream",
     "text": [
      "100%|██████████████████████████████████████████████████████████████| 5878/5878 [27:28<00:00,  3.57it/s]\n"
     ]
    }
   ],
   "source": [
    "import sys\n",
    "sys.path.append('detection')\n",
    "from detection.run_detection import RunDetection\n",
    "\n",
    "\n",
    "image_folder = \"C:\\\\Users\\\\AISG\\\\Documents\\\\Jonas\\\\Helipad\\\\Helipad_DataBase\\\\Helipad_DataBase_original\"\n",
    "meta_folder = \"C:\\\\Users\\\\AISG\\\\Documents\\\\Jonas\\\\Helipad\\\\Helipad_DataBase_meta\\\\Helipad_DataBase_meta_original\"\n",
    "model_root_folder = \"D:\\\\Jonas\\\\model\\\\\"\n",
    "model_folder = \"helipad_cfg_10_no47du_all20200420T0127\"\n",
    "model_number = 10\n",
    "weight_filename = \"mask_rcnn_helipad_cfg_10_no47du_all_0899.h5\"\n",
    "\n",
    "test_only = False\n",
    "activate_filter = False\n",
    "\n",
    "run_detection = RunDetection(image_folder,\n",
    "                          meta_folder,\n",
    "                          os.path.join(model_root_folder, model_folder),\n",
    "                          weight_filename,\n",
    "                          model_number=model_number,\n",
    "                          activate_filter=activate_filter,\n",
    "                          test_only=test_only)\n",
    "\n",
    "run_detection.run()"
   ]
  },
  {
   "cell_type": "markdown",
   "metadata": {},
   "source": [
    "# Run Benchmark on a model"
   ]
  },
  {
   "cell_type": "markdown",
   "metadata": {},
   "source": [
    "### Benchmark on Train Set"
   ]
  },
  {
   "cell_type": "code",
   "execution_count": 1,
   "metadata": {},
   "outputs": [
    {
     "name": "stderr",
     "output_type": "stream",
     "text": [
      "C:\\Users\\AISG\\Anaconda3\\envs\\tf-gpu_1.13\\lib\\site-packages\\tensorflow\\python\\framework\\dtypes.py:526: FutureWarning: Passing (type, 1) or '1type' as a synonym of type is deprecated; in a future version of numpy, it will be understood as (type, (1,)) / '(1,)type'.\n",
      "  _np_qint8 = np.dtype([(\"qint8\", np.int8, 1)])\n",
      "C:\\Users\\AISG\\Anaconda3\\envs\\tf-gpu_1.13\\lib\\site-packages\\tensorflow\\python\\framework\\dtypes.py:527: FutureWarning: Passing (type, 1) or '1type' as a synonym of type is deprecated; in a future version of numpy, it will be understood as (type, (1,)) / '(1,)type'.\n",
      "  _np_quint8 = np.dtype([(\"quint8\", np.uint8, 1)])\n",
      "C:\\Users\\AISG\\Anaconda3\\envs\\tf-gpu_1.13\\lib\\site-packages\\tensorflow\\python\\framework\\dtypes.py:528: FutureWarning: Passing (type, 1) or '1type' as a synonym of type is deprecated; in a future version of numpy, it will be understood as (type, (1,)) / '(1,)type'.\n",
      "  _np_qint16 = np.dtype([(\"qint16\", np.int16, 1)])\n",
      "C:\\Users\\AISG\\Anaconda3\\envs\\tf-gpu_1.13\\lib\\site-packages\\tensorflow\\python\\framework\\dtypes.py:529: FutureWarning: Passing (type, 1) or '1type' as a synonym of type is deprecated; in a future version of numpy, it will be understood as (type, (1,)) / '(1,)type'.\n",
      "  _np_quint16 = np.dtype([(\"quint16\", np.uint16, 1)])\n",
      "C:\\Users\\AISG\\Anaconda3\\envs\\tf-gpu_1.13\\lib\\site-packages\\tensorflow\\python\\framework\\dtypes.py:530: FutureWarning: Passing (type, 1) or '1type' as a synonym of type is deprecated; in a future version of numpy, it will be understood as (type, (1,)) / '(1,)type'.\n",
      "  _np_qint32 = np.dtype([(\"qint32\", np.int32, 1)])\n",
      "C:\\Users\\AISG\\Anaconda3\\envs\\tf-gpu_1.13\\lib\\site-packages\\tensorflow\\python\\framework\\dtypes.py:535: FutureWarning: Passing (type, 1) or '1type' as a synonym of type is deprecated; in a future version of numpy, it will be understood as (type, (1,)) / '(1,)type'.\n",
      "  np_resource = np.dtype([(\"resource\", np.ubyte, 1)])\n",
      "Using TensorFlow backend.\n"
     ]
    },
    {
     "name": "stdout",
     "output_type": "stream",
     "text": [
      "Loading Files\n"
     ]
    },
    {
     "name": "stderr",
     "output_type": "stream",
     "text": [
      "\r",
      "  0%|                                                                          | 0/317 [00:00<?, ?it/s]"
     ]
    },
    {
     "name": "stdout",
     "output_type": "stream",
     "text": [
      "2809 files loaded!\n",
      "Benchmarking model 10\n"
     ]
    },
    {
     "name": "stderr",
     "output_type": "stream",
     "text": [
      "100%|████████████████████████████████████████████████████████████████| 317/317 [02:02<00:00,  2.59it/s]\n"
     ]
    }
   ],
   "source": [
    "import sys\n",
    "sys.path.append('benchmark')\n",
    "from benchmark.run_benchmark import RunBenchmark\n",
    "\n",
    "image_folder = \"C:\\\\Users\\\\AISG\\\\Documents\\\\Jonas\\\\Helipad\\\\Helipad_DataBase\\\\Helipad_DataBase_original\"\n",
    "meta_folder = \"C:\\\\Users\\\\AISG\\\\Documents\\\\Jonas\\\\Helipad\\\\Helipad_DataBase_meta\\\\Helipad_DataBase_meta_original\"\n",
    "model_numbers = [10]\n",
    "test_only = False\n",
    "tms_dataset = False\n",
    "zoom_level = None\n",
    "city_lat = None\n",
    "include_negative = False\n",
    "train_categories = [\"1\", \"2\", \"3\", \"5\", \"6\", \"8\", \"9\"]\n",
    "\n",
    "run_benchmark = RunBenchmark(image_folder,\n",
    "                             meta_folder,\n",
    "                             model_numbers,\n",
    "                             test_only=test_only,\n",
    "                             tms_dataset=tms_dataset,\n",
    "                             include_category=train_categories,\n",
    "                             include_negative=include_negative,\n",
    "                             zoom_level=zoom_level,\n",
    "                             city_lat=city_lat)\n",
    "\n",
    "threshold_validation = None\n",
    "\n",
    "run_benchmark.run(threshold_validation=threshold_validation)"
   ]
  },
  {
   "cell_type": "markdown",
   "metadata": {},
   "source": [
    "### Benchmark on Test Set"
   ]
  },
  {
   "cell_type": "code",
   "execution_count": 3,
   "metadata": {},
   "outputs": [
    {
     "name": "stdout",
     "output_type": "stream",
     "text": [
      "Loading Files\n"
     ]
    },
    {
     "name": "stderr",
     "output_type": "stream",
     "text": [
      "  1%|▍                                                                 | 2/317 [00:00<00:16, 18.74it/s]"
     ]
    },
    {
     "name": "stdout",
     "output_type": "stream",
     "text": [
      "395 files loaded!\n",
      "Benchmarking model 10\n"
     ]
    },
    {
     "name": "stderr",
     "output_type": "stream",
     "text": [
      "100%|████████████████████████████████████████████████████████████████| 317/317 [00:16<00:00, 19.63it/s]\n"
     ]
    }
   ],
   "source": [
    "sys.path.append('benchmark')\n",
    "from benchmark.run_benchmark import RunBenchmark\n",
    "\n",
    "image_folder = \"C:\\\\Users\\\\AISG\\\\Documents\\\\Jonas\\\\Helipad\\\\Helipad_DataBase\\\\Helipad_DataBase_original\"\n",
    "meta_folder = \"C:\\\\Users\\\\AISG\\\\Documents\\\\Jonas\\\\Helipad\\\\Helipad_DataBase_meta\\\\Helipad_DataBase_meta_original\"\n",
    "model_numbers = [10]\n",
    "test_only = False\n",
    "tms_dataset = False\n",
    "zoom_level = None\n",
    "city_lat = None\n",
    "include_negative = False\n",
    "test_categories = [\"4\", \"7\", \"d\", \"u\"]\n",
    "\n",
    "run_benchmark = RunBenchmark(image_folder,\n",
    "                             meta_folder,\n",
    "                             model_numbers,\n",
    "                             test_only=test_only,\n",
    "                             tms_dataset=tms_dataset,\n",
    "                             include_category=test_categories,\n",
    "                             include_negative=include_negative,\n",
    "                             zoom_level=zoom_level,\n",
    "                             city_lat=city_lat)\n",
    "\n",
    "threshold_validation = None\n",
    "\n",
    "run_benchmark.run(threshold_validation=threshold_validation)"
   ]
  },
  {
   "cell_type": "markdown",
   "metadata": {},
   "source": [
    "# Run Prediction on Satellite Images"
   ]
  },
  {
   "cell_type": "code",
   "execution_count": 6,
   "metadata": {},
   "outputs": [
    {
     "name": "stderr",
     "output_type": "stream",
     "text": [
      "\r",
      "  0%|                                                                                         | 0/2206 [00:00<?, ?it/s]"
     ]
    },
    {
     "name": "stdout",
     "output_type": "stream",
     "text": [
      "Re-starting from epoch 899\n"
     ]
    },
    {
     "name": "stderr",
     "output_type": "stream",
     "text": [
      "  1%|▋                                                                               | 18/2206 [00:05<09:08,  3.99it/s]"
     ]
    },
    {
     "name": "stdout",
     "output_type": "stream",
     "text": [
      "[0.990816593170166]\n",
      "48.831477141354696\n",
      "2.2726437449455403\n"
     ]
    },
    {
     "name": "stderr",
     "output_type": "stream",
     "text": [
      "  4%|███                                                                             | 85/2206 [00:22<09:17,  3.81it/s]"
     ]
    },
    {
     "name": "stdout",
     "output_type": "stream",
     "text": [
      "[0.9927132725715637]\n",
      "48.86872522173141\n",
      "2.7818208932876733\n"
     ]
    },
    {
     "name": "stderr",
     "output_type": "stream",
     "text": [
      "  6%|████▎                                                                          | 122/2206 [00:31<08:45,  3.96it/s]"
     ]
    },
    {
     "name": "stdout",
     "output_type": "stream",
     "text": [
      "[0.9916815161705017]\n",
      "48.86442009395105\n",
      "2.785272896289837\n"
     ]
    },
    {
     "name": "stderr",
     "output_type": "stream",
     "text": [
      " 83%|████████████████████████████████████████████████████████████████▍             | 1823/2206 [07:25<01:35,  3.99it/s]"
     ]
    },
    {
     "name": "stdout",
     "output_type": "stream",
     "text": [
      "[0.9857510328292847]\n",
      "34.051048256570084\n",
      "-118.2655343413353\n"
     ]
    },
    {
     "name": "stderr",
     "output_type": "stream",
     "text": [
      " 86%|██████████████████████████████████████████████████████████████████▊           | 1888/2206 [07:41<01:23,  3.79it/s]"
     ]
    },
    {
     "name": "stdout",
     "output_type": "stream",
     "text": [
      "[0.9852377772331238]\n",
      "34.04644794000722\n",
      "-118.2615888118744\n"
     ]
    },
    {
     "name": "stderr",
     "output_type": "stream",
     "text": [
      " 89%|█████████████████████████████████████████████████████████████████████         | 1954/2206 [07:58<01:03,  3.96it/s]"
     ]
    },
    {
     "name": "stdout",
     "output_type": "stream",
     "text": [
      "[0.937231183052063]\n",
      "34.044016560859035\n",
      "-118.25772643089294\n"
     ]
    },
    {
     "name": "stderr",
     "output_type": "stream",
     "text": [
      " 95%|██████████████████████████████████████████████████████████████████████████▍   | 2104/2206 [08:35<00:25,  4.05it/s]"
     ]
    },
    {
     "name": "stdout",
     "output_type": "stream",
     "text": [
      "[0.9860746264457703]\n",
      "34.057810490875184\n",
      "-118.24773520231246\n"
     ]
    },
    {
     "name": "stderr",
     "output_type": "stream",
     "text": [
      "100%|██████████████████████████████████████████████████████████████████████████████| 2206/2206 [09:01<00:00,  4.07it/s]\n"
     ]
    }
   ],
   "source": [
    "from detection.run_prediction_satellite import RunPredictionSatellite\n",
    "\n",
    "# cache_tms_sat_folder = \"../../../Detection/Detection_Dataset\"\n",
    "# output_meta_folder = \"../../../Detection/Detection_Dataset_meta\"\n",
    "# model_folder = \"../../model\"\n",
    "\n",
    "cache_tms_sat_folder = \"C:\\\\Users\\\\AISG\\\\Documents\\\\Jonas\\\\Real_World_Test_DataBase\"\n",
    "output_meta_folder = \"C:\\\\Users\\\\AISG\\\\Documents\\\\Jonas\\\\Real_World_Test_DataBase_meta\"\n",
    "model_folder = \"D:\\\\Jonas\\\\model\\\\\"\n",
    "weights_filename = \"helipad_cfg_10_no47du_all20200420T0127\\\\mask_rcnn_helipad_cfg_10_no47du_all_0899.h5\"\n",
    "model_number = 10\n",
    "\n",
    "zoom_level = 18\n",
    "activate_filters = False\n",
    "\n",
    "run_prediction_satellite = RunPredictionSatellite(cache_tms_sat_folder=cache_tms_sat_folder,\n",
    "                                                  output_meta_folder=output_meta_folder,\n",
    "                                                  zoom_level=zoom_level,\n",
    "                                                  model_folder=model_folder,\n",
    "                                                  weights_filename=weights_filename,\n",
    "                                                  model_number=model_number,\n",
    "                                                  activate_filters=activate_filters)\n",
    "\n",
    "run_prediction_satellite.run()"
   ]
  },
  {
   "cell_type": "markdown",
   "metadata": {},
   "source": [
    "# Optional Step : Train and Run Validation on detected bounding boxes using KNN"
   ]
  },
  {
   "cell_type": "markdown",
   "metadata": {},
   "source": [
    "### Build the dataset of bounding boxes"
   ]
  },
  {
   "cell_type": "code",
   "execution_count": null,
   "metadata": {},
   "outputs": [],
   "source": [
    "# Build the dataset of bounding boxes : \n",
    "\n",
    "from src.knn.knn_build_database import KNNBuildDatabase\n",
    "\n",
    "image_folder = \"C:\\\\Users\\\\jonas\\\\Desktop\\\\Helipad\\\\Helipad_DataBase\\\\Helipad_DataBase_original\"\n",
    "meta_folder = \"C:\\\\Users\\\\jonas\\\\Desktop\\\\Helipad\\\\Helipad_DataBase_meta\\\\Helipad_DataBase_meta_original\"\n",
    "model_number = 7\n",
    "\n",
    "knn_build_database = KNNBuildDatabase(image_folder, meta_folder, model_number)\n",
    "\n",
    "knn_build_database.run()"
   ]
  },
  {
   "cell_type": "markdown",
   "metadata": {},
   "source": [
    "### Train a KNN on this dataset"
   ]
  },
  {
   "cell_type": "code",
   "execution_count": null,
   "metadata": {},
   "outputs": [],
   "source": [
    "# Train a KNN model on this dataset\n",
    "\n",
    "from src.knn.knn_training import KNNTraining\n",
    "\n",
    "knn_training = KNNTraining(nb_neighbors=2, nb_jobs=-1, test_size=0.25)\n",
    "\n",
    "knn_training.fit(knn_build_database.X, knn_build_database.y, mode=\"histogram\", binary=True)\n",
    "\n",
    "knn_training.score()\n",
    "\n",
    "knn_training.save(model_number=model_number, dataset='original')\n",
    "\n",
    "# TODO: Change the knn_build_database to make the user choose between target 0/1\n",
    "# ou target = category\n",
    "# add the posibility to choose which category are positive / negative\n",
    "\n",
    "# Change KNNTraining to put the model to train as an argument \n",
    "# to be able to freely change/fine-tune the model"
   ]
  },
  {
   "cell_type": "markdown",
   "metadata": {},
   "source": [
    "### Predict on new images"
   ]
  },
  {
   "cell_type": "code",
   "execution_count": null,
   "metadata": {},
   "outputs": [],
   "source": [
    "from knn.knn_predict import KNNPredict\n",
    "\n",
    "image_folder = \"C:\\\\Users\\\\AISG\\\\Documents\\\\Jonas\\\\Real_World_Dataset_TMS\\\\sat\"\n",
    "meta_folder = \"C:\\\\Users\\\\AISG\\\\Documents\\\\Jonas\\\\Real_World_Dataset_TMS_meta\\\\sat\"\n",
    "index_path_score_filename = \"C:\\\\Users\\\\AISG\\\\Documents\\\\Jonas\\\\helipad_detection\\\\src\\\\database_management\\\\helipad_path_over_0.999.txt\"\n",
    "model_number = 7\n",
    "knn_weights_filename = \"knn_histogram_2.pkl\"\n",
    "random_forest_weights_filename = \"random_forest_e100.pkl\"\n",
    "\n",
    "model = \"knn\"\n",
    "\n",
    "knn_predict = KNNPredict(image_folder,\n",
    "                         meta_folder,\n",
    "                         index_path_score_filename,\n",
    "                         model_number,\n",
    "                         knn_weights_filename,\n",
    "                         model)\n",
    "\n",
    "knn_predict.predict()\n",
    "\n",
    "# print(knn_predict.y_predict)\n",
    "knn_predict.write_prediction_to_meta()"
   ]
  },
  {
   "cell_type": "markdown",
   "metadata": {},
   "source": [
    "# Optional Step : Run Validation on detected bounding boxes using Random Forest"
   ]
  },
  {
   "cell_type": "markdown",
   "metadata": {},
   "source": [
    "# Optional Step : Run Validation on detected bounding boxes using CNN"
   ]
  },
  {
   "cell_type": "markdown",
   "metadata": {},
   "source": [
    "### Build the dataset of bounding boxes"
   ]
  },
  {
   "cell_type": "code",
   "execution_count": 1,
   "metadata": {},
   "outputs": [
    {
     "name": "stderr",
     "output_type": "stream",
     "text": [
      "C:\\Users\\AISG\\Anaconda3\\envs\\tf-gpu_1.13\\lib\\site-packages\\tensorflow\\python\\framework\\dtypes.py:526: FutureWarning: Passing (type, 1) or '1type' as a synonym of type is deprecated; in a future version of numpy, it will be understood as (type, (1,)) / '(1,)type'.\n",
      "  _np_qint8 = np.dtype([(\"qint8\", np.int8, 1)])\n",
      "C:\\Users\\AISG\\Anaconda3\\envs\\tf-gpu_1.13\\lib\\site-packages\\tensorflow\\python\\framework\\dtypes.py:527: FutureWarning: Passing (type, 1) or '1type' as a synonym of type is deprecated; in a future version of numpy, it will be understood as (type, (1,)) / '(1,)type'.\n",
      "  _np_quint8 = np.dtype([(\"quint8\", np.uint8, 1)])\n",
      "C:\\Users\\AISG\\Anaconda3\\envs\\tf-gpu_1.13\\lib\\site-packages\\tensorflow\\python\\framework\\dtypes.py:528: FutureWarning: Passing (type, 1) or '1type' as a synonym of type is deprecated; in a future version of numpy, it will be understood as (type, (1,)) / '(1,)type'.\n",
      "  _np_qint16 = np.dtype([(\"qint16\", np.int16, 1)])\n",
      "C:\\Users\\AISG\\Anaconda3\\envs\\tf-gpu_1.13\\lib\\site-packages\\tensorflow\\python\\framework\\dtypes.py:529: FutureWarning: Passing (type, 1) or '1type' as a synonym of type is deprecated; in a future version of numpy, it will be understood as (type, (1,)) / '(1,)type'.\n",
      "  _np_quint16 = np.dtype([(\"quint16\", np.uint16, 1)])\n",
      "C:\\Users\\AISG\\Anaconda3\\envs\\tf-gpu_1.13\\lib\\site-packages\\tensorflow\\python\\framework\\dtypes.py:530: FutureWarning: Passing (type, 1) or '1type' as a synonym of type is deprecated; in a future version of numpy, it will be understood as (type, (1,)) / '(1,)type'.\n",
      "  _np_qint32 = np.dtype([(\"qint32\", np.int32, 1)])\n",
      "C:\\Users\\AISG\\Anaconda3\\envs\\tf-gpu_1.13\\lib\\site-packages\\tensorflow\\python\\framework\\dtypes.py:535: FutureWarning: Passing (type, 1) or '1type' as a synonym of type is deprecated; in a future version of numpy, it will be understood as (type, (1,)) / '(1,)type'.\n",
      "  np_resource = np.dtype([(\"resource\", np.ubyte, 1)])\n",
      "  0%|                                                              | 17/19392 [00:00<01:55, 167.85it/s]"
     ]
    },
    {
     "name": "stdout",
     "output_type": "stream",
     "text": [
      "Categories count : [60, 1616, 447, 142, 214, 63, 207, 113, 141, 89, 143, 29]\n",
      "{'0': 60, '1': 1616, '2': 447, '3': 142, '4': 214, 'd': 63, '9': 207, '5': 113, '6': 141, '7': 89, '8': 143, 'u': 29}\n",
      "Max count : 1616\n",
      "Total count : 3264\n"
     ]
    },
    {
     "name": "stderr",
     "output_type": "stream",
     "text": [
      "100%|███████████████████████████████████████████████████████████| 19392/19392 [01:46<00:00, 182.00it/s]\n"
     ]
    }
   ],
   "source": [
    "import sys\n",
    "sys.path.append('..')\n",
    "from bb_analysis.bb_build_dataset import BBBuildDataset\n",
    "\n",
    "image_folder = \"C:\\\\Users\\\\AISG\\\\Documents\\\\Jonas\\\\Helipad\\\\Helipad_DataBase\\\\Helipad_DataBase_original\"\n",
    "meta_folder = \"C:\\\\Users\\\\AISG\\\\Documents\\\\Jonas\\\\Helipad\\\\Helipad_DataBase_meta\\\\Helipad_DataBase_meta_original\"\n",
    "model_number = 10\n",
    "score_threshold = 0.0\n",
    "iou_threshold = 0.5\n",
    "output_folder = \"C:\\\\Users\\\\AISG\\\\Documents\\\\Jonas\\\\Helipad\\\\Detected_Boxes\\\\\"\n",
    "tms = False\n",
    "# ground_truth_bb indicates wheter the dataset keeps the groundtruth\n",
    "# as the true positive (True) or the true positive detected by the model (False)\n",
    "# Sometime, the detection by the model is not centered in the helipad\n",
    "# hence it can add noise to the model\n",
    "groundtruth_bb = True\n",
    "# the bounding boxes of those categories will be considered as false positive\n",
    "filter_categories = [\"4\", \"7\", \"d\", \"u\"]\n",
    "balance_categories = True\n",
    "\n",
    "bb_build_dataset = BBBuildDataset(image_folder=image_folder,\n",
    "                                  meta_folder=meta_folder,\n",
    "                                  model_number=model_number,\n",
    "                                  score_threshold=score_threshold,\n",
    "                                  iou_threshold=iou_threshold,\n",
    "                                  output_folder=output_folder,\n",
    "                                  tms=tms,\n",
    "                                  groundtruth_bb=groundtruth_bb,\n",
    "                                  filter_categories=filter_categories,\n",
    "                                  balance_categories=balance_categories)\n",
    "\n",
    "bb_build_dataset.run()"
   ]
  },
  {
   "cell_type": "markdown",
   "metadata": {},
   "source": [
    "### Build Bounding Box Dataset on Real World images"
   ]
  },
  {
   "cell_type": "code",
   "execution_count": 2,
   "metadata": {},
   "outputs": [
    {
     "name": "stderr",
     "output_type": "stream",
     "text": [
      "  0%|                                                                             | 19/263496 [00:00<23:19, 188.29it/s]"
     ]
    },
    {
     "name": "stdout",
     "output_type": "stream",
     "text": [
      "263496 files loaded!\n"
     ]
    },
    {
     "name": "stderr",
     "output_type": "stream",
     "text": [
      "100%|█████████████████████████████████████████████████████████████████████████| 263496/263496 [22:48<00:00, 192.51it/s]\n"
     ]
    }
   ],
   "source": [
    "import sys\n",
    "sys.path.append('..')\n",
    "from bb_analysis.bb_build_dataset import BBBuildDataset\n",
    "\n",
    "image_folder = \"C:\\\\Users\\\\AISG\\\\Documents\\\\Jonas\\\\Real_World_Dataset_TMS\\\\sat\\\\19\"\n",
    "meta_folder = \"C:\\\\Users\\\\AISG\\\\Documents\\\\Jonas\\\\Real_World_Dataset_TMS_meta\\\\sat\\\\19\"\n",
    "model_number = 10\n",
    "score_threshold = 0.0\n",
    "iou_threshold = 0.5\n",
    "output_folder = \"C:\\\\Users\\\\AISG\\\\Documents\\\\Jonas\\\\Helipad\\\\Real_World_Detected_Boxes\\\\\"\n",
    "tms = True\n",
    "# ground_truth_bb indicates wheter the dataset keeps the groundtruth\n",
    "# as the true positive (True) or the true positive detected by the model (False)\n",
    "# Sometime, the detection by the model is not centered in the helipad\n",
    "# hence it can add noise to the model\n",
    "groundtruth_bb = False\n",
    "# the bounding boxes of those categories will be considered as false positive\n",
    "filter_categories = None\n",
    "balance_categories = False\n",
    "\n",
    "bb_build_dataset = BBBuildDataset(image_folder=image_folder,\n",
    "                                  meta_folder=meta_folder,\n",
    "                                  model_number=model_number,\n",
    "                                  score_threshold=score_threshold,\n",
    "                                  iou_threshold=iou_threshold,\n",
    "                                  output_folder=output_folder,\n",
    "                                  tms=tms,\n",
    "                                  groundtruth_bb=groundtruth_bb,\n",
    "                                  filter_categories=filter_categories,\n",
    "                                  balance_categories=balance_categories)\n",
    "\n",
    "bb_build_dataset.run()"
   ]
  },
  {
   "cell_type": "markdown",
   "metadata": {},
   "source": [
    "### Train a CNN Model"
   ]
  },
  {
   "cell_type": "code",
   "execution_count": 1,
   "metadata": {},
   "outputs": [
    {
     "name": "stderr",
     "output_type": "stream",
     "text": [
      "Using TensorFlow backend.\n",
      "C:\\Users\\AISG\\Anaconda3\\envs\\tf-gpu_1.13\\lib\\site-packages\\tensorflow\\python\\framework\\dtypes.py:526: FutureWarning: Passing (type, 1) or '1type' as a synonym of type is deprecated; in a future version of numpy, it will be understood as (type, (1,)) / '(1,)type'.\n",
      "  _np_qint8 = np.dtype([(\"qint8\", np.int8, 1)])\n",
      "C:\\Users\\AISG\\Anaconda3\\envs\\tf-gpu_1.13\\lib\\site-packages\\tensorflow\\python\\framework\\dtypes.py:527: FutureWarning: Passing (type, 1) or '1type' as a synonym of type is deprecated; in a future version of numpy, it will be understood as (type, (1,)) / '(1,)type'.\n",
      "  _np_quint8 = np.dtype([(\"quint8\", np.uint8, 1)])\n",
      "C:\\Users\\AISG\\Anaconda3\\envs\\tf-gpu_1.13\\lib\\site-packages\\tensorflow\\python\\framework\\dtypes.py:528: FutureWarning: Passing (type, 1) or '1type' as a synonym of type is deprecated; in a future version of numpy, it will be understood as (type, (1,)) / '(1,)type'.\n",
      "  _np_qint16 = np.dtype([(\"qint16\", np.int16, 1)])\n",
      "C:\\Users\\AISG\\Anaconda3\\envs\\tf-gpu_1.13\\lib\\site-packages\\tensorflow\\python\\framework\\dtypes.py:529: FutureWarning: Passing (type, 1) or '1type' as a synonym of type is deprecated; in a future version of numpy, it will be understood as (type, (1,)) / '(1,)type'.\n",
      "  _np_quint16 = np.dtype([(\"quint16\", np.uint16, 1)])\n",
      "C:\\Users\\AISG\\Anaconda3\\envs\\tf-gpu_1.13\\lib\\site-packages\\tensorflow\\python\\framework\\dtypes.py:530: FutureWarning: Passing (type, 1) or '1type' as a synonym of type is deprecated; in a future version of numpy, it will be understood as (type, (1,)) / '(1,)type'.\n",
      "  _np_qint32 = np.dtype([(\"qint32\", np.int32, 1)])\n",
      "C:\\Users\\AISG\\Anaconda3\\envs\\tf-gpu_1.13\\lib\\site-packages\\tensorflow\\python\\framework\\dtypes.py:535: FutureWarning: Passing (type, 1) or '1type' as a synonym of type is deprecated; in a future version of numpy, it will be understood as (type, (1,)) / '(1,)type'.\n",
      "  np_resource = np.dtype([(\"resource\", np.ubyte, 1)])\n"
     ]
    },
    {
     "name": "stdout",
     "output_type": "stream",
     "text": [
      "Found 17997 images belonging to 2 classes.\n",
      "Found 3332 images belonging to 2 classes.\n",
      "WARNING:tensorflow:From C:\\Users\\AISG\\Anaconda3\\envs\\tf-gpu_1.13\\lib\\site-packages\\tensorflow\\python\\framework\\op_def_library.py:263: colocate_with (from tensorflow.python.framework.ops) is deprecated and will be removed in a future version.\n",
      "Instructions for updating:\n",
      "Colocations handled automatically by placer.\n",
      "WARNING:tensorflow:From C:\\Users\\AISG\\Anaconda3\\envs\\tf-gpu_1.13\\lib\\site-packages\\tensorflow\\python\\ops\\math_ops.py:3066: to_int32 (from tensorflow.python.ops.math_ops) is deprecated and will be removed in a future version.\n",
      "Instructions for updating:\n",
      "Use tf.cast instead.\n",
      "Epoch 1/100\n",
      "36/36 [==============================] - 15s 403ms/step - loss: 0.7075 - acc: 0.6320 - val_loss: 0.5864 - val_acc: 0.6798\n",
      "Epoch 2/100\n",
      "36/36 [==============================] - 14s 386ms/step - loss: 0.5108 - acc: 0.7445 - val_loss: 0.6168 - val_acc: 0.6852\n",
      "Epoch 3/100\n",
      "36/36 [==============================] - 14s 390ms/step - loss: 0.3262 - acc: 0.8587 - val_loss: 0.6818 - val_acc: 0.6879\n",
      "Epoch 4/100\n",
      "36/36 [==============================] - 14s 388ms/step - loss: 0.1623 - acc: 0.9387 - val_loss: 0.8902 - val_acc: 0.7137\n",
      "Epoch 5/100\n",
      "36/36 [==============================] - 14s 389ms/step - loss: 0.0547 - acc: 0.9846 - val_loss: 1.2837 - val_acc: 0.7263\n",
      "Epoch 6/100\n",
      "36/36 [==============================] - 14s 389ms/step - loss: 0.0236 - acc: 0.9947 - val_loss: 1.3288 - val_acc: 0.7335\n",
      "Epoch 7/100\n",
      "36/36 [==============================] - 14s 387ms/step - loss: 0.0090 - acc: 0.9986 - val_loss: 1.6784 - val_acc: 0.7227\n",
      "Epoch 8/100\n",
      "36/36 [==============================] - 14s 389ms/step - loss: 0.0037 - acc: 0.9996 - val_loss: 2.1262 - val_acc: 0.7164\n",
      "Epoch 9/100\n",
      "36/36 [==============================] - 14s 389ms/step - loss: 0.0025 - acc: 0.9998 - val_loss: 2.0424 - val_acc: 0.7176\n",
      "Epoch 10/100\n",
      "36/36 [==============================] - 14s 388ms/step - loss: 0.0010 - acc: 0.9999 - val_loss: 2.1129 - val_acc: 0.7326\n",
      "Epoch 11/100\n",
      "36/36 [==============================] - 14s 388ms/step - loss: 5.9812e-04 - acc: 0.9999 - val_loss: 2.1017 - val_acc: 0.7296\n",
      "Epoch 12/100\n",
      "36/36 [==============================] - 14s 387ms/step - loss: 5.1175e-04 - acc: 0.9999 - val_loss: 2.1578 - val_acc: 0.7281\n",
      "Epoch 13/100\n",
      "36/36 [==============================] - 14s 387ms/step - loss: 4.0700e-04 - acc: 1.0000 - val_loss: 2.1621 - val_acc: 0.7278\n",
      "Epoch 14/100\n",
      "36/36 [==============================] - 14s 387ms/step - loss: 2.9833e-04 - acc: 0.9999 - val_loss: 2.3123 - val_acc: 0.7242\n",
      "Epoch 15/100\n",
      "36/36 [==============================] - 14s 389ms/step - loss: 2.7180e-04 - acc: 1.0000 - val_loss: 2.2197 - val_acc: 0.7293\n",
      "Epoch 16/100\n",
      "36/36 [==============================] - 14s 388ms/step - loss: 1.8407e-04 - acc: 1.0000 - val_loss: 2.2387 - val_acc: 0.7287\n",
      "Epoch 17/100\n",
      "36/36 [==============================] - 14s 388ms/step - loss: 1.5620e-04 - acc: 1.0000 - val_loss: 2.3122 - val_acc: 0.7281\n",
      "Epoch 18/100\n",
      "36/36 [==============================] - 14s 388ms/step - loss: 1.4514e-04 - acc: 1.0000 - val_loss: 2.3010 - val_acc: 0.7281\n",
      "Epoch 19/100\n",
      "36/36 [==============================] - 14s 388ms/step - loss: 1.2334e-04 - acc: 1.0000 - val_loss: 2.3625 - val_acc: 0.7287\n",
      "Epoch 20/100\n",
      "36/36 [==============================] - 14s 387ms/step - loss: 1.0916e-04 - acc: 1.0000 - val_loss: 2.3733 - val_acc: 0.7266\n",
      "Epoch 21/100\n",
      "36/36 [==============================] - 14s 387ms/step - loss: 9.4838e-05 - acc: 1.0000 - val_loss: 2.3807 - val_acc: 0.7281\n",
      "Epoch 22/100\n",
      "35/36 [============================>.] - ETA: 0s - loss: 8.1971e-05 - acc: 1.0000\n",
      "Epoch 00022: ReduceLROnPlateau reducing learning rate to 0.00010000000474974513.\n",
      "36/36 [==============================] - 14s 388ms/step - loss: 8.1510e-05 - acc: 1.0000 - val_loss: 2.3977 - val_acc: 0.7299\n",
      "Epoch 23/100\n",
      "36/36 [==============================] - 14s 387ms/step - loss: 7.9583e-05 - acc: 1.0000 - val_loss: 2.3881 - val_acc: 0.7296\n",
      "Epoch 24/100\n",
      "36/36 [==============================] - 14s 389ms/step - loss: 7.3899e-05 - acc: 1.0000 - val_loss: 2.3912 - val_acc: 0.7281\n",
      "Epoch 25/100\n",
      "36/36 [==============================] - 14s 389ms/step - loss: 6.9720e-05 - acc: 1.0000 - val_loss: 2.3994 - val_acc: 0.7296\n",
      "Epoch 26/100\n",
      "36/36 [==============================] - 14s 387ms/step - loss: 7.0395e-05 - acc: 1.0000 - val_loss: 2.3969 - val_acc: 0.7281\n",
      "Epoch 00026: early stopping\n",
      "> 72.809\n"
     ]
    }
   ],
   "source": [
    "from bb_analysis.bb_training_manager import BBTrainingManager\n",
    "\n",
    "image_folder = \"C:\\\\Users\\\\AISG\\\\Documents\\\\Jonas\\\\Helipad\\\\Detected_Boxes\\\\model_10_0.0\"\n",
    "model_filename = \"bb_model_adam_64.h5\"\n",
    "\n",
    "bbtraining_manager = BBTrainingManager(image_folder)\n",
    "\n",
    "bbtraining_manager.run()\n",
    "\n",
    "bbtraining_manager.evaluate()\n",
    "\n",
    "bbtraining_manager.save(filename=model_filename)\n",
    "\n",
    "bbtraining_manager.plot()"
   ]
  },
  {
   "cell_type": "markdown",
   "metadata": {},
   "source": [
    "### Predict on the original dataset "
   ]
  },
  {
   "cell_type": "code",
   "execution_count": null,
   "metadata": {},
   "outputs": [],
   "source": [
    "from bb_analysis.bb_predict import BBPredict\n",
    "\n",
    "image_folder = \"C:\\\\Users\\\\AISG\\\\Documents\\\\Jonas\\\\Helipad\\\\Helipad_DataBase\\\\Helipad_DataBase_original\"\n",
    "meta_folder = \"C:\\\\Users\\\\AISG\\\\Documents\\\\Jonas\\\\Helipad\\\\Helipad_DataBase_meta\\\\Helipad_DataBase_meta_original\"\n",
    "model_number = 7\n",
    "model_path = \"final_model.h5\"\n",
    "tms = False\n",
    "extract_bounding_boxes = True\n",
    "\n",
    "bbpredict = BBPredict(image_folder=image_folder,\n",
    "                      meta_folder=meta_folder,\n",
    "                      model_number=model_number,\n",
    "                      model_path=model_path,\n",
    "                      tms=tms,\n",
    "                      extract_bounding_boxes=extract_bounding_boxes)\n",
    "\n",
    "bbpredict.run()"
   ]
  },
  {
   "cell_type": "markdown",
   "metadata": {},
   "source": [
    "### Build index path by score on Satellite Images"
   ]
  },
  {
   "cell_type": "code",
   "execution_count": 3,
   "metadata": {},
   "outputs": [
    {
     "name": "stderr",
     "output_type": "stream",
     "text": [
      "100%|███████████████████████████████████████████████████████| 263496/263496 [00:21<00:00, 12156.08it/s]\n"
     ]
    }
   ],
   "source": [
    "import sys\n",
    "sys.path.append('database_management')\n",
    "from index_path_by_score import IndexPathScore\n",
    "\n",
    "meta_folder = \"C:\\\\Users\\\\AISG\\\\Documents\\\\Jonas\\\\Real_World_Dataset_TMS_meta\\\\sat\\\\19\\\\\"\n",
    "model_number = 10\n",
    "score_threshold = 0\n",
    "\n",
    "index_path_score = IndexPathScore(meta_folder, model_number, score_threshold)\n",
    "\n",
    "index_path_score.run()\n",
    "\n",
    "index_path_score.write_output()"
   ]
  },
  {
   "cell_type": "markdown",
   "metadata": {},
   "source": [
    "### Predict on Satellite Images using index path"
   ]
  },
  {
   "cell_type": "code",
   "execution_count": 3,
   "metadata": {},
   "outputs": [
    {
     "name": "stdout",
     "output_type": "stream",
     "text": [
      "WARNING:tensorflow:From C:\\Users\\AISG\\Anaconda3\\envs\\tf-gpu_1.13\\lib\\site-packages\\tensorflow\\python\\ops\\math_ops.py:3066: to_int32 (from tensorflow.python.ops.math_ops) is deprecated and will be removed in a future version.\n",
      "Instructions for updating:\n",
      "Use tf.cast instead.\n"
     ]
    },
    {
     "name": "stderr",
     "output_type": "stream",
     "text": [
      "100%|███████████████████████████████████████████████████████████████████████████| 25584/25584 [01:34<00:00, 270.66it/s]\n"
     ]
    }
   ],
   "source": [
    "import sys\n",
    "sys.path.append('bb_analysis')\n",
    "from bb_predict import BBPredict\n",
    "\n",
    "image_folder = \"C:\\\\Users\\\\AISG\\\\Documents\\\\Jonas\\\\City\\\\cebu\\\\sat\"\n",
    "meta_folder = \"C:\\\\Users\\\\AISG\\\\Documents\\\\Jonas\\\\City\\\\cebu_meta\\\\sat\"\n",
    "model_number = 10\n",
    "model_path = \"bb_analysis/checkpoint_manilla/weights.81-0.01-1.00-0.32-0.94.h5\"\n",
    "tms = True\n",
    "extract_bounding_boxes = True\n",
    "\n",
    "index_path = \"helipad_path_over_0_m10.txt\"\n",
    "index_path = None\n",
    "\n",
    "bbpredict = BBPredict(image_folder=image_folder,\n",
    "                      meta_folder=meta_folder,\n",
    "                      model_number=model_number,\n",
    "                      model_path=model_path,\n",
    "                      tms=tms,\n",
    "                      extract_bounding_boxes=extract_bounding_boxes,\n",
    "                      index_path=index_path)\n",
    "\n",
    "bbpredict.run()"
   ]
  },
  {
   "cell_type": "markdown",
   "metadata": {},
   "source": [
    "# Build Placemarks"
   ]
  },
  {
   "cell_type": "code",
   "execution_count": 2,
   "metadata": {},
   "outputs": [
    {
     "name": "stderr",
     "output_type": "stream",
     "text": [
      "  2%|█▎                                                                             | 38/2206 [00:00<00:05, 377.14it/s]"
     ]
    },
    {
     "name": "stdout",
     "output_type": "stream",
     "text": [
      "C:\\Users\\AISG\\Documents\\Jonas\\Real_World_Test_DataBase_meta\\18\\132724\\Satellite_18_132724_171926.meta\n",
      "C:\\Users\\AISG\\Documents\\Jonas\\Real_World_Test_DataBase_meta\\18\\132724\\Satellite_18_132724_171927.meta\n",
      "C:\\Users\\AISG\\Documents\\Jonas\\Real_World_Test_DataBase_meta\\18\\132724\\Satellite_18_132724_171928.meta\n",
      "C:\\Users\\AISG\\Documents\\Jonas\\Real_World_Test_DataBase_meta\\18\\132724\\Satellite_18_132724_171929.meta\n",
      "C:\\Users\\AISG\\Documents\\Jonas\\Real_World_Test_DataBase_meta\\18\\132724\\Satellite_18_132724_171930.meta\n",
      "C:\\Users\\AISG\\Documents\\Jonas\\Real_World_Test_DataBase_meta\\18\\132724\\Satellite_18_132724_171931.meta\n",
      "C:\\Users\\AISG\\Documents\\Jonas\\Real_World_Test_DataBase_meta\\18\\132724\\Satellite_18_132724_171932.meta\n",
      "C:\\Users\\AISG\\Documents\\Jonas\\Real_World_Test_DataBase_meta\\18\\132724\\Satellite_18_132724_171933.meta\n",
      "C:\\Users\\AISG\\Documents\\Jonas\\Real_World_Test_DataBase_meta\\18\\132724\\Satellite_18_132724_171934.meta\n",
      "C:\\Users\\AISG\\Documents\\Jonas\\Real_World_Test_DataBase_meta\\18\\132724\\Satellite_18_132724_171935.meta\n",
      "C:\\Users\\AISG\\Documents\\Jonas\\Real_World_Test_DataBase_meta\\18\\132724\\Satellite_18_132724_171936.meta\n",
      "C:\\Users\\AISG\\Documents\\Jonas\\Real_World_Test_DataBase_meta\\18\\132724\\Satellite_18_132724_171937.meta\n",
      "C:\\Users\\AISG\\Documents\\Jonas\\Real_World_Test_DataBase_meta\\18\\132726\\Satellite_18_132726_171926.meta\n",
      "C:\\Users\\AISG\\Documents\\Jonas\\Real_World_Test_DataBase_meta\\18\\132726\\Satellite_18_132726_171927.meta\n",
      "C:\\Users\\AISG\\Documents\\Jonas\\Real_World_Test_DataBase_meta\\18\\132726\\Satellite_18_132726_171928.meta\n",
      "C:\\Users\\AISG\\Documents\\Jonas\\Real_World_Test_DataBase_meta\\18\\132726\\Satellite_18_132726_171929.meta\n",
      "C:\\Users\\AISG\\Documents\\Jonas\\Real_World_Test_DataBase_meta\\18\\132726\\Satellite_18_132726_171930.meta\n",
      "C:\\Users\\AISG\\Documents\\Jonas\\Real_World_Test_DataBase_meta\\18\\132726\\Satellite_18_132726_171931.meta\n",
      "C:\\Users\\AISG\\Documents\\Jonas\\Real_World_Test_DataBase_meta\\18\\132726\\Satellite_18_132726_171932.meta\n",
      "C:\\Users\\AISG\\Documents\\Jonas\\Real_World_Test_DataBase_meta\\18\\132726\\Satellite_18_132726_171933.meta\n",
      "C:\\Users\\AISG\\Documents\\Jonas\\Real_World_Test_DataBase_meta\\18\\132726\\Satellite_18_132726_171934.meta\n",
      "C:\\Users\\AISG\\Documents\\Jonas\\Real_World_Test_DataBase_meta\\18\\132726\\Satellite_18_132726_171935.meta\n",
      "C:\\Users\\AISG\\Documents\\Jonas\\Real_World_Test_DataBase_meta\\18\\132726\\Satellite_18_132726_171936.meta\n",
      "C:\\Users\\AISG\\Documents\\Jonas\\Real_World_Test_DataBase_meta\\18\\132726\\Satellite_18_132726_171937.meta\n",
      "C:\\Users\\AISG\\Documents\\Jonas\\Real_World_Test_DataBase_meta\\18\\132727\\Satellite_18_132727_171926.meta\n",
      "C:\\Users\\AISG\\Documents\\Jonas\\Real_World_Test_DataBase_meta\\18\\132727\\Satellite_18_132727_171927.meta\n",
      "C:\\Users\\AISG\\Documents\\Jonas\\Real_World_Test_DataBase_meta\\18\\132727\\Satellite_18_132727_171928.meta\n",
      "C:\\Users\\AISG\\Documents\\Jonas\\Real_World_Test_DataBase_meta\\18\\132727\\Satellite_18_132727_171929.meta\n",
      "C:\\Users\\AISG\\Documents\\Jonas\\Real_World_Test_DataBase_meta\\18\\132727\\Satellite_18_132727_171930.meta\n",
      "C:\\Users\\AISG\\Documents\\Jonas\\Real_World_Test_DataBase_meta\\18\\132727\\Satellite_18_132727_171931.meta\n",
      "C:\\Users\\AISG\\Documents\\Jonas\\Real_World_Test_DataBase_meta\\18\\132727\\Satellite_18_132727_171932.meta\n",
      "C:\\Users\\AISG\\Documents\\Jonas\\Real_World_Test_DataBase_meta\\18\\132727\\Satellite_18_132727_171933.meta\n",
      "C:\\Users\\AISG\\Documents\\Jonas\\Real_World_Test_DataBase_meta\\18\\132727\\Satellite_18_132727_171934.meta\n",
      "C:\\Users\\AISG\\Documents\\Jonas\\Real_World_Test_DataBase_meta\\18\\132727\\Satellite_18_132727_171935.meta\n",
      "C:\\Users\\AISG\\Documents\\Jonas\\Real_World_Test_DataBase_meta\\18\\132727\\Satellite_18_132727_171936.meta\n",
      "C:\\Users\\AISG\\Documents\\Jonas\\Real_World_Test_DataBase_meta\\18\\132727\\Satellite_18_132727_171937.meta\n",
      "C:\\Users\\AISG\\Documents\\Jonas\\Real_World_Test_DataBase_meta\\18\\132728\\Satellite_18_132728_171926.meta\n",
      "C:\\Users\\AISG\\Documents\\Jonas\\Real_World_Test_DataBase_meta\\18\\132728\\Satellite_18_132728_171927.meta\n",
      "C:\\Users\\AISG\\Documents\\Jonas\\Real_World_Test_DataBase_meta\\18\\132728\\Satellite_18_132728_171928.meta\n",
      "C:\\Users\\AISG\\Documents\\Jonas\\Real_World_Test_DataBase_meta\\18\\132728\\Satellite_18_132728_171929.meta\n",
      "C:\\Users\\AISG\\Documents\\Jonas\\Real_World_Test_DataBase_meta\\18\\132728\\Satellite_18_132728_171930.meta\n",
      "C:\\Users\\AISG\\Documents\\Jonas\\Real_World_Test_DataBase_meta\\18\\132728\\Satellite_18_132728_171931.meta\n",
      "C:\\Users\\AISG\\Documents\\Jonas\\Real_World_Test_DataBase_meta\\18\\132728\\Satellite_18_132728_171932.meta\n",
      "C:\\Users\\AISG\\Documents\\Jonas\\Real_World_Test_DataBase_meta\\18\\132728\\Satellite_18_132728_171933.meta\n",
      "C:\\Users\\AISG\\Documents\\Jonas\\Real_World_Test_DataBase_meta\\18\\132728\\Satellite_18_132728_171934.meta\n",
      "C:\\Users\\AISG\\Documents\\Jonas\\Real_World_Test_DataBase_meta\\18\\132728\\Satellite_18_132728_171935.meta\n",
      "C:\\Users\\AISG\\Documents\\Jonas\\Real_World_Test_DataBase_meta\\18\\132728\\Satellite_18_132728_171936.meta\n",
      "C:\\Users\\AISG\\Documents\\Jonas\\Real_World_Test_DataBase_meta\\18\\132728\\Satellite_18_132728_171937.meta\n",
      "C:\\Users\\AISG\\Documents\\Jonas\\Real_World_Test_DataBase_meta\\18\\132731\\Satellite_18_132731_171926.meta\n",
      "C:\\Users\\AISG\\Documents\\Jonas\\Real_World_Test_DataBase_meta\\18\\132731\\Satellite_18_132731_171927.meta\n",
      "C:\\Users\\AISG\\Documents\\Jonas\\Real_World_Test_DataBase_meta\\18\\132731\\Satellite_18_132731_171928.meta\n",
      "C:\\Users\\AISG\\Documents\\Jonas\\Real_World_Test_DataBase_meta\\18\\132731\\Satellite_18_132731_171929.meta\n",
      "C:\\Users\\AISG\\Documents\\Jonas\\Real_World_Test_DataBase_meta\\18\\132731\\Satellite_18_132731_171930.meta\n",
      "C:\\Users\\AISG\\Documents\\Jonas\\Real_World_Test_DataBase_meta\\18\\132731\\Satellite_18_132731_171931.meta\n",
      "C:\\Users\\AISG\\Documents\\Jonas\\Real_World_Test_DataBase_meta\\18\\132731\\Satellite_18_132731_171932.meta\n",
      "C:\\Users\\AISG\\Documents\\Jonas\\Real_World_Test_DataBase_meta\\18\\132731\\Satellite_18_132731_171933.meta\n",
      "C:\\Users\\AISG\\Documents\\Jonas\\Real_World_Test_DataBase_meta\\18\\132731\\Satellite_18_132731_171934.meta\n",
      "C:\\Users\\AISG\\Documents\\Jonas\\Real_World_Test_DataBase_meta\\18\\132731\\Satellite_18_132731_171935.meta\n",
      "C:\\Users\\AISG\\Documents\\Jonas\\Real_World_Test_DataBase_meta\\18\\132731\\Satellite_18_132731_171936.meta\n",
      "C:\\Users\\AISG\\Documents\\Jonas\\Real_World_Test_DataBase_meta\\18\\132731\\Satellite_18_132731_171937.meta\n",
      "C:\\Users\\AISG\\Documents\\Jonas\\Real_World_Test_DataBase_meta\\18\\133091\\Satellite_18_133091_171968.meta\n",
      "C:\\Users\\AISG\\Documents\\Jonas\\Real_World_Test_DataBase_meta\\18\\133091\\Satellite_18_133091_171969.meta\n",
      "C:\\Users\\AISG\\Documents\\Jonas\\Real_World_Test_DataBase_meta\\18\\133091\\Satellite_18_133091_171970.meta\n",
      "C:\\Users\\AISG\\Documents\\Jonas\\Real_World_Test_DataBase_meta\\18\\133091\\Satellite_18_133091_171971.meta\n",
      "C:\\Users\\AISG\\Documents\\Jonas\\Real_World_Test_DataBase_meta\\18\\133091\\Satellite_18_133091_171972.meta\n",
      "C:\\Users\\AISG\\Documents\\Jonas\\Real_World_Test_DataBase_meta\\18\\133091\\Satellite_18_133091_171973.meta\n",
      "C:\\Users\\AISG\\Documents\\Jonas\\Real_World_Test_DataBase_meta\\18\\133091\\Satellite_18_133091_171974.meta\n",
      "C:\\Users\\AISG\\Documents\\Jonas\\Real_World_Test_DataBase_meta\\18\\133091\\Satellite_18_133091_171975.meta\n"
     ]
    },
    {
     "name": "stderr",
     "output_type": "stream",
     "text": [
      "  5%|████                                                                          | 115/2206 [00:00<00:05, 380.12it/s]"
     ]
    },
    {
     "name": "stdout",
     "output_type": "stream",
     "text": [
      "C:\\Users\\AISG\\Documents\\Jonas\\Real_World_Test_DataBase_meta\\18\\133091\\Satellite_18_133091_171976.meta\n",
      "C:\\Users\\AISG\\Documents\\Jonas\\Real_World_Test_DataBase_meta\\18\\133091\\Satellite_18_133091_171977.meta\n",
      "C:\\Users\\AISG\\Documents\\Jonas\\Real_World_Test_DataBase_meta\\18\\133091\\Satellite_18_133091_171978.meta\n",
      "C:\\Users\\AISG\\Documents\\Jonas\\Real_World_Test_DataBase_meta\\18\\133091\\Satellite_18_133091_171979.meta\n",
      "C:\\Users\\AISG\\Documents\\Jonas\\Real_World_Test_DataBase_meta\\18\\133091\\Satellite_18_133091_171980.meta\n",
      "C:\\Users\\AISG\\Documents\\Jonas\\Real_World_Test_DataBase_meta\\18\\133091\\Satellite_18_133091_171981.meta\n",
      "C:\\Users\\AISG\\Documents\\Jonas\\Real_World_Test_DataBase_meta\\18\\133097\\Satellite_18_133097_171962.meta\n",
      "C:\\Users\\AISG\\Documents\\Jonas\\Real_World_Test_DataBase_meta\\18\\133097\\Satellite_18_133097_171963.meta\n",
      "C:\\Users\\AISG\\Documents\\Jonas\\Real_World_Test_DataBase_meta\\18\\133097\\Satellite_18_133097_171964.meta\n",
      "C:\\Users\\AISG\\Documents\\Jonas\\Real_World_Test_DataBase_meta\\18\\133097\\Satellite_18_133097_171965.meta\n",
      "C:\\Users\\AISG\\Documents\\Jonas\\Real_World_Test_DataBase_meta\\18\\133097\\Satellite_18_133097_171966.meta\n",
      "C:\\Users\\AISG\\Documents\\Jonas\\Real_World_Test_DataBase_meta\\18\\133097\\Satellite_18_133097_171967.meta\n",
      "C:\\Users\\AISG\\Documents\\Jonas\\Real_World_Test_DataBase_meta\\18\\133097\\Satellite_18_133097_171968.meta\n",
      "C:\\Users\\AISG\\Documents\\Jonas\\Real_World_Test_DataBase_meta\\18\\133097\\Satellite_18_133097_171969.meta\n",
      "C:\\Users\\AISG\\Documents\\Jonas\\Real_World_Test_DataBase_meta\\18\\133097\\Satellite_18_133097_171970.meta\n",
      "C:\\Users\\AISG\\Documents\\Jonas\\Real_World_Test_DataBase_meta\\18\\133097\\Satellite_18_133097_171971.meta\n",
      "C:\\Users\\AISG\\Documents\\Jonas\\Real_World_Test_DataBase_meta\\18\\133097\\Satellite_18_133097_171972.meta\n",
      "C:\\Users\\AISG\\Documents\\Jonas\\Real_World_Test_DataBase_meta\\18\\133097\\Satellite_18_133097_171973.meta\n",
      "C:\\Users\\AISG\\Documents\\Jonas\\Real_World_Test_DataBase_meta\\18\\133097\\Satellite_18_133097_171974.meta\n",
      "C:\\Users\\AISG\\Documents\\Jonas\\Real_World_Test_DataBase_meta\\18\\133097\\Satellite_18_133097_171975.meta\n",
      "C:\\Users\\AISG\\Documents\\Jonas\\Real_World_Test_DataBase_meta\\18\\133097\\Satellite_18_133097_171976.meta\n",
      "C:\\Users\\AISG\\Documents\\Jonas\\Real_World_Test_DataBase_meta\\18\\133097\\Satellite_18_133097_171977.meta\n",
      "C:\\Users\\AISG\\Documents\\Jonas\\Real_World_Test_DataBase_meta\\18\\133097\\Satellite_18_133097_171978.meta\n",
      "C:\\Users\\AISG\\Documents\\Jonas\\Real_World_Test_DataBase_meta\\18\\133097\\Satellite_18_133097_171979.meta\n",
      "C:\\Users\\AISG\\Documents\\Jonas\\Real_World_Test_DataBase_meta\\18\\133097\\Satellite_18_133097_171980.meta\n",
      "C:\\Users\\AISG\\Documents\\Jonas\\Real_World_Test_DataBase_meta\\18\\133097\\Satellite_18_133097_171981.meta\n",
      "C:\\Users\\AISG\\Documents\\Jonas\\Real_World_Test_DataBase_meta\\18\\133097\\Satellite_18_133097_171982.meta\n",
      "C:\\Users\\AISG\\Documents\\Jonas\\Real_World_Test_DataBase_meta\\18\\133099\\Satellite_18_133099_171962.meta\n",
      "C:\\Users\\AISG\\Documents\\Jonas\\Real_World_Test_DataBase_meta\\18\\133099\\Satellite_18_133099_171963.meta\n",
      "C:\\Users\\AISG\\Documents\\Jonas\\Real_World_Test_DataBase_meta\\18\\133099\\Satellite_18_133099_171964.meta\n",
      "C:\\Users\\AISG\\Documents\\Jonas\\Real_World_Test_DataBase_meta\\18\\133099\\Satellite_18_133099_171965.meta\n",
      "C:\\Users\\AISG\\Documents\\Jonas\\Real_World_Test_DataBase_meta\\18\\133099\\Satellite_18_133099_171966.meta\n",
      "C:\\Users\\AISG\\Documents\\Jonas\\Real_World_Test_DataBase_meta\\18\\133099\\Satellite_18_133099_171967.meta\n",
      "C:\\Users\\AISG\\Documents\\Jonas\\Real_World_Test_DataBase_meta\\18\\133099\\Satellite_18_133099_171968.meta\n",
      "C:\\Users\\AISG\\Documents\\Jonas\\Real_World_Test_DataBase_meta\\18\\133099\\Satellite_18_133099_171969.meta\n",
      "C:\\Users\\AISG\\Documents\\Jonas\\Real_World_Test_DataBase_meta\\18\\133099\\Satellite_18_133099_171970.meta\n",
      "C:\\Users\\AISG\\Documents\\Jonas\\Real_World_Test_DataBase_meta\\18\\133099\\Satellite_18_133099_171971.meta\n",
      "C:\\Users\\AISG\\Documents\\Jonas\\Real_World_Test_DataBase_meta\\18\\133099\\Satellite_18_133099_171972.meta\n",
      "C:\\Users\\AISG\\Documents\\Jonas\\Real_World_Test_DataBase_meta\\18\\133099\\Satellite_18_133099_171973.meta\n",
      "C:\\Users\\AISG\\Documents\\Jonas\\Real_World_Test_DataBase_meta\\18\\133099\\Satellite_18_133099_171974.meta\n",
      "C:\\Users\\AISG\\Documents\\Jonas\\Real_World_Test_DataBase_meta\\18\\133099\\Satellite_18_133099_171975.meta\n",
      "C:\\Users\\AISG\\Documents\\Jonas\\Real_World_Test_DataBase_meta\\18\\133099\\Satellite_18_133099_171976.meta\n",
      "C:\\Users\\AISG\\Documents\\Jonas\\Real_World_Test_DataBase_meta\\18\\133099\\Satellite_18_133099_171977.meta\n",
      "C:\\Users\\AISG\\Documents\\Jonas\\Real_World_Test_DataBase_meta\\18\\133099\\Satellite_18_133099_171978.meta\n",
      "C:\\Users\\AISG\\Documents\\Jonas\\Real_World_Test_DataBase_meta\\18\\133099\\Satellite_18_133099_171979.meta\n",
      "C:\\Users\\AISG\\Documents\\Jonas\\Real_World_Test_DataBase_meta\\18\\133099\\Satellite_18_133099_171980.meta\n",
      "C:\\Users\\AISG\\Documents\\Jonas\\Real_World_Test_DataBase_meta\\18\\133099\\Satellite_18_133099_171981.meta\n",
      "C:\\Users\\AISG\\Documents\\Jonas\\Real_World_Test_DataBase_meta\\18\\133099\\Satellite_18_133099_171982.meta\n",
      "C:\\Users\\AISG\\Documents\\Jonas\\Real_World_Test_DataBase_meta\\18\\133100\\Satellite_18_133100_171962.meta\n",
      "C:\\Users\\AISG\\Documents\\Jonas\\Real_World_Test_DataBase_meta\\18\\133100\\Satellite_18_133100_171963.meta\n",
      "C:\\Users\\AISG\\Documents\\Jonas\\Real_World_Test_DataBase_meta\\18\\133100\\Satellite_18_133100_171964.meta\n",
      "C:\\Users\\AISG\\Documents\\Jonas\\Real_World_Test_DataBase_meta\\18\\133100\\Satellite_18_133100_171965.meta\n",
      "C:\\Users\\AISG\\Documents\\Jonas\\Real_World_Test_DataBase_meta\\18\\133100\\Satellite_18_133100_171966.meta\n",
      "C:\\Users\\AISG\\Documents\\Jonas\\Real_World_Test_DataBase_meta\\18\\133100\\Satellite_18_133100_171967.meta\n",
      "C:\\Users\\AISG\\Documents\\Jonas\\Real_World_Test_DataBase_meta\\18\\133100\\Satellite_18_133100_171968.meta\n",
      "C:\\Users\\AISG\\Documents\\Jonas\\Real_World_Test_DataBase_meta\\18\\133100\\Satellite_18_133100_171969.meta\n",
      "C:\\Users\\AISG\\Documents\\Jonas\\Real_World_Test_DataBase_meta\\18\\133100\\Satellite_18_133100_171970.meta\n",
      "C:\\Users\\AISG\\Documents\\Jonas\\Real_World_Test_DataBase_meta\\18\\133100\\Satellite_18_133100_171971.meta\n",
      "C:\\Users\\AISG\\Documents\\Jonas\\Real_World_Test_DataBase_meta\\18\\133100\\Satellite_18_133100_171972.meta\n",
      "C:\\Users\\AISG\\Documents\\Jonas\\Real_World_Test_DataBase_meta\\18\\133100\\Satellite_18_133100_171973.meta\n",
      "C:\\Users\\AISG\\Documents\\Jonas\\Real_World_Test_DataBase_meta\\18\\133100\\Satellite_18_133100_171974.meta\n",
      "C:\\Users\\AISG\\Documents\\Jonas\\Real_World_Test_DataBase_meta\\18\\133100\\Satellite_18_133100_171975.meta\n",
      "C:\\Users\\AISG\\Documents\\Jonas\\Real_World_Test_DataBase_meta\\18\\133100\\Satellite_18_133100_171976.meta\n",
      "C:\\Users\\AISG\\Documents\\Jonas\\Real_World_Test_DataBase_meta\\18\\133100\\Satellite_18_133100_171977.meta\n",
      "C:\\Users\\AISG\\Documents\\Jonas\\Real_World_Test_DataBase_meta\\18\\133100\\Satellite_18_133100_171978.meta\n",
      "C:\\Users\\AISG\\Documents\\Jonas\\Real_World_Test_DataBase_meta\\18\\133100\\Satellite_18_133100_171979.meta\n",
      "C:\\Users\\AISG\\Documents\\Jonas\\Real_World_Test_DataBase_meta\\18\\133100\\Satellite_18_133100_171980.meta\n",
      "C:\\Users\\AISG\\Documents\\Jonas\\Real_World_Test_DataBase_meta\\18\\133100\\Satellite_18_133100_171981.meta\n",
      "C:\\Users\\AISG\\Documents\\Jonas\\Real_World_Test_DataBase_meta\\18\\133100\\Satellite_18_133100_171982.meta\n",
      "C:\\Users\\AISG\\Documents\\Jonas\\Real_World_Test_DataBase_meta\\18\\133106\\Satellite_18_133106_171964.meta\n",
      "C:\\Users\\AISG\\Documents\\Jonas\\Real_World_Test_DataBase_meta\\18\\133106\\Satellite_18_133106_171965.meta\n",
      "C:\\Users\\AISG\\Documents\\Jonas\\Real_World_Test_DataBase_meta\\18\\133106\\Satellite_18_133106_171966.meta\n"
     ]
    },
    {
     "name": "stderr",
     "output_type": "stream",
     "text": [
      "  9%|██████▊                                                                       | 191/2206 [00:00<00:05, 376.85it/s]"
     ]
    },
    {
     "name": "stdout",
     "output_type": "stream",
     "text": [
      "C:\\Users\\AISG\\Documents\\Jonas\\Real_World_Test_DataBase_meta\\18\\133106\\Satellite_18_133106_171967.meta\n",
      "C:\\Users\\AISG\\Documents\\Jonas\\Real_World_Test_DataBase_meta\\18\\133106\\Satellite_18_133106_171968.meta\n",
      "C:\\Users\\AISG\\Documents\\Jonas\\Real_World_Test_DataBase_meta\\18\\133106\\Satellite_18_133106_171969.meta\n",
      "C:\\Users\\AISG\\Documents\\Jonas\\Real_World_Test_DataBase_meta\\18\\133106\\Satellite_18_133106_171974.meta\n",
      "C:\\Users\\AISG\\Documents\\Jonas\\Real_World_Test_DataBase_meta\\18\\133106\\Satellite_18_133106_171975.meta\n",
      "C:\\Users\\AISG\\Documents\\Jonas\\Real_World_Test_DataBase_meta\\18\\133106\\Satellite_18_133106_171976.meta\n",
      "C:\\Users\\AISG\\Documents\\Jonas\\Real_World_Test_DataBase_meta\\18\\133106\\Satellite_18_133106_171977.meta\n",
      "C:\\Users\\AISG\\Documents\\Jonas\\Real_World_Test_DataBase_meta\\18\\133106\\Satellite_18_133106_171978.meta\n",
      "C:\\Users\\AISG\\Documents\\Jonas\\Real_World_Test_DataBase_meta\\18\\133106\\Satellite_18_133106_171979.meta\n",
      "C:\\Users\\AISG\\Documents\\Jonas\\Real_World_Test_DataBase_meta\\18\\133107\\Satellite_18_133107_171974.meta\n",
      "C:\\Users\\AISG\\Documents\\Jonas\\Real_World_Test_DataBase_meta\\18\\133107\\Satellite_18_133107_171975.meta\n",
      "C:\\Users\\AISG\\Documents\\Jonas\\Real_World_Test_DataBase_meta\\18\\133107\\Satellite_18_133107_171976.meta\n",
      "C:\\Users\\AISG\\Documents\\Jonas\\Real_World_Test_DataBase_meta\\18\\133107\\Satellite_18_133107_171977.meta\n",
      "C:\\Users\\AISG\\Documents\\Jonas\\Real_World_Test_DataBase_meta\\18\\133107\\Satellite_18_133107_171978.meta\n",
      "C:\\Users\\AISG\\Documents\\Jonas\\Real_World_Test_DataBase_meta\\18\\133107\\Satellite_18_133107_171979.meta\n",
      "C:\\Users\\AISG\\Documents\\Jonas\\Real_World_Test_DataBase_meta\\18\\133110\\Satellite_18_133110_171975.meta\n",
      "C:\\Users\\AISG\\Documents\\Jonas\\Real_World_Test_DataBase_meta\\18\\133110\\Satellite_18_133110_171976.meta\n",
      "C:\\Users\\AISG\\Documents\\Jonas\\Real_World_Test_DataBase_meta\\18\\133110\\Satellite_18_133110_171977.meta\n",
      "C:\\Users\\AISG\\Documents\\Jonas\\Real_World_Test_DataBase_meta\\18\\218003\\Satellite_18_218003_139262.meta\n",
      "C:\\Users\\AISG\\Documents\\Jonas\\Real_World_Test_DataBase_meta\\18\\218003\\Satellite_18_218003_139263.meta\n",
      "C:\\Users\\AISG\\Documents\\Jonas\\Real_World_Test_DataBase_meta\\18\\218003\\Satellite_18_218003_139264.meta\n",
      "C:\\Users\\AISG\\Documents\\Jonas\\Real_World_Test_DataBase_meta\\18\\218003\\Satellite_18_218003_139265.meta\n",
      "C:\\Users\\AISG\\Documents\\Jonas\\Real_World_Test_DataBase_meta\\18\\218003\\Satellite_18_218003_139266.meta\n",
      "C:\\Users\\AISG\\Documents\\Jonas\\Real_World_Test_DataBase_meta\\18\\218003\\Satellite_18_218003_139267.meta\n",
      "C:\\Users\\AISG\\Documents\\Jonas\\Real_World_Test_DataBase_meta\\18\\218009\\Satellite_18_218009_139234.meta\n",
      "C:\\Users\\AISG\\Documents\\Jonas\\Real_World_Test_DataBase_meta\\18\\218009\\Satellite_18_218009_139235.meta\n",
      "C:\\Users\\AISG\\Documents\\Jonas\\Real_World_Test_DataBase_meta\\18\\218009\\Satellite_18_218009_139236.meta\n",
      "C:\\Users\\AISG\\Documents\\Jonas\\Real_World_Test_DataBase_meta\\18\\218009\\Satellite_18_218009_139237.meta\n",
      "C:\\Users\\AISG\\Documents\\Jonas\\Real_World_Test_DataBase_meta\\18\\218009\\Satellite_18_218009_139238.meta\n",
      "C:\\Users\\AISG\\Documents\\Jonas\\Real_World_Test_DataBase_meta\\18\\218009\\Satellite_18_218009_139239.meta\n",
      "C:\\Users\\AISG\\Documents\\Jonas\\Real_World_Test_DataBase_meta\\18\\218009\\Satellite_18_218009_139240.meta\n",
      "C:\\Users\\AISG\\Documents\\Jonas\\Real_World_Test_DataBase_meta\\18\\218009\\Satellite_18_218009_139241.meta\n",
      "C:\\Users\\AISG\\Documents\\Jonas\\Real_World_Test_DataBase_meta\\18\\218009\\Satellite_18_218009_139242.meta\n",
      "C:\\Users\\AISG\\Documents\\Jonas\\Real_World_Test_DataBase_meta\\18\\218009\\Satellite_18_218009_139260.meta\n",
      "C:\\Users\\AISG\\Documents\\Jonas\\Real_World_Test_DataBase_meta\\18\\218009\\Satellite_18_218009_139261.meta\n",
      "C:\\Users\\AISG\\Documents\\Jonas\\Real_World_Test_DataBase_meta\\18\\218009\\Satellite_18_218009_139262.meta\n",
      "C:\\Users\\AISG\\Documents\\Jonas\\Real_World_Test_DataBase_meta\\18\\218009\\Satellite_18_218009_139263.meta\n",
      "C:\\Users\\AISG\\Documents\\Jonas\\Real_World_Test_DataBase_meta\\18\\218009\\Satellite_18_218009_139264.meta\n",
      "C:\\Users\\AISG\\Documents\\Jonas\\Real_World_Test_DataBase_meta\\18\\218009\\Satellite_18_218009_139265.meta\n",
      "C:\\Users\\AISG\\Documents\\Jonas\\Real_World_Test_DataBase_meta\\18\\218009\\Satellite_18_218009_139266.meta\n",
      "C:\\Users\\AISG\\Documents\\Jonas\\Real_World_Test_DataBase_meta\\18\\218009\\Satellite_18_218009_139267.meta\n",
      "C:\\Users\\AISG\\Documents\\Jonas\\Real_World_Test_DataBase_meta\\18\\218815\\Satellite_18_218815_141655.meta\n",
      "C:\\Users\\AISG\\Documents\\Jonas\\Real_World_Test_DataBase_meta\\18\\218815\\Satellite_18_218815_141656.meta\n",
      "C:\\Users\\AISG\\Documents\\Jonas\\Real_World_Test_DataBase_meta\\18\\218815\\Satellite_18_218815_141657.meta\n",
      "C:\\Users\\AISG\\Documents\\Jonas\\Real_World_Test_DataBase_meta\\18\\218815\\Satellite_18_218815_141658.meta\n",
      "C:\\Users\\AISG\\Documents\\Jonas\\Real_World_Test_DataBase_meta\\18\\218815\\Satellite_18_218815_141659.meta\n",
      "C:\\Users\\AISG\\Documents\\Jonas\\Real_World_Test_DataBase_meta\\18\\218815\\Satellite_18_218815_141660.meta\n",
      "C:\\Users\\AISG\\Documents\\Jonas\\Real_World_Test_DataBase_meta\\18\\218815\\Satellite_18_218815_141661.meta\n",
      "C:\\Users\\AISG\\Documents\\Jonas\\Real_World_Test_DataBase_meta\\18\\218815\\Satellite_18_218815_141662.meta\n",
      "C:\\Users\\AISG\\Documents\\Jonas\\Real_World_Test_DataBase_meta\\18\\218815\\Satellite_18_218815_141663.meta\n",
      "C:\\Users\\AISG\\Documents\\Jonas\\Real_World_Test_DataBase_meta\\18\\218815\\Satellite_18_218815_141664.meta\n",
      "C:\\Users\\AISG\\Documents\\Jonas\\Real_World_Test_DataBase_meta\\18\\218815\\Satellite_18_218815_141665.meta\n",
      "C:\\Users\\AISG\\Documents\\Jonas\\Real_World_Test_DataBase_meta\\18\\218815\\Satellite_18_218815_141666.meta\n",
      "C:\\Users\\AISG\\Documents\\Jonas\\Real_World_Test_DataBase_meta\\18\\218815\\Satellite_18_218815_141667.meta\n",
      "C:\\Users\\AISG\\Documents\\Jonas\\Real_World_Test_DataBase_meta\\18\\218815\\Satellite_18_218815_141668.meta\n",
      "C:\\Users\\AISG\\Documents\\Jonas\\Real_World_Test_DataBase_meta\\18\\218815\\Satellite_18_218815_141669.meta\n",
      "C:\\Users\\AISG\\Documents\\Jonas\\Real_World_Test_DataBase_meta\\18\\218815\\Satellite_18_218815_141670.meta\n",
      "C:\\Users\\AISG\\Documents\\Jonas\\Real_World_Test_DataBase_meta\\18\\218815\\Satellite_18_218815_141671.meta\n",
      "C:\\Users\\AISG\\Documents\\Jonas\\Real_World_Test_DataBase_meta\\18\\218815\\Satellite_18_218815_141672.meta\n",
      "C:\\Users\\AISG\\Documents\\Jonas\\Real_World_Test_DataBase_meta\\18\\218815\\Satellite_18_218815_141673.meta\n",
      "C:\\Users\\AISG\\Documents\\Jonas\\Real_World_Test_DataBase_meta\\18\\218815\\Satellite_18_218815_141674.meta\n",
      "C:\\Users\\AISG\\Documents\\Jonas\\Real_World_Test_DataBase_meta\\18\\218815\\Satellite_18_218815_141675.meta\n",
      "C:\\Users\\AISG\\Documents\\Jonas\\Real_World_Test_DataBase_meta\\18\\218815\\Satellite_18_218815_141676.meta\n",
      "C:\\Users\\AISG\\Documents\\Jonas\\Real_World_Test_DataBase_meta\\18\\218815\\Satellite_18_218815_141677.meta\n",
      "C:\\Users\\AISG\\Documents\\Jonas\\Real_World_Test_DataBase_meta\\18\\218815\\Satellite_18_218815_141678.meta\n",
      "C:\\Users\\AISG\\Documents\\Jonas\\Real_World_Test_DataBase_meta\\18\\218815\\Satellite_18_218815_141679.meta\n",
      "C:\\Users\\AISG\\Documents\\Jonas\\Real_World_Test_DataBase_meta\\18\\218815\\Satellite_18_218815_141680.meta\n",
      "C:\\Users\\AISG\\Documents\\Jonas\\Real_World_Test_DataBase_meta\\18\\218815\\Satellite_18_218815_141681.meta\n",
      "C:\\Users\\AISG\\Documents\\Jonas\\Real_World_Test_DataBase_meta\\18\\218815\\Satellite_18_218815_141682.meta\n",
      "C:\\Users\\AISG\\Documents\\Jonas\\Real_World_Test_DataBase_meta\\18\\218815\\Satellite_18_218815_141683.meta\n",
      "C:\\Users\\AISG\\Documents\\Jonas\\Real_World_Test_DataBase_meta\\18\\218815\\Satellite_18_218815_141684.meta\n"
     ]
    },
    {
     "name": "stderr",
     "output_type": "stream",
     "text": [
      " 12%|█████████▌                                                                    | 271/2206 [00:00<00:05, 385.80it/s]"
     ]
    },
    {
     "name": "stdout",
     "output_type": "stream",
     "text": [
      "C:\\Users\\AISG\\Documents\\Jonas\\Real_World_Test_DataBase_meta\\18\\218815\\Satellite_18_218815_141685.meta\n",
      "C:\\Users\\AISG\\Documents\\Jonas\\Real_World_Test_DataBase_meta\\18\\218815\\Satellite_18_218815_141686.meta\n",
      "C:\\Users\\AISG\\Documents\\Jonas\\Real_World_Test_DataBase_meta\\18\\218815\\Satellite_18_218815_141687.meta\n",
      "C:\\Users\\AISG\\Documents\\Jonas\\Real_World_Test_DataBase_meta\\18\\218815\\Satellite_18_218815_141688.meta\n",
      "C:\\Users\\AISG\\Documents\\Jonas\\Real_World_Test_DataBase_meta\\18\\218815\\Satellite_18_218815_141689.meta\n",
      "C:\\Users\\AISG\\Documents\\Jonas\\Real_World_Test_DataBase_meta\\18\\218815\\Satellite_18_218815_141690.meta\n",
      "C:\\Users\\AISG\\Documents\\Jonas\\Real_World_Test_DataBase_meta\\18\\218815\\Satellite_18_218815_141691.meta\n",
      "C:\\Users\\AISG\\Documents\\Jonas\\Real_World_Test_DataBase_meta\\18\\218815\\Satellite_18_218815_141692.meta\n",
      "C:\\Users\\AISG\\Documents\\Jonas\\Real_World_Test_DataBase_meta\\18\\218815\\Satellite_18_218815_141693.meta\n",
      "C:\\Users\\AISG\\Documents\\Jonas\\Real_World_Test_DataBase_meta\\18\\218815\\Satellite_18_218815_141694.meta\n",
      "C:\\Users\\AISG\\Documents\\Jonas\\Real_World_Test_DataBase_meta\\18\\218815\\Satellite_18_218815_141695.meta\n",
      "C:\\Users\\AISG\\Documents\\Jonas\\Real_World_Test_DataBase_meta\\18\\218815\\Satellite_18_218815_141696.meta\n",
      "C:\\Users\\AISG\\Documents\\Jonas\\Real_World_Test_DataBase_meta\\18\\218815\\Satellite_18_218815_141697.meta\n",
      "C:\\Users\\AISG\\Documents\\Jonas\\Real_World_Test_DataBase_meta\\18\\218815\\Satellite_18_218815_141698.meta\n",
      "C:\\Users\\AISG\\Documents\\Jonas\\Real_World_Test_DataBase_meta\\18\\218815\\Satellite_18_218815_141699.meta\n",
      "C:\\Users\\AISG\\Documents\\Jonas\\Real_World_Test_DataBase_meta\\18\\218815\\Satellite_18_218815_141700.meta\n",
      "C:\\Users\\AISG\\Documents\\Jonas\\Real_World_Test_DataBase_meta\\18\\218815\\Satellite_18_218815_141701.meta\n",
      "C:\\Users\\AISG\\Documents\\Jonas\\Real_World_Test_DataBase_meta\\18\\218815\\Satellite_18_218815_141702.meta\n",
      "C:\\Users\\AISG\\Documents\\Jonas\\Real_World_Test_DataBase_meta\\18\\218815\\Satellite_18_218815_141703.meta\n",
      "C:\\Users\\AISG\\Documents\\Jonas\\Real_World_Test_DataBase_meta\\18\\218815\\Satellite_18_218815_141704.meta\n",
      "C:\\Users\\AISG\\Documents\\Jonas\\Real_World_Test_DataBase_meta\\18\\218815\\Satellite_18_218815_141705.meta\n",
      "C:\\Users\\AISG\\Documents\\Jonas\\Real_World_Test_DataBase_meta\\18\\218815\\Satellite_18_218815_141706.meta\n",
      "C:\\Users\\AISG\\Documents\\Jonas\\Real_World_Test_DataBase_meta\\18\\218815\\Satellite_18_218815_141707.meta\n",
      "C:\\Users\\AISG\\Documents\\Jonas\\Real_World_Test_DataBase_meta\\18\\218815\\Satellite_18_218815_141708.meta\n",
      "C:\\Users\\AISG\\Documents\\Jonas\\Real_World_Test_DataBase_meta\\18\\218815\\Satellite_18_218815_141709.meta\n",
      "C:\\Users\\AISG\\Documents\\Jonas\\Real_World_Test_DataBase_meta\\18\\218815\\Satellite_18_218815_141710.meta\n",
      "C:\\Users\\AISG\\Documents\\Jonas\\Real_World_Test_DataBase_meta\\18\\218815\\Satellite_18_218815_141711.meta\n",
      "C:\\Users\\AISG\\Documents\\Jonas\\Real_World_Test_DataBase_meta\\18\\218815\\Satellite_18_218815_141712.meta\n",
      "C:\\Users\\AISG\\Documents\\Jonas\\Real_World_Test_DataBase_meta\\18\\218815\\Satellite_18_218815_141713.meta\n",
      "C:\\Users\\AISG\\Documents\\Jonas\\Real_World_Test_DataBase_meta\\18\\218815\\Satellite_18_218815_141714.meta\n",
      "C:\\Users\\AISG\\Documents\\Jonas\\Real_World_Test_DataBase_meta\\18\\218815\\Satellite_18_218815_141715.meta\n",
      "C:\\Users\\AISG\\Documents\\Jonas\\Real_World_Test_DataBase_meta\\18\\218815\\Satellite_18_218815_141716.meta\n",
      "C:\\Users\\AISG\\Documents\\Jonas\\Real_World_Test_DataBase_meta\\18\\218815\\Satellite_18_218815_141717.meta\n",
      "C:\\Users\\AISG\\Documents\\Jonas\\Real_World_Test_DataBase_meta\\18\\218815\\Satellite_18_218815_141718.meta\n",
      "C:\\Users\\AISG\\Documents\\Jonas\\Real_World_Test_DataBase_meta\\18\\218815\\Satellite_18_218815_141719.meta\n",
      "C:\\Users\\AISG\\Documents\\Jonas\\Real_World_Test_DataBase_meta\\18\\218815\\Satellite_18_218815_141720.meta\n",
      "C:\\Users\\AISG\\Documents\\Jonas\\Real_World_Test_DataBase_meta\\18\\218815\\Satellite_18_218815_141721.meta\n",
      "C:\\Users\\AISG\\Documents\\Jonas\\Real_World_Test_DataBase_meta\\18\\218815\\Satellite_18_218815_141722.meta\n",
      "C:\\Users\\AISG\\Documents\\Jonas\\Real_World_Test_DataBase_meta\\18\\218815\\Satellite_18_218815_141723.meta\n",
      "C:\\Users\\AISG\\Documents\\Jonas\\Real_World_Test_DataBase_meta\\18\\218815\\Satellite_18_218815_141724.meta\n",
      "C:\\Users\\AISG\\Documents\\Jonas\\Real_World_Test_DataBase_meta\\18\\218815\\Satellite_18_218815_141725.meta\n",
      "C:\\Users\\AISG\\Documents\\Jonas\\Real_World_Test_DataBase_meta\\18\\218815\\Satellite_18_218815_141726.meta\n",
      "C:\\Users\\AISG\\Documents\\Jonas\\Real_World_Test_DataBase_meta\\18\\218815\\Satellite_18_218815_141727.meta\n",
      "C:\\Users\\AISG\\Documents\\Jonas\\Real_World_Test_DataBase_meta\\18\\218815\\Satellite_18_218815_141728.meta\n",
      "C:\\Users\\AISG\\Documents\\Jonas\\Real_World_Test_DataBase_meta\\18\\218815\\Satellite_18_218815_141729.meta\n",
      "C:\\Users\\AISG\\Documents\\Jonas\\Real_World_Test_DataBase_meta\\18\\218815\\Satellite_18_218815_141730.meta\n",
      "C:\\Users\\AISG\\Documents\\Jonas\\Real_World_Test_DataBase_meta\\18\\218815\\Satellite_18_218815_141731.meta\n",
      "C:\\Users\\AISG\\Documents\\Jonas\\Real_World_Test_DataBase_meta\\18\\218815\\Satellite_18_218815_141732.meta\n",
      "C:\\Users\\AISG\\Documents\\Jonas\\Real_World_Test_DataBase_meta\\18\\218815\\Satellite_18_218815_141733.meta\n",
      "C:\\Users\\AISG\\Documents\\Jonas\\Real_World_Test_DataBase_meta\\18\\218815\\Satellite_18_218815_141734.meta\n",
      "C:\\Users\\AISG\\Documents\\Jonas\\Real_World_Test_DataBase_meta\\18\\218815\\Satellite_18_218815_141735.meta\n",
      "C:\\Users\\AISG\\Documents\\Jonas\\Real_World_Test_DataBase_meta\\18\\218815\\Satellite_18_218815_141736.meta\n",
      "C:\\Users\\AISG\\Documents\\Jonas\\Real_World_Test_DataBase_meta\\18\\218815\\Satellite_18_218815_141737.meta\n",
      "C:\\Users\\AISG\\Documents\\Jonas\\Real_World_Test_DataBase_meta\\18\\218815\\Satellite_18_218815_141738.meta\n",
      "C:\\Users\\AISG\\Documents\\Jonas\\Real_World_Test_DataBase_meta\\18\\218815\\Satellite_18_218815_141739.meta\n",
      "C:\\Users\\AISG\\Documents\\Jonas\\Real_World_Test_DataBase_meta\\18\\218815\\Satellite_18_218815_141740.meta\n",
      "C:\\Users\\AISG\\Documents\\Jonas\\Real_World_Test_DataBase_meta\\18\\218815\\Satellite_18_218815_141741.meta\n",
      "C:\\Users\\AISG\\Documents\\Jonas\\Real_World_Test_DataBase_meta\\18\\218815\\Satellite_18_218815_141742.meta\n",
      "C:\\Users\\AISG\\Documents\\Jonas\\Real_World_Test_DataBase_meta\\18\\218815\\Satellite_18_218815_141743.meta\n",
      "C:\\Users\\AISG\\Documents\\Jonas\\Real_World_Test_DataBase_meta\\18\\218815\\Satellite_18_218815_141744.meta\n",
      "C:\\Users\\AISG\\Documents\\Jonas\\Real_World_Test_DataBase_meta\\18\\218815\\Satellite_18_218815_141745.meta\n",
      "C:\\Users\\AISG\\Documents\\Jonas\\Real_World_Test_DataBase_meta\\18\\218815\\Satellite_18_218815_141746.meta\n",
      "C:\\Users\\AISG\\Documents\\Jonas\\Real_World_Test_DataBase_meta\\18\\218815\\Satellite_18_218815_141747.meta\n",
      "C:\\Users\\AISG\\Documents\\Jonas\\Real_World_Test_DataBase_meta\\18\\218815\\Satellite_18_218815_141748.meta\n",
      "C:\\Users\\AISG\\Documents\\Jonas\\Real_World_Test_DataBase_meta\\18\\218815\\Satellite_18_218815_141749.meta\n",
      "C:\\Users\\AISG\\Documents\\Jonas\\Real_World_Test_DataBase_meta\\18\\218815\\Satellite_18_218815_141750.meta\n",
      "C:\\Users\\AISG\\Documents\\Jonas\\Real_World_Test_DataBase_meta\\18\\218815\\Satellite_18_218815_141751.meta\n",
      "C:\\Users\\AISG\\Documents\\Jonas\\Real_World_Test_DataBase_meta\\18\\218815\\Satellite_18_218815_141752.meta\n",
      "C:\\Users\\AISG\\Documents\\Jonas\\Real_World_Test_DataBase_meta\\18\\218815\\Satellite_18_218815_141753.meta\n",
      "C:\\Users\\AISG\\Documents\\Jonas\\Real_World_Test_DataBase_meta\\18\\218815\\Satellite_18_218815_141754.meta\n",
      "C:\\Users\\AISG\\Documents\\Jonas\\Real_World_Test_DataBase_meta\\18\\218815\\Satellite_18_218815_141755.meta\n",
      "C:\\Users\\AISG\\Documents\\Jonas\\Real_World_Test_DataBase_meta\\18\\218815\\Satellite_18_218815_141756.meta\n",
      "C:\\Users\\AISG\\Documents\\Jonas\\Real_World_Test_DataBase_meta\\18\\218815\\Satellite_18_218815_141757.meta\n",
      "C:\\Users\\AISG\\Documents\\Jonas\\Real_World_Test_DataBase_meta\\18\\218815\\Satellite_18_218815_141758.meta\n"
     ]
    },
    {
     "name": "stderr",
     "output_type": "stream",
     "text": [
      " 16%|████████████▍                                                                 | 351/2206 [00:00<00:04, 390.68it/s]"
     ]
    },
    {
     "name": "stdout",
     "output_type": "stream",
     "text": [
      "C:\\Users\\AISG\\Documents\\Jonas\\Real_World_Test_DataBase_meta\\18\\218815\\Satellite_18_218815_141759.meta\n",
      "C:\\Users\\AISG\\Documents\\Jonas\\Real_World_Test_DataBase_meta\\18\\218815\\Satellite_18_218815_141760.meta\n",
      "C:\\Users\\AISG\\Documents\\Jonas\\Real_World_Test_DataBase_meta\\18\\218815\\Satellite_18_218815_141761.meta\n",
      "C:\\Users\\AISG\\Documents\\Jonas\\Real_World_Test_DataBase_meta\\18\\218815\\Satellite_18_218815_141762.meta\n",
      "C:\\Users\\AISG\\Documents\\Jonas\\Real_World_Test_DataBase_meta\\18\\218815\\Satellite_18_218815_141763.meta\n",
      "C:\\Users\\AISG\\Documents\\Jonas\\Real_World_Test_DataBase_meta\\18\\218815\\Satellite_18_218815_141764.meta\n",
      "C:\\Users\\AISG\\Documents\\Jonas\\Real_World_Test_DataBase_meta\\18\\218815\\Satellite_18_218815_141765.meta\n",
      "C:\\Users\\AISG\\Documents\\Jonas\\Real_World_Test_DataBase_meta\\18\\218815\\Satellite_18_218815_141766.meta\n",
      "C:\\Users\\AISG\\Documents\\Jonas\\Real_World_Test_DataBase_meta\\18\\218815\\Satellite_18_218815_141767.meta\n",
      "C:\\Users\\AISG\\Documents\\Jonas\\Real_World_Test_DataBase_meta\\18\\218815\\Satellite_18_218815_141768.meta\n",
      "C:\\Users\\AISG\\Documents\\Jonas\\Real_World_Test_DataBase_meta\\18\\218815\\Satellite_18_218815_141769.meta\n",
      "C:\\Users\\AISG\\Documents\\Jonas\\Real_World_Test_DataBase_meta\\18\\218815\\Satellite_18_218815_141770.meta\n",
      "C:\\Users\\AISG\\Documents\\Jonas\\Real_World_Test_DataBase_meta\\18\\218815\\Satellite_18_218815_141771.meta\n",
      "C:\\Users\\AISG\\Documents\\Jonas\\Real_World_Test_DataBase_meta\\18\\218815\\Satellite_18_218815_141772.meta\n",
      "C:\\Users\\AISG\\Documents\\Jonas\\Real_World_Test_DataBase_meta\\18\\218815\\Satellite_18_218815_141773.meta\n",
      "C:\\Users\\AISG\\Documents\\Jonas\\Real_World_Test_DataBase_meta\\18\\218815\\Satellite_18_218815_141774.meta\n",
      "C:\\Users\\AISG\\Documents\\Jonas\\Real_World_Test_DataBase_meta\\18\\218815\\Satellite_18_218815_141775.meta\n",
      "C:\\Users\\AISG\\Documents\\Jonas\\Real_World_Test_DataBase_meta\\18\\218815\\Satellite_18_218815_141776.meta\n",
      "C:\\Users\\AISG\\Documents\\Jonas\\Real_World_Test_DataBase_meta\\18\\218815\\Satellite_18_218815_141777.meta\n",
      "C:\\Users\\AISG\\Documents\\Jonas\\Real_World_Test_DataBase_meta\\18\\218815\\Satellite_18_218815_141778.meta\n",
      "C:\\Users\\AISG\\Documents\\Jonas\\Real_World_Test_DataBase_meta\\18\\218815\\Satellite_18_218815_141779.meta\n",
      "C:\\Users\\AISG\\Documents\\Jonas\\Real_World_Test_DataBase_meta\\18\\218815\\Satellite_18_218815_141780.meta\n",
      "C:\\Users\\AISG\\Documents\\Jonas\\Real_World_Test_DataBase_meta\\18\\218815\\Satellite_18_218815_141781.meta\n",
      "C:\\Users\\AISG\\Documents\\Jonas\\Real_World_Test_DataBase_meta\\18\\218815\\Satellite_18_218815_141782.meta\n",
      "C:\\Users\\AISG\\Documents\\Jonas\\Real_World_Test_DataBase_meta\\18\\218815\\Satellite_18_218815_141783.meta\n",
      "C:\\Users\\AISG\\Documents\\Jonas\\Real_World_Test_DataBase_meta\\18\\218815\\Satellite_18_218815_141784.meta\n",
      "C:\\Users\\AISG\\Documents\\Jonas\\Real_World_Test_DataBase_meta\\18\\218815\\Satellite_18_218815_141785.meta\n",
      "C:\\Users\\AISG\\Documents\\Jonas\\Real_World_Test_DataBase_meta\\18\\218815\\Satellite_18_218815_141786.meta\n",
      "C:\\Users\\AISG\\Documents\\Jonas\\Real_World_Test_DataBase_meta\\18\\218815\\Satellite_18_218815_141787.meta\n",
      "C:\\Users\\AISG\\Documents\\Jonas\\Real_World_Test_DataBase_meta\\18\\218815\\Satellite_18_218815_141788.meta\n",
      "C:\\Users\\AISG\\Documents\\Jonas\\Real_World_Test_DataBase_meta\\18\\218815\\Satellite_18_218815_141789.meta\n",
      "C:\\Users\\AISG\\Documents\\Jonas\\Real_World_Test_DataBase_meta\\18\\218815\\Satellite_18_218815_141790.meta\n",
      "C:\\Users\\AISG\\Documents\\Jonas\\Real_World_Test_DataBase_meta\\18\\218815\\Satellite_18_218815_141791.meta\n",
      "C:\\Users\\AISG\\Documents\\Jonas\\Real_World_Test_DataBase_meta\\18\\218815\\Satellite_18_218815_141792.meta\n",
      "C:\\Users\\AISG\\Documents\\Jonas\\Real_World_Test_DataBase_meta\\18\\218815\\Satellite_18_218815_141793.meta\n",
      "C:\\Users\\AISG\\Documents\\Jonas\\Real_World_Test_DataBase_meta\\18\\218815\\Satellite_18_218815_141794.meta\n",
      "C:\\Users\\AISG\\Documents\\Jonas\\Real_World_Test_DataBase_meta\\18\\218815\\Satellite_18_218815_141795.meta\n",
      "C:\\Users\\AISG\\Documents\\Jonas\\Real_World_Test_DataBase_meta\\18\\218815\\Satellite_18_218815_141796.meta\n",
      "C:\\Users\\AISG\\Documents\\Jonas\\Real_World_Test_DataBase_meta\\18\\218815\\Satellite_18_218815_141797.meta\n",
      "C:\\Users\\AISG\\Documents\\Jonas\\Real_World_Test_DataBase_meta\\18\\218815\\Satellite_18_218815_141798.meta\n",
      "C:\\Users\\AISG\\Documents\\Jonas\\Real_World_Test_DataBase_meta\\18\\218815\\Satellite_18_218815_141799.meta\n",
      "C:\\Users\\AISG\\Documents\\Jonas\\Real_World_Test_DataBase_meta\\18\\218815\\Satellite_18_218815_141800.meta\n",
      "C:\\Users\\AISG\\Documents\\Jonas\\Real_World_Test_DataBase_meta\\18\\218815\\Satellite_18_218815_141801.meta\n",
      "C:\\Users\\AISG\\Documents\\Jonas\\Real_World_Test_DataBase_meta\\18\\218815\\Satellite_18_218815_141802.meta\n",
      "C:\\Users\\AISG\\Documents\\Jonas\\Real_World_Test_DataBase_meta\\18\\218815\\Satellite_18_218815_141803.meta\n",
      "C:\\Users\\AISG\\Documents\\Jonas\\Real_World_Test_DataBase_meta\\18\\218815\\Satellite_18_218815_141804.meta\n",
      "C:\\Users\\AISG\\Documents\\Jonas\\Real_World_Test_DataBase_meta\\18\\218815\\Satellite_18_218815_141805.meta\n",
      "C:\\Users\\AISG\\Documents\\Jonas\\Real_World_Test_DataBase_meta\\18\\218815\\Satellite_18_218815_141806.meta\n",
      "C:\\Users\\AISG\\Documents\\Jonas\\Real_World_Test_DataBase_meta\\18\\218815\\Satellite_18_218815_141807.meta\n",
      "C:\\Users\\AISG\\Documents\\Jonas\\Real_World_Test_DataBase_meta\\18\\218815\\Satellite_18_218815_141808.meta\n",
      "C:\\Users\\AISG\\Documents\\Jonas\\Real_World_Test_DataBase_meta\\18\\218815\\Satellite_18_218815_141809.meta\n",
      "C:\\Users\\AISG\\Documents\\Jonas\\Real_World_Test_DataBase_meta\\18\\218815\\Satellite_18_218815_141810.meta\n",
      "C:\\Users\\AISG\\Documents\\Jonas\\Real_World_Test_DataBase_meta\\18\\218815\\Satellite_18_218815_141811.meta\n",
      "C:\\Users\\AISG\\Documents\\Jonas\\Real_World_Test_DataBase_meta\\18\\218815\\Satellite_18_218815_141812.meta\n",
      "C:\\Users\\AISG\\Documents\\Jonas\\Real_World_Test_DataBase_meta\\18\\218815\\Satellite_18_218815_141813.meta\n",
      "C:\\Users\\AISG\\Documents\\Jonas\\Real_World_Test_DataBase_meta\\18\\218815\\Satellite_18_218815_141814.meta\n",
      "C:\\Users\\AISG\\Documents\\Jonas\\Real_World_Test_DataBase_meta\\18\\218815\\Satellite_18_218815_141815.meta\n",
      "C:\\Users\\AISG\\Documents\\Jonas\\Real_World_Test_DataBase_meta\\18\\218815\\Satellite_18_218815_141816.meta\n",
      "C:\\Users\\AISG\\Documents\\Jonas\\Real_World_Test_DataBase_meta\\18\\218815\\Satellite_18_218815_141817.meta\n",
      "C:\\Users\\AISG\\Documents\\Jonas\\Real_World_Test_DataBase_meta\\18\\218815\\Satellite_18_218815_141818.meta\n",
      "C:\\Users\\AISG\\Documents\\Jonas\\Real_World_Test_DataBase_meta\\18\\218815\\Satellite_18_218815_141819.meta\n",
      "C:\\Users\\AISG\\Documents\\Jonas\\Real_World_Test_DataBase_meta\\18\\218815\\Satellite_18_218815_141820.meta\n",
      "C:\\Users\\AISG\\Documents\\Jonas\\Real_World_Test_DataBase_meta\\18\\218815\\Satellite_18_218815_141821.meta\n",
      "C:\\Users\\AISG\\Documents\\Jonas\\Real_World_Test_DataBase_meta\\18\\218815\\Satellite_18_218815_141822.meta\n",
      "C:\\Users\\AISG\\Documents\\Jonas\\Real_World_Test_DataBase_meta\\18\\218815\\Satellite_18_218815_141823.meta\n",
      "C:\\Users\\AISG\\Documents\\Jonas\\Real_World_Test_DataBase_meta\\18\\218815\\Satellite_18_218815_141824.meta\n",
      "C:\\Users\\AISG\\Documents\\Jonas\\Real_World_Test_DataBase_meta\\18\\218815\\Satellite_18_218815_141825.meta\n",
      "C:\\Users\\AISG\\Documents\\Jonas\\Real_World_Test_DataBase_meta\\18\\218815\\Satellite_18_218815_141826.meta\n",
      "C:\\Users\\AISG\\Documents\\Jonas\\Real_World_Test_DataBase_meta\\18\\218815\\Satellite_18_218815_141827.meta\n",
      "C:\\Users\\AISG\\Documents\\Jonas\\Real_World_Test_DataBase_meta\\18\\218815\\Satellite_18_218815_141828.meta\n",
      "C:\\Users\\AISG\\Documents\\Jonas\\Real_World_Test_DataBase_meta\\18\\218815\\Satellite_18_218815_141829.meta\n",
      "C:\\Users\\AISG\\Documents\\Jonas\\Real_World_Test_DataBase_meta\\18\\218815\\Satellite_18_218815_141830.meta\n",
      "C:\\Users\\AISG\\Documents\\Jonas\\Real_World_Test_DataBase_meta\\18\\218815\\Satellite_18_218815_141831.meta\n",
      "C:\\Users\\AISG\\Documents\\Jonas\\Real_World_Test_DataBase_meta\\18\\218815\\Satellite_18_218815_141832.meta\n"
     ]
    },
    {
     "name": "stderr",
     "output_type": "stream",
     "text": [
      " 20%|███████████████▏                                                              | 431/2206 [00:01<00:04, 391.96it/s]"
     ]
    },
    {
     "name": "stdout",
     "output_type": "stream",
     "text": [
      "C:\\Users\\AISG\\Documents\\Jonas\\Real_World_Test_DataBase_meta\\18\\218815\\Satellite_18_218815_141833.meta\n",
      "C:\\Users\\AISG\\Documents\\Jonas\\Real_World_Test_DataBase_meta\\18\\218815\\Satellite_18_218815_141834.meta\n",
      "C:\\Users\\AISG\\Documents\\Jonas\\Real_World_Test_DataBase_meta\\18\\218815\\Satellite_18_218815_141835.meta\n",
      "C:\\Users\\AISG\\Documents\\Jonas\\Real_World_Test_DataBase_meta\\18\\218815\\Satellite_18_218815_141836.meta\n",
      "C:\\Users\\AISG\\Documents\\Jonas\\Real_World_Test_DataBase_meta\\18\\218815\\Satellite_18_218815_141837.meta\n",
      "C:\\Users\\AISG\\Documents\\Jonas\\Real_World_Test_DataBase_meta\\18\\218815\\Satellite_18_218815_141838.meta\n",
      "C:\\Users\\AISG\\Documents\\Jonas\\Real_World_Test_DataBase_meta\\18\\218815\\Satellite_18_218815_141839.meta\n",
      "C:\\Users\\AISG\\Documents\\Jonas\\Real_World_Test_DataBase_meta\\18\\218815\\Satellite_18_218815_141840.meta\n",
      "C:\\Users\\AISG\\Documents\\Jonas\\Real_World_Test_DataBase_meta\\18\\218815\\Satellite_18_218815_141841.meta\n",
      "C:\\Users\\AISG\\Documents\\Jonas\\Real_World_Test_DataBase_meta\\18\\218815\\Satellite_18_218815_141842.meta\n",
      "C:\\Users\\AISG\\Documents\\Jonas\\Real_World_Test_DataBase_meta\\18\\218815\\Satellite_18_218815_141843.meta\n",
      "C:\\Users\\AISG\\Documents\\Jonas\\Real_World_Test_DataBase_meta\\18\\218815\\Satellite_18_218815_141844.meta\n",
      "C:\\Users\\AISG\\Documents\\Jonas\\Real_World_Test_DataBase_meta\\18\\218815\\Satellite_18_218815_141845.meta\n",
      "C:\\Users\\AISG\\Documents\\Jonas\\Real_World_Test_DataBase_meta\\18\\218815\\Satellite_18_218815_141846.meta\n",
      "C:\\Users\\AISG\\Documents\\Jonas\\Real_World_Test_DataBase_meta\\18\\218815\\Satellite_18_218815_141847.meta\n",
      "C:\\Users\\AISG\\Documents\\Jonas\\Real_World_Test_DataBase_meta\\18\\218815\\Satellite_18_218815_141848.meta\n",
      "C:\\Users\\AISG\\Documents\\Jonas\\Real_World_Test_DataBase_meta\\18\\218815\\Satellite_18_218815_141849.meta\n",
      "C:\\Users\\AISG\\Documents\\Jonas\\Real_World_Test_DataBase_meta\\18\\218815\\Satellite_18_218815_141850.meta\n",
      "C:\\Users\\AISG\\Documents\\Jonas\\Real_World_Test_DataBase_meta\\18\\218815\\Satellite_18_218815_141851.meta\n",
      "C:\\Users\\AISG\\Documents\\Jonas\\Real_World_Test_DataBase_meta\\18\\218815\\Satellite_18_218815_141852.meta\n",
      "C:\\Users\\AISG\\Documents\\Jonas\\Real_World_Test_DataBase_meta\\18\\218815\\Satellite_18_218815_141853.meta\n",
      "C:\\Users\\AISG\\Documents\\Jonas\\Real_World_Test_DataBase_meta\\18\\218815\\Satellite_18_218815_141854.meta\n",
      "C:\\Users\\AISG\\Documents\\Jonas\\Real_World_Test_DataBase_meta\\18\\218815\\Satellite_18_218815_141855.meta\n",
      "C:\\Users\\AISG\\Documents\\Jonas\\Real_World_Test_DataBase_meta\\18\\218815\\Satellite_18_218815_141856.meta\n",
      "C:\\Users\\AISG\\Documents\\Jonas\\Real_World_Test_DataBase_meta\\18\\218815\\Satellite_18_218815_141857.meta\n",
      "C:\\Users\\AISG\\Documents\\Jonas\\Real_World_Test_DataBase_meta\\18\\218815\\Satellite_18_218815_141858.meta\n",
      "C:\\Users\\AISG\\Documents\\Jonas\\Real_World_Test_DataBase_meta\\18\\218815\\Satellite_18_218815_141859.meta\n",
      "C:\\Users\\AISG\\Documents\\Jonas\\Real_World_Test_DataBase_meta\\18\\218815\\Satellite_18_218815_141860.meta\n",
      "C:\\Users\\AISG\\Documents\\Jonas\\Real_World_Test_DataBase_meta\\18\\218815\\Satellite_18_218815_141861.meta\n",
      "C:\\Users\\AISG\\Documents\\Jonas\\Real_World_Test_DataBase_meta\\18\\218815\\Satellite_18_218815_141862.meta\n",
      "C:\\Users\\AISG\\Documents\\Jonas\\Real_World_Test_DataBase_meta\\18\\218815\\Satellite_18_218815_141863.meta\n",
      "C:\\Users\\AISG\\Documents\\Jonas\\Real_World_Test_DataBase_meta\\18\\218815\\Satellite_18_218815_141864.meta\n",
      "C:\\Users\\AISG\\Documents\\Jonas\\Real_World_Test_DataBase_meta\\18\\218815\\Satellite_18_218815_141865.meta\n",
      "C:\\Users\\AISG\\Documents\\Jonas\\Real_World_Test_DataBase_meta\\18\\218815\\Satellite_18_218815_141866.meta\n",
      "C:\\Users\\AISG\\Documents\\Jonas\\Real_World_Test_DataBase_meta\\18\\218815\\Satellite_18_218815_141867.meta\n",
      "C:\\Users\\AISG\\Documents\\Jonas\\Real_World_Test_DataBase_meta\\18\\218815\\Satellite_18_218815_141868.meta\n",
      "C:\\Users\\AISG\\Documents\\Jonas\\Real_World_Test_DataBase_meta\\18\\218815\\Satellite_18_218815_141869.meta\n",
      "C:\\Users\\AISG\\Documents\\Jonas\\Real_World_Test_DataBase_meta\\18\\218815\\Satellite_18_218815_141870.meta\n",
      "C:\\Users\\AISG\\Documents\\Jonas\\Real_World_Test_DataBase_meta\\18\\218815\\Satellite_18_218815_141871.meta\n",
      "C:\\Users\\AISG\\Documents\\Jonas\\Real_World_Test_DataBase_meta\\18\\218815\\Satellite_18_218815_141872.meta\n",
      "C:\\Users\\AISG\\Documents\\Jonas\\Real_World_Test_DataBase_meta\\18\\218815\\Satellite_18_218815_141873.meta\n",
      "C:\\Users\\AISG\\Documents\\Jonas\\Real_World_Test_DataBase_meta\\18\\218815\\Satellite_18_218815_141874.meta\n",
      "C:\\Users\\AISG\\Documents\\Jonas\\Real_World_Test_DataBase_meta\\18\\218815\\Satellite_18_218815_141875.meta\n",
      "C:\\Users\\AISG\\Documents\\Jonas\\Real_World_Test_DataBase_meta\\18\\218815\\Satellite_18_218815_141876.meta\n",
      "C:\\Users\\AISG\\Documents\\Jonas\\Real_World_Test_DataBase_meta\\18\\218815\\Satellite_18_218815_141877.meta\n",
      "C:\\Users\\AISG\\Documents\\Jonas\\Real_World_Test_DataBase_meta\\18\\218815\\Satellite_18_218815_141878.meta\n",
      "C:\\Users\\AISG\\Documents\\Jonas\\Real_World_Test_DataBase_meta\\18\\218815\\Satellite_18_218815_141879.meta\n",
      "C:\\Users\\AISG\\Documents\\Jonas\\Real_World_Test_DataBase_meta\\18\\218815\\Satellite_18_218815_141880.meta\n",
      "C:\\Users\\AISG\\Documents\\Jonas\\Real_World_Test_DataBase_meta\\18\\218815\\Satellite_18_218815_141881.meta\n",
      "C:\\Users\\AISG\\Documents\\Jonas\\Real_World_Test_DataBase_meta\\18\\218815\\Satellite_18_218815_141882.meta\n",
      "C:\\Users\\AISG\\Documents\\Jonas\\Real_World_Test_DataBase_meta\\18\\218815\\Satellite_18_218815_141883.meta\n",
      "C:\\Users\\AISG\\Documents\\Jonas\\Real_World_Test_DataBase_meta\\18\\218815\\Satellite_18_218815_141884.meta\n",
      "C:\\Users\\AISG\\Documents\\Jonas\\Real_World_Test_DataBase_meta\\18\\218815\\Satellite_18_218815_141885.meta\n",
      "C:\\Users\\AISG\\Documents\\Jonas\\Real_World_Test_DataBase_meta\\18\\218815\\Satellite_18_218815_141886.meta\n",
      "C:\\Users\\AISG\\Documents\\Jonas\\Real_World_Test_DataBase_meta\\18\\218815\\Satellite_18_218815_141887.meta\n",
      "C:\\Users\\AISG\\Documents\\Jonas\\Real_World_Test_DataBase_meta\\18\\218815\\Satellite_18_218815_141888.meta\n",
      "C:\\Users\\AISG\\Documents\\Jonas\\Real_World_Test_DataBase_meta\\18\\218815\\Satellite_18_218815_141889.meta\n",
      "C:\\Users\\AISG\\Documents\\Jonas\\Real_World_Test_DataBase_meta\\18\\218815\\Satellite_18_218815_141890.meta\n",
      "C:\\Users\\AISG\\Documents\\Jonas\\Real_World_Test_DataBase_meta\\18\\218815\\Satellite_18_218815_141891.meta\n",
      "C:\\Users\\AISG\\Documents\\Jonas\\Real_World_Test_DataBase_meta\\18\\218815\\Satellite_18_218815_141892.meta\n",
      "C:\\Users\\AISG\\Documents\\Jonas\\Real_World_Test_DataBase_meta\\18\\218815\\Satellite_18_218815_141893.meta\n",
      "C:\\Users\\AISG\\Documents\\Jonas\\Real_World_Test_DataBase_meta\\18\\218815\\Satellite_18_218815_141894.meta\n",
      "C:\\Users\\AISG\\Documents\\Jonas\\Real_World_Test_DataBase_meta\\18\\218815\\Satellite_18_218815_141895.meta\n",
      "C:\\Users\\AISG\\Documents\\Jonas\\Real_World_Test_DataBase_meta\\18\\218815\\Satellite_18_218815_141896.meta\n",
      "C:\\Users\\AISG\\Documents\\Jonas\\Real_World_Test_DataBase_meta\\18\\218815\\Satellite_18_218815_141897.meta\n",
      "C:\\Users\\AISG\\Documents\\Jonas\\Real_World_Test_DataBase_meta\\18\\218815\\Satellite_18_218815_141898.meta\n",
      "C:\\Users\\AISG\\Documents\\Jonas\\Real_World_Test_DataBase_meta\\18\\218815\\Satellite_18_218815_141899.meta\n",
      "C:\\Users\\AISG\\Documents\\Jonas\\Real_World_Test_DataBase_meta\\18\\218815\\Satellite_18_218815_141900.meta\n",
      "C:\\Users\\AISG\\Documents\\Jonas\\Real_World_Test_DataBase_meta\\18\\218815\\Satellite_18_218815_141901.meta\n",
      "C:\\Users\\AISG\\Documents\\Jonas\\Real_World_Test_DataBase_meta\\18\\218815\\Satellite_18_218815_141902.meta\n",
      "C:\\Users\\AISG\\Documents\\Jonas\\Real_World_Test_DataBase_meta\\18\\218815\\Satellite_18_218815_141903.meta\n",
      "C:\\Users\\AISG\\Documents\\Jonas\\Real_World_Test_DataBase_meta\\18\\218815\\Satellite_18_218815_141904.meta\n"
     ]
    },
    {
     "name": "stderr",
     "output_type": "stream",
     "text": [
      "\r",
      " 21%|████████████████▋                                                             | 471/2206 [00:01<00:04, 393.49it/s]"
     ]
    },
    {
     "name": "stdout",
     "output_type": "stream",
     "text": [
      "C:\\Users\\AISG\\Documents\\Jonas\\Real_World_Test_DataBase_meta\\18\\218815\\Satellite_18_218815_141905.meta\n",
      "C:\\Users\\AISG\\Documents\\Jonas\\Real_World_Test_DataBase_meta\\18\\218815\\Satellite_18_218815_141906.meta\n",
      "C:\\Users\\AISG\\Documents\\Jonas\\Real_World_Test_DataBase_meta\\18\\218815\\Satellite_18_218815_141907.meta\n",
      "C:\\Users\\AISG\\Documents\\Jonas\\Real_World_Test_DataBase_meta\\18\\218815\\Satellite_18_218815_141908.meta\n",
      "C:\\Users\\AISG\\Documents\\Jonas\\Real_World_Test_DataBase_meta\\18\\218815\\Satellite_18_218815_141909.meta\n",
      "C:\\Users\\AISG\\Documents\\Jonas\\Real_World_Test_DataBase_meta\\18\\218815\\Satellite_18_218815_141910.meta\n",
      "C:\\Users\\AISG\\Documents\\Jonas\\Real_World_Test_DataBase_meta\\18\\218815\\Satellite_18_218815_141911.meta\n",
      "C:\\Users\\AISG\\Documents\\Jonas\\Real_World_Test_DataBase_meta\\18\\218815\\Satellite_18_218815_141912.meta\n",
      "C:\\Users\\AISG\\Documents\\Jonas\\Real_World_Test_DataBase_meta\\18\\218815\\Satellite_18_218815_141913.meta\n",
      "C:\\Users\\AISG\\Documents\\Jonas\\Real_World_Test_DataBase_meta\\18\\218815\\Satellite_18_218815_141914.meta\n",
      "C:\\Users\\AISG\\Documents\\Jonas\\Real_World_Test_DataBase_meta\\18\\218815\\Satellite_18_218815_141915.meta\n",
      "C:\\Users\\AISG\\Documents\\Jonas\\Real_World_Test_DataBase_meta\\18\\218815\\Satellite_18_218815_141916.meta\n",
      "C:\\Users\\AISG\\Documents\\Jonas\\Real_World_Test_DataBase_meta\\18\\218815\\Satellite_18_218815_141917.meta\n",
      "C:\\Users\\AISG\\Documents\\Jonas\\Real_World_Test_DataBase_meta\\18\\218815\\Satellite_18_218815_141918.meta\n",
      "C:\\Users\\AISG\\Documents\\Jonas\\Real_World_Test_DataBase_meta\\18\\218815\\Satellite_18_218815_141919.meta\n",
      "C:\\Users\\AISG\\Documents\\Jonas\\Real_World_Test_DataBase_meta\\18\\218815\\Satellite_18_218815_141920.meta\n",
      "C:\\Users\\AISG\\Documents\\Jonas\\Real_World_Test_DataBase_meta\\18\\218815\\Satellite_18_218815_141921.meta\n",
      "C:\\Users\\AISG\\Documents\\Jonas\\Real_World_Test_DataBase_meta\\18\\218815\\Satellite_18_218815_141922.meta\n",
      "C:\\Users\\AISG\\Documents\\Jonas\\Real_World_Test_DataBase_meta\\18\\218815\\Satellite_18_218815_141923.meta\n",
      "C:\\Users\\AISG\\Documents\\Jonas\\Real_World_Test_DataBase_meta\\18\\218815\\Satellite_18_218815_141924.meta\n",
      "C:\\Users\\AISG\\Documents\\Jonas\\Real_World_Test_DataBase_meta\\18\\218815\\Satellite_18_218815_141925.meta\n",
      "C:\\Users\\AISG\\Documents\\Jonas\\Real_World_Test_DataBase_meta\\18\\218815\\Satellite_18_218815_141926.meta\n",
      "C:\\Users\\AISG\\Documents\\Jonas\\Real_World_Test_DataBase_meta\\18\\218815\\Satellite_18_218815_141927.meta\n",
      "C:\\Users\\AISG\\Documents\\Jonas\\Real_World_Test_DataBase_meta\\18\\218815\\Satellite_18_218815_141928.meta\n",
      "C:\\Users\\AISG\\Documents\\Jonas\\Real_World_Test_DataBase_meta\\18\\218815\\Satellite_18_218815_141929.meta\n",
      "C:\\Users\\AISG\\Documents\\Jonas\\Real_World_Test_DataBase_meta\\18\\218815\\Satellite_18_218815_141930.meta\n",
      "C:\\Users\\AISG\\Documents\\Jonas\\Real_World_Test_DataBase_meta\\18\\218815\\Satellite_18_218815_141931.meta\n",
      "C:\\Users\\AISG\\Documents\\Jonas\\Real_World_Test_DataBase_meta\\18\\218815\\Satellite_18_218815_141932.meta\n",
      "C:\\Users\\AISG\\Documents\\Jonas\\Real_World_Test_DataBase_meta\\18\\218815\\Satellite_18_218815_141933.meta\n",
      "C:\\Users\\AISG\\Documents\\Jonas\\Real_World_Test_DataBase_meta\\18\\218815\\Satellite_18_218815_141934.meta\n",
      "C:\\Users\\AISG\\Documents\\Jonas\\Real_World_Test_DataBase_meta\\18\\218815\\Satellite_18_218815_141935.meta\n",
      "C:\\Users\\AISG\\Documents\\Jonas\\Real_World_Test_DataBase_meta\\18\\218815\\Satellite_18_218815_141936.meta\n",
      "C:\\Users\\AISG\\Documents\\Jonas\\Real_World_Test_DataBase_meta\\18\\218815\\Satellite_18_218815_141937.meta\n",
      "C:\\Users\\AISG\\Documents\\Jonas\\Real_World_Test_DataBase_meta\\18\\218815\\Satellite_18_218815_141938.meta\n",
      "C:\\Users\\AISG\\Documents\\Jonas\\Real_World_Test_DataBase_meta\\18\\218815\\Satellite_18_218815_141939.meta\n",
      "C:\\Users\\AISG\\Documents\\Jonas\\Real_World_Test_DataBase_meta\\18\\218815\\Satellite_18_218815_141940.meta\n",
      "C:\\Users\\AISG\\Documents\\Jonas\\Real_World_Test_DataBase_meta\\18\\218815\\Satellite_18_218815_141941.meta\n",
      "C:\\Users\\AISG\\Documents\\Jonas\\Real_World_Test_DataBase_meta\\18\\218815\\Satellite_18_218815_141942.meta\n",
      "C:\\Users\\AISG\\Documents\\Jonas\\Real_World_Test_DataBase_meta\\18\\218815\\Satellite_18_218815_141943.meta\n",
      "C:\\Users\\AISG\\Documents\\Jonas\\Real_World_Test_DataBase_meta\\18\\218815\\Satellite_18_218815_141944.meta\n",
      "C:\\Users\\AISG\\Documents\\Jonas\\Real_World_Test_DataBase_meta\\18\\218815\\Satellite_18_218815_141945.meta\n",
      "C:\\Users\\AISG\\Documents\\Jonas\\Real_World_Test_DataBase_meta\\18\\218815\\Satellite_18_218815_141946.meta\n",
      "C:\\Users\\AISG\\Documents\\Jonas\\Real_World_Test_DataBase_meta\\18\\218815\\Satellite_18_218815_141947.meta\n",
      "C:\\Users\\AISG\\Documents\\Jonas\\Real_World_Test_DataBase_meta\\18\\218815\\Satellite_18_218815_141948.meta\n",
      "C:\\Users\\AISG\\Documents\\Jonas\\Real_World_Test_DataBase_meta\\18\\218815\\Satellite_18_218815_141949.meta\n",
      "C:\\Users\\AISG\\Documents\\Jonas\\Real_World_Test_DataBase_meta\\18\\218815\\Satellite_18_218815_141950.meta\n",
      "C:\\Users\\AISG\\Documents\\Jonas\\Real_World_Test_DataBase_meta\\18\\218815\\Satellite_18_218815_141951.meta\n",
      "C:\\Users\\AISG\\Documents\\Jonas\\Real_World_Test_DataBase_meta\\18\\218815\\Satellite_18_218815_141952.meta\n",
      "C:\\Users\\AISG\\Documents\\Jonas\\Real_World_Test_DataBase_meta\\18\\218815\\Satellite_18_218815_141953.meta\n",
      "C:\\Users\\AISG\\Documents\\Jonas\\Real_World_Test_DataBase_meta\\18\\218815\\Satellite_18_218815_141954.meta\n",
      "C:\\Users\\AISG\\Documents\\Jonas\\Real_World_Test_DataBase_meta\\18\\218815\\Satellite_18_218815_141955.meta\n",
      "C:\\Users\\AISG\\Documents\\Jonas\\Real_World_Test_DataBase_meta\\18\\218815\\Satellite_18_218815_141956.meta\n",
      "C:\\Users\\AISG\\Documents\\Jonas\\Real_World_Test_DataBase_meta\\18\\218815\\Satellite_18_218815_141957.meta\n",
      "C:\\Users\\AISG\\Documents\\Jonas\\Real_World_Test_DataBase_meta\\18\\218815\\Satellite_18_218815_141958.meta\n",
      "C:\\Users\\AISG\\Documents\\Jonas\\Real_World_Test_DataBase_meta\\18\\218815\\Satellite_18_218815_141959.meta\n",
      "C:\\Users\\AISG\\Documents\\Jonas\\Real_World_Test_DataBase_meta\\18\\218815\\Satellite_18_218815_141960.meta\n",
      "C:\\Users\\AISG\\Documents\\Jonas\\Real_World_Test_DataBase_meta\\18\\218815\\Satellite_18_218815_141961.meta\n",
      "C:\\Users\\AISG\\Documents\\Jonas\\Real_World_Test_DataBase_meta\\18\\218815\\Satellite_18_218815_141962.meta\n",
      "C:\\Users\\AISG\\Documents\\Jonas\\Real_World_Test_DataBase_meta\\18\\218815\\Satellite_18_218815_141963.meta\n",
      "C:\\Users\\AISG\\Documents\\Jonas\\Real_World_Test_DataBase_meta\\18\\218815\\Satellite_18_218815_141964.meta\n",
      "C:\\Users\\AISG\\Documents\\Jonas\\Real_World_Test_DataBase_meta\\18\\218815\\Satellite_18_218815_141965.meta\n",
      "C:\\Users\\AISG\\Documents\\Jonas\\Real_World_Test_DataBase_meta\\18\\218815\\Satellite_18_218815_141966.meta\n",
      "C:\\Users\\AISG\\Documents\\Jonas\\Real_World_Test_DataBase_meta\\18\\218815\\Satellite_18_218815_141967.meta\n",
      "C:\\Users\\AISG\\Documents\\Jonas\\Real_World_Test_DataBase_meta\\18\\218815\\Satellite_18_218815_141968.meta\n",
      "C:\\Users\\AISG\\Documents\\Jonas\\Real_World_Test_DataBase_meta\\18\\218815\\Satellite_18_218815_141969.meta\n",
      "C:\\Users\\AISG\\Documents\\Jonas\\Real_World_Test_DataBase_meta\\18\\218815\\Satellite_18_218815_141970.meta\n",
      "C:\\Users\\AISG\\Documents\\Jonas\\Real_World_Test_DataBase_meta\\18\\218815\\Satellite_18_218815_141971.meta\n",
      "C:\\Users\\AISG\\Documents\\Jonas\\Real_World_Test_DataBase_meta\\18\\218815\\Satellite_18_218815_141972.meta\n",
      "C:\\Users\\AISG\\Documents\\Jonas\\Real_World_Test_DataBase_meta\\18\\218815\\Satellite_18_218815_141973.meta\n",
      "C:\\Users\\AISG\\Documents\\Jonas\\Real_World_Test_DataBase_meta\\18\\218815\\Satellite_18_218815_141974.meta\n",
      "C:\\Users\\AISG\\Documents\\Jonas\\Real_World_Test_DataBase_meta\\18\\218815\\Satellite_18_218815_141975.meta\n",
      "C:\\Users\\AISG\\Documents\\Jonas\\Real_World_Test_DataBase_meta\\18\\218815\\Satellite_18_218815_141976.meta\n",
      "C:\\Users\\AISG\\Documents\\Jonas\\Real_World_Test_DataBase_meta\\18\\218815\\Satellite_18_218815_141977.meta\n",
      "C:\\Users\\AISG\\Documents\\Jonas\\Real_World_Test_DataBase_meta\\18\\218815\\Satellite_18_218815_141978.meta\n",
      "C:\\Users\\AISG\\Documents\\Jonas\\Real_World_Test_DataBase_meta\\18\\218815\\Satellite_18_218815_141979.meta\n",
      "C:\\Users\\AISG\\Documents\\Jonas\\Real_World_Test_DataBase_meta\\18\\218815\\Satellite_18_218815_141980.meta\n"
     ]
    },
    {
     "name": "stderr",
     "output_type": "stream",
     "text": [
      " 25%|███████████████████▍                                                          | 551/2206 [00:01<00:04, 394.16it/s]"
     ]
    },
    {
     "name": "stdout",
     "output_type": "stream",
     "text": [
      "C:\\Users\\AISG\\Documents\\Jonas\\Real_World_Test_DataBase_meta\\18\\218815\\Satellite_18_218815_141981.meta\n",
      "C:\\Users\\AISG\\Documents\\Jonas\\Real_World_Test_DataBase_meta\\18\\218815\\Satellite_18_218815_141982.meta\n",
      "C:\\Users\\AISG\\Documents\\Jonas\\Real_World_Test_DataBase_meta\\18\\218815\\Satellite_18_218815_141983.meta\n",
      "C:\\Users\\AISG\\Documents\\Jonas\\Real_World_Test_DataBase_meta\\18\\218815\\Satellite_18_218815_141984.meta\n",
      "C:\\Users\\AISG\\Documents\\Jonas\\Real_World_Test_DataBase_meta\\18\\218815\\Satellite_18_218815_141985.meta\n",
      "C:\\Users\\AISG\\Documents\\Jonas\\Real_World_Test_DataBase_meta\\18\\218815\\Satellite_18_218815_141986.meta\n",
      "C:\\Users\\AISG\\Documents\\Jonas\\Real_World_Test_DataBase_meta\\18\\218815\\Satellite_18_218815_141987.meta\n",
      "C:\\Users\\AISG\\Documents\\Jonas\\Real_World_Test_DataBase_meta\\18\\218815\\Satellite_18_218815_141988.meta\n",
      "C:\\Users\\AISG\\Documents\\Jonas\\Real_World_Test_DataBase_meta\\18\\218815\\Satellite_18_218815_141989.meta\n",
      "C:\\Users\\AISG\\Documents\\Jonas\\Real_World_Test_DataBase_meta\\18\\218815\\Satellite_18_218815_141990.meta\n",
      "C:\\Users\\AISG\\Documents\\Jonas\\Real_World_Test_DataBase_meta\\18\\218815\\Satellite_18_218815_141991.meta\n",
      "C:\\Users\\AISG\\Documents\\Jonas\\Real_World_Test_DataBase_meta\\18\\218815\\Satellite_18_218815_141992.meta\n",
      "C:\\Users\\AISG\\Documents\\Jonas\\Real_World_Test_DataBase_meta\\18\\218815\\Satellite_18_218815_141993.meta\n",
      "C:\\Users\\AISG\\Documents\\Jonas\\Real_World_Test_DataBase_meta\\18\\218815\\Satellite_18_218815_141994.meta\n",
      "C:\\Users\\AISG\\Documents\\Jonas\\Real_World_Test_DataBase_meta\\18\\218815\\Satellite_18_218815_141995.meta\n",
      "C:\\Users\\AISG\\Documents\\Jonas\\Real_World_Test_DataBase_meta\\18\\218815\\Satellite_18_218815_141996.meta\n",
      "C:\\Users\\AISG\\Documents\\Jonas\\Real_World_Test_DataBase_meta\\18\\218815\\Satellite_18_218815_141997.meta\n",
      "C:\\Users\\AISG\\Documents\\Jonas\\Real_World_Test_DataBase_meta\\18\\218815\\Satellite_18_218815_141998.meta\n",
      "C:\\Users\\AISG\\Documents\\Jonas\\Real_World_Test_DataBase_meta\\18\\218815\\Satellite_18_218815_141999.meta\n",
      "C:\\Users\\AISG\\Documents\\Jonas\\Real_World_Test_DataBase_meta\\18\\218815\\Satellite_18_218815_142000.meta\n",
      "C:\\Users\\AISG\\Documents\\Jonas\\Real_World_Test_DataBase_meta\\18\\218815\\Satellite_18_218815_142001.meta\n",
      "C:\\Users\\AISG\\Documents\\Jonas\\Real_World_Test_DataBase_meta\\18\\218815\\Satellite_18_218815_142002.meta\n",
      "C:\\Users\\AISG\\Documents\\Jonas\\Real_World_Test_DataBase_meta\\18\\218815\\Satellite_18_218815_142003.meta\n",
      "C:\\Users\\AISG\\Documents\\Jonas\\Real_World_Test_DataBase_meta\\18\\218815\\Satellite_18_218815_142004.meta\n",
      "C:\\Users\\AISG\\Documents\\Jonas\\Real_World_Test_DataBase_meta\\18\\218815\\Satellite_18_218815_142005.meta\n",
      "C:\\Users\\AISG\\Documents\\Jonas\\Real_World_Test_DataBase_meta\\18\\218815\\Satellite_18_218815_142006.meta\n",
      "C:\\Users\\AISG\\Documents\\Jonas\\Real_World_Test_DataBase_meta\\18\\218815\\Satellite_18_218815_142007.meta\n",
      "C:\\Users\\AISG\\Documents\\Jonas\\Real_World_Test_DataBase_meta\\18\\218815\\Satellite_18_218815_142008.meta\n",
      "C:\\Users\\AISG\\Documents\\Jonas\\Real_World_Test_DataBase_meta\\18\\218815\\Satellite_18_218815_142009.meta\n",
      "C:\\Users\\AISG\\Documents\\Jonas\\Real_World_Test_DataBase_meta\\18\\218815\\Satellite_18_218815_142010.meta\n",
      "C:\\Users\\AISG\\Documents\\Jonas\\Real_World_Test_DataBase_meta\\18\\218815\\Satellite_18_218815_142011.meta\n",
      "C:\\Users\\AISG\\Documents\\Jonas\\Real_World_Test_DataBase_meta\\18\\218815\\Satellite_18_218815_142012.meta\n",
      "C:\\Users\\AISG\\Documents\\Jonas\\Real_World_Test_DataBase_meta\\18\\218815\\Satellite_18_218815_142013.meta\n",
      "C:\\Users\\AISG\\Documents\\Jonas\\Real_World_Test_DataBase_meta\\18\\218815\\Satellite_18_218815_142014.meta\n",
      "C:\\Users\\AISG\\Documents\\Jonas\\Real_World_Test_DataBase_meta\\18\\218815\\Satellite_18_218815_142015.meta\n",
      "C:\\Users\\AISG\\Documents\\Jonas\\Real_World_Test_DataBase_meta\\18\\218815\\Satellite_18_218815_142016.meta\n",
      "C:\\Users\\AISG\\Documents\\Jonas\\Real_World_Test_DataBase_meta\\18\\218815\\Satellite_18_218815_142017.meta\n",
      "C:\\Users\\AISG\\Documents\\Jonas\\Real_World_Test_DataBase_meta\\18\\218815\\Satellite_18_218815_142018.meta\n",
      "C:\\Users\\AISG\\Documents\\Jonas\\Real_World_Test_DataBase_meta\\18\\218815\\Satellite_18_218815_142019.meta\n",
      "C:\\Users\\AISG\\Documents\\Jonas\\Real_World_Test_DataBase_meta\\18\\218815\\Satellite_18_218815_142020.meta\n",
      "C:\\Users\\AISG\\Documents\\Jonas\\Real_World_Test_DataBase_meta\\18\\218815\\Satellite_18_218815_142021.meta\n",
      "C:\\Users\\AISG\\Documents\\Jonas\\Real_World_Test_DataBase_meta\\18\\218815\\Satellite_18_218815_142022.meta\n",
      "C:\\Users\\AISG\\Documents\\Jonas\\Real_World_Test_DataBase_meta\\18\\218815\\Satellite_18_218815_142023.meta\n",
      "C:\\Users\\AISG\\Documents\\Jonas\\Real_World_Test_DataBase_meta\\18\\218815\\Satellite_18_218815_142024.meta\n",
      "C:\\Users\\AISG\\Documents\\Jonas\\Real_World_Test_DataBase_meta\\18\\218815\\Satellite_18_218815_142025.meta\n",
      "C:\\Users\\AISG\\Documents\\Jonas\\Real_World_Test_DataBase_meta\\18\\218815\\Satellite_18_218815_142026.meta\n",
      "C:\\Users\\AISG\\Documents\\Jonas\\Real_World_Test_DataBase_meta\\18\\218815\\Satellite_18_218815_142027.meta\n",
      "C:\\Users\\AISG\\Documents\\Jonas\\Real_World_Test_DataBase_meta\\18\\218815\\Satellite_18_218815_142028.meta\n",
      "C:\\Users\\AISG\\Documents\\Jonas\\Real_World_Test_DataBase_meta\\18\\218815\\Satellite_18_218815_142029.meta\n",
      "C:\\Users\\AISG\\Documents\\Jonas\\Real_World_Test_DataBase_meta\\18\\218815\\Satellite_18_218815_142030.meta\n",
      "C:\\Users\\AISG\\Documents\\Jonas\\Real_World_Test_DataBase_meta\\18\\218815\\Satellite_18_218815_142031.meta\n",
      "C:\\Users\\AISG\\Documents\\Jonas\\Real_World_Test_DataBase_meta\\18\\218815\\Satellite_18_218815_142032.meta\n",
      "C:\\Users\\AISG\\Documents\\Jonas\\Real_World_Test_DataBase_meta\\18\\218815\\Satellite_18_218815_142033.meta\n",
      "C:\\Users\\AISG\\Documents\\Jonas\\Real_World_Test_DataBase_meta\\18\\218815\\Satellite_18_218815_142034.meta\n",
      "C:\\Users\\AISG\\Documents\\Jonas\\Real_World_Test_DataBase_meta\\18\\218815\\Satellite_18_218815_142035.meta\n",
      "C:\\Users\\AISG\\Documents\\Jonas\\Real_World_Test_DataBase_meta\\18\\218815\\Satellite_18_218815_142036.meta\n",
      "C:\\Users\\AISG\\Documents\\Jonas\\Real_World_Test_DataBase_meta\\18\\218815\\Satellite_18_218815_142037.meta\n",
      "C:\\Users\\AISG\\Documents\\Jonas\\Real_World_Test_DataBase_meta\\18\\218815\\Satellite_18_218815_142038.meta\n",
      "C:\\Users\\AISG\\Documents\\Jonas\\Real_World_Test_DataBase_meta\\18\\218815\\Satellite_18_218815_142039.meta\n",
      "C:\\Users\\AISG\\Documents\\Jonas\\Real_World_Test_DataBase_meta\\18\\218815\\Satellite_18_218815_142040.meta\n",
      "C:\\Users\\AISG\\Documents\\Jonas\\Real_World_Test_DataBase_meta\\18\\218815\\Satellite_18_218815_142041.meta\n",
      "C:\\Users\\AISG\\Documents\\Jonas\\Real_World_Test_DataBase_meta\\18\\218815\\Satellite_18_218815_142042.meta\n",
      "C:\\Users\\AISG\\Documents\\Jonas\\Real_World_Test_DataBase_meta\\18\\218815\\Satellite_18_218815_142043.meta\n",
      "C:\\Users\\AISG\\Documents\\Jonas\\Real_World_Test_DataBase_meta\\18\\218815\\Satellite_18_218815_142044.meta\n",
      "C:\\Users\\AISG\\Documents\\Jonas\\Real_World_Test_DataBase_meta\\18\\218815\\Satellite_18_218815_142045.meta\n",
      "C:\\Users\\AISG\\Documents\\Jonas\\Real_World_Test_DataBase_meta\\18\\218815\\Satellite_18_218815_142046.meta\n",
      "C:\\Users\\AISG\\Documents\\Jonas\\Real_World_Test_DataBase_meta\\18\\218815\\Satellite_18_218815_142047.meta\n",
      "C:\\Users\\AISG\\Documents\\Jonas\\Real_World_Test_DataBase_meta\\18\\218815\\Satellite_18_218815_142048.meta\n",
      "C:\\Users\\AISG\\Documents\\Jonas\\Real_World_Test_DataBase_meta\\18\\218815\\Satellite_18_218815_142049.meta\n",
      "C:\\Users\\AISG\\Documents\\Jonas\\Real_World_Test_DataBase_meta\\18\\218815\\Satellite_18_218815_142050.meta\n",
      "C:\\Users\\AISG\\Documents\\Jonas\\Real_World_Test_DataBase_meta\\18\\218815\\Satellite_18_218815_142051.meta\n",
      "C:\\Users\\AISG\\Documents\\Jonas\\Real_World_Test_DataBase_meta\\18\\218815\\Satellite_18_218815_142052.meta\n",
      "C:\\Users\\AISG\\Documents\\Jonas\\Real_World_Test_DataBase_meta\\18\\218815\\Satellite_18_218815_142053.meta\n",
      "C:\\Users\\AISG\\Documents\\Jonas\\Real_World_Test_DataBase_meta\\18\\218815\\Satellite_18_218815_142054.meta\n"
     ]
    },
    {
     "name": "stderr",
     "output_type": "stream",
     "text": [
      " 29%|██████████████████████▎                                                       | 631/2206 [00:01<00:03, 394.52it/s]"
     ]
    },
    {
     "name": "stdout",
     "output_type": "stream",
     "text": [
      "C:\\Users\\AISG\\Documents\\Jonas\\Real_World_Test_DataBase_meta\\18\\218815\\Satellite_18_218815_142055.meta\n",
      "C:\\Users\\AISG\\Documents\\Jonas\\Real_World_Test_DataBase_meta\\18\\218815\\Satellite_18_218815_142056.meta\n",
      "C:\\Users\\AISG\\Documents\\Jonas\\Real_World_Test_DataBase_meta\\18\\218815\\Satellite_18_218815_142057.meta\n",
      "C:\\Users\\AISG\\Documents\\Jonas\\Real_World_Test_DataBase_meta\\18\\218815\\Satellite_18_218815_142058.meta\n",
      "C:\\Users\\AISG\\Documents\\Jonas\\Real_World_Test_DataBase_meta\\18\\218815\\Satellite_18_218815_142059.meta\n",
      "C:\\Users\\AISG\\Documents\\Jonas\\Real_World_Test_DataBase_meta\\18\\218815\\Satellite_18_218815_142060.meta\n",
      "C:\\Users\\AISG\\Documents\\Jonas\\Real_World_Test_DataBase_meta\\18\\218815\\Satellite_18_218815_142061.meta\n",
      "C:\\Users\\AISG\\Documents\\Jonas\\Real_World_Test_DataBase_meta\\18\\218815\\Satellite_18_218815_142062.meta\n",
      "C:\\Users\\AISG\\Documents\\Jonas\\Real_World_Test_DataBase_meta\\18\\218815\\Satellite_18_218815_142063.meta\n",
      "C:\\Users\\AISG\\Documents\\Jonas\\Real_World_Test_DataBase_meta\\18\\218815\\Satellite_18_218815_142064.meta\n",
      "C:\\Users\\AISG\\Documents\\Jonas\\Real_World_Test_DataBase_meta\\18\\218815\\Satellite_18_218815_142065.meta\n",
      "C:\\Users\\AISG\\Documents\\Jonas\\Real_World_Test_DataBase_meta\\18\\218815\\Satellite_18_218815_142066.meta\n",
      "C:\\Users\\AISG\\Documents\\Jonas\\Real_World_Test_DataBase_meta\\18\\218815\\Satellite_18_218815_142067.meta\n",
      "C:\\Users\\AISG\\Documents\\Jonas\\Real_World_Test_DataBase_meta\\18\\218815\\Satellite_18_218815_142068.meta\n",
      "C:\\Users\\AISG\\Documents\\Jonas\\Real_World_Test_DataBase_meta\\18\\218815\\Satellite_18_218815_142069.meta\n",
      "C:\\Users\\AISG\\Documents\\Jonas\\Real_World_Test_DataBase_meta\\18\\218815\\Satellite_18_218815_142070.meta\n",
      "C:\\Users\\AISG\\Documents\\Jonas\\Real_World_Test_DataBase_meta\\18\\218815\\Satellite_18_218815_142071.meta\n",
      "C:\\Users\\AISG\\Documents\\Jonas\\Real_World_Test_DataBase_meta\\18\\218815\\Satellite_18_218815_142072.meta\n",
      "C:\\Users\\AISG\\Documents\\Jonas\\Real_World_Test_DataBase_meta\\18\\218815\\Satellite_18_218815_142073.meta\n",
      "C:\\Users\\AISG\\Documents\\Jonas\\Real_World_Test_DataBase_meta\\18\\218815\\Satellite_18_218815_142074.meta\n",
      "C:\\Users\\AISG\\Documents\\Jonas\\Real_World_Test_DataBase_meta\\18\\218815\\Satellite_18_218815_142075.meta\n",
      "C:\\Users\\AISG\\Documents\\Jonas\\Real_World_Test_DataBase_meta\\18\\218815\\Satellite_18_218815_142076.meta\n",
      "C:\\Users\\AISG\\Documents\\Jonas\\Real_World_Test_DataBase_meta\\18\\218815\\Satellite_18_218815_142077.meta\n",
      "C:\\Users\\AISG\\Documents\\Jonas\\Real_World_Test_DataBase_meta\\18\\218815\\Satellite_18_218815_142078.meta\n",
      "C:\\Users\\AISG\\Documents\\Jonas\\Real_World_Test_DataBase_meta\\18\\218815\\Satellite_18_218815_142079.meta\n",
      "C:\\Users\\AISG\\Documents\\Jonas\\Real_World_Test_DataBase_meta\\18\\218815\\Satellite_18_218815_142080.meta\n",
      "C:\\Users\\AISG\\Documents\\Jonas\\Real_World_Test_DataBase_meta\\18\\218815\\Satellite_18_218815_142081.meta\n",
      "C:\\Users\\AISG\\Documents\\Jonas\\Real_World_Test_DataBase_meta\\18\\218815\\Satellite_18_218815_142082.meta\n",
      "C:\\Users\\AISG\\Documents\\Jonas\\Real_World_Test_DataBase_meta\\18\\218815\\Satellite_18_218815_142083.meta\n",
      "C:\\Users\\AISG\\Documents\\Jonas\\Real_World_Test_DataBase_meta\\18\\218815\\Satellite_18_218815_142084.meta\n",
      "C:\\Users\\AISG\\Documents\\Jonas\\Real_World_Test_DataBase_meta\\18\\218815\\Satellite_18_218815_142085.meta\n",
      "C:\\Users\\AISG\\Documents\\Jonas\\Real_World_Test_DataBase_meta\\18\\218815\\Satellite_18_218815_142086.meta\n",
      "C:\\Users\\AISG\\Documents\\Jonas\\Real_World_Test_DataBase_meta\\18\\218815\\Satellite_18_218815_142087.meta\n",
      "C:\\Users\\AISG\\Documents\\Jonas\\Real_World_Test_DataBase_meta\\18\\218815\\Satellite_18_218815_142088.meta\n",
      "C:\\Users\\AISG\\Documents\\Jonas\\Real_World_Test_DataBase_meta\\18\\218815\\Satellite_18_218815_142089.meta\n",
      "C:\\Users\\AISG\\Documents\\Jonas\\Real_World_Test_DataBase_meta\\18\\218815\\Satellite_18_218815_142090.meta\n",
      "C:\\Users\\AISG\\Documents\\Jonas\\Real_World_Test_DataBase_meta\\18\\218815\\Satellite_18_218815_142091.meta\n",
      "C:\\Users\\AISG\\Documents\\Jonas\\Real_World_Test_DataBase_meta\\18\\218815\\Satellite_18_218815_142092.meta\n",
      "C:\\Users\\AISG\\Documents\\Jonas\\Real_World_Test_DataBase_meta\\18\\218815\\Satellite_18_218815_142093.meta\n",
      "C:\\Users\\AISG\\Documents\\Jonas\\Real_World_Test_DataBase_meta\\18\\218815\\Satellite_18_218815_142094.meta\n",
      "C:\\Users\\AISG\\Documents\\Jonas\\Real_World_Test_DataBase_meta\\18\\218815\\Satellite_18_218815_142095.meta\n",
      "C:\\Users\\AISG\\Documents\\Jonas\\Real_World_Test_DataBase_meta\\18\\218815\\Satellite_18_218815_142096.meta\n",
      "C:\\Users\\AISG\\Documents\\Jonas\\Real_World_Test_DataBase_meta\\18\\218815\\Satellite_18_218815_142097.meta\n",
      "C:\\Users\\AISG\\Documents\\Jonas\\Real_World_Test_DataBase_meta\\18\\218815\\Satellite_18_218815_142098.meta\n",
      "C:\\Users\\AISG\\Documents\\Jonas\\Real_World_Test_DataBase_meta\\18\\218815\\Satellite_18_218815_142099.meta\n",
      "C:\\Users\\AISG\\Documents\\Jonas\\Real_World_Test_DataBase_meta\\18\\218815\\Satellite_18_218815_142100.meta\n",
      "C:\\Users\\AISG\\Documents\\Jonas\\Real_World_Test_DataBase_meta\\18\\218815\\Satellite_18_218815_142101.meta\n",
      "C:\\Users\\AISG\\Documents\\Jonas\\Real_World_Test_DataBase_meta\\18\\218815\\Satellite_18_218815_142102.meta\n",
      "C:\\Users\\AISG\\Documents\\Jonas\\Real_World_Test_DataBase_meta\\18\\218815\\Satellite_18_218815_142103.meta\n",
      "C:\\Users\\AISG\\Documents\\Jonas\\Real_World_Test_DataBase_meta\\18\\218815\\Satellite_18_218815_142104.meta\n",
      "C:\\Users\\AISG\\Documents\\Jonas\\Real_World_Test_DataBase_meta\\18\\218815\\Satellite_18_218815_142105.meta\n",
      "C:\\Users\\AISG\\Documents\\Jonas\\Real_World_Test_DataBase_meta\\18\\218815\\Satellite_18_218815_142106.meta\n",
      "C:\\Users\\AISG\\Documents\\Jonas\\Real_World_Test_DataBase_meta\\18\\218815\\Satellite_18_218815_142107.meta\n",
      "C:\\Users\\AISG\\Documents\\Jonas\\Real_World_Test_DataBase_meta\\18\\218815\\Satellite_18_218815_142108.meta\n",
      "C:\\Users\\AISG\\Documents\\Jonas\\Real_World_Test_DataBase_meta\\18\\218815\\Satellite_18_218815_142109.meta\n",
      "C:\\Users\\AISG\\Documents\\Jonas\\Real_World_Test_DataBase_meta\\18\\218815\\Satellite_18_218815_142110.meta\n",
      "C:\\Users\\AISG\\Documents\\Jonas\\Real_World_Test_DataBase_meta\\18\\218815\\Satellite_18_218815_142111.meta\n",
      "C:\\Users\\AISG\\Documents\\Jonas\\Real_World_Test_DataBase_meta\\18\\218815\\Satellite_18_218815_142112.meta\n",
      "C:\\Users\\AISG\\Documents\\Jonas\\Real_World_Test_DataBase_meta\\18\\218815\\Satellite_18_218815_142113.meta\n",
      "C:\\Users\\AISG\\Documents\\Jonas\\Real_World_Test_DataBase_meta\\18\\218815\\Satellite_18_218815_142114.meta\n",
      "C:\\Users\\AISG\\Documents\\Jonas\\Real_World_Test_DataBase_meta\\18\\218815\\Satellite_18_218815_142115.meta\n",
      "C:\\Users\\AISG\\Documents\\Jonas\\Real_World_Test_DataBase_meta\\18\\218815\\Satellite_18_218815_142116.meta\n",
      "C:\\Users\\AISG\\Documents\\Jonas\\Real_World_Test_DataBase_meta\\18\\218815\\Satellite_18_218815_142117.meta\n",
      "C:\\Users\\AISG\\Documents\\Jonas\\Real_World_Test_DataBase_meta\\18\\218815\\Satellite_18_218815_142118.meta\n",
      "C:\\Users\\AISG\\Documents\\Jonas\\Real_World_Test_DataBase_meta\\18\\218815\\Satellite_18_218815_142119.meta\n",
      "C:\\Users\\AISG\\Documents\\Jonas\\Real_World_Test_DataBase_meta\\18\\218815\\Satellite_18_218815_142120.meta\n",
      "C:\\Users\\AISG\\Documents\\Jonas\\Real_World_Test_DataBase_meta\\18\\218815\\Satellite_18_218815_142121.meta\n",
      "C:\\Users\\AISG\\Documents\\Jonas\\Real_World_Test_DataBase_meta\\18\\218815\\Satellite_18_218815_142122.meta\n",
      "C:\\Users\\AISG\\Documents\\Jonas\\Real_World_Test_DataBase_meta\\18\\218815\\Satellite_18_218815_142123.meta\n",
      "C:\\Users\\AISG\\Documents\\Jonas\\Real_World_Test_DataBase_meta\\18\\218815\\Satellite_18_218815_142124.meta\n",
      "C:\\Users\\AISG\\Documents\\Jonas\\Real_World_Test_DataBase_meta\\18\\218815\\Satellite_18_218815_142127.meta\n",
      "C:\\Users\\AISG\\Documents\\Jonas\\Real_World_Test_DataBase_meta\\18\\218815\\Satellite_18_218815_142128.meta\n",
      "C:\\Users\\AISG\\Documents\\Jonas\\Real_World_Test_DataBase_meta\\18\\218848\\Satellite_18_218848_141639.meta\n",
      "C:\\Users\\AISG\\Documents\\Jonas\\Real_World_Test_DataBase_meta\\18\\218848\\Satellite_18_218848_141640.meta\n"
     ]
    },
    {
     "name": "stderr",
     "output_type": "stream",
     "text": [
      " 32%|█████████████████████████▏                                                    | 711/2206 [00:01<00:03, 384.31it/s]"
     ]
    },
    {
     "name": "stdout",
     "output_type": "stream",
     "text": [
      "C:\\Users\\AISG\\Documents\\Jonas\\Real_World_Test_DataBase_meta\\18\\218848\\Satellite_18_218848_141641.meta\n",
      "C:\\Users\\AISG\\Documents\\Jonas\\Real_World_Test_DataBase_meta\\18\\218848\\Satellite_18_218848_141642.meta\n",
      "C:\\Users\\AISG\\Documents\\Jonas\\Real_World_Test_DataBase_meta\\18\\218848\\Satellite_18_218848_141643.meta\n",
      "C:\\Users\\AISG\\Documents\\Jonas\\Real_World_Test_DataBase_meta\\18\\218848\\Satellite_18_218848_141644.meta\n",
      "C:\\Users\\AISG\\Documents\\Jonas\\Real_World_Test_DataBase_meta\\18\\218848\\Satellite_18_218848_141645.meta\n",
      "C:\\Users\\AISG\\Documents\\Jonas\\Real_World_Test_DataBase_meta\\18\\218848\\Satellite_18_218848_141646.meta\n",
      "C:\\Users\\AISG\\Documents\\Jonas\\Real_World_Test_DataBase_meta\\18\\218848\\Satellite_18_218848_141647.meta\n",
      "C:\\Users\\AISG\\Documents\\Jonas\\Real_World_Test_DataBase_meta\\18\\218848\\Satellite_18_218848_141648.meta\n",
      "C:\\Users\\AISG\\Documents\\Jonas\\Real_World_Test_DataBase_meta\\18\\218848\\Satellite_18_218848_141649.meta\n",
      "C:\\Users\\AISG\\Documents\\Jonas\\Real_World_Test_DataBase_meta\\18\\218848\\Satellite_18_218848_141650.meta\n",
      "C:\\Users\\AISG\\Documents\\Jonas\\Real_World_Test_DataBase_meta\\18\\218848\\Satellite_18_218848_141651.meta\n",
      "C:\\Users\\AISG\\Documents\\Jonas\\Real_World_Test_DataBase_meta\\18\\218848\\Satellite_18_218848_141652.meta\n",
      "C:\\Users\\AISG\\Documents\\Jonas\\Real_World_Test_DataBase_meta\\18\\218848\\Satellite_18_218848_141653.meta\n",
      "C:\\Users\\AISG\\Documents\\Jonas\\Real_World_Test_DataBase_meta\\18\\218848\\Satellite_18_218848_141654.meta\n",
      "C:\\Users\\AISG\\Documents\\Jonas\\Real_World_Test_DataBase_meta\\18\\218848\\Satellite_18_218848_141655.meta\n",
      "C:\\Users\\AISG\\Documents\\Jonas\\Real_World_Test_DataBase_meta\\18\\218848\\Satellite_18_218848_141656.meta\n",
      "C:\\Users\\AISG\\Documents\\Jonas\\Real_World_Test_DataBase_meta\\18\\218848\\Satellite_18_218848_141657.meta\n",
      "C:\\Users\\AISG\\Documents\\Jonas\\Real_World_Test_DataBase_meta\\18\\218848\\Satellite_18_218848_141658.meta\n",
      "C:\\Users\\AISG\\Documents\\Jonas\\Real_World_Test_DataBase_meta\\18\\218848\\Satellite_18_218848_141659.meta\n",
      "C:\\Users\\AISG\\Documents\\Jonas\\Real_World_Test_DataBase_meta\\18\\218848\\Satellite_18_218848_141660.meta\n",
      "C:\\Users\\AISG\\Documents\\Jonas\\Real_World_Test_DataBase_meta\\18\\218848\\Satellite_18_218848_141661.meta\n",
      "C:\\Users\\AISG\\Documents\\Jonas\\Real_World_Test_DataBase_meta\\18\\218848\\Satellite_18_218848_141662.meta\n",
      "C:\\Users\\AISG\\Documents\\Jonas\\Real_World_Test_DataBase_meta\\18\\218848\\Satellite_18_218848_141663.meta\n",
      "C:\\Users\\AISG\\Documents\\Jonas\\Real_World_Test_DataBase_meta\\18\\218848\\Satellite_18_218848_141664.meta\n",
      "C:\\Users\\AISG\\Documents\\Jonas\\Real_World_Test_DataBase_meta\\18\\218848\\Satellite_18_218848_141665.meta\n",
      "C:\\Users\\AISG\\Documents\\Jonas\\Real_World_Test_DataBase_meta\\18\\218848\\Satellite_18_218848_141666.meta\n",
      "C:\\Users\\AISG\\Documents\\Jonas\\Real_World_Test_DataBase_meta\\18\\218848\\Satellite_18_218848_141667.meta\n",
      "C:\\Users\\AISG\\Documents\\Jonas\\Real_World_Test_DataBase_meta\\18\\218848\\Satellite_18_218848_141668.meta\n",
      "C:\\Users\\AISG\\Documents\\Jonas\\Real_World_Test_DataBase_meta\\18\\218848\\Satellite_18_218848_141669.meta\n",
      "C:\\Users\\AISG\\Documents\\Jonas\\Real_World_Test_DataBase_meta\\18\\218848\\Satellite_18_218848_141670.meta\n",
      "C:\\Users\\AISG\\Documents\\Jonas\\Real_World_Test_DataBase_meta\\18\\218848\\Satellite_18_218848_141671.meta\n",
      "C:\\Users\\AISG\\Documents\\Jonas\\Real_World_Test_DataBase_meta\\18\\218848\\Satellite_18_218848_141672.meta\n",
      "C:\\Users\\AISG\\Documents\\Jonas\\Real_World_Test_DataBase_meta\\18\\218848\\Satellite_18_218848_141673.meta\n",
      "C:\\Users\\AISG\\Documents\\Jonas\\Real_World_Test_DataBase_meta\\18\\218848\\Satellite_18_218848_141674.meta\n",
      "C:\\Users\\AISG\\Documents\\Jonas\\Real_World_Test_DataBase_meta\\18\\218848\\Satellite_18_218848_141675.meta\n",
      "C:\\Users\\AISG\\Documents\\Jonas\\Real_World_Test_DataBase_meta\\18\\218848\\Satellite_18_218848_141676.meta\n",
      "C:\\Users\\AISG\\Documents\\Jonas\\Real_World_Test_DataBase_meta\\18\\218848\\Satellite_18_218848_141677.meta\n",
      "C:\\Users\\AISG\\Documents\\Jonas\\Real_World_Test_DataBase_meta\\18\\218848\\Satellite_18_218848_141678.meta\n",
      "C:\\Users\\AISG\\Documents\\Jonas\\Real_World_Test_DataBase_meta\\18\\218848\\Satellite_18_218848_141679.meta\n",
      "C:\\Users\\AISG\\Documents\\Jonas\\Real_World_Test_DataBase_meta\\18\\218848\\Satellite_18_218848_141680.meta\n",
      "C:\\Users\\AISG\\Documents\\Jonas\\Real_World_Test_DataBase_meta\\18\\218848\\Satellite_18_218848_141681.meta\n",
      "C:\\Users\\AISG\\Documents\\Jonas\\Real_World_Test_DataBase_meta\\18\\218848\\Satellite_18_218848_141682.meta\n",
      "C:\\Users\\AISG\\Documents\\Jonas\\Real_World_Test_DataBase_meta\\18\\218848\\Satellite_18_218848_141683.meta\n",
      "C:\\Users\\AISG\\Documents\\Jonas\\Real_World_Test_DataBase_meta\\18\\218848\\Satellite_18_218848_141684.meta\n",
      "C:\\Users\\AISG\\Documents\\Jonas\\Real_World_Test_DataBase_meta\\18\\218848\\Satellite_18_218848_141685.meta\n",
      "C:\\Users\\AISG\\Documents\\Jonas\\Real_World_Test_DataBase_meta\\18\\218848\\Satellite_18_218848_141686.meta\n",
      "C:\\Users\\AISG\\Documents\\Jonas\\Real_World_Test_DataBase_meta\\18\\218848\\Satellite_18_218848_141687.meta\n",
      "C:\\Users\\AISG\\Documents\\Jonas\\Real_World_Test_DataBase_meta\\18\\218848\\Satellite_18_218848_141688.meta\n",
      "C:\\Users\\AISG\\Documents\\Jonas\\Real_World_Test_DataBase_meta\\18\\218848\\Satellite_18_218848_141689.meta\n",
      "C:\\Users\\AISG\\Documents\\Jonas\\Real_World_Test_DataBase_meta\\18\\218848\\Satellite_18_218848_141690.meta\n",
      "C:\\Users\\AISG\\Documents\\Jonas\\Real_World_Test_DataBase_meta\\18\\218848\\Satellite_18_218848_141691.meta\n",
      "C:\\Users\\AISG\\Documents\\Jonas\\Real_World_Test_DataBase_meta\\18\\218848\\Satellite_18_218848_141692.meta\n",
      "C:\\Users\\AISG\\Documents\\Jonas\\Real_World_Test_DataBase_meta\\18\\218848\\Satellite_18_218848_141693.meta\n",
      "C:\\Users\\AISG\\Documents\\Jonas\\Real_World_Test_DataBase_meta\\18\\218848\\Satellite_18_218848_141694.meta\n",
      "C:\\Users\\AISG\\Documents\\Jonas\\Real_World_Test_DataBase_meta\\18\\218848\\Satellite_18_218848_141695.meta\n",
      "C:\\Users\\AISG\\Documents\\Jonas\\Real_World_Test_DataBase_meta\\18\\218848\\Satellite_18_218848_141696.meta\n",
      "C:\\Users\\AISG\\Documents\\Jonas\\Real_World_Test_DataBase_meta\\18\\218848\\Satellite_18_218848_141697.meta\n",
      "C:\\Users\\AISG\\Documents\\Jonas\\Real_World_Test_DataBase_meta\\18\\218848\\Satellite_18_218848_141698.meta\n",
      "C:\\Users\\AISG\\Documents\\Jonas\\Real_World_Test_DataBase_meta\\18\\218848\\Satellite_18_218848_141699.meta\n",
      "C:\\Users\\AISG\\Documents\\Jonas\\Real_World_Test_DataBase_meta\\18\\218848\\Satellite_18_218848_141700.meta\n",
      "C:\\Users\\AISG\\Documents\\Jonas\\Real_World_Test_DataBase_meta\\18\\218848\\Satellite_18_218848_141701.meta\n",
      "C:\\Users\\AISG\\Documents\\Jonas\\Real_World_Test_DataBase_meta\\18\\218848\\Satellite_18_218848_141702.meta\n",
      "C:\\Users\\AISG\\Documents\\Jonas\\Real_World_Test_DataBase_meta\\18\\218848\\Satellite_18_218848_141703.meta\n",
      "C:\\Users\\AISG\\Documents\\Jonas\\Real_World_Test_DataBase_meta\\18\\218848\\Satellite_18_218848_141704.meta\n",
      "C:\\Users\\AISG\\Documents\\Jonas\\Real_World_Test_DataBase_meta\\18\\218848\\Satellite_18_218848_141705.meta\n",
      "C:\\Users\\AISG\\Documents\\Jonas\\Real_World_Test_DataBase_meta\\18\\218848\\Satellite_18_218848_141706.meta\n",
      "C:\\Users\\AISG\\Documents\\Jonas\\Real_World_Test_DataBase_meta\\18\\218848\\Satellite_18_218848_141707.meta\n",
      "C:\\Users\\AISG\\Documents\\Jonas\\Real_World_Test_DataBase_meta\\18\\218848\\Satellite_18_218848_141708.meta\n",
      "C:\\Users\\AISG\\Documents\\Jonas\\Real_World_Test_DataBase_meta\\18\\218848\\Satellite_18_218848_141709.meta\n"
     ]
    },
    {
     "name": "stderr",
     "output_type": "stream",
     "text": [
      " 36%|███████████████████████████▊                                                  | 788/2206 [00:02<00:03, 374.39it/s]"
     ]
    },
    {
     "name": "stdout",
     "output_type": "stream",
     "text": [
      "C:\\Users\\AISG\\Documents\\Jonas\\Real_World_Test_DataBase_meta\\18\\218848\\Satellite_18_218848_141710.meta\n",
      "C:\\Users\\AISG\\Documents\\Jonas\\Real_World_Test_DataBase_meta\\18\\218848\\Satellite_18_218848_141711.meta\n",
      "C:\\Users\\AISG\\Documents\\Jonas\\Real_World_Test_DataBase_meta\\18\\218848\\Satellite_18_218848_141712.meta\n",
      "C:\\Users\\AISG\\Documents\\Jonas\\Real_World_Test_DataBase_meta\\18\\218848\\Satellite_18_218848_141713.meta\n",
      "C:\\Users\\AISG\\Documents\\Jonas\\Real_World_Test_DataBase_meta\\18\\218848\\Satellite_18_218848_141714.meta\n",
      "C:\\Users\\AISG\\Documents\\Jonas\\Real_World_Test_DataBase_meta\\18\\218848\\Satellite_18_218848_141715.meta\n",
      "C:\\Users\\AISG\\Documents\\Jonas\\Real_World_Test_DataBase_meta\\18\\218848\\Satellite_18_218848_141716.meta\n",
      "C:\\Users\\AISG\\Documents\\Jonas\\Real_World_Test_DataBase_meta\\18\\218848\\Satellite_18_218848_141717.meta\n",
      "C:\\Users\\AISG\\Documents\\Jonas\\Real_World_Test_DataBase_meta\\18\\218848\\Satellite_18_218848_141718.meta\n",
      "C:\\Users\\AISG\\Documents\\Jonas\\Real_World_Test_DataBase_meta\\18\\218848\\Satellite_18_218848_141719.meta\n",
      "C:\\Users\\AISG\\Documents\\Jonas\\Real_World_Test_DataBase_meta\\18\\218848\\Satellite_18_218848_141720.meta\n",
      "C:\\Users\\AISG\\Documents\\Jonas\\Real_World_Test_DataBase_meta\\18\\218848\\Satellite_18_218848_141721.meta\n",
      "C:\\Users\\AISG\\Documents\\Jonas\\Real_World_Test_DataBase_meta\\18\\218848\\Satellite_18_218848_141722.meta\n",
      "C:\\Users\\AISG\\Documents\\Jonas\\Real_World_Test_DataBase_meta\\18\\218848\\Satellite_18_218848_141723.meta\n",
      "C:\\Users\\AISG\\Documents\\Jonas\\Real_World_Test_DataBase_meta\\18\\218848\\Satellite_18_218848_141724.meta\n",
      "C:\\Users\\AISG\\Documents\\Jonas\\Real_World_Test_DataBase_meta\\18\\218848\\Satellite_18_218848_141725.meta\n",
      "C:\\Users\\AISG\\Documents\\Jonas\\Real_World_Test_DataBase_meta\\18\\218848\\Satellite_18_218848_141726.meta\n",
      "C:\\Users\\AISG\\Documents\\Jonas\\Real_World_Test_DataBase_meta\\18\\218848\\Satellite_18_218848_141727.meta\n",
      "C:\\Users\\AISG\\Documents\\Jonas\\Real_World_Test_DataBase_meta\\18\\218848\\Satellite_18_218848_141728.meta\n",
      "C:\\Users\\AISG\\Documents\\Jonas\\Real_World_Test_DataBase_meta\\18\\218848\\Satellite_18_218848_141729.meta\n",
      "C:\\Users\\AISG\\Documents\\Jonas\\Real_World_Test_DataBase_meta\\18\\218848\\Satellite_18_218848_141730.meta\n",
      "C:\\Users\\AISG\\Documents\\Jonas\\Real_World_Test_DataBase_meta\\18\\218848\\Satellite_18_218848_141731.meta\n",
      "C:\\Users\\AISG\\Documents\\Jonas\\Real_World_Test_DataBase_meta\\18\\218848\\Satellite_18_218848_141732.meta\n",
      "C:\\Users\\AISG\\Documents\\Jonas\\Real_World_Test_DataBase_meta\\18\\218848\\Satellite_18_218848_141733.meta\n",
      "C:\\Users\\AISG\\Documents\\Jonas\\Real_World_Test_DataBase_meta\\18\\218848\\Satellite_18_218848_141734.meta\n",
      "C:\\Users\\AISG\\Documents\\Jonas\\Real_World_Test_DataBase_meta\\18\\218848\\Satellite_18_218848_141735.meta\n",
      "C:\\Users\\AISG\\Documents\\Jonas\\Real_World_Test_DataBase_meta\\18\\218848\\Satellite_18_218848_141736.meta\n",
      "C:\\Users\\AISG\\Documents\\Jonas\\Real_World_Test_DataBase_meta\\18\\218848\\Satellite_18_218848_141737.meta\n",
      "C:\\Users\\AISG\\Documents\\Jonas\\Real_World_Test_DataBase_meta\\18\\218848\\Satellite_18_218848_141738.meta\n",
      "C:\\Users\\AISG\\Documents\\Jonas\\Real_World_Test_DataBase_meta\\18\\218848\\Satellite_18_218848_141739.meta\n",
      "C:\\Users\\AISG\\Documents\\Jonas\\Real_World_Test_DataBase_meta\\18\\218848\\Satellite_18_218848_141740.meta\n",
      "C:\\Users\\AISG\\Documents\\Jonas\\Real_World_Test_DataBase_meta\\18\\218848\\Satellite_18_218848_141741.meta\n",
      "C:\\Users\\AISG\\Documents\\Jonas\\Real_World_Test_DataBase_meta\\18\\218848\\Satellite_18_218848_141742.meta\n",
      "C:\\Users\\AISG\\Documents\\Jonas\\Real_World_Test_DataBase_meta\\18\\218848\\Satellite_18_218848_141743.meta\n",
      "C:\\Users\\AISG\\Documents\\Jonas\\Real_World_Test_DataBase_meta\\18\\218848\\Satellite_18_218848_141744.meta\n",
      "C:\\Users\\AISG\\Documents\\Jonas\\Real_World_Test_DataBase_meta\\18\\218848\\Satellite_18_218848_141745.meta\n",
      "C:\\Users\\AISG\\Documents\\Jonas\\Real_World_Test_DataBase_meta\\18\\218848\\Satellite_18_218848_141746.meta\n",
      "C:\\Users\\AISG\\Documents\\Jonas\\Real_World_Test_DataBase_meta\\18\\218848\\Satellite_18_218848_141747.meta\n",
      "C:\\Users\\AISG\\Documents\\Jonas\\Real_World_Test_DataBase_meta\\18\\218848\\Satellite_18_218848_141748.meta\n",
      "C:\\Users\\AISG\\Documents\\Jonas\\Real_World_Test_DataBase_meta\\18\\218848\\Satellite_18_218848_141749.meta\n",
      "C:\\Users\\AISG\\Documents\\Jonas\\Real_World_Test_DataBase_meta\\18\\218848\\Satellite_18_218848_141750.meta\n",
      "C:\\Users\\AISG\\Documents\\Jonas\\Real_World_Test_DataBase_meta\\18\\218848\\Satellite_18_218848_141751.meta\n",
      "C:\\Users\\AISG\\Documents\\Jonas\\Real_World_Test_DataBase_meta\\18\\218848\\Satellite_18_218848_141752.meta\n",
      "C:\\Users\\AISG\\Documents\\Jonas\\Real_World_Test_DataBase_meta\\18\\218848\\Satellite_18_218848_141753.meta\n",
      "C:\\Users\\AISG\\Documents\\Jonas\\Real_World_Test_DataBase_meta\\18\\218848\\Satellite_18_218848_141754.meta\n",
      "C:\\Users\\AISG\\Documents\\Jonas\\Real_World_Test_DataBase_meta\\18\\218848\\Satellite_18_218848_141755.meta\n",
      "C:\\Users\\AISG\\Documents\\Jonas\\Real_World_Test_DataBase_meta\\18\\218848\\Satellite_18_218848_141756.meta\n",
      "C:\\Users\\AISG\\Documents\\Jonas\\Real_World_Test_DataBase_meta\\18\\218848\\Satellite_18_218848_141757.meta\n",
      "C:\\Users\\AISG\\Documents\\Jonas\\Real_World_Test_DataBase_meta\\18\\218848\\Satellite_18_218848_141758.meta\n",
      "C:\\Users\\AISG\\Documents\\Jonas\\Real_World_Test_DataBase_meta\\18\\218848\\Satellite_18_218848_141759.meta\n",
      "C:\\Users\\AISG\\Documents\\Jonas\\Real_World_Test_DataBase_meta\\18\\218848\\Satellite_18_218848_141760.meta\n",
      "C:\\Users\\AISG\\Documents\\Jonas\\Real_World_Test_DataBase_meta\\18\\218848\\Satellite_18_218848_141761.meta\n",
      "C:\\Users\\AISG\\Documents\\Jonas\\Real_World_Test_DataBase_meta\\18\\218848\\Satellite_18_218848_141762.meta\n",
      "C:\\Users\\AISG\\Documents\\Jonas\\Real_World_Test_DataBase_meta\\18\\218848\\Satellite_18_218848_141763.meta\n",
      "C:\\Users\\AISG\\Documents\\Jonas\\Real_World_Test_DataBase_meta\\18\\218848\\Satellite_18_218848_141764.meta\n",
      "C:\\Users\\AISG\\Documents\\Jonas\\Real_World_Test_DataBase_meta\\18\\218848\\Satellite_18_218848_141765.meta\n",
      "C:\\Users\\AISG\\Documents\\Jonas\\Real_World_Test_DataBase_meta\\18\\218848\\Satellite_18_218848_141766.meta\n",
      "C:\\Users\\AISG\\Documents\\Jonas\\Real_World_Test_DataBase_meta\\18\\218848\\Satellite_18_218848_141767.meta\n",
      "C:\\Users\\AISG\\Documents\\Jonas\\Real_World_Test_DataBase_meta\\18\\218848\\Satellite_18_218848_141768.meta\n",
      "C:\\Users\\AISG\\Documents\\Jonas\\Real_World_Test_DataBase_meta\\18\\218848\\Satellite_18_218848_141769.meta\n",
      "C:\\Users\\AISG\\Documents\\Jonas\\Real_World_Test_DataBase_meta\\18\\218848\\Satellite_18_218848_141770.meta\n",
      "C:\\Users\\AISG\\Documents\\Jonas\\Real_World_Test_DataBase_meta\\18\\218848\\Satellite_18_218848_141771.meta\n",
      "C:\\Users\\AISG\\Documents\\Jonas\\Real_World_Test_DataBase_meta\\18\\218848\\Satellite_18_218848_141772.meta\n",
      "C:\\Users\\AISG\\Documents\\Jonas\\Real_World_Test_DataBase_meta\\18\\218848\\Satellite_18_218848_141773.meta\n",
      "C:\\Users\\AISG\\Documents\\Jonas\\Real_World_Test_DataBase_meta\\18\\218848\\Satellite_18_218848_141774.meta\n",
      "C:\\Users\\AISG\\Documents\\Jonas\\Real_World_Test_DataBase_meta\\18\\218848\\Satellite_18_218848_141775.meta\n",
      "C:\\Users\\AISG\\Documents\\Jonas\\Real_World_Test_DataBase_meta\\18\\218848\\Satellite_18_218848_141776.meta\n",
      "C:\\Users\\AISG\\Documents\\Jonas\\Real_World_Test_DataBase_meta\\18\\218848\\Satellite_18_218848_141777.meta\n",
      "C:\\Users\\AISG\\Documents\\Jonas\\Real_World_Test_DataBase_meta\\18\\218848\\Satellite_18_218848_141778.meta\n"
     ]
    },
    {
     "name": "stderr",
     "output_type": "stream",
     "text": [
      "\r",
      " 37%|█████████████████████████████▏                                                | 826/2206 [00:02<00:03, 375.24it/s]"
     ]
    },
    {
     "name": "stdout",
     "output_type": "stream",
     "text": [
      "C:\\Users\\AISG\\Documents\\Jonas\\Real_World_Test_DataBase_meta\\18\\218848\\Satellite_18_218848_141779.meta\n",
      "C:\\Users\\AISG\\Documents\\Jonas\\Real_World_Test_DataBase_meta\\18\\218848\\Satellite_18_218848_141780.meta\n",
      "C:\\Users\\AISG\\Documents\\Jonas\\Real_World_Test_DataBase_meta\\18\\218848\\Satellite_18_218848_141781.meta\n",
      "C:\\Users\\AISG\\Documents\\Jonas\\Real_World_Test_DataBase_meta\\18\\218848\\Satellite_18_218848_141782.meta\n",
      "C:\\Users\\AISG\\Documents\\Jonas\\Real_World_Test_DataBase_meta\\18\\218848\\Satellite_18_218848_141783.meta\n",
      "C:\\Users\\AISG\\Documents\\Jonas\\Real_World_Test_DataBase_meta\\18\\218848\\Satellite_18_218848_141784.meta\n",
      "C:\\Users\\AISG\\Documents\\Jonas\\Real_World_Test_DataBase_meta\\18\\218848\\Satellite_18_218848_141785.meta\n",
      "C:\\Users\\AISG\\Documents\\Jonas\\Real_World_Test_DataBase_meta\\18\\218848\\Satellite_18_218848_141786.meta\n",
      "C:\\Users\\AISG\\Documents\\Jonas\\Real_World_Test_DataBase_meta\\18\\218848\\Satellite_18_218848_141787.meta\n",
      "C:\\Users\\AISG\\Documents\\Jonas\\Real_World_Test_DataBase_meta\\18\\218848\\Satellite_18_218848_141788.meta\n",
      "C:\\Users\\AISG\\Documents\\Jonas\\Real_World_Test_DataBase_meta\\18\\218848\\Satellite_18_218848_141789.meta\n",
      "C:\\Users\\AISG\\Documents\\Jonas\\Real_World_Test_DataBase_meta\\18\\218848\\Satellite_18_218848_141790.meta\n",
      "C:\\Users\\AISG\\Documents\\Jonas\\Real_World_Test_DataBase_meta\\18\\218848\\Satellite_18_218848_141791.meta\n",
      "C:\\Users\\AISG\\Documents\\Jonas\\Real_World_Test_DataBase_meta\\18\\218848\\Satellite_18_218848_141792.meta\n",
      "C:\\Users\\AISG\\Documents\\Jonas\\Real_World_Test_DataBase_meta\\18\\218848\\Satellite_18_218848_141793.meta\n",
      "C:\\Users\\AISG\\Documents\\Jonas\\Real_World_Test_DataBase_meta\\18\\218848\\Satellite_18_218848_141794.meta\n",
      "C:\\Users\\AISG\\Documents\\Jonas\\Real_World_Test_DataBase_meta\\18\\218848\\Satellite_18_218848_141795.meta\n",
      "C:\\Users\\AISG\\Documents\\Jonas\\Real_World_Test_DataBase_meta\\18\\218848\\Satellite_18_218848_141796.meta\n",
      "C:\\Users\\AISG\\Documents\\Jonas\\Real_World_Test_DataBase_meta\\18\\218848\\Satellite_18_218848_141797.meta\n",
      "C:\\Users\\AISG\\Documents\\Jonas\\Real_World_Test_DataBase_meta\\18\\218848\\Satellite_18_218848_141798.meta\n",
      "C:\\Users\\AISG\\Documents\\Jonas\\Real_World_Test_DataBase_meta\\18\\218848\\Satellite_18_218848_141799.meta\n",
      "C:\\Users\\AISG\\Documents\\Jonas\\Real_World_Test_DataBase_meta\\18\\218848\\Satellite_18_218848_141800.meta\n",
      "C:\\Users\\AISG\\Documents\\Jonas\\Real_World_Test_DataBase_meta\\18\\218848\\Satellite_18_218848_141801.meta\n",
      "C:\\Users\\AISG\\Documents\\Jonas\\Real_World_Test_DataBase_meta\\18\\218848\\Satellite_18_218848_141802.meta\n",
      "C:\\Users\\AISG\\Documents\\Jonas\\Real_World_Test_DataBase_meta\\18\\218848\\Satellite_18_218848_141803.meta\n",
      "C:\\Users\\AISG\\Documents\\Jonas\\Real_World_Test_DataBase_meta\\18\\218848\\Satellite_18_218848_141804.meta\n",
      "C:\\Users\\AISG\\Documents\\Jonas\\Real_World_Test_DataBase_meta\\18\\218848\\Satellite_18_218848_141805.meta\n",
      "C:\\Users\\AISG\\Documents\\Jonas\\Real_World_Test_DataBase_meta\\18\\218848\\Satellite_18_218848_141806.meta\n",
      "C:\\Users\\AISG\\Documents\\Jonas\\Real_World_Test_DataBase_meta\\18\\218848\\Satellite_18_218848_141807.meta\n",
      "C:\\Users\\AISG\\Documents\\Jonas\\Real_World_Test_DataBase_meta\\18\\218848\\Satellite_18_218848_141808.meta\n",
      "C:\\Users\\AISG\\Documents\\Jonas\\Real_World_Test_DataBase_meta\\18\\218848\\Satellite_18_218848_141809.meta\n",
      "C:\\Users\\AISG\\Documents\\Jonas\\Real_World_Test_DataBase_meta\\18\\218848\\Satellite_18_218848_141810.meta\n",
      "C:\\Users\\AISG\\Documents\\Jonas\\Real_World_Test_DataBase_meta\\18\\218848\\Satellite_18_218848_141811.meta\n",
      "C:\\Users\\AISG\\Documents\\Jonas\\Real_World_Test_DataBase_meta\\18\\218848\\Satellite_18_218848_141812.meta\n",
      "C:\\Users\\AISG\\Documents\\Jonas\\Real_World_Test_DataBase_meta\\18\\218848\\Satellite_18_218848_141813.meta\n",
      "C:\\Users\\AISG\\Documents\\Jonas\\Real_World_Test_DataBase_meta\\18\\218848\\Satellite_18_218848_141814.meta\n",
      "C:\\Users\\AISG\\Documents\\Jonas\\Real_World_Test_DataBase_meta\\18\\218848\\Satellite_18_218848_141815.meta\n",
      "C:\\Users\\AISG\\Documents\\Jonas\\Real_World_Test_DataBase_meta\\18\\218848\\Satellite_18_218848_141816.meta\n",
      "C:\\Users\\AISG\\Documents\\Jonas\\Real_World_Test_DataBase_meta\\18\\218848\\Satellite_18_218848_141817.meta\n",
      "C:\\Users\\AISG\\Documents\\Jonas\\Real_World_Test_DataBase_meta\\18\\218848\\Satellite_18_218848_141818.meta\n",
      "C:\\Users\\AISG\\Documents\\Jonas\\Real_World_Test_DataBase_meta\\18\\218848\\Satellite_18_218848_141819.meta\n",
      "C:\\Users\\AISG\\Documents\\Jonas\\Real_World_Test_DataBase_meta\\18\\218848\\Satellite_18_218848_141820.meta\n",
      "C:\\Users\\AISG\\Documents\\Jonas\\Real_World_Test_DataBase_meta\\18\\218848\\Satellite_18_218848_141821.meta\n",
      "C:\\Users\\AISG\\Documents\\Jonas\\Real_World_Test_DataBase_meta\\18\\218848\\Satellite_18_218848_141822.meta\n",
      "C:\\Users\\AISG\\Documents\\Jonas\\Real_World_Test_DataBase_meta\\18\\218848\\Satellite_18_218848_141823.meta\n",
      "C:\\Users\\AISG\\Documents\\Jonas\\Real_World_Test_DataBase_meta\\18\\218848\\Satellite_18_218848_141824.meta\n",
      "C:\\Users\\AISG\\Documents\\Jonas\\Real_World_Test_DataBase_meta\\18\\218848\\Satellite_18_218848_141825.meta\n",
      "C:\\Users\\AISG\\Documents\\Jonas\\Real_World_Test_DataBase_meta\\18\\218848\\Satellite_18_218848_141826.meta\n",
      "C:\\Users\\AISG\\Documents\\Jonas\\Real_World_Test_DataBase_meta\\18\\218848\\Satellite_18_218848_141827.meta\n",
      "C:\\Users\\AISG\\Documents\\Jonas\\Real_World_Test_DataBase_meta\\18\\218848\\Satellite_18_218848_141828.meta\n",
      "C:\\Users\\AISG\\Documents\\Jonas\\Real_World_Test_DataBase_meta\\18\\218848\\Satellite_18_218848_141829.meta\n",
      "C:\\Users\\AISG\\Documents\\Jonas\\Real_World_Test_DataBase_meta\\18\\218848\\Satellite_18_218848_141830.meta\n",
      "C:\\Users\\AISG\\Documents\\Jonas\\Real_World_Test_DataBase_meta\\18\\218848\\Satellite_18_218848_141831.meta\n",
      "C:\\Users\\AISG\\Documents\\Jonas\\Real_World_Test_DataBase_meta\\18\\218848\\Satellite_18_218848_141832.meta\n",
      "C:\\Users\\AISG\\Documents\\Jonas\\Real_World_Test_DataBase_meta\\18\\218848\\Satellite_18_218848_141833.meta\n",
      "C:\\Users\\AISG\\Documents\\Jonas\\Real_World_Test_DataBase_meta\\18\\218848\\Satellite_18_218848_141834.meta\n",
      "C:\\Users\\AISG\\Documents\\Jonas\\Real_World_Test_DataBase_meta\\18\\218848\\Satellite_18_218848_141835.meta\n",
      "C:\\Users\\AISG\\Documents\\Jonas\\Real_World_Test_DataBase_meta\\18\\218848\\Satellite_18_218848_141836.meta\n",
      "C:\\Users\\AISG\\Documents\\Jonas\\Real_World_Test_DataBase_meta\\18\\218848\\Satellite_18_218848_141837.meta\n",
      "C:\\Users\\AISG\\Documents\\Jonas\\Real_World_Test_DataBase_meta\\18\\218848\\Satellite_18_218848_141838.meta\n",
      "C:\\Users\\AISG\\Documents\\Jonas\\Real_World_Test_DataBase_meta\\18\\218848\\Satellite_18_218848_141839.meta\n",
      "C:\\Users\\AISG\\Documents\\Jonas\\Real_World_Test_DataBase_meta\\18\\218848\\Satellite_18_218848_141840.meta\n",
      "C:\\Users\\AISG\\Documents\\Jonas\\Real_World_Test_DataBase_meta\\18\\218848\\Satellite_18_218848_141841.meta\n",
      "C:\\Users\\AISG\\Documents\\Jonas\\Real_World_Test_DataBase_meta\\18\\218848\\Satellite_18_218848_141842.meta\n",
      "C:\\Users\\AISG\\Documents\\Jonas\\Real_World_Test_DataBase_meta\\18\\218848\\Satellite_18_218848_141843.meta\n",
      "C:\\Users\\AISG\\Documents\\Jonas\\Real_World_Test_DataBase_meta\\18\\218848\\Satellite_18_218848_141844.meta\n",
      "C:\\Users\\AISG\\Documents\\Jonas\\Real_World_Test_DataBase_meta\\18\\218848\\Satellite_18_218848_141845.meta\n",
      "C:\\Users\\AISG\\Documents\\Jonas\\Real_World_Test_DataBase_meta\\18\\218848\\Satellite_18_218848_141846.meta\n",
      "C:\\Users\\AISG\\Documents\\Jonas\\Real_World_Test_DataBase_meta\\18\\218848\\Satellite_18_218848_141847.meta\n",
      "C:\\Users\\AISG\\Documents\\Jonas\\Real_World_Test_DataBase_meta\\18\\218848\\Satellite_18_218848_141848.meta\n"
     ]
    },
    {
     "name": "stderr",
     "output_type": "stream",
     "text": [
      " 41%|███████████████████████████████▉                                              | 902/2206 [00:02<00:03, 372.18it/s]"
     ]
    },
    {
     "name": "stdout",
     "output_type": "stream",
     "text": [
      "C:\\Users\\AISG\\Documents\\Jonas\\Real_World_Test_DataBase_meta\\18\\218848\\Satellite_18_218848_141849.meta\n",
      "C:\\Users\\AISG\\Documents\\Jonas\\Real_World_Test_DataBase_meta\\18\\218848\\Satellite_18_218848_141850.meta\n",
      "C:\\Users\\AISG\\Documents\\Jonas\\Real_World_Test_DataBase_meta\\18\\218848\\Satellite_18_218848_141851.meta\n",
      "C:\\Users\\AISG\\Documents\\Jonas\\Real_World_Test_DataBase_meta\\18\\218848\\Satellite_18_218848_141852.meta\n",
      "C:\\Users\\AISG\\Documents\\Jonas\\Real_World_Test_DataBase_meta\\18\\218848\\Satellite_18_218848_141853.meta\n",
      "C:\\Users\\AISG\\Documents\\Jonas\\Real_World_Test_DataBase_meta\\18\\218848\\Satellite_18_218848_141854.meta\n",
      "C:\\Users\\AISG\\Documents\\Jonas\\Real_World_Test_DataBase_meta\\18\\218848\\Satellite_18_218848_141855.meta\n",
      "C:\\Users\\AISG\\Documents\\Jonas\\Real_World_Test_DataBase_meta\\18\\218848\\Satellite_18_218848_141856.meta\n",
      "C:\\Users\\AISG\\Documents\\Jonas\\Real_World_Test_DataBase_meta\\18\\218848\\Satellite_18_218848_141857.meta\n",
      "C:\\Users\\AISG\\Documents\\Jonas\\Real_World_Test_DataBase_meta\\18\\218848\\Satellite_18_218848_141858.meta\n",
      "C:\\Users\\AISG\\Documents\\Jonas\\Real_World_Test_DataBase_meta\\18\\218848\\Satellite_18_218848_141859.meta\n",
      "C:\\Users\\AISG\\Documents\\Jonas\\Real_World_Test_DataBase_meta\\18\\218848\\Satellite_18_218848_141860.meta\n",
      "C:\\Users\\AISG\\Documents\\Jonas\\Real_World_Test_DataBase_meta\\18\\218848\\Satellite_18_218848_141861.meta\n",
      "C:\\Users\\AISG\\Documents\\Jonas\\Real_World_Test_DataBase_meta\\18\\218848\\Satellite_18_218848_141862.meta\n",
      "C:\\Users\\AISG\\Documents\\Jonas\\Real_World_Test_DataBase_meta\\18\\218848\\Satellite_18_218848_141863.meta\n",
      "C:\\Users\\AISG\\Documents\\Jonas\\Real_World_Test_DataBase_meta\\18\\218848\\Satellite_18_218848_141864.meta\n",
      "C:\\Users\\AISG\\Documents\\Jonas\\Real_World_Test_DataBase_meta\\18\\218848\\Satellite_18_218848_141865.meta\n",
      "C:\\Users\\AISG\\Documents\\Jonas\\Real_World_Test_DataBase_meta\\18\\218848\\Satellite_18_218848_141866.meta\n",
      "C:\\Users\\AISG\\Documents\\Jonas\\Real_World_Test_DataBase_meta\\18\\218848\\Satellite_18_218848_141867.meta\n",
      "C:\\Users\\AISG\\Documents\\Jonas\\Real_World_Test_DataBase_meta\\18\\218848\\Satellite_18_218848_141868.meta\n",
      "C:\\Users\\AISG\\Documents\\Jonas\\Real_World_Test_DataBase_meta\\18\\218848\\Satellite_18_218848_141869.meta\n",
      "C:\\Users\\AISG\\Documents\\Jonas\\Real_World_Test_DataBase_meta\\18\\218848\\Satellite_18_218848_141870.meta\n",
      "C:\\Users\\AISG\\Documents\\Jonas\\Real_World_Test_DataBase_meta\\18\\218848\\Satellite_18_218848_141871.meta\n",
      "C:\\Users\\AISG\\Documents\\Jonas\\Real_World_Test_DataBase_meta\\18\\218848\\Satellite_18_218848_141872.meta\n",
      "C:\\Users\\AISG\\Documents\\Jonas\\Real_World_Test_DataBase_meta\\18\\218848\\Satellite_18_218848_141873.meta\n",
      "C:\\Users\\AISG\\Documents\\Jonas\\Real_World_Test_DataBase_meta\\18\\218848\\Satellite_18_218848_141874.meta\n",
      "C:\\Users\\AISG\\Documents\\Jonas\\Real_World_Test_DataBase_meta\\18\\218848\\Satellite_18_218848_141875.meta\n",
      "C:\\Users\\AISG\\Documents\\Jonas\\Real_World_Test_DataBase_meta\\18\\218848\\Satellite_18_218848_141876.meta\n",
      "C:\\Users\\AISG\\Documents\\Jonas\\Real_World_Test_DataBase_meta\\18\\218848\\Satellite_18_218848_141877.meta\n",
      "C:\\Users\\AISG\\Documents\\Jonas\\Real_World_Test_DataBase_meta\\18\\218848\\Satellite_18_218848_141878.meta\n",
      "C:\\Users\\AISG\\Documents\\Jonas\\Real_World_Test_DataBase_meta\\18\\218848\\Satellite_18_218848_141879.meta\n",
      "C:\\Users\\AISG\\Documents\\Jonas\\Real_World_Test_DataBase_meta\\18\\218848\\Satellite_18_218848_141880.meta\n",
      "C:\\Users\\AISG\\Documents\\Jonas\\Real_World_Test_DataBase_meta\\18\\218848\\Satellite_18_218848_141881.meta\n",
      "C:\\Users\\AISG\\Documents\\Jonas\\Real_World_Test_DataBase_meta\\18\\218848\\Satellite_18_218848_141882.meta\n",
      "C:\\Users\\AISG\\Documents\\Jonas\\Real_World_Test_DataBase_meta\\18\\218848\\Satellite_18_218848_141883.meta\n",
      "C:\\Users\\AISG\\Documents\\Jonas\\Real_World_Test_DataBase_meta\\18\\218848\\Satellite_18_218848_141884.meta\n",
      "C:\\Users\\AISG\\Documents\\Jonas\\Real_World_Test_DataBase_meta\\18\\218848\\Satellite_18_218848_141885.meta\n",
      "C:\\Users\\AISG\\Documents\\Jonas\\Real_World_Test_DataBase_meta\\18\\218848\\Satellite_18_218848_141886.meta\n",
      "C:\\Users\\AISG\\Documents\\Jonas\\Real_World_Test_DataBase_meta\\18\\218848\\Satellite_18_218848_141887.meta\n",
      "C:\\Users\\AISG\\Documents\\Jonas\\Real_World_Test_DataBase_meta\\18\\218848\\Satellite_18_218848_141888.meta\n",
      "C:\\Users\\AISG\\Documents\\Jonas\\Real_World_Test_DataBase_meta\\18\\218848\\Satellite_18_218848_141889.meta\n",
      "C:\\Users\\AISG\\Documents\\Jonas\\Real_World_Test_DataBase_meta\\18\\218848\\Satellite_18_218848_141890.meta\n",
      "C:\\Users\\AISG\\Documents\\Jonas\\Real_World_Test_DataBase_meta\\18\\218848\\Satellite_18_218848_141891.meta\n",
      "C:\\Users\\AISG\\Documents\\Jonas\\Real_World_Test_DataBase_meta\\18\\218848\\Satellite_18_218848_141892.meta\n",
      "C:\\Users\\AISG\\Documents\\Jonas\\Real_World_Test_DataBase_meta\\18\\218848\\Satellite_18_218848_141893.meta\n",
      "C:\\Users\\AISG\\Documents\\Jonas\\Real_World_Test_DataBase_meta\\18\\218848\\Satellite_18_218848_141894.meta\n",
      "C:\\Users\\AISG\\Documents\\Jonas\\Real_World_Test_DataBase_meta\\18\\218848\\Satellite_18_218848_141895.meta\n",
      "C:\\Users\\AISG\\Documents\\Jonas\\Real_World_Test_DataBase_meta\\18\\218848\\Satellite_18_218848_141896.meta\n",
      "C:\\Users\\AISG\\Documents\\Jonas\\Real_World_Test_DataBase_meta\\18\\218848\\Satellite_18_218848_141897.meta\n",
      "C:\\Users\\AISG\\Documents\\Jonas\\Real_World_Test_DataBase_meta\\18\\218848\\Satellite_18_218848_141898.meta\n",
      "C:\\Users\\AISG\\Documents\\Jonas\\Real_World_Test_DataBase_meta\\18\\218848\\Satellite_18_218848_141899.meta\n",
      "C:\\Users\\AISG\\Documents\\Jonas\\Real_World_Test_DataBase_meta\\18\\218848\\Satellite_18_218848_141900.meta\n",
      "C:\\Users\\AISG\\Documents\\Jonas\\Real_World_Test_DataBase_meta\\18\\218848\\Satellite_18_218848_141901.meta\n",
      "C:\\Users\\AISG\\Documents\\Jonas\\Real_World_Test_DataBase_meta\\18\\218848\\Satellite_18_218848_141902.meta\n",
      "C:\\Users\\AISG\\Documents\\Jonas\\Real_World_Test_DataBase_meta\\18\\218848\\Satellite_18_218848_141903.meta\n",
      "C:\\Users\\AISG\\Documents\\Jonas\\Real_World_Test_DataBase_meta\\18\\218848\\Satellite_18_218848_141904.meta\n",
      "C:\\Users\\AISG\\Documents\\Jonas\\Real_World_Test_DataBase_meta\\18\\218848\\Satellite_18_218848_141905.meta\n",
      "C:\\Users\\AISG\\Documents\\Jonas\\Real_World_Test_DataBase_meta\\18\\218848\\Satellite_18_218848_141906.meta\n",
      "C:\\Users\\AISG\\Documents\\Jonas\\Real_World_Test_DataBase_meta\\18\\218848\\Satellite_18_218848_141907.meta\n",
      "C:\\Users\\AISG\\Documents\\Jonas\\Real_World_Test_DataBase_meta\\18\\218848\\Satellite_18_218848_141908.meta\n",
      "C:\\Users\\AISG\\Documents\\Jonas\\Real_World_Test_DataBase_meta\\18\\218848\\Satellite_18_218848_141909.meta\n",
      "C:\\Users\\AISG\\Documents\\Jonas\\Real_World_Test_DataBase_meta\\18\\218848\\Satellite_18_218848_141910.meta\n",
      "C:\\Users\\AISG\\Documents\\Jonas\\Real_World_Test_DataBase_meta\\18\\218848\\Satellite_18_218848_141911.meta\n",
      "C:\\Users\\AISG\\Documents\\Jonas\\Real_World_Test_DataBase_meta\\18\\218848\\Satellite_18_218848_141912.meta\n",
      "C:\\Users\\AISG\\Documents\\Jonas\\Real_World_Test_DataBase_meta\\18\\218848\\Satellite_18_218848_141913.meta\n",
      "C:\\Users\\AISG\\Documents\\Jonas\\Real_World_Test_DataBase_meta\\18\\218848\\Satellite_18_218848_141914.meta\n",
      "C:\\Users\\AISG\\Documents\\Jonas\\Real_World_Test_DataBase_meta\\18\\218848\\Satellite_18_218848_141915.meta\n",
      "C:\\Users\\AISG\\Documents\\Jonas\\Real_World_Test_DataBase_meta\\18\\218848\\Satellite_18_218848_141916.meta\n",
      "C:\\Users\\AISG\\Documents\\Jonas\\Real_World_Test_DataBase_meta\\18\\218848\\Satellite_18_218848_141917.meta\n"
     ]
    },
    {
     "name": "stderr",
     "output_type": "stream",
     "text": [
      " 44%|██████████████████████████████████▌                                           | 978/2206 [00:02<00:03, 372.88it/s]"
     ]
    },
    {
     "name": "stdout",
     "output_type": "stream",
     "text": [
      "C:\\Users\\AISG\\Documents\\Jonas\\Real_World_Test_DataBase_meta\\18\\218848\\Satellite_18_218848_141918.meta\n",
      "C:\\Users\\AISG\\Documents\\Jonas\\Real_World_Test_DataBase_meta\\18\\218848\\Satellite_18_218848_141919.meta\n",
      "C:\\Users\\AISG\\Documents\\Jonas\\Real_World_Test_DataBase_meta\\18\\218848\\Satellite_18_218848_141920.meta\n",
      "C:\\Users\\AISG\\Documents\\Jonas\\Real_World_Test_DataBase_meta\\18\\218848\\Satellite_18_218848_141921.meta\n",
      "C:\\Users\\AISG\\Documents\\Jonas\\Real_World_Test_DataBase_meta\\18\\218848\\Satellite_18_218848_141922.meta\n",
      "C:\\Users\\AISG\\Documents\\Jonas\\Real_World_Test_DataBase_meta\\18\\218848\\Satellite_18_218848_141923.meta\n",
      "C:\\Users\\AISG\\Documents\\Jonas\\Real_World_Test_DataBase_meta\\18\\218848\\Satellite_18_218848_141924.meta\n",
      "C:\\Users\\AISG\\Documents\\Jonas\\Real_World_Test_DataBase_meta\\18\\218848\\Satellite_18_218848_141925.meta\n",
      "C:\\Users\\AISG\\Documents\\Jonas\\Real_World_Test_DataBase_meta\\18\\218848\\Satellite_18_218848_141926.meta\n",
      "C:\\Users\\AISG\\Documents\\Jonas\\Real_World_Test_DataBase_meta\\18\\218848\\Satellite_18_218848_141927.meta\n",
      "C:\\Users\\AISG\\Documents\\Jonas\\Real_World_Test_DataBase_meta\\18\\218848\\Satellite_18_218848_141928.meta\n",
      "C:\\Users\\AISG\\Documents\\Jonas\\Real_World_Test_DataBase_meta\\18\\218848\\Satellite_18_218848_141929.meta\n",
      "C:\\Users\\AISG\\Documents\\Jonas\\Real_World_Test_DataBase_meta\\18\\218848\\Satellite_18_218848_141930.meta\n",
      "C:\\Users\\AISG\\Documents\\Jonas\\Real_World_Test_DataBase_meta\\18\\218848\\Satellite_18_218848_141931.meta\n",
      "C:\\Users\\AISG\\Documents\\Jonas\\Real_World_Test_DataBase_meta\\18\\218848\\Satellite_18_218848_141932.meta\n",
      "C:\\Users\\AISG\\Documents\\Jonas\\Real_World_Test_DataBase_meta\\18\\218848\\Satellite_18_218848_141933.meta\n",
      "C:\\Users\\AISG\\Documents\\Jonas\\Real_World_Test_DataBase_meta\\18\\218848\\Satellite_18_218848_141934.meta\n",
      "C:\\Users\\AISG\\Documents\\Jonas\\Real_World_Test_DataBase_meta\\18\\218848\\Satellite_18_218848_141935.meta\n",
      "C:\\Users\\AISG\\Documents\\Jonas\\Real_World_Test_DataBase_meta\\18\\218848\\Satellite_18_218848_141936.meta\n",
      "C:\\Users\\AISG\\Documents\\Jonas\\Real_World_Test_DataBase_meta\\18\\218848\\Satellite_18_218848_141937.meta\n",
      "C:\\Users\\AISG\\Documents\\Jonas\\Real_World_Test_DataBase_meta\\18\\218848\\Satellite_18_218848_141938.meta\n",
      "C:\\Users\\AISG\\Documents\\Jonas\\Real_World_Test_DataBase_meta\\18\\218848\\Satellite_18_218848_141939.meta\n",
      "C:\\Users\\AISG\\Documents\\Jonas\\Real_World_Test_DataBase_meta\\18\\218848\\Satellite_18_218848_141940.meta\n",
      "C:\\Users\\AISG\\Documents\\Jonas\\Real_World_Test_DataBase_meta\\18\\218848\\Satellite_18_218848_141941.meta\n",
      "C:\\Users\\AISG\\Documents\\Jonas\\Real_World_Test_DataBase_meta\\18\\218848\\Satellite_18_218848_141942.meta\n",
      "C:\\Users\\AISG\\Documents\\Jonas\\Real_World_Test_DataBase_meta\\18\\218848\\Satellite_18_218848_141943.meta\n",
      "C:\\Users\\AISG\\Documents\\Jonas\\Real_World_Test_DataBase_meta\\18\\218848\\Satellite_18_218848_141944.meta\n",
      "C:\\Users\\AISG\\Documents\\Jonas\\Real_World_Test_DataBase_meta\\18\\218848\\Satellite_18_218848_141945.meta\n",
      "C:\\Users\\AISG\\Documents\\Jonas\\Real_World_Test_DataBase_meta\\18\\218848\\Satellite_18_218848_141946.meta\n",
      "C:\\Users\\AISG\\Documents\\Jonas\\Real_World_Test_DataBase_meta\\18\\218848\\Satellite_18_218848_141947.meta\n",
      "C:\\Users\\AISG\\Documents\\Jonas\\Real_World_Test_DataBase_meta\\18\\218848\\Satellite_18_218848_141948.meta\n",
      "C:\\Users\\AISG\\Documents\\Jonas\\Real_World_Test_DataBase_meta\\18\\218848\\Satellite_18_218848_141949.meta\n",
      "C:\\Users\\AISG\\Documents\\Jonas\\Real_World_Test_DataBase_meta\\18\\218848\\Satellite_18_218848_141950.meta\n",
      "C:\\Users\\AISG\\Documents\\Jonas\\Real_World_Test_DataBase_meta\\18\\218848\\Satellite_18_218848_141951.meta\n",
      "C:\\Users\\AISG\\Documents\\Jonas\\Real_World_Test_DataBase_meta\\18\\218848\\Satellite_18_218848_141952.meta\n",
      "C:\\Users\\AISG\\Documents\\Jonas\\Real_World_Test_DataBase_meta\\18\\218848\\Satellite_18_218848_141953.meta\n",
      "C:\\Users\\AISG\\Documents\\Jonas\\Real_World_Test_DataBase_meta\\18\\218848\\Satellite_18_218848_141954.meta\n",
      "C:\\Users\\AISG\\Documents\\Jonas\\Real_World_Test_DataBase_meta\\18\\218848\\Satellite_18_218848_141955.meta\n",
      "C:\\Users\\AISG\\Documents\\Jonas\\Real_World_Test_DataBase_meta\\18\\218848\\Satellite_18_218848_141956.meta\n",
      "C:\\Users\\AISG\\Documents\\Jonas\\Real_World_Test_DataBase_meta\\18\\218848\\Satellite_18_218848_141957.meta\n",
      "C:\\Users\\AISG\\Documents\\Jonas\\Real_World_Test_DataBase_meta\\18\\218848\\Satellite_18_218848_141958.meta\n",
      "C:\\Users\\AISG\\Documents\\Jonas\\Real_World_Test_DataBase_meta\\18\\218848\\Satellite_18_218848_141959.meta\n",
      "C:\\Users\\AISG\\Documents\\Jonas\\Real_World_Test_DataBase_meta\\18\\218848\\Satellite_18_218848_141960.meta\n",
      "C:\\Users\\AISG\\Documents\\Jonas\\Real_World_Test_DataBase_meta\\18\\218848\\Satellite_18_218848_141961.meta\n",
      "C:\\Users\\AISG\\Documents\\Jonas\\Real_World_Test_DataBase_meta\\18\\218848\\Satellite_18_218848_141962.meta\n",
      "C:\\Users\\AISG\\Documents\\Jonas\\Real_World_Test_DataBase_meta\\18\\218848\\Satellite_18_218848_141963.meta\n",
      "C:\\Users\\AISG\\Documents\\Jonas\\Real_World_Test_DataBase_meta\\18\\218848\\Satellite_18_218848_141964.meta\n",
      "C:\\Users\\AISG\\Documents\\Jonas\\Real_World_Test_DataBase_meta\\18\\218848\\Satellite_18_218848_141965.meta\n",
      "C:\\Users\\AISG\\Documents\\Jonas\\Real_World_Test_DataBase_meta\\18\\218848\\Satellite_18_218848_141966.meta\n",
      "C:\\Users\\AISG\\Documents\\Jonas\\Real_World_Test_DataBase_meta\\18\\218848\\Satellite_18_218848_141967.meta\n",
      "C:\\Users\\AISG\\Documents\\Jonas\\Real_World_Test_DataBase_meta\\18\\218848\\Satellite_18_218848_141968.meta\n",
      "C:\\Users\\AISG\\Documents\\Jonas\\Real_World_Test_DataBase_meta\\18\\218848\\Satellite_18_218848_141969.meta\n",
      "C:\\Users\\AISG\\Documents\\Jonas\\Real_World_Test_DataBase_meta\\18\\218848\\Satellite_18_218848_141970.meta\n",
      "C:\\Users\\AISG\\Documents\\Jonas\\Real_World_Test_DataBase_meta\\18\\218848\\Satellite_18_218848_141971.meta\n",
      "C:\\Users\\AISG\\Documents\\Jonas\\Real_World_Test_DataBase_meta\\18\\218848\\Satellite_18_218848_141972.meta\n",
      "C:\\Users\\AISG\\Documents\\Jonas\\Real_World_Test_DataBase_meta\\18\\218848\\Satellite_18_218848_141973.meta\n",
      "C:\\Users\\AISG\\Documents\\Jonas\\Real_World_Test_DataBase_meta\\18\\218848\\Satellite_18_218848_141974.meta\n",
      "C:\\Users\\AISG\\Documents\\Jonas\\Real_World_Test_DataBase_meta\\18\\218848\\Satellite_18_218848_141975.meta\n",
      "C:\\Users\\AISG\\Documents\\Jonas\\Real_World_Test_DataBase_meta\\18\\218848\\Satellite_18_218848_141976.meta\n",
      "C:\\Users\\AISG\\Documents\\Jonas\\Real_World_Test_DataBase_meta\\18\\218848\\Satellite_18_218848_141977.meta\n",
      "C:\\Users\\AISG\\Documents\\Jonas\\Real_World_Test_DataBase_meta\\18\\218848\\Satellite_18_218848_141978.meta\n",
      "C:\\Users\\AISG\\Documents\\Jonas\\Real_World_Test_DataBase_meta\\18\\218848\\Satellite_18_218848_141979.meta\n",
      "C:\\Users\\AISG\\Documents\\Jonas\\Real_World_Test_DataBase_meta\\18\\218848\\Satellite_18_218848_141980.meta\n",
      "C:\\Users\\AISG\\Documents\\Jonas\\Real_World_Test_DataBase_meta\\18\\218848\\Satellite_18_218848_141981.meta\n",
      "C:\\Users\\AISG\\Documents\\Jonas\\Real_World_Test_DataBase_meta\\18\\218848\\Satellite_18_218848_141982.meta\n",
      "C:\\Users\\AISG\\Documents\\Jonas\\Real_World_Test_DataBase_meta\\18\\218848\\Satellite_18_218848_141983.meta\n",
      "C:\\Users\\AISG\\Documents\\Jonas\\Real_World_Test_DataBase_meta\\18\\218848\\Satellite_18_218848_141984.meta\n",
      "C:\\Users\\AISG\\Documents\\Jonas\\Real_World_Test_DataBase_meta\\18\\218848\\Satellite_18_218848_141985.meta\n",
      "C:\\Users\\AISG\\Documents\\Jonas\\Real_World_Test_DataBase_meta\\18\\218848\\Satellite_18_218848_141986.meta\n",
      "C:\\Users\\AISG\\Documents\\Jonas\\Real_World_Test_DataBase_meta\\18\\218848\\Satellite_18_218848_141987.meta\n",
      "C:\\Users\\AISG\\Documents\\Jonas\\Real_World_Test_DataBase_meta\\18\\218848\\Satellite_18_218848_141988.meta\n"
     ]
    },
    {
     "name": "stderr",
     "output_type": "stream",
     "text": [
      " 48%|████████████████████████████████████▊                                        | 1054/2206 [00:02<00:03, 370.71it/s]"
     ]
    },
    {
     "name": "stdout",
     "output_type": "stream",
     "text": [
      "C:\\Users\\AISG\\Documents\\Jonas\\Real_World_Test_DataBase_meta\\18\\218848\\Satellite_18_218848_141989.meta\n",
      "C:\\Users\\AISG\\Documents\\Jonas\\Real_World_Test_DataBase_meta\\18\\218848\\Satellite_18_218848_141990.meta\n",
      "C:\\Users\\AISG\\Documents\\Jonas\\Real_World_Test_DataBase_meta\\18\\218848\\Satellite_18_218848_141991.meta\n",
      "C:\\Users\\AISG\\Documents\\Jonas\\Real_World_Test_DataBase_meta\\18\\218848\\Satellite_18_218848_141992.meta\n",
      "C:\\Users\\AISG\\Documents\\Jonas\\Real_World_Test_DataBase_meta\\18\\218848\\Satellite_18_218848_141993.meta\n",
      "C:\\Users\\AISG\\Documents\\Jonas\\Real_World_Test_DataBase_meta\\18\\218848\\Satellite_18_218848_141994.meta\n",
      "C:\\Users\\AISG\\Documents\\Jonas\\Real_World_Test_DataBase_meta\\18\\218848\\Satellite_18_218848_141995.meta\n",
      "C:\\Users\\AISG\\Documents\\Jonas\\Real_World_Test_DataBase_meta\\18\\218848\\Satellite_18_218848_141996.meta\n",
      "C:\\Users\\AISG\\Documents\\Jonas\\Real_World_Test_DataBase_meta\\18\\218848\\Satellite_18_218848_141997.meta\n",
      "C:\\Users\\AISG\\Documents\\Jonas\\Real_World_Test_DataBase_meta\\18\\218848\\Satellite_18_218848_141998.meta\n",
      "C:\\Users\\AISG\\Documents\\Jonas\\Real_World_Test_DataBase_meta\\18\\218848\\Satellite_18_218848_141999.meta\n",
      "C:\\Users\\AISG\\Documents\\Jonas\\Real_World_Test_DataBase_meta\\18\\218848\\Satellite_18_218848_142000.meta\n",
      "C:\\Users\\AISG\\Documents\\Jonas\\Real_World_Test_DataBase_meta\\18\\218848\\Satellite_18_218848_142001.meta\n",
      "C:\\Users\\AISG\\Documents\\Jonas\\Real_World_Test_DataBase_meta\\18\\218848\\Satellite_18_218848_142002.meta\n",
      "C:\\Users\\AISG\\Documents\\Jonas\\Real_World_Test_DataBase_meta\\18\\218848\\Satellite_18_218848_142003.meta\n",
      "C:\\Users\\AISG\\Documents\\Jonas\\Real_World_Test_DataBase_meta\\18\\218848\\Satellite_18_218848_142004.meta\n",
      "C:\\Users\\AISG\\Documents\\Jonas\\Real_World_Test_DataBase_meta\\18\\218848\\Satellite_18_218848_142005.meta\n",
      "C:\\Users\\AISG\\Documents\\Jonas\\Real_World_Test_DataBase_meta\\18\\218848\\Satellite_18_218848_142006.meta\n",
      "C:\\Users\\AISG\\Documents\\Jonas\\Real_World_Test_DataBase_meta\\18\\218848\\Satellite_18_218848_142007.meta\n",
      "C:\\Users\\AISG\\Documents\\Jonas\\Real_World_Test_DataBase_meta\\18\\218848\\Satellite_18_218848_142008.meta\n",
      "C:\\Users\\AISG\\Documents\\Jonas\\Real_World_Test_DataBase_meta\\18\\218848\\Satellite_18_218848_142009.meta\n",
      "C:\\Users\\AISG\\Documents\\Jonas\\Real_World_Test_DataBase_meta\\18\\218848\\Satellite_18_218848_142010.meta\n",
      "C:\\Users\\AISG\\Documents\\Jonas\\Real_World_Test_DataBase_meta\\18\\218848\\Satellite_18_218848_142011.meta\n",
      "C:\\Users\\AISG\\Documents\\Jonas\\Real_World_Test_DataBase_meta\\18\\218848\\Satellite_18_218848_142012.meta\n",
      "C:\\Users\\AISG\\Documents\\Jonas\\Real_World_Test_DataBase_meta\\18\\218848\\Satellite_18_218848_142013.meta\n",
      "C:\\Users\\AISG\\Documents\\Jonas\\Real_World_Test_DataBase_meta\\18\\218848\\Satellite_18_218848_142014.meta\n",
      "C:\\Users\\AISG\\Documents\\Jonas\\Real_World_Test_DataBase_meta\\18\\218848\\Satellite_18_218848_142015.meta\n",
      "C:\\Users\\AISG\\Documents\\Jonas\\Real_World_Test_DataBase_meta\\18\\218848\\Satellite_18_218848_142016.meta\n",
      "C:\\Users\\AISG\\Documents\\Jonas\\Real_World_Test_DataBase_meta\\18\\218848\\Satellite_18_218848_142017.meta\n",
      "C:\\Users\\AISG\\Documents\\Jonas\\Real_World_Test_DataBase_meta\\18\\218848\\Satellite_18_218848_142018.meta\n",
      "C:\\Users\\AISG\\Documents\\Jonas\\Real_World_Test_DataBase_meta\\18\\218848\\Satellite_18_218848_142019.meta\n",
      "C:\\Users\\AISG\\Documents\\Jonas\\Real_World_Test_DataBase_meta\\18\\218848\\Satellite_18_218848_142020.meta\n",
      "C:\\Users\\AISG\\Documents\\Jonas\\Real_World_Test_DataBase_meta\\18\\218848\\Satellite_18_218848_142021.meta\n",
      "C:\\Users\\AISG\\Documents\\Jonas\\Real_World_Test_DataBase_meta\\18\\218848\\Satellite_18_218848_142022.meta\n",
      "C:\\Users\\AISG\\Documents\\Jonas\\Real_World_Test_DataBase_meta\\18\\218848\\Satellite_18_218848_142023.meta\n",
      "C:\\Users\\AISG\\Documents\\Jonas\\Real_World_Test_DataBase_meta\\18\\218848\\Satellite_18_218848_142024.meta\n",
      "C:\\Users\\AISG\\Documents\\Jonas\\Real_World_Test_DataBase_meta\\18\\218848\\Satellite_18_218848_142025.meta\n",
      "C:\\Users\\AISG\\Documents\\Jonas\\Real_World_Test_DataBase_meta\\18\\218848\\Satellite_18_218848_142026.meta\n",
      "C:\\Users\\AISG\\Documents\\Jonas\\Real_World_Test_DataBase_meta\\18\\218848\\Satellite_18_218848_142027.meta\n",
      "C:\\Users\\AISG\\Documents\\Jonas\\Real_World_Test_DataBase_meta\\18\\218848\\Satellite_18_218848_142028.meta\n",
      "C:\\Users\\AISG\\Documents\\Jonas\\Real_World_Test_DataBase_meta\\18\\218848\\Satellite_18_218848_142029.meta\n",
      "C:\\Users\\AISG\\Documents\\Jonas\\Real_World_Test_DataBase_meta\\18\\218848\\Satellite_18_218848_142030.meta\n",
      "C:\\Users\\AISG\\Documents\\Jonas\\Real_World_Test_DataBase_meta\\18\\218848\\Satellite_18_218848_142031.meta\n",
      "C:\\Users\\AISG\\Documents\\Jonas\\Real_World_Test_DataBase_meta\\18\\218848\\Satellite_18_218848_142032.meta\n",
      "C:\\Users\\AISG\\Documents\\Jonas\\Real_World_Test_DataBase_meta\\18\\218848\\Satellite_18_218848_142033.meta\n",
      "C:\\Users\\AISG\\Documents\\Jonas\\Real_World_Test_DataBase_meta\\18\\218848\\Satellite_18_218848_142034.meta\n",
      "C:\\Users\\AISG\\Documents\\Jonas\\Real_World_Test_DataBase_meta\\18\\218848\\Satellite_18_218848_142035.meta\n",
      "C:\\Users\\AISG\\Documents\\Jonas\\Real_World_Test_DataBase_meta\\18\\218848\\Satellite_18_218848_142036.meta\n",
      "C:\\Users\\AISG\\Documents\\Jonas\\Real_World_Test_DataBase_meta\\18\\218848\\Satellite_18_218848_142037.meta\n",
      "C:\\Users\\AISG\\Documents\\Jonas\\Real_World_Test_DataBase_meta\\18\\218848\\Satellite_18_218848_142038.meta\n",
      "C:\\Users\\AISG\\Documents\\Jonas\\Real_World_Test_DataBase_meta\\18\\218848\\Satellite_18_218848_142039.meta\n",
      "C:\\Users\\AISG\\Documents\\Jonas\\Real_World_Test_DataBase_meta\\18\\218848\\Satellite_18_218848_142040.meta\n",
      "C:\\Users\\AISG\\Documents\\Jonas\\Real_World_Test_DataBase_meta\\18\\218848\\Satellite_18_218848_142041.meta\n",
      "C:\\Users\\AISG\\Documents\\Jonas\\Real_World_Test_DataBase_meta\\18\\218848\\Satellite_18_218848_142042.meta\n",
      "C:\\Users\\AISG\\Documents\\Jonas\\Real_World_Test_DataBase_meta\\18\\218848\\Satellite_18_218848_142043.meta\n",
      "C:\\Users\\AISG\\Documents\\Jonas\\Real_World_Test_DataBase_meta\\18\\218848\\Satellite_18_218848_142044.meta\n",
      "C:\\Users\\AISG\\Documents\\Jonas\\Real_World_Test_DataBase_meta\\18\\218848\\Satellite_18_218848_142045.meta\n",
      "C:\\Users\\AISG\\Documents\\Jonas\\Real_World_Test_DataBase_meta\\18\\218848\\Satellite_18_218848_142046.meta\n",
      "C:\\Users\\AISG\\Documents\\Jonas\\Real_World_Test_DataBase_meta\\18\\218848\\Satellite_18_218848_142047.meta\n",
      "C:\\Users\\AISG\\Documents\\Jonas\\Real_World_Test_DataBase_meta\\18\\218848\\Satellite_18_218848_142048.meta\n",
      "C:\\Users\\AISG\\Documents\\Jonas\\Real_World_Test_DataBase_meta\\18\\218848\\Satellite_18_218848_142049.meta\n",
      "C:\\Users\\AISG\\Documents\\Jonas\\Real_World_Test_DataBase_meta\\18\\218848\\Satellite_18_218848_142050.meta\n",
      "C:\\Users\\AISG\\Documents\\Jonas\\Real_World_Test_DataBase_meta\\18\\218848\\Satellite_18_218848_142051.meta\n",
      "C:\\Users\\AISG\\Documents\\Jonas\\Real_World_Test_DataBase_meta\\18\\218848\\Satellite_18_218848_142052.meta\n",
      "C:\\Users\\AISG\\Documents\\Jonas\\Real_World_Test_DataBase_meta\\18\\218848\\Satellite_18_218848_142053.meta\n",
      "C:\\Users\\AISG\\Documents\\Jonas\\Real_World_Test_DataBase_meta\\18\\218848\\Satellite_18_218848_142054.meta\n",
      "C:\\Users\\AISG\\Documents\\Jonas\\Real_World_Test_DataBase_meta\\18\\218848\\Satellite_18_218848_142055.meta\n",
      "C:\\Users\\AISG\\Documents\\Jonas\\Real_World_Test_DataBase_meta\\18\\218848\\Satellite_18_218848_142056.meta\n",
      "C:\\Users\\AISG\\Documents\\Jonas\\Real_World_Test_DataBase_meta\\18\\218848\\Satellite_18_218848_142057.meta\n"
     ]
    },
    {
     "name": "stderr",
     "output_type": "stream",
     "text": [
      " 51%|███████████████████████████████████████▍                                     | 1130/2206 [00:02<00:02, 371.81it/s]"
     ]
    },
    {
     "name": "stdout",
     "output_type": "stream",
     "text": [
      "C:\\Users\\AISG\\Documents\\Jonas\\Real_World_Test_DataBase_meta\\18\\218848\\Satellite_18_218848_142058.meta\n",
      "C:\\Users\\AISG\\Documents\\Jonas\\Real_World_Test_DataBase_meta\\18\\218848\\Satellite_18_218848_142059.meta\n",
      "C:\\Users\\AISG\\Documents\\Jonas\\Real_World_Test_DataBase_meta\\18\\218848\\Satellite_18_218848_142060.meta\n",
      "C:\\Users\\AISG\\Documents\\Jonas\\Real_World_Test_DataBase_meta\\18\\218848\\Satellite_18_218848_142061.meta\n",
      "C:\\Users\\AISG\\Documents\\Jonas\\Real_World_Test_DataBase_meta\\18\\218848\\Satellite_18_218848_142062.meta\n",
      "C:\\Users\\AISG\\Documents\\Jonas\\Real_World_Test_DataBase_meta\\18\\218848\\Satellite_18_218848_142063.meta\n",
      "C:\\Users\\AISG\\Documents\\Jonas\\Real_World_Test_DataBase_meta\\18\\218848\\Satellite_18_218848_142064.meta\n",
      "C:\\Users\\AISG\\Documents\\Jonas\\Real_World_Test_DataBase_meta\\18\\218848\\Satellite_18_218848_142065.meta\n",
      "C:\\Users\\AISG\\Documents\\Jonas\\Real_World_Test_DataBase_meta\\18\\218848\\Satellite_18_218848_142066.meta\n",
      "C:\\Users\\AISG\\Documents\\Jonas\\Real_World_Test_DataBase_meta\\18\\218848\\Satellite_18_218848_142067.meta\n",
      "C:\\Users\\AISG\\Documents\\Jonas\\Real_World_Test_DataBase_meta\\18\\218848\\Satellite_18_218848_142068.meta\n",
      "C:\\Users\\AISG\\Documents\\Jonas\\Real_World_Test_DataBase_meta\\18\\218848\\Satellite_18_218848_142069.meta\n",
      "C:\\Users\\AISG\\Documents\\Jonas\\Real_World_Test_DataBase_meta\\18\\218848\\Satellite_18_218848_142070.meta\n",
      "C:\\Users\\AISG\\Documents\\Jonas\\Real_World_Test_DataBase_meta\\18\\218848\\Satellite_18_218848_142071.meta\n",
      "C:\\Users\\AISG\\Documents\\Jonas\\Real_World_Test_DataBase_meta\\18\\218848\\Satellite_18_218848_142072.meta\n",
      "C:\\Users\\AISG\\Documents\\Jonas\\Real_World_Test_DataBase_meta\\18\\218848\\Satellite_18_218848_142073.meta\n",
      "C:\\Users\\AISG\\Documents\\Jonas\\Real_World_Test_DataBase_meta\\18\\218848\\Satellite_18_218848_142074.meta\n",
      "C:\\Users\\AISG\\Documents\\Jonas\\Real_World_Test_DataBase_meta\\18\\218848\\Satellite_18_218848_142075.meta\n",
      "C:\\Users\\AISG\\Documents\\Jonas\\Real_World_Test_DataBase_meta\\18\\218848\\Satellite_18_218848_142076.meta\n",
      "C:\\Users\\AISG\\Documents\\Jonas\\Real_World_Test_DataBase_meta\\18\\218848\\Satellite_18_218848_142077.meta\n",
      "C:\\Users\\AISG\\Documents\\Jonas\\Real_World_Test_DataBase_meta\\18\\218848\\Satellite_18_218848_142078.meta\n",
      "C:\\Users\\AISG\\Documents\\Jonas\\Real_World_Test_DataBase_meta\\18\\218848\\Satellite_18_218848_142079.meta\n",
      "C:\\Users\\AISG\\Documents\\Jonas\\Real_World_Test_DataBase_meta\\18\\218848\\Satellite_18_218848_142080.meta\n",
      "C:\\Users\\AISG\\Documents\\Jonas\\Real_World_Test_DataBase_meta\\18\\218848\\Satellite_18_218848_142081.meta\n",
      "C:\\Users\\AISG\\Documents\\Jonas\\Real_World_Test_DataBase_meta\\18\\218848\\Satellite_18_218848_142082.meta\n",
      "C:\\Users\\AISG\\Documents\\Jonas\\Real_World_Test_DataBase_meta\\18\\218848\\Satellite_18_218848_142083.meta\n",
      "C:\\Users\\AISG\\Documents\\Jonas\\Real_World_Test_DataBase_meta\\18\\218848\\Satellite_18_218848_142084.meta\n",
      "C:\\Users\\AISG\\Documents\\Jonas\\Real_World_Test_DataBase_meta\\18\\218848\\Satellite_18_218848_142085.meta\n",
      "C:\\Users\\AISG\\Documents\\Jonas\\Real_World_Test_DataBase_meta\\18\\218848\\Satellite_18_218848_142086.meta\n",
      "C:\\Users\\AISG\\Documents\\Jonas\\Real_World_Test_DataBase_meta\\18\\218848\\Satellite_18_218848_142087.meta\n",
      "C:\\Users\\AISG\\Documents\\Jonas\\Real_World_Test_DataBase_meta\\18\\218848\\Satellite_18_218848_142088.meta\n",
      "C:\\Users\\AISG\\Documents\\Jonas\\Real_World_Test_DataBase_meta\\18\\218848\\Satellite_18_218848_142089.meta\n",
      "C:\\Users\\AISG\\Documents\\Jonas\\Real_World_Test_DataBase_meta\\18\\218848\\Satellite_18_218848_142090.meta\n",
      "C:\\Users\\AISG\\Documents\\Jonas\\Real_World_Test_DataBase_meta\\18\\218848\\Satellite_18_218848_142091.meta\n",
      "C:\\Users\\AISG\\Documents\\Jonas\\Real_World_Test_DataBase_meta\\18\\218848\\Satellite_18_218848_142092.meta\n",
      "C:\\Users\\AISG\\Documents\\Jonas\\Real_World_Test_DataBase_meta\\18\\218848\\Satellite_18_218848_142093.meta\n",
      "C:\\Users\\AISG\\Documents\\Jonas\\Real_World_Test_DataBase_meta\\18\\218848\\Satellite_18_218848_142094.meta\n",
      "C:\\Users\\AISG\\Documents\\Jonas\\Real_World_Test_DataBase_meta\\18\\218848\\Satellite_18_218848_142095.meta\n",
      "C:\\Users\\AISG\\Documents\\Jonas\\Real_World_Test_DataBase_meta\\18\\218848\\Satellite_18_218848_142096.meta\n",
      "C:\\Users\\AISG\\Documents\\Jonas\\Real_World_Test_DataBase_meta\\18\\218848\\Satellite_18_218848_142097.meta\n",
      "C:\\Users\\AISG\\Documents\\Jonas\\Real_World_Test_DataBase_meta\\18\\218848\\Satellite_18_218848_142098.meta\n",
      "C:\\Users\\AISG\\Documents\\Jonas\\Real_World_Test_DataBase_meta\\18\\218848\\Satellite_18_218848_142099.meta\n",
      "C:\\Users\\AISG\\Documents\\Jonas\\Real_World_Test_DataBase_meta\\18\\218848\\Satellite_18_218848_142100.meta\n",
      "C:\\Users\\AISG\\Documents\\Jonas\\Real_World_Test_DataBase_meta\\18\\218848\\Satellite_18_218848_142101.meta\n",
      "C:\\Users\\AISG\\Documents\\Jonas\\Real_World_Test_DataBase_meta\\18\\218848\\Satellite_18_218848_142102.meta\n",
      "C:\\Users\\AISG\\Documents\\Jonas\\Real_World_Test_DataBase_meta\\18\\218848\\Satellite_18_218848_142103.meta\n",
      "C:\\Users\\AISG\\Documents\\Jonas\\Real_World_Test_DataBase_meta\\18\\218848\\Satellite_18_218848_142104.meta\n",
      "C:\\Users\\AISG\\Documents\\Jonas\\Real_World_Test_DataBase_meta\\18\\218848\\Satellite_18_218848_142105.meta\n",
      "C:\\Users\\AISG\\Documents\\Jonas\\Real_World_Test_DataBase_meta\\18\\218848\\Satellite_18_218848_142106.meta\n",
      "C:\\Users\\AISG\\Documents\\Jonas\\Real_World_Test_DataBase_meta\\18\\218848\\Satellite_18_218848_142107.meta\n",
      "C:\\Users\\AISG\\Documents\\Jonas\\Real_World_Test_DataBase_meta\\18\\218848\\Satellite_18_218848_142108.meta\n",
      "C:\\Users\\AISG\\Documents\\Jonas\\Real_World_Test_DataBase_meta\\18\\218848\\Satellite_18_218848_142109.meta\n",
      "C:\\Users\\AISG\\Documents\\Jonas\\Real_World_Test_DataBase_meta\\18\\218848\\Satellite_18_218848_142110.meta\n",
      "C:\\Users\\AISG\\Documents\\Jonas\\Real_World_Test_DataBase_meta\\18\\218848\\Satellite_18_218848_142111.meta\n",
      "C:\\Users\\AISG\\Documents\\Jonas\\Real_World_Test_DataBase_meta\\18\\218848\\Satellite_18_218848_142112.meta\n",
      "C:\\Users\\AISG\\Documents\\Jonas\\Real_World_Test_DataBase_meta\\18\\218848\\Satellite_18_218848_142113.meta\n",
      "C:\\Users\\AISG\\Documents\\Jonas\\Real_World_Test_DataBase_meta\\18\\218848\\Satellite_18_218848_142114.meta\n",
      "C:\\Users\\AISG\\Documents\\Jonas\\Real_World_Test_DataBase_meta\\18\\218848\\Satellite_18_218848_142115.meta\n",
      "C:\\Users\\AISG\\Documents\\Jonas\\Real_World_Test_DataBase_meta\\18\\218848\\Satellite_18_218848_142116.meta\n",
      "C:\\Users\\AISG\\Documents\\Jonas\\Real_World_Test_DataBase_meta\\18\\218848\\Satellite_18_218848_142117.meta\n",
      "C:\\Users\\AISG\\Documents\\Jonas\\Real_World_Test_DataBase_meta\\18\\218848\\Satellite_18_218848_142118.meta\n",
      "C:\\Users\\AISG\\Documents\\Jonas\\Real_World_Test_DataBase_meta\\18\\218848\\Satellite_18_218848_142119.meta\n",
      "C:\\Users\\AISG\\Documents\\Jonas\\Real_World_Test_DataBase_meta\\18\\218848\\Satellite_18_218848_142120.meta\n",
      "C:\\Users\\AISG\\Documents\\Jonas\\Real_World_Test_DataBase_meta\\18\\218848\\Satellite_18_218848_142121.meta\n",
      "C:\\Users\\AISG\\Documents\\Jonas\\Real_World_Test_DataBase_meta\\18\\218848\\Satellite_18_218848_142122.meta\n",
      "C:\\Users\\AISG\\Documents\\Jonas\\Real_World_Test_DataBase_meta\\18\\218848\\Satellite_18_218848_142123.meta\n",
      "C:\\Users\\AISG\\Documents\\Jonas\\Real_World_Test_DataBase_meta\\18\\218848\\Satellite_18_218848_142124.meta\n",
      "C:\\Users\\AISG\\Documents\\Jonas\\Real_World_Test_DataBase_meta\\18\\218848\\Satellite_18_218848_142127.meta\n",
      "C:\\Users\\AISG\\Documents\\Jonas\\Real_World_Test_DataBase_meta\\18\\218848\\Satellite_18_218848_142128.meta\n"
     ]
    },
    {
     "name": "stderr",
     "output_type": "stream",
     "text": [
      " 55%|██████████████████████████████████████████                                   | 1206/2206 [00:03<00:02, 369.34it/s]"
     ]
    },
    {
     "name": "stdout",
     "output_type": "stream",
     "text": [
      "C:\\Users\\AISG\\Documents\\Jonas\\Real_World_Test_DataBase_meta\\18\\219284\\Satellite_18_219284_141388.meta\n",
      "C:\\Users\\AISG\\Documents\\Jonas\\Real_World_Test_DataBase_meta\\18\\219284\\Satellite_18_219284_141389.meta\n",
      "C:\\Users\\AISG\\Documents\\Jonas\\Real_World_Test_DataBase_meta\\18\\219284\\Satellite_18_219284_141390.meta\n",
      "C:\\Users\\AISG\\Documents\\Jonas\\Real_World_Test_DataBase_meta\\18\\219284\\Satellite_18_219284_141391.meta\n",
      "C:\\Users\\AISG\\Documents\\Jonas\\Real_World_Test_DataBase_meta\\18\\219284\\Satellite_18_219284_141392.meta\n",
      "C:\\Users\\AISG\\Documents\\Jonas\\Real_World_Test_DataBase_meta\\18\\219284\\Satellite_18_219284_141393.meta\n",
      "C:\\Users\\AISG\\Documents\\Jonas\\Real_World_Test_DataBase_meta\\18\\219284\\Satellite_18_219284_141394.meta\n",
      "C:\\Users\\AISG\\Documents\\Jonas\\Real_World_Test_DataBase_meta\\18\\219284\\Satellite_18_219284_141395.meta\n",
      "C:\\Users\\AISG\\Documents\\Jonas\\Real_World_Test_DataBase_meta\\18\\219284\\Satellite_18_219284_141396.meta\n",
      "C:\\Users\\AISG\\Documents\\Jonas\\Real_World_Test_DataBase_meta\\18\\219284\\Satellite_18_219284_141397.meta\n",
      "C:\\Users\\AISG\\Documents\\Jonas\\Real_World_Test_DataBase_meta\\18\\219284\\Satellite_18_219284_141398.meta\n",
      "C:\\Users\\AISG\\Documents\\Jonas\\Real_World_Test_DataBase_meta\\18\\219284\\Satellite_18_219284_141399.meta\n",
      "C:\\Users\\AISG\\Documents\\Jonas\\Real_World_Test_DataBase_meta\\18\\219284\\Satellite_18_219284_141400.meta\n",
      "C:\\Users\\AISG\\Documents\\Jonas\\Real_World_Test_DataBase_meta\\18\\219284\\Satellite_18_219284_141401.meta\n",
      "C:\\Users\\AISG\\Documents\\Jonas\\Real_World_Test_DataBase_meta\\18\\219284\\Satellite_18_219284_141402.meta\n",
      "C:\\Users\\AISG\\Documents\\Jonas\\Real_World_Test_DataBase_meta\\18\\219284\\Satellite_18_219284_141403.meta\n",
      "C:\\Users\\AISG\\Documents\\Jonas\\Real_World_Test_DataBase_meta\\18\\219284\\Satellite_18_219284_141404.meta\n",
      "C:\\Users\\AISG\\Documents\\Jonas\\Real_World_Test_DataBase_meta\\18\\219284\\Satellite_18_219284_141405.meta\n",
      "C:\\Users\\AISG\\Documents\\Jonas\\Real_World_Test_DataBase_meta\\18\\219284\\Satellite_18_219284_141406.meta\n",
      "C:\\Users\\AISG\\Documents\\Jonas\\Real_World_Test_DataBase_meta\\18\\219284\\Satellite_18_219284_141407.meta\n",
      "C:\\Users\\AISG\\Documents\\Jonas\\Real_World_Test_DataBase_meta\\18\\219284\\Satellite_18_219284_141408.meta\n",
      "C:\\Users\\AISG\\Documents\\Jonas\\Real_World_Test_DataBase_meta\\18\\219284\\Satellite_18_219284_141409.meta\n",
      "C:\\Users\\AISG\\Documents\\Jonas\\Real_World_Test_DataBase_meta\\18\\219284\\Satellite_18_219284_141410.meta\n",
      "C:\\Users\\AISG\\Documents\\Jonas\\Real_World_Test_DataBase_meta\\18\\219284\\Satellite_18_219284_141411.meta\n",
      "C:\\Users\\AISG\\Documents\\Jonas\\Real_World_Test_DataBase_meta\\18\\219284\\Satellite_18_219284_141412.meta\n",
      "C:\\Users\\AISG\\Documents\\Jonas\\Real_World_Test_DataBase_meta\\18\\219284\\Satellite_18_219284_141413.meta\n",
      "C:\\Users\\AISG\\Documents\\Jonas\\Real_World_Test_DataBase_meta\\18\\219284\\Satellite_18_219284_141414.meta\n",
      "C:\\Users\\AISG\\Documents\\Jonas\\Real_World_Test_DataBase_meta\\18\\219284\\Satellite_18_219284_141415.meta\n",
      "C:\\Users\\AISG\\Documents\\Jonas\\Real_World_Test_DataBase_meta\\18\\219284\\Satellite_18_219284_141416.meta\n",
      "C:\\Users\\AISG\\Documents\\Jonas\\Real_World_Test_DataBase_meta\\18\\219284\\Satellite_18_219284_141417.meta\n",
      "C:\\Users\\AISG\\Documents\\Jonas\\Real_World_Test_DataBase_meta\\18\\219284\\Satellite_18_219284_141418.meta\n",
      "C:\\Users\\AISG\\Documents\\Jonas\\Real_World_Test_DataBase_meta\\18\\219284\\Satellite_18_219284_141419.meta\n",
      "C:\\Users\\AISG\\Documents\\Jonas\\Real_World_Test_DataBase_meta\\18\\219284\\Satellite_18_219284_141420.meta\n",
      "C:\\Users\\AISG\\Documents\\Jonas\\Real_World_Test_DataBase_meta\\18\\219284\\Satellite_18_219284_141421.meta\n",
      "C:\\Users\\AISG\\Documents\\Jonas\\Real_World_Test_DataBase_meta\\18\\219284\\Satellite_18_219284_141422.meta\n",
      "C:\\Users\\AISG\\Documents\\Jonas\\Real_World_Test_DataBase_meta\\18\\219284\\Satellite_18_219284_141423.meta\n",
      "C:\\Users\\AISG\\Documents\\Jonas\\Real_World_Test_DataBase_meta\\18\\219284\\Satellite_18_219284_141424.meta\n",
      "C:\\Users\\AISG\\Documents\\Jonas\\Real_World_Test_DataBase_meta\\18\\219284\\Satellite_18_219284_141425.meta\n",
      "C:\\Users\\AISG\\Documents\\Jonas\\Real_World_Test_DataBase_meta\\18\\219284\\Satellite_18_219284_141426.meta\n",
      "C:\\Users\\AISG\\Documents\\Jonas\\Real_World_Test_DataBase_meta\\18\\219284\\Satellite_18_219284_141427.meta\n",
      "C:\\Users\\AISG\\Documents\\Jonas\\Real_World_Test_DataBase_meta\\18\\219284\\Satellite_18_219284_141428.meta\n",
      "C:\\Users\\AISG\\Documents\\Jonas\\Real_World_Test_DataBase_meta\\18\\219284\\Satellite_18_219284_141429.meta\n",
      "C:\\Users\\AISG\\Documents\\Jonas\\Real_World_Test_DataBase_meta\\18\\219284\\Satellite_18_219284_141430.meta\n",
      "C:\\Users\\AISG\\Documents\\Jonas\\Real_World_Test_DataBase_meta\\18\\219284\\Satellite_18_219284_141431.meta\n",
      "C:\\Users\\AISG\\Documents\\Jonas\\Real_World_Test_DataBase_meta\\18\\219284\\Satellite_18_219284_141432.meta\n",
      "C:\\Users\\AISG\\Documents\\Jonas\\Real_World_Test_DataBase_meta\\18\\219284\\Satellite_18_219284_141433.meta\n",
      "C:\\Users\\AISG\\Documents\\Jonas\\Real_World_Test_DataBase_meta\\18\\219284\\Satellite_18_219284_141434.meta\n",
      "C:\\Users\\AISG\\Documents\\Jonas\\Real_World_Test_DataBase_meta\\18\\219284\\Satellite_18_219284_141435.meta\n",
      "C:\\Users\\AISG\\Documents\\Jonas\\Real_World_Test_DataBase_meta\\18\\219284\\Satellite_18_219284_141436.meta\n",
      "C:\\Users\\AISG\\Documents\\Jonas\\Real_World_Test_DataBase_meta\\18\\219284\\Satellite_18_219284_141437.meta\n",
      "C:\\Users\\AISG\\Documents\\Jonas\\Real_World_Test_DataBase_meta\\18\\219284\\Satellite_18_219284_141438.meta\n",
      "C:\\Users\\AISG\\Documents\\Jonas\\Real_World_Test_DataBase_meta\\18\\219284\\Satellite_18_219284_141439.meta\n",
      "C:\\Users\\AISG\\Documents\\Jonas\\Real_World_Test_DataBase_meta\\18\\219284\\Satellite_18_219284_141440.meta\n",
      "C:\\Users\\AISG\\Documents\\Jonas\\Real_World_Test_DataBase_meta\\18\\219284\\Satellite_18_219284_141441.meta\n",
      "C:\\Users\\AISG\\Documents\\Jonas\\Real_World_Test_DataBase_meta\\18\\219284\\Satellite_18_219284_141442.meta\n",
      "C:\\Users\\AISG\\Documents\\Jonas\\Real_World_Test_DataBase_meta\\18\\219284\\Satellite_18_219284_141443.meta\n",
      "C:\\Users\\AISG\\Documents\\Jonas\\Real_World_Test_DataBase_meta\\18\\219284\\Satellite_18_219284_141444.meta\n",
      "C:\\Users\\AISG\\Documents\\Jonas\\Real_World_Test_DataBase_meta\\18\\219284\\Satellite_18_219284_141445.meta\n",
      "C:\\Users\\AISG\\Documents\\Jonas\\Real_World_Test_DataBase_meta\\18\\219284\\Satellite_18_219284_141446.meta\n",
      "C:\\Users\\AISG\\Documents\\Jonas\\Real_World_Test_DataBase_meta\\18\\219284\\Satellite_18_219284_141447.meta\n",
      "C:\\Users\\AISG\\Documents\\Jonas\\Real_World_Test_DataBase_meta\\18\\219284\\Satellite_18_219284_141448.meta\n",
      "C:\\Users\\AISG\\Documents\\Jonas\\Real_World_Test_DataBase_meta\\18\\219284\\Satellite_18_219284_141449.meta\n",
      "C:\\Users\\AISG\\Documents\\Jonas\\Real_World_Test_DataBase_meta\\18\\219284\\Satellite_18_219284_141450.meta\n",
      "C:\\Users\\AISG\\Documents\\Jonas\\Real_World_Test_DataBase_meta\\18\\219284\\Satellite_18_219284_141451.meta\n",
      "C:\\Users\\AISG\\Documents\\Jonas\\Real_World_Test_DataBase_meta\\18\\219284\\Satellite_18_219284_141452.meta\n",
      "C:\\Users\\AISG\\Documents\\Jonas\\Real_World_Test_DataBase_meta\\18\\219284\\Satellite_18_219284_141453.meta\n",
      "C:\\Users\\AISG\\Documents\\Jonas\\Real_World_Test_DataBase_meta\\18\\219284\\Satellite_18_219284_141454.meta\n",
      "C:\\Users\\AISG\\Documents\\Jonas\\Real_World_Test_DataBase_meta\\18\\219284\\Satellite_18_219284_141455.meta\n",
      "C:\\Users\\AISG\\Documents\\Jonas\\Real_World_Test_DataBase_meta\\18\\219284\\Satellite_18_219284_141456.meta\n",
      "C:\\Users\\AISG\\Documents\\Jonas\\Real_World_Test_DataBase_meta\\18\\219284\\Satellite_18_219284_141457.meta\n"
     ]
    },
    {
     "name": "stderr",
     "output_type": "stream",
     "text": [
      "\r",
      " 56%|███████████████████████████████████████████▍                                 | 1244/2206 [00:03<00:02, 369.51it/s]"
     ]
    },
    {
     "name": "stdout",
     "output_type": "stream",
     "text": [
      "C:\\Users\\AISG\\Documents\\Jonas\\Real_World_Test_DataBase_meta\\18\\219284\\Satellite_18_219284_141458.meta\n",
      "C:\\Users\\AISG\\Documents\\Jonas\\Real_World_Test_DataBase_meta\\18\\219284\\Satellite_18_219284_141459.meta\n",
      "C:\\Users\\AISG\\Documents\\Jonas\\Real_World_Test_DataBase_meta\\18\\219284\\Satellite_18_219284_141460.meta\n",
      "C:\\Users\\AISG\\Documents\\Jonas\\Real_World_Test_DataBase_meta\\18\\219284\\Satellite_18_219284_141461.meta\n",
      "C:\\Users\\AISG\\Documents\\Jonas\\Real_World_Test_DataBase_meta\\18\\219284\\Satellite_18_219284_141462.meta\n",
      "C:\\Users\\AISG\\Documents\\Jonas\\Real_World_Test_DataBase_meta\\18\\219284\\Satellite_18_219284_141463.meta\n",
      "C:\\Users\\AISG\\Documents\\Jonas\\Real_World_Test_DataBase_meta\\18\\219284\\Satellite_18_219284_141464.meta\n",
      "C:\\Users\\AISG\\Documents\\Jonas\\Real_World_Test_DataBase_meta\\18\\219284\\Satellite_18_219284_141465.meta\n",
      "C:\\Users\\AISG\\Documents\\Jonas\\Real_World_Test_DataBase_meta\\18\\219284\\Satellite_18_219284_141466.meta\n",
      "C:\\Users\\AISG\\Documents\\Jonas\\Real_World_Test_DataBase_meta\\18\\219284\\Satellite_18_219284_141467.meta\n",
      "C:\\Users\\AISG\\Documents\\Jonas\\Real_World_Test_DataBase_meta\\18\\219284\\Satellite_18_219284_141468.meta\n",
      "C:\\Users\\AISG\\Documents\\Jonas\\Real_World_Test_DataBase_meta\\18\\219284\\Satellite_18_219284_141469.meta\n",
      "C:\\Users\\AISG\\Documents\\Jonas\\Real_World_Test_DataBase_meta\\18\\219284\\Satellite_18_219284_141470.meta\n",
      "C:\\Users\\AISG\\Documents\\Jonas\\Real_World_Test_DataBase_meta\\18\\219284\\Satellite_18_219284_141471.meta\n",
      "C:\\Users\\AISG\\Documents\\Jonas\\Real_World_Test_DataBase_meta\\18\\219284\\Satellite_18_219284_141472.meta\n",
      "C:\\Users\\AISG\\Documents\\Jonas\\Real_World_Test_DataBase_meta\\18\\219284\\Satellite_18_219284_141473.meta\n",
      "C:\\Users\\AISG\\Documents\\Jonas\\Real_World_Test_DataBase_meta\\18\\219284\\Satellite_18_219284_141474.meta\n",
      "C:\\Users\\AISG\\Documents\\Jonas\\Real_World_Test_DataBase_meta\\18\\219284\\Satellite_18_219284_141475.meta\n",
      "C:\\Users\\AISG\\Documents\\Jonas\\Real_World_Test_DataBase_meta\\18\\219284\\Satellite_18_219284_141476.meta\n",
      "C:\\Users\\AISG\\Documents\\Jonas\\Real_World_Test_DataBase_meta\\18\\219284\\Satellite_18_219284_141477.meta\n",
      "C:\\Users\\AISG\\Documents\\Jonas\\Real_World_Test_DataBase_meta\\18\\219284\\Satellite_18_219284_141478.meta\n",
      "C:\\Users\\AISG\\Documents\\Jonas\\Real_World_Test_DataBase_meta\\18\\219284\\Satellite_18_219284_141479.meta\n",
      "C:\\Users\\AISG\\Documents\\Jonas\\Real_World_Test_DataBase_meta\\18\\219284\\Satellite_18_219284_141480.meta\n",
      "C:\\Users\\AISG\\Documents\\Jonas\\Real_World_Test_DataBase_meta\\18\\219284\\Satellite_18_219284_141481.meta\n",
      "C:\\Users\\AISG\\Documents\\Jonas\\Real_World_Test_DataBase_meta\\18\\219284\\Satellite_18_219284_141482.meta\n",
      "C:\\Users\\AISG\\Documents\\Jonas\\Real_World_Test_DataBase_meta\\18\\219284\\Satellite_18_219284_141483.meta\n",
      "C:\\Users\\AISG\\Documents\\Jonas\\Real_World_Test_DataBase_meta\\18\\219284\\Satellite_18_219284_141484.meta\n",
      "C:\\Users\\AISG\\Documents\\Jonas\\Real_World_Test_DataBase_meta\\18\\219284\\Satellite_18_219284_141485.meta\n",
      "C:\\Users\\AISG\\Documents\\Jonas\\Real_World_Test_DataBase_meta\\18\\219284\\Satellite_18_219284_141486.meta\n",
      "C:\\Users\\AISG\\Documents\\Jonas\\Real_World_Test_DataBase_meta\\18\\219284\\Satellite_18_219284_141487.meta\n",
      "C:\\Users\\AISG\\Documents\\Jonas\\Real_World_Test_DataBase_meta\\18\\219284\\Satellite_18_219284_141488.meta\n",
      "C:\\Users\\AISG\\Documents\\Jonas\\Real_World_Test_DataBase_meta\\18\\219284\\Satellite_18_219284_141489.meta\n",
      "C:\\Users\\AISG\\Documents\\Jonas\\Real_World_Test_DataBase_meta\\18\\219284\\Satellite_18_219284_141490.meta\n",
      "C:\\Users\\AISG\\Documents\\Jonas\\Real_World_Test_DataBase_meta\\18\\219284\\Satellite_18_219284_141491.meta\n",
      "C:\\Users\\AISG\\Documents\\Jonas\\Real_World_Test_DataBase_meta\\18\\219284\\Satellite_18_219284_141492.meta\n",
      "C:\\Users\\AISG\\Documents\\Jonas\\Real_World_Test_DataBase_meta\\18\\219284\\Satellite_18_219284_141493.meta\n",
      "C:\\Users\\AISG\\Documents\\Jonas\\Real_World_Test_DataBase_meta\\18\\219284\\Satellite_18_219284_141494.meta\n",
      "C:\\Users\\AISG\\Documents\\Jonas\\Real_World_Test_DataBase_meta\\18\\219284\\Satellite_18_219284_141495.meta\n",
      "C:\\Users\\AISG\\Documents\\Jonas\\Real_World_Test_DataBase_meta\\18\\219284\\Satellite_18_219284_141496.meta\n",
      "C:\\Users\\AISG\\Documents\\Jonas\\Real_World_Test_DataBase_meta\\18\\219284\\Satellite_18_219284_141497.meta\n",
      "C:\\Users\\AISG\\Documents\\Jonas\\Real_World_Test_DataBase_meta\\18\\219284\\Satellite_18_219284_141498.meta\n",
      "C:\\Users\\AISG\\Documents\\Jonas\\Real_World_Test_DataBase_meta\\18\\219284\\Satellite_18_219284_141499.meta\n",
      "C:\\Users\\AISG\\Documents\\Jonas\\Real_World_Test_DataBase_meta\\18\\219284\\Satellite_18_219284_141500.meta\n",
      "C:\\Users\\AISG\\Documents\\Jonas\\Real_World_Test_DataBase_meta\\18\\219284\\Satellite_18_219284_141501.meta\n",
      "C:\\Users\\AISG\\Documents\\Jonas\\Real_World_Test_DataBase_meta\\18\\219284\\Satellite_18_219284_141502.meta\n",
      "C:\\Users\\AISG\\Documents\\Jonas\\Real_World_Test_DataBase_meta\\18\\219284\\Satellite_18_219284_141503.meta\n",
      "C:\\Users\\AISG\\Documents\\Jonas\\Real_World_Test_DataBase_meta\\18\\219284\\Satellite_18_219284_141504.meta\n",
      "C:\\Users\\AISG\\Documents\\Jonas\\Real_World_Test_DataBase_meta\\18\\219284\\Satellite_18_219284_141505.meta\n",
      "C:\\Users\\AISG\\Documents\\Jonas\\Real_World_Test_DataBase_meta\\18\\219284\\Satellite_18_219284_141506.meta\n",
      "C:\\Users\\AISG\\Documents\\Jonas\\Real_World_Test_DataBase_meta\\18\\219284\\Satellite_18_219284_141507.meta\n",
      "C:\\Users\\AISG\\Documents\\Jonas\\Real_World_Test_DataBase_meta\\18\\219284\\Satellite_18_219284_141508.meta\n",
      "C:\\Users\\AISG\\Documents\\Jonas\\Real_World_Test_DataBase_meta\\18\\219284\\Satellite_18_219284_141509.meta\n",
      "C:\\Users\\AISG\\Documents\\Jonas\\Real_World_Test_DataBase_meta\\18\\219284\\Satellite_18_219284_141510.meta\n",
      "C:\\Users\\AISG\\Documents\\Jonas\\Real_World_Test_DataBase_meta\\18\\219284\\Satellite_18_219284_141511.meta\n",
      "C:\\Users\\AISG\\Documents\\Jonas\\Real_World_Test_DataBase_meta\\18\\219284\\Satellite_18_219284_141512.meta\n",
      "C:\\Users\\AISG\\Documents\\Jonas\\Real_World_Test_DataBase_meta\\18\\219284\\Satellite_18_219284_141513.meta\n",
      "C:\\Users\\AISG\\Documents\\Jonas\\Real_World_Test_DataBase_meta\\18\\219284\\Satellite_18_219284_141514.meta\n",
      "C:\\Users\\AISG\\Documents\\Jonas\\Real_World_Test_DataBase_meta\\18\\219284\\Satellite_18_219284_141515.meta\n",
      "C:\\Users\\AISG\\Documents\\Jonas\\Real_World_Test_DataBase_meta\\18\\219284\\Satellite_18_219284_141516.meta\n",
      "C:\\Users\\AISG\\Documents\\Jonas\\Real_World_Test_DataBase_meta\\18\\219284\\Satellite_18_219284_141517.meta\n",
      "C:\\Users\\AISG\\Documents\\Jonas\\Real_World_Test_DataBase_meta\\18\\219284\\Satellite_18_219284_141518.meta\n",
      "C:\\Users\\AISG\\Documents\\Jonas\\Real_World_Test_DataBase_meta\\18\\219284\\Satellite_18_219284_141519.meta\n",
      "C:\\Users\\AISG\\Documents\\Jonas\\Real_World_Test_DataBase_meta\\18\\219284\\Satellite_18_219284_141520.meta\n",
      "C:\\Users\\AISG\\Documents\\Jonas\\Real_World_Test_DataBase_meta\\18\\219284\\Satellite_18_219284_141521.meta\n",
      "C:\\Users\\AISG\\Documents\\Jonas\\Real_World_Test_DataBase_meta\\18\\219284\\Satellite_18_219284_141522.meta\n",
      "C:\\Users\\AISG\\Documents\\Jonas\\Real_World_Test_DataBase_meta\\18\\219284\\Satellite_18_219284_141523.meta\n",
      "C:\\Users\\AISG\\Documents\\Jonas\\Real_World_Test_DataBase_meta\\18\\219284\\Satellite_18_219284_141524.meta\n",
      "C:\\Users\\AISG\\Documents\\Jonas\\Real_World_Test_DataBase_meta\\18\\219284\\Satellite_18_219284_141525.meta\n",
      "C:\\Users\\AISG\\Documents\\Jonas\\Real_World_Test_DataBase_meta\\18\\219284\\Satellite_18_219284_141526.meta\n"
     ]
    },
    {
     "name": "stderr",
     "output_type": "stream",
     "text": [
      " 60%|██████████████████████████████████████████████                               | 1320/2206 [00:03<00:02, 369.40it/s]"
     ]
    },
    {
     "name": "stdout",
     "output_type": "stream",
     "text": [
      "C:\\Users\\AISG\\Documents\\Jonas\\Real_World_Test_DataBase_meta\\18\\219284\\Satellite_18_219284_141527.meta\n",
      "C:\\Users\\AISG\\Documents\\Jonas\\Real_World_Test_DataBase_meta\\18\\219284\\Satellite_18_219284_141528.meta\n",
      "C:\\Users\\AISG\\Documents\\Jonas\\Real_World_Test_DataBase_meta\\18\\219284\\Satellite_18_219284_141529.meta\n",
      "C:\\Users\\AISG\\Documents\\Jonas\\Real_World_Test_DataBase_meta\\18\\219284\\Satellite_18_219284_141530.meta\n",
      "C:\\Users\\AISG\\Documents\\Jonas\\Real_World_Test_DataBase_meta\\18\\219284\\Satellite_18_219284_141531.meta\n",
      "C:\\Users\\AISG\\Documents\\Jonas\\Real_World_Test_DataBase_meta\\18\\219284\\Satellite_18_219284_141532.meta\n",
      "C:\\Users\\AISG\\Documents\\Jonas\\Real_World_Test_DataBase_meta\\18\\219284\\Satellite_18_219284_141533.meta\n",
      "C:\\Users\\AISG\\Documents\\Jonas\\Real_World_Test_DataBase_meta\\18\\219284\\Satellite_18_219284_141534.meta\n",
      "C:\\Users\\AISG\\Documents\\Jonas\\Real_World_Test_DataBase_meta\\18\\219284\\Satellite_18_219284_141535.meta\n",
      "C:\\Users\\AISG\\Documents\\Jonas\\Real_World_Test_DataBase_meta\\18\\219284\\Satellite_18_219284_141536.meta\n",
      "C:\\Users\\AISG\\Documents\\Jonas\\Real_World_Test_DataBase_meta\\18\\219284\\Satellite_18_219284_141537.meta\n",
      "C:\\Users\\AISG\\Documents\\Jonas\\Real_World_Test_DataBase_meta\\18\\219284\\Satellite_18_219284_141538.meta\n",
      "C:\\Users\\AISG\\Documents\\Jonas\\Real_World_Test_DataBase_meta\\18\\219284\\Satellite_18_219284_141539.meta\n",
      "C:\\Users\\AISG\\Documents\\Jonas\\Real_World_Test_DataBase_meta\\18\\219284\\Satellite_18_219284_141540.meta\n",
      "C:\\Users\\AISG\\Documents\\Jonas\\Real_World_Test_DataBase_meta\\18\\219284\\Satellite_18_219284_141541.meta\n",
      "C:\\Users\\AISG\\Documents\\Jonas\\Real_World_Test_DataBase_meta\\18\\219284\\Satellite_18_219284_141542.meta\n",
      "C:\\Users\\AISG\\Documents\\Jonas\\Real_World_Test_DataBase_meta\\18\\219284\\Satellite_18_219284_141543.meta\n",
      "C:\\Users\\AISG\\Documents\\Jonas\\Real_World_Test_DataBase_meta\\18\\219284\\Satellite_18_219284_141544.meta\n",
      "C:\\Users\\AISG\\Documents\\Jonas\\Real_World_Test_DataBase_meta\\18\\219284\\Satellite_18_219284_141545.meta\n",
      "C:\\Users\\AISG\\Documents\\Jonas\\Real_World_Test_DataBase_meta\\18\\219284\\Satellite_18_219284_141546.meta\n",
      "C:\\Users\\AISG\\Documents\\Jonas\\Real_World_Test_DataBase_meta\\18\\219284\\Satellite_18_219284_141547.meta\n",
      "C:\\Users\\AISG\\Documents\\Jonas\\Real_World_Test_DataBase_meta\\18\\219284\\Satellite_18_219284_141548.meta\n",
      "C:\\Users\\AISG\\Documents\\Jonas\\Real_World_Test_DataBase_meta\\18\\219284\\Satellite_18_219284_141549.meta\n",
      "C:\\Users\\AISG\\Documents\\Jonas\\Real_World_Test_DataBase_meta\\18\\219284\\Satellite_18_219284_141550.meta\n",
      "C:\\Users\\AISG\\Documents\\Jonas\\Real_World_Test_DataBase_meta\\18\\219284\\Satellite_18_219284_141551.meta\n",
      "C:\\Users\\AISG\\Documents\\Jonas\\Real_World_Test_DataBase_meta\\18\\219284\\Satellite_18_219284_141552.meta\n",
      "C:\\Users\\AISG\\Documents\\Jonas\\Real_World_Test_DataBase_meta\\18\\219284\\Satellite_18_219284_141553.meta\n",
      "C:\\Users\\AISG\\Documents\\Jonas\\Real_World_Test_DataBase_meta\\18\\219284\\Satellite_18_219284_141554.meta\n",
      "C:\\Users\\AISG\\Documents\\Jonas\\Real_World_Test_DataBase_meta\\18\\219284\\Satellite_18_219284_141555.meta\n",
      "C:\\Users\\AISG\\Documents\\Jonas\\Real_World_Test_DataBase_meta\\18\\219284\\Satellite_18_219284_141556.meta\n",
      "C:\\Users\\AISG\\Documents\\Jonas\\Real_World_Test_DataBase_meta\\18\\219284\\Satellite_18_219284_141557.meta\n",
      "C:\\Users\\AISG\\Documents\\Jonas\\Real_World_Test_DataBase_meta\\18\\219284\\Satellite_18_219284_141558.meta\n",
      "C:\\Users\\AISG\\Documents\\Jonas\\Real_World_Test_DataBase_meta\\18\\219284\\Satellite_18_219284_141559.meta\n",
      "C:\\Users\\AISG\\Documents\\Jonas\\Real_World_Test_DataBase_meta\\18\\219284\\Satellite_18_219284_141560.meta\n",
      "C:\\Users\\AISG\\Documents\\Jonas\\Real_World_Test_DataBase_meta\\18\\219284\\Satellite_18_219284_141561.meta\n",
      "C:\\Users\\AISG\\Documents\\Jonas\\Real_World_Test_DataBase_meta\\18\\219284\\Satellite_18_219284_141562.meta\n",
      "C:\\Users\\AISG\\Documents\\Jonas\\Real_World_Test_DataBase_meta\\18\\219284\\Satellite_18_219284_141563.meta\n",
      "C:\\Users\\AISG\\Documents\\Jonas\\Real_World_Test_DataBase_meta\\18\\219284\\Satellite_18_219284_141564.meta\n",
      "C:\\Users\\AISG\\Documents\\Jonas\\Real_World_Test_DataBase_meta\\18\\219284\\Satellite_18_219284_141565.meta\n",
      "C:\\Users\\AISG\\Documents\\Jonas\\Real_World_Test_DataBase_meta\\18\\219284\\Satellite_18_219284_141566.meta\n",
      "C:\\Users\\AISG\\Documents\\Jonas\\Real_World_Test_DataBase_meta\\18\\219284\\Satellite_18_219284_141567.meta\n",
      "C:\\Users\\AISG\\Documents\\Jonas\\Real_World_Test_DataBase_meta\\18\\219284\\Satellite_18_219284_141568.meta\n",
      "C:\\Users\\AISG\\Documents\\Jonas\\Real_World_Test_DataBase_meta\\18\\219284\\Satellite_18_219284_141569.meta\n",
      "C:\\Users\\AISG\\Documents\\Jonas\\Real_World_Test_DataBase_meta\\18\\219284\\Satellite_18_219284_141570.meta\n",
      "C:\\Users\\AISG\\Documents\\Jonas\\Real_World_Test_DataBase_meta\\18\\219284\\Satellite_18_219284_141571.meta\n",
      "C:\\Users\\AISG\\Documents\\Jonas\\Real_World_Test_DataBase_meta\\18\\219284\\Satellite_18_219284_141572.meta\n",
      "C:\\Users\\AISG\\Documents\\Jonas\\Real_World_Test_DataBase_meta\\18\\219284\\Satellite_18_219284_141573.meta\n",
      "C:\\Users\\AISG\\Documents\\Jonas\\Real_World_Test_DataBase_meta\\18\\219284\\Satellite_18_219284_141574.meta\n",
      "C:\\Users\\AISG\\Documents\\Jonas\\Real_World_Test_DataBase_meta\\18\\219284\\Satellite_18_219284_141575.meta\n",
      "C:\\Users\\AISG\\Documents\\Jonas\\Real_World_Test_DataBase_meta\\18\\219284\\Satellite_18_219284_141576.meta\n",
      "C:\\Users\\AISG\\Documents\\Jonas\\Real_World_Test_DataBase_meta\\18\\219284\\Satellite_18_219284_141577.meta\n",
      "C:\\Users\\AISG\\Documents\\Jonas\\Real_World_Test_DataBase_meta\\18\\219284\\Satellite_18_219284_141578.meta\n",
      "C:\\Users\\AISG\\Documents\\Jonas\\Real_World_Test_DataBase_meta\\18\\219284\\Satellite_18_219284_141579.meta\n",
      "C:\\Users\\AISG\\Documents\\Jonas\\Real_World_Test_DataBase_meta\\18\\219284\\Satellite_18_219284_141580.meta\n",
      "C:\\Users\\AISG\\Documents\\Jonas\\Real_World_Test_DataBase_meta\\18\\219284\\Satellite_18_219284_141581.meta\n",
      "C:\\Users\\AISG\\Documents\\Jonas\\Real_World_Test_DataBase_meta\\18\\219284\\Satellite_18_219284_141582.meta\n",
      "C:\\Users\\AISG\\Documents\\Jonas\\Real_World_Test_DataBase_meta\\18\\219284\\Satellite_18_219284_141583.meta\n",
      "C:\\Users\\AISG\\Documents\\Jonas\\Real_World_Test_DataBase_meta\\18\\219284\\Satellite_18_219284_141584.meta\n",
      "C:\\Users\\AISG\\Documents\\Jonas\\Real_World_Test_DataBase_meta\\18\\219284\\Satellite_18_219284_141585.meta\n",
      "C:\\Users\\AISG\\Documents\\Jonas\\Real_World_Test_DataBase_meta\\18\\219284\\Satellite_18_219284_141586.meta\n",
      "C:\\Users\\AISG\\Documents\\Jonas\\Real_World_Test_DataBase_meta\\18\\219284\\Satellite_18_219284_141587.meta\n",
      "C:\\Users\\AISG\\Documents\\Jonas\\Real_World_Test_DataBase_meta\\18\\219284\\Satellite_18_219284_141588.meta\n",
      "C:\\Users\\AISG\\Documents\\Jonas\\Real_World_Test_DataBase_meta\\18\\219284\\Satellite_18_219284_141589.meta\n",
      "C:\\Users\\AISG\\Documents\\Jonas\\Real_World_Test_DataBase_meta\\18\\219284\\Satellite_18_219284_141590.meta\n",
      "C:\\Users\\AISG\\Documents\\Jonas\\Real_World_Test_DataBase_meta\\18\\219284\\Satellite_18_219284_141591.meta\n",
      "C:\\Users\\AISG\\Documents\\Jonas\\Real_World_Test_DataBase_meta\\18\\219284\\Satellite_18_219284_141592.meta\n",
      "C:\\Users\\AISG\\Documents\\Jonas\\Real_World_Test_DataBase_meta\\18\\219284\\Satellite_18_219284_141593.meta\n",
      "C:\\Users\\AISG\\Documents\\Jonas\\Real_World_Test_DataBase_meta\\18\\219284\\Satellite_18_219284_141594.meta\n",
      "C:\\Users\\AISG\\Documents\\Jonas\\Real_World_Test_DataBase_meta\\18\\219284\\Satellite_18_219284_141595.meta\n",
      "C:\\Users\\AISG\\Documents\\Jonas\\Real_World_Test_DataBase_meta\\18\\219284\\Satellite_18_219284_141596.meta\n",
      "C:\\Users\\AISG\\Documents\\Jonas\\Real_World_Test_DataBase_meta\\18\\219284\\Satellite_18_219284_141597.meta\n",
      "C:\\Users\\AISG\\Documents\\Jonas\\Real_World_Test_DataBase_meta\\18\\219284\\Satellite_18_219284_141598.meta\n"
     ]
    },
    {
     "name": "stderr",
     "output_type": "stream",
     "text": [
      " 64%|████████████████████████████████████████████████▉                            | 1402/2206 [00:03<00:02, 383.98it/s]"
     ]
    },
    {
     "name": "stdout",
     "output_type": "stream",
     "text": [
      "C:\\Users\\AISG\\Documents\\Jonas\\Real_World_Test_DataBase_meta\\18\\219284\\Satellite_18_219284_141599.meta\n",
      "C:\\Users\\AISG\\Documents\\Jonas\\Real_World_Test_DataBase_meta\\18\\219284\\Satellite_18_219284_141600.meta\n",
      "C:\\Users\\AISG\\Documents\\Jonas\\Real_World_Test_DataBase_meta\\18\\219284\\Satellite_18_219284_141601.meta\n",
      "C:\\Users\\AISG\\Documents\\Jonas\\Real_World_Test_DataBase_meta\\18\\219284\\Satellite_18_219284_141602.meta\n",
      "C:\\Users\\AISG\\Documents\\Jonas\\Real_World_Test_DataBase_meta\\18\\219284\\Satellite_18_219284_141603.meta\n",
      "C:\\Users\\AISG\\Documents\\Jonas\\Real_World_Test_DataBase_meta\\18\\219284\\Satellite_18_219284_141604.meta\n",
      "C:\\Users\\AISG\\Documents\\Jonas\\Real_World_Test_DataBase_meta\\18\\219284\\Satellite_18_219284_141605.meta\n",
      "C:\\Users\\AISG\\Documents\\Jonas\\Real_World_Test_DataBase_meta\\18\\219284\\Satellite_18_219284_141606.meta\n",
      "C:\\Users\\AISG\\Documents\\Jonas\\Real_World_Test_DataBase_meta\\18\\219284\\Satellite_18_219284_141607.meta\n",
      "C:\\Users\\AISG\\Documents\\Jonas\\Real_World_Test_DataBase_meta\\18\\219284\\Satellite_18_219284_141608.meta\n",
      "C:\\Users\\AISG\\Documents\\Jonas\\Real_World_Test_DataBase_meta\\18\\219284\\Satellite_18_219284_141609.meta\n",
      "C:\\Users\\AISG\\Documents\\Jonas\\Real_World_Test_DataBase_meta\\18\\219284\\Satellite_18_219284_141610.meta\n",
      "C:\\Users\\AISG\\Documents\\Jonas\\Real_World_Test_DataBase_meta\\18\\219284\\Satellite_18_219284_141611.meta\n",
      "C:\\Users\\AISG\\Documents\\Jonas\\Real_World_Test_DataBase_meta\\18\\219284\\Satellite_18_219284_141612.meta\n",
      "C:\\Users\\AISG\\Documents\\Jonas\\Real_World_Test_DataBase_meta\\18\\219284\\Satellite_18_219284_141613.meta\n",
      "C:\\Users\\AISG\\Documents\\Jonas\\Real_World_Test_DataBase_meta\\18\\219284\\Satellite_18_219284_141614.meta\n",
      "C:\\Users\\AISG\\Documents\\Jonas\\Real_World_Test_DataBase_meta\\18\\219284\\Satellite_18_219284_141615.meta\n",
      "C:\\Users\\AISG\\Documents\\Jonas\\Real_World_Test_DataBase_meta\\18\\219284\\Satellite_18_219284_141616.meta\n",
      "C:\\Users\\AISG\\Documents\\Jonas\\Real_World_Test_DataBase_meta\\18\\219284\\Satellite_18_219284_141617.meta\n",
      "C:\\Users\\AISG\\Documents\\Jonas\\Real_World_Test_DataBase_meta\\18\\219284\\Satellite_18_219284_141618.meta\n",
      "C:\\Users\\AISG\\Documents\\Jonas\\Real_World_Test_DataBase_meta\\18\\219284\\Satellite_18_219284_141619.meta\n",
      "C:\\Users\\AISG\\Documents\\Jonas\\Real_World_Test_DataBase_meta\\18\\219284\\Satellite_18_219284_141620.meta\n",
      "C:\\Users\\AISG\\Documents\\Jonas\\Real_World_Test_DataBase_meta\\18\\219284\\Satellite_18_219284_141621.meta\n",
      "C:\\Users\\AISG\\Documents\\Jonas\\Real_World_Test_DataBase_meta\\18\\219284\\Satellite_18_219284_141622.meta\n",
      "C:\\Users\\AISG\\Documents\\Jonas\\Real_World_Test_DataBase_meta\\18\\219284\\Satellite_18_219284_141623.meta\n",
      "C:\\Users\\AISG\\Documents\\Jonas\\Real_World_Test_DataBase_meta\\18\\219284\\Satellite_18_219284_141624.meta\n",
      "C:\\Users\\AISG\\Documents\\Jonas\\Real_World_Test_DataBase_meta\\18\\219284\\Satellite_18_219284_141625.meta\n",
      "C:\\Users\\AISG\\Documents\\Jonas\\Real_World_Test_DataBase_meta\\18\\219284\\Satellite_18_219284_141626.meta\n",
      "C:\\Users\\AISG\\Documents\\Jonas\\Real_World_Test_DataBase_meta\\18\\219284\\Satellite_18_219284_141627.meta\n",
      "C:\\Users\\AISG\\Documents\\Jonas\\Real_World_Test_DataBase_meta\\18\\219284\\Satellite_18_219284_141628.meta\n",
      "C:\\Users\\AISG\\Documents\\Jonas\\Real_World_Test_DataBase_meta\\18\\219284\\Satellite_18_219284_141629.meta\n",
      "C:\\Users\\AISG\\Documents\\Jonas\\Real_World_Test_DataBase_meta\\18\\219284\\Satellite_18_219284_141630.meta\n",
      "C:\\Users\\AISG\\Documents\\Jonas\\Real_World_Test_DataBase_meta\\18\\219284\\Satellite_18_219284_141631.meta\n",
      "C:\\Users\\AISG\\Documents\\Jonas\\Real_World_Test_DataBase_meta\\18\\219284\\Satellite_18_219284_141632.meta\n",
      "C:\\Users\\AISG\\Documents\\Jonas\\Real_World_Test_DataBase_meta\\18\\219284\\Satellite_18_219284_141633.meta\n",
      "C:\\Users\\AISG\\Documents\\Jonas\\Real_World_Test_DataBase_meta\\18\\219284\\Satellite_18_219284_141634.meta\n",
      "C:\\Users\\AISG\\Documents\\Jonas\\Real_World_Test_DataBase_meta\\18\\219284\\Satellite_18_219284_141635.meta\n",
      "C:\\Users\\AISG\\Documents\\Jonas\\Real_World_Test_DataBase_meta\\18\\219284\\Satellite_18_219284_141636.meta\n",
      "C:\\Users\\AISG\\Documents\\Jonas\\Real_World_Test_DataBase_meta\\18\\219284\\Satellite_18_219284_141637.meta\n",
      "C:\\Users\\AISG\\Documents\\Jonas\\Real_World_Test_DataBase_meta\\18\\219284\\Satellite_18_219284_141638.meta\n",
      "C:\\Users\\AISG\\Documents\\Jonas\\Real_World_Test_DataBase_meta\\18\\219284\\Satellite_18_219284_141639.meta\n",
      "C:\\Users\\AISG\\Documents\\Jonas\\Real_World_Test_DataBase_meta\\18\\219284\\Satellite_18_219284_141640.meta\n",
      "C:\\Users\\AISG\\Documents\\Jonas\\Real_World_Test_DataBase_meta\\18\\219284\\Satellite_18_219284_141641.meta\n",
      "C:\\Users\\AISG\\Documents\\Jonas\\Real_World_Test_DataBase_meta\\18\\219284\\Satellite_18_219284_141642.meta\n",
      "C:\\Users\\AISG\\Documents\\Jonas\\Real_World_Test_DataBase_meta\\18\\219284\\Satellite_18_219284_141643.meta\n",
      "C:\\Users\\AISG\\Documents\\Jonas\\Real_World_Test_DataBase_meta\\18\\219284\\Satellite_18_219284_141644.meta\n",
      "C:\\Users\\AISG\\Documents\\Jonas\\Real_World_Test_DataBase_meta\\18\\219284\\Satellite_18_219284_141734.meta\n",
      "C:\\Users\\AISG\\Documents\\Jonas\\Real_World_Test_DataBase_meta\\18\\219284\\Satellite_18_219284_141735.meta\n",
      "C:\\Users\\AISG\\Documents\\Jonas\\Real_World_Test_DataBase_meta\\18\\219284\\Satellite_18_219284_141736.meta\n",
      "C:\\Users\\AISG\\Documents\\Jonas\\Real_World_Test_DataBase_meta\\18\\219284\\Satellite_18_219284_141737.meta\n",
      "C:\\Users\\AISG\\Documents\\Jonas\\Real_World_Test_DataBase_meta\\18\\219284\\Satellite_18_219284_141738.meta\n",
      "C:\\Users\\AISG\\Documents\\Jonas\\Real_World_Test_DataBase_meta\\18\\219284\\Satellite_18_219284_141739.meta\n",
      "C:\\Users\\AISG\\Documents\\Jonas\\Real_World_Test_DataBase_meta\\18\\219284\\Satellite_18_219284_141740.meta\n",
      "C:\\Users\\AISG\\Documents\\Jonas\\Real_World_Test_DataBase_meta\\18\\219284\\Satellite_18_219284_141741.meta\n",
      "C:\\Users\\AISG\\Documents\\Jonas\\Real_World_Test_DataBase_meta\\18\\219284\\Satellite_18_219284_141742.meta\n",
      "C:\\Users\\AISG\\Documents\\Jonas\\Real_World_Test_DataBase_meta\\18\\219284\\Satellite_18_219284_141743.meta\n",
      "C:\\Users\\AISG\\Documents\\Jonas\\Real_World_Test_DataBase_meta\\18\\219284\\Satellite_18_219284_141744.meta\n",
      "C:\\Users\\AISG\\Documents\\Jonas\\Real_World_Test_DataBase_meta\\18\\219284\\Satellite_18_219284_141745.meta\n",
      "C:\\Users\\AISG\\Documents\\Jonas\\Real_World_Test_DataBase_meta\\18\\219284\\Satellite_18_219284_141746.meta\n",
      "C:\\Users\\AISG\\Documents\\Jonas\\Real_World_Test_DataBase_meta\\18\\219284\\Satellite_18_219284_141747.meta\n",
      "C:\\Users\\AISG\\Documents\\Jonas\\Real_World_Test_DataBase_meta\\18\\219284\\Satellite_18_219284_141748.meta\n",
      "C:\\Users\\AISG\\Documents\\Jonas\\Real_World_Test_DataBase_meta\\18\\219284\\Satellite_18_219284_141749.meta\n",
      "C:\\Users\\AISG\\Documents\\Jonas\\Real_World_Test_DataBase_meta\\18\\219284\\Satellite_18_219284_141750.meta\n",
      "C:\\Users\\AISG\\Documents\\Jonas\\Real_World_Test_DataBase_meta\\18\\219284\\Satellite_18_219284_141751.meta\n",
      "C:\\Users\\AISG\\Documents\\Jonas\\Real_World_Test_DataBase_meta\\18\\219284\\Satellite_18_219284_141752.meta\n",
      "C:\\Users\\AISG\\Documents\\Jonas\\Real_World_Test_DataBase_meta\\18\\219284\\Satellite_18_219284_141753.meta\n",
      "C:\\Users\\AISG\\Documents\\Jonas\\Real_World_Test_DataBase_meta\\18\\219284\\Satellite_18_219284_141754.meta\n",
      "C:\\Users\\AISG\\Documents\\Jonas\\Real_World_Test_DataBase_meta\\18\\219284\\Satellite_18_219284_141755.meta\n",
      "C:\\Users\\AISG\\Documents\\Jonas\\Real_World_Test_DataBase_meta\\18\\219284\\Satellite_18_219284_141756.meta\n",
      "C:\\Users\\AISG\\Documents\\Jonas\\Real_World_Test_DataBase_meta\\18\\219284\\Satellite_18_219284_141757.meta\n",
      "C:\\Users\\AISG\\Documents\\Jonas\\Real_World_Test_DataBase_meta\\18\\219284\\Satellite_18_219284_141758.meta\n",
      "C:\\Users\\AISG\\Documents\\Jonas\\Real_World_Test_DataBase_meta\\18\\219284\\Satellite_18_219284_141759.meta\n",
      "C:\\Users\\AISG\\Documents\\Jonas\\Real_World_Test_DataBase_meta\\18\\219284\\Satellite_18_219284_141760.meta\n"
     ]
    },
    {
     "name": "stderr",
     "output_type": "stream",
     "text": [
      " 67%|███████████████████████████████████████████████████▋                         | 1480/2206 [00:03<00:01, 378.00it/s]"
     ]
    },
    {
     "name": "stdout",
     "output_type": "stream",
     "text": [
      "C:\\Users\\AISG\\Documents\\Jonas\\Real_World_Test_DataBase_meta\\18\\219284\\Satellite_18_219284_141761.meta\n",
      "C:\\Users\\AISG\\Documents\\Jonas\\Real_World_Test_DataBase_meta\\18\\219284\\Satellite_18_219284_141762.meta\n",
      "C:\\Users\\AISG\\Documents\\Jonas\\Real_World_Test_DataBase_meta\\18\\219284\\Satellite_18_219284_141763.meta\n",
      "C:\\Users\\AISG\\Documents\\Jonas\\Real_World_Test_DataBase_meta\\18\\219284\\Satellite_18_219284_141764.meta\n",
      "C:\\Users\\AISG\\Documents\\Jonas\\Real_World_Test_DataBase_meta\\18\\219284\\Satellite_18_219284_141765.meta\n",
      "C:\\Users\\AISG\\Documents\\Jonas\\Real_World_Test_DataBase_meta\\18\\219284\\Satellite_18_219284_141766.meta\n",
      "C:\\Users\\AISG\\Documents\\Jonas\\Real_World_Test_DataBase_meta\\18\\219284\\Satellite_18_219284_141767.meta\n",
      "C:\\Users\\AISG\\Documents\\Jonas\\Real_World_Test_DataBase_meta\\18\\219284\\Satellite_18_219284_141768.meta\n",
      "C:\\Users\\AISG\\Documents\\Jonas\\Real_World_Test_DataBase_meta\\18\\219284\\Satellite_18_219284_141769.meta\n",
      "C:\\Users\\AISG\\Documents\\Jonas\\Real_World_Test_DataBase_meta\\18\\219284\\Satellite_18_219284_141770.meta\n",
      "C:\\Users\\AISG\\Documents\\Jonas\\Real_World_Test_DataBase_meta\\18\\219284\\Satellite_18_219284_141771.meta\n",
      "C:\\Users\\AISG\\Documents\\Jonas\\Real_World_Test_DataBase_meta\\18\\219284\\Satellite_18_219284_141772.meta\n",
      "C:\\Users\\AISG\\Documents\\Jonas\\Real_World_Test_DataBase_meta\\18\\219284\\Satellite_18_219284_141773.meta\n",
      "C:\\Users\\AISG\\Documents\\Jonas\\Real_World_Test_DataBase_meta\\18\\219284\\Satellite_18_219284_141774.meta\n",
      "C:\\Users\\AISG\\Documents\\Jonas\\Real_World_Test_DataBase_meta\\18\\219284\\Satellite_18_219284_141775.meta\n",
      "C:\\Users\\AISG\\Documents\\Jonas\\Real_World_Test_DataBase_meta\\18\\219284\\Satellite_18_219284_141776.meta\n",
      "C:\\Users\\AISG\\Documents\\Jonas\\Real_World_Test_DataBase_meta\\18\\219284\\Satellite_18_219284_141777.meta\n",
      "C:\\Users\\AISG\\Documents\\Jonas\\Real_World_Test_DataBase_meta\\18\\219284\\Satellite_18_219284_141778.meta\n",
      "C:\\Users\\AISG\\Documents\\Jonas\\Real_World_Test_DataBase_meta\\18\\219284\\Satellite_18_219284_141779.meta\n",
      "C:\\Users\\AISG\\Documents\\Jonas\\Real_World_Test_DataBase_meta\\18\\219284\\Satellite_18_219284_141780.meta\n",
      "C:\\Users\\AISG\\Documents\\Jonas\\Real_World_Test_DataBase_meta\\18\\219284\\Satellite_18_219284_141781.meta\n",
      "C:\\Users\\AISG\\Documents\\Jonas\\Real_World_Test_DataBase_meta\\18\\219284\\Satellite_18_219284_141782.meta\n",
      "C:\\Users\\AISG\\Documents\\Jonas\\Real_World_Test_DataBase_meta\\18\\219284\\Satellite_18_219284_141783.meta\n",
      "C:\\Users\\AISG\\Documents\\Jonas\\Real_World_Test_DataBase_meta\\18\\219284\\Satellite_18_219284_141784.meta\n",
      "C:\\Users\\AISG\\Documents\\Jonas\\Real_World_Test_DataBase_meta\\18\\219284\\Satellite_18_219284_141785.meta\n",
      "C:\\Users\\AISG\\Documents\\Jonas\\Real_World_Test_DataBase_meta\\18\\219284\\Satellite_18_219284_141786.meta\n",
      "C:\\Users\\AISG\\Documents\\Jonas\\Real_World_Test_DataBase_meta\\18\\219284\\Satellite_18_219284_141787.meta\n",
      "C:\\Users\\AISG\\Documents\\Jonas\\Real_World_Test_DataBase_meta\\18\\219284\\Satellite_18_219284_141788.meta\n",
      "C:\\Users\\AISG\\Documents\\Jonas\\Real_World_Test_DataBase_meta\\18\\219284\\Satellite_18_219284_141789.meta\n",
      "C:\\Users\\AISG\\Documents\\Jonas\\Real_World_Test_DataBase_meta\\18\\219284\\Satellite_18_219284_141790.meta\n",
      "C:\\Users\\AISG\\Documents\\Jonas\\Real_World_Test_DataBase_meta\\18\\219284\\Satellite_18_219284_141791.meta\n",
      "C:\\Users\\AISG\\Documents\\Jonas\\Real_World_Test_DataBase_meta\\18\\219284\\Satellite_18_219284_141792.meta\n",
      "C:\\Users\\AISG\\Documents\\Jonas\\Real_World_Test_DataBase_meta\\18\\219284\\Satellite_18_219284_141793.meta\n",
      "C:\\Users\\AISG\\Documents\\Jonas\\Real_World_Test_DataBase_meta\\18\\219284\\Satellite_18_219284_141794.meta\n",
      "C:\\Users\\AISG\\Documents\\Jonas\\Real_World_Test_DataBase_meta\\18\\219284\\Satellite_18_219284_141795.meta\n",
      "C:\\Users\\AISG\\Documents\\Jonas\\Real_World_Test_DataBase_meta\\18\\219284\\Satellite_18_219284_141796.meta\n",
      "C:\\Users\\AISG\\Documents\\Jonas\\Real_World_Test_DataBase_meta\\18\\219284\\Satellite_18_219284_141797.meta\n",
      "C:\\Users\\AISG\\Documents\\Jonas\\Real_World_Test_DataBase_meta\\18\\219284\\Satellite_18_219284_141798.meta\n",
      "C:\\Users\\AISG\\Documents\\Jonas\\Real_World_Test_DataBase_meta\\18\\219284\\Satellite_18_219284_141799.meta\n",
      "C:\\Users\\AISG\\Documents\\Jonas\\Real_World_Test_DataBase_meta\\18\\219284\\Satellite_18_219284_141800.meta\n",
      "C:\\Users\\AISG\\Documents\\Jonas\\Real_World_Test_DataBase_meta\\18\\219284\\Satellite_18_219284_141801.meta\n",
      "C:\\Users\\AISG\\Documents\\Jonas\\Real_World_Test_DataBase_meta\\18\\219284\\Satellite_18_219284_141802.meta\n",
      "C:\\Users\\AISG\\Documents\\Jonas\\Real_World_Test_DataBase_meta\\18\\219284\\Satellite_18_219284_141803.meta\n",
      "C:\\Users\\AISG\\Documents\\Jonas\\Real_World_Test_DataBase_meta\\18\\219284\\Satellite_18_219284_141804.meta\n",
      "C:\\Users\\AISG\\Documents\\Jonas\\Real_World_Test_DataBase_meta\\18\\219284\\Satellite_18_219284_141805.meta\n",
      "C:\\Users\\AISG\\Documents\\Jonas\\Real_World_Test_DataBase_meta\\18\\219284\\Satellite_18_219284_141806.meta\n",
      "C:\\Users\\AISG\\Documents\\Jonas\\Real_World_Test_DataBase_meta\\18\\219284\\Satellite_18_219284_141807.meta\n",
      "C:\\Users\\AISG\\Documents\\Jonas\\Real_World_Test_DataBase_meta\\18\\219284\\Satellite_18_219284_141808.meta\n",
      "C:\\Users\\AISG\\Documents\\Jonas\\Real_World_Test_DataBase_meta\\18\\219284\\Satellite_18_219284_141809.meta\n",
      "C:\\Users\\AISG\\Documents\\Jonas\\Real_World_Test_DataBase_meta\\18\\219284\\Satellite_18_219284_141810.meta\n",
      "C:\\Users\\AISG\\Documents\\Jonas\\Real_World_Test_DataBase_meta\\18\\219284\\Satellite_18_219284_141811.meta\n",
      "C:\\Users\\AISG\\Documents\\Jonas\\Real_World_Test_DataBase_meta\\18\\219284\\Satellite_18_219284_141812.meta\n",
      "C:\\Users\\AISG\\Documents\\Jonas\\Real_World_Test_DataBase_meta\\18\\219284\\Satellite_18_219284_141813.meta\n",
      "C:\\Users\\AISG\\Documents\\Jonas\\Real_World_Test_DataBase_meta\\18\\219284\\Satellite_18_219284_141814.meta\n",
      "C:\\Users\\AISG\\Documents\\Jonas\\Real_World_Test_DataBase_meta\\18\\219284\\Satellite_18_219284_141815.meta\n",
      "C:\\Users\\AISG\\Documents\\Jonas\\Real_World_Test_DataBase_meta\\18\\219284\\Satellite_18_219284_141816.meta\n",
      "C:\\Users\\AISG\\Documents\\Jonas\\Real_World_Test_DataBase_meta\\18\\219284\\Satellite_18_219284_141817.meta\n",
      "C:\\Users\\AISG\\Documents\\Jonas\\Real_World_Test_DataBase_meta\\18\\219284\\Satellite_18_219284_141818.meta\n",
      "C:\\Users\\AISG\\Documents\\Jonas\\Real_World_Test_DataBase_meta\\18\\219284\\Satellite_18_219284_141819.meta\n",
      "C:\\Users\\AISG\\Documents\\Jonas\\Real_World_Test_DataBase_meta\\18\\219284\\Satellite_18_219284_141820.meta\n",
      "C:\\Users\\AISG\\Documents\\Jonas\\Real_World_Test_DataBase_meta\\18\\219284\\Satellite_18_219284_141821.meta\n",
      "C:\\Users\\AISG\\Documents\\Jonas\\Real_World_Test_DataBase_meta\\18\\219284\\Satellite_18_219284_141822.meta\n",
      "C:\\Users\\AISG\\Documents\\Jonas\\Real_World_Test_DataBase_meta\\18\\219284\\Satellite_18_219284_141823.meta\n",
      "C:\\Users\\AISG\\Documents\\Jonas\\Real_World_Test_DataBase_meta\\18\\219284\\Satellite_18_219284_141824.meta\n",
      "C:\\Users\\AISG\\Documents\\Jonas\\Real_World_Test_DataBase_meta\\18\\219284\\Satellite_18_219284_141825.meta\n",
      "C:\\Users\\AISG\\Documents\\Jonas\\Real_World_Test_DataBase_meta\\18\\219284\\Satellite_18_219284_141826.meta\n",
      "C:\\Users\\AISG\\Documents\\Jonas\\Real_World_Test_DataBase_meta\\18\\219284\\Satellite_18_219284_141827.meta\n",
      "C:\\Users\\AISG\\Documents\\Jonas\\Real_World_Test_DataBase_meta\\18\\219284\\Satellite_18_219284_141828.meta\n",
      "C:\\Users\\AISG\\Documents\\Jonas\\Real_World_Test_DataBase_meta\\18\\219284\\Satellite_18_219284_141829.meta\n",
      "C:\\Users\\AISG\\Documents\\Jonas\\Real_World_Test_DataBase_meta\\18\\219284\\Satellite_18_219284_141830.meta\n"
     ]
    },
    {
     "name": "stderr",
     "output_type": "stream",
     "text": [
      " 71%|██████████████████████████████████████████████████████▎                      | 1556/2206 [00:04<00:01, 376.49it/s]"
     ]
    },
    {
     "name": "stdout",
     "output_type": "stream",
     "text": [
      "C:\\Users\\AISG\\Documents\\Jonas\\Real_World_Test_DataBase_meta\\18\\219284\\Satellite_18_219284_141831.meta\n",
      "C:\\Users\\AISG\\Documents\\Jonas\\Real_World_Test_DataBase_meta\\18\\219284\\Satellite_18_219284_141832.meta\n",
      "C:\\Users\\AISG\\Documents\\Jonas\\Real_World_Test_DataBase_meta\\18\\219284\\Satellite_18_219284_141833.meta\n",
      "C:\\Users\\AISG\\Documents\\Jonas\\Real_World_Test_DataBase_meta\\18\\219284\\Satellite_18_219284_141834.meta\n",
      "C:\\Users\\AISG\\Documents\\Jonas\\Real_World_Test_DataBase_meta\\18\\219284\\Satellite_18_219284_141835.meta\n",
      "C:\\Users\\AISG\\Documents\\Jonas\\Real_World_Test_DataBase_meta\\18\\219284\\Satellite_18_219284_141836.meta\n",
      "C:\\Users\\AISG\\Documents\\Jonas\\Real_World_Test_DataBase_meta\\18\\219284\\Satellite_18_219284_141837.meta\n",
      "C:\\Users\\AISG\\Documents\\Jonas\\Real_World_Test_DataBase_meta\\18\\219284\\Satellite_18_219284_141838.meta\n",
      "C:\\Users\\AISG\\Documents\\Jonas\\Real_World_Test_DataBase_meta\\18\\219284\\Satellite_18_219284_141839.meta\n",
      "C:\\Users\\AISG\\Documents\\Jonas\\Real_World_Test_DataBase_meta\\18\\219284\\Satellite_18_219284_141840.meta\n",
      "C:\\Users\\AISG\\Documents\\Jonas\\Real_World_Test_DataBase_meta\\18\\219284\\Satellite_18_219284_141841.meta\n",
      "C:\\Users\\AISG\\Documents\\Jonas\\Real_World_Test_DataBase_meta\\18\\219284\\Satellite_18_219284_141842.meta\n",
      "C:\\Users\\AISG\\Documents\\Jonas\\Real_World_Test_DataBase_meta\\18\\219284\\Satellite_18_219284_141843.meta\n",
      "C:\\Users\\AISG\\Documents\\Jonas\\Real_World_Test_DataBase_meta\\18\\219284\\Satellite_18_219284_141844.meta\n",
      "C:\\Users\\AISG\\Documents\\Jonas\\Real_World_Test_DataBase_meta\\18\\219284\\Satellite_18_219284_141845.meta\n",
      "C:\\Users\\AISG\\Documents\\Jonas\\Real_World_Test_DataBase_meta\\18\\219284\\Satellite_18_219284_141846.meta\n",
      "C:\\Users\\AISG\\Documents\\Jonas\\Real_World_Test_DataBase_meta\\18\\219284\\Satellite_18_219284_141847.meta\n",
      "C:\\Users\\AISG\\Documents\\Jonas\\Real_World_Test_DataBase_meta\\18\\219284\\Satellite_18_219284_141848.meta\n",
      "C:\\Users\\AISG\\Documents\\Jonas\\Real_World_Test_DataBase_meta\\18\\219284\\Satellite_18_219284_141849.meta\n",
      "C:\\Users\\AISG\\Documents\\Jonas\\Real_World_Test_DataBase_meta\\18\\219284\\Satellite_18_219284_141850.meta\n",
      "C:\\Users\\AISG\\Documents\\Jonas\\Real_World_Test_DataBase_meta\\18\\219284\\Satellite_18_219284_141851.meta\n",
      "C:\\Users\\AISG\\Documents\\Jonas\\Real_World_Test_DataBase_meta\\18\\219284\\Satellite_18_219284_141852.meta\n",
      "C:\\Users\\AISG\\Documents\\Jonas\\Real_World_Test_DataBase_meta\\18\\219284\\Satellite_18_219284_141853.meta\n",
      "C:\\Users\\AISG\\Documents\\Jonas\\Real_World_Test_DataBase_meta\\18\\219284\\Satellite_18_219284_141854.meta\n",
      "C:\\Users\\AISG\\Documents\\Jonas\\Real_World_Test_DataBase_meta\\18\\219284\\Satellite_18_219284_141855.meta\n",
      "C:\\Users\\AISG\\Documents\\Jonas\\Real_World_Test_DataBase_meta\\18\\219284\\Satellite_18_219284_141856.meta\n",
      "C:\\Users\\AISG\\Documents\\Jonas\\Real_World_Test_DataBase_meta\\18\\219284\\Satellite_18_219284_141857.meta\n",
      "C:\\Users\\AISG\\Documents\\Jonas\\Real_World_Test_DataBase_meta\\18\\219284\\Satellite_18_219284_141858.meta\n",
      "C:\\Users\\AISG\\Documents\\Jonas\\Real_World_Test_DataBase_meta\\18\\219284\\Satellite_18_219284_141859.meta\n",
      "C:\\Users\\AISG\\Documents\\Jonas\\Real_World_Test_DataBase_meta\\18\\219284\\Satellite_18_219284_141860.meta\n",
      "C:\\Users\\AISG\\Documents\\Jonas\\Real_World_Test_DataBase_meta\\18\\219284\\Satellite_18_219284_141861.meta\n",
      "C:\\Users\\AISG\\Documents\\Jonas\\Real_World_Test_DataBase_meta\\18\\219284\\Satellite_18_219284_141862.meta\n",
      "C:\\Users\\AISG\\Documents\\Jonas\\Real_World_Test_DataBase_meta\\18\\219284\\Satellite_18_219284_141863.meta\n",
      "C:\\Users\\AISG\\Documents\\Jonas\\Real_World_Test_DataBase_meta\\18\\219284\\Satellite_18_219284_141864.meta\n",
      "C:\\Users\\AISG\\Documents\\Jonas\\Real_World_Test_DataBase_meta\\18\\219284\\Satellite_18_219284_141865.meta\n",
      "C:\\Users\\AISG\\Documents\\Jonas\\Real_World_Test_DataBase_meta\\18\\219284\\Satellite_18_219284_141866.meta\n",
      "C:\\Users\\AISG\\Documents\\Jonas\\Real_World_Test_DataBase_meta\\18\\219284\\Satellite_18_219284_141867.meta\n",
      "C:\\Users\\AISG\\Documents\\Jonas\\Real_World_Test_DataBase_meta\\18\\219284\\Satellite_18_219284_141868.meta\n",
      "C:\\Users\\AISG\\Documents\\Jonas\\Real_World_Test_DataBase_meta\\18\\219284\\Satellite_18_219284_141869.meta\n",
      "C:\\Users\\AISG\\Documents\\Jonas\\Real_World_Test_DataBase_meta\\18\\219284\\Satellite_18_219284_141870.meta\n",
      "C:\\Users\\AISG\\Documents\\Jonas\\Real_World_Test_DataBase_meta\\18\\219284\\Satellite_18_219284_141871.meta\n",
      "C:\\Users\\AISG\\Documents\\Jonas\\Real_World_Test_DataBase_meta\\18\\219284\\Satellite_18_219284_141872.meta\n",
      "C:\\Users\\AISG\\Documents\\Jonas\\Real_World_Test_DataBase_meta\\18\\219284\\Satellite_18_219284_141873.meta\n",
      "C:\\Users\\AISG\\Documents\\Jonas\\Real_World_Test_DataBase_meta\\18\\219284\\Satellite_18_219284_141874.meta\n",
      "C:\\Users\\AISG\\Documents\\Jonas\\Real_World_Test_DataBase_meta\\18\\219284\\Satellite_18_219284_141875.meta\n",
      "C:\\Users\\AISG\\Documents\\Jonas\\Real_World_Test_DataBase_meta\\18\\219284\\Satellite_18_219284_141876.meta\n",
      "C:\\Users\\AISG\\Documents\\Jonas\\Real_World_Test_DataBase_meta\\18\\219284\\Satellite_18_219284_141877.meta\n",
      "C:\\Users\\AISG\\Documents\\Jonas\\Real_World_Test_DataBase_meta\\18\\219284\\Satellite_18_219284_141878.meta\n",
      "C:\\Users\\AISG\\Documents\\Jonas\\Real_World_Test_DataBase_meta\\18\\219284\\Satellite_18_219284_141879.meta\n",
      "C:\\Users\\AISG\\Documents\\Jonas\\Real_World_Test_DataBase_meta\\18\\219284\\Satellite_18_219284_141880.meta\n",
      "C:\\Users\\AISG\\Documents\\Jonas\\Real_World_Test_DataBase_meta\\18\\219284\\Satellite_18_219284_141881.meta\n",
      "C:\\Users\\AISG\\Documents\\Jonas\\Real_World_Test_DataBase_meta\\18\\219284\\Satellite_18_219284_141882.meta\n",
      "C:\\Users\\AISG\\Documents\\Jonas\\Real_World_Test_DataBase_meta\\18\\219284\\Satellite_18_219284_141883.meta\n",
      "C:\\Users\\AISG\\Documents\\Jonas\\Real_World_Test_DataBase_meta\\18\\219284\\Satellite_18_219284_141884.meta\n",
      "C:\\Users\\AISG\\Documents\\Jonas\\Real_World_Test_DataBase_meta\\18\\219284\\Satellite_18_219284_141885.meta\n",
      "C:\\Users\\AISG\\Documents\\Jonas\\Real_World_Test_DataBase_meta\\18\\219284\\Satellite_18_219284_141886.meta\n",
      "C:\\Users\\AISG\\Documents\\Jonas\\Real_World_Test_DataBase_meta\\18\\219284\\Satellite_18_219284_141887.meta\n",
      "C:\\Users\\AISG\\Documents\\Jonas\\Real_World_Test_DataBase_meta\\18\\219284\\Satellite_18_219284_141888.meta\n",
      "C:\\Users\\AISG\\Documents\\Jonas\\Real_World_Test_DataBase_meta\\18\\219284\\Satellite_18_219284_141889.meta\n",
      "C:\\Users\\AISG\\Documents\\Jonas\\Real_World_Test_DataBase_meta\\18\\219284\\Satellite_18_219284_141890.meta\n",
      "C:\\Users\\AISG\\Documents\\Jonas\\Real_World_Test_DataBase_meta\\18\\219284\\Satellite_18_219284_141891.meta\n",
      "C:\\Users\\AISG\\Documents\\Jonas\\Real_World_Test_DataBase_meta\\18\\219284\\Satellite_18_219284_141892.meta\n",
      "C:\\Users\\AISG\\Documents\\Jonas\\Real_World_Test_DataBase_meta\\18\\219284\\Satellite_18_219284_141893.meta\n",
      "C:\\Users\\AISG\\Documents\\Jonas\\Real_World_Test_DataBase_meta\\18\\219284\\Satellite_18_219284_141894.meta\n",
      "C:\\Users\\AISG\\Documents\\Jonas\\Real_World_Test_DataBase_meta\\18\\219284\\Satellite_18_219284_141895.meta\n",
      "C:\\Users\\AISG\\Documents\\Jonas\\Real_World_Test_DataBase_meta\\18\\219284\\Satellite_18_219284_141896.meta\n",
      "C:\\Users\\AISG\\Documents\\Jonas\\Real_World_Test_DataBase_meta\\18\\219284\\Satellite_18_219284_141897.meta\n",
      "C:\\Users\\AISG\\Documents\\Jonas\\Real_World_Test_DataBase_meta\\18\\219284\\Satellite_18_219284_141898.meta\n",
      "C:\\Users\\AISG\\Documents\\Jonas\\Real_World_Test_DataBase_meta\\18\\219284\\Satellite_18_219284_141899.meta\n",
      "C:\\Users\\AISG\\Documents\\Jonas\\Real_World_Test_DataBase_meta\\18\\219284\\Satellite_18_219284_141900.meta\n"
     ]
    },
    {
     "name": "stderr",
     "output_type": "stream",
     "text": [
      " 74%|████████████████████████████████████████████████████████▉                    | 1632/2206 [00:04<00:01, 376.09it/s]"
     ]
    },
    {
     "name": "stdout",
     "output_type": "stream",
     "text": [
      "C:\\Users\\AISG\\Documents\\Jonas\\Real_World_Test_DataBase_meta\\18\\219284\\Satellite_18_219284_141901.meta\n",
      "C:\\Users\\AISG\\Documents\\Jonas\\Real_World_Test_DataBase_meta\\18\\219284\\Satellite_18_219284_141902.meta\n",
      "C:\\Users\\AISG\\Documents\\Jonas\\Real_World_Test_DataBase_meta\\18\\219284\\Satellite_18_219284_141903.meta\n",
      "C:\\Users\\AISG\\Documents\\Jonas\\Real_World_Test_DataBase_meta\\18\\219284\\Satellite_18_219284_141904.meta\n",
      "C:\\Users\\AISG\\Documents\\Jonas\\Real_World_Test_DataBase_meta\\18\\219284\\Satellite_18_219284_141905.meta\n",
      "C:\\Users\\AISG\\Documents\\Jonas\\Real_World_Test_DataBase_meta\\18\\219284\\Satellite_18_219284_141906.meta\n",
      "C:\\Users\\AISG\\Documents\\Jonas\\Real_World_Test_DataBase_meta\\18\\219284\\Satellite_18_219284_141907.meta\n",
      "C:\\Users\\AISG\\Documents\\Jonas\\Real_World_Test_DataBase_meta\\18\\219284\\Satellite_18_219284_141908.meta\n",
      "C:\\Users\\AISG\\Documents\\Jonas\\Real_World_Test_DataBase_meta\\18\\219284\\Satellite_18_219284_141909.meta\n",
      "C:\\Users\\AISG\\Documents\\Jonas\\Real_World_Test_DataBase_meta\\18\\219284\\Satellite_18_219284_141910.meta\n",
      "C:\\Users\\AISG\\Documents\\Jonas\\Real_World_Test_DataBase_meta\\18\\219284\\Satellite_18_219284_141911.meta\n",
      "C:\\Users\\AISG\\Documents\\Jonas\\Real_World_Test_DataBase_meta\\18\\219284\\Satellite_18_219284_141912.meta\n",
      "C:\\Users\\AISG\\Documents\\Jonas\\Real_World_Test_DataBase_meta\\18\\219284\\Satellite_18_219284_141913.meta\n",
      "C:\\Users\\AISG\\Documents\\Jonas\\Real_World_Test_DataBase_meta\\18\\219284\\Satellite_18_219284_141914.meta\n",
      "C:\\Users\\AISG\\Documents\\Jonas\\Real_World_Test_DataBase_meta\\18\\219284\\Satellite_18_219284_141915.meta\n",
      "C:\\Users\\AISG\\Documents\\Jonas\\Real_World_Test_DataBase_meta\\18\\219284\\Satellite_18_219284_141916.meta\n",
      "C:\\Users\\AISG\\Documents\\Jonas\\Real_World_Test_DataBase_meta\\18\\219284\\Satellite_18_219284_141917.meta\n",
      "C:\\Users\\AISG\\Documents\\Jonas\\Real_World_Test_DataBase_meta\\18\\219284\\Satellite_18_219284_141918.meta\n",
      "C:\\Users\\AISG\\Documents\\Jonas\\Real_World_Test_DataBase_meta\\18\\219284\\Satellite_18_219284_141919.meta\n",
      "C:\\Users\\AISG\\Documents\\Jonas\\Real_World_Test_DataBase_meta\\18\\219284\\Satellite_18_219284_141920.meta\n",
      "C:\\Users\\AISG\\Documents\\Jonas\\Real_World_Test_DataBase_meta\\18\\219284\\Satellite_18_219284_141921.meta\n",
      "C:\\Users\\AISG\\Documents\\Jonas\\Real_World_Test_DataBase_meta\\18\\219284\\Satellite_18_219284_141922.meta\n",
      "C:\\Users\\AISG\\Documents\\Jonas\\Real_World_Test_DataBase_meta\\18\\219284\\Satellite_18_219284_141923.meta\n",
      "C:\\Users\\AISG\\Documents\\Jonas\\Real_World_Test_DataBase_meta\\18\\219284\\Satellite_18_219284_141924.meta\n",
      "C:\\Users\\AISG\\Documents\\Jonas\\Real_World_Test_DataBase_meta\\18\\219284\\Satellite_18_219284_141925.meta\n",
      "C:\\Users\\AISG\\Documents\\Jonas\\Real_World_Test_DataBase_meta\\18\\219284\\Satellite_18_219284_141926.meta\n",
      "C:\\Users\\AISG\\Documents\\Jonas\\Real_World_Test_DataBase_meta\\18\\219284\\Satellite_18_219284_141927.meta\n",
      "C:\\Users\\AISG\\Documents\\Jonas\\Real_World_Test_DataBase_meta\\18\\219284\\Satellite_18_219284_141928.meta\n",
      "C:\\Users\\AISG\\Documents\\Jonas\\Real_World_Test_DataBase_meta\\18\\219284\\Satellite_18_219284_141929.meta\n",
      "C:\\Users\\AISG\\Documents\\Jonas\\Real_World_Test_DataBase_meta\\18\\219284\\Satellite_18_219284_141930.meta\n",
      "C:\\Users\\AISG\\Documents\\Jonas\\Real_World_Test_DataBase_meta\\18\\219284\\Satellite_18_219284_141931.meta\n",
      "C:\\Users\\AISG\\Documents\\Jonas\\Real_World_Test_DataBase_meta\\18\\219284\\Satellite_18_219284_141932.meta\n",
      "C:\\Users\\AISG\\Documents\\Jonas\\Real_World_Test_DataBase_meta\\18\\219284\\Satellite_18_219284_141936.meta\n",
      "C:\\Users\\AISG\\Documents\\Jonas\\Real_World_Test_DataBase_meta\\18\\219284\\Satellite_18_219284_141937.meta\n",
      "C:\\Users\\AISG\\Documents\\Jonas\\Real_World_Test_DataBase_meta\\18\\219284\\Satellite_18_219284_141938.meta\n",
      "C:\\Users\\AISG\\Documents\\Jonas\\Real_World_Test_DataBase_meta\\18\\219284\\Satellite_18_219284_141939.meta\n",
      "C:\\Users\\AISG\\Documents\\Jonas\\Real_World_Test_DataBase_meta\\18\\219284\\Satellite_18_219284_141940.meta\n",
      "C:\\Users\\AISG\\Documents\\Jonas\\Real_World_Test_DataBase_meta\\18\\219284\\Satellite_18_219284_141941.meta\n",
      "C:\\Users\\AISG\\Documents\\Jonas\\Real_World_Test_DataBase_meta\\18\\219284\\Satellite_18_219284_141942.meta\n",
      "C:\\Users\\AISG\\Documents\\Jonas\\Real_World_Test_DataBase_meta\\18\\219284\\Satellite_18_219284_141943.meta\n",
      "C:\\Users\\AISG\\Documents\\Jonas\\Real_World_Test_DataBase_meta\\18\\219284\\Satellite_18_219284_141944.meta\n",
      "C:\\Users\\AISG\\Documents\\Jonas\\Real_World_Test_DataBase_meta\\18\\219284\\Satellite_18_219284_141945.meta\n",
      "C:\\Users\\AISG\\Documents\\Jonas\\Real_World_Test_DataBase_meta\\18\\219284\\Satellite_18_219284_141946.meta\n",
      "C:\\Users\\AISG\\Documents\\Jonas\\Real_World_Test_DataBase_meta\\18\\219284\\Satellite_18_219284_141947.meta\n",
      "C:\\Users\\AISG\\Documents\\Jonas\\Real_World_Test_DataBase_meta\\18\\219284\\Satellite_18_219284_141948.meta\n",
      "C:\\Users\\AISG\\Documents\\Jonas\\Real_World_Test_DataBase_meta\\18\\219284\\Satellite_18_219284_141949.meta\n",
      "C:\\Users\\AISG\\Documents\\Jonas\\Real_World_Test_DataBase_meta\\18\\219284\\Satellite_18_219284_141950.meta\n",
      "C:\\Users\\AISG\\Documents\\Jonas\\Real_World_Test_DataBase_meta\\18\\219284\\Satellite_18_219284_141951.meta\n",
      "C:\\Users\\AISG\\Documents\\Jonas\\Real_World_Test_DataBase_meta\\18\\219284\\Satellite_18_219284_141952.meta\n",
      "C:\\Users\\AISG\\Documents\\Jonas\\Real_World_Test_DataBase_meta\\18\\219284\\Satellite_18_219284_141953.meta\n",
      "C:\\Users\\AISG\\Documents\\Jonas\\Real_World_Test_DataBase_meta\\18\\219284\\Satellite_18_219284_141954.meta\n",
      "C:\\Users\\AISG\\Documents\\Jonas\\Real_World_Test_DataBase_meta\\18\\219284\\Satellite_18_219284_141955.meta\n",
      "C:\\Users\\AISG\\Documents\\Jonas\\Real_World_Test_DataBase_meta\\18\\219284\\Satellite_18_219284_141956.meta\n",
      "C:\\Users\\AISG\\Documents\\Jonas\\Real_World_Test_DataBase_meta\\18\\219284\\Satellite_18_219284_141957.meta\n",
      "C:\\Users\\AISG\\Documents\\Jonas\\Real_World_Test_DataBase_meta\\18\\219284\\Satellite_18_219284_141958.meta\n",
      "C:\\Users\\AISG\\Documents\\Jonas\\Real_World_Test_DataBase_meta\\18\\219284\\Satellite_18_219284_141959.meta\n",
      "C:\\Users\\AISG\\Documents\\Jonas\\Real_World_Test_DataBase_meta\\18\\219284\\Satellite_18_219284_141960.meta\n",
      "C:\\Users\\AISG\\Documents\\Jonas\\Real_World_Test_DataBase_meta\\18\\219284\\Satellite_18_219284_141961.meta\n",
      "C:\\Users\\AISG\\Documents\\Jonas\\Real_World_Test_DataBase_meta\\18\\219284\\Satellite_18_219284_141962.meta\n",
      "C:\\Users\\AISG\\Documents\\Jonas\\Real_World_Test_DataBase_meta\\18\\219284\\Satellite_18_219284_141963.meta\n",
      "C:\\Users\\AISG\\Documents\\Jonas\\Real_World_Test_DataBase_meta\\18\\219284\\Satellite_18_219284_141964.meta\n",
      "C:\\Users\\AISG\\Documents\\Jonas\\Real_World_Test_DataBase_meta\\18\\219284\\Satellite_18_219284_141965.meta\n",
      "C:\\Users\\AISG\\Documents\\Jonas\\Real_World_Test_DataBase_meta\\18\\219284\\Satellite_18_219284_141966.meta\n",
      "C:\\Users\\AISG\\Documents\\Jonas\\Real_World_Test_DataBase_meta\\18\\219284\\Satellite_18_219284_141967.meta\n",
      "C:\\Users\\AISG\\Documents\\Jonas\\Real_World_Test_DataBase_meta\\18\\219284\\Satellite_18_219284_141968.meta\n",
      "C:\\Users\\AISG\\Documents\\Jonas\\Real_World_Test_DataBase_meta\\18\\219284\\Satellite_18_219284_141969.meta\n",
      "C:\\Users\\AISG\\Documents\\Jonas\\Real_World_Test_DataBase_meta\\18\\219284\\Satellite_18_219284_141970.meta\n",
      "C:\\Users\\AISG\\Documents\\Jonas\\Real_World_Test_DataBase_meta\\18\\219284\\Satellite_18_219284_141971.meta\n",
      "C:\\Users\\AISG\\Documents\\Jonas\\Real_World_Test_DataBase_meta\\18\\219284\\Satellite_18_219284_141972.meta\n",
      "C:\\Users\\AISG\\Documents\\Jonas\\Real_World_Test_DataBase_meta\\18\\219284\\Satellite_18_219284_141973.meta\n"
     ]
    },
    {
     "name": "stderr",
     "output_type": "stream",
     "text": [
      "\r",
      " 76%|██████████████████████████████████████████████████████████▎                  | 1670/2206 [00:04<00:01, 376.46it/s]"
     ]
    },
    {
     "name": "stdout",
     "output_type": "stream",
     "text": [
      "C:\\Users\\AISG\\Documents\\Jonas\\Real_World_Test_DataBase_meta\\18\\219284\\Satellite_18_219284_141974.meta\n",
      "C:\\Users\\AISG\\Documents\\Jonas\\Real_World_Test_DataBase_meta\\18\\219284\\Satellite_18_219284_141975.meta\n",
      "C:\\Users\\AISG\\Documents\\Jonas\\Real_World_Test_DataBase_meta\\18\\219284\\Satellite_18_219284_141976.meta\n",
      "C:\\Users\\AISG\\Documents\\Jonas\\Real_World_Test_DataBase_meta\\18\\219284\\Satellite_18_219284_141977.meta\n",
      "C:\\Users\\AISG\\Documents\\Jonas\\Real_World_Test_DataBase_meta\\18\\219284\\Satellite_18_219284_141978.meta\n",
      "C:\\Users\\AISG\\Documents\\Jonas\\Real_World_Test_DataBase_meta\\18\\219284\\Satellite_18_219284_141979.meta\n",
      "C:\\Users\\AISG\\Documents\\Jonas\\Real_World_Test_DataBase_meta\\18\\219284\\Satellite_18_219284_141980.meta\n",
      "C:\\Users\\AISG\\Documents\\Jonas\\Real_World_Test_DataBase_meta\\18\\219284\\Satellite_18_219284_141981.meta\n",
      "C:\\Users\\AISG\\Documents\\Jonas\\Real_World_Test_DataBase_meta\\18\\219284\\Satellite_18_219284_141982.meta\n",
      "C:\\Users\\AISG\\Documents\\Jonas\\Real_World_Test_DataBase_meta\\18\\219284\\Satellite_18_219284_141983.meta\n",
      "C:\\Users\\AISG\\Documents\\Jonas\\Real_World_Test_DataBase_meta\\18\\219284\\Satellite_18_219284_141984.meta\n",
      "C:\\Users\\AISG\\Documents\\Jonas\\Real_World_Test_DataBase_meta\\18\\219284\\Satellite_18_219284_141985.meta\n",
      "C:\\Users\\AISG\\Documents\\Jonas\\Real_World_Test_DataBase_meta\\18\\219284\\Satellite_18_219284_141986.meta\n",
      "C:\\Users\\AISG\\Documents\\Jonas\\Real_World_Test_DataBase_meta\\18\\219284\\Satellite_18_219284_141987.meta\n",
      "C:\\Users\\AISG\\Documents\\Jonas\\Real_World_Test_DataBase_meta\\18\\219284\\Satellite_18_219284_141988.meta\n",
      "C:\\Users\\AISG\\Documents\\Jonas\\Real_World_Test_DataBase_meta\\18\\219284\\Satellite_18_219284_141989.meta\n",
      "C:\\Users\\AISG\\Documents\\Jonas\\Real_World_Test_DataBase_meta\\18\\219284\\Satellite_18_219284_141990.meta\n",
      "C:\\Users\\AISG\\Documents\\Jonas\\Real_World_Test_DataBase_meta\\18\\219284\\Satellite_18_219284_141991.meta\n",
      "C:\\Users\\AISG\\Documents\\Jonas\\Real_World_Test_DataBase_meta\\18\\219284\\Satellite_18_219284_141992.meta\n",
      "C:\\Users\\AISG\\Documents\\Jonas\\Real_World_Test_DataBase_meta\\18\\219284\\Satellite_18_219284_141993.meta\n",
      "C:\\Users\\AISG\\Documents\\Jonas\\Real_World_Test_DataBase_meta\\18\\219284\\Satellite_18_219284_141994.meta\n",
      "C:\\Users\\AISG\\Documents\\Jonas\\Real_World_Test_DataBase_meta\\18\\219284\\Satellite_18_219284_141995.meta\n",
      "C:\\Users\\AISG\\Documents\\Jonas\\Real_World_Test_DataBase_meta\\18\\219284\\Satellite_18_219284_141996.meta\n",
      "C:\\Users\\AISG\\Documents\\Jonas\\Real_World_Test_DataBase_meta\\18\\219284\\Satellite_18_219284_141997.meta\n",
      "C:\\Users\\AISG\\Documents\\Jonas\\Real_World_Test_DataBase_meta\\18\\219284\\Satellite_18_219284_141998.meta\n",
      "C:\\Users\\AISG\\Documents\\Jonas\\Real_World_Test_DataBase_meta\\18\\219284\\Satellite_18_219284_141999.meta\n",
      "C:\\Users\\AISG\\Documents\\Jonas\\Real_World_Test_DataBase_meta\\18\\219284\\Satellite_18_219284_142000.meta\n",
      "C:\\Users\\AISG\\Documents\\Jonas\\Real_World_Test_DataBase_meta\\18\\219284\\Satellite_18_219284_142001.meta\n",
      "C:\\Users\\AISG\\Documents\\Jonas\\Real_World_Test_DataBase_meta\\18\\219284\\Satellite_18_219284_142002.meta\n",
      "C:\\Users\\AISG\\Documents\\Jonas\\Real_World_Test_DataBase_meta\\18\\219284\\Satellite_18_219284_142003.meta\n",
      "C:\\Users\\AISG\\Documents\\Jonas\\Real_World_Test_DataBase_meta\\18\\219284\\Satellite_18_219284_142004.meta\n",
      "C:\\Users\\AISG\\Documents\\Jonas\\Real_World_Test_DataBase_meta\\18\\219284\\Satellite_18_219284_142005.meta\n",
      "C:\\Users\\AISG\\Documents\\Jonas\\Real_World_Test_DataBase_meta\\18\\219284\\Satellite_18_219284_142006.meta\n",
      "C:\\Users\\AISG\\Documents\\Jonas\\Real_World_Test_DataBase_meta\\18\\219284\\Satellite_18_219284_142007.meta\n",
      "C:\\Users\\AISG\\Documents\\Jonas\\Real_World_Test_DataBase_meta\\18\\219284\\Satellite_18_219284_142008.meta\n",
      "C:\\Users\\AISG\\Documents\\Jonas\\Real_World_Test_DataBase_meta\\18\\219284\\Satellite_18_219284_142009.meta\n",
      "C:\\Users\\AISG\\Documents\\Jonas\\Real_World_Test_DataBase_meta\\18\\219284\\Satellite_18_219284_142010.meta\n",
      "C:\\Users\\AISG\\Documents\\Jonas\\Real_World_Test_DataBase_meta\\18\\219284\\Satellite_18_219284_142011.meta\n",
      "C:\\Users\\AISG\\Documents\\Jonas\\Real_World_Test_DataBase_meta\\18\\219284\\Satellite_18_219284_142012.meta\n",
      "C:\\Users\\AISG\\Documents\\Jonas\\Real_World_Test_DataBase_meta\\18\\219284\\Satellite_18_219284_142013.meta\n",
      "C:\\Users\\AISG\\Documents\\Jonas\\Real_World_Test_DataBase_meta\\18\\219284\\Satellite_18_219284_142014.meta\n",
      "C:\\Users\\AISG\\Documents\\Jonas\\Real_World_Test_DataBase_meta\\18\\219284\\Satellite_18_219284_142015.meta\n",
      "C:\\Users\\AISG\\Documents\\Jonas\\Real_World_Test_DataBase_meta\\18\\219284\\Satellite_18_219284_142016.meta\n",
      "C:\\Users\\AISG\\Documents\\Jonas\\Real_World_Test_DataBase_meta\\18\\219284\\Satellite_18_219284_142017.meta\n",
      "C:\\Users\\AISG\\Documents\\Jonas\\Real_World_Test_DataBase_meta\\18\\219284\\Satellite_18_219284_142018.meta\n",
      "C:\\Users\\AISG\\Documents\\Jonas\\Real_World_Test_DataBase_meta\\18\\219284\\Satellite_18_219284_142019.meta\n",
      "C:\\Users\\AISG\\Documents\\Jonas\\Real_World_Test_DataBase_meta\\18\\219284\\Satellite_18_219284_142020.meta\n",
      "C:\\Users\\AISG\\Documents\\Jonas\\Real_World_Test_DataBase_meta\\18\\219284\\Satellite_18_219284_142021.meta\n",
      "C:\\Users\\AISG\\Documents\\Jonas\\Real_World_Test_DataBase_meta\\18\\219284\\Satellite_18_219284_142022.meta\n",
      "C:\\Users\\AISG\\Documents\\Jonas\\Real_World_Test_DataBase_meta\\18\\219284\\Satellite_18_219284_142023.meta\n",
      "C:\\Users\\AISG\\Documents\\Jonas\\Real_World_Test_DataBase_meta\\18\\219284\\Satellite_18_219284_142024.meta\n",
      "C:\\Users\\AISG\\Documents\\Jonas\\Real_World_Test_DataBase_meta\\18\\219284\\Satellite_18_219284_142025.meta\n",
      "C:\\Users\\AISG\\Documents\\Jonas\\Real_World_Test_DataBase_meta\\18\\219284\\Satellite_18_219284_142026.meta\n",
      "C:\\Users\\AISG\\Documents\\Jonas\\Real_World_Test_DataBase_meta\\18\\219284\\Satellite_18_219284_142027.meta\n",
      "C:\\Users\\AISG\\Documents\\Jonas\\Real_World_Test_DataBase_meta\\18\\219284\\Satellite_18_219284_142028.meta\n",
      "C:\\Users\\AISG\\Documents\\Jonas\\Real_World_Test_DataBase_meta\\18\\219284\\Satellite_18_219284_142029.meta\n",
      "C:\\Users\\AISG\\Documents\\Jonas\\Real_World_Test_DataBase_meta\\18\\219284\\Satellite_18_219284_142030.meta\n",
      "C:\\Users\\AISG\\Documents\\Jonas\\Real_World_Test_DataBase_meta\\18\\219284\\Satellite_18_219284_142031.meta\n",
      "C:\\Users\\AISG\\Documents\\Jonas\\Real_World_Test_DataBase_meta\\18\\219284\\Satellite_18_219284_142032.meta\n",
      "C:\\Users\\AISG\\Documents\\Jonas\\Real_World_Test_DataBase_meta\\18\\219284\\Satellite_18_219284_142033.meta\n",
      "C:\\Users\\AISG\\Documents\\Jonas\\Real_World_Test_DataBase_meta\\18\\219284\\Satellite_18_219284_142034.meta\n",
      "C:\\Users\\AISG\\Documents\\Jonas\\Real_World_Test_DataBase_meta\\18\\219284\\Satellite_18_219284_142035.meta\n",
      "C:\\Users\\AISG\\Documents\\Jonas\\Real_World_Test_DataBase_meta\\18\\219284\\Satellite_18_219284_142036.meta\n",
      "C:\\Users\\AISG\\Documents\\Jonas\\Real_World_Test_DataBase_meta\\18\\219284\\Satellite_18_219284_142037.meta\n",
      "C:\\Users\\AISG\\Documents\\Jonas\\Real_World_Test_DataBase_meta\\18\\219284\\Satellite_18_219284_142038.meta\n",
      "C:\\Users\\AISG\\Documents\\Jonas\\Real_World_Test_DataBase_meta\\18\\219284\\Satellite_18_219284_142039.meta\n",
      "C:\\Users\\AISG\\Documents\\Jonas\\Real_World_Test_DataBase_meta\\18\\219284\\Satellite_18_219284_142040.meta\n",
      "C:\\Users\\AISG\\Documents\\Jonas\\Real_World_Test_DataBase_meta\\18\\219284\\Satellite_18_219284_142041.meta\n",
      "C:\\Users\\AISG\\Documents\\Jonas\\Real_World_Test_DataBase_meta\\18\\219284\\Satellite_18_219284_142042.meta\n",
      "C:\\Users\\AISG\\Documents\\Jonas\\Real_World_Test_DataBase_meta\\18\\219284\\Satellite_18_219284_142043.meta\n"
     ]
    },
    {
     "name": "stderr",
     "output_type": "stream",
     "text": [
      " 79%|████████████████████████████████████████████████████████████▉                | 1746/2206 [00:04<00:01, 373.88it/s]"
     ]
    },
    {
     "name": "stdout",
     "output_type": "stream",
     "text": [
      "C:\\Users\\AISG\\Documents\\Jonas\\Real_World_Test_DataBase_meta\\18\\219284\\Satellite_18_219284_142044.meta\n",
      "C:\\Users\\AISG\\Documents\\Jonas\\Real_World_Test_DataBase_meta\\18\\219284\\Satellite_18_219284_142045.meta\n",
      "C:\\Users\\AISG\\Documents\\Jonas\\Real_World_Test_DataBase_meta\\18\\219284\\Satellite_18_219284_142046.meta\n",
      "C:\\Users\\AISG\\Documents\\Jonas\\Real_World_Test_DataBase_meta\\18\\219284\\Satellite_18_219284_142047.meta\n",
      "C:\\Users\\AISG\\Documents\\Jonas\\Real_World_Test_DataBase_meta\\18\\219284\\Satellite_18_219284_142048.meta\n",
      "C:\\Users\\AISG\\Documents\\Jonas\\Real_World_Test_DataBase_meta\\18\\219284\\Satellite_18_219284_142049.meta\n",
      "C:\\Users\\AISG\\Documents\\Jonas\\Real_World_Test_DataBase_meta\\18\\219284\\Satellite_18_219284_142050.meta\n",
      "C:\\Users\\AISG\\Documents\\Jonas\\Real_World_Test_DataBase_meta\\18\\219284\\Satellite_18_219284_142051.meta\n",
      "C:\\Users\\AISG\\Documents\\Jonas\\Real_World_Test_DataBase_meta\\18\\219284\\Satellite_18_219284_142052.meta\n",
      "C:\\Users\\AISG\\Documents\\Jonas\\Real_World_Test_DataBase_meta\\18\\219284\\Satellite_18_219284_142053.meta\n",
      "C:\\Users\\AISG\\Documents\\Jonas\\Real_World_Test_DataBase_meta\\18\\219284\\Satellite_18_219284_142054.meta\n",
      "C:\\Users\\AISG\\Documents\\Jonas\\Real_World_Test_DataBase_meta\\18\\219284\\Satellite_18_219284_142055.meta\n",
      "C:\\Users\\AISG\\Documents\\Jonas\\Real_World_Test_DataBase_meta\\18\\219284\\Satellite_18_219284_142056.meta\n",
      "C:\\Users\\AISG\\Documents\\Jonas\\Real_World_Test_DataBase_meta\\18\\219284\\Satellite_18_219284_142057.meta\n",
      "C:\\Users\\AISG\\Documents\\Jonas\\Real_World_Test_DataBase_meta\\18\\219284\\Satellite_18_219284_142058.meta\n",
      "C:\\Users\\AISG\\Documents\\Jonas\\Real_World_Test_DataBase_meta\\18\\219284\\Satellite_18_219284_142059.meta\n",
      "C:\\Users\\AISG\\Documents\\Jonas\\Real_World_Test_DataBase_meta\\18\\219284\\Satellite_18_219284_142060.meta\n",
      "C:\\Users\\AISG\\Documents\\Jonas\\Real_World_Test_DataBase_meta\\18\\219284\\Satellite_18_219284_142061.meta\n",
      "C:\\Users\\AISG\\Documents\\Jonas\\Real_World_Test_DataBase_meta\\18\\219284\\Satellite_18_219284_142062.meta\n",
      "C:\\Users\\AISG\\Documents\\Jonas\\Real_World_Test_DataBase_meta\\18\\219284\\Satellite_18_219284_142063.meta\n",
      "C:\\Users\\AISG\\Documents\\Jonas\\Real_World_Test_DataBase_meta\\18\\219284\\Satellite_18_219284_142064.meta\n",
      "C:\\Users\\AISG\\Documents\\Jonas\\Real_World_Test_DataBase_meta\\18\\219284\\Satellite_18_219284_142065.meta\n",
      "C:\\Users\\AISG\\Documents\\Jonas\\Real_World_Test_DataBase_meta\\18\\219284\\Satellite_18_219284_142066.meta\n",
      "C:\\Users\\AISG\\Documents\\Jonas\\Real_World_Test_DataBase_meta\\18\\219284\\Satellite_18_219284_142067.meta\n",
      "C:\\Users\\AISG\\Documents\\Jonas\\Real_World_Test_DataBase_meta\\18\\219284\\Satellite_18_219284_142068.meta\n",
      "C:\\Users\\AISG\\Documents\\Jonas\\Real_World_Test_DataBase_meta\\18\\219284\\Satellite_18_219284_142069.meta\n",
      "C:\\Users\\AISG\\Documents\\Jonas\\Real_World_Test_DataBase_meta\\18\\219284\\Satellite_18_219284_142070.meta\n",
      "C:\\Users\\AISG\\Documents\\Jonas\\Real_World_Test_DataBase_meta\\18\\219284\\Satellite_18_219284_142071.meta\n",
      "C:\\Users\\AISG\\Documents\\Jonas\\Real_World_Test_DataBase_meta\\18\\219284\\Satellite_18_219284_142072.meta\n",
      "C:\\Users\\AISG\\Documents\\Jonas\\Real_World_Test_DataBase_meta\\18\\219284\\Satellite_18_219284_142073.meta\n",
      "C:\\Users\\AISG\\Documents\\Jonas\\Real_World_Test_DataBase_meta\\18\\219284\\Satellite_18_219284_142074.meta\n",
      "C:\\Users\\AISG\\Documents\\Jonas\\Real_World_Test_DataBase_meta\\18\\219284\\Satellite_18_219284_142075.meta\n",
      "C:\\Users\\AISG\\Documents\\Jonas\\Real_World_Test_DataBase_meta\\18\\219284\\Satellite_18_219284_142076.meta\n",
      "C:\\Users\\AISG\\Documents\\Jonas\\Real_World_Test_DataBase_meta\\18\\219284\\Satellite_18_219284_142077.meta\n",
      "C:\\Users\\AISG\\Documents\\Jonas\\Real_World_Test_DataBase_meta\\18\\219284\\Satellite_18_219284_142078.meta\n",
      "C:\\Users\\AISG\\Documents\\Jonas\\Real_World_Test_DataBase_meta\\18\\219284\\Satellite_18_219284_142079.meta\n",
      "C:\\Users\\AISG\\Documents\\Jonas\\Real_World_Test_DataBase_meta\\18\\219284\\Satellite_18_219284_142080.meta\n",
      "C:\\Users\\AISG\\Documents\\Jonas\\Real_World_Test_DataBase_meta\\18\\219284\\Satellite_18_219284_142081.meta\n",
      "C:\\Users\\AISG\\Documents\\Jonas\\Real_World_Test_DataBase_meta\\18\\219284\\Satellite_18_219284_142082.meta\n",
      "C:\\Users\\AISG\\Documents\\Jonas\\Real_World_Test_DataBase_meta\\18\\219284\\Satellite_18_219284_142083.meta\n",
      "C:\\Users\\AISG\\Documents\\Jonas\\Real_World_Test_DataBase_meta\\18\\219284\\Satellite_18_219284_142084.meta\n",
      "C:\\Users\\AISG\\Documents\\Jonas\\Real_World_Test_DataBase_meta\\18\\219284\\Satellite_18_219284_142085.meta\n",
      "C:\\Users\\AISG\\Documents\\Jonas\\Real_World_Test_DataBase_meta\\18\\219284\\Satellite_18_219284_142086.meta\n",
      "C:\\Users\\AISG\\Documents\\Jonas\\Real_World_Test_DataBase_meta\\18\\219284\\Satellite_18_219284_142087.meta\n",
      "C:\\Users\\AISG\\Documents\\Jonas\\Real_World_Test_DataBase_meta\\18\\219284\\Satellite_18_219284_142088.meta\n",
      "C:\\Users\\AISG\\Documents\\Jonas\\Real_World_Test_DataBase_meta\\18\\219284\\Satellite_18_219284_142089.meta\n",
      "C:\\Users\\AISG\\Documents\\Jonas\\Real_World_Test_DataBase_meta\\18\\219284\\Satellite_18_219284_142090.meta\n",
      "C:\\Users\\AISG\\Documents\\Jonas\\Real_World_Test_DataBase_meta\\18\\219284\\Satellite_18_219284_142091.meta\n",
      "C:\\Users\\AISG\\Documents\\Jonas\\Real_World_Test_DataBase_meta\\18\\219284\\Satellite_18_219284_142092.meta\n",
      "C:\\Users\\AISG\\Documents\\Jonas\\Real_World_Test_DataBase_meta\\18\\219284\\Satellite_18_219284_142093.meta\n",
      "C:\\Users\\AISG\\Documents\\Jonas\\Real_World_Test_DataBase_meta\\18\\219284\\Satellite_18_219284_142094.meta\n",
      "C:\\Users\\AISG\\Documents\\Jonas\\Real_World_Test_DataBase_meta\\18\\219284\\Satellite_18_219284_142095.meta\n",
      "C:\\Users\\AISG\\Documents\\Jonas\\Real_World_Test_DataBase_meta\\18\\219284\\Satellite_18_219284_142096.meta\n",
      "C:\\Users\\AISG\\Documents\\Jonas\\Real_World_Test_DataBase_meta\\18\\219284\\Satellite_18_219284_142097.meta\n",
      "C:\\Users\\AISG\\Documents\\Jonas\\Real_World_Test_DataBase_meta\\18\\219284\\Satellite_18_219284_142098.meta\n",
      "C:\\Users\\AISG\\Documents\\Jonas\\Real_World_Test_DataBase_meta\\18\\219284\\Satellite_18_219284_142099.meta\n",
      "C:\\Users\\AISG\\Documents\\Jonas\\Real_World_Test_DataBase_meta\\18\\219284\\Satellite_18_219284_142100.meta\n",
      "C:\\Users\\AISG\\Documents\\Jonas\\Real_World_Test_DataBase_meta\\18\\219284\\Satellite_18_219284_142101.meta\n",
      "C:\\Users\\AISG\\Documents\\Jonas\\Real_World_Test_DataBase_meta\\18\\219284\\Satellite_18_219284_142102.meta\n",
      "C:\\Users\\AISG\\Documents\\Jonas\\Real_World_Test_DataBase_meta\\18\\219284\\Satellite_18_219284_142103.meta\n",
      "C:\\Users\\AISG\\Documents\\Jonas\\Real_World_Test_DataBase_meta\\18\\219284\\Satellite_18_219284_142104.meta\n",
      "C:\\Users\\AISG\\Documents\\Jonas\\Real_World_Test_DataBase_meta\\18\\219284\\Satellite_18_219284_142105.meta\n",
      "C:\\Users\\AISG\\Documents\\Jonas\\Real_World_Test_DataBase_meta\\18\\219284\\Satellite_18_219284_142106.meta\n",
      "C:\\Users\\AISG\\Documents\\Jonas\\Real_World_Test_DataBase_meta\\18\\219284\\Satellite_18_219284_142107.meta\n",
      "C:\\Users\\AISG\\Documents\\Jonas\\Real_World_Test_DataBase_meta\\18\\219284\\Satellite_18_219284_142108.meta\n",
      "C:\\Users\\AISG\\Documents\\Jonas\\Real_World_Test_DataBase_meta\\18\\219284\\Satellite_18_219284_142109.meta\n",
      "C:\\Users\\AISG\\Documents\\Jonas\\Real_World_Test_DataBase_meta\\18\\219284\\Satellite_18_219284_142110.meta\n",
      "C:\\Users\\AISG\\Documents\\Jonas\\Real_World_Test_DataBase_meta\\18\\219284\\Satellite_18_219284_142111.meta\n",
      "C:\\Users\\AISG\\Documents\\Jonas\\Real_World_Test_DataBase_meta\\18\\219284\\Satellite_18_219284_142112.meta\n",
      "C:\\Users\\AISG\\Documents\\Jonas\\Real_World_Test_DataBase_meta\\18\\219284\\Satellite_18_219284_142113.meta\n"
     ]
    },
    {
     "name": "stderr",
     "output_type": "stream",
     "text": [
      " 83%|███████████████████████████████████████████████████████████████▌             | 1822/2206 [00:04<00:01, 370.01it/s]"
     ]
    },
    {
     "name": "stdout",
     "output_type": "stream",
     "text": [
      "C:\\Users\\AISG\\Documents\\Jonas\\Real_World_Test_DataBase_meta\\18\\219284\\Satellite_18_219284_142114.meta\n",
      "C:\\Users\\AISG\\Documents\\Jonas\\Real_World_Test_DataBase_meta\\18\\219284\\Satellite_18_219284_142115.meta\n",
      "C:\\Users\\AISG\\Documents\\Jonas\\Real_World_Test_DataBase_meta\\18\\219284\\Satellite_18_219284_142116.meta\n",
      "C:\\Users\\AISG\\Documents\\Jonas\\Real_World_Test_DataBase_meta\\18\\219284\\Satellite_18_219284_142117.meta\n",
      "C:\\Users\\AISG\\Documents\\Jonas\\Real_World_Test_DataBase_meta\\18\\219284\\Satellite_18_219284_142118.meta\n",
      "C:\\Users\\AISG\\Documents\\Jonas\\Real_World_Test_DataBase_meta\\18\\219284\\Satellite_18_219284_142119.meta\n",
      "C:\\Users\\AISG\\Documents\\Jonas\\Real_World_Test_DataBase_meta\\18\\219284\\Satellite_18_219284_142120.meta\n",
      "C:\\Users\\AISG\\Documents\\Jonas\\Real_World_Test_DataBase_meta\\18\\219284\\Satellite_18_219284_142121.meta\n",
      "C:\\Users\\AISG\\Documents\\Jonas\\Real_World_Test_DataBase_meta\\18\\219284\\Satellite_18_219284_142122.meta\n",
      "C:\\Users\\AISG\\Documents\\Jonas\\Real_World_Test_DataBase_meta\\18\\219284\\Satellite_18_219284_142123.meta\n",
      "C:\\Users\\AISG\\Documents\\Jonas\\Real_World_Test_DataBase_meta\\18\\219284\\Satellite_18_219284_142124.meta\n",
      "C:\\Users\\AISG\\Documents\\Jonas\\Real_World_Test_DataBase_meta\\18\\219284\\Satellite_18_219284_142128.meta\n",
      "C:\\Users\\AISG\\Documents\\Jonas\\Real_World_Test_DataBase_meta\\18\\44952\\Satellite_18_44952_157458.meta\n",
      "C:\\Users\\AISG\\Documents\\Jonas\\Real_World_Test_DataBase_meta\\18\\44952\\Satellite_18_44952_157459.meta\n",
      "C:\\Users\\AISG\\Documents\\Jonas\\Real_World_Test_DataBase_meta\\18\\44952\\Satellite_18_44952_157460.meta\n",
      "C:\\Users\\AISG\\Documents\\Jonas\\Real_World_Test_DataBase_meta\\18\\44952\\Satellite_18_44952_157461.meta\n",
      "C:\\Users\\AISG\\Documents\\Jonas\\Real_World_Test_DataBase_meta\\18\\44952\\Satellite_18_44952_157462.meta\n",
      "C:\\Users\\AISG\\Documents\\Jonas\\Real_World_Test_DataBase_meta\\18\\44952\\Satellite_18_44952_157463.meta\n",
      "C:\\Users\\AISG\\Documents\\Jonas\\Real_World_Test_DataBase_meta\\18\\44952\\Satellite_18_44952_157464.meta\n",
      "C:\\Users\\AISG\\Documents\\Jonas\\Real_World_Test_DataBase_meta\\18\\44952\\Satellite_18_44952_157465.meta\n",
      "C:\\Users\\AISG\\Documents\\Jonas\\Real_World_Test_DataBase_meta\\18\\44952\\Satellite_18_44952_157466.meta\n",
      "C:\\Users\\AISG\\Documents\\Jonas\\Real_World_Test_DataBase_meta\\18\\44952\\Satellite_18_44952_157467.meta\n",
      "C:\\Users\\AISG\\Documents\\Jonas\\Real_World_Test_DataBase_meta\\18\\44952\\Satellite_18_44952_157468.meta\n",
      "C:\\Users\\AISG\\Documents\\Jonas\\Real_World_Test_DataBase_meta\\18\\44952\\Satellite_18_44952_157469.meta\n",
      "C:\\Users\\AISG\\Documents\\Jonas\\Real_World_Test_DataBase_meta\\18\\44952\\Satellite_18_44952_157470.meta\n",
      "C:\\Users\\AISG\\Documents\\Jonas\\Real_World_Test_DataBase_meta\\18\\44952\\Satellite_18_44952_157471.meta\n",
      "C:\\Users\\AISG\\Documents\\Jonas\\Real_World_Test_DataBase_meta\\18\\44952\\Satellite_18_44952_157472.meta\n",
      "C:\\Users\\AISG\\Documents\\Jonas\\Real_World_Test_DataBase_meta\\18\\44952\\Satellite_18_44952_157473.meta\n",
      "C:\\Users\\AISG\\Documents\\Jonas\\Real_World_Test_DataBase_meta\\18\\44952\\Satellite_18_44952_157474.meta\n",
      "C:\\Users\\AISG\\Documents\\Jonas\\Real_World_Test_DataBase_meta\\18\\44952\\Satellite_18_44952_157475.meta\n",
      "C:\\Users\\AISG\\Documents\\Jonas\\Real_World_Test_DataBase_meta\\18\\44952\\Satellite_18_44952_157476.meta\n",
      "C:\\Users\\AISG\\Documents\\Jonas\\Real_World_Test_DataBase_meta\\18\\44952\\Satellite_18_44952_157477.meta\n",
      "C:\\Users\\AISG\\Documents\\Jonas\\Real_World_Test_DataBase_meta\\18\\44952\\Satellite_18_44952_157478.meta\n",
      "C:\\Users\\AISG\\Documents\\Jonas\\Real_World_Test_DataBase_meta\\18\\44952\\Satellite_18_44952_157479.meta\n",
      "C:\\Users\\AISG\\Documents\\Jonas\\Real_World_Test_DataBase_meta\\18\\44952\\Satellite_18_44952_157480.meta\n",
      "C:\\Users\\AISG\\Documents\\Jonas\\Real_World_Test_DataBase_meta\\18\\44953\\Satellite_18_44953_157458.meta\n",
      "C:\\Users\\AISG\\Documents\\Jonas\\Real_World_Test_DataBase_meta\\18\\44953\\Satellite_18_44953_157459.meta\n",
      "C:\\Users\\AISG\\Documents\\Jonas\\Real_World_Test_DataBase_meta\\18\\44953\\Satellite_18_44953_157460.meta\n",
      "C:\\Users\\AISG\\Documents\\Jonas\\Real_World_Test_DataBase_meta\\18\\44953\\Satellite_18_44953_157461.meta\n",
      "C:\\Users\\AISG\\Documents\\Jonas\\Real_World_Test_DataBase_meta\\18\\44953\\Satellite_18_44953_157462.meta\n",
      "C:\\Users\\AISG\\Documents\\Jonas\\Real_World_Test_DataBase_meta\\18\\44953\\Satellite_18_44953_157463.meta\n",
      "C:\\Users\\AISG\\Documents\\Jonas\\Real_World_Test_DataBase_meta\\18\\44953\\Satellite_18_44953_157464.meta\n",
      "C:\\Users\\AISG\\Documents\\Jonas\\Real_World_Test_DataBase_meta\\18\\44953\\Satellite_18_44953_157465.meta\n",
      "C:\\Users\\AISG\\Documents\\Jonas\\Real_World_Test_DataBase_meta\\18\\44953\\Satellite_18_44953_157466.meta\n",
      "C:\\Users\\AISG\\Documents\\Jonas\\Real_World_Test_DataBase_meta\\18\\44953\\Satellite_18_44953_157467.meta\n",
      "C:\\Users\\AISG\\Documents\\Jonas\\Real_World_Test_DataBase_meta\\18\\44953\\Satellite_18_44953_157468.meta\n",
      "C:\\Users\\AISG\\Documents\\Jonas\\Real_World_Test_DataBase_meta\\18\\44953\\Satellite_18_44953_157469.meta\n",
      "C:\\Users\\AISG\\Documents\\Jonas\\Real_World_Test_DataBase_meta\\18\\44953\\Satellite_18_44953_157470.meta\n",
      "C:\\Users\\AISG\\Documents\\Jonas\\Real_World_Test_DataBase_meta\\18\\44953\\Satellite_18_44953_157471.meta\n",
      "C:\\Users\\AISG\\Documents\\Jonas\\Real_World_Test_DataBase_meta\\18\\44953\\Satellite_18_44953_157472.meta\n",
      "C:\\Users\\AISG\\Documents\\Jonas\\Real_World_Test_DataBase_meta\\18\\44953\\Satellite_18_44953_157473.meta\n",
      "C:\\Users\\AISG\\Documents\\Jonas\\Real_World_Test_DataBase_meta\\18\\44953\\Satellite_18_44953_157474.meta\n",
      "C:\\Users\\AISG\\Documents\\Jonas\\Real_World_Test_DataBase_meta\\18\\44953\\Satellite_18_44953_157475.meta\n",
      "C:\\Users\\AISG\\Documents\\Jonas\\Real_World_Test_DataBase_meta\\18\\44953\\Satellite_18_44953_157476.meta\n",
      "C:\\Users\\AISG\\Documents\\Jonas\\Real_World_Test_DataBase_meta\\18\\44953\\Satellite_18_44953_157477.meta\n",
      "C:\\Users\\AISG\\Documents\\Jonas\\Real_World_Test_DataBase_meta\\18\\44953\\Satellite_18_44953_157478.meta\n",
      "C:\\Users\\AISG\\Documents\\Jonas\\Real_World_Test_DataBase_meta\\18\\44953\\Satellite_18_44953_157479.meta\n",
      "C:\\Users\\AISG\\Documents\\Jonas\\Real_World_Test_DataBase_meta\\18\\44953\\Satellite_18_44953_157480.meta\n",
      "C:\\Users\\AISG\\Documents\\Jonas\\Real_World_Test_DataBase_meta\\18\\44954\\Satellite_18_44954_157458.meta\n",
      "C:\\Users\\AISG\\Documents\\Jonas\\Real_World_Test_DataBase_meta\\18\\44954\\Satellite_18_44954_157459.meta\n",
      "C:\\Users\\AISG\\Documents\\Jonas\\Real_World_Test_DataBase_meta\\18\\44954\\Satellite_18_44954_157460.meta\n",
      "C:\\Users\\AISG\\Documents\\Jonas\\Real_World_Test_DataBase_meta\\18\\44954\\Satellite_18_44954_157461.meta\n",
      "C:\\Users\\AISG\\Documents\\Jonas\\Real_World_Test_DataBase_meta\\18\\44954\\Satellite_18_44954_157462.meta\n",
      "C:\\Users\\AISG\\Documents\\Jonas\\Real_World_Test_DataBase_meta\\18\\44954\\Satellite_18_44954_157463.meta\n",
      "C:\\Users\\AISG\\Documents\\Jonas\\Real_World_Test_DataBase_meta\\18\\44954\\Satellite_18_44954_157464.meta\n",
      "C:\\Users\\AISG\\Documents\\Jonas\\Real_World_Test_DataBase_meta\\18\\44954\\Satellite_18_44954_157465.meta\n",
      "C:\\Users\\AISG\\Documents\\Jonas\\Real_World_Test_DataBase_meta\\18\\44954\\Satellite_18_44954_157466.meta\n",
      "C:\\Users\\AISG\\Documents\\Jonas\\Real_World_Test_DataBase_meta\\18\\44954\\Satellite_18_44954_157467.meta\n",
      "C:\\Users\\AISG\\Documents\\Jonas\\Real_World_Test_DataBase_meta\\18\\44954\\Satellite_18_44954_157468.meta\n",
      "C:\\Users\\AISG\\Documents\\Jonas\\Real_World_Test_DataBase_meta\\18\\44954\\Satellite_18_44954_157469.meta\n"
     ]
    },
    {
     "name": "stderr",
     "output_type": "stream",
     "text": [
      " 86%|██████████████████████████████████████████████████████████████████▍          | 1904/2206 [00:05<00:00, 385.78it/s]"
     ]
    },
    {
     "name": "stdout",
     "output_type": "stream",
     "text": [
      "C:\\Users\\AISG\\Documents\\Jonas\\Real_World_Test_DataBase_meta\\18\\44954\\Satellite_18_44954_157470.meta\n",
      "C:\\Users\\AISG\\Documents\\Jonas\\Real_World_Test_DataBase_meta\\18\\44954\\Satellite_18_44954_157471.meta\n",
      "C:\\Users\\AISG\\Documents\\Jonas\\Real_World_Test_DataBase_meta\\18\\44954\\Satellite_18_44954_157472.meta\n",
      "C:\\Users\\AISG\\Documents\\Jonas\\Real_World_Test_DataBase_meta\\18\\44954\\Satellite_18_44954_157473.meta\n",
      "C:\\Users\\AISG\\Documents\\Jonas\\Real_World_Test_DataBase_meta\\18\\44954\\Satellite_18_44954_157474.meta\n",
      "C:\\Users\\AISG\\Documents\\Jonas\\Real_World_Test_DataBase_meta\\18\\44954\\Satellite_18_44954_157475.meta\n",
      "C:\\Users\\AISG\\Documents\\Jonas\\Real_World_Test_DataBase_meta\\18\\44954\\Satellite_18_44954_157476.meta\n",
      "C:\\Users\\AISG\\Documents\\Jonas\\Real_World_Test_DataBase_meta\\18\\44954\\Satellite_18_44954_157477.meta\n",
      "C:\\Users\\AISG\\Documents\\Jonas\\Real_World_Test_DataBase_meta\\18\\44954\\Satellite_18_44954_157478.meta\n",
      "C:\\Users\\AISG\\Documents\\Jonas\\Real_World_Test_DataBase_meta\\18\\44954\\Satellite_18_44954_157479.meta\n",
      "C:\\Users\\AISG\\Documents\\Jonas\\Real_World_Test_DataBase_meta\\18\\44954\\Satellite_18_44954_157480.meta\n",
      "C:\\Users\\AISG\\Documents\\Jonas\\Real_World_Test_DataBase_meta\\18\\44955\\Satellite_18_44955_157458.meta\n",
      "C:\\Users\\AISG\\Documents\\Jonas\\Real_World_Test_DataBase_meta\\18\\44955\\Satellite_18_44955_157459.meta\n",
      "C:\\Users\\AISG\\Documents\\Jonas\\Real_World_Test_DataBase_meta\\18\\44955\\Satellite_18_44955_157460.meta\n",
      "C:\\Users\\AISG\\Documents\\Jonas\\Real_World_Test_DataBase_meta\\18\\44955\\Satellite_18_44955_157461.meta\n",
      "C:\\Users\\AISG\\Documents\\Jonas\\Real_World_Test_DataBase_meta\\18\\44955\\Satellite_18_44955_157462.meta\n",
      "C:\\Users\\AISG\\Documents\\Jonas\\Real_World_Test_DataBase_meta\\18\\44955\\Satellite_18_44955_157463.meta\n",
      "C:\\Users\\AISG\\Documents\\Jonas\\Real_World_Test_DataBase_meta\\18\\44955\\Satellite_18_44955_157464.meta\n",
      "C:\\Users\\AISG\\Documents\\Jonas\\Real_World_Test_DataBase_meta\\18\\44955\\Satellite_18_44955_157465.meta\n",
      "C:\\Users\\AISG\\Documents\\Jonas\\Real_World_Test_DataBase_meta\\18\\44955\\Satellite_18_44955_157466.meta\n",
      "C:\\Users\\AISG\\Documents\\Jonas\\Real_World_Test_DataBase_meta\\18\\44955\\Satellite_18_44955_157467.meta\n",
      "C:\\Users\\AISG\\Documents\\Jonas\\Real_World_Test_DataBase_meta\\18\\44955\\Satellite_18_44955_157468.meta\n",
      "C:\\Users\\AISG\\Documents\\Jonas\\Real_World_Test_DataBase_meta\\18\\44955\\Satellite_18_44955_157469.meta\n",
      "C:\\Users\\AISG\\Documents\\Jonas\\Real_World_Test_DataBase_meta\\18\\44955\\Satellite_18_44955_157470.meta\n",
      "C:\\Users\\AISG\\Documents\\Jonas\\Real_World_Test_DataBase_meta\\18\\44955\\Satellite_18_44955_157471.meta\n",
      "C:\\Users\\AISG\\Documents\\Jonas\\Real_World_Test_DataBase_meta\\18\\44955\\Satellite_18_44955_157472.meta\n",
      "C:\\Users\\AISG\\Documents\\Jonas\\Real_World_Test_DataBase_meta\\18\\44955\\Satellite_18_44955_157473.meta\n",
      "C:\\Users\\AISG\\Documents\\Jonas\\Real_World_Test_DataBase_meta\\18\\44955\\Satellite_18_44955_157474.meta\n",
      "C:\\Users\\AISG\\Documents\\Jonas\\Real_World_Test_DataBase_meta\\18\\44955\\Satellite_18_44955_157475.meta\n",
      "C:\\Users\\AISG\\Documents\\Jonas\\Real_World_Test_DataBase_meta\\18\\44955\\Satellite_18_44955_157476.meta\n",
      "C:\\Users\\AISG\\Documents\\Jonas\\Real_World_Test_DataBase_meta\\18\\44955\\Satellite_18_44955_157477.meta\n",
      "C:\\Users\\AISG\\Documents\\Jonas\\Real_World_Test_DataBase_meta\\18\\44955\\Satellite_18_44955_157478.meta\n",
      "C:\\Users\\AISG\\Documents\\Jonas\\Real_World_Test_DataBase_meta\\18\\44955\\Satellite_18_44955_157479.meta\n",
      "C:\\Users\\AISG\\Documents\\Jonas\\Real_World_Test_DataBase_meta\\18\\44955\\Satellite_18_44955_157480.meta\n",
      "C:\\Users\\AISG\\Documents\\Jonas\\Real_World_Test_DataBase_meta\\18\\44956\\Satellite_18_44956_157458.meta\n",
      "C:\\Users\\AISG\\Documents\\Jonas\\Real_World_Test_DataBase_meta\\18\\44956\\Satellite_18_44956_157459.meta\n",
      "C:\\Users\\AISG\\Documents\\Jonas\\Real_World_Test_DataBase_meta\\18\\44956\\Satellite_18_44956_157460.meta\n",
      "C:\\Users\\AISG\\Documents\\Jonas\\Real_World_Test_DataBase_meta\\18\\44956\\Satellite_18_44956_157461.meta\n",
      "C:\\Users\\AISG\\Documents\\Jonas\\Real_World_Test_DataBase_meta\\18\\44956\\Satellite_18_44956_157462.meta\n",
      "C:\\Users\\AISG\\Documents\\Jonas\\Real_World_Test_DataBase_meta\\18\\44956\\Satellite_18_44956_157463.meta\n",
      "C:\\Users\\AISG\\Documents\\Jonas\\Real_World_Test_DataBase_meta\\18\\44956\\Satellite_18_44956_157464.meta\n",
      "C:\\Users\\AISG\\Documents\\Jonas\\Real_World_Test_DataBase_meta\\18\\44956\\Satellite_18_44956_157465.meta\n",
      "C:\\Users\\AISG\\Documents\\Jonas\\Real_World_Test_DataBase_meta\\18\\44956\\Satellite_18_44956_157466.meta\n",
      "C:\\Users\\AISG\\Documents\\Jonas\\Real_World_Test_DataBase_meta\\18\\44956\\Satellite_18_44956_157467.meta\n",
      "C:\\Users\\AISG\\Documents\\Jonas\\Real_World_Test_DataBase_meta\\18\\44956\\Satellite_18_44956_157468.meta\n",
      "C:\\Users\\AISG\\Documents\\Jonas\\Real_World_Test_DataBase_meta\\18\\44956\\Satellite_18_44956_157469.meta\n",
      "C:\\Users\\AISG\\Documents\\Jonas\\Real_World_Test_DataBase_meta\\18\\44956\\Satellite_18_44956_157470.meta\n",
      "C:\\Users\\AISG\\Documents\\Jonas\\Real_World_Test_DataBase_meta\\18\\44956\\Satellite_18_44956_157471.meta\n",
      "C:\\Users\\AISG\\Documents\\Jonas\\Real_World_Test_DataBase_meta\\18\\44956\\Satellite_18_44956_157472.meta\n",
      "C:\\Users\\AISG\\Documents\\Jonas\\Real_World_Test_DataBase_meta\\18\\44956\\Satellite_18_44956_157473.meta\n",
      "C:\\Users\\AISG\\Documents\\Jonas\\Real_World_Test_DataBase_meta\\18\\44956\\Satellite_18_44956_157474.meta\n",
      "C:\\Users\\AISG\\Documents\\Jonas\\Real_World_Test_DataBase_meta\\18\\44956\\Satellite_18_44956_157475.meta\n",
      "C:\\Users\\AISG\\Documents\\Jonas\\Real_World_Test_DataBase_meta\\18\\44956\\Satellite_18_44956_157476.meta\n",
      "C:\\Users\\AISG\\Documents\\Jonas\\Real_World_Test_DataBase_meta\\18\\44956\\Satellite_18_44956_157477.meta\n",
      "C:\\Users\\AISG\\Documents\\Jonas\\Real_World_Test_DataBase_meta\\18\\44956\\Satellite_18_44956_157478.meta\n",
      "C:\\Users\\AISG\\Documents\\Jonas\\Real_World_Test_DataBase_meta\\18\\44956\\Satellite_18_44956_157479.meta\n",
      "C:\\Users\\AISG\\Documents\\Jonas\\Real_World_Test_DataBase_meta\\18\\44956\\Satellite_18_44956_157480.meta\n",
      "C:\\Users\\AISG\\Documents\\Jonas\\Real_World_Test_DataBase_meta\\18\\44957\\Satellite_18_44957_157458.meta\n",
      "C:\\Users\\AISG\\Documents\\Jonas\\Real_World_Test_DataBase_meta\\18\\44957\\Satellite_18_44957_157459.meta\n",
      "C:\\Users\\AISG\\Documents\\Jonas\\Real_World_Test_DataBase_meta\\18\\44957\\Satellite_18_44957_157460.meta\n",
      "C:\\Users\\AISG\\Documents\\Jonas\\Real_World_Test_DataBase_meta\\18\\44957\\Satellite_18_44957_157461.meta\n",
      "C:\\Users\\AISG\\Documents\\Jonas\\Real_World_Test_DataBase_meta\\18\\44957\\Satellite_18_44957_157462.meta\n",
      "C:\\Users\\AISG\\Documents\\Jonas\\Real_World_Test_DataBase_meta\\18\\44957\\Satellite_18_44957_157463.meta\n",
      "C:\\Users\\AISG\\Documents\\Jonas\\Real_World_Test_DataBase_meta\\18\\44957\\Satellite_18_44957_157464.meta\n",
      "C:\\Users\\AISG\\Documents\\Jonas\\Real_World_Test_DataBase_meta\\18\\44957\\Satellite_18_44957_157465.meta\n",
      "C:\\Users\\AISG\\Documents\\Jonas\\Real_World_Test_DataBase_meta\\18\\44957\\Satellite_18_44957_157466.meta\n",
      "C:\\Users\\AISG\\Documents\\Jonas\\Real_World_Test_DataBase_meta\\18\\44957\\Satellite_18_44957_157467.meta\n",
      "C:\\Users\\AISG\\Documents\\Jonas\\Real_World_Test_DataBase_meta\\18\\44957\\Satellite_18_44957_157468.meta\n",
      "C:\\Users\\AISG\\Documents\\Jonas\\Real_World_Test_DataBase_meta\\18\\44957\\Satellite_18_44957_157469.meta\n",
      "C:\\Users\\AISG\\Documents\\Jonas\\Real_World_Test_DataBase_meta\\18\\44957\\Satellite_18_44957_157470.meta\n",
      "C:\\Users\\AISG\\Documents\\Jonas\\Real_World_Test_DataBase_meta\\18\\44957\\Satellite_18_44957_157471.meta\n",
      "C:\\Users\\AISG\\Documents\\Jonas\\Real_World_Test_DataBase_meta\\18\\44957\\Satellite_18_44957_157472.meta\n",
      "C:\\Users\\AISG\\Documents\\Jonas\\Real_World_Test_DataBase_meta\\18\\44957\\Satellite_18_44957_157473.meta\n",
      "C:\\Users\\AISG\\Documents\\Jonas\\Real_World_Test_DataBase_meta\\18\\44957\\Satellite_18_44957_157474.meta\n"
     ]
    },
    {
     "name": "stderr",
     "output_type": "stream",
     "text": [
      " 90%|█████████████████████████████████████████████████████████████████████▏       | 1981/2206 [00:05<00:00, 372.96it/s]"
     ]
    },
    {
     "name": "stdout",
     "output_type": "stream",
     "text": [
      "C:\\Users\\AISG\\Documents\\Jonas\\Real_World_Test_DataBase_meta\\18\\44957\\Satellite_18_44957_157475.meta\n",
      "C:\\Users\\AISG\\Documents\\Jonas\\Real_World_Test_DataBase_meta\\18\\44957\\Satellite_18_44957_157476.meta\n",
      "C:\\Users\\AISG\\Documents\\Jonas\\Real_World_Test_DataBase_meta\\18\\44957\\Satellite_18_44957_157477.meta\n",
      "C:\\Users\\AISG\\Documents\\Jonas\\Real_World_Test_DataBase_meta\\18\\44957\\Satellite_18_44957_157478.meta\n",
      "C:\\Users\\AISG\\Documents\\Jonas\\Real_World_Test_DataBase_meta\\18\\44957\\Satellite_18_44957_157479.meta\n",
      "C:\\Users\\AISG\\Documents\\Jonas\\Real_World_Test_DataBase_meta\\18\\44957\\Satellite_18_44957_157480.meta\n",
      "C:\\Users\\AISG\\Documents\\Jonas\\Real_World_Test_DataBase_meta\\18\\44958\\Satellite_18_44958_157458.meta\n",
      "C:\\Users\\AISG\\Documents\\Jonas\\Real_World_Test_DataBase_meta\\18\\44958\\Satellite_18_44958_157459.meta\n",
      "C:\\Users\\AISG\\Documents\\Jonas\\Real_World_Test_DataBase_meta\\18\\44958\\Satellite_18_44958_157460.meta\n",
      "C:\\Users\\AISG\\Documents\\Jonas\\Real_World_Test_DataBase_meta\\18\\44958\\Satellite_18_44958_157461.meta\n",
      "C:\\Users\\AISG\\Documents\\Jonas\\Real_World_Test_DataBase_meta\\18\\44958\\Satellite_18_44958_157462.meta\n",
      "C:\\Users\\AISG\\Documents\\Jonas\\Real_World_Test_DataBase_meta\\18\\44958\\Satellite_18_44958_157463.meta\n",
      "C:\\Users\\AISG\\Documents\\Jonas\\Real_World_Test_DataBase_meta\\18\\44958\\Satellite_18_44958_157464.meta\n",
      "C:\\Users\\AISG\\Documents\\Jonas\\Real_World_Test_DataBase_meta\\18\\44958\\Satellite_18_44958_157465.meta\n",
      "C:\\Users\\AISG\\Documents\\Jonas\\Real_World_Test_DataBase_meta\\18\\44958\\Satellite_18_44958_157466.meta\n",
      "C:\\Users\\AISG\\Documents\\Jonas\\Real_World_Test_DataBase_meta\\18\\44958\\Satellite_18_44958_157467.meta\n",
      "C:\\Users\\AISG\\Documents\\Jonas\\Real_World_Test_DataBase_meta\\18\\44958\\Satellite_18_44958_157468.meta\n",
      "C:\\Users\\AISG\\Documents\\Jonas\\Real_World_Test_DataBase_meta\\18\\44958\\Satellite_18_44958_157469.meta\n",
      "C:\\Users\\AISG\\Documents\\Jonas\\Real_World_Test_DataBase_meta\\18\\44958\\Satellite_18_44958_157470.meta\n",
      "C:\\Users\\AISG\\Documents\\Jonas\\Real_World_Test_DataBase_meta\\18\\44958\\Satellite_18_44958_157471.meta\n",
      "C:\\Users\\AISG\\Documents\\Jonas\\Real_World_Test_DataBase_meta\\18\\44958\\Satellite_18_44958_157472.meta\n",
      "C:\\Users\\AISG\\Documents\\Jonas\\Real_World_Test_DataBase_meta\\18\\44958\\Satellite_18_44958_157473.meta\n",
      "C:\\Users\\AISG\\Documents\\Jonas\\Real_World_Test_DataBase_meta\\18\\44958\\Satellite_18_44958_157474.meta\n",
      "C:\\Users\\AISG\\Documents\\Jonas\\Real_World_Test_DataBase_meta\\18\\44958\\Satellite_18_44958_157475.meta\n",
      "C:\\Users\\AISG\\Documents\\Jonas\\Real_World_Test_DataBase_meta\\18\\44958\\Satellite_18_44958_157476.meta\n",
      "C:\\Users\\AISG\\Documents\\Jonas\\Real_World_Test_DataBase_meta\\18\\44958\\Satellite_18_44958_157477.meta\n",
      "C:\\Users\\AISG\\Documents\\Jonas\\Real_World_Test_DataBase_meta\\18\\44958\\Satellite_18_44958_157478.meta\n",
      "C:\\Users\\AISG\\Documents\\Jonas\\Real_World_Test_DataBase_meta\\18\\44958\\Satellite_18_44958_157479.meta\n",
      "C:\\Users\\AISG\\Documents\\Jonas\\Real_World_Test_DataBase_meta\\18\\44958\\Satellite_18_44958_157480.meta\n",
      "C:\\Users\\AISG\\Documents\\Jonas\\Real_World_Test_DataBase_meta\\18\\44959\\Satellite_18_44959_157459.meta\n",
      "C:\\Users\\AISG\\Documents\\Jonas\\Real_World_Test_DataBase_meta\\18\\44959\\Satellite_18_44959_157460.meta\n",
      "C:\\Users\\AISG\\Documents\\Jonas\\Real_World_Test_DataBase_meta\\18\\44959\\Satellite_18_44959_157461.meta\n",
      "C:\\Users\\AISG\\Documents\\Jonas\\Real_World_Test_DataBase_meta\\18\\44959\\Satellite_18_44959_157462.meta\n",
      "C:\\Users\\AISG\\Documents\\Jonas\\Real_World_Test_DataBase_meta\\18\\44959\\Satellite_18_44959_157463.meta\n",
      "C:\\Users\\AISG\\Documents\\Jonas\\Real_World_Test_DataBase_meta\\18\\44959\\Satellite_18_44959_157464.meta\n",
      "C:\\Users\\AISG\\Documents\\Jonas\\Real_World_Test_DataBase_meta\\18\\44959\\Satellite_18_44959_157465.meta\n",
      "C:\\Users\\AISG\\Documents\\Jonas\\Real_World_Test_DataBase_meta\\18\\44959\\Satellite_18_44959_157466.meta\n",
      "C:\\Users\\AISG\\Documents\\Jonas\\Real_World_Test_DataBase_meta\\18\\44959\\Satellite_18_44959_157467.meta\n",
      "C:\\Users\\AISG\\Documents\\Jonas\\Real_World_Test_DataBase_meta\\18\\44959\\Satellite_18_44959_157468.meta\n",
      "C:\\Users\\AISG\\Documents\\Jonas\\Real_World_Test_DataBase_meta\\18\\44959\\Satellite_18_44959_157469.meta\n",
      "C:\\Users\\AISG\\Documents\\Jonas\\Real_World_Test_DataBase_meta\\18\\44959\\Satellite_18_44959_157470.meta\n",
      "C:\\Users\\AISG\\Documents\\Jonas\\Real_World_Test_DataBase_meta\\18\\44959\\Satellite_18_44959_157471.meta\n",
      "C:\\Users\\AISG\\Documents\\Jonas\\Real_World_Test_DataBase_meta\\18\\44959\\Satellite_18_44959_157472.meta\n",
      "C:\\Users\\AISG\\Documents\\Jonas\\Real_World_Test_DataBase_meta\\18\\44959\\Satellite_18_44959_157473.meta\n",
      "C:\\Users\\AISG\\Documents\\Jonas\\Real_World_Test_DataBase_meta\\18\\44959\\Satellite_18_44959_157474.meta\n",
      "C:\\Users\\AISG\\Documents\\Jonas\\Real_World_Test_DataBase_meta\\18\\44959\\Satellite_18_44959_157475.meta\n",
      "C:\\Users\\AISG\\Documents\\Jonas\\Real_World_Test_DataBase_meta\\18\\44959\\Satellite_18_44959_157476.meta\n",
      "C:\\Users\\AISG\\Documents\\Jonas\\Real_World_Test_DataBase_meta\\18\\44959\\Satellite_18_44959_157477.meta\n",
      "C:\\Users\\AISG\\Documents\\Jonas\\Real_World_Test_DataBase_meta\\18\\44959\\Satellite_18_44959_157478.meta\n",
      "C:\\Users\\AISG\\Documents\\Jonas\\Real_World_Test_DataBase_meta\\18\\44959\\Satellite_18_44959_157479.meta\n",
      "C:\\Users\\AISG\\Documents\\Jonas\\Real_World_Test_DataBase_meta\\18\\44959\\Satellite_18_44959_157480.meta\n",
      "C:\\Users\\AISG\\Documents\\Jonas\\Real_World_Test_DataBase_meta\\18\\44960\\Satellite_18_44960_157460.meta\n",
      "C:\\Users\\AISG\\Documents\\Jonas\\Real_World_Test_DataBase_meta\\18\\44960\\Satellite_18_44960_157461.meta\n",
      "C:\\Users\\AISG\\Documents\\Jonas\\Real_World_Test_DataBase_meta\\18\\44960\\Satellite_18_44960_157462.meta\n",
      "C:\\Users\\AISG\\Documents\\Jonas\\Real_World_Test_DataBase_meta\\18\\44960\\Satellite_18_44960_157463.meta\n",
      "C:\\Users\\AISG\\Documents\\Jonas\\Real_World_Test_DataBase_meta\\18\\44960\\Satellite_18_44960_157464.meta\n",
      "C:\\Users\\AISG\\Documents\\Jonas\\Real_World_Test_DataBase_meta\\18\\44960\\Satellite_18_44960_157465.meta\n",
      "C:\\Users\\AISG\\Documents\\Jonas\\Real_World_Test_DataBase_meta\\18\\44960\\Satellite_18_44960_157466.meta\n",
      "C:\\Users\\AISG\\Documents\\Jonas\\Real_World_Test_DataBase_meta\\18\\44960\\Satellite_18_44960_157467.meta\n",
      "C:\\Users\\AISG\\Documents\\Jonas\\Real_World_Test_DataBase_meta\\18\\44960\\Satellite_18_44960_157468.meta\n",
      "C:\\Users\\AISG\\Documents\\Jonas\\Real_World_Test_DataBase_meta\\18\\44960\\Satellite_18_44960_157469.meta\n",
      "C:\\Users\\AISG\\Documents\\Jonas\\Real_World_Test_DataBase_meta\\18\\44960\\Satellite_18_44960_157470.meta\n",
      "C:\\Users\\AISG\\Documents\\Jonas\\Real_World_Test_DataBase_meta\\18\\44960\\Satellite_18_44960_157471.meta\n",
      "C:\\Users\\AISG\\Documents\\Jonas\\Real_World_Test_DataBase_meta\\18\\44960\\Satellite_18_44960_157472.meta\n",
      "C:\\Users\\AISG\\Documents\\Jonas\\Real_World_Test_DataBase_meta\\18\\44960\\Satellite_18_44960_157473.meta\n",
      "C:\\Users\\AISG\\Documents\\Jonas\\Real_World_Test_DataBase_meta\\18\\44960\\Satellite_18_44960_157474.meta\n",
      "C:\\Users\\AISG\\Documents\\Jonas\\Real_World_Test_DataBase_meta\\18\\44960\\Satellite_18_44960_157475.meta\n",
      "C:\\Users\\AISG\\Documents\\Jonas\\Real_World_Test_DataBase_meta\\18\\44960\\Satellite_18_44960_157476.meta\n"
     ]
    },
    {
     "name": "stderr",
     "output_type": "stream",
     "text": [
      "\r",
      " 92%|██████████████████████████████████████████████████████████████████████▌      | 2020/2206 [00:05<00:00, 374.94it/s]"
     ]
    },
    {
     "name": "stdout",
     "output_type": "stream",
     "text": [
      "C:\\Users\\AISG\\Documents\\Jonas\\Real_World_Test_DataBase_meta\\18\\44960\\Satellite_18_44960_157477.meta\n",
      "C:\\Users\\AISG\\Documents\\Jonas\\Real_World_Test_DataBase_meta\\18\\44960\\Satellite_18_44960_157478.meta\n",
      "C:\\Users\\AISG\\Documents\\Jonas\\Real_World_Test_DataBase_meta\\18\\44960\\Satellite_18_44960_157479.meta\n",
      "C:\\Users\\AISG\\Documents\\Jonas\\Real_World_Test_DataBase_meta\\18\\44960\\Satellite_18_44960_157480.meta\n",
      "C:\\Users\\AISG\\Documents\\Jonas\\Real_World_Test_DataBase_meta\\18\\44961\\Satellite_18_44961_157460.meta\n",
      "C:\\Users\\AISG\\Documents\\Jonas\\Real_World_Test_DataBase_meta\\18\\44961\\Satellite_18_44961_157461.meta\n",
      "C:\\Users\\AISG\\Documents\\Jonas\\Real_World_Test_DataBase_meta\\18\\44961\\Satellite_18_44961_157462.meta\n",
      "C:\\Users\\AISG\\Documents\\Jonas\\Real_World_Test_DataBase_meta\\18\\44961\\Satellite_18_44961_157463.meta\n",
      "C:\\Users\\AISG\\Documents\\Jonas\\Real_World_Test_DataBase_meta\\18\\44961\\Satellite_18_44961_157464.meta\n",
      "C:\\Users\\AISG\\Documents\\Jonas\\Real_World_Test_DataBase_meta\\18\\44961\\Satellite_18_44961_157465.meta\n",
      "C:\\Users\\AISG\\Documents\\Jonas\\Real_World_Test_DataBase_meta\\18\\44961\\Satellite_18_44961_157466.meta\n",
      "C:\\Users\\AISG\\Documents\\Jonas\\Real_World_Test_DataBase_meta\\18\\44961\\Satellite_18_44961_157467.meta\n",
      "C:\\Users\\AISG\\Documents\\Jonas\\Real_World_Test_DataBase_meta\\18\\44961\\Satellite_18_44961_157468.meta\n",
      "C:\\Users\\AISG\\Documents\\Jonas\\Real_World_Test_DataBase_meta\\18\\44961\\Satellite_18_44961_157469.meta\n",
      "C:\\Users\\AISG\\Documents\\Jonas\\Real_World_Test_DataBase_meta\\18\\44961\\Satellite_18_44961_157470.meta\n",
      "C:\\Users\\AISG\\Documents\\Jonas\\Real_World_Test_DataBase_meta\\18\\44961\\Satellite_18_44961_157471.meta\n",
      "C:\\Users\\AISG\\Documents\\Jonas\\Real_World_Test_DataBase_meta\\18\\44961\\Satellite_18_44961_157472.meta\n",
      "C:\\Users\\AISG\\Documents\\Jonas\\Real_World_Test_DataBase_meta\\18\\44961\\Satellite_18_44961_157473.meta\n",
      "C:\\Users\\AISG\\Documents\\Jonas\\Real_World_Test_DataBase_meta\\18\\44961\\Satellite_18_44961_157474.meta\n",
      "C:\\Users\\AISG\\Documents\\Jonas\\Real_World_Test_DataBase_meta\\18\\44961\\Satellite_18_44961_157475.meta\n",
      "C:\\Users\\AISG\\Documents\\Jonas\\Real_World_Test_DataBase_meta\\18\\44961\\Satellite_18_44961_157476.meta\n",
      "C:\\Users\\AISG\\Documents\\Jonas\\Real_World_Test_DataBase_meta\\18\\44961\\Satellite_18_44961_157477.meta\n",
      "C:\\Users\\AISG\\Documents\\Jonas\\Real_World_Test_DataBase_meta\\18\\44961\\Satellite_18_44961_157478.meta\n",
      "C:\\Users\\AISG\\Documents\\Jonas\\Real_World_Test_DataBase_meta\\18\\44961\\Satellite_18_44961_157479.meta\n",
      "C:\\Users\\AISG\\Documents\\Jonas\\Real_World_Test_DataBase_meta\\18\\44961\\Satellite_18_44961_157480.meta\n",
      "C:\\Users\\AISG\\Documents\\Jonas\\Real_World_Test_DataBase_meta\\18\\44962\\Satellite_18_44962_157461.meta\n",
      "C:\\Users\\AISG\\Documents\\Jonas\\Real_World_Test_DataBase_meta\\18\\44962\\Satellite_18_44962_157462.meta\n",
      "C:\\Users\\AISG\\Documents\\Jonas\\Real_World_Test_DataBase_meta\\18\\44962\\Satellite_18_44962_157463.meta\n",
      "C:\\Users\\AISG\\Documents\\Jonas\\Real_World_Test_DataBase_meta\\18\\44962\\Satellite_18_44962_157464.meta\n",
      "C:\\Users\\AISG\\Documents\\Jonas\\Real_World_Test_DataBase_meta\\18\\44962\\Satellite_18_44962_157465.meta\n",
      "C:\\Users\\AISG\\Documents\\Jonas\\Real_World_Test_DataBase_meta\\18\\44962\\Satellite_18_44962_157466.meta\n",
      "C:\\Users\\AISG\\Documents\\Jonas\\Real_World_Test_DataBase_meta\\18\\44962\\Satellite_18_44962_157467.meta\n",
      "C:\\Users\\AISG\\Documents\\Jonas\\Real_World_Test_DataBase_meta\\18\\44962\\Satellite_18_44962_157468.meta\n",
      "C:\\Users\\AISG\\Documents\\Jonas\\Real_World_Test_DataBase_meta\\18\\44962\\Satellite_18_44962_157469.meta\n",
      "C:\\Users\\AISG\\Documents\\Jonas\\Real_World_Test_DataBase_meta\\18\\44962\\Satellite_18_44962_157470.meta\n",
      "C:\\Users\\AISG\\Documents\\Jonas\\Real_World_Test_DataBase_meta\\18\\44962\\Satellite_18_44962_157471.meta\n",
      "C:\\Users\\AISG\\Documents\\Jonas\\Real_World_Test_DataBase_meta\\18\\44962\\Satellite_18_44962_157472.meta\n",
      "C:\\Users\\AISG\\Documents\\Jonas\\Real_World_Test_DataBase_meta\\18\\44962\\Satellite_18_44962_157473.meta\n",
      "C:\\Users\\AISG\\Documents\\Jonas\\Real_World_Test_DataBase_meta\\18\\44962\\Satellite_18_44962_157474.meta\n",
      "C:\\Users\\AISG\\Documents\\Jonas\\Real_World_Test_DataBase_meta\\18\\44962\\Satellite_18_44962_157475.meta\n",
      "C:\\Users\\AISG\\Documents\\Jonas\\Real_World_Test_DataBase_meta\\18\\44962\\Satellite_18_44962_157476.meta\n",
      "C:\\Users\\AISG\\Documents\\Jonas\\Real_World_Test_DataBase_meta\\18\\44962\\Satellite_18_44962_157477.meta\n",
      "C:\\Users\\AISG\\Documents\\Jonas\\Real_World_Test_DataBase_meta\\18\\44962\\Satellite_18_44962_157478.meta\n",
      "C:\\Users\\AISG\\Documents\\Jonas\\Real_World_Test_DataBase_meta\\18\\44962\\Satellite_18_44962_157479.meta\n",
      "C:\\Users\\AISG\\Documents\\Jonas\\Real_World_Test_DataBase_meta\\18\\44962\\Satellite_18_44962_157480.meta\n",
      "C:\\Users\\AISG\\Documents\\Jonas\\Real_World_Test_DataBase_meta\\18\\44963\\Satellite_18_44963_157462.meta\n",
      "C:\\Users\\AISG\\Documents\\Jonas\\Real_World_Test_DataBase_meta\\18\\44963\\Satellite_18_44963_157463.meta\n",
      "C:\\Users\\AISG\\Documents\\Jonas\\Real_World_Test_DataBase_meta\\18\\44963\\Satellite_18_44963_157464.meta\n",
      "C:\\Users\\AISG\\Documents\\Jonas\\Real_World_Test_DataBase_meta\\18\\44963\\Satellite_18_44963_157465.meta\n",
      "C:\\Users\\AISG\\Documents\\Jonas\\Real_World_Test_DataBase_meta\\18\\44963\\Satellite_18_44963_157466.meta\n",
      "C:\\Users\\AISG\\Documents\\Jonas\\Real_World_Test_DataBase_meta\\18\\44963\\Satellite_18_44963_157467.meta\n",
      "C:\\Users\\AISG\\Documents\\Jonas\\Real_World_Test_DataBase_meta\\18\\44963\\Satellite_18_44963_157468.meta\n",
      "C:\\Users\\AISG\\Documents\\Jonas\\Real_World_Test_DataBase_meta\\18\\44963\\Satellite_18_44963_157469.meta\n",
      "C:\\Users\\AISG\\Documents\\Jonas\\Real_World_Test_DataBase_meta\\18\\44963\\Satellite_18_44963_157470.meta\n",
      "C:\\Users\\AISG\\Documents\\Jonas\\Real_World_Test_DataBase_meta\\18\\44963\\Satellite_18_44963_157471.meta\n",
      "C:\\Users\\AISG\\Documents\\Jonas\\Real_World_Test_DataBase_meta\\18\\44963\\Satellite_18_44963_157472.meta\n",
      "C:\\Users\\AISG\\Documents\\Jonas\\Real_World_Test_DataBase_meta\\18\\44963\\Satellite_18_44963_157473.meta\n",
      "C:\\Users\\AISG\\Documents\\Jonas\\Real_World_Test_DataBase_meta\\18\\44963\\Satellite_18_44963_157474.meta\n",
      "C:\\Users\\AISG\\Documents\\Jonas\\Real_World_Test_DataBase_meta\\18\\44963\\Satellite_18_44963_157475.meta\n",
      "C:\\Users\\AISG\\Documents\\Jonas\\Real_World_Test_DataBase_meta\\18\\44963\\Satellite_18_44963_157476.meta\n",
      "C:\\Users\\AISG\\Documents\\Jonas\\Real_World_Test_DataBase_meta\\18\\44963\\Satellite_18_44963_157477.meta\n",
      "C:\\Users\\AISG\\Documents\\Jonas\\Real_World_Test_DataBase_meta\\18\\44963\\Satellite_18_44963_157478.meta\n",
      "C:\\Users\\AISG\\Documents\\Jonas\\Real_World_Test_DataBase_meta\\18\\44963\\Satellite_18_44963_157479.meta\n",
      "C:\\Users\\AISG\\Documents\\Jonas\\Real_World_Test_DataBase_meta\\18\\44963\\Satellite_18_44963_157480.meta\n",
      "C:\\Users\\AISG\\Documents\\Jonas\\Real_World_Test_DataBase_meta\\18\\44964\\Satellite_18_44964_157462.meta\n",
      "C:\\Users\\AISG\\Documents\\Jonas\\Real_World_Test_DataBase_meta\\18\\44964\\Satellite_18_44964_157463.meta\n",
      "C:\\Users\\AISG\\Documents\\Jonas\\Real_World_Test_DataBase_meta\\18\\44964\\Satellite_18_44964_157464.meta\n",
      "C:\\Users\\AISG\\Documents\\Jonas\\Real_World_Test_DataBase_meta\\18\\44964\\Satellite_18_44964_157465.meta\n",
      "C:\\Users\\AISG\\Documents\\Jonas\\Real_World_Test_DataBase_meta\\18\\44964\\Satellite_18_44964_157466.meta\n",
      "C:\\Users\\AISG\\Documents\\Jonas\\Real_World_Test_DataBase_meta\\18\\44964\\Satellite_18_44964_157467.meta\n",
      "C:\\Users\\AISG\\Documents\\Jonas\\Real_World_Test_DataBase_meta\\18\\44964\\Satellite_18_44964_157468.meta\n"
     ]
    },
    {
     "name": "stderr",
     "output_type": "stream",
     "text": [
      " 95%|█████████████████████████████████████████████████████████████████████████▏   | 2096/2206 [00:05<00:00, 373.13it/s]"
     ]
    },
    {
     "name": "stdout",
     "output_type": "stream",
     "text": [
      "C:\\Users\\AISG\\Documents\\Jonas\\Real_World_Test_DataBase_meta\\18\\44964\\Satellite_18_44964_157469.meta\n",
      "C:\\Users\\AISG\\Documents\\Jonas\\Real_World_Test_DataBase_meta\\18\\44964\\Satellite_18_44964_157470.meta\n",
      "C:\\Users\\AISG\\Documents\\Jonas\\Real_World_Test_DataBase_meta\\18\\44964\\Satellite_18_44964_157471.meta\n",
      "C:\\Users\\AISG\\Documents\\Jonas\\Real_World_Test_DataBase_meta\\18\\44964\\Satellite_18_44964_157472.meta\n",
      "C:\\Users\\AISG\\Documents\\Jonas\\Real_World_Test_DataBase_meta\\18\\44964\\Satellite_18_44964_157473.meta\n",
      "C:\\Users\\AISG\\Documents\\Jonas\\Real_World_Test_DataBase_meta\\18\\44964\\Satellite_18_44964_157474.meta\n",
      "C:\\Users\\AISG\\Documents\\Jonas\\Real_World_Test_DataBase_meta\\18\\44964\\Satellite_18_44964_157475.meta\n",
      "C:\\Users\\AISG\\Documents\\Jonas\\Real_World_Test_DataBase_meta\\18\\44964\\Satellite_18_44964_157476.meta\n",
      "C:\\Users\\AISG\\Documents\\Jonas\\Real_World_Test_DataBase_meta\\18\\44964\\Satellite_18_44964_157477.meta\n",
      "C:\\Users\\AISG\\Documents\\Jonas\\Real_World_Test_DataBase_meta\\18\\44964\\Satellite_18_44964_157478.meta\n",
      "C:\\Users\\AISG\\Documents\\Jonas\\Real_World_Test_DataBase_meta\\18\\44964\\Satellite_18_44964_157479.meta\n",
      "C:\\Users\\AISG\\Documents\\Jonas\\Real_World_Test_DataBase_meta\\18\\44964\\Satellite_18_44964_157480.meta\n",
      "C:\\Users\\AISG\\Documents\\Jonas\\Real_World_Test_DataBase_meta\\18\\44965\\Satellite_18_44965_157462.meta\n",
      "C:\\Users\\AISG\\Documents\\Jonas\\Real_World_Test_DataBase_meta\\18\\44965\\Satellite_18_44965_157463.meta\n",
      "C:\\Users\\AISG\\Documents\\Jonas\\Real_World_Test_DataBase_meta\\18\\44965\\Satellite_18_44965_157464.meta\n",
      "C:\\Users\\AISG\\Documents\\Jonas\\Real_World_Test_DataBase_meta\\18\\44965\\Satellite_18_44965_157465.meta\n",
      "C:\\Users\\AISG\\Documents\\Jonas\\Real_World_Test_DataBase_meta\\18\\44965\\Satellite_18_44965_157466.meta\n",
      "C:\\Users\\AISG\\Documents\\Jonas\\Real_World_Test_DataBase_meta\\18\\44965\\Satellite_18_44965_157467.meta\n",
      "C:\\Users\\AISG\\Documents\\Jonas\\Real_World_Test_DataBase_meta\\18\\44965\\Satellite_18_44965_157468.meta\n",
      "C:\\Users\\AISG\\Documents\\Jonas\\Real_World_Test_DataBase_meta\\18\\44965\\Satellite_18_44965_157469.meta\n",
      "C:\\Users\\AISG\\Documents\\Jonas\\Real_World_Test_DataBase_meta\\18\\44965\\Satellite_18_44965_157470.meta\n",
      "C:\\Users\\AISG\\Documents\\Jonas\\Real_World_Test_DataBase_meta\\18\\44965\\Satellite_18_44965_157471.meta\n",
      "C:\\Users\\AISG\\Documents\\Jonas\\Real_World_Test_DataBase_meta\\18\\44965\\Satellite_18_44965_157472.meta\n",
      "C:\\Users\\AISG\\Documents\\Jonas\\Real_World_Test_DataBase_meta\\18\\44965\\Satellite_18_44965_157473.meta\n",
      "C:\\Users\\AISG\\Documents\\Jonas\\Real_World_Test_DataBase_meta\\18\\44965\\Satellite_18_44965_157474.meta\n",
      "C:\\Users\\AISG\\Documents\\Jonas\\Real_World_Test_DataBase_meta\\18\\44965\\Satellite_18_44965_157475.meta\n",
      "C:\\Users\\AISG\\Documents\\Jonas\\Real_World_Test_DataBase_meta\\18\\44965\\Satellite_18_44965_157476.meta\n",
      "C:\\Users\\AISG\\Documents\\Jonas\\Real_World_Test_DataBase_meta\\18\\44965\\Satellite_18_44965_157477.meta\n",
      "C:\\Users\\AISG\\Documents\\Jonas\\Real_World_Test_DataBase_meta\\18\\44965\\Satellite_18_44965_157478.meta\n",
      "C:\\Users\\AISG\\Documents\\Jonas\\Real_World_Test_DataBase_meta\\18\\44965\\Satellite_18_44965_157479.meta\n",
      "C:\\Users\\AISG\\Documents\\Jonas\\Real_World_Test_DataBase_meta\\18\\44965\\Satellite_18_44965_157480.meta\n",
      "C:\\Users\\AISG\\Documents\\Jonas\\Real_World_Test_DataBase_meta\\18\\44966\\Satellite_18_44966_157462.meta\n",
      "C:\\Users\\AISG\\Documents\\Jonas\\Real_World_Test_DataBase_meta\\18\\44966\\Satellite_18_44966_157463.meta\n",
      "C:\\Users\\AISG\\Documents\\Jonas\\Real_World_Test_DataBase_meta\\18\\44966\\Satellite_18_44966_157464.meta\n",
      "C:\\Users\\AISG\\Documents\\Jonas\\Real_World_Test_DataBase_meta\\18\\44966\\Satellite_18_44966_157465.meta\n",
      "C:\\Users\\AISG\\Documents\\Jonas\\Real_World_Test_DataBase_meta\\18\\44966\\Satellite_18_44966_157466.meta\n",
      "C:\\Users\\AISG\\Documents\\Jonas\\Real_World_Test_DataBase_meta\\18\\44966\\Satellite_18_44966_157467.meta\n",
      "C:\\Users\\AISG\\Documents\\Jonas\\Real_World_Test_DataBase_meta\\18\\44966\\Satellite_18_44966_157468.meta\n",
      "C:\\Users\\AISG\\Documents\\Jonas\\Real_World_Test_DataBase_meta\\18\\44966\\Satellite_18_44966_157469.meta\n",
      "C:\\Users\\AISG\\Documents\\Jonas\\Real_World_Test_DataBase_meta\\18\\44966\\Satellite_18_44966_157470.meta\n",
      "C:\\Users\\AISG\\Documents\\Jonas\\Real_World_Test_DataBase_meta\\18\\44966\\Satellite_18_44966_157471.meta\n",
      "C:\\Users\\AISG\\Documents\\Jonas\\Real_World_Test_DataBase_meta\\18\\44966\\Satellite_18_44966_157472.meta\n",
      "C:\\Users\\AISG\\Documents\\Jonas\\Real_World_Test_DataBase_meta\\18\\44966\\Satellite_18_44966_157473.meta\n",
      "C:\\Users\\AISG\\Documents\\Jonas\\Real_World_Test_DataBase_meta\\18\\44966\\Satellite_18_44966_157474.meta\n",
      "C:\\Users\\AISG\\Documents\\Jonas\\Real_World_Test_DataBase_meta\\18\\44966\\Satellite_18_44966_157475.meta\n",
      "C:\\Users\\AISG\\Documents\\Jonas\\Real_World_Test_DataBase_meta\\18\\44966\\Satellite_18_44966_157476.meta\n",
      "C:\\Users\\AISG\\Documents\\Jonas\\Real_World_Test_DataBase_meta\\18\\44966\\Satellite_18_44966_157477.meta\n",
      "C:\\Users\\AISG\\Documents\\Jonas\\Real_World_Test_DataBase_meta\\18\\44966\\Satellite_18_44966_157478.meta\n",
      "C:\\Users\\AISG\\Documents\\Jonas\\Real_World_Test_DataBase_meta\\18\\44966\\Satellite_18_44966_157479.meta\n",
      "C:\\Users\\AISG\\Documents\\Jonas\\Real_World_Test_DataBase_meta\\18\\44966\\Satellite_18_44966_157480.meta\n",
      "C:\\Users\\AISG\\Documents\\Jonas\\Real_World_Test_DataBase_meta\\18\\44967\\Satellite_18_44967_157462.meta\n",
      "C:\\Users\\AISG\\Documents\\Jonas\\Real_World_Test_DataBase_meta\\18\\44967\\Satellite_18_44967_157463.meta\n",
      "C:\\Users\\AISG\\Documents\\Jonas\\Real_World_Test_DataBase_meta\\18\\44967\\Satellite_18_44967_157464.meta\n",
      "C:\\Users\\AISG\\Documents\\Jonas\\Real_World_Test_DataBase_meta\\18\\44967\\Satellite_18_44967_157465.meta\n",
      "C:\\Users\\AISG\\Documents\\Jonas\\Real_World_Test_DataBase_meta\\18\\44967\\Satellite_18_44967_157466.meta\n",
      "C:\\Users\\AISG\\Documents\\Jonas\\Real_World_Test_DataBase_meta\\18\\44967\\Satellite_18_44967_157467.meta\n",
      "C:\\Users\\AISG\\Documents\\Jonas\\Real_World_Test_DataBase_meta\\18\\44967\\Satellite_18_44967_157468.meta\n",
      "C:\\Users\\AISG\\Documents\\Jonas\\Real_World_Test_DataBase_meta\\18\\44967\\Satellite_18_44967_157469.meta\n",
      "C:\\Users\\AISG\\Documents\\Jonas\\Real_World_Test_DataBase_meta\\18\\44967\\Satellite_18_44967_157470.meta\n",
      "C:\\Users\\AISG\\Documents\\Jonas\\Real_World_Test_DataBase_meta\\18\\44967\\Satellite_18_44967_157471.meta\n",
      "C:\\Users\\AISG\\Documents\\Jonas\\Real_World_Test_DataBase_meta\\18\\44967\\Satellite_18_44967_157472.meta\n",
      "C:\\Users\\AISG\\Documents\\Jonas\\Real_World_Test_DataBase_meta\\18\\44967\\Satellite_18_44967_157473.meta\n",
      "C:\\Users\\AISG\\Documents\\Jonas\\Real_World_Test_DataBase_meta\\18\\44967\\Satellite_18_44967_157474.meta\n",
      "C:\\Users\\AISG\\Documents\\Jonas\\Real_World_Test_DataBase_meta\\18\\44967\\Satellite_18_44967_157475.meta\n",
      "C:\\Users\\AISG\\Documents\\Jonas\\Real_World_Test_DataBase_meta\\18\\44967\\Satellite_18_44967_157476.meta\n",
      "C:\\Users\\AISG\\Documents\\Jonas\\Real_World_Test_DataBase_meta\\18\\44967\\Satellite_18_44967_157477.meta\n",
      "C:\\Users\\AISG\\Documents\\Jonas\\Real_World_Test_DataBase_meta\\18\\44967\\Satellite_18_44967_157478.meta\n",
      "C:\\Users\\AISG\\Documents\\Jonas\\Real_World_Test_DataBase_meta\\18\\44967\\Satellite_18_44967_157479.meta\n",
      "C:\\Users\\AISG\\Documents\\Jonas\\Real_World_Test_DataBase_meta\\18\\44967\\Satellite_18_44967_157480.meta\n",
      "C:\\Users\\AISG\\Documents\\Jonas\\Real_World_Test_DataBase_meta\\18\\44968\\Satellite_18_44968_157462.meta\n",
      "C:\\Users\\AISG\\Documents\\Jonas\\Real_World_Test_DataBase_meta\\18\\44968\\Satellite_18_44968_157463.meta\n",
      "C:\\Users\\AISG\\Documents\\Jonas\\Real_World_Test_DataBase_meta\\18\\44968\\Satellite_18_44968_157464.meta\n"
     ]
    },
    {
     "name": "stderr",
     "output_type": "stream",
     "text": [
      " 99%|████████████████████████████████████████████████████████████████████████████ | 2178/2206 [00:05<00:00, 387.04it/s]"
     ]
    },
    {
     "name": "stdout",
     "output_type": "stream",
     "text": [
      "C:\\Users\\AISG\\Documents\\Jonas\\Real_World_Test_DataBase_meta\\18\\44968\\Satellite_18_44968_157465.meta\n",
      "C:\\Users\\AISG\\Documents\\Jonas\\Real_World_Test_DataBase_meta\\18\\44968\\Satellite_18_44968_157466.meta\n",
      "C:\\Users\\AISG\\Documents\\Jonas\\Real_World_Test_DataBase_meta\\18\\44968\\Satellite_18_44968_157467.meta\n",
      "C:\\Users\\AISG\\Documents\\Jonas\\Real_World_Test_DataBase_meta\\18\\44968\\Satellite_18_44968_157468.meta\n",
      "C:\\Users\\AISG\\Documents\\Jonas\\Real_World_Test_DataBase_meta\\18\\44968\\Satellite_18_44968_157469.meta\n",
      "C:\\Users\\AISG\\Documents\\Jonas\\Real_World_Test_DataBase_meta\\18\\44968\\Satellite_18_44968_157470.meta\n",
      "C:\\Users\\AISG\\Documents\\Jonas\\Real_World_Test_DataBase_meta\\18\\44968\\Satellite_18_44968_157471.meta\n",
      "C:\\Users\\AISG\\Documents\\Jonas\\Real_World_Test_DataBase_meta\\18\\44968\\Satellite_18_44968_157472.meta\n",
      "C:\\Users\\AISG\\Documents\\Jonas\\Real_World_Test_DataBase_meta\\18\\44968\\Satellite_18_44968_157473.meta\n",
      "C:\\Users\\AISG\\Documents\\Jonas\\Real_World_Test_DataBase_meta\\18\\44968\\Satellite_18_44968_157474.meta\n",
      "C:\\Users\\AISG\\Documents\\Jonas\\Real_World_Test_DataBase_meta\\18\\44968\\Satellite_18_44968_157475.meta\n",
      "C:\\Users\\AISG\\Documents\\Jonas\\Real_World_Test_DataBase_meta\\18\\44968\\Satellite_18_44968_157476.meta\n",
      "C:\\Users\\AISG\\Documents\\Jonas\\Real_World_Test_DataBase_meta\\18\\44968\\Satellite_18_44968_157477.meta\n",
      "C:\\Users\\AISG\\Documents\\Jonas\\Real_World_Test_DataBase_meta\\18\\44968\\Satellite_18_44968_157478.meta\n",
      "C:\\Users\\AISG\\Documents\\Jonas\\Real_World_Test_DataBase_meta\\18\\44968\\Satellite_18_44968_157479.meta\n",
      "C:\\Users\\AISG\\Documents\\Jonas\\Real_World_Test_DataBase_meta\\18\\44968\\Satellite_18_44968_157480.meta\n",
      "C:\\Users\\AISG\\Documents\\Jonas\\Real_World_Test_DataBase_meta\\18\\44969\\Satellite_18_44969_157462.meta\n",
      "C:\\Users\\AISG\\Documents\\Jonas\\Real_World_Test_DataBase_meta\\18\\44969\\Satellite_18_44969_157463.meta\n",
      "C:\\Users\\AISG\\Documents\\Jonas\\Real_World_Test_DataBase_meta\\18\\44969\\Satellite_18_44969_157464.meta\n",
      "C:\\Users\\AISG\\Documents\\Jonas\\Real_World_Test_DataBase_meta\\18\\44969\\Satellite_18_44969_157465.meta\n",
      "C:\\Users\\AISG\\Documents\\Jonas\\Real_World_Test_DataBase_meta\\18\\44969\\Satellite_18_44969_157466.meta\n",
      "C:\\Users\\AISG\\Documents\\Jonas\\Real_World_Test_DataBase_meta\\18\\44969\\Satellite_18_44969_157467.meta\n",
      "C:\\Users\\AISG\\Documents\\Jonas\\Real_World_Test_DataBase_meta\\18\\44969\\Satellite_18_44969_157468.meta\n",
      "C:\\Users\\AISG\\Documents\\Jonas\\Real_World_Test_DataBase_meta\\18\\44969\\Satellite_18_44969_157469.meta\n",
      "C:\\Users\\AISG\\Documents\\Jonas\\Real_World_Test_DataBase_meta\\18\\44969\\Satellite_18_44969_157470.meta\n",
      "C:\\Users\\AISG\\Documents\\Jonas\\Real_World_Test_DataBase_meta\\18\\44969\\Satellite_18_44969_157471.meta\n",
      "C:\\Users\\AISG\\Documents\\Jonas\\Real_World_Test_DataBase_meta\\18\\44969\\Satellite_18_44969_157472.meta\n",
      "C:\\Users\\AISG\\Documents\\Jonas\\Real_World_Test_DataBase_meta\\18\\44969\\Satellite_18_44969_157473.meta\n",
      "C:\\Users\\AISG\\Documents\\Jonas\\Real_World_Test_DataBase_meta\\18\\44969\\Satellite_18_44969_157474.meta\n",
      "C:\\Users\\AISG\\Documents\\Jonas\\Real_World_Test_DataBase_meta\\18\\44969\\Satellite_18_44969_157475.meta\n",
      "C:\\Users\\AISG\\Documents\\Jonas\\Real_World_Test_DataBase_meta\\18\\44969\\Satellite_18_44969_157476.meta\n",
      "C:\\Users\\AISG\\Documents\\Jonas\\Real_World_Test_DataBase_meta\\18\\44969\\Satellite_18_44969_157477.meta\n",
      "C:\\Users\\AISG\\Documents\\Jonas\\Real_World_Test_DataBase_meta\\18\\44969\\Satellite_18_44969_157478.meta\n",
      "C:\\Users\\AISG\\Documents\\Jonas\\Real_World_Test_DataBase_meta\\18\\44969\\Satellite_18_44969_157479.meta\n",
      "C:\\Users\\AISG\\Documents\\Jonas\\Real_World_Test_DataBase_meta\\18\\44969\\Satellite_18_44969_157480.meta\n",
      "C:\\Users\\AISG\\Documents\\Jonas\\Real_World_Test_DataBase_meta\\18\\44970\\Satellite_18_44970_157462.meta\n",
      "C:\\Users\\AISG\\Documents\\Jonas\\Real_World_Test_DataBase_meta\\18\\44970\\Satellite_18_44970_157463.meta\n",
      "C:\\Users\\AISG\\Documents\\Jonas\\Real_World_Test_DataBase_meta\\18\\44970\\Satellite_18_44970_157464.meta\n",
      "C:\\Users\\AISG\\Documents\\Jonas\\Real_World_Test_DataBase_meta\\18\\44970\\Satellite_18_44970_157465.meta\n",
      "C:\\Users\\AISG\\Documents\\Jonas\\Real_World_Test_DataBase_meta\\18\\44970\\Satellite_18_44970_157466.meta\n",
      "C:\\Users\\AISG\\Documents\\Jonas\\Real_World_Test_DataBase_meta\\18\\44970\\Satellite_18_44970_157467.meta\n",
      "C:\\Users\\AISG\\Documents\\Jonas\\Real_World_Test_DataBase_meta\\18\\44970\\Satellite_18_44970_157468.meta\n",
      "C:\\Users\\AISG\\Documents\\Jonas\\Real_World_Test_DataBase_meta\\18\\44970\\Satellite_18_44970_157469.meta\n",
      "C:\\Users\\AISG\\Documents\\Jonas\\Real_World_Test_DataBase_meta\\18\\44970\\Satellite_18_44970_157470.meta\n",
      "C:\\Users\\AISG\\Documents\\Jonas\\Real_World_Test_DataBase_meta\\18\\44970\\Satellite_18_44970_157471.meta\n",
      "C:\\Users\\AISG\\Documents\\Jonas\\Real_World_Test_DataBase_meta\\18\\44970\\Satellite_18_44970_157472.meta\n",
      "C:\\Users\\AISG\\Documents\\Jonas\\Real_World_Test_DataBase_meta\\18\\44970\\Satellite_18_44970_157473.meta\n",
      "C:\\Users\\AISG\\Documents\\Jonas\\Real_World_Test_DataBase_meta\\18\\44970\\Satellite_18_44970_157474.meta\n",
      "C:\\Users\\AISG\\Documents\\Jonas\\Real_World_Test_DataBase_meta\\18\\44970\\Satellite_18_44970_157475.meta\n",
      "C:\\Users\\AISG\\Documents\\Jonas\\Real_World_Test_DataBase_meta\\18\\44970\\Satellite_18_44970_157476.meta\n",
      "C:\\Users\\AISG\\Documents\\Jonas\\Real_World_Test_DataBase_meta\\18\\44970\\Satellite_18_44970_157477.meta\n",
      "C:\\Users\\AISG\\Documents\\Jonas\\Real_World_Test_DataBase_meta\\18\\44970\\Satellite_18_44970_157478.meta\n",
      "C:\\Users\\AISG\\Documents\\Jonas\\Real_World_Test_DataBase_meta\\18\\44970\\Satellite_18_44970_157479.meta\n",
      "C:\\Users\\AISG\\Documents\\Jonas\\Real_World_Test_DataBase_meta\\18\\44970\\Satellite_18_44970_157480.meta\n",
      "C:\\Users\\AISG\\Documents\\Jonas\\Real_World_Test_DataBase_meta\\18\\67852\\Satellite_18_67852_157017.meta\n",
      "C:\\Users\\AISG\\Documents\\Jonas\\Real_World_Test_DataBase_meta\\18\\67852\\Satellite_18_67852_157018.meta\n",
      "C:\\Users\\AISG\\Documents\\Jonas\\Real_World_Test_DataBase_meta\\18\\67852\\Satellite_18_67852_157019.meta\n",
      "C:\\Users\\AISG\\Documents\\Jonas\\Real_World_Test_DataBase_meta\\18\\67852\\Satellite_18_67852_157020.meta\n",
      "C:\\Users\\AISG\\Documents\\Jonas\\Real_World_Test_DataBase_meta\\18\\67853\\Satellite_18_67853_157017.meta\n",
      "C:\\Users\\AISG\\Documents\\Jonas\\Real_World_Test_DataBase_meta\\18\\67853\\Satellite_18_67853_157018.meta\n",
      "C:\\Users\\AISG\\Documents\\Jonas\\Real_World_Test_DataBase_meta\\18\\67853\\Satellite_18_67853_157019.meta\n",
      "C:\\Users\\AISG\\Documents\\Jonas\\Real_World_Test_DataBase_meta\\18\\67853\\Satellite_18_67853_157020.meta\n",
      "C:\\Users\\AISG\\Documents\\Jonas\\Real_World_Test_DataBase_meta\\18\\67853\\Satellite_18_67853_157021.meta\n",
      "C:\\Users\\AISG\\Documents\\Jonas\\Real_World_Test_DataBase_meta\\18\\67853\\Satellite_18_67853_157022.meta\n",
      "C:\\Users\\AISG\\Documents\\Jonas\\Real_World_Test_DataBase_meta\\18\\67854\\Satellite_18_67854_157017.meta\n",
      "C:\\Users\\AISG\\Documents\\Jonas\\Real_World_Test_DataBase_meta\\18\\67854\\Satellite_18_67854_157018.meta\n",
      "C:\\Users\\AISG\\Documents\\Jonas\\Real_World_Test_DataBase_meta\\18\\67854\\Satellite_18_67854_157019.meta\n",
      "C:\\Users\\AISG\\Documents\\Jonas\\Real_World_Test_DataBase_meta\\18\\67854\\Satellite_18_67854_157020.meta\n",
      "C:\\Users\\AISG\\Documents\\Jonas\\Real_World_Test_DataBase_meta\\18\\67854\\Satellite_18_67854_157021.meta\n",
      "C:\\Users\\AISG\\Documents\\Jonas\\Real_World_Test_DataBase_meta\\18\\67854\\Satellite_18_67854_157022.meta\n",
      "C:\\Users\\AISG\\Documents\\Jonas\\Real_World_Test_DataBase_meta\\18\\67857\\Satellite_18_67857_157017.meta\n",
      "C:\\Users\\AISG\\Documents\\Jonas\\Real_World_Test_DataBase_meta\\18\\67857\\Satellite_18_67857_157018.meta\n",
      "C:\\Users\\AISG\\Documents\\Jonas\\Real_World_Test_DataBase_meta\\18\\67857\\Satellite_18_67857_157019.meta\n",
      "C:\\Users\\AISG\\Documents\\Jonas\\Real_World_Test_DataBase_meta\\18\\67857\\Satellite_18_67857_157020.meta\n"
     ]
    },
    {
     "name": "stderr",
     "output_type": "stream",
     "text": [
      "\r",
      "100%|█████████████████████████████████████████████████████████████████████████████| 2206/2206 [00:05<00:00, 379.71it/s]"
     ]
    },
    {
     "name": "stdout",
     "output_type": "stream",
     "text": [
      "C:\\Users\\AISG\\Documents\\Jonas\\Real_World_Test_DataBase_meta\\18\\67857\\Satellite_18_67857_157021.meta\n",
      "C:\\Users\\AISG\\Documents\\Jonas\\Real_World_Test_DataBase_meta\\18\\67857\\Satellite_18_67857_157022.meta\n"
     ]
    },
    {
     "name": "stderr",
     "output_type": "stream",
     "text": [
      "\n"
     ]
    }
   ],
   "source": [
    "import sys\n",
    "sys.path.append('..')\n",
    "sys.path.append('detection')\n",
    "from detection.build_placemarks import BuildPlacemarks\n",
    "\n",
    "# meta_folder = \"C:\\\\Users\\\\AISG\\\\Documents\\\\Jonas\\\\Real_World_Dataset_TMS_meta\\\\sat\\\\\"\n",
    "# meta_folder = \"C:\\\\Users\\\\AISG\\\\Documents\\\\Jonas\\\\City\\\\cebu_meta\\\\sat\"\n",
    "meta_folder = \"C:\\\\Users\\\\AISG\\\\Documents\\\\Jonas\\\\Real_World_Test_DataBase_meta\\\\18\\\\\"\n",
    "model_number = 10\n",
    "threshold = 0.0\n",
    "\n",
    "# index_path = \"helipad_path_over_0_m10.txt\"\n",
    "index_path = None\n",
    "\n",
    "knn = False\n",
    "model_name = \"cnn_validation\"\n",
    "model_validation_threshold = 0.0\n",
    "\n",
    "prefix = 'Real_World_Test_DataBase_'\n",
    "\n",
    "build_placemarks = BuildPlacemarks(meta_folder,\n",
    "                                   model_number,\n",
    "                                   threshold,\n",
    "                                   knn=knn,\n",
    "                                   model_name=model_name,\n",
    "                                   model_validation_threshold=model_validation_threshold,\n",
    "                                   index_path=index_path,\n",
    "                                   prefix=prefix)\n",
    "\n",
    "build_placemarks.run()"
   ]
  },
  {
   "cell_type": "markdown",
   "metadata": {},
   "source": [
    "### Transfer the placemarks to my local machine"
   ]
  },
  {
   "cell_type": "code",
   "execution_count": null,
   "metadata": {},
   "outputs": [],
   "source": []
  }
 ],
 "metadata": {
  "kernelspec": {
   "display_name": "tf-gpu_1.13",
   "language": "python",
   "name": "tf-gpu_1.13"
  },
  "language_info": {
   "codemirror_mode": {
    "name": "ipython",
    "version": 3
   },
   "file_extension": ".py",
   "mimetype": "text/x-python",
   "name": "python",
   "nbconvert_exporter": "python",
   "pygments_lexer": "ipython3",
   "version": "3.7.6"
  }
 },
 "nbformat": 4,
 "nbformat_minor": 2
}
