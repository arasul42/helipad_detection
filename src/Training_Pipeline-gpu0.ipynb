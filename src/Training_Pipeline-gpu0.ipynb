{
 "cells": [
  {
   "cell_type": "code",
   "execution_count": 1,
   "metadata": {},
   "outputs": [],
   "source": [
    "import os\n",
    "os.chdir('../../')\n",
    "os.environ[\"CUDA_DEVICE_ORDER\"]=\"PCI_BUS_ID\"   # see issue #152\n",
    "os.environ[\"CUDA_VISIBLE_DEVICES\"]=\"0\"\n",
    "import sys"
   ]
  },
  {
   "cell_type": "markdown",
   "metadata": {},
   "source": [
    "# Database Creation"
   ]
  },
  {
   "cell_type": "markdown",
   "metadata": {},
   "source": [
    "# Database Management"
   ]
  },
  {
   "cell_type": "markdown",
   "metadata": {},
   "source": [
    "# DataBase Augmentation"
   ]
  },
  {
   "cell_type": "code",
   "execution_count": 1,
   "metadata": {},
   "outputs": [
    {
     "name": "stderr",
     "output_type": "stream",
     "text": [
      "C:\\Users\\AISG\\Anaconda3\\envs\\tf-gpu_1.13\\lib\\site-packages\\tensorflow\\python\\framework\\dtypes.py:526: FutureWarning: Passing (type, 1) or '1type' as a synonym of type is deprecated; in a future version of numpy, it will be understood as (type, (1,)) / '(1,)type'.\n",
      "  _np_qint8 = np.dtype([(\"qint8\", np.int8, 1)])\n",
      "C:\\Users\\AISG\\Anaconda3\\envs\\tf-gpu_1.13\\lib\\site-packages\\tensorflow\\python\\framework\\dtypes.py:527: FutureWarning: Passing (type, 1) or '1type' as a synonym of type is deprecated; in a future version of numpy, it will be understood as (type, (1,)) / '(1,)type'.\n",
      "  _np_quint8 = np.dtype([(\"quint8\", np.uint8, 1)])\n",
      "C:\\Users\\AISG\\Anaconda3\\envs\\tf-gpu_1.13\\lib\\site-packages\\tensorflow\\python\\framework\\dtypes.py:528: FutureWarning: Passing (type, 1) or '1type' as a synonym of type is deprecated; in a future version of numpy, it will be understood as (type, (1,)) / '(1,)type'.\n",
      "  _np_qint16 = np.dtype([(\"qint16\", np.int16, 1)])\n",
      "C:\\Users\\AISG\\Anaconda3\\envs\\tf-gpu_1.13\\lib\\site-packages\\tensorflow\\python\\framework\\dtypes.py:529: FutureWarning: Passing (type, 1) or '1type' as a synonym of type is deprecated; in a future version of numpy, it will be understood as (type, (1,)) / '(1,)type'.\n",
      "  _np_quint16 = np.dtype([(\"quint16\", np.uint16, 1)])\n",
      "C:\\Users\\AISG\\Anaconda3\\envs\\tf-gpu_1.13\\lib\\site-packages\\tensorflow\\python\\framework\\dtypes.py:530: FutureWarning: Passing (type, 1) or '1type' as a synonym of type is deprecated; in a future version of numpy, it will be understood as (type, (1,)) / '(1,)type'.\n",
      "  _np_qint32 = np.dtype([(\"qint32\", np.int32, 1)])\n",
      "C:\\Users\\AISG\\Anaconda3\\envs\\tf-gpu_1.13\\lib\\site-packages\\tensorflow\\python\\framework\\dtypes.py:535: FutureWarning: Passing (type, 1) or '1type' as a synonym of type is deprecated; in a future version of numpy, it will be understood as (type, (1,)) / '(1,)type'.\n",
      "  np_resource = np.dtype([(\"resource\", np.ubyte, 1)])\n"
     ]
    },
    {
     "name": "stdout",
     "output_type": "stream",
     "text": [
      "Building Target files\n",
      "Categories count : [60, 1616, 447, 142, 214, 63, 207, 113, 141, 89, 143, 29]\n",
      "{'0': 60, '1': 1616, '2': 447, '3': 142, '4': 214, 'd': 63, '9': 207, '5': 113, '6': 141, '7': 89, '8': 143, 'u': 29}\n",
      "Max count : 1616\n",
      "Total count : 3264\n",
      "Duplicating category 0 3 times\n",
      "Duplicating category 1 1 times\n",
      "Duplicating category 2 1 times\n",
      "Duplicating category 3 3 times\n",
      "Duplicating category 4 0 times\n",
      "Duplicating category d 0 times\n",
      "Duplicating category 9 1 times\n",
      "Duplicating category 5 3 times\n",
      "Duplicating category 6 2 times\n",
      "Duplicating category 7 0 times\n",
      "Duplicating category 8 1 times\n",
      "Duplicating category u 0 times\n",
      "Target Files Built\n",
      "Generating 43632 images\n",
      "<class 'bool'>\n",
      "Displaying samples : False\n"
     ]
    },
    {
     "name": "stderr",
     "output_type": "stream",
     "text": [
      " 23%|█████████████████▌                                                           | 9955/43632 [05:27<17:44, 31.64it/s]"
     ]
    },
    {
     "name": "stdout",
     "output_type": "stream",
     "text": [
      "Helipad_03396.png has no box\n"
     ]
    },
    {
     "name": "stderr",
     "output_type": "stream",
     "text": [
      " 25%|███████████████████                                                         | 10945/43632 [05:59<15:51, 34.35it/s]"
     ]
    },
    {
     "name": "stdout",
     "output_type": "stream",
     "text": [
      "Helipad_03396.png has no box\n"
     ]
    },
    {
     "name": "stderr",
     "output_type": "stream",
     "text": [
      " 26%|███████████████████▋                                                        | 11283/43632 [06:10<15:15, 35.33it/s]"
     ]
    },
    {
     "name": "stdout",
     "output_type": "stream",
     "text": [
      "Helipad_03396.png has no box\n"
     ]
    },
    {
     "name": "stderr",
     "output_type": "stream",
     "text": [
      " 26%|███████████████████▊                                                        | 11392/43632 [06:14<16:37, 32.31it/s]"
     ]
    },
    {
     "name": "stdout",
     "output_type": "stream",
     "text": [
      "Helipad_03396.png has no box\n"
     ]
    },
    {
     "name": "stderr",
     "output_type": "stream",
     "text": [
      " 26%|███████████████████▉                                                        | 11467/43632 [06:16<15:44, 34.06it/s]"
     ]
    },
    {
     "name": "stdout",
     "output_type": "stream",
     "text": [
      "Helipad_03396.png has no box\n"
     ]
    },
    {
     "name": "stderr",
     "output_type": "stream",
     "text": [
      " 29%|█████████████████████▉                                                      | 12604/43632 [06:52<15:46, 32.77it/s]"
     ]
    },
    {
     "name": "stdout",
     "output_type": "stream",
     "text": [
      "Helipad_03396.png has no box\n"
     ]
    },
    {
     "name": "stderr",
     "output_type": "stream",
     "text": [
      " 45%|██████████████████████████████████                                          | 19537/43632 [10:38<12:20, 32.54it/s]"
     ]
    },
    {
     "name": "stdout",
     "output_type": "stream",
     "text": [
      "Helipad_03329.png has no box\n"
     ]
    },
    {
     "name": "stderr",
     "output_type": "stream",
     "text": [
      " 45%|██████████████████████████████████▏                                         | 19610/43632 [10:40<11:17, 35.44it/s]"
     ]
    },
    {
     "name": "stdout",
     "output_type": "stream",
     "text": [
      "Helipad_05772.png has no box\n"
     ]
    },
    {
     "name": "stderr",
     "output_type": "stream",
     "text": [
      " 45%|██████████████████████████████████▏                                         | 19655/43632 [10:41<11:11, 35.68it/s]"
     ]
    },
    {
     "name": "stdout",
     "output_type": "stream",
     "text": [
      "Helipad_03329.png has no box\n"
     ]
    },
    {
     "name": "stderr",
     "output_type": "stream",
     "text": [
      " 45%|██████████████████████████████████▍                                         | 19772/43632 [10:45<12:05, 32.90it/s]"
     ]
    },
    {
     "name": "stdout",
     "output_type": "stream",
     "text": [
      "Helipad_05772.png has no box\n",
      "Helipad_03329.png has no box\n"
     ]
    },
    {
     "name": "stderr",
     "output_type": "stream",
     "text": [
      " 46%|██████████████████████████████████▊                                         | 19954/43632 [10:51<11:53, 33.18it/s]"
     ]
    },
    {
     "name": "stdout",
     "output_type": "stream",
     "text": [
      "Helipad_03329.png has no box\n"
     ]
    },
    {
     "name": "stderr",
     "output_type": "stream",
     "text": [
      " 46%|██████████████████████████████████▊                                         | 20019/43632 [10:53<11:53, 33.10it/s]"
     ]
    },
    {
     "name": "stdout",
     "output_type": "stream",
     "text": [
      "Helipad_03329.png has no box\n"
     ]
    },
    {
     "name": "stderr",
     "output_type": "stream",
     "text": [
      " 46%|███████████████████████████████████                                         | 20165/43632 [10:57<11:35, 33.76it/s]"
     ]
    },
    {
     "name": "stdout",
     "output_type": "stream",
     "text": [
      "Helipad_05772.png has no box\n"
     ]
    },
    {
     "name": "stderr",
     "output_type": "stream",
     "text": [
      " 46%|███████████████████████████████████▏                                        | 20198/43632 [10:58<11:29, 33.99it/s]"
     ]
    },
    {
     "name": "stdout",
     "output_type": "stream",
     "text": [
      "Helipad_03329.png has no box\n"
     ]
    },
    {
     "name": "stderr",
     "output_type": "stream",
     "text": [
      " 46%|███████████████████████████████████▏                                        | 20230/43632 [10:59<12:16, 31.79it/s]"
     ]
    },
    {
     "name": "stdout",
     "output_type": "stream",
     "text": [
      "Helipad_05772.png has no box\n"
     ]
    },
    {
     "name": "stderr",
     "output_type": "stream",
     "text": [
      " 47%|███████████████████████████████████▍                                        | 20343/43632 [11:03<11:26, 33.91it/s]"
     ]
    },
    {
     "name": "stdout",
     "output_type": "stream",
     "text": [
      "Helipad_05772.png has no box\n"
     ]
    },
    {
     "name": "stderr",
     "output_type": "stream",
     "text": [
      " 47%|███████████████████████████████████▌                                        | 20411/43632 [11:05<12:03, 32.11it/s]"
     ]
    },
    {
     "name": "stdout",
     "output_type": "stream",
     "text": [
      "Helipad_05772.png has no box\n"
     ]
    },
    {
     "name": "stderr",
     "output_type": "stream",
     "text": [
      " 47%|███████████████████████████████████▌                                        | 20431/43632 [11:05<11:38, 33.20it/s]"
     ]
    },
    {
     "name": "stdout",
     "output_type": "stream",
     "text": [
      "Helipad_05772.png has no box\n"
     ]
    },
    {
     "name": "stderr",
     "output_type": "stream",
     "text": [
      " 47%|███████████████████████████████████▉                                        | 20648/43632 [11:12<11:57, 32.04it/s]"
     ]
    },
    {
     "name": "stdout",
     "output_type": "stream",
     "text": [
      "Helipad_05772.png has no box\n"
     ]
    },
    {
     "name": "stderr",
     "output_type": "stream",
     "text": [
      " 48%|████████████████████████████████████▏                                       | 20740/43632 [11:15<11:58, 31.87it/s]"
     ]
    },
    {
     "name": "stdout",
     "output_type": "stream",
     "text": [
      "Helipad_05772.png has no box\n"
     ]
    },
    {
     "name": "stderr",
     "output_type": "stream",
     "text": [
      " 48%|████████████████████████████████████▏                                       | 20768/43632 [11:16<12:03, 31.62it/s]"
     ]
    },
    {
     "name": "stdout",
     "output_type": "stream",
     "text": [
      "Helipad_05772.png has no box\n"
     ]
    },
    {
     "name": "stderr",
     "output_type": "stream",
     "text": [
      " 48%|████████████████████████████████████▍                                       | 20889/43632 [11:20<11:44, 32.27it/s]"
     ]
    },
    {
     "name": "stdout",
     "output_type": "stream",
     "text": [
      "Helipad_03329.png has no box\n"
     ]
    },
    {
     "name": "stderr",
     "output_type": "stream",
     "text": [
      " 59%|█████████████████████████████████████████████▏                              | 25930/43632 [14:03<08:39, 34.05it/s]"
     ]
    },
    {
     "name": "stdout",
     "output_type": "stream",
     "text": [
      "Helipad_03391.png has no box\n"
     ]
    },
    {
     "name": "stderr",
     "output_type": "stream",
     "text": [
      " 60%|█████████████████████████████████████████████▍                              | 26085/43632 [14:08<08:52, 32.94it/s]"
     ]
    },
    {
     "name": "stdout",
     "output_type": "stream",
     "text": [
      "Helipad_03391.png has no box\n"
     ]
    },
    {
     "name": "stderr",
     "output_type": "stream",
     "text": [
      " 60%|█████████████████████████████████████████████▉                              | 26388/43632 [14:17<08:56, 32.15it/s]"
     ]
    },
    {
     "name": "stdout",
     "output_type": "stream",
     "text": [
      "Helipad_03391.png has no box\n"
     ]
    },
    {
     "name": "stderr",
     "output_type": "stream",
     "text": [
      " 61%|██████████████████████████████████████████████▏                             | 26482/43632 [14:20<08:43, 32.75it/s]"
     ]
    },
    {
     "name": "stdout",
     "output_type": "stream",
     "text": [
      "Helipad_03391.png has no box\n"
     ]
    },
    {
     "name": "stderr",
     "output_type": "stream",
     "text": [
      " 62%|██████████████████████████████████████████████▊                             | 26866/43632 [14:32<08:49, 31.69it/s]"
     ]
    },
    {
     "name": "stdout",
     "output_type": "stream",
     "text": [
      "Helipad_03391.png has no box\n"
     ]
    },
    {
     "name": "stderr",
     "output_type": "stream",
     "text": [
      " 62%|███████████████████████████████████████████████▏                            | 27083/43632 [14:39<08:10, 33.75it/s]"
     ]
    },
    {
     "name": "stdout",
     "output_type": "stream",
     "text": [
      "Helipad_03391.png has no box\n"
     ]
    },
    {
     "name": "stderr",
     "output_type": "stream",
     "text": [
      " 62%|███████████████████████████████████████████████▏                            | 27112/43632 [14:40<08:15, 33.33it/s]"
     ]
    },
    {
     "name": "stdout",
     "output_type": "stream",
     "text": [
      "Helipad_03391.png has no box\n"
     ]
    },
    {
     "name": "stderr",
     "output_type": "stream",
     "text": [
      " 62%|███████████████████████████████████████████████▎                            | 27156/43632 [14:42<08:33, 32.09it/s]"
     ]
    },
    {
     "name": "stdout",
     "output_type": "stream",
     "text": [
      "Helipad_03391.png has no box\n"
     ]
    },
    {
     "name": "stderr",
     "output_type": "stream",
     "text": [
      " 62%|███████████████████████████████████████████████▍                            | 27262/43632 [14:45<08:14, 33.09it/s]"
     ]
    },
    {
     "name": "stdout",
     "output_type": "stream",
     "text": [
      "Helipad_03391.png has no box\n"
     ]
    },
    {
     "name": "stderr",
     "output_type": "stream",
     "text": [
      " 63%|███████████████████████████████████████████████▌                            | 27340/43632 [14:47<07:56, 34.18it/s]"
     ]
    },
    {
     "name": "stdout",
     "output_type": "stream",
     "text": [
      "Helipad_03391.png has no box\n"
     ]
    },
    {
     "name": "stderr",
     "output_type": "stream",
     "text": [
      " 63%|███████████████████████████████████████████████▊                            | 27429/43632 [14:50<07:58, 33.85it/s]"
     ]
    },
    {
     "name": "stdout",
     "output_type": "stream",
     "text": [
      "Helipad_03391.png has no box\n"
     ]
    },
    {
     "name": "stderr",
     "output_type": "stream",
     "text": [
      " 63%|███████████████████████████████████████████████▉                            | 27526/43632 [14:53<08:25, 31.87it/s]"
     ]
    },
    {
     "name": "stdout",
     "output_type": "stream",
     "text": [
      "Helipad_03391.png has no box\n"
     ]
    },
    {
     "name": "stderr",
     "output_type": "stream",
     "text": [
      " 63%|████████████████████████████████████████████████                            | 27623/43632 [14:56<08:02, 33.19it/s]"
     ]
    },
    {
     "name": "stdout",
     "output_type": "stream",
     "text": [
      "Helipad_03391.png has no box\n",
      "Helipad_03391.png has no box\n"
     ]
    },
    {
     "name": "stderr",
     "output_type": "stream",
     "text": [
      " 64%|████████████████████████████████████████████████▊                           | 27989/43632 [15:08<07:47, 33.43it/s]"
     ]
    },
    {
     "name": "stdout",
     "output_type": "stream",
     "text": [
      "Helipad_03391.png has no box\n"
     ]
    },
    {
     "name": "stderr",
     "output_type": "stream",
     "text": [
      " 64%|████████████████████████████████████████████████▉                           | 28067/43632 [15:10<07:27, 34.78it/s]"
     ]
    },
    {
     "name": "stdout",
     "output_type": "stream",
     "text": [
      "Helipad_03391.png has no box\n"
     ]
    },
    {
     "name": "stderr",
     "output_type": "stream",
     "text": [
      " 64%|████████████████████████████████████████████████▉                           | 28088/43632 [15:11<07:46, 33.34it/s]"
     ]
    },
    {
     "name": "stdout",
     "output_type": "stream",
     "text": [
      "Helipad_03391.png has no box\n"
     ]
    },
    {
     "name": "stderr",
     "output_type": "stream",
     "text": [
      " 65%|█████████████████████████████████████████████████▌                          | 28470/43632 [15:24<07:45, 32.54it/s]"
     ]
    },
    {
     "name": "stdout",
     "output_type": "stream",
     "text": [
      "Helipad_03391.png has no box\n"
     ]
    },
    {
     "name": "stderr",
     "output_type": "stream",
     "text": [
      " 65%|█████████████████████████████████████████████████▊                          | 28567/43632 [15:27<07:13, 34.74it/s]"
     ]
    },
    {
     "name": "stdout",
     "output_type": "stream",
     "text": [
      "Helipad_03391.png has no box\n"
     ]
    },
    {
     "name": "stderr",
     "output_type": "stream",
     "text": [
      " 66%|██████████████████████████████████████████████████▎                         | 28850/43632 [15:36<07:23, 33.31it/s]"
     ]
    },
    {
     "name": "stdout",
     "output_type": "stream",
     "text": [
      "Helipad_03391.png has no box\n"
     ]
    },
    {
     "name": "stderr",
     "output_type": "stream",
     "text": [
      " 67%|██████████████████████████████████████████████████▉                         | 29262/43632 [15:49<07:30, 31.89it/s]"
     ]
    },
    {
     "name": "stdout",
     "output_type": "stream",
     "text": [
      "Helipad_03391.png has no box\n"
     ]
    },
    {
     "name": "stderr",
     "output_type": "stream",
     "text": [
      " 67%|███████████████████████████████████████████████████                         | 29311/43632 [15:50<07:12, 33.09it/s]"
     ]
    },
    {
     "name": "stdout",
     "output_type": "stream",
     "text": [
      "Helipad_03391.png has no box\n"
     ]
    },
    {
     "name": "stderr",
     "output_type": "stream",
     "text": [
      " 67%|███████████████████████████████████████████████████▏                        | 29411/43632 [15:54<07:05, 33.40it/s]"
     ]
    },
    {
     "name": "stdout",
     "output_type": "stream",
     "text": [
      "Helipad_03391.png has no box\n"
     ]
    },
    {
     "name": "stderr",
     "output_type": "stream",
     "text": [
      " 68%|███████████████████████████████████████████████████▍                        | 29562/43632 [15:59<07:28, 31.39it/s]"
     ]
    },
    {
     "name": "stdout",
     "output_type": "stream",
     "text": [
      "Helipad_03391.png has no box\n"
     ]
    },
    {
     "name": "stderr",
     "output_type": "stream",
     "text": [
      " 68%|███████████████████████████████████████████████████▌                        | 29619/43632 [16:01<07:08, 32.68it/s]"
     ]
    },
    {
     "name": "stdout",
     "output_type": "stream",
     "text": [
      "Helipad_03391.png has no box\n"
     ]
    },
    {
     "name": "stderr",
     "output_type": "stream",
     "text": [
      " 68%|███████████████████████████████████████████████████▋                        | 29644/43632 [16:01<07:13, 32.23it/s]"
     ]
    },
    {
     "name": "stdout",
     "output_type": "stream",
     "text": [
      "Helipad_03391.png has no box\n"
     ]
    },
    {
     "name": "stderr",
     "output_type": "stream",
     "text": [
      " 68%|███████████████████████████████████████████████████▊                        | 29760/43632 [16:05<06:26, 35.91it/s]"
     ]
    },
    {
     "name": "stdout",
     "output_type": "stream",
     "text": [
      "Helipad_03391.png has no box\n",
      "Helipad_03391.png has no box\n"
     ]
    },
    {
     "name": "stderr",
     "output_type": "stream",
     "text": [
      " 68%|███████████████████████████████████████████████████▊                        | 29769/43632 [16:06<06:34, 35.15it/s]"
     ]
    },
    {
     "name": "stdout",
     "output_type": "stream",
     "text": [
      "Helipad_03391.png has no box\n"
     ]
    },
    {
     "name": "stderr",
     "output_type": "stream",
     "text": [
      " 68%|███████████████████████████████████████████████████▉                        | 29845/43632 [16:08<07:13, 31.83it/s]"
     ]
    },
    {
     "name": "stdout",
     "output_type": "stream",
     "text": [
      "Helipad_03391.png has no box\n"
     ]
    },
    {
     "name": "stderr",
     "output_type": "stream",
     "text": [
      " 69%|████████████████████████████████████████████████████▏                       | 29936/43632 [16:11<06:55, 32.93it/s]"
     ]
    },
    {
     "name": "stdout",
     "output_type": "stream",
     "text": [
      "Helipad_03391.png has no box\n"
     ]
    },
    {
     "name": "stderr",
     "output_type": "stream",
     "text": [
      " 69%|████████████████████████████████████████████████████▎                       | 30042/43632 [16:14<07:11, 31.49it/s]"
     ]
    },
    {
     "name": "stdout",
     "output_type": "stream",
     "text": [
      "Helipad_03391.png has no box\n"
     ]
    },
    {
     "name": "stderr",
     "output_type": "stream",
     "text": [
      " 69%|████████████████████████████████████████████████████▍                       | 30098/43632 [16:16<07:10, 31.46it/s]"
     ]
    },
    {
     "name": "stdout",
     "output_type": "stream",
     "text": [
      "Helipad_03391.png has no box\n"
     ]
    },
    {
     "name": "stderr",
     "output_type": "stream",
     "text": [
      " 69%|████████████████████████████████████████████████████▊                       | 30319/43632 [16:23<06:58, 31.84it/s]"
     ]
    },
    {
     "name": "stdout",
     "output_type": "stream",
     "text": [
      "Helipad_03391.png has no box\n"
     ]
    },
    {
     "name": "stderr",
     "output_type": "stream",
     "text": [
      " 70%|█████████████████████████████████████████████████████                       | 30476/43632 [16:29<06:55, 31.67it/s]"
     ]
    },
    {
     "name": "stdout",
     "output_type": "stream",
     "text": [
      "Helipad_03391.png has no box\n"
     ]
    },
    {
     "name": "stderr",
     "output_type": "stream",
     "text": [
      " 70%|█████████████████████████████████████████████████████▏                      | 30509/43632 [16:30<06:48, 32.13it/s]"
     ]
    },
    {
     "name": "stdout",
     "output_type": "stream",
     "text": [
      "Helipad_03391.png has no box\n"
     ]
    },
    {
     "name": "stderr",
     "output_type": "stream",
     "text": [
      " 70%|█████████████████████████████████████████████████████▏                      | 30545/43632 [16:31<06:58, 31.24it/s]"
     ]
    },
    {
     "name": "stdout",
     "output_type": "stream",
     "text": [
      "Helipad_03391.png has no box\n"
     ]
    },
    {
     "name": "stderr",
     "output_type": "stream",
     "text": [
      " 70%|█████████████████████████████████████████████████████▏                      | 30554/43632 [16:31<06:17, 34.61it/s]"
     ]
    },
    {
     "name": "stdout",
     "output_type": "stream",
     "text": [
      "Helipad_03391.png has no box\n"
     ]
    },
    {
     "name": "stderr",
     "output_type": "stream",
     "text": [
      " 70%|█████████████████████████████████████████████████████▎                      | 30594/43632 [16:32<06:39, 32.64it/s]"
     ]
    },
    {
     "name": "stdout",
     "output_type": "stream",
     "text": [
      "Helipad_03391.png has no box\n"
     ]
    },
    {
     "name": "stderr",
     "output_type": "stream",
     "text": [
      " 70%|█████████████████████████████████████████████████████▎                      | 30635/43632 [16:34<06:53, 31.44it/s]"
     ]
    },
    {
     "name": "stdout",
     "output_type": "stream",
     "text": [
      "Helipad_03391.png has no box\n"
     ]
    },
    {
     "name": "stderr",
     "output_type": "stream",
     "text": [
      " 70%|█████████████████████████████████████████████████████▍                      | 30656/43632 [16:34<06:53, 31.41it/s]"
     ]
    },
    {
     "name": "stdout",
     "output_type": "stream",
     "text": [
      "Helipad_03391.png has no box\n"
     ]
    },
    {
     "name": "stderr",
     "output_type": "stream",
     "text": [
      " 70%|█████████████████████████████████████████████████████▍                      | 30677/43632 [16:35<06:41, 32.25it/s]"
     ]
    },
    {
     "name": "stdout",
     "output_type": "stream",
     "text": [
      "Helipad_03391.png has no box\n"
     ]
    },
    {
     "name": "stderr",
     "output_type": "stream",
     "text": [
      " 70%|█████████████████████████████████████████████████████▌                      | 30730/43632 [16:37<06:28, 33.22it/s]"
     ]
    },
    {
     "name": "stdout",
     "output_type": "stream",
     "text": [
      "Helipad_03391.png has no box\n"
     ]
    },
    {
     "name": "stderr",
     "output_type": "stream",
     "text": [
      " 71%|█████████████████████████████████████████████████████▌                      | 30778/43632 [16:38<06:59, 30.67it/s]"
     ]
    },
    {
     "name": "stdout",
     "output_type": "stream",
     "text": [
      "Helipad_03391.png has no box\n"
     ]
    },
    {
     "name": "stderr",
     "output_type": "stream",
     "text": [
      " 71%|█████████████████████████████████████████████████████▋                      | 30790/43632 [16:39<06:49, 31.38it/s]"
     ]
    },
    {
     "name": "stdout",
     "output_type": "stream",
     "text": [
      "Helipad_03391.png has no box\n"
     ]
    },
    {
     "name": "stderr",
     "output_type": "stream",
     "text": [
      " 71%|█████████████████████████████████████████████████████▋                      | 30842/43632 [16:40<06:25, 33.21it/s]"
     ]
    },
    {
     "name": "stdout",
     "output_type": "stream",
     "text": [
      "Helipad_03391.png has no box\n",
      "Helipad_03391.png has no box\n"
     ]
    },
    {
     "name": "stderr",
     "output_type": "stream",
     "text": [
      " 71%|█████████████████████████████████████████████████████▋                      | 30855/43632 [16:41<06:16, 33.91it/s]"
     ]
    },
    {
     "name": "stdout",
     "output_type": "stream",
     "text": [
      "Helipad_03391.png has no box\n"
     ]
    },
    {
     "name": "stderr",
     "output_type": "stream",
     "text": [
      " 71%|█████████████████████████████████████████████████████▊                      | 30864/43632 [16:41<06:08, 34.68it/s]"
     ]
    },
    {
     "name": "stdout",
     "output_type": "stream",
     "text": [
      "Helipad_03391.png has no box\n"
     ]
    },
    {
     "name": "stderr",
     "output_type": "stream",
     "text": [
      " 71%|█████████████████████████████████████████████████████▊                      | 30893/43632 [16:42<06:18, 33.69it/s]"
     ]
    },
    {
     "name": "stdout",
     "output_type": "stream",
     "text": [
      "Helipad_03391.png has no box\n"
     ]
    },
    {
     "name": "stderr",
     "output_type": "stream",
     "text": [
      " 71%|██████████████████████████████████████████████████████▏                     | 31113/43632 [16:49<06:13, 33.54it/s]"
     ]
    },
    {
     "name": "stdout",
     "output_type": "stream",
     "text": [
      "Helipad_03391.png has no box\n"
     ]
    },
    {
     "name": "stderr",
     "output_type": "stream",
     "text": [
      " 72%|██████████████████████████████████████████████████████▋                     | 31419/43632 [16:59<06:32, 31.16it/s]"
     ]
    },
    {
     "name": "stdout",
     "output_type": "stream",
     "text": [
      "Helipad_03391.png has no box\n"
     ]
    },
    {
     "name": "stderr",
     "output_type": "stream",
     "text": [
      " 73%|███████████████████████████████████████████████████████▏                    | 31666/43632 [17:08<06:49, 29.20it/s]"
     ]
    },
    {
     "name": "stdout",
     "output_type": "stream",
     "text": [
      "Helipad_03391.png has no box\n"
     ]
    },
    {
     "name": "stderr",
     "output_type": "stream",
     "text": [
      " 73%|███████████████████████████████████████████████████████▌                    | 31880/43632 [17:15<06:08, 31.90it/s]"
     ]
    },
    {
     "name": "stdout",
     "output_type": "stream",
     "text": [
      "Helipad_03391.png has no box\n"
     ]
    },
    {
     "name": "stderr",
     "output_type": "stream",
     "text": [
      " 73%|███████████████████████████████████████████████████████▌                    | 31893/43632 [17:16<05:50, 33.45it/s]"
     ]
    },
    {
     "name": "stdout",
     "output_type": "stream",
     "text": [
      "Helipad_03391.png has no box\n"
     ]
    },
    {
     "name": "stderr",
     "output_type": "stream",
     "text": [
      " 74%|███████████████████████████████████████████████████████▉                    | 32115/43632 [17:23<05:44, 33.45it/s]"
     ]
    },
    {
     "name": "stdout",
     "output_type": "stream",
     "text": [
      "Helipad_03391.png has no box\n"
     ]
    },
    {
     "name": "stderr",
     "output_type": "stream",
     "text": [
      " 74%|████████████████████████████████████████████████████████▎                   | 32306/43632 [17:29<06:38, 28.43it/s]"
     ]
    },
    {
     "name": "stdout",
     "output_type": "stream",
     "text": [
      "Helipad_03391.png has no box\n"
     ]
    },
    {
     "name": "stderr",
     "output_type": "stream",
     "text": [
      " 96%|█████████████████████████████████████████████████████████████████████████▏  | 42043/43632 [24:04<00:59, 26.87it/s]"
     ]
    },
    {
     "name": "stdout",
     "output_type": "stream",
     "text": [
      "Helipad_02792.png has no box\n"
     ]
    },
    {
     "name": "stderr",
     "output_type": "stream",
     "text": [
      " 96%|█████████████████████████████████████████████████████████████████████████▎  | 42064/43632 [24:05<01:18, 20.04it/s]"
     ]
    },
    {
     "name": "stdout",
     "output_type": "stream",
     "text": [
      "Helipad_02792.png has no box\n"
     ]
    },
    {
     "name": "stderr",
     "output_type": "stream",
     "text": [
      " 96%|█████████████████████████████████████████████████████████████████████████▎  | 42074/43632 [24:06<01:04, 24.23it/s]"
     ]
    },
    {
     "name": "stdout",
     "output_type": "stream",
     "text": [
      "Helipad_02792.png has no box\n"
     ]
    },
    {
     "name": "stderr",
     "output_type": "stream",
     "text": [
      " 97%|█████████████████████████████████████████████████████████████████████████▍  | 42193/43632 [24:11<00:59, 24.19it/s]"
     ]
    },
    {
     "name": "stdout",
     "output_type": "stream",
     "text": [
      "Helipad_02792.png has no box\n"
     ]
    },
    {
     "name": "stderr",
     "output_type": "stream",
     "text": [
      " 97%|█████████████████████████████████████████████████████████████████████████▌  | 42242/43632 [24:13<00:55, 24.86it/s]"
     ]
    },
    {
     "name": "stdout",
     "output_type": "stream",
     "text": [
      "Helipad_02792.png has no box\n"
     ]
    },
    {
     "name": "stderr",
     "output_type": "stream",
     "text": [
      " 97%|█████████████████████████████████████████████████████████████████████████▋  | 42312/43632 [24:16<00:54, 24.15it/s]"
     ]
    },
    {
     "name": "stdout",
     "output_type": "stream",
     "text": [
      "Helipad_02792.png has no box\n"
     ]
    },
    {
     "name": "stderr",
     "output_type": "stream",
     "text": [
      " 97%|█████████████████████████████████████████████████████████████████████████▊  | 42345/43632 [24:17<00:50, 25.65it/s]"
     ]
    },
    {
     "name": "stdout",
     "output_type": "stream",
     "text": [
      "Helipad_02792.png has no box\n"
     ]
    },
    {
     "name": "stderr",
     "output_type": "stream",
     "text": [
      " 97%|█████████████████████████████████████████████████████████████████████████▊  | 42378/43632 [24:19<00:48, 26.11it/s]"
     ]
    },
    {
     "name": "stdout",
     "output_type": "stream",
     "text": [
      "Helipad_02792.png has no box\n"
     ]
    },
    {
     "name": "stderr",
     "output_type": "stream",
     "text": [
      " 97%|█████████████████████████████████████████████████████████████████████████▊  | 42385/43632 [24:19<00:42, 29.47it/s]"
     ]
    },
    {
     "name": "stdout",
     "output_type": "stream",
     "text": [
      "Helipad_02792.png has no box\n",
      "Helipad_02792.png has no box\n"
     ]
    },
    {
     "name": "stderr",
     "output_type": "stream",
     "text": [
      " 97%|█████████████████████████████████████████████████████████████████████████▊  | 42394/43632 [24:19<00:41, 30.03it/s]"
     ]
    },
    {
     "name": "stdout",
     "output_type": "stream",
     "text": [
      "Helipad_02792.png has no box\n"
     ]
    },
    {
     "name": "stderr",
     "output_type": "stream",
     "text": [
      " 97%|█████████████████████████████████████████████████████████████████████████▉  | 42414/43632 [24:20<00:47, 25.75it/s]"
     ]
    },
    {
     "name": "stdout",
     "output_type": "stream",
     "text": [
      "Helipad_02792.png has no box\n"
     ]
    },
    {
     "name": "stderr",
     "output_type": "stream",
     "text": [
      " 97%|█████████████████████████████████████████████████████████████████████████▉  | 42440/43632 [24:21<00:40, 29.18it/s]"
     ]
    },
    {
     "name": "stdout",
     "output_type": "stream",
     "text": [
      "Helipad_02792.png has no box\n",
      "Helipad_02792.png has no box\n",
      "Helipad_02792.png has no box\n"
     ]
    },
    {
     "name": "stderr",
     "output_type": "stream",
     "text": [
      " 97%|█████████████████████████████████████████████████████████████████████████▉  | 42474/43632 [24:23<00:47, 24.18it/s]"
     ]
    },
    {
     "name": "stdout",
     "output_type": "stream",
     "text": [
      "Helipad_02792.png has no box\n"
     ]
    },
    {
     "name": "stderr",
     "output_type": "stream",
     "text": [
      "\r",
      " 97%|█████████████████████████████████████████████████████████████████████████▉  | 42479/43632 [24:23<00:44, 25.68it/s]"
     ]
    },
    {
     "name": "stdout",
     "output_type": "stream",
     "text": [
      "Helipad_02792.png has no box\n"
     ]
    },
    {
     "name": "stderr",
     "output_type": "stream",
     "text": [
      " 97%|██████████████████████████████████████████████████████████████████████████  | 42495/43632 [24:23<00:44, 25.54it/s]"
     ]
    },
    {
     "name": "stdout",
     "output_type": "stream",
     "text": [
      "Helipad_02792.png has no box\n"
     ]
    },
    {
     "name": "stderr",
     "output_type": "stream",
     "text": [
      " 97%|██████████████████████████████████████████████████████████████████████████  | 42501/43632 [24:24<00:44, 25.25it/s]"
     ]
    },
    {
     "name": "stdout",
     "output_type": "stream",
     "text": [
      "Helipad_02792.png has no box\n"
     ]
    },
    {
     "name": "stderr",
     "output_type": "stream",
     "text": [
      " 97%|██████████████████████████████████████████████████████████████████████████  | 42512/43632 [24:24<00:42, 26.34it/s]"
     ]
    },
    {
     "name": "stdout",
     "output_type": "stream",
     "text": [
      "Helipad_02792.png has no box\n",
      "Helipad_02792.png has no box\n"
     ]
    },
    {
     "name": "stderr",
     "output_type": "stream",
     "text": [
      " 98%|██████████████████████████████████████████████████████████████████████████  | 42547/43632 [24:26<00:44, 24.49it/s]"
     ]
    },
    {
     "name": "stdout",
     "output_type": "stream",
     "text": [
      "Helipad_02792.png has no box\n"
     ]
    },
    {
     "name": "stderr",
     "output_type": "stream",
     "text": [
      " 98%|██████████████████████████████████████████████████████████████████████████▏ | 42577/43632 [24:27<00:41, 25.48it/s]"
     ]
    },
    {
     "name": "stdout",
     "output_type": "stream",
     "text": [
      "Helipad_02792.png has no box\n"
     ]
    },
    {
     "name": "stderr",
     "output_type": "stream",
     "text": [
      " 98%|██████████████████████████████████████████████████████████████████████████▏ | 42598/43632 [24:28<00:36, 28.51it/s]"
     ]
    },
    {
     "name": "stdout",
     "output_type": "stream",
     "text": [
      "Helipad_02792.png has no box\n"
     ]
    },
    {
     "name": "stderr",
     "output_type": "stream",
     "text": [
      " 98%|██████████████████████████████████████████████████████████████████████████▎ | 42649/43632 [24:30<00:39, 25.07it/s]"
     ]
    },
    {
     "name": "stdout",
     "output_type": "stream",
     "text": [
      "Helipad_02792.png has no box\n",
      "Helipad_02792.png has no box\n"
     ]
    },
    {
     "name": "stderr",
     "output_type": "stream",
     "text": [
      " 98%|██████████████████████████████████████████████████████████████████████████▎ | 42672/43632 [24:31<00:37, 25.40it/s]"
     ]
    },
    {
     "name": "stdout",
     "output_type": "stream",
     "text": [
      "Helipad_02792.png has no box\n"
     ]
    },
    {
     "name": "stderr",
     "output_type": "stream",
     "text": [
      " 98%|██████████████████████████████████████████████████████████████████████████▎ | 42686/43632 [24:31<00:35, 27.01it/s]"
     ]
    },
    {
     "name": "stdout",
     "output_type": "stream",
     "text": [
      "Helipad_02792.png has no box\n"
     ]
    },
    {
     "name": "stderr",
     "output_type": "stream",
     "text": [
      " 98%|██████████████████████████████████████████████████████████████████████████▌ | 42776/43632 [24:35<00:31, 27.48it/s]"
     ]
    },
    {
     "name": "stdout",
     "output_type": "stream",
     "text": [
      "Helipad_02792.png has no box\n"
     ]
    },
    {
     "name": "stderr",
     "output_type": "stream",
     "text": [
      " 98%|██████████████████████████████████████████████████████████████████████████▌ | 42827/43632 [24:37<00:32, 24.83it/s]"
     ]
    },
    {
     "name": "stdout",
     "output_type": "stream",
     "text": [
      "Helipad_02792.png has no box\n"
     ]
    },
    {
     "name": "stderr",
     "output_type": "stream",
     "text": [
      " 98%|██████████████████████████████████████████████████████████████████████████▋ | 42878/43632 [24:39<00:30, 24.95it/s]"
     ]
    },
    {
     "name": "stdout",
     "output_type": "stream",
     "text": [
      "Helipad_02792.png has no box\n"
     ]
    },
    {
     "name": "stderr",
     "output_type": "stream",
     "text": [
      " 98%|██████████████████████████████████████████████████████████████████████████▊ | 42948/43632 [24:42<00:25, 26.63it/s]"
     ]
    },
    {
     "name": "stdout",
     "output_type": "stream",
     "text": [
      "Helipad_02792.png has no box\n"
     ]
    },
    {
     "name": "stderr",
     "output_type": "stream",
     "text": [
      " 98%|██████████████████████████████████████████████████████████████████████████▊ | 42956/43632 [24:43<00:26, 25.25it/s]"
     ]
    },
    {
     "name": "stdout",
     "output_type": "stream",
     "text": [
      "Helipad_02792.png has no box\n",
      "Helipad_02792.png has no box\n"
     ]
    },
    {
     "name": "stderr",
     "output_type": "stream",
     "text": [
      " 98%|██████████████████████████████████████████████████████████████████████████▊ | 42977/43632 [24:44<00:26, 25.14it/s]"
     ]
    },
    {
     "name": "stdout",
     "output_type": "stream",
     "text": [
      "Helipad_02792.png has no box\n"
     ]
    },
    {
     "name": "stderr",
     "output_type": "stream",
     "text": [
      " 99%|██████████████████████████████████████████████████████████████████████████▉ | 42988/43632 [24:44<00:26, 24.59it/s]"
     ]
    },
    {
     "name": "stdout",
     "output_type": "stream",
     "text": [
      "Helipad_02792.png has no box\n"
     ]
    },
    {
     "name": "stderr",
     "output_type": "stream",
     "text": [
      " 99%|██████████████████████████████████████████████████████████████████████████▉ | 43010/43632 [24:45<00:23, 26.08it/s]"
     ]
    },
    {
     "name": "stdout",
     "output_type": "stream",
     "text": [
      "Helipad_02792.png has no box\n",
      "Helipad_02792.png has no box\n"
     ]
    },
    {
     "name": "stderr",
     "output_type": "stream",
     "text": [
      " 99%|██████████████████████████████████████████████████████████████████████████▉ | 43030/43632 [24:46<00:22, 26.96it/s]"
     ]
    },
    {
     "name": "stdout",
     "output_type": "stream",
     "text": [
      "Helipad_02792.png has no box\n"
     ]
    },
    {
     "name": "stderr",
     "output_type": "stream",
     "text": [
      " 99%|██████████████████████████████████████████████████████████████████████████▉ | 43053/43632 [24:47<00:23, 24.99it/s]"
     ]
    },
    {
     "name": "stdout",
     "output_type": "stream",
     "text": [
      "Helipad_02792.png has no box\n"
     ]
    },
    {
     "name": "stderr",
     "output_type": "stream",
     "text": [
      " 99%|███████████████████████████████████████████████████████████████████████████ | 43084/43632 [24:48<00:19, 27.80it/s]"
     ]
    },
    {
     "name": "stdout",
     "output_type": "stream",
     "text": [
      "Helipad_02792.png has no box\n"
     ]
    },
    {
     "name": "stderr",
     "output_type": "stream",
     "text": [
      " 99%|███████████████████████████████████████████████████████████████████████████ | 43110/43632 [24:49<00:20, 25.70it/s]"
     ]
    },
    {
     "name": "stdout",
     "output_type": "stream",
     "text": [
      "Helipad_02792.png has no box\n"
     ]
    },
    {
     "name": "stderr",
     "output_type": "stream",
     "text": [
      " 99%|███████████████████████████████████████████████████████████████████████████▏| 43194/43632 [24:53<00:18, 23.52it/s]"
     ]
    },
    {
     "name": "stdout",
     "output_type": "stream",
     "text": [
      "Helipad_02792.png has no box\n"
     ]
    },
    {
     "name": "stderr",
     "output_type": "stream",
     "text": [
      "\r",
      " 99%|███████████████████████████████████████████████████████████████████████████▏| 43198/43632 [24:53<00:17, 24.75it/s]"
     ]
    },
    {
     "name": "stdout",
     "output_type": "stream",
     "text": [
      "Helipad_02792.png has no box\n"
     ]
    },
    {
     "name": "stderr",
     "output_type": "stream",
     "text": [
      " 99%|███████████████████████████████████████████████████████████████████████████▎| 43258/43632 [24:56<00:16, 23.04it/s]"
     ]
    },
    {
     "name": "stdout",
     "output_type": "stream",
     "text": [
      "Helipad_02792.png has no box\n"
     ]
    },
    {
     "name": "stderr",
     "output_type": "stream",
     "text": [
      " 99%|███████████████████████████████████████████████████████████████████████████▍| 43285/43632 [24:57<00:13, 25.40it/s]"
     ]
    },
    {
     "name": "stdout",
     "output_type": "stream",
     "text": [
      "Helipad_02792.png has no box\n",
      "Helipad_02792.png has no box\n"
     ]
    },
    {
     "name": "stderr",
     "output_type": "stream",
     "text": [
      " 99%|███████████████████████████████████████████████████████████████████████████▌| 43356/43632 [25:00<00:11, 23.06it/s]"
     ]
    },
    {
     "name": "stdout",
     "output_type": "stream",
     "text": [
      "Helipad_02792.png has no box\n"
     ]
    },
    {
     "name": "stderr",
     "output_type": "stream",
     "text": [
      "100%|███████████████████████████████████████████████████████████████████████████▋| 43482/43632 [25:05<00:06, 22.81it/s]"
     ]
    },
    {
     "name": "stdout",
     "output_type": "stream",
     "text": [
      "Helipad_02792.png has no box\n"
     ]
    },
    {
     "name": "stderr",
     "output_type": "stream",
     "text": [
      "\r",
      "100%|███████████████████████████████████████████████████████████████████████████▋| 43487/43632 [25:05<00:05, 26.32it/s]"
     ]
    },
    {
     "name": "stdout",
     "output_type": "stream",
     "text": [
      "Helipad_02792.png has no box\n"
     ]
    },
    {
     "name": "stderr",
     "output_type": "stream",
     "text": [
      "100%|███████████████████████████████████████████████████████████████████████████▊| 43527/43632 [25:07<00:04, 24.49it/s]"
     ]
    },
    {
     "name": "stdout",
     "output_type": "stream",
     "text": [
      "Helipad_02792.png has no box\n"
     ]
    },
    {
     "name": "stderr",
     "output_type": "stream",
     "text": [
      "100%|███████████████████████████████████████████████████████████████████████████▊| 43559/43632 [25:08<00:02, 26.03it/s]"
     ]
    },
    {
     "name": "stdout",
     "output_type": "stream",
     "text": [
      "Helipad_02792.png has no box\n"
     ]
    },
    {
     "name": "stderr",
     "output_type": "stream",
     "text": [
      "100%|████████████████████████████████████████████████████████████████████████████| 43632/43632 [25:12<00:00, 28.86it/s]\n"
     ]
    }
   ],
   "source": [
    "from database_management.Database_augmentation import DatabaseAugmentation\n",
    "\n",
    "input_folder = \"D:\\\\Jonas\\\\Helipad_DataBase\\\\Helipad_DataBase_original\"\n",
    "meta_folder = \"D:\\\\Jonas\\\\Helipad_DataBase_meta\\\\Helipad_DataBase_meta_original\"\n",
    "root_folder = \"D:\\\\Jonas\\\\Helipad_DataBase\"\n",
    "root_folder_meta = \"D:\\\\Jonas\\\\Helipad_DataBase_meta\"\n",
    "\n",
    "version_number = 12\n",
    "\n",
    "balance_dataset = True\n",
    "\n",
    "repartition = [3, 1, 1, 3, 0, 3, 2, 0, 1, 1, 0, 0]\n",
    "\n",
    "database_augmentation = DatabaseAugmentation(input_folder,\n",
    "                                             meta_folder,\n",
    "                                             root_folder,\n",
    "                                             root_folder_meta,\n",
    "                                             balance_dataset=balance_dataset,\n",
    "                                             repartition=repartition,\n",
    "                                             version_number=version_number,\n",
    "                                             display=False)\n",
    "\n",
    "database_augmentation.run()"
   ]
  },
  {
   "cell_type": "code",
   "execution_count": 1,
   "metadata": {},
   "outputs": [
    {
     "name": "stdout",
     "output_type": "stream",
     "text": [
      "Building Target files\n"
     ]
    },
    {
     "name": "stderr",
     "output_type": "stream",
     "text": [
      "  0%|                                                                                | 5/43632 [00:00<16:49, 43.21it/s]"
     ]
    },
    {
     "name": "stdout",
     "output_type": "stream",
     "text": [
      "Categories count : [60, 1616, 447, 142, 214, 63, 207, 113, 141, 89, 143, 29]\n",
      "{'0': 60, '1': 1616, '2': 447, '3': 142, '4': 214, 'd': 63, '9': 207, '5': 113, '6': 141, '7': 89, '8': 143, 'u': 29}\n",
      "Max count : 1616\n",
      "Total count : 3264\n",
      "Duplicating category 0 3 times\n",
      "Duplicating category 1 1 times\n",
      "Duplicating category 2 1 times\n",
      "Duplicating category 3 3 times\n",
      "Duplicating category 4 0 times\n",
      "Duplicating category d 0 times\n",
      "Duplicating category 9 1 times\n",
      "Duplicating category 5 3 times\n",
      "Duplicating category 6 2 times\n",
      "Duplicating category 7 0 times\n",
      "Duplicating category 8 1 times\n",
      "Duplicating category u 0 times\n",
      "Target Files Built\n",
      "Generating 43632 images\n"
     ]
    },
    {
     "name": "stderr",
     "output_type": "stream",
     "text": [
      " 23%|█████████████████▌                                                           | 9953/43632 [04:03<14:40, 38.25it/s]"
     ]
    },
    {
     "name": "stdout",
     "output_type": "stream",
     "text": [
      "Helipad_03396.png has no box\n"
     ]
    },
    {
     "name": "stderr",
     "output_type": "stream",
     "text": [
      " 23%|█████████████████▋                                                          | 10186/43632 [04:09<12:21, 45.09it/s]"
     ]
    },
    {
     "name": "stdout",
     "output_type": "stream",
     "text": [
      "Helipad_03396.png has no box\n"
     ]
    },
    {
     "name": "stderr",
     "output_type": "stream",
     "text": [
      " 24%|██████████████████▍                                                         | 10589/43632 [04:18<12:01, 45.81it/s]"
     ]
    },
    {
     "name": "stdout",
     "output_type": "stream",
     "text": [
      "Helipad_03396.png has no box\n"
     ]
    },
    {
     "name": "stderr",
     "output_type": "stream",
     "text": [
      " 25%|██████████████████▉                                                         | 10902/43632 [04:25<12:21, 44.14it/s]"
     ]
    },
    {
     "name": "stdout",
     "output_type": "stream",
     "text": [
      "Helipad_03396.png has no box\n"
     ]
    },
    {
     "name": "stderr",
     "output_type": "stream",
     "text": [
      " 25%|███████████████████                                                         | 10970/43632 [04:27<12:29, 43.60it/s]"
     ]
    },
    {
     "name": "stdout",
     "output_type": "stream",
     "text": [
      "Helipad_03396.png has no box\n"
     ]
    },
    {
     "name": "stderr",
     "output_type": "stream",
     "text": [
      " 26%|███████████████████▊                                                        | 11410/43632 [04:37<11:37, 46.20it/s]"
     ]
    },
    {
     "name": "stdout",
     "output_type": "stream",
     "text": [
      "Helipad_03396.png has no box\n"
     ]
    },
    {
     "name": "stderr",
     "output_type": "stream",
     "text": [
      " 26%|███████████████████▉                                                        | 11466/43632 [04:38<11:20, 47.29it/s]"
     ]
    },
    {
     "name": "stdout",
     "output_type": "stream",
     "text": [
      "Helipad_03396.png has no box\n"
     ]
    },
    {
     "name": "stderr",
     "output_type": "stream",
     "text": [
      " 26%|████████████████████                                                        | 11537/43632 [04:40<12:12, 43.82it/s]"
     ]
    },
    {
     "name": "stdout",
     "output_type": "stream",
     "text": [
      "Helipad_03396.png has no box\n"
     ]
    },
    {
     "name": "stderr",
     "output_type": "stream",
     "text": [
      " 27%|████████████████████▏                                                       | 11567/43632 [04:41<12:37, 42.31it/s]"
     ]
    },
    {
     "name": "stdout",
     "output_type": "stream",
     "text": [
      "Helipad_03396.png has no box\n"
     ]
    },
    {
     "name": "stderr",
     "output_type": "stream",
     "text": [
      " 29%|█████████████████████▋                                                      | 12465/43632 [05:02<11:57, 43.41it/s]"
     ]
    },
    {
     "name": "stdout",
     "output_type": "stream",
     "text": [
      "Helipad_03396.png has no box\n"
     ]
    },
    {
     "name": "stderr",
     "output_type": "stream",
     "text": [
      " 30%|██████████████████████▍                                                     | 12878/43632 [05:11<11:38, 44.03it/s]"
     ]
    },
    {
     "name": "stdout",
     "output_type": "stream",
     "text": [
      "Helipad_03396.png has no box\n"
     ]
    },
    {
     "name": "stderr",
     "output_type": "stream",
     "text": [
      " 45%|██████████████████████████████████                                          | 19536/43632 [07:47<09:41, 41.43it/s]"
     ]
    },
    {
     "name": "stdout",
     "output_type": "stream",
     "text": [
      "Helipad_03329.png has no box\n"
     ]
    },
    {
     "name": "stderr",
     "output_type": "stream",
     "text": [
      " 45%|██████████████████████████████████▏                                         | 19609/43632 [07:49<09:52, 40.56it/s]"
     ]
    },
    {
     "name": "stdout",
     "output_type": "stream",
     "text": [
      "Helipad_05772.png has no box\n"
     ]
    },
    {
     "name": "stderr",
     "output_type": "stream",
     "text": [
      " 45%|██████████████████████████████████▏                                         | 19639/43632 [07:50<09:10, 43.59it/s]"
     ]
    },
    {
     "name": "stdout",
     "output_type": "stream",
     "text": [
      "Helipad_05772.png has no box\n"
     ]
    },
    {
     "name": "stderr",
     "output_type": "stream",
     "text": [
      " 45%|██████████████████████████████████▎                                         | 19665/43632 [07:50<08:59, 44.40it/s]"
     ]
    },
    {
     "name": "stdout",
     "output_type": "stream",
     "text": [
      "Helipad_03329.png has no box\n"
     ]
    },
    {
     "name": "stderr",
     "output_type": "stream",
     "text": [
      " 45%|██████████████████████████████████▍                                         | 19762/43632 [07:52<08:13, 48.36it/s]"
     ]
    },
    {
     "name": "stdout",
     "output_type": "stream",
     "text": [
      "Helipad_05772.png has no box\n"
     ]
    },
    {
     "name": "stderr",
     "output_type": "stream",
     "text": [
      " 45%|██████████████████████████████████▌                                         | 19815/43632 [07:53<08:28, 46.87it/s]"
     ]
    },
    {
     "name": "stdout",
     "output_type": "stream",
     "text": [
      "Helipad_03329.png has no box\n"
     ]
    },
    {
     "name": "stderr",
     "output_type": "stream",
     "text": [
      " 46%|██████████████████████████████████▌                                         | 19872/43632 [07:55<08:38, 45.82it/s]"
     ]
    },
    {
     "name": "stdout",
     "output_type": "stream",
     "text": [
      "Helipad_03329.png has no box\n"
     ]
    },
    {
     "name": "stderr",
     "output_type": "stream",
     "text": [
      " 46%|██████████████████████████████████▉                                         | 20078/43632 [07:59<08:23, 46.79it/s]"
     ]
    },
    {
     "name": "stdout",
     "output_type": "stream",
     "text": [
      "Helipad_05772.png has no box\n"
     ]
    },
    {
     "name": "stderr",
     "output_type": "stream",
     "text": [
      " 46%|███████████████████████████████████▏                                        | 20186/43632 [08:02<08:29, 45.99it/s]"
     ]
    },
    {
     "name": "stdout",
     "output_type": "stream",
     "text": [
      "Helipad_05772.png has no box\n"
     ]
    },
    {
     "name": "stderr",
     "output_type": "stream",
     "text": [
      " 47%|███████████████████████████████████▋                                        | 20459/43632 [08:08<08:31, 45.30it/s]"
     ]
    },
    {
     "name": "stdout",
     "output_type": "stream",
     "text": [
      "Helipad_03329.png has no box\n"
     ]
    },
    {
     "name": "stderr",
     "output_type": "stream",
     "text": [
      " 47%|███████████████████████████████████▉                                        | 20612/43632 [08:11<08:29, 45.14it/s]"
     ]
    },
    {
     "name": "stdout",
     "output_type": "stream",
     "text": [
      "Helipad_05772.png has no box\n"
     ]
    },
    {
     "name": "stderr",
     "output_type": "stream",
     "text": [
      " 48%|████████████████████████████████████                                        | 20738/43632 [08:14<08:12, 46.48it/s]"
     ]
    },
    {
     "name": "stdout",
     "output_type": "stream",
     "text": [
      "Helipad_05772.png has no box\n"
     ]
    },
    {
     "name": "stderr",
     "output_type": "stream",
     "text": [
      " 48%|████████████████████████████████████▏                                       | 20769/43632 [08:15<08:31, 44.70it/s]"
     ]
    },
    {
     "name": "stdout",
     "output_type": "stream",
     "text": [
      "Helipad_05772.png has no box\n"
     ]
    },
    {
     "name": "stderr",
     "output_type": "stream",
     "text": [
      " 59%|█████████████████████████████████████████████▏                              | 25930/43632 [10:14<06:52, 42.94it/s]"
     ]
    },
    {
     "name": "stdout",
     "output_type": "stream",
     "text": [
      "Helipad_03391.png has no box\n"
     ]
    },
    {
     "name": "stderr",
     "output_type": "stream",
     "text": [
      " 60%|█████████████████████████████████████████████▍                              | 26081/43632 [10:17<06:37, 44.14it/s]"
     ]
    },
    {
     "name": "stdout",
     "output_type": "stream",
     "text": [
      "Helipad_03391.png has no box\n"
     ]
    },
    {
     "name": "stderr",
     "output_type": "stream",
     "text": [
      " 60%|█████████████████████████████████████████████▊                              | 26292/43632 [10:22<06:23, 45.25it/s]"
     ]
    },
    {
     "name": "stdout",
     "output_type": "stream",
     "text": [
      "Helipad_03391.png has no box\n"
     ]
    },
    {
     "name": "stderr",
     "output_type": "stream",
     "text": [
      " 61%|██████████████████████████████████████████████▏                             | 26497/43632 [10:26<06:18, 45.23it/s]"
     ]
    },
    {
     "name": "stdout",
     "output_type": "stream",
     "text": [
      "Helipad_03391.png has no box\n"
     ]
    },
    {
     "name": "stderr",
     "output_type": "stream",
     "text": [
      " 61%|██████████████████████████████████████████████▏                             | 26523/43632 [10:27<05:55, 48.10it/s]"
     ]
    },
    {
     "name": "stdout",
     "output_type": "stream",
     "text": [
      "Helipad_03391.png has no box\n"
     ]
    },
    {
     "name": "stderr",
     "output_type": "stream",
     "text": [
      " 61%|██████████████████████████████████████████████▍                             | 26628/43632 [10:29<06:31, 43.42it/s]"
     ]
    },
    {
     "name": "stdout",
     "output_type": "stream",
     "text": [
      "Helipad_03391.png has no box\n"
     ]
    },
    {
     "name": "stderr",
     "output_type": "stream",
     "text": [
      " 61%|██████████████████████████████████████████████▌                             | 26767/43632 [10:32<05:55, 47.48it/s]"
     ]
    },
    {
     "name": "stdout",
     "output_type": "stream",
     "text": [
      "Helipad_03391.png has no box\n",
      "Helipad_03391.png has no box\n"
     ]
    },
    {
     "name": "stderr",
     "output_type": "stream",
     "text": [
      " 62%|██████████████████████████████████████████████▊                             | 26864/43632 [10:34<06:08, 45.47it/s]"
     ]
    },
    {
     "name": "stdout",
     "output_type": "stream",
     "text": [
      "Helipad_03391.png has no box\n"
     ]
    },
    {
     "name": "stderr",
     "output_type": "stream",
     "text": [
      " 62%|██████████████████████████████████████████████▉                             | 26937/43632 [10:36<06:06, 45.60it/s]"
     ]
    },
    {
     "name": "stdout",
     "output_type": "stream",
     "text": [
      "Helipad_03391.png has no box\n"
     ]
    },
    {
     "name": "stderr",
     "output_type": "stream",
     "text": [
      " 62%|██████████████████████████████████████████████▉                             | 26969/43632 [10:37<05:48, 47.85it/s]"
     ]
    },
    {
     "name": "stdout",
     "output_type": "stream",
     "text": [
      "Helipad_03391.png has no box\n"
     ]
    },
    {
     "name": "stderr",
     "output_type": "stream",
     "text": [
      " 62%|███████████████████████████████████████████████                             | 27040/43632 [10:38<05:49, 47.53it/s]"
     ]
    },
    {
     "name": "stdout",
     "output_type": "stream",
     "text": [
      "Helipad_03391.png has no box\n"
     ]
    },
    {
     "name": "stderr",
     "output_type": "stream",
     "text": [
      " 62%|███████████████████████████████████████████████▏                            | 27061/43632 [10:39<05:42, 48.38it/s]"
     ]
    },
    {
     "name": "stdout",
     "output_type": "stream",
     "text": [
      "Helipad_03391.png has no box\n"
     ]
    },
    {
     "name": "stderr",
     "output_type": "stream",
     "text": [
      " 63%|███████████████████████████████████████████████▋                            | 27408/43632 [10:47<06:03, 44.59it/s]"
     ]
    },
    {
     "name": "stdout",
     "output_type": "stream",
     "text": [
      "Helipad_03391.png has no box\n"
     ]
    },
    {
     "name": "stderr",
     "output_type": "stream",
     "text": [
      " 63%|███████████████████████████████████████████████▊                            | 27449/43632 [10:48<06:14, 43.25it/s]"
     ]
    },
    {
     "name": "stdout",
     "output_type": "stream",
     "text": [
      "Helipad_03391.png has no box\n"
     ]
    },
    {
     "name": "stderr",
     "output_type": "stream",
     "text": [
      " 63%|████████████████████████████████████████████████▏                           | 27643/43632 [10:52<05:51, 45.49it/s]"
     ]
    },
    {
     "name": "stdout",
     "output_type": "stream",
     "text": [
      "Helipad_03391.png has no box\n"
     ]
    },
    {
     "name": "stderr",
     "output_type": "stream",
     "text": [
      " 63%|████████████████████████████████████████████████▏                           | 27675/43632 [10:53<05:57, 44.61it/s]"
     ]
    },
    {
     "name": "stdout",
     "output_type": "stream",
     "text": [
      "Helipad_03391.png has no box\n"
     ]
    },
    {
     "name": "stderr",
     "output_type": "stream",
     "text": [
      " 63%|████████████████████████████████████████████████▏                           | 27691/43632 [10:53<05:35, 47.45it/s]"
     ]
    },
    {
     "name": "stdout",
     "output_type": "stream",
     "text": [
      "Helipad_03391.png has no box\n"
     ]
    },
    {
     "name": "stderr",
     "output_type": "stream",
     "text": [
      " 64%|████████████████████████████████████████████████▎                           | 27741/43632 [10:55<06:13, 42.55it/s]"
     ]
    },
    {
     "name": "stdout",
     "output_type": "stream",
     "text": [
      "Helipad_03391.png has no box\n"
     ]
    },
    {
     "name": "stderr",
     "output_type": "stream",
     "text": [
      " 64%|████████████████████████████████████████████████▍                           | 27787/43632 [10:56<05:56, 44.46it/s]"
     ]
    },
    {
     "name": "stdout",
     "output_type": "stream",
     "text": [
      "Helipad_03391.png has no box\n"
     ]
    },
    {
     "name": "stderr",
     "output_type": "stream",
     "text": [
      " 64%|████████████████████████████████████████████████▊                           | 28022/43632 [11:01<05:42, 45.58it/s]"
     ]
    },
    {
     "name": "stdout",
     "output_type": "stream",
     "text": [
      "Helipad_03391.png has no box\n"
     ]
    },
    {
     "name": "stderr",
     "output_type": "stream",
     "text": [
      " 65%|█████████████████████████████████████████████████▎                          | 28298/43632 [11:07<05:59, 42.69it/s]"
     ]
    },
    {
     "name": "stdout",
     "output_type": "stream",
     "text": [
      "Helipad_03391.png has no box\n"
     ]
    },
    {
     "name": "stderr",
     "output_type": "stream",
     "text": [
      " 65%|█████████████████████████████████████████████████▍                          | 28409/43632 [11:10<05:34, 45.53it/s]"
     ]
    },
    {
     "name": "stdout",
     "output_type": "stream",
     "text": [
      "Helipad_03391.png has no box\n"
     ]
    },
    {
     "name": "stderr",
     "output_type": "stream",
     "text": [
      " 66%|█████████████████████████████████████████████████▊                          | 28605/43632 [11:14<05:15, 47.64it/s]"
     ]
    },
    {
     "name": "stdout",
     "output_type": "stream",
     "text": [
      "Helipad_03391.png has no box\n"
     ]
    },
    {
     "name": "stderr",
     "output_type": "stream",
     "text": [
      " 66%|██████████████████████████████████████████████████                          | 28735/43632 [11:17<05:28, 45.39it/s]"
     ]
    },
    {
     "name": "stdout",
     "output_type": "stream",
     "text": [
      "Helipad_03391.png has no box\n"
     ]
    },
    {
     "name": "stderr",
     "output_type": "stream",
     "text": [
      " 66%|██████████████████████████████████████████████████▏                         | 28812/43632 [11:19<05:16, 46.88it/s]"
     ]
    },
    {
     "name": "stdout",
     "output_type": "stream",
     "text": [
      "Helipad_03391.png has no box\n"
     ]
    },
    {
     "name": "stderr",
     "output_type": "stream",
     "text": [
      " 66%|██████████████████████████████████████████████████▍                         | 28975/43632 [11:23<05:18, 46.08it/s]"
     ]
    },
    {
     "name": "stdout",
     "output_type": "stream",
     "text": [
      "Helipad_03391.png has no box\n",
      "Helipad_03391.png has no box\n"
     ]
    },
    {
     "name": "stderr",
     "output_type": "stream",
     "text": [
      " 67%|██████████████████████████████████████████████████▌                         | 29031/43632 [11:24<05:43, 42.56it/s]"
     ]
    },
    {
     "name": "stdout",
     "output_type": "stream",
     "text": [
      "Helipad_03391.png has no box\n"
     ]
    },
    {
     "name": "stderr",
     "output_type": "stream",
     "text": [
      " 67%|██████████████████████████████████████████████████▌                         | 29042/43632 [11:24<05:20, 45.55it/s]"
     ]
    },
    {
     "name": "stdout",
     "output_type": "stream",
     "text": [
      "Helipad_03391.png has no box\n"
     ]
    },
    {
     "name": "stderr",
     "output_type": "stream",
     "text": [
      " 67%|██████████████████████████████████████████████████▋                         | 29099/43632 [11:26<05:01, 48.19it/s]"
     ]
    },
    {
     "name": "stdout",
     "output_type": "stream",
     "text": [
      "Helipad_03391.png has no box\n",
      "Helipad_03391.png has no box\n"
     ]
    },
    {
     "name": "stderr",
     "output_type": "stream",
     "text": [
      " 67%|██████████████████████████████████████████████████▊                         | 29180/43632 [11:28<05:41, 42.32it/s]"
     ]
    },
    {
     "name": "stdout",
     "output_type": "stream",
     "text": [
      "Helipad_03391.png has no box\n"
     ]
    },
    {
     "name": "stderr",
     "output_type": "stream",
     "text": [
      " 67%|███████████████████████████████████████████████████                         | 29282/43632 [11:30<05:20, 44.78it/s]"
     ]
    },
    {
     "name": "stdout",
     "output_type": "stream",
     "text": [
      "Helipad_03391.png has no box\n"
     ]
    },
    {
     "name": "stderr",
     "output_type": "stream",
     "text": [
      " 68%|███████████████████████████████████████████████████▎                        | 29472/43632 [11:34<05:21, 44.04it/s]"
     ]
    },
    {
     "name": "stdout",
     "output_type": "stream",
     "text": [
      "Helipad_03391.png has no box\n"
     ]
    },
    {
     "name": "stderr",
     "output_type": "stream",
     "text": [
      " 68%|███████████████████████████████████████████████████▍                        | 29559/43632 [11:36<05:04, 46.26it/s]"
     ]
    },
    {
     "name": "stdout",
     "output_type": "stream",
     "text": [
      "Helipad_03391.png has no box\n"
     ]
    },
    {
     "name": "stderr",
     "output_type": "stream",
     "text": [
      " 68%|███████████████████████████████████████████████████▌                        | 29590/43632 [11:37<05:03, 46.33it/s]"
     ]
    },
    {
     "name": "stdout",
     "output_type": "stream",
     "text": [
      "Helipad_03391.png has no box\n"
     ]
    },
    {
     "name": "stderr",
     "output_type": "stream",
     "text": [
      " 68%|███████████████████████████████████████████████████▊                        | 29775/43632 [11:42<05:16, 43.72it/s]"
     ]
    },
    {
     "name": "stdout",
     "output_type": "stream",
     "text": [
      "Helipad_03391.png has no box\n"
     ]
    },
    {
     "name": "stderr",
     "output_type": "stream",
     "text": [
      " 69%|████████████████████████████████████████████████████▏                       | 29952/43632 [11:46<04:47, 47.57it/s]"
     ]
    },
    {
     "name": "stdout",
     "output_type": "stream",
     "text": [
      "Helipad_03391.png has no box\n",
      "Helipad_03391.png has no box\n"
     ]
    },
    {
     "name": "stderr",
     "output_type": "stream",
     "text": [
      " 69%|████████████████████████████████████████████████████▌                       | 30166/43632 [11:51<05:34, 40.32it/s]"
     ]
    },
    {
     "name": "stdout",
     "output_type": "stream",
     "text": [
      "Helipad_03391.png has no box\n"
     ]
    },
    {
     "name": "stderr",
     "output_type": "stream",
     "text": [
      " 69%|████████████████████████████████████████████████████▌                       | 30212/43632 [11:52<05:12, 42.91it/s]"
     ]
    },
    {
     "name": "stdout",
     "output_type": "stream",
     "text": [
      "Helipad_03391.png has no box\n"
     ]
    },
    {
     "name": "stderr",
     "output_type": "stream",
     "text": [
      " 70%|████████████████████████████████████████████████████▉                       | 30367/43632 [11:55<04:44, 46.67it/s]"
     ]
    },
    {
     "name": "stdout",
     "output_type": "stream",
     "text": [
      "Helipad_03391.png has no box\n"
     ]
    },
    {
     "name": "stderr",
     "output_type": "stream",
     "text": [
      " 70%|█████████████████████████████████████████████████████                       | 30493/43632 [11:58<05:08, 42.55it/s]"
     ]
    },
    {
     "name": "stdout",
     "output_type": "stream",
     "text": [
      "Helipad_03391.png has no box\n"
     ]
    },
    {
     "name": "stderr",
     "output_type": "stream",
     "text": [
      " 70%|█████████████████████████████████████████████████████▍                      | 30668/43632 [12:03<05:27, 39.57it/s]"
     ]
    },
    {
     "name": "stdout",
     "output_type": "stream",
     "text": [
      "Helipad_03391.png has no box\n"
     ]
    },
    {
     "name": "stderr",
     "output_type": "stream",
     "text": [
      " 71%|█████████████████████████████████████████████████████▊                      | 30890/43632 [12:08<04:39, 45.52it/s]"
     ]
    },
    {
     "name": "stdout",
     "output_type": "stream",
     "text": [
      "Helipad_03391.png has no box\n"
     ]
    },
    {
     "name": "stderr",
     "output_type": "stream",
     "text": [
      " 71%|██████████████████████████████████████████████████████▏                     | 31100/43632 [12:13<04:50, 43.15it/s]"
     ]
    },
    {
     "name": "stdout",
     "output_type": "stream",
     "text": [
      "Helipad_03391.png has no box\n"
     ]
    },
    {
     "name": "stderr",
     "output_type": "stream",
     "text": [
      " 72%|██████████████████████████████████████████████████████▌                     | 31289/43632 [12:17<04:52, 42.16it/s]"
     ]
    },
    {
     "name": "stdout",
     "output_type": "stream",
     "text": [
      "Helipad_03391.png has no box\n"
     ]
    },
    {
     "name": "stderr",
     "output_type": "stream",
     "text": [
      " 72%|██████████████████████████████████████████████████████▌                     | 31309/43632 [12:18<04:42, 43.66it/s]"
     ]
    },
    {
     "name": "stdout",
     "output_type": "stream",
     "text": [
      "Helipad_03391.png has no box\n",
      "Helipad_03391.png has no box\n",
      "Helipad_03391.png has no box\n"
     ]
    },
    {
     "name": "stderr",
     "output_type": "stream",
     "text": [
      " 72%|██████████████████████████████████████████████████████▊                     | 31475/43632 [12:22<04:40, 43.32it/s]"
     ]
    },
    {
     "name": "stdout",
     "output_type": "stream",
     "text": [
      "Helipad_03391.png has no box\n"
     ]
    },
    {
     "name": "stderr",
     "output_type": "stream",
     "text": [
      " 73%|███████████████████████████████████████████████████████▎                    | 31729/43632 [12:28<04:34, 43.30it/s]"
     ]
    },
    {
     "name": "stdout",
     "output_type": "stream",
     "text": [
      "Helipad_03391.png has no box\n",
      "Helipad_03391.png has no box\n"
     ]
    },
    {
     "name": "stderr",
     "output_type": "stream",
     "text": [
      " 74%|████████████████████████████████████████████████████████                    | 32201/43632 [12:39<04:17, 44.35it/s]"
     ]
    },
    {
     "name": "stdout",
     "output_type": "stream",
     "text": [
      "Helipad_03391.png has no box\n"
     ]
    },
    {
     "name": "stderr",
     "output_type": "stream",
     "text": [
      " 96%|█████████████████████████████████████████████████████████████████████████▏  | 42047/43632 [16:29<00:37, 42.42it/s]"
     ]
    },
    {
     "name": "stdout",
     "output_type": "stream",
     "text": [
      "Helipad_02792.png has no box\n"
     ]
    },
    {
     "name": "stderr",
     "output_type": "stream",
     "text": [
      " 96%|█████████████████████████████████████████████████████████████████████████▎  | 42067/43632 [16:29<00:34, 45.89it/s]"
     ]
    },
    {
     "name": "stdout",
     "output_type": "stream",
     "text": [
      "Helipad_02792.png has no box\n"
     ]
    },
    {
     "name": "stderr",
     "output_type": "stream",
     "text": [
      " 96%|█████████████████████████████████████████████████████████████████████████▎  | 42084/43632 [16:29<00:32, 47.98it/s]"
     ]
    },
    {
     "name": "stdout",
     "output_type": "stream",
     "text": [
      "Helipad_02792.png has no box\n",
      "Helipad_02792.png has no box\n"
     ]
    },
    {
     "name": "stderr",
     "output_type": "stream",
     "text": [
      " 97%|█████████████████████████████████████████████████████████████████████████▍  | 42141/43632 [16:31<00:33, 44.13it/s]"
     ]
    },
    {
     "name": "stdout",
     "output_type": "stream",
     "text": [
      "Helipad_02792.png has no box\n"
     ]
    },
    {
     "name": "stderr",
     "output_type": "stream",
     "text": [
      " 97%|█████████████████████████████████████████████████████████████████████████▍  | 42179/43632 [16:32<00:29, 48.73it/s]"
     ]
    },
    {
     "name": "stdout",
     "output_type": "stream",
     "text": [
      "Helipad_02792.png has no box\n",
      "Helipad_02792.png has no box\n"
     ]
    },
    {
     "name": "stderr",
     "output_type": "stream",
     "text": [
      " 97%|█████████████████████████████████████████████████████████████████████████▌  | 42256/43632 [16:33<00:29, 46.17it/s]"
     ]
    },
    {
     "name": "stdout",
     "output_type": "stream",
     "text": [
      "Helipad_02792.png has no box\n"
     ]
    },
    {
     "name": "stderr",
     "output_type": "stream",
     "text": [
      " 97%|█████████████████████████████████████████████████████████████████████████▋  | 42293/43632 [16:34<00:28, 47.25it/s]"
     ]
    },
    {
     "name": "stdout",
     "output_type": "stream",
     "text": [
      "Helipad_02792.png has no box\n",
      "Helipad_02792.png has no box\n"
     ]
    },
    {
     "name": "stderr",
     "output_type": "stream",
     "text": [
      " 97%|█████████████████████████████████████████████████████████████████████████▋  | 42319/43632 [16:35<00:28, 46.82it/s]"
     ]
    },
    {
     "name": "stdout",
     "output_type": "stream",
     "text": [
      "Helipad_02792.png has no box\n",
      "Helipad_02792.png has no box\n"
     ]
    },
    {
     "name": "stderr",
     "output_type": "stream",
     "text": [
      " 97%|█████████████████████████████████████████████████████████████████████████▋  | 42337/43632 [16:35<00:26, 49.60it/s]"
     ]
    },
    {
     "name": "stdout",
     "output_type": "stream",
     "text": [
      "Helipad_02792.png has no box\n",
      "Helipad_02792.png has no box\n",
      "Helipad_02792.png has no box\n"
     ]
    },
    {
     "name": "stderr",
     "output_type": "stream",
     "text": [
      " 97%|█████████████████████████████████████████████████████████████████████████▊  | 42361/43632 [16:36<00:25, 50.59it/s]"
     ]
    },
    {
     "name": "stdout",
     "output_type": "stream",
     "text": [
      "Helipad_02792.png has no box\n",
      "Helipad_02792.png has no box\n",
      "Helipad_02792.png has no box\n"
     ]
    },
    {
     "name": "stderr",
     "output_type": "stream",
     "text": [
      " 97%|█████████████████████████████████████████████████████████████████████████▊  | 42395/43632 [16:36<00:26, 46.88it/s]"
     ]
    },
    {
     "name": "stdout",
     "output_type": "stream",
     "text": [
      "Helipad_02792.png has no box\n"
     ]
    },
    {
     "name": "stderr",
     "output_type": "stream",
     "text": [
      " 97%|█████████████████████████████████████████████████████████████████████████▉  | 42456/43632 [16:38<00:26, 43.96it/s]"
     ]
    },
    {
     "name": "stdout",
     "output_type": "stream",
     "text": [
      "Helipad_02792.png has no box\n"
     ]
    },
    {
     "name": "stderr",
     "output_type": "stream",
     "text": [
      " 98%|██████████████████████████████████████████████████████████████████████████▏ | 42606/43632 [16:41<00:24, 41.18it/s]"
     ]
    },
    {
     "name": "stdout",
     "output_type": "stream",
     "text": [
      "Helipad_02792.png has no box\n"
     ]
    },
    {
     "name": "stderr",
     "output_type": "stream",
     "text": [
      " 98%|██████████████████████████████████████████████████████████████████████████▎ | 42675/43632 [16:43<00:21, 44.37it/s]"
     ]
    },
    {
     "name": "stdout",
     "output_type": "stream",
     "text": [
      "Helipad_02792.png has no box\n"
     ]
    },
    {
     "name": "stderr",
     "output_type": "stream",
     "text": [
      " 98%|██████████████████████████████████████████████████████████████████████████▎ | 42686/43632 [16:43<00:20, 47.07it/s]"
     ]
    },
    {
     "name": "stdout",
     "output_type": "stream",
     "text": [
      "Helipad_02792.png has no box\n"
     ]
    },
    {
     "name": "stderr",
     "output_type": "stream",
     "text": [
      " 98%|██████████████████████████████████████████████████████████████████████████▍ | 42727/43632 [16:44<00:19, 46.57it/s]"
     ]
    },
    {
     "name": "stdout",
     "output_type": "stream",
     "text": [
      "Helipad_02792.png has no box\n"
     ]
    },
    {
     "name": "stderr",
     "output_type": "stream",
     "text": [
      " 98%|██████████████████████████████████████████████████████████████████████████▌ | 42838/43632 [16:47<00:19, 40.52it/s]"
     ]
    },
    {
     "name": "stdout",
     "output_type": "stream",
     "text": [
      "Helipad_02792.png has no box\n",
      "Helipad_02792.png has no box\n"
     ]
    },
    {
     "name": "stderr",
     "output_type": "stream",
     "text": [
      " 98%|██████████████████████████████████████████████████████████████████████████▋ | 42873/43632 [16:48<00:17, 43.11it/s]"
     ]
    },
    {
     "name": "stdout",
     "output_type": "stream",
     "text": [
      "Helipad_02792.png has no box\n"
     ]
    },
    {
     "name": "stderr",
     "output_type": "stream",
     "text": [
      " 98%|██████████████████████████████████████████████████████████████████████████▋ | 42909/43632 [16:48<00:17, 41.89it/s]"
     ]
    },
    {
     "name": "stdout",
     "output_type": "stream",
     "text": [
      "Helipad_02792.png has no box\n"
     ]
    },
    {
     "name": "stderr",
     "output_type": "stream",
     "text": [
      " 98%|██████████████████████████████████████████████████████████████████████████▊ | 42930/43632 [16:49<00:17, 40.13it/s]"
     ]
    },
    {
     "name": "stdout",
     "output_type": "stream",
     "text": [
      "Helipad_02792.png has no box\n",
      "Helipad_02792.png has no box\n"
     ]
    },
    {
     "name": "stderr",
     "output_type": "stream",
     "text": [
      " 98%|██████████████████████████████████████████████████████████████████████████▊ | 42972/43632 [16:50<00:14, 45.65it/s]"
     ]
    },
    {
     "name": "stdout",
     "output_type": "stream",
     "text": [
      "Helipad_02792.png has no box\n"
     ]
    },
    {
     "name": "stderr",
     "output_type": "stream",
     "text": [
      " 99%|██████████████████████████████████████████████████████████████████████████▉ | 42997/43632 [16:51<00:14, 43.49it/s]"
     ]
    },
    {
     "name": "stdout",
     "output_type": "stream",
     "text": [
      "Helipad_02792.png has no box\n"
     ]
    },
    {
     "name": "stderr",
     "output_type": "stream",
     "text": [
      " 99%|███████████████████████████████████████████████████████████████████████████ | 43068/43632 [16:52<00:13, 40.54it/s]"
     ]
    },
    {
     "name": "stdout",
     "output_type": "stream",
     "text": [
      "Helipad_02792.png has no box\n"
     ]
    },
    {
     "name": "stderr",
     "output_type": "stream",
     "text": [
      " 99%|███████████████████████████████████████████████████████████████████████████ | 43089/43632 [16:53<00:12, 43.31it/s]"
     ]
    },
    {
     "name": "stdout",
     "output_type": "stream",
     "text": [
      "Helipad_02792.png has no box\n",
      "Helipad_02792.png has no box\n"
     ]
    },
    {
     "name": "stderr",
     "output_type": "stream",
     "text": [
      " 99%|███████████████████████████████████████████████████████████████████████████▏| 43135/43632 [16:54<00:11, 43.40it/s]"
     ]
    },
    {
     "name": "stdout",
     "output_type": "stream",
     "text": [
      "Helipad_02792.png has no box\n"
     ]
    },
    {
     "name": "stderr",
     "output_type": "stream",
     "text": [
      " 99%|███████████████████████████████████████████████████████████████████████████▏| 43160/43632 [16:54<00:10, 44.76it/s]"
     ]
    },
    {
     "name": "stdout",
     "output_type": "stream",
     "text": [
      "Helipad_02792.png has no box\n"
     ]
    },
    {
     "name": "stderr",
     "output_type": "stream",
     "text": [
      " 99%|███████████████████████████████████████████████████████████████████████████▏| 43176/43632 [16:55<00:09, 46.36it/s]"
     ]
    },
    {
     "name": "stdout",
     "output_type": "stream",
     "text": [
      "Helipad_02792.png has no box\n"
     ]
    },
    {
     "name": "stderr",
     "output_type": "stream",
     "text": [
      " 99%|███████████████████████████████████████████████████████████████████████████▎| 43259/43632 [16:57<00:07, 50.68it/s]"
     ]
    },
    {
     "name": "stdout",
     "output_type": "stream",
     "text": [
      "Helipad_02792.png has no box\n",
      "Helipad_02792.png has no box\n",
      "Helipad_02792.png has no box\n",
      "Helipad_02792.png has no box\n",
      "Helipad_02792.png has no box\n",
      "Helipad_02792.png has no box\n"
     ]
    },
    {
     "name": "stderr",
     "output_type": "stream",
     "text": [
      " 99%|███████████████████████████████████████████████████████████████████████████▎| 43271/43632 [16:57<00:07, 51.47it/s]"
     ]
    },
    {
     "name": "stdout",
     "output_type": "stream",
     "text": [
      "Helipad_02792.png has no box\n"
     ]
    },
    {
     "name": "stderr",
     "output_type": "stream",
     "text": [
      " 99%|███████████████████████████████████████████████████████████████████████████▍| 43319/43632 [16:58<00:06, 46.71it/s]"
     ]
    },
    {
     "name": "stdout",
     "output_type": "stream",
     "text": [
      "Helipad_02792.png has no box\n",
      "Helipad_02792.png has no box\n"
     ]
    },
    {
     "name": "stderr",
     "output_type": "stream",
     "text": [
      " 99%|███████████████████████████████████████████████████████████████████████████▍| 43330/43632 [16:58<00:06, 45.60it/s]"
     ]
    },
    {
     "name": "stdout",
     "output_type": "stream",
     "text": [
      "Helipad_02792.png has no box\n"
     ]
    },
    {
     "name": "stderr",
     "output_type": "stream",
     "text": [
      " 99%|███████████████████████████████████████████████████████████████████████████▌| 43346/43632 [16:59<00:06, 44.28it/s]"
     ]
    },
    {
     "name": "stdout",
     "output_type": "stream",
     "text": [
      "Helipad_02792.png has no box\n"
     ]
    },
    {
     "name": "stderr",
     "output_type": "stream",
     "text": [
      " 99%|███████████████████████████████████████████████████████████████████████████▌| 43357/43632 [16:59<00:05, 46.43it/s]"
     ]
    },
    {
     "name": "stdout",
     "output_type": "stream",
     "text": [
      "Helipad_02792.png has no box\n"
     ]
    },
    {
     "name": "stderr",
     "output_type": "stream",
     "text": [
      " 99%|███████████████████████████████████████████████████████████████████████████▌| 43387/43632 [17:00<00:05, 42.77it/s]"
     ]
    },
    {
     "name": "stdout",
     "output_type": "stream",
     "text": [
      "Helipad_02792.png has no box\n"
     ]
    },
    {
     "name": "stderr",
     "output_type": "stream",
     "text": [
      "100%|███████████████████████████████████████████████████████████████████████████▋| 43479/43632 [17:02<00:03, 43.67it/s]"
     ]
    },
    {
     "name": "stdout",
     "output_type": "stream",
     "text": [
      "Helipad_02792.png has no box\n",
      "Helipad_02792.png has no box\n"
     ]
    },
    {
     "name": "stderr",
     "output_type": "stream",
     "text": [
      "100%|███████████████████████████████████████████████████████████████████████████▊| 43496/43632 [17:02<00:03, 44.93it/s]"
     ]
    },
    {
     "name": "stdout",
     "output_type": "stream",
     "text": [
      "Helipad_02792.png has no box\n"
     ]
    },
    {
     "name": "stderr",
     "output_type": "stream",
     "text": [
      "100%|███████████████████████████████████████████████████████████████████████████▊| 43512/43632 [17:02<00:02, 44.64it/s]"
     ]
    },
    {
     "name": "stdout",
     "output_type": "stream",
     "text": [
      "Helipad_02792.png has no box\n"
     ]
    },
    {
     "name": "stderr",
     "output_type": "stream",
     "text": [
      "100%|███████████████████████████████████████████████████████████████████████████▊| 43542/43632 [17:03<00:02, 43.29it/s]"
     ]
    },
    {
     "name": "stdout",
     "output_type": "stream",
     "text": [
      "Helipad_02792.png has no box\n"
     ]
    },
    {
     "name": "stderr",
     "output_type": "stream",
     "text": [
      "\r",
      "100%|███████████████████████████████████████████████████████████████████████████▊| 43548/43632 [17:03<00:01, 45.97it/s]"
     ]
    },
    {
     "name": "stdout",
     "output_type": "stream",
     "text": [
      "Helipad_02792.png has no box\n"
     ]
    },
    {
     "name": "stderr",
     "output_type": "stream",
     "text": [
      "100%|███████████████████████████████████████████████████████████████████████████▉| 43591/43632 [17:04<00:00, 45.71it/s]"
     ]
    },
    {
     "name": "stdout",
     "output_type": "stream",
     "text": [
      "Helipad_02792.png has no box\n",
      "Helipad_02792.png has no box\n"
     ]
    },
    {
     "name": "stderr",
     "output_type": "stream",
     "text": [
      "100%|███████████████████████████████████████████████████████████████████████████▉| 43621/43632 [17:05<00:00, 43.93it/s]"
     ]
    },
    {
     "name": "stdout",
     "output_type": "stream",
     "text": [
      "Helipad_02792.png has no box\n"
     ]
    },
    {
     "name": "stderr",
     "output_type": "stream",
     "text": [
      "100%|████████████████████████████████████████████████████████████████████████████| 43632/43632 [17:05<00:00, 42.54it/s]\n"
     ]
    }
   ],
   "source": [
    "from imgaug import augmenters as iaa\n",
    "from database_management.database_augmentation_v2 import DatabaseAugmentationV2\n",
    "\n",
    "input_folder = \"D:\\\\Jonas\\\\Helipad_DataBase\\\\Helipad_DataBase_original\"\n",
    "meta_folder = \"D:\\\\Jonas\\\\Helipad_DataBase_meta\\\\Helipad_DataBase_meta_original\"\n",
    "root_folder = \"D:\\\\Jonas\\\\Helipad_DataBase\"\n",
    "root_folder_meta = \"D:\\\\Jonas\\\\Helipad_DataBase_meta\"\n",
    "\n",
    "augmentation_strategy = iaa.Sequential([\n",
    "                            iaa.Sometimes(0.2, iaa.Fliplr(1)),\n",
    "                            iaa.Sometimes(0.2, iaa.Flipud(1)),\n",
    "                            iaa.Sometimes(0.2, iaa.Rotate((-90, 90))),\n",
    "                            iaa.Sometimes(0.2, iaa.Affine(scale=(0.5, 1.5))),\n",
    "                            iaa.Sometimes(0.2, iaa.GaussianBlur(sigma=(0.0, 3.0))),\n",
    "                            iaa.Sometimes(0.15, iaa.AllChannelsHistogramEqualization()),\n",
    "                            iaa.Sometimes(0.2, iaa.ShearX((-20, 20))),\n",
    "                            iaa.Sometimes(0.2, iaa.ShearY((-20, 20))),\n",
    "                            iaa.Sometimes(0.15, iaa.pillike.EnhanceSharpness()),\n",
    "                            iaa.Sometimes(0.15, iaa.pillike.EnhanceBrightness())\n",
    "                            ])\n",
    "\n",
    "version_number = 11\n",
    "\n",
    "balance_dataset = True\n",
    "\n",
    "repartition = [3, 1, 1, 3, 0, 3, 2, 0, 1, 1, 0, 0]\n",
    "\n",
    "database_augmentation = DatabaseAugmentationV2(input_folder,\n",
    "                                             meta_folder,\n",
    "                                             root_folder,\n",
    "                                             root_folder_meta,\n",
    "                                             augmentation_strategy=augmentation_strategy,\n",
    "                                             version_number=version_number,\n",
    "                                             balance_dataset=balance_dataset,\n",
    "                                             repartition=repartition)\n",
    "\n",
    "database_augmentation.run()\n"
   ]
  },
  {
   "cell_type": "markdown",
   "metadata": {},
   "source": [
    "# Run Training"
   ]
  },
  {
   "cell_type": "code",
   "execution_count": null,
   "metadata": {},
   "outputs": [],
   "source": [
    "sys.path.append('training')\n",
    "from training.run_training import RunTraining\n",
    "\n",
    "root_folder = \"../../Helipad/Helipad_DataBase\"\n",
    "root_meta_folder = \"../../Helipad/Helipad_DataBase_meta\"\n",
    "model_folder = \"../../Helipad/model\"\n",
    "include_augmented = True\n",
    "augmented_version = [10]\n",
    "\n",
    "train_categories = [\"1\", \"2\", \"3\", \"5\", \"6\", \"8\", \"9\"]\n",
    "test_categories = [\"4\", \"7\", \"d\", \"u\"]\n",
    "\n",
    "weights_filename = 'helipad_cfg_10_no47du_all20200420T0127/mask_rcnn_helipad_cfg_10_no47du_all_0538.h5'\n",
    "base_weights = 'mask_rcnn_coco.h5'\n",
    "\n",
    "predict_weights_filepath = 'helipad_cfg_7_aug123_all20200106T2012/mask_rcnn_helipad_cfg_7_aug123_all_0472.h5'\n",
    "\n",
    "run_training = RunTraining(root_folder,\n",
    "                           root_meta_folder,\n",
    "                           model_folder,\n",
    "                           weights_filename,\n",
    "                           include_augmented=include_augmented,\n",
    "                           augmented_version=augmented_version,\n",
    "                           predict_weights_filepath=None,\n",
    "                           train_categories=train_categories,\n",
    "                           test_categories=test_categories)\n",
    "\n",
    "print('Starting Training')\n",
    "run_training.run()\n",
    "print('Training Over')"
   ]
  },
  {
   "cell_type": "markdown",
   "metadata": {},
   "source": [
    "# Evaluate mAP on original dataset"
   ]
  },
  {
   "cell_type": "code",
   "execution_count": 3,
   "metadata": {},
   "outputs": [
    {
     "name": "stderr",
     "output_type": "stream",
     "text": [
      "C:\\Users\\AISG\\Anaconda3\\envs\\tf-gpu_1.13\\lib\\site-packages\\tensorflow\\python\\framework\\dtypes.py:526: FutureWarning: Passing (type, 1) or '1type' as a synonym of type is deprecated; in a future version of numpy, it will be understood as (type, (1,)) / '(1,)type'.\n",
      "  _np_qint8 = np.dtype([(\"qint8\", np.int8, 1)])\n",
      "C:\\Users\\AISG\\Anaconda3\\envs\\tf-gpu_1.13\\lib\\site-packages\\tensorflow\\python\\framework\\dtypes.py:527: FutureWarning: Passing (type, 1) or '1type' as a synonym of type is deprecated; in a future version of numpy, it will be understood as (type, (1,)) / '(1,)type'.\n",
      "  _np_quint8 = np.dtype([(\"quint8\", np.uint8, 1)])\n",
      "C:\\Users\\AISG\\Anaconda3\\envs\\tf-gpu_1.13\\lib\\site-packages\\tensorflow\\python\\framework\\dtypes.py:528: FutureWarning: Passing (type, 1) or '1type' as a synonym of type is deprecated; in a future version of numpy, it will be understood as (type, (1,)) / '(1,)type'.\n",
      "  _np_qint16 = np.dtype([(\"qint16\", np.int16, 1)])\n",
      "C:\\Users\\AISG\\Anaconda3\\envs\\tf-gpu_1.13\\lib\\site-packages\\tensorflow\\python\\framework\\dtypes.py:529: FutureWarning: Passing (type, 1) or '1type' as a synonym of type is deprecated; in a future version of numpy, it will be understood as (type, (1,)) / '(1,)type'.\n",
      "  _np_quint16 = np.dtype([(\"quint16\", np.uint16, 1)])\n",
      "C:\\Users\\AISG\\Anaconda3\\envs\\tf-gpu_1.13\\lib\\site-packages\\tensorflow\\python\\framework\\dtypes.py:530: FutureWarning: Passing (type, 1) or '1type' as a synonym of type is deprecated; in a future version of numpy, it will be understood as (type, (1,)) / '(1,)type'.\n",
      "  _np_qint32 = np.dtype([(\"qint32\", np.int32, 1)])\n",
      "C:\\Users\\AISG\\Anaconda3\\envs\\tf-gpu_1.13\\lib\\site-packages\\tensorflow\\python\\framework\\dtypes.py:535: FutureWarning: Passing (type, 1) or '1type' as a synonym of type is deprecated; in a future version of numpy, it will be understood as (type, (1,)) / '(1,)type'.\n",
      "  np_resource = np.dtype([(\"resource\", np.ubyte, 1)])\n",
      "Using TensorFlow backend.\n"
     ]
    },
    {
     "name": "stdout",
     "output_type": "stream",
     "text": [
      "Loading Train Set\n",
      "Train: 2285\n",
      "Loading Test Set\n",
      "Test: 524\n",
      "Loading Config\n",
      "WARNING:tensorflow:From C:\\Users\\AISG\\Anaconda3\\envs\\tf-gpu_1.13\\lib\\site-packages\\tensorflow\\python\\framework\\op_def_library.py:263: colocate_with (from tensorflow.python.framework.ops) is deprecated and will be removed in a future version.\n",
      "Instructions for updating:\n",
      "Colocations handled automatically by placer.\n",
      "Re-starting from epoch 851\n",
      "Evaluating Last Epoch\n",
      "WARNING:tensorflow:From C:\\Users\\AISG\\Anaconda3\\envs\\tf-gpu_1.13\\lib\\site-packages\\mask_rcnn-2.1-py3.7.egg\\mrcnn\\model.py:772: to_float (from tensorflow.python.ops.math_ops) is deprecated and will be removed in a future version.\n",
      "Instructions for updating:\n",
      "Use tf.cast instead.\n"
     ]
    },
    {
     "name": "stderr",
     "output_type": "stream",
     "text": [
      "\r",
      "  0%|                                                                                         | 0/2285 [00:00<?, ?it/s]"
     ]
    },
    {
     "name": "stdout",
     "output_type": "stream",
     "text": [
      "Re-starting from epoch 260\n"
     ]
    },
    {
     "name": "stderr",
     "output_type": "stream",
     "text": [
      " 74%|█████████████████████████████████████████████████████████▉                    | 1696/2285 [03:15<01:08,  8.63it/s]C:\\Users\\AISG\\Anaconda3\\envs\\tf-gpu_1.13\\lib\\site-packages\\mask_rcnn-2.1-py3.7.egg\\mrcnn\\utils.py:741: RuntimeWarning: invalid value encountered in true_divide\n",
      " 74%|█████████████████████████████████████████████████████████▉                    | 1697/2285 [03:15<01:06,  8.80it/s]C:\\Users\\AISG\\Anaconda3\\envs\\tf-gpu_1.13\\lib\\site-packages\\mask_rcnn-2.1-py3.7.egg\\mrcnn\\utils.py:741: RuntimeWarning: invalid value encountered in true_divide\n",
      " 74%|█████████████████████████████████████████████████████████▉                    | 1698/2285 [03:15<01:04,  9.03it/s]"
     ]
    },
    {
     "name": "stdout",
     "output_type": "stream",
     "text": [
      "AP(1696) is nan\n",
      "AP(1697) is nan\n"
     ]
    },
    {
     "name": "stderr",
     "output_type": "stream",
     "text": [
      "100%|██████████████████████████████████████████████████████████████████████████████| 2285/2285 [04:22<00:00,  8.69it/s]\n",
      "  0%|▏                                                                                 | 1/524 [00:00<00:57,  9.12it/s]"
     ]
    },
    {
     "name": "stdout",
     "output_type": "stream",
     "text": [
      "Train mAP: 0.966\n"
     ]
    },
    {
     "name": "stderr",
     "output_type": "stream",
     "text": [
      "100%|████████████████████████████████████████████████████████████████████████████████| 524/524 [01:00<00:00,  8.64it/s]"
     ]
    },
    {
     "name": "stdout",
     "output_type": "stream",
     "text": [
      "Test mAP: 0.853\n",
      "Evaluation Done\n"
     ]
    },
    {
     "name": "stderr",
     "output_type": "stream",
     "text": [
      "\n"
     ]
    }
   ],
   "source": [
    "from helipad_detection.src.training.run_training import RunTraining\n",
    "\n",
    "# root_folder = \"../../Helipad/Helipad_DataBase\"\n",
    "# root_meta_folder = \"../../Helipad/Helipad_DataBase_meta\"\n",
    "root_folder = \"C:\\\\Users\\\\AISG\\\\Documents\\\\Jonas\\\\Helipad\\\\Helipad_DataBase\"\n",
    "root_meta_folder = \"C:\\\\Users\\\\AISG\\\\Documents\\\\Jonas\\\\Helipad\\\\Helipad_DataBase_meta\"\n",
    "# model_folder = \"../../Helipad/model\"\n",
    "model_folder = \"D:\\\\Jonas\\\\model\\\\\"\n",
    "include_augmented = False\n",
    "augmented_version = []\n",
    "\n",
    "train_categories = [\"1\", \"2\", \"3\", \"5\", \"6\", \"8\", \"9\"]\n",
    "test_categories = [\"1\", \"2\", \"3\", \"5\", \"6\", \"8\", \"9\"]\n",
    "\n",
    "weights_filename = 'helipad_cfg_10_no47du_all20200420T0127/mask_rcnn_helipad_cfg_10_no47du_all_0851.h5'\n",
    "base_weights = 'mask_rcnn_coco.h5'\n",
    "\n",
    "predict_weights_filepath = 'helipad_cfg_12_no47du_all20200513T1024/mask_rcnn_helipad_cfg_12_no47du_all_0260.h5'\n",
    "\n",
    "run_training = RunTraining(root_folder,\n",
    "                           root_meta_folder,\n",
    "                           model_folder,\n",
    "                           weights_filename,\n",
    "                           include_augmented=include_augmented,\n",
    "                           augmented_version=augmented_version,\n",
    "                           predict_weights_filepath=predict_weights_filepath,\n",
    "                           train_categories=train_categories,\n",
    "                           test_categories=test_categories)\n",
    "\n",
    "print('Evaluating Last Epoch')\n",
    "run_training.run_predict()\n",
    "print('Evaluation Done')"
   ]
  },
  {
   "cell_type": "markdown",
   "metadata": {},
   "source": [
    "# Run Detection on Original Dataset to save bounding boxes"
   ]
  },
  {
   "cell_type": "code",
   "execution_count": 2,
   "metadata": {},
   "outputs": [
    {
     "name": "stderr",
     "output_type": "stream",
     "text": [
      "C:\\Users\\AISG\\Anaconda3\\envs\\tf-gpu_1.13\\lib\\site-packages\\tensorflow\\python\\framework\\dtypes.py:526: FutureWarning: Passing (type, 1) or '1type' as a synonym of type is deprecated; in a future version of numpy, it will be understood as (type, (1,)) / '(1,)type'.\n",
      "  _np_qint8 = np.dtype([(\"qint8\", np.int8, 1)])\n",
      "C:\\Users\\AISG\\Anaconda3\\envs\\tf-gpu_1.13\\lib\\site-packages\\tensorflow\\python\\framework\\dtypes.py:527: FutureWarning: Passing (type, 1) or '1type' as a synonym of type is deprecated; in a future version of numpy, it will be understood as (type, (1,)) / '(1,)type'.\n",
      "  _np_quint8 = np.dtype([(\"quint8\", np.uint8, 1)])\n",
      "C:\\Users\\AISG\\Anaconda3\\envs\\tf-gpu_1.13\\lib\\site-packages\\tensorflow\\python\\framework\\dtypes.py:528: FutureWarning: Passing (type, 1) or '1type' as a synonym of type is deprecated; in a future version of numpy, it will be understood as (type, (1,)) / '(1,)type'.\n",
      "  _np_qint16 = np.dtype([(\"qint16\", np.int16, 1)])\n",
      "C:\\Users\\AISG\\Anaconda3\\envs\\tf-gpu_1.13\\lib\\site-packages\\tensorflow\\python\\framework\\dtypes.py:529: FutureWarning: Passing (type, 1) or '1type' as a synonym of type is deprecated; in a future version of numpy, it will be understood as (type, (1,)) / '(1,)type'.\n",
      "  _np_quint16 = np.dtype([(\"quint16\", np.uint16, 1)])\n",
      "C:\\Users\\AISG\\Anaconda3\\envs\\tf-gpu_1.13\\lib\\site-packages\\tensorflow\\python\\framework\\dtypes.py:530: FutureWarning: Passing (type, 1) or '1type' as a synonym of type is deprecated; in a future version of numpy, it will be understood as (type, (1,)) / '(1,)type'.\n",
      "  _np_qint32 = np.dtype([(\"qint32\", np.int32, 1)])\n",
      "C:\\Users\\AISG\\Anaconda3\\envs\\tf-gpu_1.13\\lib\\site-packages\\tensorflow\\python\\framework\\dtypes.py:535: FutureWarning: Passing (type, 1) or '1type' as a synonym of type is deprecated; in a future version of numpy, it will be understood as (type, (1,)) / '(1,)type'.\n",
      "  np_resource = np.dtype([(\"resource\", np.ubyte, 1)])\n",
      "Using TensorFlow backend.\n"
     ]
    },
    {
     "name": "stdout",
     "output_type": "stream",
     "text": [
      "WARNING:tensorflow:From C:\\Users\\AISG\\Anaconda3\\envs\\tf-gpu_1.13\\lib\\site-packages\\tensorflow\\python\\framework\\op_def_library.py:263: colocate_with (from tensorflow.python.framework.ops) is deprecated and will be removed in a future version.\n",
      "Instructions for updating:\n",
      "Colocations handled automatically by placer.\n",
      "WARNING:tensorflow:From C:\\Users\\AISG\\Anaconda3\\envs\\tf-gpu_1.13\\lib\\site-packages\\mask_rcnn-2.1-py3.7.egg\\mrcnn\\model.py:772: to_float (from tensorflow.python.ops.math_ops) is deprecated and will be removed in a future version.\n",
      "Instructions for updating:\n",
      "Use tf.cast instead.\n",
      "Re-starting from epoch 260\n"
     ]
    },
    {
     "name": "stderr",
     "output_type": "stream",
     "text": [
      "\r",
      "  0%|                                                                                         | 0/5878 [00:00<?, ?it/s]"
     ]
    },
    {
     "name": "stdout",
     "output_type": "stream",
     "text": [
      "5878 files to predict!\n"
     ]
    },
    {
     "name": "stderr",
     "output_type": "stream",
     "text": [
      "100%|██████████████████████████████████████████████████████████████████████████████| 5878/5878 [09:42<00:00, 10.09it/s]\n"
     ]
    }
   ],
   "source": [
    "from helipad_detection.src.detection.run_detection import RunDetection\n",
    "\n",
    "image_folder = \"C:\\\\Users\\\\AISG\\\\Documents\\\\Jonas\\\\Helipad\\\\Helipad_DataBase\\\\Helipad_DataBase_original\"\n",
    "meta_folder = \"C:\\\\Users\\\\AISG\\\\Documents\\\\Jonas\\\\Helipad\\\\Helipad_DataBase_meta\\\\Helipad_DataBase_meta_original\"\n",
    "model_root_folder = \"D:\\\\Jonas\\\\model\\\\\"\n",
    "model_folder = \"helipad_cfg_12_no47du_all20200513T1024\"\n",
    "model_number = 12\n",
    "weight_filename = \"mask_rcnn_helipad_cfg_12_no47du_all_0260.h5\"\n",
    "\n",
    "test_only = False\n",
    "activate_filter = False\n",
    "\n",
    "run_detection = RunDetection(image_folder,\n",
    "                          meta_folder,\n",
    "                          os.path.join(model_root_folder, model_folder),\n",
    "                          weight_filename,\n",
    "                          model_number=model_number,\n",
    "                          activate_filter=activate_filter,\n",
    "                          test_only=test_only)\n",
    "\n",
    "run_detection.run()"
   ]
  },
  {
   "cell_type": "markdown",
   "metadata": {},
   "source": [
    "# Run Benchmark on a model"
   ]
  },
  {
   "cell_type": "markdown",
   "metadata": {},
   "source": [
    "### Benchmark on Train Set"
   ]
  },
  {
   "cell_type": "code",
   "execution_count": 3,
   "metadata": {},
   "outputs": [
    {
     "name": "stdout",
     "output_type": "stream",
     "text": [
      "Loading Files\n"
     ]
    },
    {
     "name": "stderr",
     "output_type": "stream",
     "text": [
      "\r",
      "  0%|                                                                                          | 0/317 [00:00<?, ?it/s]"
     ]
    },
    {
     "name": "stdout",
     "output_type": "stream",
     "text": [
      "4336 files loaded!\n",
      "Benchmarking model 12\n"
     ]
    },
    {
     "name": "stderr",
     "output_type": "stream",
     "text": [
      "100%|████████████████████████████████████████████████████████████████████████████████| 317/317 [02:52<00:00,  1.83it/s]\n"
     ]
    }
   ],
   "source": [
    "# import os\n",
    "# os.chdir('../../')\n",
    "from helipad_detection.src.benchmark.run_benchmark import RunBenchmark\n",
    "\n",
    "image_folder = \"C:\\\\Users\\\\AISG\\\\Documents\\\\Jonas\\\\Helipad\\\\Helipad_DataBase\\\\Helipad_DataBase_original\"\n",
    "meta_folder = \"C:\\\\Users\\\\AISG\\\\Documents\\\\Jonas\\\\Helipad\\\\Helipad_DataBase_meta\\\\Helipad_DataBase_meta_original\"\n",
    "model_numbers = [12]\n",
    "test_only = False\n",
    "tms_dataset = False\n",
    "zoom_level = None\n",
    "city_lat = None\n",
    "include_negative = False\n",
    "train_only = True\n",
    "train_categories = [\"1\", \"2\", \"3\", \"5\", \"6\", \"8\", \"9\"]\n",
    "\n",
    "run_benchmark = RunBenchmark(image_folder,\n",
    "                             meta_folder,\n",
    "                             model_numbers,\n",
    "                             test_only=test_only,\n",
    "                             tms_dataset=tms_dataset,\n",
    "                             include_category=train_categories,\n",
    "                             zoom_level=zoom_level,\n",
    "                             city_lat=city_lat,\n",
    "                             train_only=train_only)\n",
    "\n",
    "threshold_validation = None\n",
    "\n",
    "run_benchmark.run(threshold_validation=threshold_validation)"
   ]
  },
  {
   "cell_type": "markdown",
   "metadata": {},
   "source": [
    "### Benchmark on Test Set"
   ]
  },
  {
   "cell_type": "code",
   "execution_count": 4,
   "metadata": {},
   "outputs": [
    {
     "name": "stdout",
     "output_type": "stream",
     "text": [
      "Loading Files\n"
     ]
    },
    {
     "name": "stderr",
     "output_type": "stream",
     "text": [
      "  0%|▎                                                                                 | 1/317 [00:00<00:42,  7.48it/s]"
     ]
    },
    {
     "name": "stdout",
     "output_type": "stream",
     "text": [
      "1053 files loaded!\n",
      "Benchmarking model 12\n"
     ]
    },
    {
     "name": "stderr",
     "output_type": "stream",
     "text": [
      "100%|████████████████████████████████████████████████████████████████████████████████| 317/317 [00:40<00:00,  7.74it/s]\n"
     ]
    }
   ],
   "source": [
    "import os\n",
    "os.chdir('../../')\n",
    "from helipad_detection.src.benchmark.run_benchmark import RunBenchmark\n",
    "\n",
    "image_folder = \"C:\\\\Users\\\\AISG\\\\Documents\\\\Jonas\\\\Helipad\\\\Helipad_DataBase\\\\Helipad_DataBase_original\"\n",
    "meta_folder = \"C:\\\\Users\\\\AISG\\\\Documents\\\\Jonas\\\\Helipad\\\\Helipad_DataBase_meta\\\\Helipad_DataBase_meta_original\"\n",
    "model_numbers = [12]\n",
    "test_only = True\n",
    "tms_dataset = False\n",
    "zoom_level = None\n",
    "city_lat = None\n",
    "test_categories = [\"1\", \"2\", \"3\", \"5\", \"6\", \"8\", \"9\"]\n",
    "include_negative = True\n",
    "train_only = False\n",
    "\n",
    "\n",
    "run_benchmark = RunBenchmark(image_folder,\n",
    "                             meta_folder,\n",
    "                             model_numbers,\n",
    "                             test_only=test_only,\n",
    "                             tms_dataset=tms_dataset,\n",
    "                             include_category=test_categories,\n",
    "                             include_negative=include_negative,\n",
    "                             zoom_level=zoom_level,\n",
    "                             city_lat=city_lat,\n",
    "                             train_only=train_only)\n",
    "\n",
    "threshold_validation = None\n",
    "\n",
    "run_benchmark.run(threshold_validation=threshold_validation)"
   ]
  },
  {
   "cell_type": "markdown",
   "metadata": {},
   "source": [
    "# Run Prediction on Satellite Images"
   ]
  },
  {
   "cell_type": "code",
   "execution_count": null,
   "metadata": {},
   "outputs": [
    {
     "name": "stderr",
     "output_type": "stream",
     "text": [
      "C:\\Users\\AISG\\Anaconda3\\envs\\tf-gpu_1.13\\lib\\site-packages\\tensorflow\\python\\framework\\dtypes.py:526: FutureWarning: Passing (type, 1) or '1type' as a synonym of type is deprecated; in a future version of numpy, it will be understood as (type, (1,)) / '(1,)type'.\n",
      "  _np_qint8 = np.dtype([(\"qint8\", np.int8, 1)])\n",
      "C:\\Users\\AISG\\Anaconda3\\envs\\tf-gpu_1.13\\lib\\site-packages\\tensorflow\\python\\framework\\dtypes.py:527: FutureWarning: Passing (type, 1) or '1type' as a synonym of type is deprecated; in a future version of numpy, it will be understood as (type, (1,)) / '(1,)type'.\n",
      "  _np_quint8 = np.dtype([(\"quint8\", np.uint8, 1)])\n",
      "C:\\Users\\AISG\\Anaconda3\\envs\\tf-gpu_1.13\\lib\\site-packages\\tensorflow\\python\\framework\\dtypes.py:528: FutureWarning: Passing (type, 1) or '1type' as a synonym of type is deprecated; in a future version of numpy, it will be understood as (type, (1,)) / '(1,)type'.\n",
      "  _np_qint16 = np.dtype([(\"qint16\", np.int16, 1)])\n",
      "C:\\Users\\AISG\\Anaconda3\\envs\\tf-gpu_1.13\\lib\\site-packages\\tensorflow\\python\\framework\\dtypes.py:529: FutureWarning: Passing (type, 1) or '1type' as a synonym of type is deprecated; in a future version of numpy, it will be understood as (type, (1,)) / '(1,)type'.\n",
      "  _np_quint16 = np.dtype([(\"quint16\", np.uint16, 1)])\n",
      "C:\\Users\\AISG\\Anaconda3\\envs\\tf-gpu_1.13\\lib\\site-packages\\tensorflow\\python\\framework\\dtypes.py:530: FutureWarning: Passing (type, 1) or '1type' as a synonym of type is deprecated; in a future version of numpy, it will be understood as (type, (1,)) / '(1,)type'.\n",
      "  _np_qint32 = np.dtype([(\"qint32\", np.int32, 1)])\n",
      "C:\\Users\\AISG\\Anaconda3\\envs\\tf-gpu_1.13\\lib\\site-packages\\tensorflow\\python\\framework\\dtypes.py:535: FutureWarning: Passing (type, 1) or '1type' as a synonym of type is deprecated; in a future version of numpy, it will be understood as (type, (1,)) / '(1,)type'.\n",
      "  np_resource = np.dtype([(\"resource\", np.ubyte, 1)])\n",
      "Using TensorFlow backend.\n"
     ]
    },
    {
     "name": "stdout",
     "output_type": "stream",
     "text": [
      "WARNING:tensorflow:From C:\\Users\\AISG\\Anaconda3\\envs\\tf-gpu_1.13\\lib\\site-packages\\tensorflow\\python\\framework\\op_def_library.py:263: colocate_with (from tensorflow.python.framework.ops) is deprecated and will be removed in a future version.\n",
      "Instructions for updating:\n",
      "Colocations handled automatically by placer.\n",
      "WARNING:tensorflow:From C:\\Users\\AISG\\Anaconda3\\envs\\tf-gpu_1.13\\lib\\site-packages\\mask_rcnn-2.1-py3.7.egg\\mrcnn\\model.py:772: to_float (from tensorflow.python.ops.math_ops) is deprecated and will be removed in a future version.\n",
      "Instructions for updating:\n",
      "Use tf.cast instead.\n"
     ]
    },
    {
     "name": "stderr",
     "output_type": "stream",
     "text": [
      "\r",
      "  0%|                                                                                       | 0/263496 [00:00<?, ?it/s]"
     ]
    },
    {
     "name": "stdout",
     "output_type": "stream",
     "text": [
      "Re-starting from epoch 260\n"
     ]
    },
    {
     "name": "stderr",
     "output_type": "stream",
     "text": [
      "  4%|██▋                                                                       | 9617/263496 [19:31<8:32:56,  8.25it/s]"
     ]
    },
    {
     "name": "stdout",
     "output_type": "stream",
     "text": [
      "[0.9882187843322754]\n",
      "14.46351361848996\n",
      "120.58357045054434\n"
     ]
    },
    {
     "name": "stderr",
     "output_type": "stream",
     "text": [
      "  4%|██▉                                                                      | 10388/263496 [21:04<8:26:35,  8.33it/s]"
     ]
    },
    {
     "name": "stdout",
     "output_type": "stream",
     "text": [
      "[0.960789144039154]\n",
      "14.527298206656816\n",
      "120.58554723858832\n"
     ]
    },
    {
     "name": "stderr",
     "output_type": "stream",
     "text": [
      "  5%|███▌                                                                     | 12642/263496 [25:35<8:24:16,  8.29it/s]"
     ]
    },
    {
     "name": "stdout",
     "output_type": "stream",
     "text": [
      "[0.979621171951294]\n",
      "14.530230882090414\n",
      "120.59259340167047\n"
     ]
    },
    {
     "name": "stderr",
     "output_type": "stream",
     "text": [
      "  5%|███▉                                                                     | 14224/263496 [28:46<8:23:45,  8.25it/s]"
     ]
    },
    {
     "name": "stdout",
     "output_type": "stream",
     "text": [
      "[0.99790358543396]\n",
      "14.534682398673425\n",
      "120.59737712144852\n"
     ]
    },
    {
     "name": "stderr",
     "output_type": "stream",
     "text": [
      "  6%|████                                                                     | 14656/263496 [29:38<8:18:45,  8.32it/s]"
     ]
    },
    {
     "name": "stdout",
     "output_type": "stream",
     "text": [
      "[0.9681688547134399]\n",
      "14.522655698045641\n",
      "120.59862032532692\n"
     ]
    },
    {
     "name": "stderr",
     "output_type": "stream",
     "text": [
      "  6%|████                                                                     | 14684/263496 [29:41<8:23:01,  8.24it/s]"
     ]
    },
    {
     "name": "stdout",
     "output_type": "stream",
     "text": [
      "[0.9987321496009827]\n",
      "14.541386117434751\n",
      "120.59866726398468\n"
     ]
    },
    {
     "name": "stderr",
     "output_type": "stream",
     "text": [
      "  6%|████▏                                                                    | 14909/263496 [30:09<8:24:54,  8.21it/s]"
     ]
    },
    {
     "name": "stdout",
     "output_type": "stream",
     "text": [
      "[0.7100173234939575]\n",
      "14.541535404029533\n",
      "120.59915944933891\n"
     ]
    },
    {
     "name": "stderr",
     "output_type": "stream",
     "text": [
      "  6%|████▏                                                                    | 15124/263496 [30:34<8:21:13,  8.26it/s]"
     ]
    },
    {
     "name": "stdout",
     "output_type": "stream",
     "text": [
      "[0.9937773942947388]\n",
      "14.534733027824284\n",
      "120.59995204210281\n"
     ]
    },
    {
     "name": "stderr",
     "output_type": "stream",
     "text": [
      "  6%|████▏                                                                    | 15134/263496 [30:36<8:21:38,  8.25it/s]"
     ]
    },
    {
     "name": "stdout",
     "output_type": "stream",
     "text": [
      "[0.9966654181480408]\n",
      "14.54135366382719\n",
      "120.60021623969078\n"
     ]
    },
    {
     "name": "stderr",
     "output_type": "stream",
     "text": [
      "  6%|████▎                                                                    | 15545/263496 [31:25<8:20:09,  8.26it/s]"
     ]
    },
    {
     "name": "stdout",
     "output_type": "stream",
     "text": [
      "[0.9723065495491028]\n",
      "14.515493113162425\n",
      "120.6013548374176\n"
     ]
    },
    {
     "name": "stderr",
     "output_type": "stream",
     "text": [
      "  6%|████▍                                                                    | 15793/263496 [31:55<8:26:31,  8.15it/s]"
     ]
    },
    {
     "name": "stdout",
     "output_type": "stream",
     "text": [
      "[0.9623375535011292]\n",
      "14.530835847003829\n",
      "120.60199722647667\n"
     ]
    },
    {
     "name": "stderr",
     "output_type": "stream",
     "text": [
      "  6%|████▍                                                                    | 15936/263496 [32:12<8:19:11,  8.27it/s]"
     ]
    },
    {
     "name": "stdout",
     "output_type": "stream",
     "text": [
      "[0.9750720262527466]\n",
      "14.47628369088375\n",
      "120.60289710760117\n"
     ]
    },
    {
     "name": "stderr",
     "output_type": "stream",
     "text": [
      "  6%|████▍                                                                    | 16161/263496 [32:40<8:23:24,  8.19it/s]"
     ]
    },
    {
     "name": "stdout",
     "output_type": "stream",
     "text": [
      "[0.9980564117431641]\n",
      "14.476230451304726\n",
      "120.60335710644722\n"
     ]
    },
    {
     "name": "stderr",
     "output_type": "stream",
     "text": [
      "  6%|████▌                                                                    | 16475/263496 [33:18<8:24:44,  8.16it/s]"
     ]
    },
    {
     "name": "stdout",
     "output_type": "stream",
     "text": [
      "[0.9883179068565369]\n",
      "14.535448325709037\n",
      "120.60419261455536\n"
     ]
    },
    {
     "name": "stderr",
     "output_type": "stream",
     "text": [
      "  6%|████▋                                                                    | 17068/263496 [34:30<8:25:55,  8.12it/s]"
     ]
    },
    {
     "name": "stdout",
     "output_type": "stream",
     "text": [
      "[0.8608179688453674]\n",
      "14.48091808193712\n",
      "120.60627937316895\n"
     ]
    },
    {
     "name": "stderr",
     "output_type": "stream",
     "text": [
      "  7%|████▊                                                                    | 17546/263496 [35:28<8:21:27,  8.17it/s]"
     ]
    },
    {
     "name": "stdout",
     "output_type": "stream",
     "text": [
      "[0.9952408075332642]\n",
      "14.499653331476832\n",
      "120.60761645436287\n"
     ]
    },
    {
     "name": "stderr",
     "output_type": "stream",
     "text": [
      "  7%|████▉                                                                    | 17744/263496 [35:52<8:27:31,  8.07it/s]"
     ]
    },
    {
     "name": "stdout",
     "output_type": "stream",
     "text": [
      "[0.9987156391143799]\n",
      "14.481477734279114\n",
      "120.60809388756752\n"
     ]
    },
    {
     "name": "stderr",
     "output_type": "stream",
     "text": [
      "  7%|█████                                                                    | 18225/263496 [36:51<8:21:40,  8.15it/s]"
     ]
    },
    {
     "name": "stdout",
     "output_type": "stream",
     "text": [
      "[0.9979717135429382]\n",
      "14.517904036393364\n",
      "120.60985743999481\n"
     ]
    },
    {
     "name": "stderr",
     "output_type": "stream",
     "text": [
      "  7%|█████▍                                                                   | 19687/263496 [39:50<8:20:03,  8.13it/s]"
     ]
    },
    {
     "name": "stdout",
     "output_type": "stream",
     "text": [
      "[0.9992947578430176]\n",
      "14.51529707038843\n",
      "120.61428844928741\n"
     ]
    },
    {
     "name": "stderr",
     "output_type": "stream",
     "text": [
      "  8%|█████▌                                                                   | 20252/263496 [40:59<8:19:37,  8.11it/s]"
     ]
    },
    {
     "name": "stdout",
     "output_type": "stream",
     "text": [
      "[0.9981406927108765]\n",
      "14.516052678177179\n",
      "120.6165562570095\n"
     ]
    },
    {
     "name": "stderr",
     "output_type": "stream",
     "text": [
      "  8%|█████▌                                                                   | 20282/263496 [41:03<8:20:53,  8.09it/s]"
     ]
    },
    {
     "name": "stdout",
     "output_type": "stream",
     "text": [
      "[0.8349674344062805]\n",
      "14.535820902945886\n",
      "120.61620086431503\n"
     ]
    },
    {
     "name": "stderr",
     "output_type": "stream",
     "text": [
      "  8%|█████▋                                                                   | 20464/263496 [41:25<8:21:36,  8.08it/s]"
     ]
    },
    {
     "name": "stdout",
     "output_type": "stream",
     "text": [
      "[0.8375803232192993]\n",
      "14.531958792581028\n",
      "120.61692103743553\n"
     ]
    },
    {
     "name": "stderr",
     "output_type": "stream",
     "text": [
      "  8%|█████▋                                                                   | 20602/263496 [41:42<8:10:32,  8.25it/s]"
     ]
    },
    {
     "name": "stdout",
     "output_type": "stream",
     "text": [
      "[0.9528115391731262]\n",
      "14.498840538299778\n",
      "120.61807841062546\n"
     ]
    },
    {
     "name": "stderr",
     "output_type": "stream",
     "text": [
      " 10%|███████                                                                  | 25295/263496 [51:10<8:00:25,  8.26it/s]"
     ]
    },
    {
     "name": "stdout",
     "output_type": "stream",
     "text": [
      "[0.9987432360649109]\n",
      "14.372485175084517\n",
      "120.87822452187537\n"
     ]
    },
    {
     "name": "stderr",
     "output_type": "stream",
     "text": [
      " 11%|████████                                                               | 29714/263496 [1:00:01<7:47:24,  8.34it/s]"
     ]
    },
    {
     "name": "stdout",
     "output_type": "stream",
     "text": [
      "[0.8237795233726501]\n",
      "14.40626912728134\n",
      "120.88901102542879\n"
     ]
    },
    {
     "name": "stderr",
     "output_type": "stream",
     "text": [
      " 13%|█████████▏                                                             | 33980/263496 [1:08:45<7:55:37,  8.04it/s]"
     ]
    },
    {
     "name": "stdout",
     "output_type": "stream",
     "text": [
      "[0.9563869833946228]\n",
      "14.338490823867877\n",
      "120.90006038546562\n"
     ]
    },
    {
     "name": "stderr",
     "output_type": "stream",
     "text": [
      " 14%|█████████▉                                                             | 36711/263496 [1:14:25<7:52:19,  8.00it/s]"
     ]
    },
    {
     "name": "stdout",
     "output_type": "stream",
     "text": [
      "[0.8811455368995667]\n",
      "14.339102806800234\n",
      "120.906972438097\n"
     ]
    },
    {
     "name": "stderr",
     "output_type": "stream",
     "text": [
      " 14%|█████████▉                                                             | 36946/263496 [1:14:55<7:53:15,  7.98it/s]"
     ]
    },
    {
     "name": "stdout",
     "output_type": "stream",
     "text": [
      "[0.9970529079437256, 0.9635031223297119]\n",
      "14.495603618533854\n",
      "120.90683162212372\n",
      "14.495717878916178\n",
      "120.90711191296577\n"
     ]
    },
    {
     "name": "stderr",
     "output_type": "stream",
     "text": [
      " 14%|██████████                                                             | 37300/263496 [1:15:39<7:58:33,  7.88it/s]"
     ]
    },
    {
     "name": "stdout",
     "output_type": "stream",
     "text": [
      "[0.9469512104988098]\n",
      "14.367887502305548\n",
      "120.90849995613098\n"
     ]
    },
    {
     "name": "stderr",
     "output_type": "stream",
     "text": [
      " 14%|██████████▏                                                            | 37633/263496 [1:16:20<7:56:37,  7.90it/s]"
     ]
    },
    {
     "name": "stdout",
     "output_type": "stream",
     "text": [
      "[0.9473727941513062]\n",
      "14.407929159730054\n",
      "120.9090431034565\n"
     ]
    },
    {
     "name": "stderr",
     "output_type": "stream",
     "text": [
      " 15%|██████████▎                                                            | 38313/263496 [1:17:45<7:51:02,  7.97it/s]"
     ]
    },
    {
     "name": "stdout",
     "output_type": "stream",
     "text": [
      "[0.9923529028892517]\n",
      "14.49689943083466\n",
      "120.91029837727547\n"
     ]
    },
    {
     "name": "stderr",
     "output_type": "stream",
     "text": [
      " 15%|██████████▍                                                            | 38859/263496 [1:18:53<7:53:16,  7.91it/s]"
     ]
    },
    {
     "name": "stdout",
     "output_type": "stream",
     "text": [
      "[0.9016799330711365]\n",
      "14.496996811258073\n",
      "120.91163009405136\n"
     ]
    },
    {
     "name": "stderr",
     "output_type": "stream",
     "text": [
      " 16%|███████████                                                            | 41010/263496 [1:23:16<7:34:15,  8.16it/s]"
     ]
    },
    {
     "name": "stdout",
     "output_type": "stream",
     "text": [
      "[0.8616814017295837]\n",
      "14.806303351081832\n",
      "120.91662973165512\n"
     ]
    },
    {
     "name": "stderr",
     "output_type": "stream",
     "text": [
      " 16%|███████████▌                                                           | 42721/263496 [1:26:46<7:34:28,  8.10it/s]"
     ]
    },
    {
     "name": "stdout",
     "output_type": "stream",
     "text": [
      "[0.7562279105186462]\n",
      "14.426956301054783\n",
      "120.91919392347334\n"
     ]
    },
    {
     "name": "stderr",
     "output_type": "stream",
     "text": [
      " 17%|████████████▍                                                          | 46036/263496 [1:33:31<7:30:44,  8.04it/s]"
     ]
    },
    {
     "name": "stdout",
     "output_type": "stream",
     "text": [
      "[0.7781662344932556]\n",
      "14.463069496615006\n",
      "120.92336609959601\n"
     ]
    },
    {
     "name": "stderr",
     "output_type": "stream",
     "text": [
      " 18%|████████████▌                                                          | 46605/263496 [1:34:41<7:31:00,  8.02it/s]"
     ]
    },
    {
     "name": "stdout",
     "output_type": "stream",
     "text": [
      "[0.9625008702278137]\n",
      "14.460376176968305\n",
      "120.92403262853621\n",
      "[0.9980924725532532]\n",
      "14.46081381118246\n",
      "120.92398032546042\n"
     ]
    },
    {
     "name": "stderr",
     "output_type": "stream",
     "text": [
      " 20%|█████████████▉                                                         | 51616/263496 [1:44:49<7:09:16,  8.23it/s]"
     ]
    },
    {
     "name": "stdout",
     "output_type": "stream",
     "text": [
      "[0.9910851120948792]\n",
      "14.359029667993617\n",
      "120.93009173870088\n"
     ]
    },
    {
     "name": "stderr",
     "output_type": "stream",
     "text": [
      " 20%|██████████████▍                                                        | 53515/263496 [1:48:38<7:11:08,  8.12it/s]"
     ]
    },
    {
     "name": "stdout",
     "output_type": "stream",
     "text": [
      "[0.9702793955802917]\n",
      "14.427193983969165\n",
      "120.93235552310945\n"
     ]
    },
    {
     "name": "stderr",
     "output_type": "stream",
     "text": [
      " 22%|███████████████▊                                                       | 58876/263496 [1:59:24<6:55:26,  8.21it/s]"
     ]
    },
    {
     "name": "stdout",
     "output_type": "stream",
     "text": [
      "[0.9042032361030579]\n",
      "14.391833598490594\n",
      "120.93840658664703\n"
     ]
    },
    {
     "name": "stderr",
     "output_type": "stream",
     "text": [
      " 23%|████████████████▍                                                      | 61229/263496 [2:04:08<6:51:43,  8.19it/s]"
     ]
    },
    {
     "name": "stdout",
     "output_type": "stream",
     "text": [
      "[0.9378448724746704]\n",
      "14.793616008169378\n",
      "120.94058588147163\n"
     ]
    },
    {
     "name": "stderr",
     "output_type": "stream",
     "text": [
      " 24%|█████████████████▏                                                     | 63907/263496 [2:09:31<6:42:23,  8.27it/s]"
     ]
    },
    {
     "name": "stdout",
     "output_type": "stream",
     "text": [
      "[0.8692525029182434]\n",
      "14.428303167288476\n",
      "120.94396144151688\n"
     ]
    },
    {
     "name": "stderr",
     "output_type": "stream",
     "text": [
      " 25%|█████████████████▋                                                     | 65616/263496 [2:12:57<6:39:10,  8.26it/s]"
     ]
    },
    {
     "name": "stdout",
     "output_type": "stream",
     "text": [
      "[0.9939874410629272]\n",
      "14.323792337717784\n",
      "120.94599455595016\n"
     ]
    },
    {
     "name": "stderr",
     "output_type": "stream",
     "text": [
      " 26%|██████████████████▍                                                    | 68249/263496 [2:18:19<6:41:12,  8.11it/s]"
     ]
    },
    {
     "name": "stdout",
     "output_type": "stream",
     "text": [
      "[0.9607064127922058]\n",
      "14.420416675619348\n",
      "120.94880014657974\n"
     ]
    },
    {
     "name": "stderr",
     "output_type": "stream",
     "text": [
      " 26%|██████████████████▌                                                    | 69085/263496 [2:20:02<6:37:28,  8.15it/s]"
     ]
    },
    {
     "name": "stdout",
     "output_type": "stream",
     "text": [
      "[0.929514467716217]\n",
      "14.64094946218738\n",
      "120.94951093196869\n"
     ]
    },
    {
     "name": "stderr",
     "output_type": "stream",
     "text": [
      " 27%|███████████████████                                                    | 70556/263496 [2:23:02<6:36:24,  8.11it/s]"
     ]
    },
    {
     "name": "stdout",
     "output_type": "stream",
     "text": [
      "[0.8459452390670776]\n",
      "14.791878490988788\n",
      "120.95078229904175\n"
     ]
    },
    {
     "name": "stderr",
     "output_type": "stream",
     "text": [
      " 27%|███████████████████▏                                                   | 70981/263496 [2:23:54<6:35:06,  8.12it/s]"
     ]
    },
    {
     "name": "stdout",
     "output_type": "stream",
     "text": [
      "[0.7381938099861145]\n",
      "14.660808973025555\n",
      "120.95166742801666\n"
     ]
    },
    {
     "name": "stderr",
     "output_type": "stream",
     "text": [
      " 27%|███████████████████▏                                                   | 71201/263496 [2:24:21<6:37:25,  8.06it/s]"
     ]
    },
    {
     "name": "stdout",
     "output_type": "stream",
     "text": [
      "[0.730702817440033]\n",
      "14.80700349962923\n",
      "120.95163255929947\n"
     ]
    },
    {
     "name": "stderr",
     "output_type": "stream",
     "text": [
      " 27%|███████████████████▎                                                   | 71802/263496 [2:25:34<6:39:16,  8.00it/s]"
     ]
    },
    {
     "name": "stdout",
     "output_type": "stream",
     "text": [
      "[0.984184980392456]\n",
      "14.793048074941309\n",
      "120.95225751399994\n"
     ]
    },
    {
     "name": "stderr",
     "output_type": "stream",
     "text": [
      " 28%|███████████████████▋                                                   | 73039/263496 [2:28:05<6:23:44,  8.27it/s]"
     ]
    },
    {
     "name": "stdout",
     "output_type": "stream",
     "text": [
      "[0.9946807026863098]\n",
      "14.789696201679925\n",
      "120.95370054244995\n"
     ]
    },
    {
     "name": "stderr",
     "output_type": "stream",
     "text": [
      " 28%|████████████████████▏                                                  | 74849/263496 [2:31:42<6:17:33,  8.33it/s]"
     ]
    },
    {
     "name": "stdout",
     "output_type": "stream",
     "text": [
      "[0.9551894068717957]\n",
      "14.754856996470753\n",
      "120.95566257834435\n"
     ]
    },
    {
     "name": "stderr",
     "output_type": "stream",
     "text": [
      " 30%|█████████████████████                                                  | 77983/263496 [2:37:59<6:17:25,  8.19it/s]"
     ]
    },
    {
     "name": "stdout",
     "output_type": "stream",
     "text": [
      "[0.9983842372894287]\n",
      "14.77410055792049\n",
      "120.9591494500637\n"
     ]
    },
    {
     "name": "stderr",
     "output_type": "stream",
     "text": [
      " 30%|█████████████████████                                                  | 78044/263496 [2:38:06<6:13:46,  8.27it/s]"
     ]
    },
    {
     "name": "stdout",
     "output_type": "stream",
     "text": [
      "[0.948479950428009]\n",
      "14.814318620264105\n",
      "120.95897644758224\n"
     ]
    },
    {
     "name": "stderr",
     "output_type": "stream",
     "text": [
      " 30%|█████████████████████▍                                                 | 79629/263496 [2:41:17<6:11:34,  8.25it/s]"
     ]
    },
    {
     "name": "stdout",
     "output_type": "stream",
     "text": [
      "[0.9498510956764221]\n",
      "14.629643555047151\n",
      "120.96121206879614\n"
     ]
    },
    {
     "name": "stderr",
     "output_type": "stream",
     "text": [
      " 32%|██████████████████████▋                                                | 84065/263496 [2:50:11<6:03:45,  8.22it/s]"
     ]
    },
    {
     "name": "stdout",
     "output_type": "stream",
     "text": [
      "[0.7768580317497253]\n",
      "14.688904521964766\n",
      "120.96598237752913\n"
     ]
    },
    {
     "name": "stderr",
     "output_type": "stream",
     "text": [
      " 32%|██████████████████████▊                                                | 84525/263496 [2:51:07<6:02:33,  8.23it/s]"
     ]
    },
    {
     "name": "stdout",
     "output_type": "stream",
     "text": [
      "[0.8873697519302368]\n",
      "14.581994824561734\n",
      "120.96649199724196\n"
     ]
    },
    {
     "name": "stderr",
     "output_type": "stream",
     "text": [
      " 32%|██████████████████████▉                                                | 85277/263496 [2:52:37<6:02:13,  8.20it/s]"
     ]
    },
    {
     "name": "stdout",
     "output_type": "stream",
     "text": [
      "[0.9918941855430603]\n",
      "14.668919117826645\n",
      "120.96733823418616\n"
     ]
    },
    {
     "name": "stderr",
     "output_type": "stream",
     "text": [
      " 33%|███████████████████████▌                                               | 87279/263496 [2:56:39<5:57:46,  8.21it/s]"
     ]
    },
    {
     "name": "stdout",
     "output_type": "stream",
     "text": [
      "[0.9540920257568359]\n",
      "14.761167526412848\n",
      "120.96935927867891\n"
     ]
    },
    {
     "name": "stderr",
     "output_type": "stream",
     "text": [
      " 34%|████████████████████████                                               | 89364/263496 [3:00:53<5:57:45,  8.11it/s]"
     ]
    },
    {
     "name": "stdout",
     "output_type": "stream",
     "text": [
      "[0.9955677390098572]\n",
      "14.41703184077826\n",
      "120.97202003002168\n"
     ]
    },
    {
     "name": "stderr",
     "output_type": "stream",
     "text": [
      " 34%|████████████████████████▏                                              | 89608/263496 [3:01:23<5:59:14,  8.07it/s]"
     ]
    },
    {
     "name": "stdout",
     "output_type": "stream",
     "text": [
      "[0.9980949759483337]\n",
      "14.658454107419121\n",
      "120.97225069999696\n"
     ]
    },
    {
     "name": "stderr",
     "output_type": "stream",
     "text": [
      " 34%|████████████████████████▏                                              | 89765/263496 [3:01:43<6:00:33,  8.03it/s]"
     ]
    },
    {
     "name": "stdout",
     "output_type": "stream",
     "text": [
      "[0.9771302938461304]\n",
      "14.762491599179668\n",
      "120.97210451960565\n"
     ]
    },
    {
     "name": "stderr",
     "output_type": "stream",
     "text": [
      " 34%|████████████████████████▎                                              | 90147/263496 [3:02:30<5:56:20,  8.11it/s]"
     ]
    },
    {
     "name": "stdout",
     "output_type": "stream",
     "text": [
      "[0.9961860775947571]\n",
      "14.60378427818246\n",
      "120.97275763750078\n"
     ]
    },
    {
     "name": "stderr",
     "output_type": "stream",
     "text": [
      " 34%|████████████████████████▍                                              | 90732/263496 [3:03:41<5:55:00,  8.11it/s]"
     ]
    },
    {
     "name": "stdout",
     "output_type": "stream",
     "text": [
      "[0.9983865022659302]\n",
      "14.579877930840425\n",
      "120.97357839345933\n"
     ]
    },
    {
     "name": "stderr",
     "output_type": "stream",
     "text": [
      " 35%|████████████████████████▋                                              | 91428/263496 [3:05:07<5:54:46,  8.08it/s]"
     ]
    },
    {
     "name": "stdout",
     "output_type": "stream",
     "text": [
      "[0.836149275302887]\n",
      "14.580024595515049\n",
      "120.97443938255311\n",
      "[0.9982112646102905]\n",
      "14.580539867910574\n",
      "120.97415104508401\n"
     ]
    },
    {
     "name": "stderr",
     "output_type": "stream",
     "text": [
      " 36%|█████████████████████████▎                                             | 93988/263496 [3:10:20<5:46:46,  8.15it/s]"
     ]
    },
    {
     "name": "stdout",
     "output_type": "stream",
     "text": [
      "[0.9681728482246399]\n",
      "14.384336835394645\n",
      "120.97695529460908\n"
     ]
    },
    {
     "name": "stderr",
     "output_type": "stream",
     "text": [
      " 36%|█████████████████████████▍                                             | 94330/263496 [3:11:02<5:45:09,  8.17it/s]"
     ]
    },
    {
     "name": "stdout",
     "output_type": "stream",
     "text": [
      "[0.8383255004882812]\n",
      "14.658367177980537\n",
      "120.9767970442772\n"
     ]
    },
    {
     "name": "stderr",
     "output_type": "stream",
     "text": [
      " 36%|█████████████████████████▌                                             | 94684/263496 [3:11:44<5:42:31,  8.21it/s]"
     ]
    },
    {
     "name": "stdout",
     "output_type": "stream",
     "text": [
      "[0.9983600974082947]\n",
      "14.384427769706615\n",
      "120.97761377692223\n"
     ]
    },
    {
     "name": "stderr",
     "output_type": "stream",
     "text": [
      " 36%|█████████████████████████▊                                             | 95621/263496 [3:13:37<5:37:25,  8.29it/s]"
     ]
    },
    {
     "name": "stdout",
     "output_type": "stream",
     "text": [
      "[0.9946814179420471]\n",
      "14.591207163651603\n",
      "120.97833663225174\n"
     ]
    },
    {
     "name": "stderr",
     "output_type": "stream",
     "text": [
      " 37%|█████████████████████████▉                                             | 96301/263496 [3:14:58<5:37:35,  8.25it/s]"
     ]
    },
    {
     "name": "stdout",
     "output_type": "stream",
     "text": [
      "[0.9785979390144348]\n",
      "14.580481461800424\n",
      "120.97883552312851\n"
     ]
    },
    {
     "name": "stderr",
     "output_type": "stream",
     "text": [
      " 37%|██████████████████████████▏                                            | 97133/263496 [3:16:38<5:37:32,  8.21it/s]"
     ]
    },
    {
     "name": "stdout",
     "output_type": "stream",
     "text": [
      "[0.9988982677459717]\n",
      "14.670975473789202\n",
      "120.9796442091465\n"
     ]
    },
    {
     "name": "stderr",
     "output_type": "stream",
     "text": [
      " 37%|██████████████████████████▍                                            | 98148/263496 [3:18:41<5:36:20,  8.19it/s]"
     ]
    },
    {
     "name": "stdout",
     "output_type": "stream",
     "text": [
      "[0.9642922878265381]\n",
      "14.373977871967078\n",
      "120.9810309112072\n"
     ]
    },
    {
     "name": "stderr",
     "output_type": "stream",
     "text": [
      " 37%|██████████████████████████▍                                            | 98285/263496 [3:18:58<5:34:46,  8.23it/s]"
     ]
    },
    {
     "name": "stdout",
     "output_type": "stream",
     "text": [
      "[0.9968536496162415]\n",
      "14.464942074683474\n",
      "120.98110064864159\n"
     ]
    },
    {
     "name": "stderr",
     "output_type": "stream",
     "text": [
      " 38%|██████████████████████████▋                                            | 99073/263496 [3:20:33<5:46:19,  7.91it/s]"
     ]
    },
    {
     "name": "stdout",
     "output_type": "stream",
     "text": [
      "[0.9981936812400818]\n",
      "14.572663985754636\n",
      "120.98181679844856\n"
     ]
    },
    {
     "name": "stderr",
     "output_type": "stream",
     "text": [
      " 38%|██████████████████████████▊                                            | 99390/263496 [3:21:12<5:34:47,  8.17it/s]"
     ]
    },
    {
     "name": "stdout",
     "output_type": "stream",
     "text": [
      "[0.9474658966064453]\n",
      "14.783096036803103\n",
      "120.98174303770065\n"
     ]
    },
    {
     "name": "stderr",
     "output_type": "stream",
     "text": [
      " 38%|██████████████████████████▌                                           | 100013/263496 [3:22:27<5:34:54,  8.14it/s]"
     ]
    },
    {
     "name": "stdout",
     "output_type": "stream",
     "text": [
      "[0.9913849830627441]\n",
      "14.734784247928317\n",
      "120.98241493105888\n"
     ]
    },
    {
     "name": "stderr",
     "output_type": "stream",
     "text": [
      " 38%|██████████████████████████▉                                           | 101207/263496 [3:24:52<5:27:04,  8.27it/s]"
     ]
    },
    {
     "name": "stdout",
     "output_type": "stream",
     "text": [
      "[0.9899465441703796]\n",
      "14.603160046647291\n",
      "120.98391965031624\n"
     ]
    },
    {
     "name": "stderr",
     "output_type": "stream",
     "text": [
      " 39%|███████████████████████████                                           | 101640/263496 [3:25:45<5:28:26,  8.21it/s]"
     ]
    },
    {
     "name": "stdout",
     "output_type": "stream",
     "text": [
      "[0.8233539462089539]\n",
      "14.38184392076205\n",
      "120.98457679152489\n"
     ]
    },
    {
     "name": "stderr",
     "output_type": "stream",
     "text": [
      " 39%|███████████████████████████▏                                          | 102371/263496 [3:27:13<5:27:31,  8.20it/s]"
     ]
    },
    {
     "name": "stdout",
     "output_type": "stream",
     "text": [
      "[0.7219860553741455]\n",
      "14.405070207243169\n",
      "120.9851561486721\n"
     ]
    },
    {
     "name": "stderr",
     "output_type": "stream",
     "text": [
      " 39%|███████████████████████████▏                                          | 102529/263496 [3:27:32<5:24:20,  8.27it/s]"
     ]
    },
    {
     "name": "stdout",
     "output_type": "stream",
     "text": [
      "[0.9735593795776367]\n",
      "14.510033709835215\n",
      "120.98527684807777\n"
     ]
    },
    {
     "name": "stderr",
     "output_type": "stream",
     "text": [
      " 39%|███████████████████████████▏                                          | 102555/263496 [3:27:36<5:22:04,  8.33it/s]"
     ]
    },
    {
     "name": "stdout",
     "output_type": "stream",
     "text": [
      "[0.9109604954719543]\n",
      "14.57417091258241\n",
      "120.98498180508614\n"
     ]
    },
    {
     "name": "stderr",
     "output_type": "stream",
     "text": [
      " 39%|███████████████████████████▍                                          | 103177/263496 [3:28:51<5:23:59,  8.25it/s]"
     ]
    },
    {
     "name": "stdout",
     "output_type": "stream",
     "text": [
      "[0.9660179615020752]\n",
      "14.478315874849072\n",
      "120.98577037453651\n"
     ]
    },
    {
     "name": "stderr",
     "output_type": "stream",
     "text": [
      " 39%|███████████████████████████▍                                          | 103218/263496 [3:28:56<5:22:00,  8.30it/s]"
     ]
    },
    {
     "name": "stdout",
     "output_type": "stream",
     "text": [
      "[0.9506276249885559]\n",
      "14.505568713637496\n",
      "120.98582401871681\n"
     ]
    },
    {
     "name": "stderr",
     "output_type": "stream",
     "text": [
      " 39%|███████████████████████████▌                                          | 103942/263496 [3:30:24<5:20:40,  8.29it/s]"
     ]
    },
    {
     "name": "stdout",
     "output_type": "stream",
     "text": [
      "[0.9769660830497742]\n",
      "14.570402927476879\n",
      "120.98652943968773\n"
     ]
    },
    {
     "name": "stderr",
     "output_type": "stream",
     "text": [
      " 40%|███████████████████████████▉                                          | 105314/263496 [3:33:10<5:27:48,  8.04it/s]"
     ]
    },
    {
     "name": "stdout",
     "output_type": "stream",
     "text": [
      "[0.914846658706665]\n",
      "14.510768562433697\n",
      "120.98792552947998\n"
     ]
    },
    {
     "name": "stderr",
     "output_type": "stream",
     "text": [
      " 40%|███████████████████████████▉                                          | 105316/263496 [3:33:10<5:26:40,  8.07it/s]"
     ]
    },
    {
     "name": "stdout",
     "output_type": "stream",
     "text": [
      "[0.9979300498962402]\n",
      "14.512126605202027\n",
      "120.98791345953941\n"
     ]
    },
    {
     "name": "stderr",
     "output_type": "stream",
     "text": [
      " 40%|███████████████████████████▉                                          | 105318/263496 [3:33:11<5:23:58,  8.14it/s]"
     ]
    },
    {
     "name": "stdout",
     "output_type": "stream",
     "text": [
      "[0.9381647706031799]\n",
      "14.513475551484735\n",
      "120.98802074790001\n"
     ]
    },
    {
     "name": "stderr",
     "output_type": "stream",
     "text": [
      " 40%|████████████████████████████▏                                         | 106113/263496 [3:34:47<5:22:04,  8.14it/s]"
     ]
    },
    {
     "name": "stdout",
     "output_type": "stream",
     "text": [
      "[0.9881707429885864]\n",
      "14.625626074224728\n",
      "120.98874360322952\n"
     ]
    },
    {
     "name": "stderr",
     "output_type": "stream",
     "text": [
      " 41%|████████████████████████████▌                                         | 107283/263496 [3:37:08<5:20:31,  8.12it/s]"
     ]
    },
    {
     "name": "stdout",
     "output_type": "stream",
     "text": [
      "[0.9923412799835205]\n",
      "14.43159431822334\n",
      "120.99010348320007\n"
     ]
    },
    {
     "name": "stderr",
     "output_type": "stream",
     "text": [
      " 41%|████████████████████████████▊                                         | 108247/263496 [3:39:05<5:16:30,  8.18it/s]"
     ]
    },
    {
     "name": "stdout",
     "output_type": "stream",
     "text": [
      "[0.9973657727241516]\n",
      "14.656393741433346\n",
      "120.99063590168953\n"
     ]
    },
    {
     "name": "stderr",
     "output_type": "stream",
     "text": [
      " 41%|████████████████████████████▊                                         | 108267/263496 [3:39:08<5:15:16,  8.21it/s]"
     ]
    },
    {
     "name": "stdout",
     "output_type": "stream",
     "text": [
      "[0.994821310043335]\n",
      "14.669493861567933\n",
      "120.99079415202141\n"
     ]
    },
    {
     "name": "stderr",
     "output_type": "stream",
     "text": [
      " 42%|█████████████████████████████▎                                        | 110532/263496 [3:43:42<5:08:53,  8.25it/s]"
     ]
    },
    {
     "name": "stdout",
     "output_type": "stream",
     "text": [
      "[0.8899272084236145]\n",
      "14.787307717266449\n",
      "120.99269315600395\n"
     ]
    },
    {
     "name": "stderr",
     "output_type": "stream",
     "text": [
      " 42%|█████████████████████████████▌                                        | 111454/263496 [3:45:34<5:12:20,  8.11it/s]"
     ]
    },
    {
     "name": "stdout",
     "output_type": "stream",
     "text": [
      "[0.9860566854476929]\n",
      "14.428297972064543\n",
      "120.99423944950104\n"
     ]
    },
    {
     "name": "stderr",
     "output_type": "stream",
     "text": [
      " 42%|█████████████████████████████▌                                        | 111460/263496 [3:45:35<5:12:02,  8.12it/s]"
     ]
    },
    {
     "name": "stdout",
     "output_type": "stream",
     "text": [
      "[0.9975736737251282]\n",
      "14.432463205128878\n",
      "120.99411338567734\n"
     ]
    },
    {
     "name": "stderr",
     "output_type": "stream",
     "text": [
      " 43%|██████████████████████████████▎                                       | 113953/263496 [3:50:38<5:05:45,  8.15it/s]"
     ]
    },
    {
     "name": "stdout",
     "output_type": "stream",
     "text": [
      "[0.995555579662323]\n",
      "14.747890041621583\n",
      "120.99624440073967\n"
     ]
    },
    {
     "name": "stderr",
     "output_type": "stream",
     "text": [
      " 44%|██████████████████████████████▋                                       | 115738/263496 [3:54:15<4:57:05,  8.29it/s]"
     ]
    },
    {
     "name": "stdout",
     "output_type": "stream",
     "text": [
      "[0.9893509745597839]\n",
      "14.50001298499847\n",
      "120.9983941912651\n"
     ]
    },
    {
     "name": "stderr",
     "output_type": "stream",
     "text": [
      " 44%|███████████████████████████████                                       | 117131/263496 [3:57:04<5:02:00,  8.08it/s]"
     ]
    },
    {
     "name": "stdout",
     "output_type": "stream",
     "text": [
      "[0.9984519481658936]\n",
      "14.500925749204136\n",
      "120.9995649755001\n"
     ]
    },
    {
     "name": "stderr",
     "output_type": "stream",
     "text": [
      " 45%|███████████████████████████████▎                                      | 117823/263496 [3:58:28<4:56:47,  8.18it/s]"
     ]
    },
    {
     "name": "stdout",
     "output_type": "stream",
     "text": [
      "[0.9965852499008179]\n",
      "14.4981121381005\n",
      "121.0003374516964\n"
     ]
    },
    {
     "name": "stderr",
     "output_type": "stream",
     "text": [
      " 45%|███████████████████████████████▎                                      | 118038/263496 [3:58:54<4:52:27,  8.29it/s]"
     ]
    },
    {
     "name": "stdout",
     "output_type": "stream",
     "text": [
      "[0.9118070006370544]\n",
      "14.68734000520774\n",
      "121.0004286468029\n"
     ]
    },
    {
     "name": "stderr",
     "output_type": "stream",
     "text": [
      " 45%|███████████████████████████████▌                                      | 118672/263496 [4:00:11<4:58:58,  8.07it/s]"
     ]
    },
    {
     "name": "stdout",
     "output_type": "stream",
     "text": [
      "[0.8975226879119873]\n",
      "14.646252514318425\n",
      "121.00102946162224\n"
     ]
    },
    {
     "name": "stderr",
     "output_type": "stream",
     "text": [
      " 45%|███████████████████████████████▋                                      | 119325/263496 [4:01:30<4:52:42,  8.21it/s]"
     ]
    },
    {
     "name": "stdout",
     "output_type": "stream",
     "text": [
      "[0.9657080173492432]\n",
      "14.617784248482215\n",
      "121.00169062614441\n"
     ]
    },
    {
     "name": "stderr",
     "output_type": "stream",
     "text": [
      " 45%|███████████████████████████████▋                                      | 119331/263496 [4:01:31<4:56:34,  8.10it/s]"
     ]
    },
    {
     "name": "stdout",
     "output_type": "stream",
     "text": [
      "[0.9996498823165894]\n",
      "14.621731798588579\n",
      "121.00173622369766\n"
     ]
    },
    {
     "name": "stderr",
     "output_type": "stream",
     "text": [
      " 46%|████████████████████████████████▍                                     | 122111/263496 [4:07:08<4:44:37,  8.28it/s]"
     ]
    },
    {
     "name": "stdout",
     "output_type": "stream",
     "text": [
      "[0.9986410737037659]\n",
      "14.619115678633658\n",
      "121.00437819957732\n"
     ]
    },
    {
     "name": "stderr",
     "output_type": "stream",
     "text": [
      " 46%|████████████████████████████████▍                                     | 122144/263496 [4:07:12<4:42:54,  8.33it/s]"
     ]
    },
    {
     "name": "stdout",
     "output_type": "stream",
     "text": [
      "[0.9978145360946655]\n",
      "14.641009149788934\n",
      "121.00441306829451\n"
     ]
    },
    {
     "name": "stderr",
     "output_type": "stream",
     "text": [
      " 47%|████████████████████████████████▉                                     | 124107/263496 [4:11:10<4:44:55,  8.15it/s]"
     ]
    },
    {
     "name": "stdout",
     "output_type": "stream",
     "text": [
      "[0.9982099533081055]\n",
      "14.511543660532324\n",
      "121.0065360367298\n"
     ]
    },
    {
     "name": "stderr",
     "output_type": "stream",
     "text": [
      " 47%|█████████████████████████████████▏                                    | 125160/263496 [4:13:18<4:41:32,  8.19it/s]"
     ]
    },
    {
     "name": "stdout",
     "output_type": "stream",
     "text": [
      "[0.7717775106430054]\n",
      "14.795164201910392\n",
      "121.0072937607765\n"
     ]
    },
    {
     "name": "stderr",
     "output_type": "stream",
     "text": [
      " 48%|█████████████████████████████████▎                                    | 125276/263496 [4:13:32<4:43:01,  8.14it/s]"
     ]
    },
    {
     "name": "stdout",
     "output_type": "stream",
     "text": [
      "[0.8297072052955627]\n",
      "14.362988324048523\n",
      "121.00794285535811\n"
     ]
    },
    {
     "name": "stderr",
     "output_type": "stream",
     "text": [
      " 48%|█████████████████████████████████▊                                    | 127072/263496 [4:17:11<4:39:54,  8.12it/s]"
     ]
    },
    {
     "name": "stdout",
     "output_type": "stream",
     "text": [
      "[0.9968016147613525]\n",
      "14.678334085861739\n",
      "121.00931614637373\n"
     ]
    },
    {
     "name": "stderr",
     "output_type": "stream",
     "text": [
      " 49%|██████████████████████████████████▍                                   | 129555/263496 [4:22:14<4:30:50,  8.24it/s]"
     ]
    },
    {
     "name": "stdout",
     "output_type": "stream",
     "text": [
      "[0.9986658096313477]\n",
      "14.431717702949344\n",
      "121.01185485720636\n"
     ]
    },
    {
     "name": "stderr",
     "output_type": "stream",
     "text": [
      " 49%|██████████████████████████████████▍                                   | 129788/263496 [4:22:42<4:34:22,  8.12it/s]"
     ]
    },
    {
     "name": "stdout",
     "output_type": "stream",
     "text": [
      "[0.9832104444503784]\n",
      "14.633019946848492\n",
      "121.01209089159967\n"
     ]
    },
    {
     "name": "stderr",
     "output_type": "stream",
     "text": [
      " 49%|██████████████████████████████████▍                                   | 129799/263496 [4:22:43<4:36:17,  8.07it/s]"
     ]
    },
    {
     "name": "stdout",
     "output_type": "stream",
     "text": [
      "[0.819613516330719]\n",
      "14.64035647772526\n",
      "121.01205870509149\n"
     ]
    },
    {
     "name": "stderr",
     "output_type": "stream",
     "text": [
      " 49%|██████████████████████████████████▌                                   | 130206/263496 [4:23:33<4:29:33,  8.24it/s]"
     ]
    },
    {
     "name": "stdout",
     "output_type": "stream",
     "text": [
      "[0.9602491855621338]\n",
      "14.401578624639157\n",
      "121.0127453505993\n"
     ]
    },
    {
     "name": "stderr",
     "output_type": "stream",
     "text": [
      " 50%|██████████████████████████████████▊                                   | 131064/263496 [4:25:18<4:38:55,  7.91it/s]"
     ]
    },
    {
     "name": "stdout",
     "output_type": "stream",
     "text": [
      "[0.8550823926925659]\n",
      "14.50960396274751\n",
      "121.0134829580784\n"
     ]
    },
    {
     "name": "stderr",
     "output_type": "stream",
     "text": [
      " 50%|██████████████████████████████████▉                                   | 131600/263496 [4:26:23<4:35:24,  7.98it/s]"
     ]
    },
    {
     "name": "stdout",
     "output_type": "stream",
     "text": [
      "[0.8895860910415649]\n",
      "14.403024364655804\n",
      "121.01413473486902\n"
     ]
    },
    {
     "name": "stderr",
     "output_type": "stream",
     "text": [
      " 51%|███████████████████████████████████▌                                  | 133678/263496 [4:30:36<4:25:44,  8.14it/s]"
     ]
    },
    {
     "name": "stdout",
     "output_type": "stream",
     "text": [
      "[0.998296320438385]\n",
      "14.39642558260213\n",
      "121.01615175604822\n"
     ]
    },
    {
     "name": "stderr",
     "output_type": "stream",
     "text": [
      " 51%|███████████████████████████████████▌                                  | 133929/263496 [4:31:07<4:28:00,  8.06it/s]"
     ]
    },
    {
     "name": "stdout",
     "output_type": "stream",
     "text": [
      "[0.9066550135612488]\n",
      "14.609755268164658\n",
      "121.01604849100114\n"
     ]
    },
    {
     "name": "stderr",
     "output_type": "stream",
     "text": [
      " 51%|███████████████████████████████████▋                                  | 134224/263496 [4:31:43<4:19:56,  8.29it/s]"
     ]
    },
    {
     "name": "stdout",
     "output_type": "stream",
     "text": [
      "[0.7395491003990173]\n",
      "14.805804169682384\n",
      "121.01607397198678\n"
     ]
    },
    {
     "name": "stderr",
     "output_type": "stream",
     "text": [
      " 51%|███████████████████████████████████▉                                  | 135403/263496 [4:34:06<4:20:55,  8.18it/s]"
     ]
    },
    {
     "name": "stdout",
     "output_type": "stream",
     "text": [
      "[0.7811528444290161]\n",
      "14.664392471880177\n",
      "121.01759746670724\n"
     ]
    },
    {
     "name": "stderr",
     "output_type": "stream",
     "text": [
      " 52%|████████████████████████████████████                                  | 135763/263496 [4:34:50<4:23:21,  8.08it/s]"
     ]
    },
    {
     "name": "stdout",
     "output_type": "stream",
     "text": [
      "[0.9861146211624146]\n",
      "14.394480983039184\n",
      "121.01813659071924\n"
     ]
    },
    {
     "name": "stderr",
     "output_type": "stream",
     "text": [
      " 52%|████████████████████████████████████▎                                 | 136638/263496 [4:36:37<4:26:39,  7.93it/s]"
     ]
    },
    {
     "name": "stdout",
     "output_type": "stream",
     "text": [
      "[0.7632697820663452]\n",
      "14.513518395655831\n",
      "121.01882725954057\n"
     ]
    },
    {
     "name": "stderr",
     "output_type": "stream",
     "text": [
      " 52%|████████████████████████████████████▌                                 | 137621/263496 [4:38:37<4:18:20,  8.12it/s]"
     ]
    },
    {
     "name": "stdout",
     "output_type": "stream",
     "text": [
      "[0.9833452105522156]\n",
      "14.750629124135251\n",
      "121.01958230137825\n"
     ]
    },
    {
     "name": "stderr",
     "output_type": "stream",
     "text": [
      " 53%|████████████████████████████████████▊                                 | 138705/263496 [4:40:49<4:14:21,  8.18it/s]"
     ]
    },
    {
     "name": "stdout",
     "output_type": "stream",
     "text": [
      "[0.9966704249382019]\n",
      "14.49944039550642\n",
      "121.02090999484062\n"
     ]
    },
    {
     "name": "stderr",
     "output_type": "stream",
     "text": [
      " 53%|████████████████████████████████████▉                                 | 139013/263496 [4:41:27<4:15:32,  8.12it/s]"
     ]
    },
    {
     "name": "stdout",
     "output_type": "stream",
     "text": [
      "[0.9795605540275574]\n",
      "14.750585029337708\n",
      "121.02087512612343\n"
     ]
    },
    {
     "name": "stderr",
     "output_type": "stream",
     "text": [
      " 53%|█████████████████████████████████████▎                                | 140440/263496 [4:44:21<4:10:40,  8.18it/s]"
     ]
    },
    {
     "name": "stdout",
     "output_type": "stream",
     "text": [
      "[0.8782296180725098]\n",
      "14.771766366643558\n",
      "121.02226987481117\n"
     ]
    },
    {
     "name": "stderr",
     "output_type": "stream",
     "text": [
      " 54%|█████████████████████████████████████▋                                | 141830/263496 [4:47:10<4:09:04,  8.14it/s]"
     ]
    },
    {
     "name": "stdout",
     "output_type": "stream",
     "text": [
      "[0.9551499485969543]\n",
      "14.767981033237884\n",
      "121.02377325296402\n"
     ]
    },
    {
     "name": "stderr",
     "output_type": "stream",
     "text": [
      " 54%|█████████████████████████████████████▉                                | 142995/263496 [4:49:32<4:06:55,  8.13it/s]"
     ]
    },
    {
     "name": "stdout",
     "output_type": "stream",
     "text": [
      "[0.988249659538269]\n",
      "14.614489378356128\n",
      "121.0251572728157\n"
     ]
    },
    {
     "name": "stderr",
     "output_type": "stream",
     "text": [
      " 55%|██████████████████████████████████████▏                               | 143800/263496 [4:51:10<3:59:47,  8.32it/s]"
     ]
    },
    {
     "name": "stdout",
     "output_type": "stream",
     "text": [
      "[0.9929893016815186]\n",
      "14.685584775093162\n",
      "121.02577954530716\n"
     ]
    },
    {
     "name": "stderr",
     "output_type": "stream",
     "text": [
      " 55%|██████████████████████████████████████▎                               | 144311/263496 [4:52:12<4:03:33,  8.16it/s]"
     ]
    },
    {
     "name": "stdout",
     "output_type": "stream",
     "text": [
      "[0.9116879105567932, 0.8294781446456909]\n",
      "14.515944919889995\n",
      "121.02649837732315\n",
      "14.516231842558282\n",
      "121.02629318833351\n"
     ]
    },
    {
     "name": "stderr",
     "output_type": "stream",
     "text": [
      " 55%|██████████████████████████████████████▍                               | 144543/263496 [4:52:40<4:01:11,  8.22it/s]"
     ]
    },
    {
     "name": "stdout",
     "output_type": "stream",
     "text": [
      "[0.9995317459106445]\n",
      "14.71561892898157\n",
      "121.02645546197891\n"
     ]
    },
    {
     "name": "stderr",
     "output_type": "stream",
     "text": [
      " 55%|██████████████████████████████████████▌                               | 145009/263496 [4:53:37<4:04:51,  8.06it/s]"
     ]
    },
    {
     "name": "stdout",
     "output_type": "stream",
     "text": [
      "[0.7918248176574707]\n",
      "14.516050081591946\n",
      "121.02706164121628\n"
     ]
    },
    {
     "name": "stderr",
     "output_type": "stream",
     "text": [
      " 55%|██████████████████████████████████████▌                               | 145014/263496 [4:53:38<4:04:02,  8.09it/s]"
     ]
    },
    {
     "name": "stdout",
     "output_type": "stream",
     "text": [
      "[0.9985509514808655]\n",
      "14.563996036664166\n",
      "121.0271367430687\n"
     ]
    },
    {
     "name": "stderr",
     "output_type": "stream",
     "text": [
      " 57%|████████████████████████████████████████                              | 150689/263496 [5:05:11<3:49:12,  8.20it/s]"
     ]
    },
    {
     "name": "stdout",
     "output_type": "stream",
     "text": [
      "[0.9964016675949097]\n",
      "14.618418820004285\n",
      "121.0326500236988\n"
     ]
    },
    {
     "name": "stderr",
     "output_type": "stream",
     "text": [
      " 57%|████████████████████████████████████████▏                             | 151209/263496 [5:06:14<3:50:55,  8.10it/s]"
     ]
    },
    {
     "name": "stdout",
     "output_type": "stream",
     "text": [
      "[0.9671372175216675]\n",
      "14.454775162379\n",
      "121.03341311216354\n"
     ]
    },
    {
     "name": "stderr",
     "output_type": "stream",
     "text": [
      " 57%|████████████████████████████████████████▏                             | 151474/263496 [5:06:47<3:50:52,  8.09it/s]"
     ]
    },
    {
     "name": "stdout",
     "output_type": "stream",
     "text": [
      "[0.9552210569381714]\n",
      "14.674988231398753\n",
      "121.03325217962265\n"
     ]
    },
    {
     "name": "stderr",
     "output_type": "stream",
     "text": [
      " 58%|████████████████████████████████████████▊                             | 153404/263496 [5:10:44<3:47:21,  8.07it/s]"
     ]
    },
    {
     "name": "stdout",
     "output_type": "stream",
     "text": [
      "[0.8445641398429871]\n",
      "14.56447240636321\n",
      "121.03559911251068\n"
     ]
    },
    {
     "name": "stderr",
     "output_type": "stream",
     "text": [
      " 58%|████████████████████████████████████████▊                             | 153797/263496 [5:11:32<3:44:34,  8.14it/s]"
     ]
    },
    {
     "name": "stdout",
     "output_type": "stream",
     "text": [
      "[0.8527788519859314]\n",
      "14.316580475771469\n",
      "121.03614896535873\n"
     ]
    },
    {
     "name": "stderr",
     "output_type": "stream",
     "text": [
      " 59%|█████████████████████████████████████████▌                            | 156258/263496 [5:16:34<3:41:07,  8.08it/s]"
     ]
    },
    {
     "name": "stdout",
     "output_type": "stream",
     "text": [
      "[0.9938358664512634]\n",
      "14.605826969368373\n",
      "121.03807345032692\n"
     ]
    },
    {
     "name": "stderr",
     "output_type": "stream",
     "text": [
      " 60%|██████████████████████████████████████████▎                           | 159138/263496 [5:22:28<3:35:09,  8.08it/s]"
     ]
    },
    {
     "name": "stdout",
     "output_type": "stream",
     "text": [
      "[0.9946603178977966]\n",
      "14.605768569959375\n",
      "121.04101449251175\n"
     ]
    },
    {
     "name": "stderr",
     "output_type": "stream",
     "text": [
      " 61%|██████████████████████████████████████████▍                           | 159929/263496 [5:24:05<3:31:34,  8.16it/s]"
     ]
    },
    {
     "name": "stdout",
     "output_type": "stream",
     "text": [
      "[0.9985520243644714]\n",
      "14.638987546924268\n",
      "121.04159116744995\n"
     ]
    },
    {
     "name": "stderr",
     "output_type": "stream",
     "text": [
      " 61%|██████████████████████████████████████████▍                           | 159944/263496 [5:24:07<3:32:41,  8.11it/s]"
     ]
    },
    {
     "name": "stdout",
     "output_type": "stream",
     "text": [
      "[0.9895569682121277]\n",
      "14.649138192727799\n",
      "121.04146242141724\n"
     ]
    },
    {
     "name": "stderr",
     "output_type": "stream",
     "text": [
      " 61%|██████████████████████████████████████████▌                           | 160278/263496 [5:24:48<3:31:45,  8.12it/s]"
     ]
    },
    {
     "name": "stdout",
     "output_type": "stream",
     "text": [
      "[0.9934667944908142]\n",
      "14.333172609071012\n",
      "121.04212090373039\n"
     ]
    },
    {
     "name": "stderr",
     "output_type": "stream",
     "text": [
      " 61%|██████████████████████████████████████████▋                           | 160625/263496 [5:25:31<3:31:59,  8.09it/s]"
     ]
    },
    {
     "name": "stdout",
     "output_type": "stream",
     "text": [
      "[0.9986327290534973]\n",
      "14.60909341897461\n",
      "121.04230061173439\n"
     ]
    },
    {
     "name": "stderr",
     "output_type": "stream",
     "text": [
      " 61%|██████████████████████████████████████████▊                           | 161009/263496 [5:26:18<3:30:32,  8.11it/s]"
     ]
    },
    {
     "name": "stdout",
     "output_type": "stream",
     "text": [
      "[0.7821162939071655]\n",
      "14.326658825991432\n",
      "121.04296177625656\n"
     ]
    },
    {
     "name": "stderr",
     "output_type": "stream",
     "text": [
      " 61%|██████████████████████████████████████████▉                           | 161450/263496 [5:27:12<3:29:39,  8.11it/s]"
     ]
    },
    {
     "name": "stdout",
     "output_type": "stream",
     "text": [
      "[0.9750251173973083]\n",
      "14.666399568933024\n",
      "121.04269623756409\n"
     ]
    },
    {
     "name": "stderr",
     "output_type": "stream",
     "text": [
      " 61%|██████████████████████████████████████████▉                           | 161739/263496 [5:27:48<3:28:02,  8.15it/s]"
     ]
    },
    {
     "name": "stdout",
     "output_type": "stream",
     "text": [
      "[0.9957615733146667]\n",
      "14.320821858396553\n",
      "121.04346469044685\n"
     ]
    },
    {
     "name": "stderr",
     "output_type": "stream",
     "text": [
      " 62%|███████████████████████████████████████████                           | 162115/263496 [5:28:34<3:27:05,  8.16it/s]"
     ]
    },
    {
     "name": "stdout",
     "output_type": "stream",
     "text": [
      "[0.9155265092849731]\n",
      "14.61723921628964\n",
      "121.0435451567173\n"
     ]
    },
    {
     "name": "stderr",
     "output_type": "stream",
     "text": [
      " 62%|███████████████████████████████████████████▏                          | 162661/263496 [5:29:41<3:27:41,  8.09it/s]"
     ]
    },
    {
     "name": "stdout",
     "output_type": "stream",
     "text": [
      "[0.7045795917510986]\n",
      "14.442389575091573\n",
      "121.0441567003727\n"
     ]
    },
    {
     "name": "stderr",
     "output_type": "stream",
     "text": [
      " 62%|███████████████████████████████████████████▎                          | 162816/263496 [5:30:00<3:28:53,  8.03it/s]"
     ]
    },
    {
     "name": "stdout",
     "output_type": "stream",
     "text": [
      "[0.9980225563049316]\n",
      "14.591976787961764\n",
      "121.04427203536034\n"
     ]
    },
    {
     "name": "stderr",
     "output_type": "stream",
     "text": [
      " 62%|███████████████████████████████████████████▋                          | 164672/263496 [5:33:48<3:22:47,  8.12it/s]"
     ]
    },
    {
     "name": "stdout",
     "output_type": "stream",
     "text": [
      "[0.7592151761054993]\n",
      "13.766437322828915\n",
      "121.04636415839194\n"
     ]
    },
    {
     "name": "stderr",
     "output_type": "stream",
     "text": [
      " 63%|████████████████████████████████████████████                          | 165766/263496 [5:36:02<3:21:29,  8.08it/s]"
     ]
    },
    {
     "name": "stdout",
     "output_type": "stream",
     "text": [
      "[0.9792546629905701]\n",
      "14.588088405696736\n",
      "121.04701995849608\n"
     ]
    },
    {
     "name": "stderr",
     "output_type": "stream",
     "text": [
      " 63%|████████████████████████████████████████████▍                         | 167105/263496 [5:38:50<3:22:32,  7.93it/s]"
     ]
    },
    {
     "name": "stdout",
     "output_type": "stream",
     "text": [
      "[0.9983757734298706, 0.9921435117721558]\n",
      "14.449170110541571\n",
      "121.04820415377615\n",
      "14.448964918204839\n",
      "121.04819610714911\n"
     ]
    },
    {
     "name": "stderr",
     "output_type": "stream",
     "text": [
      " 64%|████████████████████████████████████████████▌                         | 167626/263496 [5:39:54<3:18:36,  8.04it/s]"
     ]
    },
    {
     "name": "stdout",
     "output_type": "stream",
     "text": [
      "[0.9944658875465393]\n",
      "13.765182935215508\n",
      "121.04913353919981\n",
      "[0.9988345503807068]\n",
      "13.76558152642647\n",
      "121.04890018701552\n"
     ]
    },
    {
     "name": "stderr",
     "output_type": "stream",
     "text": [
      " 64%|████████████████████████████████████████████▌                         | 167839/263496 [5:40:21<3:21:18,  7.92it/s]"
     ]
    },
    {
     "name": "stdout",
     "output_type": "stream",
     "text": [
      "[0.8637741804122925]\n",
      "14.445771427062768\n",
      "121.0490959882736\n"
     ]
    },
    {
     "name": "stderr",
     "output_type": "stream",
     "text": [
      " 65%|█████████████████████████████████████████████▎                        | 170515/263496 [5:45:51<3:15:45,  7.92it/s]"
     ]
    },
    {
     "name": "stdout",
     "output_type": "stream",
     "text": [
      "[0.9975084066390991]\n",
      "14.797107856731028\n",
      "121.05106472969054\n"
     ]
    },
    {
     "name": "stderr",
     "output_type": "stream",
     "text": [
      " 65%|█████████████████████████████████████████████▌                        | 171538/263496 [5:47:57<3:08:20,  8.14it/s]"
     ]
    },
    {
     "name": "stdout",
     "output_type": "stream",
     "text": [
      "[0.7550241351127625]\n",
      "14.44852336471401\n",
      "121.05256944894789\n"
     ]
    },
    {
     "name": "stderr",
     "output_type": "stream",
     "text": [
      " 65%|█████████████████████████████████████████████▊                        | 172299/263496 [5:49:30<3:07:43,  8.10it/s]"
     ]
    },
    {
     "name": "stdout",
     "output_type": "stream",
     "text": [
      "[0.990148663520813]\n",
      "14.462850032524214\n",
      "121.0531447827816\n"
     ]
    },
    {
     "name": "stderr",
     "output_type": "stream",
     "text": [
      " 65%|█████████████████████████████████████████████▊                        | 172473/263496 [5:49:51<3:05:32,  8.18it/s]"
     ]
    },
    {
     "name": "stdout",
     "output_type": "stream",
     "text": [
      "[0.9935757517814636]\n",
      "14.625184873488518\n",
      "121.05324268341064\n"
     ]
    },
    {
     "name": "stderr",
     "output_type": "stream",
     "text": [
      " 67%|██████████████████████████████████████████████▌                       | 175387/263496 [5:55:46<2:58:09,  8.24it/s]"
     ]
    },
    {
     "name": "stdout",
     "output_type": "stream",
     "text": [
      "[0.9974921941757202]\n",
      "14.597117497727675\n",
      "121.05606436729433\n"
     ]
    },
    {
     "name": "stderr",
     "output_type": "stream",
     "text": [
      " 67%|██████████████████████████████████████████████▉                       | 176846/263496 [5:58:44<2:58:29,  8.09it/s]"
     ]
    },
    {
     "name": "stdout",
     "output_type": "stream",
     "text": [
      "[0.9985105395317078]\n",
      "14.584460830843557\n",
      "121.05731025338174\n"
     ]
    },
    {
     "name": "stderr",
     "output_type": "stream",
     "text": [
      " 67%|██████████████████████████████████████████████▉                       | 176849/263496 [5:58:44<2:57:47,  8.12it/s]"
     ]
    },
    {
     "name": "stdout",
     "output_type": "stream",
     "text": [
      "[0.997280478477478]\n",
      "14.586662042564717\n",
      "121.05709567666055\n"
     ]
    },
    {
     "name": "stderr",
     "output_type": "stream",
     "text": [
      " 68%|███████████████████████████████████████████████▍                      | 178425/263496 [6:01:56<2:52:40,  8.21it/s]"
     ]
    },
    {
     "name": "stdout",
     "output_type": "stream",
     "text": [
      "[0.7254890203475952]\n",
      "14.651787689541647\n",
      "121.05871170759202\n"
     ]
    },
    {
     "name": "stderr",
     "output_type": "stream",
     "text": [
      " 68%|███████████████████████████████████████████████▍                      | 178470/263496 [6:02:02<2:52:28,  8.22it/s]"
     ]
    },
    {
     "name": "stdout",
     "output_type": "stream",
     "text": [
      "[0.9756860136985779]\n",
      "14.681455453395827\n",
      "121.05874791741373\n"
     ]
    },
    {
     "name": "stderr",
     "output_type": "stream",
     "text": [
      " 68%|███████████████████████████████████████████████▊                      | 179822/263496 [6:04:47<2:48:18,  8.29it/s]"
     ]
    },
    {
     "name": "stdout",
     "output_type": "stream",
     "text": [
      "[0.8733367919921875]\n",
      "14.597748235481676\n",
      "121.06027945876123\n"
     ]
    },
    {
     "name": "stderr",
     "output_type": "stream",
     "text": [
      " 68%|███████████████████████████████████████████████▊                      | 180003/263496 [6:05:09<2:52:24,  8.07it/s]"
     ]
    },
    {
     "name": "stdout",
     "output_type": "stream",
     "text": [
      "[0.9185773134231567]\n",
      "14.718204062468892\n",
      "121.0600219666958\n"
     ]
    },
    {
     "name": "stderr",
     "output_type": "stream",
     "text": [
      " 69%|███████████████████████████████████████████████▉                      | 180658/263496 [6:06:29<2:47:46,  8.23it/s]"
     ]
    },
    {
     "name": "stdout",
     "output_type": "stream",
     "text": [
      "[0.987851083278656]\n",
      "14.66235292066204\n",
      "121.06090307235719\n"
     ]
    },
    {
     "name": "stderr",
     "output_type": "stream",
     "text": [
      " 69%|████████████████████████████████████████████████▏                     | 181277/263496 [6:07:44<2:48:13,  8.15it/s]"
     ]
    },
    {
     "name": "stdout",
     "output_type": "stream",
     "text": [
      "[0.9742204546928406]\n",
      "14.58251658187301\n",
      "121.06161251664163\n"
     ]
    },
    {
     "name": "stderr",
     "output_type": "stream",
     "text": [
      " 69%|████████████████████████████████████████████████▏                     | 181281/263496 [6:07:44<2:47:10,  8.20it/s]"
     ]
    },
    {
     "name": "stdout",
     "output_type": "stream",
     "text": [
      "[0.9164918065071106]\n",
      "14.585366756735759\n",
      "121.06154546141626\n"
     ]
    },
    {
     "name": "stderr",
     "output_type": "stream",
     "text": [
      " 69%|████████████████████████████████████████████████▏                     | 181617/263496 [6:08:25<2:46:39,  8.19it/s]"
     ]
    },
    {
     "name": "stdout",
     "output_type": "stream",
     "text": [
      "[0.8566724061965942]\n",
      "14.808424534931852\n",
      "121.06146901845933\n"
     ]
    },
    {
     "name": "stderr",
     "output_type": "stream",
     "text": [
      " 69%|████████████████████████████████████████████████▎                     | 182016/263496 [6:09:14<2:48:36,  8.05it/s]"
     ]
    },
    {
     "name": "stdout",
     "output_type": "stream",
     "text": [
      "[0.998124897480011]\n",
      "14.582508794462143\n",
      "121.06226295232773\n"
     ]
    },
    {
     "name": "stderr",
     "output_type": "stream",
     "text": [
      " 69%|████████████████████████████████████████████████▌                     | 182781/263496 [6:10:47<2:46:41,  8.07it/s]"
     ]
    },
    {
     "name": "stdout",
     "output_type": "stream",
     "text": [
      "[0.9969145059585571]\n",
      "14.599954505508679\n",
      "121.06276050209999\n"
     ]
    },
    {
     "name": "stderr",
     "output_type": "stream",
     "text": [
      " 70%|████████████████████████████████████████████████▊                     | 183507/263496 [6:12:16<2:41:31,  8.25it/s]"
     ]
    },
    {
     "name": "stdout",
     "output_type": "stream",
     "text": [
      "[0.9942994117736816]\n",
      "14.591118909791307\n",
      "121.06361880898476\n"
     ]
    },
    {
     "name": "stderr",
     "output_type": "stream",
     "text": [
      " 70%|████████████████████████████████████████████████▉                     | 184246/263496 [6:13:46<2:43:11,  8.09it/s]"
     ]
    },
    {
     "name": "stdout",
     "output_type": "stream",
     "text": [
      "[0.9988151788711548]\n",
      "14.591285034704804\n",
      "121.06428936123848\n",
      "[0.994953453540802]\n",
      "14.591944341787556\n",
      "121.06420353055\n"
     ]
    },
    {
     "name": "stderr",
     "output_type": "stream",
     "text": [
      " 70%|████████████████████████████████████████████████▉                     | 184252/263496 [6:13:47<2:41:21,  8.19it/s]"
     ]
    },
    {
     "name": "stdout",
     "output_type": "stream",
     "text": [
      "[0.9943248629570007]\n",
      "14.595345971593197\n",
      "121.064293384552\n"
     ]
    },
    {
     "name": "stderr",
     "output_type": "stream",
     "text": [
      " 70%|████████████████████████████████████████████████▉                     | 184256/263496 [6:13:47<2:40:58,  8.20it/s]"
     ]
    },
    {
     "name": "stdout",
     "output_type": "stream",
     "text": [
      "[0.9940075874328613, 0.8551914691925049]\n",
      "14.597692429578775\n",
      "121.06422632932663\n",
      "14.597968863469895\n",
      "121.06430545449257\n"
     ]
    },
    {
     "name": "stderr",
     "output_type": "stream",
     "text": [
      " 70%|█████████████████████████████████████████████████                     | 184695/263496 [6:14:41<2:44:01,  8.01it/s]"
     ]
    },
    {
     "name": "stdout",
     "output_type": "stream",
     "text": [
      "[0.990918755531311]\n",
      "14.596520501478501\n",
      "121.06479495763779\n"
     ]
    },
    {
     "name": "stderr",
     "output_type": "stream",
     "text": [
      " 70%|█████████████████████████████████████████████████                     | 184698/263496 [6:14:41<2:42:34,  8.08it/s]"
     ]
    },
    {
     "name": "stdout",
     "output_type": "stream",
     "text": [
      "[0.9977450370788574]\n",
      "14.598528219326687\n",
      "121.06478154659271\n",
      "[0.9663686156272888]\n",
      "14.599353623601761\n",
      "121.06493577361107\n"
     ]
    },
    {
     "name": "stderr",
     "output_type": "stream",
     "text": [
      " 70%|█████████████████████████████████████████████████▏                    | 185120/263496 [6:15:33<2:42:01,  8.06it/s]"
     ]
    },
    {
     "name": "stdout",
     "output_type": "stream",
     "text": [
      "[0.9930667877197266]\n",
      "14.591987170737509\n",
      "121.06559693813324\n"
     ]
    },
    {
     "name": "stderr",
     "output_type": "stream",
     "text": [
      " 70%|█████████████████████████████████████████████████▏                    | 185185/263496 [6:15:41<2:40:55,  8.11it/s]"
     ]
    },
    {
     "name": "stdout",
     "output_type": "stream",
     "text": [
      "[0.9950961470603943]\n",
      "14.635081830056482\n",
      "121.06551110744476\n"
     ]
    },
    {
     "name": "stderr",
     "output_type": "stream",
     "text": [
      " 70%|█████████████████████████████████████████████████▎                    | 185563/263496 [6:16:27<2:42:21,  8.00it/s]"
     ]
    },
    {
     "name": "stdout",
     "output_type": "stream",
     "text": [
      "[0.9974231719970703]\n",
      "14.599707923521061\n",
      "121.06632247567177\n"
     ]
    },
    {
     "name": "stderr",
     "output_type": "stream",
     "text": [
      " 71%|█████████████████████████████████████████████████▍                    | 185991/263496 [6:17:19<2:38:27,  8.15it/s]"
     ]
    },
    {
     "name": "stdout",
     "output_type": "stream",
     "text": [
      "[0.9922460913658142]\n",
      "14.597793658891016\n",
      "121.06699705123901\n"
     ]
    },
    {
     "name": "stderr",
     "output_type": "stream",
     "text": [
      " 71%|█████████████████████████████████████████████████▌                    | 186425/263496 [6:18:12<2:39:03,  8.08it/s]"
     ]
    },
    {
     "name": "stdout",
     "output_type": "stream",
     "text": [
      "[0.9929578304290771]\n",
      "14.599722199320345\n",
      "121.06754422187805\n"
     ]
    },
    {
     "name": "stderr",
     "output_type": "stream",
     "text": [
      " 71%|█████████████████████████████████████████████████▌                    | 186776/263496 [6:18:55<2:38:13,  8.08it/s]"
     ]
    },
    {
     "name": "stdout",
     "output_type": "stream",
     "text": [
      "[0.7253471612930298]\n",
      "13.75617146684338\n",
      "121.068165153265\n"
     ]
    },
    {
     "name": "stderr",
     "output_type": "stream",
     "text": [
      " 71%|█████████████████████████████████████████████████▋                    | 186849/263496 [6:19:04<2:39:45,  8.00it/s]"
     ]
    },
    {
     "name": "stdout",
     "output_type": "stream",
     "text": [
      "[0.9905259609222412]\n",
      "14.595972820921393\n",
      "121.06835424900055\n"
     ]
    },
    {
     "name": "stderr",
     "output_type": "stream",
     "text": [
      " 71%|█████████████████████████████████████████████████▋                    | 187206/263496 [6:19:48<2:34:40,  8.22it/s]"
     ]
    },
    {
     "name": "stdout",
     "output_type": "stream",
     "text": [
      "[0.9786632061004639]\n",
      "13.75620273009906\n",
      "121.06887593865395\n"
     ]
    },
    {
     "name": "stderr",
     "output_type": "stream",
     "text": [
      " 71%|█████████████████████████████████████████████████▊                    | 187330/263496 [6:20:03<2:35:04,  8.19it/s]"
     ]
    },
    {
     "name": "stdout",
     "output_type": "stream",
     "text": [
      "[0.8929728865623474]\n",
      "14.63508442524033\n",
      "121.06914952397346\n"
     ]
    },
    {
     "name": "stderr",
     "output_type": "stream",
     "text": [
      " 71%|█████████████████████████████████████████████████▉                    | 188108/263496 [6:21:38<2:33:59,  8.16it/s]"
     ]
    },
    {
     "name": "stdout",
     "output_type": "stream",
     "text": [
      "[0.9949038028717041]\n",
      "14.591291523959237\n",
      "121.07033237814903\n"
     ]
    },
    {
     "name": "stderr",
     "output_type": "stream",
     "text": [
      " 72%|██████████████████████████████████████████████████                    | 188632/263496 [6:22:42<2:33:50,  8.11it/s]"
     ]
    },
    {
     "name": "stdout",
     "output_type": "stream",
     "text": [
      "[0.9982026815414429]\n",
      "14.658888753923451\n",
      "121.07117727398872\n"
     ]
    },
    {
     "name": "stderr",
     "output_type": "stream",
     "text": [
      " 72%|██████████████████████████████████████████████████▎                   | 189286/263496 [6:24:02<2:32:48,  8.09it/s]"
     ]
    },
    {
     "name": "stdout",
     "output_type": "stream",
     "text": [
      "[0.8786541819572449]\n",
      "14.813158226802948\n",
      "121.07165470719337\n"
     ]
    },
    {
     "name": "stderr",
     "output_type": "stream",
     "text": [
      " 72%|██████████████████████████████████████████████████▋                   | 190646/263496 [6:26:49<2:30:21,  8.08it/s]"
     ]
    },
    {
     "name": "stdout",
     "output_type": "stream",
     "text": [
      "[0.9971262812614441]\n",
      "14.595253825849651\n",
      "121.07454746961594\n"
     ]
    },
    {
     "name": "stderr",
     "output_type": "stream",
     "text": [
      " 73%|██████████████████████████████████████████████████▊                   | 191071/263496 [6:27:41<2:28:50,  8.11it/s]"
     ]
    },
    {
     "name": "stdout",
     "output_type": "stream",
     "text": [
      "[0.9897610545158386]\n",
      "14.597304383176274\n",
      "121.0750275850296\n"
     ]
    },
    {
     "name": "stderr",
     "output_type": "stream",
     "text": [
      " 73%|██████████████████████████████████████████████████▊                   | 191500/263496 [6:28:34<2:29:08,  8.05it/s]"
     ]
    },
    {
     "name": "stdout",
     "output_type": "stream",
     "text": [
      "[0.9897741079330444]\n",
      "14.601994636726397\n",
      "121.07586443424225\n"
     ]
    },
    {
     "name": "stderr",
     "output_type": "stream",
     "text": [
      " 73%|██████████████████████████████████████████████████▊                   | 191502/263496 [6:28:34<2:29:22,  8.03it/s]"
     ]
    },
    {
     "name": "stdout",
     "output_type": "stream",
     "text": [
      "[0.9987389445304871]\n",
      "14.603060117561832\n",
      "121.07600793242455\n"
     ]
    },
    {
     "name": "stderr",
     "output_type": "stream",
     "text": [
      " 73%|██████████████████████████████████████████████████▉                   | 191778/263496 [6:29:08<2:26:58,  8.13it/s]"
     ]
    },
    {
     "name": "stdout",
     "output_type": "stream",
     "text": [
      "[0.9983034133911133]\n",
      "14.786407814553515\n",
      "121.07560560107231\n"
     ]
    },
    {
     "name": "stderr",
     "output_type": "stream",
     "text": [
      " 73%|██████████████████████████████████████████████████▉                   | 191919/263496 [6:29:25<2:29:26,  7.98it/s]"
     ]
    },
    {
     "name": "stdout",
     "output_type": "stream",
     "text": [
      "[0.8180736303329468]\n",
      "14.599644331324255\n",
      "121.0767737030983\n"
     ]
    },
    {
     "name": "stderr",
     "output_type": "stream",
     "text": [
      " 73%|██████████████████████████████████████████████████▉                   | 191947/263496 [6:29:29<2:26:25,  8.14it/s]"
     ]
    },
    {
     "name": "stdout",
     "output_type": "stream",
     "text": [
      "[0.7422965168952942]\n",
      "14.618521337522107\n",
      "121.07662484049797\n"
     ]
    },
    {
     "name": "stderr",
     "output_type": "stream",
     "text": [
      " 73%|███████████████████████████████████████████████████                   | 192318/263496 [6:30:15<2:25:54,  8.13it/s]"
     ]
    },
    {
     "name": "stdout",
     "output_type": "stream",
     "text": [
      "[0.9550564289093018]\n",
      "14.584719110965837\n",
      "121.07723906636238\n"
     ]
    },
    {
     "name": "stderr",
     "output_type": "stream",
     "text": [
      " 73%|███████████████████████████████████████████████████                   | 192435/263496 [6:30:29<2:25:50,  8.12it/s]"
     ]
    },
    {
     "name": "stdout",
     "output_type": "stream",
     "text": [
      "[0.9952864050865173]\n",
      "14.662294536280724\n",
      "121.07739999890327\n"
     ]
    },
    {
     "name": "stderr",
     "output_type": "stream",
     "text": [
      " 73%|███████████████████████████████████████████████████▎                  | 193087/263496 [6:31:49<2:24:41,  8.11it/s]"
     ]
    },
    {
     "name": "stdout",
     "output_type": "stream",
     "text": [
      "[0.9931836724281311]\n",
      "14.590554343632933\n",
      "121.07845678925514\n"
     ]
    },
    {
     "name": "stderr",
     "output_type": "stream",
     "text": [
      " 73%|███████████████████████████████████████████████████▎                  | 193094/263496 [6:31:50<2:24:21,  8.13it/s]"
     ]
    },
    {
     "name": "stdout",
     "output_type": "stream",
     "text": [
      "[0.9010810852050781]\n",
      "14.595140914868121\n",
      "121.0785385966301\n"
     ]
    },
    {
     "name": "stderr",
     "output_type": "stream",
     "text": [
      " 73%|███████████████████████████████████████████████████▍                  | 193456/263496 [6:32:34<2:23:28,  8.14it/s]"
     ]
    },
    {
     "name": "stdout",
     "output_type": "stream",
     "text": [
      "[0.994234025478363]\n",
      "14.583113616118643\n",
      "121.07923194766045\n"
     ]
    },
    {
     "name": "stderr",
     "output_type": "stream",
     "text": [
      " 74%|███████████████████████████████████████████████████▋                  | 194693/263496 [6:35:06<2:22:07,  8.07it/s]"
     ]
    },
    {
     "name": "stdout",
     "output_type": "stream",
     "text": [
      "[0.7715526819229126]\n",
      "14.648460892116972\n",
      "121.08144745230675\n"
     ]
    },
    {
     "name": "stderr",
     "output_type": "stream",
     "text": [
      " 74%|███████████████████████████████████████████████████▊                  | 195090/263496 [6:35:55<2:21:06,  8.08it/s]"
     ]
    },
    {
     "name": "stdout",
     "output_type": "stream",
     "text": [
      "[0.997495710849762]\n",
      "14.660326324883005\n",
      "121.08186855912209\n"
     ]
    },
    {
     "name": "stderr",
     "output_type": "stream",
     "text": [
      " 74%|███████████████████████████████████████████████████▊                  | 195155/263496 [6:36:03<2:20:59,  8.08it/s]"
     ]
    },
    {
     "name": "stdout",
     "output_type": "stream",
     "text": [
      "[0.994222104549408]\n",
      "14.70358137599801\n",
      "121.08202412724495\n"
     ]
    },
    {
     "name": "stderr",
     "output_type": "stream",
     "text": [
      " 74%|████████████████████████████████████████████████████                  | 195845/263496 [6:37:28<2:19:00,  8.11it/s]"
     ]
    },
    {
     "name": "stdout",
     "output_type": "stream",
     "text": [
      "[0.9715014696121216]\n",
      "14.658129743842313\n",
      "121.08337193727493\n"
     ]
    },
    {
     "name": "stderr",
     "output_type": "stream",
     "text": [
      " 74%|████████████████████████████████████████████████████▏                 | 196223/263496 [6:38:14<2:19:13,  8.05it/s]"
     ]
    },
    {
     "name": "stdout",
     "output_type": "stream",
     "text": [
      "[0.9990373849868774]\n",
      "14.657727532188664\n",
      "121.08403578400612\n"
     ]
    },
    {
     "name": "stderr",
     "output_type": "stream",
     "text": [
      " 74%|████████████████████████████████████████████████████▏                 | 196246/263496 [6:38:17<2:18:25,  8.10it/s]"
     ]
    },
    {
     "name": "stdout",
     "output_type": "stream",
     "text": [
      "[0.8184369802474976]\n",
      "14.672926723664531\n",
      "121.08408942818642\n"
     ]
    },
    {
     "name": "stderr",
     "output_type": "stream",
     "text": [
      " 75%|████████████████████████████████████████████████████▍                 | 197374/263496 [6:40:35<2:15:59,  8.10it/s]"
     ]
    },
    {
     "name": "stdout",
     "output_type": "stream",
     "text": [
      "[0.836942195892334]\n",
      "14.666822523065903\n",
      "121.08641490340233\n"
     ]
    },
    {
     "name": "stderr",
     "output_type": "stream",
     "text": [
      " 76%|█████████████████████████████████████████████████████                 | 199648/263496 [6:45:15<2:12:27,  8.03it/s]"
     ]
    },
    {
     "name": "stdout",
     "output_type": "stream",
     "text": [
      "[0.9949299693107605]\n",
      "14.666848471128741\n",
      "121.09031483530997\n"
     ]
    },
    {
     "name": "stderr",
     "output_type": "stream",
     "text": [
      " 76%|█████████████████████████████████████████████████████▏                | 200027/263496 [6:46:01<2:11:32,  8.04it/s]"
     ]
    },
    {
     "name": "stdout",
     "output_type": "stream",
     "text": [
      "[0.9468117356300354]\n",
      "14.667142981641952\n",
      "121.09092101454733\n"
     ]
    },
    {
     "name": "stderr",
     "output_type": "stream",
     "text": [
      " 76%|█████████████████████████████████████████████████████▏                | 200407/263496 [6:46:48<2:09:12,  8.14it/s]"
     ]
    },
    {
     "name": "stdout",
     "output_type": "stream",
     "text": [
      "[0.9964432120323181]\n",
      "14.667552960259211\n",
      "121.09174981713294\n"
     ]
    },
    {
     "name": "stderr",
     "output_type": "stream",
     "text": [
      " 76%|█████████████████████████████████████████████████████▍                | 201320/263496 [6:48:40<2:09:38,  7.99it/s]"
     ]
    },
    {
     "name": "stdout",
     "output_type": "stream",
     "text": [
      "[0.8806876540184021]\n",
      "14.770509783295747\n",
      "121.09315797686575\n"
     ]
    },
    {
     "name": "stderr",
     "output_type": "stream",
     "text": [
      " 76%|█████████████████████████████████████████████████████▌                | 201560/263496 [6:49:10<2:08:01,  8.06it/s]"
     ]
    },
    {
     "name": "stdout",
     "output_type": "stream",
     "text": [
      "[0.9983158111572266]\n",
      "14.67835484324081\n",
      "121.09357237815856\n"
     ]
    },
    {
     "name": "stderr",
     "output_type": "stream",
     "text": [
      " 77%|█████████████████████████████████████████████████████▊                | 202341/263496 [6:50:45<2:06:42,  8.04it/s]"
     ]
    },
    {
     "name": "stdout",
     "output_type": "stream",
     "text": [
      "[0.9976046085357666]\n",
      "14.693500711952233\n",
      "121.09510660171507\n"
     ]
    },
    {
     "name": "stderr",
     "output_type": "stream",
     "text": [
      " 77%|██████████████████████████████████████████████████████▏               | 204150/263496 [6:54:27<2:01:21,  8.15it/s]"
     ]
    },
    {
     "name": "stdout",
     "output_type": "stream",
     "text": [
      "[0.9906547665596008]\n",
      "14.636396286714437\n",
      "121.0986189544201\n"
     ]
    },
    {
     "name": "stderr",
     "output_type": "stream",
     "text": [
      " 78%|██████████████████████████████████████████████████████▋               | 205678/263496 [6:57:35<1:56:49,  8.25it/s]"
     ]
    },
    {
     "name": "stdout",
     "output_type": "stream",
     "text": [
      "[0.9392009973526001]\n",
      "14.64429064649729\n",
      "121.10121533274652\n"
     ]
    },
    {
     "name": "stderr",
     "output_type": "stream",
     "text": [
      " 80%|███████████████████████████████████████████████████████▊              | 210139/263496 [7:06:36<1:48:13,  8.22it/s]"
     ]
    },
    {
     "name": "stdout",
     "output_type": "stream",
     "text": [
      "[0.9456140995025635]\n",
      "14.586536148368557\n",
      "121.10943496227264\n"
     ]
    },
    {
     "name": "stderr",
     "output_type": "stream",
     "text": [
      " 80%|████████████████████████████████████████████████████████              | 210874/263496 [7:08:05<1:46:10,  8.26it/s]"
     ]
    },
    {
     "name": "stdout",
     "output_type": "stream",
     "text": [
      "[0.7833936214447021]\n",
      "14.567826434790279\n",
      "121.11083373427391\n"
     ]
    },
    {
     "name": "stderr",
     "output_type": "stream",
     "text": [
      " 81%|████████████████████████████████████████████████████████▊             | 214019/263496 [7:14:29<1:42:10,  8.07it/s]"
     ]
    },
    {
     "name": "stdout",
     "output_type": "stream",
     "text": [
      "[0.7516438961029053]\n",
      "14.609811071032391\n",
      "121.1163242161274\n"
     ]
    },
    {
     "name": "stderr",
     "output_type": "stream",
     "text": [
      " 82%|█████████████████████████████████████████████████████████▎            | 215928/263496 [7:18:22<1:37:17,  8.15it/s]"
     ]
    },
    {
     "name": "stdout",
     "output_type": "stream",
     "text": [
      "[0.9343457221984863]\n",
      "14.60714419663883\n",
      "121.11976817250252\n"
     ]
    },
    {
     "name": "stderr",
     "output_type": "stream",
     "text": [
      " 86%|████████████████████████████████████████████████████████████▍         | 227684/263496 [7:42:47<1:14:45,  7.98it/s]"
     ]
    },
    {
     "name": "stdout",
     "output_type": "stream",
     "text": [
      "[0.7229990363121033]\n",
      "14.605222210169526\n",
      "121.14098846912385\n"
     ]
    },
    {
     "name": "stderr",
     "output_type": "stream",
     "text": [
      " 88%|█████████████████████████████████████████████████████████████▌        | 231569/263496 [7:50:56<1:07:25,  7.89it/s]"
     ]
    },
    {
     "name": "stdout",
     "output_type": "stream",
     "text": [
      "[0.993871808052063]\n",
      "14.660257560430384\n",
      "121.14789515733719\n"
     ]
    },
    {
     "name": "stderr",
     "output_type": "stream",
     "text": [
      " 88%|█████████████████████████████████████████████████████████████▌        | 231850/263496 [7:51:31<1:06:49,  7.89it/s]"
     ]
    },
    {
     "name": "stdout",
     "output_type": "stream",
     "text": [
      "[0.9971724152565002]\n",
      "14.595078619154176\n",
      "121.14881247282028\n"
     ]
    },
    {
     "name": "stderr",
     "output_type": "stream",
     "text": [
      " 89%|██████████████████████████████████████████████████████████████▏       | 234153/263496 [7:56:21<1:02:10,  7.87it/s]"
     ]
    },
    {
     "name": "stdout",
     "output_type": "stream",
     "text": [
      "[0.9976142644882202]\n",
      "14.614380370409865\n",
      "121.15287333726883\n"
     ]
    },
    {
     "name": "stderr",
     "output_type": "stream",
     "text": [
      " 89%|██████████████████████████████████████████████████████████████▎       | 234465/263496 [7:57:00<1:01:04,  7.92it/s]"
     ]
    },
    {
     "name": "stdout",
     "output_type": "stream",
     "text": [
      "[0.984977126121521]\n",
      "14.565379712381484\n",
      "121.15357473492622\n"
     ]
    },
    {
     "name": "stderr",
     "output_type": "stream",
     "text": [
      " 89%|████████████████████████████████████████████████████████████████▏       | 235106/263496 [7:58:21<59:32,  7.95it/s]"
     ]
    },
    {
     "name": "stdout",
     "output_type": "stream",
     "text": [
      "[0.9929319620132446]\n",
      "14.734636389844125\n",
      "121.15419834852219\n"
     ]
    },
    {
     "name": "stderr",
     "output_type": "stream",
     "text": [
      " 89%|████████████████████████████████████████████████████████████████▎       | 235253/263496 [7:58:39<59:31,  7.91it/s]"
     ]
    },
    {
     "name": "stdout",
     "output_type": "stream",
     "text": [
      "[0.996588945388794]\n",
      "14.57461870524503\n",
      "121.1548501253128\n"
     ]
    },
    {
     "name": "stderr",
     "output_type": "stream",
     "text": [
      " 91%|█████████████████████████████████████████████████████████████████▍      | 239647/263496 [8:07:46<49:22,  8.05it/s]"
     ]
    }
   ],
   "source": [
    "import os\n",
    "os.chdir('../../')\n",
    "from helipad_detection.src.detection.run_prediction_satellite import RunPredictionSatellite\n",
    "\n",
    "# cache_tms_sat_folder = \"../../../Detection/Detection_Dataset\"\n",
    "# output_meta_folder = \"../../../Detection/Detection_Dataset_meta\"\n",
    "# model_folder = \"../../model\"\n",
    "\n",
    "# cache_tms_sat_folder = \"C:\\\\Users\\\\AISG\\\\Documents\\\\Jonas\\\\Real_World_Test_DataBase\"\n",
    "# output_meta_folder = \"C:\\\\Users\\\\AISG\\\\Documents\\\\Jonas\\\\Real_World_Test_DataBase_meta\"\n",
    "cache_tms_sat_folder = \"C:\\\\Users\\\\AISG\\\\Documents\\\\Jonas\\\\Real_World_Dataset_TMS\\\\sat\"\n",
    "output_meta_folder = \"C:\\\\Users\\\\AISG\\\\Documents\\\\Jonas\\\\Real_World_Dataset_TMS_meta\\\\sat\"\n",
    "model_folder = \"D:\\\\Jonas\\\\model\\\\\"\n",
    "\n",
    "weights_filename = \"helipad_cfg_12_no47du_all20200513T1024/mask_rcnn_helipad_cfg_12_no47du_all_0260.h5\"\n",
    "model_number = 12\n",
    "\n",
    "zoom_level = 19\n",
    "activate_filters = False\n",
    "\n",
    "run_prediction_satellite = RunPredictionSatellite(cache_tms_sat_folder=cache_tms_sat_folder,\n",
    "                                                  output_meta_folder=output_meta_folder,\n",
    "                                                  zoom_level=zoom_level,\n",
    "                                                  model_folder=model_folder,\n",
    "                                                  weights_filename=weights_filename,\n",
    "                                                  model_number=model_number,\n",
    "                                                  activate_filters=activate_filters)\n",
    "\n",
    "run_prediction_satellite.run()"
   ]
  },
  {
   "cell_type": "markdown",
   "metadata": {},
   "source": [
    "# Optional Step : Train and Run Validation on detected bounding boxes using KNN"
   ]
  },
  {
   "cell_type": "markdown",
   "metadata": {},
   "source": [
    "### Build the dataset of bounding boxes"
   ]
  },
  {
   "cell_type": "code",
   "execution_count": null,
   "metadata": {},
   "outputs": [],
   "source": [
    "# Build the dataset of bounding boxes : \n",
    "\n",
    "from src.knn.knn_build_database import KNNBuildDatabase\n",
    "\n",
    "image_folder = \"C:\\\\Users\\\\jonas\\\\Desktop\\\\Helipad\\\\Helipad_DataBase\\\\Helipad_DataBase_original\"\n",
    "meta_folder = \"C:\\\\Users\\\\jonas\\\\Desktop\\\\Helipad\\\\Helipad_DataBase_meta\\\\Helipad_DataBase_meta_original\"\n",
    "model_number = 7\n",
    "\n",
    "knn_build_database = KNNBuildDatabase(image_folder, meta_folder, model_number)\n",
    "\n",
    "knn_build_database.run()"
   ]
  },
  {
   "cell_type": "markdown",
   "metadata": {},
   "source": [
    "### Train a KNN on this dataset"
   ]
  },
  {
   "cell_type": "code",
   "execution_count": null,
   "metadata": {},
   "outputs": [],
   "source": [
    "# Train a KNN model on this dataset\n",
    "\n",
    "from src.knn.knn_training import KNNTraining\n",
    "\n",
    "knn_training = KNNTraining(nb_neighbors=2, nb_jobs=-1, test_size=0.25)\n",
    "\n",
    "knn_training.fit(knn_build_database.X, knn_build_database.y, mode=\"histogram\", binary=True)\n",
    "\n",
    "knn_training.score()\n",
    "\n",
    "knn_training.save(model_number=model_number, dataset='original')\n",
    "\n",
    "# TODO: Change the knn_build_database to make the user choose between target 0/1\n",
    "# ou target = category\n",
    "# add the posibility to choose which category are positive / negative\n",
    "\n",
    "# Change KNNTraining to put the model to train as an argument \n",
    "# to be able to freely change/fine-tune the model"
   ]
  },
  {
   "cell_type": "markdown",
   "metadata": {},
   "source": [
    "### Predict on new images"
   ]
  },
  {
   "cell_type": "code",
   "execution_count": null,
   "metadata": {},
   "outputs": [],
   "source": [
    "from knn.knn_predict import KNNPredict\n",
    "\n",
    "image_folder = \"C:\\\\Users\\\\AISG\\\\Documents\\\\Jonas\\\\Real_World_Dataset_TMS\\\\sat\"\n",
    "meta_folder = \"C:\\\\Users\\\\AISG\\\\Documents\\\\Jonas\\\\Real_World_Dataset_TMS_meta\\\\sat\"\n",
    "index_path_score_filename = \"C:\\\\Users\\\\AISG\\\\Documents\\\\Jonas\\\\helipad_detection\\\\src\\\\database_management\\\\helipad_path_over_0.999.txt\"\n",
    "model_number = 7\n",
    "knn_weights_filename = \"knn_histogram_2.pkl\"\n",
    "random_forest_weights_filename = \"random_forest_e100.pkl\"\n",
    "\n",
    "model = \"knn\"\n",
    "\n",
    "knn_predict = KNNPredict(image_folder,\n",
    "                         meta_folder,\n",
    "                         index_path_score_filename,\n",
    "                         model_number,\n",
    "                         knn_weights_filename,\n",
    "                         model)\n",
    "\n",
    "knn_predict.predict()\n",
    "\n",
    "# print(knn_predict.y_predict)\n",
    "knn_predict.write_prediction_to_meta()"
   ]
  },
  {
   "cell_type": "markdown",
   "metadata": {},
   "source": [
    "# Optional Step : Run Validation on detected bounding boxes using Random Forest"
   ]
  },
  {
   "cell_type": "markdown",
   "metadata": {},
   "source": [
    "# Optional Step : Run Validation on detected bounding boxes using CNN"
   ]
  },
  {
   "cell_type": "markdown",
   "metadata": {},
   "source": [
    "### Build the dataset of bounding boxes"
   ]
  },
  {
   "cell_type": "code",
   "execution_count": 1,
   "metadata": {},
   "outputs": [
    {
     "name": "stderr",
     "output_type": "stream",
     "text": [
      "C:\\Users\\AISG\\Anaconda3\\envs\\tf-gpu_1.13\\lib\\site-packages\\tensorflow\\python\\framework\\dtypes.py:526: FutureWarning: Passing (type, 1) or '1type' as a synonym of type is deprecated; in a future version of numpy, it will be understood as (type, (1,)) / '(1,)type'.\n",
      "  _np_qint8 = np.dtype([(\"qint8\", np.int8, 1)])\n",
      "C:\\Users\\AISG\\Anaconda3\\envs\\tf-gpu_1.13\\lib\\site-packages\\tensorflow\\python\\framework\\dtypes.py:527: FutureWarning: Passing (type, 1) or '1type' as a synonym of type is deprecated; in a future version of numpy, it will be understood as (type, (1,)) / '(1,)type'.\n",
      "  _np_quint8 = np.dtype([(\"quint8\", np.uint8, 1)])\n",
      "C:\\Users\\AISG\\Anaconda3\\envs\\tf-gpu_1.13\\lib\\site-packages\\tensorflow\\python\\framework\\dtypes.py:528: FutureWarning: Passing (type, 1) or '1type' as a synonym of type is deprecated; in a future version of numpy, it will be understood as (type, (1,)) / '(1,)type'.\n",
      "  _np_qint16 = np.dtype([(\"qint16\", np.int16, 1)])\n",
      "C:\\Users\\AISG\\Anaconda3\\envs\\tf-gpu_1.13\\lib\\site-packages\\tensorflow\\python\\framework\\dtypes.py:529: FutureWarning: Passing (type, 1) or '1type' as a synonym of type is deprecated; in a future version of numpy, it will be understood as (type, (1,)) / '(1,)type'.\n",
      "  _np_quint16 = np.dtype([(\"quint16\", np.uint16, 1)])\n",
      "C:\\Users\\AISG\\Anaconda3\\envs\\tf-gpu_1.13\\lib\\site-packages\\tensorflow\\python\\framework\\dtypes.py:530: FutureWarning: Passing (type, 1) or '1type' as a synonym of type is deprecated; in a future version of numpy, it will be understood as (type, (1,)) / '(1,)type'.\n",
      "  _np_qint32 = np.dtype([(\"qint32\", np.int32, 1)])\n",
      "C:\\Users\\AISG\\Anaconda3\\envs\\tf-gpu_1.13\\lib\\site-packages\\tensorflow\\python\\framework\\dtypes.py:535: FutureWarning: Passing (type, 1) or '1type' as a synonym of type is deprecated; in a future version of numpy, it will be understood as (type, (1,)) / '(1,)type'.\n",
      "  np_resource = np.dtype([(\"resource\", np.ubyte, 1)])\n",
      "  0%|                                                              | 17/19392 [00:00<01:55, 167.85it/s]"
     ]
    },
    {
     "name": "stdout",
     "output_type": "stream",
     "text": [
      "Categories count : [60, 1616, 447, 142, 214, 63, 207, 113, 141, 89, 143, 29]\n",
      "{'0': 60, '1': 1616, '2': 447, '3': 142, '4': 214, 'd': 63, '9': 207, '5': 113, '6': 141, '7': 89, '8': 143, 'u': 29}\n",
      "Max count : 1616\n",
      "Total count : 3264\n"
     ]
    },
    {
     "name": "stderr",
     "output_type": "stream",
     "text": [
      "100%|███████████████████████████████████████████████████████████| 19392/19392 [01:46<00:00, 182.00it/s]\n"
     ]
    }
   ],
   "source": [
    "import sys\n",
    "sys.path.append('..')\n",
    "from bb_analysis.bb_build_dataset import BBBuildDataset\n",
    "\n",
    "image_folder = \"C:\\\\Users\\\\AISG\\\\Documents\\\\Jonas\\\\Helipad\\\\Helipad_DataBase\\\\Helipad_DataBase_original\"\n",
    "meta_folder = \"C:\\\\Users\\\\AISG\\\\Documents\\\\Jonas\\\\Helipad\\\\Helipad_DataBase_meta\\\\Helipad_DataBase_meta_original\"\n",
    "model_number = 10\n",
    "score_threshold = 0.0\n",
    "iou_threshold = 0.5\n",
    "output_folder = \"C:\\\\Users\\\\AISG\\\\Documents\\\\Jonas\\\\Helipad\\\\Detected_Boxes\\\\\"\n",
    "tms = False\n",
    "# ground_truth_bb indicates wheter the dataset keeps the groundtruth\n",
    "# as the true positive (True) or the true positive detected by the model (False)\n",
    "# Sometime, the detection by the model is not centered in the helipad\n",
    "# hence it can add noise to the model\n",
    "groundtruth_bb = True\n",
    "# the bounding boxes of those categories will be considered as false positive\n",
    "filter_categories = [\"4\", \"7\", \"d\", \"u\"]\n",
    "balance_categories = True\n",
    "\n",
    "bb_build_dataset = BBBuildDataset(image_folder=image_folder,\n",
    "                                  meta_folder=meta_folder,\n",
    "                                  model_number=model_number,\n",
    "                                  score_threshold=score_threshold,\n",
    "                                  iou_threshold=iou_threshold,\n",
    "                                  output_folder=output_folder,\n",
    "                                  tms=tms,\n",
    "                                  groundtruth_bb=groundtruth_bb,\n",
    "                                  filter_categories=filter_categories,\n",
    "                                  balance_categories=balance_categories)\n",
    "\n",
    "bb_build_dataset.run()"
   ]
  },
  {
   "cell_type": "markdown",
   "metadata": {},
   "source": [
    "### Build Bounding Box Dataset on Real World images"
   ]
  },
  {
   "cell_type": "code",
   "execution_count": 2,
   "metadata": {},
   "outputs": [
    {
     "name": "stderr",
     "output_type": "stream",
     "text": [
      "  0%|                                                                             | 19/263496 [00:00<23:19, 188.29it/s]"
     ]
    },
    {
     "name": "stdout",
     "output_type": "stream",
     "text": [
      "263496 files loaded!\n"
     ]
    },
    {
     "name": "stderr",
     "output_type": "stream",
     "text": [
      "100%|█████████████████████████████████████████████████████████████████████████| 263496/263496 [22:48<00:00, 192.51it/s]\n"
     ]
    }
   ],
   "source": [
    "import sys\n",
    "sys.path.append('..')\n",
    "from bb_analysis.bb_build_dataset import BBBuildDataset\n",
    "\n",
    "image_folder = \"C:\\\\Users\\\\AISG\\\\Documents\\\\Jonas\\\\Real_World_Dataset_TMS\\\\sat\\\\19\"\n",
    "meta_folder = \"C:\\\\Users\\\\AISG\\\\Documents\\\\Jonas\\\\Real_World_Dataset_TMS_meta\\\\sat\\\\19\"\n",
    "model_number = 10\n",
    "score_threshold = 0.0\n",
    "iou_threshold = 0.5\n",
    "output_folder = \"C:\\\\Users\\\\AISG\\\\Documents\\\\Jonas\\\\Helipad\\\\Real_World_Detected_Boxes\\\\\"\n",
    "tms = True\n",
    "# ground_truth_bb indicates wheter the dataset keeps the groundtruth\n",
    "# as the true positive (True) or the true positive detected by the model (False)\n",
    "# Sometime, the detection by the model is not centered in the helipad\n",
    "# hence it can add noise to the model\n",
    "groundtruth_bb = False\n",
    "# the bounding boxes of those categories will be considered as false positive\n",
    "filter_categories = None\n",
    "balance_categories = False\n",
    "\n",
    "bb_build_dataset = BBBuildDataset(image_folder=image_folder,\n",
    "                                  meta_folder=meta_folder,\n",
    "                                  model_number=model_number,\n",
    "                                  score_threshold=score_threshold,\n",
    "                                  iou_threshold=iou_threshold,\n",
    "                                  output_folder=output_folder,\n",
    "                                  tms=tms,\n",
    "                                  groundtruth_bb=groundtruth_bb,\n",
    "                                  filter_categories=filter_categories,\n",
    "                                  balance_categories=balance_categories)\n",
    "\n",
    "bb_build_dataset.run()"
   ]
  },
  {
   "cell_type": "markdown",
   "metadata": {},
   "source": [
    "### Train a CNN Model"
   ]
  },
  {
   "cell_type": "code",
   "execution_count": 1,
   "metadata": {},
   "outputs": [
    {
     "name": "stderr",
     "output_type": "stream",
     "text": [
      "Using TensorFlow backend.\n",
      "C:\\Users\\AISG\\Anaconda3\\envs\\tf-gpu_1.13\\lib\\site-packages\\tensorflow\\python\\framework\\dtypes.py:526: FutureWarning: Passing (type, 1) or '1type' as a synonym of type is deprecated; in a future version of numpy, it will be understood as (type, (1,)) / '(1,)type'.\n",
      "  _np_qint8 = np.dtype([(\"qint8\", np.int8, 1)])\n",
      "C:\\Users\\AISG\\Anaconda3\\envs\\tf-gpu_1.13\\lib\\site-packages\\tensorflow\\python\\framework\\dtypes.py:527: FutureWarning: Passing (type, 1) or '1type' as a synonym of type is deprecated; in a future version of numpy, it will be understood as (type, (1,)) / '(1,)type'.\n",
      "  _np_quint8 = np.dtype([(\"quint8\", np.uint8, 1)])\n",
      "C:\\Users\\AISG\\Anaconda3\\envs\\tf-gpu_1.13\\lib\\site-packages\\tensorflow\\python\\framework\\dtypes.py:528: FutureWarning: Passing (type, 1) or '1type' as a synonym of type is deprecated; in a future version of numpy, it will be understood as (type, (1,)) / '(1,)type'.\n",
      "  _np_qint16 = np.dtype([(\"qint16\", np.int16, 1)])\n",
      "C:\\Users\\AISG\\Anaconda3\\envs\\tf-gpu_1.13\\lib\\site-packages\\tensorflow\\python\\framework\\dtypes.py:529: FutureWarning: Passing (type, 1) or '1type' as a synonym of type is deprecated; in a future version of numpy, it will be understood as (type, (1,)) / '(1,)type'.\n",
      "  _np_quint16 = np.dtype([(\"quint16\", np.uint16, 1)])\n",
      "C:\\Users\\AISG\\Anaconda3\\envs\\tf-gpu_1.13\\lib\\site-packages\\tensorflow\\python\\framework\\dtypes.py:530: FutureWarning: Passing (type, 1) or '1type' as a synonym of type is deprecated; in a future version of numpy, it will be understood as (type, (1,)) / '(1,)type'.\n",
      "  _np_qint32 = np.dtype([(\"qint32\", np.int32, 1)])\n",
      "C:\\Users\\AISG\\Anaconda3\\envs\\tf-gpu_1.13\\lib\\site-packages\\tensorflow\\python\\framework\\dtypes.py:535: FutureWarning: Passing (type, 1) or '1type' as a synonym of type is deprecated; in a future version of numpy, it will be understood as (type, (1,)) / '(1,)type'.\n",
      "  np_resource = np.dtype([(\"resource\", np.ubyte, 1)])\n"
     ]
    },
    {
     "name": "stdout",
     "output_type": "stream",
     "text": [
      "Found 17997 images belonging to 2 classes.\n",
      "Found 3332 images belonging to 2 classes.\n",
      "WARNING:tensorflow:From C:\\Users\\AISG\\Anaconda3\\envs\\tf-gpu_1.13\\lib\\site-packages\\tensorflow\\python\\framework\\op_def_library.py:263: colocate_with (from tensorflow.python.framework.ops) is deprecated and will be removed in a future version.\n",
      "Instructions for updating:\n",
      "Colocations handled automatically by placer.\n",
      "WARNING:tensorflow:From C:\\Users\\AISG\\Anaconda3\\envs\\tf-gpu_1.13\\lib\\site-packages\\tensorflow\\python\\ops\\math_ops.py:3066: to_int32 (from tensorflow.python.ops.math_ops) is deprecated and will be removed in a future version.\n",
      "Instructions for updating:\n",
      "Use tf.cast instead.\n",
      "Epoch 1/100\n",
      "36/36 [==============================] - 15s 403ms/step - loss: 0.7075 - acc: 0.6320 - val_loss: 0.5864 - val_acc: 0.6798\n",
      "Epoch 2/100\n",
      "36/36 [==============================] - 14s 386ms/step - loss: 0.5108 - acc: 0.7445 - val_loss: 0.6168 - val_acc: 0.6852\n",
      "Epoch 3/100\n",
      "36/36 [==============================] - 14s 390ms/step - loss: 0.3262 - acc: 0.8587 - val_loss: 0.6818 - val_acc: 0.6879\n",
      "Epoch 4/100\n",
      "36/36 [==============================] - 14s 388ms/step - loss: 0.1623 - acc: 0.9387 - val_loss: 0.8902 - val_acc: 0.7137\n",
      "Epoch 5/100\n",
      "36/36 [==============================] - 14s 389ms/step - loss: 0.0547 - acc: 0.9846 - val_loss: 1.2837 - val_acc: 0.7263\n",
      "Epoch 6/100\n",
      "36/36 [==============================] - 14s 389ms/step - loss: 0.0236 - acc: 0.9947 - val_loss: 1.3288 - val_acc: 0.7335\n",
      "Epoch 7/100\n",
      "36/36 [==============================] - 14s 387ms/step - loss: 0.0090 - acc: 0.9986 - val_loss: 1.6784 - val_acc: 0.7227\n",
      "Epoch 8/100\n",
      "36/36 [==============================] - 14s 389ms/step - loss: 0.0037 - acc: 0.9996 - val_loss: 2.1262 - val_acc: 0.7164\n",
      "Epoch 9/100\n",
      "36/36 [==============================] - 14s 389ms/step - loss: 0.0025 - acc: 0.9998 - val_loss: 2.0424 - val_acc: 0.7176\n",
      "Epoch 10/100\n",
      "36/36 [==============================] - 14s 388ms/step - loss: 0.0010 - acc: 0.9999 - val_loss: 2.1129 - val_acc: 0.7326\n",
      "Epoch 11/100\n",
      "36/36 [==============================] - 14s 388ms/step - loss: 5.9812e-04 - acc: 0.9999 - val_loss: 2.1017 - val_acc: 0.7296\n",
      "Epoch 12/100\n",
      "36/36 [==============================] - 14s 387ms/step - loss: 5.1175e-04 - acc: 0.9999 - val_loss: 2.1578 - val_acc: 0.7281\n",
      "Epoch 13/100\n",
      "36/36 [==============================] - 14s 387ms/step - loss: 4.0700e-04 - acc: 1.0000 - val_loss: 2.1621 - val_acc: 0.7278\n",
      "Epoch 14/100\n",
      "36/36 [==============================] - 14s 387ms/step - loss: 2.9833e-04 - acc: 0.9999 - val_loss: 2.3123 - val_acc: 0.7242\n",
      "Epoch 15/100\n",
      "36/36 [==============================] - 14s 389ms/step - loss: 2.7180e-04 - acc: 1.0000 - val_loss: 2.2197 - val_acc: 0.7293\n",
      "Epoch 16/100\n",
      "36/36 [==============================] - 14s 388ms/step - loss: 1.8407e-04 - acc: 1.0000 - val_loss: 2.2387 - val_acc: 0.7287\n",
      "Epoch 17/100\n",
      "36/36 [==============================] - 14s 388ms/step - loss: 1.5620e-04 - acc: 1.0000 - val_loss: 2.3122 - val_acc: 0.7281\n",
      "Epoch 18/100\n",
      "36/36 [==============================] - 14s 388ms/step - loss: 1.4514e-04 - acc: 1.0000 - val_loss: 2.3010 - val_acc: 0.7281\n",
      "Epoch 19/100\n",
      "36/36 [==============================] - 14s 388ms/step - loss: 1.2334e-04 - acc: 1.0000 - val_loss: 2.3625 - val_acc: 0.7287\n",
      "Epoch 20/100\n",
      "36/36 [==============================] - 14s 387ms/step - loss: 1.0916e-04 - acc: 1.0000 - val_loss: 2.3733 - val_acc: 0.7266\n",
      "Epoch 21/100\n",
      "36/36 [==============================] - 14s 387ms/step - loss: 9.4838e-05 - acc: 1.0000 - val_loss: 2.3807 - val_acc: 0.7281\n",
      "Epoch 22/100\n",
      "35/36 [============================>.] - ETA: 0s - loss: 8.1971e-05 - acc: 1.0000\n",
      "Epoch 00022: ReduceLROnPlateau reducing learning rate to 0.00010000000474974513.\n",
      "36/36 [==============================] - 14s 388ms/step - loss: 8.1510e-05 - acc: 1.0000 - val_loss: 2.3977 - val_acc: 0.7299\n",
      "Epoch 23/100\n",
      "36/36 [==============================] - 14s 387ms/step - loss: 7.9583e-05 - acc: 1.0000 - val_loss: 2.3881 - val_acc: 0.7296\n",
      "Epoch 24/100\n",
      "36/36 [==============================] - 14s 389ms/step - loss: 7.3899e-05 - acc: 1.0000 - val_loss: 2.3912 - val_acc: 0.7281\n",
      "Epoch 25/100\n",
      "36/36 [==============================] - 14s 389ms/step - loss: 6.9720e-05 - acc: 1.0000 - val_loss: 2.3994 - val_acc: 0.7296\n",
      "Epoch 26/100\n",
      "36/36 [==============================] - 14s 387ms/step - loss: 7.0395e-05 - acc: 1.0000 - val_loss: 2.3969 - val_acc: 0.7281\n",
      "Epoch 00026: early stopping\n",
      "> 72.809\n"
     ]
    }
   ],
   "source": [
    "from bb_analysis.bb_training_manager import BBTrainingManager\n",
    "\n",
    "image_folder = \"C:\\\\Users\\\\AISG\\\\Documents\\\\Jonas\\\\Helipad\\\\Detected_Boxes\\\\model_10_0.0\"\n",
    "model_filename = \"bb_model_adam_64.h5\"\n",
    "\n",
    "bbtraining_manager = BBTrainingManager(image_folder)\n",
    "\n",
    "bbtraining_manager.run()\n",
    "\n",
    "bbtraining_manager.evaluate()\n",
    "\n",
    "bbtraining_manager.save(filename=model_filename)\n",
    "\n",
    "bbtraining_manager.plot()"
   ]
  },
  {
   "cell_type": "markdown",
   "metadata": {},
   "source": [
    "### Predict on the original dataset "
   ]
  },
  {
   "cell_type": "code",
   "execution_count": null,
   "metadata": {},
   "outputs": [],
   "source": [
    "from bb_analysis.bb_predict import BBPredict\n",
    "\n",
    "image_folder = \"C:\\\\Users\\\\AISG\\\\Documents\\\\Jonas\\\\Helipad\\\\Helipad_DataBase\\\\Helipad_DataBase_original\"\n",
    "meta_folder = \"C:\\\\Users\\\\AISG\\\\Documents\\\\Jonas\\\\Helipad\\\\Helipad_DataBase_meta\\\\Helipad_DataBase_meta_original\"\n",
    "model_number = 7\n",
    "model_path = \"final_model.h5\"\n",
    "tms = False\n",
    "extract_bounding_boxes = True\n",
    "\n",
    "bbpredict = BBPredict(image_folder=image_folder,\n",
    "                      meta_folder=meta_folder,\n",
    "                      model_number=model_number,\n",
    "                      model_path=model_path,\n",
    "                      tms=tms,\n",
    "                      extract_bounding_boxes=extract_bounding_boxes)\n",
    "\n",
    "bbpredict.run()"
   ]
  },
  {
   "cell_type": "markdown",
   "metadata": {},
   "source": [
    "### Build index path by score on Satellite Images"
   ]
  },
  {
   "cell_type": "code",
   "execution_count": 3,
   "metadata": {},
   "outputs": [
    {
     "name": "stderr",
     "output_type": "stream",
     "text": [
      "100%|███████████████████████████████████████████████████████| 263496/263496 [00:21<00:00, 12156.08it/s]\n"
     ]
    }
   ],
   "source": [
    "import sys\n",
    "sys.path.append('database_management')\n",
    "from index_path_by_score import IndexPathScore\n",
    "\n",
    "meta_folder = \"C:\\\\Users\\\\AISG\\\\Documents\\\\Jonas\\\\Real_World_Dataset_TMS_meta\\\\sat\\\\19\\\\\"\n",
    "model_number = 10\n",
    "score_threshold = 0\n",
    "\n",
    "index_path_score = IndexPathScore(meta_folder, model_number, score_threshold)\n",
    "\n",
    "index_path_score.run()\n",
    "\n",
    "index_path_score.write_output()"
   ]
  },
  {
   "cell_type": "markdown",
   "metadata": {},
   "source": [
    "### Predict on Satellite Images using index path"
   ]
  },
  {
   "cell_type": "code",
   "execution_count": 3,
   "metadata": {},
   "outputs": [
    {
     "name": "stdout",
     "output_type": "stream",
     "text": [
      "WARNING:tensorflow:From C:\\Users\\AISG\\Anaconda3\\envs\\tf-gpu_1.13\\lib\\site-packages\\tensorflow\\python\\ops\\math_ops.py:3066: to_int32 (from tensorflow.python.ops.math_ops) is deprecated and will be removed in a future version.\n",
      "Instructions for updating:\n",
      "Use tf.cast instead.\n"
     ]
    },
    {
     "name": "stderr",
     "output_type": "stream",
     "text": [
      "100%|███████████████████████████████████████████████████████████████████████████| 25584/25584 [01:34<00:00, 270.66it/s]\n"
     ]
    }
   ],
   "source": [
    "import sys\n",
    "sys.path.append('bb_analysis')\n",
    "from bb_predict import BBPredict\n",
    "\n",
    "image_folder = \"C:\\\\Users\\\\AISG\\\\Documents\\\\Jonas\\\\City\\\\cebu\\\\sat\"\n",
    "meta_folder = \"C:\\\\Users\\\\AISG\\\\Documents\\\\Jonas\\\\City\\\\cebu_meta\\\\sat\"\n",
    "model_number = 10\n",
    "model_path = \"bb_analysis/checkpoint_manilla/weights.81-0.01-1.00-0.32-0.94.h5\"\n",
    "tms = True\n",
    "extract_bounding_boxes = True\n",
    "\n",
    "index_path = \"helipad_path_over_0_m10.txt\"\n",
    "index_path = None\n",
    "\n",
    "bbpredict = BBPredict(image_folder=image_folder,\n",
    "                      meta_folder=meta_folder,\n",
    "                      model_number=model_number,\n",
    "                      model_path=model_path,\n",
    "                      tms=tms,\n",
    "                      extract_bounding_boxes=extract_bounding_boxes,\n",
    "                      index_path=index_path)\n",
    "\n",
    "bbpredict.run()"
   ]
  },
  {
   "cell_type": "markdown",
   "metadata": {},
   "source": [
    "# Build Placemarks"
   ]
  },
  {
   "cell_type": "code",
   "execution_count": 2,
   "metadata": {},
   "outputs": [
    {
     "name": "stderr",
     "output_type": "stream",
     "text": [
      "  2%|█▎                                                                             | 38/2206 [00:00<00:05, 377.14it/s]"
     ]
    },
    {
     "name": "stdout",
     "output_type": "stream",
     "text": [
      "C:\\Users\\AISG\\Documents\\Jonas\\Real_World_Test_DataBase_meta\\18\\132724\\Satellite_18_132724_171926.meta\n",
      "C:\\Users\\AISG\\Documents\\Jonas\\Real_World_Test_DataBase_meta\\18\\132724\\Satellite_18_132724_171927.meta\n",
      "C:\\Users\\AISG\\Documents\\Jonas\\Real_World_Test_DataBase_meta\\18\\132724\\Satellite_18_132724_171928.meta\n",
      "C:\\Users\\AISG\\Documents\\Jonas\\Real_World_Test_DataBase_meta\\18\\132724\\Satellite_18_132724_171929.meta\n",
      "C:\\Users\\AISG\\Documents\\Jonas\\Real_World_Test_DataBase_meta\\18\\132724\\Satellite_18_132724_171930.meta\n",
      "C:\\Users\\AISG\\Documents\\Jonas\\Real_World_Test_DataBase_meta\\18\\132724\\Satellite_18_132724_171931.meta\n",
      "C:\\Users\\AISG\\Documents\\Jonas\\Real_World_Test_DataBase_meta\\18\\132724\\Satellite_18_132724_171932.meta\n",
      "C:\\Users\\AISG\\Documents\\Jonas\\Real_World_Test_DataBase_meta\\18\\132724\\Satellite_18_132724_171933.meta\n",
      "C:\\Users\\AISG\\Documents\\Jonas\\Real_World_Test_DataBase_meta\\18\\132724\\Satellite_18_132724_171934.meta\n",
      "C:\\Users\\AISG\\Documents\\Jonas\\Real_World_Test_DataBase_meta\\18\\132724\\Satellite_18_132724_171935.meta\n",
      "C:\\Users\\AISG\\Documents\\Jonas\\Real_World_Test_DataBase_meta\\18\\132724\\Satellite_18_132724_171936.meta\n",
      "C:\\Users\\AISG\\Documents\\Jonas\\Real_World_Test_DataBase_meta\\18\\132724\\Satellite_18_132724_171937.meta\n",
      "C:\\Users\\AISG\\Documents\\Jonas\\Real_World_Test_DataBase_meta\\18\\132726\\Satellite_18_132726_171926.meta\n",
      "C:\\Users\\AISG\\Documents\\Jonas\\Real_World_Test_DataBase_meta\\18\\132726\\Satellite_18_132726_171927.meta\n",
      "C:\\Users\\AISG\\Documents\\Jonas\\Real_World_Test_DataBase_meta\\18\\132726\\Satellite_18_132726_171928.meta\n",
      "C:\\Users\\AISG\\Documents\\Jonas\\Real_World_Test_DataBase_meta\\18\\132726\\Satellite_18_132726_171929.meta\n",
      "C:\\Users\\AISG\\Documents\\Jonas\\Real_World_Test_DataBase_meta\\18\\132726\\Satellite_18_132726_171930.meta\n",
      "C:\\Users\\AISG\\Documents\\Jonas\\Real_World_Test_DataBase_meta\\18\\132726\\Satellite_18_132726_171931.meta\n",
      "C:\\Users\\AISG\\Documents\\Jonas\\Real_World_Test_DataBase_meta\\18\\132726\\Satellite_18_132726_171932.meta\n",
      "C:\\Users\\AISG\\Documents\\Jonas\\Real_World_Test_DataBase_meta\\18\\132726\\Satellite_18_132726_171933.meta\n",
      "C:\\Users\\AISG\\Documents\\Jonas\\Real_World_Test_DataBase_meta\\18\\132726\\Satellite_18_132726_171934.meta\n",
      "C:\\Users\\AISG\\Documents\\Jonas\\Real_World_Test_DataBase_meta\\18\\132726\\Satellite_18_132726_171935.meta\n",
      "C:\\Users\\AISG\\Documents\\Jonas\\Real_World_Test_DataBase_meta\\18\\132726\\Satellite_18_132726_171936.meta\n",
      "C:\\Users\\AISG\\Documents\\Jonas\\Real_World_Test_DataBase_meta\\18\\132726\\Satellite_18_132726_171937.meta\n",
      "C:\\Users\\AISG\\Documents\\Jonas\\Real_World_Test_DataBase_meta\\18\\132727\\Satellite_18_132727_171926.meta\n",
      "C:\\Users\\AISG\\Documents\\Jonas\\Real_World_Test_DataBase_meta\\18\\132727\\Satellite_18_132727_171927.meta\n",
      "C:\\Users\\AISG\\Documents\\Jonas\\Real_World_Test_DataBase_meta\\18\\132727\\Satellite_18_132727_171928.meta\n",
      "C:\\Users\\AISG\\Documents\\Jonas\\Real_World_Test_DataBase_meta\\18\\132727\\Satellite_18_132727_171929.meta\n",
      "C:\\Users\\AISG\\Documents\\Jonas\\Real_World_Test_DataBase_meta\\18\\132727\\Satellite_18_132727_171930.meta\n",
      "C:\\Users\\AISG\\Documents\\Jonas\\Real_World_Test_DataBase_meta\\18\\132727\\Satellite_18_132727_171931.meta\n",
      "C:\\Users\\AISG\\Documents\\Jonas\\Real_World_Test_DataBase_meta\\18\\132727\\Satellite_18_132727_171932.meta\n",
      "C:\\Users\\AISG\\Documents\\Jonas\\Real_World_Test_DataBase_meta\\18\\132727\\Satellite_18_132727_171933.meta\n",
      "C:\\Users\\AISG\\Documents\\Jonas\\Real_World_Test_DataBase_meta\\18\\132727\\Satellite_18_132727_171934.meta\n",
      "C:\\Users\\AISG\\Documents\\Jonas\\Real_World_Test_DataBase_meta\\18\\132727\\Satellite_18_132727_171935.meta\n",
      "C:\\Users\\AISG\\Documents\\Jonas\\Real_World_Test_DataBase_meta\\18\\132727\\Satellite_18_132727_171936.meta\n",
      "C:\\Users\\AISG\\Documents\\Jonas\\Real_World_Test_DataBase_meta\\18\\132727\\Satellite_18_132727_171937.meta\n",
      "C:\\Users\\AISG\\Documents\\Jonas\\Real_World_Test_DataBase_meta\\18\\132728\\Satellite_18_132728_171926.meta\n",
      "C:\\Users\\AISG\\Documents\\Jonas\\Real_World_Test_DataBase_meta\\18\\132728\\Satellite_18_132728_171927.meta\n",
      "C:\\Users\\AISG\\Documents\\Jonas\\Real_World_Test_DataBase_meta\\18\\132728\\Satellite_18_132728_171928.meta\n",
      "C:\\Users\\AISG\\Documents\\Jonas\\Real_World_Test_DataBase_meta\\18\\132728\\Satellite_18_132728_171929.meta\n",
      "C:\\Users\\AISG\\Documents\\Jonas\\Real_World_Test_DataBase_meta\\18\\132728\\Satellite_18_132728_171930.meta\n",
      "C:\\Users\\AISG\\Documents\\Jonas\\Real_World_Test_DataBase_meta\\18\\132728\\Satellite_18_132728_171931.meta\n",
      "C:\\Users\\AISG\\Documents\\Jonas\\Real_World_Test_DataBase_meta\\18\\132728\\Satellite_18_132728_171932.meta\n",
      "C:\\Users\\AISG\\Documents\\Jonas\\Real_World_Test_DataBase_meta\\18\\132728\\Satellite_18_132728_171933.meta\n",
      "C:\\Users\\AISG\\Documents\\Jonas\\Real_World_Test_DataBase_meta\\18\\132728\\Satellite_18_132728_171934.meta\n",
      "C:\\Users\\AISG\\Documents\\Jonas\\Real_World_Test_DataBase_meta\\18\\132728\\Satellite_18_132728_171935.meta\n",
      "C:\\Users\\AISG\\Documents\\Jonas\\Real_World_Test_DataBase_meta\\18\\132728\\Satellite_18_132728_171936.meta\n",
      "C:\\Users\\AISG\\Documents\\Jonas\\Real_World_Test_DataBase_meta\\18\\132728\\Satellite_18_132728_171937.meta\n",
      "C:\\Users\\AISG\\Documents\\Jonas\\Real_World_Test_DataBase_meta\\18\\132731\\Satellite_18_132731_171926.meta\n",
      "C:\\Users\\AISG\\Documents\\Jonas\\Real_World_Test_DataBase_meta\\18\\132731\\Satellite_18_132731_171927.meta\n",
      "C:\\Users\\AISG\\Documents\\Jonas\\Real_World_Test_DataBase_meta\\18\\132731\\Satellite_18_132731_171928.meta\n",
      "C:\\Users\\AISG\\Documents\\Jonas\\Real_World_Test_DataBase_meta\\18\\132731\\Satellite_18_132731_171929.meta\n",
      "C:\\Users\\AISG\\Documents\\Jonas\\Real_World_Test_DataBase_meta\\18\\132731\\Satellite_18_132731_171930.meta\n",
      "C:\\Users\\AISG\\Documents\\Jonas\\Real_World_Test_DataBase_meta\\18\\132731\\Satellite_18_132731_171931.meta\n",
      "C:\\Users\\AISG\\Documents\\Jonas\\Real_World_Test_DataBase_meta\\18\\132731\\Satellite_18_132731_171932.meta\n",
      "C:\\Users\\AISG\\Documents\\Jonas\\Real_World_Test_DataBase_meta\\18\\132731\\Satellite_18_132731_171933.meta\n",
      "C:\\Users\\AISG\\Documents\\Jonas\\Real_World_Test_DataBase_meta\\18\\132731\\Satellite_18_132731_171934.meta\n",
      "C:\\Users\\AISG\\Documents\\Jonas\\Real_World_Test_DataBase_meta\\18\\132731\\Satellite_18_132731_171935.meta\n",
      "C:\\Users\\AISG\\Documents\\Jonas\\Real_World_Test_DataBase_meta\\18\\132731\\Satellite_18_132731_171936.meta\n",
      "C:\\Users\\AISG\\Documents\\Jonas\\Real_World_Test_DataBase_meta\\18\\132731\\Satellite_18_132731_171937.meta\n",
      "C:\\Users\\AISG\\Documents\\Jonas\\Real_World_Test_DataBase_meta\\18\\133091\\Satellite_18_133091_171968.meta\n",
      "C:\\Users\\AISG\\Documents\\Jonas\\Real_World_Test_DataBase_meta\\18\\133091\\Satellite_18_133091_171969.meta\n",
      "C:\\Users\\AISG\\Documents\\Jonas\\Real_World_Test_DataBase_meta\\18\\133091\\Satellite_18_133091_171970.meta\n",
      "C:\\Users\\AISG\\Documents\\Jonas\\Real_World_Test_DataBase_meta\\18\\133091\\Satellite_18_133091_171971.meta\n",
      "C:\\Users\\AISG\\Documents\\Jonas\\Real_World_Test_DataBase_meta\\18\\133091\\Satellite_18_133091_171972.meta\n",
      "C:\\Users\\AISG\\Documents\\Jonas\\Real_World_Test_DataBase_meta\\18\\133091\\Satellite_18_133091_171973.meta\n",
      "C:\\Users\\AISG\\Documents\\Jonas\\Real_World_Test_DataBase_meta\\18\\133091\\Satellite_18_133091_171974.meta\n",
      "C:\\Users\\AISG\\Documents\\Jonas\\Real_World_Test_DataBase_meta\\18\\133091\\Satellite_18_133091_171975.meta\n"
     ]
    },
    {
     "name": "stderr",
     "output_type": "stream",
     "text": [
      "  5%|████                                                                          | 115/2206 [00:00<00:05, 380.12it/s]"
     ]
    },
    {
     "name": "stdout",
     "output_type": "stream",
     "text": [
      "C:\\Users\\AISG\\Documents\\Jonas\\Real_World_Test_DataBase_meta\\18\\133091\\Satellite_18_133091_171976.meta\n",
      "C:\\Users\\AISG\\Documents\\Jonas\\Real_World_Test_DataBase_meta\\18\\133091\\Satellite_18_133091_171977.meta\n",
      "C:\\Users\\AISG\\Documents\\Jonas\\Real_World_Test_DataBase_meta\\18\\133091\\Satellite_18_133091_171978.meta\n",
      "C:\\Users\\AISG\\Documents\\Jonas\\Real_World_Test_DataBase_meta\\18\\133091\\Satellite_18_133091_171979.meta\n",
      "C:\\Users\\AISG\\Documents\\Jonas\\Real_World_Test_DataBase_meta\\18\\133091\\Satellite_18_133091_171980.meta\n",
      "C:\\Users\\AISG\\Documents\\Jonas\\Real_World_Test_DataBase_meta\\18\\133091\\Satellite_18_133091_171981.meta\n",
      "C:\\Users\\AISG\\Documents\\Jonas\\Real_World_Test_DataBase_meta\\18\\133097\\Satellite_18_133097_171962.meta\n",
      "C:\\Users\\AISG\\Documents\\Jonas\\Real_World_Test_DataBase_meta\\18\\133097\\Satellite_18_133097_171963.meta\n",
      "C:\\Users\\AISG\\Documents\\Jonas\\Real_World_Test_DataBase_meta\\18\\133097\\Satellite_18_133097_171964.meta\n",
      "C:\\Users\\AISG\\Documents\\Jonas\\Real_World_Test_DataBase_meta\\18\\133097\\Satellite_18_133097_171965.meta\n",
      "C:\\Users\\AISG\\Documents\\Jonas\\Real_World_Test_DataBase_meta\\18\\133097\\Satellite_18_133097_171966.meta\n",
      "C:\\Users\\AISG\\Documents\\Jonas\\Real_World_Test_DataBase_meta\\18\\133097\\Satellite_18_133097_171967.meta\n",
      "C:\\Users\\AISG\\Documents\\Jonas\\Real_World_Test_DataBase_meta\\18\\133097\\Satellite_18_133097_171968.meta\n",
      "C:\\Users\\AISG\\Documents\\Jonas\\Real_World_Test_DataBase_meta\\18\\133097\\Satellite_18_133097_171969.meta\n",
      "C:\\Users\\AISG\\Documents\\Jonas\\Real_World_Test_DataBase_meta\\18\\133097\\Satellite_18_133097_171970.meta\n",
      "C:\\Users\\AISG\\Documents\\Jonas\\Real_World_Test_DataBase_meta\\18\\133097\\Satellite_18_133097_171971.meta\n",
      "C:\\Users\\AISG\\Documents\\Jonas\\Real_World_Test_DataBase_meta\\18\\133097\\Satellite_18_133097_171972.meta\n",
      "C:\\Users\\AISG\\Documents\\Jonas\\Real_World_Test_DataBase_meta\\18\\133097\\Satellite_18_133097_171973.meta\n",
      "C:\\Users\\AISG\\Documents\\Jonas\\Real_World_Test_DataBase_meta\\18\\133097\\Satellite_18_133097_171974.meta\n",
      "C:\\Users\\AISG\\Documents\\Jonas\\Real_World_Test_DataBase_meta\\18\\133097\\Satellite_18_133097_171975.meta\n",
      "C:\\Users\\AISG\\Documents\\Jonas\\Real_World_Test_DataBase_meta\\18\\133097\\Satellite_18_133097_171976.meta\n",
      "C:\\Users\\AISG\\Documents\\Jonas\\Real_World_Test_DataBase_meta\\18\\133097\\Satellite_18_133097_171977.meta\n",
      "C:\\Users\\AISG\\Documents\\Jonas\\Real_World_Test_DataBase_meta\\18\\133097\\Satellite_18_133097_171978.meta\n",
      "C:\\Users\\AISG\\Documents\\Jonas\\Real_World_Test_DataBase_meta\\18\\133097\\Satellite_18_133097_171979.meta\n",
      "C:\\Users\\AISG\\Documents\\Jonas\\Real_World_Test_DataBase_meta\\18\\133097\\Satellite_18_133097_171980.meta\n",
      "C:\\Users\\AISG\\Documents\\Jonas\\Real_World_Test_DataBase_meta\\18\\133097\\Satellite_18_133097_171981.meta\n",
      "C:\\Users\\AISG\\Documents\\Jonas\\Real_World_Test_DataBase_meta\\18\\133097\\Satellite_18_133097_171982.meta\n",
      "C:\\Users\\AISG\\Documents\\Jonas\\Real_World_Test_DataBase_meta\\18\\133099\\Satellite_18_133099_171962.meta\n",
      "C:\\Users\\AISG\\Documents\\Jonas\\Real_World_Test_DataBase_meta\\18\\133099\\Satellite_18_133099_171963.meta\n",
      "C:\\Users\\AISG\\Documents\\Jonas\\Real_World_Test_DataBase_meta\\18\\133099\\Satellite_18_133099_171964.meta\n",
      "C:\\Users\\AISG\\Documents\\Jonas\\Real_World_Test_DataBase_meta\\18\\133099\\Satellite_18_133099_171965.meta\n",
      "C:\\Users\\AISG\\Documents\\Jonas\\Real_World_Test_DataBase_meta\\18\\133099\\Satellite_18_133099_171966.meta\n",
      "C:\\Users\\AISG\\Documents\\Jonas\\Real_World_Test_DataBase_meta\\18\\133099\\Satellite_18_133099_171967.meta\n",
      "C:\\Users\\AISG\\Documents\\Jonas\\Real_World_Test_DataBase_meta\\18\\133099\\Satellite_18_133099_171968.meta\n",
      "C:\\Users\\AISG\\Documents\\Jonas\\Real_World_Test_DataBase_meta\\18\\133099\\Satellite_18_133099_171969.meta\n",
      "C:\\Users\\AISG\\Documents\\Jonas\\Real_World_Test_DataBase_meta\\18\\133099\\Satellite_18_133099_171970.meta\n",
      "C:\\Users\\AISG\\Documents\\Jonas\\Real_World_Test_DataBase_meta\\18\\133099\\Satellite_18_133099_171971.meta\n",
      "C:\\Users\\AISG\\Documents\\Jonas\\Real_World_Test_DataBase_meta\\18\\133099\\Satellite_18_133099_171972.meta\n",
      "C:\\Users\\AISG\\Documents\\Jonas\\Real_World_Test_DataBase_meta\\18\\133099\\Satellite_18_133099_171973.meta\n",
      "C:\\Users\\AISG\\Documents\\Jonas\\Real_World_Test_DataBase_meta\\18\\133099\\Satellite_18_133099_171974.meta\n",
      "C:\\Users\\AISG\\Documents\\Jonas\\Real_World_Test_DataBase_meta\\18\\133099\\Satellite_18_133099_171975.meta\n",
      "C:\\Users\\AISG\\Documents\\Jonas\\Real_World_Test_DataBase_meta\\18\\133099\\Satellite_18_133099_171976.meta\n",
      "C:\\Users\\AISG\\Documents\\Jonas\\Real_World_Test_DataBase_meta\\18\\133099\\Satellite_18_133099_171977.meta\n",
      "C:\\Users\\AISG\\Documents\\Jonas\\Real_World_Test_DataBase_meta\\18\\133099\\Satellite_18_133099_171978.meta\n",
      "C:\\Users\\AISG\\Documents\\Jonas\\Real_World_Test_DataBase_meta\\18\\133099\\Satellite_18_133099_171979.meta\n",
      "C:\\Users\\AISG\\Documents\\Jonas\\Real_World_Test_DataBase_meta\\18\\133099\\Satellite_18_133099_171980.meta\n",
      "C:\\Users\\AISG\\Documents\\Jonas\\Real_World_Test_DataBase_meta\\18\\133099\\Satellite_18_133099_171981.meta\n",
      "C:\\Users\\AISG\\Documents\\Jonas\\Real_World_Test_DataBase_meta\\18\\133099\\Satellite_18_133099_171982.meta\n",
      "C:\\Users\\AISG\\Documents\\Jonas\\Real_World_Test_DataBase_meta\\18\\133100\\Satellite_18_133100_171962.meta\n",
      "C:\\Users\\AISG\\Documents\\Jonas\\Real_World_Test_DataBase_meta\\18\\133100\\Satellite_18_133100_171963.meta\n",
      "C:\\Users\\AISG\\Documents\\Jonas\\Real_World_Test_DataBase_meta\\18\\133100\\Satellite_18_133100_171964.meta\n",
      "C:\\Users\\AISG\\Documents\\Jonas\\Real_World_Test_DataBase_meta\\18\\133100\\Satellite_18_133100_171965.meta\n",
      "C:\\Users\\AISG\\Documents\\Jonas\\Real_World_Test_DataBase_meta\\18\\133100\\Satellite_18_133100_171966.meta\n",
      "C:\\Users\\AISG\\Documents\\Jonas\\Real_World_Test_DataBase_meta\\18\\133100\\Satellite_18_133100_171967.meta\n",
      "C:\\Users\\AISG\\Documents\\Jonas\\Real_World_Test_DataBase_meta\\18\\133100\\Satellite_18_133100_171968.meta\n",
      "C:\\Users\\AISG\\Documents\\Jonas\\Real_World_Test_DataBase_meta\\18\\133100\\Satellite_18_133100_171969.meta\n",
      "C:\\Users\\AISG\\Documents\\Jonas\\Real_World_Test_DataBase_meta\\18\\133100\\Satellite_18_133100_171970.meta\n",
      "C:\\Users\\AISG\\Documents\\Jonas\\Real_World_Test_DataBase_meta\\18\\133100\\Satellite_18_133100_171971.meta\n",
      "C:\\Users\\AISG\\Documents\\Jonas\\Real_World_Test_DataBase_meta\\18\\133100\\Satellite_18_133100_171972.meta\n",
      "C:\\Users\\AISG\\Documents\\Jonas\\Real_World_Test_DataBase_meta\\18\\133100\\Satellite_18_133100_171973.meta\n",
      "C:\\Users\\AISG\\Documents\\Jonas\\Real_World_Test_DataBase_meta\\18\\133100\\Satellite_18_133100_171974.meta\n",
      "C:\\Users\\AISG\\Documents\\Jonas\\Real_World_Test_DataBase_meta\\18\\133100\\Satellite_18_133100_171975.meta\n",
      "C:\\Users\\AISG\\Documents\\Jonas\\Real_World_Test_DataBase_meta\\18\\133100\\Satellite_18_133100_171976.meta\n",
      "C:\\Users\\AISG\\Documents\\Jonas\\Real_World_Test_DataBase_meta\\18\\133100\\Satellite_18_133100_171977.meta\n",
      "C:\\Users\\AISG\\Documents\\Jonas\\Real_World_Test_DataBase_meta\\18\\133100\\Satellite_18_133100_171978.meta\n",
      "C:\\Users\\AISG\\Documents\\Jonas\\Real_World_Test_DataBase_meta\\18\\133100\\Satellite_18_133100_171979.meta\n",
      "C:\\Users\\AISG\\Documents\\Jonas\\Real_World_Test_DataBase_meta\\18\\133100\\Satellite_18_133100_171980.meta\n",
      "C:\\Users\\AISG\\Documents\\Jonas\\Real_World_Test_DataBase_meta\\18\\133100\\Satellite_18_133100_171981.meta\n",
      "C:\\Users\\AISG\\Documents\\Jonas\\Real_World_Test_DataBase_meta\\18\\133100\\Satellite_18_133100_171982.meta\n",
      "C:\\Users\\AISG\\Documents\\Jonas\\Real_World_Test_DataBase_meta\\18\\133106\\Satellite_18_133106_171964.meta\n",
      "C:\\Users\\AISG\\Documents\\Jonas\\Real_World_Test_DataBase_meta\\18\\133106\\Satellite_18_133106_171965.meta\n",
      "C:\\Users\\AISG\\Documents\\Jonas\\Real_World_Test_DataBase_meta\\18\\133106\\Satellite_18_133106_171966.meta\n"
     ]
    },
    {
     "name": "stderr",
     "output_type": "stream",
     "text": [
      "  9%|██████▊                                                                       | 191/2206 [00:00<00:05, 376.85it/s]"
     ]
    },
    {
     "name": "stdout",
     "output_type": "stream",
     "text": [
      "C:\\Users\\AISG\\Documents\\Jonas\\Real_World_Test_DataBase_meta\\18\\133106\\Satellite_18_133106_171967.meta\n",
      "C:\\Users\\AISG\\Documents\\Jonas\\Real_World_Test_DataBase_meta\\18\\133106\\Satellite_18_133106_171968.meta\n",
      "C:\\Users\\AISG\\Documents\\Jonas\\Real_World_Test_DataBase_meta\\18\\133106\\Satellite_18_133106_171969.meta\n",
      "C:\\Users\\AISG\\Documents\\Jonas\\Real_World_Test_DataBase_meta\\18\\133106\\Satellite_18_133106_171974.meta\n",
      "C:\\Users\\AISG\\Documents\\Jonas\\Real_World_Test_DataBase_meta\\18\\133106\\Satellite_18_133106_171975.meta\n",
      "C:\\Users\\AISG\\Documents\\Jonas\\Real_World_Test_DataBase_meta\\18\\133106\\Satellite_18_133106_171976.meta\n",
      "C:\\Users\\AISG\\Documents\\Jonas\\Real_World_Test_DataBase_meta\\18\\133106\\Satellite_18_133106_171977.meta\n",
      "C:\\Users\\AISG\\Documents\\Jonas\\Real_World_Test_DataBase_meta\\18\\133106\\Satellite_18_133106_171978.meta\n",
      "C:\\Users\\AISG\\Documents\\Jonas\\Real_World_Test_DataBase_meta\\18\\133106\\Satellite_18_133106_171979.meta\n",
      "C:\\Users\\AISG\\Documents\\Jonas\\Real_World_Test_DataBase_meta\\18\\133107\\Satellite_18_133107_171974.meta\n",
      "C:\\Users\\AISG\\Documents\\Jonas\\Real_World_Test_DataBase_meta\\18\\133107\\Satellite_18_133107_171975.meta\n",
      "C:\\Users\\AISG\\Documents\\Jonas\\Real_World_Test_DataBase_meta\\18\\133107\\Satellite_18_133107_171976.meta\n",
      "C:\\Users\\AISG\\Documents\\Jonas\\Real_World_Test_DataBase_meta\\18\\133107\\Satellite_18_133107_171977.meta\n",
      "C:\\Users\\AISG\\Documents\\Jonas\\Real_World_Test_DataBase_meta\\18\\133107\\Satellite_18_133107_171978.meta\n",
      "C:\\Users\\AISG\\Documents\\Jonas\\Real_World_Test_DataBase_meta\\18\\133107\\Satellite_18_133107_171979.meta\n",
      "C:\\Users\\AISG\\Documents\\Jonas\\Real_World_Test_DataBase_meta\\18\\133110\\Satellite_18_133110_171975.meta\n",
      "C:\\Users\\AISG\\Documents\\Jonas\\Real_World_Test_DataBase_meta\\18\\133110\\Satellite_18_133110_171976.meta\n",
      "C:\\Users\\AISG\\Documents\\Jonas\\Real_World_Test_DataBase_meta\\18\\133110\\Satellite_18_133110_171977.meta\n",
      "C:\\Users\\AISG\\Documents\\Jonas\\Real_World_Test_DataBase_meta\\18\\218003\\Satellite_18_218003_139262.meta\n",
      "C:\\Users\\AISG\\Documents\\Jonas\\Real_World_Test_DataBase_meta\\18\\218003\\Satellite_18_218003_139263.meta\n",
      "C:\\Users\\AISG\\Documents\\Jonas\\Real_World_Test_DataBase_meta\\18\\218003\\Satellite_18_218003_139264.meta\n",
      "C:\\Users\\AISG\\Documents\\Jonas\\Real_World_Test_DataBase_meta\\18\\218003\\Satellite_18_218003_139265.meta\n",
      "C:\\Users\\AISG\\Documents\\Jonas\\Real_World_Test_DataBase_meta\\18\\218003\\Satellite_18_218003_139266.meta\n",
      "C:\\Users\\AISG\\Documents\\Jonas\\Real_World_Test_DataBase_meta\\18\\218003\\Satellite_18_218003_139267.meta\n",
      "C:\\Users\\AISG\\Documents\\Jonas\\Real_World_Test_DataBase_meta\\18\\218009\\Satellite_18_218009_139234.meta\n",
      "C:\\Users\\AISG\\Documents\\Jonas\\Real_World_Test_DataBase_meta\\18\\218009\\Satellite_18_218009_139235.meta\n",
      "C:\\Users\\AISG\\Documents\\Jonas\\Real_World_Test_DataBase_meta\\18\\218009\\Satellite_18_218009_139236.meta\n",
      "C:\\Users\\AISG\\Documents\\Jonas\\Real_World_Test_DataBase_meta\\18\\218009\\Satellite_18_218009_139237.meta\n",
      "C:\\Users\\AISG\\Documents\\Jonas\\Real_World_Test_DataBase_meta\\18\\218009\\Satellite_18_218009_139238.meta\n",
      "C:\\Users\\AISG\\Documents\\Jonas\\Real_World_Test_DataBase_meta\\18\\218009\\Satellite_18_218009_139239.meta\n",
      "C:\\Users\\AISG\\Documents\\Jonas\\Real_World_Test_DataBase_meta\\18\\218009\\Satellite_18_218009_139240.meta\n",
      "C:\\Users\\AISG\\Documents\\Jonas\\Real_World_Test_DataBase_meta\\18\\218009\\Satellite_18_218009_139241.meta\n",
      "C:\\Users\\AISG\\Documents\\Jonas\\Real_World_Test_DataBase_meta\\18\\218009\\Satellite_18_218009_139242.meta\n",
      "C:\\Users\\AISG\\Documents\\Jonas\\Real_World_Test_DataBase_meta\\18\\218009\\Satellite_18_218009_139260.meta\n",
      "C:\\Users\\AISG\\Documents\\Jonas\\Real_World_Test_DataBase_meta\\18\\218009\\Satellite_18_218009_139261.meta\n",
      "C:\\Users\\AISG\\Documents\\Jonas\\Real_World_Test_DataBase_meta\\18\\218009\\Satellite_18_218009_139262.meta\n",
      "C:\\Users\\AISG\\Documents\\Jonas\\Real_World_Test_DataBase_meta\\18\\218009\\Satellite_18_218009_139263.meta\n",
      "C:\\Users\\AISG\\Documents\\Jonas\\Real_World_Test_DataBase_meta\\18\\218009\\Satellite_18_218009_139264.meta\n",
      "C:\\Users\\AISG\\Documents\\Jonas\\Real_World_Test_DataBase_meta\\18\\218009\\Satellite_18_218009_139265.meta\n",
      "C:\\Users\\AISG\\Documents\\Jonas\\Real_World_Test_DataBase_meta\\18\\218009\\Satellite_18_218009_139266.meta\n",
      "C:\\Users\\AISG\\Documents\\Jonas\\Real_World_Test_DataBase_meta\\18\\218009\\Satellite_18_218009_139267.meta\n",
      "C:\\Users\\AISG\\Documents\\Jonas\\Real_World_Test_DataBase_meta\\18\\218815\\Satellite_18_218815_141655.meta\n",
      "C:\\Users\\AISG\\Documents\\Jonas\\Real_World_Test_DataBase_meta\\18\\218815\\Satellite_18_218815_141656.meta\n",
      "C:\\Users\\AISG\\Documents\\Jonas\\Real_World_Test_DataBase_meta\\18\\218815\\Satellite_18_218815_141657.meta\n",
      "C:\\Users\\AISG\\Documents\\Jonas\\Real_World_Test_DataBase_meta\\18\\218815\\Satellite_18_218815_141658.meta\n",
      "C:\\Users\\AISG\\Documents\\Jonas\\Real_World_Test_DataBase_meta\\18\\218815\\Satellite_18_218815_141659.meta\n",
      "C:\\Users\\AISG\\Documents\\Jonas\\Real_World_Test_DataBase_meta\\18\\218815\\Satellite_18_218815_141660.meta\n",
      "C:\\Users\\AISG\\Documents\\Jonas\\Real_World_Test_DataBase_meta\\18\\218815\\Satellite_18_218815_141661.meta\n",
      "C:\\Users\\AISG\\Documents\\Jonas\\Real_World_Test_DataBase_meta\\18\\218815\\Satellite_18_218815_141662.meta\n",
      "C:\\Users\\AISG\\Documents\\Jonas\\Real_World_Test_DataBase_meta\\18\\218815\\Satellite_18_218815_141663.meta\n",
      "C:\\Users\\AISG\\Documents\\Jonas\\Real_World_Test_DataBase_meta\\18\\218815\\Satellite_18_218815_141664.meta\n",
      "C:\\Users\\AISG\\Documents\\Jonas\\Real_World_Test_DataBase_meta\\18\\218815\\Satellite_18_218815_141665.meta\n",
      "C:\\Users\\AISG\\Documents\\Jonas\\Real_World_Test_DataBase_meta\\18\\218815\\Satellite_18_218815_141666.meta\n",
      "C:\\Users\\AISG\\Documents\\Jonas\\Real_World_Test_DataBase_meta\\18\\218815\\Satellite_18_218815_141667.meta\n",
      "C:\\Users\\AISG\\Documents\\Jonas\\Real_World_Test_DataBase_meta\\18\\218815\\Satellite_18_218815_141668.meta\n",
      "C:\\Users\\AISG\\Documents\\Jonas\\Real_World_Test_DataBase_meta\\18\\218815\\Satellite_18_218815_141669.meta\n",
      "C:\\Users\\AISG\\Documents\\Jonas\\Real_World_Test_DataBase_meta\\18\\218815\\Satellite_18_218815_141670.meta\n",
      "C:\\Users\\AISG\\Documents\\Jonas\\Real_World_Test_DataBase_meta\\18\\218815\\Satellite_18_218815_141671.meta\n",
      "C:\\Users\\AISG\\Documents\\Jonas\\Real_World_Test_DataBase_meta\\18\\218815\\Satellite_18_218815_141672.meta\n",
      "C:\\Users\\AISG\\Documents\\Jonas\\Real_World_Test_DataBase_meta\\18\\218815\\Satellite_18_218815_141673.meta\n",
      "C:\\Users\\AISG\\Documents\\Jonas\\Real_World_Test_DataBase_meta\\18\\218815\\Satellite_18_218815_141674.meta\n",
      "C:\\Users\\AISG\\Documents\\Jonas\\Real_World_Test_DataBase_meta\\18\\218815\\Satellite_18_218815_141675.meta\n",
      "C:\\Users\\AISG\\Documents\\Jonas\\Real_World_Test_DataBase_meta\\18\\218815\\Satellite_18_218815_141676.meta\n",
      "C:\\Users\\AISG\\Documents\\Jonas\\Real_World_Test_DataBase_meta\\18\\218815\\Satellite_18_218815_141677.meta\n",
      "C:\\Users\\AISG\\Documents\\Jonas\\Real_World_Test_DataBase_meta\\18\\218815\\Satellite_18_218815_141678.meta\n",
      "C:\\Users\\AISG\\Documents\\Jonas\\Real_World_Test_DataBase_meta\\18\\218815\\Satellite_18_218815_141679.meta\n",
      "C:\\Users\\AISG\\Documents\\Jonas\\Real_World_Test_DataBase_meta\\18\\218815\\Satellite_18_218815_141680.meta\n",
      "C:\\Users\\AISG\\Documents\\Jonas\\Real_World_Test_DataBase_meta\\18\\218815\\Satellite_18_218815_141681.meta\n",
      "C:\\Users\\AISG\\Documents\\Jonas\\Real_World_Test_DataBase_meta\\18\\218815\\Satellite_18_218815_141682.meta\n",
      "C:\\Users\\AISG\\Documents\\Jonas\\Real_World_Test_DataBase_meta\\18\\218815\\Satellite_18_218815_141683.meta\n",
      "C:\\Users\\AISG\\Documents\\Jonas\\Real_World_Test_DataBase_meta\\18\\218815\\Satellite_18_218815_141684.meta\n"
     ]
    },
    {
     "name": "stderr",
     "output_type": "stream",
     "text": [
      " 12%|█████████▌                                                                    | 271/2206 [00:00<00:05, 385.80it/s]"
     ]
    },
    {
     "name": "stdout",
     "output_type": "stream",
     "text": [
      "C:\\Users\\AISG\\Documents\\Jonas\\Real_World_Test_DataBase_meta\\18\\218815\\Satellite_18_218815_141685.meta\n",
      "C:\\Users\\AISG\\Documents\\Jonas\\Real_World_Test_DataBase_meta\\18\\218815\\Satellite_18_218815_141686.meta\n",
      "C:\\Users\\AISG\\Documents\\Jonas\\Real_World_Test_DataBase_meta\\18\\218815\\Satellite_18_218815_141687.meta\n",
      "C:\\Users\\AISG\\Documents\\Jonas\\Real_World_Test_DataBase_meta\\18\\218815\\Satellite_18_218815_141688.meta\n",
      "C:\\Users\\AISG\\Documents\\Jonas\\Real_World_Test_DataBase_meta\\18\\218815\\Satellite_18_218815_141689.meta\n",
      "C:\\Users\\AISG\\Documents\\Jonas\\Real_World_Test_DataBase_meta\\18\\218815\\Satellite_18_218815_141690.meta\n",
      "C:\\Users\\AISG\\Documents\\Jonas\\Real_World_Test_DataBase_meta\\18\\218815\\Satellite_18_218815_141691.meta\n",
      "C:\\Users\\AISG\\Documents\\Jonas\\Real_World_Test_DataBase_meta\\18\\218815\\Satellite_18_218815_141692.meta\n",
      "C:\\Users\\AISG\\Documents\\Jonas\\Real_World_Test_DataBase_meta\\18\\218815\\Satellite_18_218815_141693.meta\n",
      "C:\\Users\\AISG\\Documents\\Jonas\\Real_World_Test_DataBase_meta\\18\\218815\\Satellite_18_218815_141694.meta\n",
      "C:\\Users\\AISG\\Documents\\Jonas\\Real_World_Test_DataBase_meta\\18\\218815\\Satellite_18_218815_141695.meta\n",
      "C:\\Users\\AISG\\Documents\\Jonas\\Real_World_Test_DataBase_meta\\18\\218815\\Satellite_18_218815_141696.meta\n",
      "C:\\Users\\AISG\\Documents\\Jonas\\Real_World_Test_DataBase_meta\\18\\218815\\Satellite_18_218815_141697.meta\n",
      "C:\\Users\\AISG\\Documents\\Jonas\\Real_World_Test_DataBase_meta\\18\\218815\\Satellite_18_218815_141698.meta\n",
      "C:\\Users\\AISG\\Documents\\Jonas\\Real_World_Test_DataBase_meta\\18\\218815\\Satellite_18_218815_141699.meta\n",
      "C:\\Users\\AISG\\Documents\\Jonas\\Real_World_Test_DataBase_meta\\18\\218815\\Satellite_18_218815_141700.meta\n",
      "C:\\Users\\AISG\\Documents\\Jonas\\Real_World_Test_DataBase_meta\\18\\218815\\Satellite_18_218815_141701.meta\n",
      "C:\\Users\\AISG\\Documents\\Jonas\\Real_World_Test_DataBase_meta\\18\\218815\\Satellite_18_218815_141702.meta\n",
      "C:\\Users\\AISG\\Documents\\Jonas\\Real_World_Test_DataBase_meta\\18\\218815\\Satellite_18_218815_141703.meta\n",
      "C:\\Users\\AISG\\Documents\\Jonas\\Real_World_Test_DataBase_meta\\18\\218815\\Satellite_18_218815_141704.meta\n",
      "C:\\Users\\AISG\\Documents\\Jonas\\Real_World_Test_DataBase_meta\\18\\218815\\Satellite_18_218815_141705.meta\n",
      "C:\\Users\\AISG\\Documents\\Jonas\\Real_World_Test_DataBase_meta\\18\\218815\\Satellite_18_218815_141706.meta\n",
      "C:\\Users\\AISG\\Documents\\Jonas\\Real_World_Test_DataBase_meta\\18\\218815\\Satellite_18_218815_141707.meta\n",
      "C:\\Users\\AISG\\Documents\\Jonas\\Real_World_Test_DataBase_meta\\18\\218815\\Satellite_18_218815_141708.meta\n",
      "C:\\Users\\AISG\\Documents\\Jonas\\Real_World_Test_DataBase_meta\\18\\218815\\Satellite_18_218815_141709.meta\n",
      "C:\\Users\\AISG\\Documents\\Jonas\\Real_World_Test_DataBase_meta\\18\\218815\\Satellite_18_218815_141710.meta\n",
      "C:\\Users\\AISG\\Documents\\Jonas\\Real_World_Test_DataBase_meta\\18\\218815\\Satellite_18_218815_141711.meta\n",
      "C:\\Users\\AISG\\Documents\\Jonas\\Real_World_Test_DataBase_meta\\18\\218815\\Satellite_18_218815_141712.meta\n",
      "C:\\Users\\AISG\\Documents\\Jonas\\Real_World_Test_DataBase_meta\\18\\218815\\Satellite_18_218815_141713.meta\n",
      "C:\\Users\\AISG\\Documents\\Jonas\\Real_World_Test_DataBase_meta\\18\\218815\\Satellite_18_218815_141714.meta\n",
      "C:\\Users\\AISG\\Documents\\Jonas\\Real_World_Test_DataBase_meta\\18\\218815\\Satellite_18_218815_141715.meta\n",
      "C:\\Users\\AISG\\Documents\\Jonas\\Real_World_Test_DataBase_meta\\18\\218815\\Satellite_18_218815_141716.meta\n",
      "C:\\Users\\AISG\\Documents\\Jonas\\Real_World_Test_DataBase_meta\\18\\218815\\Satellite_18_218815_141717.meta\n",
      "C:\\Users\\AISG\\Documents\\Jonas\\Real_World_Test_DataBase_meta\\18\\218815\\Satellite_18_218815_141718.meta\n",
      "C:\\Users\\AISG\\Documents\\Jonas\\Real_World_Test_DataBase_meta\\18\\218815\\Satellite_18_218815_141719.meta\n",
      "C:\\Users\\AISG\\Documents\\Jonas\\Real_World_Test_DataBase_meta\\18\\218815\\Satellite_18_218815_141720.meta\n",
      "C:\\Users\\AISG\\Documents\\Jonas\\Real_World_Test_DataBase_meta\\18\\218815\\Satellite_18_218815_141721.meta\n",
      "C:\\Users\\AISG\\Documents\\Jonas\\Real_World_Test_DataBase_meta\\18\\218815\\Satellite_18_218815_141722.meta\n",
      "C:\\Users\\AISG\\Documents\\Jonas\\Real_World_Test_DataBase_meta\\18\\218815\\Satellite_18_218815_141723.meta\n",
      "C:\\Users\\AISG\\Documents\\Jonas\\Real_World_Test_DataBase_meta\\18\\218815\\Satellite_18_218815_141724.meta\n",
      "C:\\Users\\AISG\\Documents\\Jonas\\Real_World_Test_DataBase_meta\\18\\218815\\Satellite_18_218815_141725.meta\n",
      "C:\\Users\\AISG\\Documents\\Jonas\\Real_World_Test_DataBase_meta\\18\\218815\\Satellite_18_218815_141726.meta\n",
      "C:\\Users\\AISG\\Documents\\Jonas\\Real_World_Test_DataBase_meta\\18\\218815\\Satellite_18_218815_141727.meta\n",
      "C:\\Users\\AISG\\Documents\\Jonas\\Real_World_Test_DataBase_meta\\18\\218815\\Satellite_18_218815_141728.meta\n",
      "C:\\Users\\AISG\\Documents\\Jonas\\Real_World_Test_DataBase_meta\\18\\218815\\Satellite_18_218815_141729.meta\n",
      "C:\\Users\\AISG\\Documents\\Jonas\\Real_World_Test_DataBase_meta\\18\\218815\\Satellite_18_218815_141730.meta\n",
      "C:\\Users\\AISG\\Documents\\Jonas\\Real_World_Test_DataBase_meta\\18\\218815\\Satellite_18_218815_141731.meta\n",
      "C:\\Users\\AISG\\Documents\\Jonas\\Real_World_Test_DataBase_meta\\18\\218815\\Satellite_18_218815_141732.meta\n",
      "C:\\Users\\AISG\\Documents\\Jonas\\Real_World_Test_DataBase_meta\\18\\218815\\Satellite_18_218815_141733.meta\n",
      "C:\\Users\\AISG\\Documents\\Jonas\\Real_World_Test_DataBase_meta\\18\\218815\\Satellite_18_218815_141734.meta\n",
      "C:\\Users\\AISG\\Documents\\Jonas\\Real_World_Test_DataBase_meta\\18\\218815\\Satellite_18_218815_141735.meta\n",
      "C:\\Users\\AISG\\Documents\\Jonas\\Real_World_Test_DataBase_meta\\18\\218815\\Satellite_18_218815_141736.meta\n",
      "C:\\Users\\AISG\\Documents\\Jonas\\Real_World_Test_DataBase_meta\\18\\218815\\Satellite_18_218815_141737.meta\n",
      "C:\\Users\\AISG\\Documents\\Jonas\\Real_World_Test_DataBase_meta\\18\\218815\\Satellite_18_218815_141738.meta\n",
      "C:\\Users\\AISG\\Documents\\Jonas\\Real_World_Test_DataBase_meta\\18\\218815\\Satellite_18_218815_141739.meta\n",
      "C:\\Users\\AISG\\Documents\\Jonas\\Real_World_Test_DataBase_meta\\18\\218815\\Satellite_18_218815_141740.meta\n",
      "C:\\Users\\AISG\\Documents\\Jonas\\Real_World_Test_DataBase_meta\\18\\218815\\Satellite_18_218815_141741.meta\n",
      "C:\\Users\\AISG\\Documents\\Jonas\\Real_World_Test_DataBase_meta\\18\\218815\\Satellite_18_218815_141742.meta\n",
      "C:\\Users\\AISG\\Documents\\Jonas\\Real_World_Test_DataBase_meta\\18\\218815\\Satellite_18_218815_141743.meta\n",
      "C:\\Users\\AISG\\Documents\\Jonas\\Real_World_Test_DataBase_meta\\18\\218815\\Satellite_18_218815_141744.meta\n",
      "C:\\Users\\AISG\\Documents\\Jonas\\Real_World_Test_DataBase_meta\\18\\218815\\Satellite_18_218815_141745.meta\n",
      "C:\\Users\\AISG\\Documents\\Jonas\\Real_World_Test_DataBase_meta\\18\\218815\\Satellite_18_218815_141746.meta\n",
      "C:\\Users\\AISG\\Documents\\Jonas\\Real_World_Test_DataBase_meta\\18\\218815\\Satellite_18_218815_141747.meta\n",
      "C:\\Users\\AISG\\Documents\\Jonas\\Real_World_Test_DataBase_meta\\18\\218815\\Satellite_18_218815_141748.meta\n",
      "C:\\Users\\AISG\\Documents\\Jonas\\Real_World_Test_DataBase_meta\\18\\218815\\Satellite_18_218815_141749.meta\n",
      "C:\\Users\\AISG\\Documents\\Jonas\\Real_World_Test_DataBase_meta\\18\\218815\\Satellite_18_218815_141750.meta\n",
      "C:\\Users\\AISG\\Documents\\Jonas\\Real_World_Test_DataBase_meta\\18\\218815\\Satellite_18_218815_141751.meta\n",
      "C:\\Users\\AISG\\Documents\\Jonas\\Real_World_Test_DataBase_meta\\18\\218815\\Satellite_18_218815_141752.meta\n",
      "C:\\Users\\AISG\\Documents\\Jonas\\Real_World_Test_DataBase_meta\\18\\218815\\Satellite_18_218815_141753.meta\n",
      "C:\\Users\\AISG\\Documents\\Jonas\\Real_World_Test_DataBase_meta\\18\\218815\\Satellite_18_218815_141754.meta\n",
      "C:\\Users\\AISG\\Documents\\Jonas\\Real_World_Test_DataBase_meta\\18\\218815\\Satellite_18_218815_141755.meta\n",
      "C:\\Users\\AISG\\Documents\\Jonas\\Real_World_Test_DataBase_meta\\18\\218815\\Satellite_18_218815_141756.meta\n",
      "C:\\Users\\AISG\\Documents\\Jonas\\Real_World_Test_DataBase_meta\\18\\218815\\Satellite_18_218815_141757.meta\n",
      "C:\\Users\\AISG\\Documents\\Jonas\\Real_World_Test_DataBase_meta\\18\\218815\\Satellite_18_218815_141758.meta\n"
     ]
    },
    {
     "name": "stderr",
     "output_type": "stream",
     "text": [
      " 16%|████████████▍                                                                 | 351/2206 [00:00<00:04, 390.68it/s]"
     ]
    },
    {
     "name": "stdout",
     "output_type": "stream",
     "text": [
      "C:\\Users\\AISG\\Documents\\Jonas\\Real_World_Test_DataBase_meta\\18\\218815\\Satellite_18_218815_141759.meta\n",
      "C:\\Users\\AISG\\Documents\\Jonas\\Real_World_Test_DataBase_meta\\18\\218815\\Satellite_18_218815_141760.meta\n",
      "C:\\Users\\AISG\\Documents\\Jonas\\Real_World_Test_DataBase_meta\\18\\218815\\Satellite_18_218815_141761.meta\n",
      "C:\\Users\\AISG\\Documents\\Jonas\\Real_World_Test_DataBase_meta\\18\\218815\\Satellite_18_218815_141762.meta\n",
      "C:\\Users\\AISG\\Documents\\Jonas\\Real_World_Test_DataBase_meta\\18\\218815\\Satellite_18_218815_141763.meta\n",
      "C:\\Users\\AISG\\Documents\\Jonas\\Real_World_Test_DataBase_meta\\18\\218815\\Satellite_18_218815_141764.meta\n",
      "C:\\Users\\AISG\\Documents\\Jonas\\Real_World_Test_DataBase_meta\\18\\218815\\Satellite_18_218815_141765.meta\n",
      "C:\\Users\\AISG\\Documents\\Jonas\\Real_World_Test_DataBase_meta\\18\\218815\\Satellite_18_218815_141766.meta\n",
      "C:\\Users\\AISG\\Documents\\Jonas\\Real_World_Test_DataBase_meta\\18\\218815\\Satellite_18_218815_141767.meta\n",
      "C:\\Users\\AISG\\Documents\\Jonas\\Real_World_Test_DataBase_meta\\18\\218815\\Satellite_18_218815_141768.meta\n",
      "C:\\Users\\AISG\\Documents\\Jonas\\Real_World_Test_DataBase_meta\\18\\218815\\Satellite_18_218815_141769.meta\n",
      "C:\\Users\\AISG\\Documents\\Jonas\\Real_World_Test_DataBase_meta\\18\\218815\\Satellite_18_218815_141770.meta\n",
      "C:\\Users\\AISG\\Documents\\Jonas\\Real_World_Test_DataBase_meta\\18\\218815\\Satellite_18_218815_141771.meta\n",
      "C:\\Users\\AISG\\Documents\\Jonas\\Real_World_Test_DataBase_meta\\18\\218815\\Satellite_18_218815_141772.meta\n",
      "C:\\Users\\AISG\\Documents\\Jonas\\Real_World_Test_DataBase_meta\\18\\218815\\Satellite_18_218815_141773.meta\n",
      "C:\\Users\\AISG\\Documents\\Jonas\\Real_World_Test_DataBase_meta\\18\\218815\\Satellite_18_218815_141774.meta\n",
      "C:\\Users\\AISG\\Documents\\Jonas\\Real_World_Test_DataBase_meta\\18\\218815\\Satellite_18_218815_141775.meta\n",
      "C:\\Users\\AISG\\Documents\\Jonas\\Real_World_Test_DataBase_meta\\18\\218815\\Satellite_18_218815_141776.meta\n",
      "C:\\Users\\AISG\\Documents\\Jonas\\Real_World_Test_DataBase_meta\\18\\218815\\Satellite_18_218815_141777.meta\n",
      "C:\\Users\\AISG\\Documents\\Jonas\\Real_World_Test_DataBase_meta\\18\\218815\\Satellite_18_218815_141778.meta\n",
      "C:\\Users\\AISG\\Documents\\Jonas\\Real_World_Test_DataBase_meta\\18\\218815\\Satellite_18_218815_141779.meta\n",
      "C:\\Users\\AISG\\Documents\\Jonas\\Real_World_Test_DataBase_meta\\18\\218815\\Satellite_18_218815_141780.meta\n",
      "C:\\Users\\AISG\\Documents\\Jonas\\Real_World_Test_DataBase_meta\\18\\218815\\Satellite_18_218815_141781.meta\n",
      "C:\\Users\\AISG\\Documents\\Jonas\\Real_World_Test_DataBase_meta\\18\\218815\\Satellite_18_218815_141782.meta\n",
      "C:\\Users\\AISG\\Documents\\Jonas\\Real_World_Test_DataBase_meta\\18\\218815\\Satellite_18_218815_141783.meta\n",
      "C:\\Users\\AISG\\Documents\\Jonas\\Real_World_Test_DataBase_meta\\18\\218815\\Satellite_18_218815_141784.meta\n",
      "C:\\Users\\AISG\\Documents\\Jonas\\Real_World_Test_DataBase_meta\\18\\218815\\Satellite_18_218815_141785.meta\n",
      "C:\\Users\\AISG\\Documents\\Jonas\\Real_World_Test_DataBase_meta\\18\\218815\\Satellite_18_218815_141786.meta\n",
      "C:\\Users\\AISG\\Documents\\Jonas\\Real_World_Test_DataBase_meta\\18\\218815\\Satellite_18_218815_141787.meta\n",
      "C:\\Users\\AISG\\Documents\\Jonas\\Real_World_Test_DataBase_meta\\18\\218815\\Satellite_18_218815_141788.meta\n",
      "C:\\Users\\AISG\\Documents\\Jonas\\Real_World_Test_DataBase_meta\\18\\218815\\Satellite_18_218815_141789.meta\n",
      "C:\\Users\\AISG\\Documents\\Jonas\\Real_World_Test_DataBase_meta\\18\\218815\\Satellite_18_218815_141790.meta\n",
      "C:\\Users\\AISG\\Documents\\Jonas\\Real_World_Test_DataBase_meta\\18\\218815\\Satellite_18_218815_141791.meta\n",
      "C:\\Users\\AISG\\Documents\\Jonas\\Real_World_Test_DataBase_meta\\18\\218815\\Satellite_18_218815_141792.meta\n",
      "C:\\Users\\AISG\\Documents\\Jonas\\Real_World_Test_DataBase_meta\\18\\218815\\Satellite_18_218815_141793.meta\n",
      "C:\\Users\\AISG\\Documents\\Jonas\\Real_World_Test_DataBase_meta\\18\\218815\\Satellite_18_218815_141794.meta\n",
      "C:\\Users\\AISG\\Documents\\Jonas\\Real_World_Test_DataBase_meta\\18\\218815\\Satellite_18_218815_141795.meta\n",
      "C:\\Users\\AISG\\Documents\\Jonas\\Real_World_Test_DataBase_meta\\18\\218815\\Satellite_18_218815_141796.meta\n",
      "C:\\Users\\AISG\\Documents\\Jonas\\Real_World_Test_DataBase_meta\\18\\218815\\Satellite_18_218815_141797.meta\n",
      "C:\\Users\\AISG\\Documents\\Jonas\\Real_World_Test_DataBase_meta\\18\\218815\\Satellite_18_218815_141798.meta\n",
      "C:\\Users\\AISG\\Documents\\Jonas\\Real_World_Test_DataBase_meta\\18\\218815\\Satellite_18_218815_141799.meta\n",
      "C:\\Users\\AISG\\Documents\\Jonas\\Real_World_Test_DataBase_meta\\18\\218815\\Satellite_18_218815_141800.meta\n",
      "C:\\Users\\AISG\\Documents\\Jonas\\Real_World_Test_DataBase_meta\\18\\218815\\Satellite_18_218815_141801.meta\n",
      "C:\\Users\\AISG\\Documents\\Jonas\\Real_World_Test_DataBase_meta\\18\\218815\\Satellite_18_218815_141802.meta\n",
      "C:\\Users\\AISG\\Documents\\Jonas\\Real_World_Test_DataBase_meta\\18\\218815\\Satellite_18_218815_141803.meta\n",
      "C:\\Users\\AISG\\Documents\\Jonas\\Real_World_Test_DataBase_meta\\18\\218815\\Satellite_18_218815_141804.meta\n",
      "C:\\Users\\AISG\\Documents\\Jonas\\Real_World_Test_DataBase_meta\\18\\218815\\Satellite_18_218815_141805.meta\n",
      "C:\\Users\\AISG\\Documents\\Jonas\\Real_World_Test_DataBase_meta\\18\\218815\\Satellite_18_218815_141806.meta\n",
      "C:\\Users\\AISG\\Documents\\Jonas\\Real_World_Test_DataBase_meta\\18\\218815\\Satellite_18_218815_141807.meta\n",
      "C:\\Users\\AISG\\Documents\\Jonas\\Real_World_Test_DataBase_meta\\18\\218815\\Satellite_18_218815_141808.meta\n",
      "C:\\Users\\AISG\\Documents\\Jonas\\Real_World_Test_DataBase_meta\\18\\218815\\Satellite_18_218815_141809.meta\n",
      "C:\\Users\\AISG\\Documents\\Jonas\\Real_World_Test_DataBase_meta\\18\\218815\\Satellite_18_218815_141810.meta\n",
      "C:\\Users\\AISG\\Documents\\Jonas\\Real_World_Test_DataBase_meta\\18\\218815\\Satellite_18_218815_141811.meta\n",
      "C:\\Users\\AISG\\Documents\\Jonas\\Real_World_Test_DataBase_meta\\18\\218815\\Satellite_18_218815_141812.meta\n",
      "C:\\Users\\AISG\\Documents\\Jonas\\Real_World_Test_DataBase_meta\\18\\218815\\Satellite_18_218815_141813.meta\n",
      "C:\\Users\\AISG\\Documents\\Jonas\\Real_World_Test_DataBase_meta\\18\\218815\\Satellite_18_218815_141814.meta\n",
      "C:\\Users\\AISG\\Documents\\Jonas\\Real_World_Test_DataBase_meta\\18\\218815\\Satellite_18_218815_141815.meta\n",
      "C:\\Users\\AISG\\Documents\\Jonas\\Real_World_Test_DataBase_meta\\18\\218815\\Satellite_18_218815_141816.meta\n",
      "C:\\Users\\AISG\\Documents\\Jonas\\Real_World_Test_DataBase_meta\\18\\218815\\Satellite_18_218815_141817.meta\n",
      "C:\\Users\\AISG\\Documents\\Jonas\\Real_World_Test_DataBase_meta\\18\\218815\\Satellite_18_218815_141818.meta\n",
      "C:\\Users\\AISG\\Documents\\Jonas\\Real_World_Test_DataBase_meta\\18\\218815\\Satellite_18_218815_141819.meta\n",
      "C:\\Users\\AISG\\Documents\\Jonas\\Real_World_Test_DataBase_meta\\18\\218815\\Satellite_18_218815_141820.meta\n",
      "C:\\Users\\AISG\\Documents\\Jonas\\Real_World_Test_DataBase_meta\\18\\218815\\Satellite_18_218815_141821.meta\n",
      "C:\\Users\\AISG\\Documents\\Jonas\\Real_World_Test_DataBase_meta\\18\\218815\\Satellite_18_218815_141822.meta\n",
      "C:\\Users\\AISG\\Documents\\Jonas\\Real_World_Test_DataBase_meta\\18\\218815\\Satellite_18_218815_141823.meta\n",
      "C:\\Users\\AISG\\Documents\\Jonas\\Real_World_Test_DataBase_meta\\18\\218815\\Satellite_18_218815_141824.meta\n",
      "C:\\Users\\AISG\\Documents\\Jonas\\Real_World_Test_DataBase_meta\\18\\218815\\Satellite_18_218815_141825.meta\n",
      "C:\\Users\\AISG\\Documents\\Jonas\\Real_World_Test_DataBase_meta\\18\\218815\\Satellite_18_218815_141826.meta\n",
      "C:\\Users\\AISG\\Documents\\Jonas\\Real_World_Test_DataBase_meta\\18\\218815\\Satellite_18_218815_141827.meta\n",
      "C:\\Users\\AISG\\Documents\\Jonas\\Real_World_Test_DataBase_meta\\18\\218815\\Satellite_18_218815_141828.meta\n",
      "C:\\Users\\AISG\\Documents\\Jonas\\Real_World_Test_DataBase_meta\\18\\218815\\Satellite_18_218815_141829.meta\n",
      "C:\\Users\\AISG\\Documents\\Jonas\\Real_World_Test_DataBase_meta\\18\\218815\\Satellite_18_218815_141830.meta\n",
      "C:\\Users\\AISG\\Documents\\Jonas\\Real_World_Test_DataBase_meta\\18\\218815\\Satellite_18_218815_141831.meta\n",
      "C:\\Users\\AISG\\Documents\\Jonas\\Real_World_Test_DataBase_meta\\18\\218815\\Satellite_18_218815_141832.meta\n"
     ]
    },
    {
     "name": "stderr",
     "output_type": "stream",
     "text": [
      " 20%|███████████████▏                                                              | 431/2206 [00:01<00:04, 391.96it/s]"
     ]
    },
    {
     "name": "stdout",
     "output_type": "stream",
     "text": [
      "C:\\Users\\AISG\\Documents\\Jonas\\Real_World_Test_DataBase_meta\\18\\218815\\Satellite_18_218815_141833.meta\n",
      "C:\\Users\\AISG\\Documents\\Jonas\\Real_World_Test_DataBase_meta\\18\\218815\\Satellite_18_218815_141834.meta\n",
      "C:\\Users\\AISG\\Documents\\Jonas\\Real_World_Test_DataBase_meta\\18\\218815\\Satellite_18_218815_141835.meta\n",
      "C:\\Users\\AISG\\Documents\\Jonas\\Real_World_Test_DataBase_meta\\18\\218815\\Satellite_18_218815_141836.meta\n",
      "C:\\Users\\AISG\\Documents\\Jonas\\Real_World_Test_DataBase_meta\\18\\218815\\Satellite_18_218815_141837.meta\n",
      "C:\\Users\\AISG\\Documents\\Jonas\\Real_World_Test_DataBase_meta\\18\\218815\\Satellite_18_218815_141838.meta\n",
      "C:\\Users\\AISG\\Documents\\Jonas\\Real_World_Test_DataBase_meta\\18\\218815\\Satellite_18_218815_141839.meta\n",
      "C:\\Users\\AISG\\Documents\\Jonas\\Real_World_Test_DataBase_meta\\18\\218815\\Satellite_18_218815_141840.meta\n",
      "C:\\Users\\AISG\\Documents\\Jonas\\Real_World_Test_DataBase_meta\\18\\218815\\Satellite_18_218815_141841.meta\n",
      "C:\\Users\\AISG\\Documents\\Jonas\\Real_World_Test_DataBase_meta\\18\\218815\\Satellite_18_218815_141842.meta\n",
      "C:\\Users\\AISG\\Documents\\Jonas\\Real_World_Test_DataBase_meta\\18\\218815\\Satellite_18_218815_141843.meta\n",
      "C:\\Users\\AISG\\Documents\\Jonas\\Real_World_Test_DataBase_meta\\18\\218815\\Satellite_18_218815_141844.meta\n",
      "C:\\Users\\AISG\\Documents\\Jonas\\Real_World_Test_DataBase_meta\\18\\218815\\Satellite_18_218815_141845.meta\n",
      "C:\\Users\\AISG\\Documents\\Jonas\\Real_World_Test_DataBase_meta\\18\\218815\\Satellite_18_218815_141846.meta\n",
      "C:\\Users\\AISG\\Documents\\Jonas\\Real_World_Test_DataBase_meta\\18\\218815\\Satellite_18_218815_141847.meta\n",
      "C:\\Users\\AISG\\Documents\\Jonas\\Real_World_Test_DataBase_meta\\18\\218815\\Satellite_18_218815_141848.meta\n",
      "C:\\Users\\AISG\\Documents\\Jonas\\Real_World_Test_DataBase_meta\\18\\218815\\Satellite_18_218815_141849.meta\n",
      "C:\\Users\\AISG\\Documents\\Jonas\\Real_World_Test_DataBase_meta\\18\\218815\\Satellite_18_218815_141850.meta\n",
      "C:\\Users\\AISG\\Documents\\Jonas\\Real_World_Test_DataBase_meta\\18\\218815\\Satellite_18_218815_141851.meta\n",
      "C:\\Users\\AISG\\Documents\\Jonas\\Real_World_Test_DataBase_meta\\18\\218815\\Satellite_18_218815_141852.meta\n",
      "C:\\Users\\AISG\\Documents\\Jonas\\Real_World_Test_DataBase_meta\\18\\218815\\Satellite_18_218815_141853.meta\n",
      "C:\\Users\\AISG\\Documents\\Jonas\\Real_World_Test_DataBase_meta\\18\\218815\\Satellite_18_218815_141854.meta\n",
      "C:\\Users\\AISG\\Documents\\Jonas\\Real_World_Test_DataBase_meta\\18\\218815\\Satellite_18_218815_141855.meta\n",
      "C:\\Users\\AISG\\Documents\\Jonas\\Real_World_Test_DataBase_meta\\18\\218815\\Satellite_18_218815_141856.meta\n",
      "C:\\Users\\AISG\\Documents\\Jonas\\Real_World_Test_DataBase_meta\\18\\218815\\Satellite_18_218815_141857.meta\n",
      "C:\\Users\\AISG\\Documents\\Jonas\\Real_World_Test_DataBase_meta\\18\\218815\\Satellite_18_218815_141858.meta\n",
      "C:\\Users\\AISG\\Documents\\Jonas\\Real_World_Test_DataBase_meta\\18\\218815\\Satellite_18_218815_141859.meta\n",
      "C:\\Users\\AISG\\Documents\\Jonas\\Real_World_Test_DataBase_meta\\18\\218815\\Satellite_18_218815_141860.meta\n",
      "C:\\Users\\AISG\\Documents\\Jonas\\Real_World_Test_DataBase_meta\\18\\218815\\Satellite_18_218815_141861.meta\n",
      "C:\\Users\\AISG\\Documents\\Jonas\\Real_World_Test_DataBase_meta\\18\\218815\\Satellite_18_218815_141862.meta\n",
      "C:\\Users\\AISG\\Documents\\Jonas\\Real_World_Test_DataBase_meta\\18\\218815\\Satellite_18_218815_141863.meta\n",
      "C:\\Users\\AISG\\Documents\\Jonas\\Real_World_Test_DataBase_meta\\18\\218815\\Satellite_18_218815_141864.meta\n",
      "C:\\Users\\AISG\\Documents\\Jonas\\Real_World_Test_DataBase_meta\\18\\218815\\Satellite_18_218815_141865.meta\n",
      "C:\\Users\\AISG\\Documents\\Jonas\\Real_World_Test_DataBase_meta\\18\\218815\\Satellite_18_218815_141866.meta\n",
      "C:\\Users\\AISG\\Documents\\Jonas\\Real_World_Test_DataBase_meta\\18\\218815\\Satellite_18_218815_141867.meta\n",
      "C:\\Users\\AISG\\Documents\\Jonas\\Real_World_Test_DataBase_meta\\18\\218815\\Satellite_18_218815_141868.meta\n",
      "C:\\Users\\AISG\\Documents\\Jonas\\Real_World_Test_DataBase_meta\\18\\218815\\Satellite_18_218815_141869.meta\n",
      "C:\\Users\\AISG\\Documents\\Jonas\\Real_World_Test_DataBase_meta\\18\\218815\\Satellite_18_218815_141870.meta\n",
      "C:\\Users\\AISG\\Documents\\Jonas\\Real_World_Test_DataBase_meta\\18\\218815\\Satellite_18_218815_141871.meta\n",
      "C:\\Users\\AISG\\Documents\\Jonas\\Real_World_Test_DataBase_meta\\18\\218815\\Satellite_18_218815_141872.meta\n",
      "C:\\Users\\AISG\\Documents\\Jonas\\Real_World_Test_DataBase_meta\\18\\218815\\Satellite_18_218815_141873.meta\n",
      "C:\\Users\\AISG\\Documents\\Jonas\\Real_World_Test_DataBase_meta\\18\\218815\\Satellite_18_218815_141874.meta\n",
      "C:\\Users\\AISG\\Documents\\Jonas\\Real_World_Test_DataBase_meta\\18\\218815\\Satellite_18_218815_141875.meta\n",
      "C:\\Users\\AISG\\Documents\\Jonas\\Real_World_Test_DataBase_meta\\18\\218815\\Satellite_18_218815_141876.meta\n",
      "C:\\Users\\AISG\\Documents\\Jonas\\Real_World_Test_DataBase_meta\\18\\218815\\Satellite_18_218815_141877.meta\n",
      "C:\\Users\\AISG\\Documents\\Jonas\\Real_World_Test_DataBase_meta\\18\\218815\\Satellite_18_218815_141878.meta\n",
      "C:\\Users\\AISG\\Documents\\Jonas\\Real_World_Test_DataBase_meta\\18\\218815\\Satellite_18_218815_141879.meta\n",
      "C:\\Users\\AISG\\Documents\\Jonas\\Real_World_Test_DataBase_meta\\18\\218815\\Satellite_18_218815_141880.meta\n",
      "C:\\Users\\AISG\\Documents\\Jonas\\Real_World_Test_DataBase_meta\\18\\218815\\Satellite_18_218815_141881.meta\n",
      "C:\\Users\\AISG\\Documents\\Jonas\\Real_World_Test_DataBase_meta\\18\\218815\\Satellite_18_218815_141882.meta\n",
      "C:\\Users\\AISG\\Documents\\Jonas\\Real_World_Test_DataBase_meta\\18\\218815\\Satellite_18_218815_141883.meta\n",
      "C:\\Users\\AISG\\Documents\\Jonas\\Real_World_Test_DataBase_meta\\18\\218815\\Satellite_18_218815_141884.meta\n",
      "C:\\Users\\AISG\\Documents\\Jonas\\Real_World_Test_DataBase_meta\\18\\218815\\Satellite_18_218815_141885.meta\n",
      "C:\\Users\\AISG\\Documents\\Jonas\\Real_World_Test_DataBase_meta\\18\\218815\\Satellite_18_218815_141886.meta\n",
      "C:\\Users\\AISG\\Documents\\Jonas\\Real_World_Test_DataBase_meta\\18\\218815\\Satellite_18_218815_141887.meta\n",
      "C:\\Users\\AISG\\Documents\\Jonas\\Real_World_Test_DataBase_meta\\18\\218815\\Satellite_18_218815_141888.meta\n",
      "C:\\Users\\AISG\\Documents\\Jonas\\Real_World_Test_DataBase_meta\\18\\218815\\Satellite_18_218815_141889.meta\n",
      "C:\\Users\\AISG\\Documents\\Jonas\\Real_World_Test_DataBase_meta\\18\\218815\\Satellite_18_218815_141890.meta\n",
      "C:\\Users\\AISG\\Documents\\Jonas\\Real_World_Test_DataBase_meta\\18\\218815\\Satellite_18_218815_141891.meta\n",
      "C:\\Users\\AISG\\Documents\\Jonas\\Real_World_Test_DataBase_meta\\18\\218815\\Satellite_18_218815_141892.meta\n",
      "C:\\Users\\AISG\\Documents\\Jonas\\Real_World_Test_DataBase_meta\\18\\218815\\Satellite_18_218815_141893.meta\n",
      "C:\\Users\\AISG\\Documents\\Jonas\\Real_World_Test_DataBase_meta\\18\\218815\\Satellite_18_218815_141894.meta\n",
      "C:\\Users\\AISG\\Documents\\Jonas\\Real_World_Test_DataBase_meta\\18\\218815\\Satellite_18_218815_141895.meta\n",
      "C:\\Users\\AISG\\Documents\\Jonas\\Real_World_Test_DataBase_meta\\18\\218815\\Satellite_18_218815_141896.meta\n",
      "C:\\Users\\AISG\\Documents\\Jonas\\Real_World_Test_DataBase_meta\\18\\218815\\Satellite_18_218815_141897.meta\n",
      "C:\\Users\\AISG\\Documents\\Jonas\\Real_World_Test_DataBase_meta\\18\\218815\\Satellite_18_218815_141898.meta\n",
      "C:\\Users\\AISG\\Documents\\Jonas\\Real_World_Test_DataBase_meta\\18\\218815\\Satellite_18_218815_141899.meta\n",
      "C:\\Users\\AISG\\Documents\\Jonas\\Real_World_Test_DataBase_meta\\18\\218815\\Satellite_18_218815_141900.meta\n",
      "C:\\Users\\AISG\\Documents\\Jonas\\Real_World_Test_DataBase_meta\\18\\218815\\Satellite_18_218815_141901.meta\n",
      "C:\\Users\\AISG\\Documents\\Jonas\\Real_World_Test_DataBase_meta\\18\\218815\\Satellite_18_218815_141902.meta\n",
      "C:\\Users\\AISG\\Documents\\Jonas\\Real_World_Test_DataBase_meta\\18\\218815\\Satellite_18_218815_141903.meta\n",
      "C:\\Users\\AISG\\Documents\\Jonas\\Real_World_Test_DataBase_meta\\18\\218815\\Satellite_18_218815_141904.meta\n"
     ]
    },
    {
     "name": "stderr",
     "output_type": "stream",
     "text": [
      "\r",
      " 21%|████████████████▋                                                             | 471/2206 [00:01<00:04, 393.49it/s]"
     ]
    },
    {
     "name": "stdout",
     "output_type": "stream",
     "text": [
      "C:\\Users\\AISG\\Documents\\Jonas\\Real_World_Test_DataBase_meta\\18\\218815\\Satellite_18_218815_141905.meta\n",
      "C:\\Users\\AISG\\Documents\\Jonas\\Real_World_Test_DataBase_meta\\18\\218815\\Satellite_18_218815_141906.meta\n",
      "C:\\Users\\AISG\\Documents\\Jonas\\Real_World_Test_DataBase_meta\\18\\218815\\Satellite_18_218815_141907.meta\n",
      "C:\\Users\\AISG\\Documents\\Jonas\\Real_World_Test_DataBase_meta\\18\\218815\\Satellite_18_218815_141908.meta\n",
      "C:\\Users\\AISG\\Documents\\Jonas\\Real_World_Test_DataBase_meta\\18\\218815\\Satellite_18_218815_141909.meta\n",
      "C:\\Users\\AISG\\Documents\\Jonas\\Real_World_Test_DataBase_meta\\18\\218815\\Satellite_18_218815_141910.meta\n",
      "C:\\Users\\AISG\\Documents\\Jonas\\Real_World_Test_DataBase_meta\\18\\218815\\Satellite_18_218815_141911.meta\n",
      "C:\\Users\\AISG\\Documents\\Jonas\\Real_World_Test_DataBase_meta\\18\\218815\\Satellite_18_218815_141912.meta\n",
      "C:\\Users\\AISG\\Documents\\Jonas\\Real_World_Test_DataBase_meta\\18\\218815\\Satellite_18_218815_141913.meta\n",
      "C:\\Users\\AISG\\Documents\\Jonas\\Real_World_Test_DataBase_meta\\18\\218815\\Satellite_18_218815_141914.meta\n",
      "C:\\Users\\AISG\\Documents\\Jonas\\Real_World_Test_DataBase_meta\\18\\218815\\Satellite_18_218815_141915.meta\n",
      "C:\\Users\\AISG\\Documents\\Jonas\\Real_World_Test_DataBase_meta\\18\\218815\\Satellite_18_218815_141916.meta\n",
      "C:\\Users\\AISG\\Documents\\Jonas\\Real_World_Test_DataBase_meta\\18\\218815\\Satellite_18_218815_141917.meta\n",
      "C:\\Users\\AISG\\Documents\\Jonas\\Real_World_Test_DataBase_meta\\18\\218815\\Satellite_18_218815_141918.meta\n",
      "C:\\Users\\AISG\\Documents\\Jonas\\Real_World_Test_DataBase_meta\\18\\218815\\Satellite_18_218815_141919.meta\n",
      "C:\\Users\\AISG\\Documents\\Jonas\\Real_World_Test_DataBase_meta\\18\\218815\\Satellite_18_218815_141920.meta\n",
      "C:\\Users\\AISG\\Documents\\Jonas\\Real_World_Test_DataBase_meta\\18\\218815\\Satellite_18_218815_141921.meta\n",
      "C:\\Users\\AISG\\Documents\\Jonas\\Real_World_Test_DataBase_meta\\18\\218815\\Satellite_18_218815_141922.meta\n",
      "C:\\Users\\AISG\\Documents\\Jonas\\Real_World_Test_DataBase_meta\\18\\218815\\Satellite_18_218815_141923.meta\n",
      "C:\\Users\\AISG\\Documents\\Jonas\\Real_World_Test_DataBase_meta\\18\\218815\\Satellite_18_218815_141924.meta\n",
      "C:\\Users\\AISG\\Documents\\Jonas\\Real_World_Test_DataBase_meta\\18\\218815\\Satellite_18_218815_141925.meta\n",
      "C:\\Users\\AISG\\Documents\\Jonas\\Real_World_Test_DataBase_meta\\18\\218815\\Satellite_18_218815_141926.meta\n",
      "C:\\Users\\AISG\\Documents\\Jonas\\Real_World_Test_DataBase_meta\\18\\218815\\Satellite_18_218815_141927.meta\n",
      "C:\\Users\\AISG\\Documents\\Jonas\\Real_World_Test_DataBase_meta\\18\\218815\\Satellite_18_218815_141928.meta\n",
      "C:\\Users\\AISG\\Documents\\Jonas\\Real_World_Test_DataBase_meta\\18\\218815\\Satellite_18_218815_141929.meta\n",
      "C:\\Users\\AISG\\Documents\\Jonas\\Real_World_Test_DataBase_meta\\18\\218815\\Satellite_18_218815_141930.meta\n",
      "C:\\Users\\AISG\\Documents\\Jonas\\Real_World_Test_DataBase_meta\\18\\218815\\Satellite_18_218815_141931.meta\n",
      "C:\\Users\\AISG\\Documents\\Jonas\\Real_World_Test_DataBase_meta\\18\\218815\\Satellite_18_218815_141932.meta\n",
      "C:\\Users\\AISG\\Documents\\Jonas\\Real_World_Test_DataBase_meta\\18\\218815\\Satellite_18_218815_141933.meta\n",
      "C:\\Users\\AISG\\Documents\\Jonas\\Real_World_Test_DataBase_meta\\18\\218815\\Satellite_18_218815_141934.meta\n",
      "C:\\Users\\AISG\\Documents\\Jonas\\Real_World_Test_DataBase_meta\\18\\218815\\Satellite_18_218815_141935.meta\n",
      "C:\\Users\\AISG\\Documents\\Jonas\\Real_World_Test_DataBase_meta\\18\\218815\\Satellite_18_218815_141936.meta\n",
      "C:\\Users\\AISG\\Documents\\Jonas\\Real_World_Test_DataBase_meta\\18\\218815\\Satellite_18_218815_141937.meta\n",
      "C:\\Users\\AISG\\Documents\\Jonas\\Real_World_Test_DataBase_meta\\18\\218815\\Satellite_18_218815_141938.meta\n",
      "C:\\Users\\AISG\\Documents\\Jonas\\Real_World_Test_DataBase_meta\\18\\218815\\Satellite_18_218815_141939.meta\n",
      "C:\\Users\\AISG\\Documents\\Jonas\\Real_World_Test_DataBase_meta\\18\\218815\\Satellite_18_218815_141940.meta\n",
      "C:\\Users\\AISG\\Documents\\Jonas\\Real_World_Test_DataBase_meta\\18\\218815\\Satellite_18_218815_141941.meta\n",
      "C:\\Users\\AISG\\Documents\\Jonas\\Real_World_Test_DataBase_meta\\18\\218815\\Satellite_18_218815_141942.meta\n",
      "C:\\Users\\AISG\\Documents\\Jonas\\Real_World_Test_DataBase_meta\\18\\218815\\Satellite_18_218815_141943.meta\n",
      "C:\\Users\\AISG\\Documents\\Jonas\\Real_World_Test_DataBase_meta\\18\\218815\\Satellite_18_218815_141944.meta\n",
      "C:\\Users\\AISG\\Documents\\Jonas\\Real_World_Test_DataBase_meta\\18\\218815\\Satellite_18_218815_141945.meta\n",
      "C:\\Users\\AISG\\Documents\\Jonas\\Real_World_Test_DataBase_meta\\18\\218815\\Satellite_18_218815_141946.meta\n",
      "C:\\Users\\AISG\\Documents\\Jonas\\Real_World_Test_DataBase_meta\\18\\218815\\Satellite_18_218815_141947.meta\n",
      "C:\\Users\\AISG\\Documents\\Jonas\\Real_World_Test_DataBase_meta\\18\\218815\\Satellite_18_218815_141948.meta\n",
      "C:\\Users\\AISG\\Documents\\Jonas\\Real_World_Test_DataBase_meta\\18\\218815\\Satellite_18_218815_141949.meta\n",
      "C:\\Users\\AISG\\Documents\\Jonas\\Real_World_Test_DataBase_meta\\18\\218815\\Satellite_18_218815_141950.meta\n",
      "C:\\Users\\AISG\\Documents\\Jonas\\Real_World_Test_DataBase_meta\\18\\218815\\Satellite_18_218815_141951.meta\n",
      "C:\\Users\\AISG\\Documents\\Jonas\\Real_World_Test_DataBase_meta\\18\\218815\\Satellite_18_218815_141952.meta\n",
      "C:\\Users\\AISG\\Documents\\Jonas\\Real_World_Test_DataBase_meta\\18\\218815\\Satellite_18_218815_141953.meta\n",
      "C:\\Users\\AISG\\Documents\\Jonas\\Real_World_Test_DataBase_meta\\18\\218815\\Satellite_18_218815_141954.meta\n",
      "C:\\Users\\AISG\\Documents\\Jonas\\Real_World_Test_DataBase_meta\\18\\218815\\Satellite_18_218815_141955.meta\n",
      "C:\\Users\\AISG\\Documents\\Jonas\\Real_World_Test_DataBase_meta\\18\\218815\\Satellite_18_218815_141956.meta\n",
      "C:\\Users\\AISG\\Documents\\Jonas\\Real_World_Test_DataBase_meta\\18\\218815\\Satellite_18_218815_141957.meta\n",
      "C:\\Users\\AISG\\Documents\\Jonas\\Real_World_Test_DataBase_meta\\18\\218815\\Satellite_18_218815_141958.meta\n",
      "C:\\Users\\AISG\\Documents\\Jonas\\Real_World_Test_DataBase_meta\\18\\218815\\Satellite_18_218815_141959.meta\n",
      "C:\\Users\\AISG\\Documents\\Jonas\\Real_World_Test_DataBase_meta\\18\\218815\\Satellite_18_218815_141960.meta\n",
      "C:\\Users\\AISG\\Documents\\Jonas\\Real_World_Test_DataBase_meta\\18\\218815\\Satellite_18_218815_141961.meta\n",
      "C:\\Users\\AISG\\Documents\\Jonas\\Real_World_Test_DataBase_meta\\18\\218815\\Satellite_18_218815_141962.meta\n",
      "C:\\Users\\AISG\\Documents\\Jonas\\Real_World_Test_DataBase_meta\\18\\218815\\Satellite_18_218815_141963.meta\n",
      "C:\\Users\\AISG\\Documents\\Jonas\\Real_World_Test_DataBase_meta\\18\\218815\\Satellite_18_218815_141964.meta\n",
      "C:\\Users\\AISG\\Documents\\Jonas\\Real_World_Test_DataBase_meta\\18\\218815\\Satellite_18_218815_141965.meta\n",
      "C:\\Users\\AISG\\Documents\\Jonas\\Real_World_Test_DataBase_meta\\18\\218815\\Satellite_18_218815_141966.meta\n",
      "C:\\Users\\AISG\\Documents\\Jonas\\Real_World_Test_DataBase_meta\\18\\218815\\Satellite_18_218815_141967.meta\n",
      "C:\\Users\\AISG\\Documents\\Jonas\\Real_World_Test_DataBase_meta\\18\\218815\\Satellite_18_218815_141968.meta\n",
      "C:\\Users\\AISG\\Documents\\Jonas\\Real_World_Test_DataBase_meta\\18\\218815\\Satellite_18_218815_141969.meta\n",
      "C:\\Users\\AISG\\Documents\\Jonas\\Real_World_Test_DataBase_meta\\18\\218815\\Satellite_18_218815_141970.meta\n",
      "C:\\Users\\AISG\\Documents\\Jonas\\Real_World_Test_DataBase_meta\\18\\218815\\Satellite_18_218815_141971.meta\n",
      "C:\\Users\\AISG\\Documents\\Jonas\\Real_World_Test_DataBase_meta\\18\\218815\\Satellite_18_218815_141972.meta\n",
      "C:\\Users\\AISG\\Documents\\Jonas\\Real_World_Test_DataBase_meta\\18\\218815\\Satellite_18_218815_141973.meta\n",
      "C:\\Users\\AISG\\Documents\\Jonas\\Real_World_Test_DataBase_meta\\18\\218815\\Satellite_18_218815_141974.meta\n",
      "C:\\Users\\AISG\\Documents\\Jonas\\Real_World_Test_DataBase_meta\\18\\218815\\Satellite_18_218815_141975.meta\n",
      "C:\\Users\\AISG\\Documents\\Jonas\\Real_World_Test_DataBase_meta\\18\\218815\\Satellite_18_218815_141976.meta\n",
      "C:\\Users\\AISG\\Documents\\Jonas\\Real_World_Test_DataBase_meta\\18\\218815\\Satellite_18_218815_141977.meta\n",
      "C:\\Users\\AISG\\Documents\\Jonas\\Real_World_Test_DataBase_meta\\18\\218815\\Satellite_18_218815_141978.meta\n",
      "C:\\Users\\AISG\\Documents\\Jonas\\Real_World_Test_DataBase_meta\\18\\218815\\Satellite_18_218815_141979.meta\n",
      "C:\\Users\\AISG\\Documents\\Jonas\\Real_World_Test_DataBase_meta\\18\\218815\\Satellite_18_218815_141980.meta\n"
     ]
    },
    {
     "name": "stderr",
     "output_type": "stream",
     "text": [
      " 25%|███████████████████▍                                                          | 551/2206 [00:01<00:04, 394.16it/s]"
     ]
    },
    {
     "name": "stdout",
     "output_type": "stream",
     "text": [
      "C:\\Users\\AISG\\Documents\\Jonas\\Real_World_Test_DataBase_meta\\18\\218815\\Satellite_18_218815_141981.meta\n",
      "C:\\Users\\AISG\\Documents\\Jonas\\Real_World_Test_DataBase_meta\\18\\218815\\Satellite_18_218815_141982.meta\n",
      "C:\\Users\\AISG\\Documents\\Jonas\\Real_World_Test_DataBase_meta\\18\\218815\\Satellite_18_218815_141983.meta\n",
      "C:\\Users\\AISG\\Documents\\Jonas\\Real_World_Test_DataBase_meta\\18\\218815\\Satellite_18_218815_141984.meta\n",
      "C:\\Users\\AISG\\Documents\\Jonas\\Real_World_Test_DataBase_meta\\18\\218815\\Satellite_18_218815_141985.meta\n",
      "C:\\Users\\AISG\\Documents\\Jonas\\Real_World_Test_DataBase_meta\\18\\218815\\Satellite_18_218815_141986.meta\n",
      "C:\\Users\\AISG\\Documents\\Jonas\\Real_World_Test_DataBase_meta\\18\\218815\\Satellite_18_218815_141987.meta\n",
      "C:\\Users\\AISG\\Documents\\Jonas\\Real_World_Test_DataBase_meta\\18\\218815\\Satellite_18_218815_141988.meta\n",
      "C:\\Users\\AISG\\Documents\\Jonas\\Real_World_Test_DataBase_meta\\18\\218815\\Satellite_18_218815_141989.meta\n",
      "C:\\Users\\AISG\\Documents\\Jonas\\Real_World_Test_DataBase_meta\\18\\218815\\Satellite_18_218815_141990.meta\n",
      "C:\\Users\\AISG\\Documents\\Jonas\\Real_World_Test_DataBase_meta\\18\\218815\\Satellite_18_218815_141991.meta\n",
      "C:\\Users\\AISG\\Documents\\Jonas\\Real_World_Test_DataBase_meta\\18\\218815\\Satellite_18_218815_141992.meta\n",
      "C:\\Users\\AISG\\Documents\\Jonas\\Real_World_Test_DataBase_meta\\18\\218815\\Satellite_18_218815_141993.meta\n",
      "C:\\Users\\AISG\\Documents\\Jonas\\Real_World_Test_DataBase_meta\\18\\218815\\Satellite_18_218815_141994.meta\n",
      "C:\\Users\\AISG\\Documents\\Jonas\\Real_World_Test_DataBase_meta\\18\\218815\\Satellite_18_218815_141995.meta\n",
      "C:\\Users\\AISG\\Documents\\Jonas\\Real_World_Test_DataBase_meta\\18\\218815\\Satellite_18_218815_141996.meta\n",
      "C:\\Users\\AISG\\Documents\\Jonas\\Real_World_Test_DataBase_meta\\18\\218815\\Satellite_18_218815_141997.meta\n",
      "C:\\Users\\AISG\\Documents\\Jonas\\Real_World_Test_DataBase_meta\\18\\218815\\Satellite_18_218815_141998.meta\n",
      "C:\\Users\\AISG\\Documents\\Jonas\\Real_World_Test_DataBase_meta\\18\\218815\\Satellite_18_218815_141999.meta\n",
      "C:\\Users\\AISG\\Documents\\Jonas\\Real_World_Test_DataBase_meta\\18\\218815\\Satellite_18_218815_142000.meta\n",
      "C:\\Users\\AISG\\Documents\\Jonas\\Real_World_Test_DataBase_meta\\18\\218815\\Satellite_18_218815_142001.meta\n",
      "C:\\Users\\AISG\\Documents\\Jonas\\Real_World_Test_DataBase_meta\\18\\218815\\Satellite_18_218815_142002.meta\n",
      "C:\\Users\\AISG\\Documents\\Jonas\\Real_World_Test_DataBase_meta\\18\\218815\\Satellite_18_218815_142003.meta\n",
      "C:\\Users\\AISG\\Documents\\Jonas\\Real_World_Test_DataBase_meta\\18\\218815\\Satellite_18_218815_142004.meta\n",
      "C:\\Users\\AISG\\Documents\\Jonas\\Real_World_Test_DataBase_meta\\18\\218815\\Satellite_18_218815_142005.meta\n",
      "C:\\Users\\AISG\\Documents\\Jonas\\Real_World_Test_DataBase_meta\\18\\218815\\Satellite_18_218815_142006.meta\n",
      "C:\\Users\\AISG\\Documents\\Jonas\\Real_World_Test_DataBase_meta\\18\\218815\\Satellite_18_218815_142007.meta\n",
      "C:\\Users\\AISG\\Documents\\Jonas\\Real_World_Test_DataBase_meta\\18\\218815\\Satellite_18_218815_142008.meta\n",
      "C:\\Users\\AISG\\Documents\\Jonas\\Real_World_Test_DataBase_meta\\18\\218815\\Satellite_18_218815_142009.meta\n",
      "C:\\Users\\AISG\\Documents\\Jonas\\Real_World_Test_DataBase_meta\\18\\218815\\Satellite_18_218815_142010.meta\n",
      "C:\\Users\\AISG\\Documents\\Jonas\\Real_World_Test_DataBase_meta\\18\\218815\\Satellite_18_218815_142011.meta\n",
      "C:\\Users\\AISG\\Documents\\Jonas\\Real_World_Test_DataBase_meta\\18\\218815\\Satellite_18_218815_142012.meta\n",
      "C:\\Users\\AISG\\Documents\\Jonas\\Real_World_Test_DataBase_meta\\18\\218815\\Satellite_18_218815_142013.meta\n",
      "C:\\Users\\AISG\\Documents\\Jonas\\Real_World_Test_DataBase_meta\\18\\218815\\Satellite_18_218815_142014.meta\n",
      "C:\\Users\\AISG\\Documents\\Jonas\\Real_World_Test_DataBase_meta\\18\\218815\\Satellite_18_218815_142015.meta\n",
      "C:\\Users\\AISG\\Documents\\Jonas\\Real_World_Test_DataBase_meta\\18\\218815\\Satellite_18_218815_142016.meta\n",
      "C:\\Users\\AISG\\Documents\\Jonas\\Real_World_Test_DataBase_meta\\18\\218815\\Satellite_18_218815_142017.meta\n",
      "C:\\Users\\AISG\\Documents\\Jonas\\Real_World_Test_DataBase_meta\\18\\218815\\Satellite_18_218815_142018.meta\n",
      "C:\\Users\\AISG\\Documents\\Jonas\\Real_World_Test_DataBase_meta\\18\\218815\\Satellite_18_218815_142019.meta\n",
      "C:\\Users\\AISG\\Documents\\Jonas\\Real_World_Test_DataBase_meta\\18\\218815\\Satellite_18_218815_142020.meta\n",
      "C:\\Users\\AISG\\Documents\\Jonas\\Real_World_Test_DataBase_meta\\18\\218815\\Satellite_18_218815_142021.meta\n",
      "C:\\Users\\AISG\\Documents\\Jonas\\Real_World_Test_DataBase_meta\\18\\218815\\Satellite_18_218815_142022.meta\n",
      "C:\\Users\\AISG\\Documents\\Jonas\\Real_World_Test_DataBase_meta\\18\\218815\\Satellite_18_218815_142023.meta\n",
      "C:\\Users\\AISG\\Documents\\Jonas\\Real_World_Test_DataBase_meta\\18\\218815\\Satellite_18_218815_142024.meta\n",
      "C:\\Users\\AISG\\Documents\\Jonas\\Real_World_Test_DataBase_meta\\18\\218815\\Satellite_18_218815_142025.meta\n",
      "C:\\Users\\AISG\\Documents\\Jonas\\Real_World_Test_DataBase_meta\\18\\218815\\Satellite_18_218815_142026.meta\n",
      "C:\\Users\\AISG\\Documents\\Jonas\\Real_World_Test_DataBase_meta\\18\\218815\\Satellite_18_218815_142027.meta\n",
      "C:\\Users\\AISG\\Documents\\Jonas\\Real_World_Test_DataBase_meta\\18\\218815\\Satellite_18_218815_142028.meta\n",
      "C:\\Users\\AISG\\Documents\\Jonas\\Real_World_Test_DataBase_meta\\18\\218815\\Satellite_18_218815_142029.meta\n",
      "C:\\Users\\AISG\\Documents\\Jonas\\Real_World_Test_DataBase_meta\\18\\218815\\Satellite_18_218815_142030.meta\n",
      "C:\\Users\\AISG\\Documents\\Jonas\\Real_World_Test_DataBase_meta\\18\\218815\\Satellite_18_218815_142031.meta\n",
      "C:\\Users\\AISG\\Documents\\Jonas\\Real_World_Test_DataBase_meta\\18\\218815\\Satellite_18_218815_142032.meta\n",
      "C:\\Users\\AISG\\Documents\\Jonas\\Real_World_Test_DataBase_meta\\18\\218815\\Satellite_18_218815_142033.meta\n",
      "C:\\Users\\AISG\\Documents\\Jonas\\Real_World_Test_DataBase_meta\\18\\218815\\Satellite_18_218815_142034.meta\n",
      "C:\\Users\\AISG\\Documents\\Jonas\\Real_World_Test_DataBase_meta\\18\\218815\\Satellite_18_218815_142035.meta\n",
      "C:\\Users\\AISG\\Documents\\Jonas\\Real_World_Test_DataBase_meta\\18\\218815\\Satellite_18_218815_142036.meta\n",
      "C:\\Users\\AISG\\Documents\\Jonas\\Real_World_Test_DataBase_meta\\18\\218815\\Satellite_18_218815_142037.meta\n",
      "C:\\Users\\AISG\\Documents\\Jonas\\Real_World_Test_DataBase_meta\\18\\218815\\Satellite_18_218815_142038.meta\n",
      "C:\\Users\\AISG\\Documents\\Jonas\\Real_World_Test_DataBase_meta\\18\\218815\\Satellite_18_218815_142039.meta\n",
      "C:\\Users\\AISG\\Documents\\Jonas\\Real_World_Test_DataBase_meta\\18\\218815\\Satellite_18_218815_142040.meta\n",
      "C:\\Users\\AISG\\Documents\\Jonas\\Real_World_Test_DataBase_meta\\18\\218815\\Satellite_18_218815_142041.meta\n",
      "C:\\Users\\AISG\\Documents\\Jonas\\Real_World_Test_DataBase_meta\\18\\218815\\Satellite_18_218815_142042.meta\n",
      "C:\\Users\\AISG\\Documents\\Jonas\\Real_World_Test_DataBase_meta\\18\\218815\\Satellite_18_218815_142043.meta\n",
      "C:\\Users\\AISG\\Documents\\Jonas\\Real_World_Test_DataBase_meta\\18\\218815\\Satellite_18_218815_142044.meta\n",
      "C:\\Users\\AISG\\Documents\\Jonas\\Real_World_Test_DataBase_meta\\18\\218815\\Satellite_18_218815_142045.meta\n",
      "C:\\Users\\AISG\\Documents\\Jonas\\Real_World_Test_DataBase_meta\\18\\218815\\Satellite_18_218815_142046.meta\n",
      "C:\\Users\\AISG\\Documents\\Jonas\\Real_World_Test_DataBase_meta\\18\\218815\\Satellite_18_218815_142047.meta\n",
      "C:\\Users\\AISG\\Documents\\Jonas\\Real_World_Test_DataBase_meta\\18\\218815\\Satellite_18_218815_142048.meta\n",
      "C:\\Users\\AISG\\Documents\\Jonas\\Real_World_Test_DataBase_meta\\18\\218815\\Satellite_18_218815_142049.meta\n",
      "C:\\Users\\AISG\\Documents\\Jonas\\Real_World_Test_DataBase_meta\\18\\218815\\Satellite_18_218815_142050.meta\n",
      "C:\\Users\\AISG\\Documents\\Jonas\\Real_World_Test_DataBase_meta\\18\\218815\\Satellite_18_218815_142051.meta\n",
      "C:\\Users\\AISG\\Documents\\Jonas\\Real_World_Test_DataBase_meta\\18\\218815\\Satellite_18_218815_142052.meta\n",
      "C:\\Users\\AISG\\Documents\\Jonas\\Real_World_Test_DataBase_meta\\18\\218815\\Satellite_18_218815_142053.meta\n",
      "C:\\Users\\AISG\\Documents\\Jonas\\Real_World_Test_DataBase_meta\\18\\218815\\Satellite_18_218815_142054.meta\n"
     ]
    },
    {
     "name": "stderr",
     "output_type": "stream",
     "text": [
      " 29%|██████████████████████▎                                                       | 631/2206 [00:01<00:03, 394.52it/s]"
     ]
    },
    {
     "name": "stdout",
     "output_type": "stream",
     "text": [
      "C:\\Users\\AISG\\Documents\\Jonas\\Real_World_Test_DataBase_meta\\18\\218815\\Satellite_18_218815_142055.meta\n",
      "C:\\Users\\AISG\\Documents\\Jonas\\Real_World_Test_DataBase_meta\\18\\218815\\Satellite_18_218815_142056.meta\n",
      "C:\\Users\\AISG\\Documents\\Jonas\\Real_World_Test_DataBase_meta\\18\\218815\\Satellite_18_218815_142057.meta\n",
      "C:\\Users\\AISG\\Documents\\Jonas\\Real_World_Test_DataBase_meta\\18\\218815\\Satellite_18_218815_142058.meta\n",
      "C:\\Users\\AISG\\Documents\\Jonas\\Real_World_Test_DataBase_meta\\18\\218815\\Satellite_18_218815_142059.meta\n",
      "C:\\Users\\AISG\\Documents\\Jonas\\Real_World_Test_DataBase_meta\\18\\218815\\Satellite_18_218815_142060.meta\n",
      "C:\\Users\\AISG\\Documents\\Jonas\\Real_World_Test_DataBase_meta\\18\\218815\\Satellite_18_218815_142061.meta\n",
      "C:\\Users\\AISG\\Documents\\Jonas\\Real_World_Test_DataBase_meta\\18\\218815\\Satellite_18_218815_142062.meta\n",
      "C:\\Users\\AISG\\Documents\\Jonas\\Real_World_Test_DataBase_meta\\18\\218815\\Satellite_18_218815_142063.meta\n",
      "C:\\Users\\AISG\\Documents\\Jonas\\Real_World_Test_DataBase_meta\\18\\218815\\Satellite_18_218815_142064.meta\n",
      "C:\\Users\\AISG\\Documents\\Jonas\\Real_World_Test_DataBase_meta\\18\\218815\\Satellite_18_218815_142065.meta\n",
      "C:\\Users\\AISG\\Documents\\Jonas\\Real_World_Test_DataBase_meta\\18\\218815\\Satellite_18_218815_142066.meta\n",
      "C:\\Users\\AISG\\Documents\\Jonas\\Real_World_Test_DataBase_meta\\18\\218815\\Satellite_18_218815_142067.meta\n",
      "C:\\Users\\AISG\\Documents\\Jonas\\Real_World_Test_DataBase_meta\\18\\218815\\Satellite_18_218815_142068.meta\n",
      "C:\\Users\\AISG\\Documents\\Jonas\\Real_World_Test_DataBase_meta\\18\\218815\\Satellite_18_218815_142069.meta\n",
      "C:\\Users\\AISG\\Documents\\Jonas\\Real_World_Test_DataBase_meta\\18\\218815\\Satellite_18_218815_142070.meta\n",
      "C:\\Users\\AISG\\Documents\\Jonas\\Real_World_Test_DataBase_meta\\18\\218815\\Satellite_18_218815_142071.meta\n",
      "C:\\Users\\AISG\\Documents\\Jonas\\Real_World_Test_DataBase_meta\\18\\218815\\Satellite_18_218815_142072.meta\n",
      "C:\\Users\\AISG\\Documents\\Jonas\\Real_World_Test_DataBase_meta\\18\\218815\\Satellite_18_218815_142073.meta\n",
      "C:\\Users\\AISG\\Documents\\Jonas\\Real_World_Test_DataBase_meta\\18\\218815\\Satellite_18_218815_142074.meta\n",
      "C:\\Users\\AISG\\Documents\\Jonas\\Real_World_Test_DataBase_meta\\18\\218815\\Satellite_18_218815_142075.meta\n",
      "C:\\Users\\AISG\\Documents\\Jonas\\Real_World_Test_DataBase_meta\\18\\218815\\Satellite_18_218815_142076.meta\n",
      "C:\\Users\\AISG\\Documents\\Jonas\\Real_World_Test_DataBase_meta\\18\\218815\\Satellite_18_218815_142077.meta\n",
      "C:\\Users\\AISG\\Documents\\Jonas\\Real_World_Test_DataBase_meta\\18\\218815\\Satellite_18_218815_142078.meta\n",
      "C:\\Users\\AISG\\Documents\\Jonas\\Real_World_Test_DataBase_meta\\18\\218815\\Satellite_18_218815_142079.meta\n",
      "C:\\Users\\AISG\\Documents\\Jonas\\Real_World_Test_DataBase_meta\\18\\218815\\Satellite_18_218815_142080.meta\n",
      "C:\\Users\\AISG\\Documents\\Jonas\\Real_World_Test_DataBase_meta\\18\\218815\\Satellite_18_218815_142081.meta\n",
      "C:\\Users\\AISG\\Documents\\Jonas\\Real_World_Test_DataBase_meta\\18\\218815\\Satellite_18_218815_142082.meta\n",
      "C:\\Users\\AISG\\Documents\\Jonas\\Real_World_Test_DataBase_meta\\18\\218815\\Satellite_18_218815_142083.meta\n",
      "C:\\Users\\AISG\\Documents\\Jonas\\Real_World_Test_DataBase_meta\\18\\218815\\Satellite_18_218815_142084.meta\n",
      "C:\\Users\\AISG\\Documents\\Jonas\\Real_World_Test_DataBase_meta\\18\\218815\\Satellite_18_218815_142085.meta\n",
      "C:\\Users\\AISG\\Documents\\Jonas\\Real_World_Test_DataBase_meta\\18\\218815\\Satellite_18_218815_142086.meta\n",
      "C:\\Users\\AISG\\Documents\\Jonas\\Real_World_Test_DataBase_meta\\18\\218815\\Satellite_18_218815_142087.meta\n",
      "C:\\Users\\AISG\\Documents\\Jonas\\Real_World_Test_DataBase_meta\\18\\218815\\Satellite_18_218815_142088.meta\n",
      "C:\\Users\\AISG\\Documents\\Jonas\\Real_World_Test_DataBase_meta\\18\\218815\\Satellite_18_218815_142089.meta\n",
      "C:\\Users\\AISG\\Documents\\Jonas\\Real_World_Test_DataBase_meta\\18\\218815\\Satellite_18_218815_142090.meta\n",
      "C:\\Users\\AISG\\Documents\\Jonas\\Real_World_Test_DataBase_meta\\18\\218815\\Satellite_18_218815_142091.meta\n",
      "C:\\Users\\AISG\\Documents\\Jonas\\Real_World_Test_DataBase_meta\\18\\218815\\Satellite_18_218815_142092.meta\n",
      "C:\\Users\\AISG\\Documents\\Jonas\\Real_World_Test_DataBase_meta\\18\\218815\\Satellite_18_218815_142093.meta\n",
      "C:\\Users\\AISG\\Documents\\Jonas\\Real_World_Test_DataBase_meta\\18\\218815\\Satellite_18_218815_142094.meta\n",
      "C:\\Users\\AISG\\Documents\\Jonas\\Real_World_Test_DataBase_meta\\18\\218815\\Satellite_18_218815_142095.meta\n",
      "C:\\Users\\AISG\\Documents\\Jonas\\Real_World_Test_DataBase_meta\\18\\218815\\Satellite_18_218815_142096.meta\n",
      "C:\\Users\\AISG\\Documents\\Jonas\\Real_World_Test_DataBase_meta\\18\\218815\\Satellite_18_218815_142097.meta\n",
      "C:\\Users\\AISG\\Documents\\Jonas\\Real_World_Test_DataBase_meta\\18\\218815\\Satellite_18_218815_142098.meta\n",
      "C:\\Users\\AISG\\Documents\\Jonas\\Real_World_Test_DataBase_meta\\18\\218815\\Satellite_18_218815_142099.meta\n",
      "C:\\Users\\AISG\\Documents\\Jonas\\Real_World_Test_DataBase_meta\\18\\218815\\Satellite_18_218815_142100.meta\n",
      "C:\\Users\\AISG\\Documents\\Jonas\\Real_World_Test_DataBase_meta\\18\\218815\\Satellite_18_218815_142101.meta\n",
      "C:\\Users\\AISG\\Documents\\Jonas\\Real_World_Test_DataBase_meta\\18\\218815\\Satellite_18_218815_142102.meta\n",
      "C:\\Users\\AISG\\Documents\\Jonas\\Real_World_Test_DataBase_meta\\18\\218815\\Satellite_18_218815_142103.meta\n",
      "C:\\Users\\AISG\\Documents\\Jonas\\Real_World_Test_DataBase_meta\\18\\218815\\Satellite_18_218815_142104.meta\n",
      "C:\\Users\\AISG\\Documents\\Jonas\\Real_World_Test_DataBase_meta\\18\\218815\\Satellite_18_218815_142105.meta\n",
      "C:\\Users\\AISG\\Documents\\Jonas\\Real_World_Test_DataBase_meta\\18\\218815\\Satellite_18_218815_142106.meta\n",
      "C:\\Users\\AISG\\Documents\\Jonas\\Real_World_Test_DataBase_meta\\18\\218815\\Satellite_18_218815_142107.meta\n",
      "C:\\Users\\AISG\\Documents\\Jonas\\Real_World_Test_DataBase_meta\\18\\218815\\Satellite_18_218815_142108.meta\n",
      "C:\\Users\\AISG\\Documents\\Jonas\\Real_World_Test_DataBase_meta\\18\\218815\\Satellite_18_218815_142109.meta\n",
      "C:\\Users\\AISG\\Documents\\Jonas\\Real_World_Test_DataBase_meta\\18\\218815\\Satellite_18_218815_142110.meta\n",
      "C:\\Users\\AISG\\Documents\\Jonas\\Real_World_Test_DataBase_meta\\18\\218815\\Satellite_18_218815_142111.meta\n",
      "C:\\Users\\AISG\\Documents\\Jonas\\Real_World_Test_DataBase_meta\\18\\218815\\Satellite_18_218815_142112.meta\n",
      "C:\\Users\\AISG\\Documents\\Jonas\\Real_World_Test_DataBase_meta\\18\\218815\\Satellite_18_218815_142113.meta\n",
      "C:\\Users\\AISG\\Documents\\Jonas\\Real_World_Test_DataBase_meta\\18\\218815\\Satellite_18_218815_142114.meta\n",
      "C:\\Users\\AISG\\Documents\\Jonas\\Real_World_Test_DataBase_meta\\18\\218815\\Satellite_18_218815_142115.meta\n",
      "C:\\Users\\AISG\\Documents\\Jonas\\Real_World_Test_DataBase_meta\\18\\218815\\Satellite_18_218815_142116.meta\n",
      "C:\\Users\\AISG\\Documents\\Jonas\\Real_World_Test_DataBase_meta\\18\\218815\\Satellite_18_218815_142117.meta\n",
      "C:\\Users\\AISG\\Documents\\Jonas\\Real_World_Test_DataBase_meta\\18\\218815\\Satellite_18_218815_142118.meta\n",
      "C:\\Users\\AISG\\Documents\\Jonas\\Real_World_Test_DataBase_meta\\18\\218815\\Satellite_18_218815_142119.meta\n",
      "C:\\Users\\AISG\\Documents\\Jonas\\Real_World_Test_DataBase_meta\\18\\218815\\Satellite_18_218815_142120.meta\n",
      "C:\\Users\\AISG\\Documents\\Jonas\\Real_World_Test_DataBase_meta\\18\\218815\\Satellite_18_218815_142121.meta\n",
      "C:\\Users\\AISG\\Documents\\Jonas\\Real_World_Test_DataBase_meta\\18\\218815\\Satellite_18_218815_142122.meta\n",
      "C:\\Users\\AISG\\Documents\\Jonas\\Real_World_Test_DataBase_meta\\18\\218815\\Satellite_18_218815_142123.meta\n",
      "C:\\Users\\AISG\\Documents\\Jonas\\Real_World_Test_DataBase_meta\\18\\218815\\Satellite_18_218815_142124.meta\n",
      "C:\\Users\\AISG\\Documents\\Jonas\\Real_World_Test_DataBase_meta\\18\\218815\\Satellite_18_218815_142127.meta\n",
      "C:\\Users\\AISG\\Documents\\Jonas\\Real_World_Test_DataBase_meta\\18\\218815\\Satellite_18_218815_142128.meta\n",
      "C:\\Users\\AISG\\Documents\\Jonas\\Real_World_Test_DataBase_meta\\18\\218848\\Satellite_18_218848_141639.meta\n",
      "C:\\Users\\AISG\\Documents\\Jonas\\Real_World_Test_DataBase_meta\\18\\218848\\Satellite_18_218848_141640.meta\n"
     ]
    },
    {
     "name": "stderr",
     "output_type": "stream",
     "text": [
      " 32%|█████████████████████████▏                                                    | 711/2206 [00:01<00:03, 384.31it/s]"
     ]
    },
    {
     "name": "stdout",
     "output_type": "stream",
     "text": [
      "C:\\Users\\AISG\\Documents\\Jonas\\Real_World_Test_DataBase_meta\\18\\218848\\Satellite_18_218848_141641.meta\n",
      "C:\\Users\\AISG\\Documents\\Jonas\\Real_World_Test_DataBase_meta\\18\\218848\\Satellite_18_218848_141642.meta\n",
      "C:\\Users\\AISG\\Documents\\Jonas\\Real_World_Test_DataBase_meta\\18\\218848\\Satellite_18_218848_141643.meta\n",
      "C:\\Users\\AISG\\Documents\\Jonas\\Real_World_Test_DataBase_meta\\18\\218848\\Satellite_18_218848_141644.meta\n",
      "C:\\Users\\AISG\\Documents\\Jonas\\Real_World_Test_DataBase_meta\\18\\218848\\Satellite_18_218848_141645.meta\n",
      "C:\\Users\\AISG\\Documents\\Jonas\\Real_World_Test_DataBase_meta\\18\\218848\\Satellite_18_218848_141646.meta\n",
      "C:\\Users\\AISG\\Documents\\Jonas\\Real_World_Test_DataBase_meta\\18\\218848\\Satellite_18_218848_141647.meta\n",
      "C:\\Users\\AISG\\Documents\\Jonas\\Real_World_Test_DataBase_meta\\18\\218848\\Satellite_18_218848_141648.meta\n",
      "C:\\Users\\AISG\\Documents\\Jonas\\Real_World_Test_DataBase_meta\\18\\218848\\Satellite_18_218848_141649.meta\n",
      "C:\\Users\\AISG\\Documents\\Jonas\\Real_World_Test_DataBase_meta\\18\\218848\\Satellite_18_218848_141650.meta\n",
      "C:\\Users\\AISG\\Documents\\Jonas\\Real_World_Test_DataBase_meta\\18\\218848\\Satellite_18_218848_141651.meta\n",
      "C:\\Users\\AISG\\Documents\\Jonas\\Real_World_Test_DataBase_meta\\18\\218848\\Satellite_18_218848_141652.meta\n",
      "C:\\Users\\AISG\\Documents\\Jonas\\Real_World_Test_DataBase_meta\\18\\218848\\Satellite_18_218848_141653.meta\n",
      "C:\\Users\\AISG\\Documents\\Jonas\\Real_World_Test_DataBase_meta\\18\\218848\\Satellite_18_218848_141654.meta\n",
      "C:\\Users\\AISG\\Documents\\Jonas\\Real_World_Test_DataBase_meta\\18\\218848\\Satellite_18_218848_141655.meta\n",
      "C:\\Users\\AISG\\Documents\\Jonas\\Real_World_Test_DataBase_meta\\18\\218848\\Satellite_18_218848_141656.meta\n",
      "C:\\Users\\AISG\\Documents\\Jonas\\Real_World_Test_DataBase_meta\\18\\218848\\Satellite_18_218848_141657.meta\n",
      "C:\\Users\\AISG\\Documents\\Jonas\\Real_World_Test_DataBase_meta\\18\\218848\\Satellite_18_218848_141658.meta\n",
      "C:\\Users\\AISG\\Documents\\Jonas\\Real_World_Test_DataBase_meta\\18\\218848\\Satellite_18_218848_141659.meta\n",
      "C:\\Users\\AISG\\Documents\\Jonas\\Real_World_Test_DataBase_meta\\18\\218848\\Satellite_18_218848_141660.meta\n",
      "C:\\Users\\AISG\\Documents\\Jonas\\Real_World_Test_DataBase_meta\\18\\218848\\Satellite_18_218848_141661.meta\n",
      "C:\\Users\\AISG\\Documents\\Jonas\\Real_World_Test_DataBase_meta\\18\\218848\\Satellite_18_218848_141662.meta\n",
      "C:\\Users\\AISG\\Documents\\Jonas\\Real_World_Test_DataBase_meta\\18\\218848\\Satellite_18_218848_141663.meta\n",
      "C:\\Users\\AISG\\Documents\\Jonas\\Real_World_Test_DataBase_meta\\18\\218848\\Satellite_18_218848_141664.meta\n",
      "C:\\Users\\AISG\\Documents\\Jonas\\Real_World_Test_DataBase_meta\\18\\218848\\Satellite_18_218848_141665.meta\n",
      "C:\\Users\\AISG\\Documents\\Jonas\\Real_World_Test_DataBase_meta\\18\\218848\\Satellite_18_218848_141666.meta\n",
      "C:\\Users\\AISG\\Documents\\Jonas\\Real_World_Test_DataBase_meta\\18\\218848\\Satellite_18_218848_141667.meta\n",
      "C:\\Users\\AISG\\Documents\\Jonas\\Real_World_Test_DataBase_meta\\18\\218848\\Satellite_18_218848_141668.meta\n",
      "C:\\Users\\AISG\\Documents\\Jonas\\Real_World_Test_DataBase_meta\\18\\218848\\Satellite_18_218848_141669.meta\n",
      "C:\\Users\\AISG\\Documents\\Jonas\\Real_World_Test_DataBase_meta\\18\\218848\\Satellite_18_218848_141670.meta\n",
      "C:\\Users\\AISG\\Documents\\Jonas\\Real_World_Test_DataBase_meta\\18\\218848\\Satellite_18_218848_141671.meta\n",
      "C:\\Users\\AISG\\Documents\\Jonas\\Real_World_Test_DataBase_meta\\18\\218848\\Satellite_18_218848_141672.meta\n",
      "C:\\Users\\AISG\\Documents\\Jonas\\Real_World_Test_DataBase_meta\\18\\218848\\Satellite_18_218848_141673.meta\n",
      "C:\\Users\\AISG\\Documents\\Jonas\\Real_World_Test_DataBase_meta\\18\\218848\\Satellite_18_218848_141674.meta\n",
      "C:\\Users\\AISG\\Documents\\Jonas\\Real_World_Test_DataBase_meta\\18\\218848\\Satellite_18_218848_141675.meta\n",
      "C:\\Users\\AISG\\Documents\\Jonas\\Real_World_Test_DataBase_meta\\18\\218848\\Satellite_18_218848_141676.meta\n",
      "C:\\Users\\AISG\\Documents\\Jonas\\Real_World_Test_DataBase_meta\\18\\218848\\Satellite_18_218848_141677.meta\n",
      "C:\\Users\\AISG\\Documents\\Jonas\\Real_World_Test_DataBase_meta\\18\\218848\\Satellite_18_218848_141678.meta\n",
      "C:\\Users\\AISG\\Documents\\Jonas\\Real_World_Test_DataBase_meta\\18\\218848\\Satellite_18_218848_141679.meta\n",
      "C:\\Users\\AISG\\Documents\\Jonas\\Real_World_Test_DataBase_meta\\18\\218848\\Satellite_18_218848_141680.meta\n",
      "C:\\Users\\AISG\\Documents\\Jonas\\Real_World_Test_DataBase_meta\\18\\218848\\Satellite_18_218848_141681.meta\n",
      "C:\\Users\\AISG\\Documents\\Jonas\\Real_World_Test_DataBase_meta\\18\\218848\\Satellite_18_218848_141682.meta\n",
      "C:\\Users\\AISG\\Documents\\Jonas\\Real_World_Test_DataBase_meta\\18\\218848\\Satellite_18_218848_141683.meta\n",
      "C:\\Users\\AISG\\Documents\\Jonas\\Real_World_Test_DataBase_meta\\18\\218848\\Satellite_18_218848_141684.meta\n",
      "C:\\Users\\AISG\\Documents\\Jonas\\Real_World_Test_DataBase_meta\\18\\218848\\Satellite_18_218848_141685.meta\n",
      "C:\\Users\\AISG\\Documents\\Jonas\\Real_World_Test_DataBase_meta\\18\\218848\\Satellite_18_218848_141686.meta\n",
      "C:\\Users\\AISG\\Documents\\Jonas\\Real_World_Test_DataBase_meta\\18\\218848\\Satellite_18_218848_141687.meta\n",
      "C:\\Users\\AISG\\Documents\\Jonas\\Real_World_Test_DataBase_meta\\18\\218848\\Satellite_18_218848_141688.meta\n",
      "C:\\Users\\AISG\\Documents\\Jonas\\Real_World_Test_DataBase_meta\\18\\218848\\Satellite_18_218848_141689.meta\n",
      "C:\\Users\\AISG\\Documents\\Jonas\\Real_World_Test_DataBase_meta\\18\\218848\\Satellite_18_218848_141690.meta\n",
      "C:\\Users\\AISG\\Documents\\Jonas\\Real_World_Test_DataBase_meta\\18\\218848\\Satellite_18_218848_141691.meta\n",
      "C:\\Users\\AISG\\Documents\\Jonas\\Real_World_Test_DataBase_meta\\18\\218848\\Satellite_18_218848_141692.meta\n",
      "C:\\Users\\AISG\\Documents\\Jonas\\Real_World_Test_DataBase_meta\\18\\218848\\Satellite_18_218848_141693.meta\n",
      "C:\\Users\\AISG\\Documents\\Jonas\\Real_World_Test_DataBase_meta\\18\\218848\\Satellite_18_218848_141694.meta\n",
      "C:\\Users\\AISG\\Documents\\Jonas\\Real_World_Test_DataBase_meta\\18\\218848\\Satellite_18_218848_141695.meta\n",
      "C:\\Users\\AISG\\Documents\\Jonas\\Real_World_Test_DataBase_meta\\18\\218848\\Satellite_18_218848_141696.meta\n",
      "C:\\Users\\AISG\\Documents\\Jonas\\Real_World_Test_DataBase_meta\\18\\218848\\Satellite_18_218848_141697.meta\n",
      "C:\\Users\\AISG\\Documents\\Jonas\\Real_World_Test_DataBase_meta\\18\\218848\\Satellite_18_218848_141698.meta\n",
      "C:\\Users\\AISG\\Documents\\Jonas\\Real_World_Test_DataBase_meta\\18\\218848\\Satellite_18_218848_141699.meta\n",
      "C:\\Users\\AISG\\Documents\\Jonas\\Real_World_Test_DataBase_meta\\18\\218848\\Satellite_18_218848_141700.meta\n",
      "C:\\Users\\AISG\\Documents\\Jonas\\Real_World_Test_DataBase_meta\\18\\218848\\Satellite_18_218848_141701.meta\n",
      "C:\\Users\\AISG\\Documents\\Jonas\\Real_World_Test_DataBase_meta\\18\\218848\\Satellite_18_218848_141702.meta\n",
      "C:\\Users\\AISG\\Documents\\Jonas\\Real_World_Test_DataBase_meta\\18\\218848\\Satellite_18_218848_141703.meta\n",
      "C:\\Users\\AISG\\Documents\\Jonas\\Real_World_Test_DataBase_meta\\18\\218848\\Satellite_18_218848_141704.meta\n",
      "C:\\Users\\AISG\\Documents\\Jonas\\Real_World_Test_DataBase_meta\\18\\218848\\Satellite_18_218848_141705.meta\n",
      "C:\\Users\\AISG\\Documents\\Jonas\\Real_World_Test_DataBase_meta\\18\\218848\\Satellite_18_218848_141706.meta\n",
      "C:\\Users\\AISG\\Documents\\Jonas\\Real_World_Test_DataBase_meta\\18\\218848\\Satellite_18_218848_141707.meta\n",
      "C:\\Users\\AISG\\Documents\\Jonas\\Real_World_Test_DataBase_meta\\18\\218848\\Satellite_18_218848_141708.meta\n",
      "C:\\Users\\AISG\\Documents\\Jonas\\Real_World_Test_DataBase_meta\\18\\218848\\Satellite_18_218848_141709.meta\n"
     ]
    },
    {
     "name": "stderr",
     "output_type": "stream",
     "text": [
      " 36%|███████████████████████████▊                                                  | 788/2206 [00:02<00:03, 374.39it/s]"
     ]
    },
    {
     "name": "stdout",
     "output_type": "stream",
     "text": [
      "C:\\Users\\AISG\\Documents\\Jonas\\Real_World_Test_DataBase_meta\\18\\218848\\Satellite_18_218848_141710.meta\n",
      "C:\\Users\\AISG\\Documents\\Jonas\\Real_World_Test_DataBase_meta\\18\\218848\\Satellite_18_218848_141711.meta\n",
      "C:\\Users\\AISG\\Documents\\Jonas\\Real_World_Test_DataBase_meta\\18\\218848\\Satellite_18_218848_141712.meta\n",
      "C:\\Users\\AISG\\Documents\\Jonas\\Real_World_Test_DataBase_meta\\18\\218848\\Satellite_18_218848_141713.meta\n",
      "C:\\Users\\AISG\\Documents\\Jonas\\Real_World_Test_DataBase_meta\\18\\218848\\Satellite_18_218848_141714.meta\n",
      "C:\\Users\\AISG\\Documents\\Jonas\\Real_World_Test_DataBase_meta\\18\\218848\\Satellite_18_218848_141715.meta\n",
      "C:\\Users\\AISG\\Documents\\Jonas\\Real_World_Test_DataBase_meta\\18\\218848\\Satellite_18_218848_141716.meta\n",
      "C:\\Users\\AISG\\Documents\\Jonas\\Real_World_Test_DataBase_meta\\18\\218848\\Satellite_18_218848_141717.meta\n",
      "C:\\Users\\AISG\\Documents\\Jonas\\Real_World_Test_DataBase_meta\\18\\218848\\Satellite_18_218848_141718.meta\n",
      "C:\\Users\\AISG\\Documents\\Jonas\\Real_World_Test_DataBase_meta\\18\\218848\\Satellite_18_218848_141719.meta\n",
      "C:\\Users\\AISG\\Documents\\Jonas\\Real_World_Test_DataBase_meta\\18\\218848\\Satellite_18_218848_141720.meta\n",
      "C:\\Users\\AISG\\Documents\\Jonas\\Real_World_Test_DataBase_meta\\18\\218848\\Satellite_18_218848_141721.meta\n",
      "C:\\Users\\AISG\\Documents\\Jonas\\Real_World_Test_DataBase_meta\\18\\218848\\Satellite_18_218848_141722.meta\n",
      "C:\\Users\\AISG\\Documents\\Jonas\\Real_World_Test_DataBase_meta\\18\\218848\\Satellite_18_218848_141723.meta\n",
      "C:\\Users\\AISG\\Documents\\Jonas\\Real_World_Test_DataBase_meta\\18\\218848\\Satellite_18_218848_141724.meta\n",
      "C:\\Users\\AISG\\Documents\\Jonas\\Real_World_Test_DataBase_meta\\18\\218848\\Satellite_18_218848_141725.meta\n",
      "C:\\Users\\AISG\\Documents\\Jonas\\Real_World_Test_DataBase_meta\\18\\218848\\Satellite_18_218848_141726.meta\n",
      "C:\\Users\\AISG\\Documents\\Jonas\\Real_World_Test_DataBase_meta\\18\\218848\\Satellite_18_218848_141727.meta\n",
      "C:\\Users\\AISG\\Documents\\Jonas\\Real_World_Test_DataBase_meta\\18\\218848\\Satellite_18_218848_141728.meta\n",
      "C:\\Users\\AISG\\Documents\\Jonas\\Real_World_Test_DataBase_meta\\18\\218848\\Satellite_18_218848_141729.meta\n",
      "C:\\Users\\AISG\\Documents\\Jonas\\Real_World_Test_DataBase_meta\\18\\218848\\Satellite_18_218848_141730.meta\n",
      "C:\\Users\\AISG\\Documents\\Jonas\\Real_World_Test_DataBase_meta\\18\\218848\\Satellite_18_218848_141731.meta\n",
      "C:\\Users\\AISG\\Documents\\Jonas\\Real_World_Test_DataBase_meta\\18\\218848\\Satellite_18_218848_141732.meta\n",
      "C:\\Users\\AISG\\Documents\\Jonas\\Real_World_Test_DataBase_meta\\18\\218848\\Satellite_18_218848_141733.meta\n",
      "C:\\Users\\AISG\\Documents\\Jonas\\Real_World_Test_DataBase_meta\\18\\218848\\Satellite_18_218848_141734.meta\n",
      "C:\\Users\\AISG\\Documents\\Jonas\\Real_World_Test_DataBase_meta\\18\\218848\\Satellite_18_218848_141735.meta\n",
      "C:\\Users\\AISG\\Documents\\Jonas\\Real_World_Test_DataBase_meta\\18\\218848\\Satellite_18_218848_141736.meta\n",
      "C:\\Users\\AISG\\Documents\\Jonas\\Real_World_Test_DataBase_meta\\18\\218848\\Satellite_18_218848_141737.meta\n",
      "C:\\Users\\AISG\\Documents\\Jonas\\Real_World_Test_DataBase_meta\\18\\218848\\Satellite_18_218848_141738.meta\n",
      "C:\\Users\\AISG\\Documents\\Jonas\\Real_World_Test_DataBase_meta\\18\\218848\\Satellite_18_218848_141739.meta\n",
      "C:\\Users\\AISG\\Documents\\Jonas\\Real_World_Test_DataBase_meta\\18\\218848\\Satellite_18_218848_141740.meta\n",
      "C:\\Users\\AISG\\Documents\\Jonas\\Real_World_Test_DataBase_meta\\18\\218848\\Satellite_18_218848_141741.meta\n",
      "C:\\Users\\AISG\\Documents\\Jonas\\Real_World_Test_DataBase_meta\\18\\218848\\Satellite_18_218848_141742.meta\n",
      "C:\\Users\\AISG\\Documents\\Jonas\\Real_World_Test_DataBase_meta\\18\\218848\\Satellite_18_218848_141743.meta\n",
      "C:\\Users\\AISG\\Documents\\Jonas\\Real_World_Test_DataBase_meta\\18\\218848\\Satellite_18_218848_141744.meta\n",
      "C:\\Users\\AISG\\Documents\\Jonas\\Real_World_Test_DataBase_meta\\18\\218848\\Satellite_18_218848_141745.meta\n",
      "C:\\Users\\AISG\\Documents\\Jonas\\Real_World_Test_DataBase_meta\\18\\218848\\Satellite_18_218848_141746.meta\n",
      "C:\\Users\\AISG\\Documents\\Jonas\\Real_World_Test_DataBase_meta\\18\\218848\\Satellite_18_218848_141747.meta\n",
      "C:\\Users\\AISG\\Documents\\Jonas\\Real_World_Test_DataBase_meta\\18\\218848\\Satellite_18_218848_141748.meta\n",
      "C:\\Users\\AISG\\Documents\\Jonas\\Real_World_Test_DataBase_meta\\18\\218848\\Satellite_18_218848_141749.meta\n",
      "C:\\Users\\AISG\\Documents\\Jonas\\Real_World_Test_DataBase_meta\\18\\218848\\Satellite_18_218848_141750.meta\n",
      "C:\\Users\\AISG\\Documents\\Jonas\\Real_World_Test_DataBase_meta\\18\\218848\\Satellite_18_218848_141751.meta\n",
      "C:\\Users\\AISG\\Documents\\Jonas\\Real_World_Test_DataBase_meta\\18\\218848\\Satellite_18_218848_141752.meta\n",
      "C:\\Users\\AISG\\Documents\\Jonas\\Real_World_Test_DataBase_meta\\18\\218848\\Satellite_18_218848_141753.meta\n",
      "C:\\Users\\AISG\\Documents\\Jonas\\Real_World_Test_DataBase_meta\\18\\218848\\Satellite_18_218848_141754.meta\n",
      "C:\\Users\\AISG\\Documents\\Jonas\\Real_World_Test_DataBase_meta\\18\\218848\\Satellite_18_218848_141755.meta\n",
      "C:\\Users\\AISG\\Documents\\Jonas\\Real_World_Test_DataBase_meta\\18\\218848\\Satellite_18_218848_141756.meta\n",
      "C:\\Users\\AISG\\Documents\\Jonas\\Real_World_Test_DataBase_meta\\18\\218848\\Satellite_18_218848_141757.meta\n",
      "C:\\Users\\AISG\\Documents\\Jonas\\Real_World_Test_DataBase_meta\\18\\218848\\Satellite_18_218848_141758.meta\n",
      "C:\\Users\\AISG\\Documents\\Jonas\\Real_World_Test_DataBase_meta\\18\\218848\\Satellite_18_218848_141759.meta\n",
      "C:\\Users\\AISG\\Documents\\Jonas\\Real_World_Test_DataBase_meta\\18\\218848\\Satellite_18_218848_141760.meta\n",
      "C:\\Users\\AISG\\Documents\\Jonas\\Real_World_Test_DataBase_meta\\18\\218848\\Satellite_18_218848_141761.meta\n",
      "C:\\Users\\AISG\\Documents\\Jonas\\Real_World_Test_DataBase_meta\\18\\218848\\Satellite_18_218848_141762.meta\n",
      "C:\\Users\\AISG\\Documents\\Jonas\\Real_World_Test_DataBase_meta\\18\\218848\\Satellite_18_218848_141763.meta\n",
      "C:\\Users\\AISG\\Documents\\Jonas\\Real_World_Test_DataBase_meta\\18\\218848\\Satellite_18_218848_141764.meta\n",
      "C:\\Users\\AISG\\Documents\\Jonas\\Real_World_Test_DataBase_meta\\18\\218848\\Satellite_18_218848_141765.meta\n",
      "C:\\Users\\AISG\\Documents\\Jonas\\Real_World_Test_DataBase_meta\\18\\218848\\Satellite_18_218848_141766.meta\n",
      "C:\\Users\\AISG\\Documents\\Jonas\\Real_World_Test_DataBase_meta\\18\\218848\\Satellite_18_218848_141767.meta\n",
      "C:\\Users\\AISG\\Documents\\Jonas\\Real_World_Test_DataBase_meta\\18\\218848\\Satellite_18_218848_141768.meta\n",
      "C:\\Users\\AISG\\Documents\\Jonas\\Real_World_Test_DataBase_meta\\18\\218848\\Satellite_18_218848_141769.meta\n",
      "C:\\Users\\AISG\\Documents\\Jonas\\Real_World_Test_DataBase_meta\\18\\218848\\Satellite_18_218848_141770.meta\n",
      "C:\\Users\\AISG\\Documents\\Jonas\\Real_World_Test_DataBase_meta\\18\\218848\\Satellite_18_218848_141771.meta\n",
      "C:\\Users\\AISG\\Documents\\Jonas\\Real_World_Test_DataBase_meta\\18\\218848\\Satellite_18_218848_141772.meta\n",
      "C:\\Users\\AISG\\Documents\\Jonas\\Real_World_Test_DataBase_meta\\18\\218848\\Satellite_18_218848_141773.meta\n",
      "C:\\Users\\AISG\\Documents\\Jonas\\Real_World_Test_DataBase_meta\\18\\218848\\Satellite_18_218848_141774.meta\n",
      "C:\\Users\\AISG\\Documents\\Jonas\\Real_World_Test_DataBase_meta\\18\\218848\\Satellite_18_218848_141775.meta\n",
      "C:\\Users\\AISG\\Documents\\Jonas\\Real_World_Test_DataBase_meta\\18\\218848\\Satellite_18_218848_141776.meta\n",
      "C:\\Users\\AISG\\Documents\\Jonas\\Real_World_Test_DataBase_meta\\18\\218848\\Satellite_18_218848_141777.meta\n",
      "C:\\Users\\AISG\\Documents\\Jonas\\Real_World_Test_DataBase_meta\\18\\218848\\Satellite_18_218848_141778.meta\n"
     ]
    },
    {
     "name": "stderr",
     "output_type": "stream",
     "text": [
      "\r",
      " 37%|█████████████████████████████▏                                                | 826/2206 [00:02<00:03, 375.24it/s]"
     ]
    },
    {
     "name": "stdout",
     "output_type": "stream",
     "text": [
      "C:\\Users\\AISG\\Documents\\Jonas\\Real_World_Test_DataBase_meta\\18\\218848\\Satellite_18_218848_141779.meta\n",
      "C:\\Users\\AISG\\Documents\\Jonas\\Real_World_Test_DataBase_meta\\18\\218848\\Satellite_18_218848_141780.meta\n",
      "C:\\Users\\AISG\\Documents\\Jonas\\Real_World_Test_DataBase_meta\\18\\218848\\Satellite_18_218848_141781.meta\n",
      "C:\\Users\\AISG\\Documents\\Jonas\\Real_World_Test_DataBase_meta\\18\\218848\\Satellite_18_218848_141782.meta\n",
      "C:\\Users\\AISG\\Documents\\Jonas\\Real_World_Test_DataBase_meta\\18\\218848\\Satellite_18_218848_141783.meta\n",
      "C:\\Users\\AISG\\Documents\\Jonas\\Real_World_Test_DataBase_meta\\18\\218848\\Satellite_18_218848_141784.meta\n",
      "C:\\Users\\AISG\\Documents\\Jonas\\Real_World_Test_DataBase_meta\\18\\218848\\Satellite_18_218848_141785.meta\n",
      "C:\\Users\\AISG\\Documents\\Jonas\\Real_World_Test_DataBase_meta\\18\\218848\\Satellite_18_218848_141786.meta\n",
      "C:\\Users\\AISG\\Documents\\Jonas\\Real_World_Test_DataBase_meta\\18\\218848\\Satellite_18_218848_141787.meta\n",
      "C:\\Users\\AISG\\Documents\\Jonas\\Real_World_Test_DataBase_meta\\18\\218848\\Satellite_18_218848_141788.meta\n",
      "C:\\Users\\AISG\\Documents\\Jonas\\Real_World_Test_DataBase_meta\\18\\218848\\Satellite_18_218848_141789.meta\n",
      "C:\\Users\\AISG\\Documents\\Jonas\\Real_World_Test_DataBase_meta\\18\\218848\\Satellite_18_218848_141790.meta\n",
      "C:\\Users\\AISG\\Documents\\Jonas\\Real_World_Test_DataBase_meta\\18\\218848\\Satellite_18_218848_141791.meta\n",
      "C:\\Users\\AISG\\Documents\\Jonas\\Real_World_Test_DataBase_meta\\18\\218848\\Satellite_18_218848_141792.meta\n",
      "C:\\Users\\AISG\\Documents\\Jonas\\Real_World_Test_DataBase_meta\\18\\218848\\Satellite_18_218848_141793.meta\n",
      "C:\\Users\\AISG\\Documents\\Jonas\\Real_World_Test_DataBase_meta\\18\\218848\\Satellite_18_218848_141794.meta\n",
      "C:\\Users\\AISG\\Documents\\Jonas\\Real_World_Test_DataBase_meta\\18\\218848\\Satellite_18_218848_141795.meta\n",
      "C:\\Users\\AISG\\Documents\\Jonas\\Real_World_Test_DataBase_meta\\18\\218848\\Satellite_18_218848_141796.meta\n",
      "C:\\Users\\AISG\\Documents\\Jonas\\Real_World_Test_DataBase_meta\\18\\218848\\Satellite_18_218848_141797.meta\n",
      "C:\\Users\\AISG\\Documents\\Jonas\\Real_World_Test_DataBase_meta\\18\\218848\\Satellite_18_218848_141798.meta\n",
      "C:\\Users\\AISG\\Documents\\Jonas\\Real_World_Test_DataBase_meta\\18\\218848\\Satellite_18_218848_141799.meta\n",
      "C:\\Users\\AISG\\Documents\\Jonas\\Real_World_Test_DataBase_meta\\18\\218848\\Satellite_18_218848_141800.meta\n",
      "C:\\Users\\AISG\\Documents\\Jonas\\Real_World_Test_DataBase_meta\\18\\218848\\Satellite_18_218848_141801.meta\n",
      "C:\\Users\\AISG\\Documents\\Jonas\\Real_World_Test_DataBase_meta\\18\\218848\\Satellite_18_218848_141802.meta\n",
      "C:\\Users\\AISG\\Documents\\Jonas\\Real_World_Test_DataBase_meta\\18\\218848\\Satellite_18_218848_141803.meta\n",
      "C:\\Users\\AISG\\Documents\\Jonas\\Real_World_Test_DataBase_meta\\18\\218848\\Satellite_18_218848_141804.meta\n",
      "C:\\Users\\AISG\\Documents\\Jonas\\Real_World_Test_DataBase_meta\\18\\218848\\Satellite_18_218848_141805.meta\n",
      "C:\\Users\\AISG\\Documents\\Jonas\\Real_World_Test_DataBase_meta\\18\\218848\\Satellite_18_218848_141806.meta\n",
      "C:\\Users\\AISG\\Documents\\Jonas\\Real_World_Test_DataBase_meta\\18\\218848\\Satellite_18_218848_141807.meta\n",
      "C:\\Users\\AISG\\Documents\\Jonas\\Real_World_Test_DataBase_meta\\18\\218848\\Satellite_18_218848_141808.meta\n",
      "C:\\Users\\AISG\\Documents\\Jonas\\Real_World_Test_DataBase_meta\\18\\218848\\Satellite_18_218848_141809.meta\n",
      "C:\\Users\\AISG\\Documents\\Jonas\\Real_World_Test_DataBase_meta\\18\\218848\\Satellite_18_218848_141810.meta\n",
      "C:\\Users\\AISG\\Documents\\Jonas\\Real_World_Test_DataBase_meta\\18\\218848\\Satellite_18_218848_141811.meta\n",
      "C:\\Users\\AISG\\Documents\\Jonas\\Real_World_Test_DataBase_meta\\18\\218848\\Satellite_18_218848_141812.meta\n",
      "C:\\Users\\AISG\\Documents\\Jonas\\Real_World_Test_DataBase_meta\\18\\218848\\Satellite_18_218848_141813.meta\n",
      "C:\\Users\\AISG\\Documents\\Jonas\\Real_World_Test_DataBase_meta\\18\\218848\\Satellite_18_218848_141814.meta\n",
      "C:\\Users\\AISG\\Documents\\Jonas\\Real_World_Test_DataBase_meta\\18\\218848\\Satellite_18_218848_141815.meta\n",
      "C:\\Users\\AISG\\Documents\\Jonas\\Real_World_Test_DataBase_meta\\18\\218848\\Satellite_18_218848_141816.meta\n",
      "C:\\Users\\AISG\\Documents\\Jonas\\Real_World_Test_DataBase_meta\\18\\218848\\Satellite_18_218848_141817.meta\n",
      "C:\\Users\\AISG\\Documents\\Jonas\\Real_World_Test_DataBase_meta\\18\\218848\\Satellite_18_218848_141818.meta\n",
      "C:\\Users\\AISG\\Documents\\Jonas\\Real_World_Test_DataBase_meta\\18\\218848\\Satellite_18_218848_141819.meta\n",
      "C:\\Users\\AISG\\Documents\\Jonas\\Real_World_Test_DataBase_meta\\18\\218848\\Satellite_18_218848_141820.meta\n",
      "C:\\Users\\AISG\\Documents\\Jonas\\Real_World_Test_DataBase_meta\\18\\218848\\Satellite_18_218848_141821.meta\n",
      "C:\\Users\\AISG\\Documents\\Jonas\\Real_World_Test_DataBase_meta\\18\\218848\\Satellite_18_218848_141822.meta\n",
      "C:\\Users\\AISG\\Documents\\Jonas\\Real_World_Test_DataBase_meta\\18\\218848\\Satellite_18_218848_141823.meta\n",
      "C:\\Users\\AISG\\Documents\\Jonas\\Real_World_Test_DataBase_meta\\18\\218848\\Satellite_18_218848_141824.meta\n",
      "C:\\Users\\AISG\\Documents\\Jonas\\Real_World_Test_DataBase_meta\\18\\218848\\Satellite_18_218848_141825.meta\n",
      "C:\\Users\\AISG\\Documents\\Jonas\\Real_World_Test_DataBase_meta\\18\\218848\\Satellite_18_218848_141826.meta\n",
      "C:\\Users\\AISG\\Documents\\Jonas\\Real_World_Test_DataBase_meta\\18\\218848\\Satellite_18_218848_141827.meta\n",
      "C:\\Users\\AISG\\Documents\\Jonas\\Real_World_Test_DataBase_meta\\18\\218848\\Satellite_18_218848_141828.meta\n",
      "C:\\Users\\AISG\\Documents\\Jonas\\Real_World_Test_DataBase_meta\\18\\218848\\Satellite_18_218848_141829.meta\n",
      "C:\\Users\\AISG\\Documents\\Jonas\\Real_World_Test_DataBase_meta\\18\\218848\\Satellite_18_218848_141830.meta\n",
      "C:\\Users\\AISG\\Documents\\Jonas\\Real_World_Test_DataBase_meta\\18\\218848\\Satellite_18_218848_141831.meta\n",
      "C:\\Users\\AISG\\Documents\\Jonas\\Real_World_Test_DataBase_meta\\18\\218848\\Satellite_18_218848_141832.meta\n",
      "C:\\Users\\AISG\\Documents\\Jonas\\Real_World_Test_DataBase_meta\\18\\218848\\Satellite_18_218848_141833.meta\n",
      "C:\\Users\\AISG\\Documents\\Jonas\\Real_World_Test_DataBase_meta\\18\\218848\\Satellite_18_218848_141834.meta\n",
      "C:\\Users\\AISG\\Documents\\Jonas\\Real_World_Test_DataBase_meta\\18\\218848\\Satellite_18_218848_141835.meta\n",
      "C:\\Users\\AISG\\Documents\\Jonas\\Real_World_Test_DataBase_meta\\18\\218848\\Satellite_18_218848_141836.meta\n",
      "C:\\Users\\AISG\\Documents\\Jonas\\Real_World_Test_DataBase_meta\\18\\218848\\Satellite_18_218848_141837.meta\n",
      "C:\\Users\\AISG\\Documents\\Jonas\\Real_World_Test_DataBase_meta\\18\\218848\\Satellite_18_218848_141838.meta\n",
      "C:\\Users\\AISG\\Documents\\Jonas\\Real_World_Test_DataBase_meta\\18\\218848\\Satellite_18_218848_141839.meta\n",
      "C:\\Users\\AISG\\Documents\\Jonas\\Real_World_Test_DataBase_meta\\18\\218848\\Satellite_18_218848_141840.meta\n",
      "C:\\Users\\AISG\\Documents\\Jonas\\Real_World_Test_DataBase_meta\\18\\218848\\Satellite_18_218848_141841.meta\n",
      "C:\\Users\\AISG\\Documents\\Jonas\\Real_World_Test_DataBase_meta\\18\\218848\\Satellite_18_218848_141842.meta\n",
      "C:\\Users\\AISG\\Documents\\Jonas\\Real_World_Test_DataBase_meta\\18\\218848\\Satellite_18_218848_141843.meta\n",
      "C:\\Users\\AISG\\Documents\\Jonas\\Real_World_Test_DataBase_meta\\18\\218848\\Satellite_18_218848_141844.meta\n",
      "C:\\Users\\AISG\\Documents\\Jonas\\Real_World_Test_DataBase_meta\\18\\218848\\Satellite_18_218848_141845.meta\n",
      "C:\\Users\\AISG\\Documents\\Jonas\\Real_World_Test_DataBase_meta\\18\\218848\\Satellite_18_218848_141846.meta\n",
      "C:\\Users\\AISG\\Documents\\Jonas\\Real_World_Test_DataBase_meta\\18\\218848\\Satellite_18_218848_141847.meta\n",
      "C:\\Users\\AISG\\Documents\\Jonas\\Real_World_Test_DataBase_meta\\18\\218848\\Satellite_18_218848_141848.meta\n"
     ]
    },
    {
     "name": "stderr",
     "output_type": "stream",
     "text": [
      " 41%|███████████████████████████████▉                                              | 902/2206 [00:02<00:03, 372.18it/s]"
     ]
    },
    {
     "name": "stdout",
     "output_type": "stream",
     "text": [
      "C:\\Users\\AISG\\Documents\\Jonas\\Real_World_Test_DataBase_meta\\18\\218848\\Satellite_18_218848_141849.meta\n",
      "C:\\Users\\AISG\\Documents\\Jonas\\Real_World_Test_DataBase_meta\\18\\218848\\Satellite_18_218848_141850.meta\n",
      "C:\\Users\\AISG\\Documents\\Jonas\\Real_World_Test_DataBase_meta\\18\\218848\\Satellite_18_218848_141851.meta\n",
      "C:\\Users\\AISG\\Documents\\Jonas\\Real_World_Test_DataBase_meta\\18\\218848\\Satellite_18_218848_141852.meta\n",
      "C:\\Users\\AISG\\Documents\\Jonas\\Real_World_Test_DataBase_meta\\18\\218848\\Satellite_18_218848_141853.meta\n",
      "C:\\Users\\AISG\\Documents\\Jonas\\Real_World_Test_DataBase_meta\\18\\218848\\Satellite_18_218848_141854.meta\n",
      "C:\\Users\\AISG\\Documents\\Jonas\\Real_World_Test_DataBase_meta\\18\\218848\\Satellite_18_218848_141855.meta\n",
      "C:\\Users\\AISG\\Documents\\Jonas\\Real_World_Test_DataBase_meta\\18\\218848\\Satellite_18_218848_141856.meta\n",
      "C:\\Users\\AISG\\Documents\\Jonas\\Real_World_Test_DataBase_meta\\18\\218848\\Satellite_18_218848_141857.meta\n",
      "C:\\Users\\AISG\\Documents\\Jonas\\Real_World_Test_DataBase_meta\\18\\218848\\Satellite_18_218848_141858.meta\n",
      "C:\\Users\\AISG\\Documents\\Jonas\\Real_World_Test_DataBase_meta\\18\\218848\\Satellite_18_218848_141859.meta\n",
      "C:\\Users\\AISG\\Documents\\Jonas\\Real_World_Test_DataBase_meta\\18\\218848\\Satellite_18_218848_141860.meta\n",
      "C:\\Users\\AISG\\Documents\\Jonas\\Real_World_Test_DataBase_meta\\18\\218848\\Satellite_18_218848_141861.meta\n",
      "C:\\Users\\AISG\\Documents\\Jonas\\Real_World_Test_DataBase_meta\\18\\218848\\Satellite_18_218848_141862.meta\n",
      "C:\\Users\\AISG\\Documents\\Jonas\\Real_World_Test_DataBase_meta\\18\\218848\\Satellite_18_218848_141863.meta\n",
      "C:\\Users\\AISG\\Documents\\Jonas\\Real_World_Test_DataBase_meta\\18\\218848\\Satellite_18_218848_141864.meta\n",
      "C:\\Users\\AISG\\Documents\\Jonas\\Real_World_Test_DataBase_meta\\18\\218848\\Satellite_18_218848_141865.meta\n",
      "C:\\Users\\AISG\\Documents\\Jonas\\Real_World_Test_DataBase_meta\\18\\218848\\Satellite_18_218848_141866.meta\n",
      "C:\\Users\\AISG\\Documents\\Jonas\\Real_World_Test_DataBase_meta\\18\\218848\\Satellite_18_218848_141867.meta\n",
      "C:\\Users\\AISG\\Documents\\Jonas\\Real_World_Test_DataBase_meta\\18\\218848\\Satellite_18_218848_141868.meta\n",
      "C:\\Users\\AISG\\Documents\\Jonas\\Real_World_Test_DataBase_meta\\18\\218848\\Satellite_18_218848_141869.meta\n",
      "C:\\Users\\AISG\\Documents\\Jonas\\Real_World_Test_DataBase_meta\\18\\218848\\Satellite_18_218848_141870.meta\n",
      "C:\\Users\\AISG\\Documents\\Jonas\\Real_World_Test_DataBase_meta\\18\\218848\\Satellite_18_218848_141871.meta\n",
      "C:\\Users\\AISG\\Documents\\Jonas\\Real_World_Test_DataBase_meta\\18\\218848\\Satellite_18_218848_141872.meta\n",
      "C:\\Users\\AISG\\Documents\\Jonas\\Real_World_Test_DataBase_meta\\18\\218848\\Satellite_18_218848_141873.meta\n",
      "C:\\Users\\AISG\\Documents\\Jonas\\Real_World_Test_DataBase_meta\\18\\218848\\Satellite_18_218848_141874.meta\n",
      "C:\\Users\\AISG\\Documents\\Jonas\\Real_World_Test_DataBase_meta\\18\\218848\\Satellite_18_218848_141875.meta\n",
      "C:\\Users\\AISG\\Documents\\Jonas\\Real_World_Test_DataBase_meta\\18\\218848\\Satellite_18_218848_141876.meta\n",
      "C:\\Users\\AISG\\Documents\\Jonas\\Real_World_Test_DataBase_meta\\18\\218848\\Satellite_18_218848_141877.meta\n",
      "C:\\Users\\AISG\\Documents\\Jonas\\Real_World_Test_DataBase_meta\\18\\218848\\Satellite_18_218848_141878.meta\n",
      "C:\\Users\\AISG\\Documents\\Jonas\\Real_World_Test_DataBase_meta\\18\\218848\\Satellite_18_218848_141879.meta\n",
      "C:\\Users\\AISG\\Documents\\Jonas\\Real_World_Test_DataBase_meta\\18\\218848\\Satellite_18_218848_141880.meta\n",
      "C:\\Users\\AISG\\Documents\\Jonas\\Real_World_Test_DataBase_meta\\18\\218848\\Satellite_18_218848_141881.meta\n",
      "C:\\Users\\AISG\\Documents\\Jonas\\Real_World_Test_DataBase_meta\\18\\218848\\Satellite_18_218848_141882.meta\n",
      "C:\\Users\\AISG\\Documents\\Jonas\\Real_World_Test_DataBase_meta\\18\\218848\\Satellite_18_218848_141883.meta\n",
      "C:\\Users\\AISG\\Documents\\Jonas\\Real_World_Test_DataBase_meta\\18\\218848\\Satellite_18_218848_141884.meta\n",
      "C:\\Users\\AISG\\Documents\\Jonas\\Real_World_Test_DataBase_meta\\18\\218848\\Satellite_18_218848_141885.meta\n",
      "C:\\Users\\AISG\\Documents\\Jonas\\Real_World_Test_DataBase_meta\\18\\218848\\Satellite_18_218848_141886.meta\n",
      "C:\\Users\\AISG\\Documents\\Jonas\\Real_World_Test_DataBase_meta\\18\\218848\\Satellite_18_218848_141887.meta\n",
      "C:\\Users\\AISG\\Documents\\Jonas\\Real_World_Test_DataBase_meta\\18\\218848\\Satellite_18_218848_141888.meta\n",
      "C:\\Users\\AISG\\Documents\\Jonas\\Real_World_Test_DataBase_meta\\18\\218848\\Satellite_18_218848_141889.meta\n",
      "C:\\Users\\AISG\\Documents\\Jonas\\Real_World_Test_DataBase_meta\\18\\218848\\Satellite_18_218848_141890.meta\n",
      "C:\\Users\\AISG\\Documents\\Jonas\\Real_World_Test_DataBase_meta\\18\\218848\\Satellite_18_218848_141891.meta\n",
      "C:\\Users\\AISG\\Documents\\Jonas\\Real_World_Test_DataBase_meta\\18\\218848\\Satellite_18_218848_141892.meta\n",
      "C:\\Users\\AISG\\Documents\\Jonas\\Real_World_Test_DataBase_meta\\18\\218848\\Satellite_18_218848_141893.meta\n",
      "C:\\Users\\AISG\\Documents\\Jonas\\Real_World_Test_DataBase_meta\\18\\218848\\Satellite_18_218848_141894.meta\n",
      "C:\\Users\\AISG\\Documents\\Jonas\\Real_World_Test_DataBase_meta\\18\\218848\\Satellite_18_218848_141895.meta\n",
      "C:\\Users\\AISG\\Documents\\Jonas\\Real_World_Test_DataBase_meta\\18\\218848\\Satellite_18_218848_141896.meta\n",
      "C:\\Users\\AISG\\Documents\\Jonas\\Real_World_Test_DataBase_meta\\18\\218848\\Satellite_18_218848_141897.meta\n",
      "C:\\Users\\AISG\\Documents\\Jonas\\Real_World_Test_DataBase_meta\\18\\218848\\Satellite_18_218848_141898.meta\n",
      "C:\\Users\\AISG\\Documents\\Jonas\\Real_World_Test_DataBase_meta\\18\\218848\\Satellite_18_218848_141899.meta\n",
      "C:\\Users\\AISG\\Documents\\Jonas\\Real_World_Test_DataBase_meta\\18\\218848\\Satellite_18_218848_141900.meta\n",
      "C:\\Users\\AISG\\Documents\\Jonas\\Real_World_Test_DataBase_meta\\18\\218848\\Satellite_18_218848_141901.meta\n",
      "C:\\Users\\AISG\\Documents\\Jonas\\Real_World_Test_DataBase_meta\\18\\218848\\Satellite_18_218848_141902.meta\n",
      "C:\\Users\\AISG\\Documents\\Jonas\\Real_World_Test_DataBase_meta\\18\\218848\\Satellite_18_218848_141903.meta\n",
      "C:\\Users\\AISG\\Documents\\Jonas\\Real_World_Test_DataBase_meta\\18\\218848\\Satellite_18_218848_141904.meta\n",
      "C:\\Users\\AISG\\Documents\\Jonas\\Real_World_Test_DataBase_meta\\18\\218848\\Satellite_18_218848_141905.meta\n",
      "C:\\Users\\AISG\\Documents\\Jonas\\Real_World_Test_DataBase_meta\\18\\218848\\Satellite_18_218848_141906.meta\n",
      "C:\\Users\\AISG\\Documents\\Jonas\\Real_World_Test_DataBase_meta\\18\\218848\\Satellite_18_218848_141907.meta\n",
      "C:\\Users\\AISG\\Documents\\Jonas\\Real_World_Test_DataBase_meta\\18\\218848\\Satellite_18_218848_141908.meta\n",
      "C:\\Users\\AISG\\Documents\\Jonas\\Real_World_Test_DataBase_meta\\18\\218848\\Satellite_18_218848_141909.meta\n",
      "C:\\Users\\AISG\\Documents\\Jonas\\Real_World_Test_DataBase_meta\\18\\218848\\Satellite_18_218848_141910.meta\n",
      "C:\\Users\\AISG\\Documents\\Jonas\\Real_World_Test_DataBase_meta\\18\\218848\\Satellite_18_218848_141911.meta\n",
      "C:\\Users\\AISG\\Documents\\Jonas\\Real_World_Test_DataBase_meta\\18\\218848\\Satellite_18_218848_141912.meta\n",
      "C:\\Users\\AISG\\Documents\\Jonas\\Real_World_Test_DataBase_meta\\18\\218848\\Satellite_18_218848_141913.meta\n",
      "C:\\Users\\AISG\\Documents\\Jonas\\Real_World_Test_DataBase_meta\\18\\218848\\Satellite_18_218848_141914.meta\n",
      "C:\\Users\\AISG\\Documents\\Jonas\\Real_World_Test_DataBase_meta\\18\\218848\\Satellite_18_218848_141915.meta\n",
      "C:\\Users\\AISG\\Documents\\Jonas\\Real_World_Test_DataBase_meta\\18\\218848\\Satellite_18_218848_141916.meta\n",
      "C:\\Users\\AISG\\Documents\\Jonas\\Real_World_Test_DataBase_meta\\18\\218848\\Satellite_18_218848_141917.meta\n"
     ]
    },
    {
     "name": "stderr",
     "output_type": "stream",
     "text": [
      " 44%|██████████████████████████████████▌                                           | 978/2206 [00:02<00:03, 372.88it/s]"
     ]
    },
    {
     "name": "stdout",
     "output_type": "stream",
     "text": [
      "C:\\Users\\AISG\\Documents\\Jonas\\Real_World_Test_DataBase_meta\\18\\218848\\Satellite_18_218848_141918.meta\n",
      "C:\\Users\\AISG\\Documents\\Jonas\\Real_World_Test_DataBase_meta\\18\\218848\\Satellite_18_218848_141919.meta\n",
      "C:\\Users\\AISG\\Documents\\Jonas\\Real_World_Test_DataBase_meta\\18\\218848\\Satellite_18_218848_141920.meta\n",
      "C:\\Users\\AISG\\Documents\\Jonas\\Real_World_Test_DataBase_meta\\18\\218848\\Satellite_18_218848_141921.meta\n",
      "C:\\Users\\AISG\\Documents\\Jonas\\Real_World_Test_DataBase_meta\\18\\218848\\Satellite_18_218848_141922.meta\n",
      "C:\\Users\\AISG\\Documents\\Jonas\\Real_World_Test_DataBase_meta\\18\\218848\\Satellite_18_218848_141923.meta\n",
      "C:\\Users\\AISG\\Documents\\Jonas\\Real_World_Test_DataBase_meta\\18\\218848\\Satellite_18_218848_141924.meta\n",
      "C:\\Users\\AISG\\Documents\\Jonas\\Real_World_Test_DataBase_meta\\18\\218848\\Satellite_18_218848_141925.meta\n",
      "C:\\Users\\AISG\\Documents\\Jonas\\Real_World_Test_DataBase_meta\\18\\218848\\Satellite_18_218848_141926.meta\n",
      "C:\\Users\\AISG\\Documents\\Jonas\\Real_World_Test_DataBase_meta\\18\\218848\\Satellite_18_218848_141927.meta\n",
      "C:\\Users\\AISG\\Documents\\Jonas\\Real_World_Test_DataBase_meta\\18\\218848\\Satellite_18_218848_141928.meta\n",
      "C:\\Users\\AISG\\Documents\\Jonas\\Real_World_Test_DataBase_meta\\18\\218848\\Satellite_18_218848_141929.meta\n",
      "C:\\Users\\AISG\\Documents\\Jonas\\Real_World_Test_DataBase_meta\\18\\218848\\Satellite_18_218848_141930.meta\n",
      "C:\\Users\\AISG\\Documents\\Jonas\\Real_World_Test_DataBase_meta\\18\\218848\\Satellite_18_218848_141931.meta\n",
      "C:\\Users\\AISG\\Documents\\Jonas\\Real_World_Test_DataBase_meta\\18\\218848\\Satellite_18_218848_141932.meta\n",
      "C:\\Users\\AISG\\Documents\\Jonas\\Real_World_Test_DataBase_meta\\18\\218848\\Satellite_18_218848_141933.meta\n",
      "C:\\Users\\AISG\\Documents\\Jonas\\Real_World_Test_DataBase_meta\\18\\218848\\Satellite_18_218848_141934.meta\n",
      "C:\\Users\\AISG\\Documents\\Jonas\\Real_World_Test_DataBase_meta\\18\\218848\\Satellite_18_218848_141935.meta\n",
      "C:\\Users\\AISG\\Documents\\Jonas\\Real_World_Test_DataBase_meta\\18\\218848\\Satellite_18_218848_141936.meta\n",
      "C:\\Users\\AISG\\Documents\\Jonas\\Real_World_Test_DataBase_meta\\18\\218848\\Satellite_18_218848_141937.meta\n",
      "C:\\Users\\AISG\\Documents\\Jonas\\Real_World_Test_DataBase_meta\\18\\218848\\Satellite_18_218848_141938.meta\n",
      "C:\\Users\\AISG\\Documents\\Jonas\\Real_World_Test_DataBase_meta\\18\\218848\\Satellite_18_218848_141939.meta\n",
      "C:\\Users\\AISG\\Documents\\Jonas\\Real_World_Test_DataBase_meta\\18\\218848\\Satellite_18_218848_141940.meta\n",
      "C:\\Users\\AISG\\Documents\\Jonas\\Real_World_Test_DataBase_meta\\18\\218848\\Satellite_18_218848_141941.meta\n",
      "C:\\Users\\AISG\\Documents\\Jonas\\Real_World_Test_DataBase_meta\\18\\218848\\Satellite_18_218848_141942.meta\n",
      "C:\\Users\\AISG\\Documents\\Jonas\\Real_World_Test_DataBase_meta\\18\\218848\\Satellite_18_218848_141943.meta\n",
      "C:\\Users\\AISG\\Documents\\Jonas\\Real_World_Test_DataBase_meta\\18\\218848\\Satellite_18_218848_141944.meta\n",
      "C:\\Users\\AISG\\Documents\\Jonas\\Real_World_Test_DataBase_meta\\18\\218848\\Satellite_18_218848_141945.meta\n",
      "C:\\Users\\AISG\\Documents\\Jonas\\Real_World_Test_DataBase_meta\\18\\218848\\Satellite_18_218848_141946.meta\n",
      "C:\\Users\\AISG\\Documents\\Jonas\\Real_World_Test_DataBase_meta\\18\\218848\\Satellite_18_218848_141947.meta\n",
      "C:\\Users\\AISG\\Documents\\Jonas\\Real_World_Test_DataBase_meta\\18\\218848\\Satellite_18_218848_141948.meta\n",
      "C:\\Users\\AISG\\Documents\\Jonas\\Real_World_Test_DataBase_meta\\18\\218848\\Satellite_18_218848_141949.meta\n",
      "C:\\Users\\AISG\\Documents\\Jonas\\Real_World_Test_DataBase_meta\\18\\218848\\Satellite_18_218848_141950.meta\n",
      "C:\\Users\\AISG\\Documents\\Jonas\\Real_World_Test_DataBase_meta\\18\\218848\\Satellite_18_218848_141951.meta\n",
      "C:\\Users\\AISG\\Documents\\Jonas\\Real_World_Test_DataBase_meta\\18\\218848\\Satellite_18_218848_141952.meta\n",
      "C:\\Users\\AISG\\Documents\\Jonas\\Real_World_Test_DataBase_meta\\18\\218848\\Satellite_18_218848_141953.meta\n",
      "C:\\Users\\AISG\\Documents\\Jonas\\Real_World_Test_DataBase_meta\\18\\218848\\Satellite_18_218848_141954.meta\n",
      "C:\\Users\\AISG\\Documents\\Jonas\\Real_World_Test_DataBase_meta\\18\\218848\\Satellite_18_218848_141955.meta\n",
      "C:\\Users\\AISG\\Documents\\Jonas\\Real_World_Test_DataBase_meta\\18\\218848\\Satellite_18_218848_141956.meta\n",
      "C:\\Users\\AISG\\Documents\\Jonas\\Real_World_Test_DataBase_meta\\18\\218848\\Satellite_18_218848_141957.meta\n",
      "C:\\Users\\AISG\\Documents\\Jonas\\Real_World_Test_DataBase_meta\\18\\218848\\Satellite_18_218848_141958.meta\n",
      "C:\\Users\\AISG\\Documents\\Jonas\\Real_World_Test_DataBase_meta\\18\\218848\\Satellite_18_218848_141959.meta\n",
      "C:\\Users\\AISG\\Documents\\Jonas\\Real_World_Test_DataBase_meta\\18\\218848\\Satellite_18_218848_141960.meta\n",
      "C:\\Users\\AISG\\Documents\\Jonas\\Real_World_Test_DataBase_meta\\18\\218848\\Satellite_18_218848_141961.meta\n",
      "C:\\Users\\AISG\\Documents\\Jonas\\Real_World_Test_DataBase_meta\\18\\218848\\Satellite_18_218848_141962.meta\n",
      "C:\\Users\\AISG\\Documents\\Jonas\\Real_World_Test_DataBase_meta\\18\\218848\\Satellite_18_218848_141963.meta\n",
      "C:\\Users\\AISG\\Documents\\Jonas\\Real_World_Test_DataBase_meta\\18\\218848\\Satellite_18_218848_141964.meta\n",
      "C:\\Users\\AISG\\Documents\\Jonas\\Real_World_Test_DataBase_meta\\18\\218848\\Satellite_18_218848_141965.meta\n",
      "C:\\Users\\AISG\\Documents\\Jonas\\Real_World_Test_DataBase_meta\\18\\218848\\Satellite_18_218848_141966.meta\n",
      "C:\\Users\\AISG\\Documents\\Jonas\\Real_World_Test_DataBase_meta\\18\\218848\\Satellite_18_218848_141967.meta\n",
      "C:\\Users\\AISG\\Documents\\Jonas\\Real_World_Test_DataBase_meta\\18\\218848\\Satellite_18_218848_141968.meta\n",
      "C:\\Users\\AISG\\Documents\\Jonas\\Real_World_Test_DataBase_meta\\18\\218848\\Satellite_18_218848_141969.meta\n",
      "C:\\Users\\AISG\\Documents\\Jonas\\Real_World_Test_DataBase_meta\\18\\218848\\Satellite_18_218848_141970.meta\n",
      "C:\\Users\\AISG\\Documents\\Jonas\\Real_World_Test_DataBase_meta\\18\\218848\\Satellite_18_218848_141971.meta\n",
      "C:\\Users\\AISG\\Documents\\Jonas\\Real_World_Test_DataBase_meta\\18\\218848\\Satellite_18_218848_141972.meta\n",
      "C:\\Users\\AISG\\Documents\\Jonas\\Real_World_Test_DataBase_meta\\18\\218848\\Satellite_18_218848_141973.meta\n",
      "C:\\Users\\AISG\\Documents\\Jonas\\Real_World_Test_DataBase_meta\\18\\218848\\Satellite_18_218848_141974.meta\n",
      "C:\\Users\\AISG\\Documents\\Jonas\\Real_World_Test_DataBase_meta\\18\\218848\\Satellite_18_218848_141975.meta\n",
      "C:\\Users\\AISG\\Documents\\Jonas\\Real_World_Test_DataBase_meta\\18\\218848\\Satellite_18_218848_141976.meta\n",
      "C:\\Users\\AISG\\Documents\\Jonas\\Real_World_Test_DataBase_meta\\18\\218848\\Satellite_18_218848_141977.meta\n",
      "C:\\Users\\AISG\\Documents\\Jonas\\Real_World_Test_DataBase_meta\\18\\218848\\Satellite_18_218848_141978.meta\n",
      "C:\\Users\\AISG\\Documents\\Jonas\\Real_World_Test_DataBase_meta\\18\\218848\\Satellite_18_218848_141979.meta\n",
      "C:\\Users\\AISG\\Documents\\Jonas\\Real_World_Test_DataBase_meta\\18\\218848\\Satellite_18_218848_141980.meta\n",
      "C:\\Users\\AISG\\Documents\\Jonas\\Real_World_Test_DataBase_meta\\18\\218848\\Satellite_18_218848_141981.meta\n",
      "C:\\Users\\AISG\\Documents\\Jonas\\Real_World_Test_DataBase_meta\\18\\218848\\Satellite_18_218848_141982.meta\n",
      "C:\\Users\\AISG\\Documents\\Jonas\\Real_World_Test_DataBase_meta\\18\\218848\\Satellite_18_218848_141983.meta\n",
      "C:\\Users\\AISG\\Documents\\Jonas\\Real_World_Test_DataBase_meta\\18\\218848\\Satellite_18_218848_141984.meta\n",
      "C:\\Users\\AISG\\Documents\\Jonas\\Real_World_Test_DataBase_meta\\18\\218848\\Satellite_18_218848_141985.meta\n",
      "C:\\Users\\AISG\\Documents\\Jonas\\Real_World_Test_DataBase_meta\\18\\218848\\Satellite_18_218848_141986.meta\n",
      "C:\\Users\\AISG\\Documents\\Jonas\\Real_World_Test_DataBase_meta\\18\\218848\\Satellite_18_218848_141987.meta\n",
      "C:\\Users\\AISG\\Documents\\Jonas\\Real_World_Test_DataBase_meta\\18\\218848\\Satellite_18_218848_141988.meta\n"
     ]
    },
    {
     "name": "stderr",
     "output_type": "stream",
     "text": [
      " 48%|████████████████████████████████████▊                                        | 1054/2206 [00:02<00:03, 370.71it/s]"
     ]
    },
    {
     "name": "stdout",
     "output_type": "stream",
     "text": [
      "C:\\Users\\AISG\\Documents\\Jonas\\Real_World_Test_DataBase_meta\\18\\218848\\Satellite_18_218848_141989.meta\n",
      "C:\\Users\\AISG\\Documents\\Jonas\\Real_World_Test_DataBase_meta\\18\\218848\\Satellite_18_218848_141990.meta\n",
      "C:\\Users\\AISG\\Documents\\Jonas\\Real_World_Test_DataBase_meta\\18\\218848\\Satellite_18_218848_141991.meta\n",
      "C:\\Users\\AISG\\Documents\\Jonas\\Real_World_Test_DataBase_meta\\18\\218848\\Satellite_18_218848_141992.meta\n",
      "C:\\Users\\AISG\\Documents\\Jonas\\Real_World_Test_DataBase_meta\\18\\218848\\Satellite_18_218848_141993.meta\n",
      "C:\\Users\\AISG\\Documents\\Jonas\\Real_World_Test_DataBase_meta\\18\\218848\\Satellite_18_218848_141994.meta\n",
      "C:\\Users\\AISG\\Documents\\Jonas\\Real_World_Test_DataBase_meta\\18\\218848\\Satellite_18_218848_141995.meta\n",
      "C:\\Users\\AISG\\Documents\\Jonas\\Real_World_Test_DataBase_meta\\18\\218848\\Satellite_18_218848_141996.meta\n",
      "C:\\Users\\AISG\\Documents\\Jonas\\Real_World_Test_DataBase_meta\\18\\218848\\Satellite_18_218848_141997.meta\n",
      "C:\\Users\\AISG\\Documents\\Jonas\\Real_World_Test_DataBase_meta\\18\\218848\\Satellite_18_218848_141998.meta\n",
      "C:\\Users\\AISG\\Documents\\Jonas\\Real_World_Test_DataBase_meta\\18\\218848\\Satellite_18_218848_141999.meta\n",
      "C:\\Users\\AISG\\Documents\\Jonas\\Real_World_Test_DataBase_meta\\18\\218848\\Satellite_18_218848_142000.meta\n",
      "C:\\Users\\AISG\\Documents\\Jonas\\Real_World_Test_DataBase_meta\\18\\218848\\Satellite_18_218848_142001.meta\n",
      "C:\\Users\\AISG\\Documents\\Jonas\\Real_World_Test_DataBase_meta\\18\\218848\\Satellite_18_218848_142002.meta\n",
      "C:\\Users\\AISG\\Documents\\Jonas\\Real_World_Test_DataBase_meta\\18\\218848\\Satellite_18_218848_142003.meta\n",
      "C:\\Users\\AISG\\Documents\\Jonas\\Real_World_Test_DataBase_meta\\18\\218848\\Satellite_18_218848_142004.meta\n",
      "C:\\Users\\AISG\\Documents\\Jonas\\Real_World_Test_DataBase_meta\\18\\218848\\Satellite_18_218848_142005.meta\n",
      "C:\\Users\\AISG\\Documents\\Jonas\\Real_World_Test_DataBase_meta\\18\\218848\\Satellite_18_218848_142006.meta\n",
      "C:\\Users\\AISG\\Documents\\Jonas\\Real_World_Test_DataBase_meta\\18\\218848\\Satellite_18_218848_142007.meta\n",
      "C:\\Users\\AISG\\Documents\\Jonas\\Real_World_Test_DataBase_meta\\18\\218848\\Satellite_18_218848_142008.meta\n",
      "C:\\Users\\AISG\\Documents\\Jonas\\Real_World_Test_DataBase_meta\\18\\218848\\Satellite_18_218848_142009.meta\n",
      "C:\\Users\\AISG\\Documents\\Jonas\\Real_World_Test_DataBase_meta\\18\\218848\\Satellite_18_218848_142010.meta\n",
      "C:\\Users\\AISG\\Documents\\Jonas\\Real_World_Test_DataBase_meta\\18\\218848\\Satellite_18_218848_142011.meta\n",
      "C:\\Users\\AISG\\Documents\\Jonas\\Real_World_Test_DataBase_meta\\18\\218848\\Satellite_18_218848_142012.meta\n",
      "C:\\Users\\AISG\\Documents\\Jonas\\Real_World_Test_DataBase_meta\\18\\218848\\Satellite_18_218848_142013.meta\n",
      "C:\\Users\\AISG\\Documents\\Jonas\\Real_World_Test_DataBase_meta\\18\\218848\\Satellite_18_218848_142014.meta\n",
      "C:\\Users\\AISG\\Documents\\Jonas\\Real_World_Test_DataBase_meta\\18\\218848\\Satellite_18_218848_142015.meta\n",
      "C:\\Users\\AISG\\Documents\\Jonas\\Real_World_Test_DataBase_meta\\18\\218848\\Satellite_18_218848_142016.meta\n",
      "C:\\Users\\AISG\\Documents\\Jonas\\Real_World_Test_DataBase_meta\\18\\218848\\Satellite_18_218848_142017.meta\n",
      "C:\\Users\\AISG\\Documents\\Jonas\\Real_World_Test_DataBase_meta\\18\\218848\\Satellite_18_218848_142018.meta\n",
      "C:\\Users\\AISG\\Documents\\Jonas\\Real_World_Test_DataBase_meta\\18\\218848\\Satellite_18_218848_142019.meta\n",
      "C:\\Users\\AISG\\Documents\\Jonas\\Real_World_Test_DataBase_meta\\18\\218848\\Satellite_18_218848_142020.meta\n",
      "C:\\Users\\AISG\\Documents\\Jonas\\Real_World_Test_DataBase_meta\\18\\218848\\Satellite_18_218848_142021.meta\n",
      "C:\\Users\\AISG\\Documents\\Jonas\\Real_World_Test_DataBase_meta\\18\\218848\\Satellite_18_218848_142022.meta\n",
      "C:\\Users\\AISG\\Documents\\Jonas\\Real_World_Test_DataBase_meta\\18\\218848\\Satellite_18_218848_142023.meta\n",
      "C:\\Users\\AISG\\Documents\\Jonas\\Real_World_Test_DataBase_meta\\18\\218848\\Satellite_18_218848_142024.meta\n",
      "C:\\Users\\AISG\\Documents\\Jonas\\Real_World_Test_DataBase_meta\\18\\218848\\Satellite_18_218848_142025.meta\n",
      "C:\\Users\\AISG\\Documents\\Jonas\\Real_World_Test_DataBase_meta\\18\\218848\\Satellite_18_218848_142026.meta\n",
      "C:\\Users\\AISG\\Documents\\Jonas\\Real_World_Test_DataBase_meta\\18\\218848\\Satellite_18_218848_142027.meta\n",
      "C:\\Users\\AISG\\Documents\\Jonas\\Real_World_Test_DataBase_meta\\18\\218848\\Satellite_18_218848_142028.meta\n",
      "C:\\Users\\AISG\\Documents\\Jonas\\Real_World_Test_DataBase_meta\\18\\218848\\Satellite_18_218848_142029.meta\n",
      "C:\\Users\\AISG\\Documents\\Jonas\\Real_World_Test_DataBase_meta\\18\\218848\\Satellite_18_218848_142030.meta\n",
      "C:\\Users\\AISG\\Documents\\Jonas\\Real_World_Test_DataBase_meta\\18\\218848\\Satellite_18_218848_142031.meta\n",
      "C:\\Users\\AISG\\Documents\\Jonas\\Real_World_Test_DataBase_meta\\18\\218848\\Satellite_18_218848_142032.meta\n",
      "C:\\Users\\AISG\\Documents\\Jonas\\Real_World_Test_DataBase_meta\\18\\218848\\Satellite_18_218848_142033.meta\n",
      "C:\\Users\\AISG\\Documents\\Jonas\\Real_World_Test_DataBase_meta\\18\\218848\\Satellite_18_218848_142034.meta\n",
      "C:\\Users\\AISG\\Documents\\Jonas\\Real_World_Test_DataBase_meta\\18\\218848\\Satellite_18_218848_142035.meta\n",
      "C:\\Users\\AISG\\Documents\\Jonas\\Real_World_Test_DataBase_meta\\18\\218848\\Satellite_18_218848_142036.meta\n",
      "C:\\Users\\AISG\\Documents\\Jonas\\Real_World_Test_DataBase_meta\\18\\218848\\Satellite_18_218848_142037.meta\n",
      "C:\\Users\\AISG\\Documents\\Jonas\\Real_World_Test_DataBase_meta\\18\\218848\\Satellite_18_218848_142038.meta\n",
      "C:\\Users\\AISG\\Documents\\Jonas\\Real_World_Test_DataBase_meta\\18\\218848\\Satellite_18_218848_142039.meta\n",
      "C:\\Users\\AISG\\Documents\\Jonas\\Real_World_Test_DataBase_meta\\18\\218848\\Satellite_18_218848_142040.meta\n",
      "C:\\Users\\AISG\\Documents\\Jonas\\Real_World_Test_DataBase_meta\\18\\218848\\Satellite_18_218848_142041.meta\n",
      "C:\\Users\\AISG\\Documents\\Jonas\\Real_World_Test_DataBase_meta\\18\\218848\\Satellite_18_218848_142042.meta\n",
      "C:\\Users\\AISG\\Documents\\Jonas\\Real_World_Test_DataBase_meta\\18\\218848\\Satellite_18_218848_142043.meta\n",
      "C:\\Users\\AISG\\Documents\\Jonas\\Real_World_Test_DataBase_meta\\18\\218848\\Satellite_18_218848_142044.meta\n",
      "C:\\Users\\AISG\\Documents\\Jonas\\Real_World_Test_DataBase_meta\\18\\218848\\Satellite_18_218848_142045.meta\n",
      "C:\\Users\\AISG\\Documents\\Jonas\\Real_World_Test_DataBase_meta\\18\\218848\\Satellite_18_218848_142046.meta\n",
      "C:\\Users\\AISG\\Documents\\Jonas\\Real_World_Test_DataBase_meta\\18\\218848\\Satellite_18_218848_142047.meta\n",
      "C:\\Users\\AISG\\Documents\\Jonas\\Real_World_Test_DataBase_meta\\18\\218848\\Satellite_18_218848_142048.meta\n",
      "C:\\Users\\AISG\\Documents\\Jonas\\Real_World_Test_DataBase_meta\\18\\218848\\Satellite_18_218848_142049.meta\n",
      "C:\\Users\\AISG\\Documents\\Jonas\\Real_World_Test_DataBase_meta\\18\\218848\\Satellite_18_218848_142050.meta\n",
      "C:\\Users\\AISG\\Documents\\Jonas\\Real_World_Test_DataBase_meta\\18\\218848\\Satellite_18_218848_142051.meta\n",
      "C:\\Users\\AISG\\Documents\\Jonas\\Real_World_Test_DataBase_meta\\18\\218848\\Satellite_18_218848_142052.meta\n",
      "C:\\Users\\AISG\\Documents\\Jonas\\Real_World_Test_DataBase_meta\\18\\218848\\Satellite_18_218848_142053.meta\n",
      "C:\\Users\\AISG\\Documents\\Jonas\\Real_World_Test_DataBase_meta\\18\\218848\\Satellite_18_218848_142054.meta\n",
      "C:\\Users\\AISG\\Documents\\Jonas\\Real_World_Test_DataBase_meta\\18\\218848\\Satellite_18_218848_142055.meta\n",
      "C:\\Users\\AISG\\Documents\\Jonas\\Real_World_Test_DataBase_meta\\18\\218848\\Satellite_18_218848_142056.meta\n",
      "C:\\Users\\AISG\\Documents\\Jonas\\Real_World_Test_DataBase_meta\\18\\218848\\Satellite_18_218848_142057.meta\n"
     ]
    },
    {
     "name": "stderr",
     "output_type": "stream",
     "text": [
      " 51%|███████████████████████████████████████▍                                     | 1130/2206 [00:02<00:02, 371.81it/s]"
     ]
    },
    {
     "name": "stdout",
     "output_type": "stream",
     "text": [
      "C:\\Users\\AISG\\Documents\\Jonas\\Real_World_Test_DataBase_meta\\18\\218848\\Satellite_18_218848_142058.meta\n",
      "C:\\Users\\AISG\\Documents\\Jonas\\Real_World_Test_DataBase_meta\\18\\218848\\Satellite_18_218848_142059.meta\n",
      "C:\\Users\\AISG\\Documents\\Jonas\\Real_World_Test_DataBase_meta\\18\\218848\\Satellite_18_218848_142060.meta\n",
      "C:\\Users\\AISG\\Documents\\Jonas\\Real_World_Test_DataBase_meta\\18\\218848\\Satellite_18_218848_142061.meta\n",
      "C:\\Users\\AISG\\Documents\\Jonas\\Real_World_Test_DataBase_meta\\18\\218848\\Satellite_18_218848_142062.meta\n",
      "C:\\Users\\AISG\\Documents\\Jonas\\Real_World_Test_DataBase_meta\\18\\218848\\Satellite_18_218848_142063.meta\n",
      "C:\\Users\\AISG\\Documents\\Jonas\\Real_World_Test_DataBase_meta\\18\\218848\\Satellite_18_218848_142064.meta\n",
      "C:\\Users\\AISG\\Documents\\Jonas\\Real_World_Test_DataBase_meta\\18\\218848\\Satellite_18_218848_142065.meta\n",
      "C:\\Users\\AISG\\Documents\\Jonas\\Real_World_Test_DataBase_meta\\18\\218848\\Satellite_18_218848_142066.meta\n",
      "C:\\Users\\AISG\\Documents\\Jonas\\Real_World_Test_DataBase_meta\\18\\218848\\Satellite_18_218848_142067.meta\n",
      "C:\\Users\\AISG\\Documents\\Jonas\\Real_World_Test_DataBase_meta\\18\\218848\\Satellite_18_218848_142068.meta\n",
      "C:\\Users\\AISG\\Documents\\Jonas\\Real_World_Test_DataBase_meta\\18\\218848\\Satellite_18_218848_142069.meta\n",
      "C:\\Users\\AISG\\Documents\\Jonas\\Real_World_Test_DataBase_meta\\18\\218848\\Satellite_18_218848_142070.meta\n",
      "C:\\Users\\AISG\\Documents\\Jonas\\Real_World_Test_DataBase_meta\\18\\218848\\Satellite_18_218848_142071.meta\n",
      "C:\\Users\\AISG\\Documents\\Jonas\\Real_World_Test_DataBase_meta\\18\\218848\\Satellite_18_218848_142072.meta\n",
      "C:\\Users\\AISG\\Documents\\Jonas\\Real_World_Test_DataBase_meta\\18\\218848\\Satellite_18_218848_142073.meta\n",
      "C:\\Users\\AISG\\Documents\\Jonas\\Real_World_Test_DataBase_meta\\18\\218848\\Satellite_18_218848_142074.meta\n",
      "C:\\Users\\AISG\\Documents\\Jonas\\Real_World_Test_DataBase_meta\\18\\218848\\Satellite_18_218848_142075.meta\n",
      "C:\\Users\\AISG\\Documents\\Jonas\\Real_World_Test_DataBase_meta\\18\\218848\\Satellite_18_218848_142076.meta\n",
      "C:\\Users\\AISG\\Documents\\Jonas\\Real_World_Test_DataBase_meta\\18\\218848\\Satellite_18_218848_142077.meta\n",
      "C:\\Users\\AISG\\Documents\\Jonas\\Real_World_Test_DataBase_meta\\18\\218848\\Satellite_18_218848_142078.meta\n",
      "C:\\Users\\AISG\\Documents\\Jonas\\Real_World_Test_DataBase_meta\\18\\218848\\Satellite_18_218848_142079.meta\n",
      "C:\\Users\\AISG\\Documents\\Jonas\\Real_World_Test_DataBase_meta\\18\\218848\\Satellite_18_218848_142080.meta\n",
      "C:\\Users\\AISG\\Documents\\Jonas\\Real_World_Test_DataBase_meta\\18\\218848\\Satellite_18_218848_142081.meta\n",
      "C:\\Users\\AISG\\Documents\\Jonas\\Real_World_Test_DataBase_meta\\18\\218848\\Satellite_18_218848_142082.meta\n",
      "C:\\Users\\AISG\\Documents\\Jonas\\Real_World_Test_DataBase_meta\\18\\218848\\Satellite_18_218848_142083.meta\n",
      "C:\\Users\\AISG\\Documents\\Jonas\\Real_World_Test_DataBase_meta\\18\\218848\\Satellite_18_218848_142084.meta\n",
      "C:\\Users\\AISG\\Documents\\Jonas\\Real_World_Test_DataBase_meta\\18\\218848\\Satellite_18_218848_142085.meta\n",
      "C:\\Users\\AISG\\Documents\\Jonas\\Real_World_Test_DataBase_meta\\18\\218848\\Satellite_18_218848_142086.meta\n",
      "C:\\Users\\AISG\\Documents\\Jonas\\Real_World_Test_DataBase_meta\\18\\218848\\Satellite_18_218848_142087.meta\n",
      "C:\\Users\\AISG\\Documents\\Jonas\\Real_World_Test_DataBase_meta\\18\\218848\\Satellite_18_218848_142088.meta\n",
      "C:\\Users\\AISG\\Documents\\Jonas\\Real_World_Test_DataBase_meta\\18\\218848\\Satellite_18_218848_142089.meta\n",
      "C:\\Users\\AISG\\Documents\\Jonas\\Real_World_Test_DataBase_meta\\18\\218848\\Satellite_18_218848_142090.meta\n",
      "C:\\Users\\AISG\\Documents\\Jonas\\Real_World_Test_DataBase_meta\\18\\218848\\Satellite_18_218848_142091.meta\n",
      "C:\\Users\\AISG\\Documents\\Jonas\\Real_World_Test_DataBase_meta\\18\\218848\\Satellite_18_218848_142092.meta\n",
      "C:\\Users\\AISG\\Documents\\Jonas\\Real_World_Test_DataBase_meta\\18\\218848\\Satellite_18_218848_142093.meta\n",
      "C:\\Users\\AISG\\Documents\\Jonas\\Real_World_Test_DataBase_meta\\18\\218848\\Satellite_18_218848_142094.meta\n",
      "C:\\Users\\AISG\\Documents\\Jonas\\Real_World_Test_DataBase_meta\\18\\218848\\Satellite_18_218848_142095.meta\n",
      "C:\\Users\\AISG\\Documents\\Jonas\\Real_World_Test_DataBase_meta\\18\\218848\\Satellite_18_218848_142096.meta\n",
      "C:\\Users\\AISG\\Documents\\Jonas\\Real_World_Test_DataBase_meta\\18\\218848\\Satellite_18_218848_142097.meta\n",
      "C:\\Users\\AISG\\Documents\\Jonas\\Real_World_Test_DataBase_meta\\18\\218848\\Satellite_18_218848_142098.meta\n",
      "C:\\Users\\AISG\\Documents\\Jonas\\Real_World_Test_DataBase_meta\\18\\218848\\Satellite_18_218848_142099.meta\n",
      "C:\\Users\\AISG\\Documents\\Jonas\\Real_World_Test_DataBase_meta\\18\\218848\\Satellite_18_218848_142100.meta\n",
      "C:\\Users\\AISG\\Documents\\Jonas\\Real_World_Test_DataBase_meta\\18\\218848\\Satellite_18_218848_142101.meta\n",
      "C:\\Users\\AISG\\Documents\\Jonas\\Real_World_Test_DataBase_meta\\18\\218848\\Satellite_18_218848_142102.meta\n",
      "C:\\Users\\AISG\\Documents\\Jonas\\Real_World_Test_DataBase_meta\\18\\218848\\Satellite_18_218848_142103.meta\n",
      "C:\\Users\\AISG\\Documents\\Jonas\\Real_World_Test_DataBase_meta\\18\\218848\\Satellite_18_218848_142104.meta\n",
      "C:\\Users\\AISG\\Documents\\Jonas\\Real_World_Test_DataBase_meta\\18\\218848\\Satellite_18_218848_142105.meta\n",
      "C:\\Users\\AISG\\Documents\\Jonas\\Real_World_Test_DataBase_meta\\18\\218848\\Satellite_18_218848_142106.meta\n",
      "C:\\Users\\AISG\\Documents\\Jonas\\Real_World_Test_DataBase_meta\\18\\218848\\Satellite_18_218848_142107.meta\n",
      "C:\\Users\\AISG\\Documents\\Jonas\\Real_World_Test_DataBase_meta\\18\\218848\\Satellite_18_218848_142108.meta\n",
      "C:\\Users\\AISG\\Documents\\Jonas\\Real_World_Test_DataBase_meta\\18\\218848\\Satellite_18_218848_142109.meta\n",
      "C:\\Users\\AISG\\Documents\\Jonas\\Real_World_Test_DataBase_meta\\18\\218848\\Satellite_18_218848_142110.meta\n",
      "C:\\Users\\AISG\\Documents\\Jonas\\Real_World_Test_DataBase_meta\\18\\218848\\Satellite_18_218848_142111.meta\n",
      "C:\\Users\\AISG\\Documents\\Jonas\\Real_World_Test_DataBase_meta\\18\\218848\\Satellite_18_218848_142112.meta\n",
      "C:\\Users\\AISG\\Documents\\Jonas\\Real_World_Test_DataBase_meta\\18\\218848\\Satellite_18_218848_142113.meta\n",
      "C:\\Users\\AISG\\Documents\\Jonas\\Real_World_Test_DataBase_meta\\18\\218848\\Satellite_18_218848_142114.meta\n",
      "C:\\Users\\AISG\\Documents\\Jonas\\Real_World_Test_DataBase_meta\\18\\218848\\Satellite_18_218848_142115.meta\n",
      "C:\\Users\\AISG\\Documents\\Jonas\\Real_World_Test_DataBase_meta\\18\\218848\\Satellite_18_218848_142116.meta\n",
      "C:\\Users\\AISG\\Documents\\Jonas\\Real_World_Test_DataBase_meta\\18\\218848\\Satellite_18_218848_142117.meta\n",
      "C:\\Users\\AISG\\Documents\\Jonas\\Real_World_Test_DataBase_meta\\18\\218848\\Satellite_18_218848_142118.meta\n",
      "C:\\Users\\AISG\\Documents\\Jonas\\Real_World_Test_DataBase_meta\\18\\218848\\Satellite_18_218848_142119.meta\n",
      "C:\\Users\\AISG\\Documents\\Jonas\\Real_World_Test_DataBase_meta\\18\\218848\\Satellite_18_218848_142120.meta\n",
      "C:\\Users\\AISG\\Documents\\Jonas\\Real_World_Test_DataBase_meta\\18\\218848\\Satellite_18_218848_142121.meta\n",
      "C:\\Users\\AISG\\Documents\\Jonas\\Real_World_Test_DataBase_meta\\18\\218848\\Satellite_18_218848_142122.meta\n",
      "C:\\Users\\AISG\\Documents\\Jonas\\Real_World_Test_DataBase_meta\\18\\218848\\Satellite_18_218848_142123.meta\n",
      "C:\\Users\\AISG\\Documents\\Jonas\\Real_World_Test_DataBase_meta\\18\\218848\\Satellite_18_218848_142124.meta\n",
      "C:\\Users\\AISG\\Documents\\Jonas\\Real_World_Test_DataBase_meta\\18\\218848\\Satellite_18_218848_142127.meta\n",
      "C:\\Users\\AISG\\Documents\\Jonas\\Real_World_Test_DataBase_meta\\18\\218848\\Satellite_18_218848_142128.meta\n"
     ]
    },
    {
     "name": "stderr",
     "output_type": "stream",
     "text": [
      " 55%|██████████████████████████████████████████                                   | 1206/2206 [00:03<00:02, 369.34it/s]"
     ]
    },
    {
     "name": "stdout",
     "output_type": "stream",
     "text": [
      "C:\\Users\\AISG\\Documents\\Jonas\\Real_World_Test_DataBase_meta\\18\\219284\\Satellite_18_219284_141388.meta\n",
      "C:\\Users\\AISG\\Documents\\Jonas\\Real_World_Test_DataBase_meta\\18\\219284\\Satellite_18_219284_141389.meta\n",
      "C:\\Users\\AISG\\Documents\\Jonas\\Real_World_Test_DataBase_meta\\18\\219284\\Satellite_18_219284_141390.meta\n",
      "C:\\Users\\AISG\\Documents\\Jonas\\Real_World_Test_DataBase_meta\\18\\219284\\Satellite_18_219284_141391.meta\n",
      "C:\\Users\\AISG\\Documents\\Jonas\\Real_World_Test_DataBase_meta\\18\\219284\\Satellite_18_219284_141392.meta\n",
      "C:\\Users\\AISG\\Documents\\Jonas\\Real_World_Test_DataBase_meta\\18\\219284\\Satellite_18_219284_141393.meta\n",
      "C:\\Users\\AISG\\Documents\\Jonas\\Real_World_Test_DataBase_meta\\18\\219284\\Satellite_18_219284_141394.meta\n",
      "C:\\Users\\AISG\\Documents\\Jonas\\Real_World_Test_DataBase_meta\\18\\219284\\Satellite_18_219284_141395.meta\n",
      "C:\\Users\\AISG\\Documents\\Jonas\\Real_World_Test_DataBase_meta\\18\\219284\\Satellite_18_219284_141396.meta\n",
      "C:\\Users\\AISG\\Documents\\Jonas\\Real_World_Test_DataBase_meta\\18\\219284\\Satellite_18_219284_141397.meta\n",
      "C:\\Users\\AISG\\Documents\\Jonas\\Real_World_Test_DataBase_meta\\18\\219284\\Satellite_18_219284_141398.meta\n",
      "C:\\Users\\AISG\\Documents\\Jonas\\Real_World_Test_DataBase_meta\\18\\219284\\Satellite_18_219284_141399.meta\n",
      "C:\\Users\\AISG\\Documents\\Jonas\\Real_World_Test_DataBase_meta\\18\\219284\\Satellite_18_219284_141400.meta\n",
      "C:\\Users\\AISG\\Documents\\Jonas\\Real_World_Test_DataBase_meta\\18\\219284\\Satellite_18_219284_141401.meta\n",
      "C:\\Users\\AISG\\Documents\\Jonas\\Real_World_Test_DataBase_meta\\18\\219284\\Satellite_18_219284_141402.meta\n",
      "C:\\Users\\AISG\\Documents\\Jonas\\Real_World_Test_DataBase_meta\\18\\219284\\Satellite_18_219284_141403.meta\n",
      "C:\\Users\\AISG\\Documents\\Jonas\\Real_World_Test_DataBase_meta\\18\\219284\\Satellite_18_219284_141404.meta\n",
      "C:\\Users\\AISG\\Documents\\Jonas\\Real_World_Test_DataBase_meta\\18\\219284\\Satellite_18_219284_141405.meta\n",
      "C:\\Users\\AISG\\Documents\\Jonas\\Real_World_Test_DataBase_meta\\18\\219284\\Satellite_18_219284_141406.meta\n",
      "C:\\Users\\AISG\\Documents\\Jonas\\Real_World_Test_DataBase_meta\\18\\219284\\Satellite_18_219284_141407.meta\n",
      "C:\\Users\\AISG\\Documents\\Jonas\\Real_World_Test_DataBase_meta\\18\\219284\\Satellite_18_219284_141408.meta\n",
      "C:\\Users\\AISG\\Documents\\Jonas\\Real_World_Test_DataBase_meta\\18\\219284\\Satellite_18_219284_141409.meta\n",
      "C:\\Users\\AISG\\Documents\\Jonas\\Real_World_Test_DataBase_meta\\18\\219284\\Satellite_18_219284_141410.meta\n",
      "C:\\Users\\AISG\\Documents\\Jonas\\Real_World_Test_DataBase_meta\\18\\219284\\Satellite_18_219284_141411.meta\n",
      "C:\\Users\\AISG\\Documents\\Jonas\\Real_World_Test_DataBase_meta\\18\\219284\\Satellite_18_219284_141412.meta\n",
      "C:\\Users\\AISG\\Documents\\Jonas\\Real_World_Test_DataBase_meta\\18\\219284\\Satellite_18_219284_141413.meta\n",
      "C:\\Users\\AISG\\Documents\\Jonas\\Real_World_Test_DataBase_meta\\18\\219284\\Satellite_18_219284_141414.meta\n",
      "C:\\Users\\AISG\\Documents\\Jonas\\Real_World_Test_DataBase_meta\\18\\219284\\Satellite_18_219284_141415.meta\n",
      "C:\\Users\\AISG\\Documents\\Jonas\\Real_World_Test_DataBase_meta\\18\\219284\\Satellite_18_219284_141416.meta\n",
      "C:\\Users\\AISG\\Documents\\Jonas\\Real_World_Test_DataBase_meta\\18\\219284\\Satellite_18_219284_141417.meta\n",
      "C:\\Users\\AISG\\Documents\\Jonas\\Real_World_Test_DataBase_meta\\18\\219284\\Satellite_18_219284_141418.meta\n",
      "C:\\Users\\AISG\\Documents\\Jonas\\Real_World_Test_DataBase_meta\\18\\219284\\Satellite_18_219284_141419.meta\n",
      "C:\\Users\\AISG\\Documents\\Jonas\\Real_World_Test_DataBase_meta\\18\\219284\\Satellite_18_219284_141420.meta\n",
      "C:\\Users\\AISG\\Documents\\Jonas\\Real_World_Test_DataBase_meta\\18\\219284\\Satellite_18_219284_141421.meta\n",
      "C:\\Users\\AISG\\Documents\\Jonas\\Real_World_Test_DataBase_meta\\18\\219284\\Satellite_18_219284_141422.meta\n",
      "C:\\Users\\AISG\\Documents\\Jonas\\Real_World_Test_DataBase_meta\\18\\219284\\Satellite_18_219284_141423.meta\n",
      "C:\\Users\\AISG\\Documents\\Jonas\\Real_World_Test_DataBase_meta\\18\\219284\\Satellite_18_219284_141424.meta\n",
      "C:\\Users\\AISG\\Documents\\Jonas\\Real_World_Test_DataBase_meta\\18\\219284\\Satellite_18_219284_141425.meta\n",
      "C:\\Users\\AISG\\Documents\\Jonas\\Real_World_Test_DataBase_meta\\18\\219284\\Satellite_18_219284_141426.meta\n",
      "C:\\Users\\AISG\\Documents\\Jonas\\Real_World_Test_DataBase_meta\\18\\219284\\Satellite_18_219284_141427.meta\n",
      "C:\\Users\\AISG\\Documents\\Jonas\\Real_World_Test_DataBase_meta\\18\\219284\\Satellite_18_219284_141428.meta\n",
      "C:\\Users\\AISG\\Documents\\Jonas\\Real_World_Test_DataBase_meta\\18\\219284\\Satellite_18_219284_141429.meta\n",
      "C:\\Users\\AISG\\Documents\\Jonas\\Real_World_Test_DataBase_meta\\18\\219284\\Satellite_18_219284_141430.meta\n",
      "C:\\Users\\AISG\\Documents\\Jonas\\Real_World_Test_DataBase_meta\\18\\219284\\Satellite_18_219284_141431.meta\n",
      "C:\\Users\\AISG\\Documents\\Jonas\\Real_World_Test_DataBase_meta\\18\\219284\\Satellite_18_219284_141432.meta\n",
      "C:\\Users\\AISG\\Documents\\Jonas\\Real_World_Test_DataBase_meta\\18\\219284\\Satellite_18_219284_141433.meta\n",
      "C:\\Users\\AISG\\Documents\\Jonas\\Real_World_Test_DataBase_meta\\18\\219284\\Satellite_18_219284_141434.meta\n",
      "C:\\Users\\AISG\\Documents\\Jonas\\Real_World_Test_DataBase_meta\\18\\219284\\Satellite_18_219284_141435.meta\n",
      "C:\\Users\\AISG\\Documents\\Jonas\\Real_World_Test_DataBase_meta\\18\\219284\\Satellite_18_219284_141436.meta\n",
      "C:\\Users\\AISG\\Documents\\Jonas\\Real_World_Test_DataBase_meta\\18\\219284\\Satellite_18_219284_141437.meta\n",
      "C:\\Users\\AISG\\Documents\\Jonas\\Real_World_Test_DataBase_meta\\18\\219284\\Satellite_18_219284_141438.meta\n",
      "C:\\Users\\AISG\\Documents\\Jonas\\Real_World_Test_DataBase_meta\\18\\219284\\Satellite_18_219284_141439.meta\n",
      "C:\\Users\\AISG\\Documents\\Jonas\\Real_World_Test_DataBase_meta\\18\\219284\\Satellite_18_219284_141440.meta\n",
      "C:\\Users\\AISG\\Documents\\Jonas\\Real_World_Test_DataBase_meta\\18\\219284\\Satellite_18_219284_141441.meta\n",
      "C:\\Users\\AISG\\Documents\\Jonas\\Real_World_Test_DataBase_meta\\18\\219284\\Satellite_18_219284_141442.meta\n",
      "C:\\Users\\AISG\\Documents\\Jonas\\Real_World_Test_DataBase_meta\\18\\219284\\Satellite_18_219284_141443.meta\n",
      "C:\\Users\\AISG\\Documents\\Jonas\\Real_World_Test_DataBase_meta\\18\\219284\\Satellite_18_219284_141444.meta\n",
      "C:\\Users\\AISG\\Documents\\Jonas\\Real_World_Test_DataBase_meta\\18\\219284\\Satellite_18_219284_141445.meta\n",
      "C:\\Users\\AISG\\Documents\\Jonas\\Real_World_Test_DataBase_meta\\18\\219284\\Satellite_18_219284_141446.meta\n",
      "C:\\Users\\AISG\\Documents\\Jonas\\Real_World_Test_DataBase_meta\\18\\219284\\Satellite_18_219284_141447.meta\n",
      "C:\\Users\\AISG\\Documents\\Jonas\\Real_World_Test_DataBase_meta\\18\\219284\\Satellite_18_219284_141448.meta\n",
      "C:\\Users\\AISG\\Documents\\Jonas\\Real_World_Test_DataBase_meta\\18\\219284\\Satellite_18_219284_141449.meta\n",
      "C:\\Users\\AISG\\Documents\\Jonas\\Real_World_Test_DataBase_meta\\18\\219284\\Satellite_18_219284_141450.meta\n",
      "C:\\Users\\AISG\\Documents\\Jonas\\Real_World_Test_DataBase_meta\\18\\219284\\Satellite_18_219284_141451.meta\n",
      "C:\\Users\\AISG\\Documents\\Jonas\\Real_World_Test_DataBase_meta\\18\\219284\\Satellite_18_219284_141452.meta\n",
      "C:\\Users\\AISG\\Documents\\Jonas\\Real_World_Test_DataBase_meta\\18\\219284\\Satellite_18_219284_141453.meta\n",
      "C:\\Users\\AISG\\Documents\\Jonas\\Real_World_Test_DataBase_meta\\18\\219284\\Satellite_18_219284_141454.meta\n",
      "C:\\Users\\AISG\\Documents\\Jonas\\Real_World_Test_DataBase_meta\\18\\219284\\Satellite_18_219284_141455.meta\n",
      "C:\\Users\\AISG\\Documents\\Jonas\\Real_World_Test_DataBase_meta\\18\\219284\\Satellite_18_219284_141456.meta\n",
      "C:\\Users\\AISG\\Documents\\Jonas\\Real_World_Test_DataBase_meta\\18\\219284\\Satellite_18_219284_141457.meta\n"
     ]
    },
    {
     "name": "stderr",
     "output_type": "stream",
     "text": [
      "\r",
      " 56%|███████████████████████████████████████████▍                                 | 1244/2206 [00:03<00:02, 369.51it/s]"
     ]
    },
    {
     "name": "stdout",
     "output_type": "stream",
     "text": [
      "C:\\Users\\AISG\\Documents\\Jonas\\Real_World_Test_DataBase_meta\\18\\219284\\Satellite_18_219284_141458.meta\n",
      "C:\\Users\\AISG\\Documents\\Jonas\\Real_World_Test_DataBase_meta\\18\\219284\\Satellite_18_219284_141459.meta\n",
      "C:\\Users\\AISG\\Documents\\Jonas\\Real_World_Test_DataBase_meta\\18\\219284\\Satellite_18_219284_141460.meta\n",
      "C:\\Users\\AISG\\Documents\\Jonas\\Real_World_Test_DataBase_meta\\18\\219284\\Satellite_18_219284_141461.meta\n",
      "C:\\Users\\AISG\\Documents\\Jonas\\Real_World_Test_DataBase_meta\\18\\219284\\Satellite_18_219284_141462.meta\n",
      "C:\\Users\\AISG\\Documents\\Jonas\\Real_World_Test_DataBase_meta\\18\\219284\\Satellite_18_219284_141463.meta\n",
      "C:\\Users\\AISG\\Documents\\Jonas\\Real_World_Test_DataBase_meta\\18\\219284\\Satellite_18_219284_141464.meta\n",
      "C:\\Users\\AISG\\Documents\\Jonas\\Real_World_Test_DataBase_meta\\18\\219284\\Satellite_18_219284_141465.meta\n",
      "C:\\Users\\AISG\\Documents\\Jonas\\Real_World_Test_DataBase_meta\\18\\219284\\Satellite_18_219284_141466.meta\n",
      "C:\\Users\\AISG\\Documents\\Jonas\\Real_World_Test_DataBase_meta\\18\\219284\\Satellite_18_219284_141467.meta\n",
      "C:\\Users\\AISG\\Documents\\Jonas\\Real_World_Test_DataBase_meta\\18\\219284\\Satellite_18_219284_141468.meta\n",
      "C:\\Users\\AISG\\Documents\\Jonas\\Real_World_Test_DataBase_meta\\18\\219284\\Satellite_18_219284_141469.meta\n",
      "C:\\Users\\AISG\\Documents\\Jonas\\Real_World_Test_DataBase_meta\\18\\219284\\Satellite_18_219284_141470.meta\n",
      "C:\\Users\\AISG\\Documents\\Jonas\\Real_World_Test_DataBase_meta\\18\\219284\\Satellite_18_219284_141471.meta\n",
      "C:\\Users\\AISG\\Documents\\Jonas\\Real_World_Test_DataBase_meta\\18\\219284\\Satellite_18_219284_141472.meta\n",
      "C:\\Users\\AISG\\Documents\\Jonas\\Real_World_Test_DataBase_meta\\18\\219284\\Satellite_18_219284_141473.meta\n",
      "C:\\Users\\AISG\\Documents\\Jonas\\Real_World_Test_DataBase_meta\\18\\219284\\Satellite_18_219284_141474.meta\n",
      "C:\\Users\\AISG\\Documents\\Jonas\\Real_World_Test_DataBase_meta\\18\\219284\\Satellite_18_219284_141475.meta\n",
      "C:\\Users\\AISG\\Documents\\Jonas\\Real_World_Test_DataBase_meta\\18\\219284\\Satellite_18_219284_141476.meta\n",
      "C:\\Users\\AISG\\Documents\\Jonas\\Real_World_Test_DataBase_meta\\18\\219284\\Satellite_18_219284_141477.meta\n",
      "C:\\Users\\AISG\\Documents\\Jonas\\Real_World_Test_DataBase_meta\\18\\219284\\Satellite_18_219284_141478.meta\n",
      "C:\\Users\\AISG\\Documents\\Jonas\\Real_World_Test_DataBase_meta\\18\\219284\\Satellite_18_219284_141479.meta\n",
      "C:\\Users\\AISG\\Documents\\Jonas\\Real_World_Test_DataBase_meta\\18\\219284\\Satellite_18_219284_141480.meta\n",
      "C:\\Users\\AISG\\Documents\\Jonas\\Real_World_Test_DataBase_meta\\18\\219284\\Satellite_18_219284_141481.meta\n",
      "C:\\Users\\AISG\\Documents\\Jonas\\Real_World_Test_DataBase_meta\\18\\219284\\Satellite_18_219284_141482.meta\n",
      "C:\\Users\\AISG\\Documents\\Jonas\\Real_World_Test_DataBase_meta\\18\\219284\\Satellite_18_219284_141483.meta\n",
      "C:\\Users\\AISG\\Documents\\Jonas\\Real_World_Test_DataBase_meta\\18\\219284\\Satellite_18_219284_141484.meta\n",
      "C:\\Users\\AISG\\Documents\\Jonas\\Real_World_Test_DataBase_meta\\18\\219284\\Satellite_18_219284_141485.meta\n",
      "C:\\Users\\AISG\\Documents\\Jonas\\Real_World_Test_DataBase_meta\\18\\219284\\Satellite_18_219284_141486.meta\n",
      "C:\\Users\\AISG\\Documents\\Jonas\\Real_World_Test_DataBase_meta\\18\\219284\\Satellite_18_219284_141487.meta\n",
      "C:\\Users\\AISG\\Documents\\Jonas\\Real_World_Test_DataBase_meta\\18\\219284\\Satellite_18_219284_141488.meta\n",
      "C:\\Users\\AISG\\Documents\\Jonas\\Real_World_Test_DataBase_meta\\18\\219284\\Satellite_18_219284_141489.meta\n",
      "C:\\Users\\AISG\\Documents\\Jonas\\Real_World_Test_DataBase_meta\\18\\219284\\Satellite_18_219284_141490.meta\n",
      "C:\\Users\\AISG\\Documents\\Jonas\\Real_World_Test_DataBase_meta\\18\\219284\\Satellite_18_219284_141491.meta\n",
      "C:\\Users\\AISG\\Documents\\Jonas\\Real_World_Test_DataBase_meta\\18\\219284\\Satellite_18_219284_141492.meta\n",
      "C:\\Users\\AISG\\Documents\\Jonas\\Real_World_Test_DataBase_meta\\18\\219284\\Satellite_18_219284_141493.meta\n",
      "C:\\Users\\AISG\\Documents\\Jonas\\Real_World_Test_DataBase_meta\\18\\219284\\Satellite_18_219284_141494.meta\n",
      "C:\\Users\\AISG\\Documents\\Jonas\\Real_World_Test_DataBase_meta\\18\\219284\\Satellite_18_219284_141495.meta\n",
      "C:\\Users\\AISG\\Documents\\Jonas\\Real_World_Test_DataBase_meta\\18\\219284\\Satellite_18_219284_141496.meta\n",
      "C:\\Users\\AISG\\Documents\\Jonas\\Real_World_Test_DataBase_meta\\18\\219284\\Satellite_18_219284_141497.meta\n",
      "C:\\Users\\AISG\\Documents\\Jonas\\Real_World_Test_DataBase_meta\\18\\219284\\Satellite_18_219284_141498.meta\n",
      "C:\\Users\\AISG\\Documents\\Jonas\\Real_World_Test_DataBase_meta\\18\\219284\\Satellite_18_219284_141499.meta\n",
      "C:\\Users\\AISG\\Documents\\Jonas\\Real_World_Test_DataBase_meta\\18\\219284\\Satellite_18_219284_141500.meta\n",
      "C:\\Users\\AISG\\Documents\\Jonas\\Real_World_Test_DataBase_meta\\18\\219284\\Satellite_18_219284_141501.meta\n",
      "C:\\Users\\AISG\\Documents\\Jonas\\Real_World_Test_DataBase_meta\\18\\219284\\Satellite_18_219284_141502.meta\n",
      "C:\\Users\\AISG\\Documents\\Jonas\\Real_World_Test_DataBase_meta\\18\\219284\\Satellite_18_219284_141503.meta\n",
      "C:\\Users\\AISG\\Documents\\Jonas\\Real_World_Test_DataBase_meta\\18\\219284\\Satellite_18_219284_141504.meta\n",
      "C:\\Users\\AISG\\Documents\\Jonas\\Real_World_Test_DataBase_meta\\18\\219284\\Satellite_18_219284_141505.meta\n",
      "C:\\Users\\AISG\\Documents\\Jonas\\Real_World_Test_DataBase_meta\\18\\219284\\Satellite_18_219284_141506.meta\n",
      "C:\\Users\\AISG\\Documents\\Jonas\\Real_World_Test_DataBase_meta\\18\\219284\\Satellite_18_219284_141507.meta\n",
      "C:\\Users\\AISG\\Documents\\Jonas\\Real_World_Test_DataBase_meta\\18\\219284\\Satellite_18_219284_141508.meta\n",
      "C:\\Users\\AISG\\Documents\\Jonas\\Real_World_Test_DataBase_meta\\18\\219284\\Satellite_18_219284_141509.meta\n",
      "C:\\Users\\AISG\\Documents\\Jonas\\Real_World_Test_DataBase_meta\\18\\219284\\Satellite_18_219284_141510.meta\n",
      "C:\\Users\\AISG\\Documents\\Jonas\\Real_World_Test_DataBase_meta\\18\\219284\\Satellite_18_219284_141511.meta\n",
      "C:\\Users\\AISG\\Documents\\Jonas\\Real_World_Test_DataBase_meta\\18\\219284\\Satellite_18_219284_141512.meta\n",
      "C:\\Users\\AISG\\Documents\\Jonas\\Real_World_Test_DataBase_meta\\18\\219284\\Satellite_18_219284_141513.meta\n",
      "C:\\Users\\AISG\\Documents\\Jonas\\Real_World_Test_DataBase_meta\\18\\219284\\Satellite_18_219284_141514.meta\n",
      "C:\\Users\\AISG\\Documents\\Jonas\\Real_World_Test_DataBase_meta\\18\\219284\\Satellite_18_219284_141515.meta\n",
      "C:\\Users\\AISG\\Documents\\Jonas\\Real_World_Test_DataBase_meta\\18\\219284\\Satellite_18_219284_141516.meta\n",
      "C:\\Users\\AISG\\Documents\\Jonas\\Real_World_Test_DataBase_meta\\18\\219284\\Satellite_18_219284_141517.meta\n",
      "C:\\Users\\AISG\\Documents\\Jonas\\Real_World_Test_DataBase_meta\\18\\219284\\Satellite_18_219284_141518.meta\n",
      "C:\\Users\\AISG\\Documents\\Jonas\\Real_World_Test_DataBase_meta\\18\\219284\\Satellite_18_219284_141519.meta\n",
      "C:\\Users\\AISG\\Documents\\Jonas\\Real_World_Test_DataBase_meta\\18\\219284\\Satellite_18_219284_141520.meta\n",
      "C:\\Users\\AISG\\Documents\\Jonas\\Real_World_Test_DataBase_meta\\18\\219284\\Satellite_18_219284_141521.meta\n",
      "C:\\Users\\AISG\\Documents\\Jonas\\Real_World_Test_DataBase_meta\\18\\219284\\Satellite_18_219284_141522.meta\n",
      "C:\\Users\\AISG\\Documents\\Jonas\\Real_World_Test_DataBase_meta\\18\\219284\\Satellite_18_219284_141523.meta\n",
      "C:\\Users\\AISG\\Documents\\Jonas\\Real_World_Test_DataBase_meta\\18\\219284\\Satellite_18_219284_141524.meta\n",
      "C:\\Users\\AISG\\Documents\\Jonas\\Real_World_Test_DataBase_meta\\18\\219284\\Satellite_18_219284_141525.meta\n",
      "C:\\Users\\AISG\\Documents\\Jonas\\Real_World_Test_DataBase_meta\\18\\219284\\Satellite_18_219284_141526.meta\n"
     ]
    },
    {
     "name": "stderr",
     "output_type": "stream",
     "text": [
      " 60%|██████████████████████████████████████████████                               | 1320/2206 [00:03<00:02, 369.40it/s]"
     ]
    },
    {
     "name": "stdout",
     "output_type": "stream",
     "text": [
      "C:\\Users\\AISG\\Documents\\Jonas\\Real_World_Test_DataBase_meta\\18\\219284\\Satellite_18_219284_141527.meta\n",
      "C:\\Users\\AISG\\Documents\\Jonas\\Real_World_Test_DataBase_meta\\18\\219284\\Satellite_18_219284_141528.meta\n",
      "C:\\Users\\AISG\\Documents\\Jonas\\Real_World_Test_DataBase_meta\\18\\219284\\Satellite_18_219284_141529.meta\n",
      "C:\\Users\\AISG\\Documents\\Jonas\\Real_World_Test_DataBase_meta\\18\\219284\\Satellite_18_219284_141530.meta\n",
      "C:\\Users\\AISG\\Documents\\Jonas\\Real_World_Test_DataBase_meta\\18\\219284\\Satellite_18_219284_141531.meta\n",
      "C:\\Users\\AISG\\Documents\\Jonas\\Real_World_Test_DataBase_meta\\18\\219284\\Satellite_18_219284_141532.meta\n",
      "C:\\Users\\AISG\\Documents\\Jonas\\Real_World_Test_DataBase_meta\\18\\219284\\Satellite_18_219284_141533.meta\n",
      "C:\\Users\\AISG\\Documents\\Jonas\\Real_World_Test_DataBase_meta\\18\\219284\\Satellite_18_219284_141534.meta\n",
      "C:\\Users\\AISG\\Documents\\Jonas\\Real_World_Test_DataBase_meta\\18\\219284\\Satellite_18_219284_141535.meta\n",
      "C:\\Users\\AISG\\Documents\\Jonas\\Real_World_Test_DataBase_meta\\18\\219284\\Satellite_18_219284_141536.meta\n",
      "C:\\Users\\AISG\\Documents\\Jonas\\Real_World_Test_DataBase_meta\\18\\219284\\Satellite_18_219284_141537.meta\n",
      "C:\\Users\\AISG\\Documents\\Jonas\\Real_World_Test_DataBase_meta\\18\\219284\\Satellite_18_219284_141538.meta\n",
      "C:\\Users\\AISG\\Documents\\Jonas\\Real_World_Test_DataBase_meta\\18\\219284\\Satellite_18_219284_141539.meta\n",
      "C:\\Users\\AISG\\Documents\\Jonas\\Real_World_Test_DataBase_meta\\18\\219284\\Satellite_18_219284_141540.meta\n",
      "C:\\Users\\AISG\\Documents\\Jonas\\Real_World_Test_DataBase_meta\\18\\219284\\Satellite_18_219284_141541.meta\n",
      "C:\\Users\\AISG\\Documents\\Jonas\\Real_World_Test_DataBase_meta\\18\\219284\\Satellite_18_219284_141542.meta\n",
      "C:\\Users\\AISG\\Documents\\Jonas\\Real_World_Test_DataBase_meta\\18\\219284\\Satellite_18_219284_141543.meta\n",
      "C:\\Users\\AISG\\Documents\\Jonas\\Real_World_Test_DataBase_meta\\18\\219284\\Satellite_18_219284_141544.meta\n",
      "C:\\Users\\AISG\\Documents\\Jonas\\Real_World_Test_DataBase_meta\\18\\219284\\Satellite_18_219284_141545.meta\n",
      "C:\\Users\\AISG\\Documents\\Jonas\\Real_World_Test_DataBase_meta\\18\\219284\\Satellite_18_219284_141546.meta\n",
      "C:\\Users\\AISG\\Documents\\Jonas\\Real_World_Test_DataBase_meta\\18\\219284\\Satellite_18_219284_141547.meta\n",
      "C:\\Users\\AISG\\Documents\\Jonas\\Real_World_Test_DataBase_meta\\18\\219284\\Satellite_18_219284_141548.meta\n",
      "C:\\Users\\AISG\\Documents\\Jonas\\Real_World_Test_DataBase_meta\\18\\219284\\Satellite_18_219284_141549.meta\n",
      "C:\\Users\\AISG\\Documents\\Jonas\\Real_World_Test_DataBase_meta\\18\\219284\\Satellite_18_219284_141550.meta\n",
      "C:\\Users\\AISG\\Documents\\Jonas\\Real_World_Test_DataBase_meta\\18\\219284\\Satellite_18_219284_141551.meta\n",
      "C:\\Users\\AISG\\Documents\\Jonas\\Real_World_Test_DataBase_meta\\18\\219284\\Satellite_18_219284_141552.meta\n",
      "C:\\Users\\AISG\\Documents\\Jonas\\Real_World_Test_DataBase_meta\\18\\219284\\Satellite_18_219284_141553.meta\n",
      "C:\\Users\\AISG\\Documents\\Jonas\\Real_World_Test_DataBase_meta\\18\\219284\\Satellite_18_219284_141554.meta\n",
      "C:\\Users\\AISG\\Documents\\Jonas\\Real_World_Test_DataBase_meta\\18\\219284\\Satellite_18_219284_141555.meta\n",
      "C:\\Users\\AISG\\Documents\\Jonas\\Real_World_Test_DataBase_meta\\18\\219284\\Satellite_18_219284_141556.meta\n",
      "C:\\Users\\AISG\\Documents\\Jonas\\Real_World_Test_DataBase_meta\\18\\219284\\Satellite_18_219284_141557.meta\n",
      "C:\\Users\\AISG\\Documents\\Jonas\\Real_World_Test_DataBase_meta\\18\\219284\\Satellite_18_219284_141558.meta\n",
      "C:\\Users\\AISG\\Documents\\Jonas\\Real_World_Test_DataBase_meta\\18\\219284\\Satellite_18_219284_141559.meta\n",
      "C:\\Users\\AISG\\Documents\\Jonas\\Real_World_Test_DataBase_meta\\18\\219284\\Satellite_18_219284_141560.meta\n",
      "C:\\Users\\AISG\\Documents\\Jonas\\Real_World_Test_DataBase_meta\\18\\219284\\Satellite_18_219284_141561.meta\n",
      "C:\\Users\\AISG\\Documents\\Jonas\\Real_World_Test_DataBase_meta\\18\\219284\\Satellite_18_219284_141562.meta\n",
      "C:\\Users\\AISG\\Documents\\Jonas\\Real_World_Test_DataBase_meta\\18\\219284\\Satellite_18_219284_141563.meta\n",
      "C:\\Users\\AISG\\Documents\\Jonas\\Real_World_Test_DataBase_meta\\18\\219284\\Satellite_18_219284_141564.meta\n",
      "C:\\Users\\AISG\\Documents\\Jonas\\Real_World_Test_DataBase_meta\\18\\219284\\Satellite_18_219284_141565.meta\n",
      "C:\\Users\\AISG\\Documents\\Jonas\\Real_World_Test_DataBase_meta\\18\\219284\\Satellite_18_219284_141566.meta\n",
      "C:\\Users\\AISG\\Documents\\Jonas\\Real_World_Test_DataBase_meta\\18\\219284\\Satellite_18_219284_141567.meta\n",
      "C:\\Users\\AISG\\Documents\\Jonas\\Real_World_Test_DataBase_meta\\18\\219284\\Satellite_18_219284_141568.meta\n",
      "C:\\Users\\AISG\\Documents\\Jonas\\Real_World_Test_DataBase_meta\\18\\219284\\Satellite_18_219284_141569.meta\n",
      "C:\\Users\\AISG\\Documents\\Jonas\\Real_World_Test_DataBase_meta\\18\\219284\\Satellite_18_219284_141570.meta\n",
      "C:\\Users\\AISG\\Documents\\Jonas\\Real_World_Test_DataBase_meta\\18\\219284\\Satellite_18_219284_141571.meta\n",
      "C:\\Users\\AISG\\Documents\\Jonas\\Real_World_Test_DataBase_meta\\18\\219284\\Satellite_18_219284_141572.meta\n",
      "C:\\Users\\AISG\\Documents\\Jonas\\Real_World_Test_DataBase_meta\\18\\219284\\Satellite_18_219284_141573.meta\n",
      "C:\\Users\\AISG\\Documents\\Jonas\\Real_World_Test_DataBase_meta\\18\\219284\\Satellite_18_219284_141574.meta\n",
      "C:\\Users\\AISG\\Documents\\Jonas\\Real_World_Test_DataBase_meta\\18\\219284\\Satellite_18_219284_141575.meta\n",
      "C:\\Users\\AISG\\Documents\\Jonas\\Real_World_Test_DataBase_meta\\18\\219284\\Satellite_18_219284_141576.meta\n",
      "C:\\Users\\AISG\\Documents\\Jonas\\Real_World_Test_DataBase_meta\\18\\219284\\Satellite_18_219284_141577.meta\n",
      "C:\\Users\\AISG\\Documents\\Jonas\\Real_World_Test_DataBase_meta\\18\\219284\\Satellite_18_219284_141578.meta\n",
      "C:\\Users\\AISG\\Documents\\Jonas\\Real_World_Test_DataBase_meta\\18\\219284\\Satellite_18_219284_141579.meta\n",
      "C:\\Users\\AISG\\Documents\\Jonas\\Real_World_Test_DataBase_meta\\18\\219284\\Satellite_18_219284_141580.meta\n",
      "C:\\Users\\AISG\\Documents\\Jonas\\Real_World_Test_DataBase_meta\\18\\219284\\Satellite_18_219284_141581.meta\n",
      "C:\\Users\\AISG\\Documents\\Jonas\\Real_World_Test_DataBase_meta\\18\\219284\\Satellite_18_219284_141582.meta\n",
      "C:\\Users\\AISG\\Documents\\Jonas\\Real_World_Test_DataBase_meta\\18\\219284\\Satellite_18_219284_141583.meta\n",
      "C:\\Users\\AISG\\Documents\\Jonas\\Real_World_Test_DataBase_meta\\18\\219284\\Satellite_18_219284_141584.meta\n",
      "C:\\Users\\AISG\\Documents\\Jonas\\Real_World_Test_DataBase_meta\\18\\219284\\Satellite_18_219284_141585.meta\n",
      "C:\\Users\\AISG\\Documents\\Jonas\\Real_World_Test_DataBase_meta\\18\\219284\\Satellite_18_219284_141586.meta\n",
      "C:\\Users\\AISG\\Documents\\Jonas\\Real_World_Test_DataBase_meta\\18\\219284\\Satellite_18_219284_141587.meta\n",
      "C:\\Users\\AISG\\Documents\\Jonas\\Real_World_Test_DataBase_meta\\18\\219284\\Satellite_18_219284_141588.meta\n",
      "C:\\Users\\AISG\\Documents\\Jonas\\Real_World_Test_DataBase_meta\\18\\219284\\Satellite_18_219284_141589.meta\n",
      "C:\\Users\\AISG\\Documents\\Jonas\\Real_World_Test_DataBase_meta\\18\\219284\\Satellite_18_219284_141590.meta\n",
      "C:\\Users\\AISG\\Documents\\Jonas\\Real_World_Test_DataBase_meta\\18\\219284\\Satellite_18_219284_141591.meta\n",
      "C:\\Users\\AISG\\Documents\\Jonas\\Real_World_Test_DataBase_meta\\18\\219284\\Satellite_18_219284_141592.meta\n",
      "C:\\Users\\AISG\\Documents\\Jonas\\Real_World_Test_DataBase_meta\\18\\219284\\Satellite_18_219284_141593.meta\n",
      "C:\\Users\\AISG\\Documents\\Jonas\\Real_World_Test_DataBase_meta\\18\\219284\\Satellite_18_219284_141594.meta\n",
      "C:\\Users\\AISG\\Documents\\Jonas\\Real_World_Test_DataBase_meta\\18\\219284\\Satellite_18_219284_141595.meta\n",
      "C:\\Users\\AISG\\Documents\\Jonas\\Real_World_Test_DataBase_meta\\18\\219284\\Satellite_18_219284_141596.meta\n",
      "C:\\Users\\AISG\\Documents\\Jonas\\Real_World_Test_DataBase_meta\\18\\219284\\Satellite_18_219284_141597.meta\n",
      "C:\\Users\\AISG\\Documents\\Jonas\\Real_World_Test_DataBase_meta\\18\\219284\\Satellite_18_219284_141598.meta\n"
     ]
    },
    {
     "name": "stderr",
     "output_type": "stream",
     "text": [
      " 64%|████████████████████████████████████████████████▉                            | 1402/2206 [00:03<00:02, 383.98it/s]"
     ]
    },
    {
     "name": "stdout",
     "output_type": "stream",
     "text": [
      "C:\\Users\\AISG\\Documents\\Jonas\\Real_World_Test_DataBase_meta\\18\\219284\\Satellite_18_219284_141599.meta\n",
      "C:\\Users\\AISG\\Documents\\Jonas\\Real_World_Test_DataBase_meta\\18\\219284\\Satellite_18_219284_141600.meta\n",
      "C:\\Users\\AISG\\Documents\\Jonas\\Real_World_Test_DataBase_meta\\18\\219284\\Satellite_18_219284_141601.meta\n",
      "C:\\Users\\AISG\\Documents\\Jonas\\Real_World_Test_DataBase_meta\\18\\219284\\Satellite_18_219284_141602.meta\n",
      "C:\\Users\\AISG\\Documents\\Jonas\\Real_World_Test_DataBase_meta\\18\\219284\\Satellite_18_219284_141603.meta\n",
      "C:\\Users\\AISG\\Documents\\Jonas\\Real_World_Test_DataBase_meta\\18\\219284\\Satellite_18_219284_141604.meta\n",
      "C:\\Users\\AISG\\Documents\\Jonas\\Real_World_Test_DataBase_meta\\18\\219284\\Satellite_18_219284_141605.meta\n",
      "C:\\Users\\AISG\\Documents\\Jonas\\Real_World_Test_DataBase_meta\\18\\219284\\Satellite_18_219284_141606.meta\n",
      "C:\\Users\\AISG\\Documents\\Jonas\\Real_World_Test_DataBase_meta\\18\\219284\\Satellite_18_219284_141607.meta\n",
      "C:\\Users\\AISG\\Documents\\Jonas\\Real_World_Test_DataBase_meta\\18\\219284\\Satellite_18_219284_141608.meta\n",
      "C:\\Users\\AISG\\Documents\\Jonas\\Real_World_Test_DataBase_meta\\18\\219284\\Satellite_18_219284_141609.meta\n",
      "C:\\Users\\AISG\\Documents\\Jonas\\Real_World_Test_DataBase_meta\\18\\219284\\Satellite_18_219284_141610.meta\n",
      "C:\\Users\\AISG\\Documents\\Jonas\\Real_World_Test_DataBase_meta\\18\\219284\\Satellite_18_219284_141611.meta\n",
      "C:\\Users\\AISG\\Documents\\Jonas\\Real_World_Test_DataBase_meta\\18\\219284\\Satellite_18_219284_141612.meta\n",
      "C:\\Users\\AISG\\Documents\\Jonas\\Real_World_Test_DataBase_meta\\18\\219284\\Satellite_18_219284_141613.meta\n",
      "C:\\Users\\AISG\\Documents\\Jonas\\Real_World_Test_DataBase_meta\\18\\219284\\Satellite_18_219284_141614.meta\n",
      "C:\\Users\\AISG\\Documents\\Jonas\\Real_World_Test_DataBase_meta\\18\\219284\\Satellite_18_219284_141615.meta\n",
      "C:\\Users\\AISG\\Documents\\Jonas\\Real_World_Test_DataBase_meta\\18\\219284\\Satellite_18_219284_141616.meta\n",
      "C:\\Users\\AISG\\Documents\\Jonas\\Real_World_Test_DataBase_meta\\18\\219284\\Satellite_18_219284_141617.meta\n",
      "C:\\Users\\AISG\\Documents\\Jonas\\Real_World_Test_DataBase_meta\\18\\219284\\Satellite_18_219284_141618.meta\n",
      "C:\\Users\\AISG\\Documents\\Jonas\\Real_World_Test_DataBase_meta\\18\\219284\\Satellite_18_219284_141619.meta\n",
      "C:\\Users\\AISG\\Documents\\Jonas\\Real_World_Test_DataBase_meta\\18\\219284\\Satellite_18_219284_141620.meta\n",
      "C:\\Users\\AISG\\Documents\\Jonas\\Real_World_Test_DataBase_meta\\18\\219284\\Satellite_18_219284_141621.meta\n",
      "C:\\Users\\AISG\\Documents\\Jonas\\Real_World_Test_DataBase_meta\\18\\219284\\Satellite_18_219284_141622.meta\n",
      "C:\\Users\\AISG\\Documents\\Jonas\\Real_World_Test_DataBase_meta\\18\\219284\\Satellite_18_219284_141623.meta\n",
      "C:\\Users\\AISG\\Documents\\Jonas\\Real_World_Test_DataBase_meta\\18\\219284\\Satellite_18_219284_141624.meta\n",
      "C:\\Users\\AISG\\Documents\\Jonas\\Real_World_Test_DataBase_meta\\18\\219284\\Satellite_18_219284_141625.meta\n",
      "C:\\Users\\AISG\\Documents\\Jonas\\Real_World_Test_DataBase_meta\\18\\219284\\Satellite_18_219284_141626.meta\n",
      "C:\\Users\\AISG\\Documents\\Jonas\\Real_World_Test_DataBase_meta\\18\\219284\\Satellite_18_219284_141627.meta\n",
      "C:\\Users\\AISG\\Documents\\Jonas\\Real_World_Test_DataBase_meta\\18\\219284\\Satellite_18_219284_141628.meta\n",
      "C:\\Users\\AISG\\Documents\\Jonas\\Real_World_Test_DataBase_meta\\18\\219284\\Satellite_18_219284_141629.meta\n",
      "C:\\Users\\AISG\\Documents\\Jonas\\Real_World_Test_DataBase_meta\\18\\219284\\Satellite_18_219284_141630.meta\n",
      "C:\\Users\\AISG\\Documents\\Jonas\\Real_World_Test_DataBase_meta\\18\\219284\\Satellite_18_219284_141631.meta\n",
      "C:\\Users\\AISG\\Documents\\Jonas\\Real_World_Test_DataBase_meta\\18\\219284\\Satellite_18_219284_141632.meta\n",
      "C:\\Users\\AISG\\Documents\\Jonas\\Real_World_Test_DataBase_meta\\18\\219284\\Satellite_18_219284_141633.meta\n",
      "C:\\Users\\AISG\\Documents\\Jonas\\Real_World_Test_DataBase_meta\\18\\219284\\Satellite_18_219284_141634.meta\n",
      "C:\\Users\\AISG\\Documents\\Jonas\\Real_World_Test_DataBase_meta\\18\\219284\\Satellite_18_219284_141635.meta\n",
      "C:\\Users\\AISG\\Documents\\Jonas\\Real_World_Test_DataBase_meta\\18\\219284\\Satellite_18_219284_141636.meta\n",
      "C:\\Users\\AISG\\Documents\\Jonas\\Real_World_Test_DataBase_meta\\18\\219284\\Satellite_18_219284_141637.meta\n",
      "C:\\Users\\AISG\\Documents\\Jonas\\Real_World_Test_DataBase_meta\\18\\219284\\Satellite_18_219284_141638.meta\n",
      "C:\\Users\\AISG\\Documents\\Jonas\\Real_World_Test_DataBase_meta\\18\\219284\\Satellite_18_219284_141639.meta\n",
      "C:\\Users\\AISG\\Documents\\Jonas\\Real_World_Test_DataBase_meta\\18\\219284\\Satellite_18_219284_141640.meta\n",
      "C:\\Users\\AISG\\Documents\\Jonas\\Real_World_Test_DataBase_meta\\18\\219284\\Satellite_18_219284_141641.meta\n",
      "C:\\Users\\AISG\\Documents\\Jonas\\Real_World_Test_DataBase_meta\\18\\219284\\Satellite_18_219284_141642.meta\n",
      "C:\\Users\\AISG\\Documents\\Jonas\\Real_World_Test_DataBase_meta\\18\\219284\\Satellite_18_219284_141643.meta\n",
      "C:\\Users\\AISG\\Documents\\Jonas\\Real_World_Test_DataBase_meta\\18\\219284\\Satellite_18_219284_141644.meta\n",
      "C:\\Users\\AISG\\Documents\\Jonas\\Real_World_Test_DataBase_meta\\18\\219284\\Satellite_18_219284_141734.meta\n",
      "C:\\Users\\AISG\\Documents\\Jonas\\Real_World_Test_DataBase_meta\\18\\219284\\Satellite_18_219284_141735.meta\n",
      "C:\\Users\\AISG\\Documents\\Jonas\\Real_World_Test_DataBase_meta\\18\\219284\\Satellite_18_219284_141736.meta\n",
      "C:\\Users\\AISG\\Documents\\Jonas\\Real_World_Test_DataBase_meta\\18\\219284\\Satellite_18_219284_141737.meta\n",
      "C:\\Users\\AISG\\Documents\\Jonas\\Real_World_Test_DataBase_meta\\18\\219284\\Satellite_18_219284_141738.meta\n",
      "C:\\Users\\AISG\\Documents\\Jonas\\Real_World_Test_DataBase_meta\\18\\219284\\Satellite_18_219284_141739.meta\n",
      "C:\\Users\\AISG\\Documents\\Jonas\\Real_World_Test_DataBase_meta\\18\\219284\\Satellite_18_219284_141740.meta\n",
      "C:\\Users\\AISG\\Documents\\Jonas\\Real_World_Test_DataBase_meta\\18\\219284\\Satellite_18_219284_141741.meta\n",
      "C:\\Users\\AISG\\Documents\\Jonas\\Real_World_Test_DataBase_meta\\18\\219284\\Satellite_18_219284_141742.meta\n",
      "C:\\Users\\AISG\\Documents\\Jonas\\Real_World_Test_DataBase_meta\\18\\219284\\Satellite_18_219284_141743.meta\n",
      "C:\\Users\\AISG\\Documents\\Jonas\\Real_World_Test_DataBase_meta\\18\\219284\\Satellite_18_219284_141744.meta\n",
      "C:\\Users\\AISG\\Documents\\Jonas\\Real_World_Test_DataBase_meta\\18\\219284\\Satellite_18_219284_141745.meta\n",
      "C:\\Users\\AISG\\Documents\\Jonas\\Real_World_Test_DataBase_meta\\18\\219284\\Satellite_18_219284_141746.meta\n",
      "C:\\Users\\AISG\\Documents\\Jonas\\Real_World_Test_DataBase_meta\\18\\219284\\Satellite_18_219284_141747.meta\n",
      "C:\\Users\\AISG\\Documents\\Jonas\\Real_World_Test_DataBase_meta\\18\\219284\\Satellite_18_219284_141748.meta\n",
      "C:\\Users\\AISG\\Documents\\Jonas\\Real_World_Test_DataBase_meta\\18\\219284\\Satellite_18_219284_141749.meta\n",
      "C:\\Users\\AISG\\Documents\\Jonas\\Real_World_Test_DataBase_meta\\18\\219284\\Satellite_18_219284_141750.meta\n",
      "C:\\Users\\AISG\\Documents\\Jonas\\Real_World_Test_DataBase_meta\\18\\219284\\Satellite_18_219284_141751.meta\n",
      "C:\\Users\\AISG\\Documents\\Jonas\\Real_World_Test_DataBase_meta\\18\\219284\\Satellite_18_219284_141752.meta\n",
      "C:\\Users\\AISG\\Documents\\Jonas\\Real_World_Test_DataBase_meta\\18\\219284\\Satellite_18_219284_141753.meta\n",
      "C:\\Users\\AISG\\Documents\\Jonas\\Real_World_Test_DataBase_meta\\18\\219284\\Satellite_18_219284_141754.meta\n",
      "C:\\Users\\AISG\\Documents\\Jonas\\Real_World_Test_DataBase_meta\\18\\219284\\Satellite_18_219284_141755.meta\n",
      "C:\\Users\\AISG\\Documents\\Jonas\\Real_World_Test_DataBase_meta\\18\\219284\\Satellite_18_219284_141756.meta\n",
      "C:\\Users\\AISG\\Documents\\Jonas\\Real_World_Test_DataBase_meta\\18\\219284\\Satellite_18_219284_141757.meta\n",
      "C:\\Users\\AISG\\Documents\\Jonas\\Real_World_Test_DataBase_meta\\18\\219284\\Satellite_18_219284_141758.meta\n",
      "C:\\Users\\AISG\\Documents\\Jonas\\Real_World_Test_DataBase_meta\\18\\219284\\Satellite_18_219284_141759.meta\n",
      "C:\\Users\\AISG\\Documents\\Jonas\\Real_World_Test_DataBase_meta\\18\\219284\\Satellite_18_219284_141760.meta\n"
     ]
    },
    {
     "name": "stderr",
     "output_type": "stream",
     "text": [
      " 67%|███████████████████████████████████████████████████▋                         | 1480/2206 [00:03<00:01, 378.00it/s]"
     ]
    },
    {
     "name": "stdout",
     "output_type": "stream",
     "text": [
      "C:\\Users\\AISG\\Documents\\Jonas\\Real_World_Test_DataBase_meta\\18\\219284\\Satellite_18_219284_141761.meta\n",
      "C:\\Users\\AISG\\Documents\\Jonas\\Real_World_Test_DataBase_meta\\18\\219284\\Satellite_18_219284_141762.meta\n",
      "C:\\Users\\AISG\\Documents\\Jonas\\Real_World_Test_DataBase_meta\\18\\219284\\Satellite_18_219284_141763.meta\n",
      "C:\\Users\\AISG\\Documents\\Jonas\\Real_World_Test_DataBase_meta\\18\\219284\\Satellite_18_219284_141764.meta\n",
      "C:\\Users\\AISG\\Documents\\Jonas\\Real_World_Test_DataBase_meta\\18\\219284\\Satellite_18_219284_141765.meta\n",
      "C:\\Users\\AISG\\Documents\\Jonas\\Real_World_Test_DataBase_meta\\18\\219284\\Satellite_18_219284_141766.meta\n",
      "C:\\Users\\AISG\\Documents\\Jonas\\Real_World_Test_DataBase_meta\\18\\219284\\Satellite_18_219284_141767.meta\n",
      "C:\\Users\\AISG\\Documents\\Jonas\\Real_World_Test_DataBase_meta\\18\\219284\\Satellite_18_219284_141768.meta\n",
      "C:\\Users\\AISG\\Documents\\Jonas\\Real_World_Test_DataBase_meta\\18\\219284\\Satellite_18_219284_141769.meta\n",
      "C:\\Users\\AISG\\Documents\\Jonas\\Real_World_Test_DataBase_meta\\18\\219284\\Satellite_18_219284_141770.meta\n",
      "C:\\Users\\AISG\\Documents\\Jonas\\Real_World_Test_DataBase_meta\\18\\219284\\Satellite_18_219284_141771.meta\n",
      "C:\\Users\\AISG\\Documents\\Jonas\\Real_World_Test_DataBase_meta\\18\\219284\\Satellite_18_219284_141772.meta\n",
      "C:\\Users\\AISG\\Documents\\Jonas\\Real_World_Test_DataBase_meta\\18\\219284\\Satellite_18_219284_141773.meta\n",
      "C:\\Users\\AISG\\Documents\\Jonas\\Real_World_Test_DataBase_meta\\18\\219284\\Satellite_18_219284_141774.meta\n",
      "C:\\Users\\AISG\\Documents\\Jonas\\Real_World_Test_DataBase_meta\\18\\219284\\Satellite_18_219284_141775.meta\n",
      "C:\\Users\\AISG\\Documents\\Jonas\\Real_World_Test_DataBase_meta\\18\\219284\\Satellite_18_219284_141776.meta\n",
      "C:\\Users\\AISG\\Documents\\Jonas\\Real_World_Test_DataBase_meta\\18\\219284\\Satellite_18_219284_141777.meta\n",
      "C:\\Users\\AISG\\Documents\\Jonas\\Real_World_Test_DataBase_meta\\18\\219284\\Satellite_18_219284_141778.meta\n",
      "C:\\Users\\AISG\\Documents\\Jonas\\Real_World_Test_DataBase_meta\\18\\219284\\Satellite_18_219284_141779.meta\n",
      "C:\\Users\\AISG\\Documents\\Jonas\\Real_World_Test_DataBase_meta\\18\\219284\\Satellite_18_219284_141780.meta\n",
      "C:\\Users\\AISG\\Documents\\Jonas\\Real_World_Test_DataBase_meta\\18\\219284\\Satellite_18_219284_141781.meta\n",
      "C:\\Users\\AISG\\Documents\\Jonas\\Real_World_Test_DataBase_meta\\18\\219284\\Satellite_18_219284_141782.meta\n",
      "C:\\Users\\AISG\\Documents\\Jonas\\Real_World_Test_DataBase_meta\\18\\219284\\Satellite_18_219284_141783.meta\n",
      "C:\\Users\\AISG\\Documents\\Jonas\\Real_World_Test_DataBase_meta\\18\\219284\\Satellite_18_219284_141784.meta\n",
      "C:\\Users\\AISG\\Documents\\Jonas\\Real_World_Test_DataBase_meta\\18\\219284\\Satellite_18_219284_141785.meta\n",
      "C:\\Users\\AISG\\Documents\\Jonas\\Real_World_Test_DataBase_meta\\18\\219284\\Satellite_18_219284_141786.meta\n",
      "C:\\Users\\AISG\\Documents\\Jonas\\Real_World_Test_DataBase_meta\\18\\219284\\Satellite_18_219284_141787.meta\n",
      "C:\\Users\\AISG\\Documents\\Jonas\\Real_World_Test_DataBase_meta\\18\\219284\\Satellite_18_219284_141788.meta\n",
      "C:\\Users\\AISG\\Documents\\Jonas\\Real_World_Test_DataBase_meta\\18\\219284\\Satellite_18_219284_141789.meta\n",
      "C:\\Users\\AISG\\Documents\\Jonas\\Real_World_Test_DataBase_meta\\18\\219284\\Satellite_18_219284_141790.meta\n",
      "C:\\Users\\AISG\\Documents\\Jonas\\Real_World_Test_DataBase_meta\\18\\219284\\Satellite_18_219284_141791.meta\n",
      "C:\\Users\\AISG\\Documents\\Jonas\\Real_World_Test_DataBase_meta\\18\\219284\\Satellite_18_219284_141792.meta\n",
      "C:\\Users\\AISG\\Documents\\Jonas\\Real_World_Test_DataBase_meta\\18\\219284\\Satellite_18_219284_141793.meta\n",
      "C:\\Users\\AISG\\Documents\\Jonas\\Real_World_Test_DataBase_meta\\18\\219284\\Satellite_18_219284_141794.meta\n",
      "C:\\Users\\AISG\\Documents\\Jonas\\Real_World_Test_DataBase_meta\\18\\219284\\Satellite_18_219284_141795.meta\n",
      "C:\\Users\\AISG\\Documents\\Jonas\\Real_World_Test_DataBase_meta\\18\\219284\\Satellite_18_219284_141796.meta\n",
      "C:\\Users\\AISG\\Documents\\Jonas\\Real_World_Test_DataBase_meta\\18\\219284\\Satellite_18_219284_141797.meta\n",
      "C:\\Users\\AISG\\Documents\\Jonas\\Real_World_Test_DataBase_meta\\18\\219284\\Satellite_18_219284_141798.meta\n",
      "C:\\Users\\AISG\\Documents\\Jonas\\Real_World_Test_DataBase_meta\\18\\219284\\Satellite_18_219284_141799.meta\n",
      "C:\\Users\\AISG\\Documents\\Jonas\\Real_World_Test_DataBase_meta\\18\\219284\\Satellite_18_219284_141800.meta\n",
      "C:\\Users\\AISG\\Documents\\Jonas\\Real_World_Test_DataBase_meta\\18\\219284\\Satellite_18_219284_141801.meta\n",
      "C:\\Users\\AISG\\Documents\\Jonas\\Real_World_Test_DataBase_meta\\18\\219284\\Satellite_18_219284_141802.meta\n",
      "C:\\Users\\AISG\\Documents\\Jonas\\Real_World_Test_DataBase_meta\\18\\219284\\Satellite_18_219284_141803.meta\n",
      "C:\\Users\\AISG\\Documents\\Jonas\\Real_World_Test_DataBase_meta\\18\\219284\\Satellite_18_219284_141804.meta\n",
      "C:\\Users\\AISG\\Documents\\Jonas\\Real_World_Test_DataBase_meta\\18\\219284\\Satellite_18_219284_141805.meta\n",
      "C:\\Users\\AISG\\Documents\\Jonas\\Real_World_Test_DataBase_meta\\18\\219284\\Satellite_18_219284_141806.meta\n",
      "C:\\Users\\AISG\\Documents\\Jonas\\Real_World_Test_DataBase_meta\\18\\219284\\Satellite_18_219284_141807.meta\n",
      "C:\\Users\\AISG\\Documents\\Jonas\\Real_World_Test_DataBase_meta\\18\\219284\\Satellite_18_219284_141808.meta\n",
      "C:\\Users\\AISG\\Documents\\Jonas\\Real_World_Test_DataBase_meta\\18\\219284\\Satellite_18_219284_141809.meta\n",
      "C:\\Users\\AISG\\Documents\\Jonas\\Real_World_Test_DataBase_meta\\18\\219284\\Satellite_18_219284_141810.meta\n",
      "C:\\Users\\AISG\\Documents\\Jonas\\Real_World_Test_DataBase_meta\\18\\219284\\Satellite_18_219284_141811.meta\n",
      "C:\\Users\\AISG\\Documents\\Jonas\\Real_World_Test_DataBase_meta\\18\\219284\\Satellite_18_219284_141812.meta\n",
      "C:\\Users\\AISG\\Documents\\Jonas\\Real_World_Test_DataBase_meta\\18\\219284\\Satellite_18_219284_141813.meta\n",
      "C:\\Users\\AISG\\Documents\\Jonas\\Real_World_Test_DataBase_meta\\18\\219284\\Satellite_18_219284_141814.meta\n",
      "C:\\Users\\AISG\\Documents\\Jonas\\Real_World_Test_DataBase_meta\\18\\219284\\Satellite_18_219284_141815.meta\n",
      "C:\\Users\\AISG\\Documents\\Jonas\\Real_World_Test_DataBase_meta\\18\\219284\\Satellite_18_219284_141816.meta\n",
      "C:\\Users\\AISG\\Documents\\Jonas\\Real_World_Test_DataBase_meta\\18\\219284\\Satellite_18_219284_141817.meta\n",
      "C:\\Users\\AISG\\Documents\\Jonas\\Real_World_Test_DataBase_meta\\18\\219284\\Satellite_18_219284_141818.meta\n",
      "C:\\Users\\AISG\\Documents\\Jonas\\Real_World_Test_DataBase_meta\\18\\219284\\Satellite_18_219284_141819.meta\n",
      "C:\\Users\\AISG\\Documents\\Jonas\\Real_World_Test_DataBase_meta\\18\\219284\\Satellite_18_219284_141820.meta\n",
      "C:\\Users\\AISG\\Documents\\Jonas\\Real_World_Test_DataBase_meta\\18\\219284\\Satellite_18_219284_141821.meta\n",
      "C:\\Users\\AISG\\Documents\\Jonas\\Real_World_Test_DataBase_meta\\18\\219284\\Satellite_18_219284_141822.meta\n",
      "C:\\Users\\AISG\\Documents\\Jonas\\Real_World_Test_DataBase_meta\\18\\219284\\Satellite_18_219284_141823.meta\n",
      "C:\\Users\\AISG\\Documents\\Jonas\\Real_World_Test_DataBase_meta\\18\\219284\\Satellite_18_219284_141824.meta\n",
      "C:\\Users\\AISG\\Documents\\Jonas\\Real_World_Test_DataBase_meta\\18\\219284\\Satellite_18_219284_141825.meta\n",
      "C:\\Users\\AISG\\Documents\\Jonas\\Real_World_Test_DataBase_meta\\18\\219284\\Satellite_18_219284_141826.meta\n",
      "C:\\Users\\AISG\\Documents\\Jonas\\Real_World_Test_DataBase_meta\\18\\219284\\Satellite_18_219284_141827.meta\n",
      "C:\\Users\\AISG\\Documents\\Jonas\\Real_World_Test_DataBase_meta\\18\\219284\\Satellite_18_219284_141828.meta\n",
      "C:\\Users\\AISG\\Documents\\Jonas\\Real_World_Test_DataBase_meta\\18\\219284\\Satellite_18_219284_141829.meta\n",
      "C:\\Users\\AISG\\Documents\\Jonas\\Real_World_Test_DataBase_meta\\18\\219284\\Satellite_18_219284_141830.meta\n"
     ]
    },
    {
     "name": "stderr",
     "output_type": "stream",
     "text": [
      " 71%|██████████████████████████████████████████████████████▎                      | 1556/2206 [00:04<00:01, 376.49it/s]"
     ]
    },
    {
     "name": "stdout",
     "output_type": "stream",
     "text": [
      "C:\\Users\\AISG\\Documents\\Jonas\\Real_World_Test_DataBase_meta\\18\\219284\\Satellite_18_219284_141831.meta\n",
      "C:\\Users\\AISG\\Documents\\Jonas\\Real_World_Test_DataBase_meta\\18\\219284\\Satellite_18_219284_141832.meta\n",
      "C:\\Users\\AISG\\Documents\\Jonas\\Real_World_Test_DataBase_meta\\18\\219284\\Satellite_18_219284_141833.meta\n",
      "C:\\Users\\AISG\\Documents\\Jonas\\Real_World_Test_DataBase_meta\\18\\219284\\Satellite_18_219284_141834.meta\n",
      "C:\\Users\\AISG\\Documents\\Jonas\\Real_World_Test_DataBase_meta\\18\\219284\\Satellite_18_219284_141835.meta\n",
      "C:\\Users\\AISG\\Documents\\Jonas\\Real_World_Test_DataBase_meta\\18\\219284\\Satellite_18_219284_141836.meta\n",
      "C:\\Users\\AISG\\Documents\\Jonas\\Real_World_Test_DataBase_meta\\18\\219284\\Satellite_18_219284_141837.meta\n",
      "C:\\Users\\AISG\\Documents\\Jonas\\Real_World_Test_DataBase_meta\\18\\219284\\Satellite_18_219284_141838.meta\n",
      "C:\\Users\\AISG\\Documents\\Jonas\\Real_World_Test_DataBase_meta\\18\\219284\\Satellite_18_219284_141839.meta\n",
      "C:\\Users\\AISG\\Documents\\Jonas\\Real_World_Test_DataBase_meta\\18\\219284\\Satellite_18_219284_141840.meta\n",
      "C:\\Users\\AISG\\Documents\\Jonas\\Real_World_Test_DataBase_meta\\18\\219284\\Satellite_18_219284_141841.meta\n",
      "C:\\Users\\AISG\\Documents\\Jonas\\Real_World_Test_DataBase_meta\\18\\219284\\Satellite_18_219284_141842.meta\n",
      "C:\\Users\\AISG\\Documents\\Jonas\\Real_World_Test_DataBase_meta\\18\\219284\\Satellite_18_219284_141843.meta\n",
      "C:\\Users\\AISG\\Documents\\Jonas\\Real_World_Test_DataBase_meta\\18\\219284\\Satellite_18_219284_141844.meta\n",
      "C:\\Users\\AISG\\Documents\\Jonas\\Real_World_Test_DataBase_meta\\18\\219284\\Satellite_18_219284_141845.meta\n",
      "C:\\Users\\AISG\\Documents\\Jonas\\Real_World_Test_DataBase_meta\\18\\219284\\Satellite_18_219284_141846.meta\n",
      "C:\\Users\\AISG\\Documents\\Jonas\\Real_World_Test_DataBase_meta\\18\\219284\\Satellite_18_219284_141847.meta\n",
      "C:\\Users\\AISG\\Documents\\Jonas\\Real_World_Test_DataBase_meta\\18\\219284\\Satellite_18_219284_141848.meta\n",
      "C:\\Users\\AISG\\Documents\\Jonas\\Real_World_Test_DataBase_meta\\18\\219284\\Satellite_18_219284_141849.meta\n",
      "C:\\Users\\AISG\\Documents\\Jonas\\Real_World_Test_DataBase_meta\\18\\219284\\Satellite_18_219284_141850.meta\n",
      "C:\\Users\\AISG\\Documents\\Jonas\\Real_World_Test_DataBase_meta\\18\\219284\\Satellite_18_219284_141851.meta\n",
      "C:\\Users\\AISG\\Documents\\Jonas\\Real_World_Test_DataBase_meta\\18\\219284\\Satellite_18_219284_141852.meta\n",
      "C:\\Users\\AISG\\Documents\\Jonas\\Real_World_Test_DataBase_meta\\18\\219284\\Satellite_18_219284_141853.meta\n",
      "C:\\Users\\AISG\\Documents\\Jonas\\Real_World_Test_DataBase_meta\\18\\219284\\Satellite_18_219284_141854.meta\n",
      "C:\\Users\\AISG\\Documents\\Jonas\\Real_World_Test_DataBase_meta\\18\\219284\\Satellite_18_219284_141855.meta\n",
      "C:\\Users\\AISG\\Documents\\Jonas\\Real_World_Test_DataBase_meta\\18\\219284\\Satellite_18_219284_141856.meta\n",
      "C:\\Users\\AISG\\Documents\\Jonas\\Real_World_Test_DataBase_meta\\18\\219284\\Satellite_18_219284_141857.meta\n",
      "C:\\Users\\AISG\\Documents\\Jonas\\Real_World_Test_DataBase_meta\\18\\219284\\Satellite_18_219284_141858.meta\n",
      "C:\\Users\\AISG\\Documents\\Jonas\\Real_World_Test_DataBase_meta\\18\\219284\\Satellite_18_219284_141859.meta\n",
      "C:\\Users\\AISG\\Documents\\Jonas\\Real_World_Test_DataBase_meta\\18\\219284\\Satellite_18_219284_141860.meta\n",
      "C:\\Users\\AISG\\Documents\\Jonas\\Real_World_Test_DataBase_meta\\18\\219284\\Satellite_18_219284_141861.meta\n",
      "C:\\Users\\AISG\\Documents\\Jonas\\Real_World_Test_DataBase_meta\\18\\219284\\Satellite_18_219284_141862.meta\n",
      "C:\\Users\\AISG\\Documents\\Jonas\\Real_World_Test_DataBase_meta\\18\\219284\\Satellite_18_219284_141863.meta\n",
      "C:\\Users\\AISG\\Documents\\Jonas\\Real_World_Test_DataBase_meta\\18\\219284\\Satellite_18_219284_141864.meta\n",
      "C:\\Users\\AISG\\Documents\\Jonas\\Real_World_Test_DataBase_meta\\18\\219284\\Satellite_18_219284_141865.meta\n",
      "C:\\Users\\AISG\\Documents\\Jonas\\Real_World_Test_DataBase_meta\\18\\219284\\Satellite_18_219284_141866.meta\n",
      "C:\\Users\\AISG\\Documents\\Jonas\\Real_World_Test_DataBase_meta\\18\\219284\\Satellite_18_219284_141867.meta\n",
      "C:\\Users\\AISG\\Documents\\Jonas\\Real_World_Test_DataBase_meta\\18\\219284\\Satellite_18_219284_141868.meta\n",
      "C:\\Users\\AISG\\Documents\\Jonas\\Real_World_Test_DataBase_meta\\18\\219284\\Satellite_18_219284_141869.meta\n",
      "C:\\Users\\AISG\\Documents\\Jonas\\Real_World_Test_DataBase_meta\\18\\219284\\Satellite_18_219284_141870.meta\n",
      "C:\\Users\\AISG\\Documents\\Jonas\\Real_World_Test_DataBase_meta\\18\\219284\\Satellite_18_219284_141871.meta\n",
      "C:\\Users\\AISG\\Documents\\Jonas\\Real_World_Test_DataBase_meta\\18\\219284\\Satellite_18_219284_141872.meta\n",
      "C:\\Users\\AISG\\Documents\\Jonas\\Real_World_Test_DataBase_meta\\18\\219284\\Satellite_18_219284_141873.meta\n",
      "C:\\Users\\AISG\\Documents\\Jonas\\Real_World_Test_DataBase_meta\\18\\219284\\Satellite_18_219284_141874.meta\n",
      "C:\\Users\\AISG\\Documents\\Jonas\\Real_World_Test_DataBase_meta\\18\\219284\\Satellite_18_219284_141875.meta\n",
      "C:\\Users\\AISG\\Documents\\Jonas\\Real_World_Test_DataBase_meta\\18\\219284\\Satellite_18_219284_141876.meta\n",
      "C:\\Users\\AISG\\Documents\\Jonas\\Real_World_Test_DataBase_meta\\18\\219284\\Satellite_18_219284_141877.meta\n",
      "C:\\Users\\AISG\\Documents\\Jonas\\Real_World_Test_DataBase_meta\\18\\219284\\Satellite_18_219284_141878.meta\n",
      "C:\\Users\\AISG\\Documents\\Jonas\\Real_World_Test_DataBase_meta\\18\\219284\\Satellite_18_219284_141879.meta\n",
      "C:\\Users\\AISG\\Documents\\Jonas\\Real_World_Test_DataBase_meta\\18\\219284\\Satellite_18_219284_141880.meta\n",
      "C:\\Users\\AISG\\Documents\\Jonas\\Real_World_Test_DataBase_meta\\18\\219284\\Satellite_18_219284_141881.meta\n",
      "C:\\Users\\AISG\\Documents\\Jonas\\Real_World_Test_DataBase_meta\\18\\219284\\Satellite_18_219284_141882.meta\n",
      "C:\\Users\\AISG\\Documents\\Jonas\\Real_World_Test_DataBase_meta\\18\\219284\\Satellite_18_219284_141883.meta\n",
      "C:\\Users\\AISG\\Documents\\Jonas\\Real_World_Test_DataBase_meta\\18\\219284\\Satellite_18_219284_141884.meta\n",
      "C:\\Users\\AISG\\Documents\\Jonas\\Real_World_Test_DataBase_meta\\18\\219284\\Satellite_18_219284_141885.meta\n",
      "C:\\Users\\AISG\\Documents\\Jonas\\Real_World_Test_DataBase_meta\\18\\219284\\Satellite_18_219284_141886.meta\n",
      "C:\\Users\\AISG\\Documents\\Jonas\\Real_World_Test_DataBase_meta\\18\\219284\\Satellite_18_219284_141887.meta\n",
      "C:\\Users\\AISG\\Documents\\Jonas\\Real_World_Test_DataBase_meta\\18\\219284\\Satellite_18_219284_141888.meta\n",
      "C:\\Users\\AISG\\Documents\\Jonas\\Real_World_Test_DataBase_meta\\18\\219284\\Satellite_18_219284_141889.meta\n",
      "C:\\Users\\AISG\\Documents\\Jonas\\Real_World_Test_DataBase_meta\\18\\219284\\Satellite_18_219284_141890.meta\n",
      "C:\\Users\\AISG\\Documents\\Jonas\\Real_World_Test_DataBase_meta\\18\\219284\\Satellite_18_219284_141891.meta\n",
      "C:\\Users\\AISG\\Documents\\Jonas\\Real_World_Test_DataBase_meta\\18\\219284\\Satellite_18_219284_141892.meta\n",
      "C:\\Users\\AISG\\Documents\\Jonas\\Real_World_Test_DataBase_meta\\18\\219284\\Satellite_18_219284_141893.meta\n",
      "C:\\Users\\AISG\\Documents\\Jonas\\Real_World_Test_DataBase_meta\\18\\219284\\Satellite_18_219284_141894.meta\n",
      "C:\\Users\\AISG\\Documents\\Jonas\\Real_World_Test_DataBase_meta\\18\\219284\\Satellite_18_219284_141895.meta\n",
      "C:\\Users\\AISG\\Documents\\Jonas\\Real_World_Test_DataBase_meta\\18\\219284\\Satellite_18_219284_141896.meta\n",
      "C:\\Users\\AISG\\Documents\\Jonas\\Real_World_Test_DataBase_meta\\18\\219284\\Satellite_18_219284_141897.meta\n",
      "C:\\Users\\AISG\\Documents\\Jonas\\Real_World_Test_DataBase_meta\\18\\219284\\Satellite_18_219284_141898.meta\n",
      "C:\\Users\\AISG\\Documents\\Jonas\\Real_World_Test_DataBase_meta\\18\\219284\\Satellite_18_219284_141899.meta\n",
      "C:\\Users\\AISG\\Documents\\Jonas\\Real_World_Test_DataBase_meta\\18\\219284\\Satellite_18_219284_141900.meta\n"
     ]
    },
    {
     "name": "stderr",
     "output_type": "stream",
     "text": [
      " 74%|████████████████████████████████████████████████████████▉                    | 1632/2206 [00:04<00:01, 376.09it/s]"
     ]
    },
    {
     "name": "stdout",
     "output_type": "stream",
     "text": [
      "C:\\Users\\AISG\\Documents\\Jonas\\Real_World_Test_DataBase_meta\\18\\219284\\Satellite_18_219284_141901.meta\n",
      "C:\\Users\\AISG\\Documents\\Jonas\\Real_World_Test_DataBase_meta\\18\\219284\\Satellite_18_219284_141902.meta\n",
      "C:\\Users\\AISG\\Documents\\Jonas\\Real_World_Test_DataBase_meta\\18\\219284\\Satellite_18_219284_141903.meta\n",
      "C:\\Users\\AISG\\Documents\\Jonas\\Real_World_Test_DataBase_meta\\18\\219284\\Satellite_18_219284_141904.meta\n",
      "C:\\Users\\AISG\\Documents\\Jonas\\Real_World_Test_DataBase_meta\\18\\219284\\Satellite_18_219284_141905.meta\n",
      "C:\\Users\\AISG\\Documents\\Jonas\\Real_World_Test_DataBase_meta\\18\\219284\\Satellite_18_219284_141906.meta\n",
      "C:\\Users\\AISG\\Documents\\Jonas\\Real_World_Test_DataBase_meta\\18\\219284\\Satellite_18_219284_141907.meta\n",
      "C:\\Users\\AISG\\Documents\\Jonas\\Real_World_Test_DataBase_meta\\18\\219284\\Satellite_18_219284_141908.meta\n",
      "C:\\Users\\AISG\\Documents\\Jonas\\Real_World_Test_DataBase_meta\\18\\219284\\Satellite_18_219284_141909.meta\n",
      "C:\\Users\\AISG\\Documents\\Jonas\\Real_World_Test_DataBase_meta\\18\\219284\\Satellite_18_219284_141910.meta\n",
      "C:\\Users\\AISG\\Documents\\Jonas\\Real_World_Test_DataBase_meta\\18\\219284\\Satellite_18_219284_141911.meta\n",
      "C:\\Users\\AISG\\Documents\\Jonas\\Real_World_Test_DataBase_meta\\18\\219284\\Satellite_18_219284_141912.meta\n",
      "C:\\Users\\AISG\\Documents\\Jonas\\Real_World_Test_DataBase_meta\\18\\219284\\Satellite_18_219284_141913.meta\n",
      "C:\\Users\\AISG\\Documents\\Jonas\\Real_World_Test_DataBase_meta\\18\\219284\\Satellite_18_219284_141914.meta\n",
      "C:\\Users\\AISG\\Documents\\Jonas\\Real_World_Test_DataBase_meta\\18\\219284\\Satellite_18_219284_141915.meta\n",
      "C:\\Users\\AISG\\Documents\\Jonas\\Real_World_Test_DataBase_meta\\18\\219284\\Satellite_18_219284_141916.meta\n",
      "C:\\Users\\AISG\\Documents\\Jonas\\Real_World_Test_DataBase_meta\\18\\219284\\Satellite_18_219284_141917.meta\n",
      "C:\\Users\\AISG\\Documents\\Jonas\\Real_World_Test_DataBase_meta\\18\\219284\\Satellite_18_219284_141918.meta\n",
      "C:\\Users\\AISG\\Documents\\Jonas\\Real_World_Test_DataBase_meta\\18\\219284\\Satellite_18_219284_141919.meta\n",
      "C:\\Users\\AISG\\Documents\\Jonas\\Real_World_Test_DataBase_meta\\18\\219284\\Satellite_18_219284_141920.meta\n",
      "C:\\Users\\AISG\\Documents\\Jonas\\Real_World_Test_DataBase_meta\\18\\219284\\Satellite_18_219284_141921.meta\n",
      "C:\\Users\\AISG\\Documents\\Jonas\\Real_World_Test_DataBase_meta\\18\\219284\\Satellite_18_219284_141922.meta\n",
      "C:\\Users\\AISG\\Documents\\Jonas\\Real_World_Test_DataBase_meta\\18\\219284\\Satellite_18_219284_141923.meta\n",
      "C:\\Users\\AISG\\Documents\\Jonas\\Real_World_Test_DataBase_meta\\18\\219284\\Satellite_18_219284_141924.meta\n",
      "C:\\Users\\AISG\\Documents\\Jonas\\Real_World_Test_DataBase_meta\\18\\219284\\Satellite_18_219284_141925.meta\n",
      "C:\\Users\\AISG\\Documents\\Jonas\\Real_World_Test_DataBase_meta\\18\\219284\\Satellite_18_219284_141926.meta\n",
      "C:\\Users\\AISG\\Documents\\Jonas\\Real_World_Test_DataBase_meta\\18\\219284\\Satellite_18_219284_141927.meta\n",
      "C:\\Users\\AISG\\Documents\\Jonas\\Real_World_Test_DataBase_meta\\18\\219284\\Satellite_18_219284_141928.meta\n",
      "C:\\Users\\AISG\\Documents\\Jonas\\Real_World_Test_DataBase_meta\\18\\219284\\Satellite_18_219284_141929.meta\n",
      "C:\\Users\\AISG\\Documents\\Jonas\\Real_World_Test_DataBase_meta\\18\\219284\\Satellite_18_219284_141930.meta\n",
      "C:\\Users\\AISG\\Documents\\Jonas\\Real_World_Test_DataBase_meta\\18\\219284\\Satellite_18_219284_141931.meta\n",
      "C:\\Users\\AISG\\Documents\\Jonas\\Real_World_Test_DataBase_meta\\18\\219284\\Satellite_18_219284_141932.meta\n",
      "C:\\Users\\AISG\\Documents\\Jonas\\Real_World_Test_DataBase_meta\\18\\219284\\Satellite_18_219284_141936.meta\n",
      "C:\\Users\\AISG\\Documents\\Jonas\\Real_World_Test_DataBase_meta\\18\\219284\\Satellite_18_219284_141937.meta\n",
      "C:\\Users\\AISG\\Documents\\Jonas\\Real_World_Test_DataBase_meta\\18\\219284\\Satellite_18_219284_141938.meta\n",
      "C:\\Users\\AISG\\Documents\\Jonas\\Real_World_Test_DataBase_meta\\18\\219284\\Satellite_18_219284_141939.meta\n",
      "C:\\Users\\AISG\\Documents\\Jonas\\Real_World_Test_DataBase_meta\\18\\219284\\Satellite_18_219284_141940.meta\n",
      "C:\\Users\\AISG\\Documents\\Jonas\\Real_World_Test_DataBase_meta\\18\\219284\\Satellite_18_219284_141941.meta\n",
      "C:\\Users\\AISG\\Documents\\Jonas\\Real_World_Test_DataBase_meta\\18\\219284\\Satellite_18_219284_141942.meta\n",
      "C:\\Users\\AISG\\Documents\\Jonas\\Real_World_Test_DataBase_meta\\18\\219284\\Satellite_18_219284_141943.meta\n",
      "C:\\Users\\AISG\\Documents\\Jonas\\Real_World_Test_DataBase_meta\\18\\219284\\Satellite_18_219284_141944.meta\n",
      "C:\\Users\\AISG\\Documents\\Jonas\\Real_World_Test_DataBase_meta\\18\\219284\\Satellite_18_219284_141945.meta\n",
      "C:\\Users\\AISG\\Documents\\Jonas\\Real_World_Test_DataBase_meta\\18\\219284\\Satellite_18_219284_141946.meta\n",
      "C:\\Users\\AISG\\Documents\\Jonas\\Real_World_Test_DataBase_meta\\18\\219284\\Satellite_18_219284_141947.meta\n",
      "C:\\Users\\AISG\\Documents\\Jonas\\Real_World_Test_DataBase_meta\\18\\219284\\Satellite_18_219284_141948.meta\n",
      "C:\\Users\\AISG\\Documents\\Jonas\\Real_World_Test_DataBase_meta\\18\\219284\\Satellite_18_219284_141949.meta\n",
      "C:\\Users\\AISG\\Documents\\Jonas\\Real_World_Test_DataBase_meta\\18\\219284\\Satellite_18_219284_141950.meta\n",
      "C:\\Users\\AISG\\Documents\\Jonas\\Real_World_Test_DataBase_meta\\18\\219284\\Satellite_18_219284_141951.meta\n",
      "C:\\Users\\AISG\\Documents\\Jonas\\Real_World_Test_DataBase_meta\\18\\219284\\Satellite_18_219284_141952.meta\n",
      "C:\\Users\\AISG\\Documents\\Jonas\\Real_World_Test_DataBase_meta\\18\\219284\\Satellite_18_219284_141953.meta\n",
      "C:\\Users\\AISG\\Documents\\Jonas\\Real_World_Test_DataBase_meta\\18\\219284\\Satellite_18_219284_141954.meta\n",
      "C:\\Users\\AISG\\Documents\\Jonas\\Real_World_Test_DataBase_meta\\18\\219284\\Satellite_18_219284_141955.meta\n",
      "C:\\Users\\AISG\\Documents\\Jonas\\Real_World_Test_DataBase_meta\\18\\219284\\Satellite_18_219284_141956.meta\n",
      "C:\\Users\\AISG\\Documents\\Jonas\\Real_World_Test_DataBase_meta\\18\\219284\\Satellite_18_219284_141957.meta\n",
      "C:\\Users\\AISG\\Documents\\Jonas\\Real_World_Test_DataBase_meta\\18\\219284\\Satellite_18_219284_141958.meta\n",
      "C:\\Users\\AISG\\Documents\\Jonas\\Real_World_Test_DataBase_meta\\18\\219284\\Satellite_18_219284_141959.meta\n",
      "C:\\Users\\AISG\\Documents\\Jonas\\Real_World_Test_DataBase_meta\\18\\219284\\Satellite_18_219284_141960.meta\n",
      "C:\\Users\\AISG\\Documents\\Jonas\\Real_World_Test_DataBase_meta\\18\\219284\\Satellite_18_219284_141961.meta\n",
      "C:\\Users\\AISG\\Documents\\Jonas\\Real_World_Test_DataBase_meta\\18\\219284\\Satellite_18_219284_141962.meta\n",
      "C:\\Users\\AISG\\Documents\\Jonas\\Real_World_Test_DataBase_meta\\18\\219284\\Satellite_18_219284_141963.meta\n",
      "C:\\Users\\AISG\\Documents\\Jonas\\Real_World_Test_DataBase_meta\\18\\219284\\Satellite_18_219284_141964.meta\n",
      "C:\\Users\\AISG\\Documents\\Jonas\\Real_World_Test_DataBase_meta\\18\\219284\\Satellite_18_219284_141965.meta\n",
      "C:\\Users\\AISG\\Documents\\Jonas\\Real_World_Test_DataBase_meta\\18\\219284\\Satellite_18_219284_141966.meta\n",
      "C:\\Users\\AISG\\Documents\\Jonas\\Real_World_Test_DataBase_meta\\18\\219284\\Satellite_18_219284_141967.meta\n",
      "C:\\Users\\AISG\\Documents\\Jonas\\Real_World_Test_DataBase_meta\\18\\219284\\Satellite_18_219284_141968.meta\n",
      "C:\\Users\\AISG\\Documents\\Jonas\\Real_World_Test_DataBase_meta\\18\\219284\\Satellite_18_219284_141969.meta\n",
      "C:\\Users\\AISG\\Documents\\Jonas\\Real_World_Test_DataBase_meta\\18\\219284\\Satellite_18_219284_141970.meta\n",
      "C:\\Users\\AISG\\Documents\\Jonas\\Real_World_Test_DataBase_meta\\18\\219284\\Satellite_18_219284_141971.meta\n",
      "C:\\Users\\AISG\\Documents\\Jonas\\Real_World_Test_DataBase_meta\\18\\219284\\Satellite_18_219284_141972.meta\n",
      "C:\\Users\\AISG\\Documents\\Jonas\\Real_World_Test_DataBase_meta\\18\\219284\\Satellite_18_219284_141973.meta\n"
     ]
    },
    {
     "name": "stderr",
     "output_type": "stream",
     "text": [
      "\r",
      " 76%|██████████████████████████████████████████████████████████▎                  | 1670/2206 [00:04<00:01, 376.46it/s]"
     ]
    },
    {
     "name": "stdout",
     "output_type": "stream",
     "text": [
      "C:\\Users\\AISG\\Documents\\Jonas\\Real_World_Test_DataBase_meta\\18\\219284\\Satellite_18_219284_141974.meta\n",
      "C:\\Users\\AISG\\Documents\\Jonas\\Real_World_Test_DataBase_meta\\18\\219284\\Satellite_18_219284_141975.meta\n",
      "C:\\Users\\AISG\\Documents\\Jonas\\Real_World_Test_DataBase_meta\\18\\219284\\Satellite_18_219284_141976.meta\n",
      "C:\\Users\\AISG\\Documents\\Jonas\\Real_World_Test_DataBase_meta\\18\\219284\\Satellite_18_219284_141977.meta\n",
      "C:\\Users\\AISG\\Documents\\Jonas\\Real_World_Test_DataBase_meta\\18\\219284\\Satellite_18_219284_141978.meta\n",
      "C:\\Users\\AISG\\Documents\\Jonas\\Real_World_Test_DataBase_meta\\18\\219284\\Satellite_18_219284_141979.meta\n",
      "C:\\Users\\AISG\\Documents\\Jonas\\Real_World_Test_DataBase_meta\\18\\219284\\Satellite_18_219284_141980.meta\n",
      "C:\\Users\\AISG\\Documents\\Jonas\\Real_World_Test_DataBase_meta\\18\\219284\\Satellite_18_219284_141981.meta\n",
      "C:\\Users\\AISG\\Documents\\Jonas\\Real_World_Test_DataBase_meta\\18\\219284\\Satellite_18_219284_141982.meta\n",
      "C:\\Users\\AISG\\Documents\\Jonas\\Real_World_Test_DataBase_meta\\18\\219284\\Satellite_18_219284_141983.meta\n",
      "C:\\Users\\AISG\\Documents\\Jonas\\Real_World_Test_DataBase_meta\\18\\219284\\Satellite_18_219284_141984.meta\n",
      "C:\\Users\\AISG\\Documents\\Jonas\\Real_World_Test_DataBase_meta\\18\\219284\\Satellite_18_219284_141985.meta\n",
      "C:\\Users\\AISG\\Documents\\Jonas\\Real_World_Test_DataBase_meta\\18\\219284\\Satellite_18_219284_141986.meta\n",
      "C:\\Users\\AISG\\Documents\\Jonas\\Real_World_Test_DataBase_meta\\18\\219284\\Satellite_18_219284_141987.meta\n",
      "C:\\Users\\AISG\\Documents\\Jonas\\Real_World_Test_DataBase_meta\\18\\219284\\Satellite_18_219284_141988.meta\n",
      "C:\\Users\\AISG\\Documents\\Jonas\\Real_World_Test_DataBase_meta\\18\\219284\\Satellite_18_219284_141989.meta\n",
      "C:\\Users\\AISG\\Documents\\Jonas\\Real_World_Test_DataBase_meta\\18\\219284\\Satellite_18_219284_141990.meta\n",
      "C:\\Users\\AISG\\Documents\\Jonas\\Real_World_Test_DataBase_meta\\18\\219284\\Satellite_18_219284_141991.meta\n",
      "C:\\Users\\AISG\\Documents\\Jonas\\Real_World_Test_DataBase_meta\\18\\219284\\Satellite_18_219284_141992.meta\n",
      "C:\\Users\\AISG\\Documents\\Jonas\\Real_World_Test_DataBase_meta\\18\\219284\\Satellite_18_219284_141993.meta\n",
      "C:\\Users\\AISG\\Documents\\Jonas\\Real_World_Test_DataBase_meta\\18\\219284\\Satellite_18_219284_141994.meta\n",
      "C:\\Users\\AISG\\Documents\\Jonas\\Real_World_Test_DataBase_meta\\18\\219284\\Satellite_18_219284_141995.meta\n",
      "C:\\Users\\AISG\\Documents\\Jonas\\Real_World_Test_DataBase_meta\\18\\219284\\Satellite_18_219284_141996.meta\n",
      "C:\\Users\\AISG\\Documents\\Jonas\\Real_World_Test_DataBase_meta\\18\\219284\\Satellite_18_219284_141997.meta\n",
      "C:\\Users\\AISG\\Documents\\Jonas\\Real_World_Test_DataBase_meta\\18\\219284\\Satellite_18_219284_141998.meta\n",
      "C:\\Users\\AISG\\Documents\\Jonas\\Real_World_Test_DataBase_meta\\18\\219284\\Satellite_18_219284_141999.meta\n",
      "C:\\Users\\AISG\\Documents\\Jonas\\Real_World_Test_DataBase_meta\\18\\219284\\Satellite_18_219284_142000.meta\n",
      "C:\\Users\\AISG\\Documents\\Jonas\\Real_World_Test_DataBase_meta\\18\\219284\\Satellite_18_219284_142001.meta\n",
      "C:\\Users\\AISG\\Documents\\Jonas\\Real_World_Test_DataBase_meta\\18\\219284\\Satellite_18_219284_142002.meta\n",
      "C:\\Users\\AISG\\Documents\\Jonas\\Real_World_Test_DataBase_meta\\18\\219284\\Satellite_18_219284_142003.meta\n",
      "C:\\Users\\AISG\\Documents\\Jonas\\Real_World_Test_DataBase_meta\\18\\219284\\Satellite_18_219284_142004.meta\n",
      "C:\\Users\\AISG\\Documents\\Jonas\\Real_World_Test_DataBase_meta\\18\\219284\\Satellite_18_219284_142005.meta\n",
      "C:\\Users\\AISG\\Documents\\Jonas\\Real_World_Test_DataBase_meta\\18\\219284\\Satellite_18_219284_142006.meta\n",
      "C:\\Users\\AISG\\Documents\\Jonas\\Real_World_Test_DataBase_meta\\18\\219284\\Satellite_18_219284_142007.meta\n",
      "C:\\Users\\AISG\\Documents\\Jonas\\Real_World_Test_DataBase_meta\\18\\219284\\Satellite_18_219284_142008.meta\n",
      "C:\\Users\\AISG\\Documents\\Jonas\\Real_World_Test_DataBase_meta\\18\\219284\\Satellite_18_219284_142009.meta\n",
      "C:\\Users\\AISG\\Documents\\Jonas\\Real_World_Test_DataBase_meta\\18\\219284\\Satellite_18_219284_142010.meta\n",
      "C:\\Users\\AISG\\Documents\\Jonas\\Real_World_Test_DataBase_meta\\18\\219284\\Satellite_18_219284_142011.meta\n",
      "C:\\Users\\AISG\\Documents\\Jonas\\Real_World_Test_DataBase_meta\\18\\219284\\Satellite_18_219284_142012.meta\n",
      "C:\\Users\\AISG\\Documents\\Jonas\\Real_World_Test_DataBase_meta\\18\\219284\\Satellite_18_219284_142013.meta\n",
      "C:\\Users\\AISG\\Documents\\Jonas\\Real_World_Test_DataBase_meta\\18\\219284\\Satellite_18_219284_142014.meta\n",
      "C:\\Users\\AISG\\Documents\\Jonas\\Real_World_Test_DataBase_meta\\18\\219284\\Satellite_18_219284_142015.meta\n",
      "C:\\Users\\AISG\\Documents\\Jonas\\Real_World_Test_DataBase_meta\\18\\219284\\Satellite_18_219284_142016.meta\n",
      "C:\\Users\\AISG\\Documents\\Jonas\\Real_World_Test_DataBase_meta\\18\\219284\\Satellite_18_219284_142017.meta\n",
      "C:\\Users\\AISG\\Documents\\Jonas\\Real_World_Test_DataBase_meta\\18\\219284\\Satellite_18_219284_142018.meta\n",
      "C:\\Users\\AISG\\Documents\\Jonas\\Real_World_Test_DataBase_meta\\18\\219284\\Satellite_18_219284_142019.meta\n",
      "C:\\Users\\AISG\\Documents\\Jonas\\Real_World_Test_DataBase_meta\\18\\219284\\Satellite_18_219284_142020.meta\n",
      "C:\\Users\\AISG\\Documents\\Jonas\\Real_World_Test_DataBase_meta\\18\\219284\\Satellite_18_219284_142021.meta\n",
      "C:\\Users\\AISG\\Documents\\Jonas\\Real_World_Test_DataBase_meta\\18\\219284\\Satellite_18_219284_142022.meta\n",
      "C:\\Users\\AISG\\Documents\\Jonas\\Real_World_Test_DataBase_meta\\18\\219284\\Satellite_18_219284_142023.meta\n",
      "C:\\Users\\AISG\\Documents\\Jonas\\Real_World_Test_DataBase_meta\\18\\219284\\Satellite_18_219284_142024.meta\n",
      "C:\\Users\\AISG\\Documents\\Jonas\\Real_World_Test_DataBase_meta\\18\\219284\\Satellite_18_219284_142025.meta\n",
      "C:\\Users\\AISG\\Documents\\Jonas\\Real_World_Test_DataBase_meta\\18\\219284\\Satellite_18_219284_142026.meta\n",
      "C:\\Users\\AISG\\Documents\\Jonas\\Real_World_Test_DataBase_meta\\18\\219284\\Satellite_18_219284_142027.meta\n",
      "C:\\Users\\AISG\\Documents\\Jonas\\Real_World_Test_DataBase_meta\\18\\219284\\Satellite_18_219284_142028.meta\n",
      "C:\\Users\\AISG\\Documents\\Jonas\\Real_World_Test_DataBase_meta\\18\\219284\\Satellite_18_219284_142029.meta\n",
      "C:\\Users\\AISG\\Documents\\Jonas\\Real_World_Test_DataBase_meta\\18\\219284\\Satellite_18_219284_142030.meta\n",
      "C:\\Users\\AISG\\Documents\\Jonas\\Real_World_Test_DataBase_meta\\18\\219284\\Satellite_18_219284_142031.meta\n",
      "C:\\Users\\AISG\\Documents\\Jonas\\Real_World_Test_DataBase_meta\\18\\219284\\Satellite_18_219284_142032.meta\n",
      "C:\\Users\\AISG\\Documents\\Jonas\\Real_World_Test_DataBase_meta\\18\\219284\\Satellite_18_219284_142033.meta\n",
      "C:\\Users\\AISG\\Documents\\Jonas\\Real_World_Test_DataBase_meta\\18\\219284\\Satellite_18_219284_142034.meta\n",
      "C:\\Users\\AISG\\Documents\\Jonas\\Real_World_Test_DataBase_meta\\18\\219284\\Satellite_18_219284_142035.meta\n",
      "C:\\Users\\AISG\\Documents\\Jonas\\Real_World_Test_DataBase_meta\\18\\219284\\Satellite_18_219284_142036.meta\n",
      "C:\\Users\\AISG\\Documents\\Jonas\\Real_World_Test_DataBase_meta\\18\\219284\\Satellite_18_219284_142037.meta\n",
      "C:\\Users\\AISG\\Documents\\Jonas\\Real_World_Test_DataBase_meta\\18\\219284\\Satellite_18_219284_142038.meta\n",
      "C:\\Users\\AISG\\Documents\\Jonas\\Real_World_Test_DataBase_meta\\18\\219284\\Satellite_18_219284_142039.meta\n",
      "C:\\Users\\AISG\\Documents\\Jonas\\Real_World_Test_DataBase_meta\\18\\219284\\Satellite_18_219284_142040.meta\n",
      "C:\\Users\\AISG\\Documents\\Jonas\\Real_World_Test_DataBase_meta\\18\\219284\\Satellite_18_219284_142041.meta\n",
      "C:\\Users\\AISG\\Documents\\Jonas\\Real_World_Test_DataBase_meta\\18\\219284\\Satellite_18_219284_142042.meta\n",
      "C:\\Users\\AISG\\Documents\\Jonas\\Real_World_Test_DataBase_meta\\18\\219284\\Satellite_18_219284_142043.meta\n"
     ]
    },
    {
     "name": "stderr",
     "output_type": "stream",
     "text": [
      " 79%|████████████████████████████████████████████████████████████▉                | 1746/2206 [00:04<00:01, 373.88it/s]"
     ]
    },
    {
     "name": "stdout",
     "output_type": "stream",
     "text": [
      "C:\\Users\\AISG\\Documents\\Jonas\\Real_World_Test_DataBase_meta\\18\\219284\\Satellite_18_219284_142044.meta\n",
      "C:\\Users\\AISG\\Documents\\Jonas\\Real_World_Test_DataBase_meta\\18\\219284\\Satellite_18_219284_142045.meta\n",
      "C:\\Users\\AISG\\Documents\\Jonas\\Real_World_Test_DataBase_meta\\18\\219284\\Satellite_18_219284_142046.meta\n",
      "C:\\Users\\AISG\\Documents\\Jonas\\Real_World_Test_DataBase_meta\\18\\219284\\Satellite_18_219284_142047.meta\n",
      "C:\\Users\\AISG\\Documents\\Jonas\\Real_World_Test_DataBase_meta\\18\\219284\\Satellite_18_219284_142048.meta\n",
      "C:\\Users\\AISG\\Documents\\Jonas\\Real_World_Test_DataBase_meta\\18\\219284\\Satellite_18_219284_142049.meta\n",
      "C:\\Users\\AISG\\Documents\\Jonas\\Real_World_Test_DataBase_meta\\18\\219284\\Satellite_18_219284_142050.meta\n",
      "C:\\Users\\AISG\\Documents\\Jonas\\Real_World_Test_DataBase_meta\\18\\219284\\Satellite_18_219284_142051.meta\n",
      "C:\\Users\\AISG\\Documents\\Jonas\\Real_World_Test_DataBase_meta\\18\\219284\\Satellite_18_219284_142052.meta\n",
      "C:\\Users\\AISG\\Documents\\Jonas\\Real_World_Test_DataBase_meta\\18\\219284\\Satellite_18_219284_142053.meta\n",
      "C:\\Users\\AISG\\Documents\\Jonas\\Real_World_Test_DataBase_meta\\18\\219284\\Satellite_18_219284_142054.meta\n",
      "C:\\Users\\AISG\\Documents\\Jonas\\Real_World_Test_DataBase_meta\\18\\219284\\Satellite_18_219284_142055.meta\n",
      "C:\\Users\\AISG\\Documents\\Jonas\\Real_World_Test_DataBase_meta\\18\\219284\\Satellite_18_219284_142056.meta\n",
      "C:\\Users\\AISG\\Documents\\Jonas\\Real_World_Test_DataBase_meta\\18\\219284\\Satellite_18_219284_142057.meta\n",
      "C:\\Users\\AISG\\Documents\\Jonas\\Real_World_Test_DataBase_meta\\18\\219284\\Satellite_18_219284_142058.meta\n",
      "C:\\Users\\AISG\\Documents\\Jonas\\Real_World_Test_DataBase_meta\\18\\219284\\Satellite_18_219284_142059.meta\n",
      "C:\\Users\\AISG\\Documents\\Jonas\\Real_World_Test_DataBase_meta\\18\\219284\\Satellite_18_219284_142060.meta\n",
      "C:\\Users\\AISG\\Documents\\Jonas\\Real_World_Test_DataBase_meta\\18\\219284\\Satellite_18_219284_142061.meta\n",
      "C:\\Users\\AISG\\Documents\\Jonas\\Real_World_Test_DataBase_meta\\18\\219284\\Satellite_18_219284_142062.meta\n",
      "C:\\Users\\AISG\\Documents\\Jonas\\Real_World_Test_DataBase_meta\\18\\219284\\Satellite_18_219284_142063.meta\n",
      "C:\\Users\\AISG\\Documents\\Jonas\\Real_World_Test_DataBase_meta\\18\\219284\\Satellite_18_219284_142064.meta\n",
      "C:\\Users\\AISG\\Documents\\Jonas\\Real_World_Test_DataBase_meta\\18\\219284\\Satellite_18_219284_142065.meta\n",
      "C:\\Users\\AISG\\Documents\\Jonas\\Real_World_Test_DataBase_meta\\18\\219284\\Satellite_18_219284_142066.meta\n",
      "C:\\Users\\AISG\\Documents\\Jonas\\Real_World_Test_DataBase_meta\\18\\219284\\Satellite_18_219284_142067.meta\n",
      "C:\\Users\\AISG\\Documents\\Jonas\\Real_World_Test_DataBase_meta\\18\\219284\\Satellite_18_219284_142068.meta\n",
      "C:\\Users\\AISG\\Documents\\Jonas\\Real_World_Test_DataBase_meta\\18\\219284\\Satellite_18_219284_142069.meta\n",
      "C:\\Users\\AISG\\Documents\\Jonas\\Real_World_Test_DataBase_meta\\18\\219284\\Satellite_18_219284_142070.meta\n",
      "C:\\Users\\AISG\\Documents\\Jonas\\Real_World_Test_DataBase_meta\\18\\219284\\Satellite_18_219284_142071.meta\n",
      "C:\\Users\\AISG\\Documents\\Jonas\\Real_World_Test_DataBase_meta\\18\\219284\\Satellite_18_219284_142072.meta\n",
      "C:\\Users\\AISG\\Documents\\Jonas\\Real_World_Test_DataBase_meta\\18\\219284\\Satellite_18_219284_142073.meta\n",
      "C:\\Users\\AISG\\Documents\\Jonas\\Real_World_Test_DataBase_meta\\18\\219284\\Satellite_18_219284_142074.meta\n",
      "C:\\Users\\AISG\\Documents\\Jonas\\Real_World_Test_DataBase_meta\\18\\219284\\Satellite_18_219284_142075.meta\n",
      "C:\\Users\\AISG\\Documents\\Jonas\\Real_World_Test_DataBase_meta\\18\\219284\\Satellite_18_219284_142076.meta\n",
      "C:\\Users\\AISG\\Documents\\Jonas\\Real_World_Test_DataBase_meta\\18\\219284\\Satellite_18_219284_142077.meta\n",
      "C:\\Users\\AISG\\Documents\\Jonas\\Real_World_Test_DataBase_meta\\18\\219284\\Satellite_18_219284_142078.meta\n",
      "C:\\Users\\AISG\\Documents\\Jonas\\Real_World_Test_DataBase_meta\\18\\219284\\Satellite_18_219284_142079.meta\n",
      "C:\\Users\\AISG\\Documents\\Jonas\\Real_World_Test_DataBase_meta\\18\\219284\\Satellite_18_219284_142080.meta\n",
      "C:\\Users\\AISG\\Documents\\Jonas\\Real_World_Test_DataBase_meta\\18\\219284\\Satellite_18_219284_142081.meta\n",
      "C:\\Users\\AISG\\Documents\\Jonas\\Real_World_Test_DataBase_meta\\18\\219284\\Satellite_18_219284_142082.meta\n",
      "C:\\Users\\AISG\\Documents\\Jonas\\Real_World_Test_DataBase_meta\\18\\219284\\Satellite_18_219284_142083.meta\n",
      "C:\\Users\\AISG\\Documents\\Jonas\\Real_World_Test_DataBase_meta\\18\\219284\\Satellite_18_219284_142084.meta\n",
      "C:\\Users\\AISG\\Documents\\Jonas\\Real_World_Test_DataBase_meta\\18\\219284\\Satellite_18_219284_142085.meta\n",
      "C:\\Users\\AISG\\Documents\\Jonas\\Real_World_Test_DataBase_meta\\18\\219284\\Satellite_18_219284_142086.meta\n",
      "C:\\Users\\AISG\\Documents\\Jonas\\Real_World_Test_DataBase_meta\\18\\219284\\Satellite_18_219284_142087.meta\n",
      "C:\\Users\\AISG\\Documents\\Jonas\\Real_World_Test_DataBase_meta\\18\\219284\\Satellite_18_219284_142088.meta\n",
      "C:\\Users\\AISG\\Documents\\Jonas\\Real_World_Test_DataBase_meta\\18\\219284\\Satellite_18_219284_142089.meta\n",
      "C:\\Users\\AISG\\Documents\\Jonas\\Real_World_Test_DataBase_meta\\18\\219284\\Satellite_18_219284_142090.meta\n",
      "C:\\Users\\AISG\\Documents\\Jonas\\Real_World_Test_DataBase_meta\\18\\219284\\Satellite_18_219284_142091.meta\n",
      "C:\\Users\\AISG\\Documents\\Jonas\\Real_World_Test_DataBase_meta\\18\\219284\\Satellite_18_219284_142092.meta\n",
      "C:\\Users\\AISG\\Documents\\Jonas\\Real_World_Test_DataBase_meta\\18\\219284\\Satellite_18_219284_142093.meta\n",
      "C:\\Users\\AISG\\Documents\\Jonas\\Real_World_Test_DataBase_meta\\18\\219284\\Satellite_18_219284_142094.meta\n",
      "C:\\Users\\AISG\\Documents\\Jonas\\Real_World_Test_DataBase_meta\\18\\219284\\Satellite_18_219284_142095.meta\n",
      "C:\\Users\\AISG\\Documents\\Jonas\\Real_World_Test_DataBase_meta\\18\\219284\\Satellite_18_219284_142096.meta\n",
      "C:\\Users\\AISG\\Documents\\Jonas\\Real_World_Test_DataBase_meta\\18\\219284\\Satellite_18_219284_142097.meta\n",
      "C:\\Users\\AISG\\Documents\\Jonas\\Real_World_Test_DataBase_meta\\18\\219284\\Satellite_18_219284_142098.meta\n",
      "C:\\Users\\AISG\\Documents\\Jonas\\Real_World_Test_DataBase_meta\\18\\219284\\Satellite_18_219284_142099.meta\n",
      "C:\\Users\\AISG\\Documents\\Jonas\\Real_World_Test_DataBase_meta\\18\\219284\\Satellite_18_219284_142100.meta\n",
      "C:\\Users\\AISG\\Documents\\Jonas\\Real_World_Test_DataBase_meta\\18\\219284\\Satellite_18_219284_142101.meta\n",
      "C:\\Users\\AISG\\Documents\\Jonas\\Real_World_Test_DataBase_meta\\18\\219284\\Satellite_18_219284_142102.meta\n",
      "C:\\Users\\AISG\\Documents\\Jonas\\Real_World_Test_DataBase_meta\\18\\219284\\Satellite_18_219284_142103.meta\n",
      "C:\\Users\\AISG\\Documents\\Jonas\\Real_World_Test_DataBase_meta\\18\\219284\\Satellite_18_219284_142104.meta\n",
      "C:\\Users\\AISG\\Documents\\Jonas\\Real_World_Test_DataBase_meta\\18\\219284\\Satellite_18_219284_142105.meta\n",
      "C:\\Users\\AISG\\Documents\\Jonas\\Real_World_Test_DataBase_meta\\18\\219284\\Satellite_18_219284_142106.meta\n",
      "C:\\Users\\AISG\\Documents\\Jonas\\Real_World_Test_DataBase_meta\\18\\219284\\Satellite_18_219284_142107.meta\n",
      "C:\\Users\\AISG\\Documents\\Jonas\\Real_World_Test_DataBase_meta\\18\\219284\\Satellite_18_219284_142108.meta\n",
      "C:\\Users\\AISG\\Documents\\Jonas\\Real_World_Test_DataBase_meta\\18\\219284\\Satellite_18_219284_142109.meta\n",
      "C:\\Users\\AISG\\Documents\\Jonas\\Real_World_Test_DataBase_meta\\18\\219284\\Satellite_18_219284_142110.meta\n",
      "C:\\Users\\AISG\\Documents\\Jonas\\Real_World_Test_DataBase_meta\\18\\219284\\Satellite_18_219284_142111.meta\n",
      "C:\\Users\\AISG\\Documents\\Jonas\\Real_World_Test_DataBase_meta\\18\\219284\\Satellite_18_219284_142112.meta\n",
      "C:\\Users\\AISG\\Documents\\Jonas\\Real_World_Test_DataBase_meta\\18\\219284\\Satellite_18_219284_142113.meta\n"
     ]
    },
    {
     "name": "stderr",
     "output_type": "stream",
     "text": [
      " 83%|███████████████████████████████████████████████████████████████▌             | 1822/2206 [00:04<00:01, 370.01it/s]"
     ]
    },
    {
     "name": "stdout",
     "output_type": "stream",
     "text": [
      "C:\\Users\\AISG\\Documents\\Jonas\\Real_World_Test_DataBase_meta\\18\\219284\\Satellite_18_219284_142114.meta\n",
      "C:\\Users\\AISG\\Documents\\Jonas\\Real_World_Test_DataBase_meta\\18\\219284\\Satellite_18_219284_142115.meta\n",
      "C:\\Users\\AISG\\Documents\\Jonas\\Real_World_Test_DataBase_meta\\18\\219284\\Satellite_18_219284_142116.meta\n",
      "C:\\Users\\AISG\\Documents\\Jonas\\Real_World_Test_DataBase_meta\\18\\219284\\Satellite_18_219284_142117.meta\n",
      "C:\\Users\\AISG\\Documents\\Jonas\\Real_World_Test_DataBase_meta\\18\\219284\\Satellite_18_219284_142118.meta\n",
      "C:\\Users\\AISG\\Documents\\Jonas\\Real_World_Test_DataBase_meta\\18\\219284\\Satellite_18_219284_142119.meta\n",
      "C:\\Users\\AISG\\Documents\\Jonas\\Real_World_Test_DataBase_meta\\18\\219284\\Satellite_18_219284_142120.meta\n",
      "C:\\Users\\AISG\\Documents\\Jonas\\Real_World_Test_DataBase_meta\\18\\219284\\Satellite_18_219284_142121.meta\n",
      "C:\\Users\\AISG\\Documents\\Jonas\\Real_World_Test_DataBase_meta\\18\\219284\\Satellite_18_219284_142122.meta\n",
      "C:\\Users\\AISG\\Documents\\Jonas\\Real_World_Test_DataBase_meta\\18\\219284\\Satellite_18_219284_142123.meta\n",
      "C:\\Users\\AISG\\Documents\\Jonas\\Real_World_Test_DataBase_meta\\18\\219284\\Satellite_18_219284_142124.meta\n",
      "C:\\Users\\AISG\\Documents\\Jonas\\Real_World_Test_DataBase_meta\\18\\219284\\Satellite_18_219284_142128.meta\n",
      "C:\\Users\\AISG\\Documents\\Jonas\\Real_World_Test_DataBase_meta\\18\\44952\\Satellite_18_44952_157458.meta\n",
      "C:\\Users\\AISG\\Documents\\Jonas\\Real_World_Test_DataBase_meta\\18\\44952\\Satellite_18_44952_157459.meta\n",
      "C:\\Users\\AISG\\Documents\\Jonas\\Real_World_Test_DataBase_meta\\18\\44952\\Satellite_18_44952_157460.meta\n",
      "C:\\Users\\AISG\\Documents\\Jonas\\Real_World_Test_DataBase_meta\\18\\44952\\Satellite_18_44952_157461.meta\n",
      "C:\\Users\\AISG\\Documents\\Jonas\\Real_World_Test_DataBase_meta\\18\\44952\\Satellite_18_44952_157462.meta\n",
      "C:\\Users\\AISG\\Documents\\Jonas\\Real_World_Test_DataBase_meta\\18\\44952\\Satellite_18_44952_157463.meta\n",
      "C:\\Users\\AISG\\Documents\\Jonas\\Real_World_Test_DataBase_meta\\18\\44952\\Satellite_18_44952_157464.meta\n",
      "C:\\Users\\AISG\\Documents\\Jonas\\Real_World_Test_DataBase_meta\\18\\44952\\Satellite_18_44952_157465.meta\n",
      "C:\\Users\\AISG\\Documents\\Jonas\\Real_World_Test_DataBase_meta\\18\\44952\\Satellite_18_44952_157466.meta\n",
      "C:\\Users\\AISG\\Documents\\Jonas\\Real_World_Test_DataBase_meta\\18\\44952\\Satellite_18_44952_157467.meta\n",
      "C:\\Users\\AISG\\Documents\\Jonas\\Real_World_Test_DataBase_meta\\18\\44952\\Satellite_18_44952_157468.meta\n",
      "C:\\Users\\AISG\\Documents\\Jonas\\Real_World_Test_DataBase_meta\\18\\44952\\Satellite_18_44952_157469.meta\n",
      "C:\\Users\\AISG\\Documents\\Jonas\\Real_World_Test_DataBase_meta\\18\\44952\\Satellite_18_44952_157470.meta\n",
      "C:\\Users\\AISG\\Documents\\Jonas\\Real_World_Test_DataBase_meta\\18\\44952\\Satellite_18_44952_157471.meta\n",
      "C:\\Users\\AISG\\Documents\\Jonas\\Real_World_Test_DataBase_meta\\18\\44952\\Satellite_18_44952_157472.meta\n",
      "C:\\Users\\AISG\\Documents\\Jonas\\Real_World_Test_DataBase_meta\\18\\44952\\Satellite_18_44952_157473.meta\n",
      "C:\\Users\\AISG\\Documents\\Jonas\\Real_World_Test_DataBase_meta\\18\\44952\\Satellite_18_44952_157474.meta\n",
      "C:\\Users\\AISG\\Documents\\Jonas\\Real_World_Test_DataBase_meta\\18\\44952\\Satellite_18_44952_157475.meta\n",
      "C:\\Users\\AISG\\Documents\\Jonas\\Real_World_Test_DataBase_meta\\18\\44952\\Satellite_18_44952_157476.meta\n",
      "C:\\Users\\AISG\\Documents\\Jonas\\Real_World_Test_DataBase_meta\\18\\44952\\Satellite_18_44952_157477.meta\n",
      "C:\\Users\\AISG\\Documents\\Jonas\\Real_World_Test_DataBase_meta\\18\\44952\\Satellite_18_44952_157478.meta\n",
      "C:\\Users\\AISG\\Documents\\Jonas\\Real_World_Test_DataBase_meta\\18\\44952\\Satellite_18_44952_157479.meta\n",
      "C:\\Users\\AISG\\Documents\\Jonas\\Real_World_Test_DataBase_meta\\18\\44952\\Satellite_18_44952_157480.meta\n",
      "C:\\Users\\AISG\\Documents\\Jonas\\Real_World_Test_DataBase_meta\\18\\44953\\Satellite_18_44953_157458.meta\n",
      "C:\\Users\\AISG\\Documents\\Jonas\\Real_World_Test_DataBase_meta\\18\\44953\\Satellite_18_44953_157459.meta\n",
      "C:\\Users\\AISG\\Documents\\Jonas\\Real_World_Test_DataBase_meta\\18\\44953\\Satellite_18_44953_157460.meta\n",
      "C:\\Users\\AISG\\Documents\\Jonas\\Real_World_Test_DataBase_meta\\18\\44953\\Satellite_18_44953_157461.meta\n",
      "C:\\Users\\AISG\\Documents\\Jonas\\Real_World_Test_DataBase_meta\\18\\44953\\Satellite_18_44953_157462.meta\n",
      "C:\\Users\\AISG\\Documents\\Jonas\\Real_World_Test_DataBase_meta\\18\\44953\\Satellite_18_44953_157463.meta\n",
      "C:\\Users\\AISG\\Documents\\Jonas\\Real_World_Test_DataBase_meta\\18\\44953\\Satellite_18_44953_157464.meta\n",
      "C:\\Users\\AISG\\Documents\\Jonas\\Real_World_Test_DataBase_meta\\18\\44953\\Satellite_18_44953_157465.meta\n",
      "C:\\Users\\AISG\\Documents\\Jonas\\Real_World_Test_DataBase_meta\\18\\44953\\Satellite_18_44953_157466.meta\n",
      "C:\\Users\\AISG\\Documents\\Jonas\\Real_World_Test_DataBase_meta\\18\\44953\\Satellite_18_44953_157467.meta\n",
      "C:\\Users\\AISG\\Documents\\Jonas\\Real_World_Test_DataBase_meta\\18\\44953\\Satellite_18_44953_157468.meta\n",
      "C:\\Users\\AISG\\Documents\\Jonas\\Real_World_Test_DataBase_meta\\18\\44953\\Satellite_18_44953_157469.meta\n",
      "C:\\Users\\AISG\\Documents\\Jonas\\Real_World_Test_DataBase_meta\\18\\44953\\Satellite_18_44953_157470.meta\n",
      "C:\\Users\\AISG\\Documents\\Jonas\\Real_World_Test_DataBase_meta\\18\\44953\\Satellite_18_44953_157471.meta\n",
      "C:\\Users\\AISG\\Documents\\Jonas\\Real_World_Test_DataBase_meta\\18\\44953\\Satellite_18_44953_157472.meta\n",
      "C:\\Users\\AISG\\Documents\\Jonas\\Real_World_Test_DataBase_meta\\18\\44953\\Satellite_18_44953_157473.meta\n",
      "C:\\Users\\AISG\\Documents\\Jonas\\Real_World_Test_DataBase_meta\\18\\44953\\Satellite_18_44953_157474.meta\n",
      "C:\\Users\\AISG\\Documents\\Jonas\\Real_World_Test_DataBase_meta\\18\\44953\\Satellite_18_44953_157475.meta\n",
      "C:\\Users\\AISG\\Documents\\Jonas\\Real_World_Test_DataBase_meta\\18\\44953\\Satellite_18_44953_157476.meta\n",
      "C:\\Users\\AISG\\Documents\\Jonas\\Real_World_Test_DataBase_meta\\18\\44953\\Satellite_18_44953_157477.meta\n",
      "C:\\Users\\AISG\\Documents\\Jonas\\Real_World_Test_DataBase_meta\\18\\44953\\Satellite_18_44953_157478.meta\n",
      "C:\\Users\\AISG\\Documents\\Jonas\\Real_World_Test_DataBase_meta\\18\\44953\\Satellite_18_44953_157479.meta\n",
      "C:\\Users\\AISG\\Documents\\Jonas\\Real_World_Test_DataBase_meta\\18\\44953\\Satellite_18_44953_157480.meta\n",
      "C:\\Users\\AISG\\Documents\\Jonas\\Real_World_Test_DataBase_meta\\18\\44954\\Satellite_18_44954_157458.meta\n",
      "C:\\Users\\AISG\\Documents\\Jonas\\Real_World_Test_DataBase_meta\\18\\44954\\Satellite_18_44954_157459.meta\n",
      "C:\\Users\\AISG\\Documents\\Jonas\\Real_World_Test_DataBase_meta\\18\\44954\\Satellite_18_44954_157460.meta\n",
      "C:\\Users\\AISG\\Documents\\Jonas\\Real_World_Test_DataBase_meta\\18\\44954\\Satellite_18_44954_157461.meta\n",
      "C:\\Users\\AISG\\Documents\\Jonas\\Real_World_Test_DataBase_meta\\18\\44954\\Satellite_18_44954_157462.meta\n",
      "C:\\Users\\AISG\\Documents\\Jonas\\Real_World_Test_DataBase_meta\\18\\44954\\Satellite_18_44954_157463.meta\n",
      "C:\\Users\\AISG\\Documents\\Jonas\\Real_World_Test_DataBase_meta\\18\\44954\\Satellite_18_44954_157464.meta\n",
      "C:\\Users\\AISG\\Documents\\Jonas\\Real_World_Test_DataBase_meta\\18\\44954\\Satellite_18_44954_157465.meta\n",
      "C:\\Users\\AISG\\Documents\\Jonas\\Real_World_Test_DataBase_meta\\18\\44954\\Satellite_18_44954_157466.meta\n",
      "C:\\Users\\AISG\\Documents\\Jonas\\Real_World_Test_DataBase_meta\\18\\44954\\Satellite_18_44954_157467.meta\n",
      "C:\\Users\\AISG\\Documents\\Jonas\\Real_World_Test_DataBase_meta\\18\\44954\\Satellite_18_44954_157468.meta\n",
      "C:\\Users\\AISG\\Documents\\Jonas\\Real_World_Test_DataBase_meta\\18\\44954\\Satellite_18_44954_157469.meta\n"
     ]
    },
    {
     "name": "stderr",
     "output_type": "stream",
     "text": [
      " 86%|██████████████████████████████████████████████████████████████████▍          | 1904/2206 [00:05<00:00, 385.78it/s]"
     ]
    },
    {
     "name": "stdout",
     "output_type": "stream",
     "text": [
      "C:\\Users\\AISG\\Documents\\Jonas\\Real_World_Test_DataBase_meta\\18\\44954\\Satellite_18_44954_157470.meta\n",
      "C:\\Users\\AISG\\Documents\\Jonas\\Real_World_Test_DataBase_meta\\18\\44954\\Satellite_18_44954_157471.meta\n",
      "C:\\Users\\AISG\\Documents\\Jonas\\Real_World_Test_DataBase_meta\\18\\44954\\Satellite_18_44954_157472.meta\n",
      "C:\\Users\\AISG\\Documents\\Jonas\\Real_World_Test_DataBase_meta\\18\\44954\\Satellite_18_44954_157473.meta\n",
      "C:\\Users\\AISG\\Documents\\Jonas\\Real_World_Test_DataBase_meta\\18\\44954\\Satellite_18_44954_157474.meta\n",
      "C:\\Users\\AISG\\Documents\\Jonas\\Real_World_Test_DataBase_meta\\18\\44954\\Satellite_18_44954_157475.meta\n",
      "C:\\Users\\AISG\\Documents\\Jonas\\Real_World_Test_DataBase_meta\\18\\44954\\Satellite_18_44954_157476.meta\n",
      "C:\\Users\\AISG\\Documents\\Jonas\\Real_World_Test_DataBase_meta\\18\\44954\\Satellite_18_44954_157477.meta\n",
      "C:\\Users\\AISG\\Documents\\Jonas\\Real_World_Test_DataBase_meta\\18\\44954\\Satellite_18_44954_157478.meta\n",
      "C:\\Users\\AISG\\Documents\\Jonas\\Real_World_Test_DataBase_meta\\18\\44954\\Satellite_18_44954_157479.meta\n",
      "C:\\Users\\AISG\\Documents\\Jonas\\Real_World_Test_DataBase_meta\\18\\44954\\Satellite_18_44954_157480.meta\n",
      "C:\\Users\\AISG\\Documents\\Jonas\\Real_World_Test_DataBase_meta\\18\\44955\\Satellite_18_44955_157458.meta\n",
      "C:\\Users\\AISG\\Documents\\Jonas\\Real_World_Test_DataBase_meta\\18\\44955\\Satellite_18_44955_157459.meta\n",
      "C:\\Users\\AISG\\Documents\\Jonas\\Real_World_Test_DataBase_meta\\18\\44955\\Satellite_18_44955_157460.meta\n",
      "C:\\Users\\AISG\\Documents\\Jonas\\Real_World_Test_DataBase_meta\\18\\44955\\Satellite_18_44955_157461.meta\n",
      "C:\\Users\\AISG\\Documents\\Jonas\\Real_World_Test_DataBase_meta\\18\\44955\\Satellite_18_44955_157462.meta\n",
      "C:\\Users\\AISG\\Documents\\Jonas\\Real_World_Test_DataBase_meta\\18\\44955\\Satellite_18_44955_157463.meta\n",
      "C:\\Users\\AISG\\Documents\\Jonas\\Real_World_Test_DataBase_meta\\18\\44955\\Satellite_18_44955_157464.meta\n",
      "C:\\Users\\AISG\\Documents\\Jonas\\Real_World_Test_DataBase_meta\\18\\44955\\Satellite_18_44955_157465.meta\n",
      "C:\\Users\\AISG\\Documents\\Jonas\\Real_World_Test_DataBase_meta\\18\\44955\\Satellite_18_44955_157466.meta\n",
      "C:\\Users\\AISG\\Documents\\Jonas\\Real_World_Test_DataBase_meta\\18\\44955\\Satellite_18_44955_157467.meta\n",
      "C:\\Users\\AISG\\Documents\\Jonas\\Real_World_Test_DataBase_meta\\18\\44955\\Satellite_18_44955_157468.meta\n",
      "C:\\Users\\AISG\\Documents\\Jonas\\Real_World_Test_DataBase_meta\\18\\44955\\Satellite_18_44955_157469.meta\n",
      "C:\\Users\\AISG\\Documents\\Jonas\\Real_World_Test_DataBase_meta\\18\\44955\\Satellite_18_44955_157470.meta\n",
      "C:\\Users\\AISG\\Documents\\Jonas\\Real_World_Test_DataBase_meta\\18\\44955\\Satellite_18_44955_157471.meta\n",
      "C:\\Users\\AISG\\Documents\\Jonas\\Real_World_Test_DataBase_meta\\18\\44955\\Satellite_18_44955_157472.meta\n",
      "C:\\Users\\AISG\\Documents\\Jonas\\Real_World_Test_DataBase_meta\\18\\44955\\Satellite_18_44955_157473.meta\n",
      "C:\\Users\\AISG\\Documents\\Jonas\\Real_World_Test_DataBase_meta\\18\\44955\\Satellite_18_44955_157474.meta\n",
      "C:\\Users\\AISG\\Documents\\Jonas\\Real_World_Test_DataBase_meta\\18\\44955\\Satellite_18_44955_157475.meta\n",
      "C:\\Users\\AISG\\Documents\\Jonas\\Real_World_Test_DataBase_meta\\18\\44955\\Satellite_18_44955_157476.meta\n",
      "C:\\Users\\AISG\\Documents\\Jonas\\Real_World_Test_DataBase_meta\\18\\44955\\Satellite_18_44955_157477.meta\n",
      "C:\\Users\\AISG\\Documents\\Jonas\\Real_World_Test_DataBase_meta\\18\\44955\\Satellite_18_44955_157478.meta\n",
      "C:\\Users\\AISG\\Documents\\Jonas\\Real_World_Test_DataBase_meta\\18\\44955\\Satellite_18_44955_157479.meta\n",
      "C:\\Users\\AISG\\Documents\\Jonas\\Real_World_Test_DataBase_meta\\18\\44955\\Satellite_18_44955_157480.meta\n",
      "C:\\Users\\AISG\\Documents\\Jonas\\Real_World_Test_DataBase_meta\\18\\44956\\Satellite_18_44956_157458.meta\n",
      "C:\\Users\\AISG\\Documents\\Jonas\\Real_World_Test_DataBase_meta\\18\\44956\\Satellite_18_44956_157459.meta\n",
      "C:\\Users\\AISG\\Documents\\Jonas\\Real_World_Test_DataBase_meta\\18\\44956\\Satellite_18_44956_157460.meta\n",
      "C:\\Users\\AISG\\Documents\\Jonas\\Real_World_Test_DataBase_meta\\18\\44956\\Satellite_18_44956_157461.meta\n",
      "C:\\Users\\AISG\\Documents\\Jonas\\Real_World_Test_DataBase_meta\\18\\44956\\Satellite_18_44956_157462.meta\n",
      "C:\\Users\\AISG\\Documents\\Jonas\\Real_World_Test_DataBase_meta\\18\\44956\\Satellite_18_44956_157463.meta\n",
      "C:\\Users\\AISG\\Documents\\Jonas\\Real_World_Test_DataBase_meta\\18\\44956\\Satellite_18_44956_157464.meta\n",
      "C:\\Users\\AISG\\Documents\\Jonas\\Real_World_Test_DataBase_meta\\18\\44956\\Satellite_18_44956_157465.meta\n",
      "C:\\Users\\AISG\\Documents\\Jonas\\Real_World_Test_DataBase_meta\\18\\44956\\Satellite_18_44956_157466.meta\n",
      "C:\\Users\\AISG\\Documents\\Jonas\\Real_World_Test_DataBase_meta\\18\\44956\\Satellite_18_44956_157467.meta\n",
      "C:\\Users\\AISG\\Documents\\Jonas\\Real_World_Test_DataBase_meta\\18\\44956\\Satellite_18_44956_157468.meta\n",
      "C:\\Users\\AISG\\Documents\\Jonas\\Real_World_Test_DataBase_meta\\18\\44956\\Satellite_18_44956_157469.meta\n",
      "C:\\Users\\AISG\\Documents\\Jonas\\Real_World_Test_DataBase_meta\\18\\44956\\Satellite_18_44956_157470.meta\n",
      "C:\\Users\\AISG\\Documents\\Jonas\\Real_World_Test_DataBase_meta\\18\\44956\\Satellite_18_44956_157471.meta\n",
      "C:\\Users\\AISG\\Documents\\Jonas\\Real_World_Test_DataBase_meta\\18\\44956\\Satellite_18_44956_157472.meta\n",
      "C:\\Users\\AISG\\Documents\\Jonas\\Real_World_Test_DataBase_meta\\18\\44956\\Satellite_18_44956_157473.meta\n",
      "C:\\Users\\AISG\\Documents\\Jonas\\Real_World_Test_DataBase_meta\\18\\44956\\Satellite_18_44956_157474.meta\n",
      "C:\\Users\\AISG\\Documents\\Jonas\\Real_World_Test_DataBase_meta\\18\\44956\\Satellite_18_44956_157475.meta\n",
      "C:\\Users\\AISG\\Documents\\Jonas\\Real_World_Test_DataBase_meta\\18\\44956\\Satellite_18_44956_157476.meta\n",
      "C:\\Users\\AISG\\Documents\\Jonas\\Real_World_Test_DataBase_meta\\18\\44956\\Satellite_18_44956_157477.meta\n",
      "C:\\Users\\AISG\\Documents\\Jonas\\Real_World_Test_DataBase_meta\\18\\44956\\Satellite_18_44956_157478.meta\n",
      "C:\\Users\\AISG\\Documents\\Jonas\\Real_World_Test_DataBase_meta\\18\\44956\\Satellite_18_44956_157479.meta\n",
      "C:\\Users\\AISG\\Documents\\Jonas\\Real_World_Test_DataBase_meta\\18\\44956\\Satellite_18_44956_157480.meta\n",
      "C:\\Users\\AISG\\Documents\\Jonas\\Real_World_Test_DataBase_meta\\18\\44957\\Satellite_18_44957_157458.meta\n",
      "C:\\Users\\AISG\\Documents\\Jonas\\Real_World_Test_DataBase_meta\\18\\44957\\Satellite_18_44957_157459.meta\n",
      "C:\\Users\\AISG\\Documents\\Jonas\\Real_World_Test_DataBase_meta\\18\\44957\\Satellite_18_44957_157460.meta\n",
      "C:\\Users\\AISG\\Documents\\Jonas\\Real_World_Test_DataBase_meta\\18\\44957\\Satellite_18_44957_157461.meta\n",
      "C:\\Users\\AISG\\Documents\\Jonas\\Real_World_Test_DataBase_meta\\18\\44957\\Satellite_18_44957_157462.meta\n",
      "C:\\Users\\AISG\\Documents\\Jonas\\Real_World_Test_DataBase_meta\\18\\44957\\Satellite_18_44957_157463.meta\n",
      "C:\\Users\\AISG\\Documents\\Jonas\\Real_World_Test_DataBase_meta\\18\\44957\\Satellite_18_44957_157464.meta\n",
      "C:\\Users\\AISG\\Documents\\Jonas\\Real_World_Test_DataBase_meta\\18\\44957\\Satellite_18_44957_157465.meta\n",
      "C:\\Users\\AISG\\Documents\\Jonas\\Real_World_Test_DataBase_meta\\18\\44957\\Satellite_18_44957_157466.meta\n",
      "C:\\Users\\AISG\\Documents\\Jonas\\Real_World_Test_DataBase_meta\\18\\44957\\Satellite_18_44957_157467.meta\n",
      "C:\\Users\\AISG\\Documents\\Jonas\\Real_World_Test_DataBase_meta\\18\\44957\\Satellite_18_44957_157468.meta\n",
      "C:\\Users\\AISG\\Documents\\Jonas\\Real_World_Test_DataBase_meta\\18\\44957\\Satellite_18_44957_157469.meta\n",
      "C:\\Users\\AISG\\Documents\\Jonas\\Real_World_Test_DataBase_meta\\18\\44957\\Satellite_18_44957_157470.meta\n",
      "C:\\Users\\AISG\\Documents\\Jonas\\Real_World_Test_DataBase_meta\\18\\44957\\Satellite_18_44957_157471.meta\n",
      "C:\\Users\\AISG\\Documents\\Jonas\\Real_World_Test_DataBase_meta\\18\\44957\\Satellite_18_44957_157472.meta\n",
      "C:\\Users\\AISG\\Documents\\Jonas\\Real_World_Test_DataBase_meta\\18\\44957\\Satellite_18_44957_157473.meta\n",
      "C:\\Users\\AISG\\Documents\\Jonas\\Real_World_Test_DataBase_meta\\18\\44957\\Satellite_18_44957_157474.meta\n"
     ]
    },
    {
     "name": "stderr",
     "output_type": "stream",
     "text": [
      " 90%|█████████████████████████████████████████████████████████████████████▏       | 1981/2206 [00:05<00:00, 372.96it/s]"
     ]
    },
    {
     "name": "stdout",
     "output_type": "stream",
     "text": [
      "C:\\Users\\AISG\\Documents\\Jonas\\Real_World_Test_DataBase_meta\\18\\44957\\Satellite_18_44957_157475.meta\n",
      "C:\\Users\\AISG\\Documents\\Jonas\\Real_World_Test_DataBase_meta\\18\\44957\\Satellite_18_44957_157476.meta\n",
      "C:\\Users\\AISG\\Documents\\Jonas\\Real_World_Test_DataBase_meta\\18\\44957\\Satellite_18_44957_157477.meta\n",
      "C:\\Users\\AISG\\Documents\\Jonas\\Real_World_Test_DataBase_meta\\18\\44957\\Satellite_18_44957_157478.meta\n",
      "C:\\Users\\AISG\\Documents\\Jonas\\Real_World_Test_DataBase_meta\\18\\44957\\Satellite_18_44957_157479.meta\n",
      "C:\\Users\\AISG\\Documents\\Jonas\\Real_World_Test_DataBase_meta\\18\\44957\\Satellite_18_44957_157480.meta\n",
      "C:\\Users\\AISG\\Documents\\Jonas\\Real_World_Test_DataBase_meta\\18\\44958\\Satellite_18_44958_157458.meta\n",
      "C:\\Users\\AISG\\Documents\\Jonas\\Real_World_Test_DataBase_meta\\18\\44958\\Satellite_18_44958_157459.meta\n",
      "C:\\Users\\AISG\\Documents\\Jonas\\Real_World_Test_DataBase_meta\\18\\44958\\Satellite_18_44958_157460.meta\n",
      "C:\\Users\\AISG\\Documents\\Jonas\\Real_World_Test_DataBase_meta\\18\\44958\\Satellite_18_44958_157461.meta\n",
      "C:\\Users\\AISG\\Documents\\Jonas\\Real_World_Test_DataBase_meta\\18\\44958\\Satellite_18_44958_157462.meta\n",
      "C:\\Users\\AISG\\Documents\\Jonas\\Real_World_Test_DataBase_meta\\18\\44958\\Satellite_18_44958_157463.meta\n",
      "C:\\Users\\AISG\\Documents\\Jonas\\Real_World_Test_DataBase_meta\\18\\44958\\Satellite_18_44958_157464.meta\n",
      "C:\\Users\\AISG\\Documents\\Jonas\\Real_World_Test_DataBase_meta\\18\\44958\\Satellite_18_44958_157465.meta\n",
      "C:\\Users\\AISG\\Documents\\Jonas\\Real_World_Test_DataBase_meta\\18\\44958\\Satellite_18_44958_157466.meta\n",
      "C:\\Users\\AISG\\Documents\\Jonas\\Real_World_Test_DataBase_meta\\18\\44958\\Satellite_18_44958_157467.meta\n",
      "C:\\Users\\AISG\\Documents\\Jonas\\Real_World_Test_DataBase_meta\\18\\44958\\Satellite_18_44958_157468.meta\n",
      "C:\\Users\\AISG\\Documents\\Jonas\\Real_World_Test_DataBase_meta\\18\\44958\\Satellite_18_44958_157469.meta\n",
      "C:\\Users\\AISG\\Documents\\Jonas\\Real_World_Test_DataBase_meta\\18\\44958\\Satellite_18_44958_157470.meta\n",
      "C:\\Users\\AISG\\Documents\\Jonas\\Real_World_Test_DataBase_meta\\18\\44958\\Satellite_18_44958_157471.meta\n",
      "C:\\Users\\AISG\\Documents\\Jonas\\Real_World_Test_DataBase_meta\\18\\44958\\Satellite_18_44958_157472.meta\n",
      "C:\\Users\\AISG\\Documents\\Jonas\\Real_World_Test_DataBase_meta\\18\\44958\\Satellite_18_44958_157473.meta\n",
      "C:\\Users\\AISG\\Documents\\Jonas\\Real_World_Test_DataBase_meta\\18\\44958\\Satellite_18_44958_157474.meta\n",
      "C:\\Users\\AISG\\Documents\\Jonas\\Real_World_Test_DataBase_meta\\18\\44958\\Satellite_18_44958_157475.meta\n",
      "C:\\Users\\AISG\\Documents\\Jonas\\Real_World_Test_DataBase_meta\\18\\44958\\Satellite_18_44958_157476.meta\n",
      "C:\\Users\\AISG\\Documents\\Jonas\\Real_World_Test_DataBase_meta\\18\\44958\\Satellite_18_44958_157477.meta\n",
      "C:\\Users\\AISG\\Documents\\Jonas\\Real_World_Test_DataBase_meta\\18\\44958\\Satellite_18_44958_157478.meta\n",
      "C:\\Users\\AISG\\Documents\\Jonas\\Real_World_Test_DataBase_meta\\18\\44958\\Satellite_18_44958_157479.meta\n",
      "C:\\Users\\AISG\\Documents\\Jonas\\Real_World_Test_DataBase_meta\\18\\44958\\Satellite_18_44958_157480.meta\n",
      "C:\\Users\\AISG\\Documents\\Jonas\\Real_World_Test_DataBase_meta\\18\\44959\\Satellite_18_44959_157459.meta\n",
      "C:\\Users\\AISG\\Documents\\Jonas\\Real_World_Test_DataBase_meta\\18\\44959\\Satellite_18_44959_157460.meta\n",
      "C:\\Users\\AISG\\Documents\\Jonas\\Real_World_Test_DataBase_meta\\18\\44959\\Satellite_18_44959_157461.meta\n",
      "C:\\Users\\AISG\\Documents\\Jonas\\Real_World_Test_DataBase_meta\\18\\44959\\Satellite_18_44959_157462.meta\n",
      "C:\\Users\\AISG\\Documents\\Jonas\\Real_World_Test_DataBase_meta\\18\\44959\\Satellite_18_44959_157463.meta\n",
      "C:\\Users\\AISG\\Documents\\Jonas\\Real_World_Test_DataBase_meta\\18\\44959\\Satellite_18_44959_157464.meta\n",
      "C:\\Users\\AISG\\Documents\\Jonas\\Real_World_Test_DataBase_meta\\18\\44959\\Satellite_18_44959_157465.meta\n",
      "C:\\Users\\AISG\\Documents\\Jonas\\Real_World_Test_DataBase_meta\\18\\44959\\Satellite_18_44959_157466.meta\n",
      "C:\\Users\\AISG\\Documents\\Jonas\\Real_World_Test_DataBase_meta\\18\\44959\\Satellite_18_44959_157467.meta\n",
      "C:\\Users\\AISG\\Documents\\Jonas\\Real_World_Test_DataBase_meta\\18\\44959\\Satellite_18_44959_157468.meta\n",
      "C:\\Users\\AISG\\Documents\\Jonas\\Real_World_Test_DataBase_meta\\18\\44959\\Satellite_18_44959_157469.meta\n",
      "C:\\Users\\AISG\\Documents\\Jonas\\Real_World_Test_DataBase_meta\\18\\44959\\Satellite_18_44959_157470.meta\n",
      "C:\\Users\\AISG\\Documents\\Jonas\\Real_World_Test_DataBase_meta\\18\\44959\\Satellite_18_44959_157471.meta\n",
      "C:\\Users\\AISG\\Documents\\Jonas\\Real_World_Test_DataBase_meta\\18\\44959\\Satellite_18_44959_157472.meta\n",
      "C:\\Users\\AISG\\Documents\\Jonas\\Real_World_Test_DataBase_meta\\18\\44959\\Satellite_18_44959_157473.meta\n",
      "C:\\Users\\AISG\\Documents\\Jonas\\Real_World_Test_DataBase_meta\\18\\44959\\Satellite_18_44959_157474.meta\n",
      "C:\\Users\\AISG\\Documents\\Jonas\\Real_World_Test_DataBase_meta\\18\\44959\\Satellite_18_44959_157475.meta\n",
      "C:\\Users\\AISG\\Documents\\Jonas\\Real_World_Test_DataBase_meta\\18\\44959\\Satellite_18_44959_157476.meta\n",
      "C:\\Users\\AISG\\Documents\\Jonas\\Real_World_Test_DataBase_meta\\18\\44959\\Satellite_18_44959_157477.meta\n",
      "C:\\Users\\AISG\\Documents\\Jonas\\Real_World_Test_DataBase_meta\\18\\44959\\Satellite_18_44959_157478.meta\n",
      "C:\\Users\\AISG\\Documents\\Jonas\\Real_World_Test_DataBase_meta\\18\\44959\\Satellite_18_44959_157479.meta\n",
      "C:\\Users\\AISG\\Documents\\Jonas\\Real_World_Test_DataBase_meta\\18\\44959\\Satellite_18_44959_157480.meta\n",
      "C:\\Users\\AISG\\Documents\\Jonas\\Real_World_Test_DataBase_meta\\18\\44960\\Satellite_18_44960_157460.meta\n",
      "C:\\Users\\AISG\\Documents\\Jonas\\Real_World_Test_DataBase_meta\\18\\44960\\Satellite_18_44960_157461.meta\n",
      "C:\\Users\\AISG\\Documents\\Jonas\\Real_World_Test_DataBase_meta\\18\\44960\\Satellite_18_44960_157462.meta\n",
      "C:\\Users\\AISG\\Documents\\Jonas\\Real_World_Test_DataBase_meta\\18\\44960\\Satellite_18_44960_157463.meta\n",
      "C:\\Users\\AISG\\Documents\\Jonas\\Real_World_Test_DataBase_meta\\18\\44960\\Satellite_18_44960_157464.meta\n",
      "C:\\Users\\AISG\\Documents\\Jonas\\Real_World_Test_DataBase_meta\\18\\44960\\Satellite_18_44960_157465.meta\n",
      "C:\\Users\\AISG\\Documents\\Jonas\\Real_World_Test_DataBase_meta\\18\\44960\\Satellite_18_44960_157466.meta\n",
      "C:\\Users\\AISG\\Documents\\Jonas\\Real_World_Test_DataBase_meta\\18\\44960\\Satellite_18_44960_157467.meta\n",
      "C:\\Users\\AISG\\Documents\\Jonas\\Real_World_Test_DataBase_meta\\18\\44960\\Satellite_18_44960_157468.meta\n",
      "C:\\Users\\AISG\\Documents\\Jonas\\Real_World_Test_DataBase_meta\\18\\44960\\Satellite_18_44960_157469.meta\n",
      "C:\\Users\\AISG\\Documents\\Jonas\\Real_World_Test_DataBase_meta\\18\\44960\\Satellite_18_44960_157470.meta\n",
      "C:\\Users\\AISG\\Documents\\Jonas\\Real_World_Test_DataBase_meta\\18\\44960\\Satellite_18_44960_157471.meta\n",
      "C:\\Users\\AISG\\Documents\\Jonas\\Real_World_Test_DataBase_meta\\18\\44960\\Satellite_18_44960_157472.meta\n",
      "C:\\Users\\AISG\\Documents\\Jonas\\Real_World_Test_DataBase_meta\\18\\44960\\Satellite_18_44960_157473.meta\n",
      "C:\\Users\\AISG\\Documents\\Jonas\\Real_World_Test_DataBase_meta\\18\\44960\\Satellite_18_44960_157474.meta\n",
      "C:\\Users\\AISG\\Documents\\Jonas\\Real_World_Test_DataBase_meta\\18\\44960\\Satellite_18_44960_157475.meta\n",
      "C:\\Users\\AISG\\Documents\\Jonas\\Real_World_Test_DataBase_meta\\18\\44960\\Satellite_18_44960_157476.meta\n"
     ]
    },
    {
     "name": "stderr",
     "output_type": "stream",
     "text": [
      "\r",
      " 92%|██████████████████████████████████████████████████████████████████████▌      | 2020/2206 [00:05<00:00, 374.94it/s]"
     ]
    },
    {
     "name": "stdout",
     "output_type": "stream",
     "text": [
      "C:\\Users\\AISG\\Documents\\Jonas\\Real_World_Test_DataBase_meta\\18\\44960\\Satellite_18_44960_157477.meta\n",
      "C:\\Users\\AISG\\Documents\\Jonas\\Real_World_Test_DataBase_meta\\18\\44960\\Satellite_18_44960_157478.meta\n",
      "C:\\Users\\AISG\\Documents\\Jonas\\Real_World_Test_DataBase_meta\\18\\44960\\Satellite_18_44960_157479.meta\n",
      "C:\\Users\\AISG\\Documents\\Jonas\\Real_World_Test_DataBase_meta\\18\\44960\\Satellite_18_44960_157480.meta\n",
      "C:\\Users\\AISG\\Documents\\Jonas\\Real_World_Test_DataBase_meta\\18\\44961\\Satellite_18_44961_157460.meta\n",
      "C:\\Users\\AISG\\Documents\\Jonas\\Real_World_Test_DataBase_meta\\18\\44961\\Satellite_18_44961_157461.meta\n",
      "C:\\Users\\AISG\\Documents\\Jonas\\Real_World_Test_DataBase_meta\\18\\44961\\Satellite_18_44961_157462.meta\n",
      "C:\\Users\\AISG\\Documents\\Jonas\\Real_World_Test_DataBase_meta\\18\\44961\\Satellite_18_44961_157463.meta\n",
      "C:\\Users\\AISG\\Documents\\Jonas\\Real_World_Test_DataBase_meta\\18\\44961\\Satellite_18_44961_157464.meta\n",
      "C:\\Users\\AISG\\Documents\\Jonas\\Real_World_Test_DataBase_meta\\18\\44961\\Satellite_18_44961_157465.meta\n",
      "C:\\Users\\AISG\\Documents\\Jonas\\Real_World_Test_DataBase_meta\\18\\44961\\Satellite_18_44961_157466.meta\n",
      "C:\\Users\\AISG\\Documents\\Jonas\\Real_World_Test_DataBase_meta\\18\\44961\\Satellite_18_44961_157467.meta\n",
      "C:\\Users\\AISG\\Documents\\Jonas\\Real_World_Test_DataBase_meta\\18\\44961\\Satellite_18_44961_157468.meta\n",
      "C:\\Users\\AISG\\Documents\\Jonas\\Real_World_Test_DataBase_meta\\18\\44961\\Satellite_18_44961_157469.meta\n",
      "C:\\Users\\AISG\\Documents\\Jonas\\Real_World_Test_DataBase_meta\\18\\44961\\Satellite_18_44961_157470.meta\n",
      "C:\\Users\\AISG\\Documents\\Jonas\\Real_World_Test_DataBase_meta\\18\\44961\\Satellite_18_44961_157471.meta\n",
      "C:\\Users\\AISG\\Documents\\Jonas\\Real_World_Test_DataBase_meta\\18\\44961\\Satellite_18_44961_157472.meta\n",
      "C:\\Users\\AISG\\Documents\\Jonas\\Real_World_Test_DataBase_meta\\18\\44961\\Satellite_18_44961_157473.meta\n",
      "C:\\Users\\AISG\\Documents\\Jonas\\Real_World_Test_DataBase_meta\\18\\44961\\Satellite_18_44961_157474.meta\n",
      "C:\\Users\\AISG\\Documents\\Jonas\\Real_World_Test_DataBase_meta\\18\\44961\\Satellite_18_44961_157475.meta\n",
      "C:\\Users\\AISG\\Documents\\Jonas\\Real_World_Test_DataBase_meta\\18\\44961\\Satellite_18_44961_157476.meta\n",
      "C:\\Users\\AISG\\Documents\\Jonas\\Real_World_Test_DataBase_meta\\18\\44961\\Satellite_18_44961_157477.meta\n",
      "C:\\Users\\AISG\\Documents\\Jonas\\Real_World_Test_DataBase_meta\\18\\44961\\Satellite_18_44961_157478.meta\n",
      "C:\\Users\\AISG\\Documents\\Jonas\\Real_World_Test_DataBase_meta\\18\\44961\\Satellite_18_44961_157479.meta\n",
      "C:\\Users\\AISG\\Documents\\Jonas\\Real_World_Test_DataBase_meta\\18\\44961\\Satellite_18_44961_157480.meta\n",
      "C:\\Users\\AISG\\Documents\\Jonas\\Real_World_Test_DataBase_meta\\18\\44962\\Satellite_18_44962_157461.meta\n",
      "C:\\Users\\AISG\\Documents\\Jonas\\Real_World_Test_DataBase_meta\\18\\44962\\Satellite_18_44962_157462.meta\n",
      "C:\\Users\\AISG\\Documents\\Jonas\\Real_World_Test_DataBase_meta\\18\\44962\\Satellite_18_44962_157463.meta\n",
      "C:\\Users\\AISG\\Documents\\Jonas\\Real_World_Test_DataBase_meta\\18\\44962\\Satellite_18_44962_157464.meta\n",
      "C:\\Users\\AISG\\Documents\\Jonas\\Real_World_Test_DataBase_meta\\18\\44962\\Satellite_18_44962_157465.meta\n",
      "C:\\Users\\AISG\\Documents\\Jonas\\Real_World_Test_DataBase_meta\\18\\44962\\Satellite_18_44962_157466.meta\n",
      "C:\\Users\\AISG\\Documents\\Jonas\\Real_World_Test_DataBase_meta\\18\\44962\\Satellite_18_44962_157467.meta\n",
      "C:\\Users\\AISG\\Documents\\Jonas\\Real_World_Test_DataBase_meta\\18\\44962\\Satellite_18_44962_157468.meta\n",
      "C:\\Users\\AISG\\Documents\\Jonas\\Real_World_Test_DataBase_meta\\18\\44962\\Satellite_18_44962_157469.meta\n",
      "C:\\Users\\AISG\\Documents\\Jonas\\Real_World_Test_DataBase_meta\\18\\44962\\Satellite_18_44962_157470.meta\n",
      "C:\\Users\\AISG\\Documents\\Jonas\\Real_World_Test_DataBase_meta\\18\\44962\\Satellite_18_44962_157471.meta\n",
      "C:\\Users\\AISG\\Documents\\Jonas\\Real_World_Test_DataBase_meta\\18\\44962\\Satellite_18_44962_157472.meta\n",
      "C:\\Users\\AISG\\Documents\\Jonas\\Real_World_Test_DataBase_meta\\18\\44962\\Satellite_18_44962_157473.meta\n",
      "C:\\Users\\AISG\\Documents\\Jonas\\Real_World_Test_DataBase_meta\\18\\44962\\Satellite_18_44962_157474.meta\n",
      "C:\\Users\\AISG\\Documents\\Jonas\\Real_World_Test_DataBase_meta\\18\\44962\\Satellite_18_44962_157475.meta\n",
      "C:\\Users\\AISG\\Documents\\Jonas\\Real_World_Test_DataBase_meta\\18\\44962\\Satellite_18_44962_157476.meta\n",
      "C:\\Users\\AISG\\Documents\\Jonas\\Real_World_Test_DataBase_meta\\18\\44962\\Satellite_18_44962_157477.meta\n",
      "C:\\Users\\AISG\\Documents\\Jonas\\Real_World_Test_DataBase_meta\\18\\44962\\Satellite_18_44962_157478.meta\n",
      "C:\\Users\\AISG\\Documents\\Jonas\\Real_World_Test_DataBase_meta\\18\\44962\\Satellite_18_44962_157479.meta\n",
      "C:\\Users\\AISG\\Documents\\Jonas\\Real_World_Test_DataBase_meta\\18\\44962\\Satellite_18_44962_157480.meta\n",
      "C:\\Users\\AISG\\Documents\\Jonas\\Real_World_Test_DataBase_meta\\18\\44963\\Satellite_18_44963_157462.meta\n",
      "C:\\Users\\AISG\\Documents\\Jonas\\Real_World_Test_DataBase_meta\\18\\44963\\Satellite_18_44963_157463.meta\n",
      "C:\\Users\\AISG\\Documents\\Jonas\\Real_World_Test_DataBase_meta\\18\\44963\\Satellite_18_44963_157464.meta\n",
      "C:\\Users\\AISG\\Documents\\Jonas\\Real_World_Test_DataBase_meta\\18\\44963\\Satellite_18_44963_157465.meta\n",
      "C:\\Users\\AISG\\Documents\\Jonas\\Real_World_Test_DataBase_meta\\18\\44963\\Satellite_18_44963_157466.meta\n",
      "C:\\Users\\AISG\\Documents\\Jonas\\Real_World_Test_DataBase_meta\\18\\44963\\Satellite_18_44963_157467.meta\n",
      "C:\\Users\\AISG\\Documents\\Jonas\\Real_World_Test_DataBase_meta\\18\\44963\\Satellite_18_44963_157468.meta\n",
      "C:\\Users\\AISG\\Documents\\Jonas\\Real_World_Test_DataBase_meta\\18\\44963\\Satellite_18_44963_157469.meta\n",
      "C:\\Users\\AISG\\Documents\\Jonas\\Real_World_Test_DataBase_meta\\18\\44963\\Satellite_18_44963_157470.meta\n",
      "C:\\Users\\AISG\\Documents\\Jonas\\Real_World_Test_DataBase_meta\\18\\44963\\Satellite_18_44963_157471.meta\n",
      "C:\\Users\\AISG\\Documents\\Jonas\\Real_World_Test_DataBase_meta\\18\\44963\\Satellite_18_44963_157472.meta\n",
      "C:\\Users\\AISG\\Documents\\Jonas\\Real_World_Test_DataBase_meta\\18\\44963\\Satellite_18_44963_157473.meta\n",
      "C:\\Users\\AISG\\Documents\\Jonas\\Real_World_Test_DataBase_meta\\18\\44963\\Satellite_18_44963_157474.meta\n",
      "C:\\Users\\AISG\\Documents\\Jonas\\Real_World_Test_DataBase_meta\\18\\44963\\Satellite_18_44963_157475.meta\n",
      "C:\\Users\\AISG\\Documents\\Jonas\\Real_World_Test_DataBase_meta\\18\\44963\\Satellite_18_44963_157476.meta\n",
      "C:\\Users\\AISG\\Documents\\Jonas\\Real_World_Test_DataBase_meta\\18\\44963\\Satellite_18_44963_157477.meta\n",
      "C:\\Users\\AISG\\Documents\\Jonas\\Real_World_Test_DataBase_meta\\18\\44963\\Satellite_18_44963_157478.meta\n",
      "C:\\Users\\AISG\\Documents\\Jonas\\Real_World_Test_DataBase_meta\\18\\44963\\Satellite_18_44963_157479.meta\n",
      "C:\\Users\\AISG\\Documents\\Jonas\\Real_World_Test_DataBase_meta\\18\\44963\\Satellite_18_44963_157480.meta\n",
      "C:\\Users\\AISG\\Documents\\Jonas\\Real_World_Test_DataBase_meta\\18\\44964\\Satellite_18_44964_157462.meta\n",
      "C:\\Users\\AISG\\Documents\\Jonas\\Real_World_Test_DataBase_meta\\18\\44964\\Satellite_18_44964_157463.meta\n",
      "C:\\Users\\AISG\\Documents\\Jonas\\Real_World_Test_DataBase_meta\\18\\44964\\Satellite_18_44964_157464.meta\n",
      "C:\\Users\\AISG\\Documents\\Jonas\\Real_World_Test_DataBase_meta\\18\\44964\\Satellite_18_44964_157465.meta\n",
      "C:\\Users\\AISG\\Documents\\Jonas\\Real_World_Test_DataBase_meta\\18\\44964\\Satellite_18_44964_157466.meta\n",
      "C:\\Users\\AISG\\Documents\\Jonas\\Real_World_Test_DataBase_meta\\18\\44964\\Satellite_18_44964_157467.meta\n",
      "C:\\Users\\AISG\\Documents\\Jonas\\Real_World_Test_DataBase_meta\\18\\44964\\Satellite_18_44964_157468.meta\n"
     ]
    },
    {
     "name": "stderr",
     "output_type": "stream",
     "text": [
      " 95%|█████████████████████████████████████████████████████████████████████████▏   | 2096/2206 [00:05<00:00, 373.13it/s]"
     ]
    },
    {
     "name": "stdout",
     "output_type": "stream",
     "text": [
      "C:\\Users\\AISG\\Documents\\Jonas\\Real_World_Test_DataBase_meta\\18\\44964\\Satellite_18_44964_157469.meta\n",
      "C:\\Users\\AISG\\Documents\\Jonas\\Real_World_Test_DataBase_meta\\18\\44964\\Satellite_18_44964_157470.meta\n",
      "C:\\Users\\AISG\\Documents\\Jonas\\Real_World_Test_DataBase_meta\\18\\44964\\Satellite_18_44964_157471.meta\n",
      "C:\\Users\\AISG\\Documents\\Jonas\\Real_World_Test_DataBase_meta\\18\\44964\\Satellite_18_44964_157472.meta\n",
      "C:\\Users\\AISG\\Documents\\Jonas\\Real_World_Test_DataBase_meta\\18\\44964\\Satellite_18_44964_157473.meta\n",
      "C:\\Users\\AISG\\Documents\\Jonas\\Real_World_Test_DataBase_meta\\18\\44964\\Satellite_18_44964_157474.meta\n",
      "C:\\Users\\AISG\\Documents\\Jonas\\Real_World_Test_DataBase_meta\\18\\44964\\Satellite_18_44964_157475.meta\n",
      "C:\\Users\\AISG\\Documents\\Jonas\\Real_World_Test_DataBase_meta\\18\\44964\\Satellite_18_44964_157476.meta\n",
      "C:\\Users\\AISG\\Documents\\Jonas\\Real_World_Test_DataBase_meta\\18\\44964\\Satellite_18_44964_157477.meta\n",
      "C:\\Users\\AISG\\Documents\\Jonas\\Real_World_Test_DataBase_meta\\18\\44964\\Satellite_18_44964_157478.meta\n",
      "C:\\Users\\AISG\\Documents\\Jonas\\Real_World_Test_DataBase_meta\\18\\44964\\Satellite_18_44964_157479.meta\n",
      "C:\\Users\\AISG\\Documents\\Jonas\\Real_World_Test_DataBase_meta\\18\\44964\\Satellite_18_44964_157480.meta\n",
      "C:\\Users\\AISG\\Documents\\Jonas\\Real_World_Test_DataBase_meta\\18\\44965\\Satellite_18_44965_157462.meta\n",
      "C:\\Users\\AISG\\Documents\\Jonas\\Real_World_Test_DataBase_meta\\18\\44965\\Satellite_18_44965_157463.meta\n",
      "C:\\Users\\AISG\\Documents\\Jonas\\Real_World_Test_DataBase_meta\\18\\44965\\Satellite_18_44965_157464.meta\n",
      "C:\\Users\\AISG\\Documents\\Jonas\\Real_World_Test_DataBase_meta\\18\\44965\\Satellite_18_44965_157465.meta\n",
      "C:\\Users\\AISG\\Documents\\Jonas\\Real_World_Test_DataBase_meta\\18\\44965\\Satellite_18_44965_157466.meta\n",
      "C:\\Users\\AISG\\Documents\\Jonas\\Real_World_Test_DataBase_meta\\18\\44965\\Satellite_18_44965_157467.meta\n",
      "C:\\Users\\AISG\\Documents\\Jonas\\Real_World_Test_DataBase_meta\\18\\44965\\Satellite_18_44965_157468.meta\n",
      "C:\\Users\\AISG\\Documents\\Jonas\\Real_World_Test_DataBase_meta\\18\\44965\\Satellite_18_44965_157469.meta\n",
      "C:\\Users\\AISG\\Documents\\Jonas\\Real_World_Test_DataBase_meta\\18\\44965\\Satellite_18_44965_157470.meta\n",
      "C:\\Users\\AISG\\Documents\\Jonas\\Real_World_Test_DataBase_meta\\18\\44965\\Satellite_18_44965_157471.meta\n",
      "C:\\Users\\AISG\\Documents\\Jonas\\Real_World_Test_DataBase_meta\\18\\44965\\Satellite_18_44965_157472.meta\n",
      "C:\\Users\\AISG\\Documents\\Jonas\\Real_World_Test_DataBase_meta\\18\\44965\\Satellite_18_44965_157473.meta\n",
      "C:\\Users\\AISG\\Documents\\Jonas\\Real_World_Test_DataBase_meta\\18\\44965\\Satellite_18_44965_157474.meta\n",
      "C:\\Users\\AISG\\Documents\\Jonas\\Real_World_Test_DataBase_meta\\18\\44965\\Satellite_18_44965_157475.meta\n",
      "C:\\Users\\AISG\\Documents\\Jonas\\Real_World_Test_DataBase_meta\\18\\44965\\Satellite_18_44965_157476.meta\n",
      "C:\\Users\\AISG\\Documents\\Jonas\\Real_World_Test_DataBase_meta\\18\\44965\\Satellite_18_44965_157477.meta\n",
      "C:\\Users\\AISG\\Documents\\Jonas\\Real_World_Test_DataBase_meta\\18\\44965\\Satellite_18_44965_157478.meta\n",
      "C:\\Users\\AISG\\Documents\\Jonas\\Real_World_Test_DataBase_meta\\18\\44965\\Satellite_18_44965_157479.meta\n",
      "C:\\Users\\AISG\\Documents\\Jonas\\Real_World_Test_DataBase_meta\\18\\44965\\Satellite_18_44965_157480.meta\n",
      "C:\\Users\\AISG\\Documents\\Jonas\\Real_World_Test_DataBase_meta\\18\\44966\\Satellite_18_44966_157462.meta\n",
      "C:\\Users\\AISG\\Documents\\Jonas\\Real_World_Test_DataBase_meta\\18\\44966\\Satellite_18_44966_157463.meta\n",
      "C:\\Users\\AISG\\Documents\\Jonas\\Real_World_Test_DataBase_meta\\18\\44966\\Satellite_18_44966_157464.meta\n",
      "C:\\Users\\AISG\\Documents\\Jonas\\Real_World_Test_DataBase_meta\\18\\44966\\Satellite_18_44966_157465.meta\n",
      "C:\\Users\\AISG\\Documents\\Jonas\\Real_World_Test_DataBase_meta\\18\\44966\\Satellite_18_44966_157466.meta\n",
      "C:\\Users\\AISG\\Documents\\Jonas\\Real_World_Test_DataBase_meta\\18\\44966\\Satellite_18_44966_157467.meta\n",
      "C:\\Users\\AISG\\Documents\\Jonas\\Real_World_Test_DataBase_meta\\18\\44966\\Satellite_18_44966_157468.meta\n",
      "C:\\Users\\AISG\\Documents\\Jonas\\Real_World_Test_DataBase_meta\\18\\44966\\Satellite_18_44966_157469.meta\n",
      "C:\\Users\\AISG\\Documents\\Jonas\\Real_World_Test_DataBase_meta\\18\\44966\\Satellite_18_44966_157470.meta\n",
      "C:\\Users\\AISG\\Documents\\Jonas\\Real_World_Test_DataBase_meta\\18\\44966\\Satellite_18_44966_157471.meta\n",
      "C:\\Users\\AISG\\Documents\\Jonas\\Real_World_Test_DataBase_meta\\18\\44966\\Satellite_18_44966_157472.meta\n",
      "C:\\Users\\AISG\\Documents\\Jonas\\Real_World_Test_DataBase_meta\\18\\44966\\Satellite_18_44966_157473.meta\n",
      "C:\\Users\\AISG\\Documents\\Jonas\\Real_World_Test_DataBase_meta\\18\\44966\\Satellite_18_44966_157474.meta\n",
      "C:\\Users\\AISG\\Documents\\Jonas\\Real_World_Test_DataBase_meta\\18\\44966\\Satellite_18_44966_157475.meta\n",
      "C:\\Users\\AISG\\Documents\\Jonas\\Real_World_Test_DataBase_meta\\18\\44966\\Satellite_18_44966_157476.meta\n",
      "C:\\Users\\AISG\\Documents\\Jonas\\Real_World_Test_DataBase_meta\\18\\44966\\Satellite_18_44966_157477.meta\n",
      "C:\\Users\\AISG\\Documents\\Jonas\\Real_World_Test_DataBase_meta\\18\\44966\\Satellite_18_44966_157478.meta\n",
      "C:\\Users\\AISG\\Documents\\Jonas\\Real_World_Test_DataBase_meta\\18\\44966\\Satellite_18_44966_157479.meta\n",
      "C:\\Users\\AISG\\Documents\\Jonas\\Real_World_Test_DataBase_meta\\18\\44966\\Satellite_18_44966_157480.meta\n",
      "C:\\Users\\AISG\\Documents\\Jonas\\Real_World_Test_DataBase_meta\\18\\44967\\Satellite_18_44967_157462.meta\n",
      "C:\\Users\\AISG\\Documents\\Jonas\\Real_World_Test_DataBase_meta\\18\\44967\\Satellite_18_44967_157463.meta\n",
      "C:\\Users\\AISG\\Documents\\Jonas\\Real_World_Test_DataBase_meta\\18\\44967\\Satellite_18_44967_157464.meta\n",
      "C:\\Users\\AISG\\Documents\\Jonas\\Real_World_Test_DataBase_meta\\18\\44967\\Satellite_18_44967_157465.meta\n",
      "C:\\Users\\AISG\\Documents\\Jonas\\Real_World_Test_DataBase_meta\\18\\44967\\Satellite_18_44967_157466.meta\n",
      "C:\\Users\\AISG\\Documents\\Jonas\\Real_World_Test_DataBase_meta\\18\\44967\\Satellite_18_44967_157467.meta\n",
      "C:\\Users\\AISG\\Documents\\Jonas\\Real_World_Test_DataBase_meta\\18\\44967\\Satellite_18_44967_157468.meta\n",
      "C:\\Users\\AISG\\Documents\\Jonas\\Real_World_Test_DataBase_meta\\18\\44967\\Satellite_18_44967_157469.meta\n",
      "C:\\Users\\AISG\\Documents\\Jonas\\Real_World_Test_DataBase_meta\\18\\44967\\Satellite_18_44967_157470.meta\n",
      "C:\\Users\\AISG\\Documents\\Jonas\\Real_World_Test_DataBase_meta\\18\\44967\\Satellite_18_44967_157471.meta\n",
      "C:\\Users\\AISG\\Documents\\Jonas\\Real_World_Test_DataBase_meta\\18\\44967\\Satellite_18_44967_157472.meta\n",
      "C:\\Users\\AISG\\Documents\\Jonas\\Real_World_Test_DataBase_meta\\18\\44967\\Satellite_18_44967_157473.meta\n",
      "C:\\Users\\AISG\\Documents\\Jonas\\Real_World_Test_DataBase_meta\\18\\44967\\Satellite_18_44967_157474.meta\n",
      "C:\\Users\\AISG\\Documents\\Jonas\\Real_World_Test_DataBase_meta\\18\\44967\\Satellite_18_44967_157475.meta\n",
      "C:\\Users\\AISG\\Documents\\Jonas\\Real_World_Test_DataBase_meta\\18\\44967\\Satellite_18_44967_157476.meta\n",
      "C:\\Users\\AISG\\Documents\\Jonas\\Real_World_Test_DataBase_meta\\18\\44967\\Satellite_18_44967_157477.meta\n",
      "C:\\Users\\AISG\\Documents\\Jonas\\Real_World_Test_DataBase_meta\\18\\44967\\Satellite_18_44967_157478.meta\n",
      "C:\\Users\\AISG\\Documents\\Jonas\\Real_World_Test_DataBase_meta\\18\\44967\\Satellite_18_44967_157479.meta\n",
      "C:\\Users\\AISG\\Documents\\Jonas\\Real_World_Test_DataBase_meta\\18\\44967\\Satellite_18_44967_157480.meta\n",
      "C:\\Users\\AISG\\Documents\\Jonas\\Real_World_Test_DataBase_meta\\18\\44968\\Satellite_18_44968_157462.meta\n",
      "C:\\Users\\AISG\\Documents\\Jonas\\Real_World_Test_DataBase_meta\\18\\44968\\Satellite_18_44968_157463.meta\n",
      "C:\\Users\\AISG\\Documents\\Jonas\\Real_World_Test_DataBase_meta\\18\\44968\\Satellite_18_44968_157464.meta\n"
     ]
    },
    {
     "name": "stderr",
     "output_type": "stream",
     "text": [
      " 99%|████████████████████████████████████████████████████████████████████████████ | 2178/2206 [00:05<00:00, 387.04it/s]"
     ]
    },
    {
     "name": "stdout",
     "output_type": "stream",
     "text": [
      "C:\\Users\\AISG\\Documents\\Jonas\\Real_World_Test_DataBase_meta\\18\\44968\\Satellite_18_44968_157465.meta\n",
      "C:\\Users\\AISG\\Documents\\Jonas\\Real_World_Test_DataBase_meta\\18\\44968\\Satellite_18_44968_157466.meta\n",
      "C:\\Users\\AISG\\Documents\\Jonas\\Real_World_Test_DataBase_meta\\18\\44968\\Satellite_18_44968_157467.meta\n",
      "C:\\Users\\AISG\\Documents\\Jonas\\Real_World_Test_DataBase_meta\\18\\44968\\Satellite_18_44968_157468.meta\n",
      "C:\\Users\\AISG\\Documents\\Jonas\\Real_World_Test_DataBase_meta\\18\\44968\\Satellite_18_44968_157469.meta\n",
      "C:\\Users\\AISG\\Documents\\Jonas\\Real_World_Test_DataBase_meta\\18\\44968\\Satellite_18_44968_157470.meta\n",
      "C:\\Users\\AISG\\Documents\\Jonas\\Real_World_Test_DataBase_meta\\18\\44968\\Satellite_18_44968_157471.meta\n",
      "C:\\Users\\AISG\\Documents\\Jonas\\Real_World_Test_DataBase_meta\\18\\44968\\Satellite_18_44968_157472.meta\n",
      "C:\\Users\\AISG\\Documents\\Jonas\\Real_World_Test_DataBase_meta\\18\\44968\\Satellite_18_44968_157473.meta\n",
      "C:\\Users\\AISG\\Documents\\Jonas\\Real_World_Test_DataBase_meta\\18\\44968\\Satellite_18_44968_157474.meta\n",
      "C:\\Users\\AISG\\Documents\\Jonas\\Real_World_Test_DataBase_meta\\18\\44968\\Satellite_18_44968_157475.meta\n",
      "C:\\Users\\AISG\\Documents\\Jonas\\Real_World_Test_DataBase_meta\\18\\44968\\Satellite_18_44968_157476.meta\n",
      "C:\\Users\\AISG\\Documents\\Jonas\\Real_World_Test_DataBase_meta\\18\\44968\\Satellite_18_44968_157477.meta\n",
      "C:\\Users\\AISG\\Documents\\Jonas\\Real_World_Test_DataBase_meta\\18\\44968\\Satellite_18_44968_157478.meta\n",
      "C:\\Users\\AISG\\Documents\\Jonas\\Real_World_Test_DataBase_meta\\18\\44968\\Satellite_18_44968_157479.meta\n",
      "C:\\Users\\AISG\\Documents\\Jonas\\Real_World_Test_DataBase_meta\\18\\44968\\Satellite_18_44968_157480.meta\n",
      "C:\\Users\\AISG\\Documents\\Jonas\\Real_World_Test_DataBase_meta\\18\\44969\\Satellite_18_44969_157462.meta\n",
      "C:\\Users\\AISG\\Documents\\Jonas\\Real_World_Test_DataBase_meta\\18\\44969\\Satellite_18_44969_157463.meta\n",
      "C:\\Users\\AISG\\Documents\\Jonas\\Real_World_Test_DataBase_meta\\18\\44969\\Satellite_18_44969_157464.meta\n",
      "C:\\Users\\AISG\\Documents\\Jonas\\Real_World_Test_DataBase_meta\\18\\44969\\Satellite_18_44969_157465.meta\n",
      "C:\\Users\\AISG\\Documents\\Jonas\\Real_World_Test_DataBase_meta\\18\\44969\\Satellite_18_44969_157466.meta\n",
      "C:\\Users\\AISG\\Documents\\Jonas\\Real_World_Test_DataBase_meta\\18\\44969\\Satellite_18_44969_157467.meta\n",
      "C:\\Users\\AISG\\Documents\\Jonas\\Real_World_Test_DataBase_meta\\18\\44969\\Satellite_18_44969_157468.meta\n",
      "C:\\Users\\AISG\\Documents\\Jonas\\Real_World_Test_DataBase_meta\\18\\44969\\Satellite_18_44969_157469.meta\n",
      "C:\\Users\\AISG\\Documents\\Jonas\\Real_World_Test_DataBase_meta\\18\\44969\\Satellite_18_44969_157470.meta\n",
      "C:\\Users\\AISG\\Documents\\Jonas\\Real_World_Test_DataBase_meta\\18\\44969\\Satellite_18_44969_157471.meta\n",
      "C:\\Users\\AISG\\Documents\\Jonas\\Real_World_Test_DataBase_meta\\18\\44969\\Satellite_18_44969_157472.meta\n",
      "C:\\Users\\AISG\\Documents\\Jonas\\Real_World_Test_DataBase_meta\\18\\44969\\Satellite_18_44969_157473.meta\n",
      "C:\\Users\\AISG\\Documents\\Jonas\\Real_World_Test_DataBase_meta\\18\\44969\\Satellite_18_44969_157474.meta\n",
      "C:\\Users\\AISG\\Documents\\Jonas\\Real_World_Test_DataBase_meta\\18\\44969\\Satellite_18_44969_157475.meta\n",
      "C:\\Users\\AISG\\Documents\\Jonas\\Real_World_Test_DataBase_meta\\18\\44969\\Satellite_18_44969_157476.meta\n",
      "C:\\Users\\AISG\\Documents\\Jonas\\Real_World_Test_DataBase_meta\\18\\44969\\Satellite_18_44969_157477.meta\n",
      "C:\\Users\\AISG\\Documents\\Jonas\\Real_World_Test_DataBase_meta\\18\\44969\\Satellite_18_44969_157478.meta\n",
      "C:\\Users\\AISG\\Documents\\Jonas\\Real_World_Test_DataBase_meta\\18\\44969\\Satellite_18_44969_157479.meta\n",
      "C:\\Users\\AISG\\Documents\\Jonas\\Real_World_Test_DataBase_meta\\18\\44969\\Satellite_18_44969_157480.meta\n",
      "C:\\Users\\AISG\\Documents\\Jonas\\Real_World_Test_DataBase_meta\\18\\44970\\Satellite_18_44970_157462.meta\n",
      "C:\\Users\\AISG\\Documents\\Jonas\\Real_World_Test_DataBase_meta\\18\\44970\\Satellite_18_44970_157463.meta\n",
      "C:\\Users\\AISG\\Documents\\Jonas\\Real_World_Test_DataBase_meta\\18\\44970\\Satellite_18_44970_157464.meta\n",
      "C:\\Users\\AISG\\Documents\\Jonas\\Real_World_Test_DataBase_meta\\18\\44970\\Satellite_18_44970_157465.meta\n",
      "C:\\Users\\AISG\\Documents\\Jonas\\Real_World_Test_DataBase_meta\\18\\44970\\Satellite_18_44970_157466.meta\n",
      "C:\\Users\\AISG\\Documents\\Jonas\\Real_World_Test_DataBase_meta\\18\\44970\\Satellite_18_44970_157467.meta\n",
      "C:\\Users\\AISG\\Documents\\Jonas\\Real_World_Test_DataBase_meta\\18\\44970\\Satellite_18_44970_157468.meta\n",
      "C:\\Users\\AISG\\Documents\\Jonas\\Real_World_Test_DataBase_meta\\18\\44970\\Satellite_18_44970_157469.meta\n",
      "C:\\Users\\AISG\\Documents\\Jonas\\Real_World_Test_DataBase_meta\\18\\44970\\Satellite_18_44970_157470.meta\n",
      "C:\\Users\\AISG\\Documents\\Jonas\\Real_World_Test_DataBase_meta\\18\\44970\\Satellite_18_44970_157471.meta\n",
      "C:\\Users\\AISG\\Documents\\Jonas\\Real_World_Test_DataBase_meta\\18\\44970\\Satellite_18_44970_157472.meta\n",
      "C:\\Users\\AISG\\Documents\\Jonas\\Real_World_Test_DataBase_meta\\18\\44970\\Satellite_18_44970_157473.meta\n",
      "C:\\Users\\AISG\\Documents\\Jonas\\Real_World_Test_DataBase_meta\\18\\44970\\Satellite_18_44970_157474.meta\n",
      "C:\\Users\\AISG\\Documents\\Jonas\\Real_World_Test_DataBase_meta\\18\\44970\\Satellite_18_44970_157475.meta\n",
      "C:\\Users\\AISG\\Documents\\Jonas\\Real_World_Test_DataBase_meta\\18\\44970\\Satellite_18_44970_157476.meta\n",
      "C:\\Users\\AISG\\Documents\\Jonas\\Real_World_Test_DataBase_meta\\18\\44970\\Satellite_18_44970_157477.meta\n",
      "C:\\Users\\AISG\\Documents\\Jonas\\Real_World_Test_DataBase_meta\\18\\44970\\Satellite_18_44970_157478.meta\n",
      "C:\\Users\\AISG\\Documents\\Jonas\\Real_World_Test_DataBase_meta\\18\\44970\\Satellite_18_44970_157479.meta\n",
      "C:\\Users\\AISG\\Documents\\Jonas\\Real_World_Test_DataBase_meta\\18\\44970\\Satellite_18_44970_157480.meta\n",
      "C:\\Users\\AISG\\Documents\\Jonas\\Real_World_Test_DataBase_meta\\18\\67852\\Satellite_18_67852_157017.meta\n",
      "C:\\Users\\AISG\\Documents\\Jonas\\Real_World_Test_DataBase_meta\\18\\67852\\Satellite_18_67852_157018.meta\n",
      "C:\\Users\\AISG\\Documents\\Jonas\\Real_World_Test_DataBase_meta\\18\\67852\\Satellite_18_67852_157019.meta\n",
      "C:\\Users\\AISG\\Documents\\Jonas\\Real_World_Test_DataBase_meta\\18\\67852\\Satellite_18_67852_157020.meta\n",
      "C:\\Users\\AISG\\Documents\\Jonas\\Real_World_Test_DataBase_meta\\18\\67853\\Satellite_18_67853_157017.meta\n",
      "C:\\Users\\AISG\\Documents\\Jonas\\Real_World_Test_DataBase_meta\\18\\67853\\Satellite_18_67853_157018.meta\n",
      "C:\\Users\\AISG\\Documents\\Jonas\\Real_World_Test_DataBase_meta\\18\\67853\\Satellite_18_67853_157019.meta\n",
      "C:\\Users\\AISG\\Documents\\Jonas\\Real_World_Test_DataBase_meta\\18\\67853\\Satellite_18_67853_157020.meta\n",
      "C:\\Users\\AISG\\Documents\\Jonas\\Real_World_Test_DataBase_meta\\18\\67853\\Satellite_18_67853_157021.meta\n",
      "C:\\Users\\AISG\\Documents\\Jonas\\Real_World_Test_DataBase_meta\\18\\67853\\Satellite_18_67853_157022.meta\n",
      "C:\\Users\\AISG\\Documents\\Jonas\\Real_World_Test_DataBase_meta\\18\\67854\\Satellite_18_67854_157017.meta\n",
      "C:\\Users\\AISG\\Documents\\Jonas\\Real_World_Test_DataBase_meta\\18\\67854\\Satellite_18_67854_157018.meta\n",
      "C:\\Users\\AISG\\Documents\\Jonas\\Real_World_Test_DataBase_meta\\18\\67854\\Satellite_18_67854_157019.meta\n",
      "C:\\Users\\AISG\\Documents\\Jonas\\Real_World_Test_DataBase_meta\\18\\67854\\Satellite_18_67854_157020.meta\n",
      "C:\\Users\\AISG\\Documents\\Jonas\\Real_World_Test_DataBase_meta\\18\\67854\\Satellite_18_67854_157021.meta\n",
      "C:\\Users\\AISG\\Documents\\Jonas\\Real_World_Test_DataBase_meta\\18\\67854\\Satellite_18_67854_157022.meta\n",
      "C:\\Users\\AISG\\Documents\\Jonas\\Real_World_Test_DataBase_meta\\18\\67857\\Satellite_18_67857_157017.meta\n",
      "C:\\Users\\AISG\\Documents\\Jonas\\Real_World_Test_DataBase_meta\\18\\67857\\Satellite_18_67857_157018.meta\n",
      "C:\\Users\\AISG\\Documents\\Jonas\\Real_World_Test_DataBase_meta\\18\\67857\\Satellite_18_67857_157019.meta\n",
      "C:\\Users\\AISG\\Documents\\Jonas\\Real_World_Test_DataBase_meta\\18\\67857\\Satellite_18_67857_157020.meta\n"
     ]
    },
    {
     "name": "stderr",
     "output_type": "stream",
     "text": [
      "\r",
      "100%|█████████████████████████████████████████████████████████████████████████████| 2206/2206 [00:05<00:00, 379.71it/s]"
     ]
    },
    {
     "name": "stdout",
     "output_type": "stream",
     "text": [
      "C:\\Users\\AISG\\Documents\\Jonas\\Real_World_Test_DataBase_meta\\18\\67857\\Satellite_18_67857_157021.meta\n",
      "C:\\Users\\AISG\\Documents\\Jonas\\Real_World_Test_DataBase_meta\\18\\67857\\Satellite_18_67857_157022.meta\n"
     ]
    },
    {
     "name": "stderr",
     "output_type": "stream",
     "text": [
      "\n"
     ]
    }
   ],
   "source": [
    "import sys\n",
    "sys.path.append('..')\n",
    "sys.path.append('detection')\n",
    "from detection.build_placemarks import BuildPlacemarks\n",
    "\n",
    "# meta_folder = \"C:\\\\Users\\\\AISG\\\\Documents\\\\Jonas\\\\Real_World_Dataset_TMS_meta\\\\sat\\\\\"\n",
    "# meta_folder = \"C:\\\\Users\\\\AISG\\\\Documents\\\\Jonas\\\\City\\\\cebu_meta\\\\sat\"\n",
    "meta_folder = \"C:\\\\Users\\\\AISG\\\\Documents\\\\Jonas\\\\Real_World_Test_DataBase_meta\\\\18\\\\\"\n",
    "model_number = 10\n",
    "threshold = 0.0\n",
    "\n",
    "# index_path = \"helipad_path_over_0_m10.txt\"\n",
    "index_path = None\n",
    "\n",
    "knn = False\n",
    "model_name = \"cnn_validation\"\n",
    "model_validation_threshold = 0.0\n",
    "\n",
    "prefix = 'Real_World_Test_DataBase_'\n",
    "\n",
    "build_placemarks = BuildPlacemarks(meta_folder,\n",
    "                                   model_number,\n",
    "                                   threshold,\n",
    "                                   knn=knn,\n",
    "                                   model_name=model_name,\n",
    "                                   model_validation_threshold=model_validation_threshold,\n",
    "                                   index_path=index_path,\n",
    "                                   prefix=prefix)\n",
    "\n",
    "build_placemarks.run()"
   ]
  },
  {
   "cell_type": "markdown",
   "metadata": {},
   "source": [
    "### Transfer the placemarks to my local machine"
   ]
  },
  {
   "cell_type": "code",
   "execution_count": null,
   "metadata": {},
   "outputs": [],
   "source": []
  }
 ],
 "metadata": {
  "kernelspec": {
   "display_name": "tf-gpu_1.13",
   "language": "python",
   "name": "tf-gpu_1.13"
  },
  "language_info": {
   "codemirror_mode": {
    "name": "ipython",
    "version": 3
   },
   "file_extension": ".py",
   "mimetype": "text/x-python",
   "name": "python",
   "nbconvert_exporter": "python",
   "pygments_lexer": "ipython3",
   "version": "3.7.6"
  }
 },
 "nbformat": 4,
 "nbformat_minor": 2
}
