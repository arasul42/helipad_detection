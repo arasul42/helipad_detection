{
 "cells": [
  {
   "cell_type": "markdown",
   "metadata": {},
   "source": [
    "# Training a new CNN on the detected bounding boxes to distinguish between `helipad` and `false_positive`. \n",
    "\n",
    "# This notebook contained the entire training pipeline in order."
   ]
  },
  {
   "cell_type": "code",
   "execution_count": null,
   "metadata": {},
   "outputs": [],
   "source": [
    "import os\n",
    "import numpy as np\n",
    "\n",
    "import sys\n",
    "sys.path.append('..')\n",
    "sys.path.append('../../')"
   ]
  },
  {
   "cell_type": "markdown",
   "metadata": {},
   "source": [
    "# Build the bounding box dataset"
   ]
  },
  {
   "cell_type": "code",
   "execution_count": null,
   "metadata": {},
   "outputs": [],
   "source": [
    "from bb_build_dataset import BBBuildDataset\n",
    "\n",
    "image_folder = \"C:\\\\Users\\\\AISG\\\\Documents\\\\Jonas\\\\Real_World_Dataset_TMS\\\\sat\\\\19\\\\\"\n",
    "meta_folder = \"C:\\\\Users\\\\AISG\\\\Documents\\\\Jonas\\\\Real_World_Dataset_TMS_meta\\\\sat\\\\19\\\\\"\n",
    "model_number = 7\n",
    "score_threshold = 0.0\n",
    "iou_threshold = 0.5\n",
    "output_folder = \"C:\\\\Users\\\\AISG\\\\Documents\\\\Jonas\\\\Detected_Boxes_TMS\"\n",
    "tms = True\n",
    "groundtruth_bb = False\n",
    "filter_categories = None\n",
    "\n",
    "bb_build_dataset = BBBuildDataset(image_folder=image_folder,\n",
    "                                  meta_folder=meta_folder,\n",
    "                                  model_number=model_number,\n",
    "                                  score_threshold=score_threshold,\n",
    "                                  iou_threshold=iou_threshold,\n",
    "                                  output_folder=output_folder,\n",
    "                                  tms=tms,\n",
    "                                  groundtruth_bb=groundtruth_bb,\n",
    "                                  filter_categories=filter_categories)\n",
    "\n",
    "bb_build_dataset.run()"
   ]
  },
  {
   "cell_type": "markdown",
   "metadata": {},
   "source": [
    "# Annotate the Groundtruth"
   ]
  },
  {
   "cell_type": "code",
   "execution_count": null,
   "metadata": {},
   "outputs": [],
   "source": [
    "from bb_dataset_groundtruth_TMS import BBDatasetGroundtruthTMS\n",
    "\n",
    "image_folder = \"C:\\\\Users\\AISG\\\\Documents\\\\Jonas\\\\Helipad\\\\Real_World_Detected_Boxes\\\\model_10_0.0_zoomout5\\\\sat\"\n",
    "output_folder = \"C:\\\\Users\\AISG\\\\Documents\\\\Jonas\\\\Helipad\\\\Real_World_Detected_Boxes\\\\model_10_0.0_zoomout5_groundtruth\\\\\"\n",
    "source_folder = \"C:\\\\Users\\AISG\\\\Documents\\\\Jonas\\\\Helipad\\\\Real_World_Detected_Boxes\\\\model_10_0.0_groundtruth\\\\\"\n",
    "start_index = 0\n",
    "\n",
    "bb_build_groundtruth_tms = BBDatasetGroundtruthTMS(image_folder=image_folder,\n",
    "                                                   output_folder=output_folder,\n",
    "                                                   start_index=0,\n",
    "                                                   source_from=source_folder)\n",
    "\n",
    "bb_build_groundtruth_tms.run()"
   ]
  },
  {
   "cell_type": "markdown",
   "metadata": {},
   "source": [
    "# Clean the groundtruth in case of mistakes"
   ]
  },
  {
   "cell_type": "code",
   "execution_count": null,
   "metadata": {},
   "outputs": [],
   "source": [
    "from bb_dataset_cleaner import BBDatasetCleaner\n",
    "\n",
    "image_folder = \"C:\\\\Users\\AISG\\\\Documents\\\\Jonas\\\\Detected_Boxes_3\\\\model_7_0.0\\\\test\\\\\"\n",
    "check_false_positive = True\n",
    "start_index = 0\n",
    "\n",
    "bb_dataset_cleaner = BBDatasetCleaner(image_folder=image_folder,\n",
    "                                     check_false_positive=check_false_positive,\n",
    "                                     start_index=start_index)\n",
    "\n",
    "bb_dataset_cleaner.run()"
   ]
  },
  {
   "cell_type": "markdown",
   "metadata": {},
   "source": [
    "# Split the dataset between train and test set"
   ]
  },
  {
   "cell_type": "code",
   "execution_count": null,
   "metadata": {},
   "outputs": [],
   "source": [
    "from bb_dataset_groundtruth_tms_split_test_train import BBDatasetGroundtruthTMSSplitTestTrain\n",
    "\n",
    "image_folder = \"C:\\\\Users\\AISG\\\\Documents\\\\Jonas\\\\Helipad\\\\Real_World_Detected_Boxes\\\\model_10_0.0_groundtruth\\\\\"\n",
    "output_folder = \"C:\\\\Users\\AISG\\\\Documents\\\\Jonas\\\\Helipad\\\\Real_World_Detected_Boxes\\\\model_10_0.0_groundtruth_split\\\\\"\n",
    "test_size = 0.2\n",
    "\n",
    "bb_dataset_groundtruth_tms_split_test_train = BBDatasetGroundtruthTMSSplitTestTrain(image_folder=image_folder,\n",
    "                                                                                   output_folder=output_folder,\n",
    "                                                                                   test_size=test_size)\n",
    "\n",
    "bb_dataset_groundtruth_tms_split_test_train.run()"
   ]
  },
  {
   "cell_type": "markdown",
   "metadata": {},
   "source": [
    "# Now that the dataset is ready for training, train a new CNN on it to distinguish between `helipad` and `false_positive`"
   ]
  },
  {
   "cell_type": "code",
   "execution_count": null,
   "metadata": {},
   "outputs": [],
   "source": [
    "from bb_training_manager import BBTrainingManager\n",
    "\n",
    "image_folder = \"C:\\\\Users\\AISG\\\\Documents\\\\Jonas\\\\Helipad\\\\Real_World_Detected_Boxes\\\\model_10_0.0_groundtruth_split\\\\\"\n",
    "model_filename = \"bb_model_manilla_adam_64.h5\"\n",
    "\n",
    "bbtraining_manager = BBTrainingManager(image_folder)\n",
    "\n",
    "# run the training\n",
    "bbtraining_manager.run()\n",
    "# evaluate accuracy on the test set\n",
    "bbtraining_manager.evaluate()\n",
    "# save the model\n",
    "bbtraining_manager.save(filename=model_filename)\n",
    "# plot the metrics curves\n",
    "bbtraining_manager.plot()"
   ]
  },
  {
   "cell_type": "markdown",
   "metadata": {},
   "source": [
    "# Predict the class of new bounding boxes using the new CNN"
   ]
  },
  {
   "cell_type": "code",
   "execution_count": null,
   "metadata": {},
   "outputs": [],
   "source": [
    "from bb_predict import BBPredict\n",
    "\n",
    "image_folder = \"C:\\\\Users\\\\AISG\\\\Documents\\\\Jonas\\\\Real_World_Dataset_TMS\\\\sat\\\\\"\n",
    "meta_folder = \"C:\\\\Users\\\\AISG\\\\Documents\\\\Jonas\\\\Real_World_Dataset_TMS_meta\\\\sat\\\\\"\n",
    "model_number = 10\n",
    "model_path = \"final_model.h5\"\n",
    "tms = True\n",
    "\n",
    "index_path = \"../helipad_path_over_0_m10.txt\"\n",
    "\n",
    "bbpredict = BBPredict(image_folder=image_folder,\n",
    "                      meta_folder=meta_folder,\n",
    "                      model_number=model_number,\n",
    "                      model_path=model_path,\n",
    "                      tms=tms,\n",
    "                      index_path=index_path)\n",
    "\n",
    "bbpredict.run()"
   ]
  },
  {
   "cell_type": "markdown",
   "metadata": {},
   "source": [
    "# Build a Placemark files taking into account the prediction on the bounding boxes"
   ]
  },
  {
   "cell_type": "code",
   "execution_count": null,
   "metadata": {},
   "outputs": [],
   "source": [
    "import sys\n",
    "sys.path.append('..')\n",
    "sys.path.append('../detection')\n",
    "from detection.build_placemarks import BuildPlacemarks\n",
    "\n",
    "\n",
    "meta_folder = \"C:\\\\Users\\\\AISG\\\\Documents\\\\Jonas\\\\Real_World_Dataset_TMS_meta\\\\sat\\\\\"\n",
    "model_number = 10\n",
    "threshold = 0.7\n",
    "\n",
    "index_path = \"helipad_path_over_0_m10.txt\"\n",
    "# index_path = None\n",
    "\n",
    "knn = True\n",
    "model_name = \"cnn_validation\"\n",
    "model_validation_threshold = 0.7\n",
    "\n",
    "prefix = \"Manilla_\"\n",
    "\n",
    "build_placemarks = BuildPlacemarks(meta_folder,\n",
    "                                   model_number,\n",
    "                                   threshold,\n",
    "                                   knn=knn,\n",
    "                                   model_name=model_name,\n",
    "                                   model_validation_threshold=model_validation_threshold,\n",
    "                                   index_path=index_path, \n",
    "                                   prefix=prefix)\n",
    "\n",
    "build_placemarks.run()"
   ]
  }
 ],
 "metadata": {
  "kernelspec": {
   "display_name": "tf-gpu_1.13",
   "language": "python",
   "name": "tf-gpu_1.13"
  },
  "language_info": {
   "codemirror_mode": {
    "name": "ipython",
    "version": 3
   },
   "file_extension": ".py",
   "mimetype": "text/x-python",
   "name": "python",
   "nbconvert_exporter": "python",
   "pygments_lexer": "ipython3",
   "version": "3.7.6"
  }
 },
 "nbformat": 4,
 "nbformat_minor": 2
}
