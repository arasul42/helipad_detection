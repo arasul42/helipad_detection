{
 "cells": [
  {
   "cell_type": "markdown",
   "metadata": {},
   "source": [
    "# BBDatasetCleaner\n",
    "\n",
    "### Interface to manually verify the bounding boxes inside a classe\n",
    "### The dataset has to be created first by `BBBuildDataset`\n",
    "### For each image, press `y` for confirm the good classification or `n` to confirm the false classification. The bounding box is then moved to the other classe. Press `p` to go back to the previous image."
   ]
  },
  {
   "cell_type": "code",
   "execution_count": 1,
   "metadata": {},
   "outputs": [],
   "source": [
    "import os\n",
    "import cv2\n",
    "import matplotlib.pyplot as plt\n",
    "from IPython.display import clear_output\n",
    "import shutil"
   ]
  },
  {
   "cell_type": "code",
   "execution_count": 2,
   "metadata": {},
   "outputs": [],
   "source": [
    "class BBDatasetCleaner:\n",
    "    \n",
    "    def __init__(self, image_folder, check_false_positive=True, start_index=0):\n",
    "        \"\"\"\n",
    "        'image folder' contains 2 folders : 'helipad' and 'false_positive'\\n\n",
    "        `check_false_positive`: boolean, True to verify the false positives, False to verify the helipads\\n\n",
    "        `start_index`: int, index to where to start the verification.\n",
    "        \"\"\"\n",
    "        self.image_folder = image_folder\n",
    "        self.check_false_positive = check_false_positive\n",
    "        self.start_index = start_index\n",
    "        \n",
    "        if check_false_positive:\n",
    "            self.input_folder = os.path.join(self.image_folder,\n",
    "                                               'false_positive')\n",
    "            self.output_folder = os.path.join(self.image_folder,\n",
    "                                             'helipad')\n",
    "        else:\n",
    "            self.input_folder = os.path.join(self.image_folder,\n",
    "                                               'helipad')\n",
    "            self.output_folder = os.path.join(self.image_folder,\n",
    "                                             'false_positive')\n",
    "    \n",
    "    def build_target_files(self):\n",
    "        \"\"\"\n",
    "        Build the list of target files \n",
    "        \"\"\"\n",
    "        target_files = []\n",
    "        for subdir, dirs, files in os.walk(self.input_folder, topdown=True):\n",
    "            for file in files:\n",
    "                target_files.append(os.path.join(subdir, file))\n",
    "        return target_files\n",
    "    \n",
    "    def run(self):\n",
    "        \"\"\"\n",
    "        Run the interface\n",
    "        \"\"\"\n",
    "        target_files = self.build_target_files()\n",
    "        l = len(target_files)\n",
    "        nb_move = 0\n",
    "        i = self.start_index\n",
    "        \n",
    "        while i < l:\n",
    "            print(i)\n",
    "            print(f'{l-i} files remaining!')\n",
    "            \n",
    "            filepath = target_files[i]\n",
    "            print(filepath)\n",
    "            \n",
    "            image = plt.imread(filepath)\n",
    "\n",
    "            plt.imshow(image)\n",
    "            plt.show()\n",
    "\n",
    "            key = input()\n",
    "\n",
    "            while key != 'y' and key != 'n' and key != 'p':\n",
    "                key = input()\n",
    "\n",
    "            print(key)\n",
    "            \n",
    "            if key == 'p':\n",
    "                i = i-1\n",
    "                continue\n",
    "            if key == 'y':\n",
    "                # yes, move image from input to output\n",
    "                shutil.move(filepath,\n",
    "                           self.output_folder, os.path.basename(filepath))\n",
    "                print('Image moved')\n",
    "                nb_move += 1\n",
    "            \n",
    "            i = i + 1\n",
    "            clear_output()"
   ]
  },
  {
   "cell_type": "code",
   "execution_count": 7,
   "metadata": {},
   "outputs": [],
   "source": [
    "image_folder = \"C:\\\\Users\\AISG\\\\Documents\\\\Jonas\\\\Detected_Boxes_3\\\\model_7_0.0\\\\test\\\\\"\n",
    "check_false_positive = True\n",
    "start_index = 0\n",
    "\n",
    "bb_dataset_cleaner = BBDatasetCleaner(image_folder=image_folder,\n",
    "                                     check_false_positive=check_false_positive,\n",
    "                                     start_index=start_index)\n",
    "\n",
    "bb_dataset_cleaner.run()"
   ]
  }
 ],
 "metadata": {
  "kernelspec": {
   "display_name": "tf-gpu_1.13",
   "language": "python",
   "name": "tf-gpu_1.13"
  },
  "language_info": {
   "codemirror_mode": {
    "name": "ipython",
    "version": 3
   },
   "file_extension": ".py",
   "mimetype": "text/x-python",
   "name": "python",
   "nbconvert_exporter": "python",
   "pygments_lexer": "ipython3",
   "version": "3.7.6"
  }
 },
 "nbformat": 4,
 "nbformat_minor": 2
}
