{
 "cells": [
  {
   "cell_type": "markdown",
   "metadata": {},
   "source": [
    "# Analysis of the Area of the bounding boxes\n",
    "## Bounding boxes too small or too large can't be an helipad"
   ]
  },
  {
   "cell_type": "code",
   "execution_count": 10,
   "metadata": {},
   "outputs": [],
   "source": [
    "import os\n",
    "import json\n",
    "from math import radians, sin, atan, cos, atan2, sqrt\n",
    "import matplotlib.pyplot as plt"
   ]
  },
  {
   "cell_type": "code",
   "execution_count": 2,
   "metadata": {},
   "outputs": [],
   "source": [
    "index_path = \"../helipad_path_over_0_m10.txt\"\n",
    "meta_folder = \"C:\\\\Users\\\\AISG\\\\Documents\\\\Jonas\\\\Real_World_Dataset_TMS_meta\\\\sat\\\\\"\n",
    "bounding_boxes_groundtruth_path = \"C:\\\\Users\\\\AISG\\\\Documents\\\\Jonas\\\\Helipad\\\\Real_World_Detected_Boxes\\\\model_10_0.0_groundtruth\\\\\"\n",
    "model_number = 10"
   ]
  },
  {
   "cell_type": "code",
   "execution_count": 6,
   "metadata": {},
   "outputs": [],
   "source": [
    "def filter_by_area(bb_image_path, meta_folder, model_number, lower=200, higher=600):\n",
    "    bb_image_name = os.path.splitext(os.path.basename(bb_image_path))[0]\n",
    "    image_info = bb_image_name.split('_')\n",
    "    zoom = image_info[1]\n",
    "    xtile = image_info[2]\n",
    "    ytile = image_info[3]\n",
    "    \n",
    "    meta_path = os.path.join(meta_folder, zoom, xtile, f\"Satellite_{zoom}_{xtile}_{ytile}.meta\")\n",
    "    \n",
    "    if not os.path.isfile(meta_path):\n",
    "        print(\"Meta File does not exist\")\n",
    "        return -1\n",
    "    \n",
    "    with open(meta_path, 'r') as j:\n",
    "        meta = json.load(j)\n",
    "    j.close()\n",
    "    bounds = meta[\"predicted\"][\"model_{}\".format(model_number)][\"coordinates\"][\"bounds\"]\n",
    "    l = compute_distance_between_two_gps_points(bounds[0][0], bounds[0][1])\n",
    "    L = compute_distance_between_two_gps_points(bounds[0][0], bounds[0][2])\n",
    "    area = l*L\n",
    "\n",
    "    if area<lower or area>higher:\n",
    "        return 0\n",
    "    else:\n",
    "        return 1\n",
    "\n",
    "def compute_distance_between_two_gps_points(point_1, point_2):\n",
    "    # approximate radius of earth in km\n",
    "    R = 6373.0\n",
    "\n",
    "    lat1 = radians(point_1[0])\n",
    "    lon1 = radians(point_1[1])\n",
    "    lat2 = radians(point_2[0])\n",
    "    lon2 = radians(point_2[1])\n",
    "\n",
    "    dlon = lon2 - lon1\n",
    "    dlat = lat2 - lat1\n",
    "\n",
    "    a = sin(dlat / 2)**2 + cos(lat1) * cos(lat2) * sin(dlon / 2)**2\n",
    "    c = 2 * atan2(sqrt(a), sqrt(1 - a))\n",
    "\n",
    "    distance = R * c * 1000\n",
    "    \n",
    "    return distance\n",
    "\n",
    "def find_groundtruth_from_name(meta_filename, bb_groundtruth_path):\n",
    "    helipad_filenames = os.listdir(os.path.join(bb_groundtruth_path, 'helipad'))\n",
    "    fp_filenames = os.listdir(os.path.join(bb_groundtruth_path, 'false_positive'))\n",
    "    meta_info = meta_filename.split('.')[0]\n",
    "    for filename in helipad_filenames:\n",
    "        image_name = \"_\".join(filename.split('_')[:4])\n",
    "        if image_name == meta_info:\n",
    "            return 'helipad'\n",
    "    \n",
    "    for filename in fp_filenames:\n",
    "        image_name = \"_\".join(filename.split('_')[:4])\n",
    "        if image_name == meta_info:\n",
    "            return 'false_positive'"
   ]
  },
  {
   "cell_type": "code",
   "execution_count": 7,
   "metadata": {},
   "outputs": [],
   "source": [
    "def benchmark_area_filter(bb_groundtruth_path, meta_folder, model_number=10, lower=200, higher=600):\n",
    "    TP = 0\n",
    "    TN = 0\n",
    "    FP = 0\n",
    "    FN = 0\n",
    "    \n",
    "    for subdir, dirs, files in os.walk(os.path.join(bb_groundtruth_path, 'helipad'), topdown=True):\n",
    "        for file in files:\n",
    "            image_path = os.path.join(subdir, file)\n",
    "            res = filter_by_area(image_path, meta_folder, model_number, lower=lower, higher=higher)\n",
    "            if res == 1:\n",
    "                TP += 1\n",
    "            elif res == 0:\n",
    "                FN += 1\n",
    "    \n",
    "    for subdir, dirs, files in os.walk(os.path.join(bb_groundtruth_path, 'false_positive'), topdown=True):\n",
    "        for file in files:\n",
    "            image_path = os.path.join(subdir, file)\n",
    "            res = filter_by_area(image_path, meta_folder, model_number, lower=lower, higher=higher)\n",
    "            if res == 1:\n",
    "                FP += 1\n",
    "            elif res == 0:\n",
    "                TN += 1\n",
    "        \n",
    "    return {'TP': TP, \n",
    "            'TN': TN,\n",
    "            'FP': FP,\n",
    "            'FN': FN}"
   ]
  },
  {
   "cell_type": "code",
   "execution_count": 74,
   "metadata": {},
   "outputs": [],
   "source": [
    "res = benchmark_area_filter(bounding_boxes_groundtruth_path, meta_folder, model_number=10, lower=200, higher=600)"
   ]
  },
  {
   "cell_type": "code",
   "execution_count": 75,
   "metadata": {},
   "outputs": [
    {
     "data": {
      "text/plain": [
       "{'TP': 55, 'TN': 189, 'FP': 311, 'FN': 11}"
      ]
     },
     "execution_count": 75,
     "metadata": {},
     "output_type": "execute_result"
    }
   ],
   "source": [
    "res"
   ]
  },
  {
   "cell_type": "code",
   "execution_count": 29,
   "metadata": {},
   "outputs": [],
   "source": [
    "helipad_area = []\n",
    "fp_area = []\n",
    "fp_scores = []\n",
    "helipad_scores = []\n",
    "helipad_scores_area = []\n",
    "fp_scores_area = []\n",
    "\n",
    "with open(index_path, 'r') as f:\n",
    "    lines = f.readlines()\n",
    "    for line in lines:\n",
    "#         print(line)\n",
    "        groundtruth = find_groundtruth_from_name(line, bounding_boxes_groundtruth_path)\n",
    "#         print(groundtruth)\n",
    "        if groundtruth == None:\n",
    "            continue\n",
    "        info = line.split('_')\n",
    "        zoom = info[1]\n",
    "        xtile = info[2]\n",
    "        ytile = info[3]\n",
    "        if line[len(line)-1] == '\\n':\n",
    "            line = line[:len(line)-1]\n",
    "        meta_path = os.path.join(meta_folder, zoom, xtile, line)\n",
    "        with open(meta_path, 'r') as j:\n",
    "            meta = json.load(j)\n",
    "        j.close()\n",
    "        bounds = meta[\"predicted\"][\"model_{}\".format(model_number)][\"coordinates\"][\"bounds\"]\n",
    "        scores = meta[\"predicted\"][\"model_{}\".format(model_number)][\"score\"]\n",
    "        l = compute_distance_between_two_gps_points(bounds[0][0], bounds[0][1])\n",
    "        L = compute_distance_between_two_gps_points(bounds[0][0], bounds[0][2])\n",
    "        area = l*L\n",
    "        if groundtruth == 'helipad':\n",
    "            helipad_area.append(area)\n",
    "            helipad_scores.extend(scores)\n",
    "            if area >= 164 and area < 547:\n",
    "                helipad_scores_area.extend(scores)\n",
    "        elif groundtruth == 'false_positive':\n",
    "            fp_area.append(area)\n",
    "            fp_scores.extend(scores)\n",
    "            if area >= 164 and area < 547:\n",
    "                fp_scores_area.extend(scores)\n",
    "#         print(distance)\n",
    "#         print()"
   ]
  },
  {
   "cell_type": "code",
   "execution_count": 55,
   "metadata": {},
   "outputs": [
    {
     "data": {
      "text/plain": [
       "(array([ 1.,  0.,  1.,  0.,  0.,  0.,  0.,  0.,  0.,  0.,  0.,  0.,  0.,\n",
       "         0.,  0.,  0.,  0.,  0.,  1.,  1.,  0.,  0.,  0.,  0.,  0.,  1.,\n",
       "         1.,  0.,  0.,  0.,  0.,  0.,  0.,  0.,  0.,  0.,  0.,  0.,  0.,\n",
       "         0.,  0.,  0.,  0.,  0.,  1.,  0.,  0.,  0.,  0.,  0.,  0.,  0.,\n",
       "         1.,  0.,  0.,  0.,  0.,  0.,  0.,  0.,  0.,  0.,  0.,  0.,  0.,\n",
       "         0.,  0.,  1.,  0.,  0.,  0.,  0.,  0.,  0.,  1.,  0.,  1.,  0.,\n",
       "         1.,  1.,  0.,  1.,  0.,  1.,  1.,  1.,  0.,  1.,  1.,  0.,  0.,\n",
       "         2.,  2.,  0.,  1.,  3.,  4., 10., 14., 19.]),\n",
       " array([0.70625412, 0.70915435, 0.71205458, 0.7149548 , 0.71785503,\n",
       "        0.72075525, 0.72365548, 0.7265557 , 0.72945593, 0.73235615,\n",
       "        0.73525638, 0.73815661, 0.74105683, 0.74395706, 0.74685728,\n",
       "        0.74975751, 0.75265773, 0.75555796, 0.75845818, 0.76135841,\n",
       "        0.76425864, 0.76715886, 0.77005909, 0.77295931, 0.77585954,\n",
       "        0.77875976, 0.78165999, 0.78456021, 0.78746044, 0.79036066,\n",
       "        0.79326089, 0.79616112, 0.79906134, 0.80196157, 0.80486179,\n",
       "        0.80776202, 0.81066224, 0.81356247, 0.81646269, 0.81936292,\n",
       "        0.82226315, 0.82516337, 0.8280636 , 0.83096382, 0.83386405,\n",
       "        0.83676427, 0.8396645 , 0.84256472, 0.84546495, 0.84836518,\n",
       "        0.8512654 , 0.85416563, 0.85706585, 0.85996608, 0.8628663 ,\n",
       "        0.86576653, 0.86866675, 0.87156698, 0.8744672 , 0.87736743,\n",
       "        0.88026766, 0.88316788, 0.88606811, 0.88896833, 0.89186856,\n",
       "        0.89476878, 0.89766901, 0.90056923, 0.90346946, 0.90636969,\n",
       "        0.90926991, 0.91217014, 0.91507036, 0.91797059, 0.92087081,\n",
       "        0.92377104, 0.92667126, 0.92957149, 0.93247172, 0.93537194,\n",
       "        0.93827217, 0.94117239, 0.94407262, 0.94697284, 0.94987307,\n",
       "        0.95277329, 0.95567352, 0.95857374, 0.96147397, 0.9643742 ,\n",
       "        0.96727442, 0.97017465, 0.97307487, 0.9759751 , 0.97887532,\n",
       "        0.98177555, 0.98467577, 0.987576  , 0.99047623, 0.99337645,\n",
       "        0.99627668]),\n",
       " <a list of 100 Patch objects>)"
      ]
     },
     "execution_count": 55,
     "metadata": {},
     "output_type": "execute_result"
    },
    {
     "data": {
      "image/png": "[encoded data removed]",
      "text/plain": [
       "<Figure size 432x288 with 1 Axes>"
      ]
     },
     "metadata": {
      "needs_background": "light"
     },
     "output_type": "display_data"
    }
   ],
   "source": [
    "plt.hist(helipad_scores_area, bins=100)"
   ]
  },
  {
   "cell_type": "code",
   "execution_count": 56,
   "metadata": {},
   "outputs": [
    {
     "data": {
      "text/plain": [
       "(array([ 2.,  0.,  3.,  1.,  1.,  1.,  2.,  0.,  2.,  0.,  0.,  1.,  0.,\n",
       "         0.,  1.,  0.,  0.,  3.,  2.,  2.,  2.,  3.,  0.,  1.,  0.,  3.,\n",
       "         1.,  2.,  4.,  2.,  2.,  2.,  3.,  2.,  1.,  0.,  2.,  2.,  3.,\n",
       "         4.,  3.,  3.,  1.,  2.,  2.,  0.,  3.,  0.,  0.,  1.,  1.,  1.,\n",
       "         3.,  4.,  1.,  1.,  0.,  3.,  2.,  2.,  1.,  1.,  1.,  1.,  3.,\n",
       "         3.,  3.,  0.,  2.,  3.,  2.,  2.,  2.,  2.,  2.,  1.,  2.,  2.,\n",
       "         3.,  1.,  5.,  4.,  4.,  3.,  8.,  2.,  4.,  4.,  6.,  7.,  9.,\n",
       "         5.,  7.,  9.,  4., 10., 10., 23., 23., 30.]),\n",
       " array([0.70513272, 0.70802849, 0.71092426, 0.71382003, 0.71671579,\n",
       "        0.71961156, 0.72250733, 0.7254031 , 0.72829886, 0.73119463,\n",
       "        0.7340904 , 0.73698617, 0.73988194, 0.7427777 , 0.74567347,\n",
       "        0.74856924, 0.75146501, 0.75436077, 0.75725654, 0.76015231,\n",
       "        0.76304808, 0.76594384, 0.76883961, 0.77173538, 0.77463115,\n",
       "        0.77752692, 0.78042268, 0.78331845, 0.78621422, 0.78910999,\n",
       "        0.79200575, 0.79490152, 0.79779729, 0.80069306, 0.80358882,\n",
       "        0.80648459, 0.80938036, 0.81227613, 0.8151719 , 0.81806766,\n",
       "        0.82096343, 0.8238592 , 0.82675497, 0.82965073, 0.8325465 ,\n",
       "        0.83544227, 0.83833804, 0.8412338 , 0.84412957, 0.84702534,\n",
       "        0.84992111, 0.85281687, 0.85571264, 0.85860841, 0.86150418,\n",
       "        0.86439995, 0.86729571, 0.87019148, 0.87308725, 0.87598302,\n",
       "        0.87887878, 0.88177455, 0.88467032, 0.88756609, 0.89046185,\n",
       "        0.89335762, 0.89625339, 0.89914916, 0.90204493, 0.90494069,\n",
       "        0.90783646, 0.91073223, 0.913628  , 0.91652376, 0.91941953,\n",
       "        0.9223153 , 0.92521107, 0.92810683, 0.9310026 , 0.93389837,\n",
       "        0.93679414, 0.93968991, 0.94258567, 0.94548144, 0.94837721,\n",
       "        0.95127298, 0.95416874, 0.95706451, 0.95996028, 0.96285605,\n",
       "        0.96575181, 0.96864758, 0.97154335, 0.97443912, 0.97733489,\n",
       "        0.98023065, 0.98312642, 0.98602219, 0.98891796, 0.99181372,\n",
       "        0.99470949]),\n",
       " <a list of 100 Patch objects>)"
      ]
     },
     "execution_count": 56,
     "metadata": {},
     "output_type": "execute_result"
    },
    {
     "data": {
      "image/png": "[encoded data removed]",
      "text/plain": [
       "<Figure size 432x288 with 1 Axes>"
      ]
     },
     "metadata": {
      "needs_background": "light"
     },
     "output_type": "display_data"
    }
   ],
   "source": [
    "plt.hist(fp_scores_area, bins=100)"
   ]
  },
  {
   "cell_type": "code",
   "execution_count": 17,
   "metadata": {},
   "outputs": [
    {
     "data": {
      "text/plain": [
       "(array([ 2.,  0.,  1.,  1.,  0.,  2.,  0.,  1.,  1.,  0.,  0.,  0.,  0.,\n",
       "         1.,  0.,  2.,  0.,  0.,  0.,  0.,  1.,  0.,  2.,  3.,  1.,  3.,\n",
       "         2.,  4.,  7., 49.]),\n",
       " array([0.70625412, 0.71592154, 0.72558896, 0.73525638, 0.7449238 ,\n",
       "        0.75459122, 0.76425864, 0.77392605, 0.78359347, 0.79326089,\n",
       "        0.80292831, 0.81259573, 0.82226315, 0.83193056, 0.84159798,\n",
       "        0.8512654 , 0.86093282, 0.87060024, 0.88026766, 0.88993507,\n",
       "        0.89960249, 0.90926991, 0.91893733, 0.92860475, 0.93827217,\n",
       "        0.94793958, 0.957607  , 0.96727442, 0.97694184, 0.98660926,\n",
       "        0.99627668]),\n",
       " <a list of 30 Patch objects>)"
      ]
     },
     "execution_count": 17,
     "metadata": {},
     "output_type": "execute_result"
    },
    {
     "data": {
      "image/png": "[encoded data removed]",
      "text/plain": [
       "<Figure size 432x288 with 1 Axes>"
      ]
     },
     "metadata": {
      "needs_background": "light"
     },
     "output_type": "display_data"
    }
   ],
   "source": [
    "plt.hist(helipad_scores, bins=30)"
   ]
  },
  {
   "cell_type": "code",
   "execution_count": 18,
   "metadata": {},
   "outputs": [
    {
     "data": {
      "text/plain": [
       "(array([ 11.,   7.,   5.,   1.,   2.,  12.,   9.,   6.,  10.,  11.,   4.,\n",
       "         15.,  10.,  10.,   3.,  10.,  16.,  11.,   8.,  14.,   8.,  12.,\n",
       "         13.,  17.,  19.,  30.,  25.,  43.,  50., 129.]),\n",
       " array([0.70392275, 0.71361564, 0.72330853, 0.73300142, 0.74269431,\n",
       "        0.75238721, 0.7620801 , 0.77177299, 0.78146588, 0.79115877,\n",
       "        0.80085166, 0.81054455, 0.82023745, 0.82993034, 0.83962323,\n",
       "        0.84931612, 0.85900901, 0.8687019 , 0.87839479, 0.88808769,\n",
       "        0.89778058, 0.90747347, 0.91716636, 0.92685925, 0.93655214,\n",
       "        0.94624503, 0.95593793, 0.96563082, 0.97532371, 0.9850166 ,\n",
       "        0.99470949]),\n",
       " <a list of 30 Patch objects>)"
      ]
     },
     "execution_count": 18,
     "metadata": {},
     "output_type": "execute_result"
    },
    {
     "data": {
      "image/png": "[encoded data removed]",
      "text/plain": [
       "<Figure size 432x288 with 1 Axes>"
      ]
     },
     "metadata": {
      "needs_background": "light"
     },
     "output_type": "display_data"
    }
   ],
   "source": [
    "plt.hist(fp_scores, bins=30)"
   ]
  },
  {
   "cell_type": "code",
   "execution_count": 25,
   "metadata": {},
   "outputs": [
    {
     "data": {
      "text/plain": [
       "(array([ 1.,  5., 10.,  5.,  4., 10.,  6.,  3.,  4.,  6.,  4.,  2.,  1.,\n",
       "         2.,  0.,  0.,  1.,  1.,  0.,  1.]),\n",
       " array([126.05546405, 164.30723451, 202.55900498, 240.81077545,\n",
       "        279.06254591, 317.31431638, 355.56608685, 393.81785731,\n",
       "        432.06962778, 470.32139825, 508.57316871, 546.82493918,\n",
       "        585.07670965, 623.32848011, 661.58025058, 699.83202105,\n",
       "        738.08379151, 776.33556198, 814.58733245, 852.83910292,\n",
       "        891.09087338]),\n",
       " <a list of 20 Patch objects>)"
      ]
     },
     "execution_count": 25,
     "metadata": {},
     "output_type": "execute_result"
    },
    {
     "data": {
      "image/png": "[encoded data removed]",
      "text/plain": [
       "<Figure size 432x288 with 1 Axes>"
      ]
     },
     "metadata": {
      "needs_background": "light"
     },
     "output_type": "display_data"
    }
   ],
   "source": [
    "plt.hist(helipad_area, bins=20)"
   ]
  },
  {
   "cell_type": "code",
   "execution_count": 26,
   "metadata": {},
   "outputs": [
    {
     "data": {
      "text/plain": [
       "(array([ 5., 20., 70., 81., 70., 47., 51., 44., 28., 27., 16., 12., 11.,\n",
       "         3.,  6.,  3.,  2.,  0.,  0.,  3.]),\n",
       " array([  54.21047238,  134.63690895,  215.06334552,  295.48978209,\n",
       "         375.91621866,  456.34265523,  536.76909181,  617.19552838,\n",
       "         697.62196495,  778.04840152,  858.47483809,  938.90127466,\n",
       "        1019.32771123, 1099.7541478 , 1180.18058437, 1260.60702094,\n",
       "        1341.03345751, 1421.45989408, 1501.88633065, 1582.31276722,\n",
       "        1662.73920379]),\n",
       " <a list of 20 Patch objects>)"
      ]
     },
     "execution_count": 26,
     "metadata": {},
     "output_type": "execute_result"
    },
    {
     "data": {
      "image/png": "[encoded data removed]",
      "text/plain": [
       "<Figure size 432x288 with 1 Axes>"
      ]
     },
     "metadata": {
      "needs_background": "light"
     },
     "output_type": "display_data"
    }
   ],
   "source": [
    "plt.hist(fp_area, bins=20)"
   ]
  },
  {
   "cell_type": "code",
   "execution_count": 19,
   "metadata": {},
   "outputs": [
    {
     "data": {
      "text/plain": [
       "(array([ 0.,  1.,  5., 10.,  8., 11.,  7.,  3.,  7.,  7.,  2.,  2.,  0.,\n",
       "         1.,  0.,  1.,  1.,  0.,  0.]),\n",
       " array([   0,  100,  150,  200,  250,  300,  350,  400,  450,  500,  550,\n",
       "         600,  650,  700,  750,  800,  850,  900,  950, 1000]),\n",
       " <a list of 19 Patch objects>)"
      ]
     },
     "execution_count": 19,
     "metadata": {},
     "output_type": "execute_result"
    },
    {
     "data": {
      "image/png": "[encoded data removed]",
      "text/plain": [
       "<Figure size 432x288 with 1 Axes>"
      ]
     },
     "metadata": {
      "needs_background": "light"
     },
     "output_type": "display_data"
    }
   ],
   "source": [
    "plt.hist(helipad_area, bins=[0, 100, 150, 200, 250, 300, 350, 400, 450, 500, 550, 600, 650, 700, 750, 800, 850, 900, 950, 1000])"
   ]
  },
  {
   "cell_type": "code",
   "execution_count": 64,
   "metadata": {},
   "outputs": [
    {
     "data": {
      "text/plain": [
       "(array([ 2.,  3., 16., 32., 47., 56., 43., 46., 22., 35., 29., 29., 30.,\n",
       "        17., 13., 19., 16.,  7.,  6.]),\n",
       " array([   0,  100,  150,  200,  250,  300,  350,  400,  450,  500,  550,\n",
       "         600,  650,  700,  750,  800,  850,  900,  950, 1000]),\n",
       " <a list of 19 Patch objects>)"
      ]
     },
     "execution_count": 64,
     "metadata": {},
     "output_type": "execute_result"
    },
    {
     "data": {
      "image/png": "[encoded data removed]",
      "text/plain": [
       "<Figure size 432x288 with 1 Axes>"
      ]
     },
     "metadata": {
      "needs_background": "light"
     },
     "output_type": "display_data"
    }
   ],
   "source": [
    "plt.hist(fp_area, bins=[0, 100, 150, 200, 250, 300, 350, 400, 450, 500, 550, 600, 650, 700, 750, 800, 850, 900, 950, 1000])"
   ]
  }
 ],
 "metadata": {
  "kernelspec": {
   "display_name": "tf-gpu_1.13",
   "language": "python",
   "name": "tf-gpu_1.13"
  },
  "language_info": {
   "codemirror_mode": {
    "name": "ipython",
    "version": 3
   },
   "file_extension": ".py",
   "mimetype": "text/x-python",
   "name": "python",
   "nbconvert_exporter": "python",
   "pygments_lexer": "ipython3",
   "version": "3.7.6"
  }
 },
 "nbformat": 4,
 "nbformat_minor": 2
}
