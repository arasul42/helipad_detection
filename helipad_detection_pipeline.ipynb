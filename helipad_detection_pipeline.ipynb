{
 "cells": [
  {
   "cell_type": "markdown",
   "metadata": {},
   "source": [
    "# Helipad Detection Project Pipeline"
   ]
  },
  {
   "cell_type": "markdown",
   "metadata": {},
   "source": [
    "# 1. Database Creation"
   ]
  },
  {
   "cell_type": "code",
   "execution_count": 1,
   "metadata": {},
   "outputs": [
    {
     "name": "stdout",
     "output_type": "stream",
     "text": [
      "Saved :data\\Helipad_Dataset_meta\\Helipad_Dataset_meta_original\\Folder_000\\Helipad_00000.meta\n",
      "Saved :data\\Helipad_Dataset_meta\\Helipad_Dataset_meta_original\\Folder_000\\Helipad_00001.meta\n",
      "Saved :data\\Helipad_Dataset_meta\\Helipad_Dataset_meta_original\\Folder_000\\Helipad_00002.meta\n",
      "Saved :data\\Helipad_Dataset_meta\\Helipad_Dataset_meta_original\\Folder_000\\Helipad_00003.meta\n",
      "Saved :data\\Helipad_Dataset_meta\\Helipad_Dataset_meta_original\\Folder_000\\Helipad_00004.meta\n",
      "Saved :data\\Helipad_Dataset_meta\\Helipad_Dataset_meta_original\\Folder_000\\Helipad_00005.meta\n",
      "Saved :data\\Helipad_Dataset_meta\\Helipad_Dataset_meta_original\\Folder_000\\Helipad_00006.meta\n",
      "Saved :data\\Helipad_Dataset_meta\\Helipad_Dataset_meta_original\\Folder_000\\Helipad_00007.meta\n",
      "Saved :data\\Helipad_Dataset_meta\\Helipad_Dataset_meta_original\\Folder_000\\Helipad_00008.meta\n",
      "Saved :data\\Helipad_Dataset_meta\\Helipad_Dataset_meta_original\\Folder_000\\Helipad_00009.meta\n",
      "Saved :data\\Helipad_Dataset_meta\\Helipad_Dataset_meta_original\\Folder_000\\Helipad_00016.meta\n",
      "Saved :data\\Helipad_Dataset_meta\\Helipad_Dataset_meta_original\\Folder_000\\Helipad_00017.meta\n",
      "Saved :data\\Helipad_Dataset_meta\\Helipad_Dataset_meta_original\\Folder_000\\Helipad_00019.meta\n",
      "Saved :data\\Helipad_Dataset_meta\\Helipad_Dataset_meta_original\\Folder_000\\Helipad_00020.meta\n",
      "Saved :data\\Helipad_Dataset_meta\\Helipad_Dataset_meta_original\\Folder_000\\Helipad_00021.meta\n",
      "Saved :data\\Helipad_Dataset_meta\\Helipad_Dataset_meta_original\\Folder_000\\Helipad_00022.meta\n",
      "Saved :data\\Helipad_Dataset_meta\\Helipad_Dataset_meta_original\\Folder_000\\Helipad_00023.meta\n",
      "Saved :data\\Helipad_Dataset_meta\\Helipad_Dataset_meta_original\\Folder_000\\Helipad_00029.meta\n",
      "Saved :data\\Helipad_Dataset_meta\\Helipad_Dataset_meta_original\\Folder_000\\Helipad_00030.meta\n",
      "Saved :data\\Helipad_Dataset_meta\\Helipad_Dataset_meta_original\\Folder_000\\Helipad_00031.meta\n",
      "Saved :data\\Helipad_Dataset_meta\\Helipad_Dataset_meta_original\\Folder_000\\Helipad_00032.meta\n",
      "Saved :data\\Helipad_Dataset_meta\\Helipad_Dataset_meta_original\\Folder_000\\Helipad_00033.meta\n",
      "Saved :data\\Helipad_Dataset_meta\\Helipad_Dataset_meta_original\\Folder_000\\Helipad_00037.meta\n",
      "Saved :data\\Helipad_Dataset_meta\\Helipad_Dataset_meta_original\\Folder_000\\Helipad_00040.meta\n",
      "Saved :data\\Helipad_Dataset_meta\\Helipad_Dataset_meta_original\\Folder_000\\Helipad_00041.meta\n",
      "Saved :data\\Helipad_Dataset_meta\\Helipad_Dataset_meta_original\\Folder_000\\Helipad_00042.meta\n",
      "Saved :data\\Helipad_Dataset_meta\\Helipad_Dataset_meta_original\\Folder_000\\Helipad_00043.meta\n",
      "Saved :data\\Helipad_Dataset_meta\\Helipad_Dataset_meta_original\\Folder_000\\Helipad_00045.meta\n",
      "Saved :data\\Helipad_Dataset_meta\\Helipad_Dataset_meta_original\\Folder_000\\Helipad_00047.meta\n",
      "Saved :data\\Helipad_Dataset_meta\\Helipad_Dataset_meta_original\\Folder_000\\Helipad_00048.meta\n",
      "Saved :data\\Helipad_Dataset_meta\\Helipad_Dataset_meta_original\\Folder_000\\Helipad_00050.meta\n",
      "Saved :data\\Helipad_Dataset_meta\\Helipad_Dataset_meta_original\\Folder_000\\Helipad_00051.meta\n",
      "Saved :data\\Helipad_Dataset_meta\\Helipad_Dataset_meta_original\\Folder_000\\Helipad_00052.meta\n",
      "Saved :data\\Helipad_Dataset_meta\\Helipad_Dataset_meta_original\\Folder_000\\Helipad_00053.meta\n",
      "Saved :data\\Helipad_Dataset_meta\\Helipad_Dataset_meta_original\\Folder_000\\Helipad_00054.meta\n",
      "Saved :data\\Helipad_Dataset_meta\\Helipad_Dataset_meta_original\\Folder_000\\Helipad_00055.meta\n",
      "Saved :data\\Helipad_Dataset_meta\\Helipad_Dataset_meta_original\\Folder_000\\Helipad_00056.meta\n",
      "Saved :data\\Helipad_Dataset_meta\\Helipad_Dataset_meta_original\\Folder_000\\Helipad_00057.meta\n",
      "Saved :data\\Helipad_Dataset_meta\\Helipad_Dataset_meta_original\\Folder_000\\Helipad_00058.meta\n",
      "Saved :data\\Helipad_Dataset_meta\\Helipad_Dataset_meta_original\\Folder_000\\Helipad_00059.meta\n",
      "Saved :data\\Helipad_Dataset_meta\\Helipad_Dataset_meta_original\\Folder_000\\Helipad_00060.meta\n",
      "Saved :data\\Helipad_Dataset_meta\\Helipad_Dataset_meta_original\\Folder_000\\Helipad_00061.meta\n",
      "Saved :data\\Helipad_Dataset_meta\\Helipad_Dataset_meta_original\\Folder_000\\Helipad_00062.meta\n",
      "Saved :data\\Helipad_Dataset_meta\\Helipad_Dataset_meta_original\\Folder_000\\Helipad_00063.meta\n",
      "Saved :data\\Helipad_Dataset_meta\\Helipad_Dataset_meta_original\\Folder_000\\Helipad_00064.meta\n",
      "Saved :data\\Helipad_Dataset_meta\\Helipad_Dataset_meta_original\\Folder_000\\Helipad_00065.meta\n",
      "Saved :data\\Helipad_Dataset_meta\\Helipad_Dataset_meta_original\\Folder_000\\Helipad_00066.meta\n",
      "Saved :data\\Helipad_Dataset_meta\\Helipad_Dataset_meta_original\\Folder_000\\Helipad_00067.meta\n",
      "Saved :data\\Helipad_Dataset_meta\\Helipad_Dataset_meta_original\\Folder_000\\Helipad_00068.meta\n",
      "Saved :data\\Helipad_Dataset_meta\\Helipad_Dataset_meta_original\\Folder_000\\Helipad_00069.meta\n",
      "Saved :data\\Helipad_Dataset_meta\\Helipad_Dataset_meta_original\\Folder_000\\Helipad_00070.meta\n",
      "Saved :data\\Helipad_Dataset_meta\\Helipad_Dataset_meta_original\\Folder_000\\Helipad_00071.meta\n",
      "Saved :data\\Helipad_Dataset_meta\\Helipad_Dataset_meta_original\\Folder_000\\Helipad_00072.meta\n",
      "Saved :data\\Helipad_Dataset_meta\\Helipad_Dataset_meta_original\\Folder_000\\Helipad_00073.meta\n",
      "Saved :data\\Helipad_Dataset_meta\\Helipad_Dataset_meta_original\\Folder_000\\Helipad_00074.meta\n",
      "Saved :data\\Helipad_Dataset_meta\\Helipad_Dataset_meta_original\\Folder_000\\Helipad_00075.meta\n",
      "Saved :data\\Helipad_Dataset_meta\\Helipad_Dataset_meta_original\\Folder_000\\Helipad_00076.meta\n",
      "Saved :data\\Helipad_Dataset_meta\\Helipad_Dataset_meta_original\\Folder_000\\Helipad_00077.meta\n",
      "Saved :data\\Helipad_Dataset_meta\\Helipad_Dataset_meta_original\\Folder_000\\Helipad_00078.meta\n",
      "Saved :data\\Helipad_Dataset_meta\\Helipad_Dataset_meta_original\\Folder_000\\Helipad_00079.meta\n",
      "Saved :data\\Helipad_Dataset_meta\\Helipad_Dataset_meta_original\\Folder_000\\Helipad_00080.meta\n",
      "Saved :data\\Helipad_Dataset_meta\\Helipad_Dataset_meta_original\\Folder_000\\Helipad_00081.meta\n",
      "Saved :data\\Helipad_Dataset_meta\\Helipad_Dataset_meta_original\\Folder_000\\Helipad_00082.meta\n",
      "Saved :data\\Helipad_Dataset_meta\\Helipad_Dataset_meta_original\\Folder_000\\Helipad_00083.meta\n",
      "Saved :data\\Helipad_Dataset_meta\\Helipad_Dataset_meta_original\\Folder_000\\Helipad_00084.meta\n",
      "Saved :data\\Helipad_Dataset_meta\\Helipad_Dataset_meta_original\\Folder_000\\Helipad_00085.meta\n",
      "Saved :data\\Helipad_Dataset_meta\\Helipad_Dataset_meta_original\\Folder_000\\Helipad_00086.meta\n",
      "Saved :data\\Helipad_Dataset_meta\\Helipad_Dataset_meta_original\\Folder_000\\Helipad_00087.meta\n",
      "Saved :data\\Helipad_Dataset_meta\\Helipad_Dataset_meta_original\\Folder_000\\Helipad_00088.meta\n",
      "Saved :data\\Helipad_Dataset_meta\\Helipad_Dataset_meta_original\\Folder_000\\Helipad_00089.meta\n",
      "Saved :data\\Helipad_Dataset_meta\\Helipad_Dataset_meta_original\\Folder_000\\Helipad_00090.meta\n",
      "Saved :data\\Helipad_Dataset_meta\\Helipad_Dataset_meta_original\\Folder_000\\Helipad_00091.meta\n",
      "Saved :data\\Helipad_Dataset_meta\\Helipad_Dataset_meta_original\\Folder_000\\Helipad_00092.meta\n",
      "Saved :data\\Helipad_Dataset_meta\\Helipad_Dataset_meta_original\\Folder_000\\Helipad_00093.meta\n",
      "Saved :data\\Helipad_Dataset_meta\\Helipad_Dataset_meta_original\\Folder_000\\Helipad_00094.meta\n",
      "Saved :data\\Helipad_Dataset_meta\\Helipad_Dataset_meta_original\\Folder_000\\Helipad_00095.meta\n",
      "Saved :data\\Helipad_Dataset_meta\\Helipad_Dataset_meta_original\\Folder_000\\Helipad_00096.meta\n",
      "Saved :data\\Helipad_Dataset_meta\\Helipad_Dataset_meta_original\\Folder_000\\Helipad_00097.meta\n",
      "Saved :data\\Helipad_Dataset_meta\\Helipad_Dataset_meta_original\\Folder_000\\Helipad_00098.meta\n",
      "Saved :data\\Helipad_Dataset_meta\\Helipad_Dataset_meta_original\\Folder_000\\Helipad_00099.meta\n",
      "Saved :data\\Helipad_Dataset_meta\\Helipad_Dataset_meta_original\\Folder_001\\Helipad_00100.meta\n",
      "Saved :data\\Helipad_Dataset_meta\\Helipad_Dataset_meta_original\\Folder_001\\Helipad_00101.meta\n",
      "Saved :data\\Helipad_Dataset_meta\\Helipad_Dataset_meta_original\\Folder_001\\Helipad_00102.meta\n",
      "Saved :data\\Helipad_Dataset_meta\\Helipad_Dataset_meta_original\\Folder_001\\Helipad_00103.meta\n",
      "Saved :data\\Helipad_Dataset_meta\\Helipad_Dataset_meta_original\\Folder_001\\Helipad_00104.meta\n",
      "Saved :data\\Helipad_Dataset_meta\\Helipad_Dataset_meta_original\\Folder_001\\Helipad_00105.meta\n",
      "Saved :data\\Helipad_Dataset_meta\\Helipad_Dataset_meta_original\\Folder_001\\Helipad_00106.meta\n",
      "Saved :data\\Helipad_Dataset_meta\\Helipad_Dataset_meta_original\\Folder_001\\Helipad_00107.meta\n",
      "Saved :data\\Helipad_Dataset_meta\\Helipad_Dataset_meta_original\\Folder_001\\Helipad_00108.meta\n",
      "Saved :data\\Helipad_Dataset_meta\\Helipad_Dataset_meta_original\\Folder_001\\Helipad_00109.meta\n",
      "Saved :data\\Helipad_Dataset_meta\\Helipad_Dataset_meta_original\\Folder_001\\Helipad_00110.meta\n",
      "Saved :data\\Helipad_Dataset_meta\\Helipad_Dataset_meta_original\\Folder_001\\Helipad_00111.meta\n",
      "Saved :data\\Helipad_Dataset_meta\\Helipad_Dataset_meta_original\\Folder_001\\Helipad_00112.meta\n",
      "Saved :data\\Helipad_Dataset_meta\\Helipad_Dataset_meta_original\\Folder_001\\Helipad_00113.meta\n",
      "Saved :data\\Helipad_Dataset_meta\\Helipad_Dataset_meta_original\\Folder_001\\Helipad_00114.meta\n",
      "Saved :data\\Helipad_Dataset_meta\\Helipad_Dataset_meta_original\\Folder_001\\Helipad_00115.meta\n",
      "Saved :data\\Helipad_Dataset_meta\\Helipad_Dataset_meta_original\\Folder_001\\Helipad_00116.meta\n",
      "Saved :data\\Helipad_Dataset_meta\\Helipad_Dataset_meta_original\\Folder_001\\Helipad_00117.meta\n",
      "Saved :data\\Helipad_Dataset_meta\\Helipad_Dataset_meta_original\\Folder_001\\Helipad_00118.meta\n",
      "Saved :data\\Helipad_Dataset_meta\\Helipad_Dataset_meta_original\\Folder_001\\Helipad_00119.meta\n",
      "Saved :data\\Helipad_Dataset_meta\\Helipad_Dataset_meta_original\\Folder_001\\Helipad_00120.meta\n",
      "Saved :data\\Helipad_Dataset_meta\\Helipad_Dataset_meta_original\\Folder_001\\Helipad_00121.meta\n",
      "Saved :data\\Helipad_Dataset_meta\\Helipad_Dataset_meta_original\\Folder_001\\Helipad_00122.meta\n",
      "Saved :data\\Helipad_Dataset_meta\\Helipad_Dataset_meta_original\\Folder_001\\Helipad_00123.meta\n",
      "Saved :data\\Helipad_Dataset_meta\\Helipad_Dataset_meta_original\\Folder_001\\Helipad_00124.meta\n",
      "Saved :data\\Helipad_Dataset_meta\\Helipad_Dataset_meta_original\\Folder_001\\Helipad_00125.meta\n",
      "Saved :data\\Helipad_Dataset_meta\\Helipad_Dataset_meta_original\\Folder_001\\Helipad_00126.meta\n",
      "Saved :data\\Helipad_Dataset_meta\\Helipad_Dataset_meta_original\\Folder_001\\Helipad_00127.meta\n",
      "Saved :data\\Helipad_Dataset_meta\\Helipad_Dataset_meta_original\\Folder_001\\Helipad_00128.meta\n",
      "Saved :data\\Helipad_Dataset_meta\\Helipad_Dataset_meta_original\\Folder_001\\Helipad_00129.meta\n",
      "Saved :data\\Helipad_Dataset_meta\\Helipad_Dataset_meta_original\\Folder_001\\Helipad_00130.meta\n",
      "Saved :data\\Helipad_Dataset_meta\\Helipad_Dataset_meta_original\\Folder_001\\Helipad_00131.meta\n",
      "Saved :data\\Helipad_Dataset_meta\\Helipad_Dataset_meta_original\\Folder_001\\Helipad_00132.meta\n",
      "Saved :data\\Helipad_Dataset_meta\\Helipad_Dataset_meta_original\\Folder_001\\Helipad_00133.meta\n",
      "Saved :data\\Helipad_Dataset_meta\\Helipad_Dataset_meta_original\\Folder_001\\Helipad_00134.meta\n",
      "Saved :data\\Helipad_Dataset_meta\\Helipad_Dataset_meta_original\\Folder_001\\Helipad_00135.meta\n",
      "Saved :data\\Helipad_Dataset_meta\\Helipad_Dataset_meta_original\\Folder_001\\Helipad_00136.meta\n",
      "Saved :data\\Helipad_Dataset_meta\\Helipad_Dataset_meta_original\\Folder_001\\Helipad_00137.meta\n",
      "Saved :data\\Helipad_Dataset_meta\\Helipad_Dataset_meta_original\\Folder_001\\Helipad_00138.meta\n",
      "Saved :data\\Helipad_Dataset_meta\\Helipad_Dataset_meta_original\\Folder_001\\Helipad_00139.meta\n",
      "Saved :data\\Helipad_Dataset_meta\\Helipad_Dataset_meta_original\\Folder_001\\Helipad_00140.meta\n",
      "Saved :data\\Helipad_Dataset_meta\\Helipad_Dataset_meta_original\\Folder_001\\Helipad_00141.meta\n",
      "Saved :data\\Helipad_Dataset_meta\\Helipad_Dataset_meta_original\\Folder_001\\Helipad_00142.meta\n",
      "Saved :data\\Helipad_Dataset_meta\\Helipad_Dataset_meta_original\\Folder_001\\Helipad_00143.meta\n",
      "Saved :data\\Helipad_Dataset_meta\\Helipad_Dataset_meta_original\\Folder_001\\Helipad_00144.meta\n",
      "Saved :data\\Helipad_Dataset_meta\\Helipad_Dataset_meta_original\\Folder_001\\Helipad_00145.meta\n",
      "Saved :data\\Helipad_Dataset_meta\\Helipad_Dataset_meta_original\\Folder_001\\Helipad_00146.meta\n",
      "Saved :data\\Helipad_Dataset_meta\\Helipad_Dataset_meta_original\\Folder_001\\Helipad_00147.meta\n",
      "Saved :data\\Helipad_Dataset_meta\\Helipad_Dataset_meta_original\\Folder_001\\Helipad_00148.meta\n",
      "Saved :data\\Helipad_Dataset_meta\\Helipad_Dataset_meta_original\\Folder_001\\Helipad_00149.meta\n",
      "Saved :data\\Helipad_Dataset_meta\\Helipad_Dataset_meta_original\\Folder_001\\Helipad_00150.meta\n",
      "Saved :data\\Helipad_Dataset_meta\\Helipad_Dataset_meta_original\\Folder_001\\Helipad_00151.meta\n",
      "Saved :data\\Helipad_Dataset_meta\\Helipad_Dataset_meta_original\\Folder_001\\Helipad_00152.meta\n",
      "Saved :data\\Helipad_Dataset_meta\\Helipad_Dataset_meta_original\\Folder_001\\Helipad_00153.meta\n",
      "Saved :data\\Helipad_Dataset_meta\\Helipad_Dataset_meta_original\\Folder_001\\Helipad_00154.meta\n",
      "Saved :data\\Helipad_Dataset_meta\\Helipad_Dataset_meta_original\\Folder_001\\Helipad_00155.meta\n",
      "Saved :data\\Helipad_Dataset_meta\\Helipad_Dataset_meta_original\\Folder_001\\Helipad_00156.meta\n",
      "Saved :data\\Helipad_Dataset_meta\\Helipad_Dataset_meta_original\\Folder_001\\Helipad_00157.meta\n",
      "Saved :data\\Helipad_Dataset_meta\\Helipad_Dataset_meta_original\\Folder_001\\Helipad_00158.meta\n",
      "Saved :data\\Helipad_Dataset_meta\\Helipad_Dataset_meta_original\\Folder_001\\Helipad_00159.meta\n",
      "Saved :data\\Helipad_Dataset_meta\\Helipad_Dataset_meta_original\\Folder_001\\Helipad_00160.meta\n",
      "Saved :data\\Helipad_Dataset_meta\\Helipad_Dataset_meta_original\\Folder_001\\Helipad_00161.meta\n",
      "Saved :data\\Helipad_Dataset_meta\\Helipad_Dataset_meta_original\\Folder_001\\Helipad_00162.meta\n",
      "Saved :data\\Helipad_Dataset_meta\\Helipad_Dataset_meta_original\\Folder_001\\Helipad_00163.meta\n",
      "Saved :data\\Helipad_Dataset_meta\\Helipad_Dataset_meta_original\\Folder_001\\Helipad_00164.meta\n",
      "Saved :data\\Helipad_Dataset_meta\\Helipad_Dataset_meta_original\\Folder_001\\Helipad_00165.meta\n",
      "Saved :data\\Helipad_Dataset_meta\\Helipad_Dataset_meta_original\\Folder_001\\Helipad_00166.meta\n",
      "Saved :data\\Helipad_Dataset_meta\\Helipad_Dataset_meta_original\\Folder_001\\Helipad_00167.meta\n",
      "Saved :data\\Helipad_Dataset_meta\\Helipad_Dataset_meta_original\\Folder_001\\Helipad_00168.meta\n",
      "Saved :data\\Helipad_Dataset_meta\\Helipad_Dataset_meta_original\\Folder_001\\Helipad_00169.meta\n",
      "Saved :data\\Helipad_Dataset_meta\\Helipad_Dataset_meta_original\\Folder_001\\Helipad_00170.meta\n",
      "Saved :data\\Helipad_Dataset_meta\\Helipad_Dataset_meta_original\\Folder_001\\Helipad_00171.meta\n",
      "Saved :data\\Helipad_Dataset_meta\\Helipad_Dataset_meta_original\\Folder_001\\Helipad_00172.meta\n",
      "Saved :data\\Helipad_Dataset_meta\\Helipad_Dataset_meta_original\\Folder_001\\Helipad_00173.meta\n",
      "Saved :data\\Helipad_Dataset_meta\\Helipad_Dataset_meta_original\\Folder_001\\Helipad_00174.meta\n",
      "Saved :data\\Helipad_Dataset_meta\\Helipad_Dataset_meta_original\\Folder_001\\Helipad_00175.meta\n",
      "Saved :data\\Helipad_Dataset_meta\\Helipad_Dataset_meta_original\\Folder_001\\Helipad_00176.meta\n",
      "Saved :data\\Helipad_Dataset_meta\\Helipad_Dataset_meta_original\\Folder_001\\Helipad_00177.meta\n",
      "Saved :data\\Helipad_Dataset_meta\\Helipad_Dataset_meta_original\\Folder_001\\Helipad_00178.meta\n"
     ]
    },
    {
     "name": "stdout",
     "output_type": "stream",
     "text": [
      "Saved :data\\Helipad_Dataset_meta\\Helipad_Dataset_meta_original\\Folder_001\\Helipad_00179.meta\n",
      "Saved :data\\Helipad_Dataset_meta\\Helipad_Dataset_meta_original\\Folder_001\\Helipad_00180.meta\n",
      "Saved :data\\Helipad_Dataset_meta\\Helipad_Dataset_meta_original\\Folder_001\\Helipad_00181.meta\n",
      "Saved :data\\Helipad_Dataset_meta\\Helipad_Dataset_meta_original\\Folder_001\\Helipad_00182.meta\n",
      "Saved :data\\Helipad_Dataset_meta\\Helipad_Dataset_meta_original\\Folder_001\\Helipad_00183.meta\n",
      "Saved :data\\Helipad_Dataset_meta\\Helipad_Dataset_meta_original\\Folder_001\\Helipad_00184.meta\n",
      "Saved :data\\Helipad_Dataset_meta\\Helipad_Dataset_meta_original\\Folder_001\\Helipad_00185.meta\n",
      "Saved :data\\Helipad_Dataset_meta\\Helipad_Dataset_meta_original\\Folder_001\\Helipad_00186.meta\n",
      "Saved :data\\Helipad_Dataset_meta\\Helipad_Dataset_meta_original\\Folder_001\\Helipad_00187.meta\n",
      "Saved :data\\Helipad_Dataset_meta\\Helipad_Dataset_meta_original\\Folder_001\\Helipad_00188.meta\n",
      "Saved :data\\Helipad_Dataset_meta\\Helipad_Dataset_meta_original\\Folder_001\\Helipad_00189.meta\n",
      "Saved :data\\Helipad_Dataset_meta\\Helipad_Dataset_meta_original\\Folder_001\\Helipad_00190.meta\n",
      "Saved :data\\Helipad_Dataset_meta\\Helipad_Dataset_meta_original\\Folder_001\\Helipad_00191.meta\n",
      "Saved :data\\Helipad_Dataset_meta\\Helipad_Dataset_meta_original\\Folder_001\\Helipad_00192.meta\n",
      "Saved :data\\Helipad_Dataset_meta\\Helipad_Dataset_meta_original\\Folder_001\\Helipad_00193.meta\n",
      "Saved :data\\Helipad_Dataset_meta\\Helipad_Dataset_meta_original\\Folder_001\\Helipad_00194.meta\n",
      "Saved :data\\Helipad_Dataset_meta\\Helipad_Dataset_meta_original\\Folder_001\\Helipad_00195.meta\n",
      "Saved :data\\Helipad_Dataset_meta\\Helipad_Dataset_meta_original\\Folder_001\\Helipad_00196.meta\n",
      "Saved :data\\Helipad_Dataset_meta\\Helipad_Dataset_meta_original\\Folder_001\\Helipad_00197.meta\n",
      "Saved :data\\Helipad_Dataset_meta\\Helipad_Dataset_meta_original\\Folder_001\\Helipad_00198.meta\n",
      "Saved :data\\Helipad_Dataset_meta\\Helipad_Dataset_meta_original\\Folder_001\\Helipad_00199.meta\n",
      "Saved :data\\Helipad_Dataset_meta\\Helipad_Dataset_meta_original\\Folder_002\\Helipad_00200.meta\n",
      "Saved :data\\Helipad_Dataset_meta\\Helipad_Dataset_meta_original\\Folder_002\\Helipad_00201.meta\n",
      "Saved :data\\Helipad_Dataset_meta\\Helipad_Dataset_meta_original\\Folder_002\\Helipad_00202.meta\n",
      "Saved :data\\Helipad_Dataset_meta\\Helipad_Dataset_meta_original\\Folder_002\\Helipad_00203.meta\n",
      "Saved :data\\Helipad_Dataset_meta\\Helipad_Dataset_meta_original\\Folder_002\\Helipad_00204.meta\n",
      "Saved :data\\Helipad_Dataset_meta\\Helipad_Dataset_meta_original\\Folder_002\\Helipad_00205.meta\n",
      "Saved :data\\Helipad_Dataset_meta\\Helipad_Dataset_meta_original\\Folder_002\\Helipad_00206.meta\n",
      "Saved :data\\Helipad_Dataset_meta\\Helipad_Dataset_meta_original\\Folder_002\\Helipad_00207.meta\n",
      "Saved :data\\Helipad_Dataset_meta\\Helipad_Dataset_meta_original\\Folder_002\\Helipad_00208.meta\n",
      "Saved :data\\Helipad_Dataset_meta\\Helipad_Dataset_meta_original\\Folder_002\\Helipad_00209.meta\n",
      "Saved :data\\Helipad_Dataset_meta\\Helipad_Dataset_meta_original\\Folder_002\\Helipad_00210.meta\n",
      "Saved :data\\Helipad_Dataset_meta\\Helipad_Dataset_meta_original\\Folder_002\\Helipad_00211.meta\n",
      "Saved :data\\Helipad_Dataset_meta\\Helipad_Dataset_meta_original\\Folder_002\\Helipad_00212.meta\n",
      "Saved :data\\Helipad_Dataset_meta\\Helipad_Dataset_meta_original\\Folder_002\\Helipad_00213.meta\n",
      "Saved :data\\Helipad_Dataset_meta\\Helipad_Dataset_meta_original\\Folder_002\\Helipad_00214.meta\n",
      "Saved :data\\Helipad_Dataset_meta\\Helipad_Dataset_meta_original\\Folder_002\\Helipad_00215.meta\n",
      "Saved :data\\Helipad_Dataset_meta\\Helipad_Dataset_meta_original\\Folder_002\\Helipad_00216.meta\n",
      "Saved :data\\Helipad_Dataset_meta\\Helipad_Dataset_meta_original\\Folder_002\\Helipad_00217.meta\n",
      "Saved :data\\Helipad_Dataset_meta\\Helipad_Dataset_meta_original\\Folder_002\\Helipad_00218.meta\n",
      "Saved :data\\Helipad_Dataset_meta\\Helipad_Dataset_meta_original\\Folder_002\\Helipad_00219.meta\n",
      "Saved :data\\Helipad_Dataset_meta\\Helipad_Dataset_meta_original\\Folder_002\\Helipad_00220.meta\n",
      "Saved :data\\Helipad_Dataset_meta\\Helipad_Dataset_meta_original\\Folder_002\\Helipad_00221.meta\n",
      "Saved :data\\Helipad_Dataset_meta\\Helipad_Dataset_meta_original\\Folder_002\\Helipad_00222.meta\n",
      "Saved :data\\Helipad_Dataset_meta\\Helipad_Dataset_meta_original\\Folder_002\\Helipad_00223.meta\n",
      "Saved :data\\Helipad_Dataset_meta\\Helipad_Dataset_meta_original\\Folder_002\\Helipad_00224.meta\n",
      "Saved :data\\Helipad_Dataset_meta\\Helipad_Dataset_meta_original\\Folder_002\\Helipad_00225.meta\n",
      "Saved :data\\Helipad_Dataset_meta\\Helipad_Dataset_meta_original\\Folder_002\\Helipad_00226.meta\n",
      "Saved :data\\Helipad_Dataset_meta\\Helipad_Dataset_meta_original\\Folder_002\\Helipad_00227.meta\n",
      "Saved :data\\Helipad_Dataset_meta\\Helipad_Dataset_meta_original\\Folder_002\\Helipad_00228.meta\n",
      "Saved :data\\Helipad_Dataset_meta\\Helipad_Dataset_meta_original\\Folder_002\\Helipad_00229.meta\n",
      "Saved :data\\Helipad_Dataset_meta\\Helipad_Dataset_meta_original\\Folder_002\\Helipad_00230.meta\n",
      "Saved :data\\Helipad_Dataset_meta\\Helipad_Dataset_meta_original\\Folder_002\\Helipad_00231.meta\n",
      "Saved :data\\Helipad_Dataset_meta\\Helipad_Dataset_meta_original\\Folder_002\\Helipad_00232.meta\n",
      "Saved :data\\Helipad_Dataset_meta\\Helipad_Dataset_meta_original\\Folder_002\\Helipad_00233.meta\n",
      "Saved :data\\Helipad_Dataset_meta\\Helipad_Dataset_meta_original\\Folder_002\\Helipad_00234.meta\n",
      "Saved :data\\Helipad_Dataset_meta\\Helipad_Dataset_meta_original\\Folder_002\\Helipad_00235.meta\n",
      "Saved :data\\Helipad_Dataset_meta\\Helipad_Dataset_meta_original\\Folder_002\\Helipad_00236.meta\n",
      "Saved :data\\Helipad_Dataset_meta\\Helipad_Dataset_meta_original\\Folder_002\\Helipad_00237.meta\n",
      "Saved :data\\Helipad_Dataset_meta\\Helipad_Dataset_meta_original\\Folder_002\\Helipad_00238.meta\n",
      "Saved :data\\Helipad_Dataset_meta\\Helipad_Dataset_meta_original\\Folder_002\\Helipad_00239.meta\n",
      "Saved :data\\Helipad_Dataset_meta\\Helipad_Dataset_meta_original\\Folder_002\\Helipad_00240.meta\n",
      "Saved :data\\Helipad_Dataset_meta\\Helipad_Dataset_meta_original\\Folder_002\\Helipad_00241.meta\n",
      "Saved :data\\Helipad_Dataset_meta\\Helipad_Dataset_meta_original\\Folder_002\\Helipad_00242.meta\n",
      "Saved :data\\Helipad_Dataset_meta\\Helipad_Dataset_meta_original\\Folder_002\\Helipad_00243.meta\n",
      "Saved :data\\Helipad_Dataset_meta\\Helipad_Dataset_meta_original\\Folder_002\\Helipad_00244.meta\n",
      "Saved :data\\Helipad_Dataset_meta\\Helipad_Dataset_meta_original\\Folder_002\\Helipad_00245.meta\n",
      "Saved :data\\Helipad_Dataset_meta\\Helipad_Dataset_meta_original\\Folder_002\\Helipad_00246.meta\n",
      "Saved :data\\Helipad_Dataset_meta\\Helipad_Dataset_meta_original\\Folder_002\\Helipad_00247.meta\n",
      "Saved :data\\Helipad_Dataset_meta\\Helipad_Dataset_meta_original\\Folder_002\\Helipad_00248.meta\n",
      "Saved :data\\Helipad_Dataset_meta\\Helipad_Dataset_meta_original\\Folder_002\\Helipad_00249.meta\n",
      "Saved :data\\Helipad_Dataset_meta\\Helipad_Dataset_meta_original\\Folder_002\\Helipad_00250.meta\n",
      "Saved :data\\Helipad_Dataset_meta\\Helipad_Dataset_meta_original\\Folder_002\\Helipad_00251.meta\n",
      "Saved :data\\Helipad_Dataset_meta\\Helipad_Dataset_meta_original\\Folder_002\\Helipad_00252.meta\n",
      "Saved :data\\Helipad_Dataset_meta\\Helipad_Dataset_meta_original\\Folder_002\\Helipad_00253.meta\n",
      "Saved :data\\Helipad_Dataset_meta\\Helipad_Dataset_meta_original\\Folder_002\\Helipad_00254.meta\n",
      "Saved :data\\Helipad_Dataset_meta\\Helipad_Dataset_meta_original\\Folder_002\\Helipad_00255.meta\n",
      "Saved :data\\Helipad_Dataset_meta\\Helipad_Dataset_meta_original\\Folder_002\\Helipad_00256.meta\n",
      "Saved :data\\Helipad_Dataset_meta\\Helipad_Dataset_meta_original\\Folder_002\\Helipad_00257.meta\n",
      "Saved :data\\Helipad_Dataset_meta\\Helipad_Dataset_meta_original\\Folder_002\\Helipad_00258.meta\n",
      "Saved :data\\Helipad_Dataset_meta\\Helipad_Dataset_meta_original\\Folder_002\\Helipad_00259.meta\n",
      "Saved :data\\Helipad_Dataset_meta\\Helipad_Dataset_meta_original\\Folder_002\\Helipad_00260.meta\n",
      "Saved :data\\Helipad_Dataset_meta\\Helipad_Dataset_meta_original\\Folder_002\\Helipad_00261.meta\n",
      "Saved :data\\Helipad_Dataset_meta\\Helipad_Dataset_meta_original\\Folder_002\\Helipad_00262.meta\n",
      "Saved :data\\Helipad_Dataset_meta\\Helipad_Dataset_meta_original\\Folder_002\\Helipad_00263.meta\n",
      "Saved :data\\Helipad_Dataset_meta\\Helipad_Dataset_meta_original\\Folder_002\\Helipad_00264.meta\n",
      "Saved :data\\Helipad_Dataset_meta\\Helipad_Dataset_meta_original\\Folder_002\\Helipad_00265.meta\n",
      "Saved :data\\Helipad_Dataset_meta\\Helipad_Dataset_meta_original\\Folder_002\\Helipad_00266.meta\n",
      "Saved :data\\Helipad_Dataset_meta\\Helipad_Dataset_meta_original\\Folder_002\\Helipad_00267.meta\n",
      "Saved :data\\Helipad_Dataset_meta\\Helipad_Dataset_meta_original\\Folder_002\\Helipad_00268.meta\n",
      "Saved :data\\Helipad_Dataset_meta\\Helipad_Dataset_meta_original\\Folder_002\\Helipad_00269.meta\n",
      "Saved :data\\Helipad_Dataset_meta\\Helipad_Dataset_meta_original\\Folder_002\\Helipad_00270.meta\n",
      "Saved :data\\Helipad_Dataset_meta\\Helipad_Dataset_meta_original\\Folder_002\\Helipad_00271.meta\n",
      "Saved :data\\Helipad_Dataset_meta\\Helipad_Dataset_meta_original\\Folder_002\\Helipad_00272.meta\n",
      "Saved :data\\Helipad_Dataset_meta\\Helipad_Dataset_meta_original\\Folder_002\\Helipad_00273.meta\n",
      "Saved :data\\Helipad_Dataset_meta\\Helipad_Dataset_meta_original\\Folder_002\\Helipad_00274.meta\n",
      "Saved :data\\Helipad_Dataset_meta\\Helipad_Dataset_meta_original\\Folder_002\\Helipad_00275.meta\n",
      "Saved :data\\Helipad_Dataset_meta\\Helipad_Dataset_meta_original\\Folder_002\\Helipad_00276.meta\n",
      "Saved :data\\Helipad_Dataset_meta\\Helipad_Dataset_meta_original\\Folder_002\\Helipad_00277.meta\n",
      "Saved :data\\Helipad_Dataset_meta\\Helipad_Dataset_meta_original\\Folder_002\\Helipad_00278.meta\n",
      "Saved :data\\Helipad_Dataset_meta\\Helipad_Dataset_meta_original\\Folder_002\\Helipad_00279.meta\n",
      "Saved :data\\Helipad_Dataset_meta\\Helipad_Dataset_meta_original\\Folder_002\\Helipad_00280.meta\n",
      "Saved :data\\Helipad_Dataset_meta\\Helipad_Dataset_meta_original\\Folder_002\\Helipad_00281.meta\n",
      "Saved :data\\Helipad_Dataset_meta\\Helipad_Dataset_meta_original\\Folder_002\\Helipad_00282.meta\n",
      "Saved :data\\Helipad_Dataset_meta\\Helipad_Dataset_meta_original\\Folder_002\\Helipad_00283.meta\n",
      "Saved :data\\Helipad_Dataset_meta\\Helipad_Dataset_meta_original\\Folder_002\\Helipad_00284.meta\n",
      "Saved :data\\Helipad_Dataset_meta\\Helipad_Dataset_meta_original\\Folder_002\\Helipad_00285.meta\n",
      "Saved :data\\Helipad_Dataset_meta\\Helipad_Dataset_meta_original\\Folder_002\\Helipad_00286.meta\n",
      "Saved :data\\Helipad_Dataset_meta\\Helipad_Dataset_meta_original\\Folder_002\\Helipad_00287.meta\n",
      "Saved :data\\Helipad_Dataset_meta\\Helipad_Dataset_meta_original\\Folder_002\\Helipad_00288.meta\n",
      "Saved :data\\Helipad_Dataset_meta\\Helipad_Dataset_meta_original\\Folder_002\\Helipad_00289.meta\n",
      "Saved :data\\Helipad_Dataset_meta\\Helipad_Dataset_meta_original\\Folder_002\\Helipad_00290.meta\n",
      "Saved :data\\Helipad_Dataset_meta\\Helipad_Dataset_meta_original\\Folder_002\\Helipad_00291.meta\n",
      "Saved :data\\Helipad_Dataset_meta\\Helipad_Dataset_meta_original\\Folder_002\\Helipad_00292.meta\n",
      "Saved :data\\Helipad_Dataset_meta\\Helipad_Dataset_meta_original\\Folder_002\\Helipad_00293.meta\n",
      "Saved :data\\Helipad_Dataset_meta\\Helipad_Dataset_meta_original\\Folder_002\\Helipad_00294.meta\n",
      "Saved :data\\Helipad_Dataset_meta\\Helipad_Dataset_meta_original\\Folder_002\\Helipad_00295.meta\n",
      "Saved :data\\Helipad_Dataset_meta\\Helipad_Dataset_meta_original\\Folder_002\\Helipad_00296.meta\n",
      "Saved :data\\Helipad_Dataset_meta\\Helipad_Dataset_meta_original\\Folder_002\\Helipad_00297.meta\n",
      "Saved :data\\Helipad_Dataset_meta\\Helipad_Dataset_meta_original\\Folder_002\\Helipad_00298.meta\n",
      "Saved :data\\Helipad_Dataset_meta\\Helipad_Dataset_meta_original\\Folder_002\\Helipad_00299.meta\n",
      "Saved :data\\Helipad_Dataset_meta\\Helipad_Dataset_meta_original\\Folder_003\\Helipad_00300.meta\n",
      "Saved :data\\Helipad_Dataset_meta\\Helipad_Dataset_meta_original\\Folder_003\\Helipad_00301.meta\n",
      "Saved :data\\Helipad_Dataset_meta\\Helipad_Dataset_meta_original\\Folder_003\\Helipad_00302.meta\n",
      "Saved :data\\Helipad_Dataset_meta\\Helipad_Dataset_meta_original\\Folder_003\\Helipad_00303.meta\n",
      "Saved :data\\Helipad_Dataset_meta\\Helipad_Dataset_meta_original\\Folder_003\\Helipad_00304.meta\n",
      "Saved :data\\Helipad_Dataset_meta\\Helipad_Dataset_meta_original\\Folder_003\\Helipad_00305.meta\n",
      "Saved :data\\Helipad_Dataset_meta\\Helipad_Dataset_meta_original\\Folder_003\\Helipad_00306.meta\n",
      "Saved :data\\Helipad_Dataset_meta\\Helipad_Dataset_meta_original\\Folder_003\\Helipad_00307.meta\n",
      "Saved :data\\Helipad_Dataset_meta\\Helipad_Dataset_meta_original\\Folder_003\\Helipad_00308.meta\n",
      "Saved :data\\Helipad_Dataset_meta\\Helipad_Dataset_meta_original\\Folder_003\\Helipad_00309.meta\n",
      "Saved :data\\Helipad_Dataset_meta\\Helipad_Dataset_meta_original\\Folder_003\\Helipad_00310.meta\n",
      "Saved :data\\Helipad_Dataset_meta\\Helipad_Dataset_meta_original\\Folder_003\\Helipad_00311.meta\n",
      "Saved :data\\Helipad_Dataset_meta\\Helipad_Dataset_meta_original\\Folder_003\\Helipad_00312.meta\n",
      "Saved :data\\Helipad_Dataset_meta\\Helipad_Dataset_meta_original\\Folder_003\\Helipad_00313.meta\n",
      "Saved :data\\Helipad_Dataset_meta\\Helipad_Dataset_meta_original\\Folder_003\\Helipad_00314.meta\n",
      "Saved :data\\Helipad_Dataset_meta\\Helipad_Dataset_meta_original\\Folder_003\\Helipad_00315.meta\n",
      "Saved :data\\Helipad_Dataset_meta\\Helipad_Dataset_meta_original\\Folder_003\\Helipad_00316.meta\n",
      "Saved :data\\Helipad_Dataset_meta\\Helipad_Dataset_meta_original\\Folder_003\\Helipad_00317.meta\n",
      "Saved :data\\Helipad_Dataset_meta\\Helipad_Dataset_meta_original\\Folder_003\\Helipad_00318.meta\n",
      "Saved :data\\Helipad_Dataset_meta\\Helipad_Dataset_meta_original\\Folder_003\\Helipad_00319.meta\n",
      "Saved :data\\Helipad_Dataset_meta\\Helipad_Dataset_meta_original\\Folder_003\\Helipad_00320.meta\n",
      "Saved :data\\Helipad_Dataset_meta\\Helipad_Dataset_meta_original\\Folder_003\\Helipad_00321.meta\n",
      "Saved :data\\Helipad_Dataset_meta\\Helipad_Dataset_meta_original\\Folder_003\\Helipad_00322.meta\n",
      "Saved :data\\Helipad_Dataset_meta\\Helipad_Dataset_meta_original\\Folder_003\\Helipad_00323.meta\n",
      "Saved :data\\Helipad_Dataset_meta\\Helipad_Dataset_meta_original\\Folder_003\\Helipad_00324.meta\n",
      "Saved :data\\Helipad_Dataset_meta\\Helipad_Dataset_meta_original\\Folder_003\\Helipad_00325.meta\n",
      "Saved :data\\Helipad_Dataset_meta\\Helipad_Dataset_meta_original\\Folder_003\\Helipad_00326.meta\n",
      "Saved :data\\Helipad_Dataset_meta\\Helipad_Dataset_meta_original\\Folder_003\\Helipad_00327.meta\n",
      "Saved :data\\Helipad_Dataset_meta\\Helipad_Dataset_meta_original\\Folder_003\\Helipad_00328.meta\n",
      "Saved :data\\Helipad_Dataset_meta\\Helipad_Dataset_meta_original\\Folder_003\\Helipad_00329.meta\n",
      "Saved :data\\Helipad_Dataset_meta\\Helipad_Dataset_meta_original\\Folder_003\\Helipad_00330.meta\n",
      "Saved :data\\Helipad_Dataset_meta\\Helipad_Dataset_meta_original\\Folder_003\\Helipad_00331.meta\n",
      "Saved :data\\Helipad_Dataset_meta\\Helipad_Dataset_meta_original\\Folder_003\\Helipad_00332.meta\n",
      "Saved :data\\Helipad_Dataset_meta\\Helipad_Dataset_meta_original\\Folder_003\\Helipad_00333.meta\n",
      "Saved :data\\Helipad_Dataset_meta\\Helipad_Dataset_meta_original\\Folder_003\\Helipad_00334.meta\n",
      "Saved :data\\Helipad_Dataset_meta\\Helipad_Dataset_meta_original\\Folder_003\\Helipad_00335.meta\n",
      "Saved :data\\Helipad_Dataset_meta\\Helipad_Dataset_meta_original\\Folder_003\\Helipad_00336.meta\n",
      "Saved :data\\Helipad_Dataset_meta\\Helipad_Dataset_meta_original\\Folder_003\\Helipad_00337.meta\n",
      "Saved :data\\Helipad_Dataset_meta\\Helipad_Dataset_meta_original\\Folder_003\\Helipad_00338.meta\n"
     ]
    },
    {
     "name": "stdout",
     "output_type": "stream",
     "text": [
      "Saved :data\\Helipad_Dataset_meta\\Helipad_Dataset_meta_original\\Folder_003\\Helipad_00339.meta\n",
      "Saved :data\\Helipad_Dataset_meta\\Helipad_Dataset_meta_original\\Folder_003\\Helipad_00340.meta\n",
      "Saved :data\\Helipad_Dataset_meta\\Helipad_Dataset_meta_original\\Folder_003\\Helipad_00341.meta\n",
      "Saved :data\\Helipad_Dataset_meta\\Helipad_Dataset_meta_original\\Folder_003\\Helipad_00342.meta\n",
      "Saved :data\\Helipad_Dataset_meta\\Helipad_Dataset_meta_original\\Folder_003\\Helipad_00343.meta\n",
      "Saved :data\\Helipad_Dataset_meta\\Helipad_Dataset_meta_original\\Folder_003\\Helipad_00344.meta\n",
      "Saved :data\\Helipad_Dataset_meta\\Helipad_Dataset_meta_original\\Folder_003\\Helipad_00345.meta\n",
      "Saved :data\\Helipad_Dataset_meta\\Helipad_Dataset_meta_original\\Folder_003\\Helipad_00346.meta\n",
      "Saved :data\\Helipad_Dataset_meta\\Helipad_Dataset_meta_original\\Folder_003\\Helipad_00347.meta\n",
      "Saved :data\\Helipad_Dataset_meta\\Helipad_Dataset_meta_original\\Folder_003\\Helipad_00348.meta\n",
      "Saved :data\\Helipad_Dataset_meta\\Helipad_Dataset_meta_original\\Folder_003\\Helipad_00349.meta\n",
      "Saved :data\\Helipad_Dataset_meta\\Helipad_Dataset_meta_original\\Folder_003\\Helipad_00350.meta\n",
      "Saved :data\\Helipad_Dataset_meta\\Helipad_Dataset_meta_original\\Folder_003\\Helipad_00351.meta\n",
      "Saved :data\\Helipad_Dataset_meta\\Helipad_Dataset_meta_original\\Folder_003\\Helipad_00352.meta\n",
      "Saved :data\\Helipad_Dataset_meta\\Helipad_Dataset_meta_original\\Folder_003\\Helipad_00353.meta\n",
      "Saved :data\\Helipad_Dataset_meta\\Helipad_Dataset_meta_original\\Folder_003\\Helipad_00354.meta\n",
      "Saved :data\\Helipad_Dataset_meta\\Helipad_Dataset_meta_original\\Folder_003\\Helipad_00355.meta\n",
      "Saved :data\\Helipad_Dataset_meta\\Helipad_Dataset_meta_original\\Folder_003\\Helipad_00356.meta\n",
      "Saved :data\\Helipad_Dataset_meta\\Helipad_Dataset_meta_original\\Folder_003\\Helipad_00357.meta\n",
      "Saved :data\\Helipad_Dataset_meta\\Helipad_Dataset_meta_original\\Folder_003\\Helipad_00358.meta\n",
      "Saved :data\\Helipad_Dataset_meta\\Helipad_Dataset_meta_original\\Folder_003\\Helipad_00359.meta\n",
      "Saved :data\\Helipad_Dataset_meta\\Helipad_Dataset_meta_original\\Folder_003\\Helipad_00360.meta\n",
      "Saved :data\\Helipad_Dataset_meta\\Helipad_Dataset_meta_original\\Folder_003\\Helipad_00361.meta\n",
      "Saved :data\\Helipad_Dataset_meta\\Helipad_Dataset_meta_original\\Folder_003\\Helipad_00362.meta\n",
      "Saved :data\\Helipad_Dataset_meta\\Helipad_Dataset_meta_original\\Folder_003\\Helipad_00363.meta\n",
      "Saved :data\\Helipad_Dataset_meta\\Helipad_Dataset_meta_original\\Folder_003\\Helipad_00364.meta\n",
      "Saved :data\\Helipad_Dataset_meta\\Helipad_Dataset_meta_original\\Folder_003\\Helipad_00365.meta\n",
      "Saved :data\\Helipad_Dataset_meta\\Helipad_Dataset_meta_original\\Folder_003\\Helipad_00366.meta\n",
      "Saved :data\\Helipad_Dataset_meta\\Helipad_Dataset_meta_original\\Folder_003\\Helipad_00367.meta\n",
      "Saved :data\\Helipad_Dataset_meta\\Helipad_Dataset_meta_original\\Folder_003\\Helipad_00368.meta\n",
      "Saved :data\\Helipad_Dataset_meta\\Helipad_Dataset_meta_original\\Folder_003\\Helipad_00369.meta\n",
      "Saved :data\\Helipad_Dataset_meta\\Helipad_Dataset_meta_original\\Folder_003\\Helipad_00370.meta\n",
      "Saved :data\\Helipad_Dataset_meta\\Helipad_Dataset_meta_original\\Folder_003\\Helipad_00371.meta\n",
      "Saved :data\\Helipad_Dataset_meta\\Helipad_Dataset_meta_original\\Folder_003\\Helipad_00372.meta\n",
      "Saved :data\\Helipad_Dataset_meta\\Helipad_Dataset_meta_original\\Folder_003\\Helipad_00373.meta\n",
      "Saved :data\\Helipad_Dataset_meta\\Helipad_Dataset_meta_original\\Folder_003\\Helipad_00374.meta\n",
      "Saved :data\\Helipad_Dataset_meta\\Helipad_Dataset_meta_original\\Folder_003\\Helipad_00375.meta\n",
      "Saved :data\\Helipad_Dataset_meta\\Helipad_Dataset_meta_original\\Folder_003\\Helipad_00376.meta\n",
      "Saved :data\\Helipad_Dataset_meta\\Helipad_Dataset_meta_original\\Folder_003\\Helipad_00377.meta\n",
      "Saved :data\\Helipad_Dataset_meta\\Helipad_Dataset_meta_original\\Folder_003\\Helipad_00378.meta\n",
      "Saved :data\\Helipad_Dataset_meta\\Helipad_Dataset_meta_original\\Folder_003\\Helipad_00379.meta\n",
      "Saved :data\\Helipad_Dataset_meta\\Helipad_Dataset_meta_original\\Folder_003\\Helipad_00380.meta\n",
      "Saved :data\\Helipad_Dataset_meta\\Helipad_Dataset_meta_original\\Folder_003\\Helipad_00381.meta\n",
      "Saved :data\\Helipad_Dataset_meta\\Helipad_Dataset_meta_original\\Folder_003\\Helipad_00382.meta\n",
      "Saved :data\\Helipad_Dataset_meta\\Helipad_Dataset_meta_original\\Folder_003\\Helipad_00383.meta\n",
      "Saved :data\\Helipad_Dataset_meta\\Helipad_Dataset_meta_original\\Folder_003\\Helipad_00384.meta\n",
      "Saved :data\\Helipad_Dataset_meta\\Helipad_Dataset_meta_original\\Folder_003\\Helipad_00385.meta\n",
      "Saved :data\\Helipad_Dataset_meta\\Helipad_Dataset_meta_original\\Folder_003\\Helipad_00386.meta\n",
      "Saved :data\\Helipad_Dataset_meta\\Helipad_Dataset_meta_original\\Folder_003\\Helipad_00387.meta\n",
      "Saved :data\\Helipad_Dataset_meta\\Helipad_Dataset_meta_original\\Folder_003\\Helipad_00388.meta\n",
      "Saved :data\\Helipad_Dataset_meta\\Helipad_Dataset_meta_original\\Folder_003\\Helipad_00389.meta\n",
      "Saved :data\\Helipad_Dataset_meta\\Helipad_Dataset_meta_original\\Folder_003\\Helipad_00390.meta\n",
      "Saved :data\\Helipad_Dataset_meta\\Helipad_Dataset_meta_original\\Folder_003\\Helipad_00391.meta\n",
      "Saved :data\\Helipad_Dataset_meta\\Helipad_Dataset_meta_original\\Folder_003\\Helipad_00392.meta\n",
      "Saved :data\\Helipad_Dataset_meta\\Helipad_Dataset_meta_original\\Folder_003\\Helipad_00393.meta\n",
      "Saved :data\\Helipad_Dataset_meta\\Helipad_Dataset_meta_original\\Folder_003\\Helipad_00394.meta\n",
      "Saved :data\\Helipad_Dataset_meta\\Helipad_Dataset_meta_original\\Folder_003\\Helipad_00395.meta\n",
      "Saved :data\\Helipad_Dataset_meta\\Helipad_Dataset_meta_original\\Folder_003\\Helipad_00396.meta\n",
      "Saved :data\\Helipad_Dataset_meta\\Helipad_Dataset_meta_original\\Folder_003\\Helipad_00397.meta\n",
      "Saved :data\\Helipad_Dataset_meta\\Helipad_Dataset_meta_original\\Folder_003\\Helipad_00398.meta\n",
      "Saved :data\\Helipad_Dataset_meta\\Helipad_Dataset_meta_original\\Folder_003\\Helipad_00399.meta\n",
      "Saved :data\\Helipad_Dataset_meta\\Helipad_Dataset_meta_original\\Folder_004\\Helipad_00400.meta\n",
      "Saved :data\\Helipad_Dataset_meta\\Helipad_Dataset_meta_original\\Folder_004\\Helipad_00401.meta\n",
      "Saved :data\\Helipad_Dataset_meta\\Helipad_Dataset_meta_original\\Folder_004\\Helipad_00402.meta\n",
      "Saved :data\\Helipad_Dataset_meta\\Helipad_Dataset_meta_original\\Folder_004\\Helipad_00403.meta\n",
      "Saved :data\\Helipad_Dataset_meta\\Helipad_Dataset_meta_original\\Folder_004\\Helipad_00404.meta\n",
      "Saved :data\\Helipad_Dataset_meta\\Helipad_Dataset_meta_original\\Folder_004\\Helipad_00405.meta\n",
      "Saved :data\\Helipad_Dataset_meta\\Helipad_Dataset_meta_original\\Folder_004\\Helipad_00406.meta\n",
      "Saved :data\\Helipad_Dataset_meta\\Helipad_Dataset_meta_original\\Folder_004\\Helipad_00407.meta\n",
      "Saved :data\\Helipad_Dataset_meta\\Helipad_Dataset_meta_original\\Folder_004\\Helipad_00408.meta\n",
      "Saved :data\\Helipad_Dataset_meta\\Helipad_Dataset_meta_original\\Folder_004\\Helipad_00409.meta\n",
      "Saved :data\\Helipad_Dataset_meta\\Helipad_Dataset_meta_original\\Folder_004\\Helipad_00410.meta\n",
      "Saved :data\\Helipad_Dataset_meta\\Helipad_Dataset_meta_original\\Folder_004\\Helipad_00411.meta\n",
      "Saved :data\\Helipad_Dataset_meta\\Helipad_Dataset_meta_original\\Folder_004\\Helipad_00412.meta\n",
      "Saved :data\\Helipad_Dataset_meta\\Helipad_Dataset_meta_original\\Folder_004\\Helipad_00413.meta\n",
      "Saved :data\\Helipad_Dataset_meta\\Helipad_Dataset_meta_original\\Folder_004\\Helipad_00414.meta\n",
      "Saved :data\\Helipad_Dataset_meta\\Helipad_Dataset_meta_original\\Folder_004\\Helipad_00415.meta\n",
      "Saved :data\\Helipad_Dataset_meta\\Helipad_Dataset_meta_original\\Folder_004\\Helipad_00416.meta\n",
      "Saved :data\\Helipad_Dataset_meta\\Helipad_Dataset_meta_original\\Folder_004\\Helipad_00417.meta\n",
      "Saved :data\\Helipad_Dataset_meta\\Helipad_Dataset_meta_original\\Folder_004\\Helipad_00418.meta\n",
      "Saved :data\\Helipad_Dataset_meta\\Helipad_Dataset_meta_original\\Folder_004\\Helipad_00419.meta\n",
      "Saved :data\\Helipad_Dataset_meta\\Helipad_Dataset_meta_original\\Folder_004\\Helipad_00420.meta\n",
      "Saved :data\\Helipad_Dataset_meta\\Helipad_Dataset_meta_original\\Folder_004\\Helipad_00421.meta\n",
      "Saved :data\\Helipad_Dataset_meta\\Helipad_Dataset_meta_original\\Folder_004\\Helipad_00422.meta\n",
      "Saved :data\\Helipad_Dataset_meta\\Helipad_Dataset_meta_original\\Folder_004\\Helipad_00423.meta\n",
      "Saved :data\\Helipad_Dataset_meta\\Helipad_Dataset_meta_original\\Folder_004\\Helipad_00424.meta\n",
      "Saved :data\\Helipad_Dataset_meta\\Helipad_Dataset_meta_original\\Folder_004\\Helipad_00425.meta\n",
      "Saved :data\\Helipad_Dataset_meta\\Helipad_Dataset_meta_original\\Folder_004\\Helipad_00426.meta\n",
      "Saved :data\\Helipad_Dataset_meta\\Helipad_Dataset_meta_original\\Folder_004\\Helipad_00427.meta\n",
      "Saved :data\\Helipad_Dataset_meta\\Helipad_Dataset_meta_original\\Folder_004\\Helipad_00428.meta\n",
      "Saved :data\\Helipad_Dataset_meta\\Helipad_Dataset_meta_original\\Folder_004\\Helipad_00429.meta\n",
      "Saved :data\\Helipad_Dataset_meta\\Helipad_Dataset_meta_original\\Folder_004\\Helipad_00430.meta\n",
      "Saved :data\\Helipad_Dataset_meta\\Helipad_Dataset_meta_original\\Folder_004\\Helipad_00431.meta\n",
      "Saved :data\\Helipad_Dataset_meta\\Helipad_Dataset_meta_original\\Folder_004\\Helipad_00432.meta\n",
      "Saved :data\\Helipad_Dataset_meta\\Helipad_Dataset_meta_original\\Folder_004\\Helipad_00433.meta\n",
      "Saved :data\\Helipad_Dataset_meta\\Helipad_Dataset_meta_original\\Folder_004\\Helipad_00434.meta\n",
      "Saved :data\\Helipad_Dataset_meta\\Helipad_Dataset_meta_original\\Folder_004\\Helipad_00435.meta\n",
      "Saved :data\\Helipad_Dataset_meta\\Helipad_Dataset_meta_original\\Folder_004\\Helipad_00436.meta\n",
      "Saved :data\\Helipad_Dataset_meta\\Helipad_Dataset_meta_original\\Folder_004\\Helipad_00437.meta\n",
      "Saved :data\\Helipad_Dataset_meta\\Helipad_Dataset_meta_original\\Folder_004\\Helipad_00438.meta\n",
      "Saved :data\\Helipad_Dataset_meta\\Helipad_Dataset_meta_original\\Folder_004\\Helipad_00439.meta\n",
      "Saved :data\\Helipad_Dataset_meta\\Helipad_Dataset_meta_original\\Folder_004\\Helipad_00440.meta\n",
      "Saved :data\\Helipad_Dataset_meta\\Helipad_Dataset_meta_original\\Folder_004\\Helipad_00441.meta\n",
      "Saved :data\\Helipad_Dataset_meta\\Helipad_Dataset_meta_original\\Folder_004\\Helipad_00442.meta\n",
      "Saved :data\\Helipad_Dataset_meta\\Helipad_Dataset_meta_original\\Folder_004\\Helipad_00443.meta\n",
      "Saved :data\\Helipad_Dataset_meta\\Helipad_Dataset_meta_original\\Folder_004\\Helipad_00444.meta\n",
      "Saved :data\\Helipad_Dataset_meta\\Helipad_Dataset_meta_original\\Folder_004\\Helipad_00445.meta\n",
      "Saved :data\\Helipad_Dataset_meta\\Helipad_Dataset_meta_original\\Folder_004\\Helipad_00446.meta\n",
      "Saved :data\\Helipad_Dataset_meta\\Helipad_Dataset_meta_original\\Folder_004\\Helipad_00447.meta\n",
      "Saved :data\\Helipad_Dataset_meta\\Helipad_Dataset_meta_original\\Folder_004\\Helipad_00448.meta\n",
      "Saved :data\\Helipad_Dataset_meta\\Helipad_Dataset_meta_original\\Folder_004\\Helipad_00449.meta\n",
      "Saved :data\\Helipad_Dataset_meta\\Helipad_Dataset_meta_original\\Folder_004\\Helipad_00450.meta\n",
      "Saved :data\\Helipad_Dataset_meta\\Helipad_Dataset_meta_original\\Folder_004\\Helipad_00451.meta\n",
      "Saved :data\\Helipad_Dataset_meta\\Helipad_Dataset_meta_original\\Folder_004\\Helipad_00452.meta\n",
      "Saved :data\\Helipad_Dataset_meta\\Helipad_Dataset_meta_original\\Folder_004\\Helipad_00453.meta\n",
      "Saved :data\\Helipad_Dataset_meta\\Helipad_Dataset_meta_original\\Folder_004\\Helipad_00454.meta\n",
      "Saved :data\\Helipad_Dataset_meta\\Helipad_Dataset_meta_original\\Folder_004\\Helipad_00455.meta\n",
      "Saved :data\\Helipad_Dataset_meta\\Helipad_Dataset_meta_original\\Folder_004\\Helipad_00456.meta\n",
      "Saved :data\\Helipad_Dataset_meta\\Helipad_Dataset_meta_original\\Folder_004\\Helipad_00457.meta\n",
      "Saved :data\\Helipad_Dataset_meta\\Helipad_Dataset_meta_original\\Folder_004\\Helipad_00458.meta\n",
      "Saved :data\\Helipad_Dataset_meta\\Helipad_Dataset_meta_original\\Folder_004\\Helipad_00459.meta\n",
      "Saved :data\\Helipad_Dataset_meta\\Helipad_Dataset_meta_original\\Folder_004\\Helipad_00460.meta\n",
      "Saved :data\\Helipad_Dataset_meta\\Helipad_Dataset_meta_original\\Folder_004\\Helipad_00461.meta\n",
      "Saved :data\\Helipad_Dataset_meta\\Helipad_Dataset_meta_original\\Folder_004\\Helipad_00462.meta\n",
      "Saved :data\\Helipad_Dataset_meta\\Helipad_Dataset_meta_original\\Folder_004\\Helipad_00463.meta\n",
      "Saved :data\\Helipad_Dataset_meta\\Helipad_Dataset_meta_original\\Folder_004\\Helipad_00464.meta\n",
      "Saved :data\\Helipad_Dataset_meta\\Helipad_Dataset_meta_original\\Folder_004\\Helipad_00465.meta\n",
      "Saved :data\\Helipad_Dataset_meta\\Helipad_Dataset_meta_original\\Folder_004\\Helipad_00466.meta\n",
      "Saved :data\\Helipad_Dataset_meta\\Helipad_Dataset_meta_original\\Folder_004\\Helipad_00467.meta\n",
      "Saved :data\\Helipad_Dataset_meta\\Helipad_Dataset_meta_original\\Folder_004\\Helipad_00468.meta\n",
      "Saved :data\\Helipad_Dataset_meta\\Helipad_Dataset_meta_original\\Folder_004\\Helipad_00469.meta\n",
      "Saved :data\\Helipad_Dataset_meta\\Helipad_Dataset_meta_original\\Folder_004\\Helipad_00470.meta\n",
      "Saved :data\\Helipad_Dataset_meta\\Helipad_Dataset_meta_original\\Folder_004\\Helipad_00471.meta\n",
      "Saved :data\\Helipad_Dataset_meta\\Helipad_Dataset_meta_original\\Folder_004\\Helipad_00472.meta\n",
      "Saved :data\\Helipad_Dataset_meta\\Helipad_Dataset_meta_original\\Folder_004\\Helipad_00473.meta\n",
      "Saved :data\\Helipad_Dataset_meta\\Helipad_Dataset_meta_original\\Folder_004\\Helipad_00474.meta\n",
      "Saved :data\\Helipad_Dataset_meta\\Helipad_Dataset_meta_original\\Folder_004\\Helipad_00475.meta\n",
      "Saved :data\\Helipad_Dataset_meta\\Helipad_Dataset_meta_original\\Folder_004\\Helipad_00476.meta\n",
      "Saved :data\\Helipad_Dataset_meta\\Helipad_Dataset_meta_original\\Folder_004\\Helipad_00477.meta\n",
      "Saved :data\\Helipad_Dataset_meta\\Helipad_Dataset_meta_original\\Folder_004\\Helipad_00478.meta\n",
      "Saved :data\\Helipad_Dataset_meta\\Helipad_Dataset_meta_original\\Folder_004\\Helipad_00479.meta\n",
      "Saved :data\\Helipad_Dataset_meta\\Helipad_Dataset_meta_original\\Folder_004\\Helipad_00480.meta\n",
      "Saved :data\\Helipad_Dataset_meta\\Helipad_Dataset_meta_original\\Folder_004\\Helipad_00482.meta\n",
      "Saved :data\\Helipad_Dataset_meta\\Helipad_Dataset_meta_original\\Folder_004\\Helipad_00484.meta\n",
      "Saved :data\\Helipad_Dataset_meta\\Helipad_Dataset_meta_original\\Folder_004\\Helipad_00485.meta\n",
      "Saved :data\\Helipad_Dataset_meta\\Helipad_Dataset_meta_original\\Folder_004\\Helipad_00486.meta\n",
      "Saved :data\\Helipad_Dataset_meta\\Helipad_Dataset_meta_original\\Folder_004\\Helipad_00487.meta\n",
      "Saved :data\\Helipad_Dataset_meta\\Helipad_Dataset_meta_original\\Folder_004\\Helipad_00488.meta\n",
      "Saved :data\\Helipad_Dataset_meta\\Helipad_Dataset_meta_original\\Folder_004\\Helipad_00489.meta\n",
      "Saved :data\\Helipad_Dataset_meta\\Helipad_Dataset_meta_original\\Folder_004\\Helipad_00490.meta\n",
      "Saved :data\\Helipad_Dataset_meta\\Helipad_Dataset_meta_original\\Folder_004\\Helipad_00491.meta\n",
      "Saved :data\\Helipad_Dataset_meta\\Helipad_Dataset_meta_original\\Folder_004\\Helipad_00492.meta\n",
      "Saved :data\\Helipad_Dataset_meta\\Helipad_Dataset_meta_original\\Folder_004\\Helipad_00493.meta\n",
      "Saved :data\\Helipad_Dataset_meta\\Helipad_Dataset_meta_original\\Folder_004\\Helipad_00494.meta\n",
      "Saved :data\\Helipad_Dataset_meta\\Helipad_Dataset_meta_original\\Folder_004\\Helipad_00495.meta\n",
      "Saved :data\\Helipad_Dataset_meta\\Helipad_Dataset_meta_original\\Folder_004\\Helipad_00496.meta\n",
      "Saved :data\\Helipad_Dataset_meta\\Helipad_Dataset_meta_original\\Folder_004\\Helipad_00497.meta\n"
     ]
    },
    {
     "name": "stdout",
     "output_type": "stream",
     "text": [
      "Saved :data\\Helipad_Dataset_meta\\Helipad_Dataset_meta_original\\Folder_004\\Helipad_00498.meta\n",
      "Saved :data\\Helipad_Dataset_meta\\Helipad_Dataset_meta_original\\Folder_004\\Helipad_00499.meta\n",
      "Saved :data\\Helipad_Dataset_meta\\Helipad_Dataset_meta_original\\Folder_005\\Helipad_00500.meta\n",
      "Saved :data\\Helipad_Dataset_meta\\Helipad_Dataset_meta_original\\Folder_005\\Helipad_00501.meta\n",
      "Saved :data\\Helipad_Dataset_meta\\Helipad_Dataset_meta_original\\Folder_005\\Helipad_00502.meta\n",
      "Saved :data\\Helipad_Dataset_meta\\Helipad_Dataset_meta_original\\Folder_005\\Helipad_00503.meta\n",
      "Saved :data\\Helipad_Dataset_meta\\Helipad_Dataset_meta_original\\Folder_005\\Helipad_00504.meta\n",
      "Saved :data\\Helipad_Dataset_meta\\Helipad_Dataset_meta_original\\Folder_005\\Helipad_00505.meta\n",
      "Saved :data\\Helipad_Dataset_meta\\Helipad_Dataset_meta_original\\Folder_005\\Helipad_00506.meta\n",
      "Saved :data\\Helipad_Dataset_meta\\Helipad_Dataset_meta_original\\Folder_005\\Helipad_00507.meta\n",
      "Saved :data\\Helipad_Dataset_meta\\Helipad_Dataset_meta_original\\Folder_005\\Helipad_00508.meta\n",
      "Saved :data\\Helipad_Dataset_meta\\Helipad_Dataset_meta_original\\Folder_005\\Helipad_00509.meta\n",
      "Saved :data\\Helipad_Dataset_meta\\Helipad_Dataset_meta_original\\Folder_005\\Helipad_00510.meta\n",
      "Saved :data\\Helipad_Dataset_meta\\Helipad_Dataset_meta_original\\Folder_005\\Helipad_00511.meta\n",
      "Saved :data\\Helipad_Dataset_meta\\Helipad_Dataset_meta_original\\Folder_005\\Helipad_00512.meta\n",
      "Saved :data\\Helipad_Dataset_meta\\Helipad_Dataset_meta_original\\Folder_005\\Helipad_00513.meta\n",
      "Saved :data\\Helipad_Dataset_meta\\Helipad_Dataset_meta_original\\Folder_005\\Helipad_00514.meta\n",
      "Saved :data\\Helipad_Dataset_meta\\Helipad_Dataset_meta_original\\Folder_005\\Helipad_00515.meta\n",
      "Saved :data\\Helipad_Dataset_meta\\Helipad_Dataset_meta_original\\Folder_005\\Helipad_00516.meta\n",
      "Saved :data\\Helipad_Dataset_meta\\Helipad_Dataset_meta_original\\Folder_005\\Helipad_00517.meta\n",
      "Saved :data\\Helipad_Dataset_meta\\Helipad_Dataset_meta_original\\Folder_005\\Helipad_00518.meta\n",
      "Saved :data\\Helipad_Dataset_meta\\Helipad_Dataset_meta_original\\Folder_005\\Helipad_00519.meta\n",
      "Saved :data\\Helipad_Dataset_meta\\Helipad_Dataset_meta_original\\Folder_005\\Helipad_00520.meta\n",
      "Saved :data\\Helipad_Dataset_meta\\Helipad_Dataset_meta_original\\Folder_005\\Helipad_00521.meta\n",
      "Saved :data\\Helipad_Dataset_meta\\Helipad_Dataset_meta_original\\Folder_005\\Helipad_00522.meta\n",
      "Saved :data\\Helipad_Dataset_meta\\Helipad_Dataset_meta_original\\Folder_005\\Helipad_00523.meta\n",
      "Saved :data\\Helipad_Dataset_meta\\Helipad_Dataset_meta_original\\Folder_005\\Helipad_00524.meta\n",
      "Saved :data\\Helipad_Dataset_meta\\Helipad_Dataset_meta_original\\Folder_005\\Helipad_00525.meta\n",
      "Saved :data\\Helipad_Dataset_meta\\Helipad_Dataset_meta_original\\Folder_005\\Helipad_00526.meta\n",
      "Saved :data\\Helipad_Dataset_meta\\Helipad_Dataset_meta_original\\Folder_005\\Helipad_00527.meta\n",
      "Saved :data\\Helipad_Dataset_meta\\Helipad_Dataset_meta_original\\Folder_005\\Helipad_00528.meta\n",
      "Saved :data\\Helipad_Dataset_meta\\Helipad_Dataset_meta_original\\Folder_005\\Helipad_00529.meta\n",
      "Saved :data\\Helipad_Dataset_meta\\Helipad_Dataset_meta_original\\Folder_005\\Helipad_00530.meta\n",
      "Saved :data\\Helipad_Dataset_meta\\Helipad_Dataset_meta_original\\Folder_005\\Helipad_00531.meta\n",
      "Saved :data\\Helipad_Dataset_meta\\Helipad_Dataset_meta_original\\Folder_005\\Helipad_00532.meta\n",
      "Saved :data\\Helipad_Dataset_meta\\Helipad_Dataset_meta_original\\Folder_005\\Helipad_00533.meta\n",
      "Saved :data\\Helipad_Dataset_meta\\Helipad_Dataset_meta_original\\Folder_005\\Helipad_00534.meta\n",
      "Saved :data\\Helipad_Dataset_meta\\Helipad_Dataset_meta_original\\Folder_005\\Helipad_00535.meta\n",
      "Saved :data\\Helipad_Dataset_meta\\Helipad_Dataset_meta_original\\Folder_005\\Helipad_00536.meta\n",
      "Saved :data\\Helipad_Dataset_meta\\Helipad_Dataset_meta_original\\Folder_005\\Helipad_00537.meta\n",
      "Saved :data\\Helipad_Dataset_meta\\Helipad_Dataset_meta_original\\Folder_005\\Helipad_00538.meta\n",
      "Saved :data\\Helipad_Dataset_meta\\Helipad_Dataset_meta_original\\Folder_005\\Helipad_00539.meta\n",
      "Saved :data\\Helipad_Dataset_meta\\Helipad_Dataset_meta_original\\Folder_005\\Helipad_00540.meta\n",
      "Saved :data\\Helipad_Dataset_meta\\Helipad_Dataset_meta_original\\Folder_005\\Helipad_00541.meta\n",
      "Saved :data\\Helipad_Dataset_meta\\Helipad_Dataset_meta_original\\Folder_005\\Helipad_00542.meta\n",
      "Saved :data\\Helipad_Dataset_meta\\Helipad_Dataset_meta_original\\Folder_005\\Helipad_00543.meta\n",
      "Saved :data\\Helipad_Dataset_meta\\Helipad_Dataset_meta_original\\Folder_005\\Helipad_00544.meta\n",
      "Saved :data\\Helipad_Dataset_meta\\Helipad_Dataset_meta_original\\Folder_005\\Helipad_00545.meta\n",
      "Saved :data\\Helipad_Dataset_meta\\Helipad_Dataset_meta_original\\Folder_005\\Helipad_00546.meta\n",
      "Saved :data\\Helipad_Dataset_meta\\Helipad_Dataset_meta_original\\Folder_005\\Helipad_00547.meta\n",
      "Saved :data\\Helipad_Dataset_meta\\Helipad_Dataset_meta_original\\Folder_005\\Helipad_00548.meta\n",
      "Saved :data\\Helipad_Dataset_meta\\Helipad_Dataset_meta_original\\Folder_005\\Helipad_00549.meta\n",
      "Saved :data\\Helipad_Dataset_meta\\Helipad_Dataset_meta_original\\Folder_005\\Helipad_00550.meta\n",
      "Saved :data\\Helipad_Dataset_meta\\Helipad_Dataset_meta_original\\Folder_005\\Helipad_00551.meta\n",
      "Saved :data\\Helipad_Dataset_meta\\Helipad_Dataset_meta_original\\Folder_005\\Helipad_00552.meta\n",
      "Saved :data\\Helipad_Dataset_meta\\Helipad_Dataset_meta_original\\Folder_005\\Helipad_00553.meta\n",
      "Saved :data\\Helipad_Dataset_meta\\Helipad_Dataset_meta_original\\Folder_005\\Helipad_00554.meta\n",
      "Saved :data\\Helipad_Dataset_meta\\Helipad_Dataset_meta_original\\Folder_005\\Helipad_00555.meta\n",
      "Saved :data\\Helipad_Dataset_meta\\Helipad_Dataset_meta_original\\Folder_005\\Helipad_00556.meta\n",
      "Saved :data\\Helipad_Dataset_meta\\Helipad_Dataset_meta_original\\Folder_005\\Helipad_00557.meta\n",
      "Saved :data\\Helipad_Dataset_meta\\Helipad_Dataset_meta_original\\Folder_005\\Helipad_00558.meta\n",
      "Saved :data\\Helipad_Dataset_meta\\Helipad_Dataset_meta_original\\Folder_005\\Helipad_00559.meta\n",
      "Saved :data\\Helipad_Dataset_meta\\Helipad_Dataset_meta_original\\Folder_005\\Helipad_00560.meta\n",
      "Saved :data\\Helipad_Dataset_meta\\Helipad_Dataset_meta_original\\Folder_005\\Helipad_00561.meta\n",
      "Saved :data\\Helipad_Dataset_meta\\Helipad_Dataset_meta_original\\Folder_005\\Helipad_00562.meta\n",
      "Saved :data\\Helipad_Dataset_meta\\Helipad_Dataset_meta_original\\Folder_005\\Helipad_00563.meta\n",
      "Saved :data\\Helipad_Dataset_meta\\Helipad_Dataset_meta_original\\Folder_005\\Helipad_00564.meta\n",
      "Saved :data\\Helipad_Dataset_meta\\Helipad_Dataset_meta_original\\Folder_005\\Helipad_00565.meta\n",
      "Saved :data\\Helipad_Dataset_meta\\Helipad_Dataset_meta_original\\Folder_005\\Helipad_00566.meta\n",
      "Saved :data\\Helipad_Dataset_meta\\Helipad_Dataset_meta_original\\Folder_005\\Helipad_00567.meta\n",
      "Saved :data\\Helipad_Dataset_meta\\Helipad_Dataset_meta_original\\Folder_005\\Helipad_00568.meta\n",
      "Saved :data\\Helipad_Dataset_meta\\Helipad_Dataset_meta_original\\Folder_005\\Helipad_00569.meta\n",
      "Saved :data\\Helipad_Dataset_meta\\Helipad_Dataset_meta_original\\Folder_005\\Helipad_00570.meta\n",
      "Saved :data\\Helipad_Dataset_meta\\Helipad_Dataset_meta_original\\Folder_005\\Helipad_00571.meta\n",
      "Saved :data\\Helipad_Dataset_meta\\Helipad_Dataset_meta_original\\Folder_005\\Helipad_00572.meta\n",
      "Saved :data\\Helipad_Dataset_meta\\Helipad_Dataset_meta_original\\Folder_005\\Helipad_00573.meta\n",
      "Saved :data\\Helipad_Dataset_meta\\Helipad_Dataset_meta_original\\Folder_005\\Helipad_00574.meta\n",
      "Saved :data\\Helipad_Dataset_meta\\Helipad_Dataset_meta_original\\Folder_005\\Helipad_00575.meta\n",
      "Saved :data\\Helipad_Dataset_meta\\Helipad_Dataset_meta_original\\Folder_005\\Helipad_00576.meta\n",
      "Saved :data\\Helipad_Dataset_meta\\Helipad_Dataset_meta_original\\Folder_005\\Helipad_00577.meta\n",
      "Saved :data\\Helipad_Dataset_meta\\Helipad_Dataset_meta_original\\Folder_005\\Helipad_00578.meta\n",
      "Saved :data\\Helipad_Dataset_meta\\Helipad_Dataset_meta_original\\Folder_005\\Helipad_00579.meta\n",
      "Saved :data\\Helipad_Dataset_meta\\Helipad_Dataset_meta_original\\Folder_005\\Helipad_00580.meta\n",
      "Saved :data\\Helipad_Dataset_meta\\Helipad_Dataset_meta_original\\Folder_005\\Helipad_00581.meta\n",
      "Saved :data\\Helipad_Dataset_meta\\Helipad_Dataset_meta_original\\Folder_005\\Helipad_00582.meta\n",
      "Saved :data\\Helipad_Dataset_meta\\Helipad_Dataset_meta_original\\Folder_005\\Helipad_00583.meta\n",
      "Saved :data\\Helipad_Dataset_meta\\Helipad_Dataset_meta_original\\Folder_005\\Helipad_00584.meta\n",
      "Saved :data\\Helipad_Dataset_meta\\Helipad_Dataset_meta_original\\Folder_005\\Helipad_00585.meta\n",
      "Saved :data\\Helipad_Dataset_meta\\Helipad_Dataset_meta_original\\Folder_005\\Helipad_00586.meta\n",
      "Saved :data\\Helipad_Dataset_meta\\Helipad_Dataset_meta_original\\Folder_005\\Helipad_00587.meta\n",
      "Saved :data\\Helipad_Dataset_meta\\Helipad_Dataset_meta_original\\Folder_005\\Helipad_00588.meta\n",
      "Saved :data\\Helipad_Dataset_meta\\Helipad_Dataset_meta_original\\Folder_005\\Helipad_00589.meta\n",
      "Saved :data\\Helipad_Dataset_meta\\Helipad_Dataset_meta_original\\Folder_005\\Helipad_00590.meta\n",
      "Saved :data\\Helipad_Dataset_meta\\Helipad_Dataset_meta_original\\Folder_005\\Helipad_00591.meta\n",
      "Saved :data\\Helipad_Dataset_meta\\Helipad_Dataset_meta_original\\Folder_005\\Helipad_00592.meta\n",
      "Saved :data\\Helipad_Dataset_meta\\Helipad_Dataset_meta_original\\Folder_005\\Helipad_00593.meta\n",
      "Saved :data\\Helipad_Dataset_meta\\Helipad_Dataset_meta_original\\Folder_005\\Helipad_00594.meta\n",
      "Saved :data\\Helipad_Dataset_meta\\Helipad_Dataset_meta_original\\Folder_005\\Helipad_00595.meta\n",
      "Saved :data\\Helipad_Dataset_meta\\Helipad_Dataset_meta_original\\Folder_005\\Helipad_00596.meta\n",
      "Saved :data\\Helipad_Dataset_meta\\Helipad_Dataset_meta_original\\Folder_005\\Helipad_00597.meta\n",
      "Saved :data\\Helipad_Dataset_meta\\Helipad_Dataset_meta_original\\Folder_005\\Helipad_00598.meta\n",
      "Saved :data\\Helipad_Dataset_meta\\Helipad_Dataset_meta_original\\Folder_005\\Helipad_00599.meta\n",
      "Saved :data\\Helipad_Dataset_meta\\Helipad_Dataset_meta_original\\Folder_006\\Helipad_00600.meta\n",
      "Saved :data\\Helipad_Dataset_meta\\Helipad_Dataset_meta_original\\Folder_006\\Helipad_00601.meta\n",
      "Saved :data\\Helipad_Dataset_meta\\Helipad_Dataset_meta_original\\Folder_006\\Helipad_00602.meta\n",
      "Saved :data\\Helipad_Dataset_meta\\Helipad_Dataset_meta_original\\Folder_006\\Helipad_00603.meta\n",
      "Saved :data\\Helipad_Dataset_meta\\Helipad_Dataset_meta_original\\Folder_006\\Helipad_00604.meta\n",
      "Saved :data\\Helipad_Dataset_meta\\Helipad_Dataset_meta_original\\Folder_006\\Helipad_00605.meta\n",
      "Saved :data\\Helipad_Dataset_meta\\Helipad_Dataset_meta_original\\Folder_006\\Helipad_00606.meta\n",
      "Saved :data\\Helipad_Dataset_meta\\Helipad_Dataset_meta_original\\Folder_006\\Helipad_00607.meta\n",
      "Saved :data\\Helipad_Dataset_meta\\Helipad_Dataset_meta_original\\Folder_006\\Helipad_00608.meta\n",
      "Saved :data\\Helipad_Dataset_meta\\Helipad_Dataset_meta_original\\Folder_006\\Helipad_00609.meta\n",
      "Saved :data\\Helipad_Dataset_meta\\Helipad_Dataset_meta_original\\Folder_006\\Helipad_00610.meta\n",
      "Saved :data\\Helipad_Dataset_meta\\Helipad_Dataset_meta_original\\Folder_006\\Helipad_00611.meta\n",
      "Saved :data\\Helipad_Dataset_meta\\Helipad_Dataset_meta_original\\Folder_006\\Helipad_00612.meta\n",
      "Saved :data\\Helipad_Dataset_meta\\Helipad_Dataset_meta_original\\Folder_006\\Helipad_00613.meta\n",
      "Saved :data\\Helipad_Dataset_meta\\Helipad_Dataset_meta_original\\Folder_006\\Helipad_00614.meta\n",
      "Saved :data\\Helipad_Dataset_meta\\Helipad_Dataset_meta_original\\Folder_006\\Helipad_00615.meta\n",
      "Saved :data\\Helipad_Dataset_meta\\Helipad_Dataset_meta_original\\Folder_006\\Helipad_00616.meta\n",
      "Saved :data\\Helipad_Dataset_meta\\Helipad_Dataset_meta_original\\Folder_006\\Helipad_00617.meta\n",
      "Saved :data\\Helipad_Dataset_meta\\Helipad_Dataset_meta_original\\Folder_006\\Helipad_00618.meta\n",
      "Saved :data\\Helipad_Dataset_meta\\Helipad_Dataset_meta_original\\Folder_006\\Helipad_00619.meta\n",
      "Saved :data\\Helipad_Dataset_meta\\Helipad_Dataset_meta_original\\Folder_006\\Helipad_00620.meta\n",
      "Saved :data\\Helipad_Dataset_meta\\Helipad_Dataset_meta_original\\Folder_006\\Helipad_00621.meta\n",
      "Saved :data\\Helipad_Dataset_meta\\Helipad_Dataset_meta_original\\Folder_006\\Helipad_00622.meta\n",
      "Saved :data\\Helipad_Dataset_meta\\Helipad_Dataset_meta_original\\Folder_006\\Helipad_00623.meta\n",
      "Saved :data\\Helipad_Dataset_meta\\Helipad_Dataset_meta_original\\Folder_006\\Helipad_00624.meta\n",
      "Saved :data\\Helipad_Dataset_meta\\Helipad_Dataset_meta_original\\Folder_006\\Helipad_00625.meta\n",
      "Saved :data\\Helipad_Dataset_meta\\Helipad_Dataset_meta_original\\Folder_006\\Helipad_00626.meta\n",
      "Saved :data\\Helipad_Dataset_meta\\Helipad_Dataset_meta_original\\Folder_006\\Helipad_00627.meta\n",
      "Saved :data\\Helipad_Dataset_meta\\Helipad_Dataset_meta_original\\Folder_006\\Helipad_00628.meta\n",
      "Saved :data\\Helipad_Dataset_meta\\Helipad_Dataset_meta_original\\Folder_006\\Helipad_00629.meta\n",
      "Saved :data\\Helipad_Dataset_meta\\Helipad_Dataset_meta_original\\Folder_006\\Helipad_00630.meta\n",
      "Saved :data\\Helipad_Dataset_meta\\Helipad_Dataset_meta_original\\Folder_006\\Helipad_00631.meta\n",
      "Saved :data\\Helipad_Dataset_meta\\Helipad_Dataset_meta_original\\Folder_006\\Helipad_00632.meta\n",
      "Saved :data\\Helipad_Dataset_meta\\Helipad_Dataset_meta_original\\Folder_006\\Helipad_00633.meta\n",
      "Saved :data\\Helipad_Dataset_meta\\Helipad_Dataset_meta_original\\Folder_006\\Helipad_00634.meta\n",
      "Saved :data\\Helipad_Dataset_meta\\Helipad_Dataset_meta_original\\Folder_006\\Helipad_00635.meta\n",
      "Saved :data\\Helipad_Dataset_meta\\Helipad_Dataset_meta_original\\Folder_006\\Helipad_00636.meta\n",
      "Saved :data\\Helipad_Dataset_meta\\Helipad_Dataset_meta_original\\Folder_006\\Helipad_00637.meta\n",
      "Saved :data\\Helipad_Dataset_meta\\Helipad_Dataset_meta_original\\Folder_006\\Helipad_00638.meta\n",
      "Saved :data\\Helipad_Dataset_meta\\Helipad_Dataset_meta_original\\Folder_006\\Helipad_00639.meta\n",
      "Saved :data\\Helipad_Dataset_meta\\Helipad_Dataset_meta_original\\Folder_006\\Helipad_00640.meta\n",
      "Saved :data\\Helipad_Dataset_meta\\Helipad_Dataset_meta_original\\Folder_006\\Helipad_00641.meta\n",
      "Saved :data\\Helipad_Dataset_meta\\Helipad_Dataset_meta_original\\Folder_006\\Helipad_00642.meta\n",
      "Saved :data\\Helipad_Dataset_meta\\Helipad_Dataset_meta_original\\Folder_006\\Helipad_00643.meta\n",
      "Saved :data\\Helipad_Dataset_meta\\Helipad_Dataset_meta_original\\Folder_006\\Helipad_00644.meta\n",
      "Saved :data\\Helipad_Dataset_meta\\Helipad_Dataset_meta_original\\Folder_006\\Helipad_00645.meta\n",
      "Saved :data\\Helipad_Dataset_meta\\Helipad_Dataset_meta_original\\Folder_006\\Helipad_00646.meta\n",
      "Saved :data\\Helipad_Dataset_meta\\Helipad_Dataset_meta_original\\Folder_006\\Helipad_00647.meta\n",
      "Saved :data\\Helipad_Dataset_meta\\Helipad_Dataset_meta_original\\Folder_006\\Helipad_00648.meta\n",
      "Saved :data\\Helipad_Dataset_meta\\Helipad_Dataset_meta_original\\Folder_006\\Helipad_00649.meta\n",
      "Saved :data\\Helipad_Dataset_meta\\Helipad_Dataset_meta_original\\Folder_006\\Helipad_00650.meta\n",
      "Saved :data\\Helipad_Dataset_meta\\Helipad_Dataset_meta_original\\Folder_006\\Helipad_00651.meta\n",
      "Saved :data\\Helipad_Dataset_meta\\Helipad_Dataset_meta_original\\Folder_006\\Helipad_00652.meta\n",
      "Saved :data\\Helipad_Dataset_meta\\Helipad_Dataset_meta_original\\Folder_006\\Helipad_00653.meta\n",
      "Saved :data\\Helipad_Dataset_meta\\Helipad_Dataset_meta_original\\Folder_006\\Helipad_00654.meta\n"
     ]
    },
    {
     "name": "stdout",
     "output_type": "stream",
     "text": [
      "Saved :data\\Helipad_Dataset_meta\\Helipad_Dataset_meta_original\\Folder_006\\Helipad_00655.meta\n",
      "Saved :data\\Helipad_Dataset_meta\\Helipad_Dataset_meta_original\\Folder_006\\Helipad_00656.meta\n",
      "Saved :data\\Helipad_Dataset_meta\\Helipad_Dataset_meta_original\\Folder_006\\Helipad_00657.meta\n",
      "Saved :data\\Helipad_Dataset_meta\\Helipad_Dataset_meta_original\\Folder_006\\Helipad_00658.meta\n",
      "Saved :data\\Helipad_Dataset_meta\\Helipad_Dataset_meta_original\\Folder_006\\Helipad_00659.meta\n",
      "Saved :data\\Helipad_Dataset_meta\\Helipad_Dataset_meta_original\\Folder_006\\Helipad_00660.meta\n",
      "Saved :data\\Helipad_Dataset_meta\\Helipad_Dataset_meta_original\\Folder_006\\Helipad_00661.meta\n",
      "Saved :data\\Helipad_Dataset_meta\\Helipad_Dataset_meta_original\\Folder_006\\Helipad_00662.meta\n",
      "Saved :data\\Helipad_Dataset_meta\\Helipad_Dataset_meta_original\\Folder_006\\Helipad_00663.meta\n",
      "Saved :data\\Helipad_Dataset_meta\\Helipad_Dataset_meta_original\\Folder_006\\Helipad_00664.meta\n",
      "Saved :data\\Helipad_Dataset_meta\\Helipad_Dataset_meta_original\\Folder_006\\Helipad_00665.meta\n",
      "Saved :data\\Helipad_Dataset_meta\\Helipad_Dataset_meta_original\\Folder_006\\Helipad_00666.meta\n",
      "Saved :data\\Helipad_Dataset_meta\\Helipad_Dataset_meta_original\\Folder_006\\Helipad_00667.meta\n",
      "Saved :data\\Helipad_Dataset_meta\\Helipad_Dataset_meta_original\\Folder_006\\Helipad_00668.meta\n",
      "Saved :data\\Helipad_Dataset_meta\\Helipad_Dataset_meta_original\\Folder_006\\Helipad_00670.meta\n",
      "Saved :data\\Helipad_Dataset_meta\\Helipad_Dataset_meta_original\\Folder_006\\Helipad_00671.meta\n",
      "Saved :data\\Helipad_Dataset_meta\\Helipad_Dataset_meta_original\\Folder_006\\Helipad_00672.meta\n",
      "Saved :data\\Helipad_Dataset_meta\\Helipad_Dataset_meta_original\\Folder_006\\Helipad_00673.meta\n",
      "Saved :data\\Helipad_Dataset_meta\\Helipad_Dataset_meta_original\\Folder_006\\Helipad_00674.meta\n",
      "Saved :data\\Helipad_Dataset_meta\\Helipad_Dataset_meta_original\\Folder_006\\Helipad_00675.meta\n",
      "Saved :data\\Helipad_Dataset_meta\\Helipad_Dataset_meta_original\\Folder_006\\Helipad_00677.meta\n",
      "Saved :data\\Helipad_Dataset_meta\\Helipad_Dataset_meta_original\\Folder_006\\Helipad_00678.meta\n",
      "Saved :data\\Helipad_Dataset_meta\\Helipad_Dataset_meta_original\\Folder_006\\Helipad_00679.meta\n",
      "Saved :data\\Helipad_Dataset_meta\\Helipad_Dataset_meta_original\\Folder_006\\Helipad_00680.meta\n",
      "Saved :data\\Helipad_Dataset_meta\\Helipad_Dataset_meta_original\\Folder_006\\Helipad_00681.meta\n",
      "Saved :data\\Helipad_Dataset_meta\\Helipad_Dataset_meta_original\\Folder_006\\Helipad_00682.meta\n",
      "Saved :data\\Helipad_Dataset_meta\\Helipad_Dataset_meta_original\\Folder_006\\Helipad_00683.meta\n",
      "Saved :data\\Helipad_Dataset_meta\\Helipad_Dataset_meta_original\\Folder_006\\Helipad_00684.meta\n",
      "Saved :data\\Helipad_Dataset_meta\\Helipad_Dataset_meta_original\\Folder_006\\Helipad_00685.meta\n",
      "Saved :data\\Helipad_Dataset_meta\\Helipad_Dataset_meta_original\\Folder_006\\Helipad_00686.meta\n",
      "Saved :data\\Helipad_Dataset_meta\\Helipad_Dataset_meta_original\\Folder_006\\Helipad_00687.meta\n",
      "Saved :data\\Helipad_Dataset_meta\\Helipad_Dataset_meta_original\\Folder_006\\Helipad_00688.meta\n",
      "Saved :data\\Helipad_Dataset_meta\\Helipad_Dataset_meta_original\\Folder_006\\Helipad_00689.meta\n",
      "Saved :data\\Helipad_Dataset_meta\\Helipad_Dataset_meta_original\\Folder_006\\Helipad_00690.meta\n",
      "Saved :data\\Helipad_Dataset_meta\\Helipad_Dataset_meta_original\\Folder_006\\Helipad_00691.meta\n",
      "Saved :data\\Helipad_Dataset_meta\\Helipad_Dataset_meta_original\\Folder_006\\Helipad_00692.meta\n",
      "Saved :data\\Helipad_Dataset_meta\\Helipad_Dataset_meta_original\\Folder_006\\Helipad_00693.meta\n",
      "Saved :data\\Helipad_Dataset_meta\\Helipad_Dataset_meta_original\\Folder_006\\Helipad_00694.meta\n",
      "Saved :data\\Helipad_Dataset_meta\\Helipad_Dataset_meta_original\\Folder_006\\Helipad_00695.meta\n",
      "Saved :data\\Helipad_Dataset_meta\\Helipad_Dataset_meta_original\\Folder_006\\Helipad_00696.meta\n",
      "Saved :data\\Helipad_Dataset_meta\\Helipad_Dataset_meta_original\\Folder_006\\Helipad_00697.meta\n",
      "Saved :data\\Helipad_Dataset_meta\\Helipad_Dataset_meta_original\\Folder_006\\Helipad_00698.meta\n",
      "Saved :data\\Helipad_Dataset_meta\\Helipad_Dataset_meta_original\\Folder_006\\Helipad_00699.meta\n",
      "Saved :data\\Helipad_Dataset_meta\\Helipad_Dataset_meta_original\\Folder_007\\Helipad_00700.meta\n",
      "Saved :data\\Helipad_Dataset_meta\\Helipad_Dataset_meta_original\\Folder_007\\Helipad_00701.meta\n",
      "Saved :data\\Helipad_Dataset_meta\\Helipad_Dataset_meta_original\\Folder_007\\Helipad_00702.meta\n",
      "Saved :data\\Helipad_Dataset_meta\\Helipad_Dataset_meta_original\\Folder_007\\Helipad_00703.meta\n",
      "Saved :data\\Helipad_Dataset_meta\\Helipad_Dataset_meta_original\\Folder_007\\Helipad_00704.meta\n",
      "Saved :data\\Helipad_Dataset_meta\\Helipad_Dataset_meta_original\\Folder_007\\Helipad_00705.meta\n",
      "Saved :data\\Helipad_Dataset_meta\\Helipad_Dataset_meta_original\\Folder_007\\Helipad_00706.meta\n",
      "Saved :data\\Helipad_Dataset_meta\\Helipad_Dataset_meta_original\\Folder_007\\Helipad_00707.meta\n",
      "Saved :data\\Helipad_Dataset_meta\\Helipad_Dataset_meta_original\\Folder_007\\Helipad_00708.meta\n",
      "Saved :data\\Helipad_Dataset_meta\\Helipad_Dataset_meta_original\\Folder_007\\Helipad_00709.meta\n",
      "Saved :data\\Helipad_Dataset_meta\\Helipad_Dataset_meta_original\\Folder_007\\Helipad_00710.meta\n",
      "Saved :data\\Helipad_Dataset_meta\\Helipad_Dataset_meta_original\\Folder_007\\Helipad_00711.meta\n",
      "Saved :data\\Helipad_Dataset_meta\\Helipad_Dataset_meta_original\\Folder_007\\Helipad_00712.meta\n",
      "Saved :data\\Helipad_Dataset_meta\\Helipad_Dataset_meta_original\\Folder_007\\Helipad_00713.meta\n",
      "Saved :data\\Helipad_Dataset_meta\\Helipad_Dataset_meta_original\\Folder_007\\Helipad_00714.meta\n",
      "Saved :data\\Helipad_Dataset_meta\\Helipad_Dataset_meta_original\\Folder_007\\Helipad_00715.meta\n",
      "Saved :data\\Helipad_Dataset_meta\\Helipad_Dataset_meta_original\\Folder_007\\Helipad_00716.meta\n",
      "Saved :data\\Helipad_Dataset_meta\\Helipad_Dataset_meta_original\\Folder_007\\Helipad_00717.meta\n",
      "Saved :data\\Helipad_Dataset_meta\\Helipad_Dataset_meta_original\\Folder_007\\Helipad_00718.meta\n",
      "Saved :data\\Helipad_Dataset_meta\\Helipad_Dataset_meta_original\\Folder_007\\Helipad_00719.meta\n",
      "Saved :data\\Helipad_Dataset_meta\\Helipad_Dataset_meta_original\\Folder_007\\Helipad_00720.meta\n",
      "Saved :data\\Helipad_Dataset_meta\\Helipad_Dataset_meta_original\\Folder_007\\Helipad_00721.meta\n",
      "Saved :data\\Helipad_Dataset_meta\\Helipad_Dataset_meta_original\\Folder_007\\Helipad_00722.meta\n",
      "Saved :data\\Helipad_Dataset_meta\\Helipad_Dataset_meta_original\\Folder_007\\Helipad_00723.meta\n",
      "Saved :data\\Helipad_Dataset_meta\\Helipad_Dataset_meta_original\\Folder_007\\Helipad_00724.meta\n",
      "Saved :data\\Helipad_Dataset_meta\\Helipad_Dataset_meta_original\\Folder_007\\Helipad_00725.meta\n",
      "Saved :data\\Helipad_Dataset_meta\\Helipad_Dataset_meta_original\\Folder_007\\Helipad_00726.meta\n",
      "Saved :data\\Helipad_Dataset_meta\\Helipad_Dataset_meta_original\\Folder_007\\Helipad_00727.meta\n",
      "Saved :data\\Helipad_Dataset_meta\\Helipad_Dataset_meta_original\\Folder_007\\Helipad_00728.meta\n",
      "Saved :data\\Helipad_Dataset_meta\\Helipad_Dataset_meta_original\\Folder_007\\Helipad_00729.meta\n",
      "Saved :data\\Helipad_Dataset_meta\\Helipad_Dataset_meta_original\\Folder_007\\Helipad_00730.meta\n",
      "Saved :data\\Helipad_Dataset_meta\\Helipad_Dataset_meta_original\\Folder_007\\Helipad_00731.meta\n",
      "Saved :data\\Helipad_Dataset_meta\\Helipad_Dataset_meta_original\\Folder_007\\Helipad_00732.meta\n",
      "Saved :data\\Helipad_Dataset_meta\\Helipad_Dataset_meta_original\\Folder_007\\Helipad_00733.meta\n",
      "Saved :data\\Helipad_Dataset_meta\\Helipad_Dataset_meta_original\\Folder_007\\Helipad_00734.meta\n",
      "Saved :data\\Helipad_Dataset_meta\\Helipad_Dataset_meta_original\\Folder_007\\Helipad_00735.meta\n",
      "Saved :data\\Helipad_Dataset_meta\\Helipad_Dataset_meta_original\\Folder_007\\Helipad_00736.meta\n",
      "Saved :data\\Helipad_Dataset_meta\\Helipad_Dataset_meta_original\\Folder_007\\Helipad_00737.meta\n",
      "Saved :data\\Helipad_Dataset_meta\\Helipad_Dataset_meta_original\\Folder_007\\Helipad_00738.meta\n",
      "Saved :data\\Helipad_Dataset_meta\\Helipad_Dataset_meta_original\\Folder_007\\Helipad_00739.meta\n",
      "Saved :data\\Helipad_Dataset_meta\\Helipad_Dataset_meta_original\\Folder_007\\Helipad_00740.meta\n",
      "Saved :data\\Helipad_Dataset_meta\\Helipad_Dataset_meta_original\\Folder_007\\Helipad_00741.meta\n",
      "Saved :data\\Helipad_Dataset_meta\\Helipad_Dataset_meta_original\\Folder_007\\Helipad_00742.meta\n",
      "Saved :data\\Helipad_Dataset_meta\\Helipad_Dataset_meta_original\\Folder_007\\Helipad_00743.meta\n",
      "Saved :data\\Helipad_Dataset_meta\\Helipad_Dataset_meta_original\\Folder_007\\Helipad_00744.meta\n",
      "Saved :data\\Helipad_Dataset_meta\\Helipad_Dataset_meta_original\\Folder_007\\Helipad_00745.meta\n",
      "Saved :data\\Helipad_Dataset_meta\\Helipad_Dataset_meta_original\\Folder_007\\Helipad_00746.meta\n",
      "Saved :data\\Helipad_Dataset_meta\\Helipad_Dataset_meta_original\\Folder_007\\Helipad_00747.meta\n",
      "Saved :data\\Helipad_Dataset_meta\\Helipad_Dataset_meta_original\\Folder_007\\Helipad_00748.meta\n",
      "Saved :data\\Helipad_Dataset_meta\\Helipad_Dataset_meta_original\\Folder_007\\Helipad_00749.meta\n",
      "Saved :data\\Helipad_Dataset_meta\\Helipad_Dataset_meta_original\\Folder_007\\Helipad_00750.meta\n",
      "Saved :data\\Helipad_Dataset_meta\\Helipad_Dataset_meta_original\\Folder_007\\Helipad_00751.meta\n",
      "Saved :data\\Helipad_Dataset_meta\\Helipad_Dataset_meta_original\\Folder_007\\Helipad_00752.meta\n",
      "Saved :data\\Helipad_Dataset_meta\\Helipad_Dataset_meta_original\\Folder_007\\Helipad_00753.meta\n",
      "Saved :data\\Helipad_Dataset_meta\\Helipad_Dataset_meta_original\\Folder_007\\Helipad_00754.meta\n",
      "Saved :data\\Helipad_Dataset_meta\\Helipad_Dataset_meta_original\\Folder_007\\Helipad_00755.meta\n",
      "Saved :data\\Helipad_Dataset_meta\\Helipad_Dataset_meta_original\\Folder_007\\Helipad_00756.meta\n",
      "Saved :data\\Helipad_Dataset_meta\\Helipad_Dataset_meta_original\\Folder_007\\Helipad_00757.meta\n",
      "Saved :data\\Helipad_Dataset_meta\\Helipad_Dataset_meta_original\\Folder_007\\Helipad_00758.meta\n",
      "Saved :data\\Helipad_Dataset_meta\\Helipad_Dataset_meta_original\\Folder_007\\Helipad_00759.meta\n",
      "Saved :data\\Helipad_Dataset_meta\\Helipad_Dataset_meta_original\\Folder_007\\Helipad_00760.meta\n",
      "Saved :data\\Helipad_Dataset_meta\\Helipad_Dataset_meta_original\\Folder_007\\Helipad_00761.meta\n",
      "Saved :data\\Helipad_Dataset_meta\\Helipad_Dataset_meta_original\\Folder_007\\Helipad_00762.meta\n",
      "Saved :data\\Helipad_Dataset_meta\\Helipad_Dataset_meta_original\\Folder_007\\Helipad_00763.meta\n",
      "Saved :data\\Helipad_Dataset_meta\\Helipad_Dataset_meta_original\\Folder_007\\Helipad_00764.meta\n",
      "Saved :data\\Helipad_Dataset_meta\\Helipad_Dataset_meta_original\\Folder_007\\Helipad_00765.meta\n",
      "Saved :data\\Helipad_Dataset_meta\\Helipad_Dataset_meta_original\\Folder_007\\Helipad_00766.meta\n",
      "Saved :data\\Helipad_Dataset_meta\\Helipad_Dataset_meta_original\\Folder_007\\Helipad_00767.meta\n",
      "Saved :data\\Helipad_Dataset_meta\\Helipad_Dataset_meta_original\\Folder_007\\Helipad_00768.meta\n",
      "Saved :data\\Helipad_Dataset_meta\\Helipad_Dataset_meta_original\\Folder_007\\Helipad_00769.meta\n",
      "Saved :data\\Helipad_Dataset_meta\\Helipad_Dataset_meta_original\\Folder_007\\Helipad_00770.meta\n",
      "Saved :data\\Helipad_Dataset_meta\\Helipad_Dataset_meta_original\\Folder_007\\Helipad_00771.meta\n",
      "Saved :data\\Helipad_Dataset_meta\\Helipad_Dataset_meta_original\\Folder_007\\Helipad_00772.meta\n",
      "Saved :data\\Helipad_Dataset_meta\\Helipad_Dataset_meta_original\\Folder_007\\Helipad_00773.meta\n",
      "Saved :data\\Helipad_Dataset_meta\\Helipad_Dataset_meta_original\\Folder_007\\Helipad_00774.meta\n",
      "Saved :data\\Helipad_Dataset_meta\\Helipad_Dataset_meta_original\\Folder_007\\Helipad_00775.meta\n",
      "Saved :data\\Helipad_Dataset_meta\\Helipad_Dataset_meta_original\\Folder_007\\Helipad_00776.meta\n",
      "Saved :data\\Helipad_Dataset_meta\\Helipad_Dataset_meta_original\\Folder_007\\Helipad_00777.meta\n",
      "Saved :data\\Helipad_Dataset_meta\\Helipad_Dataset_meta_original\\Folder_007\\Helipad_00778.meta\n",
      "Saved :data\\Helipad_Dataset_meta\\Helipad_Dataset_meta_original\\Folder_007\\Helipad_00779.meta\n",
      "Saved :data\\Helipad_Dataset_meta\\Helipad_Dataset_meta_original\\Folder_007\\Helipad_00780.meta\n",
      "Saved :data\\Helipad_Dataset_meta\\Helipad_Dataset_meta_original\\Folder_007\\Helipad_00781.meta\n",
      "Saved :data\\Helipad_Dataset_meta\\Helipad_Dataset_meta_original\\Folder_007\\Helipad_00782.meta\n",
      "Saved :data\\Helipad_Dataset_meta\\Helipad_Dataset_meta_original\\Folder_007\\Helipad_00783.meta\n",
      "Saved :data\\Helipad_Dataset_meta\\Helipad_Dataset_meta_original\\Folder_007\\Helipad_00784.meta\n",
      "Saved :data\\Helipad_Dataset_meta\\Helipad_Dataset_meta_original\\Folder_007\\Helipad_00785.meta\n",
      "Saved :data\\Helipad_Dataset_meta\\Helipad_Dataset_meta_original\\Folder_007\\Helipad_00786.meta\n",
      "Saved :data\\Helipad_Dataset_meta\\Helipad_Dataset_meta_original\\Folder_007\\Helipad_00787.meta\n",
      "Saved :data\\Helipad_Dataset_meta\\Helipad_Dataset_meta_original\\Folder_007\\Helipad_00788.meta\n",
      "Saved :data\\Helipad_Dataset_meta\\Helipad_Dataset_meta_original\\Folder_007\\Helipad_00789.meta\n",
      "Saved :data\\Helipad_Dataset_meta\\Helipad_Dataset_meta_original\\Folder_007\\Helipad_00790.meta\n",
      "Saved :data\\Helipad_Dataset_meta\\Helipad_Dataset_meta_original\\Folder_007\\Helipad_00791.meta\n",
      "Saved :data\\Helipad_Dataset_meta\\Helipad_Dataset_meta_original\\Folder_007\\Helipad_00792.meta\n",
      "Saved :data\\Helipad_Dataset_meta\\Helipad_Dataset_meta_original\\Folder_007\\Helipad_00793.meta\n",
      "Saved :data\\Helipad_Dataset_meta\\Helipad_Dataset_meta_original\\Folder_007\\Helipad_00794.meta\n",
      "Saved :data\\Helipad_Dataset_meta\\Helipad_Dataset_meta_original\\Folder_007\\Helipad_00795.meta\n",
      "Saved :data\\Helipad_Dataset_meta\\Helipad_Dataset_meta_original\\Folder_007\\Helipad_00796.meta\n",
      "Saved :data\\Helipad_Dataset_meta\\Helipad_Dataset_meta_original\\Folder_007\\Helipad_00797.meta\n",
      "Saved :data\\Helipad_Dataset_meta\\Helipad_Dataset_meta_original\\Folder_007\\Helipad_00798.meta\n",
      "Saved :data\\Helipad_Dataset_meta\\Helipad_Dataset_meta_original\\Folder_007\\Helipad_00799.meta\n",
      "Saved :data\\Helipad_Dataset_meta\\Helipad_Dataset_meta_original\\Folder_008\\Helipad_00800.meta\n",
      "Saved :data\\Helipad_Dataset_meta\\Helipad_Dataset_meta_original\\Folder_008\\Helipad_00801.meta\n",
      "Saved :data\\Helipad_Dataset_meta\\Helipad_Dataset_meta_original\\Folder_008\\Helipad_00802.meta\n",
      "Saved :data\\Helipad_Dataset_meta\\Helipad_Dataset_meta_original\\Folder_008\\Helipad_00803.meta\n",
      "Saved :data\\Helipad_Dataset_meta\\Helipad_Dataset_meta_original\\Folder_008\\Helipad_00804.meta\n",
      "Saved :data\\Helipad_Dataset_meta\\Helipad_Dataset_meta_original\\Folder_008\\Helipad_00805.meta\n",
      "Saved :data\\Helipad_Dataset_meta\\Helipad_Dataset_meta_original\\Folder_008\\Helipad_00806.meta\n",
      "Saved :data\\Helipad_Dataset_meta\\Helipad_Dataset_meta_original\\Folder_008\\Helipad_00807.meta\n",
      "Saved :data\\Helipad_Dataset_meta\\Helipad_Dataset_meta_original\\Folder_008\\Helipad_00808.meta\n",
      "Saved :data\\Helipad_Dataset_meta\\Helipad_Dataset_meta_original\\Folder_008\\Helipad_00809.meta\n",
      "Saved :data\\Helipad_Dataset_meta\\Helipad_Dataset_meta_original\\Folder_008\\Helipad_00810.meta\n",
      "Saved :data\\Helipad_Dataset_meta\\Helipad_Dataset_meta_original\\Folder_008\\Helipad_00811.meta\n",
      "Saved :data\\Helipad_Dataset_meta\\Helipad_Dataset_meta_original\\Folder_008\\Helipad_00812.meta\n",
      "Saved :data\\Helipad_Dataset_meta\\Helipad_Dataset_meta_original\\Folder_008\\Helipad_00813.meta\n",
      "Saved :data\\Helipad_Dataset_meta\\Helipad_Dataset_meta_original\\Folder_008\\Helipad_00814.meta\n",
      "Saved :data\\Helipad_Dataset_meta\\Helipad_Dataset_meta_original\\Folder_008\\Helipad_00815.meta\n"
     ]
    },
    {
     "name": "stdout",
     "output_type": "stream",
     "text": [
      "Saved :data\\Helipad_Dataset_meta\\Helipad_Dataset_meta_original\\Folder_008\\Helipad_00816.meta\n",
      "Saved :data\\Helipad_Dataset_meta\\Helipad_Dataset_meta_original\\Folder_008\\Helipad_00817.meta\n",
      "Saved :data\\Helipad_Dataset_meta\\Helipad_Dataset_meta_original\\Folder_008\\Helipad_00818.meta\n",
      "Saved :data\\Helipad_Dataset_meta\\Helipad_Dataset_meta_original\\Folder_008\\Helipad_00819.meta\n",
      "Saved :data\\Helipad_Dataset_meta\\Helipad_Dataset_meta_original\\Folder_008\\Helipad_00820.meta\n",
      "Saved :data\\Helipad_Dataset_meta\\Helipad_Dataset_meta_original\\Folder_008\\Helipad_00821.meta\n",
      "Saved :data\\Helipad_Dataset_meta\\Helipad_Dataset_meta_original\\Folder_008\\Helipad_00822.meta\n",
      "Saved :data\\Helipad_Dataset_meta\\Helipad_Dataset_meta_original\\Folder_008\\Helipad_00823.meta\n",
      "Saved :data\\Helipad_Dataset_meta\\Helipad_Dataset_meta_original\\Folder_008\\Helipad_00824.meta\n",
      "Saved :data\\Helipad_Dataset_meta\\Helipad_Dataset_meta_original\\Folder_008\\Helipad_00825.meta\n",
      "Saved :data\\Helipad_Dataset_meta\\Helipad_Dataset_meta_original\\Folder_008\\Helipad_00826.meta\n",
      "Saved :data\\Helipad_Dataset_meta\\Helipad_Dataset_meta_original\\Folder_008\\Helipad_00827.meta\n",
      "Saved :data\\Helipad_Dataset_meta\\Helipad_Dataset_meta_original\\Folder_008\\Helipad_00828.meta\n",
      "Saved :data\\Helipad_Dataset_meta\\Helipad_Dataset_meta_original\\Folder_008\\Helipad_00829.meta\n",
      "Saved :data\\Helipad_Dataset_meta\\Helipad_Dataset_meta_original\\Folder_008\\Helipad_00830.meta\n",
      "Saved :data\\Helipad_Dataset_meta\\Helipad_Dataset_meta_original\\Folder_008\\Helipad_00831.meta\n",
      "Saved :data\\Helipad_Dataset_meta\\Helipad_Dataset_meta_original\\Folder_008\\Helipad_00832.meta\n",
      "Saved :data\\Helipad_Dataset_meta\\Helipad_Dataset_meta_original\\Folder_008\\Helipad_00833.meta\n",
      "Saved :data\\Helipad_Dataset_meta\\Helipad_Dataset_meta_original\\Folder_008\\Helipad_00834.meta\n",
      "Saved :data\\Helipad_Dataset_meta\\Helipad_Dataset_meta_original\\Folder_008\\Helipad_00835.meta\n",
      "Saved :data\\Helipad_Dataset_meta\\Helipad_Dataset_meta_original\\Folder_008\\Helipad_00836.meta\n",
      "Saved :data\\Helipad_Dataset_meta\\Helipad_Dataset_meta_original\\Folder_008\\Helipad_00837.meta\n",
      "Saved :data\\Helipad_Dataset_meta\\Helipad_Dataset_meta_original\\Folder_008\\Helipad_00838.meta\n",
      "Saved :data\\Helipad_Dataset_meta\\Helipad_Dataset_meta_original\\Folder_008\\Helipad_00839.meta\n",
      "Saved :data\\Helipad_Dataset_meta\\Helipad_Dataset_meta_original\\Folder_008\\Helipad_00840.meta\n",
      "Saved :data\\Helipad_Dataset_meta\\Helipad_Dataset_meta_original\\Folder_008\\Helipad_00841.meta\n",
      "Saved :data\\Helipad_Dataset_meta\\Helipad_Dataset_meta_original\\Folder_008\\Helipad_00842.meta\n",
      "Saved :data\\Helipad_Dataset_meta\\Helipad_Dataset_meta_original\\Folder_008\\Helipad_00843.meta\n",
      "Saved :data\\Helipad_Dataset_meta\\Helipad_Dataset_meta_original\\Folder_008\\Helipad_00844.meta\n",
      "Saved :data\\Helipad_Dataset_meta\\Helipad_Dataset_meta_original\\Folder_008\\Helipad_00845.meta\n",
      "Saved :data\\Helipad_Dataset_meta\\Helipad_Dataset_meta_original\\Folder_008\\Helipad_00846.meta\n",
      "Saved :data\\Helipad_Dataset_meta\\Helipad_Dataset_meta_original\\Folder_008\\Helipad_00847.meta\n",
      "Saved :data\\Helipad_Dataset_meta\\Helipad_Dataset_meta_original\\Folder_008\\Helipad_00848.meta\n",
      "Saved :data\\Helipad_Dataset_meta\\Helipad_Dataset_meta_original\\Folder_008\\Helipad_00849.meta\n",
      "Saved :data\\Helipad_Dataset_meta\\Helipad_Dataset_meta_original\\Folder_008\\Helipad_00850.meta\n",
      "Saved :data\\Helipad_Dataset_meta\\Helipad_Dataset_meta_original\\Folder_008\\Helipad_00851.meta\n",
      "Saved :data\\Helipad_Dataset_meta\\Helipad_Dataset_meta_original\\Folder_008\\Helipad_00852.meta\n",
      "Saved :data\\Helipad_Dataset_meta\\Helipad_Dataset_meta_original\\Folder_008\\Helipad_00853.meta\n",
      "Saved :data\\Helipad_Dataset_meta\\Helipad_Dataset_meta_original\\Folder_008\\Helipad_00854.meta\n",
      "Saved :data\\Helipad_Dataset_meta\\Helipad_Dataset_meta_original\\Folder_008\\Helipad_00855.meta\n",
      "Saved :data\\Helipad_Dataset_meta\\Helipad_Dataset_meta_original\\Folder_008\\Helipad_00856.meta\n",
      "Saved :data\\Helipad_Dataset_meta\\Helipad_Dataset_meta_original\\Folder_008\\Helipad_00857.meta\n",
      "Saved :data\\Helipad_Dataset_meta\\Helipad_Dataset_meta_original\\Folder_008\\Helipad_00858.meta\n",
      "Saved :data\\Helipad_Dataset_meta\\Helipad_Dataset_meta_original\\Folder_008\\Helipad_00859.meta\n",
      "Saved :data\\Helipad_Dataset_meta\\Helipad_Dataset_meta_original\\Folder_008\\Helipad_00860.meta\n",
      "Saved :data\\Helipad_Dataset_meta\\Helipad_Dataset_meta_original\\Folder_008\\Helipad_00861.meta\n",
      "Saved :data\\Helipad_Dataset_meta\\Helipad_Dataset_meta_original\\Folder_008\\Helipad_00862.meta\n",
      "Saved :data\\Helipad_Dataset_meta\\Helipad_Dataset_meta_original\\Folder_008\\Helipad_00863.meta\n",
      "Saved :data\\Helipad_Dataset_meta\\Helipad_Dataset_meta_original\\Folder_008\\Helipad_00864.meta\n",
      "Saved :data\\Helipad_Dataset_meta\\Helipad_Dataset_meta_original\\Folder_008\\Helipad_00865.meta\n",
      "Saved :data\\Helipad_Dataset_meta\\Helipad_Dataset_meta_original\\Folder_008\\Helipad_00866.meta\n",
      "Saved :data\\Helipad_Dataset_meta\\Helipad_Dataset_meta_original\\Folder_008\\Helipad_00867.meta\n",
      "Saved :data\\Helipad_Dataset_meta\\Helipad_Dataset_meta_original\\Folder_008\\Helipad_00868.meta\n",
      "Saved :data\\Helipad_Dataset_meta\\Helipad_Dataset_meta_original\\Folder_008\\Helipad_00869.meta\n",
      "Saved :data\\Helipad_Dataset_meta\\Helipad_Dataset_meta_original\\Folder_008\\Helipad_00870.meta\n",
      "Saved :data\\Helipad_Dataset_meta\\Helipad_Dataset_meta_original\\Folder_008\\Helipad_00871.meta\n",
      "Saved :data\\Helipad_Dataset_meta\\Helipad_Dataset_meta_original\\Folder_008\\Helipad_00872.meta\n",
      "Saved :data\\Helipad_Dataset_meta\\Helipad_Dataset_meta_original\\Folder_008\\Helipad_00873.meta\n",
      "Saved :data\\Helipad_Dataset_meta\\Helipad_Dataset_meta_original\\Folder_008\\Helipad_00874.meta\n",
      "Saved :data\\Helipad_Dataset_meta\\Helipad_Dataset_meta_original\\Folder_008\\Helipad_00875.meta\n",
      "Saved :data\\Helipad_Dataset_meta\\Helipad_Dataset_meta_original\\Folder_008\\Helipad_00876.meta\n",
      "Saved :data\\Helipad_Dataset_meta\\Helipad_Dataset_meta_original\\Folder_008\\Helipad_00877.meta\n",
      "Saved :data\\Helipad_Dataset_meta\\Helipad_Dataset_meta_original\\Folder_008\\Helipad_00878.meta\n",
      "Saved :data\\Helipad_Dataset_meta\\Helipad_Dataset_meta_original\\Folder_008\\Helipad_00879.meta\n",
      "Saved :data\\Helipad_Dataset_meta\\Helipad_Dataset_meta_original\\Folder_008\\Helipad_00880.meta\n",
      "Saved :data\\Helipad_Dataset_meta\\Helipad_Dataset_meta_original\\Folder_008\\Helipad_00881.meta\n",
      "Saved :data\\Helipad_Dataset_meta\\Helipad_Dataset_meta_original\\Folder_008\\Helipad_00882.meta\n",
      "Saved :data\\Helipad_Dataset_meta\\Helipad_Dataset_meta_original\\Folder_008\\Helipad_00883.meta\n",
      "Saved :data\\Helipad_Dataset_meta\\Helipad_Dataset_meta_original\\Folder_008\\Helipad_00884.meta\n",
      "Saved :data\\Helipad_Dataset_meta\\Helipad_Dataset_meta_original\\Folder_008\\Helipad_00885.meta\n",
      "Saved :data\\Helipad_Dataset_meta\\Helipad_Dataset_meta_original\\Folder_008\\Helipad_00886.meta\n",
      "Saved :data\\Helipad_Dataset_meta\\Helipad_Dataset_meta_original\\Folder_008\\Helipad_00887.meta\n",
      "Saved :data\\Helipad_Dataset_meta\\Helipad_Dataset_meta_original\\Folder_008\\Helipad_00888.meta\n",
      "Saved :data\\Helipad_Dataset_meta\\Helipad_Dataset_meta_original\\Folder_008\\Helipad_00889.meta\n",
      "Saved :data\\Helipad_Dataset_meta\\Helipad_Dataset_meta_original\\Folder_008\\Helipad_00890.meta\n",
      "Saved :data\\Helipad_Dataset_meta\\Helipad_Dataset_meta_original\\Folder_008\\Helipad_00891.meta\n",
      "Saved :data\\Helipad_Dataset_meta\\Helipad_Dataset_meta_original\\Folder_008\\Helipad_00892.meta\n",
      "Saved :data\\Helipad_Dataset_meta\\Helipad_Dataset_meta_original\\Folder_008\\Helipad_00893.meta\n",
      "Saved :data\\Helipad_Dataset_meta\\Helipad_Dataset_meta_original\\Folder_008\\Helipad_00894.meta\n",
      "Saved :data\\Helipad_Dataset_meta\\Helipad_Dataset_meta_original\\Folder_008\\Helipad_00895.meta\n",
      "Saved :data\\Helipad_Dataset_meta\\Helipad_Dataset_meta_original\\Folder_008\\Helipad_00896.meta\n",
      "Saved :data\\Helipad_Dataset_meta\\Helipad_Dataset_meta_original\\Folder_008\\Helipad_00897.meta\n",
      "Saved :data\\Helipad_Dataset_meta\\Helipad_Dataset_meta_original\\Folder_008\\Helipad_00898.meta\n",
      "Saved :data\\Helipad_Dataset_meta\\Helipad_Dataset_meta_original\\Folder_008\\Helipad_00899.meta\n",
      "Saved :data\\Helipad_Dataset_meta\\Helipad_Dataset_meta_original\\Folder_009\\Helipad_00900.meta\n",
      "Saved :data\\Helipad_Dataset_meta\\Helipad_Dataset_meta_original\\Folder_009\\Helipad_00901.meta\n",
      "Saved :data\\Helipad_Dataset_meta\\Helipad_Dataset_meta_original\\Folder_009\\Helipad_00902.meta\n",
      "Saved :data\\Helipad_Dataset_meta\\Helipad_Dataset_meta_original\\Folder_009\\Helipad_00903.meta\n",
      "Saved :data\\Helipad_Dataset_meta\\Helipad_Dataset_meta_original\\Folder_009\\Helipad_00904.meta\n",
      "Saved :data\\Helipad_Dataset_meta\\Helipad_Dataset_meta_original\\Folder_009\\Helipad_00905.meta\n",
      "Saved :data\\Helipad_Dataset_meta\\Helipad_Dataset_meta_original\\Folder_009\\Helipad_00906.meta\n",
      "Saved :data\\Helipad_Dataset_meta\\Helipad_Dataset_meta_original\\Folder_009\\Helipad_00907.meta\n",
      "Saved :data\\Helipad_Dataset_meta\\Helipad_Dataset_meta_original\\Folder_009\\Helipad_00908.meta\n",
      "Saved :data\\Helipad_Dataset_meta\\Helipad_Dataset_meta_original\\Folder_009\\Helipad_00909.meta\n",
      "Saved :data\\Helipad_Dataset_meta\\Helipad_Dataset_meta_original\\Folder_009\\Helipad_00910.meta\n",
      "Saved :data\\Helipad_Dataset_meta\\Helipad_Dataset_meta_original\\Folder_009\\Helipad_00911.meta\n",
      "Saved :data\\Helipad_Dataset_meta\\Helipad_Dataset_meta_original\\Folder_009\\Helipad_00912.meta\n",
      "Saved :data\\Helipad_Dataset_meta\\Helipad_Dataset_meta_original\\Folder_009\\Helipad_00913.meta\n",
      "Saved :data\\Helipad_Dataset_meta\\Helipad_Dataset_meta_original\\Folder_009\\Helipad_00914.meta\n",
      "Saved :data\\Helipad_Dataset_meta\\Helipad_Dataset_meta_original\\Folder_009\\Helipad_00915.meta\n",
      "Saved :data\\Helipad_Dataset_meta\\Helipad_Dataset_meta_original\\Folder_009\\Helipad_00916.meta\n",
      "Saved :data\\Helipad_Dataset_meta\\Helipad_Dataset_meta_original\\Folder_009\\Helipad_00917.meta\n",
      "Saved :data\\Helipad_Dataset_meta\\Helipad_Dataset_meta_original\\Folder_009\\Helipad_00918.meta\n",
      "Saved :data\\Helipad_Dataset_meta\\Helipad_Dataset_meta_original\\Folder_009\\Helipad_00919.meta\n",
      "Saved :data\\Helipad_Dataset_meta\\Helipad_Dataset_meta_original\\Folder_009\\Helipad_00920.meta\n",
      "Saved :data\\Helipad_Dataset_meta\\Helipad_Dataset_meta_original\\Folder_009\\Helipad_00921.meta\n",
      "Saved :data\\Helipad_Dataset_meta\\Helipad_Dataset_meta_original\\Folder_009\\Helipad_00922.meta\n",
      "Saved :data\\Helipad_Dataset_meta\\Helipad_Dataset_meta_original\\Folder_009\\Helipad_00923.meta\n",
      "Saved :data\\Helipad_Dataset_meta\\Helipad_Dataset_meta_original\\Folder_009\\Helipad_00924.meta\n",
      "Saved :data\\Helipad_Dataset_meta\\Helipad_Dataset_meta_original\\Folder_009\\Helipad_00925.meta\n",
      "Saved :data\\Helipad_Dataset_meta\\Helipad_Dataset_meta_original\\Folder_009\\Helipad_00926.meta\n",
      "Saved :data\\Helipad_Dataset_meta\\Helipad_Dataset_meta_original\\Folder_009\\Helipad_00927.meta\n",
      "Saved :data\\Helipad_Dataset_meta\\Helipad_Dataset_meta_original\\Folder_009\\Helipad_00928.meta\n",
      "Saved :data\\Helipad_Dataset_meta\\Helipad_Dataset_meta_original\\Folder_009\\Helipad_00929.meta\n",
      "Saved :data\\Helipad_Dataset_meta\\Helipad_Dataset_meta_original\\Folder_009\\Helipad_00930.meta\n",
      "Saved :data\\Helipad_Dataset_meta\\Helipad_Dataset_meta_original\\Folder_009\\Helipad_00931.meta\n",
      "Saved :data\\Helipad_Dataset_meta\\Helipad_Dataset_meta_original\\Folder_009\\Helipad_00932.meta\n",
      "Saved :data\\Helipad_Dataset_meta\\Helipad_Dataset_meta_original\\Folder_009\\Helipad_00933.meta\n",
      "Saved :data\\Helipad_Dataset_meta\\Helipad_Dataset_meta_original\\Folder_009\\Helipad_00934.meta\n",
      "Saved :data\\Helipad_Dataset_meta\\Helipad_Dataset_meta_original\\Folder_009\\Helipad_00935.meta\n",
      "Saved :data\\Helipad_Dataset_meta\\Helipad_Dataset_meta_original\\Folder_009\\Helipad_00936.meta\n",
      "Saved :data\\Helipad_Dataset_meta\\Helipad_Dataset_meta_original\\Folder_009\\Helipad_00937.meta\n",
      "Saved :data\\Helipad_Dataset_meta\\Helipad_Dataset_meta_original\\Folder_009\\Helipad_00938.meta\n",
      "Saved :data\\Helipad_Dataset_meta\\Helipad_Dataset_meta_original\\Folder_009\\Helipad_00939.meta\n",
      "Saved :data\\Helipad_Dataset_meta\\Helipad_Dataset_meta_original\\Folder_009\\Helipad_00940.meta\n",
      "Saved :data\\Helipad_Dataset_meta\\Helipad_Dataset_meta_original\\Folder_009\\Helipad_00941.meta\n",
      "Saved :data\\Helipad_Dataset_meta\\Helipad_Dataset_meta_original\\Folder_009\\Helipad_00942.meta\n",
      "Saved :data\\Helipad_Dataset_meta\\Helipad_Dataset_meta_original\\Folder_009\\Helipad_00943.meta\n",
      "Saved :data\\Helipad_Dataset_meta\\Helipad_Dataset_meta_original\\Folder_009\\Helipad_00944.meta\n",
      "Saved :data\\Helipad_Dataset_meta\\Helipad_Dataset_meta_original\\Folder_009\\Helipad_00945.meta\n",
      "Saved :data\\Helipad_Dataset_meta\\Helipad_Dataset_meta_original\\Folder_009\\Helipad_00946.meta\n",
      "Saved :data\\Helipad_Dataset_meta\\Helipad_Dataset_meta_original\\Folder_009\\Helipad_00947.meta\n",
      "Saved :data\\Helipad_Dataset_meta\\Helipad_Dataset_meta_original\\Folder_009\\Helipad_00948.meta\n",
      "Saved :data\\Helipad_Dataset_meta\\Helipad_Dataset_meta_original\\Folder_009\\Helipad_00949.meta\n",
      "Saved :data\\Helipad_Dataset_meta\\Helipad_Dataset_meta_original\\Folder_009\\Helipad_00950.meta\n",
      "Saved :data\\Helipad_Dataset_meta\\Helipad_Dataset_meta_original\\Folder_009\\Helipad_00951.meta\n",
      "Saved :data\\Helipad_Dataset_meta\\Helipad_Dataset_meta_original\\Folder_009\\Helipad_00952.meta\n",
      "Saved :data\\Helipad_Dataset_meta\\Helipad_Dataset_meta_original\\Folder_009\\Helipad_00953.meta\n",
      "Saved :data\\Helipad_Dataset_meta\\Helipad_Dataset_meta_original\\Folder_009\\Helipad_00954.meta\n",
      "Saved :data\\Helipad_Dataset_meta\\Helipad_Dataset_meta_original\\Folder_009\\Helipad_00955.meta\n",
      "Saved :data\\Helipad_Dataset_meta\\Helipad_Dataset_meta_original\\Folder_009\\Helipad_00956.meta\n",
      "Saved :data\\Helipad_Dataset_meta\\Helipad_Dataset_meta_original\\Folder_009\\Helipad_00957.meta\n",
      "Saved :data\\Helipad_Dataset_meta\\Helipad_Dataset_meta_original\\Folder_009\\Helipad_00958.meta\n",
      "Saved :data\\Helipad_Dataset_meta\\Helipad_Dataset_meta_original\\Folder_009\\Helipad_00959.meta\n",
      "Saved :data\\Helipad_Dataset_meta\\Helipad_Dataset_meta_original\\Folder_009\\Helipad_00960.meta\n",
      "Saved :data\\Helipad_Dataset_meta\\Helipad_Dataset_meta_original\\Folder_009\\Helipad_00961.meta\n",
      "Saved :data\\Helipad_Dataset_meta\\Helipad_Dataset_meta_original\\Folder_009\\Helipad_00962.meta\n",
      "Saved :data\\Helipad_Dataset_meta\\Helipad_Dataset_meta_original\\Folder_009\\Helipad_00963.meta\n",
      "Saved :data\\Helipad_Dataset_meta\\Helipad_Dataset_meta_original\\Folder_009\\Helipad_00964.meta\n",
      "Saved :data\\Helipad_Dataset_meta\\Helipad_Dataset_meta_original\\Folder_009\\Helipad_00965.meta\n",
      "Saved :data\\Helipad_Dataset_meta\\Helipad_Dataset_meta_original\\Folder_009\\Helipad_00966.meta\n",
      "Saved :data\\Helipad_Dataset_meta\\Helipad_Dataset_meta_original\\Folder_009\\Helipad_00967.meta\n",
      "Saved :data\\Helipad_Dataset_meta\\Helipad_Dataset_meta_original\\Folder_009\\Helipad_00968.meta\n",
      "Saved :data\\Helipad_Dataset_meta\\Helipad_Dataset_meta_original\\Folder_009\\Helipad_00969.meta\n",
      "Saved :data\\Helipad_Dataset_meta\\Helipad_Dataset_meta_original\\Folder_009\\Helipad_00970.meta\n",
      "Saved :data\\Helipad_Dataset_meta\\Helipad_Dataset_meta_original\\Folder_009\\Helipad_00971.meta\n",
      "Saved :data\\Helipad_Dataset_meta\\Helipad_Dataset_meta_original\\Folder_009\\Helipad_00972.meta\n",
      "Saved :data\\Helipad_Dataset_meta\\Helipad_Dataset_meta_original\\Folder_009\\Helipad_00973.meta\n"
     ]
    },
    {
     "name": "stdout",
     "output_type": "stream",
     "text": [
      "Saved :data\\Helipad_Dataset_meta\\Helipad_Dataset_meta_original\\Folder_009\\Helipad_00974.meta\n",
      "Saved :data\\Helipad_Dataset_meta\\Helipad_Dataset_meta_original\\Folder_009\\Helipad_00975.meta\n",
      "Saved :data\\Helipad_Dataset_meta\\Helipad_Dataset_meta_original\\Folder_009\\Helipad_00976.meta\n",
      "Saved :data\\Helipad_Dataset_meta\\Helipad_Dataset_meta_original\\Folder_009\\Helipad_00977.meta\n",
      "Saved :data\\Helipad_Dataset_meta\\Helipad_Dataset_meta_original\\Folder_009\\Helipad_00978.meta\n",
      "Saved :data\\Helipad_Dataset_meta\\Helipad_Dataset_meta_original\\Folder_009\\Helipad_00979.meta\n",
      "Saved :data\\Helipad_Dataset_meta\\Helipad_Dataset_meta_original\\Folder_009\\Helipad_00980.meta\n",
      "Saved :data\\Helipad_Dataset_meta\\Helipad_Dataset_meta_original\\Folder_009\\Helipad_00981.meta\n",
      "Saved :data\\Helipad_Dataset_meta\\Helipad_Dataset_meta_original\\Folder_009\\Helipad_00982.meta\n",
      "Saved :data\\Helipad_Dataset_meta\\Helipad_Dataset_meta_original\\Folder_009\\Helipad_00983.meta\n",
      "Saved :data\\Helipad_Dataset_meta\\Helipad_Dataset_meta_original\\Folder_009\\Helipad_00984.meta\n",
      "Saved :data\\Helipad_Dataset_meta\\Helipad_Dataset_meta_original\\Folder_009\\Helipad_00985.meta\n",
      "Saved :data\\Helipad_Dataset_meta\\Helipad_Dataset_meta_original\\Folder_009\\Helipad_00986.meta\n",
      "Saved :data\\Helipad_Dataset_meta\\Helipad_Dataset_meta_original\\Folder_009\\Helipad_00987.meta\n",
      "Saved :data\\Helipad_Dataset_meta\\Helipad_Dataset_meta_original\\Folder_009\\Helipad_00988.meta\n",
      "Saved :data\\Helipad_Dataset_meta\\Helipad_Dataset_meta_original\\Folder_009\\Helipad_00989.meta\n",
      "Saved :data\\Helipad_Dataset_meta\\Helipad_Dataset_meta_original\\Folder_009\\Helipad_00990.meta\n",
      "Saved :data\\Helipad_Dataset_meta\\Helipad_Dataset_meta_original\\Folder_009\\Helipad_00991.meta\n",
      "Saved :data\\Helipad_Dataset_meta\\Helipad_Dataset_meta_original\\Folder_009\\Helipad_00992.meta\n",
      "Saved :data\\Helipad_Dataset_meta\\Helipad_Dataset_meta_original\\Folder_009\\Helipad_00993.meta\n",
      "Saved :data\\Helipad_Dataset_meta\\Helipad_Dataset_meta_original\\Folder_009\\Helipad_00994.meta\n",
      "Saved :data\\Helipad_Dataset_meta\\Helipad_Dataset_meta_original\\Folder_009\\Helipad_00995.meta\n",
      "Saved :data\\Helipad_Dataset_meta\\Helipad_Dataset_meta_original\\Folder_009\\Helipad_00996.meta\n",
      "Saved :data\\Helipad_Dataset_meta\\Helipad_Dataset_meta_original\\Folder_009\\Helipad_00997.meta\n",
      "Saved :data\\Helipad_Dataset_meta\\Helipad_Dataset_meta_original\\Folder_009\\Helipad_00998.meta\n",
      "Saved :data\\Helipad_Dataset_meta\\Helipad_Dataset_meta_original\\Folder_009\\Helipad_00999.meta\n",
      "Saved :data\\Helipad_Dataset_meta\\Helipad_Dataset_meta_original\\Folder_010\\Helipad_01000.meta\n",
      "Saved :data\\Helipad_Dataset_meta\\Helipad_Dataset_meta_original\\Folder_010\\Helipad_01001.meta\n",
      "Saved :data\\Helipad_Dataset_meta\\Helipad_Dataset_meta_original\\Folder_010\\Helipad_01002.meta\n",
      "Saved :data\\Helipad_Dataset_meta\\Helipad_Dataset_meta_original\\Folder_010\\Helipad_01003.meta\n",
      "Saved :data\\Helipad_Dataset_meta\\Helipad_Dataset_meta_original\\Folder_010\\Helipad_01004.meta\n",
      "Saved :data\\Helipad_Dataset_meta\\Helipad_Dataset_meta_original\\Folder_010\\Helipad_01005.meta\n",
      "Saved :data\\Helipad_Dataset_meta\\Helipad_Dataset_meta_original\\Folder_010\\Helipad_01006.meta\n",
      "Saved :data\\Helipad_Dataset_meta\\Helipad_Dataset_meta_original\\Folder_010\\Helipad_01007.meta\n",
      "Saved :data\\Helipad_Dataset_meta\\Helipad_Dataset_meta_original\\Folder_010\\Helipad_01008.meta\n",
      "Saved :data\\Helipad_Dataset_meta\\Helipad_Dataset_meta_original\\Folder_010\\Helipad_01009.meta\n",
      "Saved :data\\Helipad_Dataset_meta\\Helipad_Dataset_meta_original\\Folder_010\\Helipad_01010.meta\n",
      "Saved :data\\Helipad_Dataset_meta\\Helipad_Dataset_meta_original\\Folder_010\\Helipad_01011.meta\n",
      "Saved :data\\Helipad_Dataset_meta\\Helipad_Dataset_meta_original\\Folder_010\\Helipad_01012.meta\n",
      "Saved :data\\Helipad_Dataset_meta\\Helipad_Dataset_meta_original\\Folder_010\\Helipad_01013.meta\n",
      "Saved :data\\Helipad_Dataset_meta\\Helipad_Dataset_meta_original\\Folder_010\\Helipad_01014.meta\n",
      "Saved :data\\Helipad_Dataset_meta\\Helipad_Dataset_meta_original\\Folder_010\\Helipad_01015.meta\n",
      "Saved :data\\Helipad_Dataset_meta\\Helipad_Dataset_meta_original\\Folder_010\\Helipad_01016.meta\n",
      "Saved :data\\Helipad_Dataset_meta\\Helipad_Dataset_meta_original\\Folder_010\\Helipad_01017.meta\n",
      "Saved :data\\Helipad_Dataset_meta\\Helipad_Dataset_meta_original\\Folder_010\\Helipad_01018.meta\n",
      "Saved :data\\Helipad_Dataset_meta\\Helipad_Dataset_meta_original\\Folder_010\\Helipad_01019.meta\n",
      "Saved :data\\Helipad_Dataset_meta\\Helipad_Dataset_meta_original\\Folder_010\\Helipad_01020.meta\n",
      "Saved :data\\Helipad_Dataset_meta\\Helipad_Dataset_meta_original\\Folder_010\\Helipad_01021.meta\n",
      "Saved :data\\Helipad_Dataset_meta\\Helipad_Dataset_meta_original\\Folder_010\\Helipad_01022.meta\n",
      "Saved :data\\Helipad_Dataset_meta\\Helipad_Dataset_meta_original\\Folder_010\\Helipad_01023.meta\n",
      "Saved :data\\Helipad_Dataset_meta\\Helipad_Dataset_meta_original\\Folder_010\\Helipad_01024.meta\n",
      "Saved :data\\Helipad_Dataset_meta\\Helipad_Dataset_meta_original\\Folder_010\\Helipad_01025.meta\n",
      "Saved :data\\Helipad_Dataset_meta\\Helipad_Dataset_meta_original\\Folder_010\\Helipad_01026.meta\n",
      "Saved :data\\Helipad_Dataset_meta\\Helipad_Dataset_meta_original\\Folder_010\\Helipad_01027.meta\n",
      "Saved :data\\Helipad_Dataset_meta\\Helipad_Dataset_meta_original\\Folder_010\\Helipad_01028.meta\n",
      "Saved :data\\Helipad_Dataset_meta\\Helipad_Dataset_meta_original\\Folder_010\\Helipad_01029.meta\n",
      "Saved :data\\Helipad_Dataset_meta\\Helipad_Dataset_meta_original\\Folder_010\\Helipad_01030.meta\n",
      "Saved :data\\Helipad_Dataset_meta\\Helipad_Dataset_meta_original\\Folder_010\\Helipad_01031.meta\n",
      "Saved :data\\Helipad_Dataset_meta\\Helipad_Dataset_meta_original\\Folder_010\\Helipad_01032.meta\n",
      "Saved :data\\Helipad_Dataset_meta\\Helipad_Dataset_meta_original\\Folder_010\\Helipad_01033.meta\n",
      "Saved :data\\Helipad_Dataset_meta\\Helipad_Dataset_meta_original\\Folder_010\\Helipad_01034.meta\n",
      "Saved :data\\Helipad_Dataset_meta\\Helipad_Dataset_meta_original\\Folder_010\\Helipad_01035.meta\n",
      "Saved :data\\Helipad_Dataset_meta\\Helipad_Dataset_meta_original\\Folder_010\\Helipad_01036.meta\n",
      "Saved :data\\Helipad_Dataset_meta\\Helipad_Dataset_meta_original\\Folder_010\\Helipad_01037.meta\n",
      "Saved :data\\Helipad_Dataset_meta\\Helipad_Dataset_meta_original\\Folder_010\\Helipad_01038.meta\n",
      "Saved :data\\Helipad_Dataset_meta\\Helipad_Dataset_meta_original\\Folder_010\\Helipad_01039.meta\n",
      "Saved :data\\Helipad_Dataset_meta\\Helipad_Dataset_meta_original\\Folder_010\\Helipad_01040.meta\n",
      "Saved :data\\Helipad_Dataset_meta\\Helipad_Dataset_meta_original\\Folder_010\\Helipad_01041.meta\n",
      "Saved :data\\Helipad_Dataset_meta\\Helipad_Dataset_meta_original\\Folder_010\\Helipad_01042.meta\n",
      "Saved :data\\Helipad_Dataset_meta\\Helipad_Dataset_meta_original\\Folder_010\\Helipad_01043.meta\n",
      "Saved :data\\Helipad_Dataset_meta\\Helipad_Dataset_meta_original\\Folder_010\\Helipad_01044.meta\n",
      "Saved :data\\Helipad_Dataset_meta\\Helipad_Dataset_meta_original\\Folder_010\\Helipad_01045.meta\n",
      "Saved :data\\Helipad_Dataset_meta\\Helipad_Dataset_meta_original\\Folder_010\\Helipad_01046.meta\n",
      "Saved :data\\Helipad_Dataset_meta\\Helipad_Dataset_meta_original\\Folder_010\\Helipad_01047.meta\n",
      "Saved :data\\Helipad_Dataset_meta\\Helipad_Dataset_meta_original\\Folder_010\\Helipad_01048.meta\n",
      "Saved :data\\Helipad_Dataset_meta\\Helipad_Dataset_meta_original\\Folder_010\\Helipad_01049.meta\n",
      "Saved :data\\Helipad_Dataset_meta\\Helipad_Dataset_meta_original\\Folder_010\\Helipad_01050.meta\n",
      "Saved :data\\Helipad_Dataset_meta\\Helipad_Dataset_meta_original\\Folder_010\\Helipad_01051.meta\n",
      "Saved :data\\Helipad_Dataset_meta\\Helipad_Dataset_meta_original\\Folder_010\\Helipad_01052.meta\n",
      "Saved :data\\Helipad_Dataset_meta\\Helipad_Dataset_meta_original\\Folder_010\\Helipad_01053.meta\n",
      "Saved :data\\Helipad_Dataset_meta\\Helipad_Dataset_meta_original\\Folder_010\\Helipad_01054.meta\n",
      "Saved :data\\Helipad_Dataset_meta\\Helipad_Dataset_meta_original\\Folder_010\\Helipad_01055.meta\n",
      "Saved :data\\Helipad_Dataset_meta\\Helipad_Dataset_meta_original\\Folder_010\\Helipad_01056.meta\n",
      "Saved :data\\Helipad_Dataset_meta\\Helipad_Dataset_meta_original\\Folder_010\\Helipad_01057.meta\n",
      "Saved :data\\Helipad_Dataset_meta\\Helipad_Dataset_meta_original\\Folder_010\\Helipad_01058.meta\n",
      "Saved :data\\Helipad_Dataset_meta\\Helipad_Dataset_meta_original\\Folder_010\\Helipad_01059.meta\n",
      "Saved :data\\Helipad_Dataset_meta\\Helipad_Dataset_meta_original\\Folder_010\\Helipad_01060.meta\n",
      "Saved :data\\Helipad_Dataset_meta\\Helipad_Dataset_meta_original\\Folder_010\\Helipad_01061.meta\n",
      "Saved :data\\Helipad_Dataset_meta\\Helipad_Dataset_meta_original\\Folder_010\\Helipad_01062.meta\n",
      "Saved :data\\Helipad_Dataset_meta\\Helipad_Dataset_meta_original\\Folder_010\\Helipad_01063.meta\n",
      "Saved :data\\Helipad_Dataset_meta\\Helipad_Dataset_meta_original\\Folder_010\\Helipad_01064.meta\n",
      "Saved :data\\Helipad_Dataset_meta\\Helipad_Dataset_meta_original\\Folder_010\\Helipad_01065.meta\n",
      "Saved :data\\Helipad_Dataset_meta\\Helipad_Dataset_meta_original\\Folder_010\\Helipad_01066.meta\n",
      "Saved :data\\Helipad_Dataset_meta\\Helipad_Dataset_meta_original\\Folder_010\\Helipad_01067.meta\n",
      "Saved :data\\Helipad_Dataset_meta\\Helipad_Dataset_meta_original\\Folder_010\\Helipad_01068.meta\n",
      "Saved :data\\Helipad_Dataset_meta\\Helipad_Dataset_meta_original\\Folder_010\\Helipad_01069.meta\n",
      "Saved :data\\Helipad_Dataset_meta\\Helipad_Dataset_meta_original\\Folder_010\\Helipad_01070.meta\n",
      "Saved :data\\Helipad_Dataset_meta\\Helipad_Dataset_meta_original\\Folder_010\\Helipad_01071.meta\n",
      "Saved :data\\Helipad_Dataset_meta\\Helipad_Dataset_meta_original\\Folder_010\\Helipad_01072.meta\n",
      "Saved :data\\Helipad_Dataset_meta\\Helipad_Dataset_meta_original\\Folder_010\\Helipad_01073.meta\n",
      "Saved :data\\Helipad_Dataset_meta\\Helipad_Dataset_meta_original\\Folder_010\\Helipad_01074.meta\n",
      "Saved :data\\Helipad_Dataset_meta\\Helipad_Dataset_meta_original\\Folder_010\\Helipad_01075.meta\n",
      "Saved :data\\Helipad_Dataset_meta\\Helipad_Dataset_meta_original\\Folder_010\\Helipad_01076.meta\n",
      "Saved :data\\Helipad_Dataset_meta\\Helipad_Dataset_meta_original\\Folder_010\\Helipad_01077.meta\n",
      "Saved :data\\Helipad_Dataset_meta\\Helipad_Dataset_meta_original\\Folder_010\\Helipad_01078.meta\n",
      "Saved :data\\Helipad_Dataset_meta\\Helipad_Dataset_meta_original\\Folder_010\\Helipad_01079.meta\n",
      "Saved :data\\Helipad_Dataset_meta\\Helipad_Dataset_meta_original\\Folder_010\\Helipad_01080.meta\n",
      "Saved :data\\Helipad_Dataset_meta\\Helipad_Dataset_meta_original\\Folder_010\\Helipad_01081.meta\n",
      "Saved :data\\Helipad_Dataset_meta\\Helipad_Dataset_meta_original\\Folder_010\\Helipad_01082.meta\n",
      "Saved :data\\Helipad_Dataset_meta\\Helipad_Dataset_meta_original\\Folder_010\\Helipad_01083.meta\n",
      "Saved :data\\Helipad_Dataset_meta\\Helipad_Dataset_meta_original\\Folder_010\\Helipad_01084.meta\n",
      "Saved :data\\Helipad_Dataset_meta\\Helipad_Dataset_meta_original\\Folder_010\\Helipad_01085.meta\n",
      "Saved :data\\Helipad_Dataset_meta\\Helipad_Dataset_meta_original\\Folder_010\\Helipad_01086.meta\n",
      "Saved :data\\Helipad_Dataset_meta\\Helipad_Dataset_meta_original\\Folder_010\\Helipad_01087.meta\n",
      "Saved :data\\Helipad_Dataset_meta\\Helipad_Dataset_meta_original\\Folder_010\\Helipad_01088.meta\n",
      "Saved :data\\Helipad_Dataset_meta\\Helipad_Dataset_meta_original\\Folder_010\\Helipad_01089.meta\n",
      "Saved :data\\Helipad_Dataset_meta\\Helipad_Dataset_meta_original\\Folder_010\\Helipad_01090.meta\n",
      "Saved :data\\Helipad_Dataset_meta\\Helipad_Dataset_meta_original\\Folder_010\\Helipad_01091.meta\n",
      "Saved :data\\Helipad_Dataset_meta\\Helipad_Dataset_meta_original\\Folder_010\\Helipad_01092.meta\n",
      "Saved :data\\Helipad_Dataset_meta\\Helipad_Dataset_meta_original\\Folder_010\\Helipad_01093.meta\n",
      "Saved :data\\Helipad_Dataset_meta\\Helipad_Dataset_meta_original\\Folder_010\\Helipad_01094.meta\n",
      "Saved :data\\Helipad_Dataset_meta\\Helipad_Dataset_meta_original\\Folder_010\\Helipad_01095.meta\n",
      "Saved :data\\Helipad_Dataset_meta\\Helipad_Dataset_meta_original\\Folder_010\\Helipad_01096.meta\n",
      "Saved :data\\Helipad_Dataset_meta\\Helipad_Dataset_meta_original\\Folder_010\\Helipad_01097.meta\n",
      "Saved :data\\Helipad_Dataset_meta\\Helipad_Dataset_meta_original\\Folder_010\\Helipad_01098.meta\n",
      "Saved :data\\Helipad_Dataset_meta\\Helipad_Dataset_meta_original\\Folder_010\\Helipad_01099.meta\n",
      "Saved :data\\Helipad_Dataset_meta\\Helipad_Dataset_meta_original\\Folder_011\\Helipad_01100.meta\n",
      "Saved :data\\Helipad_Dataset_meta\\Helipad_Dataset_meta_original\\Folder_011\\Helipad_01101.meta\n",
      "Saved :data\\Helipad_Dataset_meta\\Helipad_Dataset_meta_original\\Folder_011\\Helipad_01102.meta\n",
      "Saved :data\\Helipad_Dataset_meta\\Helipad_Dataset_meta_original\\Folder_011\\Helipad_01103.meta\n",
      "Saved :data\\Helipad_Dataset_meta\\Helipad_Dataset_meta_original\\Folder_011\\Helipad_01104.meta\n",
      "Saved :data\\Helipad_Dataset_meta\\Helipad_Dataset_meta_original\\Folder_011\\Helipad_01105.meta\n",
      "Saved :data\\Helipad_Dataset_meta\\Helipad_Dataset_meta_original\\Folder_011\\Helipad_01106.meta\n",
      "Saved :data\\Helipad_Dataset_meta\\Helipad_Dataset_meta_original\\Folder_011\\Helipad_01107.meta\n",
      "Saved :data\\Helipad_Dataset_meta\\Helipad_Dataset_meta_original\\Folder_011\\Helipad_01108.meta\n",
      "Saved :data\\Helipad_Dataset_meta\\Helipad_Dataset_meta_original\\Folder_011\\Helipad_01109.meta\n",
      "Saved :data\\Helipad_Dataset_meta\\Helipad_Dataset_meta_original\\Folder_011\\Helipad_01110.meta\n",
      "Saved :data\\Helipad_Dataset_meta\\Helipad_Dataset_meta_original\\Folder_011\\Helipad_01111.meta\n",
      "Saved :data\\Helipad_Dataset_meta\\Helipad_Dataset_meta_original\\Folder_011\\Helipad_01112.meta\n",
      "Saved :data\\Helipad_Dataset_meta\\Helipad_Dataset_meta_original\\Folder_011\\Helipad_01114.meta\n",
      "Saved :data\\Helipad_Dataset_meta\\Helipad_Dataset_meta_original\\Folder_011\\Helipad_01115.meta\n",
      "Saved :data\\Helipad_Dataset_meta\\Helipad_Dataset_meta_original\\Folder_011\\Helipad_01116.meta\n",
      "Saved :data\\Helipad_Dataset_meta\\Helipad_Dataset_meta_original\\Folder_011\\Helipad_01117.meta\n",
      "Saved :data\\Helipad_Dataset_meta\\Helipad_Dataset_meta_original\\Folder_011\\Helipad_01118.meta\n",
      "Saved :data\\Helipad_Dataset_meta\\Helipad_Dataset_meta_original\\Folder_011\\Helipad_01119.meta\n",
      "Saved :data\\Helipad_Dataset_meta\\Helipad_Dataset_meta_original\\Folder_011\\Helipad_01120.meta\n",
      "Saved :data\\Helipad_Dataset_meta\\Helipad_Dataset_meta_original\\Folder_011\\Helipad_01121.meta\n",
      "Saved :data\\Helipad_Dataset_meta\\Helipad_Dataset_meta_original\\Folder_011\\Helipad_01122.meta\n",
      "Saved :data\\Helipad_Dataset_meta\\Helipad_Dataset_meta_original\\Folder_011\\Helipad_01123.meta\n",
      "Saved :data\\Helipad_Dataset_meta\\Helipad_Dataset_meta_original\\Folder_011\\Helipad_01124.meta\n",
      "Saved :data\\Helipad_Dataset_meta\\Helipad_Dataset_meta_original\\Folder_011\\Helipad_01125.meta\n",
      "Saved :data\\Helipad_Dataset_meta\\Helipad_Dataset_meta_original\\Folder_011\\Helipad_01126.meta\n",
      "Saved :data\\Helipad_Dataset_meta\\Helipad_Dataset_meta_original\\Folder_011\\Helipad_01127.meta\n",
      "Saved :data\\Helipad_Dataset_meta\\Helipad_Dataset_meta_original\\Folder_011\\Helipad_01128.meta\n",
      "Saved :data\\Helipad_Dataset_meta\\Helipad_Dataset_meta_original\\Folder_011\\Helipad_01129.meta\n",
      "Saved :data\\Helipad_Dataset_meta\\Helipad_Dataset_meta_original\\Folder_011\\Helipad_01130.meta\n",
      "Saved :data\\Helipad_Dataset_meta\\Helipad_Dataset_meta_original\\Folder_011\\Helipad_01131.meta\n",
      "Saved :data\\Helipad_Dataset_meta\\Helipad_Dataset_meta_original\\Folder_011\\Helipad_01132.meta\n",
      "Saved :data\\Helipad_Dataset_meta\\Helipad_Dataset_meta_original\\Folder_011\\Helipad_01133.meta\n"
     ]
    },
    {
     "name": "stdout",
     "output_type": "stream",
     "text": [
      "Saved :data\\Helipad_Dataset_meta\\Helipad_Dataset_meta_original\\Folder_011\\Helipad_01134.meta\n",
      "Saved :data\\Helipad_Dataset_meta\\Helipad_Dataset_meta_original\\Folder_011\\Helipad_01135.meta\n",
      "Saved :data\\Helipad_Dataset_meta\\Helipad_Dataset_meta_original\\Folder_011\\Helipad_01136.meta\n",
      "Saved :data\\Helipad_Dataset_meta\\Helipad_Dataset_meta_original\\Folder_011\\Helipad_01137.meta\n",
      "Saved :data\\Helipad_Dataset_meta\\Helipad_Dataset_meta_original\\Folder_011\\Helipad_01138.meta\n",
      "Saved :data\\Helipad_Dataset_meta\\Helipad_Dataset_meta_original\\Folder_011\\Helipad_01139.meta\n",
      "Saved :data\\Helipad_Dataset_meta\\Helipad_Dataset_meta_original\\Folder_011\\Helipad_01140.meta\n",
      "Saved :data\\Helipad_Dataset_meta\\Helipad_Dataset_meta_original\\Folder_011\\Helipad_01141.meta\n",
      "Saved :data\\Helipad_Dataset_meta\\Helipad_Dataset_meta_original\\Folder_011\\Helipad_01142.meta\n",
      "Saved :data\\Helipad_Dataset_meta\\Helipad_Dataset_meta_original\\Folder_011\\Helipad_01143.meta\n",
      "Saved :data\\Helipad_Dataset_meta\\Helipad_Dataset_meta_original\\Folder_011\\Helipad_01144.meta\n",
      "Saved :data\\Helipad_Dataset_meta\\Helipad_Dataset_meta_original\\Folder_011\\Helipad_01145.meta\n",
      "Saved :data\\Helipad_Dataset_meta\\Helipad_Dataset_meta_original\\Folder_011\\Helipad_01146.meta\n",
      "Saved :data\\Helipad_Dataset_meta\\Helipad_Dataset_meta_original\\Folder_011\\Helipad_01147.meta\n",
      "Saved :data\\Helipad_Dataset_meta\\Helipad_Dataset_meta_original\\Folder_011\\Helipad_01148.meta\n",
      "Saved :data\\Helipad_Dataset_meta\\Helipad_Dataset_meta_original\\Folder_011\\Helipad_01149.meta\n",
      "Saved :data\\Helipad_Dataset_meta\\Helipad_Dataset_meta_original\\Folder_011\\Helipad_01150.meta\n",
      "Saved :data\\Helipad_Dataset_meta\\Helipad_Dataset_meta_original\\Folder_011\\Helipad_01151.meta\n",
      "Saved :data\\Helipad_Dataset_meta\\Helipad_Dataset_meta_original\\Folder_011\\Helipad_01152.meta\n",
      "Saved :data\\Helipad_Dataset_meta\\Helipad_Dataset_meta_original\\Folder_011\\Helipad_01153.meta\n",
      "Saved :data\\Helipad_Dataset_meta\\Helipad_Dataset_meta_original\\Folder_011\\Helipad_01154.meta\n",
      "Saved :data\\Helipad_Dataset_meta\\Helipad_Dataset_meta_original\\Folder_011\\Helipad_01155.meta\n",
      "Saved :data\\Helipad_Dataset_meta\\Helipad_Dataset_meta_original\\Folder_011\\Helipad_01156.meta\n",
      "Saved :data\\Helipad_Dataset_meta\\Helipad_Dataset_meta_original\\Folder_011\\Helipad_01157.meta\n",
      "Saved :data\\Helipad_Dataset_meta\\Helipad_Dataset_meta_original\\Folder_011\\Helipad_01158.meta\n",
      "Saved :data\\Helipad_Dataset_meta\\Helipad_Dataset_meta_original\\Folder_011\\Helipad_01159.meta\n",
      "Saved :data\\Helipad_Dataset_meta\\Helipad_Dataset_meta_original\\Folder_011\\Helipad_01160.meta\n",
      "Saved :data\\Helipad_Dataset_meta\\Helipad_Dataset_meta_original\\Folder_011\\Helipad_01161.meta\n",
      "Saved :data\\Helipad_Dataset_meta\\Helipad_Dataset_meta_original\\Folder_011\\Helipad_01162.meta\n",
      "Saved :data\\Helipad_Dataset_meta\\Helipad_Dataset_meta_original\\Folder_011\\Helipad_01163.meta\n",
      "Saved :data\\Helipad_Dataset_meta\\Helipad_Dataset_meta_original\\Folder_011\\Helipad_01164.meta\n",
      "Saved :data\\Helipad_Dataset_meta\\Helipad_Dataset_meta_original\\Folder_011\\Helipad_01165.meta\n",
      "Saved :data\\Helipad_Dataset_meta\\Helipad_Dataset_meta_original\\Folder_011\\Helipad_01166.meta\n",
      "Saved :data\\Helipad_Dataset_meta\\Helipad_Dataset_meta_original\\Folder_011\\Helipad_01167.meta\n",
      "Saved :data\\Helipad_Dataset_meta\\Helipad_Dataset_meta_original\\Folder_011\\Helipad_01168.meta\n",
      "Saved :data\\Helipad_Dataset_meta\\Helipad_Dataset_meta_original\\Folder_011\\Helipad_01169.meta\n",
      "Saved :data\\Helipad_Dataset_meta\\Helipad_Dataset_meta_original\\Folder_011\\Helipad_01170.meta\n",
      "Saved :data\\Helipad_Dataset_meta\\Helipad_Dataset_meta_original\\Folder_011\\Helipad_01171.meta\n",
      "Saved :data\\Helipad_Dataset_meta\\Helipad_Dataset_meta_original\\Folder_011\\Helipad_01172.meta\n",
      "Saved :data\\Helipad_Dataset_meta\\Helipad_Dataset_meta_original\\Folder_011\\Helipad_01173.meta\n",
      "Saved :data\\Helipad_Dataset_meta\\Helipad_Dataset_meta_original\\Folder_011\\Helipad_01174.meta\n",
      "Saved :data\\Helipad_Dataset_meta\\Helipad_Dataset_meta_original\\Folder_011\\Helipad_01175.meta\n",
      "Saved :data\\Helipad_Dataset_meta\\Helipad_Dataset_meta_original\\Folder_011\\Helipad_01176.meta\n",
      "Saved :data\\Helipad_Dataset_meta\\Helipad_Dataset_meta_original\\Folder_011\\Helipad_01177.meta\n",
      "Saved :data\\Helipad_Dataset_meta\\Helipad_Dataset_meta_original\\Folder_011\\Helipad_01178.meta\n",
      "Saved :data\\Helipad_Dataset_meta\\Helipad_Dataset_meta_original\\Folder_011\\Helipad_01179.meta\n",
      "Saved :data\\Helipad_Dataset_meta\\Helipad_Dataset_meta_original\\Folder_011\\Helipad_01180.meta\n",
      "Saved :data\\Helipad_Dataset_meta\\Helipad_Dataset_meta_original\\Folder_011\\Helipad_01181.meta\n",
      "Saved :data\\Helipad_Dataset_meta\\Helipad_Dataset_meta_original\\Folder_011\\Helipad_01182.meta\n",
      "Saved :data\\Helipad_Dataset_meta\\Helipad_Dataset_meta_original\\Folder_011\\Helipad_01183.meta\n",
      "Saved :data\\Helipad_Dataset_meta\\Helipad_Dataset_meta_original\\Folder_011\\Helipad_01184.meta\n",
      "Saved :data\\Helipad_Dataset_meta\\Helipad_Dataset_meta_original\\Folder_011\\Helipad_01185.meta\n",
      "Saved :data\\Helipad_Dataset_meta\\Helipad_Dataset_meta_original\\Folder_011\\Helipad_01186.meta\n",
      "Saved :data\\Helipad_Dataset_meta\\Helipad_Dataset_meta_original\\Folder_011\\Helipad_01187.meta\n",
      "Saved :data\\Helipad_Dataset_meta\\Helipad_Dataset_meta_original\\Folder_011\\Helipad_01188.meta\n",
      "Saved :data\\Helipad_Dataset_meta\\Helipad_Dataset_meta_original\\Folder_011\\Helipad_01189.meta\n",
      "Saved :data\\Helipad_Dataset_meta\\Helipad_Dataset_meta_original\\Folder_011\\Helipad_01190.meta\n",
      "Saved :data\\Helipad_Dataset_meta\\Helipad_Dataset_meta_original\\Folder_011\\Helipad_01191.meta\n",
      "Saved :data\\Helipad_Dataset_meta\\Helipad_Dataset_meta_original\\Folder_011\\Helipad_01192.meta\n",
      "Saved :data\\Helipad_Dataset_meta\\Helipad_Dataset_meta_original\\Folder_011\\Helipad_01193.meta\n",
      "Saved :data\\Helipad_Dataset_meta\\Helipad_Dataset_meta_original\\Folder_011\\Helipad_01194.meta\n",
      "Saved :data\\Helipad_Dataset_meta\\Helipad_Dataset_meta_original\\Folder_011\\Helipad_01195.meta\n",
      "Saved :data\\Helipad_Dataset_meta\\Helipad_Dataset_meta_original\\Folder_011\\Helipad_01196.meta\n",
      "Saved :data\\Helipad_Dataset_meta\\Helipad_Dataset_meta_original\\Folder_011\\Helipad_01197.meta\n",
      "Saved :data\\Helipad_Dataset_meta\\Helipad_Dataset_meta_original\\Folder_011\\Helipad_01198.meta\n",
      "Saved :data\\Helipad_Dataset_meta\\Helipad_Dataset_meta_original\\Folder_011\\Helipad_01199.meta\n",
      "Saved :data\\Helipad_Dataset_meta\\Helipad_Dataset_meta_original\\Folder_012\\Helipad_01200.meta\n",
      "Saved :data\\Helipad_Dataset_meta\\Helipad_Dataset_meta_original\\Folder_012\\Helipad_01201.meta\n",
      "Saved :data\\Helipad_Dataset_meta\\Helipad_Dataset_meta_original\\Folder_012\\Helipad_01202.meta\n",
      "Saved :data\\Helipad_Dataset_meta\\Helipad_Dataset_meta_original\\Folder_012\\Helipad_01203.meta\n",
      "Saved :data\\Helipad_Dataset_meta\\Helipad_Dataset_meta_original\\Folder_012\\Helipad_01204.meta\n",
      "Saved :data\\Helipad_Dataset_meta\\Helipad_Dataset_meta_original\\Folder_012\\Helipad_01205.meta\n",
      "Saved :data\\Helipad_Dataset_meta\\Helipad_Dataset_meta_original\\Folder_012\\Helipad_01206.meta\n",
      "Saved :data\\Helipad_Dataset_meta\\Helipad_Dataset_meta_original\\Folder_012\\Helipad_01207.meta\n",
      "Saved :data\\Helipad_Dataset_meta\\Helipad_Dataset_meta_original\\Folder_012\\Helipad_01208.meta\n",
      "Saved :data\\Helipad_Dataset_meta\\Helipad_Dataset_meta_original\\Folder_012\\Helipad_01209.meta\n",
      "Saved :data\\Helipad_Dataset_meta\\Helipad_Dataset_meta_original\\Folder_012\\Helipad_01210.meta\n",
      "Saved :data\\Helipad_Dataset_meta\\Helipad_Dataset_meta_original\\Folder_012\\Helipad_01211.meta\n",
      "Saved :data\\Helipad_Dataset_meta\\Helipad_Dataset_meta_original\\Folder_012\\Helipad_01212.meta\n",
      "Saved :data\\Helipad_Dataset_meta\\Helipad_Dataset_meta_original\\Folder_012\\Helipad_01213.meta\n",
      "Saved :data\\Helipad_Dataset_meta\\Helipad_Dataset_meta_original\\Folder_012\\Helipad_01214.meta\n",
      "Saved :data\\Helipad_Dataset_meta\\Helipad_Dataset_meta_original\\Folder_012\\Helipad_01215.meta\n",
      "Saved :data\\Helipad_Dataset_meta\\Helipad_Dataset_meta_original\\Folder_012\\Helipad_01216.meta\n",
      "Saved :data\\Helipad_Dataset_meta\\Helipad_Dataset_meta_original\\Folder_012\\Helipad_01217.meta\n",
      "Saved :data\\Helipad_Dataset_meta\\Helipad_Dataset_meta_original\\Folder_012\\Helipad_01218.meta\n",
      "Saved :data\\Helipad_Dataset_meta\\Helipad_Dataset_meta_original\\Folder_012\\Helipad_01219.meta\n",
      "Saved :data\\Helipad_Dataset_meta\\Helipad_Dataset_meta_original\\Folder_012\\Helipad_01220.meta\n",
      "Saved :data\\Helipad_Dataset_meta\\Helipad_Dataset_meta_original\\Folder_012\\Helipad_01221.meta\n",
      "Saved :data\\Helipad_Dataset_meta\\Helipad_Dataset_meta_original\\Folder_012\\Helipad_01222.meta\n",
      "Saved :data\\Helipad_Dataset_meta\\Helipad_Dataset_meta_original\\Folder_012\\Helipad_01223.meta\n",
      "Saved :data\\Helipad_Dataset_meta\\Helipad_Dataset_meta_original\\Folder_012\\Helipad_01224.meta\n",
      "Saved :data\\Helipad_Dataset_meta\\Helipad_Dataset_meta_original\\Folder_012\\Helipad_01225.meta\n",
      "Saved :data\\Helipad_Dataset_meta\\Helipad_Dataset_meta_original\\Folder_012\\Helipad_01226.meta\n",
      "Saved :data\\Helipad_Dataset_meta\\Helipad_Dataset_meta_original\\Folder_012\\Helipad_01227.meta\n",
      "Saved :data\\Helipad_Dataset_meta\\Helipad_Dataset_meta_original\\Folder_012\\Helipad_01228.meta\n",
      "Saved :data\\Helipad_Dataset_meta\\Helipad_Dataset_meta_original\\Folder_012\\Helipad_01229.meta\n",
      "Saved :data\\Helipad_Dataset_meta\\Helipad_Dataset_meta_original\\Folder_012\\Helipad_01230.meta\n",
      "Saved :data\\Helipad_Dataset_meta\\Helipad_Dataset_meta_original\\Folder_012\\Helipad_01231.meta\n",
      "Saved :data\\Helipad_Dataset_meta\\Helipad_Dataset_meta_original\\Folder_012\\Helipad_01232.meta\n",
      "Saved :data\\Helipad_Dataset_meta\\Helipad_Dataset_meta_original\\Folder_012\\Helipad_01233.meta\n",
      "Saved :data\\Helipad_Dataset_meta\\Helipad_Dataset_meta_original\\Folder_012\\Helipad_01234.meta\n",
      "Saved :data\\Helipad_Dataset_meta\\Helipad_Dataset_meta_original\\Folder_012\\Helipad_01235.meta\n",
      "Saved :data\\Helipad_Dataset_meta\\Helipad_Dataset_meta_original\\Folder_012\\Helipad_01236.meta\n",
      "Saved :data\\Helipad_Dataset_meta\\Helipad_Dataset_meta_original\\Folder_012\\Helipad_01237.meta\n",
      "Saved :data\\Helipad_Dataset_meta\\Helipad_Dataset_meta_original\\Folder_012\\Helipad_01238.meta\n",
      "Saved :data\\Helipad_Dataset_meta\\Helipad_Dataset_meta_original\\Folder_012\\Helipad_01239.meta\n",
      "Saved :data\\Helipad_Dataset_meta\\Helipad_Dataset_meta_original\\Folder_012\\Helipad_01240.meta\n",
      "Saved :data\\Helipad_Dataset_meta\\Helipad_Dataset_meta_original\\Folder_012\\Helipad_01241.meta\n",
      "Saved :data\\Helipad_Dataset_meta\\Helipad_Dataset_meta_original\\Folder_012\\Helipad_01242.meta\n",
      "Saved :data\\Helipad_Dataset_meta\\Helipad_Dataset_meta_original\\Folder_012\\Helipad_01243.meta\n",
      "Saved :data\\Helipad_Dataset_meta\\Helipad_Dataset_meta_original\\Folder_012\\Helipad_01244.meta\n",
      "Saved :data\\Helipad_Dataset_meta\\Helipad_Dataset_meta_original\\Folder_012\\Helipad_01245.meta\n",
      "Saved :data\\Helipad_Dataset_meta\\Helipad_Dataset_meta_original\\Folder_012\\Helipad_01246.meta\n",
      "Saved :data\\Helipad_Dataset_meta\\Helipad_Dataset_meta_original\\Folder_012\\Helipad_01247.meta\n",
      "Saved :data\\Helipad_Dataset_meta\\Helipad_Dataset_meta_original\\Folder_012\\Helipad_01248.meta\n",
      "Saved :data\\Helipad_Dataset_meta\\Helipad_Dataset_meta_original\\Folder_012\\Helipad_01249.meta\n",
      "Saved :data\\Helipad_Dataset_meta\\Helipad_Dataset_meta_original\\Folder_012\\Helipad_01250.meta\n",
      "Saved :data\\Helipad_Dataset_meta\\Helipad_Dataset_meta_original\\Folder_012\\Helipad_01251.meta\n",
      "Saved :data\\Helipad_Dataset_meta\\Helipad_Dataset_meta_original\\Folder_012\\Helipad_01252.meta\n",
      "Saved :data\\Helipad_Dataset_meta\\Helipad_Dataset_meta_original\\Folder_012\\Helipad_01253.meta\n",
      "Saved :data\\Helipad_Dataset_meta\\Helipad_Dataset_meta_original\\Folder_012\\Helipad_01254.meta\n",
      "Saved :data\\Helipad_Dataset_meta\\Helipad_Dataset_meta_original\\Folder_012\\Helipad_01255.meta\n",
      "Saved :data\\Helipad_Dataset_meta\\Helipad_Dataset_meta_original\\Folder_012\\Helipad_01256.meta\n",
      "Saved :data\\Helipad_Dataset_meta\\Helipad_Dataset_meta_original\\Folder_012\\Helipad_01257.meta\n",
      "Saved :data\\Helipad_Dataset_meta\\Helipad_Dataset_meta_original\\Folder_012\\Helipad_01258.meta\n",
      "Saved :data\\Helipad_Dataset_meta\\Helipad_Dataset_meta_original\\Folder_012\\Helipad_01259.meta\n",
      "Saved :data\\Helipad_Dataset_meta\\Helipad_Dataset_meta_original\\Folder_012\\Helipad_01260.meta\n",
      "Saved :data\\Helipad_Dataset_meta\\Helipad_Dataset_meta_original\\Folder_012\\Helipad_01261.meta\n",
      "Saved :data\\Helipad_Dataset_meta\\Helipad_Dataset_meta_original\\Folder_012\\Helipad_01262.meta\n",
      "Saved :data\\Helipad_Dataset_meta\\Helipad_Dataset_meta_original\\Folder_012\\Helipad_01263.meta\n",
      "Saved :data\\Helipad_Dataset_meta\\Helipad_Dataset_meta_original\\Folder_012\\Helipad_01264.meta\n",
      "Saved :data\\Helipad_Dataset_meta\\Helipad_Dataset_meta_original\\Folder_012\\Helipad_01265.meta\n",
      "Saved :data\\Helipad_Dataset_meta\\Helipad_Dataset_meta_original\\Folder_012\\Helipad_01266.meta\n",
      "Saved :data\\Helipad_Dataset_meta\\Helipad_Dataset_meta_original\\Folder_012\\Helipad_01267.meta\n",
      "Saved :data\\Helipad_Dataset_meta\\Helipad_Dataset_meta_original\\Folder_012\\Helipad_01268.meta\n",
      "Saved :data\\Helipad_Dataset_meta\\Helipad_Dataset_meta_original\\Folder_012\\Helipad_01269.meta\n",
      "Saved :data\\Helipad_Dataset_meta\\Helipad_Dataset_meta_original\\Folder_012\\Helipad_01270.meta\n",
      "Saved :data\\Helipad_Dataset_meta\\Helipad_Dataset_meta_original\\Folder_012\\Helipad_01271.meta\n",
      "Saved :data\\Helipad_Dataset_meta\\Helipad_Dataset_meta_original\\Folder_012\\Helipad_01272.meta\n",
      "Saved :data\\Helipad_Dataset_meta\\Helipad_Dataset_meta_original\\Folder_012\\Helipad_01273.meta\n",
      "Saved :data\\Helipad_Dataset_meta\\Helipad_Dataset_meta_original\\Folder_012\\Helipad_01274.meta\n",
      "Saved :data\\Helipad_Dataset_meta\\Helipad_Dataset_meta_original\\Folder_012\\Helipad_01275.meta\n",
      "Saved :data\\Helipad_Dataset_meta\\Helipad_Dataset_meta_original\\Folder_012\\Helipad_01276.meta\n",
      "Saved :data\\Helipad_Dataset_meta\\Helipad_Dataset_meta_original\\Folder_012\\Helipad_01277.meta\n",
      "Saved :data\\Helipad_Dataset_meta\\Helipad_Dataset_meta_original\\Folder_012\\Helipad_01278.meta\n",
      "Saved :data\\Helipad_Dataset_meta\\Helipad_Dataset_meta_original\\Folder_012\\Helipad_01279.meta\n",
      "Saved :data\\Helipad_Dataset_meta\\Helipad_Dataset_meta_original\\Folder_012\\Helipad_01280.meta\n",
      "Saved :data\\Helipad_Dataset_meta\\Helipad_Dataset_meta_original\\Folder_012\\Helipad_01281.meta\n",
      "Saved :data\\Helipad_Dataset_meta\\Helipad_Dataset_meta_original\\Folder_012\\Helipad_01282.meta\n",
      "Saved :data\\Helipad_Dataset_meta\\Helipad_Dataset_meta_original\\Folder_012\\Helipad_01283.meta\n",
      "Saved :data\\Helipad_Dataset_meta\\Helipad_Dataset_meta_original\\Folder_012\\Helipad_01284.meta\n",
      "Saved :data\\Helipad_Dataset_meta\\Helipad_Dataset_meta_original\\Folder_012\\Helipad_01285.meta\n",
      "Saved :data\\Helipad_Dataset_meta\\Helipad_Dataset_meta_original\\Folder_012\\Helipad_01286.meta\n",
      "Saved :data\\Helipad_Dataset_meta\\Helipad_Dataset_meta_original\\Folder_012\\Helipad_01287.meta\n",
      "Saved :data\\Helipad_Dataset_meta\\Helipad_Dataset_meta_original\\Folder_012\\Helipad_01288.meta\n",
      "Saved :data\\Helipad_Dataset_meta\\Helipad_Dataset_meta_original\\Folder_012\\Helipad_01289.meta\n",
      "Saved :data\\Helipad_Dataset_meta\\Helipad_Dataset_meta_original\\Folder_012\\Helipad_01290.meta\n",
      "Saved :data\\Helipad_Dataset_meta\\Helipad_Dataset_meta_original\\Folder_012\\Helipad_01291.meta\n"
     ]
    },
    {
     "name": "stdout",
     "output_type": "stream",
     "text": [
      "Saved :data\\Helipad_Dataset_meta\\Helipad_Dataset_meta_original\\Folder_012\\Helipad_01292.meta\n",
      "Saved :data\\Helipad_Dataset_meta\\Helipad_Dataset_meta_original\\Folder_012\\Helipad_01293.meta\n",
      "Saved :data\\Helipad_Dataset_meta\\Helipad_Dataset_meta_original\\Folder_012\\Helipad_01294.meta\n",
      "Saved :data\\Helipad_Dataset_meta\\Helipad_Dataset_meta_original\\Folder_012\\Helipad_01295.meta\n",
      "Saved :data\\Helipad_Dataset_meta\\Helipad_Dataset_meta_original\\Folder_012\\Helipad_01296.meta\n",
      "Saved :data\\Helipad_Dataset_meta\\Helipad_Dataset_meta_original\\Folder_012\\Helipad_01297.meta\n",
      "Saved :data\\Helipad_Dataset_meta\\Helipad_Dataset_meta_original\\Folder_012\\Helipad_01298.meta\n",
      "Saved :data\\Helipad_Dataset_meta\\Helipad_Dataset_meta_original\\Folder_012\\Helipad_01299.meta\n",
      "Saved :data\\Helipad_Dataset_meta\\Helipad_Dataset_meta_original\\Folder_013\\Helipad_01300.meta\n",
      "Saved :data\\Helipad_Dataset_meta\\Helipad_Dataset_meta_original\\Folder_013\\Helipad_01301.meta\n",
      "Saved :data\\Helipad_Dataset_meta\\Helipad_Dataset_meta_original\\Folder_013\\Helipad_01302.meta\n",
      "Saved :data\\Helipad_Dataset_meta\\Helipad_Dataset_meta_original\\Folder_013\\Helipad_01303.meta\n",
      "Saved :data\\Helipad_Dataset_meta\\Helipad_Dataset_meta_original\\Folder_013\\Helipad_01304.meta\n",
      "Saved :data\\Helipad_Dataset_meta\\Helipad_Dataset_meta_original\\Folder_013\\Helipad_01305.meta\n",
      "Saved :data\\Helipad_Dataset_meta\\Helipad_Dataset_meta_original\\Folder_013\\Helipad_01306.meta\n",
      "Saved :data\\Helipad_Dataset_meta\\Helipad_Dataset_meta_original\\Folder_013\\Helipad_01307.meta\n",
      "Saved :data\\Helipad_Dataset_meta\\Helipad_Dataset_meta_original\\Folder_013\\Helipad_01308.meta\n",
      "Saved :data\\Helipad_Dataset_meta\\Helipad_Dataset_meta_original\\Folder_013\\Helipad_01309.meta\n",
      "Saved :data\\Helipad_Dataset_meta\\Helipad_Dataset_meta_original\\Folder_013\\Helipad_01310.meta\n",
      "Saved :data\\Helipad_Dataset_meta\\Helipad_Dataset_meta_original\\Folder_013\\Helipad_01311.meta\n",
      "Saved :data\\Helipad_Dataset_meta\\Helipad_Dataset_meta_original\\Folder_013\\Helipad_01312.meta\n",
      "Saved :data\\Helipad_Dataset_meta\\Helipad_Dataset_meta_original\\Folder_013\\Helipad_01313.meta\n",
      "Saved :data\\Helipad_Dataset_meta\\Helipad_Dataset_meta_original\\Folder_013\\Helipad_01314.meta\n",
      "Saved :data\\Helipad_Dataset_meta\\Helipad_Dataset_meta_original\\Folder_013\\Helipad_01315.meta\n",
      "Saved :data\\Helipad_Dataset_meta\\Helipad_Dataset_meta_original\\Folder_013\\Helipad_01316.meta\n",
      "Saved :data\\Helipad_Dataset_meta\\Helipad_Dataset_meta_original\\Folder_013\\Helipad_01317.meta\n",
      "Saved :data\\Helipad_Dataset_meta\\Helipad_Dataset_meta_original\\Folder_013\\Helipad_01318.meta\n",
      "Saved :data\\Helipad_Dataset_meta\\Helipad_Dataset_meta_original\\Folder_013\\Helipad_01319.meta\n",
      "Saved :data\\Helipad_Dataset_meta\\Helipad_Dataset_meta_original\\Folder_013\\Helipad_01320.meta\n",
      "Saved :data\\Helipad_Dataset_meta\\Helipad_Dataset_meta_original\\Folder_013\\Helipad_01321.meta\n",
      "Saved :data\\Helipad_Dataset_meta\\Helipad_Dataset_meta_original\\Folder_013\\Helipad_01322.meta\n",
      "Saved :data\\Helipad_Dataset_meta\\Helipad_Dataset_meta_original\\Folder_013\\Helipad_01323.meta\n",
      "Saved :data\\Helipad_Dataset_meta\\Helipad_Dataset_meta_original\\Folder_013\\Helipad_01324.meta\n",
      "Saved :data\\Helipad_Dataset_meta\\Helipad_Dataset_meta_original\\Folder_013\\Helipad_01325.meta\n",
      "Saved :data\\Helipad_Dataset_meta\\Helipad_Dataset_meta_original\\Folder_013\\Helipad_01326.meta\n",
      "Saved :data\\Helipad_Dataset_meta\\Helipad_Dataset_meta_original\\Folder_013\\Helipad_01327.meta\n",
      "Saved :data\\Helipad_Dataset_meta\\Helipad_Dataset_meta_original\\Folder_013\\Helipad_01328.meta\n",
      "Saved :data\\Helipad_Dataset_meta\\Helipad_Dataset_meta_original\\Folder_013\\Helipad_01329.meta\n",
      "Saved :data\\Helipad_Dataset_meta\\Helipad_Dataset_meta_original\\Folder_013\\Helipad_01330.meta\n",
      "Saved :data\\Helipad_Dataset_meta\\Helipad_Dataset_meta_original\\Folder_013\\Helipad_01331.meta\n",
      "Saved :data\\Helipad_Dataset_meta\\Helipad_Dataset_meta_original\\Folder_013\\Helipad_01332.meta\n",
      "Saved :data\\Helipad_Dataset_meta\\Helipad_Dataset_meta_original\\Folder_013\\Helipad_01333.meta\n",
      "Saved :data\\Helipad_Dataset_meta\\Helipad_Dataset_meta_original\\Folder_013\\Helipad_01334.meta\n",
      "Saved :data\\Helipad_Dataset_meta\\Helipad_Dataset_meta_original\\Folder_013\\Helipad_01335.meta\n",
      "Saved :data\\Helipad_Dataset_meta\\Helipad_Dataset_meta_original\\Folder_013\\Helipad_01336.meta\n",
      "Saved :data\\Helipad_Dataset_meta\\Helipad_Dataset_meta_original\\Folder_013\\Helipad_01337.meta\n",
      "Saved :data\\Helipad_Dataset_meta\\Helipad_Dataset_meta_original\\Folder_013\\Helipad_01338.meta\n",
      "Saved :data\\Helipad_Dataset_meta\\Helipad_Dataset_meta_original\\Folder_013\\Helipad_01339.meta\n",
      "Saved :data\\Helipad_Dataset_meta\\Helipad_Dataset_meta_original\\Folder_013\\Helipad_01340.meta\n",
      "Saved :data\\Helipad_Dataset_meta\\Helipad_Dataset_meta_original\\Folder_013\\Helipad_01341.meta\n",
      "Saved :data\\Helipad_Dataset_meta\\Helipad_Dataset_meta_original\\Folder_013\\Helipad_01342.meta\n",
      "Saved :data\\Helipad_Dataset_meta\\Helipad_Dataset_meta_original\\Folder_013\\Helipad_01343.meta\n",
      "Saved :data\\Helipad_Dataset_meta\\Helipad_Dataset_meta_original\\Folder_013\\Helipad_01344.meta\n",
      "Saved :data\\Helipad_Dataset_meta\\Helipad_Dataset_meta_original\\Folder_013\\Helipad_01345.meta\n",
      "Saved :data\\Helipad_Dataset_meta\\Helipad_Dataset_meta_original\\Folder_013\\Helipad_01346.meta\n",
      "Saved :data\\Helipad_Dataset_meta\\Helipad_Dataset_meta_original\\Folder_013\\Helipad_01347.meta\n",
      "Saved :data\\Helipad_Dataset_meta\\Helipad_Dataset_meta_original\\Folder_013\\Helipad_01348.meta\n",
      "Saved :data\\Helipad_Dataset_meta\\Helipad_Dataset_meta_original\\Folder_013\\Helipad_01349.meta\n",
      "Saved :data\\Helipad_Dataset_meta\\Helipad_Dataset_meta_original\\Folder_013\\Helipad_01350.meta\n",
      "Saved :data\\Helipad_Dataset_meta\\Helipad_Dataset_meta_original\\Folder_013\\Helipad_01351.meta\n",
      "Saved :data\\Helipad_Dataset_meta\\Helipad_Dataset_meta_original\\Folder_013\\Helipad_01352.meta\n",
      "Saved :data\\Helipad_Dataset_meta\\Helipad_Dataset_meta_original\\Folder_013\\Helipad_01353.meta\n",
      "Saved :data\\Helipad_Dataset_meta\\Helipad_Dataset_meta_original\\Folder_013\\Helipad_01354.meta\n",
      "Saved :data\\Helipad_Dataset_meta\\Helipad_Dataset_meta_original\\Folder_013\\Helipad_01355.meta\n",
      "Saved :data\\Helipad_Dataset_meta\\Helipad_Dataset_meta_original\\Folder_013\\Helipad_01356.meta\n",
      "Saved :data\\Helipad_Dataset_meta\\Helipad_Dataset_meta_original\\Folder_013\\Helipad_01357.meta\n",
      "Saved :data\\Helipad_Dataset_meta\\Helipad_Dataset_meta_original\\Folder_013\\Helipad_01358.meta\n",
      "Saved :data\\Helipad_Dataset_meta\\Helipad_Dataset_meta_original\\Folder_013\\Helipad_01359.meta\n",
      "Saved :data\\Helipad_Dataset_meta\\Helipad_Dataset_meta_original\\Folder_013\\Helipad_01360.meta\n",
      "Saved :data\\Helipad_Dataset_meta\\Helipad_Dataset_meta_original\\Folder_013\\Helipad_01361.meta\n",
      "Saved :data\\Helipad_Dataset_meta\\Helipad_Dataset_meta_original\\Folder_013\\Helipad_01362.meta\n",
      "Saved :data\\Helipad_Dataset_meta\\Helipad_Dataset_meta_original\\Folder_013\\Helipad_01363.meta\n",
      "Saved :data\\Helipad_Dataset_meta\\Helipad_Dataset_meta_original\\Folder_013\\Helipad_01364.meta\n",
      "Saved :data\\Helipad_Dataset_meta\\Helipad_Dataset_meta_original\\Folder_013\\Helipad_01365.meta\n",
      "Saved :data\\Helipad_Dataset_meta\\Helipad_Dataset_meta_original\\Folder_013\\Helipad_01366.meta\n",
      "Saved :data\\Helipad_Dataset_meta\\Helipad_Dataset_meta_original\\Folder_013\\Helipad_01367.meta\n",
      "Saved :data\\Helipad_Dataset_meta\\Helipad_Dataset_meta_original\\Folder_013\\Helipad_01368.meta\n",
      "Saved :data\\Helipad_Dataset_meta\\Helipad_Dataset_meta_original\\Folder_013\\Helipad_01369.meta\n",
      "Saved :data\\Helipad_Dataset_meta\\Helipad_Dataset_meta_original\\Folder_013\\Helipad_01370.meta\n",
      "Saved :data\\Helipad_Dataset_meta\\Helipad_Dataset_meta_original\\Folder_013\\Helipad_01371.meta\n",
      "Saved :data\\Helipad_Dataset_meta\\Helipad_Dataset_meta_original\\Folder_013\\Helipad_01372.meta\n",
      "Saved :data\\Helipad_Dataset_meta\\Helipad_Dataset_meta_original\\Folder_013\\Helipad_01373.meta\n",
      "Saved :data\\Helipad_Dataset_meta\\Helipad_Dataset_meta_original\\Folder_013\\Helipad_01374.meta\n",
      "Saved :data\\Helipad_Dataset_meta\\Helipad_Dataset_meta_original\\Folder_013\\Helipad_01375.meta\n",
      "Saved :data\\Helipad_Dataset_meta\\Helipad_Dataset_meta_original\\Folder_013\\Helipad_01376.meta\n",
      "Saved :data\\Helipad_Dataset_meta\\Helipad_Dataset_meta_original\\Folder_013\\Helipad_01377.meta\n",
      "Saved :data\\Helipad_Dataset_meta\\Helipad_Dataset_meta_original\\Folder_013\\Helipad_01378.meta\n",
      "Saved :data\\Helipad_Dataset_meta\\Helipad_Dataset_meta_original\\Folder_013\\Helipad_01379.meta\n",
      "Saved :data\\Helipad_Dataset_meta\\Helipad_Dataset_meta_original\\Folder_013\\Helipad_01380.meta\n",
      "Saved :data\\Helipad_Dataset_meta\\Helipad_Dataset_meta_original\\Folder_013\\Helipad_01381.meta\n",
      "Saved :data\\Helipad_Dataset_meta\\Helipad_Dataset_meta_original\\Folder_013\\Helipad_01382.meta\n",
      "Saved :data\\Helipad_Dataset_meta\\Helipad_Dataset_meta_original\\Folder_013\\Helipad_01383.meta\n",
      "Saved :data\\Helipad_Dataset_meta\\Helipad_Dataset_meta_original\\Folder_013\\Helipad_01384.meta\n",
      "Saved :data\\Helipad_Dataset_meta\\Helipad_Dataset_meta_original\\Folder_013\\Helipad_01385.meta\n",
      "Saved :data\\Helipad_Dataset_meta\\Helipad_Dataset_meta_original\\Folder_013\\Helipad_01386.meta\n",
      "Saved :data\\Helipad_Dataset_meta\\Helipad_Dataset_meta_original\\Folder_013\\Helipad_01387.meta\n",
      "Saved :data\\Helipad_Dataset_meta\\Helipad_Dataset_meta_original\\Folder_013\\Helipad_01388.meta\n",
      "Saved :data\\Helipad_Dataset_meta\\Helipad_Dataset_meta_original\\Folder_013\\Helipad_01389.meta\n",
      "Saved :data\\Helipad_Dataset_meta\\Helipad_Dataset_meta_original\\Folder_013\\Helipad_01390.meta\n",
      "Saved :data\\Helipad_Dataset_meta\\Helipad_Dataset_meta_original\\Folder_013\\Helipad_01391.meta\n",
      "Saved :data\\Helipad_Dataset_meta\\Helipad_Dataset_meta_original\\Folder_013\\Helipad_01392.meta\n",
      "Saved :data\\Helipad_Dataset_meta\\Helipad_Dataset_meta_original\\Folder_013\\Helipad_01393.meta\n",
      "Saved :data\\Helipad_Dataset_meta\\Helipad_Dataset_meta_original\\Folder_013\\Helipad_01394.meta\n",
      "Saved :data\\Helipad_Dataset_meta\\Helipad_Dataset_meta_original\\Folder_013\\Helipad_01395.meta\n",
      "Saved :data\\Helipad_Dataset_meta\\Helipad_Dataset_meta_original\\Folder_013\\Helipad_01396.meta\n",
      "Saved :data\\Helipad_Dataset_meta\\Helipad_Dataset_meta_original\\Folder_013\\Helipad_01397.meta\n",
      "Saved :data\\Helipad_Dataset_meta\\Helipad_Dataset_meta_original\\Folder_013\\Helipad_01398.meta\n",
      "Saved :data\\Helipad_Dataset_meta\\Helipad_Dataset_meta_original\\Folder_013\\Helipad_01399.meta\n",
      "Saved :data\\Helipad_Dataset_meta\\Helipad_Dataset_meta_original\\Folder_014\\Helipad_01400.meta\n",
      "Saved :data\\Helipad_Dataset_meta\\Helipad_Dataset_meta_original\\Folder_014\\Helipad_01401.meta\n",
      "Saved :data\\Helipad_Dataset_meta\\Helipad_Dataset_meta_original\\Folder_014\\Helipad_01402.meta\n",
      "Saved :data\\Helipad_Dataset_meta\\Helipad_Dataset_meta_original\\Folder_014\\Helipad_01403.meta\n",
      "Saved :data\\Helipad_Dataset_meta\\Helipad_Dataset_meta_original\\Folder_014\\Helipad_01404.meta\n",
      "Saved :data\\Helipad_Dataset_meta\\Helipad_Dataset_meta_original\\Folder_014\\Helipad_01405.meta\n",
      "Saved :data\\Helipad_Dataset_meta\\Helipad_Dataset_meta_original\\Folder_014\\Helipad_01406.meta\n",
      "Saved :data\\Helipad_Dataset_meta\\Helipad_Dataset_meta_original\\Folder_014\\Helipad_01407.meta\n",
      "Saved :data\\Helipad_Dataset_meta\\Helipad_Dataset_meta_original\\Folder_014\\Helipad_01408.meta\n",
      "Saved :data\\Helipad_Dataset_meta\\Helipad_Dataset_meta_original\\Folder_014\\Helipad_01409.meta\n",
      "Saved :data\\Helipad_Dataset_meta\\Helipad_Dataset_meta_original\\Folder_014\\Helipad_01410.meta\n",
      "Saved :data\\Helipad_Dataset_meta\\Helipad_Dataset_meta_original\\Folder_014\\Helipad_01411.meta\n",
      "Saved :data\\Helipad_Dataset_meta\\Helipad_Dataset_meta_original\\Folder_014\\Helipad_01412.meta\n",
      "Saved :data\\Helipad_Dataset_meta\\Helipad_Dataset_meta_original\\Folder_014\\Helipad_01413.meta\n",
      "Saved :data\\Helipad_Dataset_meta\\Helipad_Dataset_meta_original\\Folder_014\\Helipad_01414.meta\n",
      "Saved :data\\Helipad_Dataset_meta\\Helipad_Dataset_meta_original\\Folder_014\\Helipad_01415.meta\n",
      "Saved :data\\Helipad_Dataset_meta\\Helipad_Dataset_meta_original\\Folder_014\\Helipad_01416.meta\n",
      "Saved :data\\Helipad_Dataset_meta\\Helipad_Dataset_meta_original\\Folder_014\\Helipad_01417.meta\n",
      "Saved :data\\Helipad_Dataset_meta\\Helipad_Dataset_meta_original\\Folder_014\\Helipad_01418.meta\n",
      "Saved :data\\Helipad_Dataset_meta\\Helipad_Dataset_meta_original\\Folder_014\\Helipad_01419.meta\n",
      "Saved :data\\Helipad_Dataset_meta\\Helipad_Dataset_meta_original\\Folder_014\\Helipad_01420.meta\n",
      "Saved :data\\Helipad_Dataset_meta\\Helipad_Dataset_meta_original\\Folder_014\\Helipad_01421.meta\n",
      "Saved :data\\Helipad_Dataset_meta\\Helipad_Dataset_meta_original\\Folder_014\\Helipad_01422.meta\n",
      "Saved :data\\Helipad_Dataset_meta\\Helipad_Dataset_meta_original\\Folder_014\\Helipad_01423.meta\n",
      "Saved :data\\Helipad_Dataset_meta\\Helipad_Dataset_meta_original\\Folder_014\\Helipad_01424.meta\n",
      "Saved :data\\Helipad_Dataset_meta\\Helipad_Dataset_meta_original\\Folder_014\\Helipad_01425.meta\n",
      "Saved :data\\Helipad_Dataset_meta\\Helipad_Dataset_meta_original\\Folder_014\\Helipad_01426.meta\n",
      "Saved :data\\Helipad_Dataset_meta\\Helipad_Dataset_meta_original\\Folder_014\\Helipad_01427.meta\n",
      "Saved :data\\Helipad_Dataset_meta\\Helipad_Dataset_meta_original\\Folder_014\\Helipad_01428.meta\n",
      "Saved :data\\Helipad_Dataset_meta\\Helipad_Dataset_meta_original\\Folder_014\\Helipad_01429.meta\n",
      "Saved :data\\Helipad_Dataset_meta\\Helipad_Dataset_meta_original\\Folder_014\\Helipad_01430.meta\n",
      "Saved :data\\Helipad_Dataset_meta\\Helipad_Dataset_meta_original\\Folder_014\\Helipad_01431.meta\n",
      "Saved :data\\Helipad_Dataset_meta\\Helipad_Dataset_meta_original\\Folder_014\\Helipad_01432.meta\n",
      "Saved :data\\Helipad_Dataset_meta\\Helipad_Dataset_meta_original\\Folder_014\\Helipad_01433.meta\n",
      "Saved :data\\Helipad_Dataset_meta\\Helipad_Dataset_meta_original\\Folder_014\\Helipad_01434.meta\n",
      "Saved :data\\Helipad_Dataset_meta\\Helipad_Dataset_meta_original\\Folder_014\\Helipad_01435.meta\n",
      "Saved :data\\Helipad_Dataset_meta\\Helipad_Dataset_meta_original\\Folder_014\\Helipad_01436.meta\n",
      "Saved :data\\Helipad_Dataset_meta\\Helipad_Dataset_meta_original\\Folder_014\\Helipad_01437.meta\n",
      "Saved :data\\Helipad_Dataset_meta\\Helipad_Dataset_meta_original\\Folder_014\\Helipad_01438.meta\n",
      "Saved :data\\Helipad_Dataset_meta\\Helipad_Dataset_meta_original\\Folder_014\\Helipad_01439.meta\n",
      "Saved :data\\Helipad_Dataset_meta\\Helipad_Dataset_meta_original\\Folder_014\\Helipad_01440.meta\n",
      "Saved :data\\Helipad_Dataset_meta\\Helipad_Dataset_meta_original\\Folder_014\\Helipad_01441.meta\n",
      "Saved :data\\Helipad_Dataset_meta\\Helipad_Dataset_meta_original\\Folder_014\\Helipad_01442.meta\n",
      "Saved :data\\Helipad_Dataset_meta\\Helipad_Dataset_meta_original\\Folder_014\\Helipad_01443.meta\n",
      "Saved :data\\Helipad_Dataset_meta\\Helipad_Dataset_meta_original\\Folder_014\\Helipad_01444.meta\n",
      "Saved :data\\Helipad_Dataset_meta\\Helipad_Dataset_meta_original\\Folder_014\\Helipad_01445.meta\n",
      "Saved :data\\Helipad_Dataset_meta\\Helipad_Dataset_meta_original\\Folder_014\\Helipad_01446.meta\n",
      "Saved :data\\Helipad_Dataset_meta\\Helipad_Dataset_meta_original\\Folder_014\\Helipad_01447.meta\n",
      "Saved :data\\Helipad_Dataset_meta\\Helipad_Dataset_meta_original\\Folder_014\\Helipad_01448.meta\n",
      "Saved :data\\Helipad_Dataset_meta\\Helipad_Dataset_meta_original\\Folder_014\\Helipad_01449.meta\n"
     ]
    },
    {
     "name": "stdout",
     "output_type": "stream",
     "text": [
      "Saved :data\\Helipad_Dataset_meta\\Helipad_Dataset_meta_original\\Folder_014\\Helipad_01450.meta\n",
      "Saved :data\\Helipad_Dataset_meta\\Helipad_Dataset_meta_original\\Folder_014\\Helipad_01451.meta\n",
      "Saved :data\\Helipad_Dataset_meta\\Helipad_Dataset_meta_original\\Folder_014\\Helipad_01452.meta\n",
      "Saved :data\\Helipad_Dataset_meta\\Helipad_Dataset_meta_original\\Folder_014\\Helipad_01453.meta\n",
      "Saved :data\\Helipad_Dataset_meta\\Helipad_Dataset_meta_original\\Folder_014\\Helipad_01454.meta\n",
      "Saved :data\\Helipad_Dataset_meta\\Helipad_Dataset_meta_original\\Folder_014\\Helipad_01455.meta\n",
      "Saved :data\\Helipad_Dataset_meta\\Helipad_Dataset_meta_original\\Folder_014\\Helipad_01456.meta\n",
      "Saved :data\\Helipad_Dataset_meta\\Helipad_Dataset_meta_original\\Folder_014\\Helipad_01457.meta\n",
      "Saved :data\\Helipad_Dataset_meta\\Helipad_Dataset_meta_original\\Folder_014\\Helipad_01458.meta\n",
      "Saved :data\\Helipad_Dataset_meta\\Helipad_Dataset_meta_original\\Folder_014\\Helipad_01459.meta\n",
      "Saved :data\\Helipad_Dataset_meta\\Helipad_Dataset_meta_original\\Folder_014\\Helipad_01460.meta\n",
      "Saved :data\\Helipad_Dataset_meta\\Helipad_Dataset_meta_original\\Folder_014\\Helipad_01461.meta\n",
      "Saved :data\\Helipad_Dataset_meta\\Helipad_Dataset_meta_original\\Folder_014\\Helipad_01462.meta\n",
      "Saved :data\\Helipad_Dataset_meta\\Helipad_Dataset_meta_original\\Folder_014\\Helipad_01463.meta\n",
      "Saved :data\\Helipad_Dataset_meta\\Helipad_Dataset_meta_original\\Folder_014\\Helipad_01464.meta\n",
      "Saved :data\\Helipad_Dataset_meta\\Helipad_Dataset_meta_original\\Folder_014\\Helipad_01465.meta\n",
      "Saved :data\\Helipad_Dataset_meta\\Helipad_Dataset_meta_original\\Folder_014\\Helipad_01466.meta\n",
      "Saved :data\\Helipad_Dataset_meta\\Helipad_Dataset_meta_original\\Folder_014\\Helipad_01467.meta\n",
      "Saved :data\\Helipad_Dataset_meta\\Helipad_Dataset_meta_original\\Folder_014\\Helipad_01468.meta\n",
      "Saved :data\\Helipad_Dataset_meta\\Helipad_Dataset_meta_original\\Folder_014\\Helipad_01469.meta\n",
      "Saved :data\\Helipad_Dataset_meta\\Helipad_Dataset_meta_original\\Folder_014\\Helipad_01470.meta\n",
      "Saved :data\\Helipad_Dataset_meta\\Helipad_Dataset_meta_original\\Folder_014\\Helipad_01471.meta\n",
      "Saved :data\\Helipad_Dataset_meta\\Helipad_Dataset_meta_original\\Folder_014\\Helipad_01472.meta\n",
      "Saved :data\\Helipad_Dataset_meta\\Helipad_Dataset_meta_original\\Folder_014\\Helipad_01473.meta\n",
      "Saved :data\\Helipad_Dataset_meta\\Helipad_Dataset_meta_original\\Folder_014\\Helipad_01474.meta\n",
      "Saved :data\\Helipad_Dataset_meta\\Helipad_Dataset_meta_original\\Folder_014\\Helipad_01475.meta\n",
      "Saved :data\\Helipad_Dataset_meta\\Helipad_Dataset_meta_original\\Folder_014\\Helipad_01476.meta\n",
      "Saved :data\\Helipad_Dataset_meta\\Helipad_Dataset_meta_original\\Folder_014\\Helipad_01477.meta\n",
      "Saved :data\\Helipad_Dataset_meta\\Helipad_Dataset_meta_original\\Folder_014\\Helipad_01478.meta\n",
      "Saved :data\\Helipad_Dataset_meta\\Helipad_Dataset_meta_original\\Folder_014\\Helipad_01479.meta\n",
      "Saved :data\\Helipad_Dataset_meta\\Helipad_Dataset_meta_original\\Folder_014\\Helipad_01480.meta\n",
      "Saved :data\\Helipad_Dataset_meta\\Helipad_Dataset_meta_original\\Folder_014\\Helipad_01482.meta\n",
      "Saved :data\\Helipad_Dataset_meta\\Helipad_Dataset_meta_original\\Folder_014\\Helipad_01483.meta\n",
      "Saved :data\\Helipad_Dataset_meta\\Helipad_Dataset_meta_original\\Folder_014\\Helipad_01484.meta\n",
      "Saved :data\\Helipad_Dataset_meta\\Helipad_Dataset_meta_original\\Folder_014\\Helipad_01485.meta\n",
      "Saved :data\\Helipad_Dataset_meta\\Helipad_Dataset_meta_original\\Folder_014\\Helipad_01486.meta\n",
      "Saved :data\\Helipad_Dataset_meta\\Helipad_Dataset_meta_original\\Folder_014\\Helipad_01487.meta\n",
      "Saved :data\\Helipad_Dataset_meta\\Helipad_Dataset_meta_original\\Folder_014\\Helipad_01488.meta\n",
      "Saved :data\\Helipad_Dataset_meta\\Helipad_Dataset_meta_original\\Folder_014\\Helipad_01489.meta\n",
      "Saved :data\\Helipad_Dataset_meta\\Helipad_Dataset_meta_original\\Folder_014\\Helipad_01490.meta\n",
      "Saved :data\\Helipad_Dataset_meta\\Helipad_Dataset_meta_original\\Folder_014\\Helipad_01491.meta\n",
      "Saved :data\\Helipad_Dataset_meta\\Helipad_Dataset_meta_original\\Folder_014\\Helipad_01492.meta\n",
      "Saved :data\\Helipad_Dataset_meta\\Helipad_Dataset_meta_original\\Folder_014\\Helipad_01493.meta\n",
      "Saved :data\\Helipad_Dataset_meta\\Helipad_Dataset_meta_original\\Folder_014\\Helipad_01494.meta\n",
      "Saved :data\\Helipad_Dataset_meta\\Helipad_Dataset_meta_original\\Folder_014\\Helipad_01495.meta\n",
      "Saved :data\\Helipad_Dataset_meta\\Helipad_Dataset_meta_original\\Folder_014\\Helipad_01496.meta\n",
      "Saved :data\\Helipad_Dataset_meta\\Helipad_Dataset_meta_original\\Folder_014\\Helipad_01497.meta\n",
      "Saved :data\\Helipad_Dataset_meta\\Helipad_Dataset_meta_original\\Folder_014\\Helipad_01498.meta\n",
      "Saved :data\\Helipad_Dataset_meta\\Helipad_Dataset_meta_original\\Folder_014\\Helipad_01499.meta\n",
      "Saved :data\\Helipad_Dataset_meta\\Helipad_Dataset_meta_original\\Folder_015\\Helipad_01500.meta\n",
      "Saved :data\\Helipad_Dataset_meta\\Helipad_Dataset_meta_original\\Folder_015\\Helipad_01501.meta\n",
      "Saved :data\\Helipad_Dataset_meta\\Helipad_Dataset_meta_original\\Folder_015\\Helipad_01502.meta\n",
      "Saved :data\\Helipad_Dataset_meta\\Helipad_Dataset_meta_original\\Folder_015\\Helipad_01503.meta\n",
      "Saved :data\\Helipad_Dataset_meta\\Helipad_Dataset_meta_original\\Folder_015\\Helipad_01504.meta\n",
      "Saved :data\\Helipad_Dataset_meta\\Helipad_Dataset_meta_original\\Folder_015\\Helipad_01505.meta\n",
      "Saved :data\\Helipad_Dataset_meta\\Helipad_Dataset_meta_original\\Folder_015\\Helipad_01506.meta\n",
      "Saved :data\\Helipad_Dataset_meta\\Helipad_Dataset_meta_original\\Folder_015\\Helipad_01507.meta\n",
      "Saved :data\\Helipad_Dataset_meta\\Helipad_Dataset_meta_original\\Folder_015\\Helipad_01508.meta\n",
      "Saved :data\\Helipad_Dataset_meta\\Helipad_Dataset_meta_original\\Folder_015\\Helipad_01509.meta\n",
      "Saved :data\\Helipad_Dataset_meta\\Helipad_Dataset_meta_original\\Folder_015\\Helipad_01510.meta\n",
      "Saved :data\\Helipad_Dataset_meta\\Helipad_Dataset_meta_original\\Folder_015\\Helipad_01511.meta\n",
      "Saved :data\\Helipad_Dataset_meta\\Helipad_Dataset_meta_original\\Folder_015\\Helipad_01512.meta\n",
      "Saved :data\\Helipad_Dataset_meta\\Helipad_Dataset_meta_original\\Folder_015\\Helipad_01513.meta\n",
      "Saved :data\\Helipad_Dataset_meta\\Helipad_Dataset_meta_original\\Folder_015\\Helipad_01514.meta\n",
      "Saved :data\\Helipad_Dataset_meta\\Helipad_Dataset_meta_original\\Folder_015\\Helipad_01515.meta\n",
      "Saved :data\\Helipad_Dataset_meta\\Helipad_Dataset_meta_original\\Folder_015\\Helipad_01516.meta\n",
      "Saved :data\\Helipad_Dataset_meta\\Helipad_Dataset_meta_original\\Folder_015\\Helipad_01517.meta\n",
      "Saved :data\\Helipad_Dataset_meta\\Helipad_Dataset_meta_original\\Folder_015\\Helipad_01518.meta\n",
      "Saved :data\\Helipad_Dataset_meta\\Helipad_Dataset_meta_original\\Folder_015\\Helipad_01519.meta\n",
      "Saved :data\\Helipad_Dataset_meta\\Helipad_Dataset_meta_original\\Folder_015\\Helipad_01520.meta\n",
      "Saved :data\\Helipad_Dataset_meta\\Helipad_Dataset_meta_original\\Folder_015\\Helipad_01521.meta\n",
      "Saved :data\\Helipad_Dataset_meta\\Helipad_Dataset_meta_original\\Folder_015\\Helipad_01522.meta\n",
      "Saved :data\\Helipad_Dataset_meta\\Helipad_Dataset_meta_original\\Folder_015\\Helipad_01523.meta\n",
      "Saved :data\\Helipad_Dataset_meta\\Helipad_Dataset_meta_original\\Folder_015\\Helipad_01524.meta\n",
      "Saved :data\\Helipad_Dataset_meta\\Helipad_Dataset_meta_original\\Folder_015\\Helipad_01525.meta\n",
      "Saved :data\\Helipad_Dataset_meta\\Helipad_Dataset_meta_original\\Folder_015\\Helipad_01526.meta\n",
      "Saved :data\\Helipad_Dataset_meta\\Helipad_Dataset_meta_original\\Folder_015\\Helipad_01527.meta\n",
      "Saved :data\\Helipad_Dataset_meta\\Helipad_Dataset_meta_original\\Folder_015\\Helipad_01528.meta\n",
      "Saved :data\\Helipad_Dataset_meta\\Helipad_Dataset_meta_original\\Folder_015\\Helipad_01529.meta\n",
      "Saved :data\\Helipad_Dataset_meta\\Helipad_Dataset_meta_original\\Folder_015\\Helipad_01530.meta\n",
      "Saved :data\\Helipad_Dataset_meta\\Helipad_Dataset_meta_original\\Folder_015\\Helipad_01531.meta\n",
      "Saved :data\\Helipad_Dataset_meta\\Helipad_Dataset_meta_original\\Folder_015\\Helipad_01532.meta\n",
      "Saved :data\\Helipad_Dataset_meta\\Helipad_Dataset_meta_original\\Folder_015\\Helipad_01533.meta\n",
      "Saved :data\\Helipad_Dataset_meta\\Helipad_Dataset_meta_original\\Folder_015\\Helipad_01534.meta\n",
      "Saved :data\\Helipad_Dataset_meta\\Helipad_Dataset_meta_original\\Folder_015\\Helipad_01535.meta\n",
      "Saved :data\\Helipad_Dataset_meta\\Helipad_Dataset_meta_original\\Folder_015\\Helipad_01536.meta\n",
      "Saved :data\\Helipad_Dataset_meta\\Helipad_Dataset_meta_original\\Folder_015\\Helipad_01537.meta\n",
      "Saved :data\\Helipad_Dataset_meta\\Helipad_Dataset_meta_original\\Folder_015\\Helipad_01538.meta\n",
      "Saved :data\\Helipad_Dataset_meta\\Helipad_Dataset_meta_original\\Folder_015\\Helipad_01539.meta\n",
      "Saved :data\\Helipad_Dataset_meta\\Helipad_Dataset_meta_original\\Folder_015\\Helipad_01540.meta\n",
      "Saved :data\\Helipad_Dataset_meta\\Helipad_Dataset_meta_original\\Folder_015\\Helipad_01541.meta\n",
      "Saved :data\\Helipad_Dataset_meta\\Helipad_Dataset_meta_original\\Folder_015\\Helipad_01542.meta\n",
      "Saved :data\\Helipad_Dataset_meta\\Helipad_Dataset_meta_original\\Folder_015\\Helipad_01543.meta\n",
      "Saved :data\\Helipad_Dataset_meta\\Helipad_Dataset_meta_original\\Folder_015\\Helipad_01544.meta\n",
      "Saved :data\\Helipad_Dataset_meta\\Helipad_Dataset_meta_original\\Folder_015\\Helipad_01545.meta\n",
      "Saved :data\\Helipad_Dataset_meta\\Helipad_Dataset_meta_original\\Folder_015\\Helipad_01546.meta\n",
      "Saved :data\\Helipad_Dataset_meta\\Helipad_Dataset_meta_original\\Folder_015\\Helipad_01547.meta\n",
      "Saved :data\\Helipad_Dataset_meta\\Helipad_Dataset_meta_original\\Folder_015\\Helipad_01548.meta\n",
      "Saved :data\\Helipad_Dataset_meta\\Helipad_Dataset_meta_original\\Folder_015\\Helipad_01549.meta\n",
      "Saved :data\\Helipad_Dataset_meta\\Helipad_Dataset_meta_original\\Folder_015\\Helipad_01550.meta\n",
      "Saved :data\\Helipad_Dataset_meta\\Helipad_Dataset_meta_original\\Folder_015\\Helipad_01551.meta\n",
      "Saved :data\\Helipad_Dataset_meta\\Helipad_Dataset_meta_original\\Folder_015\\Helipad_01552.meta\n",
      "Saved :data\\Helipad_Dataset_meta\\Helipad_Dataset_meta_original\\Folder_015\\Helipad_01553.meta\n",
      "Saved :data\\Helipad_Dataset_meta\\Helipad_Dataset_meta_original\\Folder_015\\Helipad_01554.meta\n",
      "Saved :data\\Helipad_Dataset_meta\\Helipad_Dataset_meta_original\\Folder_015\\Helipad_01555.meta\n",
      "Saved :data\\Helipad_Dataset_meta\\Helipad_Dataset_meta_original\\Folder_015\\Helipad_01556.meta\n",
      "Saved :data\\Helipad_Dataset_meta\\Helipad_Dataset_meta_original\\Folder_015\\Helipad_01557.meta\n",
      "Saved :data\\Helipad_Dataset_meta\\Helipad_Dataset_meta_original\\Folder_015\\Helipad_01558.meta\n",
      "Saved :data\\Helipad_Dataset_meta\\Helipad_Dataset_meta_original\\Folder_015\\Helipad_01559.meta\n",
      "Saved :data\\Helipad_Dataset_meta\\Helipad_Dataset_meta_original\\Folder_015\\Helipad_01560.meta\n",
      "Saved :data\\Helipad_Dataset_meta\\Helipad_Dataset_meta_original\\Folder_015\\Helipad_01561.meta\n",
      "Saved :data\\Helipad_Dataset_meta\\Helipad_Dataset_meta_original\\Folder_015\\Helipad_01562.meta\n",
      "Saved :data\\Helipad_Dataset_meta\\Helipad_Dataset_meta_original\\Folder_015\\Helipad_01563.meta\n",
      "Saved :data\\Helipad_Dataset_meta\\Helipad_Dataset_meta_original\\Folder_015\\Helipad_01564.meta\n",
      "Saved :data\\Helipad_Dataset_meta\\Helipad_Dataset_meta_original\\Folder_015\\Helipad_01565.meta\n",
      "Saved :data\\Helipad_Dataset_meta\\Helipad_Dataset_meta_original\\Folder_015\\Helipad_01566.meta\n",
      "Saved :data\\Helipad_Dataset_meta\\Helipad_Dataset_meta_original\\Folder_015\\Helipad_01567.meta\n",
      "Saved :data\\Helipad_Dataset_meta\\Helipad_Dataset_meta_original\\Folder_015\\Helipad_01568.meta\n",
      "Saved :data\\Helipad_Dataset_meta\\Helipad_Dataset_meta_original\\Folder_015\\Helipad_01569.meta\n",
      "Saved :data\\Helipad_Dataset_meta\\Helipad_Dataset_meta_original\\Folder_015\\Helipad_01570.meta\n",
      "Saved :data\\Helipad_Dataset_meta\\Helipad_Dataset_meta_original\\Folder_015\\Helipad_01571.meta\n",
      "Saved :data\\Helipad_Dataset_meta\\Helipad_Dataset_meta_original\\Folder_015\\Helipad_01572.meta\n",
      "Saved :data\\Helipad_Dataset_meta\\Helipad_Dataset_meta_original\\Folder_015\\Helipad_01573.meta\n",
      "Saved :data\\Helipad_Dataset_meta\\Helipad_Dataset_meta_original\\Folder_015\\Helipad_01574.meta\n",
      "Saved :data\\Helipad_Dataset_meta\\Helipad_Dataset_meta_original\\Folder_015\\Helipad_01575.meta\n",
      "Saved :data\\Helipad_Dataset_meta\\Helipad_Dataset_meta_original\\Folder_015\\Helipad_01576.meta\n",
      "Saved :data\\Helipad_Dataset_meta\\Helipad_Dataset_meta_original\\Folder_015\\Helipad_01577.meta\n",
      "Saved :data\\Helipad_Dataset_meta\\Helipad_Dataset_meta_original\\Folder_015\\Helipad_01578.meta\n",
      "Saved :data\\Helipad_Dataset_meta\\Helipad_Dataset_meta_original\\Folder_015\\Helipad_01579.meta\n",
      "Saved :data\\Helipad_Dataset_meta\\Helipad_Dataset_meta_original\\Folder_015\\Helipad_01580.meta\n",
      "Saved :data\\Helipad_Dataset_meta\\Helipad_Dataset_meta_original\\Folder_015\\Helipad_01581.meta\n",
      "Saved :data\\Helipad_Dataset_meta\\Helipad_Dataset_meta_original\\Folder_015\\Helipad_01582.meta\n",
      "Saved :data\\Helipad_Dataset_meta\\Helipad_Dataset_meta_original\\Folder_015\\Helipad_01583.meta\n",
      "Saved :data\\Helipad_Dataset_meta\\Helipad_Dataset_meta_original\\Folder_015\\Helipad_01584.meta\n",
      "Saved :data\\Helipad_Dataset_meta\\Helipad_Dataset_meta_original\\Folder_015\\Helipad_01585.meta\n",
      "Saved :data\\Helipad_Dataset_meta\\Helipad_Dataset_meta_original\\Folder_015\\Helipad_01586.meta\n",
      "Saved :data\\Helipad_Dataset_meta\\Helipad_Dataset_meta_original\\Folder_015\\Helipad_01587.meta\n",
      "Saved :data\\Helipad_Dataset_meta\\Helipad_Dataset_meta_original\\Folder_015\\Helipad_01588.meta\n",
      "Saved :data\\Helipad_Dataset_meta\\Helipad_Dataset_meta_original\\Folder_015\\Helipad_01589.meta\n",
      "Saved :data\\Helipad_Dataset_meta\\Helipad_Dataset_meta_original\\Folder_015\\Helipad_01590.meta\n",
      "Saved :data\\Helipad_Dataset_meta\\Helipad_Dataset_meta_original\\Folder_015\\Helipad_01591.meta\n",
      "Saved :data\\Helipad_Dataset_meta\\Helipad_Dataset_meta_original\\Folder_015\\Helipad_01592.meta\n",
      "Saved :data\\Helipad_Dataset_meta\\Helipad_Dataset_meta_original\\Folder_015\\Helipad_01593.meta\n",
      "Saved :data\\Helipad_Dataset_meta\\Helipad_Dataset_meta_original\\Folder_015\\Helipad_01594.meta\n",
      "Saved :data\\Helipad_Dataset_meta\\Helipad_Dataset_meta_original\\Folder_015\\Helipad_01595.meta\n",
      "Saved :data\\Helipad_Dataset_meta\\Helipad_Dataset_meta_original\\Folder_015\\Helipad_01596.meta\n",
      "Saved :data\\Helipad_Dataset_meta\\Helipad_Dataset_meta_original\\Folder_015\\Helipad_01597.meta\n",
      "Saved :data\\Helipad_Dataset_meta\\Helipad_Dataset_meta_original\\Folder_015\\Helipad_01598.meta\n",
      "Saved :data\\Helipad_Dataset_meta\\Helipad_Dataset_meta_original\\Folder_015\\Helipad_01599.meta\n",
      "Saved :data\\Helipad_Dataset_meta\\Helipad_Dataset_meta_original\\Folder_016\\Helipad_01600.meta\n",
      "Saved :data\\Helipad_Dataset_meta\\Helipad_Dataset_meta_original\\Folder_016\\Helipad_01601.meta\n",
      "Saved :data\\Helipad_Dataset_meta\\Helipad_Dataset_meta_original\\Folder_016\\Helipad_01602.meta\n",
      "Saved :data\\Helipad_Dataset_meta\\Helipad_Dataset_meta_original\\Folder_016\\Helipad_01603.meta\n",
      "Saved :data\\Helipad_Dataset_meta\\Helipad_Dataset_meta_original\\Folder_016\\Helipad_01604.meta\n",
      "Saved :data\\Helipad_Dataset_meta\\Helipad_Dataset_meta_original\\Folder_016\\Helipad_01605.meta\n",
      "Saved :data\\Helipad_Dataset_meta\\Helipad_Dataset_meta_original\\Folder_016\\Helipad_01606.meta\n",
      "Saved :data\\Helipad_Dataset_meta\\Helipad_Dataset_meta_original\\Folder_016\\Helipad_01607.meta\n",
      "Saved :data\\Helipad_Dataset_meta\\Helipad_Dataset_meta_original\\Folder_016\\Helipad_01608.meta\n",
      "Saved :data\\Helipad_Dataset_meta\\Helipad_Dataset_meta_original\\Folder_016\\Helipad_01609.meta\n"
     ]
    },
    {
     "name": "stdout",
     "output_type": "stream",
     "text": [
      "Saved :data\\Helipad_Dataset_meta\\Helipad_Dataset_meta_original\\Folder_016\\Helipad_01610.meta\n",
      "Saved :data\\Helipad_Dataset_meta\\Helipad_Dataset_meta_original\\Folder_016\\Helipad_01611.meta\n",
      "Saved :data\\Helipad_Dataset_meta\\Helipad_Dataset_meta_original\\Folder_016\\Helipad_01612.meta\n",
      "Saved :data\\Helipad_Dataset_meta\\Helipad_Dataset_meta_original\\Folder_016\\Helipad_01613.meta\n",
      "Saved :data\\Helipad_Dataset_meta\\Helipad_Dataset_meta_original\\Folder_016\\Helipad_01614.meta\n",
      "Saved :data\\Helipad_Dataset_meta\\Helipad_Dataset_meta_original\\Folder_016\\Helipad_01615.meta\n",
      "Saved :data\\Helipad_Dataset_meta\\Helipad_Dataset_meta_original\\Folder_016\\Helipad_01616.meta\n",
      "Saved :data\\Helipad_Dataset_meta\\Helipad_Dataset_meta_original\\Folder_016\\Helipad_01617.meta\n",
      "Saved :data\\Helipad_Dataset_meta\\Helipad_Dataset_meta_original\\Folder_016\\Helipad_01618.meta\n",
      "Saved :data\\Helipad_Dataset_meta\\Helipad_Dataset_meta_original\\Folder_016\\Helipad_01619.meta\n",
      "Saved :data\\Helipad_Dataset_meta\\Helipad_Dataset_meta_original\\Folder_016\\Helipad_01620.meta\n",
      "Saved :data\\Helipad_Dataset_meta\\Helipad_Dataset_meta_original\\Folder_016\\Helipad_01621.meta\n",
      "Saved :data\\Helipad_Dataset_meta\\Helipad_Dataset_meta_original\\Folder_016\\Helipad_01622.meta\n",
      "Saved :data\\Helipad_Dataset_meta\\Helipad_Dataset_meta_original\\Folder_016\\Helipad_01623.meta\n",
      "Saved :data\\Helipad_Dataset_meta\\Helipad_Dataset_meta_original\\Folder_016\\Helipad_01624.meta\n",
      "Saved :data\\Helipad_Dataset_meta\\Helipad_Dataset_meta_original\\Folder_016\\Helipad_01625.meta\n",
      "Saved :data\\Helipad_Dataset_meta\\Helipad_Dataset_meta_original\\Folder_016\\Helipad_01626.meta\n",
      "Saved :data\\Helipad_Dataset_meta\\Helipad_Dataset_meta_original\\Folder_016\\Helipad_01627.meta\n",
      "Saved :data\\Helipad_Dataset_meta\\Helipad_Dataset_meta_original\\Folder_016\\Helipad_01628.meta\n",
      "Saved :data\\Helipad_Dataset_meta\\Helipad_Dataset_meta_original\\Folder_016\\Helipad_01629.meta\n",
      "Saved :data\\Helipad_Dataset_meta\\Helipad_Dataset_meta_original\\Folder_016\\Helipad_01630.meta\n",
      "Saved :data\\Helipad_Dataset_meta\\Helipad_Dataset_meta_original\\Folder_016\\Helipad_01631.meta\n",
      "Saved :data\\Helipad_Dataset_meta\\Helipad_Dataset_meta_original\\Folder_016\\Helipad_01632.meta\n",
      "Saved :data\\Helipad_Dataset_meta\\Helipad_Dataset_meta_original\\Folder_016\\Helipad_01633.meta\n",
      "Saved :data\\Helipad_Dataset_meta\\Helipad_Dataset_meta_original\\Folder_016\\Helipad_01634.meta\n",
      "Saved :data\\Helipad_Dataset_meta\\Helipad_Dataset_meta_original\\Folder_016\\Helipad_01635.meta\n",
      "Saved :data\\Helipad_Dataset_meta\\Helipad_Dataset_meta_original\\Folder_016\\Helipad_01636.meta\n",
      "Saved :data\\Helipad_Dataset_meta\\Helipad_Dataset_meta_original\\Folder_016\\Helipad_01637.meta\n",
      "Saved :data\\Helipad_Dataset_meta\\Helipad_Dataset_meta_original\\Folder_016\\Helipad_01638.meta\n",
      "Saved :data\\Helipad_Dataset_meta\\Helipad_Dataset_meta_original\\Folder_016\\Helipad_01639.meta\n",
      "Saved :data\\Helipad_Dataset_meta\\Helipad_Dataset_meta_original\\Folder_016\\Helipad_01640.meta\n",
      "Saved :data\\Helipad_Dataset_meta\\Helipad_Dataset_meta_original\\Folder_016\\Helipad_01641.meta\n",
      "Saved :data\\Helipad_Dataset_meta\\Helipad_Dataset_meta_original\\Folder_016\\Helipad_01642.meta\n",
      "Saved :data\\Helipad_Dataset_meta\\Helipad_Dataset_meta_original\\Folder_016\\Helipad_01643.meta\n",
      "Saved :data\\Helipad_Dataset_meta\\Helipad_Dataset_meta_original\\Folder_016\\Helipad_01644.meta\n",
      "Saved :data\\Helipad_Dataset_meta\\Helipad_Dataset_meta_original\\Folder_016\\Helipad_01645.meta\n",
      "Saved :data\\Helipad_Dataset_meta\\Helipad_Dataset_meta_original\\Folder_016\\Helipad_01646.meta\n",
      "Saved :data\\Helipad_Dataset_meta\\Helipad_Dataset_meta_original\\Folder_016\\Helipad_01647.meta\n",
      "Saved :data\\Helipad_Dataset_meta\\Helipad_Dataset_meta_original\\Folder_016\\Helipad_01648.meta\n",
      "Saved :data\\Helipad_Dataset_meta\\Helipad_Dataset_meta_original\\Folder_016\\Helipad_01649.meta\n",
      "Saved :data\\Helipad_Dataset_meta\\Helipad_Dataset_meta_original\\Folder_016\\Helipad_01650.meta\n",
      "Saved :data\\Helipad_Dataset_meta\\Helipad_Dataset_meta_original\\Folder_016\\Helipad_01651.meta\n",
      "Saved :data\\Helipad_Dataset_meta\\Helipad_Dataset_meta_original\\Folder_016\\Helipad_01652.meta\n",
      "Saved :data\\Helipad_Dataset_meta\\Helipad_Dataset_meta_original\\Folder_016\\Helipad_01653.meta\n",
      "Saved :data\\Helipad_Dataset_meta\\Helipad_Dataset_meta_original\\Folder_016\\Helipad_01654.meta\n",
      "Saved :data\\Helipad_Dataset_meta\\Helipad_Dataset_meta_original\\Folder_016\\Helipad_01655.meta\n",
      "Saved :data\\Helipad_Dataset_meta\\Helipad_Dataset_meta_original\\Folder_016\\Helipad_01656.meta\n",
      "Saved :data\\Helipad_Dataset_meta\\Helipad_Dataset_meta_original\\Folder_016\\Helipad_01657.meta\n",
      "Saved :data\\Helipad_Dataset_meta\\Helipad_Dataset_meta_original\\Folder_016\\Helipad_01658.meta\n",
      "Saved :data\\Helipad_Dataset_meta\\Helipad_Dataset_meta_original\\Folder_016\\Helipad_01659.meta\n",
      "Saved :data\\Helipad_Dataset_meta\\Helipad_Dataset_meta_original\\Folder_016\\Helipad_01660.meta\n",
      "Saved :data\\Helipad_Dataset_meta\\Helipad_Dataset_meta_original\\Folder_016\\Helipad_01661.meta\n",
      "Saved :data\\Helipad_Dataset_meta\\Helipad_Dataset_meta_original\\Folder_016\\Helipad_01662.meta\n",
      "Saved :data\\Helipad_Dataset_meta\\Helipad_Dataset_meta_original\\Folder_016\\Helipad_01663.meta\n",
      "Saved :data\\Helipad_Dataset_meta\\Helipad_Dataset_meta_original\\Folder_016\\Helipad_01664.meta\n",
      "Saved :data\\Helipad_Dataset_meta\\Helipad_Dataset_meta_original\\Folder_016\\Helipad_01665.meta\n",
      "Saved :data\\Helipad_Dataset_meta\\Helipad_Dataset_meta_original\\Folder_016\\Helipad_01666.meta\n",
      "Saved :data\\Helipad_Dataset_meta\\Helipad_Dataset_meta_original\\Folder_016\\Helipad_01667.meta\n",
      "Saved :data\\Helipad_Dataset_meta\\Helipad_Dataset_meta_original\\Folder_016\\Helipad_01668.meta\n",
      "Saved :data\\Helipad_Dataset_meta\\Helipad_Dataset_meta_original\\Folder_016\\Helipad_01669.meta\n",
      "Saved :data\\Helipad_Dataset_meta\\Helipad_Dataset_meta_original\\Folder_016\\Helipad_01670.meta\n",
      "Saved :data\\Helipad_Dataset_meta\\Helipad_Dataset_meta_original\\Folder_016\\Helipad_01671.meta\n",
      "Saved :data\\Helipad_Dataset_meta\\Helipad_Dataset_meta_original\\Folder_016\\Helipad_01672.meta\n",
      "Saved :data\\Helipad_Dataset_meta\\Helipad_Dataset_meta_original\\Folder_016\\Helipad_01673.meta\n",
      "Saved :data\\Helipad_Dataset_meta\\Helipad_Dataset_meta_original\\Folder_016\\Helipad_01674.meta\n",
      "Saved :data\\Helipad_Dataset_meta\\Helipad_Dataset_meta_original\\Folder_016\\Helipad_01675.meta\n",
      "Saved :data\\Helipad_Dataset_meta\\Helipad_Dataset_meta_original\\Folder_016\\Helipad_01676.meta\n",
      "Saved :data\\Helipad_Dataset_meta\\Helipad_Dataset_meta_original\\Folder_016\\Helipad_01677.meta\n",
      "Saved :data\\Helipad_Dataset_meta\\Helipad_Dataset_meta_original\\Folder_016\\Helipad_01678.meta\n",
      "Saved :data\\Helipad_Dataset_meta\\Helipad_Dataset_meta_original\\Folder_016\\Helipad_01679.meta\n",
      "Saved :data\\Helipad_Dataset_meta\\Helipad_Dataset_meta_original\\Folder_016\\Helipad_01680.meta\n",
      "Saved :data\\Helipad_Dataset_meta\\Helipad_Dataset_meta_original\\Folder_016\\Helipad_01681.meta\n",
      "Saved :data\\Helipad_Dataset_meta\\Helipad_Dataset_meta_original\\Folder_016\\Helipad_01682.meta\n",
      "Saved :data\\Helipad_Dataset_meta\\Helipad_Dataset_meta_original\\Folder_016\\Helipad_01683.meta\n",
      "Saved :data\\Helipad_Dataset_meta\\Helipad_Dataset_meta_original\\Folder_016\\Helipad_01684.meta\n",
      "Saved :data\\Helipad_Dataset_meta\\Helipad_Dataset_meta_original\\Folder_016\\Helipad_01685.meta\n",
      "Saved :data\\Helipad_Dataset_meta\\Helipad_Dataset_meta_original\\Folder_016\\Helipad_01686.meta\n",
      "Saved :data\\Helipad_Dataset_meta\\Helipad_Dataset_meta_original\\Folder_016\\Helipad_01687.meta\n",
      "Saved :data\\Helipad_Dataset_meta\\Helipad_Dataset_meta_original\\Folder_016\\Helipad_01688.meta\n",
      "Saved :data\\Helipad_Dataset_meta\\Helipad_Dataset_meta_original\\Folder_016\\Helipad_01689.meta\n",
      "Saved :data\\Helipad_Dataset_meta\\Helipad_Dataset_meta_original\\Folder_016\\Helipad_01690.meta\n",
      "Saved :data\\Helipad_Dataset_meta\\Helipad_Dataset_meta_original\\Folder_016\\Helipad_01691.meta\n",
      "Saved :data\\Helipad_Dataset_meta\\Helipad_Dataset_meta_original\\Folder_016\\Helipad_01692.meta\n",
      "Saved :data\\Helipad_Dataset_meta\\Helipad_Dataset_meta_original\\Folder_016\\Helipad_01693.meta\n",
      "Saved :data\\Helipad_Dataset_meta\\Helipad_Dataset_meta_original\\Folder_016\\Helipad_01694.meta\n",
      "Saved :data\\Helipad_Dataset_meta\\Helipad_Dataset_meta_original\\Folder_016\\Helipad_01695.meta\n",
      "Saved :data\\Helipad_Dataset_meta\\Helipad_Dataset_meta_original\\Folder_016\\Helipad_01696.meta\n",
      "Saved :data\\Helipad_Dataset_meta\\Helipad_Dataset_meta_original\\Folder_016\\Helipad_01697.meta\n",
      "Saved :data\\Helipad_Dataset_meta\\Helipad_Dataset_meta_original\\Folder_016\\Helipad_01698.meta\n",
      "Saved :data\\Helipad_Dataset_meta\\Helipad_Dataset_meta_original\\Folder_016\\Helipad_01699.meta\n",
      "Saved :data\\Helipad_Dataset_meta\\Helipad_Dataset_meta_original\\Folder_017\\Helipad_01700.meta\n",
      "Saved :data\\Helipad_Dataset_meta\\Helipad_Dataset_meta_original\\Folder_017\\Helipad_01701.meta\n",
      "Saved :data\\Helipad_Dataset_meta\\Helipad_Dataset_meta_original\\Folder_017\\Helipad_01702.meta\n",
      "Saved :data\\Helipad_Dataset_meta\\Helipad_Dataset_meta_original\\Folder_017\\Helipad_01703.meta\n",
      "Saved :data\\Helipad_Dataset_meta\\Helipad_Dataset_meta_original\\Folder_017\\Helipad_01704.meta\n",
      "Saved :data\\Helipad_Dataset_meta\\Helipad_Dataset_meta_original\\Folder_017\\Helipad_01705.meta\n",
      "Saved :data\\Helipad_Dataset_meta\\Helipad_Dataset_meta_original\\Folder_017\\Helipad_01706.meta\n",
      "Saved :data\\Helipad_Dataset_meta\\Helipad_Dataset_meta_original\\Folder_017\\Helipad_01707.meta\n",
      "Saved :data\\Helipad_Dataset_meta\\Helipad_Dataset_meta_original\\Folder_017\\Helipad_01708.meta\n",
      "Saved :data\\Helipad_Dataset_meta\\Helipad_Dataset_meta_original\\Folder_017\\Helipad_01709.meta\n",
      "Saved :data\\Helipad_Dataset_meta\\Helipad_Dataset_meta_original\\Folder_017\\Helipad_01710.meta\n",
      "Saved :data\\Helipad_Dataset_meta\\Helipad_Dataset_meta_original\\Folder_017\\Helipad_01711.meta\n",
      "Saved :data\\Helipad_Dataset_meta\\Helipad_Dataset_meta_original\\Folder_017\\Helipad_01712.meta\n",
      "Saved :data\\Helipad_Dataset_meta\\Helipad_Dataset_meta_original\\Folder_017\\Helipad_01713.meta\n",
      "Saved :data\\Helipad_Dataset_meta\\Helipad_Dataset_meta_original\\Folder_017\\Helipad_01714.meta\n",
      "Saved :data\\Helipad_Dataset_meta\\Helipad_Dataset_meta_original\\Folder_017\\Helipad_01715.meta\n",
      "Saved :data\\Helipad_Dataset_meta\\Helipad_Dataset_meta_original\\Folder_017\\Helipad_01716.meta\n",
      "Saved :data\\Helipad_Dataset_meta\\Helipad_Dataset_meta_original\\Folder_017\\Helipad_01717.meta\n",
      "Saved :data\\Helipad_Dataset_meta\\Helipad_Dataset_meta_original\\Folder_017\\Helipad_01718.meta\n",
      "Saved :data\\Helipad_Dataset_meta\\Helipad_Dataset_meta_original\\Folder_017\\Helipad_01719.meta\n",
      "Saved :data\\Helipad_Dataset_meta\\Helipad_Dataset_meta_original\\Folder_017\\Helipad_01720.meta\n",
      "Saved :data\\Helipad_Dataset_meta\\Helipad_Dataset_meta_original\\Folder_017\\Helipad_01721.meta\n",
      "Saved :data\\Helipad_Dataset_meta\\Helipad_Dataset_meta_original\\Folder_017\\Helipad_01722.meta\n",
      "Saved :data\\Helipad_Dataset_meta\\Helipad_Dataset_meta_original\\Folder_017\\Helipad_01723.meta\n",
      "Saved :data\\Helipad_Dataset_meta\\Helipad_Dataset_meta_original\\Folder_017\\Helipad_01724.meta\n",
      "Saved :data\\Helipad_Dataset_meta\\Helipad_Dataset_meta_original\\Folder_017\\Helipad_01725.meta\n",
      "Saved :data\\Helipad_Dataset_meta\\Helipad_Dataset_meta_original\\Folder_017\\Helipad_01726.meta\n",
      "Saved :data\\Helipad_Dataset_meta\\Helipad_Dataset_meta_original\\Folder_017\\Helipad_01727.meta\n",
      "Saved :data\\Helipad_Dataset_meta\\Helipad_Dataset_meta_original\\Folder_017\\Helipad_01728.meta\n",
      "Saved :data\\Helipad_Dataset_meta\\Helipad_Dataset_meta_original\\Folder_017\\Helipad_01729.meta\n",
      "Saved :data\\Helipad_Dataset_meta\\Helipad_Dataset_meta_original\\Folder_017\\Helipad_01730.meta\n",
      "Saved :data\\Helipad_Dataset_meta\\Helipad_Dataset_meta_original\\Folder_017\\Helipad_01731.meta\n",
      "Saved :data\\Helipad_Dataset_meta\\Helipad_Dataset_meta_original\\Folder_017\\Helipad_01732.meta\n",
      "Saved :data\\Helipad_Dataset_meta\\Helipad_Dataset_meta_original\\Folder_017\\Helipad_01733.meta\n",
      "Saved :data\\Helipad_Dataset_meta\\Helipad_Dataset_meta_original\\Folder_017\\Helipad_01734.meta\n",
      "Saved :data\\Helipad_Dataset_meta\\Helipad_Dataset_meta_original\\Folder_017\\Helipad_01735.meta\n",
      "Saved :data\\Helipad_Dataset_meta\\Helipad_Dataset_meta_original\\Folder_017\\Helipad_01736.meta\n",
      "Saved :data\\Helipad_Dataset_meta\\Helipad_Dataset_meta_original\\Folder_017\\Helipad_01737.meta\n",
      "Saved :data\\Helipad_Dataset_meta\\Helipad_Dataset_meta_original\\Folder_017\\Helipad_01738.meta\n",
      "Saved :data\\Helipad_Dataset_meta\\Helipad_Dataset_meta_original\\Folder_017\\Helipad_01739.meta\n",
      "Saved :data\\Helipad_Dataset_meta\\Helipad_Dataset_meta_original\\Folder_017\\Helipad_01740.meta\n",
      "Saved :data\\Helipad_Dataset_meta\\Helipad_Dataset_meta_original\\Folder_017\\Helipad_01741.meta\n",
      "Saved :data\\Helipad_Dataset_meta\\Helipad_Dataset_meta_original\\Folder_017\\Helipad_01742.meta\n",
      "Saved :data\\Helipad_Dataset_meta\\Helipad_Dataset_meta_original\\Folder_017\\Helipad_01743.meta\n",
      "Saved :data\\Helipad_Dataset_meta\\Helipad_Dataset_meta_original\\Folder_017\\Helipad_01744.meta\n",
      "Saved :data\\Helipad_Dataset_meta\\Helipad_Dataset_meta_original\\Folder_017\\Helipad_01745.meta\n",
      "Saved :data\\Helipad_Dataset_meta\\Helipad_Dataset_meta_original\\Folder_017\\Helipad_01746.meta\n",
      "Saved :data\\Helipad_Dataset_meta\\Helipad_Dataset_meta_original\\Folder_017\\Helipad_01747.meta\n",
      "Saved :data\\Helipad_Dataset_meta\\Helipad_Dataset_meta_original\\Folder_017\\Helipad_01748.meta\n",
      "Saved :data\\Helipad_Dataset_meta\\Helipad_Dataset_meta_original\\Folder_017\\Helipad_01749.meta\n",
      "Saved :data\\Helipad_Dataset_meta\\Helipad_Dataset_meta_original\\Folder_017\\Helipad_01750.meta\n",
      "Saved :data\\Helipad_Dataset_meta\\Helipad_Dataset_meta_original\\Folder_017\\Helipad_01751.meta\n",
      "Saved :data\\Helipad_Dataset_meta\\Helipad_Dataset_meta_original\\Folder_017\\Helipad_01752.meta\n",
      "Saved :data\\Helipad_Dataset_meta\\Helipad_Dataset_meta_original\\Folder_017\\Helipad_01753.meta\n",
      "Saved :data\\Helipad_Dataset_meta\\Helipad_Dataset_meta_original\\Folder_017\\Helipad_01754.meta\n",
      "Saved :data\\Helipad_Dataset_meta\\Helipad_Dataset_meta_original\\Folder_017\\Helipad_01755.meta\n",
      "Saved :data\\Helipad_Dataset_meta\\Helipad_Dataset_meta_original\\Folder_017\\Helipad_01756.meta\n",
      "Saved :data\\Helipad_Dataset_meta\\Helipad_Dataset_meta_original\\Folder_017\\Helipad_01757.meta\n",
      "Saved :data\\Helipad_Dataset_meta\\Helipad_Dataset_meta_original\\Folder_017\\Helipad_01758.meta\n",
      "Saved :data\\Helipad_Dataset_meta\\Helipad_Dataset_meta_original\\Folder_017\\Helipad_01759.meta\n",
      "Saved :data\\Helipad_Dataset_meta\\Helipad_Dataset_meta_original\\Folder_017\\Helipad_01760.meta\n",
      "Saved :data\\Helipad_Dataset_meta\\Helipad_Dataset_meta_original\\Folder_017\\Helipad_01761.meta\n",
      "Saved :data\\Helipad_Dataset_meta\\Helipad_Dataset_meta_original\\Folder_017\\Helipad_01762.meta\n",
      "Saved :data\\Helipad_Dataset_meta\\Helipad_Dataset_meta_original\\Folder_017\\Helipad_01763.meta\n",
      "Saved :data\\Helipad_Dataset_meta\\Helipad_Dataset_meta_original\\Folder_017\\Helipad_01764.meta\n",
      "Saved :data\\Helipad_Dataset_meta\\Helipad_Dataset_meta_original\\Folder_017\\Helipad_01765.meta\n",
      "Saved :data\\Helipad_Dataset_meta\\Helipad_Dataset_meta_original\\Folder_017\\Helipad_01766.meta\n",
      "Saved :data\\Helipad_Dataset_meta\\Helipad_Dataset_meta_original\\Folder_017\\Helipad_01767.meta\n",
      "Saved :data\\Helipad_Dataset_meta\\Helipad_Dataset_meta_original\\Folder_017\\Helipad_01768.meta\n",
      "Saved :data\\Helipad_Dataset_meta\\Helipad_Dataset_meta_original\\Folder_017\\Helipad_01769.meta\n",
      "Saved :data\\Helipad_Dataset_meta\\Helipad_Dataset_meta_original\\Folder_017\\Helipad_01770.meta\n"
     ]
    },
    {
     "name": "stdout",
     "output_type": "stream",
     "text": [
      "Saved :data\\Helipad_Dataset_meta\\Helipad_Dataset_meta_original\\Folder_017\\Helipad_01771.meta\n",
      "Saved :data\\Helipad_Dataset_meta\\Helipad_Dataset_meta_original\\Folder_017\\Helipad_01772.meta\n",
      "Saved :data\\Helipad_Dataset_meta\\Helipad_Dataset_meta_original\\Folder_017\\Helipad_01773.meta\n",
      "Saved :data\\Helipad_Dataset_meta\\Helipad_Dataset_meta_original\\Folder_017\\Helipad_01774.meta\n",
      "Saved :data\\Helipad_Dataset_meta\\Helipad_Dataset_meta_original\\Folder_017\\Helipad_01775.meta\n",
      "Saved :data\\Helipad_Dataset_meta\\Helipad_Dataset_meta_original\\Folder_017\\Helipad_01776.meta\n",
      "Saved :data\\Helipad_Dataset_meta\\Helipad_Dataset_meta_original\\Folder_017\\Helipad_01777.meta\n",
      "Saved :data\\Helipad_Dataset_meta\\Helipad_Dataset_meta_original\\Folder_017\\Helipad_01778.meta\n",
      "Saved :data\\Helipad_Dataset_meta\\Helipad_Dataset_meta_original\\Folder_017\\Helipad_01779.meta\n",
      "Saved :data\\Helipad_Dataset_meta\\Helipad_Dataset_meta_original\\Folder_017\\Helipad_01780.meta\n",
      "Saved :data\\Helipad_Dataset_meta\\Helipad_Dataset_meta_original\\Folder_017\\Helipad_01781.meta\n",
      "Saved :data\\Helipad_Dataset_meta\\Helipad_Dataset_meta_original\\Folder_017\\Helipad_01782.meta\n",
      "Saved :data\\Helipad_Dataset_meta\\Helipad_Dataset_meta_original\\Folder_017\\Helipad_01783.meta\n",
      "Saved :data\\Helipad_Dataset_meta\\Helipad_Dataset_meta_original\\Folder_017\\Helipad_01784.meta\n",
      "Saved :data\\Helipad_Dataset_meta\\Helipad_Dataset_meta_original\\Folder_017\\Helipad_01785.meta\n",
      "Saved :data\\Helipad_Dataset_meta\\Helipad_Dataset_meta_original\\Folder_017\\Helipad_01786.meta\n",
      "Saved :data\\Helipad_Dataset_meta\\Helipad_Dataset_meta_original\\Folder_017\\Helipad_01787.meta\n",
      "Saved :data\\Helipad_Dataset_meta\\Helipad_Dataset_meta_original\\Folder_017\\Helipad_01788.meta\n",
      "Saved :data\\Helipad_Dataset_meta\\Helipad_Dataset_meta_original\\Folder_017\\Helipad_01789.meta\n",
      "Saved :data\\Helipad_Dataset_meta\\Helipad_Dataset_meta_original\\Folder_017\\Helipad_01790.meta\n",
      "Saved :data\\Helipad_Dataset_meta\\Helipad_Dataset_meta_original\\Folder_017\\Helipad_01791.meta\n",
      "Saved :data\\Helipad_Dataset_meta\\Helipad_Dataset_meta_original\\Folder_017\\Helipad_01792.meta\n",
      "Saved :data\\Helipad_Dataset_meta\\Helipad_Dataset_meta_original\\Folder_017\\Helipad_01793.meta\n",
      "Saved :data\\Helipad_Dataset_meta\\Helipad_Dataset_meta_original\\Folder_017\\Helipad_01794.meta\n",
      "Saved :data\\Helipad_Dataset_meta\\Helipad_Dataset_meta_original\\Folder_017\\Helipad_01795.meta\n",
      "Saved :data\\Helipad_Dataset_meta\\Helipad_Dataset_meta_original\\Folder_017\\Helipad_01796.meta\n",
      "Saved :data\\Helipad_Dataset_meta\\Helipad_Dataset_meta_original\\Folder_017\\Helipad_01797.meta\n",
      "Saved :data\\Helipad_Dataset_meta\\Helipad_Dataset_meta_original\\Folder_017\\Helipad_01798.meta\n",
      "Saved :data\\Helipad_Dataset_meta\\Helipad_Dataset_meta_original\\Folder_017\\Helipad_01799.meta\n",
      "Saved :data\\Helipad_Dataset_meta\\Helipad_Dataset_meta_original\\Folder_018\\Helipad_01800.meta\n",
      "Saved :data\\Helipad_Dataset_meta\\Helipad_Dataset_meta_original\\Folder_018\\Helipad_01801.meta\n",
      "Saved :data\\Helipad_Dataset_meta\\Helipad_Dataset_meta_original\\Folder_018\\Helipad_01802.meta\n",
      "Saved :data\\Helipad_Dataset_meta\\Helipad_Dataset_meta_original\\Folder_018\\Helipad_01803.meta\n",
      "Saved :data\\Helipad_Dataset_meta\\Helipad_Dataset_meta_original\\Folder_018\\Helipad_01804.meta\n",
      "Saved :data\\Helipad_Dataset_meta\\Helipad_Dataset_meta_original\\Folder_018\\Helipad_01805.meta\n",
      "Saved :data\\Helipad_Dataset_meta\\Helipad_Dataset_meta_original\\Folder_018\\Helipad_01806.meta\n",
      "Saved :data\\Helipad_Dataset_meta\\Helipad_Dataset_meta_original\\Folder_018\\Helipad_01807.meta\n",
      "Saved :data\\Helipad_Dataset_meta\\Helipad_Dataset_meta_original\\Folder_018\\Helipad_01808.meta\n",
      "Saved :data\\Helipad_Dataset_meta\\Helipad_Dataset_meta_original\\Folder_018\\Helipad_01809.meta\n",
      "Saved :data\\Helipad_Dataset_meta\\Helipad_Dataset_meta_original\\Folder_018\\Helipad_01810.meta\n",
      "Saved :data\\Helipad_Dataset_meta\\Helipad_Dataset_meta_original\\Folder_018\\Helipad_01811.meta\n",
      "Saved :data\\Helipad_Dataset_meta\\Helipad_Dataset_meta_original\\Folder_018\\Helipad_01812.meta\n",
      "Saved :data\\Helipad_Dataset_meta\\Helipad_Dataset_meta_original\\Folder_018\\Helipad_01813.meta\n",
      "Saved :data\\Helipad_Dataset_meta\\Helipad_Dataset_meta_original\\Folder_018\\Helipad_01814.meta\n",
      "Saved :data\\Helipad_Dataset_meta\\Helipad_Dataset_meta_original\\Folder_018\\Helipad_01815.meta\n",
      "Saved :data\\Helipad_Dataset_meta\\Helipad_Dataset_meta_original\\Folder_018\\Helipad_01816.meta\n",
      "Saved :data\\Helipad_Dataset_meta\\Helipad_Dataset_meta_original\\Folder_018\\Helipad_01817.meta\n",
      "Saved :data\\Helipad_Dataset_meta\\Helipad_Dataset_meta_original\\Folder_018\\Helipad_01818.meta\n",
      "Saved :data\\Helipad_Dataset_meta\\Helipad_Dataset_meta_original\\Folder_018\\Helipad_01819.meta\n",
      "Saved :data\\Helipad_Dataset_meta\\Helipad_Dataset_meta_original\\Folder_018\\Helipad_01820.meta\n",
      "Saved :data\\Helipad_Dataset_meta\\Helipad_Dataset_meta_original\\Folder_018\\Helipad_01821.meta\n",
      "Saved :data\\Helipad_Dataset_meta\\Helipad_Dataset_meta_original\\Folder_018\\Helipad_01822.meta\n",
      "Saved :data\\Helipad_Dataset_meta\\Helipad_Dataset_meta_original\\Folder_018\\Helipad_01823.meta\n",
      "Saved :data\\Helipad_Dataset_meta\\Helipad_Dataset_meta_original\\Folder_018\\Helipad_01824.meta\n",
      "Saved :data\\Helipad_Dataset_meta\\Helipad_Dataset_meta_original\\Folder_018\\Helipad_01825.meta\n",
      "Saved :data\\Helipad_Dataset_meta\\Helipad_Dataset_meta_original\\Folder_018\\Helipad_01826.meta\n",
      "Saved :data\\Helipad_Dataset_meta\\Helipad_Dataset_meta_original\\Folder_018\\Helipad_01827.meta\n",
      "Saved :data\\Helipad_Dataset_meta\\Helipad_Dataset_meta_original\\Folder_018\\Helipad_01828.meta\n",
      "Saved :data\\Helipad_Dataset_meta\\Helipad_Dataset_meta_original\\Folder_018\\Helipad_01829.meta\n",
      "Saved :data\\Helipad_Dataset_meta\\Helipad_Dataset_meta_original\\Folder_018\\Helipad_01830.meta\n",
      "Saved :data\\Helipad_Dataset_meta\\Helipad_Dataset_meta_original\\Folder_018\\Helipad_01831.meta\n",
      "Saved :data\\Helipad_Dataset_meta\\Helipad_Dataset_meta_original\\Folder_018\\Helipad_01832.meta\n",
      "Saved :data\\Helipad_Dataset_meta\\Helipad_Dataset_meta_original\\Folder_018\\Helipad_01833.meta\n",
      "Saved :data\\Helipad_Dataset_meta\\Helipad_Dataset_meta_original\\Folder_018\\Helipad_01834.meta\n",
      "Saved :data\\Helipad_Dataset_meta\\Helipad_Dataset_meta_original\\Folder_018\\Helipad_01835.meta\n",
      "Saved :data\\Helipad_Dataset_meta\\Helipad_Dataset_meta_original\\Folder_018\\Helipad_01836.meta\n",
      "Saved :data\\Helipad_Dataset_meta\\Helipad_Dataset_meta_original\\Folder_018\\Helipad_01837.meta\n",
      "Saved :data\\Helipad_Dataset_meta\\Helipad_Dataset_meta_original\\Folder_018\\Helipad_01838.meta\n",
      "Saved :data\\Helipad_Dataset_meta\\Helipad_Dataset_meta_original\\Folder_018\\Helipad_01839.meta\n",
      "Saved :data\\Helipad_Dataset_meta\\Helipad_Dataset_meta_original\\Folder_018\\Helipad_01840.meta\n",
      "Saved :data\\Helipad_Dataset_meta\\Helipad_Dataset_meta_original\\Folder_018\\Helipad_01841.meta\n",
      "Saved :data\\Helipad_Dataset_meta\\Helipad_Dataset_meta_original\\Folder_018\\Helipad_01842.meta\n",
      "Saved :data\\Helipad_Dataset_meta\\Helipad_Dataset_meta_original\\Folder_018\\Helipad_01843.meta\n",
      "Saved :data\\Helipad_Dataset_meta\\Helipad_Dataset_meta_original\\Folder_018\\Helipad_01844.meta\n",
      "Saved :data\\Helipad_Dataset_meta\\Helipad_Dataset_meta_original\\Folder_018\\Helipad_01845.meta\n",
      "Saved :data\\Helipad_Dataset_meta\\Helipad_Dataset_meta_original\\Folder_018\\Helipad_01846.meta\n",
      "Saved :data\\Helipad_Dataset_meta\\Helipad_Dataset_meta_original\\Folder_018\\Helipad_01847.meta\n",
      "Saved :data\\Helipad_Dataset_meta\\Helipad_Dataset_meta_original\\Folder_018\\Helipad_01848.meta\n",
      "Saved :data\\Helipad_Dataset_meta\\Helipad_Dataset_meta_original\\Folder_018\\Helipad_01849.meta\n",
      "Saved :data\\Helipad_Dataset_meta\\Helipad_Dataset_meta_original\\Folder_018\\Helipad_01850.meta\n",
      "Saved :data\\Helipad_Dataset_meta\\Helipad_Dataset_meta_original\\Folder_018\\Helipad_01851.meta\n",
      "Saved :data\\Helipad_Dataset_meta\\Helipad_Dataset_meta_original\\Folder_018\\Helipad_01852.meta\n",
      "Saved :data\\Helipad_Dataset_meta\\Helipad_Dataset_meta_original\\Folder_018\\Helipad_01853.meta\n",
      "Saved :data\\Helipad_Dataset_meta\\Helipad_Dataset_meta_original\\Folder_018\\Helipad_01854.meta\n",
      "Saved :data\\Helipad_Dataset_meta\\Helipad_Dataset_meta_original\\Folder_018\\Helipad_01855.meta\n",
      "Saved :data\\Helipad_Dataset_meta\\Helipad_Dataset_meta_original\\Folder_018\\Helipad_01856.meta\n",
      "Saved :data\\Helipad_Dataset_meta\\Helipad_Dataset_meta_original\\Folder_018\\Helipad_01857.meta\n",
      "Saved :data\\Helipad_Dataset_meta\\Helipad_Dataset_meta_original\\Folder_018\\Helipad_01858.meta\n",
      "Saved :data\\Helipad_Dataset_meta\\Helipad_Dataset_meta_original\\Folder_018\\Helipad_01859.meta\n",
      "Saved :data\\Helipad_Dataset_meta\\Helipad_Dataset_meta_original\\Folder_018\\Helipad_01860.meta\n",
      "Saved :data\\Helipad_Dataset_meta\\Helipad_Dataset_meta_original\\Folder_018\\Helipad_01861.meta\n",
      "Saved :data\\Helipad_Dataset_meta\\Helipad_Dataset_meta_original\\Folder_018\\Helipad_01862.meta\n",
      "Saved :data\\Helipad_Dataset_meta\\Helipad_Dataset_meta_original\\Folder_018\\Helipad_01863.meta\n",
      "Saved :data\\Helipad_Dataset_meta\\Helipad_Dataset_meta_original\\Folder_018\\Helipad_01864.meta\n",
      "Saved :data\\Helipad_Dataset_meta\\Helipad_Dataset_meta_original\\Folder_018\\Helipad_01865.meta\n",
      "Saved :data\\Helipad_Dataset_meta\\Helipad_Dataset_meta_original\\Folder_018\\Helipad_01866.meta\n",
      "Saved :data\\Helipad_Dataset_meta\\Helipad_Dataset_meta_original\\Folder_018\\Helipad_01867.meta\n",
      "Saved :data\\Helipad_Dataset_meta\\Helipad_Dataset_meta_original\\Folder_018\\Helipad_01868.meta\n",
      "Saved :data\\Helipad_Dataset_meta\\Helipad_Dataset_meta_original\\Folder_018\\Helipad_01869.meta\n",
      "Saved :data\\Helipad_Dataset_meta\\Helipad_Dataset_meta_original\\Folder_018\\Helipad_01870.meta\n",
      "Saved :data\\Helipad_Dataset_meta\\Helipad_Dataset_meta_original\\Folder_018\\Helipad_01871.meta\n",
      "Saved :data\\Helipad_Dataset_meta\\Helipad_Dataset_meta_original\\Folder_018\\Helipad_01872.meta\n",
      "Saved :data\\Helipad_Dataset_meta\\Helipad_Dataset_meta_original\\Folder_018\\Helipad_01873.meta\n",
      "Saved :data\\Helipad_Dataset_meta\\Helipad_Dataset_meta_original\\Folder_018\\Helipad_01874.meta\n",
      "Saved :data\\Helipad_Dataset_meta\\Helipad_Dataset_meta_original\\Folder_018\\Helipad_01875.meta\n",
      "Saved :data\\Helipad_Dataset_meta\\Helipad_Dataset_meta_original\\Folder_018\\Helipad_01876.meta\n",
      "Saved :data\\Helipad_Dataset_meta\\Helipad_Dataset_meta_original\\Folder_018\\Helipad_01877.meta\n",
      "Saved :data\\Helipad_Dataset_meta\\Helipad_Dataset_meta_original\\Folder_018\\Helipad_01878.meta\n",
      "Saved :data\\Helipad_Dataset_meta\\Helipad_Dataset_meta_original\\Folder_018\\Helipad_01879.meta\n",
      "Saved :data\\Helipad_Dataset_meta\\Helipad_Dataset_meta_original\\Folder_018\\Helipad_01880.meta\n",
      "Saved :data\\Helipad_Dataset_meta\\Helipad_Dataset_meta_original\\Folder_018\\Helipad_01881.meta\n",
      "Saved :data\\Helipad_Dataset_meta\\Helipad_Dataset_meta_original\\Folder_018\\Helipad_01882.meta\n",
      "Saved :data\\Helipad_Dataset_meta\\Helipad_Dataset_meta_original\\Folder_018\\Helipad_01883.meta\n",
      "Saved :data\\Helipad_Dataset_meta\\Helipad_Dataset_meta_original\\Folder_018\\Helipad_01884.meta\n",
      "Saved :data\\Helipad_Dataset_meta\\Helipad_Dataset_meta_original\\Folder_018\\Helipad_01885.meta\n",
      "Saved :data\\Helipad_Dataset_meta\\Helipad_Dataset_meta_original\\Folder_018\\Helipad_01886.meta\n",
      "Saved :data\\Helipad_Dataset_meta\\Helipad_Dataset_meta_original\\Folder_018\\Helipad_01887.meta\n",
      "Saved :data\\Helipad_Dataset_meta\\Helipad_Dataset_meta_original\\Folder_018\\Helipad_01888.meta\n",
      "Saved :data\\Helipad_Dataset_meta\\Helipad_Dataset_meta_original\\Folder_018\\Helipad_01889.meta\n",
      "Saved :data\\Helipad_Dataset_meta\\Helipad_Dataset_meta_original\\Folder_018\\Helipad_01890.meta\n",
      "Saved :data\\Helipad_Dataset_meta\\Helipad_Dataset_meta_original\\Folder_018\\Helipad_01891.meta\n",
      "Saved :data\\Helipad_Dataset_meta\\Helipad_Dataset_meta_original\\Folder_018\\Helipad_01892.meta\n",
      "Saved :data\\Helipad_Dataset_meta\\Helipad_Dataset_meta_original\\Folder_018\\Helipad_01893.meta\n",
      "Saved :data\\Helipad_Dataset_meta\\Helipad_Dataset_meta_original\\Folder_018\\Helipad_01894.meta\n",
      "Saved :data\\Helipad_Dataset_meta\\Helipad_Dataset_meta_original\\Folder_018\\Helipad_01895.meta\n",
      "Saved :data\\Helipad_Dataset_meta\\Helipad_Dataset_meta_original\\Folder_018\\Helipad_01896.meta\n",
      "Saved :data\\Helipad_Dataset_meta\\Helipad_Dataset_meta_original\\Folder_018\\Helipad_01897.meta\n",
      "Saved :data\\Helipad_Dataset_meta\\Helipad_Dataset_meta_original\\Folder_018\\Helipad_01898.meta\n",
      "Saved :data\\Helipad_Dataset_meta\\Helipad_Dataset_meta_original\\Folder_018\\Helipad_01899.meta\n",
      "Saved :data\\Helipad_Dataset_meta\\Helipad_Dataset_meta_original\\Folder_019\\Helipad_01900.meta\n",
      "Saved :data\\Helipad_Dataset_meta\\Helipad_Dataset_meta_original\\Folder_019\\Helipad_01901.meta\n",
      "Saved :data\\Helipad_Dataset_meta\\Helipad_Dataset_meta_original\\Folder_019\\Helipad_01902.meta\n",
      "Saved :data\\Helipad_Dataset_meta\\Helipad_Dataset_meta_original\\Folder_019\\Helipad_01903.meta\n",
      "Saved :data\\Helipad_Dataset_meta\\Helipad_Dataset_meta_original\\Folder_019\\Helipad_01904.meta\n",
      "Saved :data\\Helipad_Dataset_meta\\Helipad_Dataset_meta_original\\Folder_019\\Helipad_01905.meta\n",
      "Saved :data\\Helipad_Dataset_meta\\Helipad_Dataset_meta_original\\Folder_019\\Helipad_01906.meta\n",
      "Saved :data\\Helipad_Dataset_meta\\Helipad_Dataset_meta_original\\Folder_019\\Helipad_01907.meta\n",
      "Saved :data\\Helipad_Dataset_meta\\Helipad_Dataset_meta_original\\Folder_019\\Helipad_01908.meta\n",
      "Saved :data\\Helipad_Dataset_meta\\Helipad_Dataset_meta_original\\Folder_019\\Helipad_01909.meta\n",
      "Saved :data\\Helipad_Dataset_meta\\Helipad_Dataset_meta_original\\Folder_019\\Helipad_01910.meta\n",
      "Saved :data\\Helipad_Dataset_meta\\Helipad_Dataset_meta_original\\Folder_019\\Helipad_01911.meta\n",
      "Saved :data\\Helipad_Dataset_meta\\Helipad_Dataset_meta_original\\Folder_019\\Helipad_01912.meta\n",
      "Saved :data\\Helipad_Dataset_meta\\Helipad_Dataset_meta_original\\Folder_019\\Helipad_01913.meta\n",
      "Saved :data\\Helipad_Dataset_meta\\Helipad_Dataset_meta_original\\Folder_019\\Helipad_01914.meta\n",
      "Saved :data\\Helipad_Dataset_meta\\Helipad_Dataset_meta_original\\Folder_019\\Helipad_01915.meta\n",
      "Saved :data\\Helipad_Dataset_meta\\Helipad_Dataset_meta_original\\Folder_019\\Helipad_01916.meta\n",
      "Saved :data\\Helipad_Dataset_meta\\Helipad_Dataset_meta_original\\Folder_019\\Helipad_01917.meta\n",
      "Saved :data\\Helipad_Dataset_meta\\Helipad_Dataset_meta_original\\Folder_019\\Helipad_01918.meta\n",
      "Saved :data\\Helipad_Dataset_meta\\Helipad_Dataset_meta_original\\Folder_019\\Helipad_01919.meta\n",
      "Saved :data\\Helipad_Dataset_meta\\Helipad_Dataset_meta_original\\Folder_019\\Helipad_01920.meta\n",
      "Saved :data\\Helipad_Dataset_meta\\Helipad_Dataset_meta_original\\Folder_019\\Helipad_01921.meta\n",
      "Saved :data\\Helipad_Dataset_meta\\Helipad_Dataset_meta_original\\Folder_019\\Helipad_01922.meta\n",
      "Saved :data\\Helipad_Dataset_meta\\Helipad_Dataset_meta_original\\Folder_019\\Helipad_01923.meta\n",
      "Saved :data\\Helipad_Dataset_meta\\Helipad_Dataset_meta_original\\Folder_019\\Helipad_01924.meta\n",
      "Saved :data\\Helipad_Dataset_meta\\Helipad_Dataset_meta_original\\Folder_019\\Helipad_01925.meta\n",
      "Saved :data\\Helipad_Dataset_meta\\Helipad_Dataset_meta_original\\Folder_019\\Helipad_01926.meta\n",
      "Saved :data\\Helipad_Dataset_meta\\Helipad_Dataset_meta_original\\Folder_019\\Helipad_01927.meta\n",
      "Saved :data\\Helipad_Dataset_meta\\Helipad_Dataset_meta_original\\Folder_019\\Helipad_01928.meta\n"
     ]
    },
    {
     "name": "stdout",
     "output_type": "stream",
     "text": [
      "Saved :data\\Helipad_Dataset_meta\\Helipad_Dataset_meta_original\\Folder_019\\Helipad_01929.meta\n",
      "Saved :data\\Helipad_Dataset_meta\\Helipad_Dataset_meta_original\\Folder_019\\Helipad_01930.meta\n",
      "Saved :data\\Helipad_Dataset_meta\\Helipad_Dataset_meta_original\\Folder_019\\Helipad_01931.meta\n",
      "Saved :data\\Helipad_Dataset_meta\\Helipad_Dataset_meta_original\\Folder_019\\Helipad_01932.meta\n",
      "Saved :data\\Helipad_Dataset_meta\\Helipad_Dataset_meta_original\\Folder_019\\Helipad_01933.meta\n",
      "Saved :data\\Helipad_Dataset_meta\\Helipad_Dataset_meta_original\\Folder_019\\Helipad_01934.meta\n",
      "Saved :data\\Helipad_Dataset_meta\\Helipad_Dataset_meta_original\\Folder_019\\Helipad_01935.meta\n",
      "Saved :data\\Helipad_Dataset_meta\\Helipad_Dataset_meta_original\\Folder_019\\Helipad_01936.meta\n",
      "Saved :data\\Helipad_Dataset_meta\\Helipad_Dataset_meta_original\\Folder_019\\Helipad_01937.meta\n",
      "Saved :data\\Helipad_Dataset_meta\\Helipad_Dataset_meta_original\\Folder_019\\Helipad_01938.meta\n",
      "Saved :data\\Helipad_Dataset_meta\\Helipad_Dataset_meta_original\\Folder_019\\Helipad_01939.meta\n",
      "Saved :data\\Helipad_Dataset_meta\\Helipad_Dataset_meta_original\\Folder_019\\Helipad_01940.meta\n",
      "Saved :data\\Helipad_Dataset_meta\\Helipad_Dataset_meta_original\\Folder_019\\Helipad_01941.meta\n",
      "Saved :data\\Helipad_Dataset_meta\\Helipad_Dataset_meta_original\\Folder_019\\Helipad_01942.meta\n",
      "Saved :data\\Helipad_Dataset_meta\\Helipad_Dataset_meta_original\\Folder_019\\Helipad_01943.meta\n",
      "Saved :data\\Helipad_Dataset_meta\\Helipad_Dataset_meta_original\\Folder_019\\Helipad_01944.meta\n",
      "Saved :data\\Helipad_Dataset_meta\\Helipad_Dataset_meta_original\\Folder_019\\Helipad_01945.meta\n",
      "Saved :data\\Helipad_Dataset_meta\\Helipad_Dataset_meta_original\\Folder_019\\Helipad_01946.meta\n",
      "Saved :data\\Helipad_Dataset_meta\\Helipad_Dataset_meta_original\\Folder_019\\Helipad_01947.meta\n",
      "Saved :data\\Helipad_Dataset_meta\\Helipad_Dataset_meta_original\\Folder_019\\Helipad_01948.meta\n",
      "Saved :data\\Helipad_Dataset_meta\\Helipad_Dataset_meta_original\\Folder_019\\Helipad_01949.meta\n",
      "Saved :data\\Helipad_Dataset_meta\\Helipad_Dataset_meta_original\\Folder_019\\Helipad_01950.meta\n",
      "Saved :data\\Helipad_Dataset_meta\\Helipad_Dataset_meta_original\\Folder_019\\Helipad_01951.meta\n",
      "Saved :data\\Helipad_Dataset_meta\\Helipad_Dataset_meta_original\\Folder_019\\Helipad_01952.meta\n",
      "Saved :data\\Helipad_Dataset_meta\\Helipad_Dataset_meta_original\\Folder_019\\Helipad_01953.meta\n",
      "Saved :data\\Helipad_Dataset_meta\\Helipad_Dataset_meta_original\\Folder_019\\Helipad_01954.meta\n",
      "Saved :data\\Helipad_Dataset_meta\\Helipad_Dataset_meta_original\\Folder_019\\Helipad_01955.meta\n",
      "Saved :data\\Helipad_Dataset_meta\\Helipad_Dataset_meta_original\\Folder_019\\Helipad_01956.meta\n",
      "Saved :data\\Helipad_Dataset_meta\\Helipad_Dataset_meta_original\\Folder_019\\Helipad_01957.meta\n",
      "Saved :data\\Helipad_Dataset_meta\\Helipad_Dataset_meta_original\\Folder_019\\Helipad_01958.meta\n",
      "Saved :data\\Helipad_Dataset_meta\\Helipad_Dataset_meta_original\\Folder_019\\Helipad_01959.meta\n",
      "Saved :data\\Helipad_Dataset_meta\\Helipad_Dataset_meta_original\\Folder_019\\Helipad_01960.meta\n",
      "Saved :data\\Helipad_Dataset_meta\\Helipad_Dataset_meta_original\\Folder_019\\Helipad_01961.meta\n",
      "Saved :data\\Helipad_Dataset_meta\\Helipad_Dataset_meta_original\\Folder_019\\Helipad_01962.meta\n",
      "Saved :data\\Helipad_Dataset_meta\\Helipad_Dataset_meta_original\\Folder_019\\Helipad_01963.meta\n",
      "Saved :data\\Helipad_Dataset_meta\\Helipad_Dataset_meta_original\\Folder_019\\Helipad_01964.meta\n",
      "Saved :data\\Helipad_Dataset_meta\\Helipad_Dataset_meta_original\\Folder_019\\Helipad_01965.meta\n",
      "Saved :data\\Helipad_Dataset_meta\\Helipad_Dataset_meta_original\\Folder_019\\Helipad_01966.meta\n",
      "Saved :data\\Helipad_Dataset_meta\\Helipad_Dataset_meta_original\\Folder_019\\Helipad_01967.meta\n",
      "Saved :data\\Helipad_Dataset_meta\\Helipad_Dataset_meta_original\\Folder_019\\Helipad_01968.meta\n",
      "Saved :data\\Helipad_Dataset_meta\\Helipad_Dataset_meta_original\\Folder_019\\Helipad_01969.meta\n",
      "Saved :data\\Helipad_Dataset_meta\\Helipad_Dataset_meta_original\\Folder_019\\Helipad_01970.meta\n",
      "Saved :data\\Helipad_Dataset_meta\\Helipad_Dataset_meta_original\\Folder_019\\Helipad_01971.meta\n",
      "Saved :data\\Helipad_Dataset_meta\\Helipad_Dataset_meta_original\\Folder_019\\Helipad_01972.meta\n",
      "Saved :data\\Helipad_Dataset_meta\\Helipad_Dataset_meta_original\\Folder_019\\Helipad_01973.meta\n",
      "Saved :data\\Helipad_Dataset_meta\\Helipad_Dataset_meta_original\\Folder_019\\Helipad_01974.meta\n",
      "Saved :data\\Helipad_Dataset_meta\\Helipad_Dataset_meta_original\\Folder_019\\Helipad_01975.meta\n",
      "Saved :data\\Helipad_Dataset_meta\\Helipad_Dataset_meta_original\\Folder_019\\Helipad_01976.meta\n",
      "Saved :data\\Helipad_Dataset_meta\\Helipad_Dataset_meta_original\\Folder_019\\Helipad_01977.meta\n",
      "Saved :data\\Helipad_Dataset_meta\\Helipad_Dataset_meta_original\\Folder_019\\Helipad_01978.meta\n",
      "Saved :data\\Helipad_Dataset_meta\\Helipad_Dataset_meta_original\\Folder_019\\Helipad_01979.meta\n",
      "Saved :data\\Helipad_Dataset_meta\\Helipad_Dataset_meta_original\\Folder_019\\Helipad_01980.meta\n",
      "Saved :data\\Helipad_Dataset_meta\\Helipad_Dataset_meta_original\\Folder_019\\Helipad_01981.meta\n",
      "Saved :data\\Helipad_Dataset_meta\\Helipad_Dataset_meta_original\\Folder_019\\Helipad_01982.meta\n",
      "Saved :data\\Helipad_Dataset_meta\\Helipad_Dataset_meta_original\\Folder_019\\Helipad_01983.meta\n",
      "Saved :data\\Helipad_Dataset_meta\\Helipad_Dataset_meta_original\\Folder_019\\Helipad_01984.meta\n",
      "Saved :data\\Helipad_Dataset_meta\\Helipad_Dataset_meta_original\\Folder_019\\Helipad_01985.meta\n",
      "Saved :data\\Helipad_Dataset_meta\\Helipad_Dataset_meta_original\\Folder_019\\Helipad_01986.meta\n",
      "Saved :data\\Helipad_Dataset_meta\\Helipad_Dataset_meta_original\\Folder_019\\Helipad_01987.meta\n",
      "Saved :data\\Helipad_Dataset_meta\\Helipad_Dataset_meta_original\\Folder_019\\Helipad_01988.meta\n",
      "Saved :data\\Helipad_Dataset_meta\\Helipad_Dataset_meta_original\\Folder_019\\Helipad_01989.meta\n",
      "Saved :data\\Helipad_Dataset_meta\\Helipad_Dataset_meta_original\\Folder_019\\Helipad_01990.meta\n",
      "Saved :data\\Helipad_Dataset_meta\\Helipad_Dataset_meta_original\\Folder_019\\Helipad_01991.meta\n",
      "Saved :data\\Helipad_Dataset_meta\\Helipad_Dataset_meta_original\\Folder_019\\Helipad_01992.meta\n",
      "Saved :data\\Helipad_Dataset_meta\\Helipad_Dataset_meta_original\\Folder_019\\Helipad_01993.meta\n",
      "Saved :data\\Helipad_Dataset_meta\\Helipad_Dataset_meta_original\\Folder_019\\Helipad_01994.meta\n",
      "Saved :data\\Helipad_Dataset_meta\\Helipad_Dataset_meta_original\\Folder_019\\Helipad_01995.meta\n",
      "Saved :data\\Helipad_Dataset_meta\\Helipad_Dataset_meta_original\\Folder_019\\Helipad_01996.meta\n",
      "Saved :data\\Helipad_Dataset_meta\\Helipad_Dataset_meta_original\\Folder_019\\Helipad_01997.meta\n",
      "Saved :data\\Helipad_Dataset_meta\\Helipad_Dataset_meta_original\\Folder_019\\Helipad_01998.meta\n",
      "Saved :data\\Helipad_Dataset_meta\\Helipad_Dataset_meta_original\\Folder_019\\Helipad_01999.meta\n",
      "Saved :data\\Helipad_Dataset_meta\\Helipad_Dataset_meta_original\\Folder_020\\Helipad_02000.meta\n",
      "Saved :data\\Helipad_Dataset_meta\\Helipad_Dataset_meta_original\\Folder_020\\Helipad_02001.meta\n",
      "Saved :data\\Helipad_Dataset_meta\\Helipad_Dataset_meta_original\\Folder_020\\Helipad_02002.meta\n",
      "Saved :data\\Helipad_Dataset_meta\\Helipad_Dataset_meta_original\\Folder_020\\Helipad_02003.meta\n",
      "Saved :data\\Helipad_Dataset_meta\\Helipad_Dataset_meta_original\\Folder_020\\Helipad_02004.meta\n",
      "Saved :data\\Helipad_Dataset_meta\\Helipad_Dataset_meta_original\\Folder_020\\Helipad_02005.meta\n",
      "Saved :data\\Helipad_Dataset_meta\\Helipad_Dataset_meta_original\\Folder_020\\Helipad_02006.meta\n",
      "Saved :data\\Helipad_Dataset_meta\\Helipad_Dataset_meta_original\\Folder_020\\Helipad_02007.meta\n",
      "Saved :data\\Helipad_Dataset_meta\\Helipad_Dataset_meta_original\\Folder_020\\Helipad_02008.meta\n",
      "Saved :data\\Helipad_Dataset_meta\\Helipad_Dataset_meta_original\\Folder_020\\Helipad_02009.meta\n",
      "Saved :data\\Helipad_Dataset_meta\\Helipad_Dataset_meta_original\\Folder_020\\Helipad_02010.meta\n",
      "Saved :data\\Helipad_Dataset_meta\\Helipad_Dataset_meta_original\\Folder_020\\Helipad_02011.meta\n",
      "Saved :data\\Helipad_Dataset_meta\\Helipad_Dataset_meta_original\\Folder_020\\Helipad_02012.meta\n",
      "Saved :data\\Helipad_Dataset_meta\\Helipad_Dataset_meta_original\\Folder_020\\Helipad_02013.meta\n",
      "Saved :data\\Helipad_Dataset_meta\\Helipad_Dataset_meta_original\\Folder_020\\Helipad_02014.meta\n",
      "Saved :data\\Helipad_Dataset_meta\\Helipad_Dataset_meta_original\\Folder_020\\Helipad_02015.meta\n",
      "Saved :data\\Helipad_Dataset_meta\\Helipad_Dataset_meta_original\\Folder_020\\Helipad_02016.meta\n",
      "Saved :data\\Helipad_Dataset_meta\\Helipad_Dataset_meta_original\\Folder_020\\Helipad_02017.meta\n",
      "Saved :data\\Helipad_Dataset_meta\\Helipad_Dataset_meta_original\\Folder_020\\Helipad_02018.meta\n",
      "Saved :data\\Helipad_Dataset_meta\\Helipad_Dataset_meta_original\\Folder_020\\Helipad_02019.meta\n",
      "Saved :data\\Helipad_Dataset_meta\\Helipad_Dataset_meta_original\\Folder_020\\Helipad_02020.meta\n",
      "Saved :data\\Helipad_Dataset_meta\\Helipad_Dataset_meta_original\\Folder_020\\Helipad_02021.meta\n",
      "Saved :data\\Helipad_Dataset_meta\\Helipad_Dataset_meta_original\\Folder_020\\Helipad_02022.meta\n",
      "Saved :data\\Helipad_Dataset_meta\\Helipad_Dataset_meta_original\\Folder_020\\Helipad_02023.meta\n",
      "Saved :data\\Helipad_Dataset_meta\\Helipad_Dataset_meta_original\\Folder_020\\Helipad_02024.meta\n",
      "Saved :data\\Helipad_Dataset_meta\\Helipad_Dataset_meta_original\\Folder_020\\Helipad_02025.meta\n",
      "Saved :data\\Helipad_Dataset_meta\\Helipad_Dataset_meta_original\\Folder_020\\Helipad_02026.meta\n",
      "Saved :data\\Helipad_Dataset_meta\\Helipad_Dataset_meta_original\\Folder_020\\Helipad_02027.meta\n",
      "Saved :data\\Helipad_Dataset_meta\\Helipad_Dataset_meta_original\\Folder_020\\Helipad_02028.meta\n",
      "Saved :data\\Helipad_Dataset_meta\\Helipad_Dataset_meta_original\\Folder_020\\Helipad_02029.meta\n",
      "Saved :data\\Helipad_Dataset_meta\\Helipad_Dataset_meta_original\\Folder_020\\Helipad_02030.meta\n",
      "Saved :data\\Helipad_Dataset_meta\\Helipad_Dataset_meta_original\\Folder_020\\Helipad_02031.meta\n",
      "Saved :data\\Helipad_Dataset_meta\\Helipad_Dataset_meta_original\\Folder_020\\Helipad_02032.meta\n",
      "Saved :data\\Helipad_Dataset_meta\\Helipad_Dataset_meta_original\\Folder_020\\Helipad_02033.meta\n",
      "Saved :data\\Helipad_Dataset_meta\\Helipad_Dataset_meta_original\\Folder_020\\Helipad_02034.meta\n",
      "Saved :data\\Helipad_Dataset_meta\\Helipad_Dataset_meta_original\\Folder_020\\Helipad_02035.meta\n",
      "Saved :data\\Helipad_Dataset_meta\\Helipad_Dataset_meta_original\\Folder_020\\Helipad_02036.meta\n",
      "Saved :data\\Helipad_Dataset_meta\\Helipad_Dataset_meta_original\\Folder_020\\Helipad_02037.meta\n",
      "Saved :data\\Helipad_Dataset_meta\\Helipad_Dataset_meta_original\\Folder_020\\Helipad_02038.meta\n",
      "Saved :data\\Helipad_Dataset_meta\\Helipad_Dataset_meta_original\\Folder_020\\Helipad_02039.meta\n",
      "Saved :data\\Helipad_Dataset_meta\\Helipad_Dataset_meta_original\\Folder_020\\Helipad_02040.meta\n",
      "Saved :data\\Helipad_Dataset_meta\\Helipad_Dataset_meta_original\\Folder_020\\Helipad_02041.meta\n",
      "Saved :data\\Helipad_Dataset_meta\\Helipad_Dataset_meta_original\\Folder_020\\Helipad_02042.meta\n",
      "Saved :data\\Helipad_Dataset_meta\\Helipad_Dataset_meta_original\\Folder_020\\Helipad_02043.meta\n",
      "Saved :data\\Helipad_Dataset_meta\\Helipad_Dataset_meta_original\\Folder_020\\Helipad_02044.meta\n",
      "Saved :data\\Helipad_Dataset_meta\\Helipad_Dataset_meta_original\\Folder_020\\Helipad_02045.meta\n",
      "Saved :data\\Helipad_Dataset_meta\\Helipad_Dataset_meta_original\\Folder_020\\Helipad_02046.meta\n",
      "Saved :data\\Helipad_Dataset_meta\\Helipad_Dataset_meta_original\\Folder_020\\Helipad_02047.meta\n",
      "Saved :data\\Helipad_Dataset_meta\\Helipad_Dataset_meta_original\\Folder_020\\Helipad_02048.meta\n",
      "Saved :data\\Helipad_Dataset_meta\\Helipad_Dataset_meta_original\\Folder_020\\Helipad_02049.meta\n",
      "Saved :data\\Helipad_Dataset_meta\\Helipad_Dataset_meta_original\\Folder_020\\Helipad_02050.meta\n",
      "Saved :data\\Helipad_Dataset_meta\\Helipad_Dataset_meta_original\\Folder_020\\Helipad_02051.meta\n",
      "Saved :data\\Helipad_Dataset_meta\\Helipad_Dataset_meta_original\\Folder_020\\Helipad_02052.meta\n",
      "Saved :data\\Helipad_Dataset_meta\\Helipad_Dataset_meta_original\\Folder_020\\Helipad_02053.meta\n",
      "Saved :data\\Helipad_Dataset_meta\\Helipad_Dataset_meta_original\\Folder_020\\Helipad_02054.meta\n",
      "Saved :data\\Helipad_Dataset_meta\\Helipad_Dataset_meta_original\\Folder_020\\Helipad_02055.meta\n",
      "Saved :data\\Helipad_Dataset_meta\\Helipad_Dataset_meta_original\\Folder_020\\Helipad_02056.meta\n",
      "Saved :data\\Helipad_Dataset_meta\\Helipad_Dataset_meta_original\\Folder_020\\Helipad_02057.meta\n",
      "Saved :data\\Helipad_Dataset_meta\\Helipad_Dataset_meta_original\\Folder_020\\Helipad_02058.meta\n",
      "Saved :data\\Helipad_Dataset_meta\\Helipad_Dataset_meta_original\\Folder_020\\Helipad_02059.meta\n",
      "Saved :data\\Helipad_Dataset_meta\\Helipad_Dataset_meta_original\\Folder_020\\Helipad_02060.meta\n",
      "Saved :data\\Helipad_Dataset_meta\\Helipad_Dataset_meta_original\\Folder_020\\Helipad_02061.meta\n",
      "Saved :data\\Helipad_Dataset_meta\\Helipad_Dataset_meta_original\\Folder_020\\Helipad_02062.meta\n",
      "Saved :data\\Helipad_Dataset_meta\\Helipad_Dataset_meta_original\\Folder_020\\Helipad_02063.meta\n",
      "Saved :data\\Helipad_Dataset_meta\\Helipad_Dataset_meta_original\\Folder_020\\Helipad_02064.meta\n",
      "Saved :data\\Helipad_Dataset_meta\\Helipad_Dataset_meta_original\\Folder_020\\Helipad_02065.meta\n",
      "Saved :data\\Helipad_Dataset_meta\\Helipad_Dataset_meta_original\\Folder_020\\Helipad_02066.meta\n",
      "Saved :data\\Helipad_Dataset_meta\\Helipad_Dataset_meta_original\\Folder_020\\Helipad_02067.meta\n",
      "Saved :data\\Helipad_Dataset_meta\\Helipad_Dataset_meta_original\\Folder_020\\Helipad_02068.meta\n",
      "Saved :data\\Helipad_Dataset_meta\\Helipad_Dataset_meta_original\\Folder_020\\Helipad_02069.meta\n",
      "Saved :data\\Helipad_Dataset_meta\\Helipad_Dataset_meta_original\\Folder_020\\Helipad_02070.meta\n",
      "Saved :data\\Helipad_Dataset_meta\\Helipad_Dataset_meta_original\\Folder_020\\Helipad_02071.meta\n",
      "Saved :data\\Helipad_Dataset_meta\\Helipad_Dataset_meta_original\\Folder_020\\Helipad_02072.meta\n",
      "Saved :data\\Helipad_Dataset_meta\\Helipad_Dataset_meta_original\\Folder_020\\Helipad_02073.meta\n",
      "Saved :data\\Helipad_Dataset_meta\\Helipad_Dataset_meta_original\\Folder_020\\Helipad_02074.meta\n",
      "Saved :data\\Helipad_Dataset_meta\\Helipad_Dataset_meta_original\\Folder_020\\Helipad_02075.meta\n",
      "Saved :data\\Helipad_Dataset_meta\\Helipad_Dataset_meta_original\\Folder_020\\Helipad_02076.meta\n",
      "Saved :data\\Helipad_Dataset_meta\\Helipad_Dataset_meta_original\\Folder_020\\Helipad_02077.meta\n",
      "Saved :data\\Helipad_Dataset_meta\\Helipad_Dataset_meta_original\\Folder_020\\Helipad_02078.meta\n",
      "Saved :data\\Helipad_Dataset_meta\\Helipad_Dataset_meta_original\\Folder_020\\Helipad_02079.meta\n",
      "Saved :data\\Helipad_Dataset_meta\\Helipad_Dataset_meta_original\\Folder_020\\Helipad_02080.meta\n",
      "Saved :data\\Helipad_Dataset_meta\\Helipad_Dataset_meta_original\\Folder_020\\Helipad_02081.meta\n",
      "Saved :data\\Helipad_Dataset_meta\\Helipad_Dataset_meta_original\\Folder_020\\Helipad_02082.meta\n",
      "Saved :data\\Helipad_Dataset_meta\\Helipad_Dataset_meta_original\\Folder_020\\Helipad_02083.meta\n",
      "Saved :data\\Helipad_Dataset_meta\\Helipad_Dataset_meta_original\\Folder_020\\Helipad_02084.meta\n",
      "Saved :data\\Helipad_Dataset_meta\\Helipad_Dataset_meta_original\\Folder_020\\Helipad_02085.meta\n",
      "Saved :data\\Helipad_Dataset_meta\\Helipad_Dataset_meta_original\\Folder_020\\Helipad_02086.meta\n",
      "Saved :data\\Helipad_Dataset_meta\\Helipad_Dataset_meta_original\\Folder_020\\Helipad_02087.meta\n",
      "Saved :data\\Helipad_Dataset_meta\\Helipad_Dataset_meta_original\\Folder_020\\Helipad_02088.meta\n"
     ]
    },
    {
     "name": "stdout",
     "output_type": "stream",
     "text": [
      "Saved :data\\Helipad_Dataset_meta\\Helipad_Dataset_meta_original\\Folder_020\\Helipad_02089.meta\n",
      "Saved :data\\Helipad_Dataset_meta\\Helipad_Dataset_meta_original\\Folder_020\\Helipad_02090.meta\n",
      "Saved :data\\Helipad_Dataset_meta\\Helipad_Dataset_meta_original\\Folder_020\\Helipad_02091.meta\n",
      "Saved :data\\Helipad_Dataset_meta\\Helipad_Dataset_meta_original\\Folder_020\\Helipad_02092.meta\n",
      "Saved :data\\Helipad_Dataset_meta\\Helipad_Dataset_meta_original\\Folder_020\\Helipad_02093.meta\n",
      "Saved :data\\Helipad_Dataset_meta\\Helipad_Dataset_meta_original\\Folder_020\\Helipad_02094.meta\n",
      "Saved :data\\Helipad_Dataset_meta\\Helipad_Dataset_meta_original\\Folder_020\\Helipad_02095.meta\n",
      "Saved :data\\Helipad_Dataset_meta\\Helipad_Dataset_meta_original\\Folder_020\\Helipad_02096.meta\n",
      "Saved :data\\Helipad_Dataset_meta\\Helipad_Dataset_meta_original\\Folder_020\\Helipad_02097.meta\n",
      "Saved :data\\Helipad_Dataset_meta\\Helipad_Dataset_meta_original\\Folder_020\\Helipad_02098.meta\n",
      "Saved :data\\Helipad_Dataset_meta\\Helipad_Dataset_meta_original\\Folder_020\\Helipad_02099.meta\n",
      "Saved :data\\Helipad_Dataset_meta\\Helipad_Dataset_meta_original\\Folder_021\\Helipad_02100.meta\n",
      "Saved :data\\Helipad_Dataset_meta\\Helipad_Dataset_meta_original\\Folder_021\\Helipad_02101.meta\n",
      "Saved :data\\Helipad_Dataset_meta\\Helipad_Dataset_meta_original\\Folder_021\\Helipad_02102.meta\n",
      "Saved :data\\Helipad_Dataset_meta\\Helipad_Dataset_meta_original\\Folder_021\\Helipad_02103.meta\n",
      "Saved :data\\Helipad_Dataset_meta\\Helipad_Dataset_meta_original\\Folder_021\\Helipad_02104.meta\n",
      "Saved :data\\Helipad_Dataset_meta\\Helipad_Dataset_meta_original\\Folder_021\\Helipad_02105.meta\n",
      "Saved :data\\Helipad_Dataset_meta\\Helipad_Dataset_meta_original\\Folder_021\\Helipad_02106.meta\n",
      "Saved :data\\Helipad_Dataset_meta\\Helipad_Dataset_meta_original\\Folder_021\\Helipad_02107.meta\n",
      "Saved :data\\Helipad_Dataset_meta\\Helipad_Dataset_meta_original\\Folder_021\\Helipad_02108.meta\n",
      "Saved :data\\Helipad_Dataset_meta\\Helipad_Dataset_meta_original\\Folder_021\\Helipad_02109.meta\n",
      "Saved :data\\Helipad_Dataset_meta\\Helipad_Dataset_meta_original\\Folder_021\\Helipad_02110.meta\n",
      "Saved :data\\Helipad_Dataset_meta\\Helipad_Dataset_meta_original\\Folder_021\\Helipad_02111.meta\n",
      "Saved :data\\Helipad_Dataset_meta\\Helipad_Dataset_meta_original\\Folder_021\\Helipad_02112.meta\n",
      "Saved :data\\Helipad_Dataset_meta\\Helipad_Dataset_meta_original\\Folder_021\\Helipad_02113.meta\n",
      "Saved :data\\Helipad_Dataset_meta\\Helipad_Dataset_meta_original\\Folder_021\\Helipad_02114.meta\n",
      "Saved :data\\Helipad_Dataset_meta\\Helipad_Dataset_meta_original\\Folder_021\\Helipad_02115.meta\n",
      "Saved :data\\Helipad_Dataset_meta\\Helipad_Dataset_meta_original\\Folder_021\\Helipad_02116.meta\n",
      "Saved :data\\Helipad_Dataset_meta\\Helipad_Dataset_meta_original\\Folder_021\\Helipad_02117.meta\n",
      "Saved :data\\Helipad_Dataset_meta\\Helipad_Dataset_meta_original\\Folder_021\\Helipad_02118.meta\n",
      "Saved :data\\Helipad_Dataset_meta\\Helipad_Dataset_meta_original\\Folder_021\\Helipad_02119.meta\n",
      "Saved :data\\Helipad_Dataset_meta\\Helipad_Dataset_meta_original\\Folder_021\\Helipad_02120.meta\n",
      "Saved :data\\Helipad_Dataset_meta\\Helipad_Dataset_meta_original\\Folder_021\\Helipad_02121.meta\n",
      "Saved :data\\Helipad_Dataset_meta\\Helipad_Dataset_meta_original\\Folder_021\\Helipad_02122.meta\n",
      "Saved :data\\Helipad_Dataset_meta\\Helipad_Dataset_meta_original\\Folder_021\\Helipad_02123.meta\n",
      "Saved :data\\Helipad_Dataset_meta\\Helipad_Dataset_meta_original\\Folder_021\\Helipad_02124.meta\n",
      "Saved :data\\Helipad_Dataset_meta\\Helipad_Dataset_meta_original\\Folder_021\\Helipad_02125.meta\n",
      "Saved :data\\Helipad_Dataset_meta\\Helipad_Dataset_meta_original\\Folder_021\\Helipad_02126.meta\n",
      "Saved :data\\Helipad_Dataset_meta\\Helipad_Dataset_meta_original\\Folder_021\\Helipad_02127.meta\n",
      "Saved :data\\Helipad_Dataset_meta\\Helipad_Dataset_meta_original\\Folder_021\\Helipad_02128.meta\n",
      "Saved :data\\Helipad_Dataset_meta\\Helipad_Dataset_meta_original\\Folder_021\\Helipad_02129.meta\n",
      "Saved :data\\Helipad_Dataset_meta\\Helipad_Dataset_meta_original\\Folder_021\\Helipad_02130.meta\n",
      "Saved :data\\Helipad_Dataset_meta\\Helipad_Dataset_meta_original\\Folder_021\\Helipad_02131.meta\n",
      "Saved :data\\Helipad_Dataset_meta\\Helipad_Dataset_meta_original\\Folder_021\\Helipad_02132.meta\n",
      "Saved :data\\Helipad_Dataset_meta\\Helipad_Dataset_meta_original\\Folder_021\\Helipad_02133.meta\n",
      "Saved :data\\Helipad_Dataset_meta\\Helipad_Dataset_meta_original\\Folder_021\\Helipad_02134.meta\n",
      "Saved :data\\Helipad_Dataset_meta\\Helipad_Dataset_meta_original\\Folder_021\\Helipad_02135.meta\n",
      "Saved :data\\Helipad_Dataset_meta\\Helipad_Dataset_meta_original\\Folder_021\\Helipad_02136.meta\n",
      "Saved :data\\Helipad_Dataset_meta\\Helipad_Dataset_meta_original\\Folder_021\\Helipad_02137.meta\n",
      "Saved :data\\Helipad_Dataset_meta\\Helipad_Dataset_meta_original\\Folder_021\\Helipad_02138.meta\n",
      "Saved :data\\Helipad_Dataset_meta\\Helipad_Dataset_meta_original\\Folder_021\\Helipad_02139.meta\n",
      "Saved :data\\Helipad_Dataset_meta\\Helipad_Dataset_meta_original\\Folder_021\\Helipad_02140.meta\n",
      "Saved :data\\Helipad_Dataset_meta\\Helipad_Dataset_meta_original\\Folder_021\\Helipad_02141.meta\n",
      "Saved :data\\Helipad_Dataset_meta\\Helipad_Dataset_meta_original\\Folder_021\\Helipad_02142.meta\n",
      "Saved :data\\Helipad_Dataset_meta\\Helipad_Dataset_meta_original\\Folder_021\\Helipad_02143.meta\n",
      "Saved :data\\Helipad_Dataset_meta\\Helipad_Dataset_meta_original\\Folder_021\\Helipad_02144.meta\n",
      "Saved :data\\Helipad_Dataset_meta\\Helipad_Dataset_meta_original\\Folder_021\\Helipad_02145.meta\n",
      "Saved :data\\Helipad_Dataset_meta\\Helipad_Dataset_meta_original\\Folder_021\\Helipad_02146.meta\n",
      "Saved :data\\Helipad_Dataset_meta\\Helipad_Dataset_meta_original\\Folder_021\\Helipad_02147.meta\n",
      "Saved :data\\Helipad_Dataset_meta\\Helipad_Dataset_meta_original\\Folder_021\\Helipad_02148.meta\n",
      "Saved :data\\Helipad_Dataset_meta\\Helipad_Dataset_meta_original\\Folder_021\\Helipad_02149.meta\n",
      "Saved :data\\Helipad_Dataset_meta\\Helipad_Dataset_meta_original\\Folder_021\\Helipad_02150.meta\n",
      "Saved :data\\Helipad_Dataset_meta\\Helipad_Dataset_meta_original\\Folder_021\\Helipad_02151.meta\n",
      "Saved :data\\Helipad_Dataset_meta\\Helipad_Dataset_meta_original\\Folder_021\\Helipad_02152.meta\n",
      "Saved :data\\Helipad_Dataset_meta\\Helipad_Dataset_meta_original\\Folder_021\\Helipad_02153.meta\n",
      "Saved :data\\Helipad_Dataset_meta\\Helipad_Dataset_meta_original\\Folder_021\\Helipad_02154.meta\n",
      "Saved :data\\Helipad_Dataset_meta\\Helipad_Dataset_meta_original\\Folder_021\\Helipad_02155.meta\n",
      "Saved :data\\Helipad_Dataset_meta\\Helipad_Dataset_meta_original\\Folder_021\\Helipad_02156.meta\n",
      "Saved :data\\Helipad_Dataset_meta\\Helipad_Dataset_meta_original\\Folder_021\\Helipad_02157.meta\n",
      "Saved :data\\Helipad_Dataset_meta\\Helipad_Dataset_meta_original\\Folder_021\\Helipad_02158.meta\n",
      "Saved :data\\Helipad_Dataset_meta\\Helipad_Dataset_meta_original\\Folder_021\\Helipad_02159.meta\n",
      "Saved :data\\Helipad_Dataset_meta\\Helipad_Dataset_meta_original\\Folder_021\\Helipad_02160.meta\n",
      "Saved :data\\Helipad_Dataset_meta\\Helipad_Dataset_meta_original\\Folder_021\\Helipad_02161.meta\n",
      "Saved :data\\Helipad_Dataset_meta\\Helipad_Dataset_meta_original\\Folder_021\\Helipad_02162.meta\n",
      "Saved :data\\Helipad_Dataset_meta\\Helipad_Dataset_meta_original\\Folder_021\\Helipad_02163.meta\n",
      "Saved :data\\Helipad_Dataset_meta\\Helipad_Dataset_meta_original\\Folder_021\\Helipad_02164.meta\n",
      "Saved :data\\Helipad_Dataset_meta\\Helipad_Dataset_meta_original\\Folder_021\\Helipad_02165.meta\n",
      "Saved :data\\Helipad_Dataset_meta\\Helipad_Dataset_meta_original\\Folder_021\\Helipad_02166.meta\n",
      "Saved :data\\Helipad_Dataset_meta\\Helipad_Dataset_meta_original\\Folder_021\\Helipad_02167.meta\n",
      "Saved :data\\Helipad_Dataset_meta\\Helipad_Dataset_meta_original\\Folder_021\\Helipad_02168.meta\n",
      "Saved :data\\Helipad_Dataset_meta\\Helipad_Dataset_meta_original\\Folder_021\\Helipad_02169.meta\n",
      "Saved :data\\Helipad_Dataset_meta\\Helipad_Dataset_meta_original\\Folder_021\\Helipad_02170.meta\n",
      "Saved :data\\Helipad_Dataset_meta\\Helipad_Dataset_meta_original\\Folder_021\\Helipad_02171.meta\n",
      "Saved :data\\Helipad_Dataset_meta\\Helipad_Dataset_meta_original\\Folder_021\\Helipad_02172.meta\n",
      "Saved :data\\Helipad_Dataset_meta\\Helipad_Dataset_meta_original\\Folder_021\\Helipad_02173.meta\n",
      "Saved :data\\Helipad_Dataset_meta\\Helipad_Dataset_meta_original\\Folder_021\\Helipad_02174.meta\n",
      "Saved :data\\Helipad_Dataset_meta\\Helipad_Dataset_meta_original\\Folder_021\\Helipad_02175.meta\n",
      "Saved :data\\Helipad_Dataset_meta\\Helipad_Dataset_meta_original\\Folder_021\\Helipad_02176.meta\n",
      "Saved :data\\Helipad_Dataset_meta\\Helipad_Dataset_meta_original\\Folder_021\\Helipad_02177.meta\n",
      "Saved :data\\Helipad_Dataset_meta\\Helipad_Dataset_meta_original\\Folder_021\\Helipad_02178.meta\n",
      "Saved :data\\Helipad_Dataset_meta\\Helipad_Dataset_meta_original\\Folder_021\\Helipad_02179.meta\n",
      "Saved :data\\Helipad_Dataset_meta\\Helipad_Dataset_meta_original\\Folder_021\\Helipad_02180.meta\n",
      "Saved :data\\Helipad_Dataset_meta\\Helipad_Dataset_meta_original\\Folder_021\\Helipad_02181.meta\n",
      "Saved :data\\Helipad_Dataset_meta\\Helipad_Dataset_meta_original\\Folder_021\\Helipad_02182.meta\n",
      "Saved :data\\Helipad_Dataset_meta\\Helipad_Dataset_meta_original\\Folder_021\\Helipad_02183.meta\n",
      "Saved :data\\Helipad_Dataset_meta\\Helipad_Dataset_meta_original\\Folder_021\\Helipad_02184.meta\n",
      "Saved :data\\Helipad_Dataset_meta\\Helipad_Dataset_meta_original\\Folder_021\\Helipad_02185.meta\n",
      "Saved :data\\Helipad_Dataset_meta\\Helipad_Dataset_meta_original\\Folder_021\\Helipad_02186.meta\n",
      "Saved :data\\Helipad_Dataset_meta\\Helipad_Dataset_meta_original\\Folder_021\\Helipad_02187.meta\n",
      "Saved :data\\Helipad_Dataset_meta\\Helipad_Dataset_meta_original\\Folder_021\\Helipad_02188.meta\n",
      "Saved :data\\Helipad_Dataset_meta\\Helipad_Dataset_meta_original\\Folder_021\\Helipad_02189.meta\n",
      "Saved :data\\Helipad_Dataset_meta\\Helipad_Dataset_meta_original\\Folder_021\\Helipad_02190.meta\n",
      "Saved :data\\Helipad_Dataset_meta\\Helipad_Dataset_meta_original\\Folder_021\\Helipad_02191.meta\n",
      "Saved :data\\Helipad_Dataset_meta\\Helipad_Dataset_meta_original\\Folder_021\\Helipad_02192.meta\n",
      "Saved :data\\Helipad_Dataset_meta\\Helipad_Dataset_meta_original\\Folder_021\\Helipad_02193.meta\n",
      "Saved :data\\Helipad_Dataset_meta\\Helipad_Dataset_meta_original\\Folder_021\\Helipad_02194.meta\n",
      "Saved :data\\Helipad_Dataset_meta\\Helipad_Dataset_meta_original\\Folder_021\\Helipad_02195.meta\n",
      "Saved :data\\Helipad_Dataset_meta\\Helipad_Dataset_meta_original\\Folder_021\\Helipad_02196.meta\n",
      "Saved :data\\Helipad_Dataset_meta\\Helipad_Dataset_meta_original\\Folder_021\\Helipad_02197.meta\n",
      "Saved :data\\Helipad_Dataset_meta\\Helipad_Dataset_meta_original\\Folder_021\\Helipad_02198.meta\n",
      "Saved :data\\Helipad_Dataset_meta\\Helipad_Dataset_meta_original\\Folder_021\\Helipad_02199.meta\n",
      "Saved :data\\Helipad_Dataset_meta\\Helipad_Dataset_meta_original\\Folder_022\\Helipad_02200.meta\n",
      "Saved :data\\Helipad_Dataset_meta\\Helipad_Dataset_meta_original\\Folder_022\\Helipad_02201.meta\n",
      "Saved :data\\Helipad_Dataset_meta\\Helipad_Dataset_meta_original\\Folder_022\\Helipad_02202.meta\n",
      "Saved :data\\Helipad_Dataset_meta\\Helipad_Dataset_meta_original\\Folder_022\\Helipad_02203.meta\n",
      "Saved :data\\Helipad_Dataset_meta\\Helipad_Dataset_meta_original\\Folder_022\\Helipad_02204.meta\n",
      "Saved :data\\Helipad_Dataset_meta\\Helipad_Dataset_meta_original\\Folder_022\\Helipad_02205.meta\n",
      "Saved :data\\Helipad_Dataset_meta\\Helipad_Dataset_meta_original\\Folder_022\\Helipad_02206.meta\n",
      "Saved :data\\Helipad_Dataset_meta\\Helipad_Dataset_meta_original\\Folder_022\\Helipad_02207.meta\n",
      "Saved :data\\Helipad_Dataset_meta\\Helipad_Dataset_meta_original\\Folder_022\\Helipad_02208.meta\n",
      "Saved :data\\Helipad_Dataset_meta\\Helipad_Dataset_meta_original\\Folder_022\\Helipad_02209.meta\n",
      "Saved :data\\Helipad_Dataset_meta\\Helipad_Dataset_meta_original\\Folder_022\\Helipad_02210.meta\n",
      "Saved :data\\Helipad_Dataset_meta\\Helipad_Dataset_meta_original\\Folder_022\\Helipad_02211.meta\n",
      "Saved :data\\Helipad_Dataset_meta\\Helipad_Dataset_meta_original\\Folder_022\\Helipad_02212.meta\n",
      "Saved :data\\Helipad_Dataset_meta\\Helipad_Dataset_meta_original\\Folder_022\\Helipad_02213.meta\n",
      "Saved :data\\Helipad_Dataset_meta\\Helipad_Dataset_meta_original\\Folder_022\\Helipad_02214.meta\n",
      "Saved :data\\Helipad_Dataset_meta\\Helipad_Dataset_meta_original\\Folder_022\\Helipad_02215.meta\n",
      "Saved :data\\Helipad_Dataset_meta\\Helipad_Dataset_meta_original\\Folder_022\\Helipad_02216.meta\n",
      "Saved :data\\Helipad_Dataset_meta\\Helipad_Dataset_meta_original\\Folder_022\\Helipad_02218.meta\n",
      "Saved :data\\Helipad_Dataset_meta\\Helipad_Dataset_meta_original\\Folder_022\\Helipad_02219.meta\n",
      "Saved :data\\Helipad_Dataset_meta\\Helipad_Dataset_meta_original\\Folder_022\\Helipad_02220.meta\n",
      "Saved :data\\Helipad_Dataset_meta\\Helipad_Dataset_meta_original\\Folder_022\\Helipad_02221.meta\n",
      "Saved :data\\Helipad_Dataset_meta\\Helipad_Dataset_meta_original\\Folder_022\\Helipad_02222.meta\n",
      "Saved :data\\Helipad_Dataset_meta\\Helipad_Dataset_meta_original\\Folder_022\\Helipad_02223.meta\n",
      "Saved :data\\Helipad_Dataset_meta\\Helipad_Dataset_meta_original\\Folder_022\\Helipad_02224.meta\n",
      "Saved :data\\Helipad_Dataset_meta\\Helipad_Dataset_meta_original\\Folder_022\\Helipad_02225.meta\n",
      "Saved :data\\Helipad_Dataset_meta\\Helipad_Dataset_meta_original\\Folder_022\\Helipad_02226.meta\n",
      "Saved :data\\Helipad_Dataset_meta\\Helipad_Dataset_meta_original\\Folder_022\\Helipad_02227.meta\n",
      "Saved :data\\Helipad_Dataset_meta\\Helipad_Dataset_meta_original\\Folder_022\\Helipad_02228.meta\n",
      "Saved :data\\Helipad_Dataset_meta\\Helipad_Dataset_meta_original\\Folder_022\\Helipad_02229.meta\n",
      "Saved :data\\Helipad_Dataset_meta\\Helipad_Dataset_meta_original\\Folder_022\\Helipad_02230.meta\n",
      "Saved :data\\Helipad_Dataset_meta\\Helipad_Dataset_meta_original\\Folder_022\\Helipad_02231.meta\n",
      "Saved :data\\Helipad_Dataset_meta\\Helipad_Dataset_meta_original\\Folder_022\\Helipad_02232.meta\n",
      "Saved :data\\Helipad_Dataset_meta\\Helipad_Dataset_meta_original\\Folder_022\\Helipad_02233.meta\n",
      "Saved :data\\Helipad_Dataset_meta\\Helipad_Dataset_meta_original\\Folder_022\\Helipad_02234.meta\n",
      "Saved :data\\Helipad_Dataset_meta\\Helipad_Dataset_meta_original\\Folder_022\\Helipad_02235.meta\n",
      "Saved :data\\Helipad_Dataset_meta\\Helipad_Dataset_meta_original\\Folder_022\\Helipad_02236.meta\n",
      "Saved :data\\Helipad_Dataset_meta\\Helipad_Dataset_meta_original\\Folder_022\\Helipad_02237.meta\n",
      "Saved :data\\Helipad_Dataset_meta\\Helipad_Dataset_meta_original\\Folder_022\\Helipad_02238.meta\n",
      "Saved :data\\Helipad_Dataset_meta\\Helipad_Dataset_meta_original\\Folder_022\\Helipad_02239.meta\n",
      "Saved :data\\Helipad_Dataset_meta\\Helipad_Dataset_meta_original\\Folder_022\\Helipad_02240.meta\n",
      "Saved :data\\Helipad_Dataset_meta\\Helipad_Dataset_meta_original\\Folder_022\\Helipad_02241.meta\n",
      "Saved :data\\Helipad_Dataset_meta\\Helipad_Dataset_meta_original\\Folder_022\\Helipad_02242.meta\n",
      "Saved :data\\Helipad_Dataset_meta\\Helipad_Dataset_meta_original\\Folder_022\\Helipad_02243.meta\n",
      "Saved :data\\Helipad_Dataset_meta\\Helipad_Dataset_meta_original\\Folder_022\\Helipad_02244.meta\n",
      "Saved :data\\Helipad_Dataset_meta\\Helipad_Dataset_meta_original\\Folder_022\\Helipad_02245.meta\n",
      "Saved :data\\Helipad_Dataset_meta\\Helipad_Dataset_meta_original\\Folder_022\\Helipad_02246.meta\n"
     ]
    },
    {
     "name": "stdout",
     "output_type": "stream",
     "text": [
      "Saved :data\\Helipad_Dataset_meta\\Helipad_Dataset_meta_original\\Folder_022\\Helipad_02247.meta\n",
      "Saved :data\\Helipad_Dataset_meta\\Helipad_Dataset_meta_original\\Folder_022\\Helipad_02248.meta\n",
      "Saved :data\\Helipad_Dataset_meta\\Helipad_Dataset_meta_original\\Folder_022\\Helipad_02249.meta\n",
      "Saved :data\\Helipad_Dataset_meta\\Helipad_Dataset_meta_original\\Folder_022\\Helipad_02250.meta\n",
      "Saved :data\\Helipad_Dataset_meta\\Helipad_Dataset_meta_original\\Folder_022\\Helipad_02251.meta\n",
      "Saved :data\\Helipad_Dataset_meta\\Helipad_Dataset_meta_original\\Folder_022\\Helipad_02252.meta\n",
      "Saved :data\\Helipad_Dataset_meta\\Helipad_Dataset_meta_original\\Folder_022\\Helipad_02253.meta\n",
      "Saved :data\\Helipad_Dataset_meta\\Helipad_Dataset_meta_original\\Folder_022\\Helipad_02254.meta\n",
      "Saved :data\\Helipad_Dataset_meta\\Helipad_Dataset_meta_original\\Folder_022\\Helipad_02255.meta\n",
      "Saved :data\\Helipad_Dataset_meta\\Helipad_Dataset_meta_original\\Folder_022\\Helipad_02256.meta\n",
      "Saved :data\\Helipad_Dataset_meta\\Helipad_Dataset_meta_original\\Folder_022\\Helipad_02257.meta\n",
      "Saved :data\\Helipad_Dataset_meta\\Helipad_Dataset_meta_original\\Folder_022\\Helipad_02258.meta\n",
      "Saved :data\\Helipad_Dataset_meta\\Helipad_Dataset_meta_original\\Folder_022\\Helipad_02259.meta\n",
      "Saved :data\\Helipad_Dataset_meta\\Helipad_Dataset_meta_original\\Folder_022\\Helipad_02260.meta\n",
      "Saved :data\\Helipad_Dataset_meta\\Helipad_Dataset_meta_original\\Folder_022\\Helipad_02261.meta\n",
      "Saved :data\\Helipad_Dataset_meta\\Helipad_Dataset_meta_original\\Folder_022\\Helipad_02262.meta\n",
      "Saved :data\\Helipad_Dataset_meta\\Helipad_Dataset_meta_original\\Folder_022\\Helipad_02263.meta\n",
      "Saved :data\\Helipad_Dataset_meta\\Helipad_Dataset_meta_original\\Folder_022\\Helipad_02265.meta\n",
      "Saved :data\\Helipad_Dataset_meta\\Helipad_Dataset_meta_original\\Folder_022\\Helipad_02266.meta\n",
      "Saved :data\\Helipad_Dataset_meta\\Helipad_Dataset_meta_original\\Folder_022\\Helipad_02267.meta\n",
      "Saved :data\\Helipad_Dataset_meta\\Helipad_Dataset_meta_original\\Folder_022\\Helipad_02268.meta\n",
      "Saved :data\\Helipad_Dataset_meta\\Helipad_Dataset_meta_original\\Folder_022\\Helipad_02269.meta\n",
      "Saved :data\\Helipad_Dataset_meta\\Helipad_Dataset_meta_original\\Folder_022\\Helipad_02270.meta\n",
      "Saved :data\\Helipad_Dataset_meta\\Helipad_Dataset_meta_original\\Folder_022\\Helipad_02271.meta\n",
      "Saved :data\\Helipad_Dataset_meta\\Helipad_Dataset_meta_original\\Folder_022\\Helipad_02272.meta\n",
      "Saved :data\\Helipad_Dataset_meta\\Helipad_Dataset_meta_original\\Folder_022\\Helipad_02273.meta\n",
      "Saved :data\\Helipad_Dataset_meta\\Helipad_Dataset_meta_original\\Folder_022\\Helipad_02274.meta\n",
      "Saved :data\\Helipad_Dataset_meta\\Helipad_Dataset_meta_original\\Folder_022\\Helipad_02275.meta\n",
      "Saved :data\\Helipad_Dataset_meta\\Helipad_Dataset_meta_original\\Folder_022\\Helipad_02276.meta\n",
      "Saved :data\\Helipad_Dataset_meta\\Helipad_Dataset_meta_original\\Folder_022\\Helipad_02277.meta\n",
      "Saved :data\\Helipad_Dataset_meta\\Helipad_Dataset_meta_original\\Folder_022\\Helipad_02278.meta\n",
      "Saved :data\\Helipad_Dataset_meta\\Helipad_Dataset_meta_original\\Folder_022\\Helipad_02279.meta\n",
      "Saved :data\\Helipad_Dataset_meta\\Helipad_Dataset_meta_original\\Folder_022\\Helipad_02280.meta\n",
      "Saved :data\\Helipad_Dataset_meta\\Helipad_Dataset_meta_original\\Folder_022\\Helipad_02281.meta\n",
      "Saved :data\\Helipad_Dataset_meta\\Helipad_Dataset_meta_original\\Folder_022\\Helipad_02282.meta\n",
      "Saved :data\\Helipad_Dataset_meta\\Helipad_Dataset_meta_original\\Folder_022\\Helipad_02283.meta\n",
      "Saved :data\\Helipad_Dataset_meta\\Helipad_Dataset_meta_original\\Folder_022\\Helipad_02284.meta\n",
      "Saved :data\\Helipad_Dataset_meta\\Helipad_Dataset_meta_original\\Folder_022\\Helipad_02285.meta\n",
      "Saved :data\\Helipad_Dataset_meta\\Helipad_Dataset_meta_original\\Folder_022\\Helipad_02286.meta\n",
      "Saved :data\\Helipad_Dataset_meta\\Helipad_Dataset_meta_original\\Folder_022\\Helipad_02287.meta\n",
      "Saved :data\\Helipad_Dataset_meta\\Helipad_Dataset_meta_original\\Folder_022\\Helipad_02288.meta\n",
      "Saved :data\\Helipad_Dataset_meta\\Helipad_Dataset_meta_original\\Folder_022\\Helipad_02289.meta\n",
      "Saved :data\\Helipad_Dataset_meta\\Helipad_Dataset_meta_original\\Folder_022\\Helipad_02290.meta\n",
      "Saved :data\\Helipad_Dataset_meta\\Helipad_Dataset_meta_original\\Folder_022\\Helipad_02291.meta\n",
      "Saved :data\\Helipad_Dataset_meta\\Helipad_Dataset_meta_original\\Folder_022\\Helipad_02292.meta\n",
      "Saved :data\\Helipad_Dataset_meta\\Helipad_Dataset_meta_original\\Folder_022\\Helipad_02293.meta\n",
      "Saved :data\\Helipad_Dataset_meta\\Helipad_Dataset_meta_original\\Folder_022\\Helipad_02294.meta\n",
      "Saved :data\\Helipad_Dataset_meta\\Helipad_Dataset_meta_original\\Folder_022\\Helipad_02295.meta\n",
      "Saved :data\\Helipad_Dataset_meta\\Helipad_Dataset_meta_original\\Folder_022\\Helipad_02296.meta\n",
      "Saved :data\\Helipad_Dataset_meta\\Helipad_Dataset_meta_original\\Folder_022\\Helipad_02297.meta\n",
      "Saved :data\\Helipad_Dataset_meta\\Helipad_Dataset_meta_original\\Folder_022\\Helipad_02298.meta\n",
      "Saved :data\\Helipad_Dataset_meta\\Helipad_Dataset_meta_original\\Folder_022\\Helipad_02299.meta\n",
      "Saved :data\\Helipad_Dataset_meta\\Helipad_Dataset_meta_original\\Folder_023\\Helipad_02300.meta\n",
      "Saved :data\\Helipad_Dataset_meta\\Helipad_Dataset_meta_original\\Folder_023\\Helipad_02301.meta\n",
      "Saved :data\\Helipad_Dataset_meta\\Helipad_Dataset_meta_original\\Folder_023\\Helipad_02302.meta\n",
      "Saved :data\\Helipad_Dataset_meta\\Helipad_Dataset_meta_original\\Folder_023\\Helipad_02303.meta\n",
      "Saved :data\\Helipad_Dataset_meta\\Helipad_Dataset_meta_original\\Folder_023\\Helipad_02304.meta\n",
      "Saved :data\\Helipad_Dataset_meta\\Helipad_Dataset_meta_original\\Folder_023\\Helipad_02305.meta\n",
      "Saved :data\\Helipad_Dataset_meta\\Helipad_Dataset_meta_original\\Folder_023\\Helipad_02306.meta\n",
      "Saved :data\\Helipad_Dataset_meta\\Helipad_Dataset_meta_original\\Folder_023\\Helipad_02307.meta\n",
      "Saved :data\\Helipad_Dataset_meta\\Helipad_Dataset_meta_original\\Folder_023\\Helipad_02308.meta\n",
      "Saved :data\\Helipad_Dataset_meta\\Helipad_Dataset_meta_original\\Folder_023\\Helipad_02309.meta\n",
      "Saved :data\\Helipad_Dataset_meta\\Helipad_Dataset_meta_original\\Folder_023\\Helipad_02310.meta\n",
      "Saved :data\\Helipad_Dataset_meta\\Helipad_Dataset_meta_original\\Folder_023\\Helipad_02311.meta\n",
      "Saved :data\\Helipad_Dataset_meta\\Helipad_Dataset_meta_original\\Folder_023\\Helipad_02312.meta\n",
      "Saved :data\\Helipad_Dataset_meta\\Helipad_Dataset_meta_original\\Folder_023\\Helipad_02313.meta\n",
      "Saved :data\\Helipad_Dataset_meta\\Helipad_Dataset_meta_original\\Folder_023\\Helipad_02314.meta\n",
      "Saved :data\\Helipad_Dataset_meta\\Helipad_Dataset_meta_original\\Folder_023\\Helipad_02315.meta\n",
      "Saved :data\\Helipad_Dataset_meta\\Helipad_Dataset_meta_original\\Folder_023\\Helipad_02316.meta\n",
      "Saved :data\\Helipad_Dataset_meta\\Helipad_Dataset_meta_original\\Folder_023\\Helipad_02317.meta\n",
      "Saved :data\\Helipad_Dataset_meta\\Helipad_Dataset_meta_original\\Folder_023\\Helipad_02318.meta\n",
      "Saved :data\\Helipad_Dataset_meta\\Helipad_Dataset_meta_original\\Folder_023\\Helipad_02319.meta\n",
      "Saved :data\\Helipad_Dataset_meta\\Helipad_Dataset_meta_original\\Folder_023\\Helipad_02321.meta\n",
      "Saved :data\\Helipad_Dataset_meta\\Helipad_Dataset_meta_original\\Folder_023\\Helipad_02322.meta\n",
      "Saved :data\\Helipad_Dataset_meta\\Helipad_Dataset_meta_original\\Folder_023\\Helipad_02323.meta\n",
      "Saved :data\\Helipad_Dataset_meta\\Helipad_Dataset_meta_original\\Folder_023\\Helipad_02324.meta\n",
      "Saved :data\\Helipad_Dataset_meta\\Helipad_Dataset_meta_original\\Folder_023\\Helipad_02325.meta\n",
      "Saved :data\\Helipad_Dataset_meta\\Helipad_Dataset_meta_original\\Folder_023\\Helipad_02326.meta\n",
      "Saved :data\\Helipad_Dataset_meta\\Helipad_Dataset_meta_original\\Folder_023\\Helipad_02327.meta\n",
      "Saved :data\\Helipad_Dataset_meta\\Helipad_Dataset_meta_original\\Folder_023\\Helipad_02328.meta\n",
      "Saved :data\\Helipad_Dataset_meta\\Helipad_Dataset_meta_original\\Folder_023\\Helipad_02329.meta\n",
      "Saved :data\\Helipad_Dataset_meta\\Helipad_Dataset_meta_original\\Folder_023\\Helipad_02330.meta\n",
      "Saved :data\\Helipad_Dataset_meta\\Helipad_Dataset_meta_original\\Folder_023\\Helipad_02331.meta\n",
      "Saved :data\\Helipad_Dataset_meta\\Helipad_Dataset_meta_original\\Folder_023\\Helipad_02332.meta\n",
      "Saved :data\\Helipad_Dataset_meta\\Helipad_Dataset_meta_original\\Folder_023\\Helipad_02333.meta\n",
      "Saved :data\\Helipad_Dataset_meta\\Helipad_Dataset_meta_original\\Folder_023\\Helipad_02334.meta\n",
      "Saved :data\\Helipad_Dataset_meta\\Helipad_Dataset_meta_original\\Folder_023\\Helipad_02335.meta\n",
      "Saved :data\\Helipad_Dataset_meta\\Helipad_Dataset_meta_original\\Folder_023\\Helipad_02336.meta\n",
      "Saved :data\\Helipad_Dataset_meta\\Helipad_Dataset_meta_original\\Folder_023\\Helipad_02337.meta\n",
      "Saved :data\\Helipad_Dataset_meta\\Helipad_Dataset_meta_original\\Folder_023\\Helipad_02338.meta\n",
      "Saved :data\\Helipad_Dataset_meta\\Helipad_Dataset_meta_original\\Folder_023\\Helipad_02339.meta\n",
      "Saved :data\\Helipad_Dataset_meta\\Helipad_Dataset_meta_original\\Folder_023\\Helipad_02340.meta\n",
      "Saved :data\\Helipad_Dataset_meta\\Helipad_Dataset_meta_original\\Folder_023\\Helipad_02341.meta\n",
      "Saved :data\\Helipad_Dataset_meta\\Helipad_Dataset_meta_original\\Folder_023\\Helipad_02342.meta\n",
      "Saved :data\\Helipad_Dataset_meta\\Helipad_Dataset_meta_original\\Folder_023\\Helipad_02343.meta\n",
      "Saved :data\\Helipad_Dataset_meta\\Helipad_Dataset_meta_original\\Folder_023\\Helipad_02344.meta\n",
      "Saved :data\\Helipad_Dataset_meta\\Helipad_Dataset_meta_original\\Folder_023\\Helipad_02345.meta\n",
      "Saved :data\\Helipad_Dataset_meta\\Helipad_Dataset_meta_original\\Folder_023\\Helipad_02346.meta\n",
      "Saved :data\\Helipad_Dataset_meta\\Helipad_Dataset_meta_original\\Folder_023\\Helipad_02347.meta\n",
      "Saved :data\\Helipad_Dataset_meta\\Helipad_Dataset_meta_original\\Folder_023\\Helipad_02348.meta\n",
      "Saved :data\\Helipad_Dataset_meta\\Helipad_Dataset_meta_original\\Folder_023\\Helipad_02349.meta\n",
      "Saved :data\\Helipad_Dataset_meta\\Helipad_Dataset_meta_original\\Folder_023\\Helipad_02350.meta\n",
      "Saved :data\\Helipad_Dataset_meta\\Helipad_Dataset_meta_original\\Folder_023\\Helipad_02351.meta\n",
      "Saved :data\\Helipad_Dataset_meta\\Helipad_Dataset_meta_original\\Folder_023\\Helipad_02352.meta\n",
      "Saved :data\\Helipad_Dataset_meta\\Helipad_Dataset_meta_original\\Folder_023\\Helipad_02353.meta\n",
      "Saved :data\\Helipad_Dataset_meta\\Helipad_Dataset_meta_original\\Folder_023\\Helipad_02354.meta\n",
      "Saved :data\\Helipad_Dataset_meta\\Helipad_Dataset_meta_original\\Folder_023\\Helipad_02355.meta\n",
      "Saved :data\\Helipad_Dataset_meta\\Helipad_Dataset_meta_original\\Folder_023\\Helipad_02356.meta\n",
      "Saved :data\\Helipad_Dataset_meta\\Helipad_Dataset_meta_original\\Folder_023\\Helipad_02357.meta\n",
      "Saved :data\\Helipad_Dataset_meta\\Helipad_Dataset_meta_original\\Folder_023\\Helipad_02358.meta\n",
      "Saved :data\\Helipad_Dataset_meta\\Helipad_Dataset_meta_original\\Folder_023\\Helipad_02359.meta\n",
      "Saved :data\\Helipad_Dataset_meta\\Helipad_Dataset_meta_original\\Folder_023\\Helipad_02360.meta\n",
      "Saved :data\\Helipad_Dataset_meta\\Helipad_Dataset_meta_original\\Folder_023\\Helipad_02361.meta\n",
      "Saved :data\\Helipad_Dataset_meta\\Helipad_Dataset_meta_original\\Folder_023\\Helipad_02362.meta\n",
      "Saved :data\\Helipad_Dataset_meta\\Helipad_Dataset_meta_original\\Folder_023\\Helipad_02363.meta\n",
      "Saved :data\\Helipad_Dataset_meta\\Helipad_Dataset_meta_original\\Folder_023\\Helipad_02364.meta\n",
      "Saved :data\\Helipad_Dataset_meta\\Helipad_Dataset_meta_original\\Folder_023\\Helipad_02365.meta\n",
      "Saved :data\\Helipad_Dataset_meta\\Helipad_Dataset_meta_original\\Folder_023\\Helipad_02366.meta\n",
      "Saved :data\\Helipad_Dataset_meta\\Helipad_Dataset_meta_original\\Folder_023\\Helipad_02367.meta\n",
      "Saved :data\\Helipad_Dataset_meta\\Helipad_Dataset_meta_original\\Folder_023\\Helipad_02368.meta\n",
      "Saved :data\\Helipad_Dataset_meta\\Helipad_Dataset_meta_original\\Folder_023\\Helipad_02369.meta\n",
      "Saved :data\\Helipad_Dataset_meta\\Helipad_Dataset_meta_original\\Folder_023\\Helipad_02370.meta\n",
      "Saved :data\\Helipad_Dataset_meta\\Helipad_Dataset_meta_original\\Folder_023\\Helipad_02371.meta\n",
      "Saved :data\\Helipad_Dataset_meta\\Helipad_Dataset_meta_original\\Folder_023\\Helipad_02372.meta\n",
      "Saved :data\\Helipad_Dataset_meta\\Helipad_Dataset_meta_original\\Folder_023\\Helipad_02373.meta\n",
      "Saved :data\\Helipad_Dataset_meta\\Helipad_Dataset_meta_original\\Folder_023\\Helipad_02374.meta\n",
      "Saved :data\\Helipad_Dataset_meta\\Helipad_Dataset_meta_original\\Folder_023\\Helipad_02375.meta\n",
      "Saved :data\\Helipad_Dataset_meta\\Helipad_Dataset_meta_original\\Folder_023\\Helipad_02376.meta\n",
      "Saved :data\\Helipad_Dataset_meta\\Helipad_Dataset_meta_original\\Folder_023\\Helipad_02377.meta\n",
      "Saved :data\\Helipad_Dataset_meta\\Helipad_Dataset_meta_original\\Folder_023\\Helipad_02378.meta\n",
      "Saved :data\\Helipad_Dataset_meta\\Helipad_Dataset_meta_original\\Folder_023\\Helipad_02379.meta\n",
      "Saved :data\\Helipad_Dataset_meta\\Helipad_Dataset_meta_original\\Folder_023\\Helipad_02380.meta\n",
      "Saved :data\\Helipad_Dataset_meta\\Helipad_Dataset_meta_original\\Folder_023\\Helipad_02381.meta\n",
      "Saved :data\\Helipad_Dataset_meta\\Helipad_Dataset_meta_original\\Folder_023\\Helipad_02382.meta\n",
      "Saved :data\\Helipad_Dataset_meta\\Helipad_Dataset_meta_original\\Folder_023\\Helipad_02383.meta\n",
      "Saved :data\\Helipad_Dataset_meta\\Helipad_Dataset_meta_original\\Folder_023\\Helipad_02384.meta\n",
      "Saved :data\\Helipad_Dataset_meta\\Helipad_Dataset_meta_original\\Folder_023\\Helipad_02385.meta\n",
      "Saved :data\\Helipad_Dataset_meta\\Helipad_Dataset_meta_original\\Folder_023\\Helipad_02386.meta\n",
      "Saved :data\\Helipad_Dataset_meta\\Helipad_Dataset_meta_original\\Folder_023\\Helipad_02387.meta\n",
      "Saved :data\\Helipad_Dataset_meta\\Helipad_Dataset_meta_original\\Folder_023\\Helipad_02388.meta\n",
      "Saved :data\\Helipad_Dataset_meta\\Helipad_Dataset_meta_original\\Folder_023\\Helipad_02389.meta\n",
      "Saved :data\\Helipad_Dataset_meta\\Helipad_Dataset_meta_original\\Folder_023\\Helipad_02390.meta\n",
      "Saved :data\\Helipad_Dataset_meta\\Helipad_Dataset_meta_original\\Folder_023\\Helipad_02391.meta\n",
      "Saved :data\\Helipad_Dataset_meta\\Helipad_Dataset_meta_original\\Folder_023\\Helipad_02392.meta\n",
      "Saved :data\\Helipad_Dataset_meta\\Helipad_Dataset_meta_original\\Folder_023\\Helipad_02393.meta\n",
      "Saved :data\\Helipad_Dataset_meta\\Helipad_Dataset_meta_original\\Folder_023\\Helipad_02394.meta\n",
      "Saved :data\\Helipad_Dataset_meta\\Helipad_Dataset_meta_original\\Folder_023\\Helipad_02395.meta\n",
      "Saved :data\\Helipad_Dataset_meta\\Helipad_Dataset_meta_original\\Folder_023\\Helipad_02396.meta\n",
      "Saved :data\\Helipad_Dataset_meta\\Helipad_Dataset_meta_original\\Folder_023\\Helipad_02397.meta\n",
      "Saved :data\\Helipad_Dataset_meta\\Helipad_Dataset_meta_original\\Folder_023\\Helipad_02398.meta\n",
      "Saved :data\\Helipad_Dataset_meta\\Helipad_Dataset_meta_original\\Folder_023\\Helipad_02399.meta\n",
      "Saved :data\\Helipad_Dataset_meta\\Helipad_Dataset_meta_original\\Folder_024\\Helipad_02400.meta\n",
      "Saved :data\\Helipad_Dataset_meta\\Helipad_Dataset_meta_original\\Folder_024\\Helipad_02401.meta\n",
      "Saved :data\\Helipad_Dataset_meta\\Helipad_Dataset_meta_original\\Folder_024\\Helipad_02402.meta\n",
      "Saved :data\\Helipad_Dataset_meta\\Helipad_Dataset_meta_original\\Folder_024\\Helipad_02403.meta\n",
      "Saved :data\\Helipad_Dataset_meta\\Helipad_Dataset_meta_original\\Folder_024\\Helipad_02404.meta\n",
      "Saved :data\\Helipad_Dataset_meta\\Helipad_Dataset_meta_original\\Folder_024\\Helipad_02405.meta\n",
      "Saved :data\\Helipad_Dataset_meta\\Helipad_Dataset_meta_original\\Folder_024\\Helipad_02406.meta\n"
     ]
    },
    {
     "name": "stdout",
     "output_type": "stream",
     "text": [
      "Saved :data\\Helipad_Dataset_meta\\Helipad_Dataset_meta_original\\Folder_024\\Helipad_02407.meta\n",
      "Saved :data\\Helipad_Dataset_meta\\Helipad_Dataset_meta_original\\Folder_024\\Helipad_02408.meta\n",
      "Saved :data\\Helipad_Dataset_meta\\Helipad_Dataset_meta_original\\Folder_024\\Helipad_02409.meta\n",
      "Saved :data\\Helipad_Dataset_meta\\Helipad_Dataset_meta_original\\Folder_024\\Helipad_02410.meta\n",
      "Saved :data\\Helipad_Dataset_meta\\Helipad_Dataset_meta_original\\Folder_024\\Helipad_02411.meta\n",
      "Saved :data\\Helipad_Dataset_meta\\Helipad_Dataset_meta_original\\Folder_024\\Helipad_02412.meta\n",
      "Saved :data\\Helipad_Dataset_meta\\Helipad_Dataset_meta_original\\Folder_024\\Helipad_02413.meta\n",
      "Saved :data\\Helipad_Dataset_meta\\Helipad_Dataset_meta_original\\Folder_024\\Helipad_02414.meta\n",
      "Saved :data\\Helipad_Dataset_meta\\Helipad_Dataset_meta_original\\Folder_024\\Helipad_02415.meta\n",
      "Saved :data\\Helipad_Dataset_meta\\Helipad_Dataset_meta_original\\Folder_024\\Helipad_02416.meta\n",
      "Saved :data\\Helipad_Dataset_meta\\Helipad_Dataset_meta_original\\Folder_024\\Helipad_02417.meta\n",
      "Saved :data\\Helipad_Dataset_meta\\Helipad_Dataset_meta_original\\Folder_024\\Helipad_02418.meta\n",
      "Saved :data\\Helipad_Dataset_meta\\Helipad_Dataset_meta_original\\Folder_024\\Helipad_02419.meta\n",
      "Saved :data\\Helipad_Dataset_meta\\Helipad_Dataset_meta_original\\Folder_024\\Helipad_02420.meta\n",
      "Saved :data\\Helipad_Dataset_meta\\Helipad_Dataset_meta_original\\Folder_024\\Helipad_02421.meta\n",
      "Saved :data\\Helipad_Dataset_meta\\Helipad_Dataset_meta_original\\Folder_024\\Helipad_02422.meta\n",
      "Saved :data\\Helipad_Dataset_meta\\Helipad_Dataset_meta_original\\Folder_024\\Helipad_02423.meta\n",
      "Saved :data\\Helipad_Dataset_meta\\Helipad_Dataset_meta_original\\Folder_024\\Helipad_02424.meta\n",
      "Saved :data\\Helipad_Dataset_meta\\Helipad_Dataset_meta_original\\Folder_024\\Helipad_02425.meta\n",
      "Saved :data\\Helipad_Dataset_meta\\Helipad_Dataset_meta_original\\Folder_024\\Helipad_02426.meta\n",
      "Saved :data\\Helipad_Dataset_meta\\Helipad_Dataset_meta_original\\Folder_024\\Helipad_02427.meta\n",
      "Saved :data\\Helipad_Dataset_meta\\Helipad_Dataset_meta_original\\Folder_024\\Helipad_02428.meta\n",
      "Saved :data\\Helipad_Dataset_meta\\Helipad_Dataset_meta_original\\Folder_024\\Helipad_02429.meta\n",
      "Saved :data\\Helipad_Dataset_meta\\Helipad_Dataset_meta_original\\Folder_024\\Helipad_02430.meta\n",
      "Saved :data\\Helipad_Dataset_meta\\Helipad_Dataset_meta_original\\Folder_024\\Helipad_02431.meta\n",
      "Saved :data\\Helipad_Dataset_meta\\Helipad_Dataset_meta_original\\Folder_024\\Helipad_02432.meta\n",
      "Saved :data\\Helipad_Dataset_meta\\Helipad_Dataset_meta_original\\Folder_024\\Helipad_02433.meta\n",
      "Saved :data\\Helipad_Dataset_meta\\Helipad_Dataset_meta_original\\Folder_024\\Helipad_02434.meta\n",
      "Saved :data\\Helipad_Dataset_meta\\Helipad_Dataset_meta_original\\Folder_024\\Helipad_02435.meta\n",
      "Saved :data\\Helipad_Dataset_meta\\Helipad_Dataset_meta_original\\Folder_024\\Helipad_02436.meta\n",
      "Saved :data\\Helipad_Dataset_meta\\Helipad_Dataset_meta_original\\Folder_024\\Helipad_02437.meta\n",
      "Saved :data\\Helipad_Dataset_meta\\Helipad_Dataset_meta_original\\Folder_024\\Helipad_02438.meta\n",
      "Saved :data\\Helipad_Dataset_meta\\Helipad_Dataset_meta_original\\Folder_024\\Helipad_02439.meta\n",
      "Saved :data\\Helipad_Dataset_meta\\Helipad_Dataset_meta_original\\Folder_024\\Helipad_02440.meta\n",
      "Saved :data\\Helipad_Dataset_meta\\Helipad_Dataset_meta_original\\Folder_024\\Helipad_02441.meta\n",
      "Saved :data\\Helipad_Dataset_meta\\Helipad_Dataset_meta_original\\Folder_024\\Helipad_02442.meta\n",
      "Saved :data\\Helipad_Dataset_meta\\Helipad_Dataset_meta_original\\Folder_024\\Helipad_02443.meta\n",
      "Saved :data\\Helipad_Dataset_meta\\Helipad_Dataset_meta_original\\Folder_024\\Helipad_02444.meta\n",
      "Saved :data\\Helipad_Dataset_meta\\Helipad_Dataset_meta_original\\Folder_024\\Helipad_02445.meta\n",
      "Saved :data\\Helipad_Dataset_meta\\Helipad_Dataset_meta_original\\Folder_024\\Helipad_02446.meta\n",
      "Saved :data\\Helipad_Dataset_meta\\Helipad_Dataset_meta_original\\Folder_024\\Helipad_02447.meta\n",
      "Saved :data\\Helipad_Dataset_meta\\Helipad_Dataset_meta_original\\Folder_024\\Helipad_02448.meta\n",
      "Saved :data\\Helipad_Dataset_meta\\Helipad_Dataset_meta_original\\Folder_024\\Helipad_02449.meta\n",
      "Saved :data\\Helipad_Dataset_meta\\Helipad_Dataset_meta_original\\Folder_024\\Helipad_02450.meta\n",
      "Saved :data\\Helipad_Dataset_meta\\Helipad_Dataset_meta_original\\Folder_024\\Helipad_02451.meta\n",
      "Saved :data\\Helipad_Dataset_meta\\Helipad_Dataset_meta_original\\Folder_024\\Helipad_02452.meta\n",
      "Saved :data\\Helipad_Dataset_meta\\Helipad_Dataset_meta_original\\Folder_024\\Helipad_02453.meta\n",
      "Saved :data\\Helipad_Dataset_meta\\Helipad_Dataset_meta_original\\Folder_024\\Helipad_02454.meta\n",
      "Saved :data\\Helipad_Dataset_meta\\Helipad_Dataset_meta_original\\Folder_024\\Helipad_02455.meta\n",
      "Saved :data\\Helipad_Dataset_meta\\Helipad_Dataset_meta_original\\Folder_024\\Helipad_02456.meta\n",
      "Saved :data\\Helipad_Dataset_meta\\Helipad_Dataset_meta_original\\Folder_024\\Helipad_02457.meta\n",
      "Saved :data\\Helipad_Dataset_meta\\Helipad_Dataset_meta_original\\Folder_024\\Helipad_02458.meta\n",
      "Saved :data\\Helipad_Dataset_meta\\Helipad_Dataset_meta_original\\Folder_024\\Helipad_02459.meta\n",
      "Saved :data\\Helipad_Dataset_meta\\Helipad_Dataset_meta_original\\Folder_024\\Helipad_02460.meta\n",
      "Saved :data\\Helipad_Dataset_meta\\Helipad_Dataset_meta_original\\Folder_024\\Helipad_02461.meta\n",
      "Saved :data\\Helipad_Dataset_meta\\Helipad_Dataset_meta_original\\Folder_024\\Helipad_02462.meta\n",
      "Saved :data\\Helipad_Dataset_meta\\Helipad_Dataset_meta_original\\Folder_024\\Helipad_02463.meta\n",
      "Saved :data\\Helipad_Dataset_meta\\Helipad_Dataset_meta_original\\Folder_024\\Helipad_02464.meta\n",
      "Saved :data\\Helipad_Dataset_meta\\Helipad_Dataset_meta_original\\Folder_024\\Helipad_02465.meta\n",
      "Saved :data\\Helipad_Dataset_meta\\Helipad_Dataset_meta_original\\Folder_024\\Helipad_02466.meta\n",
      "Saved :data\\Helipad_Dataset_meta\\Helipad_Dataset_meta_original\\Folder_024\\Helipad_02467.meta\n",
      "Saved :data\\Helipad_Dataset_meta\\Helipad_Dataset_meta_original\\Folder_024\\Helipad_02468.meta\n",
      "Saved :data\\Helipad_Dataset_meta\\Helipad_Dataset_meta_original\\Folder_024\\Helipad_02469.meta\n",
      "Saved :data\\Helipad_Dataset_meta\\Helipad_Dataset_meta_original\\Folder_024\\Helipad_02470.meta\n",
      "Saved :data\\Helipad_Dataset_meta\\Helipad_Dataset_meta_original\\Folder_024\\Helipad_02471.meta\n",
      "Saved :data\\Helipad_Dataset_meta\\Helipad_Dataset_meta_original\\Folder_024\\Helipad_02472.meta\n",
      "Saved :data\\Helipad_Dataset_meta\\Helipad_Dataset_meta_original\\Folder_024\\Helipad_02473.meta\n",
      "Saved :data\\Helipad_Dataset_meta\\Helipad_Dataset_meta_original\\Folder_024\\Helipad_02474.meta\n",
      "Saved :data\\Helipad_Dataset_meta\\Helipad_Dataset_meta_original\\Folder_024\\Helipad_02475.meta\n",
      "Saved :data\\Helipad_Dataset_meta\\Helipad_Dataset_meta_original\\Folder_024\\Helipad_02476.meta\n",
      "Saved :data\\Helipad_Dataset_meta\\Helipad_Dataset_meta_original\\Folder_024\\Helipad_02477.meta\n",
      "Saved :data\\Helipad_Dataset_meta\\Helipad_Dataset_meta_original\\Folder_024\\Helipad_02478.meta\n",
      "Saved :data\\Helipad_Dataset_meta\\Helipad_Dataset_meta_original\\Folder_024\\Helipad_02479.meta\n",
      "Saved :data\\Helipad_Dataset_meta\\Helipad_Dataset_meta_original\\Folder_024\\Helipad_02480.meta\n",
      "Saved :data\\Helipad_Dataset_meta\\Helipad_Dataset_meta_original\\Folder_024\\Helipad_02481.meta\n",
      "Saved :data\\Helipad_Dataset_meta\\Helipad_Dataset_meta_original\\Folder_024\\Helipad_02482.meta\n",
      "Saved :data\\Helipad_Dataset_meta\\Helipad_Dataset_meta_original\\Folder_024\\Helipad_02483.meta\n",
      "Saved :data\\Helipad_Dataset_meta\\Helipad_Dataset_meta_original\\Folder_024\\Helipad_02484.meta\n",
      "Saved :data\\Helipad_Dataset_meta\\Helipad_Dataset_meta_original\\Folder_024\\Helipad_02485.meta\n",
      "Saved :data\\Helipad_Dataset_meta\\Helipad_Dataset_meta_original\\Folder_024\\Helipad_02486.meta\n",
      "Saved :data\\Helipad_Dataset_meta\\Helipad_Dataset_meta_original\\Folder_024\\Helipad_02487.meta\n",
      "Saved :data\\Helipad_Dataset_meta\\Helipad_Dataset_meta_original\\Folder_024\\Helipad_02488.meta\n",
      "Saved :data\\Helipad_Dataset_meta\\Helipad_Dataset_meta_original\\Folder_024\\Helipad_02489.meta\n",
      "Saved :data\\Helipad_Dataset_meta\\Helipad_Dataset_meta_original\\Folder_024\\Helipad_02490.meta\n",
      "Saved :data\\Helipad_Dataset_meta\\Helipad_Dataset_meta_original\\Folder_024\\Helipad_02491.meta\n",
      "Saved :data\\Helipad_Dataset_meta\\Helipad_Dataset_meta_original\\Folder_024\\Helipad_02492.meta\n",
      "Saved :data\\Helipad_Dataset_meta\\Helipad_Dataset_meta_original\\Folder_024\\Helipad_02493.meta\n",
      "Saved :data\\Helipad_Dataset_meta\\Helipad_Dataset_meta_original\\Folder_024\\Helipad_02494.meta\n",
      "Saved :data\\Helipad_Dataset_meta\\Helipad_Dataset_meta_original\\Folder_024\\Helipad_02495.meta\n",
      "Saved :data\\Helipad_Dataset_meta\\Helipad_Dataset_meta_original\\Folder_024\\Helipad_02496.meta\n",
      "Saved :data\\Helipad_Dataset_meta\\Helipad_Dataset_meta_original\\Folder_024\\Helipad_02497.meta\n",
      "Saved :data\\Helipad_Dataset_meta\\Helipad_Dataset_meta_original\\Folder_024\\Helipad_02498.meta\n",
      "Saved :data\\Helipad_Dataset_meta\\Helipad_Dataset_meta_original\\Folder_024\\Helipad_02499.meta\n",
      "Saved :data\\Helipad_Dataset_meta\\Helipad_Dataset_meta_original\\Folder_025\\Helipad_02500.meta\n",
      "Saved :data\\Helipad_Dataset_meta\\Helipad_Dataset_meta_original\\Folder_025\\Helipad_02501.meta\n",
      "Saved :data\\Helipad_Dataset_meta\\Helipad_Dataset_meta_original\\Folder_025\\Helipad_02502.meta\n",
      "Saved :data\\Helipad_Dataset_meta\\Helipad_Dataset_meta_original\\Folder_025\\Helipad_02503.meta\n",
      "Saved :data\\Helipad_Dataset_meta\\Helipad_Dataset_meta_original\\Folder_025\\Helipad_02504.meta\n",
      "Saved :data\\Helipad_Dataset_meta\\Helipad_Dataset_meta_original\\Folder_025\\Helipad_02505.meta\n",
      "Saved :data\\Helipad_Dataset_meta\\Helipad_Dataset_meta_original\\Folder_025\\Helipad_02506.meta\n",
      "Saved :data\\Helipad_Dataset_meta\\Helipad_Dataset_meta_original\\Folder_025\\Helipad_02507.meta\n",
      "Saved :data\\Helipad_Dataset_meta\\Helipad_Dataset_meta_original\\Folder_025\\Helipad_02508.meta\n",
      "Saved :data\\Helipad_Dataset_meta\\Helipad_Dataset_meta_original\\Folder_025\\Helipad_02509.meta\n",
      "Saved :data\\Helipad_Dataset_meta\\Helipad_Dataset_meta_original\\Folder_025\\Helipad_02510.meta\n",
      "Saved :data\\Helipad_Dataset_meta\\Helipad_Dataset_meta_original\\Folder_025\\Helipad_02511.meta\n",
      "Saved :data\\Helipad_Dataset_meta\\Helipad_Dataset_meta_original\\Folder_025\\Helipad_02512.meta\n",
      "Saved :data\\Helipad_Dataset_meta\\Helipad_Dataset_meta_original\\Folder_025\\Helipad_02513.meta\n",
      "Saved :data\\Helipad_Dataset_meta\\Helipad_Dataset_meta_original\\Folder_025\\Helipad_02514.meta\n",
      "Saved :data\\Helipad_Dataset_meta\\Helipad_Dataset_meta_original\\Folder_025\\Helipad_02515.meta\n",
      "Saved :data\\Helipad_Dataset_meta\\Helipad_Dataset_meta_original\\Folder_025\\Helipad_02516.meta\n",
      "Saved :data\\Helipad_Dataset_meta\\Helipad_Dataset_meta_original\\Folder_025\\Helipad_02517.meta\n",
      "Saved :data\\Helipad_Dataset_meta\\Helipad_Dataset_meta_original\\Folder_025\\Helipad_02518.meta\n",
      "Saved :data\\Helipad_Dataset_meta\\Helipad_Dataset_meta_original\\Folder_025\\Helipad_02519.meta\n",
      "Saved :data\\Helipad_Dataset_meta\\Helipad_Dataset_meta_original\\Folder_025\\Helipad_02520.meta\n",
      "Saved :data\\Helipad_Dataset_meta\\Helipad_Dataset_meta_original\\Folder_025\\Helipad_02521.meta\n",
      "Saved :data\\Helipad_Dataset_meta\\Helipad_Dataset_meta_original\\Folder_025\\Helipad_02522.meta\n",
      "Saved :data\\Helipad_Dataset_meta\\Helipad_Dataset_meta_original\\Folder_025\\Helipad_02523.meta\n",
      "Saved :data\\Helipad_Dataset_meta\\Helipad_Dataset_meta_original\\Folder_025\\Helipad_02524.meta\n",
      "Saved :data\\Helipad_Dataset_meta\\Helipad_Dataset_meta_original\\Folder_025\\Helipad_02525.meta\n",
      "Saved :data\\Helipad_Dataset_meta\\Helipad_Dataset_meta_original\\Folder_025\\Helipad_02526.meta\n",
      "Saved :data\\Helipad_Dataset_meta\\Helipad_Dataset_meta_original\\Folder_025\\Helipad_02527.meta\n",
      "Saved :data\\Helipad_Dataset_meta\\Helipad_Dataset_meta_original\\Folder_025\\Helipad_02528.meta\n",
      "Saved :data\\Helipad_Dataset_meta\\Helipad_Dataset_meta_original\\Folder_025\\Helipad_02529.meta\n",
      "Saved :data\\Helipad_Dataset_meta\\Helipad_Dataset_meta_original\\Folder_025\\Helipad_02530.meta\n",
      "Saved :data\\Helipad_Dataset_meta\\Helipad_Dataset_meta_original\\Folder_025\\Helipad_02531.meta\n",
      "Saved :data\\Helipad_Dataset_meta\\Helipad_Dataset_meta_original\\Folder_025\\Helipad_02532.meta\n",
      "Saved :data\\Helipad_Dataset_meta\\Helipad_Dataset_meta_original\\Folder_025\\Helipad_02533.meta\n",
      "Saved :data\\Helipad_Dataset_meta\\Helipad_Dataset_meta_original\\Folder_025\\Helipad_02534.meta\n",
      "Saved :data\\Helipad_Dataset_meta\\Helipad_Dataset_meta_original\\Folder_025\\Helipad_02535.meta\n",
      "Saved :data\\Helipad_Dataset_meta\\Helipad_Dataset_meta_original\\Folder_025\\Helipad_02536.meta\n",
      "Saved :data\\Helipad_Dataset_meta\\Helipad_Dataset_meta_original\\Folder_025\\Helipad_02537.meta\n",
      "Saved :data\\Helipad_Dataset_meta\\Helipad_Dataset_meta_original\\Folder_025\\Helipad_02538.meta\n",
      "Saved :data\\Helipad_Dataset_meta\\Helipad_Dataset_meta_original\\Folder_025\\Helipad_02539.meta\n",
      "Saved :data\\Helipad_Dataset_meta\\Helipad_Dataset_meta_original\\Folder_025\\Helipad_02540.meta\n",
      "Saved :data\\Helipad_Dataset_meta\\Helipad_Dataset_meta_original\\Folder_025\\Helipad_02541.meta\n",
      "Saved :data\\Helipad_Dataset_meta\\Helipad_Dataset_meta_original\\Folder_025\\Helipad_02542.meta\n",
      "Saved :data\\Helipad_Dataset_meta\\Helipad_Dataset_meta_original\\Folder_025\\Helipad_02543.meta\n",
      "Saved :data\\Helipad_Dataset_meta\\Helipad_Dataset_meta_original\\Folder_025\\Helipad_02544.meta\n",
      "Saved :data\\Helipad_Dataset_meta\\Helipad_Dataset_meta_original\\Folder_025\\Helipad_02545.meta\n",
      "Saved :data\\Helipad_Dataset_meta\\Helipad_Dataset_meta_original\\Folder_025\\Helipad_02546.meta\n",
      "Saved :data\\Helipad_Dataset_meta\\Helipad_Dataset_meta_original\\Folder_025\\Helipad_02547.meta\n",
      "Saved :data\\Helipad_Dataset_meta\\Helipad_Dataset_meta_original\\Folder_025\\Helipad_02548.meta\n",
      "Saved :data\\Helipad_Dataset_meta\\Helipad_Dataset_meta_original\\Folder_025\\Helipad_02549.meta\n",
      "Saved :data\\Helipad_Dataset_meta\\Helipad_Dataset_meta_original\\Folder_025\\Helipad_02550.meta\n",
      "Saved :data\\Helipad_Dataset_meta\\Helipad_Dataset_meta_original\\Folder_025\\Helipad_02551.meta\n",
      "Saved :data\\Helipad_Dataset_meta\\Helipad_Dataset_meta_original\\Folder_025\\Helipad_02552.meta\n",
      "Saved :data\\Helipad_Dataset_meta\\Helipad_Dataset_meta_original\\Folder_025\\Helipad_02553.meta\n",
      "Saved :data\\Helipad_Dataset_meta\\Helipad_Dataset_meta_original\\Folder_025\\Helipad_02554.meta\n",
      "Saved :data\\Helipad_Dataset_meta\\Helipad_Dataset_meta_original\\Folder_025\\Helipad_02555.meta\n",
      "Saved :data\\Helipad_Dataset_meta\\Helipad_Dataset_meta_original\\Folder_025\\Helipad_02556.meta\n",
      "Saved :data\\Helipad_Dataset_meta\\Helipad_Dataset_meta_original\\Folder_025\\Helipad_02557.meta\n",
      "Saved :data\\Helipad_Dataset_meta\\Helipad_Dataset_meta_original\\Folder_025\\Helipad_02558.meta\n",
      "Saved :data\\Helipad_Dataset_meta\\Helipad_Dataset_meta_original\\Folder_025\\Helipad_02559.meta\n",
      "Saved :data\\Helipad_Dataset_meta\\Helipad_Dataset_meta_original\\Folder_025\\Helipad_02560.meta\n",
      "Saved :data\\Helipad_Dataset_meta\\Helipad_Dataset_meta_original\\Folder_025\\Helipad_02561.meta\n",
      "Saved :data\\Helipad_Dataset_meta\\Helipad_Dataset_meta_original\\Folder_025\\Helipad_02562.meta\n",
      "Saved :data\\Helipad_Dataset_meta\\Helipad_Dataset_meta_original\\Folder_025\\Helipad_02563.meta\n",
      "Saved :data\\Helipad_Dataset_meta\\Helipad_Dataset_meta_original\\Folder_025\\Helipad_02564.meta\n",
      "Saved :data\\Helipad_Dataset_meta\\Helipad_Dataset_meta_original\\Folder_025\\Helipad_02565.meta\n",
      "Saved :data\\Helipad_Dataset_meta\\Helipad_Dataset_meta_original\\Folder_025\\Helipad_02566.meta\n"
     ]
    },
    {
     "name": "stdout",
     "output_type": "stream",
     "text": [
      "Saved :data\\Helipad_Dataset_meta\\Helipad_Dataset_meta_original\\Folder_025\\Helipad_02567.meta\n",
      "Saved :data\\Helipad_Dataset_meta\\Helipad_Dataset_meta_original\\Folder_025\\Helipad_02568.meta\n",
      "Saved :data\\Helipad_Dataset_meta\\Helipad_Dataset_meta_original\\Folder_025\\Helipad_02569.meta\n",
      "Saved :data\\Helipad_Dataset_meta\\Helipad_Dataset_meta_original\\Folder_025\\Helipad_02570.meta\n",
      "Saved :data\\Helipad_Dataset_meta\\Helipad_Dataset_meta_original\\Folder_025\\Helipad_02571.meta\n",
      "Saved :data\\Helipad_Dataset_meta\\Helipad_Dataset_meta_original\\Folder_025\\Helipad_02572.meta\n",
      "Saved :data\\Helipad_Dataset_meta\\Helipad_Dataset_meta_original\\Folder_025\\Helipad_02573.meta\n",
      "Saved :data\\Helipad_Dataset_meta\\Helipad_Dataset_meta_original\\Folder_025\\Helipad_02574.meta\n",
      "Saved :data\\Helipad_Dataset_meta\\Helipad_Dataset_meta_original\\Folder_025\\Helipad_02575.meta\n",
      "Saved :data\\Helipad_Dataset_meta\\Helipad_Dataset_meta_original\\Folder_025\\Helipad_02576.meta\n",
      "Saved :data\\Helipad_Dataset_meta\\Helipad_Dataset_meta_original\\Folder_025\\Helipad_02577.meta\n",
      "Saved :data\\Helipad_Dataset_meta\\Helipad_Dataset_meta_original\\Folder_025\\Helipad_02578.meta\n",
      "Saved :data\\Helipad_Dataset_meta\\Helipad_Dataset_meta_original\\Folder_025\\Helipad_02579.meta\n",
      "Saved :data\\Helipad_Dataset_meta\\Helipad_Dataset_meta_original\\Folder_025\\Helipad_02580.meta\n",
      "Saved :data\\Helipad_Dataset_meta\\Helipad_Dataset_meta_original\\Folder_025\\Helipad_02581.meta\n",
      "Saved :data\\Helipad_Dataset_meta\\Helipad_Dataset_meta_original\\Folder_025\\Helipad_02582.meta\n",
      "Saved :data\\Helipad_Dataset_meta\\Helipad_Dataset_meta_original\\Folder_025\\Helipad_02583.meta\n",
      "Saved :data\\Helipad_Dataset_meta\\Helipad_Dataset_meta_original\\Folder_025\\Helipad_02584.meta\n",
      "Saved :data\\Helipad_Dataset_meta\\Helipad_Dataset_meta_original\\Folder_025\\Helipad_02585.meta\n",
      "Saved :data\\Helipad_Dataset_meta\\Helipad_Dataset_meta_original\\Folder_025\\Helipad_02586.meta\n",
      "Saved :data\\Helipad_Dataset_meta\\Helipad_Dataset_meta_original\\Folder_025\\Helipad_02587.meta\n",
      "Saved :data\\Helipad_Dataset_meta\\Helipad_Dataset_meta_original\\Folder_025\\Helipad_02588.meta\n",
      "Saved :data\\Helipad_Dataset_meta\\Helipad_Dataset_meta_original\\Folder_025\\Helipad_02589.meta\n",
      "Saved :data\\Helipad_Dataset_meta\\Helipad_Dataset_meta_original\\Folder_025\\Helipad_02590.meta\n",
      "Saved :data\\Helipad_Dataset_meta\\Helipad_Dataset_meta_original\\Folder_025\\Helipad_02591.meta\n",
      "Saved :data\\Helipad_Dataset_meta\\Helipad_Dataset_meta_original\\Folder_025\\Helipad_02592.meta\n",
      "Saved :data\\Helipad_Dataset_meta\\Helipad_Dataset_meta_original\\Folder_025\\Helipad_02593.meta\n",
      "Saved :data\\Helipad_Dataset_meta\\Helipad_Dataset_meta_original\\Folder_025\\Helipad_02594.meta\n",
      "Saved :data\\Helipad_Dataset_meta\\Helipad_Dataset_meta_original\\Folder_025\\Helipad_02595.meta\n",
      "Saved :data\\Helipad_Dataset_meta\\Helipad_Dataset_meta_original\\Folder_025\\Helipad_02596.meta\n",
      "Saved :data\\Helipad_Dataset_meta\\Helipad_Dataset_meta_original\\Folder_025\\Helipad_02597.meta\n",
      "Saved :data\\Helipad_Dataset_meta\\Helipad_Dataset_meta_original\\Folder_025\\Helipad_02598.meta\n",
      "Saved :data\\Helipad_Dataset_meta\\Helipad_Dataset_meta_original\\Folder_025\\Helipad_02599.meta\n",
      "Saved :data\\Helipad_Dataset_meta\\Helipad_Dataset_meta_original\\Folder_026\\Helipad_02600.meta\n",
      "Saved :data\\Helipad_Dataset_meta\\Helipad_Dataset_meta_original\\Folder_026\\Helipad_02601.meta\n",
      "Saved :data\\Helipad_Dataset_meta\\Helipad_Dataset_meta_original\\Folder_026\\Helipad_02602.meta\n",
      "Saved :data\\Helipad_Dataset_meta\\Helipad_Dataset_meta_original\\Folder_026\\Helipad_02603.meta\n",
      "Saved :data\\Helipad_Dataset_meta\\Helipad_Dataset_meta_original\\Folder_026\\Helipad_02604.meta\n",
      "Saved :data\\Helipad_Dataset_meta\\Helipad_Dataset_meta_original\\Folder_026\\Helipad_02605.meta\n",
      "Saved :data\\Helipad_Dataset_meta\\Helipad_Dataset_meta_original\\Folder_026\\Helipad_02606.meta\n",
      "Saved :data\\Helipad_Dataset_meta\\Helipad_Dataset_meta_original\\Folder_026\\Helipad_02607.meta\n",
      "Saved :data\\Helipad_Dataset_meta\\Helipad_Dataset_meta_original\\Folder_026\\Helipad_02608.meta\n",
      "Saved :data\\Helipad_Dataset_meta\\Helipad_Dataset_meta_original\\Folder_026\\Helipad_02609.meta\n",
      "Saved :data\\Helipad_Dataset_meta\\Helipad_Dataset_meta_original\\Folder_026\\Helipad_02610.meta\n",
      "Saved :data\\Helipad_Dataset_meta\\Helipad_Dataset_meta_original\\Folder_026\\Helipad_02611.meta\n",
      "Saved :data\\Helipad_Dataset_meta\\Helipad_Dataset_meta_original\\Folder_026\\Helipad_02612.meta\n",
      "Saved :data\\Helipad_Dataset_meta\\Helipad_Dataset_meta_original\\Folder_026\\Helipad_02613.meta\n",
      "Saved :data\\Helipad_Dataset_meta\\Helipad_Dataset_meta_original\\Folder_026\\Helipad_02614.meta\n",
      "Saved :data\\Helipad_Dataset_meta\\Helipad_Dataset_meta_original\\Folder_026\\Helipad_02615.meta\n",
      "Saved :data\\Helipad_Dataset_meta\\Helipad_Dataset_meta_original\\Folder_026\\Helipad_02616.meta\n",
      "Saved :data\\Helipad_Dataset_meta\\Helipad_Dataset_meta_original\\Folder_026\\Helipad_02617.meta\n",
      "Saved :data\\Helipad_Dataset_meta\\Helipad_Dataset_meta_original\\Folder_026\\Helipad_02618.meta\n",
      "Saved :data\\Helipad_Dataset_meta\\Helipad_Dataset_meta_original\\Folder_026\\Helipad_02619.meta\n",
      "Saved :data\\Helipad_Dataset_meta\\Helipad_Dataset_meta_original\\Folder_026\\Helipad_02620.meta\n",
      "Saved :data\\Helipad_Dataset_meta\\Helipad_Dataset_meta_original\\Folder_026\\Helipad_02621.meta\n",
      "Saved :data\\Helipad_Dataset_meta\\Helipad_Dataset_meta_original\\Folder_026\\Helipad_02622.meta\n",
      "Saved :data\\Helipad_Dataset_meta\\Helipad_Dataset_meta_original\\Folder_026\\Helipad_02623.meta\n",
      "Saved :data\\Helipad_Dataset_meta\\Helipad_Dataset_meta_original\\Folder_026\\Helipad_02624.meta\n",
      "Saved :data\\Helipad_Dataset_meta\\Helipad_Dataset_meta_original\\Folder_026\\Helipad_02625.meta\n",
      "Saved :data\\Helipad_Dataset_meta\\Helipad_Dataset_meta_original\\Folder_026\\Helipad_02626.meta\n",
      "Saved :data\\Helipad_Dataset_meta\\Helipad_Dataset_meta_original\\Folder_026\\Helipad_02627.meta\n",
      "Saved :data\\Helipad_Dataset_meta\\Helipad_Dataset_meta_original\\Folder_026\\Helipad_02628.meta\n",
      "Saved :data\\Helipad_Dataset_meta\\Helipad_Dataset_meta_original\\Folder_026\\Helipad_02629.meta\n",
      "Saved :data\\Helipad_Dataset_meta\\Helipad_Dataset_meta_original\\Folder_026\\Helipad_02630.meta\n",
      "Saved :data\\Helipad_Dataset_meta\\Helipad_Dataset_meta_original\\Folder_026\\Helipad_02631.meta\n",
      "Saved :data\\Helipad_Dataset_meta\\Helipad_Dataset_meta_original\\Folder_026\\Helipad_02632.meta\n",
      "Saved :data\\Helipad_Dataset_meta\\Helipad_Dataset_meta_original\\Folder_026\\Helipad_02633.meta\n",
      "Saved :data\\Helipad_Dataset_meta\\Helipad_Dataset_meta_original\\Folder_026\\Helipad_02634.meta\n",
      "Saved :data\\Helipad_Dataset_meta\\Helipad_Dataset_meta_original\\Folder_026\\Helipad_02635.meta\n",
      "Saved :data\\Helipad_Dataset_meta\\Helipad_Dataset_meta_original\\Folder_026\\Helipad_02636.meta\n",
      "Saved :data\\Helipad_Dataset_meta\\Helipad_Dataset_meta_original\\Folder_026\\Helipad_02637.meta\n",
      "Saved :data\\Helipad_Dataset_meta\\Helipad_Dataset_meta_original\\Folder_026\\Helipad_02638.meta\n",
      "Saved :data\\Helipad_Dataset_meta\\Helipad_Dataset_meta_original\\Folder_026\\Helipad_02639.meta\n",
      "Saved :data\\Helipad_Dataset_meta\\Helipad_Dataset_meta_original\\Folder_026\\Helipad_02640.meta\n",
      "Saved :data\\Helipad_Dataset_meta\\Helipad_Dataset_meta_original\\Folder_026\\Helipad_02641.meta\n",
      "Saved :data\\Helipad_Dataset_meta\\Helipad_Dataset_meta_original\\Folder_026\\Helipad_02642.meta\n",
      "Saved :data\\Helipad_Dataset_meta\\Helipad_Dataset_meta_original\\Folder_026\\Helipad_02643.meta\n",
      "Saved :data\\Helipad_Dataset_meta\\Helipad_Dataset_meta_original\\Folder_026\\Helipad_02644.meta\n",
      "Saved :data\\Helipad_Dataset_meta\\Helipad_Dataset_meta_original\\Folder_026\\Helipad_02645.meta\n",
      "Saved :data\\Helipad_Dataset_meta\\Helipad_Dataset_meta_original\\Folder_026\\Helipad_02646.meta\n",
      "Saved :data\\Helipad_Dataset_meta\\Helipad_Dataset_meta_original\\Folder_026\\Helipad_02647.meta\n",
      "Saved :data\\Helipad_Dataset_meta\\Helipad_Dataset_meta_original\\Folder_026\\Helipad_02648.meta\n",
      "Saved :data\\Helipad_Dataset_meta\\Helipad_Dataset_meta_original\\Folder_026\\Helipad_02649.meta\n",
      "Saved :data\\Helipad_Dataset_meta\\Helipad_Dataset_meta_original\\Folder_026\\Helipad_02650.meta\n",
      "Saved :data\\Helipad_Dataset_meta\\Helipad_Dataset_meta_original\\Folder_026\\Helipad_02651.meta\n",
      "Saved :data\\Helipad_Dataset_meta\\Helipad_Dataset_meta_original\\Folder_026\\Helipad_02652.meta\n",
      "Saved :data\\Helipad_Dataset_meta\\Helipad_Dataset_meta_original\\Folder_026\\Helipad_02653.meta\n",
      "Saved :data\\Helipad_Dataset_meta\\Helipad_Dataset_meta_original\\Folder_026\\Helipad_02654.meta\n",
      "Saved :data\\Helipad_Dataset_meta\\Helipad_Dataset_meta_original\\Folder_026\\Helipad_02655.meta\n",
      "Saved :data\\Helipad_Dataset_meta\\Helipad_Dataset_meta_original\\Folder_026\\Helipad_02656.meta\n",
      "Saved :data\\Helipad_Dataset_meta\\Helipad_Dataset_meta_original\\Folder_026\\Helipad_02657.meta\n",
      "Saved :data\\Helipad_Dataset_meta\\Helipad_Dataset_meta_original\\Folder_026\\Helipad_02658.meta\n",
      "Saved :data\\Helipad_Dataset_meta\\Helipad_Dataset_meta_original\\Folder_026\\Helipad_02659.meta\n",
      "Saved :data\\Helipad_Dataset_meta\\Helipad_Dataset_meta_original\\Folder_026\\Helipad_02660.meta\n",
      "Saved :data\\Helipad_Dataset_meta\\Helipad_Dataset_meta_original\\Folder_026\\Helipad_02661.meta\n",
      "Saved :data\\Helipad_Dataset_meta\\Helipad_Dataset_meta_original\\Folder_026\\Helipad_02662.meta\n",
      "Saved :data\\Helipad_Dataset_meta\\Helipad_Dataset_meta_original\\Folder_026\\Helipad_02663.meta\n",
      "Saved :data\\Helipad_Dataset_meta\\Helipad_Dataset_meta_original\\Folder_026\\Helipad_02664.meta\n",
      "Saved :data\\Helipad_Dataset_meta\\Helipad_Dataset_meta_original\\Folder_026\\Helipad_02665.meta\n",
      "Saved :data\\Helipad_Dataset_meta\\Helipad_Dataset_meta_original\\Folder_026\\Helipad_02666.meta\n",
      "Saved :data\\Helipad_Dataset_meta\\Helipad_Dataset_meta_original\\Folder_026\\Helipad_02667.meta\n",
      "Saved :data\\Helipad_Dataset_meta\\Helipad_Dataset_meta_original\\Folder_026\\Helipad_02668.meta\n",
      "Saved :data\\Helipad_Dataset_meta\\Helipad_Dataset_meta_original\\Folder_026\\Helipad_02669.meta\n",
      "Saved :data\\Helipad_Dataset_meta\\Helipad_Dataset_meta_original\\Folder_026\\Helipad_02670.meta\n",
      "Saved :data\\Helipad_Dataset_meta\\Helipad_Dataset_meta_original\\Folder_026\\Helipad_02671.meta\n",
      "Saved :data\\Helipad_Dataset_meta\\Helipad_Dataset_meta_original\\Folder_026\\Helipad_02672.meta\n",
      "Saved :data\\Helipad_Dataset_meta\\Helipad_Dataset_meta_original\\Folder_026\\Helipad_02673.meta\n",
      "Saved :data\\Helipad_Dataset_meta\\Helipad_Dataset_meta_original\\Folder_026\\Helipad_02674.meta\n",
      "Saved :data\\Helipad_Dataset_meta\\Helipad_Dataset_meta_original\\Folder_026\\Helipad_02675.meta\n",
      "Saved :data\\Helipad_Dataset_meta\\Helipad_Dataset_meta_original\\Folder_026\\Helipad_02676.meta\n",
      "Saved :data\\Helipad_Dataset_meta\\Helipad_Dataset_meta_original\\Folder_026\\Helipad_02677.meta\n",
      "Saved :data\\Helipad_Dataset_meta\\Helipad_Dataset_meta_original\\Folder_026\\Helipad_02678.meta\n",
      "Saved :data\\Helipad_Dataset_meta\\Helipad_Dataset_meta_original\\Folder_026\\Helipad_02679.meta\n",
      "Saved :data\\Helipad_Dataset_meta\\Helipad_Dataset_meta_original\\Folder_026\\Helipad_02680.meta\n",
      "Saved :data\\Helipad_Dataset_meta\\Helipad_Dataset_meta_original\\Folder_026\\Helipad_02681.meta\n",
      "Saved :data\\Helipad_Dataset_meta\\Helipad_Dataset_meta_original\\Folder_026\\Helipad_02682.meta\n",
      "Saved :data\\Helipad_Dataset_meta\\Helipad_Dataset_meta_original\\Folder_026\\Helipad_02683.meta\n",
      "Saved :data\\Helipad_Dataset_meta\\Helipad_Dataset_meta_original\\Folder_026\\Helipad_02684.meta\n",
      "Saved :data\\Helipad_Dataset_meta\\Helipad_Dataset_meta_original\\Folder_026\\Helipad_02685.meta\n",
      "Saved :data\\Helipad_Dataset_meta\\Helipad_Dataset_meta_original\\Folder_026\\Helipad_02686.meta\n",
      "Saved :data\\Helipad_Dataset_meta\\Helipad_Dataset_meta_original\\Folder_026\\Helipad_02687.meta\n",
      "Saved :data\\Helipad_Dataset_meta\\Helipad_Dataset_meta_original\\Folder_026\\Helipad_02688.meta\n",
      "Saved :data\\Helipad_Dataset_meta\\Helipad_Dataset_meta_original\\Folder_026\\Helipad_02689.meta\n",
      "Saved :data\\Helipad_Dataset_meta\\Helipad_Dataset_meta_original\\Folder_026\\Helipad_02690.meta\n",
      "Saved :data\\Helipad_Dataset_meta\\Helipad_Dataset_meta_original\\Folder_026\\Helipad_02691.meta\n",
      "Saved :data\\Helipad_Dataset_meta\\Helipad_Dataset_meta_original\\Folder_026\\Helipad_02692.meta\n",
      "Saved :data\\Helipad_Dataset_meta\\Helipad_Dataset_meta_original\\Folder_026\\Helipad_02693.meta\n",
      "Saved :data\\Helipad_Dataset_meta\\Helipad_Dataset_meta_original\\Folder_026\\Helipad_02694.meta\n",
      "Saved :data\\Helipad_Dataset_meta\\Helipad_Dataset_meta_original\\Folder_026\\Helipad_02695.meta\n",
      "Saved :data\\Helipad_Dataset_meta\\Helipad_Dataset_meta_original\\Folder_026\\Helipad_02696.meta\n",
      "Saved :data\\Helipad_Dataset_meta\\Helipad_Dataset_meta_original\\Folder_026\\Helipad_02697.meta\n",
      "Saved :data\\Helipad_Dataset_meta\\Helipad_Dataset_meta_original\\Folder_026\\Helipad_02698.meta\n",
      "Saved :data\\Helipad_Dataset_meta\\Helipad_Dataset_meta_original\\Folder_026\\Helipad_02699.meta\n",
      "Saved :data\\Helipad_Dataset_meta\\Helipad_Dataset_meta_original\\Folder_027\\Helipad_02700.meta\n",
      "Saved :data\\Helipad_Dataset_meta\\Helipad_Dataset_meta_original\\Folder_027\\Helipad_02701.meta\n",
      "Saved :data\\Helipad_Dataset_meta\\Helipad_Dataset_meta_original\\Folder_027\\Helipad_02702.meta\n",
      "Saved :data\\Helipad_Dataset_meta\\Helipad_Dataset_meta_original\\Folder_027\\Helipad_02703.meta\n",
      "Saved :data\\Helipad_Dataset_meta\\Helipad_Dataset_meta_original\\Folder_027\\Helipad_02704.meta\n",
      "Saved :data\\Helipad_Dataset_meta\\Helipad_Dataset_meta_original\\Folder_027\\Helipad_02705.meta\n",
      "Saved :data\\Helipad_Dataset_meta\\Helipad_Dataset_meta_original\\Folder_027\\Helipad_02706.meta\n",
      "Saved :data\\Helipad_Dataset_meta\\Helipad_Dataset_meta_original\\Folder_027\\Helipad_02707.meta\n",
      "Saved :data\\Helipad_Dataset_meta\\Helipad_Dataset_meta_original\\Folder_027\\Helipad_02708.meta\n",
      "Saved :data\\Helipad_Dataset_meta\\Helipad_Dataset_meta_original\\Folder_027\\Helipad_02709.meta\n",
      "Saved :data\\Helipad_Dataset_meta\\Helipad_Dataset_meta_original\\Folder_027\\Helipad_02710.meta\n",
      "Saved :data\\Helipad_Dataset_meta\\Helipad_Dataset_meta_original\\Folder_027\\Helipad_02711.meta\n",
      "Saved :data\\Helipad_Dataset_meta\\Helipad_Dataset_meta_original\\Folder_027\\Helipad_02712.meta\n",
      "Saved :data\\Helipad_Dataset_meta\\Helipad_Dataset_meta_original\\Folder_027\\Helipad_02713.meta\n",
      "Saved :data\\Helipad_Dataset_meta\\Helipad_Dataset_meta_original\\Folder_027\\Helipad_02714.meta\n",
      "Saved :data\\Helipad_Dataset_meta\\Helipad_Dataset_meta_original\\Folder_027\\Helipad_02715.meta\n",
      "Saved :data\\Helipad_Dataset_meta\\Helipad_Dataset_meta_original\\Folder_027\\Helipad_02716.meta\n",
      "Saved :data\\Helipad_Dataset_meta\\Helipad_Dataset_meta_original\\Folder_027\\Helipad_02717.meta\n",
      "Saved :data\\Helipad_Dataset_meta\\Helipad_Dataset_meta_original\\Folder_027\\Helipad_02718.meta\n",
      "Saved :data\\Helipad_Dataset_meta\\Helipad_Dataset_meta_original\\Folder_027\\Helipad_02719.meta\n",
      "Saved :data\\Helipad_Dataset_meta\\Helipad_Dataset_meta_original\\Folder_027\\Helipad_02720.meta\n",
      "Saved :data\\Helipad_Dataset_meta\\Helipad_Dataset_meta_original\\Folder_027\\Helipad_02721.meta\n",
      "Saved :data\\Helipad_Dataset_meta\\Helipad_Dataset_meta_original\\Folder_027\\Helipad_02722.meta\n",
      "Saved :data\\Helipad_Dataset_meta\\Helipad_Dataset_meta_original\\Folder_027\\Helipad_02723.meta\n",
      "Saved :data\\Helipad_Dataset_meta\\Helipad_Dataset_meta_original\\Folder_027\\Helipad_02724.meta\n",
      "Saved :data\\Helipad_Dataset_meta\\Helipad_Dataset_meta_original\\Folder_027\\Helipad_02725.meta\n"
     ]
    },
    {
     "name": "stdout",
     "output_type": "stream",
     "text": [
      "Saved :data\\Helipad_Dataset_meta\\Helipad_Dataset_meta_original\\Folder_027\\Helipad_02726.meta\n",
      "Saved :data\\Helipad_Dataset_meta\\Helipad_Dataset_meta_original\\Folder_027\\Helipad_02727.meta\n",
      "Saved :data\\Helipad_Dataset_meta\\Helipad_Dataset_meta_original\\Folder_027\\Helipad_02728.meta\n",
      "Saved :data\\Helipad_Dataset_meta\\Helipad_Dataset_meta_original\\Folder_027\\Helipad_02729.meta\n",
      "Saved :data\\Helipad_Dataset_meta\\Helipad_Dataset_meta_original\\Folder_027\\Helipad_02730.meta\n",
      "Saved :data\\Helipad_Dataset_meta\\Helipad_Dataset_meta_original\\Folder_027\\Helipad_02731.meta\n",
      "Saved :data\\Helipad_Dataset_meta\\Helipad_Dataset_meta_original\\Folder_027\\Helipad_02732.meta\n",
      "Saved :data\\Helipad_Dataset_meta\\Helipad_Dataset_meta_original\\Folder_027\\Helipad_02733.meta\n",
      "Saved :data\\Helipad_Dataset_meta\\Helipad_Dataset_meta_original\\Folder_027\\Helipad_02734.meta\n",
      "Saved :data\\Helipad_Dataset_meta\\Helipad_Dataset_meta_original\\Folder_027\\Helipad_02735.meta\n",
      "Saved :data\\Helipad_Dataset_meta\\Helipad_Dataset_meta_original\\Folder_027\\Helipad_02736.meta\n",
      "Saved :data\\Helipad_Dataset_meta\\Helipad_Dataset_meta_original\\Folder_027\\Helipad_02737.meta\n",
      "Saved :data\\Helipad_Dataset_meta\\Helipad_Dataset_meta_original\\Folder_027\\Helipad_02738.meta\n",
      "Saved :data\\Helipad_Dataset_meta\\Helipad_Dataset_meta_original\\Folder_027\\Helipad_02739.meta\n",
      "Saved :data\\Helipad_Dataset_meta\\Helipad_Dataset_meta_original\\Folder_027\\Helipad_02740.meta\n",
      "Saved :data\\Helipad_Dataset_meta\\Helipad_Dataset_meta_original\\Folder_027\\Helipad_02741.meta\n",
      "Saved :data\\Helipad_Dataset_meta\\Helipad_Dataset_meta_original\\Folder_027\\Helipad_02742.meta\n",
      "Saved :data\\Helipad_Dataset_meta\\Helipad_Dataset_meta_original\\Folder_027\\Helipad_02743.meta\n",
      "Saved :data\\Helipad_Dataset_meta\\Helipad_Dataset_meta_original\\Folder_027\\Helipad_02744.meta\n",
      "Saved :data\\Helipad_Dataset_meta\\Helipad_Dataset_meta_original\\Folder_027\\Helipad_02745.meta\n",
      "Saved :data\\Helipad_Dataset_meta\\Helipad_Dataset_meta_original\\Folder_027\\Helipad_02746.meta\n",
      "Saved :data\\Helipad_Dataset_meta\\Helipad_Dataset_meta_original\\Folder_027\\Helipad_02747.meta\n",
      "Saved :data\\Helipad_Dataset_meta\\Helipad_Dataset_meta_original\\Folder_027\\Helipad_02748.meta\n",
      "Saved :data\\Helipad_Dataset_meta\\Helipad_Dataset_meta_original\\Folder_027\\Helipad_02749.meta\n",
      "Saved :data\\Helipad_Dataset_meta\\Helipad_Dataset_meta_original\\Folder_027\\Helipad_02750.meta\n",
      "Saved :data\\Helipad_Dataset_meta\\Helipad_Dataset_meta_original\\Folder_027\\Helipad_02751.meta\n",
      "Saved :data\\Helipad_Dataset_meta\\Helipad_Dataset_meta_original\\Folder_027\\Helipad_02752.meta\n",
      "Saved :data\\Helipad_Dataset_meta\\Helipad_Dataset_meta_original\\Folder_027\\Helipad_02753.meta\n",
      "Saved :data\\Helipad_Dataset_meta\\Helipad_Dataset_meta_original\\Folder_027\\Helipad_02754.meta\n",
      "Saved :data\\Helipad_Dataset_meta\\Helipad_Dataset_meta_original\\Folder_027\\Helipad_02755.meta\n",
      "Saved :data\\Helipad_Dataset_meta\\Helipad_Dataset_meta_original\\Folder_027\\Helipad_02756.meta\n",
      "Saved :data\\Helipad_Dataset_meta\\Helipad_Dataset_meta_original\\Folder_027\\Helipad_02757.meta\n",
      "Saved :data\\Helipad_Dataset_meta\\Helipad_Dataset_meta_original\\Folder_027\\Helipad_02758.meta\n",
      "Saved :data\\Helipad_Dataset_meta\\Helipad_Dataset_meta_original\\Folder_027\\Helipad_02759.meta\n",
      "Saved :data\\Helipad_Dataset_meta\\Helipad_Dataset_meta_original\\Folder_027\\Helipad_02760.meta\n",
      "Saved :data\\Helipad_Dataset_meta\\Helipad_Dataset_meta_original\\Folder_027\\Helipad_02761.meta\n",
      "Saved :data\\Helipad_Dataset_meta\\Helipad_Dataset_meta_original\\Folder_027\\Helipad_02762.meta\n",
      "Saved :data\\Helipad_Dataset_meta\\Helipad_Dataset_meta_original\\Folder_027\\Helipad_02763.meta\n",
      "Saved :data\\Helipad_Dataset_meta\\Helipad_Dataset_meta_original\\Folder_027\\Helipad_02764.meta\n",
      "Saved :data\\Helipad_Dataset_meta\\Helipad_Dataset_meta_original\\Folder_027\\Helipad_02765.meta\n",
      "Saved :data\\Helipad_Dataset_meta\\Helipad_Dataset_meta_original\\Folder_027\\Helipad_02766.meta\n",
      "Saved :data\\Helipad_Dataset_meta\\Helipad_Dataset_meta_original\\Folder_027\\Helipad_02767.meta\n",
      "Saved :data\\Helipad_Dataset_meta\\Helipad_Dataset_meta_original\\Folder_027\\Helipad_02768.meta\n",
      "Saved :data\\Helipad_Dataset_meta\\Helipad_Dataset_meta_original\\Folder_027\\Helipad_02769.meta\n",
      "Saved :data\\Helipad_Dataset_meta\\Helipad_Dataset_meta_original\\Folder_027\\Helipad_02770.meta\n",
      "Saved :data\\Helipad_Dataset_meta\\Helipad_Dataset_meta_original\\Folder_027\\Helipad_02771.meta\n",
      "Saved :data\\Helipad_Dataset_meta\\Helipad_Dataset_meta_original\\Folder_027\\Helipad_02772.meta\n",
      "Saved :data\\Helipad_Dataset_meta\\Helipad_Dataset_meta_original\\Folder_027\\Helipad_02773.meta\n",
      "Saved :data\\Helipad_Dataset_meta\\Helipad_Dataset_meta_original\\Folder_027\\Helipad_02774.meta\n",
      "Saved :data\\Helipad_Dataset_meta\\Helipad_Dataset_meta_original\\Folder_027\\Helipad_02775.meta\n",
      "Saved :data\\Helipad_Dataset_meta\\Helipad_Dataset_meta_original\\Folder_027\\Helipad_02776.meta\n",
      "Saved :data\\Helipad_Dataset_meta\\Helipad_Dataset_meta_original\\Folder_027\\Helipad_02777.meta\n",
      "Saved :data\\Helipad_Dataset_meta\\Helipad_Dataset_meta_original\\Folder_027\\Helipad_02778.meta\n",
      "Saved :data\\Helipad_Dataset_meta\\Helipad_Dataset_meta_original\\Folder_027\\Helipad_02779.meta\n",
      "Saved :data\\Helipad_Dataset_meta\\Helipad_Dataset_meta_original\\Folder_027\\Helipad_02780.meta\n",
      "Saved :data\\Helipad_Dataset_meta\\Helipad_Dataset_meta_original\\Folder_027\\Helipad_02781.meta\n",
      "Saved :data\\Helipad_Dataset_meta\\Helipad_Dataset_meta_original\\Folder_027\\Helipad_02782.meta\n",
      "Saved :data\\Helipad_Dataset_meta\\Helipad_Dataset_meta_original\\Folder_027\\Helipad_02783.meta\n",
      "Saved :data\\Helipad_Dataset_meta\\Helipad_Dataset_meta_original\\Folder_027\\Helipad_02784.meta\n",
      "Saved :data\\Helipad_Dataset_meta\\Helipad_Dataset_meta_original\\Folder_027\\Helipad_02785.meta\n",
      "Saved :data\\Helipad_Dataset_meta\\Helipad_Dataset_meta_original\\Folder_027\\Helipad_02786.meta\n",
      "Saved :data\\Helipad_Dataset_meta\\Helipad_Dataset_meta_original\\Folder_027\\Helipad_02787.meta\n",
      "Saved :data\\Helipad_Dataset_meta\\Helipad_Dataset_meta_original\\Folder_027\\Helipad_02788.meta\n",
      "Saved :data\\Helipad_Dataset_meta\\Helipad_Dataset_meta_original\\Folder_027\\Helipad_02789.meta\n",
      "Saved :data\\Helipad_Dataset_meta\\Helipad_Dataset_meta_original\\Folder_027\\Helipad_02790.meta\n",
      "Saved :data\\Helipad_Dataset_meta\\Helipad_Dataset_meta_original\\Folder_027\\Helipad_02791.meta\n",
      "Saved :data\\Helipad_Dataset_meta\\Helipad_Dataset_meta_original\\Folder_027\\Helipad_02792.meta\n",
      "Saved :data\\Helipad_Dataset_meta\\Helipad_Dataset_meta_original\\Folder_027\\Helipad_02793.meta\n",
      "Saved :data\\Helipad_Dataset_meta\\Helipad_Dataset_meta_original\\Folder_027\\Helipad_02794.meta\n",
      "Saved :data\\Helipad_Dataset_meta\\Helipad_Dataset_meta_original\\Folder_027\\Helipad_02795.meta\n",
      "Saved :data\\Helipad_Dataset_meta\\Helipad_Dataset_meta_original\\Folder_027\\Helipad_02796.meta\n",
      "Saved :data\\Helipad_Dataset_meta\\Helipad_Dataset_meta_original\\Folder_027\\Helipad_02797.meta\n",
      "Saved :data\\Helipad_Dataset_meta\\Helipad_Dataset_meta_original\\Folder_027\\Helipad_02798.meta\n",
      "Saved :data\\Helipad_Dataset_meta\\Helipad_Dataset_meta_original\\Folder_027\\Helipad_02799.meta\n",
      "Saved :data\\Helipad_Dataset_meta\\Helipad_Dataset_meta_original\\Folder_028\\Helipad_02800.meta\n",
      "Saved :data\\Helipad_Dataset_meta\\Helipad_Dataset_meta_original\\Folder_028\\Helipad_02801.meta\n",
      "Saved :data\\Helipad_Dataset_meta\\Helipad_Dataset_meta_original\\Folder_028\\Helipad_02802.meta\n",
      "Saved :data\\Helipad_Dataset_meta\\Helipad_Dataset_meta_original\\Folder_028\\Helipad_02803.meta\n",
      "Saved :data\\Helipad_Dataset_meta\\Helipad_Dataset_meta_original\\Folder_028\\Helipad_02804.meta\n",
      "Saved :data\\Helipad_Dataset_meta\\Helipad_Dataset_meta_original\\Folder_028\\Helipad_02805.meta\n",
      "Saved :data\\Helipad_Dataset_meta\\Helipad_Dataset_meta_original\\Folder_028\\Helipad_02806.meta\n",
      "Saved :data\\Helipad_Dataset_meta\\Helipad_Dataset_meta_original\\Folder_028\\Helipad_02807.meta\n",
      "Saved :data\\Helipad_Dataset_meta\\Helipad_Dataset_meta_original\\Folder_028\\Helipad_02808.meta\n",
      "Saved :data\\Helipad_Dataset_meta\\Helipad_Dataset_meta_original\\Folder_028\\Helipad_02809.meta\n",
      "Saved :data\\Helipad_Dataset_meta\\Helipad_Dataset_meta_original\\Folder_028\\Helipad_02810.meta\n",
      "Saved :data\\Helipad_Dataset_meta\\Helipad_Dataset_meta_original\\Folder_028\\Helipad_02811.meta\n",
      "Saved :data\\Helipad_Dataset_meta\\Helipad_Dataset_meta_original\\Folder_028\\Helipad_02812.meta\n",
      "Saved :data\\Helipad_Dataset_meta\\Helipad_Dataset_meta_original\\Folder_028\\Helipad_02813.meta\n",
      "Saved :data\\Helipad_Dataset_meta\\Helipad_Dataset_meta_original\\Folder_028\\Helipad_02814.meta\n",
      "Saved :data\\Helipad_Dataset_meta\\Helipad_Dataset_meta_original\\Folder_028\\Helipad_02815.meta\n",
      "Saved :data\\Helipad_Dataset_meta\\Helipad_Dataset_meta_original\\Folder_028\\Helipad_02816.meta\n",
      "Saved :data\\Helipad_Dataset_meta\\Helipad_Dataset_meta_original\\Folder_028\\Helipad_02817.meta\n",
      "Saved :data\\Helipad_Dataset_meta\\Helipad_Dataset_meta_original\\Folder_028\\Helipad_02818.meta\n",
      "Saved :data\\Helipad_Dataset_meta\\Helipad_Dataset_meta_original\\Folder_028\\Helipad_02819.meta\n",
      "Saved :data\\Helipad_Dataset_meta\\Helipad_Dataset_meta_original\\Folder_028\\Helipad_02820.meta\n",
      "Saved :data\\Helipad_Dataset_meta\\Helipad_Dataset_meta_original\\Folder_028\\Helipad_02821.meta\n",
      "Saved :data\\Helipad_Dataset_meta\\Helipad_Dataset_meta_original\\Folder_028\\Helipad_02822.meta\n",
      "Saved :data\\Helipad_Dataset_meta\\Helipad_Dataset_meta_original\\Folder_028\\Helipad_02823.meta\n",
      "Saved :data\\Helipad_Dataset_meta\\Helipad_Dataset_meta_original\\Folder_028\\Helipad_02824.meta\n",
      "Saved :data\\Helipad_Dataset_meta\\Helipad_Dataset_meta_original\\Folder_028\\Helipad_02825.meta\n",
      "Saved :data\\Helipad_Dataset_meta\\Helipad_Dataset_meta_original\\Folder_028\\Helipad_02826.meta\n",
      "Saved :data\\Helipad_Dataset_meta\\Helipad_Dataset_meta_original\\Folder_028\\Helipad_02827.meta\n",
      "Saved :data\\Helipad_Dataset_meta\\Helipad_Dataset_meta_original\\Folder_028\\Helipad_02828.meta\n",
      "Saved :data\\Helipad_Dataset_meta\\Helipad_Dataset_meta_original\\Folder_028\\Helipad_02829.meta\n",
      "Saved :data\\Helipad_Dataset_meta\\Helipad_Dataset_meta_original\\Folder_028\\Helipad_02830.meta\n",
      "Saved :data\\Helipad_Dataset_meta\\Helipad_Dataset_meta_original\\Folder_028\\Helipad_02831.meta\n",
      "Saved :data\\Helipad_Dataset_meta\\Helipad_Dataset_meta_original\\Folder_028\\Helipad_02832.meta\n",
      "Saved :data\\Helipad_Dataset_meta\\Helipad_Dataset_meta_original\\Folder_028\\Helipad_02833.meta\n",
      "Saved :data\\Helipad_Dataset_meta\\Helipad_Dataset_meta_original\\Folder_028\\Helipad_02834.meta\n",
      "Saved :data\\Helipad_Dataset_meta\\Helipad_Dataset_meta_original\\Folder_028\\Helipad_02835.meta\n",
      "Saved :data\\Helipad_Dataset_meta\\Helipad_Dataset_meta_original\\Folder_028\\Helipad_02836.meta\n",
      "Saved :data\\Helipad_Dataset_meta\\Helipad_Dataset_meta_original\\Folder_028\\Helipad_02837.meta\n",
      "Saved :data\\Helipad_Dataset_meta\\Helipad_Dataset_meta_original\\Folder_028\\Helipad_02838.meta\n",
      "Saved :data\\Helipad_Dataset_meta\\Helipad_Dataset_meta_original\\Folder_028\\Helipad_02839.meta\n",
      "Saved :data\\Helipad_Dataset_meta\\Helipad_Dataset_meta_original\\Folder_028\\Helipad_02840.meta\n",
      "Saved :data\\Helipad_Dataset_meta\\Helipad_Dataset_meta_original\\Folder_028\\Helipad_02841.meta\n",
      "Saved :data\\Helipad_Dataset_meta\\Helipad_Dataset_meta_original\\Folder_028\\Helipad_02842.meta\n",
      "Saved :data\\Helipad_Dataset_meta\\Helipad_Dataset_meta_original\\Folder_028\\Helipad_02843.meta\n",
      "Saved :data\\Helipad_Dataset_meta\\Helipad_Dataset_meta_original\\Folder_028\\Helipad_02844.meta\n",
      "Saved :data\\Helipad_Dataset_meta\\Helipad_Dataset_meta_original\\Folder_028\\Helipad_02845.meta\n",
      "Saved :data\\Helipad_Dataset_meta\\Helipad_Dataset_meta_original\\Folder_028\\Helipad_02846.meta\n",
      "Saved :data\\Helipad_Dataset_meta\\Helipad_Dataset_meta_original\\Folder_028\\Helipad_02847.meta\n",
      "Saved :data\\Helipad_Dataset_meta\\Helipad_Dataset_meta_original\\Folder_028\\Helipad_02848.meta\n",
      "Saved :data\\Helipad_Dataset_meta\\Helipad_Dataset_meta_original\\Folder_028\\Helipad_02849.meta\n",
      "Saved :data\\Helipad_Dataset_meta\\Helipad_Dataset_meta_original\\Folder_028\\Helipad_02850.meta\n",
      "Saved :data\\Helipad_Dataset_meta\\Helipad_Dataset_meta_original\\Folder_028\\Helipad_02851.meta\n",
      "Saved :data\\Helipad_Dataset_meta\\Helipad_Dataset_meta_original\\Folder_028\\Helipad_02852.meta\n",
      "Saved :data\\Helipad_Dataset_meta\\Helipad_Dataset_meta_original\\Folder_028\\Helipad_02853.meta\n",
      "Saved :data\\Helipad_Dataset_meta\\Helipad_Dataset_meta_original\\Folder_028\\Helipad_02854.meta\n",
      "Saved :data\\Helipad_Dataset_meta\\Helipad_Dataset_meta_original\\Folder_028\\Helipad_02855.meta\n",
      "Saved :data\\Helipad_Dataset_meta\\Helipad_Dataset_meta_original\\Folder_028\\Helipad_02856.meta\n",
      "Saved :data\\Helipad_Dataset_meta\\Helipad_Dataset_meta_original\\Folder_028\\Helipad_02857.meta\n",
      "Saved :data\\Helipad_Dataset_meta\\Helipad_Dataset_meta_original\\Folder_028\\Helipad_02858.meta\n",
      "Saved :data\\Helipad_Dataset_meta\\Helipad_Dataset_meta_original\\Folder_028\\Helipad_02859.meta\n",
      "Saved :data\\Helipad_Dataset_meta\\Helipad_Dataset_meta_original\\Folder_028\\Helipad_02860.meta\n",
      "Saved :data\\Helipad_Dataset_meta\\Helipad_Dataset_meta_original\\Folder_028\\Helipad_02861.meta\n",
      "Saved :data\\Helipad_Dataset_meta\\Helipad_Dataset_meta_original\\Folder_028\\Helipad_02862.meta\n",
      "Saved :data\\Helipad_Dataset_meta\\Helipad_Dataset_meta_original\\Folder_028\\Helipad_02863.meta\n",
      "Saved :data\\Helipad_Dataset_meta\\Helipad_Dataset_meta_original\\Folder_028\\Helipad_02864.meta\n",
      "Saved :data\\Helipad_Dataset_meta\\Helipad_Dataset_meta_original\\Folder_028\\Helipad_02865.meta\n",
      "Saved :data\\Helipad_Dataset_meta\\Helipad_Dataset_meta_original\\Folder_028\\Helipad_02866.meta\n",
      "Saved :data\\Helipad_Dataset_meta\\Helipad_Dataset_meta_original\\Folder_028\\Helipad_02867.meta\n",
      "Saved :data\\Helipad_Dataset_meta\\Helipad_Dataset_meta_original\\Folder_028\\Helipad_02868.meta\n",
      "Saved :data\\Helipad_Dataset_meta\\Helipad_Dataset_meta_original\\Folder_028\\Helipad_02869.meta\n",
      "Saved :data\\Helipad_Dataset_meta\\Helipad_Dataset_meta_original\\Folder_028\\Helipad_02870.meta\n",
      "Saved :data\\Helipad_Dataset_meta\\Helipad_Dataset_meta_original\\Folder_028\\Helipad_02871.meta\n",
      "Saved :data\\Helipad_Dataset_meta\\Helipad_Dataset_meta_original\\Folder_028\\Helipad_02872.meta\n",
      "Saved :data\\Helipad_Dataset_meta\\Helipad_Dataset_meta_original\\Folder_028\\Helipad_02873.meta\n",
      "Saved :data\\Helipad_Dataset_meta\\Helipad_Dataset_meta_original\\Folder_028\\Helipad_02874.meta\n",
      "Saved :data\\Helipad_Dataset_meta\\Helipad_Dataset_meta_original\\Folder_028\\Helipad_02875.meta\n",
      "Saved :data\\Helipad_Dataset_meta\\Helipad_Dataset_meta_original\\Folder_028\\Helipad_02876.meta\n",
      "Saved :data\\Helipad_Dataset_meta\\Helipad_Dataset_meta_original\\Folder_028\\Helipad_02877.meta\n",
      "Saved :data\\Helipad_Dataset_meta\\Helipad_Dataset_meta_original\\Folder_028\\Helipad_02878.meta\n",
      "Saved :data\\Helipad_Dataset_meta\\Helipad_Dataset_meta_original\\Folder_028\\Helipad_02879.meta\n",
      "Saved :data\\Helipad_Dataset_meta\\Helipad_Dataset_meta_original\\Folder_028\\Helipad_02880.meta\n",
      "Saved :data\\Helipad_Dataset_meta\\Helipad_Dataset_meta_original\\Folder_028\\Helipad_02881.meta\n",
      "Saved :data\\Helipad_Dataset_meta\\Helipad_Dataset_meta_original\\Folder_028\\Helipad_02882.meta\n",
      "Saved :data\\Helipad_Dataset_meta\\Helipad_Dataset_meta_original\\Folder_028\\Helipad_02883.meta\n",
      "Saved :data\\Helipad_Dataset_meta\\Helipad_Dataset_meta_original\\Folder_028\\Helipad_02884.meta\n"
     ]
    },
    {
     "name": "stdout",
     "output_type": "stream",
     "text": [
      "Saved :data\\Helipad_Dataset_meta\\Helipad_Dataset_meta_original\\Folder_028\\Helipad_02885.meta\n",
      "Saved :data\\Helipad_Dataset_meta\\Helipad_Dataset_meta_original\\Folder_028\\Helipad_02886.meta\n",
      "Saved :data\\Helipad_Dataset_meta\\Helipad_Dataset_meta_original\\Folder_028\\Helipad_02887.meta\n",
      "Saved :data\\Helipad_Dataset_meta\\Helipad_Dataset_meta_original\\Folder_028\\Helipad_02888.meta\n",
      "Saved :data\\Helipad_Dataset_meta\\Helipad_Dataset_meta_original\\Folder_028\\Helipad_02889.meta\n",
      "Saved :data\\Helipad_Dataset_meta\\Helipad_Dataset_meta_original\\Folder_028\\Helipad_02890.meta\n",
      "Saved :data\\Helipad_Dataset_meta\\Helipad_Dataset_meta_original\\Folder_028\\Helipad_02891.meta\n",
      "Saved :data\\Helipad_Dataset_meta\\Helipad_Dataset_meta_original\\Folder_028\\Helipad_02892.meta\n",
      "Saved :data\\Helipad_Dataset_meta\\Helipad_Dataset_meta_original\\Folder_028\\Helipad_02893.meta\n",
      "Saved :data\\Helipad_Dataset_meta\\Helipad_Dataset_meta_original\\Folder_028\\Helipad_02894.meta\n",
      "Saved :data\\Helipad_Dataset_meta\\Helipad_Dataset_meta_original\\Folder_028\\Helipad_02895.meta\n",
      "Saved :data\\Helipad_Dataset_meta\\Helipad_Dataset_meta_original\\Folder_028\\Helipad_02896.meta\n",
      "Saved :data\\Helipad_Dataset_meta\\Helipad_Dataset_meta_original\\Folder_028\\Helipad_02897.meta\n",
      "Saved :data\\Helipad_Dataset_meta\\Helipad_Dataset_meta_original\\Folder_028\\Helipad_02898.meta\n",
      "Saved :data\\Helipad_Dataset_meta\\Helipad_Dataset_meta_original\\Folder_028\\Helipad_02899.meta\n",
      "Saved :data\\Helipad_Dataset_meta\\Helipad_Dataset_meta_original\\Folder_029\\Helipad_02900.meta\n",
      "Saved :data\\Helipad_Dataset_meta\\Helipad_Dataset_meta_original\\Folder_029\\Helipad_02901.meta\n",
      "Saved :data\\Helipad_Dataset_meta\\Helipad_Dataset_meta_original\\Folder_029\\Helipad_02902.meta\n",
      "Saved :data\\Helipad_Dataset_meta\\Helipad_Dataset_meta_original\\Folder_029\\Helipad_02903.meta\n",
      "Saved :data\\Helipad_Dataset_meta\\Helipad_Dataset_meta_original\\Folder_029\\Helipad_02904.meta\n",
      "Saved :data\\Helipad_Dataset_meta\\Helipad_Dataset_meta_original\\Folder_029\\Helipad_02905.meta\n",
      "Saved :data\\Helipad_Dataset_meta\\Helipad_Dataset_meta_original\\Folder_029\\Helipad_02906.meta\n",
      "Saved :data\\Helipad_Dataset_meta\\Helipad_Dataset_meta_original\\Folder_029\\Helipad_02907.meta\n",
      "Saved :data\\Helipad_Dataset_meta\\Helipad_Dataset_meta_original\\Folder_029\\Helipad_02908.meta\n",
      "Saved :data\\Helipad_Dataset_meta\\Helipad_Dataset_meta_original\\Folder_029\\Helipad_02909.meta\n",
      "Saved :data\\Helipad_Dataset_meta\\Helipad_Dataset_meta_original\\Folder_029\\Helipad_02910.meta\n",
      "Saved :data\\Helipad_Dataset_meta\\Helipad_Dataset_meta_original\\Folder_029\\Helipad_02911.meta\n",
      "Saved :data\\Helipad_Dataset_meta\\Helipad_Dataset_meta_original\\Folder_029\\Helipad_02912.meta\n",
      "Saved :data\\Helipad_Dataset_meta\\Helipad_Dataset_meta_original\\Folder_029\\Helipad_02913.meta\n",
      "Saved :data\\Helipad_Dataset_meta\\Helipad_Dataset_meta_original\\Folder_029\\Helipad_02914.meta\n",
      "Saved :data\\Helipad_Dataset_meta\\Helipad_Dataset_meta_original\\Folder_029\\Helipad_02915.meta\n",
      "Saved :data\\Helipad_Dataset_meta\\Helipad_Dataset_meta_original\\Folder_029\\Helipad_02916.meta\n",
      "Saved :data\\Helipad_Dataset_meta\\Helipad_Dataset_meta_original\\Folder_029\\Helipad_02917.meta\n",
      "Saved :data\\Helipad_Dataset_meta\\Helipad_Dataset_meta_original\\Folder_029\\Helipad_02918.meta\n",
      "Saved :data\\Helipad_Dataset_meta\\Helipad_Dataset_meta_original\\Folder_029\\Helipad_02919.meta\n",
      "Saved :data\\Helipad_Dataset_meta\\Helipad_Dataset_meta_original\\Folder_029\\Helipad_02920.meta\n",
      "Saved :data\\Helipad_Dataset_meta\\Helipad_Dataset_meta_original\\Folder_029\\Helipad_02921.meta\n",
      "Saved :data\\Helipad_Dataset_meta\\Helipad_Dataset_meta_original\\Folder_029\\Helipad_02922.meta\n",
      "Saved :data\\Helipad_Dataset_meta\\Helipad_Dataset_meta_original\\Folder_029\\Helipad_02923.meta\n",
      "Saved :data\\Helipad_Dataset_meta\\Helipad_Dataset_meta_original\\Folder_029\\Helipad_02924.meta\n",
      "Saved :data\\Helipad_Dataset_meta\\Helipad_Dataset_meta_original\\Folder_029\\Helipad_02925.meta\n",
      "Saved :data\\Helipad_Dataset_meta\\Helipad_Dataset_meta_original\\Folder_029\\Helipad_02926.meta\n",
      "Saved :data\\Helipad_Dataset_meta\\Helipad_Dataset_meta_original\\Folder_029\\Helipad_02927.meta\n",
      "Saved :data\\Helipad_Dataset_meta\\Helipad_Dataset_meta_original\\Folder_029\\Helipad_02928.meta\n",
      "Saved :data\\Helipad_Dataset_meta\\Helipad_Dataset_meta_original\\Folder_029\\Helipad_02929.meta\n",
      "Saved :data\\Helipad_Dataset_meta\\Helipad_Dataset_meta_original\\Folder_029\\Helipad_02930.meta\n",
      "Saved :data\\Helipad_Dataset_meta\\Helipad_Dataset_meta_original\\Folder_029\\Helipad_02931.meta\n",
      "Saved :data\\Helipad_Dataset_meta\\Helipad_Dataset_meta_original\\Folder_029\\Helipad_02932.meta\n",
      "Saved :data\\Helipad_Dataset_meta\\Helipad_Dataset_meta_original\\Folder_029\\Helipad_02933.meta\n",
      "Saved :data\\Helipad_Dataset_meta\\Helipad_Dataset_meta_original\\Folder_029\\Helipad_02934.meta\n",
      "Saved :data\\Helipad_Dataset_meta\\Helipad_Dataset_meta_original\\Folder_029\\Helipad_02935.meta\n",
      "Saved :data\\Helipad_Dataset_meta\\Helipad_Dataset_meta_original\\Folder_029\\Helipad_02936.meta\n",
      "Saved :data\\Helipad_Dataset_meta\\Helipad_Dataset_meta_original\\Folder_029\\Helipad_02937.meta\n",
      "Saved :data\\Helipad_Dataset_meta\\Helipad_Dataset_meta_original\\Folder_029\\Helipad_02938.meta\n",
      "Saved :data\\Helipad_Dataset_meta\\Helipad_Dataset_meta_original\\Folder_029\\Helipad_02939.meta\n",
      "Saved :data\\Helipad_Dataset_meta\\Helipad_Dataset_meta_original\\Folder_029\\Helipad_02940.meta\n",
      "Saved :data\\Helipad_Dataset_meta\\Helipad_Dataset_meta_original\\Folder_029\\Helipad_02941.meta\n",
      "Saved :data\\Helipad_Dataset_meta\\Helipad_Dataset_meta_original\\Folder_029\\Helipad_02942.meta\n",
      "Saved :data\\Helipad_Dataset_meta\\Helipad_Dataset_meta_original\\Folder_029\\Helipad_02943.meta\n",
      "Saved :data\\Helipad_Dataset_meta\\Helipad_Dataset_meta_original\\Folder_029\\Helipad_02944.meta\n",
      "Saved :data\\Helipad_Dataset_meta\\Helipad_Dataset_meta_original\\Folder_029\\Helipad_02945.meta\n",
      "Saved :data\\Helipad_Dataset_meta\\Helipad_Dataset_meta_original\\Folder_029\\Helipad_02946.meta\n",
      "Saved :data\\Helipad_Dataset_meta\\Helipad_Dataset_meta_original\\Folder_029\\Helipad_02947.meta\n",
      "Saved :data\\Helipad_Dataset_meta\\Helipad_Dataset_meta_original\\Folder_029\\Helipad_02948.meta\n",
      "Saved :data\\Helipad_Dataset_meta\\Helipad_Dataset_meta_original\\Folder_029\\Helipad_02949.meta\n",
      "Saved :data\\Helipad_Dataset_meta\\Helipad_Dataset_meta_original\\Folder_029\\Helipad_02950.meta\n",
      "Saved :data\\Helipad_Dataset_meta\\Helipad_Dataset_meta_original\\Folder_029\\Helipad_02951.meta\n",
      "Saved :data\\Helipad_Dataset_meta\\Helipad_Dataset_meta_original\\Folder_029\\Helipad_02952.meta\n",
      "Saved :data\\Helipad_Dataset_meta\\Helipad_Dataset_meta_original\\Folder_029\\Helipad_02953.meta\n",
      "Saved :data\\Helipad_Dataset_meta\\Helipad_Dataset_meta_original\\Folder_029\\Helipad_02954.meta\n",
      "Saved :data\\Helipad_Dataset_meta\\Helipad_Dataset_meta_original\\Folder_029\\Helipad_02955.meta\n",
      "Saved :data\\Helipad_Dataset_meta\\Helipad_Dataset_meta_original\\Folder_029\\Helipad_02956.meta\n",
      "Saved :data\\Helipad_Dataset_meta\\Helipad_Dataset_meta_original\\Folder_029\\Helipad_02957.meta\n",
      "Saved :data\\Helipad_Dataset_meta\\Helipad_Dataset_meta_original\\Folder_029\\Helipad_02958.meta\n",
      "Saved :data\\Helipad_Dataset_meta\\Helipad_Dataset_meta_original\\Folder_029\\Helipad_02959.meta\n",
      "Saved :data\\Helipad_Dataset_meta\\Helipad_Dataset_meta_original\\Folder_029\\Helipad_02960.meta\n",
      "Saved :data\\Helipad_Dataset_meta\\Helipad_Dataset_meta_original\\Folder_029\\Helipad_02961.meta\n",
      "Saved :data\\Helipad_Dataset_meta\\Helipad_Dataset_meta_original\\Folder_029\\Helipad_02962.meta\n",
      "Saved :data\\Helipad_Dataset_meta\\Helipad_Dataset_meta_original\\Folder_029\\Helipad_02963.meta\n",
      "Saved :data\\Helipad_Dataset_meta\\Helipad_Dataset_meta_original\\Folder_029\\Helipad_02964.meta\n",
      "Saved :data\\Helipad_Dataset_meta\\Helipad_Dataset_meta_original\\Folder_029\\Helipad_02965.meta\n",
      "Saved :data\\Helipad_Dataset_meta\\Helipad_Dataset_meta_original\\Folder_029\\Helipad_02966.meta\n",
      "Saved :data\\Helipad_Dataset_meta\\Helipad_Dataset_meta_original\\Folder_029\\Helipad_02967.meta\n",
      "Saved :data\\Helipad_Dataset_meta\\Helipad_Dataset_meta_original\\Folder_029\\Helipad_02968.meta\n",
      "Saved :data\\Helipad_Dataset_meta\\Helipad_Dataset_meta_original\\Folder_029\\Helipad_02969.meta\n",
      "Saved :data\\Helipad_Dataset_meta\\Helipad_Dataset_meta_original\\Folder_029\\Helipad_02970.meta\n",
      "Saved :data\\Helipad_Dataset_meta\\Helipad_Dataset_meta_original\\Folder_029\\Helipad_02971.meta\n",
      "Saved :data\\Helipad_Dataset_meta\\Helipad_Dataset_meta_original\\Folder_029\\Helipad_02972.meta\n",
      "Saved :data\\Helipad_Dataset_meta\\Helipad_Dataset_meta_original\\Folder_029\\Helipad_02973.meta\n",
      "Saved :data\\Helipad_Dataset_meta\\Helipad_Dataset_meta_original\\Folder_029\\Helipad_02974.meta\n",
      "Saved :data\\Helipad_Dataset_meta\\Helipad_Dataset_meta_original\\Folder_029\\Helipad_02975.meta\n",
      "Saved :data\\Helipad_Dataset_meta\\Helipad_Dataset_meta_original\\Folder_029\\Helipad_02976.meta\n",
      "Saved :data\\Helipad_Dataset_meta\\Helipad_Dataset_meta_original\\Folder_029\\Helipad_02977.meta\n",
      "Saved :data\\Helipad_Dataset_meta\\Helipad_Dataset_meta_original\\Folder_029\\Helipad_02978.meta\n",
      "Saved :data\\Helipad_Dataset_meta\\Helipad_Dataset_meta_original\\Folder_029\\Helipad_02979.meta\n",
      "Saved :data\\Helipad_Dataset_meta\\Helipad_Dataset_meta_original\\Folder_029\\Helipad_02980.meta\n",
      "Saved :data\\Helipad_Dataset_meta\\Helipad_Dataset_meta_original\\Folder_029\\Helipad_02981.meta\n",
      "Saved :data\\Helipad_Dataset_meta\\Helipad_Dataset_meta_original\\Folder_029\\Helipad_02982.meta\n",
      "Saved :data\\Helipad_Dataset_meta\\Helipad_Dataset_meta_original\\Folder_029\\Helipad_02983.meta\n",
      "Saved :data\\Helipad_Dataset_meta\\Helipad_Dataset_meta_original\\Folder_029\\Helipad_02984.meta\n",
      "Saved :data\\Helipad_Dataset_meta\\Helipad_Dataset_meta_original\\Folder_029\\Helipad_02985.meta\n",
      "Saved :data\\Helipad_Dataset_meta\\Helipad_Dataset_meta_original\\Folder_029\\Helipad_02986.meta\n",
      "Saved :data\\Helipad_Dataset_meta\\Helipad_Dataset_meta_original\\Folder_029\\Helipad_02987.meta\n",
      "Saved :data\\Helipad_Dataset_meta\\Helipad_Dataset_meta_original\\Folder_029\\Helipad_02988.meta\n",
      "Saved :data\\Helipad_Dataset_meta\\Helipad_Dataset_meta_original\\Folder_029\\Helipad_02989.meta\n",
      "Saved :data\\Helipad_Dataset_meta\\Helipad_Dataset_meta_original\\Folder_029\\Helipad_02990.meta\n",
      "Saved :data\\Helipad_Dataset_meta\\Helipad_Dataset_meta_original\\Folder_029\\Helipad_02991.meta\n",
      "Saved :data\\Helipad_Dataset_meta\\Helipad_Dataset_meta_original\\Folder_029\\Helipad_02992.meta\n",
      "Saved :data\\Helipad_Dataset_meta\\Helipad_Dataset_meta_original\\Folder_029\\Helipad_02993.meta\n",
      "Saved :data\\Helipad_Dataset_meta\\Helipad_Dataset_meta_original\\Folder_029\\Helipad_02994.meta\n",
      "Saved :data\\Helipad_Dataset_meta\\Helipad_Dataset_meta_original\\Folder_029\\Helipad_02995.meta\n",
      "Saved :data\\Helipad_Dataset_meta\\Helipad_Dataset_meta_original\\Folder_029\\Helipad_02996.meta\n",
      "Saved :data\\Helipad_Dataset_meta\\Helipad_Dataset_meta_original\\Folder_029\\Helipad_02997.meta\n",
      "Saved :data\\Helipad_Dataset_meta\\Helipad_Dataset_meta_original\\Folder_029\\Helipad_02998.meta\n",
      "Saved :data\\Helipad_Dataset_meta\\Helipad_Dataset_meta_original\\Folder_029\\Helipad_02999.meta\n",
      "Saved :data\\Helipad_Dataset_meta\\Helipad_Dataset_meta_original\\Folder_030\\Helipad_03000.meta\n",
      "Saved :data\\Helipad_Dataset_meta\\Helipad_Dataset_meta_original\\Folder_030\\Helipad_03001.meta\n",
      "Saved :data\\Helipad_Dataset_meta\\Helipad_Dataset_meta_original\\Folder_030\\Helipad_03002.meta\n",
      "Saved :data\\Helipad_Dataset_meta\\Helipad_Dataset_meta_original\\Folder_030\\Helipad_03003.meta\n",
      "Saved :data\\Helipad_Dataset_meta\\Helipad_Dataset_meta_original\\Folder_030\\Helipad_03004.meta\n",
      "Saved :data\\Helipad_Dataset_meta\\Helipad_Dataset_meta_original\\Folder_030\\Helipad_03005.meta\n",
      "Saved :data\\Helipad_Dataset_meta\\Helipad_Dataset_meta_original\\Folder_030\\Helipad_03006.meta\n",
      "Saved :data\\Helipad_Dataset_meta\\Helipad_Dataset_meta_original\\Folder_030\\Helipad_03007.meta\n",
      "Saved :data\\Helipad_Dataset_meta\\Helipad_Dataset_meta_original\\Folder_030\\Helipad_03008.meta\n",
      "Saved :data\\Helipad_Dataset_meta\\Helipad_Dataset_meta_original\\Folder_030\\Helipad_03009.meta\n",
      "Saved :data\\Helipad_Dataset_meta\\Helipad_Dataset_meta_original\\Folder_030\\Helipad_03010.meta\n",
      "Saved :data\\Helipad_Dataset_meta\\Helipad_Dataset_meta_original\\Folder_030\\Helipad_03011.meta\n",
      "Saved :data\\Helipad_Dataset_meta\\Helipad_Dataset_meta_original\\Folder_030\\Helipad_03012.meta\n",
      "Saved :data\\Helipad_Dataset_meta\\Helipad_Dataset_meta_original\\Folder_030\\Helipad_03013.meta\n",
      "Saved :data\\Helipad_Dataset_meta\\Helipad_Dataset_meta_original\\Folder_030\\Helipad_03014.meta\n",
      "Saved :data\\Helipad_Dataset_meta\\Helipad_Dataset_meta_original\\Folder_030\\Helipad_03015.meta\n",
      "Saved :data\\Helipad_Dataset_meta\\Helipad_Dataset_meta_original\\Folder_030\\Helipad_03016.meta\n",
      "Saved :data\\Helipad_Dataset_meta\\Helipad_Dataset_meta_original\\Folder_030\\Helipad_03017.meta\n",
      "Saved :data\\Helipad_Dataset_meta\\Helipad_Dataset_meta_original\\Folder_030\\Helipad_03018.meta\n",
      "Saved :data\\Helipad_Dataset_meta\\Helipad_Dataset_meta_original\\Folder_030\\Helipad_03019.meta\n",
      "Saved :data\\Helipad_Dataset_meta\\Helipad_Dataset_meta_original\\Folder_030\\Helipad_03020.meta\n",
      "Saved :data\\Helipad_Dataset_meta\\Helipad_Dataset_meta_original\\Folder_030\\Helipad_03021.meta\n",
      "Saved :data\\Helipad_Dataset_meta\\Helipad_Dataset_meta_original\\Folder_030\\Helipad_03022.meta\n",
      "Saved :data\\Helipad_Dataset_meta\\Helipad_Dataset_meta_original\\Folder_030\\Helipad_03023.meta\n",
      "Saved :data\\Helipad_Dataset_meta\\Helipad_Dataset_meta_original\\Folder_030\\Helipad_03024.meta\n",
      "Saved :data\\Helipad_Dataset_meta\\Helipad_Dataset_meta_original\\Folder_030\\Helipad_03025.meta\n",
      "Saved :data\\Helipad_Dataset_meta\\Helipad_Dataset_meta_original\\Folder_030\\Helipad_03026.meta\n",
      "Saved :data\\Helipad_Dataset_meta\\Helipad_Dataset_meta_original\\Folder_030\\Helipad_03027.meta\n",
      "Saved :data\\Helipad_Dataset_meta\\Helipad_Dataset_meta_original\\Folder_030\\Helipad_03028.meta\n",
      "Saved :data\\Helipad_Dataset_meta\\Helipad_Dataset_meta_original\\Folder_030\\Helipad_03029.meta\n",
      "Saved :data\\Helipad_Dataset_meta\\Helipad_Dataset_meta_original\\Folder_030\\Helipad_03030.meta\n",
      "Saved :data\\Helipad_Dataset_meta\\Helipad_Dataset_meta_original\\Folder_030\\Helipad_03031.meta\n",
      "Saved :data\\Helipad_Dataset_meta\\Helipad_Dataset_meta_original\\Folder_030\\Helipad_03032.meta\n",
      "Saved :data\\Helipad_Dataset_meta\\Helipad_Dataset_meta_original\\Folder_030\\Helipad_03033.meta\n",
      "Saved :data\\Helipad_Dataset_meta\\Helipad_Dataset_meta_original\\Folder_030\\Helipad_03034.meta\n",
      "Saved :data\\Helipad_Dataset_meta\\Helipad_Dataset_meta_original\\Folder_030\\Helipad_03035.meta\n",
      "Saved :data\\Helipad_Dataset_meta\\Helipad_Dataset_meta_original\\Folder_030\\Helipad_03036.meta\n",
      "Saved :data\\Helipad_Dataset_meta\\Helipad_Dataset_meta_original\\Folder_030\\Helipad_03037.meta\n",
      "Saved :data\\Helipad_Dataset_meta\\Helipad_Dataset_meta_original\\Folder_030\\Helipad_03038.meta\n",
      "Saved :data\\Helipad_Dataset_meta\\Helipad_Dataset_meta_original\\Folder_030\\Helipad_03039.meta\n",
      "Saved :data\\Helipad_Dataset_meta\\Helipad_Dataset_meta_original\\Folder_030\\Helipad_03040.meta\n",
      "Saved :data\\Helipad_Dataset_meta\\Helipad_Dataset_meta_original\\Folder_030\\Helipad_03041.meta\n",
      "Saved :data\\Helipad_Dataset_meta\\Helipad_Dataset_meta_original\\Folder_030\\Helipad_03042.meta\n",
      "Saved :data\\Helipad_Dataset_meta\\Helipad_Dataset_meta_original\\Folder_030\\Helipad_03043.meta\n"
     ]
    },
    {
     "name": "stdout",
     "output_type": "stream",
     "text": [
      "Saved :data\\Helipad_Dataset_meta\\Helipad_Dataset_meta_original\\Folder_030\\Helipad_03044.meta\n",
      "Saved :data\\Helipad_Dataset_meta\\Helipad_Dataset_meta_original\\Folder_030\\Helipad_03045.meta\n",
      "Saved :data\\Helipad_Dataset_meta\\Helipad_Dataset_meta_original\\Folder_030\\Helipad_03046.meta\n",
      "Saved :data\\Helipad_Dataset_meta\\Helipad_Dataset_meta_original\\Folder_030\\Helipad_03047.meta\n",
      "Saved :data\\Helipad_Dataset_meta\\Helipad_Dataset_meta_original\\Folder_030\\Helipad_03048.meta\n",
      "Saved :data\\Helipad_Dataset_meta\\Helipad_Dataset_meta_original\\Folder_030\\Helipad_03049.meta\n",
      "Saved :data\\Helipad_Dataset_meta\\Helipad_Dataset_meta_original\\Folder_030\\Helipad_03050.meta\n",
      "Saved :data\\Helipad_Dataset_meta\\Helipad_Dataset_meta_original\\Folder_030\\Helipad_03051.meta\n",
      "Saved :data\\Helipad_Dataset_meta\\Helipad_Dataset_meta_original\\Folder_030\\Helipad_03052.meta\n",
      "Saved :data\\Helipad_Dataset_meta\\Helipad_Dataset_meta_original\\Folder_030\\Helipad_03053.meta\n",
      "Saved :data\\Helipad_Dataset_meta\\Helipad_Dataset_meta_original\\Folder_030\\Helipad_03054.meta\n",
      "Saved :data\\Helipad_Dataset_meta\\Helipad_Dataset_meta_original\\Folder_030\\Helipad_03055.meta\n",
      "Saved :data\\Helipad_Dataset_meta\\Helipad_Dataset_meta_original\\Folder_030\\Helipad_03056.meta\n",
      "Saved :data\\Helipad_Dataset_meta\\Helipad_Dataset_meta_original\\Folder_030\\Helipad_03057.meta\n",
      "Saved :data\\Helipad_Dataset_meta\\Helipad_Dataset_meta_original\\Folder_030\\Helipad_03058.meta\n",
      "Saved :data\\Helipad_Dataset_meta\\Helipad_Dataset_meta_original\\Folder_030\\Helipad_03059.meta\n",
      "Saved :data\\Helipad_Dataset_meta\\Helipad_Dataset_meta_original\\Folder_030\\Helipad_03060.meta\n",
      "Saved :data\\Helipad_Dataset_meta\\Helipad_Dataset_meta_original\\Folder_030\\Helipad_03061.meta\n",
      "Saved :data\\Helipad_Dataset_meta\\Helipad_Dataset_meta_original\\Folder_030\\Helipad_03062.meta\n",
      "Saved :data\\Helipad_Dataset_meta\\Helipad_Dataset_meta_original\\Folder_030\\Helipad_03063.meta\n",
      "Saved :data\\Helipad_Dataset_meta\\Helipad_Dataset_meta_original\\Folder_030\\Helipad_03064.meta\n",
      "Saved :data\\Helipad_Dataset_meta\\Helipad_Dataset_meta_original\\Folder_030\\Helipad_03065.meta\n",
      "Saved :data\\Helipad_Dataset_meta\\Helipad_Dataset_meta_original\\Folder_030\\Helipad_03066.meta\n",
      "Saved :data\\Helipad_Dataset_meta\\Helipad_Dataset_meta_original\\Folder_030\\Helipad_03067.meta\n",
      "Saved :data\\Helipad_Dataset_meta\\Helipad_Dataset_meta_original\\Folder_030\\Helipad_03068.meta\n",
      "Saved :data\\Helipad_Dataset_meta\\Helipad_Dataset_meta_original\\Folder_030\\Helipad_03069.meta\n",
      "Saved :data\\Helipad_Dataset_meta\\Helipad_Dataset_meta_original\\Folder_030\\Helipad_03070.meta\n",
      "Saved :data\\Helipad_Dataset_meta\\Helipad_Dataset_meta_original\\Folder_030\\Helipad_03071.meta\n",
      "Saved :data\\Helipad_Dataset_meta\\Helipad_Dataset_meta_original\\Folder_030\\Helipad_03072.meta\n",
      "Saved :data\\Helipad_Dataset_meta\\Helipad_Dataset_meta_original\\Folder_030\\Helipad_03073.meta\n",
      "Saved :data\\Helipad_Dataset_meta\\Helipad_Dataset_meta_original\\Folder_030\\Helipad_03074.meta\n",
      "Saved :data\\Helipad_Dataset_meta\\Helipad_Dataset_meta_original\\Folder_030\\Helipad_03075.meta\n",
      "Saved :data\\Helipad_Dataset_meta\\Helipad_Dataset_meta_original\\Folder_030\\Helipad_03076.meta\n",
      "Saved :data\\Helipad_Dataset_meta\\Helipad_Dataset_meta_original\\Folder_030\\Helipad_03077.meta\n",
      "Saved :data\\Helipad_Dataset_meta\\Helipad_Dataset_meta_original\\Folder_030\\Helipad_03078.meta\n",
      "Saved :data\\Helipad_Dataset_meta\\Helipad_Dataset_meta_original\\Folder_030\\Helipad_03079.meta\n",
      "Saved :data\\Helipad_Dataset_meta\\Helipad_Dataset_meta_original\\Folder_030\\Helipad_03080.meta\n",
      "Saved :data\\Helipad_Dataset_meta\\Helipad_Dataset_meta_original\\Folder_030\\Helipad_03081.meta\n",
      "Saved :data\\Helipad_Dataset_meta\\Helipad_Dataset_meta_original\\Folder_030\\Helipad_03082.meta\n",
      "Saved :data\\Helipad_Dataset_meta\\Helipad_Dataset_meta_original\\Folder_030\\Helipad_03083.meta\n",
      "Saved :data\\Helipad_Dataset_meta\\Helipad_Dataset_meta_original\\Folder_030\\Helipad_03084.meta\n",
      "Saved :data\\Helipad_Dataset_meta\\Helipad_Dataset_meta_original\\Folder_030\\Helipad_03085.meta\n",
      "Saved :data\\Helipad_Dataset_meta\\Helipad_Dataset_meta_original\\Folder_030\\Helipad_03086.meta\n",
      "Saved :data\\Helipad_Dataset_meta\\Helipad_Dataset_meta_original\\Folder_030\\Helipad_03087.meta\n",
      "Saved :data\\Helipad_Dataset_meta\\Helipad_Dataset_meta_original\\Folder_030\\Helipad_03088.meta\n",
      "Saved :data\\Helipad_Dataset_meta\\Helipad_Dataset_meta_original\\Folder_030\\Helipad_03089.meta\n",
      "Saved :data\\Helipad_Dataset_meta\\Helipad_Dataset_meta_original\\Folder_030\\Helipad_03090.meta\n",
      "Saved :data\\Helipad_Dataset_meta\\Helipad_Dataset_meta_original\\Folder_030\\Helipad_03091.meta\n",
      "Saved :data\\Helipad_Dataset_meta\\Helipad_Dataset_meta_original\\Folder_030\\Helipad_03092.meta\n",
      "Saved :data\\Helipad_Dataset_meta\\Helipad_Dataset_meta_original\\Folder_030\\Helipad_03093.meta\n",
      "Saved :data\\Helipad_Dataset_meta\\Helipad_Dataset_meta_original\\Folder_030\\Helipad_03094.meta\n",
      "Saved :data\\Helipad_Dataset_meta\\Helipad_Dataset_meta_original\\Folder_030\\Helipad_03095.meta\n",
      "Saved :data\\Helipad_Dataset_meta\\Helipad_Dataset_meta_original\\Folder_030\\Helipad_03096.meta\n",
      "Saved :data\\Helipad_Dataset_meta\\Helipad_Dataset_meta_original\\Folder_030\\Helipad_03097.meta\n",
      "Saved :data\\Helipad_Dataset_meta\\Helipad_Dataset_meta_original\\Folder_030\\Helipad_03098.meta\n",
      "Saved :data\\Helipad_Dataset_meta\\Helipad_Dataset_meta_original\\Folder_030\\Helipad_03099.meta\n",
      "Saved :data\\Helipad_Dataset_meta\\Helipad_Dataset_meta_original\\Folder_031\\Helipad_03100.meta\n",
      "Saved :data\\Helipad_Dataset_meta\\Helipad_Dataset_meta_original\\Folder_031\\Helipad_03101.meta\n",
      "Saved :data\\Helipad_Dataset_meta\\Helipad_Dataset_meta_original\\Folder_031\\Helipad_03102.meta\n",
      "Saved :data\\Helipad_Dataset_meta\\Helipad_Dataset_meta_original\\Folder_031\\Helipad_03103.meta\n",
      "Saved :data\\Helipad_Dataset_meta\\Helipad_Dataset_meta_original\\Folder_031\\Helipad_03104.meta\n",
      "Saved :data\\Helipad_Dataset_meta\\Helipad_Dataset_meta_original\\Folder_031\\Helipad_03105.meta\n",
      "Saved :data\\Helipad_Dataset_meta\\Helipad_Dataset_meta_original\\Folder_031\\Helipad_03106.meta\n",
      "Saved :data\\Helipad_Dataset_meta\\Helipad_Dataset_meta_original\\Folder_031\\Helipad_03107.meta\n",
      "Saved :data\\Helipad_Dataset_meta\\Helipad_Dataset_meta_original\\Folder_031\\Helipad_03108.meta\n",
      "Saved :data\\Helipad_Dataset_meta\\Helipad_Dataset_meta_original\\Folder_031\\Helipad_03109.meta\n",
      "Saved :data\\Helipad_Dataset_meta\\Helipad_Dataset_meta_original\\Folder_031\\Helipad_03110.meta\n",
      "Saved :data\\Helipad_Dataset_meta\\Helipad_Dataset_meta_original\\Folder_031\\Helipad_03111.meta\n",
      "Saved :data\\Helipad_Dataset_meta\\Helipad_Dataset_meta_original\\Folder_031\\Helipad_03112.meta\n",
      "Saved :data\\Helipad_Dataset_meta\\Helipad_Dataset_meta_original\\Folder_031\\Helipad_03113.meta\n",
      "Saved :data\\Helipad_Dataset_meta\\Helipad_Dataset_meta_original\\Folder_031\\Helipad_03114.meta\n",
      "Saved :data\\Helipad_Dataset_meta\\Helipad_Dataset_meta_original\\Folder_031\\Helipad_03115.meta\n",
      "Saved :data\\Helipad_Dataset_meta\\Helipad_Dataset_meta_original\\Folder_031\\Helipad_03116.meta\n",
      "Saved :data\\Helipad_Dataset_meta\\Helipad_Dataset_meta_original\\Folder_031\\Helipad_03117.meta\n",
      "Saved :data\\Helipad_Dataset_meta\\Helipad_Dataset_meta_original\\Folder_031\\Helipad_03118.meta\n",
      "Saved :data\\Helipad_Dataset_meta\\Helipad_Dataset_meta_original\\Folder_031\\Helipad_03119.meta\n",
      "Saved :data\\Helipad_Dataset_meta\\Helipad_Dataset_meta_original\\Folder_031\\Helipad_03120.meta\n",
      "Saved :data\\Helipad_Dataset_meta\\Helipad_Dataset_meta_original\\Folder_031\\Helipad_03121.meta\n",
      "Saved :data\\Helipad_Dataset_meta\\Helipad_Dataset_meta_original\\Folder_031\\Helipad_03122.meta\n",
      "Saved :data\\Helipad_Dataset_meta\\Helipad_Dataset_meta_original\\Folder_031\\Helipad_03123.meta\n",
      "Saved :data\\Helipad_Dataset_meta\\Helipad_Dataset_meta_original\\Folder_031\\Helipad_03124.meta\n",
      "Saved :data\\Helipad_Dataset_meta\\Helipad_Dataset_meta_original\\Folder_031\\Helipad_03125.meta\n",
      "Saved :data\\Helipad_Dataset_meta\\Helipad_Dataset_meta_original\\Folder_031\\Helipad_03126.meta\n",
      "Saved :data\\Helipad_Dataset_meta\\Helipad_Dataset_meta_original\\Folder_031\\Helipad_03127.meta\n",
      "Saved :data\\Helipad_Dataset_meta\\Helipad_Dataset_meta_original\\Folder_031\\Helipad_03128.meta\n",
      "Saved :data\\Helipad_Dataset_meta\\Helipad_Dataset_meta_original\\Folder_031\\Helipad_03129.meta\n",
      "Saved :data\\Helipad_Dataset_meta\\Helipad_Dataset_meta_original\\Folder_031\\Helipad_03130.meta\n",
      "Saved :data\\Helipad_Dataset_meta\\Helipad_Dataset_meta_original\\Folder_031\\Helipad_03131.meta\n",
      "Saved :data\\Helipad_Dataset_meta\\Helipad_Dataset_meta_original\\Folder_031\\Helipad_03132.meta\n",
      "Saved :data\\Helipad_Dataset_meta\\Helipad_Dataset_meta_original\\Folder_031\\Helipad_03133.meta\n",
      "Saved :data\\Helipad_Dataset_meta\\Helipad_Dataset_meta_original\\Folder_031\\Helipad_03134.meta\n",
      "Saved :data\\Helipad_Dataset_meta\\Helipad_Dataset_meta_original\\Folder_031\\Helipad_03135.meta\n",
      "Saved :data\\Helipad_Dataset_meta\\Helipad_Dataset_meta_original\\Folder_031\\Helipad_03136.meta\n",
      "Saved :data\\Helipad_Dataset_meta\\Helipad_Dataset_meta_original\\Folder_031\\Helipad_03137.meta\n",
      "Saved :data\\Helipad_Dataset_meta\\Helipad_Dataset_meta_original\\Folder_031\\Helipad_03138.meta\n",
      "Saved :data\\Helipad_Dataset_meta\\Helipad_Dataset_meta_original\\Folder_031\\Helipad_03139.meta\n",
      "Saved :data\\Helipad_Dataset_meta\\Helipad_Dataset_meta_original\\Folder_031\\Helipad_03140.meta\n",
      "Saved :data\\Helipad_Dataset_meta\\Helipad_Dataset_meta_original\\Folder_031\\Helipad_03141.meta\n",
      "Saved :data\\Helipad_Dataset_meta\\Helipad_Dataset_meta_original\\Folder_031\\Helipad_03142.meta\n",
      "Saved :data\\Helipad_Dataset_meta\\Helipad_Dataset_meta_original\\Folder_031\\Helipad_03143.meta\n",
      "Saved :data\\Helipad_Dataset_meta\\Helipad_Dataset_meta_original\\Folder_031\\Helipad_03144.meta\n",
      "Saved :data\\Helipad_Dataset_meta\\Helipad_Dataset_meta_original\\Folder_031\\Helipad_03145.meta\n",
      "Saved :data\\Helipad_Dataset_meta\\Helipad_Dataset_meta_original\\Folder_031\\Helipad_03146.meta\n",
      "Saved :data\\Helipad_Dataset_meta\\Helipad_Dataset_meta_original\\Folder_031\\Helipad_03147.meta\n",
      "Saved :data\\Helipad_Dataset_meta\\Helipad_Dataset_meta_original\\Folder_031\\Helipad_03148.meta\n",
      "Saved :data\\Helipad_Dataset_meta\\Helipad_Dataset_meta_original\\Folder_031\\Helipad_03149.meta\n",
      "Saved :data\\Helipad_Dataset_meta\\Helipad_Dataset_meta_original\\Folder_031\\Helipad_03150.meta\n",
      "Saved :data\\Helipad_Dataset_meta\\Helipad_Dataset_meta_original\\Folder_031\\Helipad_03151.meta\n",
      "Saved :data\\Helipad_Dataset_meta\\Helipad_Dataset_meta_original\\Folder_031\\Helipad_03152.meta\n",
      "Saved :data\\Helipad_Dataset_meta\\Helipad_Dataset_meta_original\\Folder_031\\Helipad_03153.meta\n",
      "Saved :data\\Helipad_Dataset_meta\\Helipad_Dataset_meta_original\\Folder_031\\Helipad_03154.meta\n",
      "Saved :data\\Helipad_Dataset_meta\\Helipad_Dataset_meta_original\\Folder_031\\Helipad_03155.meta\n",
      "Saved :data\\Helipad_Dataset_meta\\Helipad_Dataset_meta_original\\Folder_031\\Helipad_03156.meta\n",
      "Saved :data\\Helipad_Dataset_meta\\Helipad_Dataset_meta_original\\Folder_031\\Helipad_03157.meta\n",
      "Saved :data\\Helipad_Dataset_meta\\Helipad_Dataset_meta_original\\Folder_031\\Helipad_03158.meta\n",
      "Saved :data\\Helipad_Dataset_meta\\Helipad_Dataset_meta_original\\Folder_031\\Helipad_03159.meta\n",
      "Saved :data\\Helipad_Dataset_meta\\Helipad_Dataset_meta_original\\Folder_031\\Helipad_03160.meta\n",
      "Saved :data\\Helipad_Dataset_meta\\Helipad_Dataset_meta_original\\Folder_031\\Helipad_03161.meta\n",
      "Saved :data\\Helipad_Dataset_meta\\Helipad_Dataset_meta_original\\Folder_031\\Helipad_03162.meta\n",
      "Saved :data\\Helipad_Dataset_meta\\Helipad_Dataset_meta_original\\Folder_031\\Helipad_03163.meta\n",
      "Saved :data\\Helipad_Dataset_meta\\Helipad_Dataset_meta_original\\Folder_031\\Helipad_03164.meta\n",
      "Saved :data\\Helipad_Dataset_meta\\Helipad_Dataset_meta_original\\Folder_031\\Helipad_03165.meta\n",
      "Saved :data\\Helipad_Dataset_meta\\Helipad_Dataset_meta_original\\Folder_031\\Helipad_03166.meta\n",
      "Saved :data\\Helipad_Dataset_meta\\Helipad_Dataset_meta_original\\Folder_031\\Helipad_03167.meta\n",
      "Saved :data\\Helipad_Dataset_meta\\Helipad_Dataset_meta_original\\Folder_031\\Helipad_03168.meta\n",
      "Saved :data\\Helipad_Dataset_meta\\Helipad_Dataset_meta_original\\Folder_031\\Helipad_03169.meta\n",
      "Saved :data\\Helipad_Dataset_meta\\Helipad_Dataset_meta_original\\Folder_031\\Helipad_03170.meta\n",
      "Saved :data\\Helipad_Dataset_meta\\Helipad_Dataset_meta_original\\Folder_031\\Helipad_03171.meta\n",
      "Saved :data\\Helipad_Dataset_meta\\Helipad_Dataset_meta_original\\Folder_031\\Helipad_03172.meta\n",
      "Saved :data\\Helipad_Dataset_meta\\Helipad_Dataset_meta_original\\Folder_031\\Helipad_03173.meta\n",
      "Saved :data\\Helipad_Dataset_meta\\Helipad_Dataset_meta_original\\Folder_031\\Helipad_03174.meta\n",
      "Saved :data\\Helipad_Dataset_meta\\Helipad_Dataset_meta_original\\Folder_031\\Helipad_03175.meta\n",
      "Saved :data\\Helipad_Dataset_meta\\Helipad_Dataset_meta_original\\Folder_031\\Helipad_03176.meta\n",
      "Saved :data\\Helipad_Dataset_meta\\Helipad_Dataset_meta_original\\Folder_031\\Helipad_03177.meta\n",
      "Saved :data\\Helipad_Dataset_meta\\Helipad_Dataset_meta_original\\Folder_031\\Helipad_03178.meta\n",
      "Saved :data\\Helipad_Dataset_meta\\Helipad_Dataset_meta_original\\Folder_031\\Helipad_03179.meta\n",
      "Saved :data\\Helipad_Dataset_meta\\Helipad_Dataset_meta_original\\Folder_031\\Helipad_03180.meta\n",
      "Saved :data\\Helipad_Dataset_meta\\Helipad_Dataset_meta_original\\Folder_031\\Helipad_03181.meta\n",
      "Saved :data\\Helipad_Dataset_meta\\Helipad_Dataset_meta_original\\Folder_031\\Helipad_03182.meta\n",
      "Saved :data\\Helipad_Dataset_meta\\Helipad_Dataset_meta_original\\Folder_031\\Helipad_03183.meta\n",
      "Saved :data\\Helipad_Dataset_meta\\Helipad_Dataset_meta_original\\Folder_031\\Helipad_03184.meta\n",
      "Saved :data\\Helipad_Dataset_meta\\Helipad_Dataset_meta_original\\Folder_031\\Helipad_03185.meta\n",
      "Saved :data\\Helipad_Dataset_meta\\Helipad_Dataset_meta_original\\Folder_031\\Helipad_03186.meta\n",
      "Saved :data\\Helipad_Dataset_meta\\Helipad_Dataset_meta_original\\Folder_031\\Helipad_03187.meta\n",
      "Saved :data\\Helipad_Dataset_meta\\Helipad_Dataset_meta_original\\Folder_031\\Helipad_03188.meta\n",
      "Saved :data\\Helipad_Dataset_meta\\Helipad_Dataset_meta_original\\Folder_031\\Helipad_03189.meta\n",
      "Saved :data\\Helipad_Dataset_meta\\Helipad_Dataset_meta_original\\Folder_031\\Helipad_03190.meta\n",
      "Saved :data\\Helipad_Dataset_meta\\Helipad_Dataset_meta_original\\Folder_031\\Helipad_03191.meta\n",
      "Saved :data\\Helipad_Dataset_meta\\Helipad_Dataset_meta_original\\Folder_031\\Helipad_03192.meta\n",
      "Saved :data\\Helipad_Dataset_meta\\Helipad_Dataset_meta_original\\Folder_031\\Helipad_03193.meta\n",
      "Saved :data\\Helipad_Dataset_meta\\Helipad_Dataset_meta_original\\Folder_031\\Helipad_03194.meta\n",
      "Saved :data\\Helipad_Dataset_meta\\Helipad_Dataset_meta_original\\Folder_031\\Helipad_03195.meta\n",
      "Saved :data\\Helipad_Dataset_meta\\Helipad_Dataset_meta_original\\Folder_031\\Helipad_03196.meta\n",
      "Saved :data\\Helipad_Dataset_meta\\Helipad_Dataset_meta_original\\Folder_031\\Helipad_03197.meta\n",
      "Saved :data\\Helipad_Dataset_meta\\Helipad_Dataset_meta_original\\Folder_031\\Helipad_03198.meta\n",
      "Saved :data\\Helipad_Dataset_meta\\Helipad_Dataset_meta_original\\Folder_031\\Helipad_03199.meta\n",
      "Saved :data\\Helipad_Dataset_meta\\Helipad_Dataset_meta_original\\Folder_032\\Helipad_03200.meta\n",
      "Saved :data\\Helipad_Dataset_meta\\Helipad_Dataset_meta_original\\Folder_032\\Helipad_03201.meta\n",
      "Saved :data\\Helipad_Dataset_meta\\Helipad_Dataset_meta_original\\Folder_032\\Helipad_03202.meta\n"
     ]
    },
    {
     "name": "stdout",
     "output_type": "stream",
     "text": [
      "Saved :data\\Helipad_Dataset_meta\\Helipad_Dataset_meta_original\\Folder_032\\Helipad_03203.meta\n",
      "Saved :data\\Helipad_Dataset_meta\\Helipad_Dataset_meta_original\\Folder_032\\Helipad_03204.meta\n",
      "Saved :data\\Helipad_Dataset_meta\\Helipad_Dataset_meta_original\\Folder_032\\Helipad_03205.meta\n",
      "Saved :data\\Helipad_Dataset_meta\\Helipad_Dataset_meta_original\\Folder_032\\Helipad_03206.meta\n",
      "Saved :data\\Helipad_Dataset_meta\\Helipad_Dataset_meta_original\\Folder_032\\Helipad_03207.meta\n",
      "Saved :data\\Helipad_Dataset_meta\\Helipad_Dataset_meta_original\\Folder_032\\Helipad_03208.meta\n",
      "Saved :data\\Helipad_Dataset_meta\\Helipad_Dataset_meta_original\\Folder_032\\Helipad_03209.meta\n",
      "Saved :data\\Helipad_Dataset_meta\\Helipad_Dataset_meta_original\\Folder_032\\Helipad_03210.meta\n",
      "Saved :data\\Helipad_Dataset_meta\\Helipad_Dataset_meta_original\\Folder_032\\Helipad_03211.meta\n",
      "Saved :data\\Helipad_Dataset_meta\\Helipad_Dataset_meta_original\\Folder_032\\Helipad_03212.meta\n",
      "Saved :data\\Helipad_Dataset_meta\\Helipad_Dataset_meta_original\\Folder_032\\Helipad_03213.meta\n",
      "Saved :data\\Helipad_Dataset_meta\\Helipad_Dataset_meta_original\\Folder_032\\Helipad_03214.meta\n",
      "Saved :data\\Helipad_Dataset_meta\\Helipad_Dataset_meta_original\\Folder_032\\Helipad_03215.meta\n",
      "Saved :data\\Helipad_Dataset_meta\\Helipad_Dataset_meta_original\\Folder_032\\Helipad_03216.meta\n",
      "Saved :data\\Helipad_Dataset_meta\\Helipad_Dataset_meta_original\\Folder_032\\Helipad_03217.meta\n",
      "Saved :data\\Helipad_Dataset_meta\\Helipad_Dataset_meta_original\\Folder_032\\Helipad_03218.meta\n",
      "Saved :data\\Helipad_Dataset_meta\\Helipad_Dataset_meta_original\\Folder_032\\Helipad_03219.meta\n",
      "Saved :data\\Helipad_Dataset_meta\\Helipad_Dataset_meta_original\\Folder_032\\Helipad_03220.meta\n",
      "Saved :data\\Helipad_Dataset_meta\\Helipad_Dataset_meta_original\\Folder_032\\Helipad_03221.meta\n",
      "Saved :data\\Helipad_Dataset_meta\\Helipad_Dataset_meta_original\\Folder_032\\Helipad_03222.meta\n",
      "Saved :data\\Helipad_Dataset_meta\\Helipad_Dataset_meta_original\\Folder_032\\Helipad_03223.meta\n",
      "Saved :data\\Helipad_Dataset_meta\\Helipad_Dataset_meta_original\\Folder_032\\Helipad_03224.meta\n",
      "Saved :data\\Helipad_Dataset_meta\\Helipad_Dataset_meta_original\\Folder_032\\Helipad_03225.meta\n",
      "Saved :data\\Helipad_Dataset_meta\\Helipad_Dataset_meta_original\\Folder_032\\Helipad_03226.meta\n",
      "Saved :data\\Helipad_Dataset_meta\\Helipad_Dataset_meta_original\\Folder_032\\Helipad_03227.meta\n",
      "Saved :data\\Helipad_Dataset_meta\\Helipad_Dataset_meta_original\\Folder_032\\Helipad_03228.meta\n",
      "Saved :data\\Helipad_Dataset_meta\\Helipad_Dataset_meta_original\\Folder_032\\Helipad_03229.meta\n",
      "Saved :data\\Helipad_Dataset_meta\\Helipad_Dataset_meta_original\\Folder_032\\Helipad_03230.meta\n",
      "Saved :data\\Helipad_Dataset_meta\\Helipad_Dataset_meta_original\\Folder_032\\Helipad_03231.meta\n",
      "Saved :data\\Helipad_Dataset_meta\\Helipad_Dataset_meta_original\\Folder_032\\Helipad_03232.meta\n",
      "Saved :data\\Helipad_Dataset_meta\\Helipad_Dataset_meta_original\\Folder_032\\Helipad_03233.meta\n",
      "Saved :data\\Helipad_Dataset_meta\\Helipad_Dataset_meta_original\\Folder_032\\Helipad_03234.meta\n",
      "Saved :data\\Helipad_Dataset_meta\\Helipad_Dataset_meta_original\\Folder_032\\Helipad_03235.meta\n",
      "Saved :data\\Helipad_Dataset_meta\\Helipad_Dataset_meta_original\\Folder_032\\Helipad_03236.meta\n",
      "Saved :data\\Helipad_Dataset_meta\\Helipad_Dataset_meta_original\\Folder_032\\Helipad_03237.meta\n",
      "Saved :data\\Helipad_Dataset_meta\\Helipad_Dataset_meta_original\\Folder_032\\Helipad_03238.meta\n",
      "Saved :data\\Helipad_Dataset_meta\\Helipad_Dataset_meta_original\\Folder_032\\Helipad_03239.meta\n",
      "Saved :data\\Helipad_Dataset_meta\\Helipad_Dataset_meta_original\\Folder_032\\Helipad_03240.meta\n",
      "Saved :data\\Helipad_Dataset_meta\\Helipad_Dataset_meta_original\\Folder_032\\Helipad_03241.meta\n",
      "Saved :data\\Helipad_Dataset_meta\\Helipad_Dataset_meta_original\\Folder_032\\Helipad_03242.meta\n",
      "Saved :data\\Helipad_Dataset_meta\\Helipad_Dataset_meta_original\\Folder_032\\Helipad_03243.meta\n",
      "Saved :data\\Helipad_Dataset_meta\\Helipad_Dataset_meta_original\\Folder_032\\Helipad_03244.meta\n",
      "Saved :data\\Helipad_Dataset_meta\\Helipad_Dataset_meta_original\\Folder_032\\Helipad_03245.meta\n",
      "Saved :data\\Helipad_Dataset_meta\\Helipad_Dataset_meta_original\\Folder_032\\Helipad_03246.meta\n",
      "Saved :data\\Helipad_Dataset_meta\\Helipad_Dataset_meta_original\\Folder_032\\Helipad_03247.meta\n",
      "Saved :data\\Helipad_Dataset_meta\\Helipad_Dataset_meta_original\\Folder_032\\Helipad_03248.meta\n",
      "Saved :data\\Helipad_Dataset_meta\\Helipad_Dataset_meta_original\\Folder_032\\Helipad_03249.meta\n",
      "Saved :data\\Helipad_Dataset_meta\\Helipad_Dataset_meta_original\\Folder_032\\Helipad_03250.meta\n",
      "Saved :data\\Helipad_Dataset_meta\\Helipad_Dataset_meta_original\\Folder_032\\Helipad_03251.meta\n",
      "Saved :data\\Helipad_Dataset_meta\\Helipad_Dataset_meta_original\\Folder_032\\Helipad_03252.meta\n",
      "Saved :data\\Helipad_Dataset_meta\\Helipad_Dataset_meta_original\\Folder_032\\Helipad_03253.meta\n",
      "Saved :data\\Helipad_Dataset_meta\\Helipad_Dataset_meta_original\\Folder_032\\Helipad_03254.meta\n",
      "Saved :data\\Helipad_Dataset_meta\\Helipad_Dataset_meta_original\\Folder_032\\Helipad_03255.meta\n",
      "Saved :data\\Helipad_Dataset_meta\\Helipad_Dataset_meta_original\\Folder_032\\Helipad_03256.meta\n",
      "Saved :data\\Helipad_Dataset_meta\\Helipad_Dataset_meta_original\\Folder_032\\Helipad_03257.meta\n",
      "Saved :data\\Helipad_Dataset_meta\\Helipad_Dataset_meta_original\\Folder_032\\Helipad_03258.meta\n",
      "Saved :data\\Helipad_Dataset_meta\\Helipad_Dataset_meta_original\\Folder_032\\Helipad_03259.meta\n",
      "Saved :data\\Helipad_Dataset_meta\\Helipad_Dataset_meta_original\\Folder_032\\Helipad_03260.meta\n",
      "Saved :data\\Helipad_Dataset_meta\\Helipad_Dataset_meta_original\\Folder_032\\Helipad_03261.meta\n",
      "Saved :data\\Helipad_Dataset_meta\\Helipad_Dataset_meta_original\\Folder_032\\Helipad_03262.meta\n",
      "Saved :data\\Helipad_Dataset_meta\\Helipad_Dataset_meta_original\\Folder_032\\Helipad_03263.meta\n",
      "Saved :data\\Helipad_Dataset_meta\\Helipad_Dataset_meta_original\\Folder_032\\Helipad_03264.meta\n",
      "Saved :data\\Helipad_Dataset_meta\\Helipad_Dataset_meta_original\\Folder_032\\Helipad_03265.meta\n",
      "Saved :data\\Helipad_Dataset_meta\\Helipad_Dataset_meta_original\\Folder_032\\Helipad_03266.meta\n",
      "Saved :data\\Helipad_Dataset_meta\\Helipad_Dataset_meta_original\\Folder_032\\Helipad_03267.meta\n",
      "Saved :data\\Helipad_Dataset_meta\\Helipad_Dataset_meta_original\\Folder_032\\Helipad_03268.meta\n",
      "Saved :data\\Helipad_Dataset_meta\\Helipad_Dataset_meta_original\\Folder_032\\Helipad_03269.meta\n",
      "Saved :data\\Helipad_Dataset_meta\\Helipad_Dataset_meta_original\\Folder_032\\Helipad_03270.meta\n",
      "Saved :data\\Helipad_Dataset_meta\\Helipad_Dataset_meta_original\\Folder_032\\Helipad_03271.meta\n",
      "Saved :data\\Helipad_Dataset_meta\\Helipad_Dataset_meta_original\\Folder_032\\Helipad_03272.meta\n",
      "Saved :data\\Helipad_Dataset_meta\\Helipad_Dataset_meta_original\\Folder_032\\Helipad_03273.meta\n",
      "Saved :data\\Helipad_Dataset_meta\\Helipad_Dataset_meta_original\\Folder_032\\Helipad_03274.meta\n",
      "Saved :data\\Helipad_Dataset_meta\\Helipad_Dataset_meta_original\\Folder_032\\Helipad_03275.meta\n",
      "Saved :data\\Helipad_Dataset_meta\\Helipad_Dataset_meta_original\\Folder_032\\Helipad_03276.meta\n",
      "Saved :data\\Helipad_Dataset_meta\\Helipad_Dataset_meta_original\\Folder_032\\Helipad_03277.meta\n",
      "Saved :data\\Helipad_Dataset_meta\\Helipad_Dataset_meta_original\\Folder_032\\Helipad_03278.meta\n",
      "Saved :data\\Helipad_Dataset_meta\\Helipad_Dataset_meta_original\\Folder_032\\Helipad_03279.meta\n",
      "Saved :data\\Helipad_Dataset_meta\\Helipad_Dataset_meta_original\\Folder_032\\Helipad_03280.meta\n",
      "Saved :data\\Helipad_Dataset_meta\\Helipad_Dataset_meta_original\\Folder_032\\Helipad_03281.meta\n",
      "Saved :data\\Helipad_Dataset_meta\\Helipad_Dataset_meta_original\\Folder_032\\Helipad_03282.meta\n",
      "Saved :data\\Helipad_Dataset_meta\\Helipad_Dataset_meta_original\\Folder_032\\Helipad_03283.meta\n",
      "Saved :data\\Helipad_Dataset_meta\\Helipad_Dataset_meta_original\\Folder_032\\Helipad_03284.meta\n",
      "Saved :data\\Helipad_Dataset_meta\\Helipad_Dataset_meta_original\\Folder_032\\Helipad_03285.meta\n",
      "Saved :data\\Helipad_Dataset_meta\\Helipad_Dataset_meta_original\\Folder_032\\Helipad_03286.meta\n",
      "Saved :data\\Helipad_Dataset_meta\\Helipad_Dataset_meta_original\\Folder_032\\Helipad_03287.meta\n",
      "Saved :data\\Helipad_Dataset_meta\\Helipad_Dataset_meta_original\\Folder_032\\Helipad_03288.meta\n",
      "Saved :data\\Helipad_Dataset_meta\\Helipad_Dataset_meta_original\\Folder_032\\Helipad_03289.meta\n",
      "Saved :data\\Helipad_Dataset_meta\\Helipad_Dataset_meta_original\\Folder_032\\Helipad_03290.meta\n",
      "Saved :data\\Helipad_Dataset_meta\\Helipad_Dataset_meta_original\\Folder_032\\Helipad_03291.meta\n",
      "Saved :data\\Helipad_Dataset_meta\\Helipad_Dataset_meta_original\\Folder_032\\Helipad_03292.meta\n",
      "Saved :data\\Helipad_Dataset_meta\\Helipad_Dataset_meta_original\\Folder_032\\Helipad_03293.meta\n",
      "Saved :data\\Helipad_Dataset_meta\\Helipad_Dataset_meta_original\\Folder_032\\Helipad_03294.meta\n",
      "Saved :data\\Helipad_Dataset_meta\\Helipad_Dataset_meta_original\\Folder_032\\Helipad_03295.meta\n",
      "Saved :data\\Helipad_Dataset_meta\\Helipad_Dataset_meta_original\\Folder_032\\Helipad_03296.meta\n",
      "Saved :data\\Helipad_Dataset_meta\\Helipad_Dataset_meta_original\\Folder_032\\Helipad_03297.meta\n",
      "Saved :data\\Helipad_Dataset_meta\\Helipad_Dataset_meta_original\\Folder_032\\Helipad_03298.meta\n",
      "Saved :data\\Helipad_Dataset_meta\\Helipad_Dataset_meta_original\\Folder_032\\Helipad_03299.meta\n",
      "Saved :data\\Helipad_Dataset_meta\\Helipad_Dataset_meta_original\\Folder_033\\Helipad_03300.meta\n",
      "Saved :data\\Helipad_Dataset_meta\\Helipad_Dataset_meta_original\\Folder_033\\Helipad_03301.meta\n",
      "Saved :data\\Helipad_Dataset_meta\\Helipad_Dataset_meta_original\\Folder_033\\Helipad_03302.meta\n",
      "Saved :data\\Helipad_Dataset_meta\\Helipad_Dataset_meta_original\\Folder_033\\Helipad_03303.meta\n",
      "Saved :data\\Helipad_Dataset_meta\\Helipad_Dataset_meta_original\\Folder_033\\Helipad_03304.meta\n",
      "Saved :data\\Helipad_Dataset_meta\\Helipad_Dataset_meta_original\\Folder_033\\Helipad_03305.meta\n",
      "Saved :data\\Helipad_Dataset_meta\\Helipad_Dataset_meta_original\\Folder_033\\Helipad_03306.meta\n",
      "Saved :data\\Helipad_Dataset_meta\\Helipad_Dataset_meta_original\\Folder_033\\Helipad_03307.meta\n",
      "Saved :data\\Helipad_Dataset_meta\\Helipad_Dataset_meta_original\\Folder_033\\Helipad_03308.meta\n",
      "Saved :data\\Helipad_Dataset_meta\\Helipad_Dataset_meta_original\\Folder_033\\Helipad_03309.meta\n",
      "Saved :data\\Helipad_Dataset_meta\\Helipad_Dataset_meta_original\\Folder_033\\Helipad_03310.meta\n",
      "Saved :data\\Helipad_Dataset_meta\\Helipad_Dataset_meta_original\\Folder_033\\Helipad_03311.meta\n",
      "Saved :data\\Helipad_Dataset_meta\\Helipad_Dataset_meta_original\\Folder_033\\Helipad_03312.meta\n",
      "Saved :data\\Helipad_Dataset_meta\\Helipad_Dataset_meta_original\\Folder_033\\Helipad_03313.meta\n",
      "Saved :data\\Helipad_Dataset_meta\\Helipad_Dataset_meta_original\\Folder_033\\Helipad_03314.meta\n",
      "Saved :data\\Helipad_Dataset_meta\\Helipad_Dataset_meta_original\\Folder_033\\Helipad_03315.meta\n",
      "Saved :data\\Helipad_Dataset_meta\\Helipad_Dataset_meta_original\\Folder_033\\Helipad_03316.meta\n",
      "Saved :data\\Helipad_Dataset_meta\\Helipad_Dataset_meta_original\\Folder_033\\Helipad_03317.meta\n",
      "Saved :data\\Helipad_Dataset_meta\\Helipad_Dataset_meta_original\\Folder_033\\Helipad_03318.meta\n",
      "Saved :data\\Helipad_Dataset_meta\\Helipad_Dataset_meta_original\\Folder_033\\Helipad_03319.meta\n",
      "Saved :data\\Helipad_Dataset_meta\\Helipad_Dataset_meta_original\\Folder_033\\Helipad_03320.meta\n",
      "Saved :data\\Helipad_Dataset_meta\\Helipad_Dataset_meta_original\\Folder_033\\Helipad_03321.meta\n",
      "Saved :data\\Helipad_Dataset_meta\\Helipad_Dataset_meta_original\\Folder_033\\Helipad_03322.meta\n",
      "Saved :data\\Helipad_Dataset_meta\\Helipad_Dataset_meta_original\\Folder_033\\Helipad_03323.meta\n",
      "Saved :data\\Helipad_Dataset_meta\\Helipad_Dataset_meta_original\\Folder_033\\Helipad_03324.meta\n",
      "Saved :data\\Helipad_Dataset_meta\\Helipad_Dataset_meta_original\\Folder_033\\Helipad_03325.meta\n",
      "Saved :data\\Helipad_Dataset_meta\\Helipad_Dataset_meta_original\\Folder_033\\Helipad_03326.meta\n",
      "Saved :data\\Helipad_Dataset_meta\\Helipad_Dataset_meta_original\\Folder_033\\Helipad_03327.meta\n",
      "Saved :data\\Helipad_Dataset_meta\\Helipad_Dataset_meta_original\\Folder_033\\Helipad_03328.meta\n",
      "Saved :data\\Helipad_Dataset_meta\\Helipad_Dataset_meta_original\\Folder_033\\Helipad_03329.meta\n",
      "Saved :data\\Helipad_Dataset_meta\\Helipad_Dataset_meta_original\\Folder_033\\Helipad_03330.meta\n",
      "Saved :data\\Helipad_Dataset_meta\\Helipad_Dataset_meta_original\\Folder_033\\Helipad_03331.meta\n",
      "Saved :data\\Helipad_Dataset_meta\\Helipad_Dataset_meta_original\\Folder_033\\Helipad_03332.meta\n",
      "Saved :data\\Helipad_Dataset_meta\\Helipad_Dataset_meta_original\\Folder_033\\Helipad_03333.meta\n",
      "Saved :data\\Helipad_Dataset_meta\\Helipad_Dataset_meta_original\\Folder_033\\Helipad_03334.meta\n",
      "Saved :data\\Helipad_Dataset_meta\\Helipad_Dataset_meta_original\\Folder_033\\Helipad_03335.meta\n",
      "Saved :data\\Helipad_Dataset_meta\\Helipad_Dataset_meta_original\\Folder_033\\Helipad_03336.meta\n",
      "Saved :data\\Helipad_Dataset_meta\\Helipad_Dataset_meta_original\\Folder_033\\Helipad_03337.meta\n",
      "Saved :data\\Helipad_Dataset_meta\\Helipad_Dataset_meta_original\\Folder_033\\Helipad_03338.meta\n",
      "Saved :data\\Helipad_Dataset_meta\\Helipad_Dataset_meta_original\\Folder_033\\Helipad_03339.meta\n",
      "Saved :data\\Helipad_Dataset_meta\\Helipad_Dataset_meta_original\\Folder_033\\Helipad_03340.meta\n",
      "Saved :data\\Helipad_Dataset_meta\\Helipad_Dataset_meta_original\\Folder_033\\Helipad_03341.meta\n",
      "Saved :data\\Helipad_Dataset_meta\\Helipad_Dataset_meta_original\\Folder_033\\Helipad_03342.meta\n",
      "Saved :data\\Helipad_Dataset_meta\\Helipad_Dataset_meta_original\\Folder_033\\Helipad_03343.meta\n",
      "Saved :data\\Helipad_Dataset_meta\\Helipad_Dataset_meta_original\\Folder_033\\Helipad_03344.meta\n",
      "Saved :data\\Helipad_Dataset_meta\\Helipad_Dataset_meta_original\\Folder_033\\Helipad_03345.meta\n",
      "Saved :data\\Helipad_Dataset_meta\\Helipad_Dataset_meta_original\\Folder_033\\Helipad_03346.meta\n",
      "Saved :data\\Helipad_Dataset_meta\\Helipad_Dataset_meta_original\\Folder_033\\Helipad_03347.meta\n",
      "Saved :data\\Helipad_Dataset_meta\\Helipad_Dataset_meta_original\\Folder_033\\Helipad_03348.meta\n",
      "Saved :data\\Helipad_Dataset_meta\\Helipad_Dataset_meta_original\\Folder_033\\Helipad_03349.meta\n",
      "Saved :data\\Helipad_Dataset_meta\\Helipad_Dataset_meta_original\\Folder_033\\Helipad_03350.meta\n",
      "Saved :data\\Helipad_Dataset_meta\\Helipad_Dataset_meta_original\\Folder_033\\Helipad_03351.meta\n",
      "Saved :data\\Helipad_Dataset_meta\\Helipad_Dataset_meta_original\\Folder_033\\Helipad_03352.meta\n",
      "Saved :data\\Helipad_Dataset_meta\\Helipad_Dataset_meta_original\\Folder_033\\Helipad_03353.meta\n",
      "Saved :data\\Helipad_Dataset_meta\\Helipad_Dataset_meta_original\\Folder_033\\Helipad_03354.meta\n",
      "Saved :data\\Helipad_Dataset_meta\\Helipad_Dataset_meta_original\\Folder_033\\Helipad_03355.meta\n",
      "Saved :data\\Helipad_Dataset_meta\\Helipad_Dataset_meta_original\\Folder_033\\Helipad_03356.meta\n",
      "Saved :data\\Helipad_Dataset_meta\\Helipad_Dataset_meta_original\\Folder_033\\Helipad_03357.meta\n",
      "Saved :data\\Helipad_Dataset_meta\\Helipad_Dataset_meta_original\\Folder_033\\Helipad_03358.meta\n",
      "Saved :data\\Helipad_Dataset_meta\\Helipad_Dataset_meta_original\\Folder_033\\Helipad_03359.meta\n",
      "Saved :data\\Helipad_Dataset_meta\\Helipad_Dataset_meta_original\\Folder_033\\Helipad_03360.meta\n",
      "Saved :data\\Helipad_Dataset_meta\\Helipad_Dataset_meta_original\\Folder_033\\Helipad_03361.meta\n"
     ]
    },
    {
     "name": "stdout",
     "output_type": "stream",
     "text": [
      "Saved :data\\Helipad_Dataset_meta\\Helipad_Dataset_meta_original\\Folder_033\\Helipad_03362.meta\n",
      "Saved :data\\Helipad_Dataset_meta\\Helipad_Dataset_meta_original\\Folder_033\\Helipad_03363.meta\n",
      "Saved :data\\Helipad_Dataset_meta\\Helipad_Dataset_meta_original\\Folder_033\\Helipad_03364.meta\n",
      "Saved :data\\Helipad_Dataset_meta\\Helipad_Dataset_meta_original\\Folder_033\\Helipad_03365.meta\n",
      "Saved :data\\Helipad_Dataset_meta\\Helipad_Dataset_meta_original\\Folder_033\\Helipad_03366.meta\n",
      "Saved :data\\Helipad_Dataset_meta\\Helipad_Dataset_meta_original\\Folder_033\\Helipad_03367.meta\n",
      "Saved :data\\Helipad_Dataset_meta\\Helipad_Dataset_meta_original\\Folder_033\\Helipad_03368.meta\n",
      "Saved :data\\Helipad_Dataset_meta\\Helipad_Dataset_meta_original\\Folder_033\\Helipad_03369.meta\n",
      "Saved :data\\Helipad_Dataset_meta\\Helipad_Dataset_meta_original\\Folder_033\\Helipad_03370.meta\n",
      "Saved :data\\Helipad_Dataset_meta\\Helipad_Dataset_meta_original\\Folder_033\\Helipad_03371.meta\n",
      "Saved :data\\Helipad_Dataset_meta\\Helipad_Dataset_meta_original\\Folder_033\\Helipad_03372.meta\n",
      "Saved :data\\Helipad_Dataset_meta\\Helipad_Dataset_meta_original\\Folder_033\\Helipad_03373.meta\n",
      "Saved :data\\Helipad_Dataset_meta\\Helipad_Dataset_meta_original\\Folder_033\\Helipad_03374.meta\n",
      "Saved :data\\Helipad_Dataset_meta\\Helipad_Dataset_meta_original\\Folder_033\\Helipad_03375.meta\n",
      "Saved :data\\Helipad_Dataset_meta\\Helipad_Dataset_meta_original\\Folder_033\\Helipad_03376.meta\n",
      "Saved :data\\Helipad_Dataset_meta\\Helipad_Dataset_meta_original\\Folder_033\\Helipad_03377.meta\n",
      "Saved :data\\Helipad_Dataset_meta\\Helipad_Dataset_meta_original\\Folder_033\\Helipad_03378.meta\n",
      "Saved :data\\Helipad_Dataset_meta\\Helipad_Dataset_meta_original\\Folder_033\\Helipad_03379.meta\n",
      "Saved :data\\Helipad_Dataset_meta\\Helipad_Dataset_meta_original\\Folder_033\\Helipad_03380.meta\n",
      "Saved :data\\Helipad_Dataset_meta\\Helipad_Dataset_meta_original\\Folder_033\\Helipad_03381.meta\n",
      "Saved :data\\Helipad_Dataset_meta\\Helipad_Dataset_meta_original\\Folder_033\\Helipad_03382.meta\n",
      "Saved :data\\Helipad_Dataset_meta\\Helipad_Dataset_meta_original\\Folder_033\\Helipad_03383.meta\n",
      "Saved :data\\Helipad_Dataset_meta\\Helipad_Dataset_meta_original\\Folder_033\\Helipad_03384.meta\n",
      "Saved :data\\Helipad_Dataset_meta\\Helipad_Dataset_meta_original\\Folder_033\\Helipad_03385.meta\n",
      "Saved :data\\Helipad_Dataset_meta\\Helipad_Dataset_meta_original\\Folder_033\\Helipad_03386.meta\n",
      "Saved :data\\Helipad_Dataset_meta\\Helipad_Dataset_meta_original\\Folder_033\\Helipad_03387.meta\n",
      "Saved :data\\Helipad_Dataset_meta\\Helipad_Dataset_meta_original\\Folder_033\\Helipad_03388.meta\n",
      "Saved :data\\Helipad_Dataset_meta\\Helipad_Dataset_meta_original\\Folder_033\\Helipad_03389.meta\n",
      "Saved :data\\Helipad_Dataset_meta\\Helipad_Dataset_meta_original\\Folder_033\\Helipad_03390.meta\n",
      "Saved :data\\Helipad_Dataset_meta\\Helipad_Dataset_meta_original\\Folder_033\\Helipad_03391.meta\n",
      "Saved :data\\Helipad_Dataset_meta\\Helipad_Dataset_meta_original\\Folder_033\\Helipad_03392.meta\n",
      "Saved :data\\Helipad_Dataset_meta\\Helipad_Dataset_meta_original\\Folder_033\\Helipad_03393.meta\n",
      "Saved :data\\Helipad_Dataset_meta\\Helipad_Dataset_meta_original\\Folder_033\\Helipad_03394.meta\n",
      "Saved :data\\Helipad_Dataset_meta\\Helipad_Dataset_meta_original\\Folder_033\\Helipad_03395.meta\n",
      "Saved :data\\Helipad_Dataset_meta\\Helipad_Dataset_meta_original\\Folder_033\\Helipad_03396.meta\n",
      "Saved :data\\Helipad_Dataset_meta\\Helipad_Dataset_meta_original\\Folder_033\\Helipad_03397.meta\n",
      "Saved :data\\Helipad_Dataset_meta\\Helipad_Dataset_meta_original\\Folder_033\\Helipad_03398.meta\n",
      "Saved :data\\Helipad_Dataset_meta\\Helipad_Dataset_meta_original\\Folder_033\\Helipad_03399.meta\n",
      "Saved :data\\Helipad_Dataset_meta\\Helipad_Dataset_meta_original\\Folder_034\\Helipad_03400.meta\n",
      "Saved :data\\Helipad_Dataset_meta\\Helipad_Dataset_meta_original\\Folder_034\\Helipad_03401.meta\n",
      "Saved :data\\Helipad_Dataset_meta\\Helipad_Dataset_meta_original\\Folder_034\\Helipad_03402.meta\n",
      "Saved :data\\Helipad_Dataset_meta\\Helipad_Dataset_meta_original\\Folder_034\\Helipad_03403.meta\n",
      "Saved :data\\Helipad_Dataset_meta\\Helipad_Dataset_meta_original\\Folder_034\\Helipad_03404.meta\n",
      "Saved :data\\Helipad_Dataset_meta\\Helipad_Dataset_meta_original\\Folder_034\\Helipad_03405.meta\n",
      "Saved :data\\Helipad_Dataset_meta\\Helipad_Dataset_meta_original\\Folder_034\\Helipad_03406.meta\n",
      "Saved :data\\Helipad_Dataset_meta\\Helipad_Dataset_meta_original\\Folder_034\\Helipad_03407.meta\n",
      "Saved :data\\Helipad_Dataset_meta\\Helipad_Dataset_meta_original\\Folder_034\\Helipad_03408.meta\n",
      "Saved :data\\Helipad_Dataset_meta\\Helipad_Dataset_meta_original\\Folder_034\\Helipad_03409.meta\n",
      "Saved :data\\Helipad_Dataset_meta\\Helipad_Dataset_meta_original\\Folder_034\\Helipad_03410.meta\n",
      "Saved :data\\Helipad_Dataset_meta\\Helipad_Dataset_meta_original\\Folder_034\\Helipad_03411.meta\n",
      "Saved :data\\Helipad_Dataset_meta\\Helipad_Dataset_meta_original\\Folder_034\\Helipad_03412.meta\n",
      "Saved :data\\Helipad_Dataset_meta\\Helipad_Dataset_meta_original\\Folder_034\\Helipad_03413.meta\n",
      "Saved :data\\Helipad_Dataset_meta\\Helipad_Dataset_meta_original\\Folder_034\\Helipad_03414.meta\n",
      "Saved :data\\Helipad_Dataset_meta\\Helipad_Dataset_meta_original\\Folder_034\\Helipad_03415.meta\n",
      "Saved :data\\Helipad_Dataset_meta\\Helipad_Dataset_meta_original\\Folder_034\\Helipad_03416.meta\n",
      "Saved :data\\Helipad_Dataset_meta\\Helipad_Dataset_meta_original\\Folder_034\\Helipad_03417.meta\n",
      "Saved :data\\Helipad_Dataset_meta\\Helipad_Dataset_meta_original\\Folder_034\\Helipad_03418.meta\n",
      "Saved :data\\Helipad_Dataset_meta\\Helipad_Dataset_meta_original\\Folder_034\\Helipad_03419.meta\n",
      "Saved :data\\Helipad_Dataset_meta\\Helipad_Dataset_meta_original\\Folder_034\\Helipad_03420.meta\n",
      "Saved :data\\Helipad_Dataset_meta\\Helipad_Dataset_meta_original\\Folder_034\\Helipad_03421.meta\n",
      "Saved :data\\Helipad_Dataset_meta\\Helipad_Dataset_meta_original\\Folder_034\\Helipad_03422.meta\n",
      "Saved :data\\Helipad_Dataset_meta\\Helipad_Dataset_meta_original\\Folder_034\\Helipad_03423.meta\n",
      "Saved :data\\Helipad_Dataset_meta\\Helipad_Dataset_meta_original\\Folder_034\\Helipad_03424.meta\n",
      "Saved :data\\Helipad_Dataset_meta\\Helipad_Dataset_meta_original\\Folder_034\\Helipad_03425.meta\n",
      "Saved :data\\Helipad_Dataset_meta\\Helipad_Dataset_meta_original\\Folder_034\\Helipad_03426.meta\n",
      "Saved :data\\Helipad_Dataset_meta\\Helipad_Dataset_meta_original\\Folder_034\\Helipad_03427.meta\n",
      "Saved :data\\Helipad_Dataset_meta\\Helipad_Dataset_meta_original\\Folder_034\\Helipad_03428.meta\n",
      "Saved :data\\Helipad_Dataset_meta\\Helipad_Dataset_meta_original\\Folder_034\\Helipad_03429.meta\n",
      "Saved :data\\Helipad_Dataset_meta\\Helipad_Dataset_meta_original\\Folder_034\\Helipad_03430.meta\n",
      "Saved :data\\Helipad_Dataset_meta\\Helipad_Dataset_meta_original\\Folder_034\\Helipad_03431.meta\n",
      "Saved :data\\Helipad_Dataset_meta\\Helipad_Dataset_meta_original\\Folder_034\\Helipad_03432.meta\n",
      "Saved :data\\Helipad_Dataset_meta\\Helipad_Dataset_meta_original\\Folder_034\\Helipad_03433.meta\n",
      "Saved :data\\Helipad_Dataset_meta\\Helipad_Dataset_meta_original\\Folder_034\\Helipad_03434.meta\n",
      "Saved :data\\Helipad_Dataset_meta\\Helipad_Dataset_meta_original\\Folder_034\\Helipad_03435.meta\n",
      "Saved :data\\Helipad_Dataset_meta\\Helipad_Dataset_meta_original\\Folder_034\\Helipad_03436.meta\n",
      "Saved :data\\Helipad_Dataset_meta\\Helipad_Dataset_meta_original\\Folder_034\\Helipad_03437.meta\n",
      "Saved :data\\Helipad_Dataset_meta\\Helipad_Dataset_meta_original\\Folder_034\\Helipad_03438.meta\n",
      "Saved :data\\Helipad_Dataset_meta\\Helipad_Dataset_meta_original\\Folder_034\\Helipad_03439.meta\n",
      "Saved :data\\Helipad_Dataset_meta\\Helipad_Dataset_meta_original\\Folder_034\\Helipad_03440.meta\n",
      "Saved :data\\Helipad_Dataset_meta\\Helipad_Dataset_meta_original\\Folder_034\\Helipad_03441.meta\n",
      "Saved :data\\Helipad_Dataset_meta\\Helipad_Dataset_meta_original\\Folder_034\\Helipad_03442.meta\n",
      "Saved :data\\Helipad_Dataset_meta\\Helipad_Dataset_meta_original\\Folder_034\\Helipad_03443.meta\n",
      "Saved :data\\Helipad_Dataset_meta\\Helipad_Dataset_meta_original\\Folder_034\\Helipad_03444.meta\n",
      "Saved :data\\Helipad_Dataset_meta\\Helipad_Dataset_meta_original\\Folder_034\\Helipad_03445.meta\n",
      "Saved :data\\Helipad_Dataset_meta\\Helipad_Dataset_meta_original\\Folder_034\\Helipad_03446.meta\n",
      "Saved :data\\Helipad_Dataset_meta\\Helipad_Dataset_meta_original\\Folder_034\\Helipad_03447.meta\n",
      "Saved :data\\Helipad_Dataset_meta\\Helipad_Dataset_meta_original\\Folder_034\\Helipad_03448.meta\n",
      "Saved :data\\Helipad_Dataset_meta\\Helipad_Dataset_meta_original\\Folder_034\\Helipad_03449.meta\n",
      "Saved :data\\Helipad_Dataset_meta\\Helipad_Dataset_meta_original\\Folder_034\\Helipad_03450.meta\n",
      "Saved :data\\Helipad_Dataset_meta\\Helipad_Dataset_meta_original\\Folder_034\\Helipad_03451.meta\n",
      "Saved :data\\Helipad_Dataset_meta\\Helipad_Dataset_meta_original\\Folder_034\\Helipad_03452.meta\n",
      "Saved :data\\Helipad_Dataset_meta\\Helipad_Dataset_meta_original\\Folder_034\\Helipad_03453.meta\n",
      "Saved :data\\Helipad_Dataset_meta\\Helipad_Dataset_meta_original\\Folder_034\\Helipad_03454.meta\n",
      "Saved :data\\Helipad_Dataset_meta\\Helipad_Dataset_meta_original\\Folder_034\\Helipad_03455.meta\n",
      "Saved :data\\Helipad_Dataset_meta\\Helipad_Dataset_meta_original\\Folder_034\\Helipad_03456.meta\n",
      "Saved :data\\Helipad_Dataset_meta\\Helipad_Dataset_meta_original\\Folder_034\\Helipad_03457.meta\n",
      "Saved :data\\Helipad_Dataset_meta\\Helipad_Dataset_meta_original\\Folder_034\\Helipad_03458.meta\n",
      "Saved :data\\Helipad_Dataset_meta\\Helipad_Dataset_meta_original\\Folder_034\\Helipad_03459.meta\n",
      "Saved :data\\Helipad_Dataset_meta\\Helipad_Dataset_meta_original\\Folder_034\\Helipad_03460.meta\n",
      "Saved :data\\Helipad_Dataset_meta\\Helipad_Dataset_meta_original\\Folder_034\\Helipad_03461.meta\n",
      "Saved :data\\Helipad_Dataset_meta\\Helipad_Dataset_meta_original\\Folder_034\\Helipad_03462.meta\n",
      "Saved :data\\Helipad_Dataset_meta\\Helipad_Dataset_meta_original\\Folder_034\\Helipad_03463.meta\n",
      "Saved :data\\Helipad_Dataset_meta\\Helipad_Dataset_meta_original\\Folder_034\\Helipad_03464.meta\n",
      "Saved :data\\Helipad_Dataset_meta\\Helipad_Dataset_meta_original\\Folder_034\\Helipad_03465.meta\n",
      "Saved :data\\Helipad_Dataset_meta\\Helipad_Dataset_meta_original\\Folder_034\\Helipad_03466.meta\n",
      "Saved :data\\Helipad_Dataset_meta\\Helipad_Dataset_meta_original\\Folder_034\\Helipad_03467.meta\n",
      "Saved :data\\Helipad_Dataset_meta\\Helipad_Dataset_meta_original\\Folder_034\\Helipad_03468.meta\n",
      "Saved :data\\Helipad_Dataset_meta\\Helipad_Dataset_meta_original\\Folder_034\\Helipad_03469.meta\n",
      "Saved :data\\Helipad_Dataset_meta\\Helipad_Dataset_meta_original\\Folder_034\\Helipad_03470.meta\n",
      "Saved :data\\Helipad_Dataset_meta\\Helipad_Dataset_meta_original\\Folder_034\\Helipad_03471.meta\n",
      "Saved :data\\Helipad_Dataset_meta\\Helipad_Dataset_meta_original\\Folder_034\\Helipad_03472.meta\n",
      "Saved :data\\Helipad_Dataset_meta\\Helipad_Dataset_meta_original\\Folder_034\\Helipad_03473.meta\n",
      "Saved :data\\Helipad_Dataset_meta\\Helipad_Dataset_meta_original\\Folder_034\\Helipad_03474.meta\n",
      "Saved :data\\Helipad_Dataset_meta\\Helipad_Dataset_meta_original\\Folder_034\\Helipad_03475.meta\n",
      "Saved :data\\Helipad_Dataset_meta\\Helipad_Dataset_meta_original\\Folder_034\\Helipad_03476.meta\n",
      "Saved :data\\Helipad_Dataset_meta\\Helipad_Dataset_meta_original\\Folder_034\\Helipad_03477.meta\n",
      "Saved :data\\Helipad_Dataset_meta\\Helipad_Dataset_meta_original\\Folder_034\\Helipad_03478.meta\n",
      "Saved :data\\Helipad_Dataset_meta\\Helipad_Dataset_meta_original\\Folder_034\\Helipad_03479.meta\n",
      "Saved :data\\Helipad_Dataset_meta\\Helipad_Dataset_meta_original\\Folder_034\\Helipad_03480.meta\n",
      "Saved :data\\Helipad_Dataset_meta\\Helipad_Dataset_meta_original\\Folder_034\\Helipad_03481.meta\n",
      "Saved :data\\Helipad_Dataset_meta\\Helipad_Dataset_meta_original\\Folder_034\\Helipad_03482.meta\n",
      "Saved :data\\Helipad_Dataset_meta\\Helipad_Dataset_meta_original\\Folder_034\\Helipad_03483.meta\n",
      "Saved :data\\Helipad_Dataset_meta\\Helipad_Dataset_meta_original\\Folder_034\\Helipad_03484.meta\n",
      "Saved :data\\Helipad_Dataset_meta\\Helipad_Dataset_meta_original\\Folder_034\\Helipad_03485.meta\n",
      "Saved :data\\Helipad_Dataset_meta\\Helipad_Dataset_meta_original\\Folder_034\\Helipad_03486.meta\n",
      "Saved :data\\Helipad_Dataset_meta\\Helipad_Dataset_meta_original\\Folder_034\\Helipad_03487.meta\n",
      "Saved :data\\Helipad_Dataset_meta\\Helipad_Dataset_meta_original\\Folder_034\\Helipad_03488.meta\n",
      "Saved :data\\Helipad_Dataset_meta\\Helipad_Dataset_meta_original\\Folder_034\\Helipad_03489.meta\n",
      "Saved :data\\Helipad_Dataset_meta\\Helipad_Dataset_meta_original\\Folder_034\\Helipad_03490.meta\n",
      "Saved :data\\Helipad_Dataset_meta\\Helipad_Dataset_meta_original\\Folder_034\\Helipad_03491.meta\n",
      "Saved :data\\Helipad_Dataset_meta\\Helipad_Dataset_meta_original\\Folder_034\\Helipad_03492.meta\n",
      "Saved :data\\Helipad_Dataset_meta\\Helipad_Dataset_meta_original\\Folder_034\\Helipad_03493.meta\n",
      "Saved :data\\Helipad_Dataset_meta\\Helipad_Dataset_meta_original\\Folder_034\\Helipad_03494.meta\n",
      "Saved :data\\Helipad_Dataset_meta\\Helipad_Dataset_meta_original\\Folder_034\\Helipad_03495.meta\n",
      "Saved :data\\Helipad_Dataset_meta\\Helipad_Dataset_meta_original\\Folder_034\\Helipad_03496.meta\n",
      "Saved :data\\Helipad_Dataset_meta\\Helipad_Dataset_meta_original\\Folder_034\\Helipad_03497.meta\n",
      "Saved :data\\Helipad_Dataset_meta\\Helipad_Dataset_meta_original\\Folder_034\\Helipad_03498.meta\n",
      "Saved :data\\Helipad_Dataset_meta\\Helipad_Dataset_meta_original\\Folder_034\\Helipad_03499.meta\n",
      "Saved :data\\Helipad_Dataset_meta\\Helipad_Dataset_meta_original\\Folder_035\\Helipad_03500.meta\n",
      "Saved :data\\Helipad_Dataset_meta\\Helipad_Dataset_meta_original\\Folder_035\\Helipad_03501.meta\n",
      "Saved :data\\Helipad_Dataset_meta\\Helipad_Dataset_meta_original\\Folder_035\\Helipad_03502.meta\n",
      "Saved :data\\Helipad_Dataset_meta\\Helipad_Dataset_meta_original\\Folder_035\\Helipad_03503.meta\n",
      "Saved :data\\Helipad_Dataset_meta\\Helipad_Dataset_meta_original\\Folder_035\\Helipad_03504.meta\n",
      "Saved :data\\Helipad_Dataset_meta\\Helipad_Dataset_meta_original\\Folder_035\\Helipad_03505.meta\n",
      "Saved :data\\Helipad_Dataset_meta\\Helipad_Dataset_meta_original\\Folder_035\\Helipad_03506.meta\n",
      "Saved :data\\Helipad_Dataset_meta\\Helipad_Dataset_meta_original\\Folder_035\\Helipad_03507.meta\n",
      "Saved :data\\Helipad_Dataset_meta\\Helipad_Dataset_meta_original\\Folder_035\\Helipad_03508.meta\n",
      "Saved :data\\Helipad_Dataset_meta\\Helipad_Dataset_meta_original\\Folder_035\\Helipad_03509.meta\n",
      "Saved :data\\Helipad_Dataset_meta\\Helipad_Dataset_meta_original\\Folder_035\\Helipad_03510.meta\n",
      "Saved :data\\Helipad_Dataset_meta\\Helipad_Dataset_meta_original\\Folder_035\\Helipad_03511.meta\n",
      "Saved :data\\Helipad_Dataset_meta\\Helipad_Dataset_meta_original\\Folder_035\\Helipad_03512.meta\n",
      "Saved :data\\Helipad_Dataset_meta\\Helipad_Dataset_meta_original\\Folder_035\\Helipad_03513.meta\n",
      "Saved :data\\Helipad_Dataset_meta\\Helipad_Dataset_meta_original\\Folder_035\\Helipad_03514.meta\n",
      "Saved :data\\Helipad_Dataset_meta\\Helipad_Dataset_meta_original\\Folder_035\\Helipad_03515.meta\n",
      "Saved :data\\Helipad_Dataset_meta\\Helipad_Dataset_meta_original\\Folder_035\\Helipad_03516.meta\n",
      "Saved :data\\Helipad_Dataset_meta\\Helipad_Dataset_meta_original\\Folder_035\\Helipad_03517.meta\n",
      "Saved :data\\Helipad_Dataset_meta\\Helipad_Dataset_meta_original\\Folder_035\\Helipad_03518.meta\n",
      "Saved :data\\Helipad_Dataset_meta\\Helipad_Dataset_meta_original\\Folder_035\\Helipad_03519.meta\n",
      "Saved :data\\Helipad_Dataset_meta\\Helipad_Dataset_meta_original\\Folder_035\\Helipad_03520.meta\n",
      "Saved :data\\Helipad_Dataset_meta\\Helipad_Dataset_meta_original\\Folder_035\\Helipad_03521.meta\n",
      "Saved :data\\Helipad_Dataset_meta\\Helipad_Dataset_meta_original\\Folder_035\\Helipad_03522.meta\n"
     ]
    },
    {
     "name": "stdout",
     "output_type": "stream",
     "text": [
      "Saved :data\\Helipad_Dataset_meta\\Helipad_Dataset_meta_original\\Folder_035\\Helipad_03523.meta\n",
      "Saved :data\\Helipad_Dataset_meta\\Helipad_Dataset_meta_original\\Folder_035\\Helipad_03524.meta\n",
      "Saved :data\\Helipad_Dataset_meta\\Helipad_Dataset_meta_original\\Folder_035\\Helipad_03525.meta\n",
      "Saved :data\\Helipad_Dataset_meta\\Helipad_Dataset_meta_original\\Folder_035\\Helipad_03526.meta\n",
      "Saved :data\\Helipad_Dataset_meta\\Helipad_Dataset_meta_original\\Folder_035\\Helipad_03527.meta\n",
      "Saved :data\\Helipad_Dataset_meta\\Helipad_Dataset_meta_original\\Folder_035\\Helipad_03528.meta\n",
      "Saved :data\\Helipad_Dataset_meta\\Helipad_Dataset_meta_original\\Folder_035\\Helipad_03529.meta\n",
      "Saved :data\\Helipad_Dataset_meta\\Helipad_Dataset_meta_original\\Folder_035\\Helipad_03530.meta\n",
      "Saved :data\\Helipad_Dataset_meta\\Helipad_Dataset_meta_original\\Folder_035\\Helipad_03531.meta\n",
      "Saved :data\\Helipad_Dataset_meta\\Helipad_Dataset_meta_original\\Folder_035\\Helipad_03532.meta\n",
      "Saved :data\\Helipad_Dataset_meta\\Helipad_Dataset_meta_original\\Folder_035\\Helipad_03533.meta\n",
      "Saved :data\\Helipad_Dataset_meta\\Helipad_Dataset_meta_original\\Folder_035\\Helipad_03534.meta\n",
      "Saved :data\\Helipad_Dataset_meta\\Helipad_Dataset_meta_original\\Folder_035\\Helipad_03535.meta\n",
      "Saved :data\\Helipad_Dataset_meta\\Helipad_Dataset_meta_original\\Folder_035\\Helipad_03536.meta\n",
      "Saved :data\\Helipad_Dataset_meta\\Helipad_Dataset_meta_original\\Folder_035\\Helipad_03537.meta\n",
      "Saved :data\\Helipad_Dataset_meta\\Helipad_Dataset_meta_original\\Folder_035\\Helipad_03538.meta\n",
      "Saved :data\\Helipad_Dataset_meta\\Helipad_Dataset_meta_original\\Folder_035\\Helipad_03539.meta\n",
      "Saved :data\\Helipad_Dataset_meta\\Helipad_Dataset_meta_original\\Folder_035\\Helipad_03540.meta\n",
      "Saved :data\\Helipad_Dataset_meta\\Helipad_Dataset_meta_original\\Folder_035\\Helipad_03541.meta\n",
      "Saved :data\\Helipad_Dataset_meta\\Helipad_Dataset_meta_original\\Folder_035\\Helipad_03542.meta\n",
      "Saved :data\\Helipad_Dataset_meta\\Helipad_Dataset_meta_original\\Folder_035\\Helipad_03543.meta\n",
      "Saved :data\\Helipad_Dataset_meta\\Helipad_Dataset_meta_original\\Folder_035\\Helipad_03544.meta\n",
      "Saved :data\\Helipad_Dataset_meta\\Helipad_Dataset_meta_original\\Folder_035\\Helipad_03545.meta\n",
      "Saved :data\\Helipad_Dataset_meta\\Helipad_Dataset_meta_original\\Folder_035\\Helipad_03546.meta\n",
      "Saved :data\\Helipad_Dataset_meta\\Helipad_Dataset_meta_original\\Folder_035\\Helipad_03547.meta\n",
      "Saved :data\\Helipad_Dataset_meta\\Helipad_Dataset_meta_original\\Folder_035\\Helipad_03548.meta\n",
      "Saved :data\\Helipad_Dataset_meta\\Helipad_Dataset_meta_original\\Folder_035\\Helipad_03549.meta\n",
      "Saved :data\\Helipad_Dataset_meta\\Helipad_Dataset_meta_original\\Folder_035\\Helipad_03550.meta\n",
      "Saved :data\\Helipad_Dataset_meta\\Helipad_Dataset_meta_original\\Folder_035\\Helipad_03551.meta\n",
      "Saved :data\\Helipad_Dataset_meta\\Helipad_Dataset_meta_original\\Folder_035\\Helipad_03552.meta\n",
      "Saved :data\\Helipad_Dataset_meta\\Helipad_Dataset_meta_original\\Folder_035\\Helipad_03553.meta\n",
      "Saved :data\\Helipad_Dataset_meta\\Helipad_Dataset_meta_original\\Folder_035\\Helipad_03554.meta\n",
      "Saved :data\\Helipad_Dataset_meta\\Helipad_Dataset_meta_original\\Folder_035\\Helipad_03555.meta\n",
      "Saved :data\\Helipad_Dataset_meta\\Helipad_Dataset_meta_original\\Folder_035\\Helipad_03556.meta\n",
      "Saved :data\\Helipad_Dataset_meta\\Helipad_Dataset_meta_original\\Folder_035\\Helipad_03557.meta\n",
      "Saved :data\\Helipad_Dataset_meta\\Helipad_Dataset_meta_original\\Folder_035\\Helipad_03558.meta\n",
      "Saved :data\\Helipad_Dataset_meta\\Helipad_Dataset_meta_original\\Folder_035\\Helipad_03559.meta\n",
      "Saved :data\\Helipad_Dataset_meta\\Helipad_Dataset_meta_original\\Folder_035\\Helipad_03560.meta\n",
      "Saved :data\\Helipad_Dataset_meta\\Helipad_Dataset_meta_original\\Folder_035\\Helipad_03561.meta\n",
      "Saved :data\\Helipad_Dataset_meta\\Helipad_Dataset_meta_original\\Folder_035\\Helipad_03562.meta\n",
      "Saved :data\\Helipad_Dataset_meta\\Helipad_Dataset_meta_original\\Folder_035\\Helipad_03563.meta\n",
      "Saved :data\\Helipad_Dataset_meta\\Helipad_Dataset_meta_original\\Folder_035\\Helipad_03564.meta\n",
      "Saved :data\\Helipad_Dataset_meta\\Helipad_Dataset_meta_original\\Folder_035\\Helipad_03565.meta\n",
      "Saved :data\\Helipad_Dataset_meta\\Helipad_Dataset_meta_original\\Folder_035\\Helipad_03566.meta\n",
      "Saved :data\\Helipad_Dataset_meta\\Helipad_Dataset_meta_original\\Folder_035\\Helipad_03567.meta\n",
      "Saved :data\\Helipad_Dataset_meta\\Helipad_Dataset_meta_original\\Folder_035\\Helipad_03568.meta\n",
      "Saved :data\\Helipad_Dataset_meta\\Helipad_Dataset_meta_original\\Folder_035\\Helipad_03569.meta\n",
      "Saved :data\\Helipad_Dataset_meta\\Helipad_Dataset_meta_original\\Folder_035\\Helipad_03570.meta\n",
      "Saved :data\\Helipad_Dataset_meta\\Helipad_Dataset_meta_original\\Folder_035\\Helipad_03571.meta\n",
      "Saved :data\\Helipad_Dataset_meta\\Helipad_Dataset_meta_original\\Folder_035\\Helipad_03572.meta\n",
      "Saved :data\\Helipad_Dataset_meta\\Helipad_Dataset_meta_original\\Folder_035\\Helipad_03573.meta\n",
      "Saved :data\\Helipad_Dataset_meta\\Helipad_Dataset_meta_original\\Folder_035\\Helipad_03574.meta\n",
      "Saved :data\\Helipad_Dataset_meta\\Helipad_Dataset_meta_original\\Folder_035\\Helipad_03575.meta\n",
      "Saved :data\\Helipad_Dataset_meta\\Helipad_Dataset_meta_original\\Folder_035\\Helipad_03576.meta\n",
      "Saved :data\\Helipad_Dataset_meta\\Helipad_Dataset_meta_original\\Folder_035\\Helipad_03577.meta\n",
      "Saved :data\\Helipad_Dataset_meta\\Helipad_Dataset_meta_original\\Folder_035\\Helipad_03578.meta\n",
      "Saved :data\\Helipad_Dataset_meta\\Helipad_Dataset_meta_original\\Folder_035\\Helipad_03579.meta\n",
      "Saved :data\\Helipad_Dataset_meta\\Helipad_Dataset_meta_original\\Folder_035\\Helipad_03580.meta\n",
      "Saved :data\\Helipad_Dataset_meta\\Helipad_Dataset_meta_original\\Folder_035\\Helipad_03581.meta\n",
      "Saved :data\\Helipad_Dataset_meta\\Helipad_Dataset_meta_original\\Folder_035\\Helipad_03582.meta\n",
      "Saved :data\\Helipad_Dataset_meta\\Helipad_Dataset_meta_original\\Folder_035\\Helipad_03583.meta\n",
      "Saved :data\\Helipad_Dataset_meta\\Helipad_Dataset_meta_original\\Folder_035\\Helipad_03584.meta\n",
      "Saved :data\\Helipad_Dataset_meta\\Helipad_Dataset_meta_original\\Folder_035\\Helipad_03585.meta\n",
      "Saved :data\\Helipad_Dataset_meta\\Helipad_Dataset_meta_original\\Folder_035\\Helipad_03586.meta\n",
      "Saved :data\\Helipad_Dataset_meta\\Helipad_Dataset_meta_original\\Folder_035\\Helipad_03587.meta\n",
      "Saved :data\\Helipad_Dataset_meta\\Helipad_Dataset_meta_original\\Folder_035\\Helipad_03588.meta\n",
      "Saved :data\\Helipad_Dataset_meta\\Helipad_Dataset_meta_original\\Folder_035\\Helipad_03589.meta\n",
      "Saved :data\\Helipad_Dataset_meta\\Helipad_Dataset_meta_original\\Folder_035\\Helipad_03590.meta\n",
      "Saved :data\\Helipad_Dataset_meta\\Helipad_Dataset_meta_original\\Folder_035\\Helipad_03591.meta\n",
      "Saved :data\\Helipad_Dataset_meta\\Helipad_Dataset_meta_original\\Folder_035\\Helipad_03592.meta\n",
      "Saved :data\\Helipad_Dataset_meta\\Helipad_Dataset_meta_original\\Folder_035\\Helipad_03593.meta\n",
      "Saved :data\\Helipad_Dataset_meta\\Helipad_Dataset_meta_original\\Folder_035\\Helipad_03594.meta\n",
      "Saved :data\\Helipad_Dataset_meta\\Helipad_Dataset_meta_original\\Folder_035\\Helipad_03595.meta\n",
      "Saved :data\\Helipad_Dataset_meta\\Helipad_Dataset_meta_original\\Folder_035\\Helipad_03596.meta\n",
      "Saved :data\\Helipad_Dataset_meta\\Helipad_Dataset_meta_original\\Folder_035\\Helipad_03597.meta\n",
      "Saved :data\\Helipad_Dataset_meta\\Helipad_Dataset_meta_original\\Folder_035\\Helipad_03598.meta\n",
      "Saved :data\\Helipad_Dataset_meta\\Helipad_Dataset_meta_original\\Folder_035\\Helipad_03599.meta\n",
      "Saved :data\\Helipad_Dataset_meta\\Helipad_Dataset_meta_original\\Folder_036\\Helipad_03600.meta\n",
      "Saved :data\\Helipad_Dataset_meta\\Helipad_Dataset_meta_original\\Folder_036\\Helipad_03601.meta\n",
      "Saved :data\\Helipad_Dataset_meta\\Helipad_Dataset_meta_original\\Folder_036\\Helipad_03602.meta\n",
      "Saved :data\\Helipad_Dataset_meta\\Helipad_Dataset_meta_original\\Folder_036\\Helipad_03603.meta\n",
      "Saved :data\\Helipad_Dataset_meta\\Helipad_Dataset_meta_original\\Folder_036\\Helipad_03604.meta\n",
      "Saved :data\\Helipad_Dataset_meta\\Helipad_Dataset_meta_original\\Folder_036\\Helipad_03605.meta\n",
      "Saved :data\\Helipad_Dataset_meta\\Helipad_Dataset_meta_original\\Folder_036\\Helipad_03606.meta\n",
      "Saved :data\\Helipad_Dataset_meta\\Helipad_Dataset_meta_original\\Folder_036\\Helipad_03607.meta\n",
      "Saved :data\\Helipad_Dataset_meta\\Helipad_Dataset_meta_original\\Folder_036\\Helipad_03608.meta\n",
      "Saved :data\\Helipad_Dataset_meta\\Helipad_Dataset_meta_original\\Folder_036\\Helipad_03609.meta\n",
      "Saved :data\\Helipad_Dataset_meta\\Helipad_Dataset_meta_original\\Folder_036\\Helipad_03610.meta\n",
      "Saved :data\\Helipad_Dataset_meta\\Helipad_Dataset_meta_original\\Folder_036\\Helipad_03611.meta\n",
      "Saved :data\\Helipad_Dataset_meta\\Helipad_Dataset_meta_original\\Folder_036\\Helipad_03612.meta\n",
      "Saved :data\\Helipad_Dataset_meta\\Helipad_Dataset_meta_original\\Folder_036\\Helipad_03613.meta\n",
      "Saved :data\\Helipad_Dataset_meta\\Helipad_Dataset_meta_original\\Folder_036\\Helipad_03614.meta\n",
      "Saved :data\\Helipad_Dataset_meta\\Helipad_Dataset_meta_original\\Folder_036\\Helipad_03615.meta\n",
      "Saved :data\\Helipad_Dataset_meta\\Helipad_Dataset_meta_original\\Folder_036\\Helipad_03616.meta\n",
      "Saved :data\\Helipad_Dataset_meta\\Helipad_Dataset_meta_original\\Folder_036\\Helipad_03617.meta\n",
      "Saved :data\\Helipad_Dataset_meta\\Helipad_Dataset_meta_original\\Folder_036\\Helipad_03618.meta\n",
      "Saved :data\\Helipad_Dataset_meta\\Helipad_Dataset_meta_original\\Folder_036\\Helipad_03619.meta\n",
      "Saved :data\\Helipad_Dataset_meta\\Helipad_Dataset_meta_original\\Folder_036\\Helipad_03620.meta\n",
      "Saved :data\\Helipad_Dataset_meta\\Helipad_Dataset_meta_original\\Folder_036\\Helipad_03621.meta\n",
      "Saved :data\\Helipad_Dataset_meta\\Helipad_Dataset_meta_original\\Folder_036\\Helipad_03622.meta\n",
      "Saved :data\\Helipad_Dataset_meta\\Helipad_Dataset_meta_original\\Folder_036\\Helipad_03623.meta\n",
      "Saved :data\\Helipad_Dataset_meta\\Helipad_Dataset_meta_original\\Folder_036\\Helipad_03624.meta\n",
      "Saved :data\\Helipad_Dataset_meta\\Helipad_Dataset_meta_original\\Folder_036\\Helipad_03625.meta\n",
      "Saved :data\\Helipad_Dataset_meta\\Helipad_Dataset_meta_original\\Folder_036\\Helipad_03626.meta\n",
      "Saved :data\\Helipad_Dataset_meta\\Helipad_Dataset_meta_original\\Folder_036\\Helipad_03627.meta\n",
      "Saved :data\\Helipad_Dataset_meta\\Helipad_Dataset_meta_original\\Folder_036\\Helipad_03628.meta\n",
      "Saved :data\\Helipad_Dataset_meta\\Helipad_Dataset_meta_original\\Folder_036\\Helipad_03629.meta\n",
      "Saved :data\\Helipad_Dataset_meta\\Helipad_Dataset_meta_original\\Folder_036\\Helipad_03630.meta\n",
      "Saved :data\\Helipad_Dataset_meta\\Helipad_Dataset_meta_original\\Folder_036\\Helipad_03631.meta\n",
      "Saved :data\\Helipad_Dataset_meta\\Helipad_Dataset_meta_original\\Folder_036\\Helipad_03632.meta\n",
      "Saved :data\\Helipad_Dataset_meta\\Helipad_Dataset_meta_original\\Folder_036\\Helipad_03633.meta\n",
      "Saved :data\\Helipad_Dataset_meta\\Helipad_Dataset_meta_original\\Folder_036\\Helipad_03634.meta\n",
      "Saved :data\\Helipad_Dataset_meta\\Helipad_Dataset_meta_original\\Folder_036\\Helipad_03635.meta\n",
      "Saved :data\\Helipad_Dataset_meta\\Helipad_Dataset_meta_original\\Folder_036\\Helipad_03636.meta\n",
      "Saved :data\\Helipad_Dataset_meta\\Helipad_Dataset_meta_original\\Folder_036\\Helipad_03637.meta\n",
      "Saved :data\\Helipad_Dataset_meta\\Helipad_Dataset_meta_original\\Folder_036\\Helipad_03638.meta\n",
      "Saved :data\\Helipad_Dataset_meta\\Helipad_Dataset_meta_original\\Folder_036\\Helipad_03639.meta\n",
      "Saved :data\\Helipad_Dataset_meta\\Helipad_Dataset_meta_original\\Folder_036\\Helipad_03640.meta\n",
      "Saved :data\\Helipad_Dataset_meta\\Helipad_Dataset_meta_original\\Folder_036\\Helipad_03641.meta\n",
      "Saved :data\\Helipad_Dataset_meta\\Helipad_Dataset_meta_original\\Folder_036\\Helipad_03642.meta\n",
      "Saved :data\\Helipad_Dataset_meta\\Helipad_Dataset_meta_original\\Folder_036\\Helipad_03643.meta\n",
      "Saved :data\\Helipad_Dataset_meta\\Helipad_Dataset_meta_original\\Folder_036\\Helipad_03644.meta\n",
      "Saved :data\\Helipad_Dataset_meta\\Helipad_Dataset_meta_original\\Folder_036\\Helipad_03645.meta\n",
      "Saved :data\\Helipad_Dataset_meta\\Helipad_Dataset_meta_original\\Folder_036\\Helipad_03646.meta\n",
      "Saved :data\\Helipad_Dataset_meta\\Helipad_Dataset_meta_original\\Folder_036\\Helipad_03647.meta\n",
      "Saved :data\\Helipad_Dataset_meta\\Helipad_Dataset_meta_original\\Folder_036\\Helipad_03648.meta\n",
      "Saved :data\\Helipad_Dataset_meta\\Helipad_Dataset_meta_original\\Folder_036\\Helipad_03649.meta\n",
      "Saved :data\\Helipad_Dataset_meta\\Helipad_Dataset_meta_original\\Folder_036\\Helipad_03650.meta\n",
      "Saved :data\\Helipad_Dataset_meta\\Helipad_Dataset_meta_original\\Folder_036\\Helipad_03651.meta\n",
      "Saved :data\\Helipad_Dataset_meta\\Helipad_Dataset_meta_original\\Folder_036\\Helipad_03652.meta\n",
      "Saved :data\\Helipad_Dataset_meta\\Helipad_Dataset_meta_original\\Folder_036\\Helipad_03653.meta\n",
      "Saved :data\\Helipad_Dataset_meta\\Helipad_Dataset_meta_original\\Folder_036\\Helipad_03654.meta\n",
      "Saved :data\\Helipad_Dataset_meta\\Helipad_Dataset_meta_original\\Folder_036\\Helipad_03655.meta\n",
      "Saved :data\\Helipad_Dataset_meta\\Helipad_Dataset_meta_original\\Folder_036\\Helipad_03656.meta\n",
      "Saved :data\\Helipad_Dataset_meta\\Helipad_Dataset_meta_original\\Folder_036\\Helipad_03657.meta\n",
      "Saved :data\\Helipad_Dataset_meta\\Helipad_Dataset_meta_original\\Folder_036\\Helipad_03658.meta\n",
      "Saved :data\\Helipad_Dataset_meta\\Helipad_Dataset_meta_original\\Folder_036\\Helipad_03659.meta\n",
      "Saved :data\\Helipad_Dataset_meta\\Helipad_Dataset_meta_original\\Folder_036\\Helipad_03660.meta\n",
      "Saved :data\\Helipad_Dataset_meta\\Helipad_Dataset_meta_original\\Folder_036\\Helipad_03661.meta\n",
      "Saved :data\\Helipad_Dataset_meta\\Helipad_Dataset_meta_original\\Folder_036\\Helipad_03662.meta\n",
      "Saved :data\\Helipad_Dataset_meta\\Helipad_Dataset_meta_original\\Folder_036\\Helipad_03663.meta\n",
      "Saved :data\\Helipad_Dataset_meta\\Helipad_Dataset_meta_original\\Folder_036\\Helipad_03664.meta\n",
      "Saved :data\\Helipad_Dataset_meta\\Helipad_Dataset_meta_original\\Folder_036\\Helipad_03665.meta\n",
      "Saved :data\\Helipad_Dataset_meta\\Helipad_Dataset_meta_original\\Folder_036\\Helipad_03666.meta\n",
      "Saved :data\\Helipad_Dataset_meta\\Helipad_Dataset_meta_original\\Folder_036\\Helipad_03667.meta\n",
      "Saved :data\\Helipad_Dataset_meta\\Helipad_Dataset_meta_original\\Folder_036\\Helipad_03668.meta\n",
      "Saved :data\\Helipad_Dataset_meta\\Helipad_Dataset_meta_original\\Folder_036\\Helipad_03669.meta\n",
      "Saved :data\\Helipad_Dataset_meta\\Helipad_Dataset_meta_original\\Folder_036\\Helipad_03670.meta\n",
      "Saved :data\\Helipad_Dataset_meta\\Helipad_Dataset_meta_original\\Folder_036\\Helipad_03671.meta\n",
      "Saved :data\\Helipad_Dataset_meta\\Helipad_Dataset_meta_original\\Folder_036\\Helipad_03672.meta\n",
      "Saved :data\\Helipad_Dataset_meta\\Helipad_Dataset_meta_original\\Folder_036\\Helipad_03673.meta\n",
      "Saved :data\\Helipad_Dataset_meta\\Helipad_Dataset_meta_original\\Folder_036\\Helipad_03674.meta\n",
      "Saved :data\\Helipad_Dataset_meta\\Helipad_Dataset_meta_original\\Folder_036\\Helipad_03675.meta\n",
      "Saved :data\\Helipad_Dataset_meta\\Helipad_Dataset_meta_original\\Folder_036\\Helipad_03676.meta\n",
      "Saved :data\\Helipad_Dataset_meta\\Helipad_Dataset_meta_original\\Folder_036\\Helipad_03677.meta\n",
      "Saved :data\\Helipad_Dataset_meta\\Helipad_Dataset_meta_original\\Folder_036\\Helipad_03678.meta\n",
      "Saved :data\\Helipad_Dataset_meta\\Helipad_Dataset_meta_original\\Folder_036\\Helipad_03679.meta\n",
      "Saved :data\\Helipad_Dataset_meta\\Helipad_Dataset_meta_original\\Folder_036\\Helipad_03680.meta\n"
     ]
    },
    {
     "name": "stdout",
     "output_type": "stream",
     "text": [
      "Saved :data\\Helipad_Dataset_meta\\Helipad_Dataset_meta_original\\Folder_036\\Helipad_03681.meta\n",
      "Saved :data\\Helipad_Dataset_meta\\Helipad_Dataset_meta_original\\Folder_036\\Helipad_03682.meta\n",
      "Saved :data\\Helipad_Dataset_meta\\Helipad_Dataset_meta_original\\Folder_036\\Helipad_03683.meta\n",
      "Saved :data\\Helipad_Dataset_meta\\Helipad_Dataset_meta_original\\Folder_036\\Helipad_03684.meta\n",
      "Saved :data\\Helipad_Dataset_meta\\Helipad_Dataset_meta_original\\Folder_036\\Helipad_03685.meta\n",
      "Saved :data\\Helipad_Dataset_meta\\Helipad_Dataset_meta_original\\Folder_036\\Helipad_03686.meta\n",
      "Saved :data\\Helipad_Dataset_meta\\Helipad_Dataset_meta_original\\Folder_036\\Helipad_03687.meta\n",
      "Saved :data\\Helipad_Dataset_meta\\Helipad_Dataset_meta_original\\Folder_036\\Helipad_03688.meta\n",
      "Saved :data\\Helipad_Dataset_meta\\Helipad_Dataset_meta_original\\Folder_036\\Helipad_03689.meta\n",
      "Saved :data\\Helipad_Dataset_meta\\Helipad_Dataset_meta_original\\Folder_036\\Helipad_03690.meta\n",
      "Saved :data\\Helipad_Dataset_meta\\Helipad_Dataset_meta_original\\Folder_036\\Helipad_03691.meta\n",
      "Saved :data\\Helipad_Dataset_meta\\Helipad_Dataset_meta_original\\Folder_036\\Helipad_03692.meta\n",
      "Saved :data\\Helipad_Dataset_meta\\Helipad_Dataset_meta_original\\Folder_036\\Helipad_03693.meta\n",
      "Saved :data\\Helipad_Dataset_meta\\Helipad_Dataset_meta_original\\Folder_036\\Helipad_03694.meta\n",
      "Saved :data\\Helipad_Dataset_meta\\Helipad_Dataset_meta_original\\Folder_036\\Helipad_03695.meta\n",
      "Saved :data\\Helipad_Dataset_meta\\Helipad_Dataset_meta_original\\Folder_036\\Helipad_03696.meta\n",
      "Saved :data\\Helipad_Dataset_meta\\Helipad_Dataset_meta_original\\Folder_036\\Helipad_03697.meta\n",
      "Saved :data\\Helipad_Dataset_meta\\Helipad_Dataset_meta_original\\Folder_036\\Helipad_03698.meta\n",
      "Saved :data\\Helipad_Dataset_meta\\Helipad_Dataset_meta_original\\Folder_036\\Helipad_03699.meta\n",
      "Saved :data\\Helipad_Dataset_meta\\Helipad_Dataset_meta_original\\Folder_037\\Helipad_03700.meta\n",
      "Saved :data\\Helipad_Dataset_meta\\Helipad_Dataset_meta_original\\Folder_037\\Helipad_03701.meta\n",
      "Saved :data\\Helipad_Dataset_meta\\Helipad_Dataset_meta_original\\Folder_037\\Helipad_03702.meta\n",
      "Saved :data\\Helipad_Dataset_meta\\Helipad_Dataset_meta_original\\Folder_037\\Helipad_03703.meta\n",
      "Saved :data\\Helipad_Dataset_meta\\Helipad_Dataset_meta_original\\Folder_037\\Helipad_03704.meta\n",
      "Saved :data\\Helipad_Dataset_meta\\Helipad_Dataset_meta_original\\Folder_037\\Helipad_03705.meta\n",
      "Saved :data\\Helipad_Dataset_meta\\Helipad_Dataset_meta_original\\Folder_037\\Helipad_03706.meta\n",
      "Saved :data\\Helipad_Dataset_meta\\Helipad_Dataset_meta_original\\Folder_037\\Helipad_03707.meta\n",
      "Saved :data\\Helipad_Dataset_meta\\Helipad_Dataset_meta_original\\Folder_037\\Helipad_03708.meta\n",
      "Saved :data\\Helipad_Dataset_meta\\Helipad_Dataset_meta_original\\Folder_037\\Helipad_03709.meta\n",
      "Saved :data\\Helipad_Dataset_meta\\Helipad_Dataset_meta_original\\Folder_037\\Helipad_03710.meta\n",
      "Saved :data\\Helipad_Dataset_meta\\Helipad_Dataset_meta_original\\Folder_037\\Helipad_03711.meta\n",
      "Saved :data\\Helipad_Dataset_meta\\Helipad_Dataset_meta_original\\Folder_037\\Helipad_03712.meta\n",
      "Saved :data\\Helipad_Dataset_meta\\Helipad_Dataset_meta_original\\Folder_037\\Helipad_03713.meta\n",
      "Saved :data\\Helipad_Dataset_meta\\Helipad_Dataset_meta_original\\Folder_037\\Helipad_03714.meta\n",
      "Saved :data\\Helipad_Dataset_meta\\Helipad_Dataset_meta_original\\Folder_037\\Helipad_03715.meta\n",
      "Saved :data\\Helipad_Dataset_meta\\Helipad_Dataset_meta_original\\Folder_037\\Helipad_03716.meta\n",
      "Saved :data\\Helipad_Dataset_meta\\Helipad_Dataset_meta_original\\Folder_037\\Helipad_03717.meta\n",
      "Saved :data\\Helipad_Dataset_meta\\Helipad_Dataset_meta_original\\Folder_037\\Helipad_03718.meta\n",
      "Saved :data\\Helipad_Dataset_meta\\Helipad_Dataset_meta_original\\Folder_037\\Helipad_03719.meta\n",
      "Saved :data\\Helipad_Dataset_meta\\Helipad_Dataset_meta_original\\Folder_037\\Helipad_03720.meta\n",
      "Saved :data\\Helipad_Dataset_meta\\Helipad_Dataset_meta_original\\Folder_037\\Helipad_03721.meta\n",
      "Saved :data\\Helipad_Dataset_meta\\Helipad_Dataset_meta_original\\Folder_037\\Helipad_03722.meta\n",
      "Saved :data\\Helipad_Dataset_meta\\Helipad_Dataset_meta_original\\Folder_037\\Helipad_03723.meta\n",
      "Saved :data\\Helipad_Dataset_meta\\Helipad_Dataset_meta_original\\Folder_037\\Helipad_03724.meta\n",
      "Saved :data\\Helipad_Dataset_meta\\Helipad_Dataset_meta_original\\Folder_037\\Helipad_03725.meta\n",
      "Saved :data\\Helipad_Dataset_meta\\Helipad_Dataset_meta_original\\Folder_037\\Helipad_03726.meta\n",
      "Saved :data\\Helipad_Dataset_meta\\Helipad_Dataset_meta_original\\Folder_037\\Helipad_03727.meta\n",
      "Saved :data\\Helipad_Dataset_meta\\Helipad_Dataset_meta_original\\Folder_037\\Helipad_03728.meta\n",
      "Saved :data\\Helipad_Dataset_meta\\Helipad_Dataset_meta_original\\Folder_037\\Helipad_03729.meta\n",
      "Saved :data\\Helipad_Dataset_meta\\Helipad_Dataset_meta_original\\Folder_037\\Helipad_03730.meta\n",
      "Saved :data\\Helipad_Dataset_meta\\Helipad_Dataset_meta_original\\Folder_037\\Helipad_03731.meta\n",
      "Saved :data\\Helipad_Dataset_meta\\Helipad_Dataset_meta_original\\Folder_037\\Helipad_03732.meta\n",
      "Saved :data\\Helipad_Dataset_meta\\Helipad_Dataset_meta_original\\Folder_037\\Helipad_03733.meta\n",
      "Saved :data\\Helipad_Dataset_meta\\Helipad_Dataset_meta_original\\Folder_037\\Helipad_03734.meta\n",
      "Saved :data\\Helipad_Dataset_meta\\Helipad_Dataset_meta_original\\Folder_037\\Helipad_03735.meta\n",
      "Saved :data\\Helipad_Dataset_meta\\Helipad_Dataset_meta_original\\Folder_037\\Helipad_03736.meta\n",
      "Saved :data\\Helipad_Dataset_meta\\Helipad_Dataset_meta_original\\Folder_037\\Helipad_03737.meta\n",
      "Saved :data\\Helipad_Dataset_meta\\Helipad_Dataset_meta_original\\Folder_037\\Helipad_03738.meta\n",
      "Saved :data\\Helipad_Dataset_meta\\Helipad_Dataset_meta_original\\Folder_037\\Helipad_03739.meta\n",
      "Saved :data\\Helipad_Dataset_meta\\Helipad_Dataset_meta_original\\Folder_037\\Helipad_03740.meta\n",
      "Saved :data\\Helipad_Dataset_meta\\Helipad_Dataset_meta_original\\Folder_037\\Helipad_03741.meta\n",
      "Saved :data\\Helipad_Dataset_meta\\Helipad_Dataset_meta_original\\Folder_037\\Helipad_03742.meta\n",
      "Saved :data\\Helipad_Dataset_meta\\Helipad_Dataset_meta_original\\Folder_037\\Helipad_03743.meta\n",
      "Saved :data\\Helipad_Dataset_meta\\Helipad_Dataset_meta_original\\Folder_037\\Helipad_03744.meta\n",
      "Saved :data\\Helipad_Dataset_meta\\Helipad_Dataset_meta_original\\Folder_037\\Helipad_03745.meta\n",
      "Saved :data\\Helipad_Dataset_meta\\Helipad_Dataset_meta_original\\Folder_037\\Helipad_03746.meta\n",
      "Saved :data\\Helipad_Dataset_meta\\Helipad_Dataset_meta_original\\Folder_037\\Helipad_03747.meta\n",
      "Saved :data\\Helipad_Dataset_meta\\Helipad_Dataset_meta_original\\Folder_037\\Helipad_03748.meta\n",
      "Saved :data\\Helipad_Dataset_meta\\Helipad_Dataset_meta_original\\Folder_037\\Helipad_03749.meta\n",
      "Saved :data\\Helipad_Dataset_meta\\Helipad_Dataset_meta_original\\Folder_037\\Helipad_03750.meta\n",
      "Saved :data\\Helipad_Dataset_meta\\Helipad_Dataset_meta_original\\Folder_037\\Helipad_03751.meta\n",
      "Saved :data\\Helipad_Dataset_meta\\Helipad_Dataset_meta_original\\Folder_037\\Helipad_03752.meta\n",
      "Saved :data\\Helipad_Dataset_meta\\Helipad_Dataset_meta_original\\Folder_037\\Helipad_03753.meta\n",
      "Saved :data\\Helipad_Dataset_meta\\Helipad_Dataset_meta_original\\Folder_037\\Helipad_03754.meta\n",
      "Saved :data\\Helipad_Dataset_meta\\Helipad_Dataset_meta_original\\Folder_037\\Helipad_03755.meta\n",
      "Saved :data\\Helipad_Dataset_meta\\Helipad_Dataset_meta_original\\Folder_037\\Helipad_03756.meta\n",
      "Saved :data\\Helipad_Dataset_meta\\Helipad_Dataset_meta_original\\Folder_037\\Helipad_03757.meta\n",
      "Saved :data\\Helipad_Dataset_meta\\Helipad_Dataset_meta_original\\Folder_037\\Helipad_03758.meta\n",
      "Saved :data\\Helipad_Dataset_meta\\Helipad_Dataset_meta_original\\Folder_037\\Helipad_03759.meta\n",
      "Saved :data\\Helipad_Dataset_meta\\Helipad_Dataset_meta_original\\Folder_037\\Helipad_03760.meta\n",
      "Saved :data\\Helipad_Dataset_meta\\Helipad_Dataset_meta_original\\Folder_037\\Helipad_03761.meta\n",
      "Saved :data\\Helipad_Dataset_meta\\Helipad_Dataset_meta_original\\Folder_037\\Helipad_03762.meta\n",
      "Saved :data\\Helipad_Dataset_meta\\Helipad_Dataset_meta_original\\Folder_037\\Helipad_03763.meta\n",
      "Saved :data\\Helipad_Dataset_meta\\Helipad_Dataset_meta_original\\Folder_037\\Helipad_03764.meta\n",
      "Saved :data\\Helipad_Dataset_meta\\Helipad_Dataset_meta_original\\Folder_037\\Helipad_03765.meta\n",
      "Saved :data\\Helipad_Dataset_meta\\Helipad_Dataset_meta_original\\Folder_037\\Helipad_03766.meta\n",
      "Saved :data\\Helipad_Dataset_meta\\Helipad_Dataset_meta_original\\Folder_037\\Helipad_03767.meta\n",
      "Saved :data\\Helipad_Dataset_meta\\Helipad_Dataset_meta_original\\Folder_037\\Helipad_03768.meta\n",
      "Saved :data\\Helipad_Dataset_meta\\Helipad_Dataset_meta_original\\Folder_037\\Helipad_03769.meta\n",
      "Saved :data\\Helipad_Dataset_meta\\Helipad_Dataset_meta_original\\Folder_037\\Helipad_03770.meta\n",
      "Saved :data\\Helipad_Dataset_meta\\Helipad_Dataset_meta_original\\Folder_037\\Helipad_03771.meta\n",
      "Saved :data\\Helipad_Dataset_meta\\Helipad_Dataset_meta_original\\Folder_037\\Helipad_03772.meta\n",
      "Saved :data\\Helipad_Dataset_meta\\Helipad_Dataset_meta_original\\Folder_037\\Helipad_03773.meta\n",
      "Saved :data\\Helipad_Dataset_meta\\Helipad_Dataset_meta_original\\Folder_037\\Helipad_03774.meta\n",
      "Saved :data\\Helipad_Dataset_meta\\Helipad_Dataset_meta_original\\Folder_037\\Helipad_03775.meta\n",
      "Saved :data\\Helipad_Dataset_meta\\Helipad_Dataset_meta_original\\Folder_037\\Helipad_03776.meta\n",
      "Saved :data\\Helipad_Dataset_meta\\Helipad_Dataset_meta_original\\Folder_037\\Helipad_03777.meta\n",
      "Saved :data\\Helipad_Dataset_meta\\Helipad_Dataset_meta_original\\Folder_037\\Helipad_03778.meta\n",
      "Saved :data\\Helipad_Dataset_meta\\Helipad_Dataset_meta_original\\Folder_037\\Helipad_03779.meta\n",
      "Saved :data\\Helipad_Dataset_meta\\Helipad_Dataset_meta_original\\Folder_037\\Helipad_03780.meta\n",
      "Saved :data\\Helipad_Dataset_meta\\Helipad_Dataset_meta_original\\Folder_037\\Helipad_03781.meta\n",
      "Saved :data\\Helipad_Dataset_meta\\Helipad_Dataset_meta_original\\Folder_037\\Helipad_03782.meta\n",
      "Saved :data\\Helipad_Dataset_meta\\Helipad_Dataset_meta_original\\Folder_037\\Helipad_03783.meta\n",
      "Saved :data\\Helipad_Dataset_meta\\Helipad_Dataset_meta_original\\Folder_037\\Helipad_03784.meta\n",
      "Saved :data\\Helipad_Dataset_meta\\Helipad_Dataset_meta_original\\Folder_037\\Helipad_03785.meta\n",
      "Saved :data\\Helipad_Dataset_meta\\Helipad_Dataset_meta_original\\Folder_037\\Helipad_03786.meta\n",
      "Saved :data\\Helipad_Dataset_meta\\Helipad_Dataset_meta_original\\Folder_037\\Helipad_03787.meta\n",
      "Saved :data\\Helipad_Dataset_meta\\Helipad_Dataset_meta_original\\Folder_037\\Helipad_03788.meta\n",
      "Saved :data\\Helipad_Dataset_meta\\Helipad_Dataset_meta_original\\Folder_037\\Helipad_03789.meta\n",
      "Saved :data\\Helipad_Dataset_meta\\Helipad_Dataset_meta_original\\Folder_037\\Helipad_03790.meta\n",
      "Saved :data\\Helipad_Dataset_meta\\Helipad_Dataset_meta_original\\Folder_037\\Helipad_03791.meta\n",
      "Saved :data\\Helipad_Dataset_meta\\Helipad_Dataset_meta_original\\Folder_037\\Helipad_03792.meta\n",
      "Saved :data\\Helipad_Dataset_meta\\Helipad_Dataset_meta_original\\Folder_037\\Helipad_03793.meta\n",
      "Saved :data\\Helipad_Dataset_meta\\Helipad_Dataset_meta_original\\Folder_037\\Helipad_03794.meta\n",
      "Saved :data\\Helipad_Dataset_meta\\Helipad_Dataset_meta_original\\Folder_037\\Helipad_03795.meta\n",
      "Saved :data\\Helipad_Dataset_meta\\Helipad_Dataset_meta_original\\Folder_037\\Helipad_03796.meta\n",
      "Saved :data\\Helipad_Dataset_meta\\Helipad_Dataset_meta_original\\Folder_037\\Helipad_03797.meta\n",
      "Saved :data\\Helipad_Dataset_meta\\Helipad_Dataset_meta_original\\Folder_037\\Helipad_03798.meta\n",
      "Saved :data\\Helipad_Dataset_meta\\Helipad_Dataset_meta_original\\Folder_037\\Helipad_03799.meta\n",
      "Saved :data\\Helipad_Dataset_meta\\Helipad_Dataset_meta_original\\Folder_038\\Helipad_03800.meta\n",
      "Saved :data\\Helipad_Dataset_meta\\Helipad_Dataset_meta_original\\Folder_038\\Helipad_03801.meta\n",
      "Saved :data\\Helipad_Dataset_meta\\Helipad_Dataset_meta_original\\Folder_038\\Helipad_03802.meta\n",
      "Saved :data\\Helipad_Dataset_meta\\Helipad_Dataset_meta_original\\Folder_038\\Helipad_03803.meta\n",
      "Saved :data\\Helipad_Dataset_meta\\Helipad_Dataset_meta_original\\Folder_038\\Helipad_03804.meta\n",
      "Saved :data\\Helipad_Dataset_meta\\Helipad_Dataset_meta_original\\Folder_038\\Helipad_03805.meta\n",
      "Saved :data\\Helipad_Dataset_meta\\Helipad_Dataset_meta_original\\Folder_038\\Helipad_03806.meta\n",
      "Saved :data\\Helipad_Dataset_meta\\Helipad_Dataset_meta_original\\Folder_038\\Helipad_03807.meta\n",
      "Saved :data\\Helipad_Dataset_meta\\Helipad_Dataset_meta_original\\Folder_038\\Helipad_03808.meta\n",
      "Saved :data\\Helipad_Dataset_meta\\Helipad_Dataset_meta_original\\Folder_038\\Helipad_03809.meta\n",
      "Saved :data\\Helipad_Dataset_meta\\Helipad_Dataset_meta_original\\Folder_038\\Helipad_03810.meta\n",
      "Saved :data\\Helipad_Dataset_meta\\Helipad_Dataset_meta_original\\Folder_038\\Helipad_03811.meta\n",
      "Saved :data\\Helipad_Dataset_meta\\Helipad_Dataset_meta_original\\Folder_038\\Helipad_03812.meta\n",
      "Saved :data\\Helipad_Dataset_meta\\Helipad_Dataset_meta_original\\Folder_038\\Helipad_03813.meta\n",
      "Saved :data\\Helipad_Dataset_meta\\Helipad_Dataset_meta_original\\Folder_038\\Helipad_03814.meta\n",
      "Saved :data\\Helipad_Dataset_meta\\Helipad_Dataset_meta_original\\Folder_038\\Helipad_03815.meta\n",
      "Saved :data\\Helipad_Dataset_meta\\Helipad_Dataset_meta_original\\Folder_038\\Helipad_03816.meta\n",
      "Saved :data\\Helipad_Dataset_meta\\Helipad_Dataset_meta_original\\Folder_038\\Helipad_03817.meta\n",
      "Saved :data\\Helipad_Dataset_meta\\Helipad_Dataset_meta_original\\Folder_038\\Helipad_03818.meta\n",
      "Saved :data\\Helipad_Dataset_meta\\Helipad_Dataset_meta_original\\Folder_038\\Helipad_03819.meta\n",
      "Saved :data\\Helipad_Dataset_meta\\Helipad_Dataset_meta_original\\Folder_038\\Helipad_03820.meta\n",
      "Saved :data\\Helipad_Dataset_meta\\Helipad_Dataset_meta_original\\Folder_038\\Helipad_03821.meta\n",
      "Saved :data\\Helipad_Dataset_meta\\Helipad_Dataset_meta_original\\Folder_038\\Helipad_03822.meta\n",
      "Saved :data\\Helipad_Dataset_meta\\Helipad_Dataset_meta_original\\Folder_038\\Helipad_03823.meta\n",
      "Saved :data\\Helipad_Dataset_meta\\Helipad_Dataset_meta_original\\Folder_038\\Helipad_03824.meta\n",
      "Saved :data\\Helipad_Dataset_meta\\Helipad_Dataset_meta_original\\Folder_038\\Helipad_03825.meta\n",
      "Saved :data\\Helipad_Dataset_meta\\Helipad_Dataset_meta_original\\Folder_038\\Helipad_03826.meta\n",
      "Saved :data\\Helipad_Dataset_meta\\Helipad_Dataset_meta_original\\Folder_038\\Helipad_03827.meta\n",
      "Saved :data\\Helipad_Dataset_meta\\Helipad_Dataset_meta_original\\Folder_038\\Helipad_03828.meta\n",
      "Saved :data\\Helipad_Dataset_meta\\Helipad_Dataset_meta_original\\Folder_038\\Helipad_03829.meta\n",
      "Saved :data\\Helipad_Dataset_meta\\Helipad_Dataset_meta_original\\Folder_038\\Helipad_03830.meta\n",
      "Saved :data\\Helipad_Dataset_meta\\Helipad_Dataset_meta_original\\Folder_038\\Helipad_03831.meta\n",
      "Saved :data\\Helipad_Dataset_meta\\Helipad_Dataset_meta_original\\Folder_038\\Helipad_03832.meta\n",
      "Saved :data\\Helipad_Dataset_meta\\Helipad_Dataset_meta_original\\Folder_038\\Helipad_03833.meta\n",
      "Saved :data\\Helipad_Dataset_meta\\Helipad_Dataset_meta_original\\Folder_038\\Helipad_03834.meta\n",
      "Saved :data\\Helipad_Dataset_meta\\Helipad_Dataset_meta_original\\Folder_038\\Helipad_03835.meta\n",
      "Saved :data\\Helipad_Dataset_meta\\Helipad_Dataset_meta_original\\Folder_038\\Helipad_03836.meta\n",
      "Saved :data\\Helipad_Dataset_meta\\Helipad_Dataset_meta_original\\Folder_038\\Helipad_03837.meta\n",
      "Saved :data\\Helipad_Dataset_meta\\Helipad_Dataset_meta_original\\Folder_038\\Helipad_03838.meta\n"
     ]
    },
    {
     "name": "stdout",
     "output_type": "stream",
     "text": [
      "Saved :data\\Helipad_Dataset_meta\\Helipad_Dataset_meta_original\\Folder_038\\Helipad_03839.meta\n",
      "Saved :data\\Helipad_Dataset_meta\\Helipad_Dataset_meta_original\\Folder_038\\Helipad_03840.meta\n",
      "Saved :data\\Helipad_Dataset_meta\\Helipad_Dataset_meta_original\\Folder_038\\Helipad_03841.meta\n",
      "Saved :data\\Helipad_Dataset_meta\\Helipad_Dataset_meta_original\\Folder_038\\Helipad_03842.meta\n",
      "Saved :data\\Helipad_Dataset_meta\\Helipad_Dataset_meta_original\\Folder_038\\Helipad_03843.meta\n",
      "Saved :data\\Helipad_Dataset_meta\\Helipad_Dataset_meta_original\\Folder_038\\Helipad_03844.meta\n",
      "Saved :data\\Helipad_Dataset_meta\\Helipad_Dataset_meta_original\\Folder_038\\Helipad_03845.meta\n",
      "Saved :data\\Helipad_Dataset_meta\\Helipad_Dataset_meta_original\\Folder_038\\Helipad_03846.meta\n",
      "Saved :data\\Helipad_Dataset_meta\\Helipad_Dataset_meta_original\\Folder_038\\Helipad_03847.meta\n",
      "Saved :data\\Helipad_Dataset_meta\\Helipad_Dataset_meta_original\\Folder_038\\Helipad_03848.meta\n",
      "Saved :data\\Helipad_Dataset_meta\\Helipad_Dataset_meta_original\\Folder_038\\Helipad_03849.meta\n",
      "Saved :data\\Helipad_Dataset_meta\\Helipad_Dataset_meta_original\\Folder_038\\Helipad_03850.meta\n",
      "Saved :data\\Helipad_Dataset_meta\\Helipad_Dataset_meta_original\\Folder_038\\Helipad_03851.meta\n",
      "Saved :data\\Helipad_Dataset_meta\\Helipad_Dataset_meta_original\\Folder_038\\Helipad_03852.meta\n",
      "Saved :data\\Helipad_Dataset_meta\\Helipad_Dataset_meta_original\\Folder_038\\Helipad_03853.meta\n",
      "Saved :data\\Helipad_Dataset_meta\\Helipad_Dataset_meta_original\\Folder_038\\Helipad_03854.meta\n",
      "Saved :data\\Helipad_Dataset_meta\\Helipad_Dataset_meta_original\\Folder_038\\Helipad_03855.meta\n",
      "Saved :data\\Helipad_Dataset_meta\\Helipad_Dataset_meta_original\\Folder_038\\Helipad_03856.meta\n",
      "Saved :data\\Helipad_Dataset_meta\\Helipad_Dataset_meta_original\\Folder_038\\Helipad_03857.meta\n",
      "Saved :data\\Helipad_Dataset_meta\\Helipad_Dataset_meta_original\\Folder_038\\Helipad_03858.meta\n",
      "Saved :data\\Helipad_Dataset_meta\\Helipad_Dataset_meta_original\\Folder_038\\Helipad_03859.meta\n",
      "Saved :data\\Helipad_Dataset_meta\\Helipad_Dataset_meta_original\\Folder_038\\Helipad_03860.meta\n",
      "Saved :data\\Helipad_Dataset_meta\\Helipad_Dataset_meta_original\\Folder_038\\Helipad_03861.meta\n",
      "Saved :data\\Helipad_Dataset_meta\\Helipad_Dataset_meta_original\\Folder_038\\Helipad_03862.meta\n",
      "Saved :data\\Helipad_Dataset_meta\\Helipad_Dataset_meta_original\\Folder_038\\Helipad_03863.meta\n",
      "Saved :data\\Helipad_Dataset_meta\\Helipad_Dataset_meta_original\\Folder_038\\Helipad_03864.meta\n",
      "Saved :data\\Helipad_Dataset_meta\\Helipad_Dataset_meta_original\\Folder_038\\Helipad_03865.meta\n",
      "Saved :data\\Helipad_Dataset_meta\\Helipad_Dataset_meta_original\\Folder_038\\Helipad_03866.meta\n",
      "Saved :data\\Helipad_Dataset_meta\\Helipad_Dataset_meta_original\\Folder_038\\Helipad_03867.meta\n",
      "Saved :data\\Helipad_Dataset_meta\\Helipad_Dataset_meta_original\\Folder_038\\Helipad_03868.meta\n",
      "Saved :data\\Helipad_Dataset_meta\\Helipad_Dataset_meta_original\\Folder_038\\Helipad_03869.meta\n",
      "Saved :data\\Helipad_Dataset_meta\\Helipad_Dataset_meta_original\\Folder_038\\Helipad_03870.meta\n",
      "Saved :data\\Helipad_Dataset_meta\\Helipad_Dataset_meta_original\\Folder_038\\Helipad_03871.meta\n",
      "Saved :data\\Helipad_Dataset_meta\\Helipad_Dataset_meta_original\\Folder_038\\Helipad_03872.meta\n",
      "Saved :data\\Helipad_Dataset_meta\\Helipad_Dataset_meta_original\\Folder_038\\Helipad_03873.meta\n",
      "Saved :data\\Helipad_Dataset_meta\\Helipad_Dataset_meta_original\\Folder_038\\Helipad_03874.meta\n",
      "Saved :data\\Helipad_Dataset_meta\\Helipad_Dataset_meta_original\\Folder_038\\Helipad_03875.meta\n",
      "Saved :data\\Helipad_Dataset_meta\\Helipad_Dataset_meta_original\\Folder_038\\Helipad_03876.meta\n",
      "Saved :data\\Helipad_Dataset_meta\\Helipad_Dataset_meta_original\\Folder_038\\Helipad_03877.meta\n",
      "Saved :data\\Helipad_Dataset_meta\\Helipad_Dataset_meta_original\\Folder_038\\Helipad_03878.meta\n",
      "Saved :data\\Helipad_Dataset_meta\\Helipad_Dataset_meta_original\\Folder_038\\Helipad_03879.meta\n",
      "Saved :data\\Helipad_Dataset_meta\\Helipad_Dataset_meta_original\\Folder_038\\Helipad_03880.meta\n",
      "Saved :data\\Helipad_Dataset_meta\\Helipad_Dataset_meta_original\\Folder_038\\Helipad_03881.meta\n",
      "Saved :data\\Helipad_Dataset_meta\\Helipad_Dataset_meta_original\\Folder_038\\Helipad_03882.meta\n",
      "Saved :data\\Helipad_Dataset_meta\\Helipad_Dataset_meta_original\\Folder_038\\Helipad_03883.meta\n",
      "Saved :data\\Helipad_Dataset_meta\\Helipad_Dataset_meta_original\\Folder_038\\Helipad_03884.meta\n",
      "Saved :data\\Helipad_Dataset_meta\\Helipad_Dataset_meta_original\\Folder_038\\Helipad_03885.meta\n",
      "Saved :data\\Helipad_Dataset_meta\\Helipad_Dataset_meta_original\\Folder_038\\Helipad_03886.meta\n",
      "Saved :data\\Helipad_Dataset_meta\\Helipad_Dataset_meta_original\\Folder_038\\Helipad_03887.meta\n",
      "Saved :data\\Helipad_Dataset_meta\\Helipad_Dataset_meta_original\\Folder_038\\Helipad_03888.meta\n",
      "Saved :data\\Helipad_Dataset_meta\\Helipad_Dataset_meta_original\\Folder_038\\Helipad_03889.meta\n",
      "Saved :data\\Helipad_Dataset_meta\\Helipad_Dataset_meta_original\\Folder_038\\Helipad_03890.meta\n",
      "Saved :data\\Helipad_Dataset_meta\\Helipad_Dataset_meta_original\\Folder_038\\Helipad_03891.meta\n",
      "Saved :data\\Helipad_Dataset_meta\\Helipad_Dataset_meta_original\\Folder_038\\Helipad_03892.meta\n",
      "Saved :data\\Helipad_Dataset_meta\\Helipad_Dataset_meta_original\\Folder_038\\Helipad_03893.meta\n",
      "Saved :data\\Helipad_Dataset_meta\\Helipad_Dataset_meta_original\\Folder_038\\Helipad_03894.meta\n",
      "Saved :data\\Helipad_Dataset_meta\\Helipad_Dataset_meta_original\\Folder_038\\Helipad_03895.meta\n",
      "Saved :data\\Helipad_Dataset_meta\\Helipad_Dataset_meta_original\\Folder_038\\Helipad_03896.meta\n",
      "Saved :data\\Helipad_Dataset_meta\\Helipad_Dataset_meta_original\\Folder_038\\Helipad_03897.meta\n",
      "Saved :data\\Helipad_Dataset_meta\\Helipad_Dataset_meta_original\\Folder_038\\Helipad_03898.meta\n",
      "Saved :data\\Helipad_Dataset_meta\\Helipad_Dataset_meta_original\\Folder_038\\Helipad_03899.meta\n",
      "Saved :data\\Helipad_Dataset_meta\\Helipad_Dataset_meta_original\\Folder_039\\Helipad_03900.meta\n",
      "Saved :data\\Helipad_Dataset_meta\\Helipad_Dataset_meta_original\\Folder_039\\Helipad_03901.meta\n",
      "Saved :data\\Helipad_Dataset_meta\\Helipad_Dataset_meta_original\\Folder_039\\Helipad_03902.meta\n",
      "Saved :data\\Helipad_Dataset_meta\\Helipad_Dataset_meta_original\\Folder_039\\Helipad_03903.meta\n",
      "Saved :data\\Helipad_Dataset_meta\\Helipad_Dataset_meta_original\\Folder_039\\Helipad_03904.meta\n",
      "Saved :data\\Helipad_Dataset_meta\\Helipad_Dataset_meta_original\\Folder_039\\Helipad_03905.meta\n",
      "Saved :data\\Helipad_Dataset_meta\\Helipad_Dataset_meta_original\\Folder_039\\Helipad_03906.meta\n",
      "Saved :data\\Helipad_Dataset_meta\\Helipad_Dataset_meta_original\\Folder_039\\Helipad_03907.meta\n",
      "Saved :data\\Helipad_Dataset_meta\\Helipad_Dataset_meta_original\\Folder_039\\Helipad_03908.meta\n",
      "Saved :data\\Helipad_Dataset_meta\\Helipad_Dataset_meta_original\\Folder_039\\Helipad_03909.meta\n",
      "Saved :data\\Helipad_Dataset_meta\\Helipad_Dataset_meta_original\\Folder_039\\Helipad_03910.meta\n",
      "Saved :data\\Helipad_Dataset_meta\\Helipad_Dataset_meta_original\\Folder_039\\Helipad_03911.meta\n",
      "Saved :data\\Helipad_Dataset_meta\\Helipad_Dataset_meta_original\\Folder_039\\Helipad_03912.meta\n",
      "Saved :data\\Helipad_Dataset_meta\\Helipad_Dataset_meta_original\\Folder_039\\Helipad_03913.meta\n",
      "Saved :data\\Helipad_Dataset_meta\\Helipad_Dataset_meta_original\\Folder_039\\Helipad_03914.meta\n",
      "Saved :data\\Helipad_Dataset_meta\\Helipad_Dataset_meta_original\\Folder_039\\Helipad_03915.meta\n",
      "Saved :data\\Helipad_Dataset_meta\\Helipad_Dataset_meta_original\\Folder_039\\Helipad_03916.meta\n",
      "Saved :data\\Helipad_Dataset_meta\\Helipad_Dataset_meta_original\\Folder_039\\Helipad_03917.meta\n",
      "Saved :data\\Helipad_Dataset_meta\\Helipad_Dataset_meta_original\\Folder_039\\Helipad_03918.meta\n",
      "Saved :data\\Helipad_Dataset_meta\\Helipad_Dataset_meta_original\\Folder_039\\Helipad_03919.meta\n",
      "Saved :data\\Helipad_Dataset_meta\\Helipad_Dataset_meta_original\\Folder_039\\Helipad_03920.meta\n",
      "Saved :data\\Helipad_Dataset_meta\\Helipad_Dataset_meta_original\\Folder_039\\Helipad_03921.meta\n",
      "Saved :data\\Helipad_Dataset_meta\\Helipad_Dataset_meta_original\\Folder_039\\Helipad_03922.meta\n",
      "Saved :data\\Helipad_Dataset_meta\\Helipad_Dataset_meta_original\\Folder_039\\Helipad_03923.meta\n",
      "Saved :data\\Helipad_Dataset_meta\\Helipad_Dataset_meta_original\\Folder_039\\Helipad_03924.meta\n",
      "Saved :data\\Helipad_Dataset_meta\\Helipad_Dataset_meta_original\\Folder_039\\Helipad_03925.meta\n",
      "Saved :data\\Helipad_Dataset_meta\\Helipad_Dataset_meta_original\\Folder_039\\Helipad_03926.meta\n",
      "Saved :data\\Helipad_Dataset_meta\\Helipad_Dataset_meta_original\\Folder_039\\Helipad_03927.meta\n",
      "Saved :data\\Helipad_Dataset_meta\\Helipad_Dataset_meta_original\\Folder_039\\Helipad_03928.meta\n",
      "Saved :data\\Helipad_Dataset_meta\\Helipad_Dataset_meta_original\\Folder_039\\Helipad_03929.meta\n",
      "Saved :data\\Helipad_Dataset_meta\\Helipad_Dataset_meta_original\\Folder_039\\Helipad_03930.meta\n",
      "Saved :data\\Helipad_Dataset_meta\\Helipad_Dataset_meta_original\\Folder_039\\Helipad_03931.meta\n",
      "Saved :data\\Helipad_Dataset_meta\\Helipad_Dataset_meta_original\\Folder_039\\Helipad_03932.meta\n",
      "Saved :data\\Helipad_Dataset_meta\\Helipad_Dataset_meta_original\\Folder_039\\Helipad_03933.meta\n",
      "Saved :data\\Helipad_Dataset_meta\\Helipad_Dataset_meta_original\\Folder_039\\Helipad_03934.meta\n",
      "Saved :data\\Helipad_Dataset_meta\\Helipad_Dataset_meta_original\\Folder_039\\Helipad_03935.meta\n",
      "Saved :data\\Helipad_Dataset_meta\\Helipad_Dataset_meta_original\\Folder_039\\Helipad_03936.meta\n",
      "Saved :data\\Helipad_Dataset_meta\\Helipad_Dataset_meta_original\\Folder_039\\Helipad_03937.meta\n",
      "Saved :data\\Helipad_Dataset_meta\\Helipad_Dataset_meta_original\\Folder_039\\Helipad_03938.meta\n",
      "Saved :data\\Helipad_Dataset_meta\\Helipad_Dataset_meta_original\\Folder_039\\Helipad_03939.meta\n",
      "Saved :data\\Helipad_Dataset_meta\\Helipad_Dataset_meta_original\\Folder_039\\Helipad_03940.meta\n",
      "Saved :data\\Helipad_Dataset_meta\\Helipad_Dataset_meta_original\\Folder_039\\Helipad_03941.meta\n",
      "Saved :data\\Helipad_Dataset_meta\\Helipad_Dataset_meta_original\\Folder_039\\Helipad_03942.meta\n",
      "Saved :data\\Helipad_Dataset_meta\\Helipad_Dataset_meta_original\\Folder_039\\Helipad_03943.meta\n",
      "Saved :data\\Helipad_Dataset_meta\\Helipad_Dataset_meta_original\\Folder_039\\Helipad_03944.meta\n",
      "Saved :data\\Helipad_Dataset_meta\\Helipad_Dataset_meta_original\\Folder_039\\Helipad_03945.meta\n",
      "Saved :data\\Helipad_Dataset_meta\\Helipad_Dataset_meta_original\\Folder_039\\Helipad_03946.meta\n",
      "Saved :data\\Helipad_Dataset_meta\\Helipad_Dataset_meta_original\\Folder_039\\Helipad_03947.meta\n",
      "Saved :data\\Helipad_Dataset_meta\\Helipad_Dataset_meta_original\\Folder_039\\Helipad_03948.meta\n",
      "Saved :data\\Helipad_Dataset_meta\\Helipad_Dataset_meta_original\\Folder_039\\Helipad_03949.meta\n",
      "Saved :data\\Helipad_Dataset_meta\\Helipad_Dataset_meta_original\\Folder_039\\Helipad_03950.meta\n",
      "Saved :data\\Helipad_Dataset_meta\\Helipad_Dataset_meta_original\\Folder_039\\Helipad_03951.meta\n",
      "Saved :data\\Helipad_Dataset_meta\\Helipad_Dataset_meta_original\\Folder_039\\Helipad_03952.meta\n",
      "Saved :data\\Helipad_Dataset_meta\\Helipad_Dataset_meta_original\\Folder_039\\Helipad_03953.meta\n",
      "Saved :data\\Helipad_Dataset_meta\\Helipad_Dataset_meta_original\\Folder_039\\Helipad_03954.meta\n",
      "Saved :data\\Helipad_Dataset_meta\\Helipad_Dataset_meta_original\\Folder_039\\Helipad_03955.meta\n",
      "Saved :data\\Helipad_Dataset_meta\\Helipad_Dataset_meta_original\\Folder_039\\Helipad_03956.meta\n",
      "Saved :data\\Helipad_Dataset_meta\\Helipad_Dataset_meta_original\\Folder_039\\Helipad_03957.meta\n",
      "Saved :data\\Helipad_Dataset_meta\\Helipad_Dataset_meta_original\\Folder_039\\Helipad_03958.meta\n",
      "Saved :data\\Helipad_Dataset_meta\\Helipad_Dataset_meta_original\\Folder_039\\Helipad_03959.meta\n",
      "Saved :data\\Helipad_Dataset_meta\\Helipad_Dataset_meta_original\\Folder_039\\Helipad_03960.meta\n",
      "Saved :data\\Helipad_Dataset_meta\\Helipad_Dataset_meta_original\\Folder_039\\Helipad_03961.meta\n",
      "Saved :data\\Helipad_Dataset_meta\\Helipad_Dataset_meta_original\\Folder_039\\Helipad_03962.meta\n",
      "Saved :data\\Helipad_Dataset_meta\\Helipad_Dataset_meta_original\\Folder_039\\Helipad_03963.meta\n",
      "Saved :data\\Helipad_Dataset_meta\\Helipad_Dataset_meta_original\\Folder_039\\Helipad_03964.meta\n",
      "Saved :data\\Helipad_Dataset_meta\\Helipad_Dataset_meta_original\\Folder_039\\Helipad_03965.meta\n",
      "Saved :data\\Helipad_Dataset_meta\\Helipad_Dataset_meta_original\\Folder_039\\Helipad_03966.meta\n",
      "Saved :data\\Helipad_Dataset_meta\\Helipad_Dataset_meta_original\\Folder_039\\Helipad_03967.meta\n",
      "Saved :data\\Helipad_Dataset_meta\\Helipad_Dataset_meta_original\\Folder_039\\Helipad_03968.meta\n",
      "Saved :data\\Helipad_Dataset_meta\\Helipad_Dataset_meta_original\\Folder_039\\Helipad_03969.meta\n",
      "Saved :data\\Helipad_Dataset_meta\\Helipad_Dataset_meta_original\\Folder_039\\Helipad_03970.meta\n",
      "Saved :data\\Helipad_Dataset_meta\\Helipad_Dataset_meta_original\\Folder_039\\Helipad_03971.meta\n",
      "Saved :data\\Helipad_Dataset_meta\\Helipad_Dataset_meta_original\\Folder_039\\Helipad_03972.meta\n",
      "Saved :data\\Helipad_Dataset_meta\\Helipad_Dataset_meta_original\\Folder_039\\Helipad_03973.meta\n",
      "Saved :data\\Helipad_Dataset_meta\\Helipad_Dataset_meta_original\\Folder_039\\Helipad_03974.meta\n",
      "Saved :data\\Helipad_Dataset_meta\\Helipad_Dataset_meta_original\\Folder_039\\Helipad_03975.meta\n",
      "Saved :data\\Helipad_Dataset_meta\\Helipad_Dataset_meta_original\\Folder_039\\Helipad_03976.meta\n",
      "Saved :data\\Helipad_Dataset_meta\\Helipad_Dataset_meta_original\\Folder_039\\Helipad_03977.meta\n",
      "Saved :data\\Helipad_Dataset_meta\\Helipad_Dataset_meta_original\\Folder_039\\Helipad_03978.meta\n",
      "Saved :data\\Helipad_Dataset_meta\\Helipad_Dataset_meta_original\\Folder_039\\Helipad_03979.meta\n",
      "Saved :data\\Helipad_Dataset_meta\\Helipad_Dataset_meta_original\\Folder_039\\Helipad_03980.meta\n",
      "Saved :data\\Helipad_Dataset_meta\\Helipad_Dataset_meta_original\\Folder_039\\Helipad_03981.meta\n",
      "Saved :data\\Helipad_Dataset_meta\\Helipad_Dataset_meta_original\\Folder_039\\Helipad_03982.meta\n",
      "Saved :data\\Helipad_Dataset_meta\\Helipad_Dataset_meta_original\\Folder_039\\Helipad_03983.meta\n",
      "Saved :data\\Helipad_Dataset_meta\\Helipad_Dataset_meta_original\\Folder_039\\Helipad_03984.meta\n",
      "Saved :data\\Helipad_Dataset_meta\\Helipad_Dataset_meta_original\\Folder_039\\Helipad_03985.meta\n",
      "Saved :data\\Helipad_Dataset_meta\\Helipad_Dataset_meta_original\\Folder_039\\Helipad_03986.meta\n",
      "Saved :data\\Helipad_Dataset_meta\\Helipad_Dataset_meta_original\\Folder_039\\Helipad_03987.meta\n",
      "Saved :data\\Helipad_Dataset_meta\\Helipad_Dataset_meta_original\\Folder_039\\Helipad_03988.meta\n",
      "Saved :data\\Helipad_Dataset_meta\\Helipad_Dataset_meta_original\\Folder_039\\Helipad_03989.meta\n",
      "Saved :data\\Helipad_Dataset_meta\\Helipad_Dataset_meta_original\\Folder_039\\Helipad_03990.meta\n",
      "Saved :data\\Helipad_Dataset_meta\\Helipad_Dataset_meta_original\\Folder_039\\Helipad_03991.meta\n",
      "Saved :data\\Helipad_Dataset_meta\\Helipad_Dataset_meta_original\\Folder_039\\Helipad_03992.meta\n",
      "Saved :data\\Helipad_Dataset_meta\\Helipad_Dataset_meta_original\\Folder_039\\Helipad_03993.meta\n",
      "Saved :data\\Helipad_Dataset_meta\\Helipad_Dataset_meta_original\\Folder_039\\Helipad_03994.meta\n",
      "Saved :data\\Helipad_Dataset_meta\\Helipad_Dataset_meta_original\\Folder_039\\Helipad_03995.meta\n",
      "Saved :data\\Helipad_Dataset_meta\\Helipad_Dataset_meta_original\\Folder_039\\Helipad_03996.meta\n",
      "Saved :data\\Helipad_Dataset_meta\\Helipad_Dataset_meta_original\\Folder_039\\Helipad_03997.meta\n"
     ]
    },
    {
     "name": "stdout",
     "output_type": "stream",
     "text": [
      "Saved :data\\Helipad_Dataset_meta\\Helipad_Dataset_meta_original\\Folder_039\\Helipad_03998.meta\n",
      "Saved :data\\Helipad_Dataset_meta\\Helipad_Dataset_meta_original\\Folder_039\\Helipad_03999.meta\n",
      "Saved :data\\Helipad_Dataset_meta\\Helipad_Dataset_meta_original\\Folder_040\\Helipad_04000.meta\n",
      "Saved :data\\Helipad_Dataset_meta\\Helipad_Dataset_meta_original\\Folder_040\\Helipad_04001.meta\n",
      "Saved :data\\Helipad_Dataset_meta\\Helipad_Dataset_meta_original\\Folder_040\\Helipad_04002.meta\n",
      "Saved :data\\Helipad_Dataset_meta\\Helipad_Dataset_meta_original\\Folder_040\\Helipad_04003.meta\n",
      "Saved :data\\Helipad_Dataset_meta\\Helipad_Dataset_meta_original\\Folder_040\\Helipad_04004.meta\n",
      "Saved :data\\Helipad_Dataset_meta\\Helipad_Dataset_meta_original\\Folder_040\\Helipad_04005.meta\n",
      "Saved :data\\Helipad_Dataset_meta\\Helipad_Dataset_meta_original\\Folder_040\\Helipad_04006.meta\n",
      "Saved :data\\Helipad_Dataset_meta\\Helipad_Dataset_meta_original\\Folder_040\\Helipad_04007.meta\n",
      "Saved :data\\Helipad_Dataset_meta\\Helipad_Dataset_meta_original\\Folder_040\\Helipad_04008.meta\n",
      "Saved :data\\Helipad_Dataset_meta\\Helipad_Dataset_meta_original\\Folder_040\\Helipad_04009.meta\n",
      "Saved :data\\Helipad_Dataset_meta\\Helipad_Dataset_meta_original\\Folder_040\\Helipad_04010.meta\n",
      "Saved :data\\Helipad_Dataset_meta\\Helipad_Dataset_meta_original\\Folder_040\\Helipad_04011.meta\n",
      "Saved :data\\Helipad_Dataset_meta\\Helipad_Dataset_meta_original\\Folder_040\\Helipad_04012.meta\n",
      "Saved :data\\Helipad_Dataset_meta\\Helipad_Dataset_meta_original\\Folder_040\\Helipad_04013.meta\n",
      "Saved :data\\Helipad_Dataset_meta\\Helipad_Dataset_meta_original\\Folder_040\\Helipad_04014.meta\n",
      "Saved :data\\Helipad_Dataset_meta\\Helipad_Dataset_meta_original\\Folder_040\\Helipad_04015.meta\n",
      "Saved :data\\Helipad_Dataset_meta\\Helipad_Dataset_meta_original\\Folder_040\\Helipad_04016.meta\n",
      "Saved :data\\Helipad_Dataset_meta\\Helipad_Dataset_meta_original\\Folder_040\\Helipad_04017.meta\n",
      "Saved :data\\Helipad_Dataset_meta\\Helipad_Dataset_meta_original\\Folder_040\\Helipad_04018.meta\n",
      "Saved :data\\Helipad_Dataset_meta\\Helipad_Dataset_meta_original\\Folder_040\\Helipad_04019.meta\n",
      "Saved :data\\Helipad_Dataset_meta\\Helipad_Dataset_meta_original\\Folder_040\\Helipad_04020.meta\n",
      "Saved :data\\Helipad_Dataset_meta\\Helipad_Dataset_meta_original\\Folder_040\\Helipad_04021.meta\n",
      "Saved :data\\Helipad_Dataset_meta\\Helipad_Dataset_meta_original\\Folder_040\\Helipad_04022.meta\n",
      "Saved :data\\Helipad_Dataset_meta\\Helipad_Dataset_meta_original\\Folder_040\\Helipad_04023.meta\n",
      "Saved :data\\Helipad_Dataset_meta\\Helipad_Dataset_meta_original\\Folder_040\\Helipad_04024.meta\n",
      "Saved :data\\Helipad_Dataset_meta\\Helipad_Dataset_meta_original\\Folder_040\\Helipad_04025.meta\n",
      "Saved :data\\Helipad_Dataset_meta\\Helipad_Dataset_meta_original\\Folder_040\\Helipad_04026.meta\n",
      "Saved :data\\Helipad_Dataset_meta\\Helipad_Dataset_meta_original\\Folder_040\\Helipad_04027.meta\n",
      "Saved :data\\Helipad_Dataset_meta\\Helipad_Dataset_meta_original\\Folder_040\\Helipad_04028.meta\n",
      "Saved :data\\Helipad_Dataset_meta\\Helipad_Dataset_meta_original\\Folder_040\\Helipad_04029.meta\n",
      "Saved :data\\Helipad_Dataset_meta\\Helipad_Dataset_meta_original\\Folder_040\\Helipad_04030.meta\n",
      "Saved :data\\Helipad_Dataset_meta\\Helipad_Dataset_meta_original\\Folder_040\\Helipad_04031.meta\n",
      "Saved :data\\Helipad_Dataset_meta\\Helipad_Dataset_meta_original\\Folder_040\\Helipad_04032.meta\n",
      "Saved :data\\Helipad_Dataset_meta\\Helipad_Dataset_meta_original\\Folder_040\\Helipad_04033.meta\n",
      "Saved :data\\Helipad_Dataset_meta\\Helipad_Dataset_meta_original\\Folder_040\\Helipad_04034.meta\n",
      "Saved :data\\Helipad_Dataset_meta\\Helipad_Dataset_meta_original\\Folder_040\\Helipad_04035.meta\n",
      "Saved :data\\Helipad_Dataset_meta\\Helipad_Dataset_meta_original\\Folder_040\\Helipad_04036.meta\n",
      "Saved :data\\Helipad_Dataset_meta\\Helipad_Dataset_meta_original\\Folder_040\\Helipad_04037.meta\n",
      "Saved :data\\Helipad_Dataset_meta\\Helipad_Dataset_meta_original\\Folder_040\\Helipad_04038.meta\n",
      "Saved :data\\Helipad_Dataset_meta\\Helipad_Dataset_meta_original\\Folder_040\\Helipad_04039.meta\n",
      "Saved :data\\Helipad_Dataset_meta\\Helipad_Dataset_meta_original\\Folder_040\\Helipad_04040.meta\n",
      "Saved :data\\Helipad_Dataset_meta\\Helipad_Dataset_meta_original\\Folder_040\\Helipad_04041.meta\n",
      "Saved :data\\Helipad_Dataset_meta\\Helipad_Dataset_meta_original\\Folder_040\\Helipad_04042.meta\n",
      "Saved :data\\Helipad_Dataset_meta\\Helipad_Dataset_meta_original\\Folder_040\\Helipad_04043.meta\n",
      "Saved :data\\Helipad_Dataset_meta\\Helipad_Dataset_meta_original\\Folder_040\\Helipad_04044.meta\n",
      "Saved :data\\Helipad_Dataset_meta\\Helipad_Dataset_meta_original\\Folder_040\\Helipad_04045.meta\n",
      "Saved :data\\Helipad_Dataset_meta\\Helipad_Dataset_meta_original\\Folder_040\\Helipad_04046.meta\n",
      "Saved :data\\Helipad_Dataset_meta\\Helipad_Dataset_meta_original\\Folder_040\\Helipad_04047.meta\n",
      "Saved :data\\Helipad_Dataset_meta\\Helipad_Dataset_meta_original\\Folder_040\\Helipad_04048.meta\n",
      "Saved :data\\Helipad_Dataset_meta\\Helipad_Dataset_meta_original\\Folder_040\\Helipad_04049.meta\n",
      "Saved :data\\Helipad_Dataset_meta\\Helipad_Dataset_meta_original\\Folder_040\\Helipad_04050.meta\n",
      "Saved :data\\Helipad_Dataset_meta\\Helipad_Dataset_meta_original\\Folder_040\\Helipad_04051.meta\n",
      "Saved :data\\Helipad_Dataset_meta\\Helipad_Dataset_meta_original\\Folder_040\\Helipad_04052.meta\n",
      "Saved :data\\Helipad_Dataset_meta\\Helipad_Dataset_meta_original\\Folder_040\\Helipad_04053.meta\n",
      "Saved :data\\Helipad_Dataset_meta\\Helipad_Dataset_meta_original\\Folder_040\\Helipad_04054.meta\n",
      "Saved :data\\Helipad_Dataset_meta\\Helipad_Dataset_meta_original\\Folder_040\\Helipad_04055.meta\n",
      "Saved :data\\Helipad_Dataset_meta\\Helipad_Dataset_meta_original\\Folder_040\\Helipad_04056.meta\n",
      "Saved :data\\Helipad_Dataset_meta\\Helipad_Dataset_meta_original\\Folder_040\\Helipad_04057.meta\n",
      "Saved :data\\Helipad_Dataset_meta\\Helipad_Dataset_meta_original\\Folder_040\\Helipad_04058.meta\n",
      "Saved :data\\Helipad_Dataset_meta\\Helipad_Dataset_meta_original\\Folder_040\\Helipad_04059.meta\n",
      "Saved :data\\Helipad_Dataset_meta\\Helipad_Dataset_meta_original\\Folder_040\\Helipad_04060.meta\n",
      "Saved :data\\Helipad_Dataset_meta\\Helipad_Dataset_meta_original\\Folder_040\\Helipad_04061.meta\n",
      "Saved :data\\Helipad_Dataset_meta\\Helipad_Dataset_meta_original\\Folder_040\\Helipad_04062.meta\n",
      "Saved :data\\Helipad_Dataset_meta\\Helipad_Dataset_meta_original\\Folder_040\\Helipad_04063.meta\n",
      "Saved :data\\Helipad_Dataset_meta\\Helipad_Dataset_meta_original\\Folder_040\\Helipad_04064.meta\n",
      "Saved :data\\Helipad_Dataset_meta\\Helipad_Dataset_meta_original\\Folder_040\\Helipad_04065.meta\n",
      "Saved :data\\Helipad_Dataset_meta\\Helipad_Dataset_meta_original\\Folder_040\\Helipad_04066.meta\n",
      "Saved :data\\Helipad_Dataset_meta\\Helipad_Dataset_meta_original\\Folder_040\\Helipad_04067.meta\n",
      "Saved :data\\Helipad_Dataset_meta\\Helipad_Dataset_meta_original\\Folder_040\\Helipad_04068.meta\n",
      "Saved :data\\Helipad_Dataset_meta\\Helipad_Dataset_meta_original\\Folder_040\\Helipad_04069.meta\n",
      "Saved :data\\Helipad_Dataset_meta\\Helipad_Dataset_meta_original\\Folder_040\\Helipad_04070.meta\n",
      "Saved :data\\Helipad_Dataset_meta\\Helipad_Dataset_meta_original\\Folder_040\\Helipad_04071.meta\n",
      "Saved :data\\Helipad_Dataset_meta\\Helipad_Dataset_meta_original\\Folder_040\\Helipad_04072.meta\n",
      "Saved :data\\Helipad_Dataset_meta\\Helipad_Dataset_meta_original\\Folder_040\\Helipad_04073.meta\n",
      "Saved :data\\Helipad_Dataset_meta\\Helipad_Dataset_meta_original\\Folder_040\\Helipad_04074.meta\n",
      "Saved :data\\Helipad_Dataset_meta\\Helipad_Dataset_meta_original\\Folder_040\\Helipad_04075.meta\n",
      "Saved :data\\Helipad_Dataset_meta\\Helipad_Dataset_meta_original\\Folder_040\\Helipad_04076.meta\n",
      "Saved :data\\Helipad_Dataset_meta\\Helipad_Dataset_meta_original\\Folder_040\\Helipad_04077.meta\n",
      "Saved :data\\Helipad_Dataset_meta\\Helipad_Dataset_meta_original\\Folder_040\\Helipad_04078.meta\n",
      "Saved :data\\Helipad_Dataset_meta\\Helipad_Dataset_meta_original\\Folder_040\\Helipad_04079.meta\n",
      "Saved :data\\Helipad_Dataset_meta\\Helipad_Dataset_meta_original\\Folder_040\\Helipad_04080.meta\n",
      "Saved :data\\Helipad_Dataset_meta\\Helipad_Dataset_meta_original\\Folder_040\\Helipad_04081.meta\n",
      "Saved :data\\Helipad_Dataset_meta\\Helipad_Dataset_meta_original\\Folder_040\\Helipad_04082.meta\n",
      "Saved :data\\Helipad_Dataset_meta\\Helipad_Dataset_meta_original\\Folder_040\\Helipad_04083.meta\n",
      "Saved :data\\Helipad_Dataset_meta\\Helipad_Dataset_meta_original\\Folder_040\\Helipad_04084.meta\n",
      "Saved :data\\Helipad_Dataset_meta\\Helipad_Dataset_meta_original\\Folder_040\\Helipad_04085.meta\n",
      "Saved :data\\Helipad_Dataset_meta\\Helipad_Dataset_meta_original\\Folder_040\\Helipad_04086.meta\n",
      "Saved :data\\Helipad_Dataset_meta\\Helipad_Dataset_meta_original\\Folder_040\\Helipad_04087.meta\n",
      "Saved :data\\Helipad_Dataset_meta\\Helipad_Dataset_meta_original\\Folder_040\\Helipad_04088.meta\n",
      "Saved :data\\Helipad_Dataset_meta\\Helipad_Dataset_meta_original\\Folder_040\\Helipad_04089.meta\n",
      "Saved :data\\Helipad_Dataset_meta\\Helipad_Dataset_meta_original\\Folder_040\\Helipad_04090.meta\n",
      "Saved :data\\Helipad_Dataset_meta\\Helipad_Dataset_meta_original\\Folder_040\\Helipad_04091.meta\n",
      "Saved :data\\Helipad_Dataset_meta\\Helipad_Dataset_meta_original\\Folder_040\\Helipad_04092.meta\n",
      "Saved :data\\Helipad_Dataset_meta\\Helipad_Dataset_meta_original\\Folder_040\\Helipad_04093.meta\n",
      "Saved :data\\Helipad_Dataset_meta\\Helipad_Dataset_meta_original\\Folder_040\\Helipad_04094.meta\n",
      "Saved :data\\Helipad_Dataset_meta\\Helipad_Dataset_meta_original\\Folder_040\\Helipad_04095.meta\n",
      "Saved :data\\Helipad_Dataset_meta\\Helipad_Dataset_meta_original\\Folder_040\\Helipad_04096.meta\n",
      "Saved :data\\Helipad_Dataset_meta\\Helipad_Dataset_meta_original\\Folder_040\\Helipad_04097.meta\n",
      "Saved :data\\Helipad_Dataset_meta\\Helipad_Dataset_meta_original\\Folder_040\\Helipad_04098.meta\n",
      "Saved :data\\Helipad_Dataset_meta\\Helipad_Dataset_meta_original\\Folder_040\\Helipad_04099.meta\n",
      "Saved :data\\Helipad_Dataset_meta\\Helipad_Dataset_meta_original\\Folder_041\\Helipad_04100.meta\n",
      "Saved :data\\Helipad_Dataset_meta\\Helipad_Dataset_meta_original\\Folder_041\\Helipad_04101.meta\n",
      "Saved :data\\Helipad_Dataset_meta\\Helipad_Dataset_meta_original\\Folder_041\\Helipad_04102.meta\n",
      "Saved :data\\Helipad_Dataset_meta\\Helipad_Dataset_meta_original\\Folder_041\\Helipad_04103.meta\n",
      "Saved :data\\Helipad_Dataset_meta\\Helipad_Dataset_meta_original\\Folder_041\\Helipad_04104.meta\n",
      "Saved :data\\Helipad_Dataset_meta\\Helipad_Dataset_meta_original\\Folder_041\\Helipad_04105.meta\n",
      "Saved :data\\Helipad_Dataset_meta\\Helipad_Dataset_meta_original\\Folder_041\\Helipad_04106.meta\n",
      "Saved :data\\Helipad_Dataset_meta\\Helipad_Dataset_meta_original\\Folder_041\\Helipad_04107.meta\n",
      "Saved :data\\Helipad_Dataset_meta\\Helipad_Dataset_meta_original\\Folder_041\\Helipad_04108.meta\n",
      "Saved :data\\Helipad_Dataset_meta\\Helipad_Dataset_meta_original\\Folder_041\\Helipad_04109.meta\n",
      "Saved :data\\Helipad_Dataset_meta\\Helipad_Dataset_meta_original\\Folder_041\\Helipad_04110.meta\n",
      "Saved :data\\Helipad_Dataset_meta\\Helipad_Dataset_meta_original\\Folder_041\\Helipad_04111.meta\n",
      "Saved :data\\Helipad_Dataset_meta\\Helipad_Dataset_meta_original\\Folder_041\\Helipad_04112.meta\n",
      "Saved :data\\Helipad_Dataset_meta\\Helipad_Dataset_meta_original\\Folder_041\\Helipad_04113.meta\n",
      "Saved :data\\Helipad_Dataset_meta\\Helipad_Dataset_meta_original\\Folder_041\\Helipad_04114.meta\n",
      "Saved :data\\Helipad_Dataset_meta\\Helipad_Dataset_meta_original\\Folder_041\\Helipad_04115.meta\n",
      "Saved :data\\Helipad_Dataset_meta\\Helipad_Dataset_meta_original\\Folder_041\\Helipad_04116.meta\n",
      "Saved :data\\Helipad_Dataset_meta\\Helipad_Dataset_meta_original\\Folder_041\\Helipad_04117.meta\n",
      "Saved :data\\Helipad_Dataset_meta\\Helipad_Dataset_meta_original\\Folder_041\\Helipad_04118.meta\n",
      "Saved :data\\Helipad_Dataset_meta\\Helipad_Dataset_meta_original\\Folder_041\\Helipad_04119.meta\n",
      "Saved :data\\Helipad_Dataset_meta\\Helipad_Dataset_meta_original\\Folder_041\\Helipad_04120.meta\n",
      "Saved :data\\Helipad_Dataset_meta\\Helipad_Dataset_meta_original\\Folder_041\\Helipad_04121.meta\n",
      "Saved :data\\Helipad_Dataset_meta\\Helipad_Dataset_meta_original\\Folder_041\\Helipad_04122.meta\n",
      "Saved :data\\Helipad_Dataset_meta\\Helipad_Dataset_meta_original\\Folder_041\\Helipad_04123.meta\n",
      "Saved :data\\Helipad_Dataset_meta\\Helipad_Dataset_meta_original\\Folder_041\\Helipad_04124.meta\n",
      "Saved :data\\Helipad_Dataset_meta\\Helipad_Dataset_meta_original\\Folder_041\\Helipad_04125.meta\n",
      "Saved :data\\Helipad_Dataset_meta\\Helipad_Dataset_meta_original\\Folder_041\\Helipad_04126.meta\n",
      "Saved :data\\Helipad_Dataset_meta\\Helipad_Dataset_meta_original\\Folder_041\\Helipad_04127.meta\n",
      "Saved :data\\Helipad_Dataset_meta\\Helipad_Dataset_meta_original\\Folder_041\\Helipad_04128.meta\n",
      "Saved :data\\Helipad_Dataset_meta\\Helipad_Dataset_meta_original\\Folder_041\\Helipad_04129.meta\n",
      "Saved :data\\Helipad_Dataset_meta\\Helipad_Dataset_meta_original\\Folder_041\\Helipad_04130.meta\n",
      "Saved :data\\Helipad_Dataset_meta\\Helipad_Dataset_meta_original\\Folder_041\\Helipad_04131.meta\n",
      "Saved :data\\Helipad_Dataset_meta\\Helipad_Dataset_meta_original\\Folder_041\\Helipad_04132.meta\n",
      "Saved :data\\Helipad_Dataset_meta\\Helipad_Dataset_meta_original\\Folder_041\\Helipad_04133.meta\n",
      "Saved :data\\Helipad_Dataset_meta\\Helipad_Dataset_meta_original\\Folder_041\\Helipad_04134.meta\n",
      "Saved :data\\Helipad_Dataset_meta\\Helipad_Dataset_meta_original\\Folder_041\\Helipad_04135.meta\n",
      "Saved :data\\Helipad_Dataset_meta\\Helipad_Dataset_meta_original\\Folder_041\\Helipad_04136.meta\n",
      "Saved :data\\Helipad_Dataset_meta\\Helipad_Dataset_meta_original\\Folder_041\\Helipad_04137.meta\n",
      "Saved :data\\Helipad_Dataset_meta\\Helipad_Dataset_meta_original\\Folder_041\\Helipad_04138.meta\n",
      "Saved :data\\Helipad_Dataset_meta\\Helipad_Dataset_meta_original\\Folder_041\\Helipad_04139.meta\n",
      "Saved :data\\Helipad_Dataset_meta\\Helipad_Dataset_meta_original\\Folder_041\\Helipad_04140.meta\n",
      "Saved :data\\Helipad_Dataset_meta\\Helipad_Dataset_meta_original\\Folder_041\\Helipad_04141.meta\n",
      "Saved :data\\Helipad_Dataset_meta\\Helipad_Dataset_meta_original\\Folder_041\\Helipad_04142.meta\n",
      "Saved :data\\Helipad_Dataset_meta\\Helipad_Dataset_meta_original\\Folder_041\\Helipad_04143.meta\n",
      "Saved :data\\Helipad_Dataset_meta\\Helipad_Dataset_meta_original\\Folder_041\\Helipad_04144.meta\n",
      "Saved :data\\Helipad_Dataset_meta\\Helipad_Dataset_meta_original\\Folder_041\\Helipad_04145.meta\n",
      "Saved :data\\Helipad_Dataset_meta\\Helipad_Dataset_meta_original\\Folder_041\\Helipad_04146.meta\n",
      "Saved :data\\Helipad_Dataset_meta\\Helipad_Dataset_meta_original\\Folder_041\\Helipad_04147.meta\n",
      "Saved :data\\Helipad_Dataset_meta\\Helipad_Dataset_meta_original\\Folder_041\\Helipad_04148.meta\n",
      "Saved :data\\Helipad_Dataset_meta\\Helipad_Dataset_meta_original\\Folder_041\\Helipad_04149.meta\n",
      "Saved :data\\Helipad_Dataset_meta\\Helipad_Dataset_meta_original\\Folder_041\\Helipad_04150.meta\n",
      "Saved :data\\Helipad_Dataset_meta\\Helipad_Dataset_meta_original\\Folder_041\\Helipad_04151.meta\n",
      "Saved :data\\Helipad_Dataset_meta\\Helipad_Dataset_meta_original\\Folder_041\\Helipad_04152.meta\n",
      "Saved :data\\Helipad_Dataset_meta\\Helipad_Dataset_meta_original\\Folder_041\\Helipad_04153.meta\n",
      "Saved :data\\Helipad_Dataset_meta\\Helipad_Dataset_meta_original\\Folder_041\\Helipad_04154.meta\n",
      "Saved :data\\Helipad_Dataset_meta\\Helipad_Dataset_meta_original\\Folder_041\\Helipad_04155.meta\n",
      "Saved :data\\Helipad_Dataset_meta\\Helipad_Dataset_meta_original\\Folder_041\\Helipad_04156.meta\n"
     ]
    },
    {
     "name": "stdout",
     "output_type": "stream",
     "text": [
      "Saved :data\\Helipad_Dataset_meta\\Helipad_Dataset_meta_original\\Folder_041\\Helipad_04157.meta\n",
      "Saved :data\\Helipad_Dataset_meta\\Helipad_Dataset_meta_original\\Folder_041\\Helipad_04158.meta\n",
      "Saved :data\\Helipad_Dataset_meta\\Helipad_Dataset_meta_original\\Folder_041\\Helipad_04159.meta\n",
      "Saved :data\\Helipad_Dataset_meta\\Helipad_Dataset_meta_original\\Folder_041\\Helipad_04160.meta\n",
      "Saved :data\\Helipad_Dataset_meta\\Helipad_Dataset_meta_original\\Folder_041\\Helipad_04161.meta\n",
      "Saved :data\\Helipad_Dataset_meta\\Helipad_Dataset_meta_original\\Folder_041\\Helipad_04162.meta\n",
      "Saved :data\\Helipad_Dataset_meta\\Helipad_Dataset_meta_original\\Folder_041\\Helipad_04163.meta\n",
      "Saved :data\\Helipad_Dataset_meta\\Helipad_Dataset_meta_original\\Folder_041\\Helipad_04164.meta\n",
      "Saved :data\\Helipad_Dataset_meta\\Helipad_Dataset_meta_original\\Folder_041\\Helipad_04165.meta\n",
      "Saved :data\\Helipad_Dataset_meta\\Helipad_Dataset_meta_original\\Folder_041\\Helipad_04166.meta\n",
      "Saved :data\\Helipad_Dataset_meta\\Helipad_Dataset_meta_original\\Folder_041\\Helipad_04167.meta\n",
      "Saved :data\\Helipad_Dataset_meta\\Helipad_Dataset_meta_original\\Folder_041\\Helipad_04168.meta\n",
      "Saved :data\\Helipad_Dataset_meta\\Helipad_Dataset_meta_original\\Folder_041\\Helipad_04169.meta\n",
      "Saved :data\\Helipad_Dataset_meta\\Helipad_Dataset_meta_original\\Folder_041\\Helipad_04170.meta\n",
      "Saved :data\\Helipad_Dataset_meta\\Helipad_Dataset_meta_original\\Folder_041\\Helipad_04171.meta\n",
      "Saved :data\\Helipad_Dataset_meta\\Helipad_Dataset_meta_original\\Folder_041\\Helipad_04172.meta\n",
      "Saved :data\\Helipad_Dataset_meta\\Helipad_Dataset_meta_original\\Folder_041\\Helipad_04173.meta\n",
      "Saved :data\\Helipad_Dataset_meta\\Helipad_Dataset_meta_original\\Folder_041\\Helipad_04174.meta\n",
      "Saved :data\\Helipad_Dataset_meta\\Helipad_Dataset_meta_original\\Folder_041\\Helipad_04175.meta\n",
      "Saved :data\\Helipad_Dataset_meta\\Helipad_Dataset_meta_original\\Folder_041\\Helipad_04176.meta\n",
      "Saved :data\\Helipad_Dataset_meta\\Helipad_Dataset_meta_original\\Folder_041\\Helipad_04177.meta\n",
      "Saved :data\\Helipad_Dataset_meta\\Helipad_Dataset_meta_original\\Folder_041\\Helipad_04178.meta\n",
      "Saved :data\\Helipad_Dataset_meta\\Helipad_Dataset_meta_original\\Folder_041\\Helipad_04179.meta\n",
      "Saved :data\\Helipad_Dataset_meta\\Helipad_Dataset_meta_original\\Folder_041\\Helipad_04180.meta\n",
      "Saved :data\\Helipad_Dataset_meta\\Helipad_Dataset_meta_original\\Folder_041\\Helipad_04181.meta\n",
      "Saved :data\\Helipad_Dataset_meta\\Helipad_Dataset_meta_original\\Folder_041\\Helipad_04182.meta\n",
      "Saved :data\\Helipad_Dataset_meta\\Helipad_Dataset_meta_original\\Folder_041\\Helipad_04183.meta\n",
      "Saved :data\\Helipad_Dataset_meta\\Helipad_Dataset_meta_original\\Folder_041\\Helipad_04184.meta\n",
      "Saved :data\\Helipad_Dataset_meta\\Helipad_Dataset_meta_original\\Folder_041\\Helipad_04185.meta\n",
      "Saved :data\\Helipad_Dataset_meta\\Helipad_Dataset_meta_original\\Folder_041\\Helipad_04186.meta\n",
      "Saved :data\\Helipad_Dataset_meta\\Helipad_Dataset_meta_original\\Folder_041\\Helipad_04187.meta\n",
      "Saved :data\\Helipad_Dataset_meta\\Helipad_Dataset_meta_original\\Folder_041\\Helipad_04188.meta\n",
      "Saved :data\\Helipad_Dataset_meta\\Helipad_Dataset_meta_original\\Folder_041\\Helipad_04189.meta\n",
      "Saved :data\\Helipad_Dataset_meta\\Helipad_Dataset_meta_original\\Folder_041\\Helipad_04190.meta\n",
      "Saved :data\\Helipad_Dataset_meta\\Helipad_Dataset_meta_original\\Folder_041\\Helipad_04191.meta\n",
      "Saved :data\\Helipad_Dataset_meta\\Helipad_Dataset_meta_original\\Folder_041\\Helipad_04192.meta\n",
      "Saved :data\\Helipad_Dataset_meta\\Helipad_Dataset_meta_original\\Folder_041\\Helipad_04193.meta\n",
      "Saved :data\\Helipad_Dataset_meta\\Helipad_Dataset_meta_original\\Folder_041\\Helipad_04194.meta\n",
      "Saved :data\\Helipad_Dataset_meta\\Helipad_Dataset_meta_original\\Folder_041\\Helipad_04195.meta\n",
      "Saved :data\\Helipad_Dataset_meta\\Helipad_Dataset_meta_original\\Folder_041\\Helipad_04196.meta\n",
      "Saved :data\\Helipad_Dataset_meta\\Helipad_Dataset_meta_original\\Folder_041\\Helipad_04197.meta\n",
      "Saved :data\\Helipad_Dataset_meta\\Helipad_Dataset_meta_original\\Folder_041\\Helipad_04198.meta\n",
      "Saved :data\\Helipad_Dataset_meta\\Helipad_Dataset_meta_original\\Folder_041\\Helipad_04199.meta\n",
      "Saved :data\\Helipad_Dataset_meta\\Helipad_Dataset_meta_original\\Folder_042\\Helipad_04200.meta\n",
      "Saved :data\\Helipad_Dataset_meta\\Helipad_Dataset_meta_original\\Folder_042\\Helipad_04201.meta\n",
      "Saved :data\\Helipad_Dataset_meta\\Helipad_Dataset_meta_original\\Folder_042\\Helipad_04202.meta\n",
      "Saved :data\\Helipad_Dataset_meta\\Helipad_Dataset_meta_original\\Folder_042\\Helipad_04203.meta\n",
      "Saved :data\\Helipad_Dataset_meta\\Helipad_Dataset_meta_original\\Folder_042\\Helipad_04204.meta\n",
      "Saved :data\\Helipad_Dataset_meta\\Helipad_Dataset_meta_original\\Folder_042\\Helipad_04205.meta\n",
      "Saved :data\\Helipad_Dataset_meta\\Helipad_Dataset_meta_original\\Folder_042\\Helipad_04206.meta\n",
      "Saved :data\\Helipad_Dataset_meta\\Helipad_Dataset_meta_original\\Folder_042\\Helipad_04207.meta\n",
      "Saved :data\\Helipad_Dataset_meta\\Helipad_Dataset_meta_original\\Folder_042\\Helipad_04208.meta\n",
      "Saved :data\\Helipad_Dataset_meta\\Helipad_Dataset_meta_original\\Folder_042\\Helipad_04209.meta\n",
      "Saved :data\\Helipad_Dataset_meta\\Helipad_Dataset_meta_original\\Folder_042\\Helipad_04210.meta\n",
      "Saved :data\\Helipad_Dataset_meta\\Helipad_Dataset_meta_original\\Folder_042\\Helipad_04211.meta\n",
      "Saved :data\\Helipad_Dataset_meta\\Helipad_Dataset_meta_original\\Folder_042\\Helipad_04212.meta\n",
      "Saved :data\\Helipad_Dataset_meta\\Helipad_Dataset_meta_original\\Folder_042\\Helipad_04213.meta\n",
      "Saved :data\\Helipad_Dataset_meta\\Helipad_Dataset_meta_original\\Folder_042\\Helipad_04214.meta\n",
      "Saved :data\\Helipad_Dataset_meta\\Helipad_Dataset_meta_original\\Folder_042\\Helipad_04215.meta\n",
      "Saved :data\\Helipad_Dataset_meta\\Helipad_Dataset_meta_original\\Folder_042\\Helipad_04216.meta\n",
      "Saved :data\\Helipad_Dataset_meta\\Helipad_Dataset_meta_original\\Folder_042\\Helipad_04217.meta\n",
      "Saved :data\\Helipad_Dataset_meta\\Helipad_Dataset_meta_original\\Folder_042\\Helipad_04218.meta\n",
      "Saved :data\\Helipad_Dataset_meta\\Helipad_Dataset_meta_original\\Folder_042\\Helipad_04219.meta\n",
      "Saved :data\\Helipad_Dataset_meta\\Helipad_Dataset_meta_original\\Folder_042\\Helipad_04220.meta\n",
      "Saved :data\\Helipad_Dataset_meta\\Helipad_Dataset_meta_original\\Folder_042\\Helipad_04221.meta\n",
      "Saved :data\\Helipad_Dataset_meta\\Helipad_Dataset_meta_original\\Folder_042\\Helipad_04222.meta\n",
      "Saved :data\\Helipad_Dataset_meta\\Helipad_Dataset_meta_original\\Folder_042\\Helipad_04223.meta\n",
      "Saved :data\\Helipad_Dataset_meta\\Helipad_Dataset_meta_original\\Folder_042\\Helipad_04224.meta\n",
      "Saved :data\\Helipad_Dataset_meta\\Helipad_Dataset_meta_original\\Folder_042\\Helipad_04225.meta\n",
      "Saved :data\\Helipad_Dataset_meta\\Helipad_Dataset_meta_original\\Folder_042\\Helipad_04226.meta\n",
      "Saved :data\\Helipad_Dataset_meta\\Helipad_Dataset_meta_original\\Folder_042\\Helipad_04227.meta\n",
      "Saved :data\\Helipad_Dataset_meta\\Helipad_Dataset_meta_original\\Folder_042\\Helipad_04228.meta\n",
      "Saved :data\\Helipad_Dataset_meta\\Helipad_Dataset_meta_original\\Folder_042\\Helipad_04229.meta\n",
      "Saved :data\\Helipad_Dataset_meta\\Helipad_Dataset_meta_original\\Folder_042\\Helipad_04230.meta\n",
      "Saved :data\\Helipad_Dataset_meta\\Helipad_Dataset_meta_original\\Folder_042\\Helipad_04231.meta\n",
      "Saved :data\\Helipad_Dataset_meta\\Helipad_Dataset_meta_original\\Folder_042\\Helipad_04232.meta\n",
      "Saved :data\\Helipad_Dataset_meta\\Helipad_Dataset_meta_original\\Folder_042\\Helipad_04233.meta\n",
      "Saved :data\\Helipad_Dataset_meta\\Helipad_Dataset_meta_original\\Folder_042\\Helipad_04234.meta\n",
      "Saved :data\\Helipad_Dataset_meta\\Helipad_Dataset_meta_original\\Folder_042\\Helipad_04235.meta\n",
      "Saved :data\\Helipad_Dataset_meta\\Helipad_Dataset_meta_original\\Folder_042\\Helipad_04236.meta\n",
      "Saved :data\\Helipad_Dataset_meta\\Helipad_Dataset_meta_original\\Folder_042\\Helipad_04237.meta\n",
      "Saved :data\\Helipad_Dataset_meta\\Helipad_Dataset_meta_original\\Folder_042\\Helipad_04238.meta\n",
      "Saved :data\\Helipad_Dataset_meta\\Helipad_Dataset_meta_original\\Folder_042\\Helipad_04239.meta\n",
      "Saved :data\\Helipad_Dataset_meta\\Helipad_Dataset_meta_original\\Folder_042\\Helipad_04240.meta\n",
      "Saved :data\\Helipad_Dataset_meta\\Helipad_Dataset_meta_original\\Folder_042\\Helipad_04241.meta\n",
      "Saved :data\\Helipad_Dataset_meta\\Helipad_Dataset_meta_original\\Folder_042\\Helipad_04242.meta\n",
      "Saved :data\\Helipad_Dataset_meta\\Helipad_Dataset_meta_original\\Folder_042\\Helipad_04243.meta\n",
      "Saved :data\\Helipad_Dataset_meta\\Helipad_Dataset_meta_original\\Folder_042\\Helipad_04244.meta\n",
      "Saved :data\\Helipad_Dataset_meta\\Helipad_Dataset_meta_original\\Folder_042\\Helipad_04245.meta\n",
      "Saved :data\\Helipad_Dataset_meta\\Helipad_Dataset_meta_original\\Folder_042\\Helipad_04246.meta\n",
      "Saved :data\\Helipad_Dataset_meta\\Helipad_Dataset_meta_original\\Folder_042\\Helipad_04247.meta\n",
      "Saved :data\\Helipad_Dataset_meta\\Helipad_Dataset_meta_original\\Folder_042\\Helipad_04248.meta\n",
      "Saved :data\\Helipad_Dataset_meta\\Helipad_Dataset_meta_original\\Folder_042\\Helipad_04249.meta\n",
      "Saved :data\\Helipad_Dataset_meta\\Helipad_Dataset_meta_original\\Folder_042\\Helipad_04250.meta\n",
      "Saved :data\\Helipad_Dataset_meta\\Helipad_Dataset_meta_original\\Folder_042\\Helipad_04251.meta\n",
      "Saved :data\\Helipad_Dataset_meta\\Helipad_Dataset_meta_original\\Folder_042\\Helipad_04252.meta\n",
      "Saved :data\\Helipad_Dataset_meta\\Helipad_Dataset_meta_original\\Folder_042\\Helipad_04253.meta\n",
      "Saved :data\\Helipad_Dataset_meta\\Helipad_Dataset_meta_original\\Folder_042\\Helipad_04254.meta\n",
      "Saved :data\\Helipad_Dataset_meta\\Helipad_Dataset_meta_original\\Folder_042\\Helipad_04255.meta\n",
      "Saved :data\\Helipad_Dataset_meta\\Helipad_Dataset_meta_original\\Folder_042\\Helipad_04256.meta\n",
      "Saved :data\\Helipad_Dataset_meta\\Helipad_Dataset_meta_original\\Folder_042\\Helipad_04257.meta\n",
      "Saved :data\\Helipad_Dataset_meta\\Helipad_Dataset_meta_original\\Folder_042\\Helipad_04258.meta\n",
      "Saved :data\\Helipad_Dataset_meta\\Helipad_Dataset_meta_original\\Folder_042\\Helipad_04259.meta\n",
      "Saved :data\\Helipad_Dataset_meta\\Helipad_Dataset_meta_original\\Folder_042\\Helipad_04260.meta\n",
      "Saved :data\\Helipad_Dataset_meta\\Helipad_Dataset_meta_original\\Folder_042\\Helipad_04261.meta\n",
      "Saved :data\\Helipad_Dataset_meta\\Helipad_Dataset_meta_original\\Folder_042\\Helipad_04262.meta\n",
      "Saved :data\\Helipad_Dataset_meta\\Helipad_Dataset_meta_original\\Folder_042\\Helipad_04263.meta\n",
      "Saved :data\\Helipad_Dataset_meta\\Helipad_Dataset_meta_original\\Folder_042\\Helipad_04264.meta\n",
      "Saved :data\\Helipad_Dataset_meta\\Helipad_Dataset_meta_original\\Folder_042\\Helipad_04265.meta\n",
      "Saved :data\\Helipad_Dataset_meta\\Helipad_Dataset_meta_original\\Folder_042\\Helipad_04266.meta\n",
      "Saved :data\\Helipad_Dataset_meta\\Helipad_Dataset_meta_original\\Folder_042\\Helipad_04267.meta\n",
      "Saved :data\\Helipad_Dataset_meta\\Helipad_Dataset_meta_original\\Folder_042\\Helipad_04268.meta\n",
      "Saved :data\\Helipad_Dataset_meta\\Helipad_Dataset_meta_original\\Folder_042\\Helipad_04269.meta\n",
      "Saved :data\\Helipad_Dataset_meta\\Helipad_Dataset_meta_original\\Folder_042\\Helipad_04270.meta\n",
      "Saved :data\\Helipad_Dataset_meta\\Helipad_Dataset_meta_original\\Folder_042\\Helipad_04271.meta\n",
      "Saved :data\\Helipad_Dataset_meta\\Helipad_Dataset_meta_original\\Folder_042\\Helipad_04272.meta\n",
      "Saved :data\\Helipad_Dataset_meta\\Helipad_Dataset_meta_original\\Folder_042\\Helipad_04273.meta\n",
      "Saved :data\\Helipad_Dataset_meta\\Helipad_Dataset_meta_original\\Folder_042\\Helipad_04274.meta\n",
      "Saved :data\\Helipad_Dataset_meta\\Helipad_Dataset_meta_original\\Folder_042\\Helipad_04275.meta\n",
      "Saved :data\\Helipad_Dataset_meta\\Helipad_Dataset_meta_original\\Folder_042\\Helipad_04276.meta\n",
      "Saved :data\\Helipad_Dataset_meta\\Helipad_Dataset_meta_original\\Folder_042\\Helipad_04277.meta\n",
      "Saved :data\\Helipad_Dataset_meta\\Helipad_Dataset_meta_original\\Folder_042\\Helipad_04278.meta\n",
      "Saved :data\\Helipad_Dataset_meta\\Helipad_Dataset_meta_original\\Folder_042\\Helipad_04279.meta\n",
      "Saved :data\\Helipad_Dataset_meta\\Helipad_Dataset_meta_original\\Folder_042\\Helipad_04280.meta\n",
      "Saved :data\\Helipad_Dataset_meta\\Helipad_Dataset_meta_original\\Folder_042\\Helipad_04281.meta\n",
      "Saved :data\\Helipad_Dataset_meta\\Helipad_Dataset_meta_original\\Folder_042\\Helipad_04282.meta\n",
      "Saved :data\\Helipad_Dataset_meta\\Helipad_Dataset_meta_original\\Folder_042\\Helipad_04283.meta\n",
      "Saved :data\\Helipad_Dataset_meta\\Helipad_Dataset_meta_original\\Folder_042\\Helipad_04284.meta\n",
      "Saved :data\\Helipad_Dataset_meta\\Helipad_Dataset_meta_original\\Folder_042\\Helipad_04285.meta\n",
      "Saved :data\\Helipad_Dataset_meta\\Helipad_Dataset_meta_original\\Folder_042\\Helipad_04286.meta\n",
      "Saved :data\\Helipad_Dataset_meta\\Helipad_Dataset_meta_original\\Folder_042\\Helipad_04287.meta\n",
      "Saved :data\\Helipad_Dataset_meta\\Helipad_Dataset_meta_original\\Folder_042\\Helipad_04288.meta\n",
      "Saved :data\\Helipad_Dataset_meta\\Helipad_Dataset_meta_original\\Folder_042\\Helipad_04289.meta\n",
      "Saved :data\\Helipad_Dataset_meta\\Helipad_Dataset_meta_original\\Folder_042\\Helipad_04290.meta\n",
      "Saved :data\\Helipad_Dataset_meta\\Helipad_Dataset_meta_original\\Folder_042\\Helipad_04291.meta\n",
      "Saved :data\\Helipad_Dataset_meta\\Helipad_Dataset_meta_original\\Folder_042\\Helipad_04292.meta\n",
      "Saved :data\\Helipad_Dataset_meta\\Helipad_Dataset_meta_original\\Folder_042\\Helipad_04293.meta\n",
      "Saved :data\\Helipad_Dataset_meta\\Helipad_Dataset_meta_original\\Folder_042\\Helipad_04294.meta\n",
      "Saved :data\\Helipad_Dataset_meta\\Helipad_Dataset_meta_original\\Folder_042\\Helipad_04295.meta\n",
      "Saved :data\\Helipad_Dataset_meta\\Helipad_Dataset_meta_original\\Folder_042\\Helipad_04296.meta\n",
      "Saved :data\\Helipad_Dataset_meta\\Helipad_Dataset_meta_original\\Folder_042\\Helipad_04297.meta\n",
      "Saved :data\\Helipad_Dataset_meta\\Helipad_Dataset_meta_original\\Folder_042\\Helipad_04298.meta\n",
      "Saved :data\\Helipad_Dataset_meta\\Helipad_Dataset_meta_original\\Folder_042\\Helipad_04299.meta\n",
      "Saved :data\\Helipad_Dataset_meta\\Helipad_Dataset_meta_original\\Folder_043\\Helipad_04300.meta\n",
      "Saved :data\\Helipad_Dataset_meta\\Helipad_Dataset_meta_original\\Folder_043\\Helipad_04301.meta\n",
      "Saved :data\\Helipad_Dataset_meta\\Helipad_Dataset_meta_original\\Folder_043\\Helipad_04302.meta\n",
      "Saved :data\\Helipad_Dataset_meta\\Helipad_Dataset_meta_original\\Folder_043\\Helipad_04303.meta\n",
      "Saved :data\\Helipad_Dataset_meta\\Helipad_Dataset_meta_original\\Folder_043\\Helipad_04304.meta\n",
      "Saved :data\\Helipad_Dataset_meta\\Helipad_Dataset_meta_original\\Folder_043\\Helipad_04305.meta\n",
      "Saved :data\\Helipad_Dataset_meta\\Helipad_Dataset_meta_original\\Folder_043\\Helipad_04306.meta\n",
      "Saved :data\\Helipad_Dataset_meta\\Helipad_Dataset_meta_original\\Folder_043\\Helipad_04307.meta\n",
      "Saved :data\\Helipad_Dataset_meta\\Helipad_Dataset_meta_original\\Folder_043\\Helipad_04308.meta\n",
      "Saved :data\\Helipad_Dataset_meta\\Helipad_Dataset_meta_original\\Folder_043\\Helipad_04309.meta\n",
      "Saved :data\\Helipad_Dataset_meta\\Helipad_Dataset_meta_original\\Folder_043\\Helipad_04310.meta\n",
      "Saved :data\\Helipad_Dataset_meta\\Helipad_Dataset_meta_original\\Folder_043\\Helipad_04311.meta\n",
      "Saved :data\\Helipad_Dataset_meta\\Helipad_Dataset_meta_original\\Folder_043\\Helipad_04312.meta\n",
      "Saved :data\\Helipad_Dataset_meta\\Helipad_Dataset_meta_original\\Folder_043\\Helipad_04313.meta\n",
      "Saved :data\\Helipad_Dataset_meta\\Helipad_Dataset_meta_original\\Folder_043\\Helipad_04314.meta\n",
      "Saved :data\\Helipad_Dataset_meta\\Helipad_Dataset_meta_original\\Folder_043\\Helipad_04315.meta\n"
     ]
    },
    {
     "name": "stdout",
     "output_type": "stream",
     "text": [
      "Saved :data\\Helipad_Dataset_meta\\Helipad_Dataset_meta_original\\Folder_043\\Helipad_04316.meta\n",
      "Saved :data\\Helipad_Dataset_meta\\Helipad_Dataset_meta_original\\Folder_043\\Helipad_04317.meta\n",
      "Saved :data\\Helipad_Dataset_meta\\Helipad_Dataset_meta_original\\Folder_043\\Helipad_04318.meta\n",
      "Saved :data\\Helipad_Dataset_meta\\Helipad_Dataset_meta_original\\Folder_043\\Helipad_04319.meta\n",
      "Saved :data\\Helipad_Dataset_meta\\Helipad_Dataset_meta_original\\Folder_043\\Helipad_04320.meta\n",
      "Saved :data\\Helipad_Dataset_meta\\Helipad_Dataset_meta_original\\Folder_043\\Helipad_04321.meta\n",
      "Saved :data\\Helipad_Dataset_meta\\Helipad_Dataset_meta_original\\Folder_043\\Helipad_04322.meta\n",
      "Saved :data\\Helipad_Dataset_meta\\Helipad_Dataset_meta_original\\Folder_043\\Helipad_04323.meta\n",
      "Saved :data\\Helipad_Dataset_meta\\Helipad_Dataset_meta_original\\Folder_043\\Helipad_04324.meta\n",
      "Saved :data\\Helipad_Dataset_meta\\Helipad_Dataset_meta_original\\Folder_043\\Helipad_04325.meta\n",
      "Saved :data\\Helipad_Dataset_meta\\Helipad_Dataset_meta_original\\Folder_043\\Helipad_04326.meta\n",
      "Saved :data\\Helipad_Dataset_meta\\Helipad_Dataset_meta_original\\Folder_043\\Helipad_04327.meta\n",
      "Saved :data\\Helipad_Dataset_meta\\Helipad_Dataset_meta_original\\Folder_043\\Helipad_04328.meta\n",
      "Saved :data\\Helipad_Dataset_meta\\Helipad_Dataset_meta_original\\Folder_043\\Helipad_04329.meta\n",
      "Saved :data\\Helipad_Dataset_meta\\Helipad_Dataset_meta_original\\Folder_043\\Helipad_04330.meta\n",
      "Saved :data\\Helipad_Dataset_meta\\Helipad_Dataset_meta_original\\Folder_043\\Helipad_04331.meta\n",
      "Saved :data\\Helipad_Dataset_meta\\Helipad_Dataset_meta_original\\Folder_043\\Helipad_04332.meta\n",
      "Saved :data\\Helipad_Dataset_meta\\Helipad_Dataset_meta_original\\Folder_043\\Helipad_04333.meta\n",
      "Saved :data\\Helipad_Dataset_meta\\Helipad_Dataset_meta_original\\Folder_043\\Helipad_04334.meta\n",
      "Saved :data\\Helipad_Dataset_meta\\Helipad_Dataset_meta_original\\Folder_043\\Helipad_04335.meta\n",
      "Saved :data\\Helipad_Dataset_meta\\Helipad_Dataset_meta_original\\Folder_043\\Helipad_04336.meta\n",
      "Saved :data\\Helipad_Dataset_meta\\Helipad_Dataset_meta_original\\Folder_043\\Helipad_04337.meta\n",
      "Saved :data\\Helipad_Dataset_meta\\Helipad_Dataset_meta_original\\Folder_043\\Helipad_04338.meta\n",
      "Saved :data\\Helipad_Dataset_meta\\Helipad_Dataset_meta_original\\Folder_043\\Helipad_04339.meta\n",
      "Saved :data\\Helipad_Dataset_meta\\Helipad_Dataset_meta_original\\Folder_043\\Helipad_04340.meta\n",
      "Saved :data\\Helipad_Dataset_meta\\Helipad_Dataset_meta_original\\Folder_043\\Helipad_04341.meta\n",
      "Saved :data\\Helipad_Dataset_meta\\Helipad_Dataset_meta_original\\Folder_043\\Helipad_04342.meta\n",
      "Saved :data\\Helipad_Dataset_meta\\Helipad_Dataset_meta_original\\Folder_043\\Helipad_04343.meta\n",
      "Saved :data\\Helipad_Dataset_meta\\Helipad_Dataset_meta_original\\Folder_043\\Helipad_04344.meta\n",
      "Saved :data\\Helipad_Dataset_meta\\Helipad_Dataset_meta_original\\Folder_043\\Helipad_04345.meta\n",
      "Saved :data\\Helipad_Dataset_meta\\Helipad_Dataset_meta_original\\Folder_043\\Helipad_04346.meta\n",
      "Saved :data\\Helipad_Dataset_meta\\Helipad_Dataset_meta_original\\Folder_043\\Helipad_04347.meta\n",
      "Saved :data\\Helipad_Dataset_meta\\Helipad_Dataset_meta_original\\Folder_043\\Helipad_04348.meta\n",
      "Saved :data\\Helipad_Dataset_meta\\Helipad_Dataset_meta_original\\Folder_043\\Helipad_04349.meta\n",
      "Saved :data\\Helipad_Dataset_meta\\Helipad_Dataset_meta_original\\Folder_043\\Helipad_04350.meta\n",
      "Saved :data\\Helipad_Dataset_meta\\Helipad_Dataset_meta_original\\Folder_043\\Helipad_04351.meta\n",
      "Saved :data\\Helipad_Dataset_meta\\Helipad_Dataset_meta_original\\Folder_043\\Helipad_04352.meta\n",
      "Saved :data\\Helipad_Dataset_meta\\Helipad_Dataset_meta_original\\Folder_043\\Helipad_04353.meta\n",
      "Saved :data\\Helipad_Dataset_meta\\Helipad_Dataset_meta_original\\Folder_043\\Helipad_04354.meta\n",
      "Saved :data\\Helipad_Dataset_meta\\Helipad_Dataset_meta_original\\Folder_043\\Helipad_04355.meta\n",
      "Saved :data\\Helipad_Dataset_meta\\Helipad_Dataset_meta_original\\Folder_043\\Helipad_04356.meta\n",
      "Saved :data\\Helipad_Dataset_meta\\Helipad_Dataset_meta_original\\Folder_043\\Helipad_04357.meta\n",
      "Saved :data\\Helipad_Dataset_meta\\Helipad_Dataset_meta_original\\Folder_043\\Helipad_04358.meta\n",
      "Saved :data\\Helipad_Dataset_meta\\Helipad_Dataset_meta_original\\Folder_043\\Helipad_04359.meta\n",
      "Saved :data\\Helipad_Dataset_meta\\Helipad_Dataset_meta_original\\Folder_043\\Helipad_04360.meta\n",
      "Saved :data\\Helipad_Dataset_meta\\Helipad_Dataset_meta_original\\Folder_043\\Helipad_04361.meta\n",
      "Saved :data\\Helipad_Dataset_meta\\Helipad_Dataset_meta_original\\Folder_043\\Helipad_04362.meta\n",
      "Saved :data\\Helipad_Dataset_meta\\Helipad_Dataset_meta_original\\Folder_043\\Helipad_04363.meta\n",
      "Saved :data\\Helipad_Dataset_meta\\Helipad_Dataset_meta_original\\Folder_043\\Helipad_04364.meta\n",
      "Saved :data\\Helipad_Dataset_meta\\Helipad_Dataset_meta_original\\Folder_043\\Helipad_04365.meta\n",
      "Saved :data\\Helipad_Dataset_meta\\Helipad_Dataset_meta_original\\Folder_043\\Helipad_04366.meta\n",
      "Saved :data\\Helipad_Dataset_meta\\Helipad_Dataset_meta_original\\Folder_043\\Helipad_04367.meta\n",
      "Saved :data\\Helipad_Dataset_meta\\Helipad_Dataset_meta_original\\Folder_043\\Helipad_04368.meta\n",
      "Saved :data\\Helipad_Dataset_meta\\Helipad_Dataset_meta_original\\Folder_043\\Helipad_04369.meta\n",
      "Saved :data\\Helipad_Dataset_meta\\Helipad_Dataset_meta_original\\Folder_043\\Helipad_04370.meta\n",
      "Saved :data\\Helipad_Dataset_meta\\Helipad_Dataset_meta_original\\Folder_043\\Helipad_04371.meta\n",
      "Saved :data\\Helipad_Dataset_meta\\Helipad_Dataset_meta_original\\Folder_043\\Helipad_04372.meta\n",
      "Saved :data\\Helipad_Dataset_meta\\Helipad_Dataset_meta_original\\Folder_043\\Helipad_04373.meta\n",
      "Saved :data\\Helipad_Dataset_meta\\Helipad_Dataset_meta_original\\Folder_043\\Helipad_04374.meta\n",
      "Saved :data\\Helipad_Dataset_meta\\Helipad_Dataset_meta_original\\Folder_043\\Helipad_04375.meta\n",
      "Saved :data\\Helipad_Dataset_meta\\Helipad_Dataset_meta_original\\Folder_043\\Helipad_04376.meta\n",
      "Saved :data\\Helipad_Dataset_meta\\Helipad_Dataset_meta_original\\Folder_043\\Helipad_04377.meta\n",
      "Saved :data\\Helipad_Dataset_meta\\Helipad_Dataset_meta_original\\Folder_043\\Helipad_04378.meta\n",
      "Saved :data\\Helipad_Dataset_meta\\Helipad_Dataset_meta_original\\Folder_043\\Helipad_04379.meta\n",
      "Saved :data\\Helipad_Dataset_meta\\Helipad_Dataset_meta_original\\Folder_043\\Helipad_04380.meta\n",
      "Saved :data\\Helipad_Dataset_meta\\Helipad_Dataset_meta_original\\Folder_043\\Helipad_04381.meta\n",
      "Saved :data\\Helipad_Dataset_meta\\Helipad_Dataset_meta_original\\Folder_043\\Helipad_04382.meta\n",
      "Saved :data\\Helipad_Dataset_meta\\Helipad_Dataset_meta_original\\Folder_043\\Helipad_04383.meta\n",
      "Saved :data\\Helipad_Dataset_meta\\Helipad_Dataset_meta_original\\Folder_043\\Helipad_04384.meta\n",
      "Saved :data\\Helipad_Dataset_meta\\Helipad_Dataset_meta_original\\Folder_043\\Helipad_04385.meta\n",
      "Saved :data\\Helipad_Dataset_meta\\Helipad_Dataset_meta_original\\Folder_043\\Helipad_04386.meta\n",
      "Saved :data\\Helipad_Dataset_meta\\Helipad_Dataset_meta_original\\Folder_043\\Helipad_04387.meta\n",
      "Saved :data\\Helipad_Dataset_meta\\Helipad_Dataset_meta_original\\Folder_043\\Helipad_04388.meta\n",
      "Saved :data\\Helipad_Dataset_meta\\Helipad_Dataset_meta_original\\Folder_043\\Helipad_04389.meta\n",
      "Saved :data\\Helipad_Dataset_meta\\Helipad_Dataset_meta_original\\Folder_043\\Helipad_04390.meta\n",
      "Saved :data\\Helipad_Dataset_meta\\Helipad_Dataset_meta_original\\Folder_043\\Helipad_04391.meta\n",
      "Saved :data\\Helipad_Dataset_meta\\Helipad_Dataset_meta_original\\Folder_043\\Helipad_04392.meta\n",
      "Saved :data\\Helipad_Dataset_meta\\Helipad_Dataset_meta_original\\Folder_043\\Helipad_04393.meta\n",
      "Saved :data\\Helipad_Dataset_meta\\Helipad_Dataset_meta_original\\Folder_043\\Helipad_04394.meta\n",
      "Saved :data\\Helipad_Dataset_meta\\Helipad_Dataset_meta_original\\Folder_043\\Helipad_04395.meta\n",
      "Saved :data\\Helipad_Dataset_meta\\Helipad_Dataset_meta_original\\Folder_043\\Helipad_04396.meta\n",
      "Saved :data\\Helipad_Dataset_meta\\Helipad_Dataset_meta_original\\Folder_043\\Helipad_04397.meta\n",
      "Saved :data\\Helipad_Dataset_meta\\Helipad_Dataset_meta_original\\Folder_043\\Helipad_04398.meta\n",
      "Saved :data\\Helipad_Dataset_meta\\Helipad_Dataset_meta_original\\Folder_043\\Helipad_04399.meta\n",
      "Saved :data\\Helipad_Dataset_meta\\Helipad_Dataset_meta_original\\Folder_044\\Helipad_04400.meta\n",
      "Saved :data\\Helipad_Dataset_meta\\Helipad_Dataset_meta_original\\Folder_044\\Helipad_04401.meta\n",
      "Saved :data\\Helipad_Dataset_meta\\Helipad_Dataset_meta_original\\Folder_044\\Helipad_04402.meta\n",
      "Saved :data\\Helipad_Dataset_meta\\Helipad_Dataset_meta_original\\Folder_044\\Helipad_04403.meta\n",
      "Saved :data\\Helipad_Dataset_meta\\Helipad_Dataset_meta_original\\Folder_044\\Helipad_04404.meta\n",
      "Saved :data\\Helipad_Dataset_meta\\Helipad_Dataset_meta_original\\Folder_044\\Helipad_04405.meta\n",
      "Saved :data\\Helipad_Dataset_meta\\Helipad_Dataset_meta_original\\Folder_044\\Helipad_04406.meta\n",
      "Saved :data\\Helipad_Dataset_meta\\Helipad_Dataset_meta_original\\Folder_044\\Helipad_04407.meta\n",
      "Saved :data\\Helipad_Dataset_meta\\Helipad_Dataset_meta_original\\Folder_044\\Helipad_04408.meta\n",
      "Saved :data\\Helipad_Dataset_meta\\Helipad_Dataset_meta_original\\Folder_044\\Helipad_04409.meta\n",
      "Saved :data\\Helipad_Dataset_meta\\Helipad_Dataset_meta_original\\Folder_044\\Helipad_04410.meta\n",
      "Saved :data\\Helipad_Dataset_meta\\Helipad_Dataset_meta_original\\Folder_044\\Helipad_04411.meta\n",
      "Saved :data\\Helipad_Dataset_meta\\Helipad_Dataset_meta_original\\Folder_044\\Helipad_04412.meta\n",
      "Saved :data\\Helipad_Dataset_meta\\Helipad_Dataset_meta_original\\Folder_044\\Helipad_04413.meta\n",
      "Saved :data\\Helipad_Dataset_meta\\Helipad_Dataset_meta_original\\Folder_044\\Helipad_04414.meta\n",
      "Saved :data\\Helipad_Dataset_meta\\Helipad_Dataset_meta_original\\Folder_044\\Helipad_04415.meta\n",
      "Saved :data\\Helipad_Dataset_meta\\Helipad_Dataset_meta_original\\Folder_044\\Helipad_04416.meta\n",
      "Saved :data\\Helipad_Dataset_meta\\Helipad_Dataset_meta_original\\Folder_044\\Helipad_04417.meta\n",
      "Saved :data\\Helipad_Dataset_meta\\Helipad_Dataset_meta_original\\Folder_044\\Helipad_04418.meta\n",
      "Saved :data\\Helipad_Dataset_meta\\Helipad_Dataset_meta_original\\Folder_044\\Helipad_04419.meta\n",
      "Saved :data\\Helipad_Dataset_meta\\Helipad_Dataset_meta_original\\Folder_044\\Helipad_04420.meta\n",
      "Saved :data\\Helipad_Dataset_meta\\Helipad_Dataset_meta_original\\Folder_044\\Helipad_04421.meta\n",
      "Saved :data\\Helipad_Dataset_meta\\Helipad_Dataset_meta_original\\Folder_044\\Helipad_04422.meta\n",
      "Saved :data\\Helipad_Dataset_meta\\Helipad_Dataset_meta_original\\Folder_044\\Helipad_04423.meta\n",
      "Saved :data\\Helipad_Dataset_meta\\Helipad_Dataset_meta_original\\Folder_044\\Helipad_04424.meta\n",
      "Saved :data\\Helipad_Dataset_meta\\Helipad_Dataset_meta_original\\Folder_044\\Helipad_04425.meta\n",
      "Saved :data\\Helipad_Dataset_meta\\Helipad_Dataset_meta_original\\Folder_044\\Helipad_04426.meta\n",
      "Saved :data\\Helipad_Dataset_meta\\Helipad_Dataset_meta_original\\Folder_044\\Helipad_04427.meta\n",
      "Saved :data\\Helipad_Dataset_meta\\Helipad_Dataset_meta_original\\Folder_044\\Helipad_04428.meta\n",
      "Saved :data\\Helipad_Dataset_meta\\Helipad_Dataset_meta_original\\Folder_044\\Helipad_04429.meta\n",
      "Saved :data\\Helipad_Dataset_meta\\Helipad_Dataset_meta_original\\Folder_044\\Helipad_04430.meta\n",
      "Saved :data\\Helipad_Dataset_meta\\Helipad_Dataset_meta_original\\Folder_044\\Helipad_04431.meta\n",
      "Saved :data\\Helipad_Dataset_meta\\Helipad_Dataset_meta_original\\Folder_044\\Helipad_04432.meta\n",
      "Saved :data\\Helipad_Dataset_meta\\Helipad_Dataset_meta_original\\Folder_044\\Helipad_04433.meta\n",
      "Saved :data\\Helipad_Dataset_meta\\Helipad_Dataset_meta_original\\Folder_044\\Helipad_04434.meta\n",
      "Saved :data\\Helipad_Dataset_meta\\Helipad_Dataset_meta_original\\Folder_044\\Helipad_04435.meta\n",
      "Saved :data\\Helipad_Dataset_meta\\Helipad_Dataset_meta_original\\Folder_044\\Helipad_04436.meta\n",
      "Saved :data\\Helipad_Dataset_meta\\Helipad_Dataset_meta_original\\Folder_044\\Helipad_04437.meta\n",
      "Saved :data\\Helipad_Dataset_meta\\Helipad_Dataset_meta_original\\Folder_044\\Helipad_04438.meta\n",
      "Saved :data\\Helipad_Dataset_meta\\Helipad_Dataset_meta_original\\Folder_044\\Helipad_04439.meta\n",
      "Saved :data\\Helipad_Dataset_meta\\Helipad_Dataset_meta_original\\Folder_044\\Helipad_04440.meta\n",
      "Saved :data\\Helipad_Dataset_meta\\Helipad_Dataset_meta_original\\Folder_044\\Helipad_04441.meta\n",
      "Saved :data\\Helipad_Dataset_meta\\Helipad_Dataset_meta_original\\Folder_044\\Helipad_04442.meta\n",
      "Saved :data\\Helipad_Dataset_meta\\Helipad_Dataset_meta_original\\Folder_044\\Helipad_04443.meta\n",
      "Saved :data\\Helipad_Dataset_meta\\Helipad_Dataset_meta_original\\Folder_044\\Helipad_04444.meta\n",
      "Saved :data\\Helipad_Dataset_meta\\Helipad_Dataset_meta_original\\Folder_044\\Helipad_04445.meta\n",
      "Saved :data\\Helipad_Dataset_meta\\Helipad_Dataset_meta_original\\Folder_044\\Helipad_04446.meta\n",
      "Saved :data\\Helipad_Dataset_meta\\Helipad_Dataset_meta_original\\Folder_044\\Helipad_04447.meta\n",
      "Saved :data\\Helipad_Dataset_meta\\Helipad_Dataset_meta_original\\Folder_044\\Helipad_04448.meta\n",
      "Saved :data\\Helipad_Dataset_meta\\Helipad_Dataset_meta_original\\Folder_044\\Helipad_04449.meta\n",
      "Saved :data\\Helipad_Dataset_meta\\Helipad_Dataset_meta_original\\Folder_044\\Helipad_04450.meta\n",
      "Saved :data\\Helipad_Dataset_meta\\Helipad_Dataset_meta_original\\Folder_044\\Helipad_04451.meta\n",
      "Saved :data\\Helipad_Dataset_meta\\Helipad_Dataset_meta_original\\Folder_044\\Helipad_04452.meta\n",
      "Saved :data\\Helipad_Dataset_meta\\Helipad_Dataset_meta_original\\Folder_044\\Helipad_04453.meta\n",
      "Saved :data\\Helipad_Dataset_meta\\Helipad_Dataset_meta_original\\Folder_044\\Helipad_04454.meta\n",
      "Saved :data\\Helipad_Dataset_meta\\Helipad_Dataset_meta_original\\Folder_044\\Helipad_04455.meta\n",
      "Saved :data\\Helipad_Dataset_meta\\Helipad_Dataset_meta_original\\Folder_044\\Helipad_04456.meta\n",
      "Saved :data\\Helipad_Dataset_meta\\Helipad_Dataset_meta_original\\Folder_044\\Helipad_04457.meta\n",
      "Saved :data\\Helipad_Dataset_meta\\Helipad_Dataset_meta_original\\Folder_044\\Helipad_04458.meta\n",
      "Saved :data\\Helipad_Dataset_meta\\Helipad_Dataset_meta_original\\Folder_044\\Helipad_04459.meta\n",
      "Saved :data\\Helipad_Dataset_meta\\Helipad_Dataset_meta_original\\Folder_044\\Helipad_04460.meta\n",
      "Saved :data\\Helipad_Dataset_meta\\Helipad_Dataset_meta_original\\Folder_044\\Helipad_04461.meta\n",
      "Saved :data\\Helipad_Dataset_meta\\Helipad_Dataset_meta_original\\Folder_044\\Helipad_04462.meta\n",
      "Saved :data\\Helipad_Dataset_meta\\Helipad_Dataset_meta_original\\Folder_044\\Helipad_04463.meta\n",
      "Saved :data\\Helipad_Dataset_meta\\Helipad_Dataset_meta_original\\Folder_044\\Helipad_04464.meta\n",
      "Saved :data\\Helipad_Dataset_meta\\Helipad_Dataset_meta_original\\Folder_044\\Helipad_04465.meta\n",
      "Saved :data\\Helipad_Dataset_meta\\Helipad_Dataset_meta_original\\Folder_044\\Helipad_04466.meta\n",
      "Saved :data\\Helipad_Dataset_meta\\Helipad_Dataset_meta_original\\Folder_044\\Helipad_04467.meta\n",
      "Saved :data\\Helipad_Dataset_meta\\Helipad_Dataset_meta_original\\Folder_044\\Helipad_04468.meta\n",
      "Saved :data\\Helipad_Dataset_meta\\Helipad_Dataset_meta_original\\Folder_044\\Helipad_04469.meta\n",
      "Saved :data\\Helipad_Dataset_meta\\Helipad_Dataset_meta_original\\Folder_044\\Helipad_04470.meta\n",
      "Saved :data\\Helipad_Dataset_meta\\Helipad_Dataset_meta_original\\Folder_044\\Helipad_04471.meta\n",
      "Saved :data\\Helipad_Dataset_meta\\Helipad_Dataset_meta_original\\Folder_044\\Helipad_04472.meta\n",
      "Saved :data\\Helipad_Dataset_meta\\Helipad_Dataset_meta_original\\Folder_044\\Helipad_04473.meta\n",
      "Saved :data\\Helipad_Dataset_meta\\Helipad_Dataset_meta_original\\Folder_044\\Helipad_04474.meta\n"
     ]
    },
    {
     "name": "stdout",
     "output_type": "stream",
     "text": [
      "Saved :data\\Helipad_Dataset_meta\\Helipad_Dataset_meta_original\\Folder_044\\Helipad_04475.meta\n",
      "Saved :data\\Helipad_Dataset_meta\\Helipad_Dataset_meta_original\\Folder_044\\Helipad_04476.meta\n",
      "Saved :data\\Helipad_Dataset_meta\\Helipad_Dataset_meta_original\\Folder_044\\Helipad_04477.meta\n",
      "Saved :data\\Helipad_Dataset_meta\\Helipad_Dataset_meta_original\\Folder_044\\Helipad_04478.meta\n",
      "Saved :data\\Helipad_Dataset_meta\\Helipad_Dataset_meta_original\\Folder_044\\Helipad_04479.meta\n",
      "Saved :data\\Helipad_Dataset_meta\\Helipad_Dataset_meta_original\\Folder_044\\Helipad_04480.meta\n",
      "Saved :data\\Helipad_Dataset_meta\\Helipad_Dataset_meta_original\\Folder_044\\Helipad_04481.meta\n",
      "Saved :data\\Helipad_Dataset_meta\\Helipad_Dataset_meta_original\\Folder_044\\Helipad_04482.meta\n",
      "Saved :data\\Helipad_Dataset_meta\\Helipad_Dataset_meta_original\\Folder_044\\Helipad_04483.meta\n",
      "Saved :data\\Helipad_Dataset_meta\\Helipad_Dataset_meta_original\\Folder_044\\Helipad_04484.meta\n",
      "Saved :data\\Helipad_Dataset_meta\\Helipad_Dataset_meta_original\\Folder_044\\Helipad_04485.meta\n",
      "Saved :data\\Helipad_Dataset_meta\\Helipad_Dataset_meta_original\\Folder_044\\Helipad_04486.meta\n",
      "Saved :data\\Helipad_Dataset_meta\\Helipad_Dataset_meta_original\\Folder_044\\Helipad_04487.meta\n",
      "Saved :data\\Helipad_Dataset_meta\\Helipad_Dataset_meta_original\\Folder_044\\Helipad_04488.meta\n",
      "Saved :data\\Helipad_Dataset_meta\\Helipad_Dataset_meta_original\\Folder_044\\Helipad_04489.meta\n",
      "Saved :data\\Helipad_Dataset_meta\\Helipad_Dataset_meta_original\\Folder_044\\Helipad_04490.meta\n",
      "Saved :data\\Helipad_Dataset_meta\\Helipad_Dataset_meta_original\\Folder_044\\Helipad_04491.meta\n",
      "Saved :data\\Helipad_Dataset_meta\\Helipad_Dataset_meta_original\\Folder_044\\Helipad_04492.meta\n",
      "Saved :data\\Helipad_Dataset_meta\\Helipad_Dataset_meta_original\\Folder_044\\Helipad_04493.meta\n",
      "Saved :data\\Helipad_Dataset_meta\\Helipad_Dataset_meta_original\\Folder_044\\Helipad_04494.meta\n",
      "Saved :data\\Helipad_Dataset_meta\\Helipad_Dataset_meta_original\\Folder_044\\Helipad_04495.meta\n",
      "Saved :data\\Helipad_Dataset_meta\\Helipad_Dataset_meta_original\\Folder_044\\Helipad_04496.meta\n",
      "Saved :data\\Helipad_Dataset_meta\\Helipad_Dataset_meta_original\\Folder_044\\Helipad_04497.meta\n",
      "Saved :data\\Helipad_Dataset_meta\\Helipad_Dataset_meta_original\\Folder_044\\Helipad_04498.meta\n",
      "Saved :data\\Helipad_Dataset_meta\\Helipad_Dataset_meta_original\\Folder_044\\Helipad_04499.meta\n",
      "Saved :data\\Helipad_Dataset_meta\\Helipad_Dataset_meta_original\\Folder_045\\Helipad_04500.meta\n",
      "Saved :data\\Helipad_Dataset_meta\\Helipad_Dataset_meta_original\\Folder_045\\Helipad_04501.meta\n",
      "Saved :data\\Helipad_Dataset_meta\\Helipad_Dataset_meta_original\\Folder_045\\Helipad_04502.meta\n",
      "Saved :data\\Helipad_Dataset_meta\\Helipad_Dataset_meta_original\\Folder_045\\Helipad_04503.meta\n",
      "Saved :data\\Helipad_Dataset_meta\\Helipad_Dataset_meta_original\\Folder_045\\Helipad_04504.meta\n",
      "Saved :data\\Helipad_Dataset_meta\\Helipad_Dataset_meta_original\\Folder_045\\Helipad_04505.meta\n",
      "Saved :data\\Helipad_Dataset_meta\\Helipad_Dataset_meta_original\\Folder_045\\Helipad_04506.meta\n",
      "Saved :data\\Helipad_Dataset_meta\\Helipad_Dataset_meta_original\\Folder_045\\Helipad_04507.meta\n",
      "Saved :data\\Helipad_Dataset_meta\\Helipad_Dataset_meta_original\\Folder_045\\Helipad_04508.meta\n",
      "Saved :data\\Helipad_Dataset_meta\\Helipad_Dataset_meta_original\\Folder_045\\Helipad_04509.meta\n",
      "Saved :data\\Helipad_Dataset_meta\\Helipad_Dataset_meta_original\\Folder_045\\Helipad_04510.meta\n",
      "Saved :data\\Helipad_Dataset_meta\\Helipad_Dataset_meta_original\\Folder_045\\Helipad_04511.meta\n",
      "Saved :data\\Helipad_Dataset_meta\\Helipad_Dataset_meta_original\\Folder_045\\Helipad_04512.meta\n",
      "Saved :data\\Helipad_Dataset_meta\\Helipad_Dataset_meta_original\\Folder_045\\Helipad_04513.meta\n",
      "Saved :data\\Helipad_Dataset_meta\\Helipad_Dataset_meta_original\\Folder_045\\Helipad_04514.meta\n",
      "Saved :data\\Helipad_Dataset_meta\\Helipad_Dataset_meta_original\\Folder_045\\Helipad_04515.meta\n",
      "Saved :data\\Helipad_Dataset_meta\\Helipad_Dataset_meta_original\\Folder_045\\Helipad_04516.meta\n",
      "Saved :data\\Helipad_Dataset_meta\\Helipad_Dataset_meta_original\\Folder_045\\Helipad_04517.meta\n",
      "Saved :data\\Helipad_Dataset_meta\\Helipad_Dataset_meta_original\\Folder_045\\Helipad_04518.meta\n",
      "Saved :data\\Helipad_Dataset_meta\\Helipad_Dataset_meta_original\\Folder_045\\Helipad_04519.meta\n",
      "Saved :data\\Helipad_Dataset_meta\\Helipad_Dataset_meta_original\\Folder_045\\Helipad_04520.meta\n",
      "Saved :data\\Helipad_Dataset_meta\\Helipad_Dataset_meta_original\\Folder_045\\Helipad_04521.meta\n",
      "Saved :data\\Helipad_Dataset_meta\\Helipad_Dataset_meta_original\\Folder_045\\Helipad_04522.meta\n",
      "Saved :data\\Helipad_Dataset_meta\\Helipad_Dataset_meta_original\\Folder_045\\Helipad_04523.meta\n",
      "Saved :data\\Helipad_Dataset_meta\\Helipad_Dataset_meta_original\\Folder_045\\Helipad_04524.meta\n",
      "Saved :data\\Helipad_Dataset_meta\\Helipad_Dataset_meta_original\\Folder_045\\Helipad_04525.meta\n",
      "Saved :data\\Helipad_Dataset_meta\\Helipad_Dataset_meta_original\\Folder_045\\Helipad_04526.meta\n",
      "Saved :data\\Helipad_Dataset_meta\\Helipad_Dataset_meta_original\\Folder_045\\Helipad_04527.meta\n",
      "Saved :data\\Helipad_Dataset_meta\\Helipad_Dataset_meta_original\\Folder_045\\Helipad_04528.meta\n",
      "Saved :data\\Helipad_Dataset_meta\\Helipad_Dataset_meta_original\\Folder_045\\Helipad_04529.meta\n",
      "Saved :data\\Helipad_Dataset_meta\\Helipad_Dataset_meta_original\\Folder_045\\Helipad_04530.meta\n",
      "Saved :data\\Helipad_Dataset_meta\\Helipad_Dataset_meta_original\\Folder_045\\Helipad_04531.meta\n",
      "Saved :data\\Helipad_Dataset_meta\\Helipad_Dataset_meta_original\\Folder_045\\Helipad_04532.meta\n",
      "Saved :data\\Helipad_Dataset_meta\\Helipad_Dataset_meta_original\\Folder_045\\Helipad_04533.meta\n",
      "Saved :data\\Helipad_Dataset_meta\\Helipad_Dataset_meta_original\\Folder_045\\Helipad_04534.meta\n",
      "Saved :data\\Helipad_Dataset_meta\\Helipad_Dataset_meta_original\\Folder_045\\Helipad_04535.meta\n",
      "Saved :data\\Helipad_Dataset_meta\\Helipad_Dataset_meta_original\\Folder_045\\Helipad_04536.meta\n",
      "Saved :data\\Helipad_Dataset_meta\\Helipad_Dataset_meta_original\\Folder_045\\Helipad_04537.meta\n",
      "Saved :data\\Helipad_Dataset_meta\\Helipad_Dataset_meta_original\\Folder_045\\Helipad_04538.meta\n",
      "Saved :data\\Helipad_Dataset_meta\\Helipad_Dataset_meta_original\\Folder_045\\Helipad_04539.meta\n",
      "Saved :data\\Helipad_Dataset_meta\\Helipad_Dataset_meta_original\\Folder_045\\Helipad_04540.meta\n",
      "Saved :data\\Helipad_Dataset_meta\\Helipad_Dataset_meta_original\\Folder_045\\Helipad_04541.meta\n",
      "Saved :data\\Helipad_Dataset_meta\\Helipad_Dataset_meta_original\\Folder_045\\Helipad_04542.meta\n",
      "Saved :data\\Helipad_Dataset_meta\\Helipad_Dataset_meta_original\\Folder_045\\Helipad_04543.meta\n",
      "Saved :data\\Helipad_Dataset_meta\\Helipad_Dataset_meta_original\\Folder_045\\Helipad_04544.meta\n",
      "Saved :data\\Helipad_Dataset_meta\\Helipad_Dataset_meta_original\\Folder_045\\Helipad_04545.meta\n",
      "Saved :data\\Helipad_Dataset_meta\\Helipad_Dataset_meta_original\\Folder_045\\Helipad_04546.meta\n",
      "Saved :data\\Helipad_Dataset_meta\\Helipad_Dataset_meta_original\\Folder_045\\Helipad_04547.meta\n",
      "Saved :data\\Helipad_Dataset_meta\\Helipad_Dataset_meta_original\\Folder_045\\Helipad_04548.meta\n",
      "Saved :data\\Helipad_Dataset_meta\\Helipad_Dataset_meta_original\\Folder_045\\Helipad_04549.meta\n",
      "Saved :data\\Helipad_Dataset_meta\\Helipad_Dataset_meta_original\\Folder_045\\Helipad_04550.meta\n",
      "Saved :data\\Helipad_Dataset_meta\\Helipad_Dataset_meta_original\\Folder_045\\Helipad_04551.meta\n",
      "Saved :data\\Helipad_Dataset_meta\\Helipad_Dataset_meta_original\\Folder_045\\Helipad_04552.meta\n",
      "Saved :data\\Helipad_Dataset_meta\\Helipad_Dataset_meta_original\\Folder_045\\Helipad_04553.meta\n",
      "Saved :data\\Helipad_Dataset_meta\\Helipad_Dataset_meta_original\\Folder_045\\Helipad_04554.meta\n",
      "Saved :data\\Helipad_Dataset_meta\\Helipad_Dataset_meta_original\\Folder_045\\Helipad_04555.meta\n",
      "Saved :data\\Helipad_Dataset_meta\\Helipad_Dataset_meta_original\\Folder_045\\Helipad_04556.meta\n",
      "Saved :data\\Helipad_Dataset_meta\\Helipad_Dataset_meta_original\\Folder_045\\Helipad_04557.meta\n",
      "Saved :data\\Helipad_Dataset_meta\\Helipad_Dataset_meta_original\\Folder_045\\Helipad_04558.meta\n",
      "Saved :data\\Helipad_Dataset_meta\\Helipad_Dataset_meta_original\\Folder_045\\Helipad_04559.meta\n",
      "Saved :data\\Helipad_Dataset_meta\\Helipad_Dataset_meta_original\\Folder_045\\Helipad_04560.meta\n",
      "Saved :data\\Helipad_Dataset_meta\\Helipad_Dataset_meta_original\\Folder_045\\Helipad_04561.meta\n",
      "Saved :data\\Helipad_Dataset_meta\\Helipad_Dataset_meta_original\\Folder_045\\Helipad_04562.meta\n",
      "Saved :data\\Helipad_Dataset_meta\\Helipad_Dataset_meta_original\\Folder_045\\Helipad_04563.meta\n",
      "Saved :data\\Helipad_Dataset_meta\\Helipad_Dataset_meta_original\\Folder_045\\Helipad_04564.meta\n",
      "Saved :data\\Helipad_Dataset_meta\\Helipad_Dataset_meta_original\\Folder_045\\Helipad_04565.meta\n",
      "Saved :data\\Helipad_Dataset_meta\\Helipad_Dataset_meta_original\\Folder_045\\Helipad_04566.meta\n",
      "Saved :data\\Helipad_Dataset_meta\\Helipad_Dataset_meta_original\\Folder_045\\Helipad_04567.meta\n",
      "Saved :data\\Helipad_Dataset_meta\\Helipad_Dataset_meta_original\\Folder_045\\Helipad_04568.meta\n",
      "Saved :data\\Helipad_Dataset_meta\\Helipad_Dataset_meta_original\\Folder_045\\Helipad_04569.meta\n",
      "Saved :data\\Helipad_Dataset_meta\\Helipad_Dataset_meta_original\\Folder_045\\Helipad_04570.meta\n",
      "Saved :data\\Helipad_Dataset_meta\\Helipad_Dataset_meta_original\\Folder_045\\Helipad_04571.meta\n",
      "Saved :data\\Helipad_Dataset_meta\\Helipad_Dataset_meta_original\\Folder_045\\Helipad_04572.meta\n",
      "Saved :data\\Helipad_Dataset_meta\\Helipad_Dataset_meta_original\\Folder_045\\Helipad_04573.meta\n",
      "Saved :data\\Helipad_Dataset_meta\\Helipad_Dataset_meta_original\\Folder_045\\Helipad_04574.meta\n",
      "Saved :data\\Helipad_Dataset_meta\\Helipad_Dataset_meta_original\\Folder_045\\Helipad_04575.meta\n",
      "Saved :data\\Helipad_Dataset_meta\\Helipad_Dataset_meta_original\\Folder_045\\Helipad_04576.meta\n",
      "Saved :data\\Helipad_Dataset_meta\\Helipad_Dataset_meta_original\\Folder_045\\Helipad_04577.meta\n",
      "Saved :data\\Helipad_Dataset_meta\\Helipad_Dataset_meta_original\\Folder_045\\Helipad_04578.meta\n",
      "Saved :data\\Helipad_Dataset_meta\\Helipad_Dataset_meta_original\\Folder_045\\Helipad_04579.meta\n",
      "Saved :data\\Helipad_Dataset_meta\\Helipad_Dataset_meta_original\\Folder_045\\Helipad_04580.meta\n",
      "Saved :data\\Helipad_Dataset_meta\\Helipad_Dataset_meta_original\\Folder_045\\Helipad_04581.meta\n",
      "Saved :data\\Helipad_Dataset_meta\\Helipad_Dataset_meta_original\\Folder_045\\Helipad_04582.meta\n",
      "Saved :data\\Helipad_Dataset_meta\\Helipad_Dataset_meta_original\\Folder_045\\Helipad_04583.meta\n",
      "Saved :data\\Helipad_Dataset_meta\\Helipad_Dataset_meta_original\\Folder_045\\Helipad_04584.meta\n",
      "Saved :data\\Helipad_Dataset_meta\\Helipad_Dataset_meta_original\\Folder_045\\Helipad_04585.meta\n",
      "Saved :data\\Helipad_Dataset_meta\\Helipad_Dataset_meta_original\\Folder_045\\Helipad_04586.meta\n",
      "Saved :data\\Helipad_Dataset_meta\\Helipad_Dataset_meta_original\\Folder_045\\Helipad_04587.meta\n",
      "Saved :data\\Helipad_Dataset_meta\\Helipad_Dataset_meta_original\\Folder_045\\Helipad_04588.meta\n",
      "Saved :data\\Helipad_Dataset_meta\\Helipad_Dataset_meta_original\\Folder_045\\Helipad_04589.meta\n",
      "Saved :data\\Helipad_Dataset_meta\\Helipad_Dataset_meta_original\\Folder_045\\Helipad_04590.meta\n",
      "Saved :data\\Helipad_Dataset_meta\\Helipad_Dataset_meta_original\\Folder_045\\Helipad_04591.meta\n",
      "Saved :data\\Helipad_Dataset_meta\\Helipad_Dataset_meta_original\\Folder_045\\Helipad_04592.meta\n",
      "Saved :data\\Helipad_Dataset_meta\\Helipad_Dataset_meta_original\\Folder_045\\Helipad_04593.meta\n",
      "Saved :data\\Helipad_Dataset_meta\\Helipad_Dataset_meta_original\\Folder_045\\Helipad_04594.meta\n",
      "Saved :data\\Helipad_Dataset_meta\\Helipad_Dataset_meta_original\\Folder_045\\Helipad_04595.meta\n",
      "Saved :data\\Helipad_Dataset_meta\\Helipad_Dataset_meta_original\\Folder_045\\Helipad_04596.meta\n",
      "Saved :data\\Helipad_Dataset_meta\\Helipad_Dataset_meta_original\\Folder_045\\Helipad_04597.meta\n",
      "Saved :data\\Helipad_Dataset_meta\\Helipad_Dataset_meta_original\\Folder_045\\Helipad_04598.meta\n",
      "Saved :data\\Helipad_Dataset_meta\\Helipad_Dataset_meta_original\\Folder_045\\Helipad_04599.meta\n",
      "Saved :data\\Helipad_Dataset_meta\\Helipad_Dataset_meta_original\\Folder_046\\Helipad_04600.meta\n",
      "Saved :data\\Helipad_Dataset_meta\\Helipad_Dataset_meta_original\\Folder_046\\Helipad_04601.meta\n",
      "Saved :data\\Helipad_Dataset_meta\\Helipad_Dataset_meta_original\\Folder_046\\Helipad_04602.meta\n",
      "Saved :data\\Helipad_Dataset_meta\\Helipad_Dataset_meta_original\\Folder_046\\Helipad_04603.meta\n",
      "Saved :data\\Helipad_Dataset_meta\\Helipad_Dataset_meta_original\\Folder_046\\Helipad_04604.meta\n",
      "Saved :data\\Helipad_Dataset_meta\\Helipad_Dataset_meta_original\\Folder_046\\Helipad_04605.meta\n",
      "Saved :data\\Helipad_Dataset_meta\\Helipad_Dataset_meta_original\\Folder_046\\Helipad_04606.meta\n",
      "Saved :data\\Helipad_Dataset_meta\\Helipad_Dataset_meta_original\\Folder_046\\Helipad_04607.meta\n",
      "Saved :data\\Helipad_Dataset_meta\\Helipad_Dataset_meta_original\\Folder_046\\Helipad_04608.meta\n",
      "Saved :data\\Helipad_Dataset_meta\\Helipad_Dataset_meta_original\\Folder_046\\Helipad_04609.meta\n",
      "Saved :data\\Helipad_Dataset_meta\\Helipad_Dataset_meta_original\\Folder_046\\Helipad_04610.meta\n",
      "Saved :data\\Helipad_Dataset_meta\\Helipad_Dataset_meta_original\\Folder_046\\Helipad_04611.meta\n",
      "Saved :data\\Helipad_Dataset_meta\\Helipad_Dataset_meta_original\\Folder_046\\Helipad_04612.meta\n",
      "Saved :data\\Helipad_Dataset_meta\\Helipad_Dataset_meta_original\\Folder_046\\Helipad_04613.meta\n",
      "Saved :data\\Helipad_Dataset_meta\\Helipad_Dataset_meta_original\\Folder_046\\Helipad_04614.meta\n",
      "Saved :data\\Helipad_Dataset_meta\\Helipad_Dataset_meta_original\\Folder_046\\Helipad_04615.meta\n",
      "Saved :data\\Helipad_Dataset_meta\\Helipad_Dataset_meta_original\\Folder_046\\Helipad_04616.meta\n",
      "Saved :data\\Helipad_Dataset_meta\\Helipad_Dataset_meta_original\\Folder_046\\Helipad_04617.meta\n",
      "Saved :data\\Helipad_Dataset_meta\\Helipad_Dataset_meta_original\\Folder_046\\Helipad_04618.meta\n",
      "Saved :data\\Helipad_Dataset_meta\\Helipad_Dataset_meta_original\\Folder_046\\Helipad_04619.meta\n",
      "Saved :data\\Helipad_Dataset_meta\\Helipad_Dataset_meta_original\\Folder_046\\Helipad_04620.meta\n",
      "Saved :data\\Helipad_Dataset_meta\\Helipad_Dataset_meta_original\\Folder_046\\Helipad_04621.meta\n",
      "Saved :data\\Helipad_Dataset_meta\\Helipad_Dataset_meta_original\\Folder_046\\Helipad_04622.meta\n",
      "Saved :data\\Helipad_Dataset_meta\\Helipad_Dataset_meta_original\\Folder_046\\Helipad_04623.meta\n",
      "Saved :data\\Helipad_Dataset_meta\\Helipad_Dataset_meta_original\\Folder_046\\Helipad_04624.meta\n",
      "Saved :data\\Helipad_Dataset_meta\\Helipad_Dataset_meta_original\\Folder_046\\Helipad_04625.meta\n",
      "Saved :data\\Helipad_Dataset_meta\\Helipad_Dataset_meta_original\\Folder_046\\Helipad_04626.meta\n",
      "Saved :data\\Helipad_Dataset_meta\\Helipad_Dataset_meta_original\\Folder_046\\Helipad_04627.meta\n",
      "Saved :data\\Helipad_Dataset_meta\\Helipad_Dataset_meta_original\\Folder_046\\Helipad_04628.meta\n",
      "Saved :data\\Helipad_Dataset_meta\\Helipad_Dataset_meta_original\\Folder_046\\Helipad_04629.meta\n",
      "Saved :data\\Helipad_Dataset_meta\\Helipad_Dataset_meta_original\\Folder_046\\Helipad_04630.meta\n",
      "Saved :data\\Helipad_Dataset_meta\\Helipad_Dataset_meta_original\\Folder_046\\Helipad_04631.meta\n"
     ]
    },
    {
     "name": "stdout",
     "output_type": "stream",
     "text": [
      "Saved :data\\Helipad_Dataset_meta\\Helipad_Dataset_meta_original\\Folder_046\\Helipad_04632.meta\n",
      "Saved :data\\Helipad_Dataset_meta\\Helipad_Dataset_meta_original\\Folder_046\\Helipad_04633.meta\n",
      "Saved :data\\Helipad_Dataset_meta\\Helipad_Dataset_meta_original\\Folder_046\\Helipad_04634.meta\n",
      "Saved :data\\Helipad_Dataset_meta\\Helipad_Dataset_meta_original\\Folder_046\\Helipad_04635.meta\n",
      "Saved :data\\Helipad_Dataset_meta\\Helipad_Dataset_meta_original\\Folder_046\\Helipad_04636.meta\n",
      "Saved :data\\Helipad_Dataset_meta\\Helipad_Dataset_meta_original\\Folder_046\\Helipad_04637.meta\n",
      "Saved :data\\Helipad_Dataset_meta\\Helipad_Dataset_meta_original\\Folder_046\\Helipad_04638.meta\n",
      "Saved :data\\Helipad_Dataset_meta\\Helipad_Dataset_meta_original\\Folder_046\\Helipad_04639.meta\n",
      "Saved :data\\Helipad_Dataset_meta\\Helipad_Dataset_meta_original\\Folder_046\\Helipad_04640.meta\n",
      "Saved :data\\Helipad_Dataset_meta\\Helipad_Dataset_meta_original\\Folder_046\\Helipad_04641.meta\n",
      "Saved :data\\Helipad_Dataset_meta\\Helipad_Dataset_meta_original\\Folder_046\\Helipad_04642.meta\n",
      "Saved :data\\Helipad_Dataset_meta\\Helipad_Dataset_meta_original\\Folder_046\\Helipad_04643.meta\n",
      "Saved :data\\Helipad_Dataset_meta\\Helipad_Dataset_meta_original\\Folder_046\\Helipad_04644.meta\n",
      "Saved :data\\Helipad_Dataset_meta\\Helipad_Dataset_meta_original\\Folder_046\\Helipad_04645.meta\n",
      "Saved :data\\Helipad_Dataset_meta\\Helipad_Dataset_meta_original\\Folder_046\\Helipad_04646.meta\n",
      "Saved :data\\Helipad_Dataset_meta\\Helipad_Dataset_meta_original\\Folder_046\\Helipad_04647.meta\n",
      "Saved :data\\Helipad_Dataset_meta\\Helipad_Dataset_meta_original\\Folder_046\\Helipad_04648.meta\n",
      "Saved :data\\Helipad_Dataset_meta\\Helipad_Dataset_meta_original\\Folder_046\\Helipad_04649.meta\n",
      "Saved :data\\Helipad_Dataset_meta\\Helipad_Dataset_meta_original\\Folder_046\\Helipad_04650.meta\n",
      "Saved :data\\Helipad_Dataset_meta\\Helipad_Dataset_meta_original\\Folder_046\\Helipad_04651.meta\n",
      "Saved :data\\Helipad_Dataset_meta\\Helipad_Dataset_meta_original\\Folder_046\\Helipad_04652.meta\n",
      "Saved :data\\Helipad_Dataset_meta\\Helipad_Dataset_meta_original\\Folder_046\\Helipad_04653.meta\n",
      "Saved :data\\Helipad_Dataset_meta\\Helipad_Dataset_meta_original\\Folder_046\\Helipad_04654.meta\n",
      "Saved :data\\Helipad_Dataset_meta\\Helipad_Dataset_meta_original\\Folder_046\\Helipad_04655.meta\n",
      "Saved :data\\Helipad_Dataset_meta\\Helipad_Dataset_meta_original\\Folder_046\\Helipad_04656.meta\n",
      "Saved :data\\Helipad_Dataset_meta\\Helipad_Dataset_meta_original\\Folder_046\\Helipad_04657.meta\n",
      "Saved :data\\Helipad_Dataset_meta\\Helipad_Dataset_meta_original\\Folder_046\\Helipad_04658.meta\n",
      "Saved :data\\Helipad_Dataset_meta\\Helipad_Dataset_meta_original\\Folder_046\\Helipad_04659.meta\n",
      "Saved :data\\Helipad_Dataset_meta\\Helipad_Dataset_meta_original\\Folder_046\\Helipad_04660.meta\n",
      "Saved :data\\Helipad_Dataset_meta\\Helipad_Dataset_meta_original\\Folder_046\\Helipad_04661.meta\n",
      "Saved :data\\Helipad_Dataset_meta\\Helipad_Dataset_meta_original\\Folder_046\\Helipad_04662.meta\n",
      "Saved :data\\Helipad_Dataset_meta\\Helipad_Dataset_meta_original\\Folder_046\\Helipad_04663.meta\n",
      "Saved :data\\Helipad_Dataset_meta\\Helipad_Dataset_meta_original\\Folder_046\\Helipad_04664.meta\n",
      "Saved :data\\Helipad_Dataset_meta\\Helipad_Dataset_meta_original\\Folder_046\\Helipad_04665.meta\n",
      "Saved :data\\Helipad_Dataset_meta\\Helipad_Dataset_meta_original\\Folder_046\\Helipad_04666.meta\n",
      "Saved :data\\Helipad_Dataset_meta\\Helipad_Dataset_meta_original\\Folder_046\\Helipad_04667.meta\n",
      "Saved :data\\Helipad_Dataset_meta\\Helipad_Dataset_meta_original\\Folder_046\\Helipad_04668.meta\n",
      "Saved :data\\Helipad_Dataset_meta\\Helipad_Dataset_meta_original\\Folder_046\\Helipad_04669.meta\n",
      "Saved :data\\Helipad_Dataset_meta\\Helipad_Dataset_meta_original\\Folder_046\\Helipad_04670.meta\n",
      "Saved :data\\Helipad_Dataset_meta\\Helipad_Dataset_meta_original\\Folder_046\\Helipad_04671.meta\n",
      "Saved :data\\Helipad_Dataset_meta\\Helipad_Dataset_meta_original\\Folder_046\\Helipad_04672.meta\n",
      "Saved :data\\Helipad_Dataset_meta\\Helipad_Dataset_meta_original\\Folder_046\\Helipad_04673.meta\n",
      "Saved :data\\Helipad_Dataset_meta\\Helipad_Dataset_meta_original\\Folder_046\\Helipad_04674.meta\n",
      "Saved :data\\Helipad_Dataset_meta\\Helipad_Dataset_meta_original\\Folder_046\\Helipad_04675.meta\n",
      "Saved :data\\Helipad_Dataset_meta\\Helipad_Dataset_meta_original\\Folder_046\\Helipad_04676.meta\n",
      "Saved :data\\Helipad_Dataset_meta\\Helipad_Dataset_meta_original\\Folder_046\\Helipad_04677.meta\n",
      "Saved :data\\Helipad_Dataset_meta\\Helipad_Dataset_meta_original\\Folder_046\\Helipad_04678.meta\n",
      "Saved :data\\Helipad_Dataset_meta\\Helipad_Dataset_meta_original\\Folder_046\\Helipad_04679.meta\n",
      "Saved :data\\Helipad_Dataset_meta\\Helipad_Dataset_meta_original\\Folder_046\\Helipad_04680.meta\n",
      "Saved :data\\Helipad_Dataset_meta\\Helipad_Dataset_meta_original\\Folder_046\\Helipad_04681.meta\n",
      "Saved :data\\Helipad_Dataset_meta\\Helipad_Dataset_meta_original\\Folder_046\\Helipad_04682.meta\n",
      "Saved :data\\Helipad_Dataset_meta\\Helipad_Dataset_meta_original\\Folder_046\\Helipad_04683.meta\n",
      "Saved :data\\Helipad_Dataset_meta\\Helipad_Dataset_meta_original\\Folder_046\\Helipad_04684.meta\n",
      "Saved :data\\Helipad_Dataset_meta\\Helipad_Dataset_meta_original\\Folder_046\\Helipad_04685.meta\n",
      "Saved :data\\Helipad_Dataset_meta\\Helipad_Dataset_meta_original\\Folder_046\\Helipad_04686.meta\n",
      "Saved :data\\Helipad_Dataset_meta\\Helipad_Dataset_meta_original\\Folder_046\\Helipad_04687.meta\n",
      "Saved :data\\Helipad_Dataset_meta\\Helipad_Dataset_meta_original\\Folder_046\\Helipad_04688.meta\n",
      "Saved :data\\Helipad_Dataset_meta\\Helipad_Dataset_meta_original\\Folder_046\\Helipad_04689.meta\n",
      "Saved :data\\Helipad_Dataset_meta\\Helipad_Dataset_meta_original\\Folder_046\\Helipad_04690.meta\n",
      "Saved :data\\Helipad_Dataset_meta\\Helipad_Dataset_meta_original\\Folder_046\\Helipad_04691.meta\n",
      "Saved :data\\Helipad_Dataset_meta\\Helipad_Dataset_meta_original\\Folder_046\\Helipad_04692.meta\n",
      "Saved :data\\Helipad_Dataset_meta\\Helipad_Dataset_meta_original\\Folder_046\\Helipad_04693.meta\n",
      "Saved :data\\Helipad_Dataset_meta\\Helipad_Dataset_meta_original\\Folder_046\\Helipad_04694.meta\n",
      "Saved :data\\Helipad_Dataset_meta\\Helipad_Dataset_meta_original\\Folder_046\\Helipad_04695.meta\n",
      "Saved :data\\Helipad_Dataset_meta\\Helipad_Dataset_meta_original\\Folder_046\\Helipad_04696.meta\n",
      "Saved :data\\Helipad_Dataset_meta\\Helipad_Dataset_meta_original\\Folder_046\\Helipad_04697.meta\n",
      "Saved :data\\Helipad_Dataset_meta\\Helipad_Dataset_meta_original\\Folder_046\\Helipad_04698.meta\n",
      "Saved :data\\Helipad_Dataset_meta\\Helipad_Dataset_meta_original\\Folder_046\\Helipad_04699.meta\n",
      "Saved :data\\Helipad_Dataset_meta\\Helipad_Dataset_meta_original\\Folder_047\\Helipad_04700.meta\n",
      "Saved :data\\Helipad_Dataset_meta\\Helipad_Dataset_meta_original\\Folder_047\\Helipad_04701.meta\n",
      "Saved :data\\Helipad_Dataset_meta\\Helipad_Dataset_meta_original\\Folder_047\\Helipad_04702.meta\n",
      "Saved :data\\Helipad_Dataset_meta\\Helipad_Dataset_meta_original\\Folder_047\\Helipad_04703.meta\n",
      "Saved :data\\Helipad_Dataset_meta\\Helipad_Dataset_meta_original\\Folder_047\\Helipad_04704.meta\n",
      "Saved :data\\Helipad_Dataset_meta\\Helipad_Dataset_meta_original\\Folder_047\\Helipad_04705.meta\n",
      "Saved :data\\Helipad_Dataset_meta\\Helipad_Dataset_meta_original\\Folder_047\\Helipad_04706.meta\n",
      "Saved :data\\Helipad_Dataset_meta\\Helipad_Dataset_meta_original\\Folder_047\\Helipad_04707.meta\n",
      "Saved :data\\Helipad_Dataset_meta\\Helipad_Dataset_meta_original\\Folder_047\\Helipad_04708.meta\n",
      "Saved :data\\Helipad_Dataset_meta\\Helipad_Dataset_meta_original\\Folder_047\\Helipad_04709.meta\n",
      "Saved :data\\Helipad_Dataset_meta\\Helipad_Dataset_meta_original\\Folder_047\\Helipad_04710.meta\n",
      "Saved :data\\Helipad_Dataset_meta\\Helipad_Dataset_meta_original\\Folder_047\\Helipad_04711.meta\n",
      "Saved :data\\Helipad_Dataset_meta\\Helipad_Dataset_meta_original\\Folder_047\\Helipad_04712.meta\n",
      "Saved :data\\Helipad_Dataset_meta\\Helipad_Dataset_meta_original\\Folder_047\\Helipad_04713.meta\n",
      "Saved :data\\Helipad_Dataset_meta\\Helipad_Dataset_meta_original\\Folder_047\\Helipad_04714.meta\n",
      "Saved :data\\Helipad_Dataset_meta\\Helipad_Dataset_meta_original\\Folder_047\\Helipad_04715.meta\n",
      "Saved :data\\Helipad_Dataset_meta\\Helipad_Dataset_meta_original\\Folder_047\\Helipad_04716.meta\n",
      "Saved :data\\Helipad_Dataset_meta\\Helipad_Dataset_meta_original\\Folder_047\\Helipad_04717.meta\n",
      "Saved :data\\Helipad_Dataset_meta\\Helipad_Dataset_meta_original\\Folder_047\\Helipad_04718.meta\n",
      "Saved :data\\Helipad_Dataset_meta\\Helipad_Dataset_meta_original\\Folder_047\\Helipad_04719.meta\n",
      "Saved :data\\Helipad_Dataset_meta\\Helipad_Dataset_meta_original\\Folder_047\\Helipad_04720.meta\n",
      "Saved :data\\Helipad_Dataset_meta\\Helipad_Dataset_meta_original\\Folder_047\\Helipad_04721.meta\n",
      "Saved :data\\Helipad_Dataset_meta\\Helipad_Dataset_meta_original\\Folder_047\\Helipad_04722.meta\n",
      "Saved :data\\Helipad_Dataset_meta\\Helipad_Dataset_meta_original\\Folder_047\\Helipad_04723.meta\n",
      "Saved :data\\Helipad_Dataset_meta\\Helipad_Dataset_meta_original\\Folder_047\\Helipad_04724.meta\n",
      "Saved :data\\Helipad_Dataset_meta\\Helipad_Dataset_meta_original\\Folder_047\\Helipad_04725.meta\n",
      "Saved :data\\Helipad_Dataset_meta\\Helipad_Dataset_meta_original\\Folder_047\\Helipad_04726.meta\n",
      "Saved :data\\Helipad_Dataset_meta\\Helipad_Dataset_meta_original\\Folder_047\\Helipad_04727.meta\n",
      "Saved :data\\Helipad_Dataset_meta\\Helipad_Dataset_meta_original\\Folder_047\\Helipad_04728.meta\n",
      "Saved :data\\Helipad_Dataset_meta\\Helipad_Dataset_meta_original\\Folder_047\\Helipad_04729.meta\n",
      "Saved :data\\Helipad_Dataset_meta\\Helipad_Dataset_meta_original\\Folder_047\\Helipad_04730.meta\n",
      "Saved :data\\Helipad_Dataset_meta\\Helipad_Dataset_meta_original\\Folder_047\\Helipad_04731.meta\n",
      "Saved :data\\Helipad_Dataset_meta\\Helipad_Dataset_meta_original\\Folder_047\\Helipad_04732.meta\n",
      "Saved :data\\Helipad_Dataset_meta\\Helipad_Dataset_meta_original\\Folder_047\\Helipad_04733.meta\n",
      "Saved :data\\Helipad_Dataset_meta\\Helipad_Dataset_meta_original\\Folder_047\\Helipad_04734.meta\n",
      "Saved :data\\Helipad_Dataset_meta\\Helipad_Dataset_meta_original\\Folder_047\\Helipad_04735.meta\n",
      "Saved :data\\Helipad_Dataset_meta\\Helipad_Dataset_meta_original\\Folder_047\\Helipad_04736.meta\n",
      "Saved :data\\Helipad_Dataset_meta\\Helipad_Dataset_meta_original\\Folder_047\\Helipad_04737.meta\n",
      "Saved :data\\Helipad_Dataset_meta\\Helipad_Dataset_meta_original\\Folder_047\\Helipad_04738.meta\n",
      "Saved :data\\Helipad_Dataset_meta\\Helipad_Dataset_meta_original\\Folder_047\\Helipad_04739.meta\n",
      "Saved :data\\Helipad_Dataset_meta\\Helipad_Dataset_meta_original\\Folder_047\\Helipad_04740.meta\n",
      "Saved :data\\Helipad_Dataset_meta\\Helipad_Dataset_meta_original\\Folder_047\\Helipad_04741.meta\n",
      "Saved :data\\Helipad_Dataset_meta\\Helipad_Dataset_meta_original\\Folder_047\\Helipad_04742.meta\n",
      "Saved :data\\Helipad_Dataset_meta\\Helipad_Dataset_meta_original\\Folder_047\\Helipad_04743.meta\n",
      "Saved :data\\Helipad_Dataset_meta\\Helipad_Dataset_meta_original\\Folder_047\\Helipad_04744.meta\n",
      "Saved :data\\Helipad_Dataset_meta\\Helipad_Dataset_meta_original\\Folder_047\\Helipad_04745.meta\n",
      "Saved :data\\Helipad_Dataset_meta\\Helipad_Dataset_meta_original\\Folder_047\\Helipad_04746.meta\n",
      "Saved :data\\Helipad_Dataset_meta\\Helipad_Dataset_meta_original\\Folder_047\\Helipad_04747.meta\n",
      "Saved :data\\Helipad_Dataset_meta\\Helipad_Dataset_meta_original\\Folder_047\\Helipad_04748.meta\n",
      "Saved :data\\Helipad_Dataset_meta\\Helipad_Dataset_meta_original\\Folder_047\\Helipad_04749.meta\n",
      "Saved :data\\Helipad_Dataset_meta\\Helipad_Dataset_meta_original\\Folder_047\\Helipad_04750.meta\n",
      "Saved :data\\Helipad_Dataset_meta\\Helipad_Dataset_meta_original\\Folder_047\\Helipad_04751.meta\n",
      "Saved :data\\Helipad_Dataset_meta\\Helipad_Dataset_meta_original\\Folder_047\\Helipad_04752.meta\n",
      "Saved :data\\Helipad_Dataset_meta\\Helipad_Dataset_meta_original\\Folder_047\\Helipad_04753.meta\n",
      "Saved :data\\Helipad_Dataset_meta\\Helipad_Dataset_meta_original\\Folder_047\\Helipad_04754.meta\n",
      "Saved :data\\Helipad_Dataset_meta\\Helipad_Dataset_meta_original\\Folder_047\\Helipad_04755.meta\n",
      "Saved :data\\Helipad_Dataset_meta\\Helipad_Dataset_meta_original\\Folder_047\\Helipad_04756.meta\n",
      "Saved :data\\Helipad_Dataset_meta\\Helipad_Dataset_meta_original\\Folder_047\\Helipad_04757.meta\n",
      "Saved :data\\Helipad_Dataset_meta\\Helipad_Dataset_meta_original\\Folder_047\\Helipad_04758.meta\n",
      "Saved :data\\Helipad_Dataset_meta\\Helipad_Dataset_meta_original\\Folder_047\\Helipad_04759.meta\n",
      "Saved :data\\Helipad_Dataset_meta\\Helipad_Dataset_meta_original\\Folder_047\\Helipad_04760.meta\n",
      "Saved :data\\Helipad_Dataset_meta\\Helipad_Dataset_meta_original\\Folder_047\\Helipad_04761.meta\n",
      "Saved :data\\Helipad_Dataset_meta\\Helipad_Dataset_meta_original\\Folder_047\\Helipad_04762.meta\n",
      "Saved :data\\Helipad_Dataset_meta\\Helipad_Dataset_meta_original\\Folder_047\\Helipad_04763.meta\n",
      "Saved :data\\Helipad_Dataset_meta\\Helipad_Dataset_meta_original\\Folder_047\\Helipad_04764.meta\n",
      "Saved :data\\Helipad_Dataset_meta\\Helipad_Dataset_meta_original\\Folder_047\\Helipad_04765.meta\n",
      "Saved :data\\Helipad_Dataset_meta\\Helipad_Dataset_meta_original\\Folder_047\\Helipad_04766.meta\n",
      "Saved :data\\Helipad_Dataset_meta\\Helipad_Dataset_meta_original\\Folder_047\\Helipad_04767.meta\n",
      "Saved :data\\Helipad_Dataset_meta\\Helipad_Dataset_meta_original\\Folder_047\\Helipad_04768.meta\n",
      "Saved :data\\Helipad_Dataset_meta\\Helipad_Dataset_meta_original\\Folder_047\\Helipad_04769.meta\n",
      "Saved :data\\Helipad_Dataset_meta\\Helipad_Dataset_meta_original\\Folder_047\\Helipad_04770.meta\n",
      "Saved :data\\Helipad_Dataset_meta\\Helipad_Dataset_meta_original\\Folder_047\\Helipad_04771.meta\n",
      "Saved :data\\Helipad_Dataset_meta\\Helipad_Dataset_meta_original\\Folder_047\\Helipad_04772.meta\n",
      "Saved :data\\Helipad_Dataset_meta\\Helipad_Dataset_meta_original\\Folder_047\\Helipad_04773.meta\n",
      "Saved :data\\Helipad_Dataset_meta\\Helipad_Dataset_meta_original\\Folder_047\\Helipad_04774.meta\n",
      "Saved :data\\Helipad_Dataset_meta\\Helipad_Dataset_meta_original\\Folder_047\\Helipad_04775.meta\n",
      "Saved :data\\Helipad_Dataset_meta\\Helipad_Dataset_meta_original\\Folder_047\\Helipad_04776.meta\n",
      "Saved :data\\Helipad_Dataset_meta\\Helipad_Dataset_meta_original\\Folder_047\\Helipad_04777.meta\n",
      "Saved :data\\Helipad_Dataset_meta\\Helipad_Dataset_meta_original\\Folder_047\\Helipad_04778.meta\n",
      "Saved :data\\Helipad_Dataset_meta\\Helipad_Dataset_meta_original\\Folder_047\\Helipad_04779.meta\n",
      "Saved :data\\Helipad_Dataset_meta\\Helipad_Dataset_meta_original\\Folder_047\\Helipad_04780.meta\n",
      "Saved :data\\Helipad_Dataset_meta\\Helipad_Dataset_meta_original\\Folder_047\\Helipad_04781.meta\n",
      "Saved :data\\Helipad_Dataset_meta\\Helipad_Dataset_meta_original\\Folder_047\\Helipad_04782.meta\n",
      "Saved :data\\Helipad_Dataset_meta\\Helipad_Dataset_meta_original\\Folder_047\\Helipad_04783.meta\n",
      "Saved :data\\Helipad_Dataset_meta\\Helipad_Dataset_meta_original\\Folder_047\\Helipad_04784.meta\n",
      "Saved :data\\Helipad_Dataset_meta\\Helipad_Dataset_meta_original\\Folder_047\\Helipad_04785.meta\n",
      "Saved :data\\Helipad_Dataset_meta\\Helipad_Dataset_meta_original\\Folder_047\\Helipad_04786.meta\n",
      "Saved :data\\Helipad_Dataset_meta\\Helipad_Dataset_meta_original\\Folder_047\\Helipad_04787.meta\n",
      "Saved :data\\Helipad_Dataset_meta\\Helipad_Dataset_meta_original\\Folder_047\\Helipad_04788.meta\n"
     ]
    },
    {
     "name": "stdout",
     "output_type": "stream",
     "text": [
      "Saved :data\\Helipad_Dataset_meta\\Helipad_Dataset_meta_original\\Folder_047\\Helipad_04789.meta\n",
      "Saved :data\\Helipad_Dataset_meta\\Helipad_Dataset_meta_original\\Folder_047\\Helipad_04790.meta\n",
      "Saved :data\\Helipad_Dataset_meta\\Helipad_Dataset_meta_original\\Folder_047\\Helipad_04791.meta\n",
      "Saved :data\\Helipad_Dataset_meta\\Helipad_Dataset_meta_original\\Folder_047\\Helipad_04792.meta\n",
      "Saved :data\\Helipad_Dataset_meta\\Helipad_Dataset_meta_original\\Folder_047\\Helipad_04793.meta\n",
      "Saved :data\\Helipad_Dataset_meta\\Helipad_Dataset_meta_original\\Folder_047\\Helipad_04794.meta\n",
      "Saved :data\\Helipad_Dataset_meta\\Helipad_Dataset_meta_original\\Folder_047\\Helipad_04795.meta\n",
      "Saved :data\\Helipad_Dataset_meta\\Helipad_Dataset_meta_original\\Folder_047\\Helipad_04796.meta\n",
      "Saved :data\\Helipad_Dataset_meta\\Helipad_Dataset_meta_original\\Folder_047\\Helipad_04797.meta\n",
      "Saved :data\\Helipad_Dataset_meta\\Helipad_Dataset_meta_original\\Folder_047\\Helipad_04798.meta\n",
      "Saved :data\\Helipad_Dataset_meta\\Helipad_Dataset_meta_original\\Folder_047\\Helipad_04799.meta\n",
      "Saved :data\\Helipad_Dataset_meta\\Helipad_Dataset_meta_original\\Folder_048\\Helipad_04800.meta\n",
      "Saved :data\\Helipad_Dataset_meta\\Helipad_Dataset_meta_original\\Folder_048\\Helipad_04801.meta\n",
      "Saved :data\\Helipad_Dataset_meta\\Helipad_Dataset_meta_original\\Folder_048\\Helipad_04802.meta\n",
      "Saved :data\\Helipad_Dataset_meta\\Helipad_Dataset_meta_original\\Folder_048\\Helipad_04803.meta\n",
      "Saved :data\\Helipad_Dataset_meta\\Helipad_Dataset_meta_original\\Folder_048\\Helipad_04804.meta\n",
      "Saved :data\\Helipad_Dataset_meta\\Helipad_Dataset_meta_original\\Folder_048\\Helipad_04805.meta\n",
      "Saved :data\\Helipad_Dataset_meta\\Helipad_Dataset_meta_original\\Folder_048\\Helipad_04806.meta\n",
      "Saved :data\\Helipad_Dataset_meta\\Helipad_Dataset_meta_original\\Folder_048\\Helipad_04807.meta\n",
      "Saved :data\\Helipad_Dataset_meta\\Helipad_Dataset_meta_original\\Folder_048\\Helipad_04808.meta\n",
      "Saved :data\\Helipad_Dataset_meta\\Helipad_Dataset_meta_original\\Folder_048\\Helipad_04809.meta\n",
      "Saved :data\\Helipad_Dataset_meta\\Helipad_Dataset_meta_original\\Folder_048\\Helipad_04810.meta\n",
      "Saved :data\\Helipad_Dataset_meta\\Helipad_Dataset_meta_original\\Folder_048\\Helipad_04811.meta\n",
      "Saved :data\\Helipad_Dataset_meta\\Helipad_Dataset_meta_original\\Folder_048\\Helipad_04812.meta\n",
      "Saved :data\\Helipad_Dataset_meta\\Helipad_Dataset_meta_original\\Folder_048\\Helipad_04813.meta\n",
      "Saved :data\\Helipad_Dataset_meta\\Helipad_Dataset_meta_original\\Folder_048\\Helipad_04814.meta\n",
      "Saved :data\\Helipad_Dataset_meta\\Helipad_Dataset_meta_original\\Folder_048\\Helipad_04815.meta\n",
      "Saved :data\\Helipad_Dataset_meta\\Helipad_Dataset_meta_original\\Folder_048\\Helipad_04816.meta\n",
      "Saved :data\\Helipad_Dataset_meta\\Helipad_Dataset_meta_original\\Folder_048\\Helipad_04817.meta\n",
      "Saved :data\\Helipad_Dataset_meta\\Helipad_Dataset_meta_original\\Folder_048\\Helipad_04818.meta\n",
      "Saved :data\\Helipad_Dataset_meta\\Helipad_Dataset_meta_original\\Folder_048\\Helipad_04819.meta\n",
      "Saved :data\\Helipad_Dataset_meta\\Helipad_Dataset_meta_original\\Folder_048\\Helipad_04820.meta\n",
      "Saved :data\\Helipad_Dataset_meta\\Helipad_Dataset_meta_original\\Folder_048\\Helipad_04821.meta\n",
      "Saved :data\\Helipad_Dataset_meta\\Helipad_Dataset_meta_original\\Folder_048\\Helipad_04822.meta\n",
      "Saved :data\\Helipad_Dataset_meta\\Helipad_Dataset_meta_original\\Folder_048\\Helipad_04823.meta\n",
      "Saved :data\\Helipad_Dataset_meta\\Helipad_Dataset_meta_original\\Folder_048\\Helipad_04824.meta\n",
      "Saved :data\\Helipad_Dataset_meta\\Helipad_Dataset_meta_original\\Folder_048\\Helipad_04825.meta\n",
      "Saved :data\\Helipad_Dataset_meta\\Helipad_Dataset_meta_original\\Folder_048\\Helipad_04826.meta\n",
      "Saved :data\\Helipad_Dataset_meta\\Helipad_Dataset_meta_original\\Folder_048\\Helipad_04827.meta\n",
      "Saved :data\\Helipad_Dataset_meta\\Helipad_Dataset_meta_original\\Folder_048\\Helipad_04828.meta\n",
      "Saved :data\\Helipad_Dataset_meta\\Helipad_Dataset_meta_original\\Folder_048\\Helipad_04829.meta\n",
      "Saved :data\\Helipad_Dataset_meta\\Helipad_Dataset_meta_original\\Folder_048\\Helipad_04830.meta\n",
      "Saved :data\\Helipad_Dataset_meta\\Helipad_Dataset_meta_original\\Folder_048\\Helipad_04831.meta\n",
      "Saved :data\\Helipad_Dataset_meta\\Helipad_Dataset_meta_original\\Folder_048\\Helipad_04832.meta\n",
      "Saved :data\\Helipad_Dataset_meta\\Helipad_Dataset_meta_original\\Folder_048\\Helipad_04833.meta\n",
      "Saved :data\\Helipad_Dataset_meta\\Helipad_Dataset_meta_original\\Folder_048\\Helipad_04834.meta\n",
      "Saved :data\\Helipad_Dataset_meta\\Helipad_Dataset_meta_original\\Folder_048\\Helipad_04835.meta\n",
      "Saved :data\\Helipad_Dataset_meta\\Helipad_Dataset_meta_original\\Folder_048\\Helipad_04836.meta\n",
      "Saved :data\\Helipad_Dataset_meta\\Helipad_Dataset_meta_original\\Folder_048\\Helipad_04837.meta\n",
      "Saved :data\\Helipad_Dataset_meta\\Helipad_Dataset_meta_original\\Folder_048\\Helipad_04838.meta\n",
      "Saved :data\\Helipad_Dataset_meta\\Helipad_Dataset_meta_original\\Folder_048\\Helipad_04839.meta\n",
      "Saved :data\\Helipad_Dataset_meta\\Helipad_Dataset_meta_original\\Folder_048\\Helipad_04840.meta\n",
      "Saved :data\\Helipad_Dataset_meta\\Helipad_Dataset_meta_original\\Folder_048\\Helipad_04841.meta\n",
      "Saved :data\\Helipad_Dataset_meta\\Helipad_Dataset_meta_original\\Folder_048\\Helipad_04842.meta\n",
      "Saved :data\\Helipad_Dataset_meta\\Helipad_Dataset_meta_original\\Folder_048\\Helipad_04843.meta\n",
      "Saved :data\\Helipad_Dataset_meta\\Helipad_Dataset_meta_original\\Folder_048\\Helipad_04844.meta\n",
      "Saved :data\\Helipad_Dataset_meta\\Helipad_Dataset_meta_original\\Folder_048\\Helipad_04845.meta\n",
      "Saved :data\\Helipad_Dataset_meta\\Helipad_Dataset_meta_original\\Folder_048\\Helipad_04846.meta\n",
      "Saved :data\\Helipad_Dataset_meta\\Helipad_Dataset_meta_original\\Folder_048\\Helipad_04847.meta\n",
      "Saved :data\\Helipad_Dataset_meta\\Helipad_Dataset_meta_original\\Folder_048\\Helipad_04848.meta\n",
      "Saved :data\\Helipad_Dataset_meta\\Helipad_Dataset_meta_original\\Folder_048\\Helipad_04849.meta\n",
      "Saved :data\\Helipad_Dataset_meta\\Helipad_Dataset_meta_original\\Folder_048\\Helipad_04850.meta\n",
      "Saved :data\\Helipad_Dataset_meta\\Helipad_Dataset_meta_original\\Folder_048\\Helipad_04851.meta\n",
      "Saved :data\\Helipad_Dataset_meta\\Helipad_Dataset_meta_original\\Folder_048\\Helipad_04852.meta\n",
      "Saved :data\\Helipad_Dataset_meta\\Helipad_Dataset_meta_original\\Folder_048\\Helipad_04853.meta\n",
      "Saved :data\\Helipad_Dataset_meta\\Helipad_Dataset_meta_original\\Folder_048\\Helipad_04854.meta\n",
      "Saved :data\\Helipad_Dataset_meta\\Helipad_Dataset_meta_original\\Folder_048\\Helipad_04855.meta\n",
      "Saved :data\\Helipad_Dataset_meta\\Helipad_Dataset_meta_original\\Folder_048\\Helipad_04856.meta\n",
      "Saved :data\\Helipad_Dataset_meta\\Helipad_Dataset_meta_original\\Folder_048\\Helipad_04857.meta\n",
      "Saved :data\\Helipad_Dataset_meta\\Helipad_Dataset_meta_original\\Folder_048\\Helipad_04858.meta\n",
      "Saved :data\\Helipad_Dataset_meta\\Helipad_Dataset_meta_original\\Folder_048\\Helipad_04859.meta\n",
      "Saved :data\\Helipad_Dataset_meta\\Helipad_Dataset_meta_original\\Folder_048\\Helipad_04860.meta\n",
      "Saved :data\\Helipad_Dataset_meta\\Helipad_Dataset_meta_original\\Folder_048\\Helipad_04861.meta\n",
      "Saved :data\\Helipad_Dataset_meta\\Helipad_Dataset_meta_original\\Folder_048\\Helipad_04862.meta\n",
      "Saved :data\\Helipad_Dataset_meta\\Helipad_Dataset_meta_original\\Folder_048\\Helipad_04863.meta\n",
      "Saved :data\\Helipad_Dataset_meta\\Helipad_Dataset_meta_original\\Folder_048\\Helipad_04864.meta\n",
      "Saved :data\\Helipad_Dataset_meta\\Helipad_Dataset_meta_original\\Folder_048\\Helipad_04865.meta\n",
      "Saved :data\\Helipad_Dataset_meta\\Helipad_Dataset_meta_original\\Folder_048\\Helipad_04866.meta\n",
      "Saved :data\\Helipad_Dataset_meta\\Helipad_Dataset_meta_original\\Folder_048\\Helipad_04867.meta\n",
      "Saved :data\\Helipad_Dataset_meta\\Helipad_Dataset_meta_original\\Folder_048\\Helipad_04868.meta\n",
      "Saved :data\\Helipad_Dataset_meta\\Helipad_Dataset_meta_original\\Folder_048\\Helipad_04869.meta\n",
      "Saved :data\\Helipad_Dataset_meta\\Helipad_Dataset_meta_original\\Folder_048\\Helipad_04870.meta\n",
      "Saved :data\\Helipad_Dataset_meta\\Helipad_Dataset_meta_original\\Folder_048\\Helipad_04871.meta\n",
      "Saved :data\\Helipad_Dataset_meta\\Helipad_Dataset_meta_original\\Folder_048\\Helipad_04872.meta\n",
      "Saved :data\\Helipad_Dataset_meta\\Helipad_Dataset_meta_original\\Folder_048\\Helipad_04873.meta\n",
      "Saved :data\\Helipad_Dataset_meta\\Helipad_Dataset_meta_original\\Folder_048\\Helipad_04874.meta\n",
      "Saved :data\\Helipad_Dataset_meta\\Helipad_Dataset_meta_original\\Folder_048\\Helipad_04875.meta\n",
      "Saved :data\\Helipad_Dataset_meta\\Helipad_Dataset_meta_original\\Folder_048\\Helipad_04876.meta\n",
      "Saved :data\\Helipad_Dataset_meta\\Helipad_Dataset_meta_original\\Folder_048\\Helipad_04877.meta\n",
      "Saved :data\\Helipad_Dataset_meta\\Helipad_Dataset_meta_original\\Folder_048\\Helipad_04878.meta\n",
      "Saved :data\\Helipad_Dataset_meta\\Helipad_Dataset_meta_original\\Folder_048\\Helipad_04879.meta\n",
      "Saved :data\\Helipad_Dataset_meta\\Helipad_Dataset_meta_original\\Folder_048\\Helipad_04880.meta\n",
      "Saved :data\\Helipad_Dataset_meta\\Helipad_Dataset_meta_original\\Folder_048\\Helipad_04881.meta\n",
      "Saved :data\\Helipad_Dataset_meta\\Helipad_Dataset_meta_original\\Folder_048\\Helipad_04882.meta\n",
      "Saved :data\\Helipad_Dataset_meta\\Helipad_Dataset_meta_original\\Folder_048\\Helipad_04883.meta\n",
      "Saved :data\\Helipad_Dataset_meta\\Helipad_Dataset_meta_original\\Folder_048\\Helipad_04884.meta\n",
      "Saved :data\\Helipad_Dataset_meta\\Helipad_Dataset_meta_original\\Folder_048\\Helipad_04885.meta\n",
      "Saved :data\\Helipad_Dataset_meta\\Helipad_Dataset_meta_original\\Folder_048\\Helipad_04886.meta\n",
      "Saved :data\\Helipad_Dataset_meta\\Helipad_Dataset_meta_original\\Folder_048\\Helipad_04887.meta\n",
      "Saved :data\\Helipad_Dataset_meta\\Helipad_Dataset_meta_original\\Folder_048\\Helipad_04888.meta\n",
      "Saved :data\\Helipad_Dataset_meta\\Helipad_Dataset_meta_original\\Folder_048\\Helipad_04889.meta\n",
      "Saved :data\\Helipad_Dataset_meta\\Helipad_Dataset_meta_original\\Folder_048\\Helipad_04890.meta\n",
      "Saved :data\\Helipad_Dataset_meta\\Helipad_Dataset_meta_original\\Folder_048\\Helipad_04891.meta\n",
      "Saved :data\\Helipad_Dataset_meta\\Helipad_Dataset_meta_original\\Folder_048\\Helipad_04892.meta\n",
      "Saved :data\\Helipad_Dataset_meta\\Helipad_Dataset_meta_original\\Folder_048\\Helipad_04893.meta\n",
      "Saved :data\\Helipad_Dataset_meta\\Helipad_Dataset_meta_original\\Folder_048\\Helipad_04894.meta\n",
      "Saved :data\\Helipad_Dataset_meta\\Helipad_Dataset_meta_original\\Folder_048\\Helipad_04895.meta\n",
      "Saved :data\\Helipad_Dataset_meta\\Helipad_Dataset_meta_original\\Folder_048\\Helipad_04896.meta\n",
      "Saved :data\\Helipad_Dataset_meta\\Helipad_Dataset_meta_original\\Folder_048\\Helipad_04897.meta\n",
      "Saved :data\\Helipad_Dataset_meta\\Helipad_Dataset_meta_original\\Folder_048\\Helipad_04898.meta\n",
      "Saved :data\\Helipad_Dataset_meta\\Helipad_Dataset_meta_original\\Folder_048\\Helipad_04899.meta\n",
      "Saved :data\\Helipad_Dataset_meta\\Helipad_Dataset_meta_original\\Folder_049\\Helipad_04900.meta\n",
      "Saved :data\\Helipad_Dataset_meta\\Helipad_Dataset_meta_original\\Folder_049\\Helipad_04901.meta\n",
      "Saved :data\\Helipad_Dataset_meta\\Helipad_Dataset_meta_original\\Folder_049\\Helipad_04902.meta\n",
      "Saved :data\\Helipad_Dataset_meta\\Helipad_Dataset_meta_original\\Folder_049\\Helipad_04903.meta\n",
      "Saved :data\\Helipad_Dataset_meta\\Helipad_Dataset_meta_original\\Folder_049\\Helipad_04904.meta\n",
      "Saved :data\\Helipad_Dataset_meta\\Helipad_Dataset_meta_original\\Folder_049\\Helipad_04905.meta\n",
      "Saved :data\\Helipad_Dataset_meta\\Helipad_Dataset_meta_original\\Folder_049\\Helipad_04906.meta\n",
      "Saved :data\\Helipad_Dataset_meta\\Helipad_Dataset_meta_original\\Folder_049\\Helipad_04907.meta\n",
      "Saved :data\\Helipad_Dataset_meta\\Helipad_Dataset_meta_original\\Folder_049\\Helipad_04908.meta\n",
      "Saved :data\\Helipad_Dataset_meta\\Helipad_Dataset_meta_original\\Folder_049\\Helipad_04909.meta\n",
      "Saved :data\\Helipad_Dataset_meta\\Helipad_Dataset_meta_original\\Folder_049\\Helipad_04910.meta\n",
      "Saved :data\\Helipad_Dataset_meta\\Helipad_Dataset_meta_original\\Folder_049\\Helipad_04911.meta\n",
      "Saved :data\\Helipad_Dataset_meta\\Helipad_Dataset_meta_original\\Folder_049\\Helipad_04912.meta\n",
      "Saved :data\\Helipad_Dataset_meta\\Helipad_Dataset_meta_original\\Folder_049\\Helipad_04913.meta\n",
      "Saved :data\\Helipad_Dataset_meta\\Helipad_Dataset_meta_original\\Folder_049\\Helipad_04914.meta\n",
      "Saved :data\\Helipad_Dataset_meta\\Helipad_Dataset_meta_original\\Folder_049\\Helipad_04915.meta\n",
      "Saved :data\\Helipad_Dataset_meta\\Helipad_Dataset_meta_original\\Folder_049\\Helipad_04916.meta\n",
      "Saved :data\\Helipad_Dataset_meta\\Helipad_Dataset_meta_original\\Folder_049\\Helipad_04917.meta\n",
      "Saved :data\\Helipad_Dataset_meta\\Helipad_Dataset_meta_original\\Folder_049\\Helipad_04918.meta\n",
      "Saved :data\\Helipad_Dataset_meta\\Helipad_Dataset_meta_original\\Folder_049\\Helipad_04919.meta\n",
      "Saved :data\\Helipad_Dataset_meta\\Helipad_Dataset_meta_original\\Folder_049\\Helipad_04920.meta\n",
      "Saved :data\\Helipad_Dataset_meta\\Helipad_Dataset_meta_original\\Folder_049\\Helipad_04921.meta\n",
      "Saved :data\\Helipad_Dataset_meta\\Helipad_Dataset_meta_original\\Folder_049\\Helipad_04922.meta\n",
      "Saved :data\\Helipad_Dataset_meta\\Helipad_Dataset_meta_original\\Folder_049\\Helipad_04923.meta\n",
      "Saved :data\\Helipad_Dataset_meta\\Helipad_Dataset_meta_original\\Folder_049\\Helipad_04924.meta\n",
      "Saved :data\\Helipad_Dataset_meta\\Helipad_Dataset_meta_original\\Folder_049\\Helipad_04925.meta\n",
      "Saved :data\\Helipad_Dataset_meta\\Helipad_Dataset_meta_original\\Folder_049\\Helipad_04926.meta\n",
      "Saved :data\\Helipad_Dataset_meta\\Helipad_Dataset_meta_original\\Folder_049\\Helipad_04927.meta\n",
      "Saved :data\\Helipad_Dataset_meta\\Helipad_Dataset_meta_original\\Folder_049\\Helipad_04928.meta\n",
      "Saved :data\\Helipad_Dataset_meta\\Helipad_Dataset_meta_original\\Folder_049\\Helipad_04929.meta\n",
      "Saved :data\\Helipad_Dataset_meta\\Helipad_Dataset_meta_original\\Folder_049\\Helipad_04930.meta\n",
      "Saved :data\\Helipad_Dataset_meta\\Helipad_Dataset_meta_original\\Folder_049\\Helipad_04931.meta\n",
      "Saved :data\\Helipad_Dataset_meta\\Helipad_Dataset_meta_original\\Folder_049\\Helipad_04932.meta\n",
      "Saved :data\\Helipad_Dataset_meta\\Helipad_Dataset_meta_original\\Folder_049\\Helipad_04933.meta\n",
      "Saved :data\\Helipad_Dataset_meta\\Helipad_Dataset_meta_original\\Folder_049\\Helipad_04934.meta\n",
      "Saved :data\\Helipad_Dataset_meta\\Helipad_Dataset_meta_original\\Folder_049\\Helipad_04935.meta\n",
      "Saved :data\\Helipad_Dataset_meta\\Helipad_Dataset_meta_original\\Folder_049\\Helipad_04936.meta\n",
      "Saved :data\\Helipad_Dataset_meta\\Helipad_Dataset_meta_original\\Folder_049\\Helipad_04937.meta\n",
      "Saved :data\\Helipad_Dataset_meta\\Helipad_Dataset_meta_original\\Folder_049\\Helipad_04938.meta\n",
      "Saved :data\\Helipad_Dataset_meta\\Helipad_Dataset_meta_original\\Folder_049\\Helipad_04939.meta\n",
      "Saved :data\\Helipad_Dataset_meta\\Helipad_Dataset_meta_original\\Folder_049\\Helipad_04940.meta\n",
      "Saved :data\\Helipad_Dataset_meta\\Helipad_Dataset_meta_original\\Folder_049\\Helipad_04941.meta\n",
      "Saved :data\\Helipad_Dataset_meta\\Helipad_Dataset_meta_original\\Folder_049\\Helipad_04942.meta\n",
      "Saved :data\\Helipad_Dataset_meta\\Helipad_Dataset_meta_original\\Folder_049\\Helipad_04943.meta\n",
      "Saved :data\\Helipad_Dataset_meta\\Helipad_Dataset_meta_original\\Folder_049\\Helipad_04944.meta\n",
      "Saved :data\\Helipad_Dataset_meta\\Helipad_Dataset_meta_original\\Folder_049\\Helipad_04945.meta\n",
      "Saved :data\\Helipad_Dataset_meta\\Helipad_Dataset_meta_original\\Folder_049\\Helipad_04946.meta\n",
      "Saved :data\\Helipad_Dataset_meta\\Helipad_Dataset_meta_original\\Folder_049\\Helipad_04947.meta\n"
     ]
    },
    {
     "name": "stdout",
     "output_type": "stream",
     "text": [
      "Saved :data\\Helipad_Dataset_meta\\Helipad_Dataset_meta_original\\Folder_049\\Helipad_04948.meta\n",
      "Saved :data\\Helipad_Dataset_meta\\Helipad_Dataset_meta_original\\Folder_049\\Helipad_04949.meta\n",
      "Saved :data\\Helipad_Dataset_meta\\Helipad_Dataset_meta_original\\Folder_049\\Helipad_04950.meta\n",
      "Saved :data\\Helipad_Dataset_meta\\Helipad_Dataset_meta_original\\Folder_049\\Helipad_04951.meta\n",
      "Saved :data\\Helipad_Dataset_meta\\Helipad_Dataset_meta_original\\Folder_049\\Helipad_04952.meta\n",
      "Saved :data\\Helipad_Dataset_meta\\Helipad_Dataset_meta_original\\Folder_049\\Helipad_04953.meta\n",
      "Saved :data\\Helipad_Dataset_meta\\Helipad_Dataset_meta_original\\Folder_049\\Helipad_04954.meta\n",
      "Saved :data\\Helipad_Dataset_meta\\Helipad_Dataset_meta_original\\Folder_049\\Helipad_04955.meta\n",
      "Saved :data\\Helipad_Dataset_meta\\Helipad_Dataset_meta_original\\Folder_049\\Helipad_04956.meta\n",
      "Saved :data\\Helipad_Dataset_meta\\Helipad_Dataset_meta_original\\Folder_049\\Helipad_04957.meta\n",
      "Saved :data\\Helipad_Dataset_meta\\Helipad_Dataset_meta_original\\Folder_049\\Helipad_04958.meta\n",
      "Saved :data\\Helipad_Dataset_meta\\Helipad_Dataset_meta_original\\Folder_049\\Helipad_04959.meta\n",
      "Saved :data\\Helipad_Dataset_meta\\Helipad_Dataset_meta_original\\Folder_049\\Helipad_04960.meta\n",
      "Saved :data\\Helipad_Dataset_meta\\Helipad_Dataset_meta_original\\Folder_049\\Helipad_04961.meta\n",
      "Saved :data\\Helipad_Dataset_meta\\Helipad_Dataset_meta_original\\Folder_049\\Helipad_04962.meta\n",
      "Saved :data\\Helipad_Dataset_meta\\Helipad_Dataset_meta_original\\Folder_049\\Helipad_04963.meta\n",
      "Saved :data\\Helipad_Dataset_meta\\Helipad_Dataset_meta_original\\Folder_049\\Helipad_04964.meta\n",
      "Saved :data\\Helipad_Dataset_meta\\Helipad_Dataset_meta_original\\Folder_049\\Helipad_04965.meta\n",
      "Saved :data\\Helipad_Dataset_meta\\Helipad_Dataset_meta_original\\Folder_049\\Helipad_04966.meta\n",
      "Saved :data\\Helipad_Dataset_meta\\Helipad_Dataset_meta_original\\Folder_049\\Helipad_04967.meta\n",
      "Saved :data\\Helipad_Dataset_meta\\Helipad_Dataset_meta_original\\Folder_049\\Helipad_04968.meta\n",
      "Saved :data\\Helipad_Dataset_meta\\Helipad_Dataset_meta_original\\Folder_049\\Helipad_04969.meta\n",
      "Saved :data\\Helipad_Dataset_meta\\Helipad_Dataset_meta_original\\Folder_049\\Helipad_04970.meta\n",
      "Saved :data\\Helipad_Dataset_meta\\Helipad_Dataset_meta_original\\Folder_049\\Helipad_04971.meta\n",
      "Saved :data\\Helipad_Dataset_meta\\Helipad_Dataset_meta_original\\Folder_049\\Helipad_04972.meta\n",
      "Saved :data\\Helipad_Dataset_meta\\Helipad_Dataset_meta_original\\Folder_049\\Helipad_04973.meta\n",
      "Saved :data\\Helipad_Dataset_meta\\Helipad_Dataset_meta_original\\Folder_049\\Helipad_04974.meta\n",
      "Saved :data\\Helipad_Dataset_meta\\Helipad_Dataset_meta_original\\Folder_049\\Helipad_04975.meta\n",
      "Saved :data\\Helipad_Dataset_meta\\Helipad_Dataset_meta_original\\Folder_049\\Helipad_04976.meta\n",
      "Saved :data\\Helipad_Dataset_meta\\Helipad_Dataset_meta_original\\Folder_049\\Helipad_04977.meta\n",
      "Saved :data\\Helipad_Dataset_meta\\Helipad_Dataset_meta_original\\Folder_049\\Helipad_04978.meta\n",
      "Saved :data\\Helipad_Dataset_meta\\Helipad_Dataset_meta_original\\Folder_049\\Helipad_04979.meta\n",
      "Saved :data\\Helipad_Dataset_meta\\Helipad_Dataset_meta_original\\Folder_049\\Helipad_04980.meta\n",
      "Saved :data\\Helipad_Dataset_meta\\Helipad_Dataset_meta_original\\Folder_049\\Helipad_04981.meta\n",
      "Saved :data\\Helipad_Dataset_meta\\Helipad_Dataset_meta_original\\Folder_049\\Helipad_04982.meta\n",
      "Saved :data\\Helipad_Dataset_meta\\Helipad_Dataset_meta_original\\Folder_049\\Helipad_04983.meta\n",
      "Saved :data\\Helipad_Dataset_meta\\Helipad_Dataset_meta_original\\Folder_049\\Helipad_04984.meta\n",
      "Saved :data\\Helipad_Dataset_meta\\Helipad_Dataset_meta_original\\Folder_049\\Helipad_04985.meta\n",
      "Saved :data\\Helipad_Dataset_meta\\Helipad_Dataset_meta_original\\Folder_049\\Helipad_04986.meta\n",
      "Saved :data\\Helipad_Dataset_meta\\Helipad_Dataset_meta_original\\Folder_049\\Helipad_04987.meta\n",
      "Saved :data\\Helipad_Dataset_meta\\Helipad_Dataset_meta_original\\Folder_049\\Helipad_04988.meta\n",
      "Saved :data\\Helipad_Dataset_meta\\Helipad_Dataset_meta_original\\Folder_049\\Helipad_04989.meta\n",
      "Saved :data\\Helipad_Dataset_meta\\Helipad_Dataset_meta_original\\Folder_049\\Helipad_04990.meta\n",
      "Saved :data\\Helipad_Dataset_meta\\Helipad_Dataset_meta_original\\Folder_049\\Helipad_04991.meta\n",
      "Saved :data\\Helipad_Dataset_meta\\Helipad_Dataset_meta_original\\Folder_049\\Helipad_04992.meta\n",
      "Saved :data\\Helipad_Dataset_meta\\Helipad_Dataset_meta_original\\Folder_049\\Helipad_04993.meta\n",
      "Saved :data\\Helipad_Dataset_meta\\Helipad_Dataset_meta_original\\Folder_049\\Helipad_04994.meta\n",
      "Saved :data\\Helipad_Dataset_meta\\Helipad_Dataset_meta_original\\Folder_049\\Helipad_04995.meta\n",
      "Saved :data\\Helipad_Dataset_meta\\Helipad_Dataset_meta_original\\Folder_049\\Helipad_04996.meta\n",
      "Saved :data\\Helipad_Dataset_meta\\Helipad_Dataset_meta_original\\Folder_049\\Helipad_04997.meta\n",
      "Saved :data\\Helipad_Dataset_meta\\Helipad_Dataset_meta_original\\Folder_049\\Helipad_04998.meta\n",
      "Saved :data\\Helipad_Dataset_meta\\Helipad_Dataset_meta_original\\Folder_049\\Helipad_04999.meta\n",
      "Saved :data\\Helipad_Dataset_meta\\Helipad_Dataset_meta_original\\Folder_050\\Helipad_05000.meta\n",
      "Saved :data\\Helipad_Dataset_meta\\Helipad_Dataset_meta_original\\Folder_050\\Helipad_05001.meta\n",
      "Saved :data\\Helipad_Dataset_meta\\Helipad_Dataset_meta_original\\Folder_050\\Helipad_05002.meta\n",
      "Saved :data\\Helipad_Dataset_meta\\Helipad_Dataset_meta_original\\Folder_050\\Helipad_05003.meta\n",
      "Saved :data\\Helipad_Dataset_meta\\Helipad_Dataset_meta_original\\Folder_050\\Helipad_05004.meta\n",
      "Saved :data\\Helipad_Dataset_meta\\Helipad_Dataset_meta_original\\Folder_050\\Helipad_05005.meta\n",
      "Saved :data\\Helipad_Dataset_meta\\Helipad_Dataset_meta_original\\Folder_050\\Helipad_05006.meta\n",
      "Saved :data\\Helipad_Dataset_meta\\Helipad_Dataset_meta_original\\Folder_050\\Helipad_05007.meta\n",
      "Saved :data\\Helipad_Dataset_meta\\Helipad_Dataset_meta_original\\Folder_050\\Helipad_05008.meta\n",
      "Saved :data\\Helipad_Dataset_meta\\Helipad_Dataset_meta_original\\Folder_050\\Helipad_05009.meta\n",
      "Saved :data\\Helipad_Dataset_meta\\Helipad_Dataset_meta_original\\Folder_050\\Helipad_05010.meta\n",
      "Saved :data\\Helipad_Dataset_meta\\Helipad_Dataset_meta_original\\Folder_050\\Helipad_05011.meta\n",
      "Saved :data\\Helipad_Dataset_meta\\Helipad_Dataset_meta_original\\Folder_050\\Helipad_05012.meta\n",
      "Saved :data\\Helipad_Dataset_meta\\Helipad_Dataset_meta_original\\Folder_050\\Helipad_05013.meta\n",
      "Saved :data\\Helipad_Dataset_meta\\Helipad_Dataset_meta_original\\Folder_050\\Helipad_05014.meta\n",
      "Saved :data\\Helipad_Dataset_meta\\Helipad_Dataset_meta_original\\Folder_050\\Helipad_05015.meta\n",
      "Saved :data\\Helipad_Dataset_meta\\Helipad_Dataset_meta_original\\Folder_050\\Helipad_05016.meta\n",
      "Saved :data\\Helipad_Dataset_meta\\Helipad_Dataset_meta_original\\Folder_050\\Helipad_05017.meta\n",
      "Saved :data\\Helipad_Dataset_meta\\Helipad_Dataset_meta_original\\Folder_050\\Helipad_05018.meta\n",
      "Saved :data\\Helipad_Dataset_meta\\Helipad_Dataset_meta_original\\Folder_050\\Helipad_05019.meta\n",
      "Saved :data\\Helipad_Dataset_meta\\Helipad_Dataset_meta_original\\Folder_050\\Helipad_05020.meta\n",
      "Saved :data\\Helipad_Dataset_meta\\Helipad_Dataset_meta_original\\Folder_050\\Helipad_05021.meta\n",
      "Saved :data\\Helipad_Dataset_meta\\Helipad_Dataset_meta_original\\Folder_050\\Helipad_05022.meta\n",
      "Saved :data\\Helipad_Dataset_meta\\Helipad_Dataset_meta_original\\Folder_050\\Helipad_05023.meta\n",
      "Saved :data\\Helipad_Dataset_meta\\Helipad_Dataset_meta_original\\Folder_050\\Helipad_05024.meta\n",
      "Saved :data\\Helipad_Dataset_meta\\Helipad_Dataset_meta_original\\Folder_050\\Helipad_05025.meta\n",
      "Saved :data\\Helipad_Dataset_meta\\Helipad_Dataset_meta_original\\Folder_050\\Helipad_05026.meta\n",
      "Saved :data\\Helipad_Dataset_meta\\Helipad_Dataset_meta_original\\Folder_050\\Helipad_05027.meta\n",
      "Saved :data\\Helipad_Dataset_meta\\Helipad_Dataset_meta_original\\Folder_050\\Helipad_05028.meta\n",
      "Saved :data\\Helipad_Dataset_meta\\Helipad_Dataset_meta_original\\Folder_050\\Helipad_05029.meta\n",
      "Saved :data\\Helipad_Dataset_meta\\Helipad_Dataset_meta_original\\Folder_050\\Helipad_05030.meta\n",
      "Saved :data\\Helipad_Dataset_meta\\Helipad_Dataset_meta_original\\Folder_050\\Helipad_05031.meta\n",
      "Saved :data\\Helipad_Dataset_meta\\Helipad_Dataset_meta_original\\Folder_050\\Helipad_05032.meta\n",
      "Saved :data\\Helipad_Dataset_meta\\Helipad_Dataset_meta_original\\Folder_050\\Helipad_05033.meta\n",
      "Saved :data\\Helipad_Dataset_meta\\Helipad_Dataset_meta_original\\Folder_050\\Helipad_05034.meta\n",
      "Saved :data\\Helipad_Dataset_meta\\Helipad_Dataset_meta_original\\Folder_050\\Helipad_05035.meta\n",
      "Saved :data\\Helipad_Dataset_meta\\Helipad_Dataset_meta_original\\Folder_050\\Helipad_05036.meta\n",
      "Saved :data\\Helipad_Dataset_meta\\Helipad_Dataset_meta_original\\Folder_050\\Helipad_05037.meta\n",
      "Saved :data\\Helipad_Dataset_meta\\Helipad_Dataset_meta_original\\Folder_050\\Helipad_05038.meta\n",
      "Saved :data\\Helipad_Dataset_meta\\Helipad_Dataset_meta_original\\Folder_050\\Helipad_05039.meta\n",
      "Saved :data\\Helipad_Dataset_meta\\Helipad_Dataset_meta_original\\Folder_050\\Helipad_05040.meta\n",
      "Saved :data\\Helipad_Dataset_meta\\Helipad_Dataset_meta_original\\Folder_050\\Helipad_05041.meta\n",
      "Saved :data\\Helipad_Dataset_meta\\Helipad_Dataset_meta_original\\Folder_050\\Helipad_05042.meta\n",
      "Saved :data\\Helipad_Dataset_meta\\Helipad_Dataset_meta_original\\Folder_050\\Helipad_05043.meta\n",
      "Saved :data\\Helipad_Dataset_meta\\Helipad_Dataset_meta_original\\Folder_050\\Helipad_05044.meta\n",
      "Saved :data\\Helipad_Dataset_meta\\Helipad_Dataset_meta_original\\Folder_050\\Helipad_05045.meta\n",
      "Saved :data\\Helipad_Dataset_meta\\Helipad_Dataset_meta_original\\Folder_050\\Helipad_05046.meta\n",
      "Saved :data\\Helipad_Dataset_meta\\Helipad_Dataset_meta_original\\Folder_050\\Helipad_05047.meta\n",
      "Saved :data\\Helipad_Dataset_meta\\Helipad_Dataset_meta_original\\Folder_050\\Helipad_05048.meta\n",
      "Saved :data\\Helipad_Dataset_meta\\Helipad_Dataset_meta_original\\Folder_050\\Helipad_05049.meta\n",
      "Saved :data\\Helipad_Dataset_meta\\Helipad_Dataset_meta_original\\Folder_050\\Helipad_05050.meta\n",
      "Saved :data\\Helipad_Dataset_meta\\Helipad_Dataset_meta_original\\Folder_050\\Helipad_05051.meta\n",
      "Saved :data\\Helipad_Dataset_meta\\Helipad_Dataset_meta_original\\Folder_050\\Helipad_05052.meta\n",
      "Saved :data\\Helipad_Dataset_meta\\Helipad_Dataset_meta_original\\Folder_050\\Helipad_05053.meta\n",
      "Saved :data\\Helipad_Dataset_meta\\Helipad_Dataset_meta_original\\Folder_050\\Helipad_05054.meta\n",
      "Saved :data\\Helipad_Dataset_meta\\Helipad_Dataset_meta_original\\Folder_050\\Helipad_05055.meta\n",
      "Saved :data\\Helipad_Dataset_meta\\Helipad_Dataset_meta_original\\Folder_050\\Helipad_05056.meta\n",
      "Saved :data\\Helipad_Dataset_meta\\Helipad_Dataset_meta_original\\Folder_050\\Helipad_05057.meta\n",
      "Saved :data\\Helipad_Dataset_meta\\Helipad_Dataset_meta_original\\Folder_050\\Helipad_05058.meta\n",
      "Saved :data\\Helipad_Dataset_meta\\Helipad_Dataset_meta_original\\Folder_050\\Helipad_05059.meta\n",
      "Saved :data\\Helipad_Dataset_meta\\Helipad_Dataset_meta_original\\Folder_050\\Helipad_05060.meta\n",
      "Saved :data\\Helipad_Dataset_meta\\Helipad_Dataset_meta_original\\Folder_050\\Helipad_05061.meta\n",
      "Saved :data\\Helipad_Dataset_meta\\Helipad_Dataset_meta_original\\Folder_050\\Helipad_05062.meta\n",
      "Saved :data\\Helipad_Dataset_meta\\Helipad_Dataset_meta_original\\Folder_050\\Helipad_05063.meta\n",
      "Saved :data\\Helipad_Dataset_meta\\Helipad_Dataset_meta_original\\Folder_050\\Helipad_05064.meta\n",
      "Saved :data\\Helipad_Dataset_meta\\Helipad_Dataset_meta_original\\Folder_050\\Helipad_05065.meta\n",
      "Saved :data\\Helipad_Dataset_meta\\Helipad_Dataset_meta_original\\Folder_050\\Helipad_05066.meta\n",
      "Saved :data\\Helipad_Dataset_meta\\Helipad_Dataset_meta_original\\Folder_050\\Helipad_05067.meta\n",
      "Saved :data\\Helipad_Dataset_meta\\Helipad_Dataset_meta_original\\Folder_050\\Helipad_05068.meta\n",
      "Saved :data\\Helipad_Dataset_meta\\Helipad_Dataset_meta_original\\Folder_050\\Helipad_05069.meta\n",
      "Saved :data\\Helipad_Dataset_meta\\Helipad_Dataset_meta_original\\Folder_050\\Helipad_05070.meta\n",
      "Saved :data\\Helipad_Dataset_meta\\Helipad_Dataset_meta_original\\Folder_050\\Helipad_05071.meta\n",
      "Saved :data\\Helipad_Dataset_meta\\Helipad_Dataset_meta_original\\Folder_050\\Helipad_05072.meta\n",
      "Saved :data\\Helipad_Dataset_meta\\Helipad_Dataset_meta_original\\Folder_050\\Helipad_05073.meta\n",
      "Saved :data\\Helipad_Dataset_meta\\Helipad_Dataset_meta_original\\Folder_050\\Helipad_05074.meta\n",
      "Saved :data\\Helipad_Dataset_meta\\Helipad_Dataset_meta_original\\Folder_050\\Helipad_05075.meta\n",
      "Saved :data\\Helipad_Dataset_meta\\Helipad_Dataset_meta_original\\Folder_050\\Helipad_05076.meta\n",
      "Saved :data\\Helipad_Dataset_meta\\Helipad_Dataset_meta_original\\Folder_050\\Helipad_05077.meta\n",
      "Saved :data\\Helipad_Dataset_meta\\Helipad_Dataset_meta_original\\Folder_050\\Helipad_05078.meta\n",
      "Saved :data\\Helipad_Dataset_meta\\Helipad_Dataset_meta_original\\Folder_050\\Helipad_05079.meta\n",
      "Saved :data\\Helipad_Dataset_meta\\Helipad_Dataset_meta_original\\Folder_050\\Helipad_05080.meta\n",
      "Saved :data\\Helipad_Dataset_meta\\Helipad_Dataset_meta_original\\Folder_050\\Helipad_05081.meta\n",
      "Saved :data\\Helipad_Dataset_meta\\Helipad_Dataset_meta_original\\Folder_050\\Helipad_05082.meta\n",
      "Saved :data\\Helipad_Dataset_meta\\Helipad_Dataset_meta_original\\Folder_050\\Helipad_05083.meta\n",
      "Saved :data\\Helipad_Dataset_meta\\Helipad_Dataset_meta_original\\Folder_050\\Helipad_05084.meta\n",
      "Saved :data\\Helipad_Dataset_meta\\Helipad_Dataset_meta_original\\Folder_050\\Helipad_05085.meta\n",
      "Saved :data\\Helipad_Dataset_meta\\Helipad_Dataset_meta_original\\Folder_050\\Helipad_05086.meta\n",
      "Saved :data\\Helipad_Dataset_meta\\Helipad_Dataset_meta_original\\Folder_050\\Helipad_05087.meta\n",
      "Saved :data\\Helipad_Dataset_meta\\Helipad_Dataset_meta_original\\Folder_050\\Helipad_05088.meta\n",
      "Saved :data\\Helipad_Dataset_meta\\Helipad_Dataset_meta_original\\Folder_050\\Helipad_05089.meta\n",
      "Saved :data\\Helipad_Dataset_meta\\Helipad_Dataset_meta_original\\Folder_050\\Helipad_05090.meta\n",
      "Saved :data\\Helipad_Dataset_meta\\Helipad_Dataset_meta_original\\Folder_050\\Helipad_05091.meta\n",
      "Saved :data\\Helipad_Dataset_meta\\Helipad_Dataset_meta_original\\Folder_050\\Helipad_05092.meta\n",
      "Saved :data\\Helipad_Dataset_meta\\Helipad_Dataset_meta_original\\Folder_050\\Helipad_05093.meta\n",
      "Saved :data\\Helipad_Dataset_meta\\Helipad_Dataset_meta_original\\Folder_050\\Helipad_05094.meta\n",
      "Saved :data\\Helipad_Dataset_meta\\Helipad_Dataset_meta_original\\Folder_050\\Helipad_05095.meta\n",
      "Saved :data\\Helipad_Dataset_meta\\Helipad_Dataset_meta_original\\Folder_050\\Helipad_05096.meta\n",
      "Saved :data\\Helipad_Dataset_meta\\Helipad_Dataset_meta_original\\Folder_050\\Helipad_05097.meta\n",
      "Saved :data\\Helipad_Dataset_meta\\Helipad_Dataset_meta_original\\Folder_050\\Helipad_05098.meta\n",
      "Saved :data\\Helipad_Dataset_meta\\Helipad_Dataset_meta_original\\Folder_050\\Helipad_05099.meta\n",
      "Saved :data\\Helipad_Dataset_meta\\Helipad_Dataset_meta_original\\Folder_051\\Helipad_05100.meta\n",
      "Saved :data\\Helipad_Dataset_meta\\Helipad_Dataset_meta_original\\Folder_051\\Helipad_05101.meta\n",
      "Saved :data\\Helipad_Dataset_meta\\Helipad_Dataset_meta_original\\Folder_051\\Helipad_05102.meta\n",
      "Saved :data\\Helipad_Dataset_meta\\Helipad_Dataset_meta_original\\Folder_051\\Helipad_05103.meta\n"
     ]
    },
    {
     "name": "stdout",
     "output_type": "stream",
     "text": [
      "Saved :data\\Helipad_Dataset_meta\\Helipad_Dataset_meta_original\\Folder_051\\Helipad_05104.meta\n",
      "Saved :data\\Helipad_Dataset_meta\\Helipad_Dataset_meta_original\\Folder_051\\Helipad_05105.meta\n",
      "Saved :data\\Helipad_Dataset_meta\\Helipad_Dataset_meta_original\\Folder_051\\Helipad_05106.meta\n",
      "Saved :data\\Helipad_Dataset_meta\\Helipad_Dataset_meta_original\\Folder_051\\Helipad_05107.meta\n",
      "Saved :data\\Helipad_Dataset_meta\\Helipad_Dataset_meta_original\\Folder_051\\Helipad_05108.meta\n",
      "Saved :data\\Helipad_Dataset_meta\\Helipad_Dataset_meta_original\\Folder_051\\Helipad_05109.meta\n",
      "Saved :data\\Helipad_Dataset_meta\\Helipad_Dataset_meta_original\\Folder_051\\Helipad_05110.meta\n",
      "Saved :data\\Helipad_Dataset_meta\\Helipad_Dataset_meta_original\\Folder_051\\Helipad_05111.meta\n",
      "Saved :data\\Helipad_Dataset_meta\\Helipad_Dataset_meta_original\\Folder_051\\Helipad_05112.meta\n",
      "Saved :data\\Helipad_Dataset_meta\\Helipad_Dataset_meta_original\\Folder_051\\Helipad_05113.meta\n",
      "Saved :data\\Helipad_Dataset_meta\\Helipad_Dataset_meta_original\\Folder_051\\Helipad_05114.meta\n",
      "Saved :data\\Helipad_Dataset_meta\\Helipad_Dataset_meta_original\\Folder_051\\Helipad_05115.meta\n",
      "Saved :data\\Helipad_Dataset_meta\\Helipad_Dataset_meta_original\\Folder_051\\Helipad_05116.meta\n",
      "Saved :data\\Helipad_Dataset_meta\\Helipad_Dataset_meta_original\\Folder_051\\Helipad_05117.meta\n",
      "Saved :data\\Helipad_Dataset_meta\\Helipad_Dataset_meta_original\\Folder_051\\Helipad_05118.meta\n",
      "Saved :data\\Helipad_Dataset_meta\\Helipad_Dataset_meta_original\\Folder_051\\Helipad_05119.meta\n",
      "Saved :data\\Helipad_Dataset_meta\\Helipad_Dataset_meta_original\\Folder_051\\Helipad_05120.meta\n",
      "Saved :data\\Helipad_Dataset_meta\\Helipad_Dataset_meta_original\\Folder_051\\Helipad_05121.meta\n",
      "Saved :data\\Helipad_Dataset_meta\\Helipad_Dataset_meta_original\\Folder_051\\Helipad_05122.meta\n",
      "Saved :data\\Helipad_Dataset_meta\\Helipad_Dataset_meta_original\\Folder_051\\Helipad_05123.meta\n",
      "Saved :data\\Helipad_Dataset_meta\\Helipad_Dataset_meta_original\\Folder_051\\Helipad_05124.meta\n",
      "Saved :data\\Helipad_Dataset_meta\\Helipad_Dataset_meta_original\\Folder_051\\Helipad_05125.meta\n",
      "Saved :data\\Helipad_Dataset_meta\\Helipad_Dataset_meta_original\\Folder_051\\Helipad_05126.meta\n",
      "Saved :data\\Helipad_Dataset_meta\\Helipad_Dataset_meta_original\\Folder_051\\Helipad_05127.meta\n",
      "Saved :data\\Helipad_Dataset_meta\\Helipad_Dataset_meta_original\\Folder_051\\Helipad_05128.meta\n",
      "Saved :data\\Helipad_Dataset_meta\\Helipad_Dataset_meta_original\\Folder_051\\Helipad_05129.meta\n",
      "Saved :data\\Helipad_Dataset_meta\\Helipad_Dataset_meta_original\\Folder_051\\Helipad_05130.meta\n",
      "Saved :data\\Helipad_Dataset_meta\\Helipad_Dataset_meta_original\\Folder_051\\Helipad_05131.meta\n",
      "Saved :data\\Helipad_Dataset_meta\\Helipad_Dataset_meta_original\\Folder_051\\Helipad_05132.meta\n",
      "Saved :data\\Helipad_Dataset_meta\\Helipad_Dataset_meta_original\\Folder_051\\Helipad_05133.meta\n",
      "Saved :data\\Helipad_Dataset_meta\\Helipad_Dataset_meta_original\\Folder_051\\Helipad_05134.meta\n",
      "Saved :data\\Helipad_Dataset_meta\\Helipad_Dataset_meta_original\\Folder_051\\Helipad_05135.meta\n",
      "Saved :data\\Helipad_Dataset_meta\\Helipad_Dataset_meta_original\\Folder_051\\Helipad_05136.meta\n",
      "Saved :data\\Helipad_Dataset_meta\\Helipad_Dataset_meta_original\\Folder_051\\Helipad_05137.meta\n",
      "Saved :data\\Helipad_Dataset_meta\\Helipad_Dataset_meta_original\\Folder_051\\Helipad_05138.meta\n",
      "Saved :data\\Helipad_Dataset_meta\\Helipad_Dataset_meta_original\\Folder_051\\Helipad_05139.meta\n",
      "Saved :data\\Helipad_Dataset_meta\\Helipad_Dataset_meta_original\\Folder_051\\Helipad_05140.meta\n",
      "Saved :data\\Helipad_Dataset_meta\\Helipad_Dataset_meta_original\\Folder_051\\Helipad_05141.meta\n",
      "Saved :data\\Helipad_Dataset_meta\\Helipad_Dataset_meta_original\\Folder_051\\Helipad_05142.meta\n",
      "Saved :data\\Helipad_Dataset_meta\\Helipad_Dataset_meta_original\\Folder_051\\Helipad_05143.meta\n",
      "Saved :data\\Helipad_Dataset_meta\\Helipad_Dataset_meta_original\\Folder_051\\Helipad_05144.meta\n",
      "Saved :data\\Helipad_Dataset_meta\\Helipad_Dataset_meta_original\\Folder_051\\Helipad_05145.meta\n",
      "Saved :data\\Helipad_Dataset_meta\\Helipad_Dataset_meta_original\\Folder_051\\Helipad_05146.meta\n",
      "Saved :data\\Helipad_Dataset_meta\\Helipad_Dataset_meta_original\\Folder_051\\Helipad_05147.meta\n",
      "Saved :data\\Helipad_Dataset_meta\\Helipad_Dataset_meta_original\\Folder_051\\Helipad_05148.meta\n",
      "Saved :data\\Helipad_Dataset_meta\\Helipad_Dataset_meta_original\\Folder_051\\Helipad_05149.meta\n",
      "Saved :data\\Helipad_Dataset_meta\\Helipad_Dataset_meta_original\\Folder_051\\Helipad_05150.meta\n",
      "Saved :data\\Helipad_Dataset_meta\\Helipad_Dataset_meta_original\\Folder_051\\Helipad_05151.meta\n",
      "Saved :data\\Helipad_Dataset_meta\\Helipad_Dataset_meta_original\\Folder_051\\Helipad_05152.meta\n",
      "Saved :data\\Helipad_Dataset_meta\\Helipad_Dataset_meta_original\\Folder_051\\Helipad_05153.meta\n",
      "Saved :data\\Helipad_Dataset_meta\\Helipad_Dataset_meta_original\\Folder_051\\Helipad_05154.meta\n",
      "Saved :data\\Helipad_Dataset_meta\\Helipad_Dataset_meta_original\\Folder_051\\Helipad_05155.meta\n",
      "Saved :data\\Helipad_Dataset_meta\\Helipad_Dataset_meta_original\\Folder_051\\Helipad_05156.meta\n",
      "Saved :data\\Helipad_Dataset_meta\\Helipad_Dataset_meta_original\\Folder_051\\Helipad_05157.meta\n",
      "Saved :data\\Helipad_Dataset_meta\\Helipad_Dataset_meta_original\\Folder_051\\Helipad_05158.meta\n",
      "Saved :data\\Helipad_Dataset_meta\\Helipad_Dataset_meta_original\\Folder_051\\Helipad_05159.meta\n",
      "Saved :data\\Helipad_Dataset_meta\\Helipad_Dataset_meta_original\\Folder_051\\Helipad_05160.meta\n",
      "Saved :data\\Helipad_Dataset_meta\\Helipad_Dataset_meta_original\\Folder_051\\Helipad_05161.meta\n",
      "Saved :data\\Helipad_Dataset_meta\\Helipad_Dataset_meta_original\\Folder_051\\Helipad_05162.meta\n",
      "Saved :data\\Helipad_Dataset_meta\\Helipad_Dataset_meta_original\\Folder_051\\Helipad_05163.meta\n",
      "Saved :data\\Helipad_Dataset_meta\\Helipad_Dataset_meta_original\\Folder_051\\Helipad_05164.meta\n",
      "Saved :data\\Helipad_Dataset_meta\\Helipad_Dataset_meta_original\\Folder_051\\Helipad_05165.meta\n",
      "Saved :data\\Helipad_Dataset_meta\\Helipad_Dataset_meta_original\\Folder_051\\Helipad_05166.meta\n",
      "Saved :data\\Helipad_Dataset_meta\\Helipad_Dataset_meta_original\\Folder_051\\Helipad_05167.meta\n",
      "Saved :data\\Helipad_Dataset_meta\\Helipad_Dataset_meta_original\\Folder_051\\Helipad_05168.meta\n",
      "Saved :data\\Helipad_Dataset_meta\\Helipad_Dataset_meta_original\\Folder_051\\Helipad_05169.meta\n",
      "Saved :data\\Helipad_Dataset_meta\\Helipad_Dataset_meta_original\\Folder_051\\Helipad_05170.meta\n",
      "Saved :data\\Helipad_Dataset_meta\\Helipad_Dataset_meta_original\\Folder_051\\Helipad_05171.meta\n",
      "Saved :data\\Helipad_Dataset_meta\\Helipad_Dataset_meta_original\\Folder_051\\Helipad_05172.meta\n",
      "Saved :data\\Helipad_Dataset_meta\\Helipad_Dataset_meta_original\\Folder_051\\Helipad_05173.meta\n",
      "Saved :data\\Helipad_Dataset_meta\\Helipad_Dataset_meta_original\\Folder_051\\Helipad_05174.meta\n",
      "Saved :data\\Helipad_Dataset_meta\\Helipad_Dataset_meta_original\\Folder_051\\Helipad_05175.meta\n",
      "Saved :data\\Helipad_Dataset_meta\\Helipad_Dataset_meta_original\\Folder_051\\Helipad_05176.meta\n",
      "Saved :data\\Helipad_Dataset_meta\\Helipad_Dataset_meta_original\\Folder_051\\Helipad_05177.meta\n",
      "Saved :data\\Helipad_Dataset_meta\\Helipad_Dataset_meta_original\\Folder_051\\Helipad_05178.meta\n",
      "Saved :data\\Helipad_Dataset_meta\\Helipad_Dataset_meta_original\\Folder_051\\Helipad_05179.meta\n",
      "Saved :data\\Helipad_Dataset_meta\\Helipad_Dataset_meta_original\\Folder_051\\Helipad_05180.meta\n",
      "Saved :data\\Helipad_Dataset_meta\\Helipad_Dataset_meta_original\\Folder_051\\Helipad_05181.meta\n",
      "Saved :data\\Helipad_Dataset_meta\\Helipad_Dataset_meta_original\\Folder_051\\Helipad_05182.meta\n",
      "Saved :data\\Helipad_Dataset_meta\\Helipad_Dataset_meta_original\\Folder_051\\Helipad_05183.meta\n",
      "Saved :data\\Helipad_Dataset_meta\\Helipad_Dataset_meta_original\\Folder_051\\Helipad_05184.meta\n",
      "Saved :data\\Helipad_Dataset_meta\\Helipad_Dataset_meta_original\\Folder_051\\Helipad_05185.meta\n",
      "Saved :data\\Helipad_Dataset_meta\\Helipad_Dataset_meta_original\\Folder_051\\Helipad_05186.meta\n",
      "Saved :data\\Helipad_Dataset_meta\\Helipad_Dataset_meta_original\\Folder_051\\Helipad_05187.meta\n",
      "Saved :data\\Helipad_Dataset_meta\\Helipad_Dataset_meta_original\\Folder_051\\Helipad_05188.meta\n",
      "Saved :data\\Helipad_Dataset_meta\\Helipad_Dataset_meta_original\\Folder_051\\Helipad_05189.meta\n",
      "Saved :data\\Helipad_Dataset_meta\\Helipad_Dataset_meta_original\\Folder_051\\Helipad_05190.meta\n",
      "Saved :data\\Helipad_Dataset_meta\\Helipad_Dataset_meta_original\\Folder_051\\Helipad_05191.meta\n",
      "Saved :data\\Helipad_Dataset_meta\\Helipad_Dataset_meta_original\\Folder_051\\Helipad_05192.meta\n",
      "Saved :data\\Helipad_Dataset_meta\\Helipad_Dataset_meta_original\\Folder_051\\Helipad_05193.meta\n",
      "Saved :data\\Helipad_Dataset_meta\\Helipad_Dataset_meta_original\\Folder_051\\Helipad_05194.meta\n",
      "Saved :data\\Helipad_Dataset_meta\\Helipad_Dataset_meta_original\\Folder_051\\Helipad_05195.meta\n",
      "Saved :data\\Helipad_Dataset_meta\\Helipad_Dataset_meta_original\\Folder_051\\Helipad_05196.meta\n",
      "Saved :data\\Helipad_Dataset_meta\\Helipad_Dataset_meta_original\\Folder_051\\Helipad_05197.meta\n",
      "Saved :data\\Helipad_Dataset_meta\\Helipad_Dataset_meta_original\\Folder_051\\Helipad_05198.meta\n",
      "Saved :data\\Helipad_Dataset_meta\\Helipad_Dataset_meta_original\\Folder_051\\Helipad_05199.meta\n",
      "Saved :data\\Helipad_Dataset_meta\\Helipad_Dataset_meta_original\\Folder_052\\Helipad_05200.meta\n",
      "Saved :data\\Helipad_Dataset_meta\\Helipad_Dataset_meta_original\\Folder_052\\Helipad_05201.meta\n",
      "Saved :data\\Helipad_Dataset_meta\\Helipad_Dataset_meta_original\\Folder_052\\Helipad_05202.meta\n",
      "Saved :data\\Helipad_Dataset_meta\\Helipad_Dataset_meta_original\\Folder_052\\Helipad_05203.meta\n",
      "Saved :data\\Helipad_Dataset_meta\\Helipad_Dataset_meta_original\\Folder_052\\Helipad_05204.meta\n",
      "Saved :data\\Helipad_Dataset_meta\\Helipad_Dataset_meta_original\\Folder_052\\Helipad_05205.meta\n",
      "Saved :data\\Helipad_Dataset_meta\\Helipad_Dataset_meta_original\\Folder_052\\Helipad_05206.meta\n",
      "Saved :data\\Helipad_Dataset_meta\\Helipad_Dataset_meta_original\\Folder_052\\Helipad_05207.meta\n",
      "Saved :data\\Helipad_Dataset_meta\\Helipad_Dataset_meta_original\\Folder_052\\Helipad_05208.meta\n",
      "Saved :data\\Helipad_Dataset_meta\\Helipad_Dataset_meta_original\\Folder_052\\Helipad_05209.meta\n",
      "Saved :data\\Helipad_Dataset_meta\\Helipad_Dataset_meta_original\\Folder_052\\Helipad_05210.meta\n",
      "Saved :data\\Helipad_Dataset_meta\\Helipad_Dataset_meta_original\\Folder_052\\Helipad_05211.meta\n",
      "Saved :data\\Helipad_Dataset_meta\\Helipad_Dataset_meta_original\\Folder_052\\Helipad_05212.meta\n",
      "Saved :data\\Helipad_Dataset_meta\\Helipad_Dataset_meta_original\\Folder_052\\Helipad_05213.meta\n",
      "Saved :data\\Helipad_Dataset_meta\\Helipad_Dataset_meta_original\\Folder_052\\Helipad_05214.meta\n",
      "Saved :data\\Helipad_Dataset_meta\\Helipad_Dataset_meta_original\\Folder_052\\Helipad_05215.meta\n",
      "Saved :data\\Helipad_Dataset_meta\\Helipad_Dataset_meta_original\\Folder_052\\Helipad_05216.meta\n",
      "Saved :data\\Helipad_Dataset_meta\\Helipad_Dataset_meta_original\\Folder_052\\Helipad_05217.meta\n",
      "Saved :data\\Helipad_Dataset_meta\\Helipad_Dataset_meta_original\\Folder_052\\Helipad_05218.meta\n",
      "Saved :data\\Helipad_Dataset_meta\\Helipad_Dataset_meta_original\\Folder_052\\Helipad_05219.meta\n",
      "Saved :data\\Helipad_Dataset_meta\\Helipad_Dataset_meta_original\\Folder_052\\Helipad_05220.meta\n",
      "Saved :data\\Helipad_Dataset_meta\\Helipad_Dataset_meta_original\\Folder_052\\Helipad_05221.meta\n",
      "Saved :data\\Helipad_Dataset_meta\\Helipad_Dataset_meta_original\\Folder_052\\Helipad_05222.meta\n",
      "Saved :data\\Helipad_Dataset_meta\\Helipad_Dataset_meta_original\\Folder_052\\Helipad_05223.meta\n",
      "Saved :data\\Helipad_Dataset_meta\\Helipad_Dataset_meta_original\\Folder_052\\Helipad_05224.meta\n",
      "Saved :data\\Helipad_Dataset_meta\\Helipad_Dataset_meta_original\\Folder_052\\Helipad_05225.meta\n",
      "Saved :data\\Helipad_Dataset_meta\\Helipad_Dataset_meta_original\\Folder_052\\Helipad_05226.meta\n",
      "Saved :data\\Helipad_Dataset_meta\\Helipad_Dataset_meta_original\\Folder_052\\Helipad_05227.meta\n",
      "Saved :data\\Helipad_Dataset_meta\\Helipad_Dataset_meta_original\\Folder_052\\Helipad_05228.meta\n",
      "Saved :data\\Helipad_Dataset_meta\\Helipad_Dataset_meta_original\\Folder_052\\Helipad_05229.meta\n",
      "Saved :data\\Helipad_Dataset_meta\\Helipad_Dataset_meta_original\\Folder_052\\Helipad_05230.meta\n",
      "Saved :data\\Helipad_Dataset_meta\\Helipad_Dataset_meta_original\\Folder_052\\Helipad_05231.meta\n",
      "Saved :data\\Helipad_Dataset_meta\\Helipad_Dataset_meta_original\\Folder_052\\Helipad_05232.meta\n",
      "Saved :data\\Helipad_Dataset_meta\\Helipad_Dataset_meta_original\\Folder_052\\Helipad_05233.meta\n",
      "Saved :data\\Helipad_Dataset_meta\\Helipad_Dataset_meta_original\\Folder_052\\Helipad_05234.meta\n",
      "Saved :data\\Helipad_Dataset_meta\\Helipad_Dataset_meta_original\\Folder_052\\Helipad_05235.meta\n",
      "Saved :data\\Helipad_Dataset_meta\\Helipad_Dataset_meta_original\\Folder_052\\Helipad_05236.meta\n",
      "Saved :data\\Helipad_Dataset_meta\\Helipad_Dataset_meta_original\\Folder_052\\Helipad_05237.meta\n",
      "Saved :data\\Helipad_Dataset_meta\\Helipad_Dataset_meta_original\\Folder_052\\Helipad_05238.meta\n",
      "Saved :data\\Helipad_Dataset_meta\\Helipad_Dataset_meta_original\\Folder_052\\Helipad_05239.meta\n",
      "Saved :data\\Helipad_Dataset_meta\\Helipad_Dataset_meta_original\\Folder_052\\Helipad_05240.meta\n",
      "Saved :data\\Helipad_Dataset_meta\\Helipad_Dataset_meta_original\\Folder_052\\Helipad_05241.meta\n",
      "Saved :data\\Helipad_Dataset_meta\\Helipad_Dataset_meta_original\\Folder_052\\Helipad_05242.meta\n",
      "Saved :data\\Helipad_Dataset_meta\\Helipad_Dataset_meta_original\\Folder_052\\Helipad_05243.meta\n",
      "Saved :data\\Helipad_Dataset_meta\\Helipad_Dataset_meta_original\\Folder_052\\Helipad_05244.meta\n",
      "Saved :data\\Helipad_Dataset_meta\\Helipad_Dataset_meta_original\\Folder_052\\Helipad_05245.meta\n",
      "Saved :data\\Helipad_Dataset_meta\\Helipad_Dataset_meta_original\\Folder_052\\Helipad_05246.meta\n",
      "Saved :data\\Helipad_Dataset_meta\\Helipad_Dataset_meta_original\\Folder_052\\Helipad_05247.meta\n",
      "Saved :data\\Helipad_Dataset_meta\\Helipad_Dataset_meta_original\\Folder_052\\Helipad_05248.meta\n",
      "Saved :data\\Helipad_Dataset_meta\\Helipad_Dataset_meta_original\\Folder_052\\Helipad_05249.meta\n",
      "Saved :data\\Helipad_Dataset_meta\\Helipad_Dataset_meta_original\\Folder_052\\Helipad_05250.meta\n",
      "Saved :data\\Helipad_Dataset_meta\\Helipad_Dataset_meta_original\\Folder_052\\Helipad_05251.meta\n",
      "Saved :data\\Helipad_Dataset_meta\\Helipad_Dataset_meta_original\\Folder_052\\Helipad_05252.meta\n",
      "Saved :data\\Helipad_Dataset_meta\\Helipad_Dataset_meta_original\\Folder_052\\Helipad_05253.meta\n",
      "Saved :data\\Helipad_Dataset_meta\\Helipad_Dataset_meta_original\\Folder_052\\Helipad_05254.meta\n",
      "Saved :data\\Helipad_Dataset_meta\\Helipad_Dataset_meta_original\\Folder_052\\Helipad_05255.meta\n",
      "Saved :data\\Helipad_Dataset_meta\\Helipad_Dataset_meta_original\\Folder_052\\Helipad_05256.meta\n",
      "Saved :data\\Helipad_Dataset_meta\\Helipad_Dataset_meta_original\\Folder_052\\Helipad_05257.meta\n",
      "Saved :data\\Helipad_Dataset_meta\\Helipad_Dataset_meta_original\\Folder_052\\Helipad_05258.meta\n",
      "Saved :data\\Helipad_Dataset_meta\\Helipad_Dataset_meta_original\\Folder_052\\Helipad_05259.meta\n",
      "Saved :data\\Helipad_Dataset_meta\\Helipad_Dataset_meta_original\\Folder_052\\Helipad_05260.meta\n",
      "Saved :data\\Helipad_Dataset_meta\\Helipad_Dataset_meta_original\\Folder_052\\Helipad_05261.meta\n",
      "Saved :data\\Helipad_Dataset_meta\\Helipad_Dataset_meta_original\\Folder_052\\Helipad_05262.meta\n"
     ]
    },
    {
     "name": "stdout",
     "output_type": "stream",
     "text": [
      "Saved :data\\Helipad_Dataset_meta\\Helipad_Dataset_meta_original\\Folder_052\\Helipad_05263.meta\n",
      "Saved :data\\Helipad_Dataset_meta\\Helipad_Dataset_meta_original\\Folder_052\\Helipad_05264.meta\n",
      "Saved :data\\Helipad_Dataset_meta\\Helipad_Dataset_meta_original\\Folder_052\\Helipad_05265.meta\n",
      "Saved :data\\Helipad_Dataset_meta\\Helipad_Dataset_meta_original\\Folder_052\\Helipad_05266.meta\n",
      "Saved :data\\Helipad_Dataset_meta\\Helipad_Dataset_meta_original\\Folder_052\\Helipad_05267.meta\n",
      "Saved :data\\Helipad_Dataset_meta\\Helipad_Dataset_meta_original\\Folder_052\\Helipad_05268.meta\n",
      "Saved :data\\Helipad_Dataset_meta\\Helipad_Dataset_meta_original\\Folder_052\\Helipad_05269.meta\n",
      "Saved :data\\Helipad_Dataset_meta\\Helipad_Dataset_meta_original\\Folder_052\\Helipad_05270.meta\n",
      "Saved :data\\Helipad_Dataset_meta\\Helipad_Dataset_meta_original\\Folder_052\\Helipad_05271.meta\n",
      "Saved :data\\Helipad_Dataset_meta\\Helipad_Dataset_meta_original\\Folder_052\\Helipad_05272.meta\n",
      "Saved :data\\Helipad_Dataset_meta\\Helipad_Dataset_meta_original\\Folder_052\\Helipad_05273.meta\n",
      "Saved :data\\Helipad_Dataset_meta\\Helipad_Dataset_meta_original\\Folder_052\\Helipad_05274.meta\n",
      "Saved :data\\Helipad_Dataset_meta\\Helipad_Dataset_meta_original\\Folder_052\\Helipad_05275.meta\n",
      "Saved :data\\Helipad_Dataset_meta\\Helipad_Dataset_meta_original\\Folder_052\\Helipad_05276.meta\n",
      "Saved :data\\Helipad_Dataset_meta\\Helipad_Dataset_meta_original\\Folder_052\\Helipad_05277.meta\n",
      "Saved :data\\Helipad_Dataset_meta\\Helipad_Dataset_meta_original\\Folder_052\\Helipad_05278.meta\n",
      "Saved :data\\Helipad_Dataset_meta\\Helipad_Dataset_meta_original\\Folder_052\\Helipad_05279.meta\n",
      "Saved :data\\Helipad_Dataset_meta\\Helipad_Dataset_meta_original\\Folder_052\\Helipad_05280.meta\n",
      "Saved :data\\Helipad_Dataset_meta\\Helipad_Dataset_meta_original\\Folder_052\\Helipad_05281.meta\n",
      "Saved :data\\Helipad_Dataset_meta\\Helipad_Dataset_meta_original\\Folder_052\\Helipad_05282.meta\n",
      "Saved :data\\Helipad_Dataset_meta\\Helipad_Dataset_meta_original\\Folder_052\\Helipad_05283.meta\n",
      "Saved :data\\Helipad_Dataset_meta\\Helipad_Dataset_meta_original\\Folder_052\\Helipad_05284.meta\n",
      "Saved :data\\Helipad_Dataset_meta\\Helipad_Dataset_meta_original\\Folder_052\\Helipad_05285.meta\n",
      "Saved :data\\Helipad_Dataset_meta\\Helipad_Dataset_meta_original\\Folder_052\\Helipad_05286.meta\n",
      "Saved :data\\Helipad_Dataset_meta\\Helipad_Dataset_meta_original\\Folder_052\\Helipad_05287.meta\n",
      "Saved :data\\Helipad_Dataset_meta\\Helipad_Dataset_meta_original\\Folder_052\\Helipad_05288.meta\n",
      "Saved :data\\Helipad_Dataset_meta\\Helipad_Dataset_meta_original\\Folder_052\\Helipad_05289.meta\n",
      "Saved :data\\Helipad_Dataset_meta\\Helipad_Dataset_meta_original\\Folder_052\\Helipad_05290.meta\n",
      "Saved :data\\Helipad_Dataset_meta\\Helipad_Dataset_meta_original\\Folder_052\\Helipad_05291.meta\n",
      "Saved :data\\Helipad_Dataset_meta\\Helipad_Dataset_meta_original\\Folder_052\\Helipad_05292.meta\n",
      "Saved :data\\Helipad_Dataset_meta\\Helipad_Dataset_meta_original\\Folder_052\\Helipad_05293.meta\n",
      "Saved :data\\Helipad_Dataset_meta\\Helipad_Dataset_meta_original\\Folder_052\\Helipad_05294.meta\n",
      "Saved :data\\Helipad_Dataset_meta\\Helipad_Dataset_meta_original\\Folder_052\\Helipad_05295.meta\n",
      "Saved :data\\Helipad_Dataset_meta\\Helipad_Dataset_meta_original\\Folder_052\\Helipad_05296.meta\n",
      "Saved :data\\Helipad_Dataset_meta\\Helipad_Dataset_meta_original\\Folder_052\\Helipad_05297.meta\n",
      "Saved :data\\Helipad_Dataset_meta\\Helipad_Dataset_meta_original\\Folder_052\\Helipad_05298.meta\n",
      "Saved :data\\Helipad_Dataset_meta\\Helipad_Dataset_meta_original\\Folder_052\\Helipad_05299.meta\n",
      "Saved :data\\Helipad_Dataset_meta\\Helipad_Dataset_meta_original\\Folder_053\\Helipad_05300.meta\n",
      "Saved :data\\Helipad_Dataset_meta\\Helipad_Dataset_meta_original\\Folder_053\\Helipad_05301.meta\n",
      "Saved :data\\Helipad_Dataset_meta\\Helipad_Dataset_meta_original\\Folder_053\\Helipad_05302.meta\n",
      "Saved :data\\Helipad_Dataset_meta\\Helipad_Dataset_meta_original\\Folder_053\\Helipad_05303.meta\n",
      "Saved :data\\Helipad_Dataset_meta\\Helipad_Dataset_meta_original\\Folder_053\\Helipad_05304.meta\n",
      "Saved :data\\Helipad_Dataset_meta\\Helipad_Dataset_meta_original\\Folder_053\\Helipad_05305.meta\n",
      "Saved :data\\Helipad_Dataset_meta\\Helipad_Dataset_meta_original\\Folder_053\\Helipad_05306.meta\n",
      "Saved :data\\Helipad_Dataset_meta\\Helipad_Dataset_meta_original\\Folder_053\\Helipad_05307.meta\n",
      "Saved :data\\Helipad_Dataset_meta\\Helipad_Dataset_meta_original\\Folder_053\\Helipad_05308.meta\n",
      "Saved :data\\Helipad_Dataset_meta\\Helipad_Dataset_meta_original\\Folder_053\\Helipad_05309.meta\n",
      "Saved :data\\Helipad_Dataset_meta\\Helipad_Dataset_meta_original\\Folder_053\\Helipad_05310.meta\n",
      "Saved :data\\Helipad_Dataset_meta\\Helipad_Dataset_meta_original\\Folder_053\\Helipad_05311.meta\n",
      "Saved :data\\Helipad_Dataset_meta\\Helipad_Dataset_meta_original\\Folder_053\\Helipad_05312.meta\n",
      "Saved :data\\Helipad_Dataset_meta\\Helipad_Dataset_meta_original\\Folder_053\\Helipad_05313.meta\n",
      "Saved :data\\Helipad_Dataset_meta\\Helipad_Dataset_meta_original\\Folder_053\\Helipad_05314.meta\n",
      "Saved :data\\Helipad_Dataset_meta\\Helipad_Dataset_meta_original\\Folder_053\\Helipad_05315.meta\n",
      "Saved :data\\Helipad_Dataset_meta\\Helipad_Dataset_meta_original\\Folder_053\\Helipad_05316.meta\n",
      "Saved :data\\Helipad_Dataset_meta\\Helipad_Dataset_meta_original\\Folder_053\\Helipad_05317.meta\n",
      "Saved :data\\Helipad_Dataset_meta\\Helipad_Dataset_meta_original\\Folder_053\\Helipad_05318.meta\n",
      "Saved :data\\Helipad_Dataset_meta\\Helipad_Dataset_meta_original\\Folder_053\\Helipad_05319.meta\n",
      "Saved :data\\Helipad_Dataset_meta\\Helipad_Dataset_meta_original\\Folder_053\\Helipad_05320.meta\n",
      "Saved :data\\Helipad_Dataset_meta\\Helipad_Dataset_meta_original\\Folder_053\\Helipad_05321.meta\n",
      "Saved :data\\Helipad_Dataset_meta\\Helipad_Dataset_meta_original\\Folder_053\\Helipad_05322.meta\n",
      "Saved :data\\Helipad_Dataset_meta\\Helipad_Dataset_meta_original\\Folder_053\\Helipad_05323.meta\n",
      "Saved :data\\Helipad_Dataset_meta\\Helipad_Dataset_meta_original\\Folder_053\\Helipad_05324.meta\n",
      "Saved :data\\Helipad_Dataset_meta\\Helipad_Dataset_meta_original\\Folder_053\\Helipad_05325.meta\n",
      "Saved :data\\Helipad_Dataset_meta\\Helipad_Dataset_meta_original\\Folder_053\\Helipad_05326.meta\n",
      "Saved :data\\Helipad_Dataset_meta\\Helipad_Dataset_meta_original\\Folder_053\\Helipad_05327.meta\n",
      "Saved :data\\Helipad_Dataset_meta\\Helipad_Dataset_meta_original\\Folder_053\\Helipad_05328.meta\n",
      "Saved :data\\Helipad_Dataset_meta\\Helipad_Dataset_meta_original\\Folder_053\\Helipad_05329.meta\n",
      "Saved :data\\Helipad_Dataset_meta\\Helipad_Dataset_meta_original\\Folder_053\\Helipad_05330.meta\n",
      "Saved :data\\Helipad_Dataset_meta\\Helipad_Dataset_meta_original\\Folder_053\\Helipad_05331.meta\n",
      "Saved :data\\Helipad_Dataset_meta\\Helipad_Dataset_meta_original\\Folder_053\\Helipad_05332.meta\n",
      "Saved :data\\Helipad_Dataset_meta\\Helipad_Dataset_meta_original\\Folder_053\\Helipad_05333.meta\n",
      "Saved :data\\Helipad_Dataset_meta\\Helipad_Dataset_meta_original\\Folder_053\\Helipad_05334.meta\n",
      "Saved :data\\Helipad_Dataset_meta\\Helipad_Dataset_meta_original\\Folder_053\\Helipad_05335.meta\n",
      "Saved :data\\Helipad_Dataset_meta\\Helipad_Dataset_meta_original\\Folder_053\\Helipad_05336.meta\n",
      "Saved :data\\Helipad_Dataset_meta\\Helipad_Dataset_meta_original\\Folder_053\\Helipad_05337.meta\n",
      "Saved :data\\Helipad_Dataset_meta\\Helipad_Dataset_meta_original\\Folder_053\\Helipad_05338.meta\n",
      "Saved :data\\Helipad_Dataset_meta\\Helipad_Dataset_meta_original\\Folder_053\\Helipad_05339.meta\n",
      "Saved :data\\Helipad_Dataset_meta\\Helipad_Dataset_meta_original\\Folder_053\\Helipad_05340.meta\n",
      "Saved :data\\Helipad_Dataset_meta\\Helipad_Dataset_meta_original\\Folder_053\\Helipad_05341.meta\n",
      "Saved :data\\Helipad_Dataset_meta\\Helipad_Dataset_meta_original\\Folder_053\\Helipad_05342.meta\n",
      "Saved :data\\Helipad_Dataset_meta\\Helipad_Dataset_meta_original\\Folder_053\\Helipad_05343.meta\n",
      "Saved :data\\Helipad_Dataset_meta\\Helipad_Dataset_meta_original\\Folder_053\\Helipad_05344.meta\n",
      "Saved :data\\Helipad_Dataset_meta\\Helipad_Dataset_meta_original\\Folder_053\\Helipad_05345.meta\n",
      "Saved :data\\Helipad_Dataset_meta\\Helipad_Dataset_meta_original\\Folder_053\\Helipad_05346.meta\n",
      "Saved :data\\Helipad_Dataset_meta\\Helipad_Dataset_meta_original\\Folder_053\\Helipad_05347.meta\n",
      "Saved :data\\Helipad_Dataset_meta\\Helipad_Dataset_meta_original\\Folder_053\\Helipad_05348.meta\n",
      "Saved :data\\Helipad_Dataset_meta\\Helipad_Dataset_meta_original\\Folder_053\\Helipad_05349.meta\n",
      "Saved :data\\Helipad_Dataset_meta\\Helipad_Dataset_meta_original\\Folder_053\\Helipad_05350.meta\n",
      "Saved :data\\Helipad_Dataset_meta\\Helipad_Dataset_meta_original\\Folder_053\\Helipad_05351.meta\n",
      "Saved :data\\Helipad_Dataset_meta\\Helipad_Dataset_meta_original\\Folder_053\\Helipad_05352.meta\n",
      "Saved :data\\Helipad_Dataset_meta\\Helipad_Dataset_meta_original\\Folder_053\\Helipad_05353.meta\n",
      "Saved :data\\Helipad_Dataset_meta\\Helipad_Dataset_meta_original\\Folder_053\\Helipad_05354.meta\n",
      "Saved :data\\Helipad_Dataset_meta\\Helipad_Dataset_meta_original\\Folder_053\\Helipad_05355.meta\n",
      "Saved :data\\Helipad_Dataset_meta\\Helipad_Dataset_meta_original\\Folder_053\\Helipad_05356.meta\n",
      "Saved :data\\Helipad_Dataset_meta\\Helipad_Dataset_meta_original\\Folder_053\\Helipad_05357.meta\n",
      "Saved :data\\Helipad_Dataset_meta\\Helipad_Dataset_meta_original\\Folder_053\\Helipad_05358.meta\n",
      "Saved :data\\Helipad_Dataset_meta\\Helipad_Dataset_meta_original\\Folder_053\\Helipad_05359.meta\n",
      "Saved :data\\Helipad_Dataset_meta\\Helipad_Dataset_meta_original\\Folder_053\\Helipad_05360.meta\n",
      "Saved :data\\Helipad_Dataset_meta\\Helipad_Dataset_meta_original\\Folder_053\\Helipad_05361.meta\n",
      "Saved :data\\Helipad_Dataset_meta\\Helipad_Dataset_meta_original\\Folder_053\\Helipad_05362.meta\n",
      "Saved :data\\Helipad_Dataset_meta\\Helipad_Dataset_meta_original\\Folder_053\\Helipad_05363.meta\n",
      "Saved :data\\Helipad_Dataset_meta\\Helipad_Dataset_meta_original\\Folder_053\\Helipad_05364.meta\n",
      "Saved :data\\Helipad_Dataset_meta\\Helipad_Dataset_meta_original\\Folder_053\\Helipad_05365.meta\n",
      "Saved :data\\Helipad_Dataset_meta\\Helipad_Dataset_meta_original\\Folder_053\\Helipad_05366.meta\n",
      "Saved :data\\Helipad_Dataset_meta\\Helipad_Dataset_meta_original\\Folder_053\\Helipad_05367.meta\n",
      "Saved :data\\Helipad_Dataset_meta\\Helipad_Dataset_meta_original\\Folder_053\\Helipad_05368.meta\n",
      "Saved :data\\Helipad_Dataset_meta\\Helipad_Dataset_meta_original\\Folder_053\\Helipad_05369.meta\n",
      "Saved :data\\Helipad_Dataset_meta\\Helipad_Dataset_meta_original\\Folder_053\\Helipad_05370.meta\n",
      "Saved :data\\Helipad_Dataset_meta\\Helipad_Dataset_meta_original\\Folder_053\\Helipad_05371.meta\n",
      "Saved :data\\Helipad_Dataset_meta\\Helipad_Dataset_meta_original\\Folder_053\\Helipad_05372.meta\n",
      "Saved :data\\Helipad_Dataset_meta\\Helipad_Dataset_meta_original\\Folder_053\\Helipad_05373.meta\n",
      "Saved :data\\Helipad_Dataset_meta\\Helipad_Dataset_meta_original\\Folder_053\\Helipad_05374.meta\n",
      "Saved :data\\Helipad_Dataset_meta\\Helipad_Dataset_meta_original\\Folder_053\\Helipad_05375.meta\n",
      "Saved :data\\Helipad_Dataset_meta\\Helipad_Dataset_meta_original\\Folder_053\\Helipad_05376.meta\n",
      "Saved :data\\Helipad_Dataset_meta\\Helipad_Dataset_meta_original\\Folder_053\\Helipad_05377.meta\n",
      "Saved :data\\Helipad_Dataset_meta\\Helipad_Dataset_meta_original\\Folder_053\\Helipad_05378.meta\n",
      "Saved :data\\Helipad_Dataset_meta\\Helipad_Dataset_meta_original\\Folder_053\\Helipad_05379.meta\n",
      "Saved :data\\Helipad_Dataset_meta\\Helipad_Dataset_meta_original\\Folder_053\\Helipad_05380.meta\n",
      "Saved :data\\Helipad_Dataset_meta\\Helipad_Dataset_meta_original\\Folder_053\\Helipad_05381.meta\n",
      "Saved :data\\Helipad_Dataset_meta\\Helipad_Dataset_meta_original\\Folder_053\\Helipad_05382.meta\n",
      "Saved :data\\Helipad_Dataset_meta\\Helipad_Dataset_meta_original\\Folder_053\\Helipad_05383.meta\n",
      "Saved :data\\Helipad_Dataset_meta\\Helipad_Dataset_meta_original\\Folder_053\\Helipad_05384.meta\n",
      "Saved :data\\Helipad_Dataset_meta\\Helipad_Dataset_meta_original\\Folder_053\\Helipad_05385.meta\n",
      "Saved :data\\Helipad_Dataset_meta\\Helipad_Dataset_meta_original\\Folder_053\\Helipad_05386.meta\n",
      "Saved :data\\Helipad_Dataset_meta\\Helipad_Dataset_meta_original\\Folder_053\\Helipad_05387.meta\n",
      "Saved :data\\Helipad_Dataset_meta\\Helipad_Dataset_meta_original\\Folder_053\\Helipad_05388.meta\n",
      "Saved :data\\Helipad_Dataset_meta\\Helipad_Dataset_meta_original\\Folder_053\\Helipad_05389.meta\n",
      "Saved :data\\Helipad_Dataset_meta\\Helipad_Dataset_meta_original\\Folder_053\\Helipad_05390.meta\n",
      "Saved :data\\Helipad_Dataset_meta\\Helipad_Dataset_meta_original\\Folder_053\\Helipad_05391.meta\n",
      "Saved :data\\Helipad_Dataset_meta\\Helipad_Dataset_meta_original\\Folder_053\\Helipad_05392.meta\n",
      "Saved :data\\Helipad_Dataset_meta\\Helipad_Dataset_meta_original\\Folder_053\\Helipad_05393.meta\n",
      "Saved :data\\Helipad_Dataset_meta\\Helipad_Dataset_meta_original\\Folder_053\\Helipad_05394.meta\n",
      "Saved :data\\Helipad_Dataset_meta\\Helipad_Dataset_meta_original\\Folder_053\\Helipad_05395.meta\n",
      "Saved :data\\Helipad_Dataset_meta\\Helipad_Dataset_meta_original\\Folder_053\\Helipad_05396.meta\n",
      "Saved :data\\Helipad_Dataset_meta\\Helipad_Dataset_meta_original\\Folder_053\\Helipad_05397.meta\n",
      "Saved :data\\Helipad_Dataset_meta\\Helipad_Dataset_meta_original\\Folder_053\\Helipad_05398.meta\n",
      "Saved :data\\Helipad_Dataset_meta\\Helipad_Dataset_meta_original\\Folder_053\\Helipad_05399.meta\n",
      "Saved :data\\Helipad_Dataset_meta\\Helipad_Dataset_meta_original\\Folder_054\\Helipad_05400.meta\n",
      "Saved :data\\Helipad_Dataset_meta\\Helipad_Dataset_meta_original\\Folder_054\\Helipad_05401.meta\n",
      "Saved :data\\Helipad_Dataset_meta\\Helipad_Dataset_meta_original\\Folder_054\\Helipad_05402.meta\n",
      "Saved :data\\Helipad_Dataset_meta\\Helipad_Dataset_meta_original\\Folder_054\\Helipad_05403.meta\n",
      "Saved :data\\Helipad_Dataset_meta\\Helipad_Dataset_meta_original\\Folder_054\\Helipad_05404.meta\n",
      "Saved :data\\Helipad_Dataset_meta\\Helipad_Dataset_meta_original\\Folder_054\\Helipad_05405.meta\n",
      "Saved :data\\Helipad_Dataset_meta\\Helipad_Dataset_meta_original\\Folder_054\\Helipad_05406.meta\n",
      "Saved :data\\Helipad_Dataset_meta\\Helipad_Dataset_meta_original\\Folder_054\\Helipad_05407.meta\n",
      "Saved :data\\Helipad_Dataset_meta\\Helipad_Dataset_meta_original\\Folder_054\\Helipad_05408.meta\n",
      "Saved :data\\Helipad_Dataset_meta\\Helipad_Dataset_meta_original\\Folder_054\\Helipad_05409.meta\n",
      "Saved :data\\Helipad_Dataset_meta\\Helipad_Dataset_meta_original\\Folder_054\\Helipad_05410.meta\n",
      "Saved :data\\Helipad_Dataset_meta\\Helipad_Dataset_meta_original\\Folder_054\\Helipad_05411.meta\n",
      "Saved :data\\Helipad_Dataset_meta\\Helipad_Dataset_meta_original\\Folder_054\\Helipad_05412.meta\n",
      "Saved :data\\Helipad_Dataset_meta\\Helipad_Dataset_meta_original\\Folder_054\\Helipad_05413.meta\n",
      "Saved :data\\Helipad_Dataset_meta\\Helipad_Dataset_meta_original\\Folder_054\\Helipad_05414.meta\n",
      "Saved :data\\Helipad_Dataset_meta\\Helipad_Dataset_meta_original\\Folder_054\\Helipad_05415.meta\n",
      "Saved :data\\Helipad_Dataset_meta\\Helipad_Dataset_meta_original\\Folder_054\\Helipad_05416.meta\n",
      "Saved :data\\Helipad_Dataset_meta\\Helipad_Dataset_meta_original\\Folder_054\\Helipad_05417.meta\n",
      "Saved :data\\Helipad_Dataset_meta\\Helipad_Dataset_meta_original\\Folder_054\\Helipad_05418.meta\n",
      "Saved :data\\Helipad_Dataset_meta\\Helipad_Dataset_meta_original\\Folder_054\\Helipad_05419.meta\n",
      "Saved :data\\Helipad_Dataset_meta\\Helipad_Dataset_meta_original\\Folder_054\\Helipad_05420.meta\n"
     ]
    },
    {
     "name": "stdout",
     "output_type": "stream",
     "text": [
      "Saved :data\\Helipad_Dataset_meta\\Helipad_Dataset_meta_original\\Folder_054\\Helipad_05421.meta\n",
      "Saved :data\\Helipad_Dataset_meta\\Helipad_Dataset_meta_original\\Folder_054\\Helipad_05422.meta\n",
      "Saved :data\\Helipad_Dataset_meta\\Helipad_Dataset_meta_original\\Folder_054\\Helipad_05423.meta\n",
      "Saved :data\\Helipad_Dataset_meta\\Helipad_Dataset_meta_original\\Folder_054\\Helipad_05424.meta\n",
      "Saved :data\\Helipad_Dataset_meta\\Helipad_Dataset_meta_original\\Folder_054\\Helipad_05425.meta\n",
      "Saved :data\\Helipad_Dataset_meta\\Helipad_Dataset_meta_original\\Folder_054\\Helipad_05426.meta\n",
      "Saved :data\\Helipad_Dataset_meta\\Helipad_Dataset_meta_original\\Folder_054\\Helipad_05427.meta\n",
      "Saved :data\\Helipad_Dataset_meta\\Helipad_Dataset_meta_original\\Folder_054\\Helipad_05428.meta\n",
      "Saved :data\\Helipad_Dataset_meta\\Helipad_Dataset_meta_original\\Folder_054\\Helipad_05429.meta\n",
      "Saved :data\\Helipad_Dataset_meta\\Helipad_Dataset_meta_original\\Folder_054\\Helipad_05430.meta\n",
      "Saved :data\\Helipad_Dataset_meta\\Helipad_Dataset_meta_original\\Folder_054\\Helipad_05431.meta\n",
      "Saved :data\\Helipad_Dataset_meta\\Helipad_Dataset_meta_original\\Folder_054\\Helipad_05432.meta\n",
      "Saved :data\\Helipad_Dataset_meta\\Helipad_Dataset_meta_original\\Folder_054\\Helipad_05433.meta\n",
      "Saved :data\\Helipad_Dataset_meta\\Helipad_Dataset_meta_original\\Folder_054\\Helipad_05434.meta\n",
      "Saved :data\\Helipad_Dataset_meta\\Helipad_Dataset_meta_original\\Folder_054\\Helipad_05435.meta\n",
      "Saved :data\\Helipad_Dataset_meta\\Helipad_Dataset_meta_original\\Folder_054\\Helipad_05436.meta\n",
      "Saved :data\\Helipad_Dataset_meta\\Helipad_Dataset_meta_original\\Folder_054\\Helipad_05437.meta\n",
      "Saved :data\\Helipad_Dataset_meta\\Helipad_Dataset_meta_original\\Folder_054\\Helipad_05438.meta\n",
      "Saved :data\\Helipad_Dataset_meta\\Helipad_Dataset_meta_original\\Folder_054\\Helipad_05439.meta\n",
      "Saved :data\\Helipad_Dataset_meta\\Helipad_Dataset_meta_original\\Folder_054\\Helipad_05440.meta\n",
      "Saved :data\\Helipad_Dataset_meta\\Helipad_Dataset_meta_original\\Folder_054\\Helipad_05441.meta\n",
      "Saved :data\\Helipad_Dataset_meta\\Helipad_Dataset_meta_original\\Folder_054\\Helipad_05442.meta\n",
      "Saved :data\\Helipad_Dataset_meta\\Helipad_Dataset_meta_original\\Folder_054\\Helipad_05443.meta\n",
      "Saved :data\\Helipad_Dataset_meta\\Helipad_Dataset_meta_original\\Folder_054\\Helipad_05444.meta\n",
      "Saved :data\\Helipad_Dataset_meta\\Helipad_Dataset_meta_original\\Folder_054\\Helipad_05445.meta\n",
      "Saved :data\\Helipad_Dataset_meta\\Helipad_Dataset_meta_original\\Folder_054\\Helipad_05446.meta\n",
      "Saved :data\\Helipad_Dataset_meta\\Helipad_Dataset_meta_original\\Folder_054\\Helipad_05447.meta\n",
      "Saved :data\\Helipad_Dataset_meta\\Helipad_Dataset_meta_original\\Folder_054\\Helipad_05448.meta\n",
      "Saved :data\\Helipad_Dataset_meta\\Helipad_Dataset_meta_original\\Folder_054\\Helipad_05449.meta\n",
      "Saved :data\\Helipad_Dataset_meta\\Helipad_Dataset_meta_original\\Folder_054\\Helipad_05450.meta\n",
      "Saved :data\\Helipad_Dataset_meta\\Helipad_Dataset_meta_original\\Folder_054\\Helipad_05451.meta\n",
      "Saved :data\\Helipad_Dataset_meta\\Helipad_Dataset_meta_original\\Folder_054\\Helipad_05452.meta\n",
      "Saved :data\\Helipad_Dataset_meta\\Helipad_Dataset_meta_original\\Folder_054\\Helipad_05453.meta\n",
      "Saved :data\\Helipad_Dataset_meta\\Helipad_Dataset_meta_original\\Folder_054\\Helipad_05454.meta\n",
      "Saved :data\\Helipad_Dataset_meta\\Helipad_Dataset_meta_original\\Folder_054\\Helipad_05455.meta\n",
      "Saved :data\\Helipad_Dataset_meta\\Helipad_Dataset_meta_original\\Folder_054\\Helipad_05456.meta\n",
      "Saved :data\\Helipad_Dataset_meta\\Helipad_Dataset_meta_original\\Folder_054\\Helipad_05457.meta\n",
      "Saved :data\\Helipad_Dataset_meta\\Helipad_Dataset_meta_original\\Folder_054\\Helipad_05458.meta\n",
      "Saved :data\\Helipad_Dataset_meta\\Helipad_Dataset_meta_original\\Folder_054\\Helipad_05459.meta\n",
      "Saved :data\\Helipad_Dataset_meta\\Helipad_Dataset_meta_original\\Folder_054\\Helipad_05460.meta\n",
      "Saved :data\\Helipad_Dataset_meta\\Helipad_Dataset_meta_original\\Folder_054\\Helipad_05461.meta\n",
      "Saved :data\\Helipad_Dataset_meta\\Helipad_Dataset_meta_original\\Folder_054\\Helipad_05462.meta\n",
      "Saved :data\\Helipad_Dataset_meta\\Helipad_Dataset_meta_original\\Folder_054\\Helipad_05463.meta\n",
      "Saved :data\\Helipad_Dataset_meta\\Helipad_Dataset_meta_original\\Folder_054\\Helipad_05464.meta\n",
      "Saved :data\\Helipad_Dataset_meta\\Helipad_Dataset_meta_original\\Folder_054\\Helipad_05465.meta\n",
      "Saved :data\\Helipad_Dataset_meta\\Helipad_Dataset_meta_original\\Folder_054\\Helipad_05466.meta\n",
      "Saved :data\\Helipad_Dataset_meta\\Helipad_Dataset_meta_original\\Folder_054\\Helipad_05467.meta\n",
      "Saved :data\\Helipad_Dataset_meta\\Helipad_Dataset_meta_original\\Folder_054\\Helipad_05468.meta\n",
      "Saved :data\\Helipad_Dataset_meta\\Helipad_Dataset_meta_original\\Folder_054\\Helipad_05469.meta\n",
      "Saved :data\\Helipad_Dataset_meta\\Helipad_Dataset_meta_original\\Folder_054\\Helipad_05470.meta\n",
      "Saved :data\\Helipad_Dataset_meta\\Helipad_Dataset_meta_original\\Folder_054\\Helipad_05471.meta\n",
      "Saved :data\\Helipad_Dataset_meta\\Helipad_Dataset_meta_original\\Folder_054\\Helipad_05472.meta\n",
      "Saved :data\\Helipad_Dataset_meta\\Helipad_Dataset_meta_original\\Folder_054\\Helipad_05473.meta\n",
      "Saved :data\\Helipad_Dataset_meta\\Helipad_Dataset_meta_original\\Folder_054\\Helipad_05474.meta\n",
      "Saved :data\\Helipad_Dataset_meta\\Helipad_Dataset_meta_original\\Folder_054\\Helipad_05475.meta\n",
      "Saved :data\\Helipad_Dataset_meta\\Helipad_Dataset_meta_original\\Folder_054\\Helipad_05476.meta\n",
      "Saved :data\\Helipad_Dataset_meta\\Helipad_Dataset_meta_original\\Folder_054\\Helipad_05477.meta\n",
      "Saved :data\\Helipad_Dataset_meta\\Helipad_Dataset_meta_original\\Folder_054\\Helipad_05478.meta\n",
      "Saved :data\\Helipad_Dataset_meta\\Helipad_Dataset_meta_original\\Folder_054\\Helipad_05479.meta\n",
      "Saved :data\\Helipad_Dataset_meta\\Helipad_Dataset_meta_original\\Folder_054\\Helipad_05480.meta\n",
      "Saved :data\\Helipad_Dataset_meta\\Helipad_Dataset_meta_original\\Folder_054\\Helipad_05481.meta\n",
      "Saved :data\\Helipad_Dataset_meta\\Helipad_Dataset_meta_original\\Folder_054\\Helipad_05482.meta\n",
      "Saved :data\\Helipad_Dataset_meta\\Helipad_Dataset_meta_original\\Folder_054\\Helipad_05483.meta\n",
      "Saved :data\\Helipad_Dataset_meta\\Helipad_Dataset_meta_original\\Folder_054\\Helipad_05484.meta\n",
      "Saved :data\\Helipad_Dataset_meta\\Helipad_Dataset_meta_original\\Folder_054\\Helipad_05485.meta\n",
      "Saved :data\\Helipad_Dataset_meta\\Helipad_Dataset_meta_original\\Folder_054\\Helipad_05486.meta\n",
      "Saved :data\\Helipad_Dataset_meta\\Helipad_Dataset_meta_original\\Folder_054\\Helipad_05487.meta\n",
      "Saved :data\\Helipad_Dataset_meta\\Helipad_Dataset_meta_original\\Folder_054\\Helipad_05488.meta\n",
      "Saved :data\\Helipad_Dataset_meta\\Helipad_Dataset_meta_original\\Folder_054\\Helipad_05489.meta\n",
      "Saved :data\\Helipad_Dataset_meta\\Helipad_Dataset_meta_original\\Folder_054\\Helipad_05490.meta\n",
      "Saved :data\\Helipad_Dataset_meta\\Helipad_Dataset_meta_original\\Folder_054\\Helipad_05491.meta\n",
      "Saved :data\\Helipad_Dataset_meta\\Helipad_Dataset_meta_original\\Folder_054\\Helipad_05492.meta\n",
      "Saved :data\\Helipad_Dataset_meta\\Helipad_Dataset_meta_original\\Folder_054\\Helipad_05493.meta\n",
      "Saved :data\\Helipad_Dataset_meta\\Helipad_Dataset_meta_original\\Folder_054\\Helipad_05494.meta\n",
      "Saved :data\\Helipad_Dataset_meta\\Helipad_Dataset_meta_original\\Folder_054\\Helipad_05495.meta\n",
      "Saved :data\\Helipad_Dataset_meta\\Helipad_Dataset_meta_original\\Folder_054\\Helipad_05496.meta\n",
      "Saved :data\\Helipad_Dataset_meta\\Helipad_Dataset_meta_original\\Folder_054\\Helipad_05497.meta\n",
      "Saved :data\\Helipad_Dataset_meta\\Helipad_Dataset_meta_original\\Folder_054\\Helipad_05498.meta\n",
      "Saved :data\\Helipad_Dataset_meta\\Helipad_Dataset_meta_original\\Folder_054\\Helipad_05499.meta\n",
      "Saved :data\\Helipad_Dataset_meta\\Helipad_Dataset_meta_original\\Folder_055\\Helipad_05500.meta\n",
      "Saved :data\\Helipad_Dataset_meta\\Helipad_Dataset_meta_original\\Folder_055\\Helipad_05501.meta\n",
      "Saved :data\\Helipad_Dataset_meta\\Helipad_Dataset_meta_original\\Folder_055\\Helipad_05502.meta\n",
      "Saved :data\\Helipad_Dataset_meta\\Helipad_Dataset_meta_original\\Folder_055\\Helipad_05503.meta\n",
      "Saved :data\\Helipad_Dataset_meta\\Helipad_Dataset_meta_original\\Folder_055\\Helipad_05504.meta\n",
      "Saved :data\\Helipad_Dataset_meta\\Helipad_Dataset_meta_original\\Folder_055\\Helipad_05505.meta\n",
      "Saved :data\\Helipad_Dataset_meta\\Helipad_Dataset_meta_original\\Folder_055\\Helipad_05506.meta\n",
      "Saved :data\\Helipad_Dataset_meta\\Helipad_Dataset_meta_original\\Folder_055\\Helipad_05507.meta\n",
      "Saved :data\\Helipad_Dataset_meta\\Helipad_Dataset_meta_original\\Folder_055\\Helipad_05508.meta\n",
      "Saved :data\\Helipad_Dataset_meta\\Helipad_Dataset_meta_original\\Folder_055\\Helipad_05509.meta\n",
      "Saved :data\\Helipad_Dataset_meta\\Helipad_Dataset_meta_original\\Folder_055\\Helipad_05510.meta\n",
      "Saved :data\\Helipad_Dataset_meta\\Helipad_Dataset_meta_original\\Folder_055\\Helipad_05511.meta\n",
      "Saved :data\\Helipad_Dataset_meta\\Helipad_Dataset_meta_original\\Folder_055\\Helipad_05512.meta\n",
      "Saved :data\\Helipad_Dataset_meta\\Helipad_Dataset_meta_original\\Folder_055\\Helipad_05513.meta\n",
      "Saved :data\\Helipad_Dataset_meta\\Helipad_Dataset_meta_original\\Folder_055\\Helipad_05514.meta\n",
      "Saved :data\\Helipad_Dataset_meta\\Helipad_Dataset_meta_original\\Folder_055\\Helipad_05515.meta\n",
      "Saved :data\\Helipad_Dataset_meta\\Helipad_Dataset_meta_original\\Folder_055\\Helipad_05516.meta\n",
      "Saved :data\\Helipad_Dataset_meta\\Helipad_Dataset_meta_original\\Folder_055\\Helipad_05517.meta\n",
      "Saved :data\\Helipad_Dataset_meta\\Helipad_Dataset_meta_original\\Folder_055\\Helipad_05518.meta\n",
      "Saved :data\\Helipad_Dataset_meta\\Helipad_Dataset_meta_original\\Folder_055\\Helipad_05519.meta\n",
      "Saved :data\\Helipad_Dataset_meta\\Helipad_Dataset_meta_original\\Folder_055\\Helipad_05520.meta\n",
      "Saved :data\\Helipad_Dataset_meta\\Helipad_Dataset_meta_original\\Folder_055\\Helipad_05521.meta\n",
      "Saved :data\\Helipad_Dataset_meta\\Helipad_Dataset_meta_original\\Folder_055\\Helipad_05522.meta\n",
      "Saved :data\\Helipad_Dataset_meta\\Helipad_Dataset_meta_original\\Folder_055\\Helipad_05523.meta\n",
      "Saved :data\\Helipad_Dataset_meta\\Helipad_Dataset_meta_original\\Folder_055\\Helipad_05524.meta\n",
      "Saved :data\\Helipad_Dataset_meta\\Helipad_Dataset_meta_original\\Folder_055\\Helipad_05525.meta\n",
      "Saved :data\\Helipad_Dataset_meta\\Helipad_Dataset_meta_original\\Folder_055\\Helipad_05526.meta\n",
      "Saved :data\\Helipad_Dataset_meta\\Helipad_Dataset_meta_original\\Folder_055\\Helipad_05527.meta\n",
      "Saved :data\\Helipad_Dataset_meta\\Helipad_Dataset_meta_original\\Folder_055\\Helipad_05528.meta\n",
      "Saved :data\\Helipad_Dataset_meta\\Helipad_Dataset_meta_original\\Folder_055\\Helipad_05529.meta\n",
      "Saved :data\\Helipad_Dataset_meta\\Helipad_Dataset_meta_original\\Folder_055\\Helipad_05530.meta\n",
      "Saved :data\\Helipad_Dataset_meta\\Helipad_Dataset_meta_original\\Folder_055\\Helipad_05531.meta\n",
      "Saved :data\\Helipad_Dataset_meta\\Helipad_Dataset_meta_original\\Folder_055\\Helipad_05532.meta\n",
      "Saved :data\\Helipad_Dataset_meta\\Helipad_Dataset_meta_original\\Folder_055\\Helipad_05533.meta\n",
      "Saved :data\\Helipad_Dataset_meta\\Helipad_Dataset_meta_original\\Folder_055\\Helipad_05534.meta\n",
      "Saved :data\\Helipad_Dataset_meta\\Helipad_Dataset_meta_original\\Folder_055\\Helipad_05535.meta\n",
      "Saved :data\\Helipad_Dataset_meta\\Helipad_Dataset_meta_original\\Folder_055\\Helipad_05536.meta\n",
      "Saved :data\\Helipad_Dataset_meta\\Helipad_Dataset_meta_original\\Folder_055\\Helipad_05537.meta\n",
      "Saved :data\\Helipad_Dataset_meta\\Helipad_Dataset_meta_original\\Folder_055\\Helipad_05538.meta\n",
      "Saved :data\\Helipad_Dataset_meta\\Helipad_Dataset_meta_original\\Folder_055\\Helipad_05539.meta\n",
      "Saved :data\\Helipad_Dataset_meta\\Helipad_Dataset_meta_original\\Folder_055\\Helipad_05540.meta\n",
      "Saved :data\\Helipad_Dataset_meta\\Helipad_Dataset_meta_original\\Folder_055\\Helipad_05541.meta\n",
      "Saved :data\\Helipad_Dataset_meta\\Helipad_Dataset_meta_original\\Folder_055\\Helipad_05542.meta\n",
      "Saved :data\\Helipad_Dataset_meta\\Helipad_Dataset_meta_original\\Folder_055\\Helipad_05543.meta\n",
      "Saved :data\\Helipad_Dataset_meta\\Helipad_Dataset_meta_original\\Folder_055\\Helipad_05544.meta\n",
      "Saved :data\\Helipad_Dataset_meta\\Helipad_Dataset_meta_original\\Folder_055\\Helipad_05545.meta\n",
      "Saved :data\\Helipad_Dataset_meta\\Helipad_Dataset_meta_original\\Folder_055\\Helipad_05546.meta\n",
      "Saved :data\\Helipad_Dataset_meta\\Helipad_Dataset_meta_original\\Folder_055\\Helipad_05547.meta\n",
      "Saved :data\\Helipad_Dataset_meta\\Helipad_Dataset_meta_original\\Folder_055\\Helipad_05548.meta\n",
      "Saved :data\\Helipad_Dataset_meta\\Helipad_Dataset_meta_original\\Folder_055\\Helipad_05549.meta\n",
      "Saved :data\\Helipad_Dataset_meta\\Helipad_Dataset_meta_original\\Folder_055\\Helipad_05550.meta\n",
      "Saved :data\\Helipad_Dataset_meta\\Helipad_Dataset_meta_original\\Folder_055\\Helipad_05551.meta\n",
      "Saved :data\\Helipad_Dataset_meta\\Helipad_Dataset_meta_original\\Folder_055\\Helipad_05552.meta\n",
      "Saved :data\\Helipad_Dataset_meta\\Helipad_Dataset_meta_original\\Folder_055\\Helipad_05553.meta\n",
      "Saved :data\\Helipad_Dataset_meta\\Helipad_Dataset_meta_original\\Folder_055\\Helipad_05554.meta\n",
      "Saved :data\\Helipad_Dataset_meta\\Helipad_Dataset_meta_original\\Folder_055\\Helipad_05555.meta\n",
      "Saved :data\\Helipad_Dataset_meta\\Helipad_Dataset_meta_original\\Folder_055\\Helipad_05556.meta\n",
      "Saved :data\\Helipad_Dataset_meta\\Helipad_Dataset_meta_original\\Folder_055\\Helipad_05557.meta\n",
      "Saved :data\\Helipad_Dataset_meta\\Helipad_Dataset_meta_original\\Folder_055\\Helipad_05558.meta\n",
      "Saved :data\\Helipad_Dataset_meta\\Helipad_Dataset_meta_original\\Folder_055\\Helipad_05559.meta\n",
      "Saved :data\\Helipad_Dataset_meta\\Helipad_Dataset_meta_original\\Folder_055\\Helipad_05560.meta\n",
      "Saved :data\\Helipad_Dataset_meta\\Helipad_Dataset_meta_original\\Folder_055\\Helipad_05561.meta\n",
      "Saved :data\\Helipad_Dataset_meta\\Helipad_Dataset_meta_original\\Folder_055\\Helipad_05562.meta\n",
      "Saved :data\\Helipad_Dataset_meta\\Helipad_Dataset_meta_original\\Folder_055\\Helipad_05563.meta\n",
      "Saved :data\\Helipad_Dataset_meta\\Helipad_Dataset_meta_original\\Folder_055\\Helipad_05564.meta\n",
      "Saved :data\\Helipad_Dataset_meta\\Helipad_Dataset_meta_original\\Folder_055\\Helipad_05565.meta\n",
      "Saved :data\\Helipad_Dataset_meta\\Helipad_Dataset_meta_original\\Folder_055\\Helipad_05566.meta\n",
      "Saved :data\\Helipad_Dataset_meta\\Helipad_Dataset_meta_original\\Folder_055\\Helipad_05567.meta\n",
      "Saved :data\\Helipad_Dataset_meta\\Helipad_Dataset_meta_original\\Folder_055\\Helipad_05568.meta\n",
      "Saved :data\\Helipad_Dataset_meta\\Helipad_Dataset_meta_original\\Folder_055\\Helipad_05569.meta\n",
      "Saved :data\\Helipad_Dataset_meta\\Helipad_Dataset_meta_original\\Folder_055\\Helipad_05570.meta\n",
      "Saved :data\\Helipad_Dataset_meta\\Helipad_Dataset_meta_original\\Folder_055\\Helipad_05571.meta\n",
      "Saved :data\\Helipad_Dataset_meta\\Helipad_Dataset_meta_original\\Folder_055\\Helipad_05572.meta\n",
      "Saved :data\\Helipad_Dataset_meta\\Helipad_Dataset_meta_original\\Folder_055\\Helipad_05573.meta\n",
      "Saved :data\\Helipad_Dataset_meta\\Helipad_Dataset_meta_original\\Folder_055\\Helipad_05574.meta\n",
      "Saved :data\\Helipad_Dataset_meta\\Helipad_Dataset_meta_original\\Folder_055\\Helipad_05575.meta\n",
      "Saved :data\\Helipad_Dataset_meta\\Helipad_Dataset_meta_original\\Folder_055\\Helipad_05576.meta\n",
      "Saved :data\\Helipad_Dataset_meta\\Helipad_Dataset_meta_original\\Folder_055\\Helipad_05577.meta\n",
      "Saved :data\\Helipad_Dataset_meta\\Helipad_Dataset_meta_original\\Folder_055\\Helipad_05578.meta\n",
      "Saved :data\\Helipad_Dataset_meta\\Helipad_Dataset_meta_original\\Folder_055\\Helipad_05579.meta\n",
      "Saved :data\\Helipad_Dataset_meta\\Helipad_Dataset_meta_original\\Folder_055\\Helipad_05580.meta\n"
     ]
    },
    {
     "name": "stdout",
     "output_type": "stream",
     "text": [
      "Saved :data\\Helipad_Dataset_meta\\Helipad_Dataset_meta_original\\Folder_055\\Helipad_05581.meta\n",
      "Saved :data\\Helipad_Dataset_meta\\Helipad_Dataset_meta_original\\Folder_055\\Helipad_05582.meta\n",
      "Saved :data\\Helipad_Dataset_meta\\Helipad_Dataset_meta_original\\Folder_055\\Helipad_05583.meta\n",
      "Saved :data\\Helipad_Dataset_meta\\Helipad_Dataset_meta_original\\Folder_055\\Helipad_05584.meta\n",
      "Saved :data\\Helipad_Dataset_meta\\Helipad_Dataset_meta_original\\Folder_055\\Helipad_05585.meta\n",
      "Saved :data\\Helipad_Dataset_meta\\Helipad_Dataset_meta_original\\Folder_055\\Helipad_05586.meta\n",
      "Saved :data\\Helipad_Dataset_meta\\Helipad_Dataset_meta_original\\Folder_055\\Helipad_05587.meta\n",
      "Saved :data\\Helipad_Dataset_meta\\Helipad_Dataset_meta_original\\Folder_055\\Helipad_05588.meta\n",
      "Saved :data\\Helipad_Dataset_meta\\Helipad_Dataset_meta_original\\Folder_055\\Helipad_05589.meta\n",
      "Saved :data\\Helipad_Dataset_meta\\Helipad_Dataset_meta_original\\Folder_055\\Helipad_05590.meta\n",
      "Saved :data\\Helipad_Dataset_meta\\Helipad_Dataset_meta_original\\Folder_055\\Helipad_05591.meta\n",
      "Saved :data\\Helipad_Dataset_meta\\Helipad_Dataset_meta_original\\Folder_055\\Helipad_05592.meta\n",
      "Saved :data\\Helipad_Dataset_meta\\Helipad_Dataset_meta_original\\Folder_055\\Helipad_05593.meta\n",
      "Saved :data\\Helipad_Dataset_meta\\Helipad_Dataset_meta_original\\Folder_055\\Helipad_05594.meta\n",
      "Saved :data\\Helipad_Dataset_meta\\Helipad_Dataset_meta_original\\Folder_055\\Helipad_05595.meta\n",
      "Saved :data\\Helipad_Dataset_meta\\Helipad_Dataset_meta_original\\Folder_055\\Helipad_05596.meta\n",
      "Saved :data\\Helipad_Dataset_meta\\Helipad_Dataset_meta_original\\Folder_055\\Helipad_05597.meta\n",
      "Saved :data\\Helipad_Dataset_meta\\Helipad_Dataset_meta_original\\Folder_055\\Helipad_05598.meta\n",
      "Saved :data\\Helipad_Dataset_meta\\Helipad_Dataset_meta_original\\Folder_055\\Helipad_05599.meta\n",
      "Saved :data\\Helipad_Dataset_meta\\Helipad_Dataset_meta_original\\Folder_056\\Helipad_05600.meta\n",
      "Saved :data\\Helipad_Dataset_meta\\Helipad_Dataset_meta_original\\Folder_056\\Helipad_05601.meta\n",
      "Saved :data\\Helipad_Dataset_meta\\Helipad_Dataset_meta_original\\Folder_056\\Helipad_05602.meta\n",
      "Saved :data\\Helipad_Dataset_meta\\Helipad_Dataset_meta_original\\Folder_056\\Helipad_05603.meta\n",
      "Saved :data\\Helipad_Dataset_meta\\Helipad_Dataset_meta_original\\Folder_056\\Helipad_05604.meta\n",
      "Saved :data\\Helipad_Dataset_meta\\Helipad_Dataset_meta_original\\Folder_056\\Helipad_05605.meta\n",
      "Saved :data\\Helipad_Dataset_meta\\Helipad_Dataset_meta_original\\Folder_056\\Helipad_05606.meta\n",
      "Saved :data\\Helipad_Dataset_meta\\Helipad_Dataset_meta_original\\Folder_056\\Helipad_05607.meta\n",
      "Saved :data\\Helipad_Dataset_meta\\Helipad_Dataset_meta_original\\Folder_056\\Helipad_05608.meta\n",
      "Saved :data\\Helipad_Dataset_meta\\Helipad_Dataset_meta_original\\Folder_056\\Helipad_05609.meta\n",
      "Saved :data\\Helipad_Dataset_meta\\Helipad_Dataset_meta_original\\Folder_056\\Helipad_05610.meta\n",
      "Saved :data\\Helipad_Dataset_meta\\Helipad_Dataset_meta_original\\Folder_056\\Helipad_05611.meta\n",
      "Saved :data\\Helipad_Dataset_meta\\Helipad_Dataset_meta_original\\Folder_056\\Helipad_05612.meta\n",
      "Saved :data\\Helipad_Dataset_meta\\Helipad_Dataset_meta_original\\Folder_056\\Helipad_05613.meta\n",
      "Saved :data\\Helipad_Dataset_meta\\Helipad_Dataset_meta_original\\Folder_056\\Helipad_05614.meta\n",
      "Saved :data\\Helipad_Dataset_meta\\Helipad_Dataset_meta_original\\Folder_056\\Helipad_05615.meta\n",
      "Saved :data\\Helipad_Dataset_meta\\Helipad_Dataset_meta_original\\Folder_056\\Helipad_05616.meta\n",
      "Saved :data\\Helipad_Dataset_meta\\Helipad_Dataset_meta_original\\Folder_056\\Helipad_05617.meta\n",
      "Saved :data\\Helipad_Dataset_meta\\Helipad_Dataset_meta_original\\Folder_056\\Helipad_05618.meta\n",
      "Saved :data\\Helipad_Dataset_meta\\Helipad_Dataset_meta_original\\Folder_056\\Helipad_05619.meta\n",
      "Saved :data\\Helipad_Dataset_meta\\Helipad_Dataset_meta_original\\Folder_056\\Helipad_05620.meta\n",
      "Saved :data\\Helipad_Dataset_meta\\Helipad_Dataset_meta_original\\Folder_056\\Helipad_05621.meta\n",
      "Saved :data\\Helipad_Dataset_meta\\Helipad_Dataset_meta_original\\Folder_056\\Helipad_05622.meta\n",
      "Saved :data\\Helipad_Dataset_meta\\Helipad_Dataset_meta_original\\Folder_056\\Helipad_05623.meta\n",
      "Saved :data\\Helipad_Dataset_meta\\Helipad_Dataset_meta_original\\Folder_056\\Helipad_05624.meta\n",
      "Saved :data\\Helipad_Dataset_meta\\Helipad_Dataset_meta_original\\Folder_056\\Helipad_05625.meta\n",
      "Saved :data\\Helipad_Dataset_meta\\Helipad_Dataset_meta_original\\Folder_056\\Helipad_05626.meta\n",
      "Saved :data\\Helipad_Dataset_meta\\Helipad_Dataset_meta_original\\Folder_056\\Helipad_05627.meta\n",
      "Saved :data\\Helipad_Dataset_meta\\Helipad_Dataset_meta_original\\Folder_056\\Helipad_05628.meta\n",
      "Saved :data\\Helipad_Dataset_meta\\Helipad_Dataset_meta_original\\Folder_056\\Helipad_05629.meta\n",
      "Saved :data\\Helipad_Dataset_meta\\Helipad_Dataset_meta_original\\Folder_056\\Helipad_05630.meta\n",
      "Saved :data\\Helipad_Dataset_meta\\Helipad_Dataset_meta_original\\Folder_056\\Helipad_05631.meta\n",
      "Saved :data\\Helipad_Dataset_meta\\Helipad_Dataset_meta_original\\Folder_056\\Helipad_05632.meta\n",
      "Saved :data\\Helipad_Dataset_meta\\Helipad_Dataset_meta_original\\Folder_056\\Helipad_05633.meta\n",
      "Saved :data\\Helipad_Dataset_meta\\Helipad_Dataset_meta_original\\Folder_056\\Helipad_05634.meta\n",
      "Saved :data\\Helipad_Dataset_meta\\Helipad_Dataset_meta_original\\Folder_056\\Helipad_05635.meta\n",
      "Saved :data\\Helipad_Dataset_meta\\Helipad_Dataset_meta_original\\Folder_056\\Helipad_05636.meta\n",
      "Saved :data\\Helipad_Dataset_meta\\Helipad_Dataset_meta_original\\Folder_056\\Helipad_05637.meta\n",
      "Saved :data\\Helipad_Dataset_meta\\Helipad_Dataset_meta_original\\Folder_056\\Helipad_05638.meta\n",
      "Saved :data\\Helipad_Dataset_meta\\Helipad_Dataset_meta_original\\Folder_056\\Helipad_05639.meta\n",
      "Saved :data\\Helipad_Dataset_meta\\Helipad_Dataset_meta_original\\Folder_056\\Helipad_05640.meta\n",
      "Saved :data\\Helipad_Dataset_meta\\Helipad_Dataset_meta_original\\Folder_056\\Helipad_05641.meta\n",
      "Saved :data\\Helipad_Dataset_meta\\Helipad_Dataset_meta_original\\Folder_056\\Helipad_05642.meta\n",
      "Saved :data\\Helipad_Dataset_meta\\Helipad_Dataset_meta_original\\Folder_056\\Helipad_05643.meta\n",
      "Saved :data\\Helipad_Dataset_meta\\Helipad_Dataset_meta_original\\Folder_056\\Helipad_05644.meta\n",
      "Saved :data\\Helipad_Dataset_meta\\Helipad_Dataset_meta_original\\Folder_056\\Helipad_05645.meta\n",
      "Saved :data\\Helipad_Dataset_meta\\Helipad_Dataset_meta_original\\Folder_056\\Helipad_05646.meta\n",
      "Saved :data\\Helipad_Dataset_meta\\Helipad_Dataset_meta_original\\Folder_056\\Helipad_05647.meta\n",
      "Saved :data\\Helipad_Dataset_meta\\Helipad_Dataset_meta_original\\Folder_056\\Helipad_05648.meta\n",
      "Saved :data\\Helipad_Dataset_meta\\Helipad_Dataset_meta_original\\Folder_056\\Helipad_05649.meta\n",
      "Saved :data\\Helipad_Dataset_meta\\Helipad_Dataset_meta_original\\Folder_056\\Helipad_05650.meta\n",
      "Saved :data\\Helipad_Dataset_meta\\Helipad_Dataset_meta_original\\Folder_056\\Helipad_05651.meta\n",
      "Saved :data\\Helipad_Dataset_meta\\Helipad_Dataset_meta_original\\Folder_056\\Helipad_05652.meta\n",
      "Saved :data\\Helipad_Dataset_meta\\Helipad_Dataset_meta_original\\Folder_056\\Helipad_05653.meta\n",
      "Saved :data\\Helipad_Dataset_meta\\Helipad_Dataset_meta_original\\Folder_056\\Helipad_05654.meta\n",
      "Saved :data\\Helipad_Dataset_meta\\Helipad_Dataset_meta_original\\Folder_056\\Helipad_05655.meta\n",
      "Saved :data\\Helipad_Dataset_meta\\Helipad_Dataset_meta_original\\Folder_056\\Helipad_05656.meta\n",
      "Saved :data\\Helipad_Dataset_meta\\Helipad_Dataset_meta_original\\Folder_056\\Helipad_05657.meta\n",
      "Saved :data\\Helipad_Dataset_meta\\Helipad_Dataset_meta_original\\Folder_056\\Helipad_05658.meta\n",
      "Saved :data\\Helipad_Dataset_meta\\Helipad_Dataset_meta_original\\Folder_056\\Helipad_05659.meta\n",
      "Saved :data\\Helipad_Dataset_meta\\Helipad_Dataset_meta_original\\Folder_056\\Helipad_05660.meta\n",
      "Saved :data\\Helipad_Dataset_meta\\Helipad_Dataset_meta_original\\Folder_056\\Helipad_05661.meta\n",
      "Saved :data\\Helipad_Dataset_meta\\Helipad_Dataset_meta_original\\Folder_056\\Helipad_05662.meta\n",
      "Saved :data\\Helipad_Dataset_meta\\Helipad_Dataset_meta_original\\Folder_056\\Helipad_05663.meta\n",
      "Saved :data\\Helipad_Dataset_meta\\Helipad_Dataset_meta_original\\Folder_056\\Helipad_05664.meta\n",
      "Saved :data\\Helipad_Dataset_meta\\Helipad_Dataset_meta_original\\Folder_056\\Helipad_05665.meta\n",
      "Saved :data\\Helipad_Dataset_meta\\Helipad_Dataset_meta_original\\Folder_056\\Helipad_05666.meta\n",
      "Saved :data\\Helipad_Dataset_meta\\Helipad_Dataset_meta_original\\Folder_056\\Helipad_05667.meta\n",
      "Saved :data\\Helipad_Dataset_meta\\Helipad_Dataset_meta_original\\Folder_056\\Helipad_05668.meta\n",
      "Saved :data\\Helipad_Dataset_meta\\Helipad_Dataset_meta_original\\Folder_056\\Helipad_05669.meta\n",
      "Saved :data\\Helipad_Dataset_meta\\Helipad_Dataset_meta_original\\Folder_056\\Helipad_05670.meta\n",
      "Saved :data\\Helipad_Dataset_meta\\Helipad_Dataset_meta_original\\Folder_056\\Helipad_05671.meta\n",
      "Saved :data\\Helipad_Dataset_meta\\Helipad_Dataset_meta_original\\Folder_056\\Helipad_05672.meta\n",
      "Saved :data\\Helipad_Dataset_meta\\Helipad_Dataset_meta_original\\Folder_056\\Helipad_05673.meta\n",
      "Saved :data\\Helipad_Dataset_meta\\Helipad_Dataset_meta_original\\Folder_056\\Helipad_05674.meta\n",
      "Saved :data\\Helipad_Dataset_meta\\Helipad_Dataset_meta_original\\Folder_056\\Helipad_05675.meta\n",
      "Saved :data\\Helipad_Dataset_meta\\Helipad_Dataset_meta_original\\Folder_056\\Helipad_05676.meta\n",
      "Saved :data\\Helipad_Dataset_meta\\Helipad_Dataset_meta_original\\Folder_056\\Helipad_05677.meta\n",
      "Saved :data\\Helipad_Dataset_meta\\Helipad_Dataset_meta_original\\Folder_056\\Helipad_05678.meta\n",
      "Saved :data\\Helipad_Dataset_meta\\Helipad_Dataset_meta_original\\Folder_056\\Helipad_05679.meta\n",
      "Saved :data\\Helipad_Dataset_meta\\Helipad_Dataset_meta_original\\Folder_056\\Helipad_05680.meta\n",
      "Saved :data\\Helipad_Dataset_meta\\Helipad_Dataset_meta_original\\Folder_056\\Helipad_05681.meta\n",
      "Saved :data\\Helipad_Dataset_meta\\Helipad_Dataset_meta_original\\Folder_056\\Helipad_05682.meta\n",
      "Saved :data\\Helipad_Dataset_meta\\Helipad_Dataset_meta_original\\Folder_056\\Helipad_05683.meta\n",
      "Saved :data\\Helipad_Dataset_meta\\Helipad_Dataset_meta_original\\Folder_056\\Helipad_05684.meta\n",
      "Saved :data\\Helipad_Dataset_meta\\Helipad_Dataset_meta_original\\Folder_056\\Helipad_05685.meta\n",
      "Saved :data\\Helipad_Dataset_meta\\Helipad_Dataset_meta_original\\Folder_056\\Helipad_05686.meta\n",
      "Saved :data\\Helipad_Dataset_meta\\Helipad_Dataset_meta_original\\Folder_056\\Helipad_05687.meta\n",
      "Saved :data\\Helipad_Dataset_meta\\Helipad_Dataset_meta_original\\Folder_056\\Helipad_05688.meta\n",
      "Saved :data\\Helipad_Dataset_meta\\Helipad_Dataset_meta_original\\Folder_056\\Helipad_05689.meta\n",
      "Saved :data\\Helipad_Dataset_meta\\Helipad_Dataset_meta_original\\Folder_056\\Helipad_05690.meta\n",
      "Saved :data\\Helipad_Dataset_meta\\Helipad_Dataset_meta_original\\Folder_056\\Helipad_05691.meta\n",
      "Saved :data\\Helipad_Dataset_meta\\Helipad_Dataset_meta_original\\Folder_056\\Helipad_05692.meta\n",
      "Saved :data\\Helipad_Dataset_meta\\Helipad_Dataset_meta_original\\Folder_056\\Helipad_05693.meta\n",
      "Saved :data\\Helipad_Dataset_meta\\Helipad_Dataset_meta_original\\Folder_056\\Helipad_05694.meta\n",
      "Saved :data\\Helipad_Dataset_meta\\Helipad_Dataset_meta_original\\Folder_056\\Helipad_05695.meta\n",
      "Saved :data\\Helipad_Dataset_meta\\Helipad_Dataset_meta_original\\Folder_056\\Helipad_05696.meta\n",
      "Saved :data\\Helipad_Dataset_meta\\Helipad_Dataset_meta_original\\Folder_056\\Helipad_05697.meta\n",
      "Saved :data\\Helipad_Dataset_meta\\Helipad_Dataset_meta_original\\Folder_056\\Helipad_05698.meta\n",
      "Saved :data\\Helipad_Dataset_meta\\Helipad_Dataset_meta_original\\Folder_056\\Helipad_05699.meta\n",
      "Saved :data\\Helipad_Dataset_meta\\Helipad_Dataset_meta_original\\Folder_057\\Helipad_05700.meta\n",
      "Saved :data\\Helipad_Dataset_meta\\Helipad_Dataset_meta_original\\Folder_057\\Helipad_05701.meta\n",
      "Saved :data\\Helipad_Dataset_meta\\Helipad_Dataset_meta_original\\Folder_057\\Helipad_05702.meta\n",
      "Saved :data\\Helipad_Dataset_meta\\Helipad_Dataset_meta_original\\Folder_057\\Helipad_05703.meta\n",
      "Saved :data\\Helipad_Dataset_meta\\Helipad_Dataset_meta_original\\Folder_057\\Helipad_05704.meta\n",
      "Saved :data\\Helipad_Dataset_meta\\Helipad_Dataset_meta_original\\Folder_057\\Helipad_05705.meta\n",
      "Saved :data\\Helipad_Dataset_meta\\Helipad_Dataset_meta_original\\Folder_057\\Helipad_05706.meta\n",
      "Saved :data\\Helipad_Dataset_meta\\Helipad_Dataset_meta_original\\Folder_057\\Helipad_05707.meta\n",
      "Saved :data\\Helipad_Dataset_meta\\Helipad_Dataset_meta_original\\Folder_057\\Helipad_05708.meta\n",
      "Saved :data\\Helipad_Dataset_meta\\Helipad_Dataset_meta_original\\Folder_057\\Helipad_05709.meta\n",
      "Saved :data\\Helipad_Dataset_meta\\Helipad_Dataset_meta_original\\Folder_057\\Helipad_05710.meta\n",
      "Saved :data\\Helipad_Dataset_meta\\Helipad_Dataset_meta_original\\Folder_057\\Helipad_05711.meta\n",
      "Saved :data\\Helipad_Dataset_meta\\Helipad_Dataset_meta_original\\Folder_057\\Helipad_05712.meta\n",
      "Saved :data\\Helipad_Dataset_meta\\Helipad_Dataset_meta_original\\Folder_057\\Helipad_05713.meta\n",
      "Saved :data\\Helipad_Dataset_meta\\Helipad_Dataset_meta_original\\Folder_057\\Helipad_05714.meta\n",
      "Saved :data\\Helipad_Dataset_meta\\Helipad_Dataset_meta_original\\Folder_057\\Helipad_05715.meta\n",
      "Saved :data\\Helipad_Dataset_meta\\Helipad_Dataset_meta_original\\Folder_057\\Helipad_05716.meta\n",
      "Saved :data\\Helipad_Dataset_meta\\Helipad_Dataset_meta_original\\Folder_057\\Helipad_05717.meta\n",
      "Saved :data\\Helipad_Dataset_meta\\Helipad_Dataset_meta_original\\Folder_057\\Helipad_05718.meta\n",
      "Saved :data\\Helipad_Dataset_meta\\Helipad_Dataset_meta_original\\Folder_057\\Helipad_05719.meta\n",
      "Saved :data\\Helipad_Dataset_meta\\Helipad_Dataset_meta_original\\Folder_057\\Helipad_05720.meta\n",
      "Saved :data\\Helipad_Dataset_meta\\Helipad_Dataset_meta_original\\Folder_057\\Helipad_05721.meta\n",
      "Saved :data\\Helipad_Dataset_meta\\Helipad_Dataset_meta_original\\Folder_057\\Helipad_05722.meta\n",
      "Saved :data\\Helipad_Dataset_meta\\Helipad_Dataset_meta_original\\Folder_057\\Helipad_05723.meta\n",
      "Saved :data\\Helipad_Dataset_meta\\Helipad_Dataset_meta_original\\Folder_057\\Helipad_05724.meta\n",
      "Saved :data\\Helipad_Dataset_meta\\Helipad_Dataset_meta_original\\Folder_057\\Helipad_05725.meta\n",
      "Saved :data\\Helipad_Dataset_meta\\Helipad_Dataset_meta_original\\Folder_057\\Helipad_05726.meta\n",
      "Saved :data\\Helipad_Dataset_meta\\Helipad_Dataset_meta_original\\Folder_057\\Helipad_05727.meta\n",
      "Saved :data\\Helipad_Dataset_meta\\Helipad_Dataset_meta_original\\Folder_057\\Helipad_05728.meta\n",
      "Saved :data\\Helipad_Dataset_meta\\Helipad_Dataset_meta_original\\Folder_057\\Helipad_05729.meta\n",
      "Saved :data\\Helipad_Dataset_meta\\Helipad_Dataset_meta_original\\Folder_057\\Helipad_05730.meta\n",
      "Saved :data\\Helipad_Dataset_meta\\Helipad_Dataset_meta_original\\Folder_057\\Helipad_05731.meta\n",
      "Saved :data\\Helipad_Dataset_meta\\Helipad_Dataset_meta_original\\Folder_057\\Helipad_05732.meta\n",
      "Saved :data\\Helipad_Dataset_meta\\Helipad_Dataset_meta_original\\Folder_057\\Helipad_05733.meta\n",
      "Saved :data\\Helipad_Dataset_meta\\Helipad_Dataset_meta_original\\Folder_057\\Helipad_05734.meta\n",
      "Saved :data\\Helipad_Dataset_meta\\Helipad_Dataset_meta_original\\Folder_057\\Helipad_05735.meta\n",
      "Saved :data\\Helipad_Dataset_meta\\Helipad_Dataset_meta_original\\Folder_057\\Helipad_05736.meta\n",
      "Saved :data\\Helipad_Dataset_meta\\Helipad_Dataset_meta_original\\Folder_057\\Helipad_05737.meta\n",
      "Saved :data\\Helipad_Dataset_meta\\Helipad_Dataset_meta_original\\Folder_057\\Helipad_05738.meta\n",
      "Saved :data\\Helipad_Dataset_meta\\Helipad_Dataset_meta_original\\Folder_057\\Helipad_05739.meta\n",
      "Saved :data\\Helipad_Dataset_meta\\Helipad_Dataset_meta_original\\Folder_057\\Helipad_05740.meta\n"
     ]
    },
    {
     "name": "stdout",
     "output_type": "stream",
     "text": [
      "Saved :data\\Helipad_Dataset_meta\\Helipad_Dataset_meta_original\\Folder_057\\Helipad_05741.meta\n",
      "Saved :data\\Helipad_Dataset_meta\\Helipad_Dataset_meta_original\\Folder_057\\Helipad_05742.meta\n",
      "Saved :data\\Helipad_Dataset_meta\\Helipad_Dataset_meta_original\\Folder_057\\Helipad_05743.meta\n",
      "Saved :data\\Helipad_Dataset_meta\\Helipad_Dataset_meta_original\\Folder_057\\Helipad_05744.meta\n",
      "Saved :data\\Helipad_Dataset_meta\\Helipad_Dataset_meta_original\\Folder_057\\Helipad_05745.meta\n",
      "Saved :data\\Helipad_Dataset_meta\\Helipad_Dataset_meta_original\\Folder_057\\Helipad_05746.meta\n",
      "Saved :data\\Helipad_Dataset_meta\\Helipad_Dataset_meta_original\\Folder_057\\Helipad_05747.meta\n",
      "Saved :data\\Helipad_Dataset_meta\\Helipad_Dataset_meta_original\\Folder_057\\Helipad_05748.meta\n",
      "Saved :data\\Helipad_Dataset_meta\\Helipad_Dataset_meta_original\\Folder_057\\Helipad_05749.meta\n",
      "Saved :data\\Helipad_Dataset_meta\\Helipad_Dataset_meta_original\\Folder_057\\Helipad_05750.meta\n",
      "Saved :data\\Helipad_Dataset_meta\\Helipad_Dataset_meta_original\\Folder_057\\Helipad_05751.meta\n",
      "Saved :data\\Helipad_Dataset_meta\\Helipad_Dataset_meta_original\\Folder_057\\Helipad_05752.meta\n",
      "Saved :data\\Helipad_Dataset_meta\\Helipad_Dataset_meta_original\\Folder_057\\Helipad_05753.meta\n",
      "Saved :data\\Helipad_Dataset_meta\\Helipad_Dataset_meta_original\\Folder_057\\Helipad_05754.meta\n",
      "Saved :data\\Helipad_Dataset_meta\\Helipad_Dataset_meta_original\\Folder_057\\Helipad_05755.meta\n",
      "Saved :data\\Helipad_Dataset_meta\\Helipad_Dataset_meta_original\\Folder_057\\Helipad_05756.meta\n",
      "Saved :data\\Helipad_Dataset_meta\\Helipad_Dataset_meta_original\\Folder_057\\Helipad_05757.meta\n",
      "Saved :data\\Helipad_Dataset_meta\\Helipad_Dataset_meta_original\\Folder_057\\Helipad_05758.meta\n",
      "Saved :data\\Helipad_Dataset_meta\\Helipad_Dataset_meta_original\\Folder_057\\Helipad_05759.meta\n",
      "Saved :data\\Helipad_Dataset_meta\\Helipad_Dataset_meta_original\\Folder_057\\Helipad_05760.meta\n",
      "Saved :data\\Helipad_Dataset_meta\\Helipad_Dataset_meta_original\\Folder_057\\Helipad_05761.meta\n",
      "Saved :data\\Helipad_Dataset_meta\\Helipad_Dataset_meta_original\\Folder_057\\Helipad_05762.meta\n",
      "Saved :data\\Helipad_Dataset_meta\\Helipad_Dataset_meta_original\\Folder_057\\Helipad_05763.meta\n",
      "Saved :data\\Helipad_Dataset_meta\\Helipad_Dataset_meta_original\\Folder_057\\Helipad_05764.meta\n",
      "Saved :data\\Helipad_Dataset_meta\\Helipad_Dataset_meta_original\\Folder_057\\Helipad_05765.meta\n",
      "Saved :data\\Helipad_Dataset_meta\\Helipad_Dataset_meta_original\\Folder_057\\Helipad_05766.meta\n",
      "Saved :data\\Helipad_Dataset_meta\\Helipad_Dataset_meta_original\\Folder_057\\Helipad_05767.meta\n",
      "Saved :data\\Helipad_Dataset_meta\\Helipad_Dataset_meta_original\\Folder_057\\Helipad_05768.meta\n",
      "Saved :data\\Helipad_Dataset_meta\\Helipad_Dataset_meta_original\\Folder_057\\Helipad_05769.meta\n",
      "Saved :data\\Helipad_Dataset_meta\\Helipad_Dataset_meta_original\\Folder_057\\Helipad_05770.meta\n",
      "Saved :data\\Helipad_Dataset_meta\\Helipad_Dataset_meta_original\\Folder_057\\Helipad_05771.meta\n",
      "Saved :data\\Helipad_Dataset_meta\\Helipad_Dataset_meta_original\\Folder_057\\Helipad_05772.meta\n",
      "Saved :data\\Helipad_Dataset_meta\\Helipad_Dataset_meta_original\\Folder_057\\Helipad_05773.meta\n",
      "Saved :data\\Helipad_Dataset_meta\\Helipad_Dataset_meta_original\\Folder_057\\Helipad_05774.meta\n",
      "Saved :data\\Helipad_Dataset_meta\\Helipad_Dataset_meta_original\\Folder_057\\Helipad_05775.meta\n",
      "Saved :data\\Helipad_Dataset_meta\\Helipad_Dataset_meta_original\\Folder_057\\Helipad_05776.meta\n",
      "Saved :data\\Helipad_Dataset_meta\\Helipad_Dataset_meta_original\\Folder_057\\Helipad_05777.meta\n",
      "Saved :data\\Helipad_Dataset_meta\\Helipad_Dataset_meta_original\\Folder_057\\Helipad_05778.meta\n",
      "Saved :data\\Helipad_Dataset_meta\\Helipad_Dataset_meta_original\\Folder_057\\Helipad_05779.meta\n",
      "Saved :data\\Helipad_Dataset_meta\\Helipad_Dataset_meta_original\\Folder_057\\Helipad_05780.meta\n",
      "Saved :data\\Helipad_Dataset_meta\\Helipad_Dataset_meta_original\\Folder_057\\Helipad_05781.meta\n",
      "Saved :data\\Helipad_Dataset_meta\\Helipad_Dataset_meta_original\\Folder_057\\Helipad_05782.meta\n",
      "Saved :data\\Helipad_Dataset_meta\\Helipad_Dataset_meta_original\\Folder_057\\Helipad_05783.meta\n",
      "Saved :data\\Helipad_Dataset_meta\\Helipad_Dataset_meta_original\\Folder_057\\Helipad_05784.meta\n",
      "Saved :data\\Helipad_Dataset_meta\\Helipad_Dataset_meta_original\\Folder_057\\Helipad_05785.meta\n",
      "Saved :data\\Helipad_Dataset_meta\\Helipad_Dataset_meta_original\\Folder_057\\Helipad_05786.meta\n",
      "Saved :data\\Helipad_Dataset_meta\\Helipad_Dataset_meta_original\\Folder_057\\Helipad_05787.meta\n",
      "Saved :data\\Helipad_Dataset_meta\\Helipad_Dataset_meta_original\\Folder_057\\Helipad_05788.meta\n",
      "Saved :data\\Helipad_Dataset_meta\\Helipad_Dataset_meta_original\\Folder_057\\Helipad_05789.meta\n",
      "Saved :data\\Helipad_Dataset_meta\\Helipad_Dataset_meta_original\\Folder_057\\Helipad_05790.meta\n",
      "Saved :data\\Helipad_Dataset_meta\\Helipad_Dataset_meta_original\\Folder_057\\Helipad_05791.meta\n",
      "Saved :data\\Helipad_Dataset_meta\\Helipad_Dataset_meta_original\\Folder_057\\Helipad_05792.meta\n",
      "Saved :data\\Helipad_Dataset_meta\\Helipad_Dataset_meta_original\\Folder_057\\Helipad_05793.meta\n",
      "Saved :data\\Helipad_Dataset_meta\\Helipad_Dataset_meta_original\\Folder_057\\Helipad_05794.meta\n",
      "Saved :data\\Helipad_Dataset_meta\\Helipad_Dataset_meta_original\\Folder_057\\Helipad_05795.meta\n",
      "Saved :data\\Helipad_Dataset_meta\\Helipad_Dataset_meta_original\\Folder_057\\Helipad_05796.meta\n",
      "Saved :data\\Helipad_Dataset_meta\\Helipad_Dataset_meta_original\\Folder_057\\Helipad_05797.meta\n",
      "Saved :data\\Helipad_Dataset_meta\\Helipad_Dataset_meta_original\\Folder_057\\Helipad_05798.meta\n",
      "Saved :data\\Helipad_Dataset_meta\\Helipad_Dataset_meta_original\\Folder_057\\Helipad_05799.meta\n",
      "Saved :data\\Helipad_Dataset_meta\\Helipad_Dataset_meta_original\\Folder_058\\Helipad_05800.meta\n",
      "Saved :data\\Helipad_Dataset_meta\\Helipad_Dataset_meta_original\\Folder_058\\Helipad_05801.meta\n",
      "Saved :data\\Helipad_Dataset_meta\\Helipad_Dataset_meta_original\\Folder_058\\Helipad_05802.meta\n",
      "Saved :data\\Helipad_Dataset_meta\\Helipad_Dataset_meta_original\\Folder_058\\Helipad_05803.meta\n",
      "Saved :data\\Helipad_Dataset_meta\\Helipad_Dataset_meta_original\\Folder_058\\Helipad_05804.meta\n",
      "Saved :data\\Helipad_Dataset_meta\\Helipad_Dataset_meta_original\\Folder_058\\Helipad_05805.meta\n",
      "Saved :data\\Helipad_Dataset_meta\\Helipad_Dataset_meta_original\\Folder_058\\Helipad_05806.meta\n",
      "Saved :data\\Helipad_Dataset_meta\\Helipad_Dataset_meta_original\\Folder_058\\Helipad_05807.meta\n",
      "Saved :data\\Helipad_Dataset_meta\\Helipad_Dataset_meta_original\\Folder_058\\Helipad_05808.meta\n",
      "Saved :data\\Helipad_Dataset_meta\\Helipad_Dataset_meta_original\\Folder_058\\Helipad_05809.meta\n",
      "Saved :data\\Helipad_Dataset_meta\\Helipad_Dataset_meta_original\\Folder_058\\Helipad_05810.meta\n",
      "Saved :data\\Helipad_Dataset_meta\\Helipad_Dataset_meta_original\\Folder_058\\Helipad_05811.meta\n",
      "Saved :data\\Helipad_Dataset_meta\\Helipad_Dataset_meta_original\\Folder_058\\Helipad_05812.meta\n",
      "Saved :data\\Helipad_Dataset_meta\\Helipad_Dataset_meta_original\\Folder_058\\Helipad_05813.meta\n",
      "Saved :data\\Helipad_Dataset_meta\\Helipad_Dataset_meta_original\\Folder_058\\Helipad_05814.meta\n",
      "Saved :data\\Helipad_Dataset_meta\\Helipad_Dataset_meta_original\\Folder_058\\Helipad_05815.meta\n",
      "Saved :data\\Helipad_Dataset_meta\\Helipad_Dataset_meta_original\\Folder_058\\Helipad_05816.meta\n",
      "Saved :data\\Helipad_Dataset_meta\\Helipad_Dataset_meta_original\\Folder_058\\Helipad_05817.meta\n",
      "Saved :data\\Helipad_Dataset_meta\\Helipad_Dataset_meta_original\\Folder_058\\Helipad_05818.meta\n",
      "Saved :data\\Helipad_Dataset_meta\\Helipad_Dataset_meta_original\\Folder_058\\Helipad_05819.meta\n",
      "Saved :data\\Helipad_Dataset_meta\\Helipad_Dataset_meta_original\\Folder_058\\Helipad_05820.meta\n",
      "Saved :data\\Helipad_Dataset_meta\\Helipad_Dataset_meta_original\\Folder_058\\Helipad_05821.meta\n",
      "Saved :data\\Helipad_Dataset_meta\\Helipad_Dataset_meta_original\\Folder_058\\Helipad_05822.meta\n",
      "Saved :data\\Helipad_Dataset_meta\\Helipad_Dataset_meta_original\\Folder_058\\Helipad_05823.meta\n",
      "Saved :data\\Helipad_Dataset_meta\\Helipad_Dataset_meta_original\\Folder_058\\Helipad_05824.meta\n",
      "Saved :data\\Helipad_Dataset_meta\\Helipad_Dataset_meta_original\\Folder_058\\Helipad_05825.meta\n",
      "Saved :data\\Helipad_Dataset_meta\\Helipad_Dataset_meta_original\\Folder_058\\Helipad_05826.meta\n",
      "Saved :data\\Helipad_Dataset_meta\\Helipad_Dataset_meta_original\\Folder_058\\Helipad_05827.meta\n",
      "Saved :data\\Helipad_Dataset_meta\\Helipad_Dataset_meta_original\\Folder_058\\Helipad_05828.meta\n",
      "Saved :data\\Helipad_Dataset_meta\\Helipad_Dataset_meta_original\\Folder_058\\Helipad_05829.meta\n",
      "Saved :data\\Helipad_Dataset_meta\\Helipad_Dataset_meta_original\\Folder_058\\Helipad_05830.meta\n",
      "Saved :data\\Helipad_Dataset_meta\\Helipad_Dataset_meta_original\\Folder_058\\Helipad_05831.meta\n",
      "Saved :data\\Helipad_Dataset_meta\\Helipad_Dataset_meta_original\\Folder_058\\Helipad_05832.meta\n",
      "Saved :data\\Helipad_Dataset_meta\\Helipad_Dataset_meta_original\\Folder_058\\Helipad_05833.meta\n",
      "Saved :data\\Helipad_Dataset_meta\\Helipad_Dataset_meta_original\\Folder_058\\Helipad_05834.meta\n",
      "Saved :data\\Helipad_Dataset_meta\\Helipad_Dataset_meta_original\\Folder_058\\Helipad_05835.meta\n",
      "Saved :data\\Helipad_Dataset_meta\\Helipad_Dataset_meta_original\\Folder_058\\Helipad_05836.meta\n",
      "Saved :data\\Helipad_Dataset_meta\\Helipad_Dataset_meta_original\\Folder_058\\Helipad_05837.meta\n",
      "Saved :data\\Helipad_Dataset_meta\\Helipad_Dataset_meta_original\\Folder_058\\Helipad_05838.meta\n",
      "Saved :data\\Helipad_Dataset_meta\\Helipad_Dataset_meta_original\\Folder_058\\Helipad_05839.meta\n",
      "Saved :data\\Helipad_Dataset_meta\\Helipad_Dataset_meta_original\\Folder_058\\Helipad_05840.meta\n",
      "Saved :data\\Helipad_Dataset_meta\\Helipad_Dataset_meta_original\\Folder_058\\Helipad_05841.meta\n",
      "Saved :data\\Helipad_Dataset_meta\\Helipad_Dataset_meta_original\\Folder_058\\Helipad_05842.meta\n",
      "Saved :data\\Helipad_Dataset_meta\\Helipad_Dataset_meta_original\\Folder_058\\Helipad_05843.meta\n",
      "Saved :data\\Helipad_Dataset_meta\\Helipad_Dataset_meta_original\\Folder_058\\Helipad_05844.meta\n",
      "Saved :data\\Helipad_Dataset_meta\\Helipad_Dataset_meta_original\\Folder_058\\Helipad_05845.meta\n",
      "Saved :data\\Helipad_Dataset_meta\\Helipad_Dataset_meta_original\\Folder_058\\Helipad_05846.meta\n",
      "Saved :data\\Helipad_Dataset_meta\\Helipad_Dataset_meta_original\\Folder_058\\Helipad_05847.meta\n",
      "Saved :data\\Helipad_Dataset_meta\\Helipad_Dataset_meta_original\\Folder_058\\Helipad_05848.meta\n",
      "Saved :data\\Helipad_Dataset_meta\\Helipad_Dataset_meta_original\\Folder_058\\Helipad_05849.meta\n",
      "Saved :data\\Helipad_Dataset_meta\\Helipad_Dataset_meta_original\\Folder_058\\Helipad_05850.meta\n",
      "Saved :data\\Helipad_Dataset_meta\\Helipad_Dataset_meta_original\\Folder_058\\Helipad_05851.meta\n",
      "Saved :data\\Helipad_Dataset_meta\\Helipad_Dataset_meta_original\\Folder_058\\Helipad_05852.meta\n",
      "Saved :data\\Helipad_Dataset_meta\\Helipad_Dataset_meta_original\\Folder_058\\Helipad_05853.meta\n",
      "Saved :data\\Helipad_Dataset_meta\\Helipad_Dataset_meta_original\\Folder_058\\Helipad_05854.meta\n",
      "Saved :data\\Helipad_Dataset_meta\\Helipad_Dataset_meta_original\\Folder_058\\Helipad_05855.meta\n",
      "Saved :data\\Helipad_Dataset_meta\\Helipad_Dataset_meta_original\\Folder_058\\Helipad_05856.meta\n",
      "Saved :data\\Helipad_Dataset_meta\\Helipad_Dataset_meta_original\\Folder_058\\Helipad_05857.meta\n",
      "Saved :data\\Helipad_Dataset_meta\\Helipad_Dataset_meta_original\\Folder_058\\Helipad_05858.meta\n",
      "Saved :data\\Helipad_Dataset_meta\\Helipad_Dataset_meta_original\\Folder_058\\Helipad_05859.meta\n",
      "Saved :data\\Helipad_Dataset_meta\\Helipad_Dataset_meta_original\\Folder_058\\Helipad_05860.meta\n",
      "Saved :data\\Helipad_Dataset_meta\\Helipad_Dataset_meta_original\\Folder_058\\Helipad_05861.meta\n",
      "Saved :data\\Helipad_Dataset_meta\\Helipad_Dataset_meta_original\\Folder_058\\Helipad_05862.meta\n",
      "Saved :data\\Helipad_Dataset_meta\\Helipad_Dataset_meta_original\\Folder_058\\Helipad_05863.meta\n",
      "Saved :data\\Helipad_Dataset_meta\\Helipad_Dataset_meta_original\\Folder_058\\Helipad_05864.meta\n",
      "Saved :data\\Helipad_Dataset_meta\\Helipad_Dataset_meta_original\\Folder_058\\Helipad_05865.meta\n",
      "Saved :data\\Helipad_Dataset_meta\\Helipad_Dataset_meta_original\\Folder_058\\Helipad_05866.meta\n",
      "Saved :data\\Helipad_Dataset_meta\\Helipad_Dataset_meta_original\\Folder_058\\Helipad_05867.meta\n",
      "Saved :data\\Helipad_Dataset_meta\\Helipad_Dataset_meta_original\\Folder_058\\Helipad_05868.meta\n",
      "Saved :data\\Helipad_Dataset_meta\\Helipad_Dataset_meta_original\\Folder_058\\Helipad_05869.meta\n",
      "Saved :data\\Helipad_Dataset_meta\\Helipad_Dataset_meta_original\\Folder_058\\Helipad_05870.meta\n",
      "Saved :data\\Helipad_Dataset_meta\\Helipad_Dataset_meta_original\\Folder_058\\Helipad_05871.meta\n",
      "Saved :data\\Helipad_Dataset_meta\\Helipad_Dataset_meta_original\\Folder_058\\Helipad_05872.meta\n",
      "Saved :data\\Helipad_Dataset_meta\\Helipad_Dataset_meta_original\\Folder_058\\Helipad_05873.meta\n",
      "Saved :data\\Helipad_Dataset_meta\\Helipad_Dataset_meta_original\\Folder_058\\Helipad_05874.meta\n",
      "Saved :data\\Helipad_Dataset_meta\\Helipad_Dataset_meta_original\\Folder_058\\Helipad_05875.meta\n",
      "Saved :data\\Helipad_Dataset_meta\\Helipad_Dataset_meta_original\\Folder_058\\Helipad_05876.meta\n",
      "Saved :data\\Helipad_Dataset_meta\\Helipad_Dataset_meta_original\\Folder_058\\Helipad_05877.meta\n",
      "Dataset created!\n"
     ]
    }
   ],
   "source": [
    "from src.database_management.csv_to_meta import CsvToMeta\n",
    "\n",
    "input_csv_file_path = \"data//Helipad_DataBase_annotated.csv\"\n",
    "output_folder = \"data\"\n",
    "download_images = False\n",
    "google_api_key_filepath = None\n",
    "\n",
    "csv_to_meta = CsvToMeta(input_csv_file_path=input_csv_file_path,\n",
    "                       output_folder=output_folder,\n",
    "                       download_images=download_images,\n",
    "                       google_api_key_filepath=google_api_key_filepath)\n",
    "\n",
    "csv_to_meta.run()"
   ]
  },
  {
   "cell_type": "markdown",
   "metadata": {},
   "source": [
    "# 2. Build Groundtruth\n",
    "Already done in the meta files\n",
    "# 3. Assign Categories\n",
    "Already done in the meta files\n"
   ]
  },
  {
   "cell_type": "markdown",
   "metadata": {},
   "source": [
    "# 4. DataBase Augmentation"
   ]
  },
  {
   "cell_type": "markdown",
   "metadata": {},
   "source": [
    "### 4.1 Using Google's Policy"
   ]
  },
  {
   "cell_type": "code",
   "execution_count": 1,
   "metadata": {},
   "outputs": [
    {
     "name": "stderr",
     "output_type": "stream",
     "text": [
      "C:\\Users\\AISG\\Anaconda3\\envs\\tf-gpu_1.13\\lib\\site-packages\\tensorflow\\python\\framework\\dtypes.py:526: FutureWarning: Passing (type, 1) or '1type' as a synonym of type is deprecated; in a future version of numpy, it will be understood as (type, (1,)) / '(1,)type'.\n",
      "  _np_qint8 = np.dtype([(\"qint8\", np.int8, 1)])\n",
      "C:\\Users\\AISG\\Anaconda3\\envs\\tf-gpu_1.13\\lib\\site-packages\\tensorflow\\python\\framework\\dtypes.py:527: FutureWarning: Passing (type, 1) or '1type' as a synonym of type is deprecated; in a future version of numpy, it will be understood as (type, (1,)) / '(1,)type'.\n",
      "  _np_quint8 = np.dtype([(\"quint8\", np.uint8, 1)])\n",
      "C:\\Users\\AISG\\Anaconda3\\envs\\tf-gpu_1.13\\lib\\site-packages\\tensorflow\\python\\framework\\dtypes.py:528: FutureWarning: Passing (type, 1) or '1type' as a synonym of type is deprecated; in a future version of numpy, it will be understood as (type, (1,)) / '(1,)type'.\n",
      "  _np_qint16 = np.dtype([(\"qint16\", np.int16, 1)])\n",
      "C:\\Users\\AISG\\Anaconda3\\envs\\tf-gpu_1.13\\lib\\site-packages\\tensorflow\\python\\framework\\dtypes.py:529: FutureWarning: Passing (type, 1) or '1type' as a synonym of type is deprecated; in a future version of numpy, it will be understood as (type, (1,)) / '(1,)type'.\n",
      "  _np_quint16 = np.dtype([(\"quint16\", np.uint16, 1)])\n",
      "C:\\Users\\AISG\\Anaconda3\\envs\\tf-gpu_1.13\\lib\\site-packages\\tensorflow\\python\\framework\\dtypes.py:530: FutureWarning: Passing (type, 1) or '1type' as a synonym of type is deprecated; in a future version of numpy, it will be understood as (type, (1,)) / '(1,)type'.\n",
      "  _np_qint32 = np.dtype([(\"qint32\", np.int32, 1)])\n",
      "C:\\Users\\AISG\\Anaconda3\\envs\\tf-gpu_1.13\\lib\\site-packages\\tensorflow\\python\\framework\\dtypes.py:535: FutureWarning: Passing (type, 1) or '1type' as a synonym of type is deprecated; in a future version of numpy, it will be understood as (type, (1,)) / '(1,)type'.\n",
      "  np_resource = np.dtype([(\"resource\", np.ubyte, 1)])\n"
     ]
    },
    {
     "name": "stdout",
     "output_type": "stream",
     "text": [
      "Building Target files\n",
      "Categories count : [60, 1616, 447, 142, 214, 63, 207, 113, 141, 89, 143, 29]\n",
      "{'0': 60, '1': 1616, '2': 447, '3': 142, '4': 214, 'd': 63, '9': 207, '5': 113, '6': 141, '7': 89, '8': 143, 'u': 29}\n",
      "Max count : 1616\n",
      "Total count : 3264\n",
      "Duplicating category 0 3 times\n",
      "Duplicating category 1 1 times\n",
      "Duplicating category 2 1 times\n",
      "Duplicating category 3 3 times\n",
      "Duplicating category 4 0 times\n",
      "Duplicating category d 0 times\n",
      "Duplicating category 9 1 times\n",
      "Duplicating category 5 3 times\n",
      "Duplicating category 6 2 times\n",
      "Duplicating category 7 0 times\n",
      "Duplicating category 8 1 times\n",
      "Duplicating category u 0 times\n",
      "Target Files Built\n",
      "Generating 43632 images\n",
      "<class 'bool'>\n",
      "Displaying samples : False\n"
     ]
    },
    {
     "name": "stderr",
     "output_type": "stream",
     "text": [
      " 23%|█████████████████▌                                                           | 9955/43632 [05:27<17:44, 31.64it/s]"
     ]
    },
    {
     "name": "stdout",
     "output_type": "stream",
     "text": [
      "Helipad_03396.png has no box\n"
     ]
    },
    {
     "name": "stderr",
     "output_type": "stream",
     "text": [
      " 25%|███████████████████                                                         | 10945/43632 [05:59<15:51, 34.35it/s]"
     ]
    },
    {
     "name": "stdout",
     "output_type": "stream",
     "text": [
      "Helipad_03396.png has no box\n"
     ]
    },
    {
     "name": "stderr",
     "output_type": "stream",
     "text": [
      " 26%|███████████████████▋                                                        | 11283/43632 [06:10<15:15, 35.33it/s]"
     ]
    },
    {
     "name": "stdout",
     "output_type": "stream",
     "text": [
      "Helipad_03396.png has no box\n"
     ]
    },
    {
     "name": "stderr",
     "output_type": "stream",
     "text": [
      " 26%|███████████████████▊                                                        | 11392/43632 [06:14<16:37, 32.31it/s]"
     ]
    },
    {
     "name": "stdout",
     "output_type": "stream",
     "text": [
      "Helipad_03396.png has no box\n"
     ]
    },
    {
     "name": "stderr",
     "output_type": "stream",
     "text": [
      " 26%|███████████████████▉                                                        | 11467/43632 [06:16<15:44, 34.06it/s]"
     ]
    },
    {
     "name": "stdout",
     "output_type": "stream",
     "text": [
      "Helipad_03396.png has no box\n"
     ]
    },
    {
     "name": "stderr",
     "output_type": "stream",
     "text": [
      " 29%|█████████████████████▉                                                      | 12604/43632 [06:52<15:46, 32.77it/s]"
     ]
    },
    {
     "name": "stdout",
     "output_type": "stream",
     "text": [
      "Helipad_03396.png has no box\n"
     ]
    },
    {
     "name": "stderr",
     "output_type": "stream",
     "text": [
      " 45%|██████████████████████████████████                                          | 19537/43632 [10:38<12:20, 32.54it/s]"
     ]
    },
    {
     "name": "stdout",
     "output_type": "stream",
     "text": [
      "Helipad_03329.png has no box\n"
     ]
    },
    {
     "name": "stderr",
     "output_type": "stream",
     "text": [
      " 45%|██████████████████████████████████▏                                         | 19610/43632 [10:40<11:17, 35.44it/s]"
     ]
    },
    {
     "name": "stdout",
     "output_type": "stream",
     "text": [
      "Helipad_05772.png has no box\n"
     ]
    },
    {
     "name": "stderr",
     "output_type": "stream",
     "text": [
      " 45%|██████████████████████████████████▏                                         | 19655/43632 [10:41<11:11, 35.68it/s]"
     ]
    },
    {
     "name": "stdout",
     "output_type": "stream",
     "text": [
      "Helipad_03329.png has no box\n"
     ]
    },
    {
     "name": "stderr",
     "output_type": "stream",
     "text": [
      " 45%|██████████████████████████████████▍                                         | 19772/43632 [10:45<12:05, 32.90it/s]"
     ]
    },
    {
     "name": "stdout",
     "output_type": "stream",
     "text": [
      "Helipad_05772.png has no box\n",
      "Helipad_03329.png has no box\n"
     ]
    },
    {
     "name": "stderr",
     "output_type": "stream",
     "text": [
      " 46%|██████████████████████████████████▊                                         | 19954/43632 [10:51<11:53, 33.18it/s]"
     ]
    },
    {
     "name": "stdout",
     "output_type": "stream",
     "text": [
      "Helipad_03329.png has no box\n"
     ]
    },
    {
     "name": "stderr",
     "output_type": "stream",
     "text": [
      " 46%|██████████████████████████████████▊                                         | 20019/43632 [10:53<11:53, 33.10it/s]"
     ]
    },
    {
     "name": "stdout",
     "output_type": "stream",
     "text": [
      "Helipad_03329.png has no box\n"
     ]
    },
    {
     "name": "stderr",
     "output_type": "stream",
     "text": [
      " 46%|███████████████████████████████████                                         | 20165/43632 [10:57<11:35, 33.76it/s]"
     ]
    },
    {
     "name": "stdout",
     "output_type": "stream",
     "text": [
      "Helipad_05772.png has no box\n"
     ]
    },
    {
     "name": "stderr",
     "output_type": "stream",
     "text": [
      " 46%|███████████████████████████████████▏                                        | 20198/43632 [10:58<11:29, 33.99it/s]"
     ]
    },
    {
     "name": "stdout",
     "output_type": "stream",
     "text": [
      "Helipad_03329.png has no box\n"
     ]
    },
    {
     "name": "stderr",
     "output_type": "stream",
     "text": [
      " 46%|███████████████████████████████████▏                                        | 20230/43632 [10:59<12:16, 31.79it/s]"
     ]
    },
    {
     "name": "stdout",
     "output_type": "stream",
     "text": [
      "Helipad_05772.png has no box\n"
     ]
    },
    {
     "name": "stderr",
     "output_type": "stream",
     "text": [
      " 47%|███████████████████████████████████▍                                        | 20343/43632 [11:03<11:26, 33.91it/s]"
     ]
    },
    {
     "name": "stdout",
     "output_type": "stream",
     "text": [
      "Helipad_05772.png has no box\n"
     ]
    },
    {
     "name": "stderr",
     "output_type": "stream",
     "text": [
      " 47%|███████████████████████████████████▌                                        | 20411/43632 [11:05<12:03, 32.11it/s]"
     ]
    },
    {
     "name": "stdout",
     "output_type": "stream",
     "text": [
      "Helipad_05772.png has no box\n"
     ]
    },
    {
     "name": "stderr",
     "output_type": "stream",
     "text": [
      " 47%|███████████████████████████████████▌                                        | 20431/43632 [11:05<11:38, 33.20it/s]"
     ]
    },
    {
     "name": "stdout",
     "output_type": "stream",
     "text": [
      "Helipad_05772.png has no box\n"
     ]
    },
    {
     "name": "stderr",
     "output_type": "stream",
     "text": [
      " 47%|███████████████████████████████████▉                                        | 20648/43632 [11:12<11:57, 32.04it/s]"
     ]
    },
    {
     "name": "stdout",
     "output_type": "stream",
     "text": [
      "Helipad_05772.png has no box\n"
     ]
    },
    {
     "name": "stderr",
     "output_type": "stream",
     "text": [
      " 48%|████████████████████████████████████▏                                       | 20740/43632 [11:15<11:58, 31.87it/s]"
     ]
    },
    {
     "name": "stdout",
     "output_type": "stream",
     "text": [
      "Helipad_05772.png has no box\n"
     ]
    },
    {
     "name": "stderr",
     "output_type": "stream",
     "text": [
      " 48%|████████████████████████████████████▏                                       | 20768/43632 [11:16<12:03, 31.62it/s]"
     ]
    },
    {
     "name": "stdout",
     "output_type": "stream",
     "text": [
      "Helipad_05772.png has no box\n"
     ]
    },
    {
     "name": "stderr",
     "output_type": "stream",
     "text": [
      " 48%|████████████████████████████████████▍                                       | 20889/43632 [11:20<11:44, 32.27it/s]"
     ]
    },
    {
     "name": "stdout",
     "output_type": "stream",
     "text": [
      "Helipad_03329.png has no box\n"
     ]
    },
    {
     "name": "stderr",
     "output_type": "stream",
     "text": [
      " 59%|█████████████████████████████████████████████▏                              | 25930/43632 [14:03<08:39, 34.05it/s]"
     ]
    },
    {
     "name": "stdout",
     "output_type": "stream",
     "text": [
      "Helipad_03391.png has no box\n"
     ]
    },
    {
     "name": "stderr",
     "output_type": "stream",
     "text": [
      " 60%|█████████████████████████████████████████████▍                              | 26085/43632 [14:08<08:52, 32.94it/s]"
     ]
    },
    {
     "name": "stdout",
     "output_type": "stream",
     "text": [
      "Helipad_03391.png has no box\n"
     ]
    },
    {
     "name": "stderr",
     "output_type": "stream",
     "text": [
      " 60%|█████████████████████████████████████████████▉                              | 26388/43632 [14:17<08:56, 32.15it/s]"
     ]
    },
    {
     "name": "stdout",
     "output_type": "stream",
     "text": [
      "Helipad_03391.png has no box\n"
     ]
    },
    {
     "name": "stderr",
     "output_type": "stream",
     "text": [
      " 61%|██████████████████████████████████████████████▏                             | 26482/43632 [14:20<08:43, 32.75it/s]"
     ]
    },
    {
     "name": "stdout",
     "output_type": "stream",
     "text": [
      "Helipad_03391.png has no box\n"
     ]
    },
    {
     "name": "stderr",
     "output_type": "stream",
     "text": [
      " 62%|██████████████████████████████████████████████▊                             | 26866/43632 [14:32<08:49, 31.69it/s]"
     ]
    },
    {
     "name": "stdout",
     "output_type": "stream",
     "text": [
      "Helipad_03391.png has no box\n"
     ]
    },
    {
     "name": "stderr",
     "output_type": "stream",
     "text": [
      " 62%|███████████████████████████████████████████████▏                            | 27083/43632 [14:39<08:10, 33.75it/s]"
     ]
    },
    {
     "name": "stdout",
     "output_type": "stream",
     "text": [
      "Helipad_03391.png has no box\n"
     ]
    },
    {
     "name": "stderr",
     "output_type": "stream",
     "text": [
      " 62%|███████████████████████████████████████████████▏                            | 27112/43632 [14:40<08:15, 33.33it/s]"
     ]
    },
    {
     "name": "stdout",
     "output_type": "stream",
     "text": [
      "Helipad_03391.png has no box\n"
     ]
    },
    {
     "name": "stderr",
     "output_type": "stream",
     "text": [
      " 62%|███████████████████████████████████████████████▎                            | 27156/43632 [14:42<08:33, 32.09it/s]"
     ]
    },
    {
     "name": "stdout",
     "output_type": "stream",
     "text": [
      "Helipad_03391.png has no box\n"
     ]
    },
    {
     "name": "stderr",
     "output_type": "stream",
     "text": [
      " 62%|███████████████████████████████████████████████▍                            | 27262/43632 [14:45<08:14, 33.09it/s]"
     ]
    },
    {
     "name": "stdout",
     "output_type": "stream",
     "text": [
      "Helipad_03391.png has no box\n"
     ]
    },
    {
     "name": "stderr",
     "output_type": "stream",
     "text": [
      " 63%|███████████████████████████████████████████████▌                            | 27340/43632 [14:47<07:56, 34.18it/s]"
     ]
    },
    {
     "name": "stdout",
     "output_type": "stream",
     "text": [
      "Helipad_03391.png has no box\n"
     ]
    },
    {
     "name": "stderr",
     "output_type": "stream",
     "text": [
      " 63%|███████████████████████████████████████████████▊                            | 27429/43632 [14:50<07:58, 33.85it/s]"
     ]
    },
    {
     "name": "stdout",
     "output_type": "stream",
     "text": [
      "Helipad_03391.png has no box\n"
     ]
    },
    {
     "name": "stderr",
     "output_type": "stream",
     "text": [
      " 63%|███████████████████████████████████████████████▉                            | 27526/43632 [14:53<08:25, 31.87it/s]"
     ]
    },
    {
     "name": "stdout",
     "output_type": "stream",
     "text": [
      "Helipad_03391.png has no box\n"
     ]
    },
    {
     "name": "stderr",
     "output_type": "stream",
     "text": [
      " 63%|████████████████████████████████████████████████                            | 27623/43632 [14:56<08:02, 33.19it/s]"
     ]
    },
    {
     "name": "stdout",
     "output_type": "stream",
     "text": [
      "Helipad_03391.png has no box\n",
      "Helipad_03391.png has no box\n"
     ]
    },
    {
     "name": "stderr",
     "output_type": "stream",
     "text": [
      " 64%|████████████████████████████████████████████████▊                           | 27989/43632 [15:08<07:47, 33.43it/s]"
     ]
    },
    {
     "name": "stdout",
     "output_type": "stream",
     "text": [
      "Helipad_03391.png has no box\n"
     ]
    },
    {
     "name": "stderr",
     "output_type": "stream",
     "text": [
      " 64%|████████████████████████████████████████████████▉                           | 28067/43632 [15:10<07:27, 34.78it/s]"
     ]
    },
    {
     "name": "stdout",
     "output_type": "stream",
     "text": [
      "Helipad_03391.png has no box\n"
     ]
    },
    {
     "name": "stderr",
     "output_type": "stream",
     "text": [
      " 64%|████████████████████████████████████████████████▉                           | 28088/43632 [15:11<07:46, 33.34it/s]"
     ]
    },
    {
     "name": "stdout",
     "output_type": "stream",
     "text": [
      "Helipad_03391.png has no box\n"
     ]
    },
    {
     "name": "stderr",
     "output_type": "stream",
     "text": [
      " 65%|█████████████████████████████████████████████████▌                          | 28470/43632 [15:24<07:45, 32.54it/s]"
     ]
    },
    {
     "name": "stdout",
     "output_type": "stream",
     "text": [
      "Helipad_03391.png has no box\n"
     ]
    },
    {
     "name": "stderr",
     "output_type": "stream",
     "text": [
      " 65%|█████████████████████████████████████████████████▊                          | 28567/43632 [15:27<07:13, 34.74it/s]"
     ]
    },
    {
     "name": "stdout",
     "output_type": "stream",
     "text": [
      "Helipad_03391.png has no box\n"
     ]
    },
    {
     "name": "stderr",
     "output_type": "stream",
     "text": [
      " 66%|██████████████████████████████████████████████████▎                         | 28850/43632 [15:36<07:23, 33.31it/s]"
     ]
    },
    {
     "name": "stdout",
     "output_type": "stream",
     "text": [
      "Helipad_03391.png has no box\n"
     ]
    },
    {
     "name": "stderr",
     "output_type": "stream",
     "text": [
      " 67%|██████████████████████████████████████████████████▉                         | 29262/43632 [15:49<07:30, 31.89it/s]"
     ]
    },
    {
     "name": "stdout",
     "output_type": "stream",
     "text": [
      "Helipad_03391.png has no box\n"
     ]
    },
    {
     "name": "stderr",
     "output_type": "stream",
     "text": [
      " 67%|███████████████████████████████████████████████████                         | 29311/43632 [15:50<07:12, 33.09it/s]"
     ]
    },
    {
     "name": "stdout",
     "output_type": "stream",
     "text": [
      "Helipad_03391.png has no box\n"
     ]
    },
    {
     "name": "stderr",
     "output_type": "stream",
     "text": [
      " 67%|███████████████████████████████████████████████████▏                        | 29411/43632 [15:54<07:05, 33.40it/s]"
     ]
    },
    {
     "name": "stdout",
     "output_type": "stream",
     "text": [
      "Helipad_03391.png has no box\n"
     ]
    },
    {
     "name": "stderr",
     "output_type": "stream",
     "text": [
      " 68%|███████████████████████████████████████████████████▍                        | 29562/43632 [15:59<07:28, 31.39it/s]"
     ]
    },
    {
     "name": "stdout",
     "output_type": "stream",
     "text": [
      "Helipad_03391.png has no box\n"
     ]
    },
    {
     "name": "stderr",
     "output_type": "stream",
     "text": [
      " 68%|███████████████████████████████████████████████████▌                        | 29619/43632 [16:01<07:08, 32.68it/s]"
     ]
    },
    {
     "name": "stdout",
     "output_type": "stream",
     "text": [
      "Helipad_03391.png has no box\n"
     ]
    },
    {
     "name": "stderr",
     "output_type": "stream",
     "text": [
      " 68%|███████████████████████████████████████████████████▋                        | 29644/43632 [16:01<07:13, 32.23it/s]"
     ]
    },
    {
     "name": "stdout",
     "output_type": "stream",
     "text": [
      "Helipad_03391.png has no box\n"
     ]
    },
    {
     "name": "stderr",
     "output_type": "stream",
     "text": [
      " 68%|███████████████████████████████████████████████████▊                        | 29760/43632 [16:05<06:26, 35.91it/s]"
     ]
    },
    {
     "name": "stdout",
     "output_type": "stream",
     "text": [
      "Helipad_03391.png has no box\n",
      "Helipad_03391.png has no box\n"
     ]
    },
    {
     "name": "stderr",
     "output_type": "stream",
     "text": [
      " 68%|███████████████████████████████████████████████████▊                        | 29769/43632 [16:06<06:34, 35.15it/s]"
     ]
    },
    {
     "name": "stdout",
     "output_type": "stream",
     "text": [
      "Helipad_03391.png has no box\n"
     ]
    },
    {
     "name": "stderr",
     "output_type": "stream",
     "text": [
      " 68%|███████████████████████████████████████████████████▉                        | 29845/43632 [16:08<07:13, 31.83it/s]"
     ]
    },
    {
     "name": "stdout",
     "output_type": "stream",
     "text": [
      "Helipad_03391.png has no box\n"
     ]
    },
    {
     "name": "stderr",
     "output_type": "stream",
     "text": [
      " 69%|████████████████████████████████████████████████████▏                       | 29936/43632 [16:11<06:55, 32.93it/s]"
     ]
    },
    {
     "name": "stdout",
     "output_type": "stream",
     "text": [
      "Helipad_03391.png has no box\n"
     ]
    },
    {
     "name": "stderr",
     "output_type": "stream",
     "text": [
      " 69%|████████████████████████████████████████████████████▎                       | 30042/43632 [16:14<07:11, 31.49it/s]"
     ]
    },
    {
     "name": "stdout",
     "output_type": "stream",
     "text": [
      "Helipad_03391.png has no box\n"
     ]
    },
    {
     "name": "stderr",
     "output_type": "stream",
     "text": [
      " 69%|████████████████████████████████████████████████████▍                       | 30098/43632 [16:16<07:10, 31.46it/s]"
     ]
    },
    {
     "name": "stdout",
     "output_type": "stream",
     "text": [
      "Helipad_03391.png has no box\n"
     ]
    },
    {
     "name": "stderr",
     "output_type": "stream",
     "text": [
      " 69%|████████████████████████████████████████████████████▊                       | 30319/43632 [16:23<06:58, 31.84it/s]"
     ]
    },
    {
     "name": "stdout",
     "output_type": "stream",
     "text": [
      "Helipad_03391.png has no box\n"
     ]
    },
    {
     "name": "stderr",
     "output_type": "stream",
     "text": [
      " 70%|█████████████████████████████████████████████████████                       | 30476/43632 [16:29<06:55, 31.67it/s]"
     ]
    },
    {
     "name": "stdout",
     "output_type": "stream",
     "text": [
      "Helipad_03391.png has no box\n"
     ]
    },
    {
     "name": "stderr",
     "output_type": "stream",
     "text": [
      " 70%|█████████████████████████████████████████████████████▏                      | 30509/43632 [16:30<06:48, 32.13it/s]"
     ]
    },
    {
     "name": "stdout",
     "output_type": "stream",
     "text": [
      "Helipad_03391.png has no box\n"
     ]
    },
    {
     "name": "stderr",
     "output_type": "stream",
     "text": [
      " 70%|█████████████████████████████████████████████████████▏                      | 30545/43632 [16:31<06:58, 31.24it/s]"
     ]
    },
    {
     "name": "stdout",
     "output_type": "stream",
     "text": [
      "Helipad_03391.png has no box\n"
     ]
    },
    {
     "name": "stderr",
     "output_type": "stream",
     "text": [
      " 70%|█████████████████████████████████████████████████████▏                      | 30554/43632 [16:31<06:17, 34.61it/s]"
     ]
    },
    {
     "name": "stdout",
     "output_type": "stream",
     "text": [
      "Helipad_03391.png has no box\n"
     ]
    },
    {
     "name": "stderr",
     "output_type": "stream",
     "text": [
      " 70%|█████████████████████████████████████████████████████▎                      | 30594/43632 [16:32<06:39, 32.64it/s]"
     ]
    },
    {
     "name": "stdout",
     "output_type": "stream",
     "text": [
      "Helipad_03391.png has no box\n"
     ]
    },
    {
     "name": "stderr",
     "output_type": "stream",
     "text": [
      " 70%|█████████████████████████████████████████████████████▎                      | 30635/43632 [16:34<06:53, 31.44it/s]"
     ]
    },
    {
     "name": "stdout",
     "output_type": "stream",
     "text": [
      "Helipad_03391.png has no box\n"
     ]
    },
    {
     "name": "stderr",
     "output_type": "stream",
     "text": [
      " 70%|█████████████████████████████████████████████████████▍                      | 30656/43632 [16:34<06:53, 31.41it/s]"
     ]
    },
    {
     "name": "stdout",
     "output_type": "stream",
     "text": [
      "Helipad_03391.png has no box\n"
     ]
    },
    {
     "name": "stderr",
     "output_type": "stream",
     "text": [
      " 70%|█████████████████████████████████████████████████████▍                      | 30677/43632 [16:35<06:41, 32.25it/s]"
     ]
    },
    {
     "name": "stdout",
     "output_type": "stream",
     "text": [
      "Helipad_03391.png has no box\n"
     ]
    },
    {
     "name": "stderr",
     "output_type": "stream",
     "text": [
      " 70%|█████████████████████████████████████████████████████▌                      | 30730/43632 [16:37<06:28, 33.22it/s]"
     ]
    },
    {
     "name": "stdout",
     "output_type": "stream",
     "text": [
      "Helipad_03391.png has no box\n"
     ]
    },
    {
     "name": "stderr",
     "output_type": "stream",
     "text": [
      " 71%|█████████████████████████████████████████████████████▌                      | 30778/43632 [16:38<06:59, 30.67it/s]"
     ]
    },
    {
     "name": "stdout",
     "output_type": "stream",
     "text": [
      "Helipad_03391.png has no box\n"
     ]
    },
    {
     "name": "stderr",
     "output_type": "stream",
     "text": [
      " 71%|█████████████████████████████████████████████████████▋                      | 30790/43632 [16:39<06:49, 31.38it/s]"
     ]
    },
    {
     "name": "stdout",
     "output_type": "stream",
     "text": [
      "Helipad_03391.png has no box\n"
     ]
    },
    {
     "name": "stderr",
     "output_type": "stream",
     "text": [
      " 71%|█████████████████████████████████████████████████████▋                      | 30842/43632 [16:40<06:25, 33.21it/s]"
     ]
    },
    {
     "name": "stdout",
     "output_type": "stream",
     "text": [
      "Helipad_03391.png has no box\n",
      "Helipad_03391.png has no box\n"
     ]
    },
    {
     "name": "stderr",
     "output_type": "stream",
     "text": [
      " 71%|█████████████████████████████████████████████████████▋                      | 30855/43632 [16:41<06:16, 33.91it/s]"
     ]
    },
    {
     "name": "stdout",
     "output_type": "stream",
     "text": [
      "Helipad_03391.png has no box\n"
     ]
    },
    {
     "name": "stderr",
     "output_type": "stream",
     "text": [
      " 71%|█████████████████████████████████████████████████████▊                      | 30864/43632 [16:41<06:08, 34.68it/s]"
     ]
    },
    {
     "name": "stdout",
     "output_type": "stream",
     "text": [
      "Helipad_03391.png has no box\n"
     ]
    },
    {
     "name": "stderr",
     "output_type": "stream",
     "text": [
      " 71%|█████████████████████████████████████████████████████▊                      | 30893/43632 [16:42<06:18, 33.69it/s]"
     ]
    },
    {
     "name": "stdout",
     "output_type": "stream",
     "text": [
      "Helipad_03391.png has no box\n"
     ]
    },
    {
     "name": "stderr",
     "output_type": "stream",
     "text": [
      " 71%|██████████████████████████████████████████████████████▏                     | 31113/43632 [16:49<06:13, 33.54it/s]"
     ]
    },
    {
     "name": "stdout",
     "output_type": "stream",
     "text": [
      "Helipad_03391.png has no box\n"
     ]
    },
    {
     "name": "stderr",
     "output_type": "stream",
     "text": [
      " 72%|██████████████████████████████████████████████████████▋                     | 31419/43632 [16:59<06:32, 31.16it/s]"
     ]
    },
    {
     "name": "stdout",
     "output_type": "stream",
     "text": [
      "Helipad_03391.png has no box\n"
     ]
    },
    {
     "name": "stderr",
     "output_type": "stream",
     "text": [
      " 73%|███████████████████████████████████████████████████████▏                    | 31666/43632 [17:08<06:49, 29.20it/s]"
     ]
    },
    {
     "name": "stdout",
     "output_type": "stream",
     "text": [
      "Helipad_03391.png has no box\n"
     ]
    },
    {
     "name": "stderr",
     "output_type": "stream",
     "text": [
      " 73%|███████████████████████████████████████████████████████▌                    | 31880/43632 [17:15<06:08, 31.90it/s]"
     ]
    },
    {
     "name": "stdout",
     "output_type": "stream",
     "text": [
      "Helipad_03391.png has no box\n"
     ]
    },
    {
     "name": "stderr",
     "output_type": "stream",
     "text": [
      " 73%|███████████████████████████████████████████████████████▌                    | 31893/43632 [17:16<05:50, 33.45it/s]"
     ]
    },
    {
     "name": "stdout",
     "output_type": "stream",
     "text": [
      "Helipad_03391.png has no box\n"
     ]
    },
    {
     "name": "stderr",
     "output_type": "stream",
     "text": [
      " 74%|███████████████████████████████████████████████████████▉                    | 32115/43632 [17:23<05:44, 33.45it/s]"
     ]
    },
    {
     "name": "stdout",
     "output_type": "stream",
     "text": [
      "Helipad_03391.png has no box\n"
     ]
    },
    {
     "name": "stderr",
     "output_type": "stream",
     "text": [
      " 74%|████████████████████████████████████████████████████████▎                   | 32306/43632 [17:29<06:38, 28.43it/s]"
     ]
    },
    {
     "name": "stdout",
     "output_type": "stream",
     "text": [
      "Helipad_03391.png has no box\n"
     ]
    },
    {
     "name": "stderr",
     "output_type": "stream",
     "text": [
      " 96%|█████████████████████████████████████████████████████████████████████████▏  | 42043/43632 [24:04<00:59, 26.87it/s]"
     ]
    },
    {
     "name": "stdout",
     "output_type": "stream",
     "text": [
      "Helipad_02792.png has no box\n"
     ]
    },
    {
     "name": "stderr",
     "output_type": "stream",
     "text": [
      " 96%|█████████████████████████████████████████████████████████████████████████▎  | 42064/43632 [24:05<01:18, 20.04it/s]"
     ]
    },
    {
     "name": "stdout",
     "output_type": "stream",
     "text": [
      "Helipad_02792.png has no box\n"
     ]
    },
    {
     "name": "stderr",
     "output_type": "stream",
     "text": [
      " 96%|█████████████████████████████████████████████████████████████████████████▎  | 42074/43632 [24:06<01:04, 24.23it/s]"
     ]
    },
    {
     "name": "stdout",
     "output_type": "stream",
     "text": [
      "Helipad_02792.png has no box\n"
     ]
    },
    {
     "name": "stderr",
     "output_type": "stream",
     "text": [
      " 97%|█████████████████████████████████████████████████████████████████████████▍  | 42193/43632 [24:11<00:59, 24.19it/s]"
     ]
    },
    {
     "name": "stdout",
     "output_type": "stream",
     "text": [
      "Helipad_02792.png has no box\n"
     ]
    },
    {
     "name": "stderr",
     "output_type": "stream",
     "text": [
      " 97%|█████████████████████████████████████████████████████████████████████████▌  | 42242/43632 [24:13<00:55, 24.86it/s]"
     ]
    },
    {
     "name": "stdout",
     "output_type": "stream",
     "text": [
      "Helipad_02792.png has no box\n"
     ]
    },
    {
     "name": "stderr",
     "output_type": "stream",
     "text": [
      " 97%|█████████████████████████████████████████████████████████████████████████▋  | 42312/43632 [24:16<00:54, 24.15it/s]"
     ]
    },
    {
     "name": "stdout",
     "output_type": "stream",
     "text": [
      "Helipad_02792.png has no box\n"
     ]
    },
    {
     "name": "stderr",
     "output_type": "stream",
     "text": [
      " 97%|█████████████████████████████████████████████████████████████████████████▊  | 42345/43632 [24:17<00:50, 25.65it/s]"
     ]
    },
    {
     "name": "stdout",
     "output_type": "stream",
     "text": [
      "Helipad_02792.png has no box\n"
     ]
    },
    {
     "name": "stderr",
     "output_type": "stream",
     "text": [
      " 97%|█████████████████████████████████████████████████████████████████████████▊  | 42378/43632 [24:19<00:48, 26.11it/s]"
     ]
    },
    {
     "name": "stdout",
     "output_type": "stream",
     "text": [
      "Helipad_02792.png has no box\n"
     ]
    },
    {
     "name": "stderr",
     "output_type": "stream",
     "text": [
      " 97%|█████████████████████████████████████████████████████████████████████████▊  | 42385/43632 [24:19<00:42, 29.47it/s]"
     ]
    },
    {
     "name": "stdout",
     "output_type": "stream",
     "text": [
      "Helipad_02792.png has no box\n",
      "Helipad_02792.png has no box\n"
     ]
    },
    {
     "name": "stderr",
     "output_type": "stream",
     "text": [
      " 97%|█████████████████████████████████████████████████████████████████████████▊  | 42394/43632 [24:19<00:41, 30.03it/s]"
     ]
    },
    {
     "name": "stdout",
     "output_type": "stream",
     "text": [
      "Helipad_02792.png has no box\n"
     ]
    },
    {
     "name": "stderr",
     "output_type": "stream",
     "text": [
      " 97%|█████████████████████████████████████████████████████████████████████████▉  | 42414/43632 [24:20<00:47, 25.75it/s]"
     ]
    },
    {
     "name": "stdout",
     "output_type": "stream",
     "text": [
      "Helipad_02792.png has no box\n"
     ]
    },
    {
     "name": "stderr",
     "output_type": "stream",
     "text": [
      " 97%|█████████████████████████████████████████████████████████████████████████▉  | 42440/43632 [24:21<00:40, 29.18it/s]"
     ]
    },
    {
     "name": "stdout",
     "output_type": "stream",
     "text": [
      "Helipad_02792.png has no box\n",
      "Helipad_02792.png has no box\n",
      "Helipad_02792.png has no box\n"
     ]
    },
    {
     "name": "stderr",
     "output_type": "stream",
     "text": [
      " 97%|█████████████████████████████████████████████████████████████████████████▉  | 42474/43632 [24:23<00:47, 24.18it/s]"
     ]
    },
    {
     "name": "stdout",
     "output_type": "stream",
     "text": [
      "Helipad_02792.png has no box\n"
     ]
    },
    {
     "name": "stderr",
     "output_type": "stream",
     "text": [
      "\r",
      " 97%|█████████████████████████████████████████████████████████████████████████▉  | 42479/43632 [24:23<00:44, 25.68it/s]"
     ]
    },
    {
     "name": "stdout",
     "output_type": "stream",
     "text": [
      "Helipad_02792.png has no box\n"
     ]
    },
    {
     "name": "stderr",
     "output_type": "stream",
     "text": [
      " 97%|██████████████████████████████████████████████████████████████████████████  | 42495/43632 [24:23<00:44, 25.54it/s]"
     ]
    },
    {
     "name": "stdout",
     "output_type": "stream",
     "text": [
      "Helipad_02792.png has no box\n"
     ]
    },
    {
     "name": "stderr",
     "output_type": "stream",
     "text": [
      " 97%|██████████████████████████████████████████████████████████████████████████  | 42501/43632 [24:24<00:44, 25.25it/s]"
     ]
    },
    {
     "name": "stdout",
     "output_type": "stream",
     "text": [
      "Helipad_02792.png has no box\n"
     ]
    },
    {
     "name": "stderr",
     "output_type": "stream",
     "text": [
      " 97%|██████████████████████████████████████████████████████████████████████████  | 42512/43632 [24:24<00:42, 26.34it/s]"
     ]
    },
    {
     "name": "stdout",
     "output_type": "stream",
     "text": [
      "Helipad_02792.png has no box\n",
      "Helipad_02792.png has no box\n"
     ]
    },
    {
     "name": "stderr",
     "output_type": "stream",
     "text": [
      " 98%|██████████████████████████████████████████████████████████████████████████  | 42547/43632 [24:26<00:44, 24.49it/s]"
     ]
    },
    {
     "name": "stdout",
     "output_type": "stream",
     "text": [
      "Helipad_02792.png has no box\n"
     ]
    },
    {
     "name": "stderr",
     "output_type": "stream",
     "text": [
      " 98%|██████████████████████████████████████████████████████████████████████████▏ | 42577/43632 [24:27<00:41, 25.48it/s]"
     ]
    },
    {
     "name": "stdout",
     "output_type": "stream",
     "text": [
      "Helipad_02792.png has no box\n"
     ]
    },
    {
     "name": "stderr",
     "output_type": "stream",
     "text": [
      " 98%|██████████████████████████████████████████████████████████████████████████▏ | 42598/43632 [24:28<00:36, 28.51it/s]"
     ]
    },
    {
     "name": "stdout",
     "output_type": "stream",
     "text": [
      "Helipad_02792.png has no box\n"
     ]
    },
    {
     "name": "stderr",
     "output_type": "stream",
     "text": [
      " 98%|██████████████████████████████████████████████████████████████████████████▎ | 42649/43632 [24:30<00:39, 25.07it/s]"
     ]
    },
    {
     "name": "stdout",
     "output_type": "stream",
     "text": [
      "Helipad_02792.png has no box\n",
      "Helipad_02792.png has no box\n"
     ]
    },
    {
     "name": "stderr",
     "output_type": "stream",
     "text": [
      " 98%|██████████████████████████████████████████████████████████████████████████▎ | 42672/43632 [24:31<00:37, 25.40it/s]"
     ]
    },
    {
     "name": "stdout",
     "output_type": "stream",
     "text": [
      "Helipad_02792.png has no box\n"
     ]
    },
    {
     "name": "stderr",
     "output_type": "stream",
     "text": [
      " 98%|██████████████████████████████████████████████████████████████████████████▎ | 42686/43632 [24:31<00:35, 27.01it/s]"
     ]
    },
    {
     "name": "stdout",
     "output_type": "stream",
     "text": [
      "Helipad_02792.png has no box\n"
     ]
    },
    {
     "name": "stderr",
     "output_type": "stream",
     "text": [
      " 98%|██████████████████████████████████████████████████████████████████████████▌ | 42776/43632 [24:35<00:31, 27.48it/s]"
     ]
    },
    {
     "name": "stdout",
     "output_type": "stream",
     "text": [
      "Helipad_02792.png has no box\n"
     ]
    },
    {
     "name": "stderr",
     "output_type": "stream",
     "text": [
      " 98%|██████████████████████████████████████████████████████████████████████████▌ | 42827/43632 [24:37<00:32, 24.83it/s]"
     ]
    },
    {
     "name": "stdout",
     "output_type": "stream",
     "text": [
      "Helipad_02792.png has no box\n"
     ]
    },
    {
     "name": "stderr",
     "output_type": "stream",
     "text": [
      " 98%|██████████████████████████████████████████████████████████████████████████▋ | 42878/43632 [24:39<00:30, 24.95it/s]"
     ]
    },
    {
     "name": "stdout",
     "output_type": "stream",
     "text": [
      "Helipad_02792.png has no box\n"
     ]
    },
    {
     "name": "stderr",
     "output_type": "stream",
     "text": [
      " 98%|██████████████████████████████████████████████████████████████████████████▊ | 42948/43632 [24:42<00:25, 26.63it/s]"
     ]
    },
    {
     "name": "stdout",
     "output_type": "stream",
     "text": [
      "Helipad_02792.png has no box\n"
     ]
    },
    {
     "name": "stderr",
     "output_type": "stream",
     "text": [
      " 98%|██████████████████████████████████████████████████████████████████████████▊ | 42956/43632 [24:43<00:26, 25.25it/s]"
     ]
    },
    {
     "name": "stdout",
     "output_type": "stream",
     "text": [
      "Helipad_02792.png has no box\n",
      "Helipad_02792.png has no box\n"
     ]
    },
    {
     "name": "stderr",
     "output_type": "stream",
     "text": [
      " 98%|██████████████████████████████████████████████████████████████████████████▊ | 42977/43632 [24:44<00:26, 25.14it/s]"
     ]
    },
    {
     "name": "stdout",
     "output_type": "stream",
     "text": [
      "Helipad_02792.png has no box\n"
     ]
    },
    {
     "name": "stderr",
     "output_type": "stream",
     "text": [
      " 99%|██████████████████████████████████████████████████████████████████████████▉ | 42988/43632 [24:44<00:26, 24.59it/s]"
     ]
    },
    {
     "name": "stdout",
     "output_type": "stream",
     "text": [
      "Helipad_02792.png has no box\n"
     ]
    },
    {
     "name": "stderr",
     "output_type": "stream",
     "text": [
      " 99%|██████████████████████████████████████████████████████████████████████████▉ | 43010/43632 [24:45<00:23, 26.08it/s]"
     ]
    },
    {
     "name": "stdout",
     "output_type": "stream",
     "text": [
      "Helipad_02792.png has no box\n",
      "Helipad_02792.png has no box\n"
     ]
    },
    {
     "name": "stderr",
     "output_type": "stream",
     "text": [
      " 99%|██████████████████████████████████████████████████████████████████████████▉ | 43030/43632 [24:46<00:22, 26.96it/s]"
     ]
    },
    {
     "name": "stdout",
     "output_type": "stream",
     "text": [
      "Helipad_02792.png has no box\n"
     ]
    },
    {
     "name": "stderr",
     "output_type": "stream",
     "text": [
      " 99%|██████████████████████████████████████████████████████████████████████████▉ | 43053/43632 [24:47<00:23, 24.99it/s]"
     ]
    },
    {
     "name": "stdout",
     "output_type": "stream",
     "text": [
      "Helipad_02792.png has no box\n"
     ]
    },
    {
     "name": "stderr",
     "output_type": "stream",
     "text": [
      " 99%|███████████████████████████████████████████████████████████████████████████ | 43084/43632 [24:48<00:19, 27.80it/s]"
     ]
    },
    {
     "name": "stdout",
     "output_type": "stream",
     "text": [
      "Helipad_02792.png has no box\n"
     ]
    },
    {
     "name": "stderr",
     "output_type": "stream",
     "text": [
      " 99%|███████████████████████████████████████████████████████████████████████████ | 43110/43632 [24:49<00:20, 25.70it/s]"
     ]
    },
    {
     "name": "stdout",
     "output_type": "stream",
     "text": [
      "Helipad_02792.png has no box\n"
     ]
    },
    {
     "name": "stderr",
     "output_type": "stream",
     "text": [
      " 99%|███████████████████████████████████████████████████████████████████████████▏| 43194/43632 [24:53<00:18, 23.52it/s]"
     ]
    },
    {
     "name": "stdout",
     "output_type": "stream",
     "text": [
      "Helipad_02792.png has no box\n"
     ]
    },
    {
     "name": "stderr",
     "output_type": "stream",
     "text": [
      "\r",
      " 99%|███████████████████████████████████████████████████████████████████████████▏| 43198/43632 [24:53<00:17, 24.75it/s]"
     ]
    },
    {
     "name": "stdout",
     "output_type": "stream",
     "text": [
      "Helipad_02792.png has no box\n"
     ]
    },
    {
     "name": "stderr",
     "output_type": "stream",
     "text": [
      " 99%|███████████████████████████████████████████████████████████████████████████▎| 43258/43632 [24:56<00:16, 23.04it/s]"
     ]
    },
    {
     "name": "stdout",
     "output_type": "stream",
     "text": [
      "Helipad_02792.png has no box\n"
     ]
    },
    {
     "name": "stderr",
     "output_type": "stream",
     "text": [
      " 99%|███████████████████████████████████████████████████████████████████████████▍| 43285/43632 [24:57<00:13, 25.40it/s]"
     ]
    },
    {
     "name": "stdout",
     "output_type": "stream",
     "text": [
      "Helipad_02792.png has no box\n",
      "Helipad_02792.png has no box\n"
     ]
    },
    {
     "name": "stderr",
     "output_type": "stream",
     "text": [
      " 99%|███████████████████████████████████████████████████████████████████████████▌| 43356/43632 [25:00<00:11, 23.06it/s]"
     ]
    },
    {
     "name": "stdout",
     "output_type": "stream",
     "text": [
      "Helipad_02792.png has no box\n"
     ]
    },
    {
     "name": "stderr",
     "output_type": "stream",
     "text": [
      "100%|███████████████████████████████████████████████████████████████████████████▋| 43482/43632 [25:05<00:06, 22.81it/s]"
     ]
    },
    {
     "name": "stdout",
     "output_type": "stream",
     "text": [
      "Helipad_02792.png has no box\n"
     ]
    },
    {
     "name": "stderr",
     "output_type": "stream",
     "text": [
      "\r",
      "100%|███████████████████████████████████████████████████████████████████████████▋| 43487/43632 [25:05<00:05, 26.32it/s]"
     ]
    },
    {
     "name": "stdout",
     "output_type": "stream",
     "text": [
      "Helipad_02792.png has no box\n"
     ]
    },
    {
     "name": "stderr",
     "output_type": "stream",
     "text": [
      "100%|███████████████████████████████████████████████████████████████████████████▊| 43527/43632 [25:07<00:04, 24.49it/s]"
     ]
    },
    {
     "name": "stdout",
     "output_type": "stream",
     "text": [
      "Helipad_02792.png has no box\n"
     ]
    },
    {
     "name": "stderr",
     "output_type": "stream",
     "text": [
      "100%|███████████████████████████████████████████████████████████████████████████▊| 43559/43632 [25:08<00:02, 26.03it/s]"
     ]
    },
    {
     "name": "stdout",
     "output_type": "stream",
     "text": [
      "Helipad_02792.png has no box\n"
     ]
    },
    {
     "name": "stderr",
     "output_type": "stream",
     "text": [
      "100%|████████████████████████████████████████████████████████████████████████████| 43632/43632 [25:12<00:00, 28.86it/s]\n"
     ]
    }
   ],
   "source": [
    "from src.database_management.Database_augmentation import DatabaseAugmentation\n",
    "\n",
    "input_folder = \"data//Helipad_DataBase//Helipad_DataBase_original\"\n",
    "meta_folder = \"data//Helipad_DataBase_meta//Helipad_DataBase_meta_original\"\n",
    "root_folder = \"data//Helipad_DataBase\"\n",
    "root_folder_meta = \"data//Helipad_DataBase_meta\"\n",
    "\n",
    "version_number = 12\n",
    "\n",
    "balance_dataset = True\n",
    "\n",
    "repartition = [3, 1, 1, 3, 0, 3, 2, 0, 1, 1, 0, 0]\n",
    "\n",
    "database_augmentation = DatabaseAugmentation(input_folder,\n",
    "                                             meta_folder,\n",
    "                                             root_folder,\n",
    "                                             root_folder_meta,\n",
    "                                             balance_dataset=balance_dataset,\n",
    "                                             repartition=repartition,\n",
    "                                             version_number=version_number,\n",
    "                                             display=False)\n",
    "\n",
    "database_augmentation.run()"
   ]
  },
  {
   "cell_type": "markdown",
   "metadata": {},
   "source": [
    "### 4.2 Using Custom Policy"
   ]
  },
  {
   "cell_type": "code",
   "execution_count": 1,
   "metadata": {},
   "outputs": [
    {
     "name": "stdout",
     "output_type": "stream",
     "text": [
      "Building Target files\n"
     ]
    },
    {
     "name": "stderr",
     "output_type": "stream",
     "text": [
      "  0%|                                                                                | 5/43632 [00:00<16:49, 43.21it/s]"
     ]
    },
    {
     "name": "stdout",
     "output_type": "stream",
     "text": [
      "Categories count : [60, 1616, 447, 142, 214, 63, 207, 113, 141, 89, 143, 29]\n",
      "{'0': 60, '1': 1616, '2': 447, '3': 142, '4': 214, 'd': 63, '9': 207, '5': 113, '6': 141, '7': 89, '8': 143, 'u': 29}\n",
      "Max count : 1616\n",
      "Total count : 3264\n",
      "Duplicating category 0 3 times\n",
      "Duplicating category 1 1 times\n",
      "Duplicating category 2 1 times\n",
      "Duplicating category 3 3 times\n",
      "Duplicating category 4 0 times\n",
      "Duplicating category d 0 times\n",
      "Duplicating category 9 1 times\n",
      "Duplicating category 5 3 times\n",
      "Duplicating category 6 2 times\n",
      "Duplicating category 7 0 times\n",
      "Duplicating category 8 1 times\n",
      "Duplicating category u 0 times\n",
      "Target Files Built\n",
      "Generating 43632 images\n"
     ]
    },
    {
     "name": "stderr",
     "output_type": "stream",
     "text": [
      " 23%|█████████████████▌                                                           | 9953/43632 [04:03<14:40, 38.25it/s]"
     ]
    },
    {
     "name": "stdout",
     "output_type": "stream",
     "text": [
      "Helipad_03396.png has no box\n"
     ]
    },
    {
     "name": "stderr",
     "output_type": "stream",
     "text": [
      " 23%|█████████████████▋                                                          | 10186/43632 [04:09<12:21, 45.09it/s]"
     ]
    },
    {
     "name": "stdout",
     "output_type": "stream",
     "text": [
      "Helipad_03396.png has no box\n"
     ]
    },
    {
     "name": "stderr",
     "output_type": "stream",
     "text": [
      " 24%|██████████████████▍                                                         | 10589/43632 [04:18<12:01, 45.81it/s]"
     ]
    },
    {
     "name": "stdout",
     "output_type": "stream",
     "text": [
      "Helipad_03396.png has no box\n"
     ]
    },
    {
     "name": "stderr",
     "output_type": "stream",
     "text": [
      " 25%|██████████████████▉                                                         | 10902/43632 [04:25<12:21, 44.14it/s]"
     ]
    },
    {
     "name": "stdout",
     "output_type": "stream",
     "text": [
      "Helipad_03396.png has no box\n"
     ]
    },
    {
     "name": "stderr",
     "output_type": "stream",
     "text": [
      " 25%|███████████████████                                                         | 10970/43632 [04:27<12:29, 43.60it/s]"
     ]
    },
    {
     "name": "stdout",
     "output_type": "stream",
     "text": [
      "Helipad_03396.png has no box\n"
     ]
    },
    {
     "name": "stderr",
     "output_type": "stream",
     "text": [
      " 26%|███████████████████▊                                                        | 11410/43632 [04:37<11:37, 46.20it/s]"
     ]
    },
    {
     "name": "stdout",
     "output_type": "stream",
     "text": [
      "Helipad_03396.png has no box\n"
     ]
    },
    {
     "name": "stderr",
     "output_type": "stream",
     "text": [
      " 26%|███████████████████▉                                                        | 11466/43632 [04:38<11:20, 47.29it/s]"
     ]
    },
    {
     "name": "stdout",
     "output_type": "stream",
     "text": [
      "Helipad_03396.png has no box\n"
     ]
    },
    {
     "name": "stderr",
     "output_type": "stream",
     "text": [
      " 26%|████████████████████                                                        | 11537/43632 [04:40<12:12, 43.82it/s]"
     ]
    },
    {
     "name": "stdout",
     "output_type": "stream",
     "text": [
      "Helipad_03396.png has no box\n"
     ]
    },
    {
     "name": "stderr",
     "output_type": "stream",
     "text": [
      " 27%|████████████████████▏                                                       | 11567/43632 [04:41<12:37, 42.31it/s]"
     ]
    },
    {
     "name": "stdout",
     "output_type": "stream",
     "text": [
      "Helipad_03396.png has no box\n"
     ]
    },
    {
     "name": "stderr",
     "output_type": "stream",
     "text": [
      " 29%|█████████████████████▋                                                      | 12465/43632 [05:02<11:57, 43.41it/s]"
     ]
    },
    {
     "name": "stdout",
     "output_type": "stream",
     "text": [
      "Helipad_03396.png has no box\n"
     ]
    },
    {
     "name": "stderr",
     "output_type": "stream",
     "text": [
      " 30%|██████████████████████▍                                                     | 12878/43632 [05:11<11:38, 44.03it/s]"
     ]
    },
    {
     "name": "stdout",
     "output_type": "stream",
     "text": [
      "Helipad_03396.png has no box\n"
     ]
    },
    {
     "name": "stderr",
     "output_type": "stream",
     "text": [
      " 45%|██████████████████████████████████                                          | 19536/43632 [07:47<09:41, 41.43it/s]"
     ]
    },
    {
     "name": "stdout",
     "output_type": "stream",
     "text": [
      "Helipad_03329.png has no box\n"
     ]
    },
    {
     "name": "stderr",
     "output_type": "stream",
     "text": [
      " 45%|██████████████████████████████████▏                                         | 19609/43632 [07:49<09:52, 40.56it/s]"
     ]
    },
    {
     "name": "stdout",
     "output_type": "stream",
     "text": [
      "Helipad_05772.png has no box\n"
     ]
    },
    {
     "name": "stderr",
     "output_type": "stream",
     "text": [
      " 45%|██████████████████████████████████▏                                         | 19639/43632 [07:50<09:10, 43.59it/s]"
     ]
    },
    {
     "name": "stdout",
     "output_type": "stream",
     "text": [
      "Helipad_05772.png has no box\n"
     ]
    },
    {
     "name": "stderr",
     "output_type": "stream",
     "text": [
      " 45%|██████████████████████████████████▎                                         | 19665/43632 [07:50<08:59, 44.40it/s]"
     ]
    },
    {
     "name": "stdout",
     "output_type": "stream",
     "text": [
      "Helipad_03329.png has no box\n"
     ]
    },
    {
     "name": "stderr",
     "output_type": "stream",
     "text": [
      " 45%|██████████████████████████████████▍                                         | 19762/43632 [07:52<08:13, 48.36it/s]"
     ]
    },
    {
     "name": "stdout",
     "output_type": "stream",
     "text": [
      "Helipad_05772.png has no box\n"
     ]
    },
    {
     "name": "stderr",
     "output_type": "stream",
     "text": [
      " 45%|██████████████████████████████████▌                                         | 19815/43632 [07:53<08:28, 46.87it/s]"
     ]
    },
    {
     "name": "stdout",
     "output_type": "stream",
     "text": [
      "Helipad_03329.png has no box\n"
     ]
    },
    {
     "name": "stderr",
     "output_type": "stream",
     "text": [
      " 46%|██████████████████████████████████▌                                         | 19872/43632 [07:55<08:38, 45.82it/s]"
     ]
    },
    {
     "name": "stdout",
     "output_type": "stream",
     "text": [
      "Helipad_03329.png has no box\n"
     ]
    },
    {
     "name": "stderr",
     "output_type": "stream",
     "text": [
      " 46%|██████████████████████████████████▉                                         | 20078/43632 [07:59<08:23, 46.79it/s]"
     ]
    },
    {
     "name": "stdout",
     "output_type": "stream",
     "text": [
      "Helipad_05772.png has no box\n"
     ]
    },
    {
     "name": "stderr",
     "output_type": "stream",
     "text": [
      " 46%|███████████████████████████████████▏                                        | 20186/43632 [08:02<08:29, 45.99it/s]"
     ]
    },
    {
     "name": "stdout",
     "output_type": "stream",
     "text": [
      "Helipad_05772.png has no box\n"
     ]
    },
    {
     "name": "stderr",
     "output_type": "stream",
     "text": [
      " 47%|███████████████████████████████████▋                                        | 20459/43632 [08:08<08:31, 45.30it/s]"
     ]
    },
    {
     "name": "stdout",
     "output_type": "stream",
     "text": [
      "Helipad_03329.png has no box\n"
     ]
    },
    {
     "name": "stderr",
     "output_type": "stream",
     "text": [
      " 47%|███████████████████████████████████▉                                        | 20612/43632 [08:11<08:29, 45.14it/s]"
     ]
    },
    {
     "name": "stdout",
     "output_type": "stream",
     "text": [
      "Helipad_05772.png has no box\n"
     ]
    },
    {
     "name": "stderr",
     "output_type": "stream",
     "text": [
      " 48%|████████████████████████████████████                                        | 20738/43632 [08:14<08:12, 46.48it/s]"
     ]
    },
    {
     "name": "stdout",
     "output_type": "stream",
     "text": [
      "Helipad_05772.png has no box\n"
     ]
    },
    {
     "name": "stderr",
     "output_type": "stream",
     "text": [
      " 48%|████████████████████████████████████▏                                       | 20769/43632 [08:15<08:31, 44.70it/s]"
     ]
    },
    {
     "name": "stdout",
     "output_type": "stream",
     "text": [
      "Helipad_05772.png has no box\n"
     ]
    },
    {
     "name": "stderr",
     "output_type": "stream",
     "text": [
      " 59%|█████████████████████████████████████████████▏                              | 25930/43632 [10:14<06:52, 42.94it/s]"
     ]
    },
    {
     "name": "stdout",
     "output_type": "stream",
     "text": [
      "Helipad_03391.png has no box\n"
     ]
    },
    {
     "name": "stderr",
     "output_type": "stream",
     "text": [
      " 60%|█████████████████████████████████████████████▍                              | 26081/43632 [10:17<06:37, 44.14it/s]"
     ]
    },
    {
     "name": "stdout",
     "output_type": "stream",
     "text": [
      "Helipad_03391.png has no box\n"
     ]
    },
    {
     "name": "stderr",
     "output_type": "stream",
     "text": [
      " 60%|█████████████████████████████████████████████▊                              | 26292/43632 [10:22<06:23, 45.25it/s]"
     ]
    },
    {
     "name": "stdout",
     "output_type": "stream",
     "text": [
      "Helipad_03391.png has no box\n"
     ]
    },
    {
     "name": "stderr",
     "output_type": "stream",
     "text": [
      " 61%|██████████████████████████████████████████████▏                             | 26497/43632 [10:26<06:18, 45.23it/s]"
     ]
    },
    {
     "name": "stdout",
     "output_type": "stream",
     "text": [
      "Helipad_03391.png has no box\n"
     ]
    },
    {
     "name": "stderr",
     "output_type": "stream",
     "text": [
      " 61%|██████████████████████████████████████████████▏                             | 26523/43632 [10:27<05:55, 48.10it/s]"
     ]
    },
    {
     "name": "stdout",
     "output_type": "stream",
     "text": [
      "Helipad_03391.png has no box\n"
     ]
    },
    {
     "name": "stderr",
     "output_type": "stream",
     "text": [
      " 61%|██████████████████████████████████████████████▍                             | 26628/43632 [10:29<06:31, 43.42it/s]"
     ]
    },
    {
     "name": "stdout",
     "output_type": "stream",
     "text": [
      "Helipad_03391.png has no box\n"
     ]
    },
    {
     "name": "stderr",
     "output_type": "stream",
     "text": [
      " 61%|██████████████████████████████████████████████▌                             | 26767/43632 [10:32<05:55, 47.48it/s]"
     ]
    },
    {
     "name": "stdout",
     "output_type": "stream",
     "text": [
      "Helipad_03391.png has no box\n",
      "Helipad_03391.png has no box\n"
     ]
    },
    {
     "name": "stderr",
     "output_type": "stream",
     "text": [
      " 62%|██████████████████████████████████████████████▊                             | 26864/43632 [10:34<06:08, 45.47it/s]"
     ]
    },
    {
     "name": "stdout",
     "output_type": "stream",
     "text": [
      "Helipad_03391.png has no box\n"
     ]
    },
    {
     "name": "stderr",
     "output_type": "stream",
     "text": [
      " 62%|██████████████████████████████████████████████▉                             | 26937/43632 [10:36<06:06, 45.60it/s]"
     ]
    },
    {
     "name": "stdout",
     "output_type": "stream",
     "text": [
      "Helipad_03391.png has no box\n"
     ]
    },
    {
     "name": "stderr",
     "output_type": "stream",
     "text": [
      " 62%|██████████████████████████████████████████████▉                             | 26969/43632 [10:37<05:48, 47.85it/s]"
     ]
    },
    {
     "name": "stdout",
     "output_type": "stream",
     "text": [
      "Helipad_03391.png has no box\n"
     ]
    },
    {
     "name": "stderr",
     "output_type": "stream",
     "text": [
      " 62%|███████████████████████████████████████████████                             | 27040/43632 [10:38<05:49, 47.53it/s]"
     ]
    },
    {
     "name": "stdout",
     "output_type": "stream",
     "text": [
      "Helipad_03391.png has no box\n"
     ]
    },
    {
     "name": "stderr",
     "output_type": "stream",
     "text": [
      " 62%|███████████████████████████████████████████████▏                            | 27061/43632 [10:39<05:42, 48.38it/s]"
     ]
    },
    {
     "name": "stdout",
     "output_type": "stream",
     "text": [
      "Helipad_03391.png has no box\n"
     ]
    },
    {
     "name": "stderr",
     "output_type": "stream",
     "text": [
      " 63%|███████████████████████████████████████████████▋                            | 27408/43632 [10:47<06:03, 44.59it/s]"
     ]
    },
    {
     "name": "stdout",
     "output_type": "stream",
     "text": [
      "Helipad_03391.png has no box\n"
     ]
    },
    {
     "name": "stderr",
     "output_type": "stream",
     "text": [
      " 63%|███████████████████████████████████████████████▊                            | 27449/43632 [10:48<06:14, 43.25it/s]"
     ]
    },
    {
     "name": "stdout",
     "output_type": "stream",
     "text": [
      "Helipad_03391.png has no box\n"
     ]
    },
    {
     "name": "stderr",
     "output_type": "stream",
     "text": [
      " 63%|████████████████████████████████████████████████▏                           | 27643/43632 [10:52<05:51, 45.49it/s]"
     ]
    },
    {
     "name": "stdout",
     "output_type": "stream",
     "text": [
      "Helipad_03391.png has no box\n"
     ]
    },
    {
     "name": "stderr",
     "output_type": "stream",
     "text": [
      " 63%|████████████████████████████████████████████████▏                           | 27675/43632 [10:53<05:57, 44.61it/s]"
     ]
    },
    {
     "name": "stdout",
     "output_type": "stream",
     "text": [
      "Helipad_03391.png has no box\n"
     ]
    },
    {
     "name": "stderr",
     "output_type": "stream",
     "text": [
      " 63%|████████████████████████████████████████████████▏                           | 27691/43632 [10:53<05:35, 47.45it/s]"
     ]
    },
    {
     "name": "stdout",
     "output_type": "stream",
     "text": [
      "Helipad_03391.png has no box\n"
     ]
    },
    {
     "name": "stderr",
     "output_type": "stream",
     "text": [
      " 64%|████████████████████████████████████████████████▎                           | 27741/43632 [10:55<06:13, 42.55it/s]"
     ]
    },
    {
     "name": "stdout",
     "output_type": "stream",
     "text": [
      "Helipad_03391.png has no box\n"
     ]
    },
    {
     "name": "stderr",
     "output_type": "stream",
     "text": [
      " 64%|████████████████████████████████████████████████▍                           | 27787/43632 [10:56<05:56, 44.46it/s]"
     ]
    },
    {
     "name": "stdout",
     "output_type": "stream",
     "text": [
      "Helipad_03391.png has no box\n"
     ]
    },
    {
     "name": "stderr",
     "output_type": "stream",
     "text": [
      " 64%|████████████████████████████████████████████████▊                           | 28022/43632 [11:01<05:42, 45.58it/s]"
     ]
    },
    {
     "name": "stdout",
     "output_type": "stream",
     "text": [
      "Helipad_03391.png has no box\n"
     ]
    },
    {
     "name": "stderr",
     "output_type": "stream",
     "text": [
      " 65%|█████████████████████████████████████████████████▎                          | 28298/43632 [11:07<05:59, 42.69it/s]"
     ]
    },
    {
     "name": "stdout",
     "output_type": "stream",
     "text": [
      "Helipad_03391.png has no box\n"
     ]
    },
    {
     "name": "stderr",
     "output_type": "stream",
     "text": [
      " 65%|█████████████████████████████████████████████████▍                          | 28409/43632 [11:10<05:34, 45.53it/s]"
     ]
    },
    {
     "name": "stdout",
     "output_type": "stream",
     "text": [
      "Helipad_03391.png has no box\n"
     ]
    },
    {
     "name": "stderr",
     "output_type": "stream",
     "text": [
      " 66%|█████████████████████████████████████████████████▊                          | 28605/43632 [11:14<05:15, 47.64it/s]"
     ]
    },
    {
     "name": "stdout",
     "output_type": "stream",
     "text": [
      "Helipad_03391.png has no box\n"
     ]
    },
    {
     "name": "stderr",
     "output_type": "stream",
     "text": [
      " 66%|██████████████████████████████████████████████████                          | 28735/43632 [11:17<05:28, 45.39it/s]"
     ]
    },
    {
     "name": "stdout",
     "output_type": "stream",
     "text": [
      "Helipad_03391.png has no box\n"
     ]
    },
    {
     "name": "stderr",
     "output_type": "stream",
     "text": [
      " 66%|██████████████████████████████████████████████████▏                         | 28812/43632 [11:19<05:16, 46.88it/s]"
     ]
    },
    {
     "name": "stdout",
     "output_type": "stream",
     "text": [
      "Helipad_03391.png has no box\n"
     ]
    },
    {
     "name": "stderr",
     "output_type": "stream",
     "text": [
      " 66%|██████████████████████████████████████████████████▍                         | 28975/43632 [11:23<05:18, 46.08it/s]"
     ]
    },
    {
     "name": "stdout",
     "output_type": "stream",
     "text": [
      "Helipad_03391.png has no box\n",
      "Helipad_03391.png has no box\n"
     ]
    },
    {
     "name": "stderr",
     "output_type": "stream",
     "text": [
      " 67%|██████████████████████████████████████████████████▌                         | 29031/43632 [11:24<05:43, 42.56it/s]"
     ]
    },
    {
     "name": "stdout",
     "output_type": "stream",
     "text": [
      "Helipad_03391.png has no box\n"
     ]
    },
    {
     "name": "stderr",
     "output_type": "stream",
     "text": [
      " 67%|██████████████████████████████████████████████████▌                         | 29042/43632 [11:24<05:20, 45.55it/s]"
     ]
    },
    {
     "name": "stdout",
     "output_type": "stream",
     "text": [
      "Helipad_03391.png has no box\n"
     ]
    },
    {
     "name": "stderr",
     "output_type": "stream",
     "text": [
      " 67%|██████████████████████████████████████████████████▋                         | 29099/43632 [11:26<05:01, 48.19it/s]"
     ]
    },
    {
     "name": "stdout",
     "output_type": "stream",
     "text": [
      "Helipad_03391.png has no box\n",
      "Helipad_03391.png has no box\n"
     ]
    },
    {
     "name": "stderr",
     "output_type": "stream",
     "text": [
      " 67%|██████████████████████████████████████████████████▊                         | 29180/43632 [11:28<05:41, 42.32it/s]"
     ]
    },
    {
     "name": "stdout",
     "output_type": "stream",
     "text": [
      "Helipad_03391.png has no box\n"
     ]
    },
    {
     "name": "stderr",
     "output_type": "stream",
     "text": [
      " 67%|███████████████████████████████████████████████████                         | 29282/43632 [11:30<05:20, 44.78it/s]"
     ]
    },
    {
     "name": "stdout",
     "output_type": "stream",
     "text": [
      "Helipad_03391.png has no box\n"
     ]
    },
    {
     "name": "stderr",
     "output_type": "stream",
     "text": [
      " 68%|███████████████████████████████████████████████████▎                        | 29472/43632 [11:34<05:21, 44.04it/s]"
     ]
    },
    {
     "name": "stdout",
     "output_type": "stream",
     "text": [
      "Helipad_03391.png has no box\n"
     ]
    },
    {
     "name": "stderr",
     "output_type": "stream",
     "text": [
      " 68%|███████████████████████████████████████████████████▍                        | 29559/43632 [11:36<05:04, 46.26it/s]"
     ]
    },
    {
     "name": "stdout",
     "output_type": "stream",
     "text": [
      "Helipad_03391.png has no box\n"
     ]
    },
    {
     "name": "stderr",
     "output_type": "stream",
     "text": [
      " 68%|███████████████████████████████████████████████████▌                        | 29590/43632 [11:37<05:03, 46.33it/s]"
     ]
    },
    {
     "name": "stdout",
     "output_type": "stream",
     "text": [
      "Helipad_03391.png has no box\n"
     ]
    },
    {
     "name": "stderr",
     "output_type": "stream",
     "text": [
      " 68%|███████████████████████████████████████████████████▊                        | 29775/43632 [11:42<05:16, 43.72it/s]"
     ]
    },
    {
     "name": "stdout",
     "output_type": "stream",
     "text": [
      "Helipad_03391.png has no box\n"
     ]
    },
    {
     "name": "stderr",
     "output_type": "stream",
     "text": [
      " 69%|████████████████████████████████████████████████████▏                       | 29952/43632 [11:46<04:47, 47.57it/s]"
     ]
    },
    {
     "name": "stdout",
     "output_type": "stream",
     "text": [
      "Helipad_03391.png has no box\n",
      "Helipad_03391.png has no box\n"
     ]
    },
    {
     "name": "stderr",
     "output_type": "stream",
     "text": [
      " 69%|████████████████████████████████████████████████████▌                       | 30166/43632 [11:51<05:34, 40.32it/s]"
     ]
    },
    {
     "name": "stdout",
     "output_type": "stream",
     "text": [
      "Helipad_03391.png has no box\n"
     ]
    },
    {
     "name": "stderr",
     "output_type": "stream",
     "text": [
      " 69%|████████████████████████████████████████████████████▌                       | 30212/43632 [11:52<05:12, 42.91it/s]"
     ]
    },
    {
     "name": "stdout",
     "output_type": "stream",
     "text": [
      "Helipad_03391.png has no box\n"
     ]
    },
    {
     "name": "stderr",
     "output_type": "stream",
     "text": [
      " 70%|████████████████████████████████████████████████████▉                       | 30367/43632 [11:55<04:44, 46.67it/s]"
     ]
    },
    {
     "name": "stdout",
     "output_type": "stream",
     "text": [
      "Helipad_03391.png has no box\n"
     ]
    },
    {
     "name": "stderr",
     "output_type": "stream",
     "text": [
      " 70%|█████████████████████████████████████████████████████                       | 30493/43632 [11:58<05:08, 42.55it/s]"
     ]
    },
    {
     "name": "stdout",
     "output_type": "stream",
     "text": [
      "Helipad_03391.png has no box\n"
     ]
    },
    {
     "name": "stderr",
     "output_type": "stream",
     "text": [
      " 70%|█████████████████████████████████████████████████████▍                      | 30668/43632 [12:03<05:27, 39.57it/s]"
     ]
    },
    {
     "name": "stdout",
     "output_type": "stream",
     "text": [
      "Helipad_03391.png has no box\n"
     ]
    },
    {
     "name": "stderr",
     "output_type": "stream",
     "text": [
      " 71%|█████████████████████████████████████████████████████▊                      | 30890/43632 [12:08<04:39, 45.52it/s]"
     ]
    },
    {
     "name": "stdout",
     "output_type": "stream",
     "text": [
      "Helipad_03391.png has no box\n"
     ]
    },
    {
     "name": "stderr",
     "output_type": "stream",
     "text": [
      " 71%|██████████████████████████████████████████████████████▏                     | 31100/43632 [12:13<04:50, 43.15it/s]"
     ]
    },
    {
     "name": "stdout",
     "output_type": "stream",
     "text": [
      "Helipad_03391.png has no box\n"
     ]
    },
    {
     "name": "stderr",
     "output_type": "stream",
     "text": [
      " 72%|██████████████████████████████████████████████████████▌                     | 31289/43632 [12:17<04:52, 42.16it/s]"
     ]
    },
    {
     "name": "stdout",
     "output_type": "stream",
     "text": [
      "Helipad_03391.png has no box\n"
     ]
    },
    {
     "name": "stderr",
     "output_type": "stream",
     "text": [
      " 72%|██████████████████████████████████████████████████████▌                     | 31309/43632 [12:18<04:42, 43.66it/s]"
     ]
    },
    {
     "name": "stdout",
     "output_type": "stream",
     "text": [
      "Helipad_03391.png has no box\n",
      "Helipad_03391.png has no box\n",
      "Helipad_03391.png has no box\n"
     ]
    },
    {
     "name": "stderr",
     "output_type": "stream",
     "text": [
      " 72%|██████████████████████████████████████████████████████▊                     | 31475/43632 [12:22<04:40, 43.32it/s]"
     ]
    },
    {
     "name": "stdout",
     "output_type": "stream",
     "text": [
      "Helipad_03391.png has no box\n"
     ]
    },
    {
     "name": "stderr",
     "output_type": "stream",
     "text": [
      " 73%|███████████████████████████████████████████████████████▎                    | 31729/43632 [12:28<04:34, 43.30it/s]"
     ]
    },
    {
     "name": "stdout",
     "output_type": "stream",
     "text": [
      "Helipad_03391.png has no box\n",
      "Helipad_03391.png has no box\n"
     ]
    },
    {
     "name": "stderr",
     "output_type": "stream",
     "text": [
      " 74%|████████████████████████████████████████████████████████                    | 32201/43632 [12:39<04:17, 44.35it/s]"
     ]
    },
    {
     "name": "stdout",
     "output_type": "stream",
     "text": [
      "Helipad_03391.png has no box\n"
     ]
    },
    {
     "name": "stderr",
     "output_type": "stream",
     "text": [
      " 96%|█████████████████████████████████████████████████████████████████████████▏  | 42047/43632 [16:29<00:37, 42.42it/s]"
     ]
    },
    {
     "name": "stdout",
     "output_type": "stream",
     "text": [
      "Helipad_02792.png has no box\n"
     ]
    },
    {
     "name": "stderr",
     "output_type": "stream",
     "text": [
      " 96%|█████████████████████████████████████████████████████████████████████████▎  | 42067/43632 [16:29<00:34, 45.89it/s]"
     ]
    },
    {
     "name": "stdout",
     "output_type": "stream",
     "text": [
      "Helipad_02792.png has no box\n"
     ]
    },
    {
     "name": "stderr",
     "output_type": "stream",
     "text": [
      " 96%|█████████████████████████████████████████████████████████████████████████▎  | 42084/43632 [16:29<00:32, 47.98it/s]"
     ]
    },
    {
     "name": "stdout",
     "output_type": "stream",
     "text": [
      "Helipad_02792.png has no box\n",
      "Helipad_02792.png has no box\n"
     ]
    },
    {
     "name": "stderr",
     "output_type": "stream",
     "text": [
      " 97%|█████████████████████████████████████████████████████████████████████████▍  | 42141/43632 [16:31<00:33, 44.13it/s]"
     ]
    },
    {
     "name": "stdout",
     "output_type": "stream",
     "text": [
      "Helipad_02792.png has no box\n"
     ]
    },
    {
     "name": "stderr",
     "output_type": "stream",
     "text": [
      " 97%|█████████████████████████████████████████████████████████████████████████▍  | 42179/43632 [16:32<00:29, 48.73it/s]"
     ]
    },
    {
     "name": "stdout",
     "output_type": "stream",
     "text": [
      "Helipad_02792.png has no box\n",
      "Helipad_02792.png has no box\n"
     ]
    },
    {
     "name": "stderr",
     "output_type": "stream",
     "text": [
      " 97%|█████████████████████████████████████████████████████████████████████████▌  | 42256/43632 [16:33<00:29, 46.17it/s]"
     ]
    },
    {
     "name": "stdout",
     "output_type": "stream",
     "text": [
      "Helipad_02792.png has no box\n"
     ]
    },
    {
     "name": "stderr",
     "output_type": "stream",
     "text": [
      " 97%|█████████████████████████████████████████████████████████████████████████▋  | 42293/43632 [16:34<00:28, 47.25it/s]"
     ]
    },
    {
     "name": "stdout",
     "output_type": "stream",
     "text": [
      "Helipad_02792.png has no box\n",
      "Helipad_02792.png has no box\n"
     ]
    },
    {
     "name": "stderr",
     "output_type": "stream",
     "text": [
      " 97%|█████████████████████████████████████████████████████████████████████████▋  | 42319/43632 [16:35<00:28, 46.82it/s]"
     ]
    },
    {
     "name": "stdout",
     "output_type": "stream",
     "text": [
      "Helipad_02792.png has no box\n",
      "Helipad_02792.png has no box\n"
     ]
    },
    {
     "name": "stderr",
     "output_type": "stream",
     "text": [
      " 97%|█████████████████████████████████████████████████████████████████████████▋  | 42337/43632 [16:35<00:26, 49.60it/s]"
     ]
    },
    {
     "name": "stdout",
     "output_type": "stream",
     "text": [
      "Helipad_02792.png has no box\n",
      "Helipad_02792.png has no box\n",
      "Helipad_02792.png has no box\n"
     ]
    },
    {
     "name": "stderr",
     "output_type": "stream",
     "text": [
      " 97%|█████████████████████████████████████████████████████████████████████████▊  | 42361/43632 [16:36<00:25, 50.59it/s]"
     ]
    },
    {
     "name": "stdout",
     "output_type": "stream",
     "text": [
      "Helipad_02792.png has no box\n",
      "Helipad_02792.png has no box\n",
      "Helipad_02792.png has no box\n"
     ]
    },
    {
     "name": "stderr",
     "output_type": "stream",
     "text": [
      " 97%|█████████████████████████████████████████████████████████████████████████▊  | 42395/43632 [16:36<00:26, 46.88it/s]"
     ]
    },
    {
     "name": "stdout",
     "output_type": "stream",
     "text": [
      "Helipad_02792.png has no box\n"
     ]
    },
    {
     "name": "stderr",
     "output_type": "stream",
     "text": [
      " 97%|█████████████████████████████████████████████████████████████████████████▉  | 42456/43632 [16:38<00:26, 43.96it/s]"
     ]
    },
    {
     "name": "stdout",
     "output_type": "stream",
     "text": [
      "Helipad_02792.png has no box\n"
     ]
    },
    {
     "name": "stderr",
     "output_type": "stream",
     "text": [
      " 98%|██████████████████████████████████████████████████████████████████████████▏ | 42606/43632 [16:41<00:24, 41.18it/s]"
     ]
    },
    {
     "name": "stdout",
     "output_type": "stream",
     "text": [
      "Helipad_02792.png has no box\n"
     ]
    },
    {
     "name": "stderr",
     "output_type": "stream",
     "text": [
      " 98%|██████████████████████████████████████████████████████████████████████████▎ | 42675/43632 [16:43<00:21, 44.37it/s]"
     ]
    },
    {
     "name": "stdout",
     "output_type": "stream",
     "text": [
      "Helipad_02792.png has no box\n"
     ]
    },
    {
     "name": "stderr",
     "output_type": "stream",
     "text": [
      " 98%|██████████████████████████████████████████████████████████████████████████▎ | 42686/43632 [16:43<00:20, 47.07it/s]"
     ]
    },
    {
     "name": "stdout",
     "output_type": "stream",
     "text": [
      "Helipad_02792.png has no box\n"
     ]
    },
    {
     "name": "stderr",
     "output_type": "stream",
     "text": [
      " 98%|██████████████████████████████████████████████████████████████████████████▍ | 42727/43632 [16:44<00:19, 46.57it/s]"
     ]
    },
    {
     "name": "stdout",
     "output_type": "stream",
     "text": [
      "Helipad_02792.png has no box\n"
     ]
    },
    {
     "name": "stderr",
     "output_type": "stream",
     "text": [
      " 98%|██████████████████████████████████████████████████████████████████████████▌ | 42838/43632 [16:47<00:19, 40.52it/s]"
     ]
    },
    {
     "name": "stdout",
     "output_type": "stream",
     "text": [
      "Helipad_02792.png has no box\n",
      "Helipad_02792.png has no box\n"
     ]
    },
    {
     "name": "stderr",
     "output_type": "stream",
     "text": [
      " 98%|██████████████████████████████████████████████████████████████████████████▋ | 42873/43632 [16:48<00:17, 43.11it/s]"
     ]
    },
    {
     "name": "stdout",
     "output_type": "stream",
     "text": [
      "Helipad_02792.png has no box\n"
     ]
    },
    {
     "name": "stderr",
     "output_type": "stream",
     "text": [
      " 98%|██████████████████████████████████████████████████████████████████████████▋ | 42909/43632 [16:48<00:17, 41.89it/s]"
     ]
    },
    {
     "name": "stdout",
     "output_type": "stream",
     "text": [
      "Helipad_02792.png has no box\n"
     ]
    },
    {
     "name": "stderr",
     "output_type": "stream",
     "text": [
      " 98%|██████████████████████████████████████████████████████████████████████████▊ | 42930/43632 [16:49<00:17, 40.13it/s]"
     ]
    },
    {
     "name": "stdout",
     "output_type": "stream",
     "text": [
      "Helipad_02792.png has no box\n",
      "Helipad_02792.png has no box\n"
     ]
    },
    {
     "name": "stderr",
     "output_type": "stream",
     "text": [
      " 98%|██████████████████████████████████████████████████████████████████████████▊ | 42972/43632 [16:50<00:14, 45.65it/s]"
     ]
    },
    {
     "name": "stdout",
     "output_type": "stream",
     "text": [
      "Helipad_02792.png has no box\n"
     ]
    },
    {
     "name": "stderr",
     "output_type": "stream",
     "text": [
      " 99%|██████████████████████████████████████████████████████████████████████████▉ | 42997/43632 [16:51<00:14, 43.49it/s]"
     ]
    },
    {
     "name": "stdout",
     "output_type": "stream",
     "text": [
      "Helipad_02792.png has no box\n"
     ]
    },
    {
     "name": "stderr",
     "output_type": "stream",
     "text": [
      " 99%|███████████████████████████████████████████████████████████████████████████ | 43068/43632 [16:52<00:13, 40.54it/s]"
     ]
    },
    {
     "name": "stdout",
     "output_type": "stream",
     "text": [
      "Helipad_02792.png has no box\n"
     ]
    },
    {
     "name": "stderr",
     "output_type": "stream",
     "text": [
      " 99%|███████████████████████████████████████████████████████████████████████████ | 43089/43632 [16:53<00:12, 43.31it/s]"
     ]
    },
    {
     "name": "stdout",
     "output_type": "stream",
     "text": [
      "Helipad_02792.png has no box\n",
      "Helipad_02792.png has no box\n"
     ]
    },
    {
     "name": "stderr",
     "output_type": "stream",
     "text": [
      " 99%|███████████████████████████████████████████████████████████████████████████▏| 43135/43632 [16:54<00:11, 43.40it/s]"
     ]
    },
    {
     "name": "stdout",
     "output_type": "stream",
     "text": [
      "Helipad_02792.png has no box\n"
     ]
    },
    {
     "name": "stderr",
     "output_type": "stream",
     "text": [
      " 99%|███████████████████████████████████████████████████████████████████████████▏| 43160/43632 [16:54<00:10, 44.76it/s]"
     ]
    },
    {
     "name": "stdout",
     "output_type": "stream",
     "text": [
      "Helipad_02792.png has no box\n"
     ]
    },
    {
     "name": "stderr",
     "output_type": "stream",
     "text": [
      " 99%|███████████████████████████████████████████████████████████████████████████▏| 43176/43632 [16:55<00:09, 46.36it/s]"
     ]
    },
    {
     "name": "stdout",
     "output_type": "stream",
     "text": [
      "Helipad_02792.png has no box\n"
     ]
    },
    {
     "name": "stderr",
     "output_type": "stream",
     "text": [
      " 99%|███████████████████████████████████████████████████████████████████████████▎| 43259/43632 [16:57<00:07, 50.68it/s]"
     ]
    },
    {
     "name": "stdout",
     "output_type": "stream",
     "text": [
      "Helipad_02792.png has no box\n",
      "Helipad_02792.png has no box\n",
      "Helipad_02792.png has no box\n",
      "Helipad_02792.png has no box\n",
      "Helipad_02792.png has no box\n",
      "Helipad_02792.png has no box\n"
     ]
    },
    {
     "name": "stderr",
     "output_type": "stream",
     "text": [
      " 99%|███████████████████████████████████████████████████████████████████████████▎| 43271/43632 [16:57<00:07, 51.47it/s]"
     ]
    },
    {
     "name": "stdout",
     "output_type": "stream",
     "text": [
      "Helipad_02792.png has no box\n"
     ]
    },
    {
     "name": "stderr",
     "output_type": "stream",
     "text": [
      " 99%|███████████████████████████████████████████████████████████████████████████▍| 43319/43632 [16:58<00:06, 46.71it/s]"
     ]
    },
    {
     "name": "stdout",
     "output_type": "stream",
     "text": [
      "Helipad_02792.png has no box\n",
      "Helipad_02792.png has no box\n"
     ]
    },
    {
     "name": "stderr",
     "output_type": "stream",
     "text": [
      " 99%|███████████████████████████████████████████████████████████████████████████▍| 43330/43632 [16:58<00:06, 45.60it/s]"
     ]
    },
    {
     "name": "stdout",
     "output_type": "stream",
     "text": [
      "Helipad_02792.png has no box\n"
     ]
    },
    {
     "name": "stderr",
     "output_type": "stream",
     "text": [
      " 99%|███████████████████████████████████████████████████████████████████████████▌| 43346/43632 [16:59<00:06, 44.28it/s]"
     ]
    },
    {
     "name": "stdout",
     "output_type": "stream",
     "text": [
      "Helipad_02792.png has no box\n"
     ]
    },
    {
     "name": "stderr",
     "output_type": "stream",
     "text": [
      " 99%|███████████████████████████████████████████████████████████████████████████▌| 43357/43632 [16:59<00:05, 46.43it/s]"
     ]
    },
    {
     "name": "stdout",
     "output_type": "stream",
     "text": [
      "Helipad_02792.png has no box\n"
     ]
    },
    {
     "name": "stderr",
     "output_type": "stream",
     "text": [
      " 99%|███████████████████████████████████████████████████████████████████████████▌| 43387/43632 [17:00<00:05, 42.77it/s]"
     ]
    },
    {
     "name": "stdout",
     "output_type": "stream",
     "text": [
      "Helipad_02792.png has no box\n"
     ]
    },
    {
     "name": "stderr",
     "output_type": "stream",
     "text": [
      "100%|███████████████████████████████████████████████████████████████████████████▋| 43479/43632 [17:02<00:03, 43.67it/s]"
     ]
    },
    {
     "name": "stdout",
     "output_type": "stream",
     "text": [
      "Helipad_02792.png has no box\n",
      "Helipad_02792.png has no box\n"
     ]
    },
    {
     "name": "stderr",
     "output_type": "stream",
     "text": [
      "100%|███████████████████████████████████████████████████████████████████████████▊| 43496/43632 [17:02<00:03, 44.93it/s]"
     ]
    },
    {
     "name": "stdout",
     "output_type": "stream",
     "text": [
      "Helipad_02792.png has no box\n"
     ]
    },
    {
     "name": "stderr",
     "output_type": "stream",
     "text": [
      "100%|███████████████████████████████████████████████████████████████████████████▊| 43512/43632 [17:02<00:02, 44.64it/s]"
     ]
    },
    {
     "name": "stdout",
     "output_type": "stream",
     "text": [
      "Helipad_02792.png has no box\n"
     ]
    },
    {
     "name": "stderr",
     "output_type": "stream",
     "text": [
      "100%|███████████████████████████████████████████████████████████████████████████▊| 43542/43632 [17:03<00:02, 43.29it/s]"
     ]
    },
    {
     "name": "stdout",
     "output_type": "stream",
     "text": [
      "Helipad_02792.png has no box\n"
     ]
    },
    {
     "name": "stderr",
     "output_type": "stream",
     "text": [
      "\r",
      "100%|███████████████████████████████████████████████████████████████████████████▊| 43548/43632 [17:03<00:01, 45.97it/s]"
     ]
    },
    {
     "name": "stdout",
     "output_type": "stream",
     "text": [
      "Helipad_02792.png has no box\n"
     ]
    },
    {
     "name": "stderr",
     "output_type": "stream",
     "text": [
      "100%|███████████████████████████████████████████████████████████████████████████▉| 43591/43632 [17:04<00:00, 45.71it/s]"
     ]
    },
    {
     "name": "stdout",
     "output_type": "stream",
     "text": [
      "Helipad_02792.png has no box\n",
      "Helipad_02792.png has no box\n"
     ]
    },
    {
     "name": "stderr",
     "output_type": "stream",
     "text": [
      "100%|███████████████████████████████████████████████████████████████████████████▉| 43621/43632 [17:05<00:00, 43.93it/s]"
     ]
    },
    {
     "name": "stdout",
     "output_type": "stream",
     "text": [
      "Helipad_02792.png has no box\n"
     ]
    },
    {
     "name": "stderr",
     "output_type": "stream",
     "text": [
      "100%|████████████████████████████████████████████████████████████████████████████| 43632/43632 [17:05<00:00, 42.54it/s]\n"
     ]
    }
   ],
   "source": [
    "from imgaug import augmenters as iaa\n",
    "from src.database_management.database_augmentation_v2 import DatabaseAugmentationV2\n",
    "\n",
    "input_folder = \"data//Helipad_DataBase//Helipad_DataBase_original\"\n",
    "meta_folder = \"data//Helipad_DataBase_meta//Helipad_DataBase_meta_original\"\n",
    "root_folder = \"data//Helipad_DataBase\"\n",
    "root_folder_meta = \"data//Helipad_DataBase_meta\"\n",
    "\n",
    "augmentation_strategy = iaa.Sequential([\n",
    "                            iaa.Sometimes(0.2, iaa.Fliplr(1)),\n",
    "                            iaa.Sometimes(0.2, iaa.Flipud(1)),\n",
    "                            iaa.Sometimes(0.2, iaa.Rotate((-90, 90))),\n",
    "                            iaa.Sometimes(0.2, iaa.Affine(scale=(0.5, 1.5))),\n",
    "                            iaa.Sometimes(0.2, iaa.GaussianBlur(sigma=(0.0, 3.0))),\n",
    "                            iaa.Sometimes(0.15, iaa.AllChannelsHistogramEqualization()),\n",
    "                            iaa.Sometimes(0.2, iaa.ShearX((-20, 20))),\n",
    "                            iaa.Sometimes(0.2, iaa.ShearY((-20, 20))),\n",
    "                            iaa.Sometimes(0.15, iaa.pillike.EnhanceSharpness()),\n",
    "                            iaa.Sometimes(0.15, iaa.pillike.EnhanceBrightness())\n",
    "                            ])\n",
    "\n",
    "version_number = 11\n",
    "\n",
    "balance_dataset = True\n",
    "\n",
    "repartition = [3, 1, 1, 3, 0, 3, 2, 0, 1, 1, 0, 0]\n",
    "\n",
    "database_augmentation = DatabaseAugmentationV2(input_folder,\n",
    "                                             meta_folder,\n",
    "                                             root_folder,\n",
    "                                             root_folder_meta,\n",
    "                                             augmentation_strategy=augmentation_strategy,\n",
    "                                             version_number=version_number,\n",
    "                                             balance_dataset=balance_dataset,\n",
    "                                             repartition=repartition)\n",
    "\n",
    "database_augmentation.run()\n"
   ]
  },
  {
   "cell_type": "markdown",
   "metadata": {},
   "source": [
    "# 5. Run Training"
   ]
  },
  {
   "cell_type": "code",
   "execution_count": null,
   "metadata": {},
   "outputs": [],
   "source": [
    "from src.training.run_training import RunTraining\n",
    "\n",
    "root_folder = \"data//Helipad_DataBase\"\n",
    "root_meta_folder = \"data//Helipad_DataBase_meta\"\n",
    "model_folder = \"model\"\n",
    "include_augmented = True\n",
    "augmented_version = [10]\n",
    "\n",
    "train_categories = [\"1\", \"2\", \"3\", \"5\", \"6\", \"8\", \"9\"]\n",
    "test_categories = [\"4\", \"7\", \"d\", \"u\"]\n",
    "\n",
    "weights_filename = 'helipad_cfg_10_no47du_all20200420T0127/mask_rcnn_helipad_cfg_10_no47du_all_0538.h5'\n",
    "base_weights = 'mask_rcnn_coco.h5'\n",
    "\n",
    "predict_weights_filepath = 'helipad_cfg_7_aug123_all20200106T2012/mask_rcnn_helipad_cfg_7_aug123_all_0472.h5'\n",
    "\n",
    "run_training = RunTraining(root_folder,\n",
    "                           root_meta_folder,\n",
    "                           model_folder,\n",
    "                           weights_filename,\n",
    "                           include_augmented=include_augmented,\n",
    "                           augmented_version=augmented_version,\n",
    "                           predict_weights_filepath=None,\n",
    "                           train_categories=train_categories,\n",
    "                           test_categories=test_categories)\n",
    "\n",
    "print('Starting Training')\n",
    "run_training.run()\n",
    "print('Training Over')"
   ]
  },
  {
   "cell_type": "markdown",
   "metadata": {},
   "source": [
    "# 6. Evaluate mAP on original dataset"
   ]
  },
  {
   "cell_type": "code",
   "execution_count": 3,
   "metadata": {},
   "outputs": [
    {
     "name": "stderr",
     "output_type": "stream",
     "text": [
      "C:\\Users\\AISG\\Anaconda3\\envs\\tf-gpu_1.13\\lib\\site-packages\\tensorflow\\python\\framework\\dtypes.py:526: FutureWarning: Passing (type, 1) or '1type' as a synonym of type is deprecated; in a future version of numpy, it will be understood as (type, (1,)) / '(1,)type'.\n",
      "  _np_qint8 = np.dtype([(\"qint8\", np.int8, 1)])\n",
      "C:\\Users\\AISG\\Anaconda3\\envs\\tf-gpu_1.13\\lib\\site-packages\\tensorflow\\python\\framework\\dtypes.py:527: FutureWarning: Passing (type, 1) or '1type' as a synonym of type is deprecated; in a future version of numpy, it will be understood as (type, (1,)) / '(1,)type'.\n",
      "  _np_quint8 = np.dtype([(\"quint8\", np.uint8, 1)])\n",
      "C:\\Users\\AISG\\Anaconda3\\envs\\tf-gpu_1.13\\lib\\site-packages\\tensorflow\\python\\framework\\dtypes.py:528: FutureWarning: Passing (type, 1) or '1type' as a synonym of type is deprecated; in a future version of numpy, it will be understood as (type, (1,)) / '(1,)type'.\n",
      "  _np_qint16 = np.dtype([(\"qint16\", np.int16, 1)])\n",
      "C:\\Users\\AISG\\Anaconda3\\envs\\tf-gpu_1.13\\lib\\site-packages\\tensorflow\\python\\framework\\dtypes.py:529: FutureWarning: Passing (type, 1) or '1type' as a synonym of type is deprecated; in a future version of numpy, it will be understood as (type, (1,)) / '(1,)type'.\n",
      "  _np_quint16 = np.dtype([(\"quint16\", np.uint16, 1)])\n",
      "C:\\Users\\AISG\\Anaconda3\\envs\\tf-gpu_1.13\\lib\\site-packages\\tensorflow\\python\\framework\\dtypes.py:530: FutureWarning: Passing (type, 1) or '1type' as a synonym of type is deprecated; in a future version of numpy, it will be understood as (type, (1,)) / '(1,)type'.\n",
      "  _np_qint32 = np.dtype([(\"qint32\", np.int32, 1)])\n",
      "C:\\Users\\AISG\\Anaconda3\\envs\\tf-gpu_1.13\\lib\\site-packages\\tensorflow\\python\\framework\\dtypes.py:535: FutureWarning: Passing (type, 1) or '1type' as a synonym of type is deprecated; in a future version of numpy, it will be understood as (type, (1,)) / '(1,)type'.\n",
      "  np_resource = np.dtype([(\"resource\", np.ubyte, 1)])\n",
      "Using TensorFlow backend.\n"
     ]
    },
    {
     "name": "stdout",
     "output_type": "stream",
     "text": [
      "Loading Train Set\n",
      "Train: 2285\n",
      "Loading Test Set\n",
      "Test: 524\n",
      "Loading Config\n",
      "WARNING:tensorflow:From C:\\Users\\AISG\\Anaconda3\\envs\\tf-gpu_1.13\\lib\\site-packages\\tensorflow\\python\\framework\\op_def_library.py:263: colocate_with (from tensorflow.python.framework.ops) is deprecated and will be removed in a future version.\n",
      "Instructions for updating:\n",
      "Colocations handled automatically by placer.\n",
      "Re-starting from epoch 851\n",
      "Evaluating Last Epoch\n",
      "WARNING:tensorflow:From C:\\Users\\AISG\\Anaconda3\\envs\\tf-gpu_1.13\\lib\\site-packages\\mask_rcnn-2.1-py3.7.egg\\mrcnn\\model.py:772: to_float (from tensorflow.python.ops.math_ops) is deprecated and will be removed in a future version.\n",
      "Instructions for updating:\n",
      "Use tf.cast instead.\n"
     ]
    },
    {
     "name": "stderr",
     "output_type": "stream",
     "text": [
      "\r",
      "  0%|                                                                                         | 0/2285 [00:00<?, ?it/s]"
     ]
    },
    {
     "name": "stdout",
     "output_type": "stream",
     "text": [
      "Re-starting from epoch 260\n"
     ]
    },
    {
     "name": "stderr",
     "output_type": "stream",
     "text": [
      " 74%|█████████████████████████████████████████████████████████▉                    | 1696/2285 [03:15<01:08,  8.63it/s]C:\\Users\\AISG\\Anaconda3\\envs\\tf-gpu_1.13\\lib\\site-packages\\mask_rcnn-2.1-py3.7.egg\\mrcnn\\utils.py:741: RuntimeWarning: invalid value encountered in true_divide\n",
      " 74%|█████████████████████████████████████████████████████████▉                    | 1697/2285 [03:15<01:06,  8.80it/s]C:\\Users\\AISG\\Anaconda3\\envs\\tf-gpu_1.13\\lib\\site-packages\\mask_rcnn-2.1-py3.7.egg\\mrcnn\\utils.py:741: RuntimeWarning: invalid value encountered in true_divide\n",
      " 74%|█████████████████████████████████████████████████████████▉                    | 1698/2285 [03:15<01:04,  9.03it/s]"
     ]
    },
    {
     "name": "stdout",
     "output_type": "stream",
     "text": [
      "AP(1696) is nan\n",
      "AP(1697) is nan\n"
     ]
    },
    {
     "name": "stderr",
     "output_type": "stream",
     "text": [
      "100%|██████████████████████████████████████████████████████████████████████████████| 2285/2285 [04:22<00:00,  8.69it/s]\n",
      "  0%|▏                                                                                 | 1/524 [00:00<00:57,  9.12it/s]"
     ]
    },
    {
     "name": "stdout",
     "output_type": "stream",
     "text": [
      "Train mAP: 0.966\n"
     ]
    },
    {
     "name": "stderr",
     "output_type": "stream",
     "text": [
      "100%|████████████████████████████████████████████████████████████████████████████████| 524/524 [01:00<00:00,  8.64it/s]"
     ]
    },
    {
     "name": "stdout",
     "output_type": "stream",
     "text": [
      "Test mAP: 0.853\n",
      "Evaluation Done\n"
     ]
    },
    {
     "name": "stderr",
     "output_type": "stream",
     "text": [
      "\n"
     ]
    }
   ],
   "source": [
    "from src.training.run_training import RunTraining\n",
    "\n",
    "root_folder = \"data//Helipad_DataBase\"\n",
    "root_meta_folder = \"data//Helipad_DataBase_meta\"\n",
    "model_folder = \"model\"\n",
    "include_augmented = False\n",
    "augmented_version = []\n",
    "\n",
    "train_categories = [\"1\", \"2\", \"3\", \"5\", \"6\", \"8\", \"9\"]\n",
    "test_categories = [\"1\", \"2\", \"3\", \"5\", \"6\", \"8\", \"9\"]\n",
    "\n",
    "weights_filename = 'helipad_cfg_10_no47du_all20200420T0127/mask_rcnn_helipad_cfg_10_no47du_all_0851.h5'\n",
    "base_weights = 'mask_rcnn_coco.h5'\n",
    "\n",
    "predict_weights_filepath = 'helipad_cfg_12_no47du_all20200513T1024/mask_rcnn_helipad_cfg_12_no47du_all_0260.h5'\n",
    "\n",
    "run_training = RunTraining(root_folder,\n",
    "                           root_meta_folder,\n",
    "                           model_folder,\n",
    "                           weights_filename,\n",
    "                           include_augmented=include_augmented,\n",
    "                           augmented_version=augmented_version,\n",
    "                           predict_weights_filepath=predict_weights_filepath,\n",
    "                           train_categories=train_categories,\n",
    "                           test_categories=test_categories)\n",
    "\n",
    "print('Evaluating Last Epoch')\n",
    "run_training.run_predict()\n",
    "print('Evaluation Done')"
   ]
  },
  {
   "cell_type": "markdown",
   "metadata": {},
   "source": [
    "# 7. Run Detection on Original Dataset to save bounding boxes"
   ]
  },
  {
   "cell_type": "code",
   "execution_count": 2,
   "metadata": {},
   "outputs": [
    {
     "name": "stderr",
     "output_type": "stream",
     "text": [
      "C:\\Users\\AISG\\Anaconda3\\envs\\tf-gpu_1.13\\lib\\site-packages\\tensorflow\\python\\framework\\dtypes.py:526: FutureWarning: Passing (type, 1) or '1type' as a synonym of type is deprecated; in a future version of numpy, it will be understood as (type, (1,)) / '(1,)type'.\n",
      "  _np_qint8 = np.dtype([(\"qint8\", np.int8, 1)])\n",
      "C:\\Users\\AISG\\Anaconda3\\envs\\tf-gpu_1.13\\lib\\site-packages\\tensorflow\\python\\framework\\dtypes.py:527: FutureWarning: Passing (type, 1) or '1type' as a synonym of type is deprecated; in a future version of numpy, it will be understood as (type, (1,)) / '(1,)type'.\n",
      "  _np_quint8 = np.dtype([(\"quint8\", np.uint8, 1)])\n",
      "C:\\Users\\AISG\\Anaconda3\\envs\\tf-gpu_1.13\\lib\\site-packages\\tensorflow\\python\\framework\\dtypes.py:528: FutureWarning: Passing (type, 1) or '1type' as a synonym of type is deprecated; in a future version of numpy, it will be understood as (type, (1,)) / '(1,)type'.\n",
      "  _np_qint16 = np.dtype([(\"qint16\", np.int16, 1)])\n",
      "C:\\Users\\AISG\\Anaconda3\\envs\\tf-gpu_1.13\\lib\\site-packages\\tensorflow\\python\\framework\\dtypes.py:529: FutureWarning: Passing (type, 1) or '1type' as a synonym of type is deprecated; in a future version of numpy, it will be understood as (type, (1,)) / '(1,)type'.\n",
      "  _np_quint16 = np.dtype([(\"quint16\", np.uint16, 1)])\n",
      "C:\\Users\\AISG\\Anaconda3\\envs\\tf-gpu_1.13\\lib\\site-packages\\tensorflow\\python\\framework\\dtypes.py:530: FutureWarning: Passing (type, 1) or '1type' as a synonym of type is deprecated; in a future version of numpy, it will be understood as (type, (1,)) / '(1,)type'.\n",
      "  _np_qint32 = np.dtype([(\"qint32\", np.int32, 1)])\n",
      "C:\\Users\\AISG\\Anaconda3\\envs\\tf-gpu_1.13\\lib\\site-packages\\tensorflow\\python\\framework\\dtypes.py:535: FutureWarning: Passing (type, 1) or '1type' as a synonym of type is deprecated; in a future version of numpy, it will be understood as (type, (1,)) / '(1,)type'.\n",
      "  np_resource = np.dtype([(\"resource\", np.ubyte, 1)])\n",
      "Using TensorFlow backend.\n"
     ]
    },
    {
     "name": "stdout",
     "output_type": "stream",
     "text": [
      "WARNING:tensorflow:From C:\\Users\\AISG\\Anaconda3\\envs\\tf-gpu_1.13\\lib\\site-packages\\tensorflow\\python\\framework\\op_def_library.py:263: colocate_with (from tensorflow.python.framework.ops) is deprecated and will be removed in a future version.\n",
      "Instructions for updating:\n",
      "Colocations handled automatically by placer.\n",
      "WARNING:tensorflow:From C:\\Users\\AISG\\Anaconda3\\envs\\tf-gpu_1.13\\lib\\site-packages\\mask_rcnn-2.1-py3.7.egg\\mrcnn\\model.py:772: to_float (from tensorflow.python.ops.math_ops) is deprecated and will be removed in a future version.\n",
      "Instructions for updating:\n",
      "Use tf.cast instead.\n",
      "Re-starting from epoch 260\n"
     ]
    },
    {
     "name": "stderr",
     "output_type": "stream",
     "text": [
      "\r",
      "  0%|                                                                                         | 0/5878 [00:00<?, ?it/s]"
     ]
    },
    {
     "name": "stdout",
     "output_type": "stream",
     "text": [
      "5878 files to predict!\n"
     ]
    },
    {
     "name": "stderr",
     "output_type": "stream",
     "text": [
      "100%|██████████████████████████████████████████████████████████████████████████████| 5878/5878 [09:42<00:00, 10.09it/s]\n"
     ]
    }
   ],
   "source": [
    "from src.detection.run_detection import RunDetection\n",
    "\n",
    "image_folder = \"data//Helipad_DataBase//Helipad_DataBase_original\"\n",
    "meta_folder = \"data//Helipad_DataBase_meta//Helipad_DataBase_meta_original\"\n",
    "model_root_folder = \"model\"\n",
    "model_folder = \"helipad_cfg_12_no47du_all20200513T1024\"\n",
    "model_number = 12\n",
    "weight_filename = \"mask_rcnn_helipad_cfg_12_no47du_all_0260.h5\"\n",
    "\n",
    "test_only = False\n",
    "activate_filter = False\n",
    "\n",
    "run_detection = RunDetection(image_folder,\n",
    "                          meta_folder,\n",
    "                          os.path.join(model_root_folder, model_folder),\n",
    "                          weight_filename,\n",
    "                          model_number=model_number,\n",
    "                          activate_filter=activate_filter,\n",
    "                          test_only=test_only)\n",
    "\n",
    "run_detection.run()"
   ]
  },
  {
   "cell_type": "markdown",
   "metadata": {},
   "source": [
    "# 8. Run Benchmark on a model"
   ]
  },
  {
   "cell_type": "markdown",
   "metadata": {},
   "source": [
    "### 8.1 Benchmark on Train Set"
   ]
  },
  {
   "cell_type": "code",
   "execution_count": 3,
   "metadata": {},
   "outputs": [
    {
     "name": "stdout",
     "output_type": "stream",
     "text": [
      "Loading Files\n"
     ]
    },
    {
     "name": "stderr",
     "output_type": "stream",
     "text": [
      "\r",
      "  0%|                                                                                          | 0/317 [00:00<?, ?it/s]"
     ]
    },
    {
     "name": "stdout",
     "output_type": "stream",
     "text": [
      "4336 files loaded!\n",
      "Benchmarking model 12\n"
     ]
    },
    {
     "name": "stderr",
     "output_type": "stream",
     "text": [
      "100%|████████████████████████████████████████████████████████████████████████████████| 317/317 [02:52<00:00,  1.83it/s]\n"
     ]
    }
   ],
   "source": [
    "from src.benchmark.run_benchmark import RunBenchmark\n",
    "\n",
    "image_folder = \"data//Helipad_DataBase//Helipad_DataBase_original\"\n",
    "meta_folder = \"data//Helipad_DataBase_meta//Helipad_DataBase_meta_original\"\n",
    "model_numbers = [12]\n",
    "test_only = False\n",
    "tms_dataset = False\n",
    "zoom_level = None\n",
    "city_lat = None\n",
    "include_negative = False\n",
    "train_only = True\n",
    "train_categories = [\"1\", \"2\", \"3\", \"5\", \"6\", \"8\", \"9\"]\n",
    "\n",
    "run_benchmark = RunBenchmark(image_folder,\n",
    "                             meta_folder,\n",
    "                             model_numbers,\n",
    "                             test_only=test_only,\n",
    "                             tms_dataset=tms_dataset,\n",
    "                             include_category=train_categories,\n",
    "                             zoom_level=zoom_level,\n",
    "                             city_lat=city_lat,\n",
    "                             train_only=train_only)\n",
    "\n",
    "threshold_validation = None\n",
    "\n",
    "run_benchmark.run(threshold_validation=threshold_validation)"
   ]
  },
  {
   "cell_type": "markdown",
   "metadata": {},
   "source": [
    "### 8.2 Benchmark on Test Set"
   ]
  },
  {
   "cell_type": "code",
   "execution_count": 4,
   "metadata": {},
   "outputs": [
    {
     "name": "stdout",
     "output_type": "stream",
     "text": [
      "Loading Files\n"
     ]
    },
    {
     "name": "stderr",
     "output_type": "stream",
     "text": [
      "  0%|▎                                                                                 | 1/317 [00:00<00:42,  7.48it/s]"
     ]
    },
    {
     "name": "stdout",
     "output_type": "stream",
     "text": [
      "1053 files loaded!\n",
      "Benchmarking model 12\n"
     ]
    },
    {
     "name": "stderr",
     "output_type": "stream",
     "text": [
      "100%|████████████████████████████████████████████████████████████████████████████████| 317/317 [00:40<00:00,  7.74it/s]\n"
     ]
    }
   ],
   "source": [
    "from src.benchmark.run_benchmark import RunBenchmark\n",
    "\n",
    "image_folder = \"data//Helipad_DataBase//Helipad_DataBase_original\"\n",
    "meta_folder = \"data//Helipad_DataBase_meta//Helipad_DataBase_meta_original\"\n",
    "model_numbers = [12]\n",
    "test_only = True\n",
    "tms_dataset = False\n",
    "zoom_level = None\n",
    "city_lat = None\n",
    "test_categories = [\"1\", \"2\", \"3\", \"5\", \"6\", \"8\", \"9\"]\n",
    "include_negative = True\n",
    "train_only = False\n",
    "\n",
    "\n",
    "run_benchmark = RunBenchmark(image_folder,\n",
    "                             meta_folder,\n",
    "                             model_numbers,\n",
    "                             test_only=test_only,\n",
    "                             tms_dataset=tms_dataset,\n",
    "                             include_category=test_categories,\n",
    "                             include_negative=include_negative,\n",
    "                             zoom_level=zoom_level,\n",
    "                             city_lat=city_lat,\n",
    "                             train_only=train_only)\n",
    "\n",
    "threshold_validation = None\n",
    "\n",
    "run_benchmark.run(threshold_validation=threshold_validation)"
   ]
  },
  {
   "cell_type": "markdown",
   "metadata": {},
   "source": [
    "# 9. Run Prediction on Satellite Images"
   ]
  },
  {
   "cell_type": "code",
   "execution_count": 1,
   "metadata": {},
   "outputs": [
    {
     "name": "stderr",
     "output_type": "stream",
     "text": [
      "C:\\Users\\AISG\\Anaconda3\\envs\\tf-gpu_1.13\\lib\\site-packages\\tensorflow\\python\\framework\\dtypes.py:526: FutureWarning: Passing (type, 1) or '1type' as a synonym of type is deprecated; in a future version of numpy, it will be understood as (type, (1,)) / '(1,)type'.\n",
      "  _np_qint8 = np.dtype([(\"qint8\", np.int8, 1)])\n",
      "C:\\Users\\AISG\\Anaconda3\\envs\\tf-gpu_1.13\\lib\\site-packages\\tensorflow\\python\\framework\\dtypes.py:527: FutureWarning: Passing (type, 1) or '1type' as a synonym of type is deprecated; in a future version of numpy, it will be understood as (type, (1,)) / '(1,)type'.\n",
      "  _np_quint8 = np.dtype([(\"quint8\", np.uint8, 1)])\n",
      "C:\\Users\\AISG\\Anaconda3\\envs\\tf-gpu_1.13\\lib\\site-packages\\tensorflow\\python\\framework\\dtypes.py:528: FutureWarning: Passing (type, 1) or '1type' as a synonym of type is deprecated; in a future version of numpy, it will be understood as (type, (1,)) / '(1,)type'.\n",
      "  _np_qint16 = np.dtype([(\"qint16\", np.int16, 1)])\n",
      "C:\\Users\\AISG\\Anaconda3\\envs\\tf-gpu_1.13\\lib\\site-packages\\tensorflow\\python\\framework\\dtypes.py:529: FutureWarning: Passing (type, 1) or '1type' as a synonym of type is deprecated; in a future version of numpy, it will be understood as (type, (1,)) / '(1,)type'.\n",
      "  _np_quint16 = np.dtype([(\"quint16\", np.uint16, 1)])\n",
      "C:\\Users\\AISG\\Anaconda3\\envs\\tf-gpu_1.13\\lib\\site-packages\\tensorflow\\python\\framework\\dtypes.py:530: FutureWarning: Passing (type, 1) or '1type' as a synonym of type is deprecated; in a future version of numpy, it will be understood as (type, (1,)) / '(1,)type'.\n",
      "  _np_qint32 = np.dtype([(\"qint32\", np.int32, 1)])\n",
      "C:\\Users\\AISG\\Anaconda3\\envs\\tf-gpu_1.13\\lib\\site-packages\\tensorflow\\python\\framework\\dtypes.py:535: FutureWarning: Passing (type, 1) or '1type' as a synonym of type is deprecated; in a future version of numpy, it will be understood as (type, (1,)) / '(1,)type'.\n",
      "  np_resource = np.dtype([(\"resource\", np.ubyte, 1)])\n",
      "Using TensorFlow backend.\n"
     ]
    },
    {
     "name": "stdout",
     "output_type": "stream",
     "text": [
      "WARNING:tensorflow:From C:\\Users\\AISG\\Anaconda3\\envs\\tf-gpu_1.13\\lib\\site-packages\\tensorflow\\python\\framework\\op_def_library.py:263: colocate_with (from tensorflow.python.framework.ops) is deprecated and will be removed in a future version.\n",
      "Instructions for updating:\n",
      "Colocations handled automatically by placer.\n",
      "WARNING:tensorflow:From C:\\Users\\AISG\\Anaconda3\\envs\\tf-gpu_1.13\\lib\\site-packages\\mask_rcnn-2.1-py3.7.egg\\mrcnn\\model.py:772: to_float (from tensorflow.python.ops.math_ops) is deprecated and will be removed in a future version.\n",
      "Instructions for updating:\n",
      "Use tf.cast instead.\n"
     ]
    },
    {
     "name": "stderr",
     "output_type": "stream",
     "text": [
      "  0%|                                                             | 17/263496 [00:00<26:48, 163.84it/s]"
     ]
    },
    {
     "name": "stdout",
     "output_type": "stream",
     "text": [
      "Re-starting from epoch 260\n"
     ]
    },
    {
     "name": "stderr",
     "output_type": "stream",
     "text": [
      " 92%|█████████████████████████████████████████████████████▌    | 243360/263496 [28:27<41:16,  8.13it/s]"
     ]
    },
    {
     "name": "stdout",
     "output_type": "stream",
     "text": [
      "[0.8683009147644043]\n",
      "14.586389488119423\n",
      "121.16926163434982\n"
     ]
    },
    {
     "name": "stderr",
     "output_type": "stream",
     "text": [
      " 95%|███████████████████████████████████████████████████████   | 250278/263496 [42:41<27:33,  8.00it/s]"
     ]
    },
    {
     "name": "stdout",
     "output_type": "stream",
     "text": [
      "[0.9190908074378967]\n",
      "14.634325332692056\n",
      "121.18167623877527\n"
     ]
    },
    {
     "name": "stderr",
     "output_type": "stream",
     "text": [
      " 95%|███████████████████████████████████████████████████████▏  | 250551/263496 [43:15<27:01,  7.98it/s]"
     ]
    },
    {
     "name": "stdout",
     "output_type": "stream",
     "text": [
      "[0.8888809680938721]\n",
      "14.563896089786304\n",
      "121.18242591619493\n"
     ]
    },
    {
     "name": "stderr",
     "output_type": "stream",
     "text": [
      " 95%|███████████████████████████████████████████████████████▏  | 250953/263496 [44:05<26:13,  7.97it/s]"
     ]
    },
    {
     "name": "stdout",
     "output_type": "stream",
     "text": [
      "[0.999293327331543]\n",
      "14.57913292481221\n",
      "121.18298381567003\n"
     ]
    },
    {
     "name": "stderr",
     "output_type": "stream",
     "text": [
      " 97%|████████████████████████████████████████████████████████▏ | 255399/263496 [53:16<16:42,  8.07it/s]"
     ]
    },
    {
     "name": "stdout",
     "output_type": "stream",
     "text": [
      "[0.7049669623374939]\n",
      "14.763281370352841\n",
      "121.19059190154076\n"
     ]
    },
    {
     "name": "stderr",
     "output_type": "stream",
     "text": [
      " 98%|████████████████████████████████████████████████████████▉ | 258624/263496 [59:57<10:06,  8.04it/s]"
     ]
    },
    {
     "name": "stdout",
     "output_type": "stream",
     "text": [
      "[0.9863900542259216]\n",
      "14.639686935382594\n",
      "121.19657456874847\n"
     ]
    },
    {
     "name": "stderr",
     "output_type": "stream",
     "text": [
      "100%|███████████████████████████████████████████████████████▉| 263113/263496 [1:09:17<00:48,  7.94it/s]"
     ]
    },
    {
     "name": "stdout",
     "output_type": "stream",
     "text": [
      "[0.9417077302932739]\n",
      "14.588580297565146\n",
      "121.20498865842819\n"
     ]
    },
    {
     "name": "stderr",
     "output_type": "stream",
     "text": [
      "100%|████████████████████████████████████████████████████████| 263496/263496 [1:10:04<00:00, 62.67it/s]\n"
     ]
    }
   ],
   "source": [
    "from src.detection.run_prediction_satellite import RunPredictionSatellite\n",
    "\n",
    "cache_tms_sat_folder = \"C:\\\\Users\\\\AISG\\\\Documents\\\\Jonas\\\\Real_World_Dataset_TMS\\\\sat\"\n",
    "output_meta_folder = \"C:\\\\Users\\\\AISG\\\\Documents\\\\Jonas\\\\Real_World_Dataset_TMS_meta\\\\sat\"\n",
    "model_folder = \"model\"\n",
    "\n",
    "weights_filename = \"helipad_cfg_12_no47du_all20200513T1024/mask_rcnn_helipad_cfg_12_no47du_all_0260.h5\"\n",
    "model_number = 12\n",
    "\n",
    "zoom_level = 19\n",
    "activate_filters = False\n",
    "\n",
    "run_prediction_satellite = RunPredictionSatellite(cache_tms_sat_folder=cache_tms_sat_folder,\n",
    "                                                  output_meta_folder=output_meta_folder,\n",
    "                                                  zoom_level=zoom_level,\n",
    "                                                  model_folder=model_folder,\n",
    "                                                  weights_filename=weights_filename,\n",
    "                                                  model_number=model_number,\n",
    "                                                  activate_filters=activate_filters)\n",
    "\n",
    "run_prediction_satellite.run()"
   ]
  },
  {
   "cell_type": "markdown",
   "metadata": {},
   "source": [
    "# 10. Build index path by score on Satellite Images"
   ]
  },
  {
   "cell_type": "code",
   "execution_count": 1,
   "metadata": {},
   "outputs": [
    {
     "name": "stderr",
     "output_type": "stream",
     "text": [
      "100%|█████████████████████████████████████████████████████████| 263496/263496 [11:33<00:00, 379.72it/s]\n"
     ]
    }
   ],
   "source": [
    "from src.database_management.index_path_by_score import IndexPathScore\n",
    "\n",
    "meta_folder = \"C:\\\\Users\\\\AISG\\\\Documents\\\\Jonas\\\\Real_World_Dataset_TMS_meta\\\\sat\\\\19\\\\\"\n",
    "model_number = 7\n",
    "score_threshold = 0\n",
    "\n",
    "index_path_score = IndexPathScore(meta_folder, model_number, score_threshold)\n",
    "\n",
    "index_path_score.run()\n",
    "\n",
    "index_path_score.write_output()"
   ]
  },
  {
   "cell_type": "markdown",
   "metadata": {},
   "source": [
    "# 11. Optional Step : Train and Run Validation on detected bounding boxes using KNN"
   ]
  },
  {
   "cell_type": "markdown",
   "metadata": {},
   "source": [
    "### 11.1 Build the dataset of bounding boxes"
   ]
  },
  {
   "cell_type": "code",
   "execution_count": null,
   "metadata": {},
   "outputs": [],
   "source": [
    "from src.knn.knn_build_database import KNNBuildDatabase\n",
    "\n",
    "image_folder = \"data//Helipad_DataBase//Helipad_DataBase_original\"\n",
    "meta_folder = \"data//Helipad_DataBase_meta//Helipad_DataBase_meta_original\"\n",
    "model_number = 7\n",
    "\n",
    "knn_build_database = KNNBuildDatabase(image_folder, meta_folder, model_number)\n",
    "\n",
    "knn_build_database.run()"
   ]
  },
  {
   "cell_type": "markdown",
   "metadata": {},
   "source": [
    "### 11.2 Train a KNN on this dataset"
   ]
  },
  {
   "cell_type": "code",
   "execution_count": null,
   "metadata": {},
   "outputs": [],
   "source": [
    "from src.knn.knn_training import KNNTraining\n",
    "\n",
    "knn_training = KNNTraining(nb_neighbors=2, nb_jobs=-1, test_size=0.25)\n",
    "knn_training.fit(knn_build_database.X, knn_build_database.y, mode=\"histogram\", binary=True)\n",
    "knn_training.score()\n",
    "knn_training.save(model_number=model_number, dataset='original')"
   ]
  },
  {
   "cell_type": "markdown",
   "metadata": {},
   "source": [
    "### 11.3 Predict on new images"
   ]
  },
  {
   "cell_type": "code",
   "execution_count": null,
   "metadata": {},
   "outputs": [],
   "source": [
    "from knn.knn_predict import KNNPredict\n",
    "\n",
    "image_folder = \"C:\\\\Users\\\\AISG\\\\Documents\\\\Jonas\\\\Real_World_Dataset_TMS\\\\sat\"\n",
    "meta_folder = \"C:\\\\Users\\\\AISG\\\\Documents\\\\Jonas\\\\Real_World_Dataset_TMS_meta\\\\sat\"\n",
    "index_path_score_filename = \"C:\\\\Users\\\\AISG\\\\Documents\\\\Jonas\\\\helipad_detection\\\\src\\\\database_management\\\\helipad_path_over_0.999.txt\"\n",
    "model_number = 7\n",
    "knn_weights_filename = \"knn_histogram_2.pkl\"\n",
    "random_forest_weights_filename = \"random_forest_e100.pkl\"\n",
    "\n",
    "model = \"knn\"\n",
    "\n",
    "knn_predict = KNNPredict(image_folder,\n",
    "                         meta_folder,\n",
    "                         index_path_score_filename,\n",
    "                         model_number,\n",
    "                         knn_weights_filename,\n",
    "                         model)\n",
    "\n",
    "knn_predict.predict()\n",
    "\n",
    "knn_predict.write_prediction_to_meta()"
   ]
  },
  {
   "cell_type": "markdown",
   "metadata": {},
   "source": [
    "# 12. Optional Step : Run Validation on detected bounding boxes using CNN"
   ]
  },
  {
   "cell_type": "markdown",
   "metadata": {},
   "source": [
    "### 12.1 Build the dataset of bounding boxes"
   ]
  },
  {
   "cell_type": "code",
   "execution_count": 1,
   "metadata": {},
   "outputs": [
    {
     "name": "stderr",
     "output_type": "stream",
     "text": [
      "C:\\Users\\AISG\\Anaconda3\\envs\\tf-gpu_1.13\\lib\\site-packages\\tensorflow\\python\\framework\\dtypes.py:526: FutureWarning: Passing (type, 1) or '1type' as a synonym of type is deprecated; in a future version of numpy, it will be understood as (type, (1,)) / '(1,)type'.\n",
      "  _np_qint8 = np.dtype([(\"qint8\", np.int8, 1)])\n",
      "C:\\Users\\AISG\\Anaconda3\\envs\\tf-gpu_1.13\\lib\\site-packages\\tensorflow\\python\\framework\\dtypes.py:527: FutureWarning: Passing (type, 1) or '1type' as a synonym of type is deprecated; in a future version of numpy, it will be understood as (type, (1,)) / '(1,)type'.\n",
      "  _np_quint8 = np.dtype([(\"quint8\", np.uint8, 1)])\n",
      "C:\\Users\\AISG\\Anaconda3\\envs\\tf-gpu_1.13\\lib\\site-packages\\tensorflow\\python\\framework\\dtypes.py:528: FutureWarning: Passing (type, 1) or '1type' as a synonym of type is deprecated; in a future version of numpy, it will be understood as (type, (1,)) / '(1,)type'.\n",
      "  _np_qint16 = np.dtype([(\"qint16\", np.int16, 1)])\n",
      "C:\\Users\\AISG\\Anaconda3\\envs\\tf-gpu_1.13\\lib\\site-packages\\tensorflow\\python\\framework\\dtypes.py:529: FutureWarning: Passing (type, 1) or '1type' as a synonym of type is deprecated; in a future version of numpy, it will be understood as (type, (1,)) / '(1,)type'.\n",
      "  _np_quint16 = np.dtype([(\"quint16\", np.uint16, 1)])\n",
      "C:\\Users\\AISG\\Anaconda3\\envs\\tf-gpu_1.13\\lib\\site-packages\\tensorflow\\python\\framework\\dtypes.py:530: FutureWarning: Passing (type, 1) or '1type' as a synonym of type is deprecated; in a future version of numpy, it will be understood as (type, (1,)) / '(1,)type'.\n",
      "  _np_qint32 = np.dtype([(\"qint32\", np.int32, 1)])\n",
      "C:\\Users\\AISG\\Anaconda3\\envs\\tf-gpu_1.13\\lib\\site-packages\\tensorflow\\python\\framework\\dtypes.py:535: FutureWarning: Passing (type, 1) or '1type' as a synonym of type is deprecated; in a future version of numpy, it will be understood as (type, (1,)) / '(1,)type'.\n",
      "  np_resource = np.dtype([(\"resource\", np.ubyte, 1)])\n",
      "  0%|                                                              | 17/19392 [00:00<01:55, 167.85it/s]"
     ]
    },
    {
     "name": "stdout",
     "output_type": "stream",
     "text": [
      "Categories count : [60, 1616, 447, 142, 214, 63, 207, 113, 141, 89, 143, 29]\n",
      "{'0': 60, '1': 1616, '2': 447, '3': 142, '4': 214, 'd': 63, '9': 207, '5': 113, '6': 141, '7': 89, '8': 143, 'u': 29}\n",
      "Max count : 1616\n",
      "Total count : 3264\n"
     ]
    },
    {
     "name": "stderr",
     "output_type": "stream",
     "text": [
      "100%|███████████████████████████████████████████████████████████| 19392/19392 [01:46<00:00, 182.00it/s]\n"
     ]
    }
   ],
   "source": [
    "from src.bb_analysis.bb_build_dataset import BBBuildDataset\n",
    "\n",
    "image_folder = \"data//Helipad_DataBase//Helipad_DataBase_original\"\n",
    "meta_folder = \"data//Helipad_DataBase_meta//Helipad_DataBase_meta_original\"\n",
    "model_number = 10\n",
    "score_threshold = 0.0\n",
    "iou_threshold = 0.5\n",
    "output_folder = \"C:\\\\Users\\\\AISG\\\\Documents\\\\Jonas\\\\Helipad\\\\Detected_Boxes\\\\\"\n",
    "tms = False\n",
    "# ground_truth_bb indicates wheter the dataset keeps the groundtruth\n",
    "# as the true positive (True) or the true positive detected by the model (False)\n",
    "# Sometime, the detection by the model is not centered in the helipad\n",
    "# hence it can add noise to the model\n",
    "groundtruth_bb = True\n",
    "# the bounding boxes of those categories will be considered as false positive\n",
    "filter_categories = [\"4\", \"7\", \"d\", \"u\"]\n",
    "balance_categories = True\n",
    "\n",
    "bb_build_dataset = BBBuildDataset(image_folder=image_folder,\n",
    "                                  meta_folder=meta_folder,\n",
    "                                  model_number=model_number,\n",
    "                                  score_threshold=score_threshold,\n",
    "                                  iou_threshold=iou_threshold,\n",
    "                                  output_folder=output_folder,\n",
    "                                  tms=tms,\n",
    "                                  groundtruth_bb=groundtruth_bb,\n",
    "                                  filter_categories=filter_categories,\n",
    "                                  balance_categories=balance_categories)\n",
    "\n",
    "bb_build_dataset.run()"
   ]
  },
  {
   "cell_type": "markdown",
   "metadata": {},
   "source": [
    "### 12.2 Build Bounding Box Dataset on Real World images"
   ]
  },
  {
   "cell_type": "code",
   "execution_count": 1,
   "metadata": {},
   "outputs": [
    {
     "name": "stderr",
     "output_type": "stream",
     "text": [
      "C:\\Users\\AISG\\Anaconda3\\envs\\tf-gpu_1.13\\lib\\site-packages\\tensorflow\\python\\framework\\dtypes.py:526: FutureWarning: Passing (type, 1) or '1type' as a synonym of type is deprecated; in a future version of numpy, it will be understood as (type, (1,)) / '(1,)type'.\n",
      "  _np_qint8 = np.dtype([(\"qint8\", np.int8, 1)])\n",
      "C:\\Users\\AISG\\Anaconda3\\envs\\tf-gpu_1.13\\lib\\site-packages\\tensorflow\\python\\framework\\dtypes.py:527: FutureWarning: Passing (type, 1) or '1type' as a synonym of type is deprecated; in a future version of numpy, it will be understood as (type, (1,)) / '(1,)type'.\n",
      "  _np_quint8 = np.dtype([(\"quint8\", np.uint8, 1)])\n",
      "C:\\Users\\AISG\\Anaconda3\\envs\\tf-gpu_1.13\\lib\\site-packages\\tensorflow\\python\\framework\\dtypes.py:528: FutureWarning: Passing (type, 1) or '1type' as a synonym of type is deprecated; in a future version of numpy, it will be understood as (type, (1,)) / '(1,)type'.\n",
      "  _np_qint16 = np.dtype([(\"qint16\", np.int16, 1)])\n",
      "C:\\Users\\AISG\\Anaconda3\\envs\\tf-gpu_1.13\\lib\\site-packages\\tensorflow\\python\\framework\\dtypes.py:529: FutureWarning: Passing (type, 1) or '1type' as a synonym of type is deprecated; in a future version of numpy, it will be understood as (type, (1,)) / '(1,)type'.\n",
      "  _np_quint16 = np.dtype([(\"quint16\", np.uint16, 1)])\n",
      "C:\\Users\\AISG\\Anaconda3\\envs\\tf-gpu_1.13\\lib\\site-packages\\tensorflow\\python\\framework\\dtypes.py:530: FutureWarning: Passing (type, 1) or '1type' as a synonym of type is deprecated; in a future version of numpy, it will be understood as (type, (1,)) / '(1,)type'.\n",
      "  _np_qint32 = np.dtype([(\"qint32\", np.int32, 1)])\n",
      "C:\\Users\\AISG\\Anaconda3\\envs\\tf-gpu_1.13\\lib\\site-packages\\tensorflow\\python\\framework\\dtypes.py:535: FutureWarning: Passing (type, 1) or '1type' as a synonym of type is deprecated; in a future version of numpy, it will be understood as (type, (1,)) / '(1,)type'.\n",
      "  np_resource = np.dtype([(\"resource\", np.ubyte, 1)])\n",
      " 14%|███████████▍                                                                    | 81/568 [00:00<00:00, 804.09it/s]"
     ]
    },
    {
     "name": "stdout",
     "output_type": "stream",
     "text": [
      "568 files loaded!\n"
     ]
    },
    {
     "name": "stderr",
     "output_type": "stream",
     "text": [
      "100%|███████████████████████████████████████████████████████████████████████████████| 568/568 [00:00<00:00, 763.88it/s]\n"
     ]
    }
   ],
   "source": [
    "from src.bb_analysis.bb_build_dataset import BBBuildDataset\n",
    "\n",
    "image_folder = \"C:\\\\Users\\\\AISG\\\\Documents\\\\Jonas\\\\Real_World_Dataset_TMS\\\\sat\\\\19\"\n",
    "meta_folder = \"C:\\\\Users\\\\AISG\\\\Documents\\\\Jonas\\\\Real_World_Dataset_TMS_meta\\\\sat\\\\19\"\n",
    "model_number = 10\n",
    "score_threshold = 0.0\n",
    "iou_threshold = 0.5\n",
    "output_folder = \"C:\\\\Users\\\\AISG\\\\Documents\\\\Jonas\\\\Helipad\\\\Real_World_Detected_Boxes\\\\\"\n",
    "tms = True\n",
    "# ground_truth_bb indicates wheter the dataset keeps the groundtruth\n",
    "# as the true positive (True) or the true positive detected by the model (False)\n",
    "# Sometime, the detection by the model is not centered in the helipad\n",
    "# hence it can add noise to the model\n",
    "groundtruth_bb = False\n",
    "# the bounding boxes of those categories will be considered as false positive\n",
    "filter_categories = None\n",
    "balance_categories = False\n",
    "zoom_out = 5\n",
    "index_path = \"helipad_detection\\\\src\\\\helipad_path_over_0_m10.txt\"\n",
    "\n",
    "bb_build_dataset = BBBuildDataset(image_folder=image_folder,\n",
    "                                  meta_folder=meta_folder,\n",
    "                                  model_number=model_number,\n",
    "                                  score_threshold=score_threshold,\n",
    "                                  iou_threshold=iou_threshold,\n",
    "                                  output_folder=output_folder,\n",
    "                                  tms=tms,\n",
    "                                  groundtruth_bb=groundtruth_bb,\n",
    "                                  filter_categories=filter_categories,\n",
    "                                  balance_categories=balance_categories,\n",
    "                                  zoom_out=zoom_out,\n",
    "                                  index_path=index_path)\n",
    "\n",
    "bb_build_dataset.run()"
   ]
  },
  {
   "cell_type": "markdown",
   "metadata": {},
   "source": [
    "### 12.3 Train a CNN Model"
   ]
  },
  {
   "cell_type": "code",
   "execution_count": 1,
   "metadata": {},
   "outputs": [
    {
     "name": "stderr",
     "output_type": "stream",
     "text": [
      "Using TensorFlow backend.\n",
      "C:\\Users\\AISG\\Anaconda3\\envs\\tf-gpu_1.13\\lib\\site-packages\\tensorflow\\python\\framework\\dtypes.py:526: FutureWarning: Passing (type, 1) or '1type' as a synonym of type is deprecated; in a future version of numpy, it will be understood as (type, (1,)) / '(1,)type'.\n",
      "  _np_qint8 = np.dtype([(\"qint8\", np.int8, 1)])\n",
      "C:\\Users\\AISG\\Anaconda3\\envs\\tf-gpu_1.13\\lib\\site-packages\\tensorflow\\python\\framework\\dtypes.py:527: FutureWarning: Passing (type, 1) or '1type' as a synonym of type is deprecated; in a future version of numpy, it will be understood as (type, (1,)) / '(1,)type'.\n",
      "  _np_quint8 = np.dtype([(\"quint8\", np.uint8, 1)])\n",
      "C:\\Users\\AISG\\Anaconda3\\envs\\tf-gpu_1.13\\lib\\site-packages\\tensorflow\\python\\framework\\dtypes.py:528: FutureWarning: Passing (type, 1) or '1type' as a synonym of type is deprecated; in a future version of numpy, it will be understood as (type, (1,)) / '(1,)type'.\n",
      "  _np_qint16 = np.dtype([(\"qint16\", np.int16, 1)])\n",
      "C:\\Users\\AISG\\Anaconda3\\envs\\tf-gpu_1.13\\lib\\site-packages\\tensorflow\\python\\framework\\dtypes.py:529: FutureWarning: Passing (type, 1) or '1type' as a synonym of type is deprecated; in a future version of numpy, it will be understood as (type, (1,)) / '(1,)type'.\n",
      "  _np_quint16 = np.dtype([(\"quint16\", np.uint16, 1)])\n",
      "C:\\Users\\AISG\\Anaconda3\\envs\\tf-gpu_1.13\\lib\\site-packages\\tensorflow\\python\\framework\\dtypes.py:530: FutureWarning: Passing (type, 1) or '1type' as a synonym of type is deprecated; in a future version of numpy, it will be understood as (type, (1,)) / '(1,)type'.\n",
      "  _np_qint32 = np.dtype([(\"qint32\", np.int32, 1)])\n",
      "C:\\Users\\AISG\\Anaconda3\\envs\\tf-gpu_1.13\\lib\\site-packages\\tensorflow\\python\\framework\\dtypes.py:535: FutureWarning: Passing (type, 1) or '1type' as a synonym of type is deprecated; in a future version of numpy, it will be understood as (type, (1,)) / '(1,)type'.\n",
      "  np_resource = np.dtype([(\"resource\", np.ubyte, 1)])\n"
     ]
    },
    {
     "name": "stdout",
     "output_type": "stream",
     "text": [
      "Found 17997 images belonging to 2 classes.\n",
      "Found 3332 images belonging to 2 classes.\n",
      "WARNING:tensorflow:From C:\\Users\\AISG\\Anaconda3\\envs\\tf-gpu_1.13\\lib\\site-packages\\tensorflow\\python\\framework\\op_def_library.py:263: colocate_with (from tensorflow.python.framework.ops) is deprecated and will be removed in a future version.\n",
      "Instructions for updating:\n",
      "Colocations handled automatically by placer.\n",
      "WARNING:tensorflow:From C:\\Users\\AISG\\Anaconda3\\envs\\tf-gpu_1.13\\lib\\site-packages\\tensorflow\\python\\ops\\math_ops.py:3066: to_int32 (from tensorflow.python.ops.math_ops) is deprecated and will be removed in a future version.\n",
      "Instructions for updating:\n",
      "Use tf.cast instead.\n",
      "Epoch 1/100\n",
      "36/36 [==============================] - 15s 403ms/step - loss: 0.7075 - acc: 0.6320 - val_loss: 0.5864 - val_acc: 0.6798\n",
      "Epoch 2/100\n",
      "36/36 [==============================] - 14s 386ms/step - loss: 0.5108 - acc: 0.7445 - val_loss: 0.6168 - val_acc: 0.6852\n",
      "Epoch 3/100\n",
      "36/36 [==============================] - 14s 390ms/step - loss: 0.3262 - acc: 0.8587 - val_loss: 0.6818 - val_acc: 0.6879\n",
      "Epoch 4/100\n",
      "36/36 [==============================] - 14s 388ms/step - loss: 0.1623 - acc: 0.9387 - val_loss: 0.8902 - val_acc: 0.7137\n",
      "Epoch 5/100\n",
      "36/36 [==============================] - 14s 389ms/step - loss: 0.0547 - acc: 0.9846 - val_loss: 1.2837 - val_acc: 0.7263\n",
      "Epoch 6/100\n",
      "36/36 [==============================] - 14s 389ms/step - loss: 0.0236 - acc: 0.9947 - val_loss: 1.3288 - val_acc: 0.7335\n",
      "Epoch 7/100\n",
      "36/36 [==============================] - 14s 387ms/step - loss: 0.0090 - acc: 0.9986 - val_loss: 1.6784 - val_acc: 0.7227\n",
      "Epoch 8/100\n",
      "36/36 [==============================] - 14s 389ms/step - loss: 0.0037 - acc: 0.9996 - val_loss: 2.1262 - val_acc: 0.7164\n",
      "Epoch 9/100\n",
      "36/36 [==============================] - 14s 389ms/step - loss: 0.0025 - acc: 0.9998 - val_loss: 2.0424 - val_acc: 0.7176\n",
      "Epoch 10/100\n",
      "36/36 [==============================] - 14s 388ms/step - loss: 0.0010 - acc: 0.9999 - val_loss: 2.1129 - val_acc: 0.7326\n",
      "Epoch 11/100\n",
      "36/36 [==============================] - 14s 388ms/step - loss: 5.9812e-04 - acc: 0.9999 - val_loss: 2.1017 - val_acc: 0.7296\n",
      "Epoch 12/100\n",
      "36/36 [==============================] - 14s 387ms/step - loss: 5.1175e-04 - acc: 0.9999 - val_loss: 2.1578 - val_acc: 0.7281\n",
      "Epoch 13/100\n",
      "36/36 [==============================] - 14s 387ms/step - loss: 4.0700e-04 - acc: 1.0000 - val_loss: 2.1621 - val_acc: 0.7278\n",
      "Epoch 14/100\n",
      "36/36 [==============================] - 14s 387ms/step - loss: 2.9833e-04 - acc: 0.9999 - val_loss: 2.3123 - val_acc: 0.7242\n",
      "Epoch 15/100\n",
      "36/36 [==============================] - 14s 389ms/step - loss: 2.7180e-04 - acc: 1.0000 - val_loss: 2.2197 - val_acc: 0.7293\n",
      "Epoch 16/100\n",
      "36/36 [==============================] - 14s 388ms/step - loss: 1.8407e-04 - acc: 1.0000 - val_loss: 2.2387 - val_acc: 0.7287\n",
      "Epoch 17/100\n",
      "36/36 [==============================] - 14s 388ms/step - loss: 1.5620e-04 - acc: 1.0000 - val_loss: 2.3122 - val_acc: 0.7281\n",
      "Epoch 18/100\n",
      "36/36 [==============================] - 14s 388ms/step - loss: 1.4514e-04 - acc: 1.0000 - val_loss: 2.3010 - val_acc: 0.7281\n",
      "Epoch 19/100\n",
      "36/36 [==============================] - 14s 388ms/step - loss: 1.2334e-04 - acc: 1.0000 - val_loss: 2.3625 - val_acc: 0.7287\n",
      "Epoch 20/100\n",
      "36/36 [==============================] - 14s 387ms/step - loss: 1.0916e-04 - acc: 1.0000 - val_loss: 2.3733 - val_acc: 0.7266\n",
      "Epoch 21/100\n",
      "36/36 [==============================] - 14s 387ms/step - loss: 9.4838e-05 - acc: 1.0000 - val_loss: 2.3807 - val_acc: 0.7281\n",
      "Epoch 22/100\n",
      "35/36 [============================>.] - ETA: 0s - loss: 8.1971e-05 - acc: 1.0000\n",
      "Epoch 00022: ReduceLROnPlateau reducing learning rate to 0.00010000000474974513.\n",
      "36/36 [==============================] - 14s 388ms/step - loss: 8.1510e-05 - acc: 1.0000 - val_loss: 2.3977 - val_acc: 0.7299\n",
      "Epoch 23/100\n",
      "36/36 [==============================] - 14s 387ms/step - loss: 7.9583e-05 - acc: 1.0000 - val_loss: 2.3881 - val_acc: 0.7296\n",
      "Epoch 24/100\n",
      "36/36 [==============================] - 14s 389ms/step - loss: 7.3899e-05 - acc: 1.0000 - val_loss: 2.3912 - val_acc: 0.7281\n",
      "Epoch 25/100\n",
      "36/36 [==============================] - 14s 389ms/step - loss: 6.9720e-05 - acc: 1.0000 - val_loss: 2.3994 - val_acc: 0.7296\n",
      "Epoch 26/100\n",
      "36/36 [==============================] - 14s 387ms/step - loss: 7.0395e-05 - acc: 1.0000 - val_loss: 2.3969 - val_acc: 0.7281\n",
      "Epoch 00026: early stopping\n",
      "> 72.809\n"
     ]
    }
   ],
   "source": [
    "from bb_analysis.bb_training_manager import BBTrainingManager\n",
    "\n",
    "image_folder = \"C:\\\\Users\\\\AISG\\\\Documents\\\\Jonas\\\\Helipad\\\\Detected_Boxes\\\\model_10_0.0\"\n",
    "model_filename = \"bb_model_adam_64.h5\"\n",
    "\n",
    "bbtraining_manager = BBTrainingManager(image_folder)\n",
    "\n",
    "bbtraining_manager.run()\n",
    "\n",
    "bbtraining_manager.evaluate()\n",
    "\n",
    "bbtraining_manager.save(filename=model_filename)\n",
    "\n",
    "bbtraining_manager.plot()"
   ]
  },
  {
   "cell_type": "markdown",
   "metadata": {},
   "source": [
    "### 12.4 Predict on the original dataset "
   ]
  },
  {
   "cell_type": "code",
   "execution_count": null,
   "metadata": {},
   "outputs": [],
   "source": [
    "from bb_analysis.bb_predict import BBPredict\n",
    "\n",
    "image_folder = \"data//Helipad_DataBase//Helipad_DataBase_original\"\n",
    "meta_folder = \"data//Helipad_DataBase_meta//Helipad_DataBase_meta_original\"\n",
    "model_number = 7\n",
    "model_path = \"final_model.h5\"\n",
    "tms = False\n",
    "extract_bounding_boxes = True\n",
    "\n",
    "bbpredict = BBPredict(image_folder=image_folder,\n",
    "                      meta_folder=meta_folder,\n",
    "                      model_number=model_number,\n",
    "                      model_path=model_path,\n",
    "                      tms=tms,\n",
    "                      extract_bounding_boxes=extract_bounding_boxes)\n",
    "\n",
    "bbpredict.run()"
   ]
  },
  {
   "cell_type": "markdown",
   "metadata": {},
   "source": [
    "### 12.5 Predict on Satellite Images using index path"
   ]
  },
  {
   "cell_type": "code",
   "execution_count": 3,
   "metadata": {},
   "outputs": [
    {
     "name": "stdout",
     "output_type": "stream",
     "text": [
      "WARNING:tensorflow:From C:\\Users\\AISG\\Anaconda3\\envs\\tf-gpu_1.13\\lib\\site-packages\\tensorflow\\python\\ops\\math_ops.py:3066: to_int32 (from tensorflow.python.ops.math_ops) is deprecated and will be removed in a future version.\n",
      "Instructions for updating:\n",
      "Use tf.cast instead.\n"
     ]
    },
    {
     "name": "stderr",
     "output_type": "stream",
     "text": [
      "100%|███████████████████████████████████████████████████████████████████████████| 25584/25584 [01:34<00:00, 270.66it/s]\n"
     ]
    }
   ],
   "source": [
    "import sys\n",
    "sys.path.append('bb_analysis')\n",
    "from bb_predict import BBPredict\n",
    "\n",
    "image_folder = \"C:\\\\Users\\\\AISG\\\\Documents\\\\Jonas\\\\City\\\\cebu\\\\sat\"\n",
    "meta_folder = \"C:\\\\Users\\\\AISG\\\\Documents\\\\Jonas\\\\City\\\\cebu_meta\\\\sat\"\n",
    "model_number = 10\n",
    "model_path = \"bb_analysis/checkpoint_manilla/weights.81-0.01-1.00-0.32-0.94.h5\"\n",
    "tms = True\n",
    "extract_bounding_boxes = True\n",
    "\n",
    "index_path = \"helipad_path_over_0_m10.txt\"\n",
    "index_path = None\n",
    "\n",
    "bbpredict = BBPredict(image_folder=image_folder,\n",
    "                      meta_folder=meta_folder,\n",
    "                      model_number=model_number,\n",
    "                      model_path=model_path,\n",
    "                      tms=tms,\n",
    "                      extract_bounding_boxes=extract_bounding_boxes,\n",
    "                      index_path=index_path)\n",
    "\n",
    "bbpredict.run()"
   ]
  },
  {
   "cell_type": "markdown",
   "metadata": {},
   "source": [
    "## 13. Compute the area of the bounding boxes on Satellite Images"
   ]
  },
  {
   "cell_type": "code",
   "execution_count": 1,
   "metadata": {},
   "outputs": [
    {
     "name": "stderr",
     "output_type": "stream",
     "text": [
      "100%|███████████████████████████████████████████████████████████████████████████████| 568/568 [00:03<00:00, 162.53it/s]\n"
     ]
    }
   ],
   "source": [
    "from src.bb_analysis.bb_compute_area_tms import BBComputeAreaTMS\n",
    "\n",
    "image_folder = \"C:\\\\Users\\\\AISG\\\\Documents\\\\Jonas\\\\Real_World_Dataset_TMS\\\\sat\\\\\"\n",
    "meta_folder = \"C:\\\\Users\\\\AISG\\\\Documents\\\\Jonas\\\\Real_World_Dataset_TMS_meta\\\\sat\\\\\"\n",
    "model_number = 10\n",
    "index_path = \"helipad_path_over_0_m10.txt\"\n",
    "\n",
    "bb_compute_area_tms = BBComputeAreaTMS(image_folder=image_folder,\n",
    "                                       meta_folder=meta_folder,\n",
    "                                       model_number=model_number,\n",
    "                                       index_path=index_path)\n",
    "\n",
    "bb_compute_area_tms.run()"
   ]
  },
  {
   "cell_type": "markdown",
   "metadata": {},
   "source": [
    "## 14. Apply Shadow Detection on detected bounding boxes"
   ]
  },
  {
   "cell_type": "code",
   "execution_count": 1,
   "metadata": {},
   "outputs": [
    {
     "name": "stderr",
     "output_type": "stream",
     "text": [
      "  5%|████▏                                                                            | 29/568 [00:01<00:28, 18.65it/s]C:\\Users\\AISG\\Documents\\Jonas\\helipad_detection\\src\\bb_analysis\\shadow_detection.py:39: RuntimeWarning: invalid value encountered in true_divide\n",
      "  c3 = np.arctan(image[:,:,0]/np.maximum(image[:,:,1], image[:,:,2]))\n",
      "C:\\Users\\AISG\\Documents\\Jonas\\helipad_detection\\src\\bb_analysis\\shadow_detection.py:39: RuntimeWarning: divide by zero encountered in true_divide\n",
      "  c3 = np.arctan(image[:,:,0]/np.maximum(image[:,:,1], image[:,:,2]))\n",
      "100%|████████████████████████████████████████████████████████████████████████████████| 568/568 [00:25<00:00, 22.59it/s]\n"
     ]
    }
   ],
   "source": [
    "from src.bb_analysis.run_shadow_detection import RunShadowDetection\n",
    "\n",
    "image_folder = \"C:\\\\Users\\\\AISG\\\\Documents\\\\Jonas\\\\Real_World_Dataset_TMS\\\\sat\\\\\"\n",
    "meta_folder = \"C:\\\\Users\\\\AISG\\\\Documents\\\\Jonas\\\\Real_World_Dataset_TMS_meta\\\\sat\\\\\"\n",
    "model_number = 10\n",
    "groundtruth_only = False\n",
    "tms = True\n",
    "zoom_out = 5\n",
    "index_path = \"C:\\\\Users\\\\AISG\\\\Documents\\\\Jonas\\\\helipad_detection\\\\src\\\\helipad_path_over_0_m10.txt\"\n",
    "minimum_size_window = 3\n",
    "threshold_v = 0.35\n",
    "threshold_s = 0.02\n",
    "ratio = 1\n",
    "d_0 = 3\n",
    "\n",
    "run_shadow_detection = RunShadowDetection(image_folder=image_folder, \n",
    "                                          meta_folder=meta_folder,\n",
    "                                          model_number=model_number, \n",
    "                                          groundtruth_only=groundtruth_only, \n",
    "                                          tms=tms, \n",
    "                                          zoom_out=zoom_out, \n",
    "                                          index_path=index_path,\n",
    "                                          minimum_size_window=minimum_size_window, \n",
    "                                          threshold_v=threshold_v, \n",
    "                                          threshold_s=threshold_s, \n",
    "                                          ratio=ratio, \n",
    "                                          d_0=d_0)\n",
    "\n",
    "run_shadow_detection.run()"
   ]
  },
  {
   "cell_type": "markdown",
   "metadata": {},
   "source": [
    "## 15. Optional Step : Build groundtruth on Satellite images"
   ]
  },
  {
   "cell_type": "code",
   "execution_count": 1,
   "metadata": {},
   "outputs": [
    {
     "name": "stdout",
     "output_type": "stream",
     "text": [
      "568 files loaded!\n"
     ]
    }
   ],
   "source": [
    "from src.database_management.build_groundtruth_tms import BuildGroundtruthTMS\n",
    "\n",
    "image_folder = \"C:\\\\Users\\\\AISG\\\\Documents\\\\Jonas\\\\Real_World_Dataset_TMS\\\\sat\\\\\"\n",
    "meta_folder = \"C:\\\\Users\\\\AISG\\\\Documents\\\\Jonas\\\\Real_World_Dataset_TMS_meta\\\\sat\\\\\"\n",
    "model_number = 10\n",
    "index_path = \"C:\\\\Users\\\\AISG\\\\Documents\\\\Jonas\\\\helipad_detection\\\\src\\\\helipad_path_over_0_m10.txt\"\n",
    "source_from = \"C:\\\\Users\\\\AISG\\\\Documents\\\\Jonas\\\\Helipad\\\\Real_World_Detected_Boxes\\\\model_10_0.0_groundtruth\\\\\"\n",
    "start_index = 0\n",
    "\n",
    "build_groundtruth_tms = BuildGroundtruthTMS(image_folder=image_folder,\n",
    "                                            meta_folder=meta_folder,\n",
    "                                            model_number=model_number,\n",
    "                                            index_path=index_path,\n",
    "                                            source_from=source_from,\n",
    "                                            start_index=start_index)\n",
    "\n",
    "build_groundtruth_tms.run()\n",
    "\n"
   ]
  },
  {
   "cell_type": "markdown",
   "metadata": {},
   "source": [
    "# 16. Benchmark on Satellite images annotated with groundtruth"
   ]
  },
  {
   "cell_type": "code",
   "execution_count": 1,
   "metadata": {},
   "outputs": [
    {
     "name": "stdout",
     "output_type": "stream",
     "text": [
      "Loading Files\n",
      "568 files loaded!\n",
      "{'shadow': {'activate': True, 'zoom_out': 5}, 'area': {'activate': True, 'lower': 164, 'higher': 547}, 'score': {'activate': True, 'threshold': 0.99}, 'cnn_validation': {'activate': False, 'threshold': 0}, 'result_benchmark': {'TP': 20, 'TN': 511, 'FP': 30, 'FN': 46, 'accuracy': 0.8747940691927513, 'error': 0.12520593080724876, 'precision': 0.4, 'recall': 0.05545286506469501}}\n"
     ]
    }
   ],
   "source": [
    "import json\n",
    "from src.benchmark.benchmark_manager_TMS import BenchmarkManagerTMS\n",
    "\n",
    "image_folder = \"C:\\\\Users\\\\AISG\\\\Documents\\\\Jonas\\\\Real_World_Dataset_TMS\\\\sat\\\\\"\n",
    "meta_folder = \"C:\\\\Users\\\\AISG\\\\Documents\\\\Jonas\\\\Real_World_Dataset_TMS_meta\\\\sat\\\\\"\n",
    "model_number = 10\n",
    "index_path = \"C:\\\\Users\\\\AISG\\\\Documents\\\\Jonas\\\\helipad_detection\\\\src\\\\helipad_path_over_0_m10.txt\"\n",
    "\n",
    "filters_config = { \n",
    "              'shadow': {\n",
    "                  'activate': True,\n",
    "                  'zoom_out': 5\n",
    "                },\n",
    "               'area' : {\n",
    "                   'activate': True,\n",
    "                   'lower': 164,\n",
    "                   'higher': 547,\n",
    "               },\n",
    "                'score': {\n",
    "                    'activate': True,\n",
    "                    'threshold': 0.99\n",
    "                },\n",
    "                'cnn_validation': {\n",
    "                    'activate': False,\n",
    "                    'threshold': 0\n",
    "                }\n",
    "            }\n",
    "\n",
    "benchmark_manager_tms = BenchmarkManagerTMS(image_folder=image_folder,\n",
    "                                            meta_folder=meta_folder,\n",
    "                                            model_number=model_number,\n",
    "                                            index_path=index_path)\n",
    "\n",
    "results = benchmark_manager_tms.run(filters_config)\n",
    "\n",
    "print(results)"
   ]
  },
  {
   "cell_type": "markdown",
   "metadata": {},
   "source": [
    "# 17. Build Placemarks"
   ]
  },
  {
   "cell_type": "code",
   "execution_count": 9,
   "metadata": {},
   "outputs": [
    {
     "name": "stderr",
     "output_type": "stream",
     "text": [
      "100%|██████████████████████████████████████████████████████████████████████████████| 568/568 [00:00<00:00, 8375.19it/s]\n"
     ]
    }
   ],
   "source": [
    "from src.detection.build_placemarks import BuildPlacemarks\n",
    "\n",
    "meta_folder = \"C:\\\\Users\\\\AISG\\\\Documents\\\\Jonas\\\\Real_World_Dataset_TMS_meta\\\\sat\\\\\"\n",
    "model_number = 10\n",
    "index_path = \"C:\\\\Users\\\\AISG\\\\Documents\\\\Jonas\\\\helipad_detection\\\\src\\\\helipad_path_over_0_m10.txt\"\n",
    "\n",
    "filters_config = { \n",
    "              'shadow': {\n",
    "                  'activate': True,\n",
    "                  'zoom_out': 5\n",
    "                },\n",
    "               'area' : {\n",
    "                   'activate': True,\n",
    "                   'lower': 164,\n",
    "                   'higher': 547,\n",
    "               },\n",
    "                'score': {\n",
    "                    'activate': True,\n",
    "                    'threshold': 0.99\n",
    "                },\n",
    "                'cnn_validation': {\n",
    "                    'activate': False,\n",
    "                    'threshold': 0\n",
    "                }\n",
    "            }\n",
    "\n",
    "prefix = \"Manilla_\"\n",
    "\n",
    "build_placemarks = BuildPlacemarks(meta_folder=meta_folder,\n",
    "                                   model_number=model_number,\n",
    "                                   index_path=index_path,\n",
    "                                   filters_config=filters_config,\n",
    "                                   prefix=prefix)\n",
    "\n",
    "build_placemarks.run()"
   ]
  },
  {
   "cell_type": "markdown",
   "metadata": {},
   "source": [
    "### 17.2 Transfer the placemarks to my local machine for visualization"
   ]
  },
  {
   "cell_type": "markdown",
   "metadata": {},
   "source": [
    "# Save the Original Dataset with groundtruth from Meta to CSV"
   ]
  },
  {
   "cell_type": "code",
   "execution_count": 1,
   "metadata": {},
   "outputs": [
    {
     "name": "stdout",
     "output_type": "stream",
     "text": [
      "Conversion done and file saved!\n"
     ]
    }
   ],
   "source": [
    "import os \n",
    "os.chdir('../../')\n",
    "\n",
    "from helipad_detection.src.database_management.meta_to_csv import MetaToCsv\n",
    "\n",
    "\n",
    "meta_folder_original = \"C:\\\\Users\\\\AISG\\\\Documents\\\\Jonas\\\\Helipad\\\\Helipad_DataBase_meta\\\\Helipad_DataBase_meta_original\"\n",
    "output_folder = \"C:\\\\Users\\\\AISG\\\\Documents\\\\Jonas\\\\Helipad\\\\Helipad_DataBase_meta\"\n",
    "output_filename = \"Helipad_DataBase_annotated.csv\"\n",
    "\n",
    "meta_to_csv = MetaToCsv(meta_folder=meta_folder_original,\n",
    "                        output_folder=output_folder,\n",
    "                        output_filename=output_filename)\n",
    "\n",
    "meta_to_csv.run()"
   ]
  }
 ],
 "metadata": {
  "kernelspec": {
   "display_name": "tf-gpu_1.13",
   "language": "python",
   "name": "tf-gpu_1.13"
  },
  "language_info": {
   "codemirror_mode": {
    "name": "ipython",
    "version": 3
   },
   "file_extension": ".py",
   "mimetype": "text/x-python",
   "name": "python",
   "nbconvert_exporter": "python",
   "pygments_lexer": "ipython3",
   "version": "3.7.6"
  }
 },
 "nbformat": 4,
 "nbformat_minor": 2
}
