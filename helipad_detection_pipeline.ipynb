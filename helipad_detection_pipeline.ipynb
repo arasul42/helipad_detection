{
 "cells": [
  {
   "cell_type": "markdown",
   "metadata": {},
   "source": [
    "# HELIPADCAT: CATEGORISED HELIPAD IMAGE DATASET AND DETECTION METHOD"
   ]
  },
  {
   "cell_type": "markdown",
   "metadata": {},
   "source": [
    "# 1. Database Creation\n",
    "\n",
    "\n",
    "Based on the FAA’s database of US airports, we create the first dataset of helipads, including \n",
    "a classification by visual helipad shape and features, which we make available to the research community. \n",
    "The dataset includes nearly 6,000 images with 12 different categories.\n",
    "\n",
    "In the `data` folder is a csv file containing the dataset. The object `src.databse_management.csv_to_meta`\n",
    "creates the annotated dataset and downloads the images from Google Maps."
   ]
  },
  {
   "cell_type": "code",
   "execution_count": null,
   "metadata": {},
   "outputs": [],
   "source": [
    "from src.database_management.csv_to_meta import CsvToMeta\n",
    "\n",
    "input_csv_file_path = \"data//Helipad_DataBase_annotated.csv\"\n",
    "output_folder = \"data\"\n",
    "download_images = False\n",
    "google_api_key_filepath = None\n",
    "\n",
    "csv_to_meta = CsvToMeta(input_csv_file_path=input_csv_file_path,\n",
    "                       output_folder=output_folder,\n",
    "                       download_images=download_images,\n",
    "                       google_api_key_filepath=google_api_key_filepath)\n",
    "\n",
    "csv_to_meta.run()"
   ]
  },
  {
   "cell_type": "markdown",
   "metadata": {},
   "source": [
    "Once the dataset created, we can start the next step."
   ]
  },
  {
   "cell_type": "markdown",
   "metadata": {},
   "source": [
    "# 2. Build Groundtruth\n",
    "Annotate each image by drawing a bounding boxes around the helipads in the images.\n",
    "This step has already been done."
   ]
  },
  {
   "cell_type": "code",
   "execution_count": null,
   "metadata": {},
   "outputs": [],
   "source": [
    "from src.database_management.build_groundtruth import GroundTruth\n",
    "\n",
    "database_folder = \"C:\\\\Users\\\\jonas\\\\Desktop\\\\Detection\\\\Detection_Dataset\"\n",
    "meta_folder = \"C:\\\\Users\\\\jonas\\\\Desktop\\\\Detection\\\\Detection_Dataset_meta\"\n",
    "\n",
    "ground_truth = GroundTruth(database_folder,\n",
    "                           meta_folder,\n",
    "                           review=False,\n",
    "                           augment_only=False,\n",
    "                           redo_false=False,\n",
    "                           redo_true=True,\n",
    "                           tms_dataset=True)\n",
    "\n",
    "ground_truth.run()"
   ]
  },
  {
   "cell_type": "markdown",
   "metadata": {},
   "source": [
    "# 3. Assign Categories\n",
    "\n",
    "Assign a pattern category to each helipad. This step has already been done."
   ]
  },
  {
   "cell_type": "code",
   "execution_count": null,
   "metadata": {},
   "outputs": [],
   "source": [
    "from src.database_management.database_categories_v2 import DatabaseCategoriesv2\n",
    "\n",
    "image_folder = os.path.join('C:\\\\', 'Users', 'jonas', 'Desktop', 'Helipad', 'Helipad_DataBase', 'Helipad_DataBase_original')\n",
    "meta_folder = os.path.join('C:\\\\', 'Users', 'jonas', 'Desktop', 'Helipad', 'Helipad_DataBase_meta', 'Helipad_DataBase_meta_original')\n",
    "\n",
    "database_categories = DatabaseCategoriesv2(image_folder, meta_folder, nb_categories=12)\n",
    "\n",
    "database_categories.build_categories()"
   ]
  },
  {
   "cell_type": "markdown",
   "metadata": {},
   "source": [
    "# 4. DataBase Augmentation\n",
    "\n",
    "Apply Image augmentation on the images using Google's policy (`src.database_management.Database_augmentation`) or custom made policy with ImgAug (`src.database_management.database_augmentation_v2`)"
   ]
  },
  {
   "cell_type": "markdown",
   "metadata": {},
   "source": [
    "### 4.1 Using Google's Policy"
   ]
  },
  {
   "cell_type": "code",
   "execution_count": null,
   "metadata": {},
   "outputs": [],
   "source": [
    "from src.database_management.Database_augmentation import DatabaseAugmentation\n",
    "\n",
    "input_folder = \"data//Helipad_DataBase//Helipad_DataBase_original\"\n",
    "meta_folder = \"data//Helipad_DataBase_meta//Helipad_DataBase_meta_original\"\n",
    "root_folder = \"data//Helipad_DataBase\"\n",
    "root_folder_meta = \"data//Helipad_DataBase_meta\"\n",
    "\n",
    "version_number = 12\n",
    "\n",
    "balance_dataset = True\n",
    "\n",
    "repartition = [3, 1, 1, 3, 0, 3, 2, 0, 1, 1, 0, 0]\n",
    "\n",
    "database_augmentation = DatabaseAugmentation(input_folder,\n",
    "                                             meta_folder,\n",
    "                                             root_folder,\n",
    "                                             root_folder_meta,\n",
    "                                             balance_dataset=balance_dataset,\n",
    "                                             repartition=repartition,\n",
    "                                             version_number=version_number,\n",
    "                                             display=False)\n",
    "\n",
    "database_augmentation.run()"
   ]
  },
  {
   "cell_type": "markdown",
   "metadata": {},
   "source": [
    "### 4.2 Using Custom Policy"
   ]
  },
  {
   "cell_type": "code",
   "execution_count": null,
   "metadata": {},
   "outputs": [],
   "source": [
    "from imgaug import augmenters as iaa\n",
    "from src.database_management.database_augmentation_v2 import DatabaseAugmentationV2\n",
    "\n",
    "input_folder = \"data//Helipad_DataBase//Helipad_DataBase_original\"\n",
    "meta_folder = \"data//Helipad_DataBase_meta//Helipad_DataBase_meta_original\"\n",
    "root_folder = \"data//Helipad_DataBase\"\n",
    "root_folder_meta = \"data//Helipad_DataBase_meta\"\n",
    "\n",
    "augmentation_strategy = iaa.Sequential([\n",
    "                            iaa.Sometimes(0.2, iaa.Fliplr(1)),\n",
    "                            iaa.Sometimes(0.2, iaa.Flipud(1)),\n",
    "                            iaa.Sometimes(0.2, iaa.Rotate((-90, 90))),\n",
    "                            iaa.Sometimes(0.2, iaa.Affine(scale=(0.5, 1.5))),\n",
    "                            iaa.Sometimes(0.2, iaa.GaussianBlur(sigma=(0.0, 3.0))),\n",
    "                            iaa.Sometimes(0.15, iaa.AllChannelsHistogramEqualization()),\n",
    "                            iaa.Sometimes(0.2, iaa.ShearX((-20, 20))),\n",
    "                            iaa.Sometimes(0.2, iaa.ShearY((-20, 20))),\n",
    "                            iaa.Sometimes(0.15, iaa.pillike.EnhanceSharpness()),\n",
    "                            iaa.Sometimes(0.15, iaa.pillike.EnhanceBrightness())\n",
    "                            ])\n",
    "\n",
    "version_number = 11\n",
    "\n",
    "balance_dataset = True\n",
    "\n",
    "repartition = [3, 1, 1, 3, 0, 3, 2, 0, 1, 1, 0, 0]\n",
    "\n",
    "database_augmentation = DatabaseAugmentationV2(input_folder,\n",
    "                                             meta_folder,\n",
    "                                             root_folder,\n",
    "                                             root_folder_meta,\n",
    "                                             augmentation_strategy=augmentation_strategy,\n",
    "                                             version_number=version_number,\n",
    "                                             balance_dataset=balance_dataset,\n",
    "                                             repartition=repartition)\n",
    "\n",
    "database_augmentation.run()\n"
   ]
  },
  {
   "cell_type": "markdown",
   "metadata": {},
   "source": [
    "# 5. Run Training"
   ]
  },
  {
   "cell_type": "markdown",
   "metadata": {},
   "source": [
    "Run a training with `src.training.run_training` by specifying the dataset root folder, the model folder, tha augmented version, the train and test categories and the starting model weights.\n",
    "\n",
    "The training framework MRCNN has to be installed. See : <https://github.com/matterport/Mask_RCNN>\n",
    "\n",
    "Once the training has started, it is possible to keep track of the evolution of the metrics with Tensorboard. Simply launch Tensorboard with the command : `tensorboard --logdir model_dir_path --port 8890`."
   ]
  },
  {
   "cell_type": "code",
   "execution_count": null,
   "metadata": {},
   "outputs": [],
   "source": [
    "from src.training.run_training import RunTraining\n",
    "\n",
    "root_folder = \"data//Helipad_DataBase\"\n",
    "root_meta_folder = \"data//Helipad_DataBase_meta\"\n",
    "model_folder = \"model\"\n",
    "include_augmented = True\n",
    "augmented_version = [10]\n",
    "\n",
    "train_categories = [\"1\", \"2\", \"3\", \"5\", \"6\", \"8\", \"9\"]\n",
    "test_categories = [\"4\", \"7\", \"d\", \"u\"]\n",
    "\n",
    "weights_filename = 'helipad_cfg_10_no47du_all20200420T0127/mask_rcnn_helipad_cfg_10_no47du_all_0538.h5'\n",
    "base_weights = 'mask_rcnn_coco.h5'\n",
    "\n",
    "predict_weights_filepath = 'helipad_cfg_7_aug123_all20200106T2012/mask_rcnn_helipad_cfg_7_aug123_all_0472.h5'\n",
    "\n",
    "run_training = RunTraining(root_folder,\n",
    "                           root_meta_folder,\n",
    "                           model_folder,\n",
    "                           weights_filename,\n",
    "                           include_augmented=include_augmented,\n",
    "                           augmented_version=augmented_version,\n",
    "                           predict_weights_filepath=None,\n",
    "                           train_categories=train_categories,\n",
    "                           test_categories=test_categories)\n",
    "\n",
    "print('Starting Training')\n",
    "run_training.run()\n",
    "print('Training Over')"
   ]
  },
  {
   "cell_type": "markdown",
   "metadata": {},
   "source": [
    "# 6. Evaluate mAP on original dataset\n",
    "\n",
    "This step compute the mAP on the original dataset to get a first metric on the performances of the newly trained model. The object used is the same as in the previous step. The method to execute is : `RunTraining.run_predict()`. "
   ]
  },
  {
   "cell_type": "code",
   "execution_count": null,
   "metadata": {},
   "outputs": [],
   "source": [
    "from src.training.run_training import RunTraining\n",
    "\n",
    "root_folder = \"data//Helipad_DataBase\"\n",
    "root_meta_folder = \"data//Helipad_DataBase_meta\"\n",
    "model_folder = \"model\"\n",
    "include_augmented = False\n",
    "augmented_version = []\n",
    "\n",
    "train_categories = [\"1\", \"2\", \"3\", \"5\", \"6\", \"8\", \"9\"]\n",
    "test_categories = [\"1\", \"2\", \"3\", \"5\", \"6\", \"8\", \"9\"]\n",
    "\n",
    "weights_filename = 'helipad_cfg_10_no47du_all20200420T0127/mask_rcnn_helipad_cfg_10_no47du_all_0851.h5'\n",
    "base_weights = 'mask_rcnn_coco.h5'\n",
    "\n",
    "predict_weights_filepath = 'helipad_cfg_12_no47du_all20200513T1024/mask_rcnn_helipad_cfg_12_no47du_all_0260.h5'\n",
    "\n",
    "run_training = RunTraining(root_folder,\n",
    "                           root_meta_folder,\n",
    "                           model_folder,\n",
    "                           weights_filename,\n",
    "                           include_augmented=include_augmented,\n",
    "                           augmented_version=augmented_version,\n",
    "                           predict_weights_filepath=predict_weights_filepath,\n",
    "                           train_categories=train_categories,\n",
    "                           test_categories=test_categories)\n",
    "\n",
    "print('Evaluating Last Epoch')\n",
    "run_training.run_predict()\n",
    "print('Evaluation Done')"
   ]
  },
  {
   "cell_type": "markdown",
   "metadata": {},
   "source": [
    "# 7. Run Detection on Original Dataset to save bounding boxes\n",
    "\n",
    "Here, with `src.detection.run_detection`, the images are feeded into the network and the bounding boxes \n",
    "are saved inside the meta files."
   ]
  },
  {
   "cell_type": "code",
   "execution_count": null,
   "metadata": {},
   "outputs": [],
   "source": [
    "from src.detection.run_detection import RunDetection\n",
    "\n",
    "image_folder = \"data//Helipad_DataBase//Helipad_DataBase_original\"\n",
    "meta_folder = \"data//Helipad_DataBase_meta//Helipad_DataBase_meta_original\"\n",
    "model_root_folder = \"model\"\n",
    "model_folder = \"helipad_cfg_12_no47du_all20200513T1024\"\n",
    "model_number = 12\n",
    "weight_filename = \"mask_rcnn_helipad_cfg_12_no47du_all_0260.h5\"\n",
    "\n",
    "test_only = False\n",
    "activate_filter = False\n",
    "\n",
    "run_detection = RunDetection(image_folder,\n",
    "                          meta_folder,\n",
    "                          os.path.join(model_root_folder, model_folder),\n",
    "                          weight_filename,\n",
    "                          model_number=model_number,\n",
    "                          activate_filter=activate_filter,\n",
    "                          test_only=test_only)\n",
    "\n",
    "run_detection.run()"
   ]
  },
  {
   "cell_type": "markdown",
   "metadata": {},
   "source": [
    "# 8. Run Benchmark on a model"
   ]
  },
  {
   "cell_type": "markdown",
   "metadata": {},
   "source": [
    "Once the bounding boxes have been saved, the accuracy, error, precision and recall are computed with `src.benchmark.run_benchmark`. A csv file is created inside the folder `src/benchmark/benchmark_results/` containing the results for a wide range of score threshold."
   ]
  },
  {
   "cell_type": "markdown",
   "metadata": {},
   "source": [
    "### 8.1 Benchmark on Train Set"
   ]
  },
  {
   "cell_type": "code",
   "execution_count": null,
   "metadata": {},
   "outputs": [],
   "source": [
    "from src.benchmark.run_benchmark import RunBenchmark\n",
    "\n",
    "image_folder = \"data//Helipad_DataBase//Helipad_DataBase_original\"\n",
    "meta_folder = \"data//Helipad_DataBase_meta//Helipad_DataBase_meta_original\"\n",
    "model_numbers = [12]\n",
    "test_only = False\n",
    "tms_dataset = False\n",
    "zoom_level = None\n",
    "city_lat = None\n",
    "include_negative = False\n",
    "train_only = True\n",
    "train_categories = [\"1\", \"2\", \"3\", \"5\", \"6\", \"8\", \"9\"]\n",
    "\n",
    "run_benchmark = RunBenchmark(image_folder,\n",
    "                             meta_folder,\n",
    "                             model_numbers,\n",
    "                             test_only=test_only,\n",
    "                             tms_dataset=tms_dataset,\n",
    "                             include_category=train_categories,\n",
    "                             zoom_level=zoom_level,\n",
    "                             city_lat=city_lat,\n",
    "                             train_only=train_only)\n",
    "\n",
    "threshold_validation = None\n",
    "\n",
    "run_benchmark.run(threshold_validation=threshold_validation)"
   ]
  },
  {
   "cell_type": "markdown",
   "metadata": {},
   "source": [
    "### 8.2 Benchmark on Test Set"
   ]
  },
  {
   "cell_type": "code",
   "execution_count": null,
   "metadata": {},
   "outputs": [],
   "source": [
    "from src.benchmark.run_benchmark import RunBenchmark\n",
    "\n",
    "image_folder = \"data//Helipad_DataBase//Helipad_DataBase_original\"\n",
    "meta_folder = \"data//Helipad_DataBase_meta//Helipad_DataBase_meta_original\"\n",
    "model_numbers = [12]\n",
    "test_only = True\n",
    "tms_dataset = False\n",
    "zoom_level = None\n",
    "city_lat = None\n",
    "test_categories = [\"1\", \"2\", \"3\", \"5\", \"6\", \"8\", \"9\"]\n",
    "include_negative = True\n",
    "train_only = False\n",
    "\n",
    "\n",
    "run_benchmark = RunBenchmark(image_folder,\n",
    "                             meta_folder,\n",
    "                             model_numbers,\n",
    "                             test_only=test_only,\n",
    "                             tms_dataset=tms_dataset,\n",
    "                             include_category=test_categories,\n",
    "                             include_negative=include_negative,\n",
    "                             zoom_level=zoom_level,\n",
    "                             city_lat=city_lat,\n",
    "                             train_only=train_only)\n",
    "\n",
    "threshold_validation = None\n",
    "\n",
    "run_benchmark.run(threshold_validation=threshold_validation)"
   ]
  },
  {
   "cell_type": "markdown",
   "metadata": {},
   "source": [
    "# 9. Run Prediction on Satellite Images"
   ]
  },
  {
   "cell_type": "markdown",
   "metadata": {},
   "source": [
    "In this step, with `src.detection.run_prediction_satellite`, additional unseen data are feeded into the network to detect helipads in any area of the world. \n",
    "First, the additional images have to be downloaded with SAS Planet software and store into a cache folder following the TMS file structure, preferably with a zoom of 19. \n",
    "The bounding boxes are saved into meta files. The predictions will be vizualised on the map after our custom filtering. "
   ]
  },
  {
   "cell_type": "code",
   "execution_count": null,
   "metadata": {},
   "outputs": [],
   "source": [
    "from src.detection.run_prediction_satellite import RunPredictionSatellite\n",
    "\n",
    "cache_tms_sat_folder = \"C:\\\\Users\\\\AISG\\\\Documents\\\\Jonas\\\\Real_World_Dataset_TMS\\\\sat\"\n",
    "output_meta_folder = \"C:\\\\Users\\\\AISG\\\\Documents\\\\Jonas\\\\Real_World_Dataset_TMS_meta\\\\sat\"\n",
    "model_folder = \"model\"\n",
    "\n",
    "weights_filename = \"helipad_cfg_12_no47du_all20200513T1024/mask_rcnn_helipad_cfg_12_no47du_all_0260.h5\"\n",
    "model_number = 12\n",
    "\n",
    "zoom_level = 19\n",
    "activate_filters = False\n",
    "\n",
    "run_prediction_satellite = RunPredictionSatellite(cache_tms_sat_folder=cache_tms_sat_folder,\n",
    "                                                  output_meta_folder=output_meta_folder,\n",
    "                                                  zoom_level=zoom_level,\n",
    "                                                  model_folder=model_folder,\n",
    "                                                  weights_filename=weights_filename,\n",
    "                                                  model_number=model_number,\n",
    "                                                  activate_filters=activate_filters)\n",
    "\n",
    "run_prediction_satellite.run()"
   ]
  },
  {
   "cell_type": "markdown",
   "metadata": {},
   "source": [
    "# 10. Build index path by score on Satellite Images"
   ]
  },
  {
   "cell_type": "markdown",
   "metadata": {},
   "source": [
    "When the area to scan is big, the number of images to feed into the network is high. After the detection, since the number of helipads is very low compared to the number of images, a text file is created, serving as an index file, having in each line the location of the meta file with a bounding box inside. The object `src.database_management.index_path_by_score` allows such indexation."
   ]
  },
  {
   "cell_type": "code",
   "execution_count": null,
   "metadata": {},
   "outputs": [],
   "source": [
    "from src.database_management.index_path_by_score import IndexPathScore\n",
    "\n",
    "meta_folder = \"C:\\\\Users\\\\AISG\\\\Documents\\\\Jonas\\\\Real_World_Dataset_TMS_meta\\\\sat\\\\19\\\\\"\n",
    "model_number = 7\n",
    "score_threshold = 0\n",
    "\n",
    "index_path_score = IndexPathScore(meta_folder, model_number, score_threshold)\n",
    "\n",
    "index_path_score.run()\n",
    "\n",
    "index_path_score.write_output()"
   ]
  },
  {
   "cell_type": "markdown",
   "metadata": {},
   "source": [
    "# 11. Optional Step : Train and Run Validation on detected bounding boxes using KNN"
   ]
  },
  {
   "cell_type": "markdown",
   "metadata": {},
   "source": [
    "The idea behind this step is to have a KNN who validates the detected bounding boxes as true or false. This approach did not give good performance."
   ]
  },
  {
   "cell_type": "markdown",
   "metadata": {},
   "source": [
    "### 11.1 Build the dataset of bounding boxes"
   ]
  },
  {
   "cell_type": "code",
   "execution_count": null,
   "metadata": {},
   "outputs": [],
   "source": [
    "from src.knn.knn_build_database import KNNBuildDatabase\n",
    "\n",
    "image_folder = \"data//Helipad_DataBase//Helipad_DataBase_original\"\n",
    "meta_folder = \"data//Helipad_DataBase_meta//Helipad_DataBase_meta_original\"\n",
    "model_number = 7\n",
    "\n",
    "knn_build_database = KNNBuildDatabase(image_folder, meta_folder, model_number)\n",
    "\n",
    "knn_build_database.run()"
   ]
  },
  {
   "cell_type": "markdown",
   "metadata": {},
   "source": [
    "### 11.2 Train a KNN on this dataset"
   ]
  },
  {
   "cell_type": "code",
   "execution_count": null,
   "metadata": {},
   "outputs": [],
   "source": [
    "from src.knn.knn_training import KNNTraining\n",
    "\n",
    "knn_training = KNNTraining(nb_neighbors=2, nb_jobs=-1, test_size=0.25)\n",
    "knn_training.fit(knn_build_database.X, knn_build_database.y, mode=\"histogram\", binary=True)\n",
    "knn_training.score()\n",
    "knn_training.save(model_number=model_number, dataset='original')"
   ]
  },
  {
   "cell_type": "markdown",
   "metadata": {},
   "source": [
    "### 11.3 Predict on new images"
   ]
  },
  {
   "cell_type": "code",
   "execution_count": null,
   "metadata": {},
   "outputs": [],
   "source": [
    "from knn.knn_predict import KNNPredict\n",
    "\n",
    "image_folder = \"C:\\\\Users\\\\AISG\\\\Documents\\\\Jonas\\\\Real_World_Dataset_TMS\\\\sat\"\n",
    "meta_folder = \"C:\\\\Users\\\\AISG\\\\Documents\\\\Jonas\\\\Real_World_Dataset_TMS_meta\\\\sat\"\n",
    "index_path_score_filename = \"C:\\\\Users\\\\AISG\\\\Documents\\\\Jonas\\\\helipad_detection\\\\src\\\\database_management\\\\helipad_path_over_0.999.txt\"\n",
    "model_number = 7\n",
    "knn_weights_filename = \"knn_histogram_2.pkl\"\n",
    "random_forest_weights_filename = \"random_forest_e100.pkl\"\n",
    "\n",
    "model = \"knn\"\n",
    "\n",
    "knn_predict = KNNPredict(image_folder,\n",
    "                         meta_folder,\n",
    "                         index_path_score_filename,\n",
    "                         model_number,\n",
    "                         knn_weights_filename,\n",
    "                         model)\n",
    "\n",
    "knn_predict.predict()\n",
    "\n",
    "knn_predict.write_prediction_to_meta()"
   ]
  },
  {
   "cell_type": "markdown",
   "metadata": {},
   "source": [
    "# 12. Optional Step : Run Validation on detected bounding boxes using CNN"
   ]
  },
  {
   "cell_type": "markdown",
   "metadata": {},
   "source": [
    "The idea behind this step is to have another network who validates the detected bounding boxes as true or false. This approach did not give good performance."
   ]
  },
  {
   "cell_type": "markdown",
   "metadata": {},
   "source": [
    "### 12.1 Build the dataset of bounding boxes"
   ]
  },
  {
   "cell_type": "code",
   "execution_count": null,
   "metadata": {},
   "outputs": [],
   "source": [
    "from src.bb_analysis.bb_build_dataset import BBBuildDataset\n",
    "\n",
    "image_folder = \"data//Helipad_DataBase//Helipad_DataBase_original\"\n",
    "meta_folder = \"data//Helipad_DataBase_meta//Helipad_DataBase_meta_original\"\n",
    "model_number = 10\n",
    "score_threshold = 0.0\n",
    "iou_threshold = 0.5\n",
    "output_folder = \"C:\\\\Users\\\\AISG\\\\Documents\\\\Jonas\\\\Helipad\\\\Detected_Boxes\\\\\"\n",
    "tms = False\n",
    "# ground_truth_bb indicates wheter the dataset keeps the groundtruth\n",
    "# as the true positive (True) or the true positive detected by the model (False)\n",
    "# Sometime, the detection by the model is not centered in the helipad\n",
    "# hence it can add noise to the model\n",
    "groundtruth_bb = True\n",
    "# the bounding boxes of those categories will be considered as false positive\n",
    "filter_categories = [\"4\", \"7\", \"d\", \"u\"]\n",
    "balance_categories = True\n",
    "\n",
    "bb_build_dataset = BBBuildDataset(image_folder=image_folder,\n",
    "                                  meta_folder=meta_folder,\n",
    "                                  model_number=model_number,\n",
    "                                  score_threshold=score_threshold,\n",
    "                                  iou_threshold=iou_threshold,\n",
    "                                  output_folder=output_folder,\n",
    "                                  tms=tms,\n",
    "                                  groundtruth_bb=groundtruth_bb,\n",
    "                                  filter_categories=filter_categories,\n",
    "                                  balance_categories=balance_categories)\n",
    "\n",
    "bb_build_dataset.run()"
   ]
  },
  {
   "cell_type": "markdown",
   "metadata": {},
   "source": [
    "### 12.2 Build Bounding Box Dataset on Real World images"
   ]
  },
  {
   "cell_type": "code",
   "execution_count": null,
   "metadata": {},
   "outputs": [],
   "source": [
    "from src.bb_analysis.bb_build_dataset import BBBuildDataset\n",
    "\n",
    "image_folder = \"C:\\\\Users\\\\AISG\\\\Documents\\\\Jonas\\\\Real_World_Dataset_TMS\\\\sat\\\\19\"\n",
    "meta_folder = \"C:\\\\Users\\\\AISG\\\\Documents\\\\Jonas\\\\Real_World_Dataset_TMS_meta\\\\sat\\\\19\"\n",
    "model_number = 10\n",
    "score_threshold = 0.0\n",
    "iou_threshold = 0.5\n",
    "output_folder = \"C:\\\\Users\\\\AISG\\\\Documents\\\\Jonas\\\\Helipad\\\\Real_World_Detected_Boxes\\\\\"\n",
    "tms = True\n",
    "# ground_truth_bb indicates wheter the dataset keeps the groundtruth\n",
    "# as the true positive (True) or the true positive detected by the model (False)\n",
    "# Sometime, the detection by the model is not centered in the helipad\n",
    "# hence it can add noise to the model\n",
    "groundtruth_bb = False\n",
    "# the bounding boxes of those categories will be considered as false positive\n",
    "filter_categories = None\n",
    "balance_categories = False\n",
    "zoom_out = 5\n",
    "index_path = \"helipad_detection\\\\src\\\\helipad_path_over_0_m10.txt\"\n",
    "\n",
    "bb_build_dataset = BBBuildDataset(image_folder=image_folder,\n",
    "                                  meta_folder=meta_folder,\n",
    "                                  model_number=model_number,\n",
    "                                  score_threshold=score_threshold,\n",
    "                                  iou_threshold=iou_threshold,\n",
    "                                  output_folder=output_folder,\n",
    "                                  tms=tms,\n",
    "                                  groundtruth_bb=groundtruth_bb,\n",
    "                                  filter_categories=filter_categories,\n",
    "                                  balance_categories=balance_categories,\n",
    "                                  zoom_out=zoom_out,\n",
    "                                  index_path=index_path)\n",
    "\n",
    "bb_build_dataset.run()"
   ]
  },
  {
   "cell_type": "markdown",
   "metadata": {},
   "source": [
    "### 12.3 Train a CNN Model"
   ]
  },
  {
   "cell_type": "code",
   "execution_count": null,
   "metadata": {},
   "outputs": [],
   "source": [
    "from bb_analysis.bb_training_manager import BBTrainingManager\n",
    "\n",
    "image_folder = \"C:\\\\Users\\\\AISG\\\\Documents\\\\Jonas\\\\Helipad\\\\Detected_Boxes\\\\model_10_0.0\"\n",
    "model_filename = \"bb_model_adam_64.h5\"\n",
    "\n",
    "bbtraining_manager = BBTrainingManager(image_folder)\n",
    "\n",
    "bbtraining_manager.run()\n",
    "\n",
    "bbtraining_manager.evaluate()\n",
    "\n",
    "bbtraining_manager.save(filename=model_filename)\n",
    "\n",
    "bbtraining_manager.plot()"
   ]
  },
  {
   "cell_type": "markdown",
   "metadata": {},
   "source": [
    "### 12.4 Predict on the original dataset "
   ]
  },
  {
   "cell_type": "code",
   "execution_count": null,
   "metadata": {},
   "outputs": [],
   "source": [
    "from bb_analysis.bb_predict import BBPredict\n",
    "\n",
    "image_folder = \"data//Helipad_DataBase//Helipad_DataBase_original\"\n",
    "meta_folder = \"data//Helipad_DataBase_meta//Helipad_DataBase_meta_original\"\n",
    "model_number = 7\n",
    "model_path = \"final_model.h5\"\n",
    "tms = False\n",
    "extract_bounding_boxes = True\n",
    "\n",
    "bbpredict = BBPredict(image_folder=image_folder,\n",
    "                      meta_folder=meta_folder,\n",
    "                      model_number=model_number,\n",
    "                      model_path=model_path,\n",
    "                      tms=tms,\n",
    "                      extract_bounding_boxes=extract_bounding_boxes)\n",
    "\n",
    "bbpredict.run()"
   ]
  },
  {
   "cell_type": "markdown",
   "metadata": {},
   "source": [
    "### 12.5 Predict on Satellite Images using index path"
   ]
  },
  {
   "cell_type": "code",
   "execution_count": null,
   "metadata": {},
   "outputs": [],
   "source": [
    "import sys\n",
    "sys.path.append('bb_analysis')\n",
    "from bb_predict import BBPredict\n",
    "\n",
    "image_folder = \"C:\\\\Users\\\\AISG\\\\Documents\\\\Jonas\\\\City\\\\cebu\\\\sat\"\n",
    "meta_folder = \"C:\\\\Users\\\\AISG\\\\Documents\\\\Jonas\\\\City\\\\cebu_meta\\\\sat\"\n",
    "model_number = 10\n",
    "model_path = \"bb_analysis/checkpoint_manilla/weights.81-0.01-1.00-0.32-0.94.h5\"\n",
    "tms = True\n",
    "extract_bounding_boxes = True\n",
    "\n",
    "index_path = \"helipad_path_over_0_m10.txt\"\n",
    "index_path = None\n",
    "\n",
    "bbpredict = BBPredict(image_folder=image_folder,\n",
    "                      meta_folder=meta_folder,\n",
    "                      model_number=model_number,\n",
    "                      model_path=model_path,\n",
    "                      tms=tms,\n",
    "                      extract_bounding_boxes=extract_bounding_boxes,\n",
    "                      index_path=index_path)\n",
    "\n",
    "bbpredict.run()"
   ]
  },
  {
   "cell_type": "markdown",
   "metadata": {},
   "source": [
    "## 13. Compute the area of the bounding boxes on Satellite Images\n",
    "\n",
    "Our first custom filter computes the ground area of the bounding boxes in meter squared. The areas are saved into the meta files. The object used is `src.bb_analysis.bb_compute_area_tms`."
   ]
  },
  {
   "cell_type": "code",
   "execution_count": null,
   "metadata": {},
   "outputs": [],
   "source": [
    "from src.bb_analysis.bb_compute_area_tms import BBComputeAreaTMS\n",
    "\n",
    "image_folder = \"C:\\\\Users\\\\AISG\\\\Documents\\\\Jonas\\\\Real_World_Dataset_TMS\\\\sat\\\\\"\n",
    "meta_folder = \"C:\\\\Users\\\\AISG\\\\Documents\\\\Jonas\\\\Real_World_Dataset_TMS_meta\\\\sat\\\\\"\n",
    "model_number = 10\n",
    "index_path = \"helipad_path_over_0_m10.txt\"\n",
    "\n",
    "bb_compute_area_tms = BBComputeAreaTMS(image_folder=image_folder,\n",
    "                                       meta_folder=meta_folder,\n",
    "                                       model_number=model_number,\n",
    "                                       index_path=index_path)\n",
    "\n",
    "bb_compute_area_tms.run()"
   ]
  },
  {
   "cell_type": "markdown",
   "metadata": {},
   "source": [
    "## 14. Apply Shadow Detection on detected bounding boxes"
   ]
  },
  {
   "cell_type": "markdown",
   "metadata": {},
   "source": [
    "Our second custom filter looks for the presence of shadow inside the bounding boxes. The object used is `src.bb_analysis.run_shadow_detection`. The results are saved into the meta files."
   ]
  },
  {
   "cell_type": "code",
   "execution_count": null,
   "metadata": {},
   "outputs": [],
   "source": [
    "from src.bb_analysis.run_shadow_detection import RunShadowDetection\n",
    "\n",
    "image_folder = \"C:\\\\Users\\\\AISG\\\\Documents\\\\Jonas\\\\Real_World_Dataset_TMS\\\\sat\\\\\"\n",
    "meta_folder = \"C:\\\\Users\\\\AISG\\\\Documents\\\\Jonas\\\\Real_World_Dataset_TMS_meta\\\\sat\\\\\"\n",
    "model_number = 10\n",
    "groundtruth_only = False\n",
    "tms = True\n",
    "zoom_out = 5\n",
    "index_path = \"C:\\\\Users\\\\AISG\\\\Documents\\\\Jonas\\\\helipad_detection\\\\src\\\\helipad_path_over_0_m10.txt\"\n",
    "minimum_size_window = 3\n",
    "threshold_v = 0.35\n",
    "threshold_s = 0.02\n",
    "ratio = 1\n",
    "d_0 = 3\n",
    "\n",
    "run_shadow_detection = RunShadowDetection(image_folder=image_folder, \n",
    "                                          meta_folder=meta_folder,\n",
    "                                          model_number=model_number, \n",
    "                                          groundtruth_only=groundtruth_only, \n",
    "                                          tms=tms, \n",
    "                                          zoom_out=zoom_out, \n",
    "                                          index_path=index_path,\n",
    "                                          minimum_size_window=minimum_size_window, \n",
    "                                          threshold_v=threshold_v, \n",
    "                                          threshold_s=threshold_s, \n",
    "                                          ratio=ratio, \n",
    "                                          d_0=d_0)\n",
    "\n",
    "run_shadow_detection.run()"
   ]
  },
  {
   "cell_type": "markdown",
   "metadata": {},
   "source": [
    "## 15. Optional Step : Build groundtruth on Satellite images"
   ]
  },
  {
   "cell_type": "markdown",
   "metadata": {},
   "source": [
    "This step allows the user to manually annotated the groundtruth of the detected bounding boxes on additional data in order to compute the performance of the model. The object is `src.database_management.build_groundtruth_tms`. With the index file created in step 10, only the images with a bounding boxes are to be validated manually as true or false. "
   ]
  },
  {
   "cell_type": "code",
   "execution_count": null,
   "metadata": {},
   "outputs": [],
   "source": [
    "from src.database_management.build_groundtruth_tms import BuildGroundtruthTMS\n",
    "\n",
    "image_folder = \"C:\\\\Users\\\\AISG\\\\Documents\\\\Jonas\\\\Real_World_Dataset_TMS\\\\sat\\\\\"\n",
    "meta_folder = \"C:\\\\Users\\\\AISG\\\\Documents\\\\Jonas\\\\Real_World_Dataset_TMS_meta\\\\sat\\\\\"\n",
    "model_number = 10\n",
    "index_path = \"C:\\\\Users\\\\AISG\\\\Documents\\\\Jonas\\\\helipad_detection\\\\src\\\\helipad_path_over_0_m10.txt\"\n",
    "source_from = \"C:\\\\Users\\\\AISG\\\\Documents\\\\Jonas\\\\Helipad\\\\Real_World_Detected_Boxes\\\\model_10_0.0_groundtruth\\\\\"\n",
    "start_index = 0\n",
    "\n",
    "build_groundtruth_tms = BuildGroundtruthTMS(image_folder=image_folder,\n",
    "                                            meta_folder=meta_folder,\n",
    "                                            model_number=model_number,\n",
    "                                            index_path=index_path,\n",
    "                                            source_from=source_from,\n",
    "                                            start_index=start_index)\n",
    "\n",
    "build_groundtruth_tms.run()\n",
    "\n"
   ]
  },
  {
   "cell_type": "markdown",
   "metadata": {},
   "source": [
    "# 16. Benchmark on Satellite images annotated with groundtruth"
   ]
  },
  {
   "cell_type": "markdown",
   "metadata": {},
   "source": [
    "After step 15, it is then possible to compute the benchmark on additional data with the object `src.benchmark.benchmark_manager_TMS`. The user can configure the parameters of our three custom filters (shadow, area and score). "
   ]
  },
  {
   "cell_type": "code",
   "execution_count": null,
   "metadata": {},
   "outputs": [],
   "source": [
    "import json\n",
    "from src.benchmark.benchmark_manager_TMS import BenchmarkManagerTMS\n",
    "\n",
    "image_folder = \"C:\\\\Users\\\\AISG\\\\Documents\\\\Jonas\\\\Real_World_Dataset_TMS\\\\sat\\\\\"\n",
    "meta_folder = \"C:\\\\Users\\\\AISG\\\\Documents\\\\Jonas\\\\Real_World_Dataset_TMS_meta\\\\sat\\\\\"\n",
    "model_number = 10\n",
    "index_path = \"C:\\\\Users\\\\AISG\\\\Documents\\\\Jonas\\\\helipad_detection\\\\src\\\\helipad_path_over_0_m10.txt\"\n",
    "\n",
    "filters_config = { \n",
    "              'shadow': {\n",
    "                  'activate': True,\n",
    "                  'zoom_out': 5\n",
    "                },\n",
    "               'area' : {\n",
    "                   'activate': True,\n",
    "                   'lower': 164,\n",
    "                   'higher': 547,\n",
    "               },\n",
    "                'score': {\n",
    "                    'activate': True,\n",
    "                    'threshold': 0.99\n",
    "                },\n",
    "                'cnn_validation': {\n",
    "                    'activate': False,\n",
    "                    'threshold': 0\n",
    "                }\n",
    "            }\n",
    "\n",
    "benchmark_manager_tms = BenchmarkManagerTMS(image_folder=image_folder,\n",
    "                                            meta_folder=meta_folder,\n",
    "                                            model_number=model_number,\n",
    "                                            index_path=index_path)\n",
    "\n",
    "results = benchmark_manager_tms.run(filters_config)\n",
    "\n",
    "print(results)"
   ]
  },
  {
   "cell_type": "markdown",
   "metadata": {},
   "source": [
    "# 17. Build Placemarks"
   ]
  },
  {
   "cell_type": "markdown",
   "metadata": {},
   "source": [
    "This final step of our method creates a placemarks file in order to visualize the detection on the map. Each center of the bounding boxes are pin points on the map of the world, as shown below. The object used is `src.detection.build_placemarks`. "
   ]
  },
  {
   "cell_type": "code",
   "execution_count": 9,
   "metadata": {},
   "outputs": [
    {
     "name": "stderr",
     "output_type": "stream",
     "text": [
      "100%|████████████████████████████████████████████████████████████████████████████| 1863/1863 [00:00<00:00, 9133.46it/s]\n"
     ]
    }
   ],
   "source": [
    "from src.detection.build_placemarks import BuildPlacemarks\n",
    "\n",
    "meta_folder = \"C:\\\\Users\\\\AISG\\\\Documents\\\\Jonas\\\\Real_World_Dataset_TMS_meta\\\\sat\\\\\"\n",
    "model_number = 7\n",
    "index_path = \"C:\\\\Users\\\\AISG\\\\Documents\\\\Jonas\\\\helipad_detection\\\\src\\\\helipad_path_over_0_m7.txt\"\n",
    "\n",
    "filters_config = { \n",
    "              'shadow': {\n",
    "                  'activate': True,\n",
    "                  'zoom_out': 5\n",
    "                },\n",
    "               'area' : {\n",
    "                   'activate': True,\n",
    "                   'lower': 164,\n",
    "                   'higher': 547,\n",
    "               },\n",
    "                'score': {\n",
    "                    'activate': True,\n",
    "                    'threshold': 0.99\n",
    "                },\n",
    "                'cnn_validation': {\n",
    "                    'activate': False,\n",
    "                    'threshold': 0\n",
    "                }\n",
    "            }\n",
    "\n",
    "prefix = \"Manilla_\"\n",
    "\n",
    "build_placemarks = BuildPlacemarks(meta_folder=meta_folder,\n",
    "                                   model_number=model_number,\n",
    "                                   index_path=index_path,\n",
    "                                   filters_config=filters_config,\n",
    "                                   prefix=prefix)\n",
    "\n",
    "build_placemarks.run()"
   ]
  },
  {
   "cell_type": "markdown",
   "metadata": {},
   "source": [
    "### 17.2 Transfer the placemarks to my local machine for visualization"
   ]
  },
  {
   "cell_type": "markdown",
   "metadata": {},
   "source": [
    "# Save the Original Dataset with groundtruth from Meta to CSV"
   ]
  },
  {
   "cell_type": "code",
   "execution_count": null,
   "metadata": {},
   "outputs": [],
   "source": [
    "import os \n",
    "os.chdir('../../')\n",
    "\n",
    "from helipad_detection.src.database_management.meta_to_csv import MetaToCsv\n",
    "\n",
    "\n",
    "meta_folder_original = \"C:\\\\Users\\\\AISG\\\\Documents\\\\Jonas\\\\Helipad\\\\Helipad_DataBase_meta\\\\Helipad_DataBase_meta_original\"\n",
    "output_folder = \"C:\\\\Users\\\\AISG\\\\Documents\\\\Jonas\\\\Helipad\\\\Helipad_DataBase_meta\"\n",
    "output_filename = \"Helipad_DataBase_annotated.csv\"\n",
    "\n",
    "meta_to_csv = MetaToCsv(meta_folder=meta_folder_original,\n",
    "                        output_folder=output_folder,\n",
    "                        output_filename=output_filename)\n",
    "\n",
    "meta_to_csv.run()"
   ]
  }
 ],
 "metadata": {
  "kernelspec": {
   "display_name": "tf-gpu_1.13",
   "language": "python",
   "name": "tf-gpu_1.13"
  },
  "language_info": {
   "codemirror_mode": {
    "name": "ipython",
    "version": 3
   },
   "file_extension": ".py",
   "mimetype": "text/x-python",
   "name": "python",
   "nbconvert_exporter": "python",
   "pygments_lexer": "ipython3",
   "version": "3.7.6"
  }
 },
 "nbformat": 4,
 "nbformat_minor": 2
}
